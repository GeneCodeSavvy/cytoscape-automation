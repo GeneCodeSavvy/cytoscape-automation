{
  "nbformat": 4,
  "nbformat_minor": 0,
  "metadata": {
    "kernelspec": {
      "display_name": "Python 3",
      "language": "python",
      "name": "python3"
    },
    "language_info": {
      "codemirror_mode": {
        "name": "ipython",
        "version": 3
      },
      "file_extension": ".py",
      "mimetype": "text/x-python",
      "name": "python",
      "nbconvert_exporter": "python",
      "pygments_lexer": "ipython3",
      "version": "3.8.5"
    },
    "colab": {
      "name": "automation-of-the-pathLinker-app-paper-lovastatin-analysis.ipynb",
      "provenance": [],
      "include_colab_link": true
    }
  },
  "cells": [
    {
      "cell_type": "markdown",
      "metadata": {
        "id": "view-in-github",
        "colab_type": "text"
      },
      "source": [
        "<a href=\"https://colab.research.google.com/github/cytoscape/cytoscape-automation/blob/master/for-scripters/Python/automation-of-the-pathLinker-app-paper-lovastatin-analysis.ipynb\" target=\"_parent\"><img src=\"https://colab.research.google.com/assets/colab-badge.svg\" alt=\"Open In Colab\"/></a>"
      ]
    },
    {
      "cell_type": "markdown",
      "metadata": {
        "id": "iBDRio33xAhy"
      },
      "source": [
        "## Automation of the PathLinker App paper Lovastatin Analysis\n",
        "\n",
        "## Yihang Xin and Alex Pico\n",
        "\n",
        "## 2021-01-05"
      ]
    },
    {
      "cell_type": "markdown",
      "metadata": {
        "id": "xKGwJ0MbxAh0"
      },
      "source": [
        "## Installation\n",
        "The following chunk of code installs the `py4cytoscape` module."
      ]
    },
    {
      "cell_type": "code",
      "metadata": {
        "id": "WDX6mK5GxAh1"
      },
      "source": [
        "%%capture\n",
        "!python3 -m pip install python-igraph requests pandas networkx\n",
        "!python3 -m pip install py4cytoscape"
      ],
      "execution_count": null,
      "outputs": []
    },
    {
      "cell_type": "markdown",
      "metadata": {
        "id": "zxOo-fwlxBh6"
      },
      "source": [
        "If you are using a remote notebook environment such as Google Colab, please execute the cell below. (If you're running on your local notebook, you don't need to do that.)\n",
        "\n"
      ]
    },
    {
      "cell_type": "code",
      "metadata": {
        "id": "btKY0U1NxC5b"
      },
      "source": [
        "import requests\n",
        "exec(requests.get(\"https://raw.githubusercontent.com/cytoscape/jupyter-bridge/master/client/p4c_init.py\").text)\n",
        "IPython.display.Javascript(_PY4CYTOSCAPE_BROWSER_CLIENT_JS) # Start browser client"
      ],
      "execution_count": null,
      "outputs": []
    },
    {
      "cell_type": "markdown",
      "metadata": {
        "id": "4ypehfMwxAh3"
      },
      "source": [
        "## Setup Cytoscape\n",
        "* Launch Cytoscape on your local machine. If you haven't already installed Cytoscape, then download the latest version from http://cytoscape.org.\n",
        "* Install the filetransfer app from https://apps.cytoscape.org/apps/filetransfer\n",
        "* Install the PathLinker app from http://apps.cytoscape.org/apps/pathlinker\n",
        "* Leave Cytoscape running in the background during the remainder of the tutorial.\n",
        "* Check cytoscape connection.\n",
        "\n",
        "You can also install app inside Python notebook by running \"py4cytoscape.install_app('Your App')\""
      ]
    },
    {
      "cell_type": "markdown",
      "metadata": {
        "id": "qeoKyxk8xAh4"
      },
      "source": [
        "## Import the required packages\n"
      ]
    },
    {
      "cell_type": "code",
      "metadata": {
        "id": "siatlRxgxAh4"
      },
      "source": [
        "import sys\n",
        "import py4cytoscape as p4c\n",
        "import networkx as nx\n",
        "import pandas as pd\n",
        "import json\n",
        "import requests"
      ],
      "execution_count": null,
      "outputs": []
    },
    {
      "cell_type": "code",
      "metadata": {
        "id": "jllsUqoUxAh5",
        "outputId": "7b03937a-85cf-4ca7-9907-c983ade19f4f"
      },
      "source": [
        "p4c.cytoscape_version_info() # Check cytoscape connection."
      ],
      "execution_count": null,
      "outputs": [
        {
          "output_type": "execute_result",
          "data": {
            "text/plain": [
              "{'apiVersion': 'v1',\n",
              " 'cytoscapeVersion': '3.8.2',\n",
              " 'automationAPIVersion': '1.0.0',\n",
              " 'py4cytoscapeVersion': '0.0.7'}"
            ]
          },
          "metadata": {
            "tags": []
          },
          "execution_count": 3
        }
      ]
    },
    {
      "cell_type": "markdown",
      "metadata": {
        "id": "TUsEGvTLxAh7"
      },
      "source": [
        "## Create network using networkx\n",
        "The PathLinker app paper uses the same interactome as the original PathLinker pap (available on the [PathLinker supplementary website](http://bioinformatics.cs.vt.edu/~murali/supplements/2016-sys-bio-applications-pathlinker/) here: [background-interactome-pathlinker-2015.txt](https://raw.githubusercontent.com/Murali-group/PathLinker-Cytoscape/master/src/test/resources/input/graph-dir_human-interactome.txt))."
      ]
    },
    {
      "cell_type": "code",
      "metadata": {
        "id": "lYX6mpXHxAh8",
        "outputId": "9491e7df-ae7e-4d0a-880e-a44098215947"
      },
      "source": [
        "url = \"https://raw.githubusercontent.com/Murali-group/PathLinker-Cytoscape/master/src/test/resources/input/graph-dir_human-interactome.txt\"\n",
        "r = requests.get(url, allow_redirects=True)\n",
        "open('background-interactome-pathlinker-2015.txt', 'wb').write(r.content)"
      ],
      "execution_count": null,
      "outputs": [
        {
          "output_type": "execute_result",
          "data": {
            "text/plain": [
              "8914828"
            ]
          },
          "metadata": {
            "tags": []
          },
          "execution_count": 4
        }
      ]
    },
    {
      "cell_type": "code",
      "metadata": {
        "id": "NNycmBe9xAh9"
      },
      "source": [
        "# Import/Create the network that PathLinker will run on\n",
        "network_file = 'background-interactome-pathlinker-2015.txt'\n",
        "\n",
        "# create a new network by importing the data from a sample using pandas\n",
        "df = pd.read_csv(network_file, header=None, sep='\\t', lineterminator='\\n',\n",
        "                 names=[\"source\", 'target', 'weight', 'evidence'])\n",
        "\n",
        "# and create the networkx Graph from the pandas dataframe\n",
        "# this is a directed network, so I'm using the networkx DiGraph instead of the default undirected Graph\n",
        "G = nx.from_pandas_edgelist(df, \"source\", \"target\", edge_attr=['weight'], create_using=nx.MultiDiGraph())"
      ],
      "execution_count": null,
      "outputs": []
    },
    {
      "cell_type": "code",
      "metadata": {
        "id": "NEN4XgHoxAh-",
        "outputId": "600890bb-2376-4682-d1e1-86d69e2f655a"
      },
      "source": [
        "p4c.create_network_from_networkx(G) # Take a while"
      ],
      "execution_count": null,
      "outputs": [
        {
          "output_type": "stream",
          "text": [
            "Applying default style...\n",
            "Applying preferred layout\n"
          ],
          "name": "stdout"
        },
        {
          "output_type": "execute_result",
          "data": {
            "text/plain": [
              "{'networkSUID': 6171}"
            ]
          },
          "metadata": {
            "tags": []
          },
          "execution_count": 6
        }
      ]
    },
    {
      "cell_type": "markdown",
      "metadata": {
        "id": "B4JllssyxAh-"
      },
      "source": [
        "\n",
        "## Run PathLinker using the API function\n",
        "The function takes user sources, targets, and a set of parameters, and computes the k shortest paths. The function returns the paths in JSON format. Based on the user input, the function could generate a subnetwork (and view) containing those paths, and returns the computed paths and subnetwork/view SUIDs.\n",
        "\n",
        "Additional description of the parameters are available in the PathLinker app [documentation](https://pathlinker-cytoscape-app.readthedocs.io/en/latest/PathLinker_Cytoscape.html#sources-and-targets).\n",
        "\n",
        "The sources, targets and parameters used below are the same parameters used to run PathLinker in the paper \"The PathLinker app: Connect the dots in protein interaction networks\"."
      ]
    },
    {
      "cell_type": "code",
      "metadata": {
        "id": "-4ob8SQQxAh_"
      },
      "source": [
        "# Construct input data to pass to PathLinker API function\n",
        "\n",
        "# construct PathLinker input data parameters for API request\n",
        "params = {}\n",
        "\n",
        "# the node names for the sources and targets are space separated \n",
        "# and must match the \"name\" column in the Node Table in Cytoscape\n",
        "params[\"sources\"] = \"P35968 P00533 Q02763\"\n",
        "params[\"targets\"] = \"Q15797 Q14872 Q16236 P14859 P36956\"\n",
        "\n",
        "# the number of shortest path to compute, must be greater than 0\n",
        "# Default: 50\n",
        "params[\"k\"] = 50\n",
        "\n",
        "# Edge weight type, must be one of the three: [UNWEIGHTED, ADDITIVE, PROBABILITIES]\n",
        "params[\"edgeWeightType\"] = \"PROBABILITIES\" \n",
        "\n",
        "# Edge penalty. Not needed for UNWEIGHTED \n",
        "# Must be 0 or greater for ADDITIVE, and 1 or greater for PROBABILITIES \n",
        "params[\"edgePenalty\"] = 1\n",
        "\n",
        "# The column name in the Edge Table in Cytoscape containing edge weight property, \n",
        "# column type must be numerical type \n",
        "params[\"edgeWeightColumnName\"] = \"weight\"\n",
        "\n",
        "# The option to ignore directionality of edges when computing paths\n",
        "# Default: False\n",
        "params[\"treatNetworkAsUndirected\"] = False\n",
        "\n",
        "# Allow source/target nodes to appear as intermediate nodes in computed paths\n",
        "# Default: False\n",
        "params[\"allowSourcesTargetsInPaths\"] = False\n",
        "\n",
        "# Include more than k paths if the path length/score is equal to kth path length/score\n",
        "# Default: False\n",
        "params[\"includeTiedPaths\"] = False\n",
        "\n",
        "# Option to disable the generation of the subnetwork/view, path rank column, and result panel\n",
        "# and only return the path result in JSON format\n",
        "# Default: False\n",
        "params[\"skipSubnetworkGeneration\"] = False"
      ],
      "execution_count": null,
      "outputs": []
    },
    {
      "cell_type": "code",
      "metadata": {
        "id": "XSVplZaZxAh_"
      },
      "source": [
        "cy_network_suid = p4c.get_network_suid()\n",
        "# perform REST API call\n",
        "headers = {'Content-Type': 'application/json', 'Accept': 'application/json'}\n",
        "\n",
        "# construct REST API request url\n",
        "url = \"http://localhost:1234/pathlinker/v1/\" + str(cy_network_suid) + \"/run\"\n",
        "# to just run on the network currently in view on cytoscape, use the following:\n",
        "#url = \"http://localhost:1234/pathlinker/v1/currentView/run\"\n",
        "\n",
        "# store request output\n",
        "result_json = requests.request(\"POST\", \n",
        "                          url,\n",
        "                          data = json.dumps(params),\n",
        "                          params = None,\n",
        "                          headers = headers)\n",
        "#print(json.loads(result_json.content))"
      ],
      "execution_count": null,
      "outputs": []
    },
    {
      "cell_type": "markdown",
      "metadata": {
        "id": "cFPSYRPtxAiA"
      },
      "source": [
        "## Output\n",
        "The following section stores the subnetwork/view references and prints out the path output returned by the run function.\n",
        "\n",
        "The output consist of path result in JSON format, and based on user input: subnetwork SUID, subnetwork view SUID, and path rank column name."
      ]
    },
    {
      "cell_type": "code",
      "metadata": {
        "id": "BTRepriSxAiA",
        "outputId": "ca361f70-82c8-48d8-a9a9-4827d2146bf4"
      },
      "source": [
        "# Store result, parse, and print\n",
        "results = json.loads(result_json.content)\n",
        "\n",
        "print(\"Output:\\n\")\n",
        "\n",
        "# access the suid, references, and path rank column name\n",
        "subnetwork_suid = results[\"subnetworkSUID\"]\n",
        "subnetwork_view_suid = results[\"subnetworkViewSUID\"]\n",
        "# The path rank column shows for each edge, the rank of the first path in which it appears\n",
        "path_rank_column_name = results[\"pathRankColumnName\"]\n",
        "    \n",
        "print(\"subnetwork SUID:       %s\" % (subnetwork_suid))\n",
        "print(\"subnetwork view SUID:  %s\" % (subnetwork_view_suid))\n",
        "print(\"Path rank column name: %s\" % (path_rank_column_name))\n",
        "print(\"\")\n",
        "\n",
        "# access the paths generated by PathLinker\n",
        "paths = results[\"paths\"]\n",
        "\n",
        "# print the first 10 paths out of 50 paths\n",
        "for path in paths[:3]:\n",
        "    print(\"path rank:  %d\" % (path['rank']))\n",
        "    print(\"path score: %s\" % (str(path['score'])))\n",
        "    print(\"path:       %s\" % (\"|\".join(path['nodeList'])))"
      ],
      "execution_count": null,
      "outputs": [
        {
          "output_type": "stream",
          "text": [
            "Output:\n",
            "\n",
            "subnetwork SUID:       509917\n",
            "subnetwork view SUID:  509927\n",
            "Path rank column name: path rank 1\n",
            "\n",
            "path rank:  1\n",
            "path score: 0.5625\n",
            "path:       P00533|P0CG47|Q16236\n",
            "path rank:  2\n",
            "path score: 0.5625\n",
            "path:       P00533|P10275|P14859\n",
            "path rank:  3\n",
            "path score: 0.5625\n",
            "path:       P00533|P10275|Q15797\n"
          ],
          "name": "stdout"
        }
      ]
    },
    {
      "cell_type": "code",
      "metadata": {
        "id": "T83fXwxSxAiB",
        "outputId": "3f6331ef-e02e-4edc-ca08-a08f61438eab"
      },
      "source": [
        "# write the paths to a file\n",
        "paths_file = \"pathlinker-50-paths.txt\"\n",
        "print(\"Writing paths to %s\" % (paths_file))\n",
        "with open(paths_file, 'w') as out:\n",
        "    out.write(\"path rank\\tpath score\\tpath\\n\")\n",
        "    for path in paths:\n",
        "        out.write('%d\\t%s\\t%s\\n' % (path['rank'], str(path['score']), \"|\".join(path['nodeList'])))"
      ],
      "execution_count": null,
      "outputs": [
        {
          "output_type": "stream",
          "text": [
            "Writing paths to pathlinker-50-paths.txt\n"
          ],
          "name": "stdout"
        }
      ]
    },
    {
      "cell_type": "markdown",
      "metadata": {
        "id": "hZhszAutxAiB"
      },
      "source": [
        "## View the subnetwork and store the image\n"
      ]
    },
    {
      "cell_type": "code",
      "metadata": {
        "id": "XHI79kUhxAiB",
        "outputId": "dfbc7445-9ff6-40fc-88d5-1858fb889053"
      },
      "source": [
        "p4c.fit_content()\n",
        "p4c.export_image('pathlinker-50-paths', type='PNG')"
      ],
      "execution_count": null,
      "outputs": [
        {
          "output_type": "execute_result",
          "data": {
            "text/plain": [
              "{'file': '/Users/yxin/CytoscapeConfiguration/filetransfer/default_sandbox/pathlinker-50-paths.png'}"
            ]
          },
          "metadata": {
            "tags": []
          },
          "execution_count": 11
        }
      ]
    },
    {
      "cell_type": "code",
      "metadata": {
        "id": "ST3AZkIZxAiC",
        "outputId": "e0ee19cf-f002-4c1c-bcdc-ca7cd0d97e31"
      },
      "source": [
        "p4c.sandbox_get_from(\"pathlinker-50-paths.png\")\n",
        "from IPython.display import Image\n",
        "Image('pathlinker-50-paths.png')"
      ],
      "execution_count": null,
      "outputs": [
        {
          "output_type": "execute_result",
          "data": {
            "image/png": "[encoded data removed]",
            "text/plain": [
              "<IPython.core.display.Image object>"
            ]
          },
          "metadata": {
            "tags": []
          },
          "execution_count": 12
        }
      ]
    }
  ]
}