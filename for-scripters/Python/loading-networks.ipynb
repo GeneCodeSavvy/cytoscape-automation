{
  "nbformat": 4,
  "nbformat_minor": 0,
  "metadata": {
    "kernelspec": {
      "display_name": "Python 3",
      "language": "python",
      "name": "python3"
    },
    "language_info": {
      "codemirror_mode": {
        "name": "ipython",
        "version": 3
      },
      "file_extension": ".py",
      "mimetype": "text/x-python",
      "name": "python",
      "nbconvert_exporter": "python",
      "pygments_lexer": "ipython3",
      "version": "3.8.5"
    },
    "colab": {
      "name": "loading-networks.ipynb",
      "provenance": [],
      "include_colab_link": true
    }
  },
  "cells": [
    {
      "cell_type": "markdown",
      "metadata": {
        "id": "view-in-github",
        "colab_type": "text"
      },
      "source": [
        "<a href=\"https://colab.research.google.com/github/cytoscape/cytoscape-automation/blob/master/for-scripters/Python/loading-networks.ipynb\" target=\"_parent\"><img src=\"https://colab.research.google.com/assets/colab-badge.svg\" alt=\"Open In Colab\"/></a>"
      ]
    },
    {
      "cell_type": "markdown",
      "metadata": {
        "id": "DDYBBGE70hqi"
      },
      "source": [
        "# Loading Networks\n",
        "## Yihang Xin and Alex Pico\n",
        "## 2020-11-14"
      ]
    },
    {
      "cell_type": "markdown",
      "metadata": {
        "id": "0GT1u-VQ0hqk"
      },
      "source": [
        "In Cytoscape, network data can be loaded from a variety of sources, and in several different formats. Where you get your network data depends on your biological question and analysis plan. This tutorial outlines how to load network data from several popular sources and formats.\n",
        "\n",
        "1. Public databases\n",
        "    * NDEx\n",
        "    * PSICQUIC\n",
        "    * STRING/STITCH\n",
        "    * WikiPathways\n",
        "2. Local and remote files\n",
        "3. Cytoscape apps (Biopax, KEGG and other formats)\n"
      ]
    },
    {
      "cell_type": "markdown",
      "metadata": {
        "id": "L1UDFsmg0hql"
      },
      "source": [
        "# Installation\n",
        "The following chunk of code installs the `py4cytoscape` module."
      ]
    },
    {
      "cell_type": "code",
      "metadata": {
        "id": "QVjds1oZ0hql"
      },
      "source": [
        "%%capture\n",
        "!python3 -m pip install python-igraph requests pandas networkx\n",
        "!python3 -m pip install py4cytoscape"
      ],
      "execution_count": null,
      "outputs": []
    },
    {
      "cell_type": "markdown",
      "metadata": {
        "id": "9NcQAKp_0jxg"
      },
      "source": [
        "If you are using a remote notebook environment such as Google Colab, please execute the cell below. (If you're running on your local notebook, you don't need to do that.)\n",
        "\n"
      ]
    },
    {
      "cell_type": "code",
      "metadata": {
        "id": "gG2_oZQ50lnt"
      },
      "source": [
        "import requests\n",
        "exec(requests.get(\"https://raw.githubusercontent.com/cytoscape/jupyter-bridge/master/client/p4c_init.py\").text)\n",
        "IPython.display.Javascript(_PY4CYTOSCAPE_BROWSER_CLIENT_JS) # Start browser client"
      ],
      "execution_count": null,
      "outputs": []
    },
    {
      "cell_type": "markdown",
      "metadata": {
        "id": "cudMDrlU0hqm"
      },
      "source": [
        "# Prerequisites\n",
        "## In addition to this package (py4cytoscape latest version 0.0.9), you will need:\n",
        "* Latest version of Cytoscape, which can be downloaded from https://cytoscape.org/download.html. Simply follow the installation instructions on screen.\n",
        "* Complete installation wizard\n",
        "* Launch Cytoscape\n",
        "For this vignette, you’ll also need the WikiPathways app to access the WikiPathways database from within Cytoscape.\n",
        "\n",
        "Install the WikiPathways app from http://apps.cytoscape.org/apps/wikipathways\n",
        "\n",
        "Install the STRING app from https://apps.cytoscape.org/apps/stringapp\n",
        "\n",
        "Install the filetransfer app from https://apps.cytoscape.org/apps/filetransfer\n",
        "\n",
        "You can also install app inside Python notebook by running \"py4cytoscape.install_app('Your App')\""
      ]
    },
    {
      "cell_type": "markdown",
      "metadata": {
        "id": "q7dYuWFd0hqn"
      },
      "source": [
        "## Import the required package\n"
      ]
    },
    {
      "cell_type": "code",
      "metadata": {
        "id": "_VyuKimt0hqn"
      },
      "source": [
        "import os\n",
        "import sys\n",
        "import requests\n",
        "import pandas as pd\n",
        "import py4cytoscape as p4c\n",
        "import ndex2.client as nc\n",
        "import wget\n",
        "from lxml import etree as ET"
      ],
      "execution_count": null,
      "outputs": []
    },
    {
      "cell_type": "code",
      "metadata": {
        "id": "PnNYs2fS0hqo",
        "outputId": "70756f32-b67a-4461-fdfa-65aa34c7aca0"
      },
      "source": [
        "# Check Version\n",
        "p4c.cytoscape_version_info()"
      ],
      "execution_count": null,
      "outputs": [
        {
          "output_type": "execute_result",
          "data": {
            "text/plain": [
              "{'apiVersion': 'v1',\n",
              " 'cytoscapeVersion': '3.8.2',\n",
              " 'automationAPIVersion': '1.0.0',\n",
              " 'py4cytoscapeVersion': '0.0.6'}"
            ]
          },
          "metadata": {
            "tags": []
          },
          "execution_count": 4
        }
      ]
    },
    {
      "cell_type": "markdown",
      "metadata": {
        "id": "Aji9qKA50hqq"
      },
      "source": [
        "# Networks from Public Data\n",
        "Cytoscape includes a Network Search tool for easy import of public network data. In addition to core apps that are included with your Cytoscape installation (NDEx and PSICQUIC), the resources listed here will depend on which apps you have installed."
      ]
    },
    {
      "cell_type": "code",
      "metadata": {
        "id": "SDFK2uf70hqq",
        "outputId": "3bcf4d47-871f-4fc4-83bb-dcefaad06422"
      },
      "source": [
        "p4c.apps.get_installed_apps()"
      ],
      "execution_count": null,
      "outputs": [
        {
          "output_type": "execute_result",
          "data": {
            "text/plain": [
              "[{'appName': 'PSI-MI Reader',\n",
              "  'version': '3.4.0',\n",
              "  'description': 'null',\n",
              "  'status': 'Installed'},\n",
              " {'appName': 'cyREST',\n",
              "  'version': '3.11.1',\n",
              "  'description': 'null',\n",
              "  'status': 'Installed'},\n",
              " {'appName': 'stringApp',\n",
              "  'version': '1.6.0',\n",
              "  'description': 'null',\n",
              "  'status': 'Installed'},\n",
              " {'appName': 'NetworkAnalyzer',\n",
              "  'version': '4.4.6',\n",
              "  'description': 'null',\n",
              "  'status': 'Installed'},\n",
              " {'appName': 'Core Apps',\n",
              "  'version': '3.7.0',\n",
              "  'description': 'null',\n",
              "  'status': 'Installed'},\n",
              " {'appName': 'CyCL',\n",
              "  'version': '3.6.0',\n",
              "  'description': 'null',\n",
              "  'status': 'Installed'},\n",
              " {'appName': 'CyNDEx-2',\n",
              "  'version': '3.3.1',\n",
              "  'description': 'null',\n",
              "  'status': 'Installed'},\n",
              " {'appName': 'FileTransfer',\n",
              "  'version': '1.0',\n",
              "  'description': 'null',\n",
              "  'status': 'Installed'},\n",
              " {'appName': 'cyChart',\n",
              "  'version': '0.3.0',\n",
              "  'description': 'null',\n",
              "  'status': 'Installed'},\n",
              " {'appName': 'JSON Support',\n",
              "  'version': '3.7.0',\n",
              "  'description': 'null',\n",
              "  'status': 'Installed'},\n",
              " {'appName': 'enhancedGraphics',\n",
              "  'version': '1.5.4',\n",
              "  'description': 'null',\n",
              "  'status': 'Installed'},\n",
              " {'appName': 'ID Mapper',\n",
              "  'version': '3.9.0',\n",
              "  'description': 'null',\n",
              "  'status': 'Installed'},\n",
              " {'appName': 'WikiPathways',\n",
              "  'version': '3.3.7',\n",
              "  'description': 'null',\n",
              "  'status': 'Installed'},\n",
              " {'appName': 'Network Merge',\n",
              "  'version': '3.9.2',\n",
              "  'description': 'null',\n",
              "  'status': 'Installed'},\n",
              " {'appName': 'SBML Reader',\n",
              "  'version': '3.4.0',\n",
              "  'description': 'null',\n",
              "  'status': 'Installed'},\n",
              " {'appName': 'Biomart Web Service Client',\n",
              "  'version': '3.4.0',\n",
              "  'description': 'null',\n",
              "  'status': 'Installed'},\n",
              " {'appName': 'Diffusion',\n",
              "  'version': '1.6.1',\n",
              "  'description': 'null',\n",
              "  'status': 'Installed'},\n",
              " {'appName': 'yFiles Layout Algorithms',\n",
              "  'version': '1.1',\n",
              "  'description': 'null',\n",
              "  'status': 'Installed'},\n",
              " {'appName': 'cyBrowser',\n",
              "  'version': '1.2.3',\n",
              "  'description': 'null',\n",
              "  'status': 'Installed'},\n",
              " {'appName': 'CX Support',\n",
              "  'version': '2.5.0',\n",
              "  'description': 'null',\n",
              "  'status': 'Installed'},\n",
              " {'appName': 'OpenCL Prefuse Layout',\n",
              "  'version': '3.6.0',\n",
              "  'description': 'null',\n",
              "  'status': 'Installed'},\n",
              " {'appName': 'copycatLayout',\n",
              "  'version': '1.3.1',\n",
              "  'description': 'null',\n",
              "  'status': 'Installed'},\n",
              " {'appName': 'BioPAX Reader',\n",
              "  'version': '3.4.0',\n",
              "  'description': 'null',\n",
              "  'status': 'Installed'},\n",
              " {'appName': 'PSICQUIC Web Service Client',\n",
              "  'version': '3.5.0',\n",
              "  'description': 'null',\n",
              "  'status': 'Installed'},\n",
              " {'appName': 'Legend Creator',\n",
              "  'version': '1.1.5',\n",
              "  'description': 'null',\n",
              "  'status': 'Installed'}]"
            ]
          },
          "metadata": {
            "tags": []
          },
          "execution_count": 5
        }
      ]
    },
    {
      "cell_type": "markdown",
      "metadata": {
        "id": "1wa3uOU20hqr"
      },
      "source": [
        "# NDEx\n",
        "The NDEx Project provides an open-source framework where scientists and organizations can share, store, manipulate, and publish biological network knowledge.\n",
        "* To search NDEx run the following code chunk. Here, we use “TP53 AND BARD1” as our search terms."
      ]
    },
    {
      "cell_type": "code",
      "metadata": {
        "id": "cJEggmK_0hqr"
      },
      "source": [
        "anon_ndex=nc.Ndex2(\"http://public.ndexbio.org\")\n",
        "anon_ndex.update_status()"
      ],
      "execution_count": null,
      "outputs": []
    },
    {
      "cell_type": "code",
      "metadata": {
        "id": "yEUbEZ710hqr"
      },
      "source": [
        "networks = anon_ndex.search_networks(search_string='TP53 AND BARD1')\n",
        "df_dict = networks[\"networks\"]"
      ],
      "execution_count": null,
      "outputs": []
    },
    {
      "cell_type": "code",
      "metadata": {
        "id": "BlxyImPh0hqs"
      },
      "source": [
        "ownerUUID_list = []\n",
        "externalId_list = []\n",
        "nodeCount_list = []\n",
        "edgeCount_list = []"
      ],
      "execution_count": null,
      "outputs": []
    },
    {
      "cell_type": "code",
      "metadata": {
        "id": "MsvN2MMR0hqs"
      },
      "source": [
        "for d in df_dict:\n",
        "    ownerUUID_list.append(d[\"ownerUUID\"])\n",
        "    externalId_list.append(d[\"externalId\"])\n",
        "    nodeCount_list.append(d[\"nodeCount\"])\n",
        "    edgeCount_list.append(d[\"edgeCount\"])"
      ],
      "execution_count": null,
      "outputs": []
    },
    {
      "cell_type": "code",
      "metadata": {
        "id": "t7dwT8em0hqs",
        "outputId": "5ef9eaa6-5197-4fef-9974-9cd731fbb1d5"
      },
      "source": [
        "df = pd.DataFrame(list(zip(ownerUUID_list,externalId_list,nodeCount_list,edgeCount_list)), columns =['ownerUUID', 'externalId','nodeCount','edgeCount'])\n",
        "df.head()"
      ],
      "execution_count": null,
      "outputs": [
        {
          "output_type": "execute_result",
          "data": {
            "text/html": [
              "<div>\n",
              "<style scoped>\n",
              "    .dataframe tbody tr th:only-of-type {\n",
              "        vertical-align: middle;\n",
              "    }\n",
              "\n",
              "    .dataframe tbody tr th {\n",
              "        vertical-align: top;\n",
              "    }\n",
              "\n",
              "    .dataframe thead th {\n",
              "        text-align: right;\n",
              "    }\n",
              "</style>\n",
              "<table border=\"1\" class=\"dataframe\">\n",
              "  <thead>\n",
              "    <tr style=\"text-align: right;\">\n",
              "      <th></th>\n",
              "      <th>ownerUUID</th>\n",
              "      <th>externalId</th>\n",
              "      <th>nodeCount</th>\n",
              "      <th>edgeCount</th>\n",
              "    </tr>\n",
              "  </thead>\n",
              "  <tbody>\n",
              "    <tr>\n",
              "      <th>0</th>\n",
              "      <td>301a91c6-a37b-11e4-bda0-000c29202374</td>\n",
              "      <td>5a1fcfb9-78c3-11e8-a4bf-0ac135e8bacf</td>\n",
              "      <td>30</td>\n",
              "      <td>101</td>\n",
              "    </tr>\n",
              "    <tr>\n",
              "      <th>1</th>\n",
              "      <td>363f49e0-4cf0-11e9-9f06-0ac135e8bacf</td>\n",
              "      <td>0d4f26c3-f912-11ea-99da-0ac135e8bacf</td>\n",
              "      <td>255</td>\n",
              "      <td>403</td>\n",
              "    </tr>\n",
              "    <tr>\n",
              "      <th>2</th>\n",
              "      <td>363f49e0-4cf0-11e9-9f06-0ac135e8bacf</td>\n",
              "      <td>7f6602f1-f916-11ea-99da-0ac135e8bacf</td>\n",
              "      <td>213</td>\n",
              "      <td>198</td>\n",
              "    </tr>\n",
              "    <tr>\n",
              "      <th>3</th>\n",
              "      <td>363f49e0-4cf0-11e9-9f06-0ac135e8bacf</td>\n",
              "      <td>c8a2cdf5-204b-11ea-bb65-0ac135e8bacf</td>\n",
              "      <td>213</td>\n",
              "      <td>198</td>\n",
              "    </tr>\n",
              "    <tr>\n",
              "      <th>4</th>\n",
              "      <td>363f49e0-4cf0-11e9-9f06-0ac135e8bacf</td>\n",
              "      <td>fdfc44e6-f911-11ea-99da-0ac135e8bacf</td>\n",
              "      <td>59</td>\n",
              "      <td>51</td>\n",
              "    </tr>\n",
              "  </tbody>\n",
              "</table>\n",
              "</div>"
            ],
            "text/plain": [
              "                              ownerUUID                            externalId  \\\n",
              "0  301a91c6-a37b-11e4-bda0-000c29202374  5a1fcfb9-78c3-11e8-a4bf-0ac135e8bacf   \n",
              "1  363f49e0-4cf0-11e9-9f06-0ac135e8bacf  0d4f26c3-f912-11ea-99da-0ac135e8bacf   \n",
              "2  363f49e0-4cf0-11e9-9f06-0ac135e8bacf  7f6602f1-f916-11ea-99da-0ac135e8bacf   \n",
              "3  363f49e0-4cf0-11e9-9f06-0ac135e8bacf  c8a2cdf5-204b-11ea-bb65-0ac135e8bacf   \n",
              "4  363f49e0-4cf0-11e9-9f06-0ac135e8bacf  fdfc44e6-f911-11ea-99da-0ac135e8bacf   \n",
              "\n",
              "   nodeCount  edgeCount  \n",
              "0         30        101  \n",
              "1        255        403  \n",
              "2        213        198  \n",
              "3        213        198  \n",
              "4         59         51  "
            ]
          },
          "metadata": {
            "tags": []
          },
          "execution_count": 10
        }
      ]
    },
    {
      "cell_type": "code",
      "metadata": {
        "id": "AZx1hoX60hqs"
      },
      "source": [
        "networkId = df[\"externalId\"][0]"
      ],
      "execution_count": null,
      "outputs": []
    },
    {
      "cell_type": "markdown",
      "metadata": {
        "id": "BfDXOWRk0hqt"
      },
      "source": [
        "To import the network into Cytoscape, run the following code chunk.\n"
      ]
    },
    {
      "cell_type": "code",
      "metadata": {
        "id": "X6sxxX-s0hqt",
        "outputId": "ad06609e-006c-41e7-813f-bcd27348ac7b"
      },
      "source": [
        "p4c.cy_ndex.import_network_from_ndex(networkId)"
      ],
      "execution_count": null,
      "outputs": [
        {
          "output_type": "execute_result",
          "data": {
            "text/plain": [
              "51"
            ]
          },
          "metadata": {
            "tags": []
          },
          "execution_count": 12
        }
      ]
    },
    {
      "cell_type": "markdown",
      "metadata": {
        "id": "r6fe0Bru0hqt"
      },
      "source": [
        "# STRING/STITCH\n",
        "STRING is a database of known and predicted protein-protein interactions, and STITCH stored known and predicted interactions between chemicals and proteins. Data types include:\n",
        "\n",
        "* Genomic Context Predictions\n",
        "* High-throughput Lab Experiments\n",
        "* (Conserved) Co-Expression\n",
        "* Automated Textmining\n",
        "* Previous Knowledge in Databases\n",
        "\n",
        "To search STRING with the disease keyword “ovarian cancer”, run the following code chunk. (The resulting network will load automatically.)"
      ]
    },
    {
      "cell_type": "code",
      "metadata": {
        "id": "rrOy9qZA0hqt",
        "outputId": "9034b390-e2d9-4b4b-e2bc-b872d9f918c1"
      },
      "source": [
        "string_cmd_list = ['string disease query','disease=\"ovarian cancer\"']\n",
        "string_cmd = \" \".join(string_cmd_list)\n",
        "p4c.commands.commands_run(string_cmd)"
      ],
      "execution_count": null,
      "outputs": [
        {
          "output_type": "execute_result",
          "data": {
            "text/plain": [
              "[\"Loaded network 'String Network - ovarian cancer' with 100 nodes and 2238 edges\"]"
            ]
          },
          "metadata": {
            "tags": []
          },
          "execution_count": 13
        }
      ]
    },
    {
      "cell_type": "markdown",
      "metadata": {
        "id": "hFBURkak0hqu"
      },
      "source": [
        "* Networks load with a STRING-specific style, which includes 3D protein structure diagrams.\n"
      ]
    },
    {
      "cell_type": "code",
      "metadata": {
        "id": "8cPbY1hi0hqu",
        "outputId": "1f6e51f1-b9b5-4818-a6a1-e82a1dcfeca7"
      },
      "source": [
        "p4c.network_views.export_image('ovarian_cancer', type='PNG')"
      ],
      "execution_count": null,
      "outputs": [
        {
          "output_type": "execute_result",
          "data": {
            "text/plain": [
              "{'file': 'C:\\\\Users\\\\YihangXin\\\\CytoscapeConfiguration\\\\filetransfer\\\\default_sandbox\\\\ovarian_cancer.png'}"
            ]
          },
          "metadata": {
            "tags": []
          },
          "execution_count": 14
        }
      ]
    },
    {
      "cell_type": "markdown",
      "metadata": {
        "id": "t6FgXtkH0hqu"
      },
      "source": [
        "* STRING networks also inlcude data as node/interaction attributes, that can be used to create a Style."
      ]
    },
    {
      "cell_type": "code",
      "metadata": {
        "id": "C7tt-8ks0hqu"
      },
      "source": [
        "column_names = p4c.tables.get_table_column_names()\n",
        "column_names.remove( 'stringdb::structures')"
      ],
      "execution_count": null,
      "outputs": []
    },
    {
      "cell_type": "code",
      "metadata": {
        "id": "DXEYubwB0hqu",
        "outputId": "c090966d-4c74-42c5-9c4c-26ce60690445"
      },
      "source": [
        "df = p4c.tables.get_table_columns(columns=column_names)\n",
        "df.head()"
      ],
      "execution_count": null,
      "outputs": [
        {
          "output_type": "execute_result",
          "data": {
            "text/html": [
              "<div>\n",
              "<style scoped>\n",
              "    .dataframe tbody tr th:only-of-type {\n",
              "        vertical-align: middle;\n",
              "    }\n",
              "\n",
              "    .dataframe tbody tr th {\n",
              "        vertical-align: top;\n",
              "    }\n",
              "\n",
              "    .dataframe thead th {\n",
              "        text-align: right;\n",
              "    }\n",
              "</style>\n",
              "<table border=\"1\" class=\"dataframe\">\n",
              "  <thead>\n",
              "    <tr style=\"text-align: right;\">\n",
              "      <th></th>\n",
              "      <th>SUID</th>\n",
              "      <th>shared name</th>\n",
              "      <th>name</th>\n",
              "      <th>selected</th>\n",
              "      <th>stringdb::canonical name</th>\n",
              "      <th>display name</th>\n",
              "      <th>stringdb::full name</th>\n",
              "      <th>stringdb::database identifier</th>\n",
              "      <th>stringdb::description</th>\n",
              "      <th>@id</th>\n",
              "      <th>...</th>\n",
              "      <th>tissue::muscle</th>\n",
              "      <th>tissue::nervous system</th>\n",
              "      <th>tissue::pancreas</th>\n",
              "      <th>tissue::saliva</th>\n",
              "      <th>tissue::skin</th>\n",
              "      <th>tissue::spleen</th>\n",
              "      <th>tissue::stomach</th>\n",
              "      <th>tissue::thyroid gland</th>\n",
              "      <th>tissue::urine</th>\n",
              "      <th>stringdb::disease score</th>\n",
              "    </tr>\n",
              "  </thead>\n",
              "  <tbody>\n",
              "    <tr>\n",
              "      <th>350</th>\n",
              "      <td>350</td>\n",
              "      <td>9606.ENSP00000377284</td>\n",
              "      <td>9606.ENSP00000377284</td>\n",
              "      <td>False</td>\n",
              "      <td>P15328</td>\n",
              "      <td>FOLR1</td>\n",
              "      <td>None</td>\n",
              "      <td>9606.ENSP00000377284</td>\n",
              "      <td>Ovarian tumor-associated antigen MOv18; Binds ...</td>\n",
              "      <td>stringdb:9606.ENSP00000377284</td>\n",
              "      <td>...</td>\n",
              "      <td>1.6817</td>\n",
              "      <td>2.64464</td>\n",
              "      <td>1.81592</td>\n",
              "      <td>2.57943</td>\n",
              "      <td>1.98873</td>\n",
              "      <td>2.32688</td>\n",
              "      <td>1.93777</td>\n",
              "      <td>2.17475</td>\n",
              "      <td>1.24586</td>\n",
              "      <td>2.64105</td>\n",
              "    </tr>\n",
              "    <tr>\n",
              "      <th>351</th>\n",
              "      <td>351</td>\n",
              "      <td>9606.ENSP00000466834</td>\n",
              "      <td>9606.ENSP00000466834</td>\n",
              "      <td>False</td>\n",
              "      <td>O76085</td>\n",
              "      <td>ENSP00000466834</td>\n",
              "      <td>None</td>\n",
              "      <td>9606.ENSP00000466834</td>\n",
              "      <td>DNA repair protein RAD51 homolog 4; Involved i...</td>\n",
              "      <td>stringdb:9606.ENSP00000466834</td>\n",
              "      <td>...</td>\n",
              "      <td>0.572677</td>\n",
              "      <td>4.20561</td>\n",
              "      <td>1.14334</td>\n",
              "      <td>0.964483</td>\n",
              "      <td>4.29394</td>\n",
              "      <td>0.53719</td>\n",
              "      <td>0.902816</td>\n",
              "      <td>0.913659</td>\n",
              "      <td>NaN</td>\n",
              "      <td>2.73832</td>\n",
              "    </tr>\n",
              "    <tr>\n",
              "      <th>352</th>\n",
              "      <td>352</td>\n",
              "      <td>9606.ENSP00000331327</td>\n",
              "      <td>9606.ENSP00000331327</td>\n",
              "      <td>False</td>\n",
              "      <td>Q8IYZ5</td>\n",
              "      <td>WT1</td>\n",
              "      <td>None</td>\n",
              "      <td>9606.ENSP00000331327</td>\n",
              "      <td>Wilms tumor protein; Transcription factor that...</td>\n",
              "      <td>stringdb:9606.ENSP00000331327</td>\n",
              "      <td>...</td>\n",
              "      <td>2.42609</td>\n",
              "      <td>2.44515</td>\n",
              "      <td>1.86355</td>\n",
              "      <td>1.55037</td>\n",
              "      <td>2.24419</td>\n",
              "      <td>2.65519</td>\n",
              "      <td>1.63816</td>\n",
              "      <td>1.79773</td>\n",
              "      <td>2.02184</td>\n",
              "      <td>2.60789</td>\n",
              "    </tr>\n",
              "    <tr>\n",
              "      <th>353</th>\n",
              "      <td>353</td>\n",
              "      <td>9606.ENSP00000011653</td>\n",
              "      <td>9606.ENSP00000011653</td>\n",
              "      <td>False</td>\n",
              "      <td>P01730</td>\n",
              "      <td>CD4</td>\n",
              "      <td>None</td>\n",
              "      <td>9606.ENSP00000011653</td>\n",
              "      <td>T-cell surface antigen T4/Leu-3; Integral memb...</td>\n",
              "      <td>stringdb:9606.ENSP00000011653</td>\n",
              "      <td>...</td>\n",
              "      <td>3.08424</td>\n",
              "      <td>4.85061</td>\n",
              "      <td>4.56421</td>\n",
              "      <td>2.7666</td>\n",
              "      <td>3.47661</td>\n",
              "      <td>4.45149</td>\n",
              "      <td>3.00139</td>\n",
              "      <td>2.79453</td>\n",
              "      <td>2.56101</td>\n",
              "      <td>2.71615</td>\n",
              "    </tr>\n",
              "    <tr>\n",
              "      <th>354</th>\n",
              "      <td>354</td>\n",
              "      <td>9606.ENSP00000296511</td>\n",
              "      <td>9606.ENSP00000296511</td>\n",
              "      <td>False</td>\n",
              "      <td>P08758</td>\n",
              "      <td>ANXA5</td>\n",
              "      <td>None</td>\n",
              "      <td>9606.ENSP00000296511</td>\n",
              "      <td>Placental anticoagulant protein 4; This protei...</td>\n",
              "      <td>stringdb:9606.ENSP00000296511</td>\n",
              "      <td>...</td>\n",
              "      <td>4.70337</td>\n",
              "      <td>4.81533</td>\n",
              "      <td>3.75453</td>\n",
              "      <td>2.95452</td>\n",
              "      <td>4.93929</td>\n",
              "      <td>3.72014</td>\n",
              "      <td>3.55828</td>\n",
              "      <td>3.1331</td>\n",
              "      <td>2.91597</td>\n",
              "      <td>2.82882</td>\n",
              "    </tr>\n",
              "  </tbody>\n",
              "</table>\n",
              "<p>5 rows × 51 columns</p>\n",
              "</div>"
            ],
            "text/plain": [
              "    SUID           shared name                  name selected  \\\n",
              "350  350  9606.ENSP00000377284  9606.ENSP00000377284    False   \n",
              "351  351  9606.ENSP00000466834  9606.ENSP00000466834    False   \n",
              "352  352  9606.ENSP00000331327  9606.ENSP00000331327    False   \n",
              "353  353  9606.ENSP00000011653  9606.ENSP00000011653    False   \n",
              "354  354  9606.ENSP00000296511  9606.ENSP00000296511    False   \n",
              "\n",
              "    stringdb::canonical name     display name stringdb::full name  \\\n",
              "350                   P15328            FOLR1                None   \n",
              "351                   O76085  ENSP00000466834                None   \n",
              "352                   Q8IYZ5              WT1                None   \n",
              "353                   P01730              CD4                None   \n",
              "354                   P08758            ANXA5                None   \n",
              "\n",
              "    stringdb::database identifier  \\\n",
              "350          9606.ENSP00000377284   \n",
              "351          9606.ENSP00000466834   \n",
              "352          9606.ENSP00000331327   \n",
              "353          9606.ENSP00000011653   \n",
              "354          9606.ENSP00000296511   \n",
              "\n",
              "                                 stringdb::description  \\\n",
              "350  Ovarian tumor-associated antigen MOv18; Binds ...   \n",
              "351  DNA repair protein RAD51 homolog 4; Involved i...   \n",
              "352  Wilms tumor protein; Transcription factor that...   \n",
              "353  T-cell surface antigen T4/Leu-3; Integral memb...   \n",
              "354  Placental anticoagulant protein 4; This protei...   \n",
              "\n",
              "                               @id  ... tissue::muscle tissue::nervous system  \\\n",
              "350  stringdb:9606.ENSP00000377284  ...         1.6817                2.64464   \n",
              "351  stringdb:9606.ENSP00000466834  ...       0.572677                4.20561   \n",
              "352  stringdb:9606.ENSP00000331327  ...        2.42609                2.44515   \n",
              "353  stringdb:9606.ENSP00000011653  ...        3.08424                4.85061   \n",
              "354  stringdb:9606.ENSP00000296511  ...        4.70337                4.81533   \n",
              "\n",
              "    tissue::pancreas tissue::saliva tissue::skin tissue::spleen  \\\n",
              "350          1.81592        2.57943      1.98873        2.32688   \n",
              "351          1.14334       0.964483      4.29394        0.53719   \n",
              "352          1.86355        1.55037      2.24419        2.65519   \n",
              "353          4.56421         2.7666      3.47661        4.45149   \n",
              "354          3.75453        2.95452      4.93929        3.72014   \n",
              "\n",
              "    tissue::stomach tissue::thyroid gland tissue::urine  \\\n",
              "350         1.93777               2.17475       1.24586   \n",
              "351        0.902816              0.913659           NaN   \n",
              "352         1.63816               1.79773       2.02184   \n",
              "353         3.00139               2.79453       2.56101   \n",
              "354         3.55828                3.1331       2.91597   \n",
              "\n",
              "    stringdb::disease score  \n",
              "350                 2.64105  \n",
              "351                 2.73832  \n",
              "352                 2.60789  \n",
              "353                 2.71615  \n",
              "354                 2.82882  \n",
              "\n",
              "[5 rows x 51 columns]"
            ]
          },
          "metadata": {
            "tags": []
          },
          "execution_count": 16
        }
      ]
    },
    {
      "cell_type": "markdown",
      "metadata": {
        "id": "-dKQBllD0hqv"
      },
      "source": [
        "* The STRING app includes options to change interaction confidence level, expand the network etc."
      ]
    },
    {
      "cell_type": "code",
      "metadata": {
        "id": "XNps26nk0hqv",
        "outputId": "18c8798b-7d60-404d-bb07-2015da1dd418"
      },
      "source": [
        "p4c.networks.get_edge_count() #Before changing interaction confidence level"
      ],
      "execution_count": null,
      "outputs": [
        {
          "output_type": "execute_result",
          "data": {
            "text/plain": [
              "2238"
            ]
          },
          "metadata": {
            "tags": []
          },
          "execution_count": 17
        }
      ]
    },
    {
      "cell_type": "code",
      "metadata": {
        "id": "GOkPbNmj0hqv",
        "outputId": "0a21c020-bacf-4e44-8f4c-5a5c3ac6cc02"
      },
      "source": [
        "string_cmd_list = ['string change confidence confidence=0.9 network=CURRENT']\n",
        "string_cmd = \" \".join(string_cmd_list)\n",
        "p4c.commands.commands_run(string_cmd)"
      ],
      "execution_count": null,
      "outputs": [
        {
          "output_type": "execute_result",
          "data": {
            "text/plain": [
              "['']"
            ]
          },
          "metadata": {
            "tags": []
          },
          "execution_count": 18
        }
      ]
    },
    {
      "cell_type": "code",
      "metadata": {
        "id": "zwtx-Njl0hqw",
        "outputId": "ee04d0b6-fa77-4b8f-9198-657b22b9d57d"
      },
      "source": [
        "p4c.networks.get_edge_count() #After changing interaction confidence level"
      ],
      "execution_count": null,
      "outputs": [
        {
          "output_type": "execute_result",
          "data": {
            "text/plain": [
              "443"
            ]
          },
          "metadata": {
            "tags": []
          },
          "execution_count": 19
        }
      ]
    },
    {
      "cell_type": "code",
      "metadata": {
        "id": "OfnmUePK0hqw",
        "outputId": "cc6d4111-3611-4e93-97b5-b7baecf78ef6"
      },
      "source": [
        "p4c.network_views.export_image('before_expand', type='PNG')"
      ],
      "execution_count": null,
      "outputs": [
        {
          "output_type": "execute_result",
          "data": {
            "text/plain": [
              "{'file': 'C:\\\\Users\\\\YihangXin\\\\CytoscapeConfiguration\\\\filetransfer\\\\default_sandbox\\\\before_expand.png'}"
            ]
          },
          "metadata": {
            "tags": []
          },
          "execution_count": 20
        }
      ]
    },
    {
      "cell_type": "code",
      "metadata": {
        "id": "EjE63ljE0hqx",
        "outputId": "4c18d64e-54b5-48b5-a7fc-582db6f5fae1"
      },
      "source": [
        "string_cmd_list = ['string expand network=CURRENT']\n",
        "string_cmd = \" \".join(string_cmd_list)\n",
        "p4c.commands.commands_run(string_cmd)"
      ],
      "execution_count": null,
      "outputs": [
        {
          "output_type": "execute_result",
          "data": {
            "text/plain": [
              "[\"Loaded network 'String Network - ovarian cancer' with 110 nodes and 613 edges\"]"
            ]
          },
          "metadata": {
            "tags": []
          },
          "execution_count": 21
        }
      ]
    },
    {
      "cell_type": "code",
      "metadata": {
        "id": "BloyL6Mv0hqx",
        "outputId": "e0938ee5-f08d-4e9a-8b9c-0bee39d5eab6"
      },
      "source": [
        "p4c.network_views.export_image('after_expand', type='PNG')"
      ],
      "execution_count": null,
      "outputs": [
        {
          "output_type": "execute_result",
          "data": {
            "text/plain": [
              "{'file': 'C:\\\\Users\\\\YihangXin\\\\CytoscapeConfiguration\\\\filetransfer\\\\default_sandbox\\\\after_expand.png'}"
            ]
          },
          "metadata": {
            "tags": []
          },
          "execution_count": 22
        }
      ]
    },
    {
      "cell_type": "markdown",
      "metadata": {
        "id": "Ymq4VT5a0hqx"
      },
      "source": [
        "# WikiPathways"
      ]
    },
    {
      "cell_type": "markdown",
      "metadata": {
        "id": "-bR3eYYz0hqx"
      },
      "source": [
        "WikiPathways is a collaborative wiki platform with curated manually pathway models. It currently covers over 2,600 pathways in 25 species-specific collections.\n",
        "\n",
        "* To search WikiPathways, call the find_pathways_by_text function with your search terms (here we use ‘statin’ as the term)"
      ]
    },
    {
      "cell_type": "code",
      "metadata": {
        "id": "nGVmojd00hqx"
      },
      "source": [
        "def find_pathways_by_text(query, species):\n",
        "    base_iri = 'http://webservice.wikipathways.org/'\n",
        "    request_params = {'query':query, 'species':species}\n",
        "    response = requests.get(base_iri + 'findPathwaysByText', params=request_params)\n",
        "    return response"
      ],
      "execution_count": null,
      "outputs": []
    },
    {
      "cell_type": "code",
      "metadata": {
        "id": "UC7I_myp0hqy"
      },
      "source": [
        "response = find_pathways_by_text(\"statin\", \"Homo sapiens\") # restrict the results to Homo sapiens"
      ],
      "execution_count": null,
      "outputs": []
    },
    {
      "cell_type": "code",
      "metadata": {
        "id": "Kx9Fagrs0hqy"
      },
      "source": [
        "def find_pathway_dataframe(response):\n",
        "    data = response.text\n",
        "    dom = ET.fromstring(data)\n",
        "    pathways = []\n",
        "    NAMESPACES = {'ns1':'http://www.wso2.org/php/xsd','ns2':'http://www.wikipathways.org/webservice/'}\n",
        "    for node in dom.findall('ns1:result', NAMESPACES):\n",
        "        pathway_using_api_terms = {}\n",
        "        for child in node:\n",
        "            pathway_using_api_terms[ET.QName(child).localname] = child.text\n",
        "            pathways.append(pathway_using_api_terms)\n",
        "    id_list = []\n",
        "    score_list = []\n",
        "    url_list = []\n",
        "    name_list = []\n",
        "    species_list = []\n",
        "    revision_list = []\n",
        "    for p in pathways:\n",
        "        id_list.append(p[\"id\"])\n",
        "        score_list.append(p[\"score\"])\n",
        "        url_list.append(p[\"url\"])\n",
        "        name_list.append(p[\"name\"])\n",
        "        species_list.append(p[\"species\"])\n",
        "        revision_list.append(p[\"revision\"])\n",
        "    df = pd.DataFrame(list(zip(id_list,score_list,url_list,name_list,species_list,revision_list)), columns =['id', 'score','url','name','species','revision'])\n",
        "    return df"
      ],
      "execution_count": null,
      "outputs": []
    },
    {
      "cell_type": "code",
      "metadata": {
        "id": "BtTaT4eu0hqy",
        "outputId": "a311ccb9-cc54-4a30-cd95-9d2852358643"
      },
      "source": [
        "df = find_pathway_dataframe(response)\n",
        "df.head(10)"
      ],
      "execution_count": null,
      "outputs": [
        {
          "output_type": "execute_result",
          "data": {
            "text/html": [
              "<div>\n",
              "<style scoped>\n",
              "    .dataframe tbody tr th:only-of-type {\n",
              "        vertical-align: middle;\n",
              "    }\n",
              "\n",
              "    .dataframe tbody tr th {\n",
              "        vertical-align: top;\n",
              "    }\n",
              "\n",
              "    .dataframe thead th {\n",
              "        text-align: right;\n",
              "    }\n",
              "</style>\n",
              "<table border=\"1\" class=\"dataframe\">\n",
              "  <thead>\n",
              "    <tr style=\"text-align: right;\">\n",
              "      <th></th>\n",
              "      <th>id</th>\n",
              "      <th>score</th>\n",
              "      <th>url</th>\n",
              "      <th>name</th>\n",
              "      <th>species</th>\n",
              "      <th>revision</th>\n",
              "    </tr>\n",
              "  </thead>\n",
              "  <tbody>\n",
              "    <tr>\n",
              "      <th>0</th>\n",
              "      <td>WP430</td>\n",
              "      <td>4.985504</td>\n",
              "      <td>https://www.wikipathways.org/index.php/Pathway...</td>\n",
              "      <td>Statin Pathway</td>\n",
              "      <td>Homo sapiens</td>\n",
              "      <td>108375</td>\n",
              "    </tr>\n",
              "    <tr>\n",
              "      <th>1</th>\n",
              "      <td>WP430</td>\n",
              "      <td>4.985504</td>\n",
              "      <td>https://www.wikipathways.org/index.php/Pathway...</td>\n",
              "      <td>Statin Pathway</td>\n",
              "      <td>Homo sapiens</td>\n",
              "      <td>108375</td>\n",
              "    </tr>\n",
              "    <tr>\n",
              "      <th>2</th>\n",
              "      <td>WP430</td>\n",
              "      <td>4.985504</td>\n",
              "      <td>https://www.wikipathways.org/index.php/Pathway...</td>\n",
              "      <td>Statin Pathway</td>\n",
              "      <td>Homo sapiens</td>\n",
              "      <td>108375</td>\n",
              "    </tr>\n",
              "    <tr>\n",
              "      <th>3</th>\n",
              "      <td>WP430</td>\n",
              "      <td>4.985504</td>\n",
              "      <td>https://www.wikipathways.org/index.php/Pathway...</td>\n",
              "      <td>Statin Pathway</td>\n",
              "      <td>Homo sapiens</td>\n",
              "      <td>108375</td>\n",
              "    </tr>\n",
              "    <tr>\n",
              "      <th>4</th>\n",
              "      <td>WP430</td>\n",
              "      <td>4.985504</td>\n",
              "      <td>https://www.wikipathways.org/index.php/Pathway...</td>\n",
              "      <td>Statin Pathway</td>\n",
              "      <td>Homo sapiens</td>\n",
              "      <td>108375</td>\n",
              "    </tr>\n",
              "    <tr>\n",
              "      <th>5</th>\n",
              "      <td>WP430</td>\n",
              "      <td>4.985504</td>\n",
              "      <td>https://www.wikipathways.org/index.php/Pathway...</td>\n",
              "      <td>Statin Pathway</td>\n",
              "      <td>Homo sapiens</td>\n",
              "      <td>108375</td>\n",
              "    </tr>\n",
              "    <tr>\n",
              "      <th>6</th>\n",
              "      <td>WP3590</td>\n",
              "      <td>3.376647</td>\n",
              "      <td>https://www.wikipathways.org/index.php/Pathway...</td>\n",
              "      <td>Demo</td>\n",
              "      <td>Homo sapiens</td>\n",
              "      <td>106743</td>\n",
              "    </tr>\n",
              "    <tr>\n",
              "      <th>7</th>\n",
              "      <td>WP3590</td>\n",
              "      <td>3.376647</td>\n",
              "      <td>https://www.wikipathways.org/index.php/Pathway...</td>\n",
              "      <td>Demo</td>\n",
              "      <td>Homo sapiens</td>\n",
              "      <td>106743</td>\n",
              "    </tr>\n",
              "    <tr>\n",
              "      <th>8</th>\n",
              "      <td>WP3590</td>\n",
              "      <td>3.376647</td>\n",
              "      <td>https://www.wikipathways.org/index.php/Pathway...</td>\n",
              "      <td>Demo</td>\n",
              "      <td>Homo sapiens</td>\n",
              "      <td>106743</td>\n",
              "    </tr>\n",
              "    <tr>\n",
              "      <th>9</th>\n",
              "      <td>WP3590</td>\n",
              "      <td>3.376647</td>\n",
              "      <td>https://www.wikipathways.org/index.php/Pathway...</td>\n",
              "      <td>Demo</td>\n",
              "      <td>Homo sapiens</td>\n",
              "      <td>106743</td>\n",
              "    </tr>\n",
              "  </tbody>\n",
              "</table>\n",
              "</div>"
            ],
            "text/plain": [
              "       id     score                                                url  \\\n",
              "0   WP430  4.985504  https://www.wikipathways.org/index.php/Pathway...   \n",
              "1   WP430  4.985504  https://www.wikipathways.org/index.php/Pathway...   \n",
              "2   WP430  4.985504  https://www.wikipathways.org/index.php/Pathway...   \n",
              "3   WP430  4.985504  https://www.wikipathways.org/index.php/Pathway...   \n",
              "4   WP430  4.985504  https://www.wikipathways.org/index.php/Pathway...   \n",
              "5   WP430  4.985504  https://www.wikipathways.org/index.php/Pathway...   \n",
              "6  WP3590  3.376647  https://www.wikipathways.org/index.php/Pathway...   \n",
              "7  WP3590  3.376647  https://www.wikipathways.org/index.php/Pathway...   \n",
              "8  WP3590  3.376647  https://www.wikipathways.org/index.php/Pathway...   \n",
              "9  WP3590  3.376647  https://www.wikipathways.org/index.php/Pathway...   \n",
              "\n",
              "             name       species revision  \n",
              "0  Statin Pathway  Homo sapiens   108375  \n",
              "1  Statin Pathway  Homo sapiens   108375  \n",
              "2  Statin Pathway  Homo sapiens   108375  \n",
              "3  Statin Pathway  Homo sapiens   108375  \n",
              "4  Statin Pathway  Homo sapiens   108375  \n",
              "5  Statin Pathway  Homo sapiens   108375  \n",
              "6            Demo  Homo sapiens   106743  \n",
              "7            Demo  Homo sapiens   106743  \n",
              "8            Demo  Homo sapiens   106743  \n",
              "9            Demo  Homo sapiens   106743  "
            ]
          },
          "metadata": {
            "tags": []
          },
          "execution_count": 26
        }
      ]
    },
    {
      "cell_type": "code",
      "metadata": {
        "id": "u7ieatgW0hqy",
        "outputId": "b55d3ee6-30e8-477f-ef8c-3dce62c7fcdc"
      },
      "source": [
        "df = df.drop_duplicates()\n",
        "df = df.reset_index(drop=True)\n",
        "df"
      ],
      "execution_count": null,
      "outputs": [
        {
          "output_type": "execute_result",
          "data": {
            "text/html": [
              "<div>\n",
              "<style scoped>\n",
              "    .dataframe tbody tr th:only-of-type {\n",
              "        vertical-align: middle;\n",
              "    }\n",
              "\n",
              "    .dataframe tbody tr th {\n",
              "        vertical-align: top;\n",
              "    }\n",
              "\n",
              "    .dataframe thead th {\n",
              "        text-align: right;\n",
              "    }\n",
              "</style>\n",
              "<table border=\"1\" class=\"dataframe\">\n",
              "  <thead>\n",
              "    <tr style=\"text-align: right;\">\n",
              "      <th></th>\n",
              "      <th>id</th>\n",
              "      <th>score</th>\n",
              "      <th>url</th>\n",
              "      <th>name</th>\n",
              "      <th>species</th>\n",
              "      <th>revision</th>\n",
              "    </tr>\n",
              "  </thead>\n",
              "  <tbody>\n",
              "    <tr>\n",
              "      <th>0</th>\n",
              "      <td>WP430</td>\n",
              "      <td>4.985504</td>\n",
              "      <td>https://www.wikipathways.org/index.php/Pathway...</td>\n",
              "      <td>Statin Pathway</td>\n",
              "      <td>Homo sapiens</td>\n",
              "      <td>108375</td>\n",
              "    </tr>\n",
              "    <tr>\n",
              "      <th>1</th>\n",
              "      <td>WP3590</td>\n",
              "      <td>3.376647</td>\n",
              "      <td>https://www.wikipathways.org/index.php/Pathway...</td>\n",
              "      <td>Demo</td>\n",
              "      <td>Homo sapiens</td>\n",
              "      <td>106743</td>\n",
              "    </tr>\n",
              "    <tr>\n",
              "      <th>2</th>\n",
              "      <td>WP3539</td>\n",
              "      <td>3.2785838</td>\n",
              "      <td>https://www.wikipathways.org/index.php/Pathway...</td>\n",
              "      <td>WikiPathways Tutorial: demo_step3</td>\n",
              "      <td>Homo sapiens</td>\n",
              "      <td>106739</td>\n",
              "    </tr>\n",
              "    <tr>\n",
              "      <th>3</th>\n",
              "      <td>WP3418</td>\n",
              "      <td>3.26224</td>\n",
              "      <td>https://www.wikipathways.org/index.php/Pathway...</td>\n",
              "      <td>Demo_complete</td>\n",
              "      <td>Homo sapiens</td>\n",
              "      <td>106736</td>\n",
              "    </tr>\n",
              "  </tbody>\n",
              "</table>\n",
              "</div>"
            ],
            "text/plain": [
              "       id      score                                                url  \\\n",
              "0   WP430   4.985504  https://www.wikipathways.org/index.php/Pathway...   \n",
              "1  WP3590   3.376647  https://www.wikipathways.org/index.php/Pathway...   \n",
              "2  WP3539  3.2785838  https://www.wikipathways.org/index.php/Pathway...   \n",
              "3  WP3418    3.26224  https://www.wikipathways.org/index.php/Pathway...   \n",
              "\n",
              "                                name       species revision  \n",
              "0                     Statin Pathway  Homo sapiens   108375  \n",
              "1                               Demo  Homo sapiens   106743  \n",
              "2  WikiPathways Tutorial: demo_step3  Homo sapiens   106739  \n",
              "3                      Demo_complete  Homo sapiens   106736  "
            ]
          },
          "metadata": {
            "tags": []
          },
          "execution_count": 27
        }
      ]
    },
    {
      "cell_type": "code",
      "metadata": {
        "id": "j0fntHTy0hqy",
        "outputId": "7364b120-7976-41b5-ccb0-faf195704e4c"
      },
      "source": [
        "cmd_list = ['wikipathways','import-as-pathway','id=\"',df[\"id\"][0],'\"']\n",
        "cmd = \" \".join(cmd_list)\n",
        "p4c.commands.commands_get(cmd) "
      ],
      "execution_count": null,
      "outputs": [
        {
          "output_type": "execute_result",
          "data": {
            "text/plain": [
              "[]"
            ]
          },
          "metadata": {
            "tags": []
          },
          "execution_count": 28
        }
      ]
    },
    {
      "cell_type": "markdown",
      "metadata": {
        "id": "fih-go1p0hqy"
      },
      "source": [
        "To open the pathway as a network, run the following chunk.\n",
        "\n"
      ]
    },
    {
      "cell_type": "code",
      "metadata": {
        "id": "WZ-CwY4S0hqy",
        "outputId": "6e43b3b4-8c06-48a2-f9cd-51b6073836ef"
      },
      "source": [
        "cmd_list = ['wikipathways','import-as-network','id=\"',df[\"id\"][0],'\"']\n",
        "cmd = \" \".join(cmd_list)\n",
        "p4c.commands.commands_get(cmd) "
      ],
      "execution_count": null,
      "outputs": [
        {
          "output_type": "execute_result",
          "data": {
            "text/plain": [
              "[]"
            ]
          },
          "metadata": {
            "tags": []
          },
          "execution_count": 29
        }
      ]
    },
    {
      "cell_type": "markdown",
      "metadata": {
        "id": "AGi4WHSI0hqy"
      },
      "source": [
        "# Local and Remote Files\n",
        "Cytoscape can load locally and remotely stored network data files in a variety of file formats:\n",
        "\n",
        "- SIF: Simple interaction format\n",
        "- NNF: Nested network format\n",
        "- GML and XGMML formats\n",
        "- CYS: Cytoscape session file\n",
        "- Delimited text and Excel format"
      ]
    },
    {
      "cell_type": "markdown",
      "metadata": {
        "id": "mtsgeLC50hqz"
      },
      "source": [
        "## Loading SIF files\n",
        "SIF is a simple interaction format consisting of three columns of data: source, interaction and target. To learn more about the SIF format, see the Cytoscape manual.\n",
        "\n",
        "Download galFiltered.sif and load the network via"
      ]
    },
    {
      "cell_type": "code",
      "metadata": {
        "scrolled": true,
        "id": "b2FRZ1AS0hqz",
        "outputId": "63435ceb-9b78-4b6a-b6b4-5071f67572a1"
      },
      "source": [
        "sif_url = \"https://cytoscape.github.io/cytoscape-tutorials/protocols/data/galFiltered.sif\"\n",
        "file_name = wget.download(sif_url)\n",
        "file_name"
      ],
      "execution_count": null,
      "outputs": [
        {
          "output_type": "execute_result",
          "data": {
            "text/plain": [
              "'galFiltered.sif'"
            ]
          },
          "metadata": {
            "tags": []
          },
          "execution_count": 30
        }
      ]
    },
    {
      "cell_type": "code",
      "metadata": {
        "id": "7lw8mlSg0hqz",
        "outputId": "e54b314e-697d-4d74-a61c-3a19237cda2f"
      },
      "source": [
        "p4c.sandbox.sandbox_send_to(file_name)"
      ],
      "execution_count": null,
      "outputs": [
        {
          "output_type": "execute_result",
          "data": {
            "text/plain": [
              "{'filePath': 'C:\\\\Users\\\\YihangXin\\\\CytoscapeConfiguration\\\\filetransfer\\\\default_sandbox\\\\galFiltered.sif'}"
            ]
          },
          "metadata": {
            "tags": []
          },
          "execution_count": 31
        }
      ]
    },
    {
      "cell_type": "code",
      "metadata": {
        "scrolled": true,
        "id": "qOpjkZck0hqz",
        "outputId": "808c7998-3b57-4b21-b4fe-c81e7c3e76e9"
      },
      "source": [
        "p4c.networks.import_network_from_file(file_name)"
      ],
      "execution_count": null,
      "outputs": [
        {
          "output_type": "execute_result",
          "data": {
            "text/plain": [
              "{'networks': [6083], 'views': [6786]}"
            ]
          },
          "metadata": {
            "tags": []
          },
          "execution_count": 32
        }
      ]
    },
    {
      "cell_type": "markdown",
      "metadata": {
        "id": "DVC5xXM30hqz"
      },
      "source": [
        "- To see the whole network, run"
      ]
    },
    {
      "cell_type": "code",
      "metadata": {
        "id": "pD25hHYs0hqz",
        "outputId": "b393b3bc-1c8c-4160-e3b3-20fb913c880b"
      },
      "source": [
        "p4c.network_views.fit_content()"
      ],
      "execution_count": null,
      "outputs": [
        {
          "output_type": "execute_result",
          "data": {
            "text/plain": [
              "{}"
            ]
          },
          "metadata": {
            "tags": []
          },
          "execution_count": 33
        }
      ]
    },
    {
      "cell_type": "markdown",
      "metadata": {
        "id": "VNnPyOB60hqz"
      },
      "source": [
        "## Loading XGMML files\n",
        "XGMML is an XML format and can includes node and edge attributes as well as visual style properties. To learn more about the XGMML format, see the Cytoscape manual.\n",
        "\n",
        "Download https://raw.githubusercontent.com/cytoscape/cytoscape-tutorials/gh-pages/protocols/data/BasicDataVizDemo.xgmml and load the network via"
      ]
    },
    {
      "cell_type": "code",
      "metadata": {
        "id": "2e2f-vgJ0hqz",
        "outputId": "518d5653-b611-4870-eb8a-5190d6d6b912"
      },
      "source": [
        "xgmll_url = \"https://raw.githubusercontent.com/cytoscape/cytoscape-tutorials/gh-pages/protocols/data/BasicDataVizDemo.xgmml\"\n",
        "file_name = wget.download(xgmll_url)\n",
        "file_name"
      ],
      "execution_count": null,
      "outputs": [
        {
          "output_type": "execute_result",
          "data": {
            "text/plain": [
              "'BasicDataVizDemo.xgmml'"
            ]
          },
          "metadata": {
            "tags": []
          },
          "execution_count": 34
        }
      ]
    },
    {
      "cell_type": "code",
      "metadata": {
        "id": "2d1krZka0hq0",
        "outputId": "672ade24-b548-4bac-f103-5adceedb7bcc"
      },
      "source": [
        "p4c.sandbox.sandbox_send_to(file_name)"
      ],
      "execution_count": null,
      "outputs": [
        {
          "output_type": "execute_result",
          "data": {
            "text/plain": [
              "{'filePath': 'C:\\\\Users\\\\YihangXin\\\\CytoscapeConfiguration\\\\filetransfer\\\\default_sandbox\\\\BasicDataVizDemo.xgmml'}"
            ]
          },
          "metadata": {
            "tags": []
          },
          "execution_count": 35
        }
      ]
    },
    {
      "cell_type": "code",
      "metadata": {
        "id": "jicGDtr_0hq0",
        "outputId": "684ce63f-1dbe-43f3-aa2d-d69234ad40cf"
      },
      "source": [
        "p4c.networks.import_network_from_file(file_name)"
      ],
      "execution_count": null,
      "outputs": [
        {
          "output_type": "execute_result",
          "data": {
            "text/plain": [
              "{'networks': [7480], 'views': [7852]}"
            ]
          },
          "metadata": {
            "tags": []
          },
          "execution_count": 36
        }
      ]
    }
  ]
}