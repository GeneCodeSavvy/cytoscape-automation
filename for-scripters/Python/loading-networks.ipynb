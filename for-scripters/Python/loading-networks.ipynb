{
 "cells": [
  {
   "cell_type": "markdown",
   "metadata": {},
   "source": [
    "# Loading Networks\n",
    "## Yihang Xin\n",
    "## 2020-11-14"
   ]
  },
  {
   "cell_type": "markdown",
   "metadata": {},
   "source": [
    "In Cytoscape, network data can be loaded from a variety of sources, and in several different formats. Where you get your network data depends on your biological question and analysis plan. This tutorial outlines how to load network data from several popular sources and formats.\n",
    "\n",
    "1. Public databases\n",
    "    * NDEx\n",
    "    * PSICQUIC\n",
    "    * STRING/STITCH\n",
    "    * WikiPathways\n",
    "2. Local and remote files\n",
    "3. Cytoscape apps (Biopax, KEGG and other formats)\n"
   ]
  },
  {
   "cell_type": "markdown",
   "metadata": {},
   "source": [
    "# Prerequisites\n",
    "## In addition to this package (py4cytoscape latest version 0.0.6), you will need:\n",
    "* Download the latest Cytoscape from http://www.cytoscape.org/download.php\n",
    "* Complete installation wizard\n",
    "* Launch Cytoscape\n",
    "For this vignette, you’ll also need the WikiPathways app to access the WikiPathways database from within Cytoscape.\n",
    "\n",
    "Install the WikiPathways app from http://apps.cytoscape.org/apps/wikipathways\n",
    "\n",
    "Install the STRING app from https://apps.cytoscape.org/apps/stringapp"
   ]
  },
  {
   "cell_type": "markdown",
   "metadata": {},
   "source": [
    "## Import the required package\n"
   ]
  },
  {
   "cell_type": "code",
   "execution_count": 1,
   "metadata": {},
   "outputs": [],
   "source": [
    "import os\n",
    "import sys\n",
    "import requests\n",
    "import pandas as pd\n",
    "import py4cytoscape as p4c\n",
    "import ndex2.client as nc\n",
    "import wget\n",
    "from lxml import etree as ET"
   ]
  },
  {
   "cell_type": "code",
   "execution_count": 2,
   "metadata": {},
   "outputs": [
    {
     "data": {
      "text/plain": [
       "{'apiVersion': 'v1',\n",
       " 'cytoscapeVersion': '3.8.2',\n",
       " 'automationAPIVersion': '1.0.0',\n",
       " 'py4cytoscapeVersion': '0.0.6'}"
      ]
     },
     "execution_count": 2,
     "metadata": {},
     "output_type": "execute_result"
    }
   ],
   "source": [
    "# Check Version\n",
    "p4c.cytoscape_version_info()"
   ]
  },
  {
   "cell_type": "markdown",
   "metadata": {},
   "source": [
    "# Networks from Public Data\n",
    "Cytoscape includes a Network Search tool for easy import of public network data. In addition to core apps that are included with your Cytoscape installation (NDEx and PSICQUIC), the resources listed here will depend on which apps you have installed."
   ]
  },
  {
   "cell_type": "code",
   "execution_count": 3,
   "metadata": {},
   "outputs": [
    {
     "data": {
      "text/plain": [
       "[{'appName': 'CyNDEx-2',\n",
       "  'version': '3.3.1',\n",
       "  'description': 'null',\n",
       "  'status': 'Installed'},\n",
       " {'appName': 'Diffusion',\n",
       "  'version': '1.6.1',\n",
       "  'description': 'null',\n",
       "  'status': 'Installed'},\n",
       " {'appName': 'WikiPathways',\n",
       "  'version': '3.3.7',\n",
       "  'description': 'null',\n",
       "  'status': 'Installed'},\n",
       " {'appName': 'Network Merge',\n",
       "  'version': '3.9.2',\n",
       "  'description': 'null',\n",
       "  'status': 'Installed'},\n",
       " {'appName': 'JSON Support',\n",
       "  'version': '3.7.0',\n",
       "  'description': 'null',\n",
       "  'status': 'Installed'},\n",
       " {'appName': 'BioPAX Reader',\n",
       "  'version': '3.4.0',\n",
       "  'description': 'null',\n",
       "  'status': 'Installed'},\n",
       " {'appName': 'cyBrowser',\n",
       "  'version': '1.2.3',\n",
       "  'description': 'null',\n",
       "  'status': 'Installed'},\n",
       " {'appName': 'PSI-MI Reader',\n",
       "  'version': '3.4.0',\n",
       "  'description': 'null',\n",
       "  'status': 'Installed'},\n",
       " {'appName': 'SBML Reader',\n",
       "  'version': '3.4.0',\n",
       "  'description': 'null',\n",
       "  'status': 'Installed'},\n",
       " {'appName': 'cyChart',\n",
       "  'version': '0.3.0',\n",
       "  'description': 'null',\n",
       "  'status': 'Installed'},\n",
       " {'appName': 'CyCL',\n",
       "  'version': '3.6.0',\n",
       "  'description': 'null',\n",
       "  'status': 'Installed'},\n",
       " {'appName': 'NetworkAnalyzer',\n",
       "  'version': '4.4.6',\n",
       "  'description': 'null',\n",
       "  'status': 'Installed'},\n",
       " {'appName': 'FileTransfer',\n",
       "  'version': '1.0',\n",
       "  'description': 'null',\n",
       "  'status': 'Installed'},\n",
       " {'appName': 'Core Apps',\n",
       "  'version': '3.7.0',\n",
       "  'description': 'null',\n",
       "  'status': 'Installed'},\n",
       " {'appName': 'ID Mapper',\n",
       "  'version': '3.9.0',\n",
       "  'description': 'null',\n",
       "  'status': 'Installed'},\n",
       " {'appName': 'OpenCL Prefuse Layout',\n",
       "  'version': '3.6.0',\n",
       "  'description': 'null',\n",
       "  'status': 'Installed'},\n",
       " {'appName': 'enhancedGraphics',\n",
       "  'version': '1.5.4',\n",
       "  'description': 'null',\n",
       "  'status': 'Installed'},\n",
       " {'appName': 'CX Support',\n",
       "  'version': '2.5.0',\n",
       "  'description': 'null',\n",
       "  'status': 'Installed'},\n",
       " {'appName': 'stringApp',\n",
       "  'version': '1.6.0',\n",
       "  'description': 'null',\n",
       "  'status': 'Installed'},\n",
       " {'appName': 'PSICQUIC Web Service Client',\n",
       "  'version': '3.5.0',\n",
       "  'description': 'null',\n",
       "  'status': 'Installed'},\n",
       " {'appName': 'cyREST',\n",
       "  'version': '3.11.1',\n",
       "  'description': 'null',\n",
       "  'status': 'Installed'},\n",
       " {'appName': 'copycatLayout',\n",
       "  'version': '1.3.1',\n",
       "  'description': 'null',\n",
       "  'status': 'Installed'},\n",
       " {'appName': 'yFiles Layout Algorithms',\n",
       "  'version': '1.1',\n",
       "  'description': 'null',\n",
       "  'status': 'Installed'},\n",
       " {'appName': 'Biomart Web Service Client',\n",
       "  'version': '3.4.0',\n",
       "  'description': 'null',\n",
       "  'status': 'Installed'}]"
      ]
     },
     "execution_count": 3,
     "metadata": {},
     "output_type": "execute_result"
    }
   ],
   "source": [
    "p4c.apps.get_installed_apps()"
   ]
  },
  {
   "cell_type": "markdown",
   "metadata": {},
   "source": [
    "# NDEx\n",
    "The NDEx Project provides an open-source framework where scientists and organizations can share, store, manipulate, and publish biological network knowledge.\n",
    "* To search NDEx run the following code chunk. Here, we use “TP53 AND BARD1” as our search terms."
   ]
  },
  {
   "cell_type": "code",
   "execution_count": 4,
   "metadata": {},
   "outputs": [],
   "source": [
    "anon_ndex=nc.Ndex2(\"http://public.ndexbio.org\")\n",
    "anon_ndex.update_status()"
   ]
  },
  {
   "cell_type": "code",
   "execution_count": 5,
   "metadata": {},
   "outputs": [],
   "source": [
    "networks = anon_ndex.search_networks(search_string='TP53 AND BARD1')\n",
    "df_dict = networks[\"networks\"]"
   ]
  },
  {
   "cell_type": "code",
   "execution_count": 6,
   "metadata": {},
   "outputs": [],
   "source": [
    "ownerUUID_list = []\n",
    "externalId_list = []\n",
    "nodeCount_list = []\n",
    "edgeCount_list = []"
   ]
  },
  {
   "cell_type": "code",
   "execution_count": 7,
   "metadata": {},
   "outputs": [],
   "source": [
    "for d in df_dict:\n",
    "    ownerUUID_list.append(d[\"ownerUUID\"])\n",
    "    externalId_list.append(d[\"externalId\"])\n",
    "    nodeCount_list.append(d[\"nodeCount\"])\n",
    "    edgeCount_list.append(d[\"edgeCount\"])"
   ]
  },
  {
   "cell_type": "code",
   "execution_count": 8,
   "metadata": {},
   "outputs": [
    {
     "data": {
      "text/html": [
       "<div>\n",
       "<style scoped>\n",
       "    .dataframe tbody tr th:only-of-type {\n",
       "        vertical-align: middle;\n",
       "    }\n",
       "\n",
       "    .dataframe tbody tr th {\n",
       "        vertical-align: top;\n",
       "    }\n",
       "\n",
       "    .dataframe thead th {\n",
       "        text-align: right;\n",
       "    }\n",
       "</style>\n",
       "<table border=\"1\" class=\"dataframe\">\n",
       "  <thead>\n",
       "    <tr style=\"text-align: right;\">\n",
       "      <th></th>\n",
       "      <th>ownerUUID</th>\n",
       "      <th>externalId</th>\n",
       "      <th>nodeCount</th>\n",
       "      <th>edgeCount</th>\n",
       "    </tr>\n",
       "  </thead>\n",
       "  <tbody>\n",
       "    <tr>\n",
       "      <th>0</th>\n",
       "      <td>301a91c6-a37b-11e4-bda0-000c29202374</td>\n",
       "      <td>5a1fcfb9-78c3-11e8-a4bf-0ac135e8bacf</td>\n",
       "      <td>30</td>\n",
       "      <td>101</td>\n",
       "    </tr>\n",
       "    <tr>\n",
       "      <th>1</th>\n",
       "      <td>363f49e0-4cf0-11e9-9f06-0ac135e8bacf</td>\n",
       "      <td>0d4f26c3-f912-11ea-99da-0ac135e8bacf</td>\n",
       "      <td>255</td>\n",
       "      <td>403</td>\n",
       "    </tr>\n",
       "    <tr>\n",
       "      <th>2</th>\n",
       "      <td>363f49e0-4cf0-11e9-9f06-0ac135e8bacf</td>\n",
       "      <td>7f6602f1-f916-11ea-99da-0ac135e8bacf</td>\n",
       "      <td>213</td>\n",
       "      <td>198</td>\n",
       "    </tr>\n",
       "    <tr>\n",
       "      <th>3</th>\n",
       "      <td>363f49e0-4cf0-11e9-9f06-0ac135e8bacf</td>\n",
       "      <td>c8a2cdf5-204b-11ea-bb65-0ac135e8bacf</td>\n",
       "      <td>213</td>\n",
       "      <td>198</td>\n",
       "    </tr>\n",
       "    <tr>\n",
       "      <th>4</th>\n",
       "      <td>363f49e0-4cf0-11e9-9f06-0ac135e8bacf</td>\n",
       "      <td>fdfc44e6-f911-11ea-99da-0ac135e8bacf</td>\n",
       "      <td>59</td>\n",
       "      <td>51</td>\n",
       "    </tr>\n",
       "  </tbody>\n",
       "</table>\n",
       "</div>"
      ],
      "text/plain": [
       "                              ownerUUID                            externalId  \\\n",
       "0  301a91c6-a37b-11e4-bda0-000c29202374  5a1fcfb9-78c3-11e8-a4bf-0ac135e8bacf   \n",
       "1  363f49e0-4cf0-11e9-9f06-0ac135e8bacf  0d4f26c3-f912-11ea-99da-0ac135e8bacf   \n",
       "2  363f49e0-4cf0-11e9-9f06-0ac135e8bacf  7f6602f1-f916-11ea-99da-0ac135e8bacf   \n",
       "3  363f49e0-4cf0-11e9-9f06-0ac135e8bacf  c8a2cdf5-204b-11ea-bb65-0ac135e8bacf   \n",
       "4  363f49e0-4cf0-11e9-9f06-0ac135e8bacf  fdfc44e6-f911-11ea-99da-0ac135e8bacf   \n",
       "\n",
       "   nodeCount  edgeCount  \n",
       "0         30        101  \n",
       "1        255        403  \n",
       "2        213        198  \n",
       "3        213        198  \n",
       "4         59         51  "
      ]
     },
     "execution_count": 8,
     "metadata": {},
     "output_type": "execute_result"
    }
   ],
   "source": [
    "df = pd.DataFrame(list(zip(ownerUUID_list,externalId_list,nodeCount_list,edgeCount_list)), columns =['ownerUUID', 'externalId','nodeCount','edgeCount'])\n",
    "df.head()"
   ]
  },
  {
   "cell_type": "code",
   "execution_count": 9,
   "metadata": {},
   "outputs": [],
   "source": [
    "networkId = df[\"externalId\"][0]"
   ]
  },
  {
   "cell_type": "markdown",
   "metadata": {},
   "source": [
    "To import the network into Cytoscape, run the following code chunk.\n"
   ]
  },
  {
   "cell_type": "code",
   "execution_count": 10,
   "metadata": {},
   "outputs": [
    {
     "data": {
      "text/plain": [
       "9677"
      ]
     },
     "execution_count": 10,
     "metadata": {},
     "output_type": "execute_result"
    }
   ],
   "source": [
    "p4c.cy_ndex.import_network_from_ndex(networkId)"
   ]
  },
  {
   "cell_type": "markdown",
   "metadata": {},
   "source": [
    "# STRING/STITCH\n",
    "STRING is a database of known and predicted protein-protein interactions, and STITCH stored known and predicted interactions between chemicals and proteins. Data types include:\n",
    "\n",
    "* Genomic Context Predictions\n",
    "* High-throughput Lab Experiments\n",
    "* (Conserved) Co-Expression\n",
    "* Automated Textmining\n",
    "* Previous Knowledge in Databases\n",
    "\n",
    "To search STRING with the disease keyword “ovarian cancer”, run the following code chunk. (The resulting network will load automatically.)"
   ]
  },
  {
   "cell_type": "code",
   "execution_count": 11,
   "metadata": {},
   "outputs": [
    {
     "data": {
      "text/plain": [
       "[\"Loaded network 'String Network - ovarian cancer - 1' with 100 nodes and 2238 edges\"]"
      ]
     },
     "execution_count": 11,
     "metadata": {},
     "output_type": "execute_result"
    }
   ],
   "source": [
    "string_cmd_list = ['string disease query','disease=\"ovarian cancer\"']\n",
    "string_cmd = \" \".join(string_cmd_list)\n",
    "p4c.commands.commands_run(string_cmd)"
   ]
  },
  {
   "cell_type": "markdown",
   "metadata": {},
   "source": [
    "* Networks load with a STRING-specific style, which includes 3D protein structure diagrams.\n"
   ]
  },
  {
   "cell_type": "code",
   "execution_count": 12,
   "metadata": {},
   "outputs": [
    {
     "data": {
      "text/plain": [
       "{'file': 'C:\\\\Users\\\\YihangXin\\\\CytoscapeConfiguration\\\\filetransfer\\\\default_sandbox\\\\ovarian_cancer.png'}"
      ]
     },
     "execution_count": 12,
     "metadata": {},
     "output_type": "execute_result"
    }
   ],
   "source": [
    "p4c.network_views.export_image('ovarian_cancer', type='PNG')"
   ]
  },
  {
   "cell_type": "markdown",
   "metadata": {},
   "source": [
    "* STRING networks also inlcude data as node/interaction attributes, that can be used to create a Style."
   ]
  },
  {
   "cell_type": "code",
   "execution_count": 13,
   "metadata": {},
   "outputs": [],
   "source": [
    "column_names = p4c.tables.get_table_column_names()\n",
    "column_names.remove( 'stringdb::structures')"
   ]
  },
  {
   "cell_type": "code",
   "execution_count": 14,
   "metadata": {},
   "outputs": [
    {
     "data": {
      "text/html": [
       "<div>\n",
       "<style scoped>\n",
       "    .dataframe tbody tr th:only-of-type {\n",
       "        vertical-align: middle;\n",
       "    }\n",
       "\n",
       "    .dataframe tbody tr th {\n",
       "        vertical-align: top;\n",
       "    }\n",
       "\n",
       "    .dataframe thead th {\n",
       "        text-align: right;\n",
       "    }\n",
       "</style>\n",
       "<table border=\"1\" class=\"dataframe\">\n",
       "  <thead>\n",
       "    <tr style=\"text-align: right;\">\n",
       "      <th></th>\n",
       "      <th>SUID</th>\n",
       "      <th>shared name</th>\n",
       "      <th>name</th>\n",
       "      <th>selected</th>\n",
       "      <th>stringdb::canonical name</th>\n",
       "      <th>display name</th>\n",
       "      <th>stringdb::full name</th>\n",
       "      <th>stringdb::database identifier</th>\n",
       "      <th>stringdb::description</th>\n",
       "      <th>@id</th>\n",
       "      <th>...</th>\n",
       "      <th>tissue::muscle</th>\n",
       "      <th>tissue::nervous system</th>\n",
       "      <th>tissue::pancreas</th>\n",
       "      <th>tissue::saliva</th>\n",
       "      <th>tissue::skin</th>\n",
       "      <th>tissue::spleen</th>\n",
       "      <th>tissue::stomach</th>\n",
       "      <th>tissue::thyroid gland</th>\n",
       "      <th>tissue::urine</th>\n",
       "      <th>stringdb::disease score</th>\n",
       "    </tr>\n",
       "  </thead>\n",
       "  <tbody>\n",
       "    <tr>\n",
       "      <th>9984</th>\n",
       "      <td>9984</td>\n",
       "      <td>9606.ENSP00000386559</td>\n",
       "      <td>9606.ENSP00000386559</td>\n",
       "      <td>False</td>\n",
       "      <td>P01732</td>\n",
       "      <td>CD8A</td>\n",
       "      <td>None</td>\n",
       "      <td>9606.ENSP00000386559</td>\n",
       "      <td>T-lymphocyte differentiation antigen T8/Leu-2;...</td>\n",
       "      <td>stringdb:9606.ENSP00000386559</td>\n",
       "      <td>...</td>\n",
       "      <td>2.71942</td>\n",
       "      <td>3.33795</td>\n",
       "      <td>2.62511</td>\n",
       "      <td>2.6662</td>\n",
       "      <td>3.09994</td>\n",
       "      <td>4.76379</td>\n",
       "      <td>2.81467</td>\n",
       "      <td>2.36684</td>\n",
       "      <td>2.27309</td>\n",
       "      <td>2.937</td>\n",
       "    </tr>\n",
       "    <tr>\n",
       "      <th>9985</th>\n",
       "      <td>9985</td>\n",
       "      <td>9606.ENSP00000288602</td>\n",
       "      <td>9606.ENSP00000288602</td>\n",
       "      <td>False</td>\n",
       "      <td>Q3MIN6</td>\n",
       "      <td>BRAF</td>\n",
       "      <td>None</td>\n",
       "      <td>9606.ENSP00000288602</td>\n",
       "      <td>v-Raf murine sarcoma viral oncogene homolog B1...</td>\n",
       "      <td>stringdb:9606.ENSP00000288602</td>\n",
       "      <td>...</td>\n",
       "      <td>2.15169</td>\n",
       "      <td>4.61342</td>\n",
       "      <td>1.86505</td>\n",
       "      <td>1.29641</td>\n",
       "      <td>2.39333</td>\n",
       "      <td>2.30836</td>\n",
       "      <td>1.81651</td>\n",
       "      <td>2.63527</td>\n",
       "      <td>1.30629</td>\n",
       "      <td>3.14864</td>\n",
       "    </tr>\n",
       "    <tr>\n",
       "      <th>9986</th>\n",
       "      <td>9986</td>\n",
       "      <td>9606.ENSP00000320147</td>\n",
       "      <td>9606.ENSP00000320147</td>\n",
       "      <td>False</td>\n",
       "      <td>Q15910</td>\n",
       "      <td>EZH2</td>\n",
       "      <td>None</td>\n",
       "      <td>9606.ENSP00000320147</td>\n",
       "      <td>Enhancer of zeste 2 polycomb repressive comple...</td>\n",
       "      <td>stringdb:9606.ENSP00000320147</td>\n",
       "      <td>...</td>\n",
       "      <td>2.35256</td>\n",
       "      <td>4.65875</td>\n",
       "      <td>4.42839</td>\n",
       "      <td>1.28562</td>\n",
       "      <td>2.96434</td>\n",
       "      <td>2.30101</td>\n",
       "      <td>2.12785</td>\n",
       "      <td>1.856</td>\n",
       "      <td>1.49375</td>\n",
       "      <td>2.57885</td>\n",
       "    </tr>\n",
       "    <tr>\n",
       "      <th>9987</th>\n",
       "      <td>9987</td>\n",
       "      <td>9606.ENSP00000263025</td>\n",
       "      <td>9606.ENSP00000263025</td>\n",
       "      <td>False</td>\n",
       "      <td>P27361</td>\n",
       "      <td>MAPK3</td>\n",
       "      <td>None</td>\n",
       "      <td>9606.ENSP00000263025</td>\n",
       "      <td>Extracellular signal-regulated kinase 1; Serin...</td>\n",
       "      <td>stringdb:9606.ENSP00000263025</td>\n",
       "      <td>...</td>\n",
       "      <td>3.57996</td>\n",
       "      <td>4.67236</td>\n",
       "      <td>3.02153</td>\n",
       "      <td>2.6346</td>\n",
       "      <td>3.41705</td>\n",
       "      <td>3.20468</td>\n",
       "      <td>3.21876</td>\n",
       "      <td>3.08721</td>\n",
       "      <td>2.4265</td>\n",
       "      <td>2.61742</td>\n",
       "    </tr>\n",
       "    <tr>\n",
       "      <th>9988</th>\n",
       "      <td>9988</td>\n",
       "      <td>9606.ENSP00000354558</td>\n",
       "      <td>9606.ENSP00000354558</td>\n",
       "      <td>False</td>\n",
       "      <td>P42345</td>\n",
       "      <td>MTOR</td>\n",
       "      <td>None</td>\n",
       "      <td>9606.ENSP00000354558</td>\n",
       "      <td>FK506-binding protein 12-rapamycin complex-ass...</td>\n",
       "      <td>stringdb:9606.ENSP00000354558</td>\n",
       "      <td>...</td>\n",
       "      <td>3.44592</td>\n",
       "      <td>4.90812</td>\n",
       "      <td>2.93785</td>\n",
       "      <td>2.15169</td>\n",
       "      <td>3.943</td>\n",
       "      <td>2.82402</td>\n",
       "      <td>2.56994</td>\n",
       "      <td>2.6197</td>\n",
       "      <td>1.99613</td>\n",
       "      <td>2.58686</td>\n",
       "    </tr>\n",
       "  </tbody>\n",
       "</table>\n",
       "<p>5 rows × 51 columns</p>\n",
       "</div>"
      ],
      "text/plain": [
       "      SUID           shared name                  name selected  \\\n",
       "9984  9984  9606.ENSP00000386559  9606.ENSP00000386559    False   \n",
       "9985  9985  9606.ENSP00000288602  9606.ENSP00000288602    False   \n",
       "9986  9986  9606.ENSP00000320147  9606.ENSP00000320147    False   \n",
       "9987  9987  9606.ENSP00000263025  9606.ENSP00000263025    False   \n",
       "9988  9988  9606.ENSP00000354558  9606.ENSP00000354558    False   \n",
       "\n",
       "     stringdb::canonical name display name stringdb::full name  \\\n",
       "9984                   P01732         CD8A                None   \n",
       "9985                   Q3MIN6         BRAF                None   \n",
       "9986                   Q15910         EZH2                None   \n",
       "9987                   P27361        MAPK3                None   \n",
       "9988                   P42345         MTOR                None   \n",
       "\n",
       "     stringdb::database identifier  \\\n",
       "9984          9606.ENSP00000386559   \n",
       "9985          9606.ENSP00000288602   \n",
       "9986          9606.ENSP00000320147   \n",
       "9987          9606.ENSP00000263025   \n",
       "9988          9606.ENSP00000354558   \n",
       "\n",
       "                                  stringdb::description  \\\n",
       "9984  T-lymphocyte differentiation antigen T8/Leu-2;...   \n",
       "9985  v-Raf murine sarcoma viral oncogene homolog B1...   \n",
       "9986  Enhancer of zeste 2 polycomb repressive comple...   \n",
       "9987  Extracellular signal-regulated kinase 1; Serin...   \n",
       "9988  FK506-binding protein 12-rapamycin complex-ass...   \n",
       "\n",
       "                                @id  ... tissue::muscle  \\\n",
       "9984  stringdb:9606.ENSP00000386559  ...        2.71942   \n",
       "9985  stringdb:9606.ENSP00000288602  ...        2.15169   \n",
       "9986  stringdb:9606.ENSP00000320147  ...        2.35256   \n",
       "9987  stringdb:9606.ENSP00000263025  ...        3.57996   \n",
       "9988  stringdb:9606.ENSP00000354558  ...        3.44592   \n",
       "\n",
       "     tissue::nervous system tissue::pancreas tissue::saliva tissue::skin  \\\n",
       "9984                3.33795          2.62511         2.6662      3.09994   \n",
       "9985                4.61342          1.86505        1.29641      2.39333   \n",
       "9986                4.65875          4.42839        1.28562      2.96434   \n",
       "9987                4.67236          3.02153         2.6346      3.41705   \n",
       "9988                4.90812          2.93785        2.15169        3.943   \n",
       "\n",
       "     tissue::spleen tissue::stomach tissue::thyroid gland tissue::urine  \\\n",
       "9984        4.76379         2.81467               2.36684       2.27309   \n",
       "9985        2.30836         1.81651               2.63527       1.30629   \n",
       "9986        2.30101         2.12785                 1.856       1.49375   \n",
       "9987        3.20468         3.21876               3.08721        2.4265   \n",
       "9988        2.82402         2.56994                2.6197       1.99613   \n",
       "\n",
       "     stringdb::disease score  \n",
       "9984                   2.937  \n",
       "9985                 3.14864  \n",
       "9986                 2.57885  \n",
       "9987                 2.61742  \n",
       "9988                 2.58686  \n",
       "\n",
       "[5 rows x 51 columns]"
      ]
     },
     "execution_count": 14,
     "metadata": {},
     "output_type": "execute_result"
    }
   ],
   "source": [
    "df = p4c.tables.get_table_columns(columns=column_names)\n",
    "df.head()"
   ]
  },
  {
   "cell_type": "markdown",
   "metadata": {},
   "source": [
    "* The STRING app includes options to change interaction confidence level, expand the network etc."
   ]
  },
  {
   "cell_type": "code",
   "execution_count": 15,
   "metadata": {},
   "outputs": [
    {
     "data": {
      "text/plain": [
       "2238"
      ]
     },
     "execution_count": 15,
     "metadata": {},
     "output_type": "execute_result"
    }
   ],
   "source": [
    "p4c.networks.get_edge_count() #Before changing interaction confidence level"
   ]
  },
  {
   "cell_type": "code",
   "execution_count": 16,
   "metadata": {},
   "outputs": [
    {
     "data": {
      "text/plain": [
       "['']"
      ]
     },
     "execution_count": 16,
     "metadata": {},
     "output_type": "execute_result"
    }
   ],
   "source": [
    "string_cmd_list = ['string change confidence confidence=0.9 network=CURRENT']\n",
    "string_cmd = \" \".join(string_cmd_list)\n",
    "p4c.commands.commands_run(string_cmd)"
   ]
  },
  {
   "cell_type": "code",
   "execution_count": 17,
   "metadata": {},
   "outputs": [
    {
     "data": {
      "text/plain": [
       "443"
      ]
     },
     "execution_count": 17,
     "metadata": {},
     "output_type": "execute_result"
    }
   ],
   "source": [
    "p4c.networks.get_edge_count() #After changing interaction confidence level"
   ]
  },
  {
   "cell_type": "code",
   "execution_count": 18,
   "metadata": {},
   "outputs": [
    {
     "data": {
      "text/plain": [
       "{'file': 'C:\\\\Users\\\\YihangXin\\\\CytoscapeConfiguration\\\\filetransfer\\\\default_sandbox\\\\before_expand.png'}"
      ]
     },
     "execution_count": 18,
     "metadata": {},
     "output_type": "execute_result"
    }
   ],
   "source": [
    "p4c.network_views.export_image('before_expand', type='PNG')"
   ]
  },
  {
   "cell_type": "code",
   "execution_count": 19,
   "metadata": {},
   "outputs": [
    {
     "data": {
      "text/plain": [
       "[\"Loaded network 'String Network - ovarian cancer - 1' with 110 nodes and 613 edges\"]"
      ]
     },
     "execution_count": 19,
     "metadata": {},
     "output_type": "execute_result"
    }
   ],
   "source": [
    "string_cmd_list = ['string expand network=CURRENT']\n",
    "string_cmd = \" \".join(string_cmd_list)\n",
    "p4c.commands.commands_run(string_cmd)"
   ]
  },
  {
   "cell_type": "code",
   "execution_count": 20,
   "metadata": {},
   "outputs": [
    {
     "data": {
      "text/plain": [
       "{'file': 'C:\\\\Users\\\\YihangXin\\\\CytoscapeConfiguration\\\\filetransfer\\\\default_sandbox\\\\after_expand.png'}"
      ]
     },
     "execution_count": 20,
     "metadata": {},
     "output_type": "execute_result"
    }
   ],
   "source": [
    "p4c.network_views.export_image('after_expand', type='PNG')"
   ]
  },
  {
   "cell_type": "markdown",
   "metadata": {},
   "source": [
    "# WikiPathways"
   ]
  },
  {
   "cell_type": "markdown",
   "metadata": {},
   "source": [
    "WikiPathways is a collaborative wiki platform with manually pathway models. It currently covers over 2,600 pathways in 25 species-specific collections.\n",
    "\n",
    "* To search WikiPathways, load rWikiPathways and call the find_pathways_by_text function with your search terms (here we use ‘statin’ as the term)"
   ]
  },
  {
   "cell_type": "code",
   "execution_count": 21,
   "metadata": {},
   "outputs": [],
   "source": [
    "def find_pathways_by_text(query, species):\n",
    "    base_iri = 'http://webservice.wikipathways.org/'\n",
    "    request_params = {'query':query, 'species':species}\n",
    "    response = requests.get(base_iri + 'findPathwaysByText', params=request_params)\n",
    "    return response"
   ]
  },
  {
   "cell_type": "code",
   "execution_count": 22,
   "metadata": {},
   "outputs": [],
   "source": [
    "response = find_pathways_by_text(\"statin\", \"Homo sapiens\") # restrict the results to Homo sapiens"
   ]
  },
  {
   "cell_type": "code",
   "execution_count": 23,
   "metadata": {},
   "outputs": [],
   "source": [
    "def find_pathway_dataframe(response):\n",
    "    data = response.text\n",
    "    dom = ET.fromstring(data)\n",
    "    pathways = []\n",
    "    NAMESPACES = {'ns1':'http://www.wso2.org/php/xsd','ns2':'http://www.wikipathways.org/webservice/'}\n",
    "    for node in dom.findall('ns1:result', NAMESPACES):\n",
    "        pathway_using_api_terms = {}\n",
    "        for child in node:\n",
    "            pathway_using_api_terms[ET.QName(child).localname] = child.text\n",
    "            pathways.append(pathway_using_api_terms)\n",
    "    id_list = []\n",
    "    score_list = []\n",
    "    url_list = []\n",
    "    name_list = []\n",
    "    species_list = []\n",
    "    revision_list = []\n",
    "    for p in pathways:\n",
    "        id_list.append(p[\"id\"])\n",
    "        score_list.append(p[\"score\"])\n",
    "        url_list.append(p[\"url\"])\n",
    "        name_list.append(p[\"name\"])\n",
    "        species_list.append(p[\"species\"])\n",
    "        revision_list.append(p[\"revision\"])\n",
    "    df = pd.DataFrame(list(zip(id_list,score_list,url_list,name_list,species_list,revision_list)), columns =['id', 'score','url','name','species','revision'])\n",
    "    return df"
   ]
  },
  {
   "cell_type": "code",
   "execution_count": 24,
   "metadata": {},
   "outputs": [
    {
     "data": {
      "text/html": [
       "<div>\n",
       "<style scoped>\n",
       "    .dataframe tbody tr th:only-of-type {\n",
       "        vertical-align: middle;\n",
       "    }\n",
       "\n",
       "    .dataframe tbody tr th {\n",
       "        vertical-align: top;\n",
       "    }\n",
       "\n",
       "    .dataframe thead th {\n",
       "        text-align: right;\n",
       "    }\n",
       "</style>\n",
       "<table border=\"1\" class=\"dataframe\">\n",
       "  <thead>\n",
       "    <tr style=\"text-align: right;\">\n",
       "      <th></th>\n",
       "      <th>id</th>\n",
       "      <th>score</th>\n",
       "      <th>url</th>\n",
       "      <th>name</th>\n",
       "      <th>species</th>\n",
       "      <th>revision</th>\n",
       "    </tr>\n",
       "  </thead>\n",
       "  <tbody>\n",
       "    <tr>\n",
       "      <th>0</th>\n",
       "      <td>WP430</td>\n",
       "      <td>4.9863944</td>\n",
       "      <td>https://www.wikipathways.org/index.php/Pathway...</td>\n",
       "      <td>Statin Pathway</td>\n",
       "      <td>Homo sapiens</td>\n",
       "      <td>108375</td>\n",
       "    </tr>\n",
       "    <tr>\n",
       "      <th>1</th>\n",
       "      <td>WP430</td>\n",
       "      <td>4.9863944</td>\n",
       "      <td>https://www.wikipathways.org/index.php/Pathway...</td>\n",
       "      <td>Statin Pathway</td>\n",
       "      <td>Homo sapiens</td>\n",
       "      <td>108375</td>\n",
       "    </tr>\n",
       "    <tr>\n",
       "      <th>2</th>\n",
       "      <td>WP430</td>\n",
       "      <td>4.9863944</td>\n",
       "      <td>https://www.wikipathways.org/index.php/Pathway...</td>\n",
       "      <td>Statin Pathway</td>\n",
       "      <td>Homo sapiens</td>\n",
       "      <td>108375</td>\n",
       "    </tr>\n",
       "    <tr>\n",
       "      <th>3</th>\n",
       "      <td>WP430</td>\n",
       "      <td>4.9863944</td>\n",
       "      <td>https://www.wikipathways.org/index.php/Pathway...</td>\n",
       "      <td>Statin Pathway</td>\n",
       "      <td>Homo sapiens</td>\n",
       "      <td>108375</td>\n",
       "    </tr>\n",
       "    <tr>\n",
       "      <th>4</th>\n",
       "      <td>WP430</td>\n",
       "      <td>4.9863944</td>\n",
       "      <td>https://www.wikipathways.org/index.php/Pathway...</td>\n",
       "      <td>Statin Pathway</td>\n",
       "      <td>Homo sapiens</td>\n",
       "      <td>108375</td>\n",
       "    </tr>\n",
       "    <tr>\n",
       "      <th>5</th>\n",
       "      <td>WP430</td>\n",
       "      <td>4.9863944</td>\n",
       "      <td>https://www.wikipathways.org/index.php/Pathway...</td>\n",
       "      <td>Statin Pathway</td>\n",
       "      <td>Homo sapiens</td>\n",
       "      <td>108375</td>\n",
       "    </tr>\n",
       "    <tr>\n",
       "      <th>6</th>\n",
       "      <td>WP3590</td>\n",
       "      <td>3.3777823</td>\n",
       "      <td>https://www.wikipathways.org/index.php/Pathway...</td>\n",
       "      <td>Demo</td>\n",
       "      <td>Homo sapiens</td>\n",
       "      <td>106743</td>\n",
       "    </tr>\n",
       "    <tr>\n",
       "      <th>7</th>\n",
       "      <td>WP3590</td>\n",
       "      <td>3.3777823</td>\n",
       "      <td>https://www.wikipathways.org/index.php/Pathway...</td>\n",
       "      <td>Demo</td>\n",
       "      <td>Homo sapiens</td>\n",
       "      <td>106743</td>\n",
       "    </tr>\n",
       "    <tr>\n",
       "      <th>8</th>\n",
       "      <td>WP3590</td>\n",
       "      <td>3.3777823</td>\n",
       "      <td>https://www.wikipathways.org/index.php/Pathway...</td>\n",
       "      <td>Demo</td>\n",
       "      <td>Homo sapiens</td>\n",
       "      <td>106743</td>\n",
       "    </tr>\n",
       "    <tr>\n",
       "      <th>9</th>\n",
       "      <td>WP3590</td>\n",
       "      <td>3.3777823</td>\n",
       "      <td>https://www.wikipathways.org/index.php/Pathway...</td>\n",
       "      <td>Demo</td>\n",
       "      <td>Homo sapiens</td>\n",
       "      <td>106743</td>\n",
       "    </tr>\n",
       "  </tbody>\n",
       "</table>\n",
       "</div>"
      ],
      "text/plain": [
       "       id      score                                                url  \\\n",
       "0   WP430  4.9863944  https://www.wikipathways.org/index.php/Pathway...   \n",
       "1   WP430  4.9863944  https://www.wikipathways.org/index.php/Pathway...   \n",
       "2   WP430  4.9863944  https://www.wikipathways.org/index.php/Pathway...   \n",
       "3   WP430  4.9863944  https://www.wikipathways.org/index.php/Pathway...   \n",
       "4   WP430  4.9863944  https://www.wikipathways.org/index.php/Pathway...   \n",
       "5   WP430  4.9863944  https://www.wikipathways.org/index.php/Pathway...   \n",
       "6  WP3590  3.3777823  https://www.wikipathways.org/index.php/Pathway...   \n",
       "7  WP3590  3.3777823  https://www.wikipathways.org/index.php/Pathway...   \n",
       "8  WP3590  3.3777823  https://www.wikipathways.org/index.php/Pathway...   \n",
       "9  WP3590  3.3777823  https://www.wikipathways.org/index.php/Pathway...   \n",
       "\n",
       "             name       species revision  \n",
       "0  Statin Pathway  Homo sapiens   108375  \n",
       "1  Statin Pathway  Homo sapiens   108375  \n",
       "2  Statin Pathway  Homo sapiens   108375  \n",
       "3  Statin Pathway  Homo sapiens   108375  \n",
       "4  Statin Pathway  Homo sapiens   108375  \n",
       "5  Statin Pathway  Homo sapiens   108375  \n",
       "6            Demo  Homo sapiens   106743  \n",
       "7            Demo  Homo sapiens   106743  \n",
       "8            Demo  Homo sapiens   106743  \n",
       "9            Demo  Homo sapiens   106743  "
      ]
     },
     "execution_count": 24,
     "metadata": {},
     "output_type": "execute_result"
    }
   ],
   "source": [
    "df = find_pathway_dataframe(response)\n",
    "df.head(10)"
   ]
  },
  {
   "cell_type": "code",
   "execution_count": 25,
   "metadata": {},
   "outputs": [
    {
     "data": {
      "text/html": [
       "<div>\n",
       "<style scoped>\n",
       "    .dataframe tbody tr th:only-of-type {\n",
       "        vertical-align: middle;\n",
       "    }\n",
       "\n",
       "    .dataframe tbody tr th {\n",
       "        vertical-align: top;\n",
       "    }\n",
       "\n",
       "    .dataframe thead th {\n",
       "        text-align: right;\n",
       "    }\n",
       "</style>\n",
       "<table border=\"1\" class=\"dataframe\">\n",
       "  <thead>\n",
       "    <tr style=\"text-align: right;\">\n",
       "      <th></th>\n",
       "      <th>id</th>\n",
       "      <th>score</th>\n",
       "      <th>url</th>\n",
       "      <th>name</th>\n",
       "      <th>species</th>\n",
       "      <th>revision</th>\n",
       "    </tr>\n",
       "  </thead>\n",
       "  <tbody>\n",
       "    <tr>\n",
       "      <th>0</th>\n",
       "      <td>WP430</td>\n",
       "      <td>4.9863944</td>\n",
       "      <td>https://www.wikipathways.org/index.php/Pathway...</td>\n",
       "      <td>Statin Pathway</td>\n",
       "      <td>Homo sapiens</td>\n",
       "      <td>108375</td>\n",
       "    </tr>\n",
       "    <tr>\n",
       "      <th>1</th>\n",
       "      <td>WP3590</td>\n",
       "      <td>3.3777823</td>\n",
       "      <td>https://www.wikipathways.org/index.php/Pathway...</td>\n",
       "      <td>Demo</td>\n",
       "      <td>Homo sapiens</td>\n",
       "      <td>106743</td>\n",
       "    </tr>\n",
       "    <tr>\n",
       "      <th>2</th>\n",
       "      <td>WP3539</td>\n",
       "      <td>3.2797348</td>\n",
       "      <td>https://www.wikipathways.org/index.php/Pathway...</td>\n",
       "      <td>WikiPathways Tutorial: demo_step3</td>\n",
       "      <td>Homo sapiens</td>\n",
       "      <td>106739</td>\n",
       "    </tr>\n",
       "    <tr>\n",
       "      <th>3</th>\n",
       "      <td>WP3418</td>\n",
       "      <td>3.2633936</td>\n",
       "      <td>https://www.wikipathways.org/index.php/Pathway...</td>\n",
       "      <td>Demo_complete</td>\n",
       "      <td>Homo sapiens</td>\n",
       "      <td>106736</td>\n",
       "    </tr>\n",
       "  </tbody>\n",
       "</table>\n",
       "</div>"
      ],
      "text/plain": [
       "       id      score                                                url  \\\n",
       "0   WP430  4.9863944  https://www.wikipathways.org/index.php/Pathway...   \n",
       "1  WP3590  3.3777823  https://www.wikipathways.org/index.php/Pathway...   \n",
       "2  WP3539  3.2797348  https://www.wikipathways.org/index.php/Pathway...   \n",
       "3  WP3418  3.2633936  https://www.wikipathways.org/index.php/Pathway...   \n",
       "\n",
       "                                name       species revision  \n",
       "0                     Statin Pathway  Homo sapiens   108375  \n",
       "1                               Demo  Homo sapiens   106743  \n",
       "2  WikiPathways Tutorial: demo_step3  Homo sapiens   106739  \n",
       "3                      Demo_complete  Homo sapiens   106736  "
      ]
     },
     "execution_count": 25,
     "metadata": {},
     "output_type": "execute_result"
    }
   ],
   "source": [
    "df = df.drop_duplicates()\n",
    "df = df.reset_index(drop=True)\n",
    "df"
   ]
  },
  {
   "cell_type": "code",
   "execution_count": 26,
   "metadata": {},
   "outputs": [
    {
     "data": {
      "text/plain": [
       "[]"
      ]
     },
     "execution_count": 26,
     "metadata": {},
     "output_type": "execute_result"
    }
   ],
   "source": [
    "cmd_list = ['wikipathways','import-as-pathway','id=\"',df[\"id\"][0],'\"']\n",
    "cmd = \" \".join(cmd_list)\n",
    "p4c.commands.commands_get(cmd) "
   ]
  },
  {
   "cell_type": "markdown",
   "metadata": {},
   "source": [
    "To open the pathway as a network, run the following chunk.\n",
    "\n"
   ]
  },
  {
   "cell_type": "code",
   "execution_count": 27,
   "metadata": {},
   "outputs": [
    {
     "data": {
      "text/plain": [
       "[]"
      ]
     },
     "execution_count": 27,
     "metadata": {},
     "output_type": "execute_result"
    }
   ],
   "source": [
    "cmd_list = ['wikipathways','import-as-network','id=\"',df[\"id\"][0],'\"']\n",
    "cmd = \" \".join(cmd_list)\n",
    "p4c.commands.commands_get(cmd) "
   ]
  },
  {
   "cell_type": "markdown",
   "metadata": {},
   "source": [
    "# Local and Remote Files\n",
    "Cytoscape can load locally and remotely stored network data files in a variety of file formats:\n",
    "\n",
    "- SIF: Simple interaction format\n",
    "- NNF: Nested network format\n",
    "- GML and XGMML formats\n",
    "- CYS: Cytoscape session file\n",
    "- Delimited text and Excel format"
   ]
  },
  {
   "cell_type": "markdown",
   "metadata": {},
   "source": [
    "## Loading SIF files\n",
    "SIF is a simple interaction format consisting of three columns of data: source, interaction and target. To learn more about the SIF format, see the Cytoscape manual.\n",
    "\n",
    "Download galFiltered.sif and load the network via"
   ]
  },
  {
   "cell_type": "code",
   "execution_count": 28,
   "metadata": {
    "scrolled": true
   },
   "outputs": [
    {
     "data": {
      "text/plain": [
       "'galFiltered.sif'"
      ]
     },
     "execution_count": 28,
     "metadata": {},
     "output_type": "execute_result"
    }
   ],
   "source": [
    "sif_url = \"https://cytoscape.github.io/cytoscape-tutorials/protocols/data/galFiltered.sif\"\n",
    "file_name = wget.download(sif_url)\n",
    "file_name"
   ]
  },
  {
   "cell_type": "code",
   "execution_count": 29,
   "metadata": {},
   "outputs": [
    {
     "data": {
      "text/plain": [
       "{'filePath': 'C:\\\\Users\\\\YihangXin\\\\CytoscapeConfiguration\\\\filetransfer\\\\default_sandbox\\\\galFiltered.sif'}"
      ]
     },
     "execution_count": 29,
     "metadata": {},
     "output_type": "execute_result"
    }
   ],
   "source": [
    "p4c.sandbox.sandbox_send_to(file_name)"
   ]
  },
  {
   "cell_type": "code",
   "execution_count": 30,
   "metadata": {
    "scrolled": true
   },
   "outputs": [
    {
     "data": {
      "text/plain": [
       "{'networks': [15709], 'views': [16412]}"
      ]
     },
     "execution_count": 30,
     "metadata": {},
     "output_type": "execute_result"
    }
   ],
   "source": [
    "p4c.networks.import_network_from_file(file_name)"
   ]
  },
  {
   "cell_type": "markdown",
   "metadata": {},
   "source": [
    "- To see the whole network, run"
   ]
  },
  {
   "cell_type": "code",
   "execution_count": 31,
   "metadata": {},
   "outputs": [
    {
     "data": {
      "text/plain": [
       "{}"
      ]
     },
     "execution_count": 31,
     "metadata": {},
     "output_type": "execute_result"
    }
   ],
   "source": [
    "p4c.network_views.fit_content()"
   ]
  },
  {
   "cell_type": "markdown",
   "metadata": {},
   "source": [
    "## Loading XGMML files\n",
    "XGMML is an XML format and can includes node and edge attributes as well as visual style properties. To learn more about the XGMML format, see the Cytoscape manual.\n",
    "\n",
    "Download https://raw.githubusercontent.com/cytoscape/cytoscape-tutorials/gh-pages/protocols/data/BasicDataVizDemo.xgmml and load the network via"
   ]
  },
  {
   "cell_type": "code",
   "execution_count": 32,
   "metadata": {},
   "outputs": [
    {
     "data": {
      "text/plain": [
       "'BasicDataVizDemo.xgmml'"
      ]
     },
     "execution_count": 32,
     "metadata": {},
     "output_type": "execute_result"
    }
   ],
   "source": [
    "xgmll_url = \"https://raw.githubusercontent.com/cytoscape/cytoscape-tutorials/gh-pages/protocols/data/BasicDataVizDemo.xgmml\"\n",
    "file_name = wget.download(xgmll_url)\n",
    "file_name"
   ]
  },
  {
   "cell_type": "code",
   "execution_count": 33,
   "metadata": {},
   "outputs": [
    {
     "data": {
      "text/plain": [
       "{'filePath': 'C:\\\\Users\\\\YihangXin\\\\CytoscapeConfiguration\\\\filetransfer\\\\default_sandbox\\\\BasicDataVizDemo.xgmml'}"
      ]
     },
     "execution_count": 33,
     "metadata": {},
     "output_type": "execute_result"
    }
   ],
   "source": [
    "p4c.sandbox.sandbox_send_to(file_name)"
   ]
  },
  {
   "cell_type": "code",
   "execution_count": 34,
   "metadata": {},
   "outputs": [
    {
     "data": {
      "text/plain": [
       "{'networks': [17106], 'views': [17478]}"
      ]
     },
     "execution_count": 34,
     "metadata": {},
     "output_type": "execute_result"
    }
   ],
   "source": [
    "p4c.networks.import_network_from_file(file_name)"
   ]
  }
 ],
 "metadata": {
  "kernelspec": {
   "display_name": "Python 3",
   "language": "python",
   "name": "python3"
  },
  "language_info": {
   "codemirror_mode": {
    "name": "ipython",
    "version": 3
   },
   "file_extension": ".py",
   "mimetype": "text/x-python",
   "name": "python",
   "nbconvert_exporter": "python",
   "pygments_lexer": "ipython3",
   "version": "3.7.3"
  }
 },
 "nbformat": 4,
 "nbformat_minor": 2
}
