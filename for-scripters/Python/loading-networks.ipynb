{
 "cells": [
  {
   "cell_type": "markdown",
   "metadata": {
    "colab_type": "text",
    "id": "view-in-github"
   },
   "source": [
    "<a href=\"https://colab.research.google.com/github/cytoscape/cytoscape-automation/blob/master/for-scripters/Python/loading-networks.ipynb\" target=\"_parent\"><img src=\"https://colab.research.google.com/assets/colab-badge.svg\" alt=\"Open In Colab\"/></a>"
   ]
  },
  {
   "cell_type": "markdown",
   "metadata": {
    "id": "DDYBBGE70hqi"
   },
   "source": [
    "# Loading Networks\n",
    "## Yihang Xin and Alex Pico\n",
    "## 2025-01-13"
   ]
  },
  {
   "cell_type": "markdown",
   "metadata": {
    "id": "0GT1u-VQ0hqk"
   },
   "source": [
    "In Cytoscape, network data can be loaded from a variety of sources, and in several different formats. Where you get your network data depends on your biological question and analysis plan. This tutorial outlines how to load network data from several popular sources and formats.\n",
    "\n",
    "1. Public databases\n",
    "    * NDEx\n",
    "    * PSICQUIC\n",
    "    * STRING/STITCH\n",
    "    * WikiPathways\n",
    "2. Local and remote files\n",
    "3. Cytoscape apps (Biopax, KEGG and other formats)\n"
   ]
  },
  {
   "cell_type": "markdown",
   "metadata": {
    "id": "L1UDFsmg0hql"
   },
   "source": [
    "# Installation\n",
    "The following chunk of code installs the `py4cytoscape` module."
   ]
  },
  {
   "cell_type": "code",
   "execution_count": 1,
   "metadata": {
    "id": "QVjds1oZ0hql"
   },
   "outputs": [],
   "source": [
    "%%capture\n",
    "!python3 -m pip install python-igraph requests pandas networkx\n",
    "!python3 -m pip install py4cytoscape\n",
    "!python3 -m pip install ndex2 wget"
   ]
  },
  {
   "cell_type": "markdown",
   "metadata": {
    "id": "9NcQAKp_0jxg"
   },
   "source": [
    "If you are using a remote notebook environment such as Google Colab, please execute the cell below. (If you're running on your local notebook, you don't need to do that.)\n",
    "\n"
   ]
  },
  {
   "cell_type": "code",
   "execution_count": 2,
   "metadata": {
    "colab": {
     "base_uri": "https://localhost:8080/",
     "height": 312
    },
    "id": "gG2_oZQ50lnt",
    "outputId": "5fce1c96-18ff-4101-ca67-94fabc3c5359"
   },
   "outputs": [
    {
     "name": "stdout",
     "output_type": "stream",
     "text": [
      "Requirement already satisfied: py4cytoscape in /opt/anaconda3/lib/python3.8/site-packages (0.0.10)\n",
      "Requirement already satisfied: networkx in /opt/anaconda3/lib/python3.8/site-packages (from py4cytoscape) (2.5)\n",
      "Requirement already satisfied: python-igraph in /opt/anaconda3/lib/python3.8/site-packages (from py4cytoscape) (0.8.3)\n",
      "Requirement already satisfied: pandas in /opt/anaconda3/lib/python3.8/site-packages (from py4cytoscape) (1.1.3)\n",
      "Requirement already satisfied: requests in /opt/anaconda3/lib/python3.8/site-packages (from py4cytoscape) (2.24.0)\n",
      "Requirement already satisfied: colorbrewer in /opt/anaconda3/lib/python3.8/site-packages (from py4cytoscape) (0.2.0)\n",
      "Requirement already satisfied: six in /opt/anaconda3/lib/python3.8/site-packages (from colorbrewer->py4cytoscape) (1.15.0)\n",
      "Requirement already satisfied: decorator>=4.3.0 in /opt/anaconda3/lib/python3.8/site-packages (from networkx->py4cytoscape) (4.4.2)\n",
      "Requirement already satisfied: python-dateutil>=2.7.3 in /opt/anaconda3/lib/python3.8/site-packages (from pandas->py4cytoscape) (2.8.1)\n",
      "Requirement already satisfied: pytz>=2017.2 in /opt/anaconda3/lib/python3.8/site-packages (from pandas->py4cytoscape) (2020.1)\n",
      "Requirement already satisfied: numpy>=1.15.4 in /opt/anaconda3/lib/python3.8/site-packages (from pandas->py4cytoscape) (1.19.2)\n",
      "Requirement already satisfied: texttable>=1.6.2 in /opt/anaconda3/lib/python3.8/site-packages (from python-igraph->py4cytoscape) (1.6.3)\n",
      "Requirement already satisfied: certifi>=2017.4.17 in /opt/anaconda3/lib/python3.8/site-packages (from requests->py4cytoscape) (2020.6.20)\n",
      "Requirement already satisfied: idna<3,>=2.5 in /opt/anaconda3/lib/python3.8/site-packages (from requests->py4cytoscape) (2.10)\n",
      "Requirement already satisfied: urllib3!=1.25.0,!=1.25.1,<1.26,>=1.21.1 in /opt/anaconda3/lib/python3.8/site-packages (from requests->py4cytoscape) (1.25.11)\n",
      "Requirement already satisfied: chardet<4,>=3.0.2 in /opt/anaconda3/lib/python3.8/site-packages (from requests->py4cytoscape) (3.0.4)\n"
     ]
    },
    {
     "name": "stderr",
     "output_type": "stream",
     "text": [
      "WARNING: You are using pip version 21.0; however, version 21.3.1 is available.\n",
      "You should consider upgrading via the '/opt/anaconda3/bin/python -m pip install --upgrade pip' command.\n"
     ]
    },
    {
     "name": "stdout",
     "output_type": "stream",
     "text": [
      "Loading Javascript client ... 7f352594-04a1-4cbb-9f58-8c3510ce7c15 on https://jupyter-bridge.cytoscape.org\n"
     ]
    },
    {
     "data": {
      "application/javascript": [
       "var Channel = \"7f352594-04a1-4cbb-9f58-8c3510ce7c15\"; \n",
       "\n",
       "var JupyterBridge = \"https://jupyter-bridge.cytoscape.org\"; \n",
       "\n",
       "  /*\n",
       "    These functions serve as a connector between a remote Jupyter server and Cytoscape.\n",
       "    They run in the user's browser, which also shows the Jupyter Notebook.\n",
       "\n",
       "    A remote Jupyter Notebook call to the py4cytoscape package is forwarded to the Jupyter Bridge,\n",
       "    which is a standalone server. The functions in this connector execute in the Jupyter Notebook\n",
       "    browser, which executes on the same PC as Cytoscape. So, that's 4 components: (A) remote\n",
       "    Jupyter Notebook, (B) separate Jupyter Bridge server, (C) this browser-based component, and\n",
       "    (D) Cytoscape. (A) is on a remote server, (B) is on a different remote server, and (C) and (D)\n",
       "    are on the user's PC.\n",
       "\n",
       "    (A) calls its py4cytoscape module, which forwards the request (in a JSON wrapper) to (B).\n",
       "    (C) picks up the request from (B), unpacks the request and forwards it to (D). (C) awaits a\n",
       "    reply from (D), and when it gets it, it forwards the reply (in a JSON wrapper) to (B).\n",
       "    (A)'s py4cytoscape module picks up the reply on (B) when it becomes available, unpacks it,\n",
       "    and returns it to (A).\n",
       "\n",
       "    A Jupyter Notebook can talk to only one Cytoscape (i.e., the one on the machine running the\n",
       "    Jupyter Notebook browser), and Cytoscape should be called by only one Jupyter Notebook. The\n",
       "    Jupyter Bridge differentiates between Notebook-Cytoscape conversations via a channel UUID.\n",
       "    The UUID is prepended to this browser component by py4Cytoscape, and the component is\n",
       "    started by the Jupyter Notebook. (I wish py4Cytoscape could start the component, too, but I\n",
       "    haven't figured out how to do that yet, so startup code *is* required in the Jupyter\n",
       "    Notebook.)\n",
       "\n",
       "    Note that for the case of a Jupyter server running on the same machine as Cytoscape, this\n",
       "    bridge isn't necessary because the Jupyter server's HTTP calls can easily connect to\n",
       "    Cytoscape over a localhost socket. So, the combination of Jupyter Bridge and this browser\n",
       "    component solves the problem of a Jupyter server (e.g., Google's Colab) that can't\n",
       "    connect to Cytoscape that sits behind a firewall.\n",
       "\n",
       "    The request represents an HTTP call that py4cytoscape would normally make via HTTP directly\n",
       "    to Cytoscape via localhost when both py4cytoscape and Cytoscape are running on the same machine.\n",
       " */\n",
       "\n",
       "const VERSION = '0.0.2'\n",
       "\n",
       "var showDebug; // Flag indicating whether to show Jupyter-bridge progress\n",
       "if (typeof showDebug === 'undefined') {\n",
       "    showDebug = false\n",
       "}\n",
       "if (showDebug) {\n",
       "    alert(\"Starting Jupyter-bridge browser component\")\n",
       "}\n",
       "\n",
       "//const JupyterBridge = 'http://127.0.0.1:5000' // for testing against local Jupyter-bridge\n",
       "var JupyterBridge; // URL of Jupyter-bridge server could be defined by assignment pre-pended to this file\n",
       "if (typeof JupyterBridge === 'undefined') {\n",
       "    JupyterBridge = 'https://jupyter-bridge.cytoscape.org' // for production\n",
       "}\n",
       "var Channel; // Unique constant that could be defined by assignment pre-pended to this file\n",
       "if (typeof Channel === 'undefined') { // ... but if not assigned, use a debugging value\n",
       "    Channel = 1\n",
       "}\n",
       "\n",
       "\n",
       "var httpR = new XMLHttpRequest(); // for sending reply to Jupyter-bridge\n",
       "var httpRE = new XMLHttpRequest(); // for sending backup error reply to Jupyter-bridge\n",
       "var httpC = new XMLHttpRequest(); // for sending command to Cytoscape\n",
       "var httpJ = new XMLHttpRequest(); // for fetching request from Jupyter-bridge\n",
       "\n",
       "const HTTP_OK = 200\n",
       "const HTTP_SYS_ERR = 500\n",
       "const HTTP_TIMEOUT = 408\n",
       "const HTTP_TOO_MANY = 429\n",
       "\n",
       "\n",
       " /* This function is useful if we want to rewrite the incoming URL to resolve just to our local one.\n",
       "    Doing this stops the Jupyter component from abusing this client to call out to endpoints other\n",
       "    than local Cytoscape. On the other hand, it makes it hard to detect when the Jupyter component\n",
       "    has specified a genuinely bad URL and really should get an error result. For now, we'll execute\n",
       "    the Jupyter-supplied URL and return the result, whatever it may be.\n",
       "\n",
       "const LocalCytoscape = 'http://127.0.0.1:1234'\n",
       "\n",
       "function parseURL(url) {\n",
       "    var reURLInformation = new RegExp([\n",
       "        '^(https?:)//', // protocol\n",
       "        '(([^:/?#]*)(?::([0-9]+))?)', // host (hostname and port)\n",
       "        '(/{0,1}[^?#]*)', // pathname\n",
       "        '(\\\\?[^#]*|)', // search\n",
       "        '(#.*|)$' // hash\n",
       "    ].join(''));\n",
       "    var match = url.match(reURLInformation);\n",
       "    return match && {\n",
       "        url: url,\n",
       "        protocol: match[1],\n",
       "        host: match[2],\n",
       "        hostname: match[3],\n",
       "        port: match[4],\n",
       "        pathname: match[5],\n",
       "        search: match[6],\n",
       "        hash: match[7]\n",
       "    }\n",
       "}\n",
       "*/\n",
       "\n",
       "function replyCytoscape(replyStatus, replyStatusText, replyText) {\n",
       "\n",
       "    // Clean up after Jupyter bridge accepts reply\n",
       "    httpR.onreadystatechange = function() {\n",
       "        if (httpR.readyState === 4) {\n",
       "            if (showDebug) {\n",
       "                console.log(' status from queue_reply: ' + httpR.status + ', reply: ' + httpR.responseText)\n",
       "            }\n",
       "        }\n",
       "    }\n",
       "\n",
       "    httpR.onerror = function() {\n",
       "        // Clean up after Jupyter bridge accepts backup reply\n",
       "        httpRE.onreadystatechange = function() {\n",
       "            if (httpRE.readyState === 4) {\n",
       "                if (showDebug) {\n",
       "                    console.log(' status from backup queue_reply: ' + httpRE.status + ', reply: ' + httpRE.responseText)\n",
       "                }\n",
       "            }\n",
       "        }\n",
       "\n",
       "        if (showDebug) {\n",
       "            console.log(' error from queue_reply -- could be Jupyter-Bridge server reject')\n",
       "        }\n",
       "        var errReply = {'status': HTTP_SYS_ERR, 'reason': 'Jupyter-Bridge rejected reply', 'text': 'Possibly reply is too long for Jupyter-Bridge server'}\n",
       "        httpRE.open('POST', jupyterBridgeURL, true)\n",
       "        httpRE.setRequestHeader('Content-Type', 'text/plain')\n",
       "        httpRE.send(JSON.stringify(errReply))\n",
       "    }\n",
       "\n",
       "    var reply = {'status': replyStatus, 'reason': replyStatusText, 'text': replyText}\n",
       "\n",
       "    // Send reply to Jupyter bridge\n",
       "    var jupyterBridgeURL = JupyterBridge + '/queue_reply?channel=' + Channel\n",
       "    if (showDebug) {\n",
       "        console.log('Starting queue to Jupyter bridge: ' + jupyterBridgeURL)\n",
       "    }\n",
       "    httpR.open('POST', jupyterBridgeURL, true)\n",
       "    httpR.setRequestHeader('Content-Type', 'text/plain')\n",
       "    httpR.send(JSON.stringify(reply))\n",
       "}\n",
       "\n",
       "function callCytoscape(callSpec) {\n",
       "\n",
       "    // Captures Cytoscape reply and sends it on\n",
       "    httpC.onreadystatechange = function() {\n",
       "        if (httpC.readyState === 4) {\n",
       "            if (showDebug) {\n",
       "                console.log(' status from CyREST: ' + httpC.status + ', statusText: ' + httpC.statusText + ', reply: ' + httpC.responseText)\n",
       "            }\n",
       "            // Note that httpC.status is 0 if the URL can't be reached *OR* there is a CORS violation.\n",
       "            // I wish I could tell the difference because for a CORS violation, I'd return a 404,\n",
       "            // which would roughly match what Python's native request package would return.\n",
       "            // The practical consequence is that the ultimate caller (e.g., py4cytoscape)\n",
       "            // returns different exceptions, depending on wither this module is doing the\n",
       "            // HTTP operation or the native Python requests package is. This is minor, but\n",
       "            // messes up tests that verify the exception type.\n",
       "            replyCytoscape(httpC.status, httpC.statusText, httpC.responseText)\n",
       "            waitOnJupyterBridge()\n",
       "        }\n",
       "    }\n",
       "\n",
       "//  Build up request to Cytoscape, making sure host is local.\n",
       "//    Too heavy handed: localURL = LocalCytoscape + parseURL(callSpec.url).pathname\n",
       "    var localURL = callSpec.url // Try using what was passed in ... is there a security risk??\n",
       "\n",
       "    if (showDebug) {\n",
       "        console.log('Command to CyREST: ' + callSpec.command + ' (' + localURL + ')')\n",
       "        if (callSpec.params) {\n",
       "            console.log(' params: ' + JSON.stringify(callSpec.params))\n",
       "        }\n",
       "        if (callSpec.headers) {\n",
       "            console.log(' header: ' + JSON.stringify(callSpec.headers))\n",
       "        }\n",
       "        if (callSpec.data) {\n",
       "            console.log('   data: ' + JSON.stringify(callSpec.data))\n",
       "        }\n",
       "    }\n",
       "\n",
       "    if (callSpec.command === 'webbrowser') {\n",
       "        if (window.open(callSpec.url)) {\n",
       "            replyCytoscape(HTTP_OK, 'OK', '')\n",
       "        } else {\n",
       "            replyCytoscape(HTTP_SYS_ERR, 'BAD BROWSER OPEN', '')\n",
       "        }\n",
       "        waitOnJupyterBridge()\n",
       "    } else if (callSpec.command === 'version') {\n",
       "        replyCytoscape(HTTP_OK, 'OK',\n",
       "            JSON.stringify({\"jupyterBridgeVersion\": VERSION}))\n",
       "        waitOnJupyterBridge()\n",
       "    } else {\n",
       "        var joiner = '?'\n",
       "        for (let param in callSpec.params) {\n",
       "            localURL = localURL + joiner + param + '=' + encodeURIComponent(callSpec.params[param])\n",
       "            joiner = '&'\n",
       "        }\n",
       "\n",
       "        httpC.open(callSpec.command, localURL, true)\n",
       "        for (let header in callSpec.headers) {\n",
       "            httpC.setRequestHeader(header, callSpec.headers[header])\n",
       "        }\n",
       "\n",
       "        // Send request to Cytoscape ... reply goes to onreadystatechange handler\n",
       "        httpC.send(JSON.stringify(callSpec.data))\n",
       "    }\n",
       "}\n",
       "\n",
       "function waitOnJupyterBridge() {\n",
       "\n",
       "    // Captures request from Jupyter bridge\n",
       "    httpJ.onreadystatechange = function() {\n",
       "        if (httpJ.readyState === 4) {\n",
       "            if (showDebug) {\n",
       "                console.log(' status from dequeue_request: ' + httpJ.status + ', reply: ' + httpJ.responseText)\n",
       "            }\n",
       "            try {\n",
       "                if (httpJ.status == HTTP_TOO_MANY) {\n",
       "                    // Nothing more to do ... the browser has created too many listeners,\n",
       "                    // and it's time to stop listening because the server saw a listener\n",
       "                    // listening on this channel before we got there.\n",
       "                    console.log('  shutting down because of redundant reader on channel: ' + Channel)\n",
       "                } else {\n",
       "                    if (httpJ.status === HTTP_TIMEOUT) {\n",
       "                        waitOnJupyterBridge()\n",
       "                    } else {\n",
       "                        callCytoscape(JSON.parse(httpJ.responseText))\n",
       "                    }\n",
       "                }\n",
       "            } catch(err) {\n",
       "                if (showDebug) {\n",
       "                    console.log(' exception calling Cytoscape: ' + err)\n",
       "                }\n",
       "                // Bad responseText means something bad happened that we don't understand.\n",
       "                // Go wait on another request, as there's nothing to call Cytoscape with.\n",
       "                waitOnJupyterBridge()\n",
       "            }\n",
       "        }\n",
       "    }\n",
       "\n",
       "    // Wait for request from Jupyter bridge\n",
       "    var jupyterBridgeURL = JupyterBridge + '/dequeue_request?channel=' + Channel\n",
       "    if (showDebug) {\n",
       "        console.log('Starting dequeue on Jupyter bridge: ' + jupyterBridgeURL)\n",
       "    }\n",
       "    httpJ.open('GET', jupyterBridgeURL, true)\n",
       "    httpJ.send()\n",
       "}\n",
       "\n",
       "// This kicks off a loop that ends by calling waitOnJupyterBridge again. This first call\n",
       "// ejects any dead readers before we start a read\n",
       "waitOnJupyterBridge() // Wait for message from Jupyter bridge, execute it, and return reply\n",
       "\n",
       "if (showDebug) {\n",
       "    alert(\"Jupyter-bridge browser component is started on \" + JupyterBridge + ', channel ' + Channel)\n",
       "}\n"
      ],
      "text/plain": [
       "<IPython.core.display.Javascript object>"
      ]
     },
     "execution_count": 2,
     "metadata": {},
     "output_type": "execute_result"
    }
   ],
   "source": [
    "#_PY4CYTOSCAPE = 'git+https://github.com/cytoscape/py4cytoscape@1.11.0' # optional\n",
    "import requests\n",
    "exec(requests.get(\"https://raw.githubusercontent.com/cytoscape/jupyter-bridge/master/client/p4c_init.py\").text)\n",
    "IPython.display.Javascript(_PY4CYTOSCAPE_BROWSER_CLIENT_JS) # Start browser client"
   ]
  },
  {
   "cell_type": "markdown",
   "metadata": {
    "id": "cudMDrlU0hqm"
   },
   "source": [
    "# Prerequisites\n",
    "## In addition to this package (py4cytoscape latest version 1.11.0), you will need:\n",
    "* Latest version of Cytoscape, which can be downloaded from https://cytoscape.org/download.html. Simply follow the installation instructions on screen.\n",
    "* Complete installation wizard\n",
    "* Launch Cytoscape\n",
    "For this vignette, you’ll also need the WikiPathways app to access the WikiPathways database from within Cytoscape.\n",
    "\n",
    "Install the WikiPathways app from http://apps.cytoscape.org/apps/wikipathways\n",
    "\n",
    "Install the STRING app from https://apps.cytoscape.org/apps/stringapp\n",
    "\n",
    "Install the filetransfer app from https://apps.cytoscape.org/apps/filetransfer\n",
    "\n",
    "You can also install app inside Python notebook by running \"py4cytoscape.install_app('Your App')\""
   ]
  },
  {
   "cell_type": "markdown",
   "metadata": {
    "id": "q7dYuWFd0hqn"
   },
   "source": [
    "## Import the required package\n"
   ]
  },
  {
   "cell_type": "code",
   "execution_count": 3,
   "metadata": {
    "id": "_VyuKimt0hqn"
   },
   "outputs": [],
   "source": [
    "import os\n",
    "import sys\n",
    "import requests\n",
    "import pandas as pd\n",
    "import py4cytoscape as p4c\n",
    "import ndex2.client as nc\n",
    "import wget\n",
    "from lxml import etree as ET"
   ]
  },
  {
   "cell_type": "code",
   "execution_count": 4,
   "metadata": {
    "colab": {
     "base_uri": "https://localhost:8080/"
    },
    "id": "PnNYs2fS0hqo",
    "outputId": "89353fdf-462b-46c4-f262-dde313298817"
   },
   "outputs": [
    {
     "data": {
      "text/plain": [
       "{'apiVersion': 'v1',\n",
       " 'cytoscapeVersion': '3.9.0',\n",
       " 'automationAPIVersion': '1.2.0',\n",
       " 'py4cytoscapeVersion': '0.0.10'}"
      ]
     },
     "execution_count": 4,
     "metadata": {},
     "output_type": "execute_result"
    }
   ],
   "source": [
    "# Check Version\n",
    "p4c.cytoscape_version_info()"
   ]
  },
  {
   "cell_type": "markdown",
   "metadata": {
    "id": "Aji9qKA50hqq"
   },
   "source": [
    "# Networks from Public Data\n",
    "Cytoscape includes a Network Search tool for easy import of public network data. In addition to core apps that are included with your Cytoscape installation (NDEx and PSICQUIC), the resources listed here will depend on which apps you have installed."
   ]
  },
  {
   "cell_type": "code",
   "execution_count": 5,
   "metadata": {
    "id": "SDFK2uf70hqq",
    "outputId": "3bcf4d47-871f-4fc4-83bb-dcefaad06422"
   },
   "outputs": [
    {
     "data": {
      "text/plain": [
       "[{'appName': 'PSI-MI Reader',\n",
       "  'version': '3.4.0',\n",
       "  'description': 'Core App: Provides support for reading PSI-MI files in Cytoscape',\n",
       "  'status': 'Installed'},\n",
       " {'appName': 'Network Merge',\n",
       "  'version': '3.9.3',\n",
       "  'description': \"Core App: Provides Cytoscape's Network Merge tool\",\n",
       "  'status': 'Installed'},\n",
       " {'appName': 'Core Apps',\n",
       "  'version': '3.8.0',\n",
       "  'description': None,\n",
       "  'status': 'Installed'},\n",
       " {'appName': 'Biomart Web Service Client',\n",
       "  'version': '3.4.0',\n",
       "  'description': 'Core App: Provides support for Biomart web service in Cytoscape',\n",
       "  'status': 'Installed'},\n",
       " {'appName': 'SBML Reader',\n",
       "  'version': '3.4.0',\n",
       "  'description': 'Core App: Provides support for reading SBML files in Cytoscape',\n",
       "  'status': 'Installed'},\n",
       " {'appName': 'cyREST',\n",
       "  'version': '3.12.2',\n",
       "  'description': None,\n",
       "  'status': 'Installed'},\n",
       " {'appName': 'aMatReader',\n",
       "  'version': '1.2.0',\n",
       "  'description': 'App to read adjacency matrix (.mat, .adj) files',\n",
       "  'status': 'Installed'},\n",
       " {'appName': 'CX Support',\n",
       "  'version': '2.7.0',\n",
       "  'description': 'Core App: CX JSON file reader and writer',\n",
       "  'status': 'Installed'},\n",
       " {'appName': 'cyBrowser',\n",
       "  'version': '1.3',\n",
       "  'description': 'Core App: Add HTML Browser to Cytoscape',\n",
       "  'status': 'Installed'},\n",
       " {'appName': 'JSON Support',\n",
       "  'version': '3.7.0',\n",
       "  'description': 'Core App: Provides support for reading/writing Cytoscape.js JSON files in Cytoscape',\n",
       "  'status': 'Installed'},\n",
       " {'appName': 'cyPlot',\n",
       "  'version': '0.9.0',\n",
       "  'description': 'A utility to display data plots',\n",
       "  'status': 'Installed'},\n",
       " {'appName': 'FileTransfer',\n",
       "  'version': '1.1',\n",
       "  'description': 'File system proxy for remote Jupyter Notebooks',\n",
       "  'status': 'Installed'},\n",
       " {'appName': 'WikiPathways',\n",
       "  'version': '3.3.7',\n",
       "  'description': 'WikiPathways web service client and GPML file format importer',\n",
       "  'status': 'Installed'},\n",
       " {'appName': 'CyNDEx-2',\n",
       "  'version': '3.6.1',\n",
       "  'description': 'Core App: CyNDEx-2 is a user-friendly app for browsing, importing, and exporting networks to an NDEx server.',\n",
       "  'status': 'Installed'},\n",
       " {'appName': 'BioPAX Reader',\n",
       "  'version': '3.4.0',\n",
       "  'description': 'Core App: Provides support for reading BioPAX files in Cytoscape',\n",
       "  'status': 'Installed'},\n",
       " {'appName': 'stringApp',\n",
       "  'version': '1.7.1',\n",
       "  'description': None,\n",
       "  'status': 'Installed'},\n",
       " {'appName': 'enhancedGraphics',\n",
       "  'version': '1.5.4',\n",
       "  'description': 'A passthrough mapper for charts and gradients',\n",
       "  'status': 'Installed'},\n",
       " {'appName': 'ID Mapper',\n",
       "  'version': '3.9.0',\n",
       "  'description': 'A plug-in to the BridgeDB service to provide identifier lookup.  Right-click on a column header to use the \"Map Column\" command.',\n",
       "  'status': 'Installed'},\n",
       " {'appName': 'NetworkAnalyzer',\n",
       "  'version': '4.4.8',\n",
       "  'description': 'Calculates topological properties of a network (degree distribution, clustering coefficients, centrality, etc.)',\n",
       "  'status': 'Installed'},\n",
       " {'appName': 'OpenCL Prefuse Layout',\n",
       "  'version': '3.6.1',\n",
       "  'description': 'Core App: Provides faster OpenCL-based version of Cytoscape Prefuse layout',\n",
       "  'status': 'Installed'},\n",
       " {'appName': 'CyCL',\n",
       "  'version': '3.6.1',\n",
       "  'description': 'Core App: Provides OpenCL support for Cytoscape',\n",
       "  'status': 'Installed'},\n",
       " {'appName': 'EnrichmentTable',\n",
       "  'version': '0.0.4',\n",
       "  'description': None,\n",
       "  'status': 'Installed'},\n",
       " {'appName': 'scNetViz',\n",
       "  'version': '1.2.0',\n",
       "  'description': 'Single-cell RNASeq analysis in Cytoscape',\n",
       "  'status': 'Installed'},\n",
       " {'appName': 'PSICQUIC Web Service Client',\n",
       "  'version': '3.5.0',\n",
       "  'description': 'Core App: Provides support for PSICQUIC web service in Cytoscape',\n",
       "  'status': 'Installed'},\n",
       " {'appName': 'copycatLayout',\n",
       "  'version': '1.3.1',\n",
       "  'description': 'Clone a network view layout by mapping node column values',\n",
       "  'status': 'Installed'},\n",
       " {'appName': 'Diffusion',\n",
       "  'version': '1.6.1',\n",
       "  'description': 'Expand node selection using network propagation algorithms',\n",
       "  'status': 'Installed'},\n",
       " {'appName': 'cyChart',\n",
       "  'version': '0.3.1',\n",
       "  'description': 'An interactive tool to define filters',\n",
       "  'status': 'Installed'},\n",
       " {'appName': 'yFiles Layout Algorithms',\n",
       "  'version': '1.1.1',\n",
       "  'description': 'Highly sophisticated algorithms for arranging networks.',\n",
       "  'status': 'Installed'}]"
      ]
     },
     "execution_count": 5,
     "metadata": {},
     "output_type": "execute_result"
    }
   ],
   "source": [
    "p4c.apps.get_installed_apps()"
   ]
  },
  {
   "cell_type": "markdown",
   "metadata": {
    "id": "1wa3uOU20hqr"
   },
   "source": [
    "# NDEx\n",
    "The NDEx Project provides an open-source framework where scientists and organizations can share, store, manipulate, and publish biological network knowledge.\n",
    "* To search NDEx run the following code chunk. Here, we use “TP53 AND BARD1” as our search terms."
   ]
  },
  {
   "cell_type": "code",
   "execution_count": 6,
   "metadata": {
    "id": "cJEggmK_0hqr"
   },
   "outputs": [],
   "source": [
    "anon_ndex=nc.Ndex2(\"http://public.ndexbio.org\")\n",
    "anon_ndex.update_status()"
   ]
  },
  {
   "cell_type": "code",
   "execution_count": 7,
   "metadata": {
    "id": "yEUbEZ710hqr"
   },
   "outputs": [],
   "source": [
    "networks = anon_ndex.search_networks(search_string='TP53 AND BARD1')\n",
    "df_dict = networks[\"networks\"]"
   ]
  },
  {
   "cell_type": "code",
   "execution_count": 8,
   "metadata": {
    "id": "BlxyImPh0hqs"
   },
   "outputs": [],
   "source": [
    "ownerUUID_list = []\n",
    "externalId_list = []\n",
    "nodeCount_list = []\n",
    "edgeCount_list = []"
   ]
  },
  {
   "cell_type": "code",
   "execution_count": 9,
   "metadata": {
    "id": "MsvN2MMR0hqs"
   },
   "outputs": [],
   "source": [
    "for d in df_dict:\n",
    "    ownerUUID_list.append(d[\"ownerUUID\"])\n",
    "    externalId_list.append(d[\"externalId\"])\n",
    "    nodeCount_list.append(d[\"nodeCount\"])\n",
    "    edgeCount_list.append(d[\"edgeCount\"])"
   ]
  },
  {
   "cell_type": "code",
   "execution_count": 10,
   "metadata": {
    "id": "t7dwT8em0hqs",
    "outputId": "5ef9eaa6-5197-4fef-9974-9cd731fbb1d5"
   },
   "outputs": [
    {
     "data": {
      "text/html": [
       "<div>\n",
       "<style scoped>\n",
       "    .dataframe tbody tr th:only-of-type {\n",
       "        vertical-align: middle;\n",
       "    }\n",
       "\n",
       "    .dataframe tbody tr th {\n",
       "        vertical-align: top;\n",
       "    }\n",
       "\n",
       "    .dataframe thead th {\n",
       "        text-align: right;\n",
       "    }\n",
       "</style>\n",
       "<table border=\"1\" class=\"dataframe\">\n",
       "  <thead>\n",
       "    <tr style=\"text-align: right;\">\n",
       "      <th></th>\n",
       "      <th>ownerUUID</th>\n",
       "      <th>externalId</th>\n",
       "      <th>nodeCount</th>\n",
       "      <th>edgeCount</th>\n",
       "    </tr>\n",
       "  </thead>\n",
       "  <tbody>\n",
       "    <tr>\n",
       "      <th>0</th>\n",
       "      <td>301a91c6-a37b-11e4-bda0-000c29202374</td>\n",
       "      <td>5a1fcfb9-78c3-11e8-a4bf-0ac135e8bacf</td>\n",
       "      <td>30</td>\n",
       "      <td>101</td>\n",
       "    </tr>\n",
       "    <tr>\n",
       "      <th>1</th>\n",
       "      <td>363f49e0-4cf0-11e9-9f06-0ac135e8bacf</td>\n",
       "      <td>8089594b-8b63-11eb-9e72-0ac135e8bacf</td>\n",
       "      <td>255</td>\n",
       "      <td>403</td>\n",
       "    </tr>\n",
       "    <tr>\n",
       "      <th>2</th>\n",
       "      <td>363f49e0-4cf0-11e9-9f06-0ac135e8bacf</td>\n",
       "      <td>1cb1c04b-8b69-11eb-9e72-0ac135e8bacf</td>\n",
       "      <td>213</td>\n",
       "      <td>198</td>\n",
       "    </tr>\n",
       "    <tr>\n",
       "      <th>3</th>\n",
       "      <td>363f49e0-4cf0-11e9-9f06-0ac135e8bacf</td>\n",
       "      <td>6dac182e-8b63-11eb-9e72-0ac135e8bacf</td>\n",
       "      <td>59</td>\n",
       "      <td>51</td>\n",
       "    </tr>\n",
       "    <tr>\n",
       "      <th>4</th>\n",
       "      <td>363f49e0-4cf0-11e9-9f06-0ac135e8bacf</td>\n",
       "      <td>dfe8d348-8b64-11eb-9e72-0ac135e8bacf</td>\n",
       "      <td>240</td>\n",
       "      <td>64</td>\n",
       "    </tr>\n",
       "  </tbody>\n",
       "</table>\n",
       "</div>"
      ],
      "text/plain": [
       "                              ownerUUID                            externalId  \\\n",
       "0  301a91c6-a37b-11e4-bda0-000c29202374  5a1fcfb9-78c3-11e8-a4bf-0ac135e8bacf   \n",
       "1  363f49e0-4cf0-11e9-9f06-0ac135e8bacf  8089594b-8b63-11eb-9e72-0ac135e8bacf   \n",
       "2  363f49e0-4cf0-11e9-9f06-0ac135e8bacf  1cb1c04b-8b69-11eb-9e72-0ac135e8bacf   \n",
       "3  363f49e0-4cf0-11e9-9f06-0ac135e8bacf  6dac182e-8b63-11eb-9e72-0ac135e8bacf   \n",
       "4  363f49e0-4cf0-11e9-9f06-0ac135e8bacf  dfe8d348-8b64-11eb-9e72-0ac135e8bacf   \n",
       "\n",
       "   nodeCount  edgeCount  \n",
       "0         30        101  \n",
       "1        255        403  \n",
       "2        213        198  \n",
       "3         59         51  \n",
       "4        240         64  "
      ]
     },
     "execution_count": 10,
     "metadata": {},
     "output_type": "execute_result"
    }
   ],
   "source": [
    "df = pd.DataFrame(list(zip(ownerUUID_list,externalId_list,nodeCount_list,edgeCount_list)), columns =['ownerUUID', 'externalId','nodeCount','edgeCount'])\n",
    "df.head()"
   ]
  },
  {
   "cell_type": "code",
   "execution_count": 11,
   "metadata": {
    "id": "AZx1hoX60hqs"
   },
   "outputs": [],
   "source": [
    "networkId = df[\"externalId\"][0]"
   ]
  },
  {
   "cell_type": "markdown",
   "metadata": {
    "id": "BfDXOWRk0hqt"
   },
   "source": [
    "To import the network into Cytoscape, run the following code chunk.\n"
   ]
  },
  {
   "cell_type": "code",
   "execution_count": 12,
   "metadata": {
    "id": "X6sxxX-s0hqt",
    "outputId": "ad06609e-006c-41e7-813f-bcd27348ac7b"
   },
   "outputs": [
    {
     "data": {
      "text/plain": [
       "25729"
      ]
     },
     "execution_count": 12,
     "metadata": {},
     "output_type": "execute_result"
    }
   ],
   "source": [
    "p4c.cy_ndex.import_network_from_ndex(networkId)"
   ]
  },
  {
   "cell_type": "markdown",
   "metadata": {
    "id": "r6fe0Bru0hqt"
   },
   "source": [
    "# STRING/STITCH\n",
    "STRING is a database of known and predicted protein-protein interactions, and STITCH stored known and predicted interactions between chemicals and proteins. Data types include:\n",
    "\n",
    "* Genomic Context Predictions\n",
    "* High-throughput Lab Experiments\n",
    "* (Conserved) Co-Expression\n",
    "* Automated Textmining\n",
    "* Previous Knowledge in Databases\n",
    "\n",
    "To search STRING with the disease keyword “ovarian cancer”, run the following code chunk. (The resulting network will load automatically.)"
   ]
  },
  {
   "cell_type": "code",
   "execution_count": 13,
   "metadata": {
    "id": "rrOy9qZA0hqt",
    "outputId": "9034b390-e2d9-4b4b-e2bc-b872d9f918c1"
   },
   "outputs": [
    {
     "data": {
      "text/plain": [
       "[\"Loaded network 'STRING network - ovarian cancer' with 100 nodes and 2410 edges\"]"
      ]
     },
     "execution_count": 13,
     "metadata": {},
     "output_type": "execute_result"
    }
   ],
   "source": [
    "string_cmd_list = ['string disease query','disease=\"ovarian cancer\"']\n",
    "string_cmd = \" \".join(string_cmd_list)\n",
    "p4c.commands.commands_run(string_cmd)"
   ]
  },
  {
   "cell_type": "markdown",
   "metadata": {
    "id": "hFBURkak0hqu"
   },
   "source": [
    "* Networks load with a STRING-specific style, which includes 3D protein structure diagrams.\n"
   ]
  },
  {
   "cell_type": "code",
   "execution_count": 14,
   "metadata": {
    "id": "8cPbY1hi0hqu",
    "outputId": "1f6e51f1-b9b5-4818-a6a1-e82a1dcfeca7"
   },
   "outputs": [
    {
     "data": {
      "text/plain": [
       "{'file': '/Users/yxin/CytoscapeConfiguration/filetransfer/default_sandbox/ovarian_cancer.png'}"
      ]
     },
     "execution_count": 14,
     "metadata": {},
     "output_type": "execute_result"
    }
   ],
   "source": [
    "p4c.network_views.export_image('ovarian_cancer', type='PNG')"
   ]
  },
  {
   "cell_type": "markdown",
   "metadata": {
    "id": "t6FgXtkH0hqu"
   },
   "source": [
    "* STRING networks also inlcude data as node/interaction attributes, that can be used to create a Style."
   ]
  },
  {
   "cell_type": "code",
   "execution_count": 15,
   "metadata": {
    "id": "C7tt-8ks0hqu"
   },
   "outputs": [],
   "source": [
    "column_names = p4c.tables.get_table_column_names()\n",
    "column_names.remove( 'stringdb::structures')"
   ]
  },
  {
   "cell_type": "code",
   "execution_count": 16,
   "metadata": {
    "id": "DXEYubwB0hqu",
    "outputId": "c090966d-4c74-42c5-9c4c-26ce60690445"
   },
   "outputs": [
    {
     "data": {
      "text/html": [
       "<div>\n",
       "<style scoped>\n",
       "    .dataframe tbody tr th:only-of-type {\n",
       "        vertical-align: middle;\n",
       "    }\n",
       "\n",
       "    .dataframe tbody tr th {\n",
       "        vertical-align: top;\n",
       "    }\n",
       "\n",
       "    .dataframe thead th {\n",
       "        text-align: right;\n",
       "    }\n",
       "</style>\n",
       "<table border=\"1\" class=\"dataframe\">\n",
       "  <thead>\n",
       "    <tr style=\"text-align: right;\">\n",
       "      <th></th>\n",
       "      <th>SUID</th>\n",
       "      <th>shared name</th>\n",
       "      <th>name</th>\n",
       "      <th>selected</th>\n",
       "      <th>stringdb::canonical name</th>\n",
       "      <th>display name</th>\n",
       "      <th>stringdb::full name</th>\n",
       "      <th>stringdb::database identifier</th>\n",
       "      <th>stringdb::description</th>\n",
       "      <th>@id</th>\n",
       "      <th>...</th>\n",
       "      <th>tissue::muscle</th>\n",
       "      <th>tissue::nervous system</th>\n",
       "      <th>tissue::pancreas</th>\n",
       "      <th>tissue::saliva</th>\n",
       "      <th>tissue::skin</th>\n",
       "      <th>tissue::spleen</th>\n",
       "      <th>tissue::stomach</th>\n",
       "      <th>tissue::thyroid gland</th>\n",
       "      <th>tissue::urine</th>\n",
       "      <th>stringdb::disease score</th>\n",
       "    </tr>\n",
       "  </thead>\n",
       "  <tbody>\n",
       "    <tr>\n",
       "      <th>26880</th>\n",
       "      <td>26880</td>\n",
       "      <td>9606.ENSP00000434045</td>\n",
       "      <td>9606.ENSP00000434045</td>\n",
       "      <td>False</td>\n",
       "      <td>Q15743</td>\n",
       "      <td>GPR68</td>\n",
       "      <td>None</td>\n",
       "      <td>9606.ENSP00000434045</td>\n",
       "      <td>Ovarian cancer G-protein coupled receptor 1; P...</td>\n",
       "      <td>stringdb:9606.ENSP00000434045</td>\n",
       "      <td>...</td>\n",
       "      <td>1.45426</td>\n",
       "      <td>4.35801</td>\n",
       "      <td>0.876775</td>\n",
       "      <td>NaN</td>\n",
       "      <td>1.10445</td>\n",
       "      <td>1.27206</td>\n",
       "      <td>1.30433</td>\n",
       "      <td>0.581355</td>\n",
       "      <td>0.467361</td>\n",
       "      <td>2.58124</td>\n",
       "    </tr>\n",
       "    <tr>\n",
       "      <th>27138</th>\n",
       "      <td>27138</td>\n",
       "      <td>9606.ENSP00000263334</td>\n",
       "      <td>9606.ENSP00000263334</td>\n",
       "      <td>False</td>\n",
       "      <td>Q06710</td>\n",
       "      <td>PAX8</td>\n",
       "      <td>None</td>\n",
       "      <td>9606.ENSP00000263334</td>\n",
       "      <td>Paired box protein Pax-8; Transcription factor...</td>\n",
       "      <td>stringdb:9606.ENSP00000263334</td>\n",
       "      <td>...</td>\n",
       "      <td>1.82151</td>\n",
       "      <td>2.55518</td>\n",
       "      <td>1.69049</td>\n",
       "      <td>1.7475</td>\n",
       "      <td>1.73851</td>\n",
       "      <td>1.36759</td>\n",
       "      <td>1.9104</td>\n",
       "      <td>4.66762</td>\n",
       "      <td>1.99565</td>\n",
       "      <td>3.18596</td>\n",
       "    </tr>\n",
       "    <tr>\n",
       "      <th>26883</th>\n",
       "      <td>26883</td>\n",
       "      <td>9606.ENSP00000252137</td>\n",
       "      <td>9606.ENSP00000252137</td>\n",
       "      <td>False</td>\n",
       "      <td>Q96DF8</td>\n",
       "      <td>DGCR14</td>\n",
       "      <td>None</td>\n",
       "      <td>9606.ENSP00000252137</td>\n",
       "      <td>DiGeorge syndrome critical region gene 14; May...</td>\n",
       "      <td>stringdb:9606.ENSP00000252137</td>\n",
       "      <td>...</td>\n",
       "      <td>2.19006</td>\n",
       "      <td>3.79092</td>\n",
       "      <td>1.6211</td>\n",
       "      <td>1.47221</td>\n",
       "      <td>1.92894</td>\n",
       "      <td>2.00767</td>\n",
       "      <td>1.62299</td>\n",
       "      <td>1.34571</td>\n",
       "      <td>0.930054</td>\n",
       "      <td>3.03386</td>\n",
       "    </tr>\n",
       "    <tr>\n",
       "      <th>27141</th>\n",
       "      <td>27141</td>\n",
       "      <td>9606.hsa-miR-21-5p</td>\n",
       "      <td>9606.hsa-miR-21-5p</td>\n",
       "      <td>False</td>\n",
       "      <td>None</td>\n",
       "      <td>hsa-miR-21-5p</td>\n",
       "      <td>None</td>\n",
       "      <td>9606.hsa-miR-21-5p</td>\n",
       "      <td>None</td>\n",
       "      <td>stringdb:9606.hsa-miR-21-5p</td>\n",
       "      <td>...</td>\n",
       "      <td>2.53044</td>\n",
       "      <td>2.41097</td>\n",
       "      <td>2.21449</td>\n",
       "      <td>2.20916</td>\n",
       "      <td>2.07721</td>\n",
       "      <td>2.07254</td>\n",
       "      <td>2.02119</td>\n",
       "      <td>1.83569</td>\n",
       "      <td>2.30949</td>\n",
       "      <td>2.62748</td>\n",
       "    </tr>\n",
       "    <tr>\n",
       "      <th>26886</th>\n",
       "      <td>26886</td>\n",
       "      <td>9606.ENSP00000265171</td>\n",
       "      <td>9606.ENSP00000265171</td>\n",
       "      <td>False</td>\n",
       "      <td>P01133</td>\n",
       "      <td>EGF</td>\n",
       "      <td>None</td>\n",
       "      <td>9606.ENSP00000265171</td>\n",
       "      <td>Pro-epidermal growth factor; EGF stimulates th...</td>\n",
       "      <td>stringdb:9606.ENSP00000265171</td>\n",
       "      <td>...</td>\n",
       "      <td>3.36985</td>\n",
       "      <td>3.5284</td>\n",
       "      <td>3.29138</td>\n",
       "      <td>2.77513</td>\n",
       "      <td>3.01317</td>\n",
       "      <td>2.45774</td>\n",
       "      <td>2.66789</td>\n",
       "      <td>2.47213</td>\n",
       "      <td>2.15156</td>\n",
       "      <td>2.90074</td>\n",
       "    </tr>\n",
       "  </tbody>\n",
       "</table>\n",
       "<p>5 rows × 51 columns</p>\n",
       "</div>"
      ],
      "text/plain": [
       "        SUID           shared name                  name selected  \\\n",
       "26880  26880  9606.ENSP00000434045  9606.ENSP00000434045    False   \n",
       "27138  27138  9606.ENSP00000263334  9606.ENSP00000263334    False   \n",
       "26883  26883  9606.ENSP00000252137  9606.ENSP00000252137    False   \n",
       "27141  27141    9606.hsa-miR-21-5p    9606.hsa-miR-21-5p    False   \n",
       "26886  26886  9606.ENSP00000265171  9606.ENSP00000265171    False   \n",
       "\n",
       "      stringdb::canonical name   display name stringdb::full name  \\\n",
       "26880                   Q15743          GPR68                None   \n",
       "27138                   Q06710           PAX8                None   \n",
       "26883                   Q96DF8         DGCR14                None   \n",
       "27141                     None  hsa-miR-21-5p                None   \n",
       "26886                   P01133            EGF                None   \n",
       "\n",
       "      stringdb::database identifier  \\\n",
       "26880          9606.ENSP00000434045   \n",
       "27138          9606.ENSP00000263334   \n",
       "26883          9606.ENSP00000252137   \n",
       "27141            9606.hsa-miR-21-5p   \n",
       "26886          9606.ENSP00000265171   \n",
       "\n",
       "                                   stringdb::description  \\\n",
       "26880  Ovarian cancer G-protein coupled receptor 1; P...   \n",
       "27138  Paired box protein Pax-8; Transcription factor...   \n",
       "26883  DiGeorge syndrome critical region gene 14; May...   \n",
       "27141                                               None   \n",
       "26886  Pro-epidermal growth factor; EGF stimulates th...   \n",
       "\n",
       "                                 @id  ... tissue::muscle  \\\n",
       "26880  stringdb:9606.ENSP00000434045  ...        1.45426   \n",
       "27138  stringdb:9606.ENSP00000263334  ...        1.82151   \n",
       "26883  stringdb:9606.ENSP00000252137  ...        2.19006   \n",
       "27141    stringdb:9606.hsa-miR-21-5p  ...        2.53044   \n",
       "26886  stringdb:9606.ENSP00000265171  ...        3.36985   \n",
       "\n",
       "      tissue::nervous system tissue::pancreas tissue::saliva tissue::skin  \\\n",
       "26880                4.35801         0.876775            NaN      1.10445   \n",
       "27138                2.55518          1.69049         1.7475      1.73851   \n",
       "26883                3.79092           1.6211        1.47221      1.92894   \n",
       "27141                2.41097          2.21449        2.20916      2.07721   \n",
       "26886                 3.5284          3.29138        2.77513      3.01317   \n",
       "\n",
       "      tissue::spleen tissue::stomach tissue::thyroid gland tissue::urine  \\\n",
       "26880        1.27206         1.30433              0.581355      0.467361   \n",
       "27138        1.36759          1.9104               4.66762       1.99565   \n",
       "26883        2.00767         1.62299               1.34571      0.930054   \n",
       "27141        2.07254         2.02119               1.83569       2.30949   \n",
       "26886        2.45774         2.66789               2.47213       2.15156   \n",
       "\n",
       "      stringdb::disease score  \n",
       "26880                 2.58124  \n",
       "27138                 3.18596  \n",
       "26883                 3.03386  \n",
       "27141                 2.62748  \n",
       "26886                 2.90074  \n",
       "\n",
       "[5 rows x 51 columns]"
      ]
     },
     "execution_count": 16,
     "metadata": {},
     "output_type": "execute_result"
    }
   ],
   "source": [
    "df = p4c.tables.get_table_columns(columns=column_names)\n",
    "df.head()"
   ]
  },
  {
   "cell_type": "markdown",
   "metadata": {
    "id": "-dKQBllD0hqv"
   },
   "source": [
    "* The STRING app includes options to change interaction confidence level, expand the network etc."
   ]
  },
  {
   "cell_type": "code",
   "execution_count": 17,
   "metadata": {
    "id": "XNps26nk0hqv",
    "outputId": "18c8798b-7d60-404d-bb07-2015da1dd418"
   },
   "outputs": [
    {
     "data": {
      "text/plain": [
       "2410"
      ]
     },
     "execution_count": 17,
     "metadata": {},
     "output_type": "execute_result"
    }
   ],
   "source": [
    "p4c.networks.get_edge_count() #Before changing interaction confidence level"
   ]
  },
  {
   "cell_type": "code",
   "execution_count": 18,
   "metadata": {
    "id": "GOkPbNmj0hqv",
    "outputId": "0a21c020-bacf-4e44-8f4c-5a5c3ac6cc02"
   },
   "outputs": [
    {
     "data": {
      "text/plain": [
       "['']"
      ]
     },
     "execution_count": 18,
     "metadata": {},
     "output_type": "execute_result"
    }
   ],
   "source": [
    "string_cmd_list = ['string change confidence confidence=0.9 network=CURRENT']\n",
    "string_cmd = \" \".join(string_cmd_list)\n",
    "p4c.commands.commands_run(string_cmd)"
   ]
  },
  {
   "cell_type": "code",
   "execution_count": 19,
   "metadata": {
    "id": "zwtx-Njl0hqw",
    "outputId": "ee04d0b6-fa77-4b8f-9198-657b22b9d57d"
   },
   "outputs": [
    {
     "data": {
      "text/plain": [
       "435"
      ]
     },
     "execution_count": 19,
     "metadata": {},
     "output_type": "execute_result"
    }
   ],
   "source": [
    "p4c.networks.get_edge_count() #After changing interaction confidence level"
   ]
  },
  {
   "cell_type": "code",
   "execution_count": 20,
   "metadata": {
    "id": "OfnmUePK0hqw",
    "outputId": "cc6d4111-3611-4e93-97b5-b7baecf78ef6"
   },
   "outputs": [
    {
     "data": {
      "text/plain": [
       "{'file': '/Users/yxin/CytoscapeConfiguration/filetransfer/default_sandbox/before_expand.png'}"
      ]
     },
     "execution_count": 20,
     "metadata": {},
     "output_type": "execute_result"
    }
   ],
   "source": [
    "p4c.network_views.export_image('before_expand', type='PNG')"
   ]
  },
  {
   "cell_type": "code",
   "execution_count": 21,
   "metadata": {
    "id": "EjE63ljE0hqx",
    "outputId": "4c18d64e-54b5-48b5-a7fc-582db6f5fae1"
   },
   "outputs": [
    {
     "data": {
      "text/plain": [
       "[\"Loaded network 'STRING network - ovarian cancer' with 110 nodes and 595 edges\"]"
      ]
     },
     "execution_count": 21,
     "metadata": {},
     "output_type": "execute_result"
    }
   ],
   "source": [
    "string_cmd_list = ['string expand network=CURRENT']\n",
    "string_cmd = \" \".join(string_cmd_list)\n",
    "p4c.commands.commands_run(string_cmd)"
   ]
  },
  {
   "cell_type": "code",
   "execution_count": 22,
   "metadata": {
    "id": "BloyL6Mv0hqx",
    "outputId": "e0938ee5-f08d-4e9a-8b9c-0bee39d5eab6"
   },
   "outputs": [
    {
     "data": {
      "text/plain": [
       "{'file': '/Users/yxin/CytoscapeConfiguration/filetransfer/default_sandbox/after_expand.png'}"
      ]
     },
     "execution_count": 22,
     "metadata": {},
     "output_type": "execute_result"
    }
   ],
   "source": [
    "p4c.network_views.export_image('after_expand', type='PNG')"
   ]
  },
  {
   "cell_type": "markdown",
   "metadata": {
    "id": "Ymq4VT5a0hqx"
   },
   "source": [
    "# WikiPathways"
   ]
  },
  {
   "cell_type": "markdown",
   "metadata": {
    "id": "-bR3eYYz0hqx"
   },
   "source": [
    "WikiPathways is a collaborative wiki platform with curated manually pathway models. It currently covers over 2,600 pathways in 25 species-specific collections.\n",
    "\n",
    "* To search WikiPathways, call the find_pathways_by_text function with your search terms (here we use ‘statin’ as the term)"
   ]
  },
  {
   "cell_type": "code",
   "execution_count": 23,
   "metadata": {
    "id": "nGVmojd00hqx"
   },
   "outputs": [],
   "source": [
    "def find_pathways_by_text(query, species):\n",
    "    base_iri = 'http://webservice.wikipathways.org/'\n",
    "    request_params = {'query':query, 'species':species}\n",
    "    response = requests.get(base_iri + 'findPathwaysByText', params=request_params)\n",
    "    return response"
   ]
  },
  {
   "cell_type": "code",
   "execution_count": 24,
   "metadata": {
    "id": "UC7I_myp0hqy"
   },
   "outputs": [],
   "source": [
    "response = find_pathways_by_text(\"statin\", \"Homo sapiens\") # restrict the results to Homo sapiens"
   ]
  },
  {
   "cell_type": "code",
   "execution_count": 25,
   "metadata": {
    "id": "Kx9Fagrs0hqy"
   },
   "outputs": [],
   "source": [
    "def find_pathway_dataframe(response):\n",
    "    data = response.text\n",
    "    dom = ET.fromstring(data)\n",
    "    pathways = []\n",
    "    NAMESPACES = {'ns1':'http://www.wso2.org/php/xsd','ns2':'http://www.wikipathways.org/webservice/'}\n",
    "    for node in dom.findall('ns1:result', NAMESPACES):\n",
    "        pathway_using_api_terms = {}\n",
    "        for child in node:\n",
    "            pathway_using_api_terms[ET.QName(child).localname] = child.text\n",
    "            pathways.append(pathway_using_api_terms)\n",
    "    id_list = []\n",
    "    score_list = []\n",
    "    url_list = []\n",
    "    name_list = []\n",
    "    species_list = []\n",
    "    revision_list = []\n",
    "    for p in pathways:\n",
    "        id_list.append(p[\"id\"])\n",
    "        score_list.append(p[\"score\"])\n",
    "        url_list.append(p[\"url\"])\n",
    "        name_list.append(p[\"name\"])\n",
    "        species_list.append(p[\"species\"])\n",
    "        revision_list.append(p[\"revision\"])\n",
    "    df = pd.DataFrame(list(zip(id_list,score_list,url_list,name_list,species_list,revision_list)), columns =['id', 'score','url','name','species','revision'])\n",
    "    return df"
   ]
  },
  {
   "cell_type": "code",
   "execution_count": 26,
   "metadata": {
    "id": "BtTaT4eu0hqy",
    "outputId": "a311ccb9-cc54-4a30-cd95-9d2852358643"
   },
   "outputs": [
    {
     "data": {
      "text/html": [
       "<div>\n",
       "<style scoped>\n",
       "    .dataframe tbody tr th:only-of-type {\n",
       "        vertical-align: middle;\n",
       "    }\n",
       "\n",
       "    .dataframe tbody tr th {\n",
       "        vertical-align: top;\n",
       "    }\n",
       "\n",
       "    .dataframe thead th {\n",
       "        text-align: right;\n",
       "    }\n",
       "</style>\n",
       "<table border=\"1\" class=\"dataframe\">\n",
       "  <thead>\n",
       "    <tr style=\"text-align: right;\">\n",
       "      <th></th>\n",
       "      <th>id</th>\n",
       "      <th>score</th>\n",
       "      <th>url</th>\n",
       "      <th>name</th>\n",
       "      <th>species</th>\n",
       "      <th>revision</th>\n",
       "    </tr>\n",
       "  </thead>\n",
       "  <tbody>\n",
       "    <tr>\n",
       "      <th>0</th>\n",
       "      <td>WP430</td>\n",
       "      <td>4.65254</td>\n",
       "      <td>https://www.wikipathways.org/index.php/Pathway...</td>\n",
       "      <td>Statin inhibition of cholesterol production</td>\n",
       "      <td>Homo sapiens</td>\n",
       "      <td>119069</td>\n",
       "    </tr>\n",
       "    <tr>\n",
       "      <th>1</th>\n",
       "      <td>WP430</td>\n",
       "      <td>4.65254</td>\n",
       "      <td>https://www.wikipathways.org/index.php/Pathway...</td>\n",
       "      <td>Statin inhibition of cholesterol production</td>\n",
       "      <td>Homo sapiens</td>\n",
       "      <td>119069</td>\n",
       "    </tr>\n",
       "    <tr>\n",
       "      <th>2</th>\n",
       "      <td>WP430</td>\n",
       "      <td>4.65254</td>\n",
       "      <td>https://www.wikipathways.org/index.php/Pathway...</td>\n",
       "      <td>Statin inhibition of cholesterol production</td>\n",
       "      <td>Homo sapiens</td>\n",
       "      <td>119069</td>\n",
       "    </tr>\n",
       "    <tr>\n",
       "      <th>3</th>\n",
       "      <td>WP430</td>\n",
       "      <td>4.65254</td>\n",
       "      <td>https://www.wikipathways.org/index.php/Pathway...</td>\n",
       "      <td>Statin inhibition of cholesterol production</td>\n",
       "      <td>Homo sapiens</td>\n",
       "      <td>119069</td>\n",
       "    </tr>\n",
       "    <tr>\n",
       "      <th>4</th>\n",
       "      <td>WP430</td>\n",
       "      <td>4.65254</td>\n",
       "      <td>https://www.wikipathways.org/index.php/Pathway...</td>\n",
       "      <td>Statin inhibition of cholesterol production</td>\n",
       "      <td>Homo sapiens</td>\n",
       "      <td>119069</td>\n",
       "    </tr>\n",
       "    <tr>\n",
       "      <th>5</th>\n",
       "      <td>WP430</td>\n",
       "      <td>4.65254</td>\n",
       "      <td>https://www.wikipathways.org/index.php/Pathway...</td>\n",
       "      <td>Statin inhibition of cholesterol production</td>\n",
       "      <td>Homo sapiens</td>\n",
       "      <td>119069</td>\n",
       "    </tr>\n",
       "    <tr>\n",
       "      <th>6</th>\n",
       "      <td>WP3590</td>\n",
       "      <td>3.3518085</td>\n",
       "      <td>https://www.wikipathways.org/index.php/Pathway...</td>\n",
       "      <td>Demo</td>\n",
       "      <td>Homo sapiens</td>\n",
       "      <td>106743</td>\n",
       "    </tr>\n",
       "    <tr>\n",
       "      <th>7</th>\n",
       "      <td>WP3590</td>\n",
       "      <td>3.3518085</td>\n",
       "      <td>https://www.wikipathways.org/index.php/Pathway...</td>\n",
       "      <td>Demo</td>\n",
       "      <td>Homo sapiens</td>\n",
       "      <td>106743</td>\n",
       "    </tr>\n",
       "    <tr>\n",
       "      <th>8</th>\n",
       "      <td>WP3590</td>\n",
       "      <td>3.3518085</td>\n",
       "      <td>https://www.wikipathways.org/index.php/Pathway...</td>\n",
       "      <td>Demo</td>\n",
       "      <td>Homo sapiens</td>\n",
       "      <td>106743</td>\n",
       "    </tr>\n",
       "    <tr>\n",
       "      <th>9</th>\n",
       "      <td>WP3590</td>\n",
       "      <td>3.3518085</td>\n",
       "      <td>https://www.wikipathways.org/index.php/Pathway...</td>\n",
       "      <td>Demo</td>\n",
       "      <td>Homo sapiens</td>\n",
       "      <td>106743</td>\n",
       "    </tr>\n",
       "  </tbody>\n",
       "</table>\n",
       "</div>"
      ],
      "text/plain": [
       "       id      score                                                url  \\\n",
       "0   WP430    4.65254  https://www.wikipathways.org/index.php/Pathway...   \n",
       "1   WP430    4.65254  https://www.wikipathways.org/index.php/Pathway...   \n",
       "2   WP430    4.65254  https://www.wikipathways.org/index.php/Pathway...   \n",
       "3   WP430    4.65254  https://www.wikipathways.org/index.php/Pathway...   \n",
       "4   WP430    4.65254  https://www.wikipathways.org/index.php/Pathway...   \n",
       "5   WP430    4.65254  https://www.wikipathways.org/index.php/Pathway...   \n",
       "6  WP3590  3.3518085  https://www.wikipathways.org/index.php/Pathway...   \n",
       "7  WP3590  3.3518085  https://www.wikipathways.org/index.php/Pathway...   \n",
       "8  WP3590  3.3518085  https://www.wikipathways.org/index.php/Pathway...   \n",
       "9  WP3590  3.3518085  https://www.wikipathways.org/index.php/Pathway...   \n",
       "\n",
       "                                          name       species revision  \n",
       "0  Statin inhibition of cholesterol production  Homo sapiens   119069  \n",
       "1  Statin inhibition of cholesterol production  Homo sapiens   119069  \n",
       "2  Statin inhibition of cholesterol production  Homo sapiens   119069  \n",
       "3  Statin inhibition of cholesterol production  Homo sapiens   119069  \n",
       "4  Statin inhibition of cholesterol production  Homo sapiens   119069  \n",
       "5  Statin inhibition of cholesterol production  Homo sapiens   119069  \n",
       "6                                         Demo  Homo sapiens   106743  \n",
       "7                                         Demo  Homo sapiens   106743  \n",
       "8                                         Demo  Homo sapiens   106743  \n",
       "9                                         Demo  Homo sapiens   106743  "
      ]
     },
     "execution_count": 26,
     "metadata": {},
     "output_type": "execute_result"
    }
   ],
   "source": [
    "df = find_pathway_dataframe(response)\n",
    "df.head(10)"
   ]
  },
  {
   "cell_type": "code",
   "execution_count": 27,
   "metadata": {
    "id": "u7ieatgW0hqy",
    "outputId": "b55d3ee6-30e8-477f-ef8c-3dce62c7fcdc"
   },
   "outputs": [
    {
     "data": {
      "text/html": [
       "<div>\n",
       "<style scoped>\n",
       "    .dataframe tbody tr th:only-of-type {\n",
       "        vertical-align: middle;\n",
       "    }\n",
       "\n",
       "    .dataframe tbody tr th {\n",
       "        vertical-align: top;\n",
       "    }\n",
       "\n",
       "    .dataframe thead th {\n",
       "        text-align: right;\n",
       "    }\n",
       "</style>\n",
       "<table border=\"1\" class=\"dataframe\">\n",
       "  <thead>\n",
       "    <tr style=\"text-align: right;\">\n",
       "      <th></th>\n",
       "      <th>id</th>\n",
       "      <th>score</th>\n",
       "      <th>url</th>\n",
       "      <th>name</th>\n",
       "      <th>species</th>\n",
       "      <th>revision</th>\n",
       "    </tr>\n",
       "  </thead>\n",
       "  <tbody>\n",
       "    <tr>\n",
       "      <th>0</th>\n",
       "      <td>WP430</td>\n",
       "      <td>4.65254</td>\n",
       "      <td>https://www.wikipathways.org/index.php/Pathway...</td>\n",
       "      <td>Statin inhibition of cholesterol production</td>\n",
       "      <td>Homo sapiens</td>\n",
       "      <td>119069</td>\n",
       "    </tr>\n",
       "    <tr>\n",
       "      <th>1</th>\n",
       "      <td>WP3590</td>\n",
       "      <td>3.3518085</td>\n",
       "      <td>https://www.wikipathways.org/index.php/Pathway...</td>\n",
       "      <td>Demo</td>\n",
       "      <td>Homo sapiens</td>\n",
       "      <td>106743</td>\n",
       "    </tr>\n",
       "    <tr>\n",
       "      <th>2</th>\n",
       "      <td>WP3539</td>\n",
       "      <td>3.2534084</td>\n",
       "      <td>https://www.wikipathways.org/index.php/Pathway...</td>\n",
       "      <td>WikiPathways Tutorial: demo_step3</td>\n",
       "      <td>Homo sapiens</td>\n",
       "      <td>106739</td>\n",
       "    </tr>\n",
       "    <tr>\n",
       "      <th>3</th>\n",
       "      <td>WP3418</td>\n",
       "      <td>3.2370086</td>\n",
       "      <td>https://www.wikipathways.org/index.php/Pathway...</td>\n",
       "      <td>Demo_complete</td>\n",
       "      <td>Homo sapiens</td>\n",
       "      <td>106736</td>\n",
       "    </tr>\n",
       "  </tbody>\n",
       "</table>\n",
       "</div>"
      ],
      "text/plain": [
       "       id      score                                                url  \\\n",
       "0   WP430    4.65254  https://www.wikipathways.org/index.php/Pathway...   \n",
       "1  WP3590  3.3518085  https://www.wikipathways.org/index.php/Pathway...   \n",
       "2  WP3539  3.2534084  https://www.wikipathways.org/index.php/Pathway...   \n",
       "3  WP3418  3.2370086  https://www.wikipathways.org/index.php/Pathway...   \n",
       "\n",
       "                                          name       species revision  \n",
       "0  Statin inhibition of cholesterol production  Homo sapiens   119069  \n",
       "1                                         Demo  Homo sapiens   106743  \n",
       "2            WikiPathways Tutorial: demo_step3  Homo sapiens   106739  \n",
       "3                                Demo_complete  Homo sapiens   106736  "
      ]
     },
     "execution_count": 27,
     "metadata": {},
     "output_type": "execute_result"
    }
   ],
   "source": [
    "df = df.drop_duplicates()\n",
    "df = df.reset_index(drop=True)\n",
    "df"
   ]
  },
  {
   "cell_type": "code",
   "execution_count": 28,
   "metadata": {
    "id": "j0fntHTy0hqy",
    "outputId": "7364b120-7976-41b5-ccb0-faf195704e4c"
   },
   "outputs": [
    {
     "data": {
      "text/plain": [
       "[]"
      ]
     },
     "execution_count": 28,
     "metadata": {},
     "output_type": "execute_result"
    }
   ],
   "source": [
    "cmd_list = ['wikipathways','import-as-pathway','id=\"',df[\"id\"][0],'\"']\n",
    "cmd = \" \".join(cmd_list)\n",
    "p4c.commands.commands_get(cmd) "
   ]
  },
  {
   "cell_type": "markdown",
   "metadata": {
    "id": "fih-go1p0hqy"
   },
   "source": [
    "To open the pathway as a network, run the following chunk.\n",
    "\n"
   ]
  },
  {
   "cell_type": "code",
   "execution_count": 29,
   "metadata": {
    "id": "WZ-CwY4S0hqy",
    "outputId": "6e43b3b4-8c06-48a2-f9cd-51b6073836ef"
   },
   "outputs": [
    {
     "data": {
      "text/plain": [
       "[]"
      ]
     },
     "execution_count": 29,
     "metadata": {},
     "output_type": "execute_result"
    }
   ],
   "source": [
    "cmd_list = ['wikipathways','import-as-network','id=\"',df[\"id\"][0],'\"']\n",
    "cmd = \" \".join(cmd_list)\n",
    "p4c.commands.commands_get(cmd) "
   ]
  },
  {
   "cell_type": "markdown",
   "metadata": {
    "id": "AGi4WHSI0hqy"
   },
   "source": [
    "# Local and Remote Files\n",
    "Cytoscape can load locally and remotely stored network data files in a variety of file formats:\n",
    "\n",
    "- SIF: Simple interaction format\n",
    "- NNF: Nested network format\n",
    "- GML and XGMML formats\n",
    "- CYS: Cytoscape session file\n",
    "- Delimited text and Excel format"
   ]
  },
  {
   "cell_type": "markdown",
   "metadata": {
    "id": "mtsgeLC50hqz"
   },
   "source": [
    "## Loading SIF files\n",
    "SIF is a simple interaction format consisting of three columns of data: source, interaction and target. To learn more about the SIF format, see the Cytoscape manual.\n",
    "\n",
    "Download galFiltered.sif and load the network via"
   ]
  },
  {
   "cell_type": "code",
   "execution_count": 30,
   "metadata": {
    "id": "b2FRZ1AS0hqz",
    "outputId": "63435ceb-9b78-4b6a-b6b4-5071f67572a1",
    "scrolled": true
   },
   "outputs": [
    {
     "data": {
      "text/plain": [
       "'galFiltered.sif'"
      ]
     },
     "execution_count": 30,
     "metadata": {},
     "output_type": "execute_result"
    }
   ],
   "source": [
    "sif_url = \"https://cytoscape.github.io/cytoscape-tutorials/protocols/data/galFiltered.sif\"\n",
    "file_name = wget.download(sif_url)\n",
    "file_name"
   ]
  },
  {
   "cell_type": "code",
   "execution_count": 31,
   "metadata": {
    "id": "7lw8mlSg0hqz",
    "outputId": "e54b314e-697d-4d74-a61c-3a19237cda2f"
   },
   "outputs": [
    {
     "data": {
      "text/plain": [
       "{'filePath': '/Users/yxin/CytoscapeConfiguration/filetransfer/default_sandbox/galFiltered.sif'}"
      ]
     },
     "execution_count": 31,
     "metadata": {},
     "output_type": "execute_result"
    }
   ],
   "source": [
    "p4c.sandbox.sandbox_send_to(file_name)"
   ]
  },
  {
   "cell_type": "code",
   "execution_count": 32,
   "metadata": {
    "id": "qOpjkZck0hqz",
    "outputId": "808c7998-3b57-4b21-b4fe-c81e7c3e76e9",
    "scrolled": true
   },
   "outputs": [
    {
     "data": {
      "text/plain": [
       "{'networks': [48334], 'views': [50464]}"
      ]
     },
     "execution_count": 32,
     "metadata": {},
     "output_type": "execute_result"
    }
   ],
   "source": [
    "p4c.networks.import_network_from_file(file_name)"
   ]
  },
  {
   "cell_type": "markdown",
   "metadata": {
    "id": "DVC5xXM30hqz"
   },
   "source": [
    "- To see the whole network, run"
   ]
  },
  {
   "cell_type": "code",
   "execution_count": 33,
   "metadata": {
    "id": "pD25hHYs0hqz",
    "outputId": "b393b3bc-1c8c-4160-e3b3-20fb913c880b"
   },
   "outputs": [
    {
     "data": {
      "text/plain": [
       "{}"
      ]
     },
     "execution_count": 33,
     "metadata": {},
     "output_type": "execute_result"
    }
   ],
   "source": [
    "p4c.network_views.fit_content()"
   ]
  },
  {
   "cell_type": "markdown",
   "metadata": {
    "id": "VNnPyOB60hqz"
   },
   "source": [
    "## Loading XGMML files\n",
    "XGMML is an XML format and can includes node and edge attributes as well as visual style properties. To learn more about the XGMML format, see the Cytoscape manual.\n",
    "\n",
    "Download https://raw.githubusercontent.com/cytoscape/cytoscape-tutorials/gh-pages/protocols/data/BasicDataVizDemo.xgmml and load the network via"
   ]
  },
  {
   "cell_type": "code",
   "execution_count": 34,
   "metadata": {
    "id": "2e2f-vgJ0hqz",
    "outputId": "518d5653-b611-4870-eb8a-5190d6d6b912"
   },
   "outputs": [
    {
     "data": {
      "text/plain": [
       "'BasicDataVizDemo.xgmml'"
      ]
     },
     "execution_count": 34,
     "metadata": {},
     "output_type": "execute_result"
    }
   ],
   "source": [
    "xgmll_url = \"https://raw.githubusercontent.com/cytoscape/cytoscape-tutorials/gh-pages/protocols/data/BasicDataVizDemo.xgmml\"\n",
    "file_name = wget.download(xgmll_url)\n",
    "file_name"
   ]
  },
  {
   "cell_type": "code",
   "execution_count": 35,
   "metadata": {
    "id": "2d1krZka0hq0",
    "outputId": "672ade24-b548-4bac-f103-5adceedb7bcc"
   },
   "outputs": [
    {
     "data": {
      "text/plain": [
       "{'filePath': '/Users/yxin/CytoscapeConfiguration/filetransfer/default_sandbox/BasicDataVizDemo.xgmml'}"
      ]
     },
     "execution_count": 35,
     "metadata": {},
     "output_type": "execute_result"
    }
   ],
   "source": [
    "p4c.sandbox.sandbox_send_to(file_name)"
   ]
  },
  {
   "cell_type": "code",
   "execution_count": 36,
   "metadata": {
    "id": "jicGDtr_0hq0",
    "outputId": "684ce63f-1dbe-43f3-aa2d-d69234ad40cf"
   },
   "outputs": [
    {
     "data": {
      "text/plain": [
       "{'networks': [52212], 'views': [54088]}"
      ]
     },
     "execution_count": 36,
     "metadata": {},
     "output_type": "execute_result"
    }
   ],
   "source": [
    "p4c.networks.import_network_from_file(file_name)"
   ]
  }
 ],
 "metadata": {
  "colab": {
   "include_colab_link": true,
   "name": "loading-networks.ipynb",
   "provenance": []
  },
  "kernelspec": {
   "display_name": "Python 3",
   "language": "python",
   "name": "python3"
  },
  "language_info": {
   "codemirror_mode": {
    "name": "ipython",
    "version": 3
   },
   "file_extension": ".py",
   "mimetype": "text/x-python",
   "name": "python",
   "nbconvert_exporter": "python",
   "pygments_lexer": "ipython3",
   "version": "3.8.5"
  }
 },
 "nbformat": 4,
 "nbformat_minor": 1
}
