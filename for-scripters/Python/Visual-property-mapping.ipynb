{
 "cells": [
  {
   "cell_type": "markdown",
   "id": "357e7f8e-773b-4a31-9f67-f854c87eb14e",
   "metadata": {},
   "source": [
    "<a href=\"https://colab.research.google.com/github/cytoscape/cytoscape-automation/blob/master/for-scripters/Python/Visual-property-mapping.ipynb\" target=\"_parent\"><img src=\"https://colab.research.google.com/assets/colab-badge.svg\" alt=\"Open In Colab\"/></a>"
   ]
  },
  {
   "cell_type": "markdown",
   "id": "46982826-b48d-4175-a09e-9c6e185da83c",
   "metadata": {},
   "source": [
    "While creating visual property maps is straight forward, choosing the name of the virtual property is not. It would be helpful to have a cookbook item showing how to build and use a visual property map, and then identify the meaning of each visual property name. As an educated Cytoscape user, it took me a couple of hours to get this right … a cookbook could make this an economical proposition.\n",
    "\n",
    "Recommendation: Add cookbook example showing how to create and use a visual property map\n",
    "\n",
    "Recommendation: Add cookbook article listing visual property names and what they apply to"
   ]
  },
  {
   "cell_type": "markdown",
   "id": "d9c6fb75-2469-43b5-8bbc-a2a14a2ba698",
   "metadata": {},
   "source": [
    "# Introduction to Mapping Styles to Attributes\n",
    "\n",
    "Harsh Sharma\n",
    "\n",
    "2025-01-17\n",
    "\n",
    "**Cytoscape is an open source software platform for integrating, visualizing, and analyzing measurement data in the context of networks.**\n",
    "\n",
    "This tutorial intends ....\n"
   ]
  },
  {
   "cell_type": "code",
   "execution_count": 2,
   "id": "34b425a2-fa17-4c04-932a-43a543e89a28",
   "metadata": {},
   "outputs": [],
   "source": [
    "import IPython\n",
    "import py4cytoscape as p4c"
   ]
  },
  {
   "cell_type": "code",
   "execution_count": 3,
   "id": "89b1d2c1-cf15-4bd8-8bf8-6b762f37d6ed",
   "metadata": {},
   "outputs": [
    {
     "data": {
      "text/plain": [
       "{'apiVersion': 'v1',\n",
       " 'cytoscapeVersion': '3.10.3',\n",
       " 'automationAPIVersion': '1.11.0',\n",
       " 'py4cytoscapeVersion': '1.11.0'}"
      ]
     },
     "execution_count": 3,
     "metadata": {},
     "output_type": "execute_result"
    }
   ],
   "source": [
    "p4c.cytoscape_version_info()"
   ]
  },
  {
   "cell_type": "markdown",
   "id": "3c51332b-4df0-4d8d-a305-2bd30d45ba20",
   "metadata": {
    "jp-MarkdownHeadingCollapsed": true
   },
   "source": [
    "## Understanding Styling in Cytoscape\n",
    "\n",
    "Styles are divided into three main categories:\n",
    "\n",
    "1. **Default**  \n",
    "   Applies a uniform style to the entire network without exceptions.\n",
    "\n",
    "2. **Mapping**  \n",
    "   Dynamically applies styles to nodes and edges based on their properties (e.g., size based on degree, color based on a specific attribute).\n",
    "\n",
    "3. **Bypass**  \n",
    "   Directly overrides other styles for *selected* nodes or edges, providing targeted customization.\n",
    "\n",
    "---"
   ]
  },
  {
   "cell_type": "markdown",
   "id": "7c2a1bae-a9f6-4208-805c-47e3383b5f79",
   "metadata": {},
   "source": [
    "### Focus of This Tutorial: Mapping\n",
    "\n",
    "In this tutorial, we’ll focus on **Mapping**, which allows you to create data-driven visualizations. You'll learn how to map node and edge attributes to various visual properties like color, size, and transparency. This approach makes your networks more insightful and visually compelling. "
   ]
  },
  {
   "cell_type": "markdown",
   "id": "c5c6de9c-f560-4728-8abe-c17c0bef96c8",
   "metadata": {},
   "source": []
  },
  {
   "cell_type": "markdown",
   "id": "a0853aca-b716-4d0e-8ffc-f9ad4b72b93c",
   "metadata": {
    "jp-MarkdownHeadingCollapsed": true
   },
   "source": [
    "## Introduction to Style Options\n",
    "\n",
    "Before diving into this tutorial, it’s helpful to have a basic understanding of the styling options available in Cytoscape. If you’re new to these concepts or need a refresher, we recommend reviewing the [*Styles* section in the Cytoscape manual](https://manual.cytoscape.org/en/stable/Styles.html#).\n",
    "\n",
    "One of the best things about working with Cytoscape through py4cytoscape is that you don't need to rely solely on the graphical user interface to explore and interact with styles. You can retrieve all the style options programmatically, which makes the process more efficient and flexible. Whether you’re analyzing a large network or automating your workflow, this approach is invaluable.\n",
    "\n",
    "However, one important note: while you can retrieve style options through code, identifying the shapes associated with specific names may still require referring to the Styles tab—unless you’re already familiar with them.\n"
   ]
  },
  {
   "cell_type": "code",
   "execution_count": 3,
   "id": "36f86ed3-745c-4d54-add1-733b1a9533e5",
   "metadata": {
    "collapsed": true,
    "jupyter": {
     "outputs_hidden": true
    }
   },
   "outputs": [
    {
     "data": {
      "text/plain": [
       "['CROSS_DELTA',\n",
       " 'HALF_TOP',\n",
       " 'OPEN_CIRCLE',\n",
       " 'DELTA',\n",
       " 'OPEN_HALF_CIRCLE',\n",
       " 'HALF_CIRCLE',\n",
       " 'T',\n",
       " 'CIRCLE',\n",
       " 'DIAMOND_SHORT_1',\n",
       " 'OPEN_SQUARE',\n",
       " 'DIAMOND_SHORT_2',\n",
       " 'DELTA_SHORT_2',\n",
       " 'OPEN_DIAMOND',\n",
       " 'DELTA_SHORT_1',\n",
       " 'OPEN_DELTA',\n",
       " 'SQUARE',\n",
       " 'ARROW',\n",
       " 'NONE',\n",
       " 'HALF_BOTTOM',\n",
       " 'CROSS_OPEN_DELTA',\n",
       " 'DIAMOND',\n",
       " 'ARROW_SHORT']"
      ]
     },
     "execution_count": 3,
     "metadata": {},
     "output_type": "execute_result"
    }
   ],
   "source": [
    "p4c.get_arrow_shapes() # List of all available arrow shapes."
   ]
  },
  {
   "cell_type": "code",
   "execution_count": 4,
   "id": "2eb986e4-ae4b-48f6-af6b-e8837f201f16",
   "metadata": {
    "collapsed": true,
    "jupyter": {
     "outputs_hidden": true
    }
   },
   "outputs": [
    {
     "data": {
      "text/plain": [
       "['ZIGZAG',\n",
       " 'BACKWARD_SLASH',\n",
       " 'FORWARD_SLASH',\n",
       " 'EQUAL_DASH',\n",
       " 'PARALLEL_LINES',\n",
       " 'SINEWAVE',\n",
       " 'DASH_DOT',\n",
       " 'CONTIGUOUS_ARROW',\n",
       " 'SEPARATE_ARROW',\n",
       " 'SOLID',\n",
       " 'VERTICAL_SLASH',\n",
       " 'LONG_DASH',\n",
       " 'MARQUEE_DASH',\n",
       " 'DOT',\n",
       " 'MARQUEE_DASH_DOT',\n",
       " 'MARQUEE_EQUAL']"
      ]
     },
     "execution_count": 4,
     "metadata": {},
     "output_type": "execute_result"
    }
   ],
   "source": [
    "p4c.get_line_styles() # List of all available line styles"
   ]
  },
  {
   "cell_type": "code",
   "execution_count": 5,
   "id": "8c09214f-178b-43ef-bdc7-1950138f49b6",
   "metadata": {
    "collapsed": true,
    "jupyter": {
     "outputs_hidden": true
    }
   },
   "outputs": [
    {
     "data": {
      "text/plain": [
       "['VEE',\n",
       " 'DIAMOND',\n",
       " 'TRIANGLE',\n",
       " 'RECTANGLE',\n",
       " 'PARALLELOGRAM',\n",
       " 'OCTAGON',\n",
       " 'HEXAGON',\n",
       " 'ROUND_RECTANGLE',\n",
       " 'ELLIPSE']"
      ]
     },
     "execution_count": 5,
     "metadata": {},
     "output_type": "execute_result"
    }
   ],
   "source": [
    "p4c.get_node_shapes() # List of all available node shapes"
   ]
  },
  {
   "cell_type": "code",
   "execution_count": 10,
   "id": "94463e07-f2b5-42c4-ad52-eb8e2251f8d8",
   "metadata": {
    "collapsed": true,
    "jupyter": {
     "outputs_hidden": true
    },
    "scrolled": true
   },
   "outputs": [
    {
     "data": {
      "text/plain": [
       "['COMPOUND_NODE_PADDING',\n",
       " 'COMPOUND_NODE_SHAPE',\n",
       " 'DING_RENDERING_ENGINE_ROOT',\n",
       " 'EDGE',\n",
       " 'EDGE_BEND',\n",
       " 'EDGE_CURVED',\n",
       " 'EDGE_LABEL',\n",
       " 'EDGE_LABEL_AUTOROTATE',\n",
       " 'EDGE_LABEL_BACKGROUND_COLOR',\n",
       " 'EDGE_LABEL_BACKGROUND_SHAPE',\n",
       " 'EDGE_LABEL_BACKGROUND_TRANSPARENCY',\n",
       " 'EDGE_LABEL_COLOR',\n",
       " 'EDGE_LABEL_FONT_FACE',\n",
       " 'EDGE_LABEL_FONT_SIZE',\n",
       " 'EDGE_LABEL_POSITION',\n",
       " 'EDGE_LABEL_ROTATION',\n",
       " 'EDGE_LABEL_TRANSPARENCY',\n",
       " 'EDGE_LABEL_WIDTH',\n",
       " 'EDGE_LINE_TYPE',\n",
       " 'EDGE_PAINT',\n",
       " 'EDGE_SELECTED',\n",
       " 'EDGE_SELECTED_PAINT',\n",
       " 'EDGE_SOURCE_ARROW_SELECTED_PAINT',\n",
       " 'EDGE_SOURCE_ARROW_SHAPE',\n",
       " 'EDGE_SOURCE_ARROW_SIZE',\n",
       " 'EDGE_SOURCE_ARROW_UNSELECTED_PAINT',\n",
       " 'EDGE_STACKING',\n",
       " 'EDGE_STACKING_DENSITY',\n",
       " 'EDGE_STROKE_SELECTED_PAINT',\n",
       " 'EDGE_STROKE_UNSELECTED_PAINT',\n",
       " 'EDGE_TARGET_ARROW_SELECTED_PAINT',\n",
       " 'EDGE_TARGET_ARROW_SHAPE',\n",
       " 'EDGE_TARGET_ARROW_SIZE',\n",
       " 'EDGE_TARGET_ARROW_UNSELECTED_PAINT',\n",
       " 'EDGE_TOOLTIP',\n",
       " 'EDGE_TRANSPARENCY',\n",
       " 'EDGE_UNSELECTED_PAINT',\n",
       " 'EDGE_VISIBLE',\n",
       " 'EDGE_WIDTH',\n",
       " 'EDGE_Z_ORDER',\n",
       " 'NETWORK',\n",
       " 'NETWORK_ANNOTATION_SELECTION',\n",
       " 'NETWORK_BACKGROUND_PAINT',\n",
       " 'NETWORK_CENTER_X_LOCATION',\n",
       " 'NETWORK_CENTER_Y_LOCATION',\n",
       " 'NETWORK_CENTER_Z_LOCATION',\n",
       " 'NETWORK_DEPTH',\n",
       " 'NETWORK_EDGE_SELECTION',\n",
       " 'NETWORK_FORCE_HIGH_DETAIL',\n",
       " 'NETWORK_HEIGHT',\n",
       " 'NETWORK_NODE_LABEL_SELECTION',\n",
       " 'NETWORK_NODE_SELECTION',\n",
       " 'NETWORK_SCALE_FACTOR',\n",
       " 'NETWORK_SIZE',\n",
       " 'NETWORK_TITLE',\n",
       " 'NETWORK_WIDTH',\n",
       " 'NODE',\n",
       " 'NODE_BORDER_PAINT',\n",
       " 'NODE_BORDER_STROKE',\n",
       " 'NODE_BORDER_TRANSPARENCY',\n",
       " 'NODE_BORDER_WIDTH',\n",
       " 'NODE_CUSTOMGRAPHICS_1',\n",
       " 'NODE_CUSTOMGRAPHICS_2',\n",
       " 'NODE_CUSTOMGRAPHICS_3',\n",
       " 'NODE_CUSTOMGRAPHICS_4',\n",
       " 'NODE_CUSTOMGRAPHICS_5',\n",
       " 'NODE_CUSTOMGRAPHICS_6',\n",
       " 'NODE_CUSTOMGRAPHICS_7',\n",
       " 'NODE_CUSTOMGRAPHICS_8',\n",
       " 'NODE_CUSTOMGRAPHICS_9',\n",
       " 'NODE_CUSTOMGRAPHICS_POSITION_1',\n",
       " 'NODE_CUSTOMGRAPHICS_POSITION_2',\n",
       " 'NODE_CUSTOMGRAPHICS_POSITION_3',\n",
       " 'NODE_CUSTOMGRAPHICS_POSITION_4',\n",
       " 'NODE_CUSTOMGRAPHICS_POSITION_5',\n",
       " 'NODE_CUSTOMGRAPHICS_POSITION_6',\n",
       " 'NODE_CUSTOMGRAPHICS_POSITION_7',\n",
       " 'NODE_CUSTOMGRAPHICS_POSITION_8',\n",
       " 'NODE_CUSTOMGRAPHICS_POSITION_9',\n",
       " 'NODE_CUSTOMGRAPHICS_SIZE_1',\n",
       " 'NODE_CUSTOMGRAPHICS_SIZE_2',\n",
       " 'NODE_CUSTOMGRAPHICS_SIZE_3',\n",
       " 'NODE_CUSTOMGRAPHICS_SIZE_4',\n",
       " 'NODE_CUSTOMGRAPHICS_SIZE_5',\n",
       " 'NODE_CUSTOMGRAPHICS_SIZE_6',\n",
       " 'NODE_CUSTOMGRAPHICS_SIZE_7',\n",
       " 'NODE_CUSTOMGRAPHICS_SIZE_8',\n",
       " 'NODE_CUSTOMGRAPHICS_SIZE_9',\n",
       " 'NODE_CUSTOMPAINT_1',\n",
       " 'NODE_CUSTOMPAINT_2',\n",
       " 'NODE_CUSTOMPAINT_3',\n",
       " 'NODE_CUSTOMPAINT_4',\n",
       " 'NODE_CUSTOMPAINT_5',\n",
       " 'NODE_CUSTOMPAINT_6',\n",
       " 'NODE_CUSTOMPAINT_7',\n",
       " 'NODE_CUSTOMPAINT_8',\n",
       " 'NODE_CUSTOMPAINT_9',\n",
       " 'NODE_DEPTH',\n",
       " 'NODE_FILL_COLOR',\n",
       " 'NODE_HEIGHT',\n",
       " 'NODE_LABEL',\n",
       " 'NODE_LABEL_BACKGROUND_COLOR',\n",
       " 'NODE_LABEL_BACKGROUND_SHAPE',\n",
       " 'NODE_LABEL_BACKGROUND_TRANSPARENCY',\n",
       " 'NODE_LABEL_COLOR',\n",
       " 'NODE_LABEL_FONT_FACE',\n",
       " 'NODE_LABEL_FONT_SIZE',\n",
       " 'NODE_LABEL_POSITION',\n",
       " 'NODE_LABEL_ROTATION',\n",
       " 'NODE_LABEL_TRANSPARENCY',\n",
       " 'NODE_LABEL_WIDTH',\n",
       " 'NODE_NESTED_NETWORK_IMAGE_VISIBLE',\n",
       " 'NODE_PAINT',\n",
       " 'NODE_SELECTED',\n",
       " 'NODE_SELECTED_PAINT',\n",
       " 'NODE_SHAPE',\n",
       " 'NODE_SIZE',\n",
       " 'NODE_TOOLTIP',\n",
       " 'NODE_TRANSPARENCY',\n",
       " 'NODE_VISIBLE',\n",
       " 'NODE_WIDTH',\n",
       " 'NODE_X_LOCATION',\n",
       " 'NODE_Y_LOCATION',\n",
       " 'NODE_Z_LOCATION']"
      ]
     },
     "execution_count": 10,
     "metadata": {},
     "output_type": "execute_result"
    }
   ],
   "source": [
    "p4c.get_visual_property_names() # Names of all visual properties."
   ]
  },
  {
   "cell_type": "markdown",
   "id": "d6feb98d-3fb7-4c5a-9677-b9fad42be5cc",
   "metadata": {},
   "source": [
    "### Filtering Visual Properties\n",
    "\n",
    "When working with Cytoscape styles, you might want to filter visual properties based on specific keywords, such as \"location\" This can help you quickly identify relevant properties for customization. Let's explore how to do this!"
   ]
  },
  {
   "cell_type": "markdown",
   "id": "59de21ca-6f6c-4d66-83c3-61f419bcb3f6",
   "metadata": {},
   "source": [
    "#### Step 1: Filtering with a List Comprehension\n",
    "\n",
    "You can use a simple list comprehension to filter visual properties that contain the word \"location\" (case-insensitive). Here's how:"
   ]
  },
  {
   "cell_type": "code",
   "execution_count": 29,
   "id": "bd35d750-901e-42f2-b3ae-b69f45c914a6",
   "metadata": {},
   "outputs": [
    {
     "data": {
      "text/plain": [
       "['NETWORK_CENTER_X_LOCATION',\n",
       " 'NETWORK_CENTER_Y_LOCATION',\n",
       " 'NETWORK_CENTER_Z_LOCATION',\n",
       " 'NODE_X_LOCATION',\n",
       " 'NODE_Y_LOCATION',\n",
       " 'NODE_Z_LOCATION']"
      ]
     },
     "execution_count": 29,
     "metadata": {},
     "output_type": "execute_result"
    }
   ],
   "source": [
    "[i for i in p4c.get_visual_property_names() if \"location\" in i.lower()]"
   ]
  },
  {
   "cell_type": "markdown",
   "id": "7467f3da-acb5-4594-aa84-747af60c495e",
   "metadata": {},
   "source": [
    "#### Step 2: Creating a Reusable Function\n",
    "\n",
    "If you need to filter visual properties by various keywords repeatedly, it's helpful to define a reusable function. Here's an example:"
   ]
  },
  {
   "cell_type": "code",
   "execution_count": 8,
   "id": "1f90492c-94a8-4213-b414-3f9b69521c63",
   "metadata": {
    "scrolled": true
   },
   "outputs": [
    {
     "data": {
      "text/plain": [
       "['NETWORK_CENTER_X_LOCATION',\n",
       " 'NETWORK_CENTER_Y_LOCATION',\n",
       " 'NETWORK_CENTER_Z_LOCATION',\n",
       " 'NODE_X_LOCATION',\n",
       " 'NODE_Y_LOCATION',\n",
       " 'NODE_Z_LOCATION']"
      ]
     },
     "execution_count": 8,
     "metadata": {},
     "output_type": "execute_result"
    }
   ],
   "source": [
    "# Define a function to filter visual properties by a given keyword\n",
    "def filter_properties(keyword : str):\n",
    "    \"\"\"\n",
    "    Filter visual properties containing the specified keyword.\n",
    "\n",
    "    Parameters:\n",
    "        keyword (str): The keyword to search for in visual property names.\n",
    "\n",
    "    Returns:\n",
    "        list: A list of visual property names containing the keyword (case-insensitive).\n",
    "    \"\"\"\n",
    "    return [i for i in p4c.get_visual_property_names() if keyword.lower() in i.lower()]\n",
    "\n",
    "# Use the function to filter properties containing \"location\"\n",
    "filter_properties(\"location\")"
   ]
  },
  {
   "cell_type": "markdown",
   "id": "b3a9be29-f670-4245-b0bf-96269ace4a51",
   "metadata": {},
   "source": [
    "#### Try It Yourself!\n",
    "\n",
    "Experiment with different keywords, like `\"color\"`, `\"transparency\"`, or `\"size\"`. \n",
    "\n",
    "This simple function and list comprehension make it easy to explore and filter the extensive list of visual properties in Cytoscape."
   ]
  },
  {
   "cell_type": "markdown",
   "id": "7847345c-8cf5-4eb7-a685-98e948287f96",
   "metadata": {},
   "source": []
  },
  {
   "cell_type": "markdown",
   "id": "f668660b-73b8-43ac-973c-82084c1c6991",
   "metadata": {
    "jp-MarkdownHeadingCollapsed": true
   },
   "source": [
    "## Loading Session\n",
    "Let's open a Cytoscape demo Session file:"
   ]
  },
  {
   "cell_type": "code",
   "execution_count": 35,
   "id": "06c3b60f-48ef-4aab-a39f-05a97c9c3612",
   "metadata": {},
   "outputs": [
    {
     "name": "stdout",
     "output_type": "stream",
     "text": [
      "Opening sampleData/sessions/Yeast Perturbation.cys...\n"
     ]
    },
    {
     "data": {
      "text/plain": [
       "{}"
      ]
     },
     "execution_count": 35,
     "metadata": {},
     "output_type": "execute_result"
    }
   ],
   "source": [
    "p4c.open_session()"
   ]
  },
  {
   "cell_type": "markdown",
   "id": "6a9adffd-7534-4792-b8f8-2d7c5e6b91c2",
   "metadata": {
    "jp-MarkdownHeadingCollapsed": true
   },
   "source": [
    "## Starting with Defaults: Exploring Visual Property Defaults\n",
    "\n",
    "Before diving into property mappings, let's start by exploring **default styles**. These represent the base styling applied to all nodes and edges in your network unless overridden by mappings or bypasses.\n",
    "\n",
    "#### Retrieving Default Visual Properties\n",
    "\n",
    "You can programmatically retrieve the default values of visual properties for a given style. For example, let’s check the default **node shape** in the \"default\" style:"
   ]
  },
  {
   "cell_type": "code",
   "execution_count": 34,
   "id": "0c38b033-56ae-44c8-880e-6779afbc65a9",
   "metadata": {},
   "outputs": [
    {
     "data": {
      "text/plain": [
       "'ELLIPSE'"
      ]
     },
     "execution_count": 34,
     "metadata": {},
     "output_type": "execute_result"
    }
   ],
   "source": [
    "# Retrieve the default node shape in the \"default\" style\n",
    "p4c.get_visual_property_default('NODE_SHAPE', style_name='default')"
   ]
  },
  {
   "attachments": {},
   "cell_type": "markdown",
   "id": "12dad4d9-4a46-461c-8b4e-3e6aabe9546f",
   "metadata": {},
   "source": [
    "#### What Does This Do?\n",
    "\n",
    "The function **get_visual_property_default()** retrieves the current **default value** of a specified visual property for a given style. In this case:\n",
    "- **'NODE_SHAPE'** specifies the visual property we are querying.\n",
    "- **style_name='default'** ensures we are looking at the defaults for the \"default\" style.\n",
    "\n",
    "---\n",
    "\n",
    "#### Try It Yourself!\n",
    "- Experiment with other visual properties, such as 'EDGE_WIDTH', 'NODE_FILL_COLOR', or 'NETWORK_BACKGROUND_PAINT'.  "
   ]
  },
  {
   "cell_type": "code",
   "execution_count": null,
   "id": "899e05e2-465f-4cd2-b566-06369c67fee0",
   "metadata": {},
   "outputs": [],
   "source": []
  },
  {
   "cell_type": "markdown",
   "id": "1c4421ca-a287-4420-94c7-fa48e33c626d",
   "metadata": {},
   "source": [
    "### Customizing Default Visual Properties in Cytoscape\n",
    "\n",
    "There are two approaches: using **specific functions** and the **general function** for setting defaults.\n",
    "\n",
    "---\n",
    "\n",
    "#### Specific Functions: Quick and Easy Customization\n",
    "\n",
    "For most use cases, specific functions can be used to update default visual properties. These functions follow a consistent naming pattern:\n",
    "\n",
    "```python\n",
    "p4c.set_<property>_default(value, style_name='style')\n",
    "```\n",
    "\n",
    "- **`<property>`**: The visual property you want to customize (e.g., `node_shape`, `node_color`, etc.).  \n",
    "- **`value`**: The desired default value (e.g., `'ELLIPSE'`, `50`, or a color like `'#D3D3D3'`).  \n",
    "- **`style_name`**: (Optional) The name of the style to modify. Defaults to `'default'` if not specified.\n",
    "\n",
    "For a full list of specific functions, refer to the [**Styles -> Style Defaults**](https://py4cytoscape.readthedocs.io/en/latest/reference/styles.html#module-py4cytoscape.style_defaults) section of the `py4cytoscape` documentation.\n",
    "\n",
    "---\n",
    "\n",
    "### General Function: Flexible Customization for All Properties\n",
    "\n",
    "If a specific function isn’t available for a property, you can use the general-purpose `set_visual_property_default()` function. This function allows you to define the property and its value as a dictionary.\n",
    "\n",
    "```python\n",
    "p4c.set_visual_property_default(style_string, style_name=None)\n",
    "```\n",
    "\n",
    "- **`style_string`**: A dictionary specifying the visual property and its value. Example:  \n",
    "  ```python\n",
    "  {'visualProperty': 'NODE_SIZE', 'value': '35'}\n",
    "  ```  \n",
    "- **`style_name`**: (Optional) The name of the style to modify. Defaults to `'default'`.\n"
   ]
  },
  {
   "cell_type": "code",
   "execution_count": 32,
   "id": "36554491-a2e8-4c21-998c-f2830800614b",
   "metadata": {},
   "outputs": [
    {
     "data": {
      "text/plain": [
       "''"
      ]
     },
     "execution_count": 32,
     "metadata": {},
     "output_type": "execute_result"
    }
   ],
   "source": [
    "# Set all nodes to have an Rectangle shape using the specific function\n",
    "p4c.set_node_shape_default('RECTANGLE', style_name='default')"
   ]
  },
  {
   "cell_type": "code",
   "execution_count": 33,
   "id": "d0c4b093-045c-4533-b212-2ae1989995f5",
   "metadata": {},
   "outputs": [
    {
     "data": {
      "text/plain": [
       "''"
      ]
     },
     "execution_count": 33,
     "metadata": {},
     "output_type": "execute_result"
    }
   ],
   "source": [
    "# Set the default node shape to 'ELLIPSE' using the general function\n",
    "style_string = {'visualProperty': 'NODE_SHAPE', 'value': 'ELLIPSE'}\n",
    "p4c.set_visual_property_default(style_string, style_name='default')"
   ]
  },
  {
   "cell_type": "markdown",
   "id": "466203e6-4850-4cdb-b0c7-03e529e4a287",
   "metadata": {},
   "source": [
    "#### Key Functions for Default Styling\n",
    "\n",
    "Here’s a quick overview of commonly used functions:  \n",
    "- **set_node_shape_default()**: Sets the default shape for nodes (e.g., 'ELLIPSE', 'RECTANGLE').  \n",
    "- **set_node_size_default()**: Adjusts the default size of nodes.  \n",
    "- **set_node_color_default()**: Changes the default color of nodes (using hex codes, e.g., '#D3D3D3').  \n",
    "- **set_node_border_width_default()**: Sets the width of the node border.  \n",
    "- **set_node_font_size_default()**: Adjusts the default font size for node labels.  \n",
    "\n",
    "Again, a complete list can be found in the [*Styles -> Style Defaults*](https://py4cytoscape.readthedocs.io/en/latest/reference/styles.html#module-py4cytoscape.style_defaults) section of the docs. \n",
    "\n",
    "These functions allow you to programmatically define the look and feel of your network. Before applying advanced mappings or customizations to make your network more dynamic"
   ]
  },
  {
   "cell_type": "code",
   "execution_count": 5,
   "id": "ed9b5d11-8c36-44c8-aed9-f8f316234ec5",
   "metadata": {},
   "outputs": [
    {
     "data": {
      "text/plain": [
       "''"
      ]
     },
     "execution_count": 5,
     "metadata": {},
     "output_type": "execute_result"
    }
   ],
   "source": [
    "# p4c.set_visual_style('default')\n",
    "# p4c.set_node_shape_default('ELLIPSE', style_name='default')\n",
    "# p4c.lock_node_dimensions(True, style_name='default')\n",
    "# p4c.set_node_size_default(50, style_name='default')\n",
    "# p4c.set_node_color_default('#D3D3D3', style_name='default')\n",
    "# p4c.set_node_border_width_default(2, style_name='default')\n",
    "# p4c.set_node_color_default('#616060', style_name='default')\n",
    "# p4c.set_node_font_size_default(14, style_name='default')"
   ]
  },
  {
   "cell_type": "markdown",
   "id": "90344dca-a045-46a4-9e7c-7e05afa2847a",
   "metadata": {},
   "source": [
    "## Mapping Styles to Attributes"
   ]
  },
  {
   "cell_type": "code",
   "execution_count": null,
   "id": "bc5e1ed7-3247-442a-856a-354db7b5f48d",
   "metadata": {},
   "outputs": [],
   "source": []
  }
 ],
 "metadata": {
  "kernelspec": {
   "display_name": "Python 3 (ipykernel)",
   "language": "python",
   "name": "python3"
  },
  "language_info": {
   "codemirror_mode": {
    "name": "ipython",
    "version": 3
   },
   "file_extension": ".py",
   "mimetype": "text/x-python",
   "name": "python",
   "nbconvert_exporter": "python",
   "pygments_lexer": "ipython3",
   "version": "3.13.0"
  }
 },
 "nbformat": 4,
 "nbformat_minor": 5
}
