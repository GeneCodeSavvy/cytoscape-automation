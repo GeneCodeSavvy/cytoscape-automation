{
  "nbformat": 4,
  "nbformat_minor": 0,
  "metadata": {
    "kernelspec": {
      "display_name": "Python 3",
      "language": "python",
      "name": "python3"
    },
    "language_info": {
      "codemirror_mode": {
        "name": "ipython",
        "version": 3
      },
      "file_extension": ".py",
      "mimetype": "text/x-python",
      "name": "python",
      "nbconvert_exporter": "python",
      "pygments_lexer": "ipython3",
      "version": "3.8.5"
    },
    "colab": {
      "name": "scNetViz_use_case_1.ipynb",
      "provenance": [],
      "include_colab_link": true
    }
  },
  "cells": [
    {
      "cell_type": "markdown",
      "metadata": {
        "id": "view-in-github",
        "colab_type": "text"
      },
      "source": [
        "<a href=\"https://colab.research.google.com/github/cytoscape/cytoscape-automation/blob/master/for-scripters/Python/scNetViz_use_case_1.ipynb\" target=\"_parent\"><img src=\"https://colab.research.google.com/assets/colab-badge.svg\" alt=\"Open In Colab\"/></a>"
      ]
    },
    {
      "cell_type": "markdown",
      "metadata": {
        "id": "UToWPRhX0-2N"
      },
      "source": [
        "# scNetViz: EMBL-EBI Single Cell Expression Atlas"
      ]
    },
    {
      "cell_type": "markdown",
      "metadata": {
        "id": "Ix1E9J510-2P"
      },
      "source": [
        "## Krishna Choudhary, Yihang Xin and Alex Pico\n",
        "## 2021-01-29\n"
      ]
    },
    {
      "cell_type": "markdown",
      "metadata": {
        "id": "uNTCiZ3G0-2Q"
      },
      "source": [
        "In this example, we will browse a single cell expression atlas, explore a particular dataset, perform differential expression analysis based on provided categories, generate networks from the top genes from each category, and functionally characterize and visualize the networks. \n",
        "\n",
        "# Installation\n",
        "\n",
        "The following chunk of code installs the `py4cytoscape` module."
      ]
    },
    {
      "cell_type": "code",
      "metadata": {
        "id": "owNtGkHX0-2R"
      },
      "source": [
        "%%capture\n",
        "!python3 -m pip install python-igraph requests pandas networkx\n",
        "!python3 -m pip install py4cytoscape"
      ],
      "execution_count": null,
      "outputs": []
    },
    {
      "cell_type": "markdown",
      "metadata": {
        "id": "_k6MWGP80_kl"
      },
      "source": [
        "If you are using a remote notebook environment such as Google Colab, please execute the cell below. (If you're running on your local notebook, you don't need to do that.)\n",
        "\n"
      ]
    },
    {
      "cell_type": "code",
      "metadata": {
        "id": "8HT0Et641Aok"
      },
      "source": [
        "import requests\n",
        "exec(requests.get(\"https://raw.githubusercontent.com/cytoscape/jupyter-bridge/master/client/p4c_init.py\").text)\n",
        "IPython.display.Javascript(_PY4CYTOSCAPE_BROWSER_CLIENT_JS) # Start browser client"
      ],
      "execution_count": null,
      "outputs": []
    },
    {
      "cell_type": "markdown",
      "metadata": {
        "id": "AqAuumyB0-2S"
      },
      "source": [
        "# Prerequisites\n",
        "## In addition to this package (py4cytoscape latest version 0.0.9), you will need:\n",
        "\n",
        "* Latest version of Cytoscape, which can be downloaded from https://cytoscape.org/download.html. Simply follow the installation instructions on screen.\n",
        "* Complete installation wizard\n",
        "* Launch Cytoscape\n",
        "\n",
        "For this vignette, you need to install following apps:\n",
        "\n",
        "* Install the stringApp app from https://apps.cytoscape.org/apps/stringapp\n",
        "\n",
        "* Install the filetransfer app from https://apps.cytoscape.org/apps/filetransfer\n",
        "\n",
        "* Install the enhancedGraphics app from https://apps.cytoscape.org/apps/enhancedgraphics\n",
        "\n",
        "* Install the cyBrowser app from https://apps.cytoscape.org/apps/cybrowser\n",
        "\n",
        "* Install the cyPlot app from https://apps.cytoscape.org/apps/cyplot\n",
        "\n",
        "You can also install app inside Python notebook by running \"py4cytoscape.install_app('Your App')\""
      ]
    },
    {
      "cell_type": "markdown",
      "metadata": {
        "id": "e6GxyVZ00-2S"
      },
      "source": [
        "##  Import the required package"
      ]
    },
    {
      "cell_type": "code",
      "metadata": {
        "scrolled": true,
        "id": "M6mJPDb30-2S"
      },
      "source": [
        "import py4cytoscape as p4c"
      ],
      "execution_count": null,
      "outputs": []
    },
    {
      "cell_type": "code",
      "metadata": {
        "id": "mMU3sFoj0-2T",
        "outputId": "795ad553-ddc9-4673-fbb7-09701754c242"
      },
      "source": [
        "p4c.cytoscape_version_info() # Check cytoscape connection."
      ],
      "execution_count": null,
      "outputs": [
        {
          "output_type": "execute_result",
          "data": {
            "text/plain": [
              "{'apiVersion': 'v1',\n",
              " 'cytoscapeVersion': '3.8.2',\n",
              " 'automationAPIVersion': '1.0.0',\n",
              " 'py4cytoscapeVersion': '0.0.7'}"
            ]
          },
          "metadata": {
            "tags": []
          },
          "execution_count": 15
        }
      ]
    },
    {
      "cell_type": "markdown",
      "metadata": {
        "id": "COQyUdEU0-2V"
      },
      "source": [
        "## Pull data from the EMBL-EBI Single-Cell Expression Atlas\n"
      ]
    },
    {
      "cell_type": "markdown",
      "metadata": {
        "id": "wFIp222Z0-2V"
      },
      "source": [
        "Use the accession number of single-cell experiment to pull data from the  [Single-Cell Experiment Atlas](https://www.ebi.ac.uk/gxa/sc/experiments) of EMBL-EBI."
      ]
    },
    {
      "cell_type": "code",
      "metadata": {
        "id": "uFY6bk9q0-2V",
        "outputId": "50b7232e-bb0f-4990-aff4-a6d00f0dc5d8"
      },
      "source": [
        "p4c.commands.commands_run('scnetviz load gxa experiment accession=E-GEOD-81383')"
      ],
      "execution_count": null,
      "outputs": [
        {
          "output_type": "execute_result",
          "data": {
            "text/plain": [
              "[]"
            ]
          },
          "metadata": {
            "tags": []
          },
          "execution_count": 7
        }
      ]
    },
    {
      "cell_type": "markdown",
      "metadata": {
        "id": "SjetfvOH0-2W"
      },
      "source": [
        "This loads the data and opens an experiment table with three tabs, named _TPM_, _Categories_, and _DiffExp_. "
      ]
    },
    {
      "cell_type": "markdown",
      "metadata": {
        "id": "4QBvR8Zm0-2W"
      },
      "source": [
        "## Differential expression analysis\n"
      ]
    },
    {
      "cell_type": "markdown",
      "metadata": {
        "id": "1_5CctHf0-2W"
      },
      "source": [
        "Run differential expression analysis for the row with `true` value of `sel.K` (default). "
      ]
    },
    {
      "cell_type": "code",
      "metadata": {
        "id": "zQzyzZJx0-2X",
        "outputId": "d7bc5214-2f51-4f87-d85a-2c20d1ece639"
      },
      "source": [
        "p4c.commands.commands_run('scnetviz calculate diffexp accession=E-GEOD-81383',)"
      ],
      "execution_count": null,
      "outputs": [
        {
          "output_type": "execute_result",
          "data": {
            "text/plain": [
              "[]"
            ]
          },
          "metadata": {
            "tags": []
          },
          "execution_count": 10
        }
      ]
    },
    {
      "cell_type": "markdown",
      "metadata": {
        "id": "NeMP0etL0-2Y"
      },
      "source": [
        "## Query STRING database for interaction networks\n"
      ]
    },
    {
      "cell_type": "markdown",
      "metadata": {
        "id": "qZ3pLrby0-2Y"
      },
      "source": [
        "Fetch protein-protein interaction networks from the [STRING](https://string-db.org/) database."
      ]
    },
    {
      "cell_type": "code",
      "metadata": {
        "id": "M5xEYsU00-2Y",
        "outputId": "afb39d8d-357f-4339-93ff-93b3f554bbe3"
      },
      "source": [
        "p4c.commands.commands_run('scnetviz create network accession=E-GEOD-81383')"
      ],
      "execution_count": null,
      "outputs": [
        {
          "output_type": "execute_result",
          "data": {
            "text/plain": [
              "[]"
            ]
          },
          "metadata": {
            "tags": []
          },
          "execution_count": 11
        }
      ]
    },
    {
      "cell_type": "markdown",
      "metadata": {
        "id": "uSuCuLKO0-2Y"
      },
      "source": [
        "The following command runs both the differential expression analysis and fetches interaction networks simultaneously.\n",
        "\n"
      ]
    },
    {
      "cell_type": "code",
      "metadata": {
        "id": "kL1AycJ80-2Z",
        "outputId": "0124b1ce-1bff-4449-8210-0546bf7fdf3c"
      },
      "source": [
        "p4c.commands.commands_run('scnetviz create all experiment=E-GEOD-81383')"
      ],
      "execution_count": null,
      "outputs": [
        {
          "output_type": "execute_result",
          "data": {
            "text/plain": [
              "[]"
            ]
          },
          "metadata": {
            "tags": []
          },
          "execution_count": 12
        }
      ]
    },
    {
      "cell_type": "markdown",
      "metadata": {
        "id": "3fLRYJkP0-2Z"
      },
      "source": [
        "## Functional enrichment analysis"
      ]
    },
    {
      "cell_type": "markdown",
      "metadata": {
        "id": "wBig3Iqp0-2Z"
      },
      "source": [
        "Check the networks available in the current Cytoscape session.\n",
        "\n"
      ]
    },
    {
      "cell_type": "code",
      "metadata": {
        "id": "Cl9UZQMg0-2a",
        "outputId": "4e29f0ba-756a-45dd-f523-c59db92086d0"
      },
      "source": [
        "p4c.commands.commands_run('network list')"
      ],
      "execution_count": null,
      "outputs": [
        {
          "output_type": "execute_result",
          "data": {
            "text/plain": [
              "['Cluster (k = 5) Network',\n",
              " 'Cluster 3',\n",
              " 'Cluster 4',\n",
              " 'Cluster 1',\n",
              " 'Cluster 2',\n",
              " 'Cluster 5']"
            ]
          },
          "metadata": {
            "tags": []
          },
          "execution_count": 13
        }
      ]
    },
    {
      "cell_type": "markdown",
      "metadata": {
        "id": "z91q-YTF0-2a"
      },
      "source": [
        "Perform functional enrichment analysis for the network selected in the current session. This uses the [_stringApp_](https://www.cgl.ucsf.edu/cytoscape/stringApp/index.shtml). To view the results in the Cytoscape application, you may have to activate the Show enrichment panel option under STRING Enrichment sub-menu from Apps from the menu bar."
      ]
    },
    {
      "cell_type": "code",
      "metadata": {
        "id": "a05Cc0wM0-2a",
        "outputId": "a2f856a8-0d39-4067-a955-5da717d50d26"
      },
      "source": [
        "p4c.commands.commands_run('string retrieve enrichment allNetSpecies=Homo sapiens')"
      ],
      "execution_count": null,
      "outputs": [
        {
          "output_type": "execute_result",
          "data": {
            "text/plain": [
              "['Enrichment results summary:',\n",
              " 'ppiEnrichment=2.66e-15',\n",
              " 'enrichmentNodes=187',\n",
              " 'enrichmentExpectedEdges=86',\n",
              " 'enrichmentEdges=168',\n",
              " 'enrichmentClusteringCoeff=0.380102784915619',\n",
              " 'enrichmentAvgDegree=1.79679144385027']"
            ]
          },
          "metadata": {
            "tags": []
          },
          "execution_count": 14
        }
      ]
    },
    {
      "cell_type": "markdown",
      "metadata": {
        "id": "migqWyaS0-2a"
      },
      "source": [
        "Visit the [scNetViz website](https://www.cgl.ucsf.edu/cytoscape/scNetViz/#networks) for more information."
      ]
    }
  ]
}