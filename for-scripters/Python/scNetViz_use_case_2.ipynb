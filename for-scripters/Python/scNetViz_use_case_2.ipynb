{
  "nbformat": 4,
  "nbformat_minor": 0,
  "metadata": {
    "kernelspec": {
      "display_name": "Python 3",
      "language": "python",
      "name": "python3"
    },
    "language_info": {
      "codemirror_mode": {
        "name": "ipython",
        "version": 3
      },
      "file_extension": ".py",
      "mimetype": "text/x-python",
      "name": "python",
      "nbconvert_exporter": "python",
      "pygments_lexer": "ipython3",
      "version": "3.8.5"
    },
    "colab": {
      "name": "scNetViz_use_case_2.ipynb",
      "provenance": [],
      "include_colab_link": true
    }
  },
  "cells": [
    {
      "cell_type": "markdown",
      "metadata": {
        "id": "view-in-github",
        "colab_type": "text"
      },
      "source": [
        "<a href=\"https://colab.research.google.com/github/cytoscape/cytoscape-automation/blob/master/for-scripters/Python/scNetViz_use_case_2.ipynb\" target=\"_parent\"><img src=\"https://colab.research.google.com/assets/colab-badge.svg\" alt=\"Open In Colab\"/></a>"
      ]
    },
    {
      "cell_type": "markdown",
      "metadata": {
        "id": "S5YskK5c1jHR"
      },
      "source": [
        "# scNetViz:  Your Own scRNA-Seq Dataset\n",
        "## Krishna Choudhary, Yihang Xin and Alex Pico\n",
        "## 2021-01-08\n"
      ]
    },
    {
      "cell_type": "markdown",
      "metadata": {
        "id": "lB4e368Q1jHU"
      },
      "source": [
        "In this example, we will import normalized scRNA-seq data and cluster assignments from local files, generate cell plots, perform differential expression analysis based on provided categories, visualize as a combined heatmap and generate networks from the top genes from each category.\n",
        "\n",
        "# Installation\n",
        "\n",
        "The following chunk of code installs the `py4cytoscape` module."
      ]
    },
    {
      "cell_type": "code",
      "metadata": {
        "id": "yMPYqIeh1jHU"
      },
      "source": [
        "%%capture\n",
        "!python3 -m pip install python-igraph requests pandas networkx\n",
        "!python3 -m pip install py4cytoscape"
      ],
      "execution_count": null,
      "outputs": []
    },
    {
      "cell_type": "markdown",
      "metadata": {
        "id": "_zRnJwsP1j9m"
      },
      "source": [
        "If you are using a remote notebook environment such as Google Colab, please execute the cell below. (If you're running on your local notebook, you don't need to do that.)\n",
        "\n"
      ]
    },
    {
      "cell_type": "code",
      "metadata": {
        "id": "-TIrK83E1nB2"
      },
      "source": [
        "import requests\n",
        "exec(requests.get(\"https://raw.githubusercontent.com/cytoscape/jupyter-bridge/master/client/p4c_init.py\").text)\n",
        "IPython.display.Javascript(_PY4CYTOSCAPE_BROWSER_CLIENT_JS) # Start browser client"
      ],
      "execution_count": null,
      "outputs": []
    },
    {
      "cell_type": "markdown",
      "metadata": {
        "id": "Ue-bjACy1jHV"
      },
      "source": [
        "## Setup Cytoscape\n",
        "* Launch Cytoscape on your local machine. If you haven't already installed Cytoscape, then download the latest version from http://cytoscape.org.\n",
        "* Install the STRING app from http://apps.cytoscape.org/apps/stringapp\n",
        "* Install the scnetviz app from https://apps.cytoscape.org/apps/scnetviz\n",
        "* Install the cyPlot app from https://apps.cytoscape.org/apps/cyplot\n",
        "* Leave Cytoscape running in the background during the remainder of the tutorial.\n",
        "\n",
        "You can also install app inside Python notebook by running \"py4cytoscape.install_app('Your App')\""
      ]
    },
    {
      "cell_type": "markdown",
      "metadata": {
        "id": "y2_JQpVC1jHV"
      },
      "source": [
        "## Import the required packages\n"
      ]
    },
    {
      "cell_type": "code",
      "metadata": {
        "id": "ZTva54eb1jHW"
      },
      "source": [
        "import py4cytoscape as p4c\n",
        "import requests\n",
        "import zipfile\n",
        "import os"
      ],
      "execution_count": null,
      "outputs": []
    },
    {
      "cell_type": "code",
      "metadata": {
        "id": "NvFda1361jHW",
        "outputId": "6024fb85-ed12-4f06-b3c4-8755c379a434"
      },
      "source": [
        "p4c.cytoscape_version_info() # Check cytoscape connection."
      ],
      "execution_count": null,
      "outputs": [
        {
          "output_type": "execute_result",
          "data": {
            "text/plain": [
              "{'apiVersion': 'v1',\n",
              " 'cytoscapeVersion': '3.8.2',\n",
              " 'automationAPIVersion': '1.0.0',\n",
              " 'py4cytoscapeVersion': '0.0.7'}"
            ]
          },
          "metadata": {
            "tags": []
          },
          "execution_count": 3
        }
      ]
    },
    {
      "cell_type": "markdown",
      "metadata": {
        "id": "v4nH-JcE1jHX"
      },
      "source": [
        "# Download test data\n",
        "\n"
      ]
    },
    {
      "cell_type": "markdown",
      "metadata": {
        "id": "Ii_RX6BJ1jHY"
      },
      "source": [
        "You may use your own scRNA-seq data for the next steps. scNetViz accepts standard outputs from an scRNA-seq processing software such as CellRanger as inputs. For illustration, the following chunk downloads and unzips a test data (Accession: E-GEOD-109979) in the same directory as this R Markdown file."
      ]
    },
    {
      "cell_type": "code",
      "metadata": {
        "id": "P6wJJ7yu1jHZ",
        "outputId": "c43fdd2d-38cd-4864-9009-9f92246a2cc4"
      },
      "source": [
        "#Download normalized counts\n",
        "url_1 = 'https://github.com/cytoscape/cytoscape-tutorials/blob/gh-pages/protocols/data/E-GEOD-109979-normalised-files.zip?raw=true'\n",
        "r1 = requests.get(url_1, allow_redirects=True)\n",
        "open('E-GEOD-109979-normalised-files.zip', 'wb').write(r1.content)"
      ],
      "execution_count": null,
      "outputs": [
        {
          "output_type": "execute_result",
          "data": {
            "text/plain": [
              "26759899"
            ]
          },
          "metadata": {
            "tags": []
          },
          "execution_count": 20
        }
      ]
    },
    {
      "cell_type": "code",
      "metadata": {
        "id": "dYcM4ulp1jHZ"
      },
      "source": [
        "with zipfile.ZipFile(\"E-GEOD-109979-normalised-files.zip\",\"r\") as zip_ref:\n",
        "    zip_ref.extractall(\"E-GEOD-109979\")"
      ],
      "execution_count": null,
      "outputs": []
    },
    {
      "cell_type": "code",
      "metadata": {
        "id": "i82UDcCu1jHZ",
        "outputId": "f17c8728-b607-49d6-b965-2b3d2589dac8"
      },
      "source": [
        "# Download category information\n",
        "url_2 = \"https://raw.githubusercontent.com/cytoscape/cytoscape-tutorials/gh-pages/protocols/data/E-GEOD-109979.clusters.tsv\"\n",
        "r2 = requests.get(url_2, allow_redirects=True)\n",
        "open('E-GEOD-109979.clusters.tsv', 'wb').write(r2.content)"
      ],
      "execution_count": null,
      "outputs": [
        {
          "output_type": "execute_result",
          "data": {
            "text/plain": [
              "7210"
            ]
          },
          "metadata": {
            "tags": []
          },
          "execution_count": 19
        }
      ]
    },
    {
      "cell_type": "markdown",
      "metadata": {
        "id": "bORfkjFU1jHa"
      },
      "source": [
        "# Load data from local disk\n",
        "\n"
      ]
    },
    {
      "cell_type": "markdown",
      "metadata": {
        "id": "IM2VVar71jHa"
      },
      "source": [
        "Load the normalized count matrix in the current Cytoscape session. The directory with normalized counts must have three files only -- the count matrix, the column names, and the row names."
      ]
    },
    {
      "cell_type": "code",
      "metadata": {
        "id": "RADPeI5W1jHa"
      },
      "source": [
        "completeFilePath = os.path.abspath(\"E-GEOD-109979\")"
      ],
      "execution_count": null,
      "outputs": []
    },
    {
      "cell_type": "code",
      "metadata": {
        "id": "jnaANHw71jHa"
      },
      "source": [
        "cmd_list = ['scnetviz load experiment file file=',completeFilePath, 'species=Homo sapiens']\n",
        "cmd = \" \".join(cmd_list)"
      ],
      "execution_count": null,
      "outputs": []
    },
    {
      "cell_type": "code",
      "metadata": {
        "id": "cwOgWYcX1jHa",
        "outputId": "97a2bb58-9495-4474-f65d-1c0ab5b9a33f"
      },
      "source": [
        "p4c.commands.commands_run(cmd)"
      ],
      "execution_count": null,
      "outputs": [
        {
          "output_type": "execute_result",
          "data": {
            "text/plain": [
              "[]"
            ]
          },
          "metadata": {
            "tags": []
          },
          "execution_count": 9
        }
      ]
    },
    {
      "cell_type": "markdown",
      "metadata": {
        "id": "_p3juPaP1jHb"
      },
      "source": [
        "# Load the category data\n"
      ]
    },
    {
      "cell_type": "markdown",
      "metadata": {
        "id": "FyImZtQ11jHb"
      },
      "source": [
        "Load the clustering of cells.\n",
        "\n"
      ]
    },
    {
      "cell_type": "code",
      "metadata": {
        "id": "AR3RHIhm1jHb"
      },
      "source": [
        "completeFilePath = os.path.abspath(\"E-GEOD-109979.clusters.tsv\")"
      ],
      "execution_count": null,
      "outputs": []
    },
    {
      "cell_type": "code",
      "metadata": {
        "id": "m6NA99Hs1jHb"
      },
      "source": [
        "cmd_list = ['scnetviz add file category file=',completeFilePath]\n",
        "cmd = \" \".join(cmd_list)"
      ],
      "execution_count": null,
      "outputs": []
    },
    {
      "cell_type": "code",
      "metadata": {
        "id": "MVaUZWyc1jHb",
        "outputId": "386d59b6-9d97-44dc-cb32-28c656f9bfa5"
      },
      "source": [
        "p4c.commands.commands_run(cmd)"
      ],
      "execution_count": null,
      "outputs": [
        {
          "output_type": "execute_result",
          "data": {
            "text/plain": [
              "[]"
            ]
          },
          "metadata": {
            "tags": []
          },
          "execution_count": 12
        }
      ]
    },
    {
      "cell_type": "markdown",
      "metadata": {
        "id": "A8fKdgFO1jHb"
      },
      "source": [
        "# Generate a UMAP plot\n"
      ]
    },
    {
      "cell_type": "markdown",
      "metadata": {
        "id": "Pjd_u2x91jHc"
      },
      "source": [
        "scNetViz identifies the loaded data with the file name that was input, which is E-GEOD-109979 for our case. Next, generate UMAP plot and display it in the Cytoscape session (this step may take several minutes to complete). Note that the indexing of rows in the loaded category file starts with 0."
      ]
    },
    {
      "cell_type": "code",
      "metadata": {
        "id": "_KseY6MQ1jHc",
        "outputId": "5f9fd367-ebf3-499a-c1b6-3f87af7345d5"
      },
      "source": [
        "p4c.commands.commands_run('scnetviz calculate UMAP scale=true accession=E-GEOD-109979')"
      ],
      "execution_count": null,
      "outputs": [
        {
          "output_type": "execute_result",
          "data": {
            "text/plain": [
              "['Complete']"
            ]
          },
          "metadata": {
            "tags": []
          },
          "execution_count": 13
        }
      ]
    },
    {
      "cell_type": "code",
      "metadata": {
        "id": "coDrQ8pb1jHc",
        "outputId": "573e8b13-22eb-4a8f-e54a-493835a601c4"
      },
      "source": [
        "p4c.commands.commands_run('scnetviz show cell plot accession=E-GEOD-109979 category=E-GEOD-109979.clusters.tsv categoryRow=0')"
      ],
      "execution_count": null,
      "outputs": [
        {
          "output_type": "execute_result",
          "data": {
            "text/plain": [
              "[]"
            ]
          },
          "metadata": {
            "tags": []
          },
          "execution_count": 14
        }
      ]
    },
    {
      "cell_type": "markdown",
      "metadata": {
        "id": "AMYMJlSW1jHc"
      },
      "source": [
        "# Perform differential expression analysis\n",
        "\n",
        "Perform differential expression analysis\n",
        "\n"
      ]
    },
    {
      "cell_type": "code",
      "metadata": {
        "id": "VL46DnZs1jHc",
        "outputId": "cdd30c92-7e8d-4792-c75e-60b15a803c08"
      },
      "source": [
        "p4c.commands.commands_run('scnetviz calculate diffexp accession=E-GEOD-109979 categoryRow=0')"
      ],
      "execution_count": null,
      "outputs": [
        {
          "output_type": "execute_result",
          "data": {
            "text/plain": [
              "[]"
            ]
          },
          "metadata": {
            "tags": []
          },
          "execution_count": 15
        }
      ]
    },
    {
      "cell_type": "markdown",
      "metadata": {
        "id": "fDfO3qSd1jHd"
      },
      "source": [
        "# Generate heatmap\n",
        "\n",
        "Generate a heatmap showing the top differentially expressed genes.\n",
        "\n"
      ]
    },
    {
      "cell_type": "code",
      "metadata": {
        "id": "F75NeaVS1jHd",
        "outputId": "0531b788-201e-4f96-c73e-7d2fca929e47"
      },
      "source": [
        "p4c.commands.commands_run('scnetviz show diff plot type=Heatmap')"
      ],
      "execution_count": null,
      "outputs": [
        {
          "output_type": "execute_result",
          "data": {
            "text/plain": [
              "[]"
            ]
          },
          "metadata": {
            "tags": []
          },
          "execution_count": 16
        }
      ]
    },
    {
      "cell_type": "markdown",
      "metadata": {
        "id": "obpQzHI11jHd"
      },
      "source": [
        "## Fetch interaction networks\n",
        "Fetch interaction networks from the STRING database."
      ]
    },
    {
      "cell_type": "code",
      "metadata": {
        "id": "1exsVSER1jHd",
        "outputId": "3a21b729-fe08-4c54-9ffb-8582417bc1a8"
      },
      "source": [
        "p4c.commands.commands_run('scnetviz create network accession=E-GEOD-109979')"
      ],
      "execution_count": null,
      "outputs": [
        {
          "output_type": "execute_result",
          "data": {
            "text/plain": [
              "[]"
            ]
          },
          "metadata": {
            "tags": []
          },
          "execution_count": 17
        }
      ]
    }
  ]
}