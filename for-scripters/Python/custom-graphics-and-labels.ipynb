{
  "nbformat": 4,
  "nbformat_minor": 0,
  "metadata": {
    "kernelspec": {
      "display_name": "Python 3",
      "language": "python",
      "name": "python3"
    },
    "language_info": {
      "codemirror_mode": {
        "name": "ipython",
        "version": 3
      },
      "file_extension": ".py",
      "mimetype": "text/x-python",
      "name": "python",
      "nbconvert_exporter": "python",
      "pygments_lexer": "ipython3",
      "version": "3.8.5"
    },
    "colab": {
      "name": "custom-graphics-and-labels.ipynb",
      "provenance": [],
      "include_colab_link": true
    }
  },
  "cells": [
    {
      "cell_type": "markdown",
      "metadata": {
        "id": "view-in-github",
        "colab_type": "text"
      },
      "source": [
        "<a href=\"https://colab.research.google.com/github/cytoscape/cytoscape-automation/blob/master/for-scripters/Python/custom-graphics-and-labels.ipynb\" target=\"_parent\"><img src=\"https://colab.research.google.com/assets/colab-badge.svg\" alt=\"Open In Colab\"/></a>"
      ]
    },
    {
      "cell_type": "markdown",
      "metadata": {
        "id": "BjpXqOspx-Lq"
      },
      "source": [
        "# Custom Graphics and Labels\n"
      ]
    },
    {
      "cell_type": "markdown",
      "metadata": {
        "id": "IosTmZKjx-Lt"
      },
      "source": [
        "## Yihang Xin and Alex Pico"
      ]
    },
    {
      "cell_type": "markdown",
      "metadata": {
        "id": "MyRokHN2x-Lt"
      },
      "source": [
        "## 2020-12-15"
      ]
    },
    {
      "cell_type": "markdown",
      "metadata": {
        "id": "xLR0xP3ex-Lu"
      },
      "source": [
        "This vignette illustrates how Cytoscape’s Custom Graphics can be used to add graphs, charts and other graphics to node, and how to combine Custom Graphics with the enhancedGraphics app for specialized visualizations.\n",
        "\n"
      ]
    },
    {
      "cell_type": "markdown",
      "metadata": {
        "id": "T7j5LqYPx-Lv"
      },
      "source": [
        "# Installation\n",
        "The following chunk of code installs the `py4cytoscape` module."
      ]
    },
    {
      "cell_type": "code",
      "metadata": {
        "id": "Y3HDjJAVx-Lv"
      },
      "source": [
        "%%capture\n",
        "!python3 -m pip install python-igraph requests pandas networkx\n",
        "!python3 -m pip install py4cytoscape"
      ],
      "execution_count": null,
      "outputs": []
    },
    {
      "cell_type": "markdown",
      "metadata": {
        "id": "F4u9Fk9Zx_He"
      },
      "source": [
        "If you are using a remote notebook environment such as Google Colab, please execute the cell below. (If you're running on your local notebook, you don't need to do that.)\n",
        "\n"
      ]
    },
    {
      "cell_type": "code",
      "metadata": {
        "id": "EgKzG6WayAyx"
      },
      "source": [
        "import requests\n",
        "exec(requests.get(\"https://raw.githubusercontent.com/cytoscape/jupyter-bridge/master/client/p4c_init.py\").text)\n",
        "IPython.display.Javascript(_PY4CYTOSCAPE_BROWSER_CLIENT_JS) # Start browser client"
      ],
      "execution_count": null,
      "outputs": []
    },
    {
      "cell_type": "markdown",
      "metadata": {
        "id": "VjASUlQWx-Lw"
      },
      "source": [
        "# Prerequisites\n"
      ]
    },
    {
      "cell_type": "markdown",
      "metadata": {
        "id": "4Ov_pIz1x-Lx"
      },
      "source": [
        "In addition to this package (py4cytoscape version 0.0.7), you will need:\n",
        "\n",
        "* Install the filetransfer app from https://apps.cytoscape.org/apps/filetransfer\n",
        "\n",
        "* Latest version of Cytoscape, which can be downloaded from https://cytoscape.org/download.html. Simply follow the installation instructions on screen.\n",
        "\n",
        "* Complete installation wizard\n",
        "\n",
        "* Launch Cytoscape\n",
        "\n",
        "You can also install app inside Python notebook by running \"py4cytoscape.install_app('Your App')\""
      ]
    },
    {
      "cell_type": "markdown",
      "metadata": {
        "id": "3-Pze5hox-Lx"
      },
      "source": [
        "# Import the required package\n"
      ]
    },
    {
      "cell_type": "code",
      "metadata": {
        "id": "m5Ema_YFx-Ly"
      },
      "source": [
        "import os\n",
        "import sys\n",
        "import pandas as pd\n",
        "import py4cytoscape as p4c"
      ],
      "execution_count": null,
      "outputs": []
    },
    {
      "cell_type": "markdown",
      "metadata": {
        "id": "gEKztHRPx-Ly"
      },
      "source": [
        "# Setup Cytoscape\n"
      ]
    },
    {
      "cell_type": "code",
      "metadata": {
        "id": "EmcySdoFx-Lz",
        "outputId": "88b66c91-0a96-4664-c2c0-44c3e28677e4"
      },
      "source": [
        "p4c.cytoscape_version_info()"
      ],
      "execution_count": null,
      "outputs": [
        {
          "output_type": "execute_result",
          "data": {
            "text/plain": [
              "{'apiVersion': 'v1',\n",
              " 'cytoscapeVersion': '3.8.2',\n",
              " 'automationAPIVersion': '1.0.0',\n",
              " 'py4cytoscapeVersion': '0.0.6'}"
            ]
          },
          "metadata": {
            "tags": []
          },
          "execution_count": 2
        }
      ]
    },
    {
      "cell_type": "markdown",
      "metadata": {
        "id": "DfHJn_u8x-Lz"
      },
      "source": [
        "# Open Sample"
      ]
    },
    {
      "cell_type": "markdown",
      "metadata": {
        "id": "2O2wMeIux-L0"
      },
      "source": [
        "For this tutorial, we will be using the galFiltered sample session file, which includes a yeast network and associated data."
      ]
    },
    {
      "cell_type": "code",
      "metadata": {
        "id": "kS3HhP5nx-L0",
        "outputId": "42e46993-202b-4c62-df24-c203f3c3d01f"
      },
      "source": [
        "p4c.open_session()"
      ],
      "execution_count": null,
      "outputs": [
        {
          "output_type": "stream",
          "text": [
            "Opening sampleData/sessions/Yeast Perturbation.cys...\n"
          ],
          "name": "stdout"
        },
        {
          "output_type": "execute_result",
          "data": {
            "text/plain": [
              "{}"
            ]
          },
          "metadata": {
            "tags": []
          },
          "execution_count": 3
        }
      ]
    },
    {
      "cell_type": "markdown",
      "metadata": {
        "id": "uqs0UXoix-L0"
      },
      "source": [
        "# Set style and node color\n"
      ]
    },
    {
      "cell_type": "markdown",
      "metadata": {
        "id": "Bb5xxLivx-L0"
      },
      "source": [
        "First, lets change the style to a simple default and the color of nodes to grey:"
      ]
    },
    {
      "cell_type": "code",
      "metadata": {
        "id": "DItg5iYbx-L1",
        "outputId": "f94a058e-1b93-4bd0-cf7e-14a1c884d529"
      },
      "source": [
        "p4c.set_visual_style('default')\n",
        "p4c.set_node_color_default('#D8D8D8')"
      ],
      "execution_count": null,
      "outputs": [
        {
          "output_type": "stream",
          "text": [
            "style_name not specified; updating \"default\" style.\n"
          ],
          "name": "stdout"
        },
        {
          "output_type": "execute_result",
          "data": {
            "text/plain": [
              "''"
            ]
          },
          "metadata": {
            "tags": []
          },
          "execution_count": 4
        }
      ]
    },
    {
      "cell_type": "markdown",
      "metadata": {
        "id": "KEUULpvUx-L1"
      },
      "source": [
        "# Custom Graphics"
      ]
    },
    {
      "cell_type": "markdown",
      "metadata": {
        "id": "NKiolBFWx-L1"
      },
      "source": [
        "## Bar chart"
      ]
    },
    {
      "cell_type": "markdown",
      "metadata": {
        "id": "yqTkKJ6kx-L1"
      },
      "source": [
        "In this example, we will create a bar chart with the three expression values, gal1RGexp, gal4RGexp and gal80Rexp, available as attributes in the session file.\n",
        "\n",
        "Create the Custom Graphic:"
      ]
    },
    {
      "cell_type": "code",
      "metadata": {
        "id": "UWYpDhlOx-L1",
        "outputId": "2b8511dc-a461-4c79-8635-6dcd917fb073"
      },
      "source": [
        "p4c.set_node_custom_bar_chart([\"gal1RGexp\",\"gal4RGexp\",\"gal80Rexp\"])"
      ],
      "execution_count": null,
      "outputs": [
        {
          "output_type": "stream",
          "text": [
            "style_name not specified; updating \"default\" style.\n"
          ],
          "name": "stdout"
        },
        {
          "output_type": "execute_result",
          "data": {
            "text/plain": [
              "''"
            ]
          },
          "metadata": {
            "tags": []
          },
          "execution_count": 5
        }
      ]
    },
    {
      "cell_type": "markdown",
      "metadata": {
        "id": "tsjTdx-Xx-L2"
      },
      "source": [
        "There are 4 types of Bar Charts and customizable parameters for colors, size, spacing and orientation.\n",
        "\n",
        "Position the Bar Chart just below the node. This is an optional step that we are doing here just to make room for subsequent graphics. By specifying both anchors at opposite ends, we can get a lot of space between the node and the graphic."
      ]
    },
    {
      "cell_type": "code",
      "metadata": {
        "id": "O6s669Xdx-L2",
        "outputId": "f0bb2cda-d313-4651-889d-062f341e5d7e"
      },
      "source": [
        "p4c.set_node_custom_position(node_anchor='S', graphic_anchor='N',justification='c')"
      ],
      "execution_count": null,
      "outputs": [
        {
          "output_type": "stream",
          "text": [
            "style_name not specified; updating \"default\" style.\n"
          ],
          "name": "stdout"
        },
        {
          "output_type": "execute_result",
          "data": {
            "text/plain": [
              "''"
            ]
          },
          "metadata": {
            "tags": []
          },
          "execution_count": 6
        }
      ]
    },
    {
      "cell_type": "markdown",
      "metadata": {
        "id": "DlcgzII8x-L2"
      },
      "source": [
        "# Stripes"
      ]
    },
    {
      "cell_type": "markdown",
      "metadata": {
        "id": "pvBnedoox-L2"
      },
      "source": [
        "Next we are going to create stripes of gradient mappings using a horizontal “heatmap”\" of the same three data columns and position the heatmap right above the node. For this vignette, we need to also specify the slot number to avoid overwriting the Bar Chart:"
      ]
    },
    {
      "cell_type": "code",
      "metadata": {
        "id": "1qrHoj7Sx-L2",
        "outputId": "a960dc3b-756f-4613-e319-d6eff9689c58"
      },
      "source": [
        "p4c.set_node_custom_heat_map_chart([\"gal1RGexp\",\"gal4RGexp\",\"gal80Rexp\"], slot = 2)\n",
        "p4c.set_node_custom_position(node_anchor='N', graphic_anchor='S', justification='c', slot = 2)"
      ],
      "execution_count": null,
      "outputs": [
        {
          "output_type": "stream",
          "text": [
            "style_name not specified; updating \"default\" style.\n",
            "style_name not specified; updating \"default\" style.\n"
          ],
          "name": "stdout"
        },
        {
          "output_type": "execute_result",
          "data": {
            "text/plain": [
              "''"
            ]
          },
          "metadata": {
            "tags": []
          },
          "execution_count": 7
        }
      ]
    },
    {
      "cell_type": "markdown",
      "metadata": {
        "id": "MU1xz57yx-L2"
      },
      "source": [
        "# Pie chart"
      ]
    },
    {
      "cell_type": "markdown",
      "metadata": {
        "id": "I1E3WCzLx-L3"
      },
      "source": [
        "Finally, we will create a pie chart with two columns, Radiality and Degree, and place it to the left of the node. Here we’ll use the xOffset parameter to be even more specific about where we want to place the graphic relative to the node."
      ]
    },
    {
      "cell_type": "code",
      "metadata": {
        "id": "Dx1IXgf2x-L3",
        "outputId": "48c6a61b-6708-4d3a-bac1-f38d8ff67d18"
      },
      "source": [
        "p4c.set_node_custom_pie_chart(['Radiality', 'Degree'], slot = 3)\n",
        "p4c.set_node_custom_position(node_anchor='W', justification='c', x_offset = -20, slot = 3)"
      ],
      "execution_count": null,
      "outputs": [
        {
          "output_type": "stream",
          "text": [
            "style_name not specified; updating \"default\" style.\n",
            "style_name not specified; updating \"default\" style.\n"
          ],
          "name": "stdout"
        },
        {
          "output_type": "execute_result",
          "data": {
            "text/plain": [
              "''"
            ]
          },
          "metadata": {
            "tags": []
          },
          "execution_count": 8
        }
      ]
    },
    {
      "cell_type": "markdown",
      "metadata": {
        "id": "65tUNAlvx-L3"
      },
      "source": [
        "# Enhanced Graphics\n"
      ]
    },
    {
      "cell_type": "markdown",
      "metadata": {
        "id": "_yImMWO5x-L3"
      },
      "source": [
        "The nodes in the network are labeled with the corresponding protein names (yeast), but there is additional text information in the Node Table that could be useful to display as labels on the nodes. We are going to use the enhancedGraphics app to create a second node label for the common yeast gene name.\n",
        "\n",
        "This involves a new step: Filling a new column with parameters for the enhancedGraphics App. This column is then mapped to a Custom Graphic slot and (optionally) positioned, like in the examples above.\n",
        "\n"
      ]
    },
    {
      "cell_type": "markdown",
      "metadata": {
        "id": "ccc0bgssx-L3"
      },
      "source": [
        "# Install enhancedGraphics\n"
      ]
    },
    {
      "cell_type": "markdown",
      "metadata": {
        "id": "qdBjbt-cx-L3"
      },
      "source": [
        "The enhancedGraphics app is available from the Cytoscape App Store.\n",
        "\n",
        "Install the enhancedGraphics app from http://apps.cytoscape.org/apps/enhancedgraphics\n",
        "\n",
        "You can also install app inside Python notebook by running py4cytoscape.install_app('Your App')"
      ]
    },
    {
      "cell_type": "markdown",
      "metadata": {
        "id": "Sa-HXA3ax-L4"
      },
      "source": [
        "# Define new label\n"
      ]
    },
    {
      "cell_type": "markdown",
      "metadata": {
        "id": "tj4JAp6Nx-L4"
      },
      "source": [
        "The new column values have to follow a specific syntax to be recognized by the enhancedGraphics app. Here, for example, is how you set a label based on another attribute (e.g., the column called “COMMON”), specifying its size, color, outline and background:"
      ]
    },
    {
      "cell_type": "markdown",
      "metadata": {
        "id": "N7-bEpR2x-L4"
      },
      "source": [
        "\"label: attribute=COMMON labelsize=10 color=red outline=false background=false\"\"\n"
      ]
    },
    {
      "cell_type": "markdown",
      "metadata": {
        "id": "Ir6mrPsHx-L4"
      },
      "source": [
        "For more details on the enhancedGraphics format, see the manual https://www.cgl.ucsf.edu/cytoscape/utilities3/enhancedcg.shtml."
      ]
    },
    {
      "cell_type": "markdown",
      "metadata": {
        "id": "M0fDrG79x-L4"
      },
      "source": [
        "First, we define a dataframe with two columns: node names (“name”) and the new label (“my second label”):\n",
        "\n"
      ]
    },
    {
      "cell_type": "code",
      "metadata": {
        "id": "O35JvEVex-L4"
      },
      "source": [
        "all_nodes = p4c.get_all_nodes()"
      ],
      "execution_count": null,
      "outputs": []
    },
    {
      "cell_type": "code",
      "metadata": {
        "id": "HhXdYQQ1x-L4"
      },
      "source": [
        "label_df = pd.DataFrame(data=all_nodes, columns=['name'])"
      ],
      "execution_count": null,
      "outputs": []
    },
    {
      "cell_type": "code",
      "metadata": {
        "id": "fBTREriux-L4"
      },
      "source": [
        "label_df[\"my second label\"] = \"label: attribute=COMMON labelsize=10 color=red outline=false background=false\""
      ],
      "execution_count": null,
      "outputs": []
    },
    {
      "cell_type": "markdown",
      "metadata": {
        "id": "yjdY_-14x-L5"
      },
      "source": [
        "Next, we load this dataframe into the Node Table to create and fill a new column:\n",
        "\n"
      ]
    },
    {
      "cell_type": "code",
      "metadata": {
        "id": "9_WcmMw5x-L5",
        "outputId": "a9c9a560-72dc-4497-b83b-ed1340e80e67"
      },
      "source": [
        "p4c.load_table_data(label_df, data_key_column='name', table_key_column='name')"
      ],
      "execution_count": null,
      "outputs": [
        {
          "output_type": "execute_result",
          "data": {
            "text/plain": [
              "'Success: Data loaded in defaultnode table'"
            ]
          },
          "metadata": {
            "tags": []
          },
          "execution_count": 12
        }
      ]
    },
    {
      "cell_type": "markdown",
      "metadata": {
        "id": "9TaZ_fi_x-L5"
      },
      "source": [
        "# Map and position label\n"
      ]
    },
    {
      "cell_type": "markdown",
      "metadata": {
        "id": "ChkcnuTUx-L5"
      },
      "source": [
        "We now have a new column, my second label, that we can use for the mapping. This mapping does not come with a custom helper function, se we are going to use two alternative functions to prepare the passthrough mapping property and then update our visual style with the new mapping:\n",
        "\n"
      ]
    },
    {
      "cell_type": "code",
      "metadata": {
        "id": "hozx8gL-x-L5",
        "outputId": "e133ea8c-ba0e-475d-ec92-993b736913b7"
      },
      "source": [
        "label_map = p4c.map_visual_property('node customgraphics 4', 'my second label', 'p')\n",
        "p4c.update_style_mapping('default', label_map)"
      ],
      "execution_count": null,
      "outputs": [
        {
          "output_type": "execute_result",
          "data": {
            "text/plain": [
              "''"
            ]
          },
          "metadata": {
            "tags": []
          },
          "execution_count": 13
        }
      ]
    },
    {
      "cell_type": "markdown",
      "metadata": {
        "id": "3Yz-F78fx-L7"
      },
      "source": [
        "Note: the custom graphic slot number is actulally part of the property’s name.\n",
        "\n",
        "Finally, we position the new label in the upper right corner:"
      ]
    },
    {
      "cell_type": "code",
      "metadata": {
        "id": "QolKL2HKx-L8",
        "outputId": "a5eafed3-9444-487a-ea3e-3f9176653a4d"
      },
      "source": [
        "p4c.set_node_custom_position(node_anchor='E', graphic_anchor='C', justification='r' , x_offset = 40,  slot = 4)"
      ],
      "execution_count": null,
      "outputs": [
        {
          "output_type": "stream",
          "text": [
            "style_name not specified; updating \"default\" style.\n"
          ],
          "name": "stdout"
        },
        {
          "output_type": "execute_result",
          "data": {
            "text/plain": [
              "''"
            ]
          },
          "metadata": {
            "tags": []
          },
          "execution_count": 14
        }
      ]
    }
  ]
}