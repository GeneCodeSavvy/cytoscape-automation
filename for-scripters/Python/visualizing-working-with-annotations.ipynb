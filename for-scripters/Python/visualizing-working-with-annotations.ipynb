{
 "cells": [
  {
   "cell_type": "markdown",
   "metadata": {
    "colab_type": "text",
    "id": "view-in-github"
   },
   "source": [
    "<a href=\"https://colab.research.google.com/github/cytoscape/cytoscape-automation/blob/master/for-scripters/Python/visualizing-working-with-annotations.ipynb\" target=\"_parent\"><img src=\"https://colab.research.google.com/assets/colab-badge.svg\" alt=\"Open In Colab\"/></a>"
   ]
  },
  {
   "cell_type": "markdown",
   "metadata": {
    "id": "6Z_SI9pP19Zm"
   },
   "source": [
    "# Advanced Visualization: Working with Annotations\n",
    "## Yihang Xin, Kristina Hanspers and Alex Pico\n",
    "## 2023-05-30"
   ]
  },
  {
   "cell_type": "markdown",
   "metadata": {
    "id": "Hh8m09GS19Zr"
   },
   "source": [
    "This short notebook reviews how to add annotations in Cytoscape.\n",
    "\n"
   ]
  },
  {
   "cell_type": "markdown",
   "metadata": {
    "id": "4l2bEFeN19Zs"
   },
   "source": [
    "# Installation\n",
    "The following chunk of code installs the `py4cytoscape` module."
   ]
  },
  {
   "cell_type": "code",
   "execution_count": 1,
   "metadata": {
    "id": "iUVfgt-w19Zs"
   },
   "outputs": [],
   "source": [
    "%%capture\n",
    "!python3 -m pip install requests\n",
    "!python3 -m pip install py4cytoscape"
   ]
  },
  {
   "cell_type": "markdown",
   "metadata": {
    "id": "Vf-cd1M619Zt"
   },
   "source": [
    "If you are using a remote notebook environment such as Google Colab, please execute the cell below. (If you're running on your local notebook, you don't need to do that.)\n"
   ]
  },
  {
   "cell_type": "code",
   "execution_count": 2,
   "metadata": {
    "colab": {
     "base_uri": "https://localhost:8080/",
     "height": 329
    },
    "id": "Na3cIV9k19Zu",
    "outputId": "95859257-745f-4c0e-fb5d-34a5173dd0d6"
   },
   "outputs": [
    {
     "name": "stdout",
     "output_type": "stream",
     "text": [
      "Requirement already satisfied: py4cytoscape in /usr/local/lib/python3.7/dist-packages (0.0.11)\n",
      "Requirement already satisfied: pandas in /usr/local/lib/python3.7/dist-packages (from py4cytoscape) (1.1.5)\n",
      "Requirement already satisfied: decorator in /usr/local/lib/python3.7/dist-packages (from py4cytoscape) (4.4.2)\n",
      "Requirement already satisfied: networkx in /usr/local/lib/python3.7/dist-packages (from py4cytoscape) (2.6.3)\n",
      "Requirement already satisfied: requests in /usr/local/lib/python3.7/dist-packages (from py4cytoscape) (2.23.0)\n",
      "Requirement already satisfied: colorbrewer in /usr/local/lib/python3.7/dist-packages (from py4cytoscape) (0.2.0)\n",
      "Requirement already satisfied: chardet in /usr/local/lib/python3.7/dist-packages (from py4cytoscape) (3.0.4)\n",
      "Requirement already satisfied: python-igraph in /usr/local/lib/python3.7/dist-packages (from py4cytoscape) (0.9.7)\n",
      "Requirement already satisfied: six in /usr/local/lib/python3.7/dist-packages (from colorbrewer->py4cytoscape) (1.15.0)\n",
      "Requirement already satisfied: python-dateutil>=2.7.3 in /usr/local/lib/python3.7/dist-packages (from pandas->py4cytoscape) (2.8.2)\n",
      "Requirement already satisfied: pytz>=2017.2 in /usr/local/lib/python3.7/dist-packages (from pandas->py4cytoscape) (2018.9)\n",
      "Requirement already satisfied: numpy>=1.15.4 in /usr/local/lib/python3.7/dist-packages (from pandas->py4cytoscape) (1.19.5)\n",
      "Requirement already satisfied: texttable>=1.6.2 in /usr/local/lib/python3.7/dist-packages (from python-igraph->py4cytoscape) (1.6.4)\n",
      "Requirement already satisfied: idna<3,>=2.5 in /usr/local/lib/python3.7/dist-packages (from requests->py4cytoscape) (2.10)\n",
      "Requirement already satisfied: urllib3!=1.25.0,!=1.25.1,<1.26,>=1.21.1 in /usr/local/lib/python3.7/dist-packages (from requests->py4cytoscape) (1.24.3)\n",
      "Requirement already satisfied: certifi>=2017.4.17 in /usr/local/lib/python3.7/dist-packages (from requests->py4cytoscape) (2021.5.30)\n",
      "Loading Javascript client ... b2f0987c-6d57-4905-9b18-bb66290605d4 on https://jupyter-bridge.cytoscape.org\n",
      "ADVICE: WHEN RUNNING UNDER COLAB, DO NOT RE-RUN THIS CELL WITHOUT MANUALLY EXECUTING Runtime | Factory Reset Runtime FROM THE COLAB MENU FIRST.\n"
     ]
    },
    {
     "data": {
      "application/javascript": [
       "var Channel = \"b2f0987c-6d57-4905-9b18-bb66290605d4\"; \n",
       "\n",
       "var JupyterBridge = \"https://jupyter-bridge.cytoscape.org\"; \n",
       "\n",
       "  /*\n",
       "    These functions serve as a connector between a remote Jupyter server and Cytoscape.\n",
       "    They run in the user's browser, which also shows the Jupyter Notebook.\n",
       "\n",
       "    A remote Jupyter Notebook call to the py4cytoscape package is forwarded to the Jupyter Bridge,\n",
       "    which is a standalone server. The functions in this connector execute in the Jupyter Notebook\n",
       "    browser, which executes on the same PC as Cytoscape. So, that's 4 components: (A) remote\n",
       "    Jupyter Notebook, (B) separate Jupyter Bridge server, (C) this browser-based component, and\n",
       "    (D) Cytoscape. (A) is on a remote server, (B) is on a different remote server, and (C) and (D)\n",
       "    are on the user's PC.\n",
       "\n",
       "    (A) calls its py4cytoscape module, which forwards the request (in a JSON wrapper) to (B).\n",
       "    (C) picks up the request from (B), unpacks the request and forwards it to (D). (C) awaits a\n",
       "    reply from (D), and when it gets it, it forwards the reply (in a JSON wrapper) to (B).\n",
       "    (A)'s py4cytoscape module picks up the reply on (B) when it becomes available, unpacks it,\n",
       "    and returns it to (A).\n",
       "\n",
       "    A Jupyter Notebook can talk to only one Cytoscape (i.e., the one on the machine running the\n",
       "    Jupyter Notebook browser), and Cytoscape should be called by only one Jupyter Notebook. The\n",
       "    Jupyter Bridge differentiates between Notebook-Cytoscape conversations via a channel UUID.\n",
       "    The UUID is prepended to this browser component by py4Cytoscape, and the component is\n",
       "    started by the Jupyter Notebook. (I wish py4Cytoscape could start the component, too, but I\n",
       "    haven't figured out how to do that yet, so startup code *is* required in the Jupyter\n",
       "    Notebook.)\n",
       "\n",
       "    Note that for the case of a Jupyter server running on the same machine as Cytoscape, this\n",
       "    bridge isn't necessary because the Jupyter server's HTTP calls can easily connect to\n",
       "    Cytoscape over a localhost socket. So, the combination of Jupyter Bridge and this browser\n",
       "    component solves the problem of a Jupyter server (e.g., Google's Colab) that can't\n",
       "    connect to Cytoscape that sits behind a firewall.\n",
       "\n",
       "    The request represents an HTTP call that py4cytoscape would normally make via HTTP directly\n",
       "    to Cytoscape via localhost when both py4cytoscape and Cytoscape are running on the same machine.\n",
       " */\n",
       "\n",
       "const VERSION = '0.0.2'\n",
       "\n",
       "var showDebug; // Flag indicating whether to show Jupyter-bridge progress\n",
       "if (typeof showDebug === 'undefined') {\n",
       "    showDebug = false\n",
       "}\n",
       "if (showDebug) {\n",
       "    alert(\"Starting Jupyter-bridge browser component\")\n",
       "}\n",
       "\n",
       "//const JupyterBridge = 'http://127.0.0.1:5000' // for testing against local Jupyter-bridge\n",
       "var JupyterBridge; // URL of Jupyter-bridge server could be defined by assignment pre-pended to this file\n",
       "if (typeof JupyterBridge === 'undefined') {\n",
       "    JupyterBridge = 'https://jupyter-bridge.cytoscape.org' // for production\n",
       "}\n",
       "var Channel; // Unique constant that could be defined by assignment pre-pended to this file\n",
       "if (typeof Channel === 'undefined') { // ... but if not assigned, use a debugging value\n",
       "    Channel = 1\n",
       "}\n",
       "\n",
       "\n",
       "var httpR = new XMLHttpRequest(); // for sending reply to Jupyter-bridge\n",
       "var httpRE = new XMLHttpRequest(); // for sending backup error reply to Jupyter-bridge\n",
       "var httpC = new XMLHttpRequest(); // for sending command to Cytoscape\n",
       "var httpJ = new XMLHttpRequest(); // for fetching request from Jupyter-bridge\n",
       "\n",
       "const HTTP_OK = 200\n",
       "const HTTP_SYS_ERR = 500\n",
       "const HTTP_TIMEOUT = 408\n",
       "const HTTP_TOO_MANY = 429\n",
       "\n",
       "\n",
       " /* This function is useful if we want to rewrite the incoming URL to resolve just to our local one.\n",
       "    Doing this stops the Jupyter component from abusing this client to call out to endpoints other\n",
       "    than local Cytoscape. On the other hand, it makes it hard to detect when the Jupyter component\n",
       "    has specified a genuinely bad URL and really should get an error result. For now, we'll execute\n",
       "    the Jupyter-supplied URL and return the result, whatever it may be.\n",
       "\n",
       "const LocalCytoscape = 'http://127.0.0.1:1234'\n",
       "\n",
       "function parseURL(url) {\n",
       "    var reURLInformation = new RegExp([\n",
       "        '^(https?:)//', // protocol\n",
       "        '(([^:/?#]*)(?::([0-9]+))?)', // host (hostname and port)\n",
       "        '(/{0,1}[^?#]*)', // pathname\n",
       "        '(\\\\?[^#]*|)', // search\n",
       "        '(#.*|)$' // hash\n",
       "    ].join(''));\n",
       "    var match = url.match(reURLInformation);\n",
       "    return match && {\n",
       "        url: url,\n",
       "        protocol: match[1],\n",
       "        host: match[2],\n",
       "        hostname: match[3],\n",
       "        port: match[4],\n",
       "        pathname: match[5],\n",
       "        search: match[6],\n",
       "        hash: match[7]\n",
       "    }\n",
       "}\n",
       "*/\n",
       "\n",
       "function replyCytoscape(replyStatus, replyStatusText, replyText) {\n",
       "\n",
       "    // Clean up after Jupyter bridge accepts reply\n",
       "    httpR.onreadystatechange = function() {\n",
       "        if (httpR.readyState === 4) {\n",
       "            if (showDebug) {\n",
       "                console.log(' status from queue_reply: ' + httpR.status + ', reply: ' + httpR.responseText)\n",
       "            }\n",
       "        }\n",
       "    }\n",
       "\n",
       "    httpR.onerror = function() {\n",
       "        // Clean up after Jupyter bridge accepts backup reply\n",
       "        httpRE.onreadystatechange = function() {\n",
       "            if (httpRE.readyState === 4) {\n",
       "                if (showDebug) {\n",
       "                    console.log(' status from backup queue_reply: ' + httpRE.status + ', reply: ' + httpRE.responseText)\n",
       "                }\n",
       "            }\n",
       "        }\n",
       "\n",
       "        if (showDebug) {\n",
       "            console.log(' error from queue_reply -- could be Jupyter-Bridge server reject')\n",
       "        }\n",
       "        var errReply = {'status': HTTP_SYS_ERR, 'reason': 'Jupyter-Bridge rejected reply', 'text': 'Possibly reply is too long for Jupyter-Bridge server'}\n",
       "        httpRE.open('POST', jupyterBridgeURL, true)\n",
       "        httpRE.setRequestHeader('Content-Type', 'text/plain')\n",
       "        httpRE.send(JSON.stringify(errReply))\n",
       "    }\n",
       "\n",
       "    var reply = {'status': replyStatus, 'reason': replyStatusText, 'text': replyText}\n",
       "\n",
       "    // Send reply to Jupyter bridge\n",
       "    var jupyterBridgeURL = JupyterBridge + '/queue_reply?channel=' + Channel\n",
       "    if (showDebug) {\n",
       "        console.log('Starting queue to Jupyter bridge: ' + jupyterBridgeURL)\n",
       "    }\n",
       "    httpR.open('POST', jupyterBridgeURL, true)\n",
       "    httpR.setRequestHeader('Content-Type', 'text/plain')\n",
       "    httpR.send(JSON.stringify(reply))\n",
       "}\n",
       "\n",
       "function callCytoscape(callSpec) {\n",
       "\n",
       "    // Captures Cytoscape reply and sends it on\n",
       "    httpC.onreadystatechange = function() {\n",
       "        if (httpC.readyState === 4) {\n",
       "            if (showDebug) {\n",
       "                console.log(' status from CyREST: ' + httpC.status + ', statusText: ' + httpC.statusText + ', reply: ' + httpC.responseText)\n",
       "            }\n",
       "            // Note that httpC.status is 0 if the URL can't be reached *OR* there is a CORS violation.\n",
       "            // I wish I could tell the difference because for a CORS violation, I'd return a 404,\n",
       "            // which would roughly match what Python's native request package would return.\n",
       "            // The practical consequence is that the ultimate caller (e.g., py4cytoscape)\n",
       "            // returns different exceptions, depending on wither this module is doing the\n",
       "            // HTTP operation or the native Python requests package is. This is minor, but\n",
       "            // messes up tests that verify the exception type.\n",
       "            replyCytoscape(httpC.status, httpC.statusText, httpC.responseText)\n",
       "            waitOnJupyterBridge()\n",
       "        }\n",
       "    }\n",
       "\n",
       "//  Build up request to Cytoscape, making sure host is local.\n",
       "//    Too heavy handed: localURL = LocalCytoscape + parseURL(callSpec.url).pathname\n",
       "    var localURL = callSpec.url // Try using what was passed in ... is there a security risk??\n",
       "\n",
       "    if (showDebug) {\n",
       "        console.log('Command to CyREST: ' + callSpec.command + ' (' + localURL + ')')\n",
       "        if (callSpec.params) {\n",
       "            console.log(' params: ' + JSON.stringify(callSpec.params))\n",
       "        }\n",
       "        if (callSpec.headers) {\n",
       "            console.log(' header: ' + JSON.stringify(callSpec.headers))\n",
       "        }\n",
       "        if (callSpec.data) {\n",
       "            console.log('   data: ' + JSON.stringify(callSpec.data))\n",
       "        }\n",
       "    }\n",
       "\n",
       "    if (callSpec.command === 'webbrowser') {\n",
       "        if (window.open(callSpec.url)) {\n",
       "            replyCytoscape(HTTP_OK, 'OK', '')\n",
       "        } else {\n",
       "            replyCytoscape(HTTP_SYS_ERR, 'BAD BROWSER OPEN', '')\n",
       "        }\n",
       "        waitOnJupyterBridge()\n",
       "    } else if (callSpec.command === 'version') {\n",
       "        replyCytoscape(HTTP_OK, 'OK',\n",
       "            JSON.stringify({\"jupyterBridgeVersion\": VERSION}))\n",
       "        waitOnJupyterBridge()\n",
       "    } else {\n",
       "        var joiner = '?'\n",
       "        for (let param in callSpec.params) {\n",
       "            localURL = localURL + joiner + param + '=' + encodeURIComponent(callSpec.params[param])\n",
       "            joiner = '&'\n",
       "        }\n",
       "\n",
       "        httpC.open(callSpec.command, localURL, true)\n",
       "        for (let header in callSpec.headers) {\n",
       "            httpC.setRequestHeader(header, callSpec.headers[header])\n",
       "        }\n",
       "\n",
       "        // Send request to Cytoscape ... reply goes to onreadystatechange handler\n",
       "        httpC.send(JSON.stringify(callSpec.data))\n",
       "    }\n",
       "}\n",
       "\n",
       "function waitOnJupyterBridge() {\n",
       "\n",
       "    // Captures request from Jupyter bridge\n",
       "    httpJ.onreadystatechange = function() {\n",
       "        if (httpJ.readyState === 4) {\n",
       "            if (showDebug) {\n",
       "                console.log(' status from dequeue_request: ' + httpJ.status + ', reply: ' + httpJ.responseText)\n",
       "            }\n",
       "            try {\n",
       "                if (httpJ.status == HTTP_TOO_MANY) {\n",
       "                    // Nothing more to do ... the browser has created too many listeners,\n",
       "                    // and it's time to stop listening because the server saw a listener\n",
       "                    // listening on this channel before we got there.\n",
       "                    console.log('  shutting down because of redundant reader on channel: ' + Channel)\n",
       "                } else {\n",
       "                    if (httpJ.status === HTTP_TIMEOUT) {\n",
       "                        waitOnJupyterBridge()\n",
       "                    } else {\n",
       "                        callCytoscape(JSON.parse(httpJ.responseText))\n",
       "                    }\n",
       "                }\n",
       "            } catch(err) {\n",
       "                if (showDebug) {\n",
       "                    console.log(' exception calling Cytoscape: ' + err)\n",
       "                }\n",
       "                // Bad responseText means something bad happened that we don't understand.\n",
       "                // Go wait on another request, as there's nothing to call Cytoscape with.\n",
       "                waitOnJupyterBridge()\n",
       "            }\n",
       "        }\n",
       "    }\n",
       "\n",
       "    // Wait for request from Jupyter bridge\n",
       "    var jupyterBridgeURL = JupyterBridge + '/dequeue_request?channel=' + Channel\n",
       "    if (showDebug) {\n",
       "        console.log('Starting dequeue on Jupyter bridge: ' + jupyterBridgeURL)\n",
       "    }\n",
       "    httpJ.open('GET', jupyterBridgeURL, true)\n",
       "    httpJ.send()\n",
       "}\n",
       "\n",
       "// This kicks off a loop that ends by calling waitOnJupyterBridge again. This first call\n",
       "// ejects any dead readers before we start a read\n",
       "waitOnJupyterBridge() // Wait for message from Jupyter bridge, execute it, and return reply\n",
       "\n",
       "if (showDebug) {\n",
       "    alert(\"Jupyter-bridge browser component is started on \" + JupyterBridge + ', channel ' + Channel)\n",
       "}\n"
      ],
      "text/plain": [
       "<IPython.core.display.Javascript object>"
      ]
     },
     "execution_count": 2,
     "metadata": {},
     "output_type": "execute_result"
    }
   ],
   "source": [
    "#_PY4CYTOSCAPE = 'git+https://github.com/cytoscape/py4cytoscape@1.7.0' # optional\n",
    "import requests\n",
    "exec(requests.get(\"https://raw.githubusercontent.com/cytoscape/jupyter-bridge/master/client/p4c_init.py\").text)\n",
    "IPython.display.Javascript(_PY4CYTOSCAPE_BROWSER_CLIENT_JS) # Start browser client"
   ]
  },
  {
   "cell_type": "markdown",
   "metadata": {
    "id": "GDuynaoM19Zu"
   },
   "source": [
    "# Prerequisites\n",
    "In addition to this package (py4cytoscape version 1.7.0), you will need:\n",
    "\n",
    "Latest version of Cytoscape, which can be downloaded from https://cytoscape.org/download.html. Simply follow the installation instructions on screen."
   ]
  },
  {
   "cell_type": "markdown",
   "metadata": {
    "id": "hzJEVVFX19Zv"
   },
   "source": [
    "## Import the required packages\n"
   ]
  },
  {
   "cell_type": "code",
   "execution_count": 3,
   "metadata": {
    "id": "rByrwkJ_19Zv"
   },
   "outputs": [],
   "source": [
    "import py4cytoscape as p4c"
   ]
  },
  {
   "cell_type": "code",
   "execution_count": 4,
   "metadata": {
    "colab": {
     "base_uri": "https://localhost:8080/"
    },
    "id": "2XVdBh9K19Zw",
    "outputId": "70288d03-c9dc-419c-a94f-c7d8ed2e5982"
   },
   "outputs": [
    {
     "data": {
      "text/plain": [
       "{'apiVersion': 'v1',\n",
       " 'automationAPIVersion': '1.3.0',\n",
       " 'cytoscapeVersion': '3.9.0',\n",
       " 'jupyterBridgeVersion': '0.0.2',\n",
       " 'py4cytoscapeVersion': '0.0.11'}"
      ]
     },
     "execution_count": 4,
     "metadata": {},
     "output_type": "execute_result"
    }
   ],
   "source": [
    "# Check connection\n",
    "p4c.cytoscape_version_info()"
   ]
  },
  {
   "cell_type": "markdown",
   "metadata": {
    "id": "FWphBe3n19Zw"
   },
   "source": [
    "## Background\n",
    "### Annotations in Cytoscape\n",
    "Cytoscape has three separate drawing surfaces on which the network and annotations are drawn:\n",
    "\n",
    "* Network canvas: where nodes and edges are drawn.\n",
    "* Background canvas: the drawing surface behind nodes and edges.\n",
    "* Foreground canvas: the drawing surface in front of nodes and edges.\n",
    "\n",
    "Annotations are drawn either on the foreground or background canvases, and are exported as objects. They are high quality graphically, allowing for export of images. Annotation types:\n",
    "\n",
    "* Shapes, Text, Bounded Text, Images and Arrows\n",
    "* Groups, to group annotations together"
   ]
  },
  {
   "cell_type": "markdown",
   "metadata": {
    "id": "u6K0fpon19Zx"
   },
   "source": [
    "## Annotation Panel in the Cytoscape\n",
    "You can find annotation tab on the left side of the Cytoscape, and you can manually add annotations there. You can also add annotation via commands to acheive automation."
   ]
  },
  {
   "cell_type": "markdown",
   "metadata": {
    "id": "Of_ksz_Q19Zx"
   },
   "source": [
    "## Adding a Label Annotation"
   ]
  },
  {
   "cell_type": "markdown",
   "metadata": {
    "id": "8bYTW949g9Eo"
   },
   "source": [
    "Import STE12 subnetwork of galFiltered network, for use with this tutorial.\n"
   ]
  },
  {
   "cell_type": "code",
   "execution_count": 5,
   "metadata": {
    "colab": {
     "base_uri": "https://localhost:8080/"
    },
    "id": "68UcMTRPSdWL",
    "outputId": "30065c36-2921-4d28-ac6a-8c99468992b7"
   },
   "outputs": [
    {
     "data": {
      "text/plain": [
       "6933"
      ]
     },
     "execution_count": 5,
     "metadata": {},
     "output_type": "execute_result"
    }
   ],
   "source": [
    "p4c.import_network_from_ndex('8f800fbf-35e5-11ec-b3be-0ac135e8bacf')"
   ]
  },
  {
   "cell_type": "markdown",
   "metadata": {
    "id": "zIPJkX8UXpCV"
   },
   "source": [
    "Create and execute the command to add a text annotation."
   ]
  },
  {
   "cell_type": "code",
   "execution_count": 6,
   "metadata": {
    "id": "qLapN85j19Zx"
   },
   "outputs": [],
   "source": [
    "cmd_list = ['annotation add text','text=\"Mutation\"','view=\"current\"']"
   ]
  },
  {
   "cell_type": "code",
   "execution_count": 7,
   "metadata": {
    "id": "Ss7O-0xa19Zy"
   },
   "outputs": [],
   "source": [
    "cmd = \" \".join(cmd_list)"
   ]
  },
  {
   "cell_type": "code",
   "execution_count": 8,
   "metadata": {
    "colab": {
     "base_uri": "https://localhost:8080/"
    },
    "id": "B7D6EKwf19Zy",
    "outputId": "70781a0b-dd02-4695-d254-ed78871f0184"
   },
   "outputs": [
    {
     "data": {
      "text/plain": [
       "['Created annotation Text annotation at 0,0 named \"Text\" with ID: bb465cd5-f217-470b-b8b3-d25ed69049bb']"
      ]
     },
     "execution_count": 8,
     "metadata": {},
     "output_type": "execute_result"
    }
   ],
   "source": [
    "p4c.commands.commands_run(cmd)"
   ]
  },
  {
   "cell_type": "markdown",
   "metadata": {
    "id": "f5tzdWKi19Zy"
   },
   "source": [
    "You will notice the annotation is located at the left up corner. To adjust the location of the annotation, first click the Toggle Annotation Selection. The annotation can now be moved by click and drag. \n",
    "\n",
    "Or you can enter x and y parameter when you create the annotation."
   ]
  },
  {
   "cell_type": "code",
   "execution_count": 9,
   "metadata": {
    "colab": {
     "base_uri": "https://localhost:8080/"
    },
    "id": "BJ7mzUd119Zz",
    "outputId": "5adfc4c1-8be1-4708-a92a-c05f74f12e5c"
   },
   "outputs": [
    {
     "data": {
      "text/plain": [
       "['Created annotation Text annotation at 2500,2500 named \"Text\" with ID: 72445105-79c5-433f-8157-ac0b2cf488ea']"
      ]
     },
     "execution_count": 9,
     "metadata": {},
     "output_type": "execute_result"
    }
   ],
   "source": [
    "cmd_list_location = ['annotation add text','text=\"Protein\"','view=\"current\"','x=2500','y=2500']\n",
    "cmd_location = \" \".join(cmd_list_location)\n",
    "p4c.commands.commands_run(cmd_location)"
   ]
  },
  {
   "cell_type": "markdown",
   "metadata": {
    "id": "iN1zROUa19Zy"
   },
   "source": [
    "To customize the appearance of the annotation, you can specify the font, color etc in the command."
   ]
  },
  {
   "cell_type": "code",
   "execution_count": 10,
   "metadata": {
    "colab": {
     "base_uri": "https://localhost:8080/"
    },
    "id": "AyV1eAOz19Zy",
    "outputId": "f0d9c0b4-06f2-46e2-cb12-327f9380f634"
   },
   "outputs": [
    {
     "data": {
      "text/plain": [
       "['Created annotation Text annotation at 0,0 named \"Text\" with ID: d0a99f7d-4cb4-4955-8e0c-5663e2d804bf']"
      ]
     },
     "execution_count": 10,
     "metadata": {},
     "output_type": "execute_result"
    }
   ],
   "source": [
    "cmd_list_apperance = ['annotation add text','text=\"Gene\"','view=\"current\"','fontSize=48','fontStyle=\"bold\"','color=red']\n",
    "cmd_apperance = \" \".join(cmd_list_apperance)\n",
    "p4c.commands.commands_run(cmd_apperance)"
   ]
  },
  {
   "cell_type": "markdown",
   "metadata": {
    "id": "vv4mpERX19Zz"
   },
   "source": [
    "You can find other command arguments [here](http://localhost:1234/v1/swaggerUI/swagger-ui/index.html?url=http%3A%2F%2Flocalhost%3A1234%2Fv1%2Fcommands%2Fswagger.json#!/annotation/annotation_add_text)."
   ]
  },
  {
   "cell_type": "markdown",
   "metadata": {
    "id": "GKxHaqY719Zz"
   },
   "source": [
    "## Adding a Shape Annotation"
   ]
  },
  {
   "cell_type": "code",
   "execution_count": 11,
   "metadata": {
    "colab": {
     "base_uri": "https://localhost:8080/"
    },
    "id": "hxbIBfXU19Zz",
    "outputId": "e26aea58-1532-4f7e-821c-7dd2a1bfd1b7"
   },
   "outputs": [
    {
     "data": {
      "text/plain": [
       "['Created annotation Shape annotation at 2250,2390 named \"Shape 1\" with ID: 5bb2e99f-fa24-465a-87d0-91ecf0325fcf']"
      ]
     },
     "execution_count": 11,
     "metadata": {},
     "output_type": "execute_result"
    }
   ],
   "source": [
    "cmd_list_shape = ['annotation add shape','type=\"Rounded Rectangle\"','view=\"current\"','x=2250','y=2390','height=200','width=240','fillColor=#e0f3db']\n",
    "cmd_shape = \" \".join(cmd_list_shape)\n",
    "p4c.commands.commands_run(cmd_shape)"
   ]
  },
  {
   "cell_type": "markdown",
   "metadata": {
    "id": "bD8uYEcI19Z0"
   },
   "source": [
    "By default the shape will be drawn on the foreground canvas, obstructing any nodes behind it. To move it to the background cavnas, select the shape in the Layers tab in the Annotation panel and click the Push Annotations to Background Layer arrow just below the list.\n",
    "\n",
    "Or you can add canvas argument in your command."
   ]
  },
  {
   "cell_type": "code",
   "execution_count": 12,
   "metadata": {
    "colab": {
     "base_uri": "https://localhost:8080/"
    },
    "id": "P3FjgHIOl-rj",
    "outputId": "3f15b7fb-b7cf-45f8-9090-e92e0235d320"
   },
   "outputs": [
    {
     "data": {
      "text/plain": [
       "[]"
      ]
     },
     "execution_count": 12,
     "metadata": {},
     "output_type": "execute_result"
    }
   ],
   "source": [
    "# Delete the previous shape annotation\n",
    "p4c.commands.commands_run('annotation delete uuidOrName=Shape 1')"
   ]
  },
  {
   "cell_type": "code",
   "execution_count": 13,
   "metadata": {
    "colab": {
     "base_uri": "https://localhost:8080/"
    },
    "id": "gpksXOuY19Z0",
    "outputId": "71d84408-3904-406e-ac24-8a9b3fc069e9"
   },
   "outputs": [
    {
     "data": {
      "text/plain": [
       "['Created annotation Shape annotation at 2250,2390 named \"my annotation\" with ID: b5b9c75b-7086-4ac8-ae01-5fe9f81f34d5']"
      ]
     },
     "execution_count": 13,
     "metadata": {},
     "output_type": "execute_result"
    }
   ],
   "source": [
    "cmd_list_canvas = ['annotation add shape','newName=my annotation','canvas=\"background\"','type=\"Rounded Rectangle\"','view=\"current\"','x=2250','y=2390','height=200','width=240','fillColor=#e0f3db']\n",
    "cmd_canvas = \" \".join(cmd_list_canvas)\n",
    "p4c.commands.commands_run(cmd_canvas)"
   ]
  },
  {
   "cell_type": "markdown",
   "metadata": {
    "id": "RXZjC0sk19Z0"
   },
   "source": [
    "As usual, you can choose border color, border opacity, fill color and other parameters by adding arguments in the command.\n",
    "\n",
    "You can find other command arguments [here](http://localhost:1234/v1/swaggerUI/swagger-ui/index.html?url=http%3A%2F%2Flocalhost%3A1234%2Fv1%2Fcommands%2Fswagger.json#!/annotation/annotation_add_shape)."
   ]
  },
  {
   "cell_type": "markdown",
   "metadata": {
    "id": "kRPO7iVE19Z0"
   },
   "source": [
    "## Editing Annotations"
   ]
  },
  {
   "cell_type": "markdown",
   "metadata": {
    "id": "PQbLtDre19Z0"
   },
   "source": [
    "Existing annotations can be updated via annotation update commands. You may notice that each annotation has its own unique ID. When you want to update a exisiting annotaion, the unique ID is required. You can also use annotation names to update the annotation.\n",
    "\n",
    "All annotation ID can be found by listing annotation."
   ]
  },
  {
   "cell_type": "code",
   "execution_count": 14,
   "metadata": {
    "colab": {
     "base_uri": "https://localhost:8080/"
    },
    "id": "uYupUJzx19Z1",
    "outputId": "4c65ea3d-f254-4708-f595-9dde07c0fe92"
   },
   "outputs": [
    {
     "data": {
      "text/plain": [
       "['Text annotation at 0,0 named \"Text\" with ID: d0a99f7d-4cb4-4955-8e0c-5663e2d804bf',\n",
       " 'Text annotation at 0,0 named \"Text\" with ID: bb465cd5-f217-470b-b8b3-d25ed69049bb',\n",
       " 'Text annotation at 2500,2500 named \"Text\" with ID: 72445105-79c5-433f-8157-ac0b2cf488ea',\n",
       " 'Shape annotation at 2250,2390 named \"my annotation\" with ID: b5b9c75b-7086-4ac8-ae01-5fe9f81f34d5']"
      ]
     },
     "execution_count": 14,
     "metadata": {},
     "output_type": "execute_result"
    }
   ],
   "source": [
    "idlist = p4c.commands.commands_run(\"annotation list view=current\")\n",
    "idlist"
   ]
  },
  {
   "cell_type": "code",
   "execution_count": 15,
   "metadata": {
    "colab": {
     "base_uri": "https://localhost:8080/"
    },
    "id": "jufxG5xi19Z1",
    "outputId": "858d4454-da28-4a63-ce0e-340a07f15c91"
   },
   "outputs": [
    {
     "data": {
      "text/plain": [
       "['Updated annotation Text annotation at 2500,2500 named \"UPDATED TEXT\" with ID: 72445105-79c5-433f-8157-ac0b2cf488ea']"
      ]
     },
     "execution_count": 15,
     "metadata": {},
     "output_type": "execute_result"
    }
   ],
   "source": [
    "cmd_list_update = ['annotation update text','text=UPDATED TEXT\"','uuidOrName=\"',idlist[2][-36:],'\"']\n",
    "cmd_update = \" \".join(cmd_list_update)\n",
    "p4c.commands.commands_run(cmd_update)"
   ]
  },
  {
   "cell_type": "markdown",
   "metadata": {
    "id": "BOQhGFyOmvvt"
   },
   "source": [
    "You can also use this **'annotation update shape'** to update the canvas of shape annotation in the previous section."
   ]
  },
  {
   "cell_type": "markdown",
   "metadata": {
    "id": "XKTTc3O7nxn0"
   },
   "source": [
    "## Rotating Annotations\n",
    "Select the shape annotation we added earlier.\n",
    "In the Appearance panel, drag the Rotation Angle to about -20. This will rotate the object 20 degrees counter-clockwise.\n",
    "Or you can use the command to do this."
   ]
  },
  {
   "cell_type": "code",
   "execution_count": 16,
   "metadata": {
    "colab": {
     "base_uri": "https://localhost:8080/"
    },
    "id": "Jtg572vXoVlL",
    "outputId": "dfa16b2e-3d29-4e28-e899-0de94baaf944"
   },
   "outputs": [
    {
     "data": {
      "text/plain": [
       "['Updated annotation Shape annotation at 2250,2390 named \"my annotation\" with ID: b5b9c75b-7086-4ac8-ae01-5fe9f81f34d5']"
      ]
     },
     "execution_count": 16,
     "metadata": {},
     "output_type": "execute_result"
    }
   ],
   "source": [
    "cmd_list_rotate = ['annotation update shape','angle=-20','uuidOrName=my annotation\"']\n",
    "cmd_rotate = \" \".join(cmd_list_rotate)\n",
    "p4c.commands.commands_run(cmd_rotate)"
   ]
  },
  {
   "cell_type": "markdown",
   "metadata": {
    "id": "ip3Gj59M19Z1"
   },
   "source": [
    "## Group and Ungroup annotations"
   ]
  },
  {
   "cell_type": "markdown",
   "metadata": {
    "id": "epAPmkyU19Z1"
   },
   "source": [
    "You can also combine a list of annotations into a group annotation.\n"
   ]
  },
  {
   "cell_type": "code",
   "execution_count": 17,
   "metadata": {
    "colab": {
     "base_uri": "https://localhost:8080/"
    },
    "id": "JVvkSxmz19Z1",
    "outputId": "737aefd4-b443-45eb-e014-8cb8a3cd64c5"
   },
   "outputs": [
    {
     "data": {
      "text/plain": [
       "['Group annotation Group annotation at 0,0 named \"Group 1\" with ID: 4aac5738-5690-4741-adc7-6826c34173d7']"
      ]
     },
     "execution_count": 17,
     "metadata": {},
     "output_type": "execute_result"
    }
   ],
   "source": [
    "# Group annotations\n",
    "cmd_list_group = ['annotation group','annotationlist=\"',idlist[0][-36:]+\",\"+idlist[1][-36:],'\"'', view=current']\n",
    "cmd_group = \" \".join(cmd_list_group)\n",
    "p4c.commands.commands_run(cmd_group)"
   ]
  },
  {
   "cell_type": "code",
   "execution_count": 18,
   "metadata": {
    "colab": {
     "base_uri": "https://localhost:8080/"
    },
    "id": "ml_pMXCo19Z2",
    "outputId": "87f6cb42-bbcb-4b4d-c086-e4f0e1602a31"
   },
   "outputs": [
    {
     "data": {
      "text/plain": [
       "[]"
      ]
     },
     "execution_count": 18,
     "metadata": {},
     "output_type": "execute_result"
    }
   ],
   "source": [
    "# Ungroup annotations\n",
    "p4c.commands.commands_run(\"annotation ungroup uuidOrName=Group 1 view=current\")"
   ]
  },
  {
   "cell_type": "markdown",
   "metadata": {
    "id": "qfVyuKh_19Z2"
   },
   "source": [
    "For more information on using annotations in network visualization, see the [Ten Simple Rules](https://cytoscape.org/cytoscape-tutorials/presentations/modules/ten-simple-rules/index.html#/0/7) protocol."
   ]
  }
 ],
 "metadata": {
  "colab": {
   "include_colab_link": true,
   "name": "visualizing-working-with-annotations.ipynb",
   "provenance": []
  },
  "kernelspec": {
   "display_name": "Python 3",
   "language": "python",
   "name": "python3"
  },
  "language_info": {
   "codemirror_mode": {
    "name": "ipython",
    "version": 3
   },
   "file_extension": ".py",
   "mimetype": "text/x-python",
   "name": "python",
   "nbconvert_exporter": "python",
   "pygments_lexer": "ipython3",
   "version": "3.8.5"
  }
 },
 "nbformat": 4,
 "nbformat_minor": 1
}
