{
 "cells": [
  {
   "cell_type": "markdown",
   "metadata": {},
   "source": [
    "# Advanced Visualization: Working with Annotations\n",
    "## Yihang Xin, Kristina Hanspers and Alex Pico\n",
    "## 2021-10-18"
   ]
  },
  {
   "cell_type": "markdown",
   "metadata": {},
   "source": [
    "This short notebook reviews how to add annotations in Cytoscape.\n",
    "\n"
   ]
  },
  {
   "cell_type": "markdown",
   "metadata": {},
   "source": [
    "# Installation\n",
    "The following chunk of code installs the `py4cytoscape` module."
   ]
  },
  {
   "cell_type": "code",
   "execution_count": 1,
   "metadata": {},
   "outputs": [],
   "source": [
    "%%capture\n",
    "!python3 -m pip install requests\n",
    "!python3 -m pip install py4cytoscape"
   ]
  },
  {
   "cell_type": "markdown",
   "metadata": {},
   "source": [
    "If you are using a remote notebook environment such as Google Colab, please execute the cell below. (If you're running on your local notebook, you don't need to do that.)\n"
   ]
  },
  {
   "cell_type": "code",
   "execution_count": 2,
   "metadata": {},
   "outputs": [],
   "source": [
    "%%capture\n",
    "import requests\n",
    "exec(requests.get(\"https://raw.githubusercontent.com/cytoscape/jupyter-bridge/master/client/p4c_init.py\").text)\n",
    "IPython.display.Javascript(_PY4CYTOSCAPE_BROWSER_CLIENT_JS) # Start browser client"
   ]
  },
  {
   "cell_type": "markdown",
   "metadata": {},
   "source": [
    "# Prerequisites\n",
    "In addition to this package (py4cytoscape version 0.0.11), you will need:\n",
    "\n",
    "Latest version of Cytoscape, which can be downloaded from https://cytoscape.org/download.html. Simply follow the installation instructions on screen."
   ]
  },
  {
   "cell_type": "markdown",
   "metadata": {},
   "source": [
    "## Import the required packages\n"
   ]
  },
  {
   "cell_type": "code",
   "execution_count": 3,
   "metadata": {},
   "outputs": [],
   "source": [
    "import py4cytoscape as p4c"
   ]
  },
  {
   "cell_type": "code",
   "execution_count": 4,
   "metadata": {},
   "outputs": [
    {
     "data": {
      "text/plain": [
       "{'apiVersion': 'v1',\n",
       " 'cytoscapeVersion': '3.9.0',\n",
       " 'automationAPIVersion': '1.2.0',\n",
       " 'py4cytoscapeVersion': '0.0.10'}"
      ]
     },
     "execution_count": 4,
     "metadata": {},
     "output_type": "execute_result"
    }
   ],
   "source": [
    "# Check connection\n",
    "p4c.cytoscape_version_info()"
   ]
  },
  {
   "cell_type": "markdown",
   "metadata": {},
   "source": [
    "## Background\n",
    "### Annotations in Cytoscape\n",
    "Cytoscape has three separate drawing surfaces on which the network and annotations are drawn:\n",
    "\n",
    "* Network canvas: where nodes and edges are drawn.\n",
    "* Background canvas: the drawing surface behind nodes and edges.\n",
    "* Foreground canvas: the drawing surface in front of nodes and edges.\n",
    "\n",
    "Annotations are drawn either on the foreground or background canvases, and are exported as objects. They are high quality graphically, allowing for export of images. Annotation types:\n",
    "\n",
    "* Shapes, Text, Bounded Text, Images and Arrows\n",
    "* Groups, to group annotations together"
   ]
  },
  {
   "cell_type": "markdown",
   "metadata": {},
   "source": [
    "## Annotation Panel in the Cytoscape\n",
    "You can find annotation tab on the left side of the Cytoscape, and you can manually add annotations there. You can also add annotation via commands to acheive automation."
   ]
  },
  {
   "cell_type": "markdown",
   "metadata": {},
   "source": [
    "## Adding a Label Annotation"
   ]
  },
  {
   "cell_type": "code",
   "execution_count": 5,
   "metadata": {},
   "outputs": [],
   "source": [
    "cmd_list = ['annotation add text','text=\"Mutation\"','view=\"current\"']"
   ]
  },
  {
   "cell_type": "code",
   "execution_count": 6,
   "metadata": {},
   "outputs": [],
   "source": [
    "cmd = \" \".join(cmd_list)"
   ]
  },
  {
   "cell_type": "code",
   "execution_count": 7,
   "metadata": {},
   "outputs": [
    {
     "data": {
      "text/plain": [
       "['Created annotation Text annotation at 0,0 named \"Text\" with ID: a54d7f35-ba85-43fb-a558-822d21b8f351']"
      ]
     },
     "execution_count": 7,
     "metadata": {},
     "output_type": "execute_result"
    }
   ],
   "source": [
    "p4c.commands.commands_run(cmd)"
   ]
  },
  {
   "cell_type": "markdown",
   "metadata": {},
   "source": [
    "To change the appearance, enter the desired label and select font and color in the command."
   ]
  },
  {
   "cell_type": "code",
   "execution_count": 8,
   "metadata": {},
   "outputs": [
    {
     "data": {
      "text/plain": [
       "['Created annotation Text annotation at 0,0 named \"Text\" with ID: e221f711-020a-4547-b4f8-d0b1f96adfcb']"
      ]
     },
     "execution_count": 8,
     "metadata": {},
     "output_type": "execute_result"
    }
   ],
   "source": [
    "cmd_list_apperance = ['annotation add text','text=\"Gene\"','view=\"current\"','fontSize=36','fontStyle=\"bold\"','color=red']\n",
    "cmd_apperance = \" \".join(cmd_list_apperance)\n",
    "p4c.commands.commands_run(cmd_apperance)"
   ]
  },
  {
   "cell_type": "markdown",
   "metadata": {},
   "source": [
    "To adjust the location of the annotation, first click the Toggle Annotation Selection. The annotation can now be moved by click and drag. \n",
    "\n",
    "Or you can enter x and y parameter when you create the annotation."
   ]
  },
  {
   "cell_type": "code",
   "execution_count": 9,
   "metadata": {},
   "outputs": [
    {
     "data": {
      "text/plain": [
       "['Created annotation Text annotation at 200,200 named \"Text\" with ID: 87955118-9cb1-447e-ba3a-88a7b67860a9']"
      ]
     },
     "execution_count": 9,
     "metadata": {},
     "output_type": "execute_result"
    }
   ],
   "source": [
    "cmd_list_location = ['annotation add text','text=\"Protein\"','view=\"current\"','x=200','y=200']\n",
    "cmd_location = \" \".join(cmd_list_location)\n",
    "p4c.commands.commands_run(cmd_location)"
   ]
  },
  {
   "cell_type": "markdown",
   "metadata": {},
   "source": [
    "You can find other command arguments [here](http://localhost:1234/v1/swaggerUI/swagger-ui/index.html?url=http%3A%2F%2Flocalhost%3A1234%2Fv1%2Fcommands%2Fswagger.json#!/annotation/annotation_add_text)."
   ]
  },
  {
   "cell_type": "markdown",
   "metadata": {},
   "source": [
    "## Adding a Shape Annotation"
   ]
  },
  {
   "cell_type": "code",
   "execution_count": 10,
   "metadata": {},
   "outputs": [
    {
     "data": {
      "text/plain": [
       "['Created annotation Shape annotation at 0,0 named \"Shape 1\" with ID: 2eee0144-2689-4c9d-aeb9-cdd730fbf369']"
      ]
     },
     "execution_count": 10,
     "metadata": {},
     "output_type": "execute_result"
    }
   ],
   "source": [
    "cmd_list_shape = ['annotation add shape','type=\"Triangle\"','view=\"current\"']\n",
    "cmd_shape = \" \".join(cmd_list_shape)\n",
    "p4c.commands.commands_run(cmd_shape)"
   ]
  },
  {
   "cell_type": "markdown",
   "metadata": {},
   "source": [
    "As usual, you can choose border color, border opacity, fill color and other parameters by adding arguments in the command.\n",
    "\n",
    "You can find other command arguments [here](http://localhost:1234/v1/swaggerUI/swagger-ui/index.html?url=http%3A%2F%2Flocalhost%3A1234%2Fv1%2Fcommands%2Fswagger.json#!/annotation/annotation_add_shape)."
   ]
  },
  {
   "cell_type": "markdown",
   "metadata": {},
   "source": [
    "By default the shape will be drawn on the foreground canvas, obstructing any nodes behind it. To move it to the background cavnas, select the shape in the Layers tab in the Annotation panel and click the Push Annotations to Background Layer arrow just below the list.\n",
    "\n",
    "Or you can add canvas argument in your command."
   ]
  },
  {
   "cell_type": "code",
   "execution_count": 11,
   "metadata": {},
   "outputs": [
    {
     "data": {
      "text/plain": [
       "['Created annotation Shape annotation at 0,0 named \"Shape 3\" with ID: c65cb46e-1b3a-49c6-9aaf-4110095b19dd']"
      ]
     },
     "execution_count": 11,
     "metadata": {},
     "output_type": "execute_result"
    }
   ],
   "source": [
    "cmd_list_canvas = ['annotation add shape','canvas=\"background\"','type=\"Diamond\"','view=\"current\"']\n",
    "cmd_canvas = \" \".join(cmd_list_canvas)\n",
    "p4c.commands.commands_run(cmd_canvas)"
   ]
  },
  {
   "cell_type": "markdown",
   "metadata": {},
   "source": [
    "## Editing Annotations"
   ]
  },
  {
   "cell_type": "markdown",
   "metadata": {},
   "source": [
    "Existing annotations can be updated via annotation update commands. You may notice that each annotation has its own unique ID. When you want to update a exisiting annotaion, the unique ID is required.\n",
    "\n",
    "All annotation ID can be found by listing annotation."
   ]
  },
  {
   "cell_type": "code",
   "execution_count": 12,
   "metadata": {},
   "outputs": [
    {
     "data": {
      "text/plain": [
       "['Text annotation at 0,0 named \"Text\" with ID: a54d7f35-ba85-43fb-a558-822d21b8f351',\n",
       " 'Shape annotation at 0,0 named \"Shape 1\" with ID: 2eee0144-2689-4c9d-aeb9-cdd730fbf369',\n",
       " 'Text annotation at 200,200 named \"Text\" with ID: 87955118-9cb1-447e-ba3a-88a7b67860a9',\n",
       " 'Text annotation at 0,0 named \"Text\" with ID: e221f711-020a-4547-b4f8-d0b1f96adfcb',\n",
       " 'Shape annotation at 0,0 named \"Shape 3\" with ID: c65cb46e-1b3a-49c6-9aaf-4110095b19dd',\n",
       " 'Shape annotation at 0,0 named \"Shape 2\" with ID: 7f1d31f1-985d-47b7-a1fa-2a8a98b9a0d8']"
      ]
     },
     "execution_count": 12,
     "metadata": {},
     "output_type": "execute_result"
    }
   ],
   "source": [
    "idlist = p4c.commands.commands_run(\"annotation list view=current\")\n",
    "idlist"
   ]
  },
  {
   "cell_type": "code",
   "execution_count": 13,
   "metadata": {},
   "outputs": [
    {
     "data": {
      "text/plain": [
       "['Updated annotation Text annotation at 0,0 named \"UPDATE TEXT\" with ID: a54d7f35-ba85-43fb-a558-822d21b8f351']"
      ]
     },
     "execution_count": 13,
     "metadata": {},
     "output_type": "execute_result"
    }
   ],
   "source": [
    "cmd_list_update = ['annotation update text','text=UPDATE TEXT\"','uuidOrName=\"',idlist[0][-36:],'\"']\n",
    "cmd_update = \" \".join(cmd_list_update)\n",
    "p4c.commands.commands_run(cmd_update)"
   ]
  },
  {
   "cell_type": "markdown",
   "metadata": {},
   "source": [
    "## Group and Ungroup annotations"
   ]
  },
  {
   "cell_type": "markdown",
   "metadata": {},
   "source": [
    "You can also combine a list of annotations into a group annotation.\n"
   ]
  },
  {
   "cell_type": "code",
   "execution_count": 14,
   "metadata": {},
   "outputs": [
    {
     "data": {
      "text/plain": [
       "['Group annotation Group annotation at 0,0 named \"Group 1\" with ID: 16427d6e-ea07-40ec-8c71-58965d992079']"
      ]
     },
     "execution_count": 14,
     "metadata": {},
     "output_type": "execute_result"
    }
   ],
   "source": [
    "# Group annotations\n",
    "cmd_list_group = ['annotation group','annotationlist=\"',idlist[0][-36:]+\",\"+idlist[1][-36:],'\"'', view=current']\n",
    "cmd_group = \" \".join(cmd_list_group)\n",
    "p4c.commands.commands_run(cmd_group)"
   ]
  },
  {
   "cell_type": "code",
   "execution_count": 15,
   "metadata": {},
   "outputs": [
    {
     "data": {
      "text/plain": [
       "[]"
      ]
     },
     "execution_count": 15,
     "metadata": {},
     "output_type": "execute_result"
    }
   ],
   "source": [
    "# Ungroup annotations\n",
    "p4c.commands.commands_run(\"annotation ungroup uuidOrName=Group 1 view=current\")"
   ]
  },
  {
   "cell_type": "markdown",
   "metadata": {},
   "source": [
    "For more information on using annotations in network visualization, see the [Ten Simple Rules](https://cytoscape.org/cytoscape-tutorials/presentations/modules/ten-simple-rules/index.html#/0/7) protocol."
   ]
  }
 ],
 "metadata": {
  "kernelspec": {
   "display_name": "Python 3",
   "language": "python",
   "name": "python3"
  },
  "language_info": {
   "codemirror_mode": {
    "name": "ipython",
    "version": 3
   },
   "file_extension": ".py",
   "mimetype": "text/x-python",
   "name": "python",
   "nbconvert_exporter": "python",
   "pygments_lexer": "ipython3",
   "version": "3.8.5"
  }
 },
 "nbformat": 4,
 "nbformat_minor": 4
}
