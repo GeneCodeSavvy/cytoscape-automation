{
  "nbformat": 4,
  "nbformat_minor": 0,
  "metadata": {
    "kernelspec": {
      "display_name": "Python 3",
      "language": "python",
      "name": "python3"
    },
    "language_info": {
      "codemirror_mode": {
        "name": "ipython",
        "version": 3
      },
      "file_extension": ".py",
      "mimetype": "text/x-python",
      "name": "python",
      "nbconvert_exporter": "python",
      "pygments_lexer": "ipython3",
      "version": "3.8.5"
    },
    "colab": {
      "name": "affinity-purification-mass-spectrometry.ipynb",
      "provenance": [],
      "include_colab_link": true
    }
  },
  "cells": [
    {
      "cell_type": "markdown",
      "metadata": {
        "id": "view-in-github",
        "colab_type": "text"
      },
      "source": [
        "<a href=\"https://colab.research.google.com/github/cytoscape/cytoscape-automation/blob/master/for-scripters/Python/affinity-purification-mass-spectrometry.ipynb\" target=\"_parent\"><img src=\"https://colab.research.google.com/assets/colab-badge.svg\" alt=\"Open In Colab\"/></a>"
      ]
    },
    {
      "cell_type": "markdown",
      "metadata": {
        "id": "MkI80b2bwk3I"
      },
      "source": [
        "# Affinity purification-mass spectrometry network analysis\n",
        "## Yihang Xin and Alex Pico\n",
        "## 2020-11-10"
      ]
    },
    {
      "cell_type": "markdown",
      "metadata": {
        "id": "cawFKdOSwk3L"
      },
      "source": [
        "This vignette describes how to use data from an affinity purification-mass spectrometry experiment to generate relevant interaction networks, enriching the networks with information from public resources, analyzing the networks and creating effective visualizations.\n",
        "\n",
        "The result of this vignette will be a visualization of a human-HIV integrated network combining experimental data and publicly available interaction data."
      ]
    },
    {
      "cell_type": "markdown",
      "metadata": {
        "id": "lEqam_Hpwk3M"
      },
      "source": [
        "# Installation\n",
        "The following chunk of code installs the `py4cytoscape` module."
      ]
    },
    {
      "cell_type": "code",
      "metadata": {
        "id": "LFn2gATcwk3M"
      },
      "source": [
        "%%capture\n",
        "!python3 -m pip install python-igraph requests pandas networkx\n",
        "!python3 -m pip install py4cytoscape"
      ],
      "execution_count": null,
      "outputs": []
    },
    {
      "cell_type": "markdown",
      "metadata": {
        "id": "UPWx8AFewm0T"
      },
      "source": [
        "If you are using a remote notebook environment such as Google Colab, please execute the cell below. (If you're running on your local notebook, you don't need to do that.)\n",
        "\n"
      ]
    },
    {
      "cell_type": "code",
      "metadata": {
        "id": "NWUKEVRlwolg"
      },
      "source": [
        "import requests\n",
        "exec(requests.get(\"https://raw.githubusercontent.com/cytoscape/jupyter-bridge/master/client/p4c_init.py\").text)\n",
        "IPython.display.Javascript(_PY4CYTOSCAPE_BROWSER_CLIENT_JS) # Start browser client"
      ],
      "execution_count": null,
      "outputs": []
    },
    {
      "cell_type": "markdown",
      "metadata": {
        "id": "K1VG5aDmwk3N"
      },
      "source": [
        "# Prerequisites\n",
        "In addition to this package (py4cytoscape version 0.0.7), you will need:\n",
        "\n",
        "* Latest version of Cytoscape, which can be downloaded from https://cytoscape.org/download.html. Simply follow the installation instructions on screen.\n",
        "\n",
        "* Complete installation wizard\n",
        "\n",
        "* Launch Cytoscape \n",
        "\n",
        "For this vignette, you’ll also need the STRING app and the enhancedGraphics app:\n",
        "\n",
        "Install the STRING app from https://apps.cytoscape.org/apps/stringapp\n",
        "\n",
        "Install the enhancedGraphics app from http://apps.cytoscape.org/apps/enhancedgraphics\n",
        "\n",
        "Install the filetransfer app from https://apps.cytoscape.org/apps/filetransfer\n",
        "\n",
        "You can also install app inside Python notebook by running \"py4cytoscape.install_app('Your App')\""
      ]
    },
    {
      "cell_type": "markdown",
      "metadata": {
        "id": "Zp9jaW3Jwk3O"
      },
      "source": [
        "# Background\n",
        "The data used for this protocol represents interactions between human and HIV proteins by Jäger et al (https://www.ncbi.nlm.nih.gov/pmc/articles/PMC3310911/). In this quantitative AP-MS experiment, a relatively small number of bait proteins are used to pull down a larger set of prey proteins.\n",
        "\n",
        "Note that this tutorial does not describe how to pre-process the raw AP-MS data, the data used here is already scored and filtered."
      ]
    },
    {
      "cell_type": "markdown",
      "metadata": {
        "id": "CXcrScuDwk3P"
      },
      "source": [
        "# Import the required package"
      ]
    },
    {
      "cell_type": "code",
      "metadata": {
        "id": "iHjJf-Vrwk3P"
      },
      "source": [
        "import os\n",
        "import sys\n",
        "import pandas as pd\n",
        "import py4cytoscape as p4c\n",
        "%matplotlib inline"
      ],
      "execution_count": null,
      "outputs": []
    },
    {
      "cell_type": "markdown",
      "metadata": {
        "id": "KVpGgnCNwk3Q"
      },
      "source": [
        "# Setup Cytoscape"
      ]
    },
    {
      "cell_type": "code",
      "metadata": {
        "id": "rlWtHY64wk3R",
        "outputId": "8cbeff93-6c54-4112-9678-de59043a92ec"
      },
      "source": [
        "p4c.cytoscape_version_info()"
      ],
      "execution_count": null,
      "outputs": [
        {
          "output_type": "execute_result",
          "data": {
            "text/plain": [
              "{'apiVersion': 'v1',\n",
              " 'cytoscapeVersion': '3.8.2',\n",
              " 'automationAPIVersion': '1.0.0',\n",
              " 'py4cytoscapeVersion': '0.0.7'}"
            ]
          },
          "metadata": {
            "tags": []
          },
          "execution_count": 3
        }
      ]
    },
    {
      "cell_type": "markdown",
      "metadata": {
        "id": "LdhbZqqEwk3S"
      },
      "source": [
        "# Import Network and Data\n",
        "Let’s start by reading in the example data file:"
      ]
    },
    {
      "cell_type": "code",
      "metadata": {
        "id": "17ZLdolvwk3T",
        "outputId": "aeb9b14a-d190-4bdc-d489-d6a724b9c75b"
      },
      "source": [
        "ap_ms_url = 'https://raw.githubusercontent.com/cytoscape/cytoscape-automation/master/for-scripters/R/notebooks/AP-MS/ap-ms-demodata.csv'\n",
        "ap_ms_df = pd.read_csv(ap_ms_url)\n",
        "ap_ms_df.head()"
      ],
      "execution_count": null,
      "outputs": [
        {
          "output_type": "execute_result",
          "data": {
            "text/html": [
              "<div>\n",
              "<style scoped>\n",
              "    .dataframe tbody tr th:only-of-type {\n",
              "        vertical-align: middle;\n",
              "    }\n",
              "\n",
              "    .dataframe tbody tr th {\n",
              "        vertical-align: top;\n",
              "    }\n",
              "\n",
              "    .dataframe thead th {\n",
              "        text-align: right;\n",
              "    }\n",
              "</style>\n",
              "<table border=\"1\" class=\"dataframe\">\n",
              "  <thead>\n",
              "    <tr style=\"text-align: right;\">\n",
              "      <th></th>\n",
              "      <th>Bait</th>\n",
              "      <th>Prey</th>\n",
              "      <th>UniProt</th>\n",
              "      <th>HEKScore</th>\n",
              "      <th>JurkatScore</th>\n",
              "      <th>AP-MS Score</th>\n",
              "    </tr>\n",
              "  </thead>\n",
              "  <tbody>\n",
              "    <tr>\n",
              "      <th>0</th>\n",
              "      <td>GAG</td>\n",
              "      <td>THRAP3</td>\n",
              "      <td>Q9Y2W1</td>\n",
              "      <td>0.807</td>\n",
              "      <td>0.319</td>\n",
              "      <td>0.563</td>\n",
              "    </tr>\n",
              "    <tr>\n",
              "      <th>1</th>\n",
              "      <td>GAG</td>\n",
              "      <td>SEPSECS</td>\n",
              "      <td>Q9HD40</td>\n",
              "      <td>0.814</td>\n",
              "      <td>0.200</td>\n",
              "      <td>0.507</td>\n",
              "    </tr>\n",
              "    <tr>\n",
              "      <th>2</th>\n",
              "      <td>GAG</td>\n",
              "      <td>IVNS1ABP</td>\n",
              "      <td>Q9Y6Y0</td>\n",
              "      <td>0.753</td>\n",
              "      <td>0.260</td>\n",
              "      <td>0.506</td>\n",
              "    </tr>\n",
              "    <tr>\n",
              "      <th>3</th>\n",
              "      <td>GAG</td>\n",
              "      <td>DDX49</td>\n",
              "      <td>Q9Y6V7</td>\n",
              "      <td>0.824</td>\n",
              "      <td>0.000</td>\n",
              "      <td>0.412</td>\n",
              "    </tr>\n",
              "    <tr>\n",
              "      <th>4</th>\n",
              "      <td>GAG</td>\n",
              "      <td>PRMT1</td>\n",
              "      <td>Q99873</td>\n",
              "      <td>0.758</td>\n",
              "      <td>0.037</td>\n",
              "      <td>0.397</td>\n",
              "    </tr>\n",
              "  </tbody>\n",
              "</table>\n",
              "</div>"
            ],
            "text/plain": [
              "  Bait      Prey UniProt  HEKScore  JurkatScore  AP-MS Score\n",
              "0  GAG    THRAP3  Q9Y2W1     0.807        0.319        0.563\n",
              "1  GAG   SEPSECS  Q9HD40     0.814        0.200        0.507\n",
              "2  GAG  IVNS1ABP  Q9Y6Y0     0.753        0.260        0.506\n",
              "3  GAG     DDX49  Q9Y6V7     0.824        0.000        0.412\n",
              "4  GAG     PRMT1  Q99873     0.758        0.037        0.397"
            ]
          },
          "metadata": {
            "tags": []
          },
          "execution_count": 4
        }
      ]
    },
    {
      "cell_type": "markdown",
      "metadata": {
        "id": "E0abU1cKwk3T"
      },
      "source": [
        "Now we can create a data frame for the network edges (interactions) using the imported data. We will add an interaction “AP-MS” to each edge, which will be useful later, and we can also add the AP-MS score from the data as an edge attribute:"
      ]
    },
    {
      "cell_type": "code",
      "metadata": {
        "id": "VyMtjRIGwk3U",
        "outputId": "d6436024-1eae-46bf-c3e3-b0a4ce8b6e78"
      },
      "source": [
        "edge_data = {'source':ap_ms_df[\"Bait\"],\n",
        "             'target':ap_ms_df[\"Prey\"],\n",
        "             'interaction': \"AP-MS\",\n",
        "             'AP-MS Score':ap_ms_df[\"AP-MS Score\"]\n",
        "            }\n",
        "edges = pd.DataFrame(data=edge_data, columns=['source', 'target', 'interaction','AP-MS Score'])\n",
        "edges.head(10)"
      ],
      "execution_count": null,
      "outputs": [
        {
          "output_type": "execute_result",
          "data": {
            "text/html": [
              "<div>\n",
              "<style scoped>\n",
              "    .dataframe tbody tr th:only-of-type {\n",
              "        vertical-align: middle;\n",
              "    }\n",
              "\n",
              "    .dataframe tbody tr th {\n",
              "        vertical-align: top;\n",
              "    }\n",
              "\n",
              "    .dataframe thead th {\n",
              "        text-align: right;\n",
              "    }\n",
              "</style>\n",
              "<table border=\"1\" class=\"dataframe\">\n",
              "  <thead>\n",
              "    <tr style=\"text-align: right;\">\n",
              "      <th></th>\n",
              "      <th>source</th>\n",
              "      <th>target</th>\n",
              "      <th>interaction</th>\n",
              "      <th>AP-MS Score</th>\n",
              "    </tr>\n",
              "  </thead>\n",
              "  <tbody>\n",
              "    <tr>\n",
              "      <th>0</th>\n",
              "      <td>GAG</td>\n",
              "      <td>THRAP3</td>\n",
              "      <td>AP-MS</td>\n",
              "      <td>0.563</td>\n",
              "    </tr>\n",
              "    <tr>\n",
              "      <th>1</th>\n",
              "      <td>GAG</td>\n",
              "      <td>SEPSECS</td>\n",
              "      <td>AP-MS</td>\n",
              "      <td>0.507</td>\n",
              "    </tr>\n",
              "    <tr>\n",
              "      <th>2</th>\n",
              "      <td>GAG</td>\n",
              "      <td>IVNS1ABP</td>\n",
              "      <td>AP-MS</td>\n",
              "      <td>0.506</td>\n",
              "    </tr>\n",
              "    <tr>\n",
              "      <th>3</th>\n",
              "      <td>GAG</td>\n",
              "      <td>DDX49</td>\n",
              "      <td>AP-MS</td>\n",
              "      <td>0.412</td>\n",
              "    </tr>\n",
              "    <tr>\n",
              "      <th>4</th>\n",
              "      <td>GAG</td>\n",
              "      <td>PRMT1</td>\n",
              "      <td>AP-MS</td>\n",
              "      <td>0.397</td>\n",
              "    </tr>\n",
              "    <tr>\n",
              "      <th>5</th>\n",
              "      <td>GAG</td>\n",
              "      <td>OLA1</td>\n",
              "      <td>AP-MS</td>\n",
              "      <td>0.389</td>\n",
              "    </tr>\n",
              "    <tr>\n",
              "      <th>6</th>\n",
              "      <td>GAG</td>\n",
              "      <td>EIF2AK2</td>\n",
              "      <td>AP-MS</td>\n",
              "      <td>0.383</td>\n",
              "    </tr>\n",
              "    <tr>\n",
              "      <th>7</th>\n",
              "      <td>GAG</td>\n",
              "      <td>RBM17</td>\n",
              "      <td>AP-MS</td>\n",
              "      <td>0.382</td>\n",
              "    </tr>\n",
              "    <tr>\n",
              "      <th>8</th>\n",
              "      <td>MA</td>\n",
              "      <td>EPRS</td>\n",
              "      <td>AP-MS</td>\n",
              "      <td>0.874</td>\n",
              "    </tr>\n",
              "    <tr>\n",
              "      <th>9</th>\n",
              "      <td>MA</td>\n",
              "      <td>OLA1</td>\n",
              "      <td>AP-MS</td>\n",
              "      <td>0.865</td>\n",
              "    </tr>\n",
              "  </tbody>\n",
              "</table>\n",
              "</div>"
            ],
            "text/plain": [
              "  source    target interaction  AP-MS Score\n",
              "0    GAG    THRAP3       AP-MS        0.563\n",
              "1    GAG   SEPSECS       AP-MS        0.507\n",
              "2    GAG  IVNS1ABP       AP-MS        0.506\n",
              "3    GAG     DDX49       AP-MS        0.412\n",
              "4    GAG     PRMT1       AP-MS        0.397\n",
              "5    GAG      OLA1       AP-MS        0.389\n",
              "6    GAG   EIF2AK2       AP-MS        0.383\n",
              "7    GAG     RBM17       AP-MS        0.382\n",
              "8     MA      EPRS       AP-MS        0.874\n",
              "9     MA      OLA1       AP-MS        0.865"
            ]
          },
          "metadata": {
            "tags": []
          },
          "execution_count": 5
        }
      ]
    },
    {
      "cell_type": "markdown",
      "metadata": {
        "id": "czDdTcyQwk3U"
      },
      "source": [
        "Finally, we use the edge data fram to create the network. Note that we don’t need to define a data frame for nodes, as all nodes in this case are represented in the edge data frame."
      ]
    },
    {
      "cell_type": "code",
      "metadata": {
        "id": "_q4hEfNZwk3V",
        "outputId": "8648a54b-a769-4ba0-a823-3ef9831040f4"
      },
      "source": [
        "p4c.networks.create_network_from_data_frames(None, edges, title='apms network', collection = \"apms collection\")"
      ],
      "execution_count": null,
      "outputs": [
        {
          "output_type": "stream",
          "text": [
            "Applying default style...\n",
            "Applying preferred layout\n"
          ],
          "name": "stdout"
        },
        {
          "output_type": "execute_result",
          "data": {
            "text/plain": [
              "{'networkSUID': 517499}"
            ]
          },
          "metadata": {
            "tags": []
          },
          "execution_count": 6
        }
      ]
    },
    {
      "cell_type": "markdown",
      "metadata": {
        "id": "gG2b4wwTwk3W"
      },
      "source": [
        "# Loading Data\n",
        "There are three other columns of data and annotations for the “Prey” proteins that we want to load into this network.\n",
        "\n",
        "In this data, the Prey nodes are repeated for each interactions with a Bait node, so the data contains different values for the same attribute (for example HEKScore), for each Prey node. During import, the last value imported will overwrite prior values and visualizations using this attribute thus only shows the last value."
      ]
    },
    {
      "cell_type": "code",
      "metadata": {
        "id": "AZP7fMrFwk3W",
        "outputId": "1d3dae51-3811-457e-b652-872868a1ec78"
      },
      "source": [
        "p4c.tables.load_table_data(ap_ms_df.iloc[:, 1:5], data_key_column=\"Prey\")"
      ],
      "execution_count": null,
      "outputs": [
        {
          "output_type": "execute_result",
          "data": {
            "text/plain": [
              "'Success: Data loaded in defaultnode table'"
            ]
          },
          "metadata": {
            "tags": []
          },
          "execution_count": 7
        }
      ]
    },
    {
      "cell_type": "markdown",
      "metadata": {
        "id": "vQKsSajYwk3W"
      },
      "source": [
        "# Augmenting Network with Existing Protein-protein Interaction Data\n",
        "We are going to use existing protein-protein interaction data to enrich the network, using the STRING database with the human protein nodes as input.\n",
        "\n",
        "Let’s collect all the UniProt identifiers from the data, and create a text string that we can use to query STRING:"
      ]
    },
    {
      "cell_type": "code",
      "metadata": {
        "id": "B_RyEoXqwk3W"
      },
      "source": [
        "uniport_str = ','.join(ap_ms_df[\"UniProt\"])"
      ],
      "execution_count": null,
      "outputs": []
    },
    {
      "cell_type": "code",
      "metadata": {
        "id": "UcmoAVHwwk3X"
      },
      "source": [
        "string_cmd_list = ['string protein query','query=\"',uniport_str,'\"', 'species=\"Homo sapiens\"', 'limit=0', 'cutoff=0.999']"
      ],
      "execution_count": null,
      "outputs": []
    },
    {
      "cell_type": "code",
      "metadata": {
        "id": "UfGT8mZhwk3X"
      },
      "source": [
        "string_cmd = \" \".join(string_cmd_list)"
      ],
      "execution_count": null,
      "outputs": []
    },
    {
      "cell_type": "code",
      "metadata": {
        "id": "Ou4v6T6ywk3X",
        "outputId": "553b6898-9a67-4e80-df03-8094335a976c"
      },
      "source": [
        "p4c.commands.commands_run(string_cmd)"
      ],
      "execution_count": null,
      "outputs": [
        {
          "output_type": "execute_result",
          "data": {
            "text/plain": [
              "[\"Loaded network 'String Network - 2' with 434 nodes and 302 edges\"]"
            ]
          },
          "metadata": {
            "tags": []
          },
          "execution_count": 11
        }
      ]
    },
    {
      "cell_type": "markdown",
      "metadata": {
        "id": "c9KQeI1Xwk3X"
      },
      "source": [
        "The resulting network contains known interactions between the human proteins, with an evidence score of 0.999 or greater."
      ]
    },
    {
      "cell_type": "markdown",
      "metadata": {
        "id": "hSSURx7Fwk3X"
      },
      "source": [
        "# Merge Networks\n",
        "To incorprate the new information into our AP-MS network, we need merge the STRING and AP-MS networks. We can use the Uniprot IDs available in both networks as the matching attribute, “Uniprot” in the AP-MS network, and “query term in the String network. We will also specify how to merge the attribute containing the node name (symbol), which is contained in the”name\" attribute for the AP-MS network and the “display name” for the String network."
      ]
    },
    {
      "cell_type": "code",
      "metadata": {
        "id": "JhLmgEOXwk3Y",
        "outputId": "a233ba77-6b46-4737-c6d1-43bfeff28475"
      },
      "source": [
        "p4c.tools.merge_networks([\"apms network,String Network\"], operation='union', node_keys=[\"Uniprot,query term\"], node_merge_map=[[\"name\",\"display name\",\"display name\", \"string\"]])"
      ],
      "execution_count": null,
      "outputs": [
        {
          "output_type": "execute_result",
          "data": {
            "text/plain": [
              "520929"
            ]
          },
          "metadata": {
            "tags": []
          },
          "execution_count": 12
        }
      ]
    },
    {
      "cell_type": "markdown",
      "metadata": {
        "id": "xPHsHD8Lwk3Z"
      },
      "source": [
        "# Network Visualization\n",
        "When the merged network first loads, it will have the STRING style applied. However, because the HIV nodes are not from STRING, they will be grey. The layout also makes the network hard to interpret. Let’s change the style of the network a bit.\n",
        "\n",
        "First, let’s set our AP-MS network as the current network:"
      ]
    },
    {
      "cell_type": "code",
      "metadata": {
        "id": "qD1bepOYwk3Z"
      },
      "source": [
        "%%capture\n",
        "p4c.networks.set_current_network('union: apms network,String Network')\n",
        "p4c.network_views.set_current_view()"
      ],
      "execution_count": null,
      "outputs": []
    },
    {
      "cell_type": "markdown",
      "metadata": {
        "id": "6ypI-A-jwk3Z"
      },
      "source": [
        "Next, we can define our style and apply it to the network:"
      ]
    },
    {
      "cell_type": "code",
      "metadata": {
        "id": "XSuxJR5Gwk3Z",
        "outputId": "0f8b4aed-161a-43e2-b547-461c62b36d36"
      },
      "source": [
        "style_name = \"AP-MS\"\n",
        "p4c.styles.create_visual_style(style_name)\n",
        "p4c.style_dependencies.lock_node_dimensions(True)\n",
        "p4c.style_defaults.set_node_size_default(50, style_name=style_name)\n",
        "p4c.style_defaults.set_node_color_default(\"#CCCCFF\", style_name=style_name)\n",
        "p4c.style_mappings.set_node_label_mapping('display name', style_name=style_name)\n",
        "p4c.styles.set_visual_style(style_name=style_name)"
      ],
      "execution_count": null,
      "outputs": [
        {
          "output_type": "stream",
          "text": [
            "style_name not specified, so updating \"default\" style.\n"
          ],
          "name": "stdout"
        },
        {
          "output_type": "execute_result",
          "data": {
            "text/plain": [
              "{'message': 'Visual Style applied.'}"
            ]
          },
          "metadata": {
            "tags": []
          },
          "execution_count": 14
        }
      ]
    },
    {
      "cell_type": "code",
      "metadata": {
        "id": "bRTwfV5Jwk3a",
        "outputId": "5498debd-e739-4581-caf2-b6385b73ae5d"
      },
      "source": [
        "p4c.layouts.layout_network(layout_name='force-directed defaultSpringCoefficient=0.00001 defaultSpringLength=50 defaultNodeMass=4')"
      ],
      "execution_count": null,
      "outputs": [
        {
          "output_type": "execute_result",
          "data": {
            "text/plain": [
              "{}"
            ]
          },
          "metadata": {
            "tags": []
          },
          "execution_count": 15
        }
      ]
    },
    {
      "cell_type": "markdown",
      "metadata": {
        "id": "GTznP0Ymwk3a"
      },
      "source": [
        "# STRING Enrichment\n",
        "Now that we have a merged network, we can do enrichment analysis on it, using the STRING enrichment tool.\n",
        "\n",
        "The STRING app has built-in enrichment analysis functionality, which includes enrichment for GO Process, GO Component, GO Function, InterPro, KEGG Pathways, and PFAM."
      ]
    },
    {
      "cell_type": "code",
      "metadata": {
        "id": "jB82nF5iwk3a",
        "outputId": "8db80c5f-4860-43c3-b1af-534d41d2ad7a"
      },
      "source": [
        "p4c.commands.commands_run('string make string network=\"current\"')"
      ],
      "execution_count": null,
      "outputs": [
        {
          "output_type": "execute_result",
          "data": {
            "text/plain": [
              "[\"Set network 'union: apms network,String Network as STRING network\"]"
            ]
          },
          "metadata": {
            "tags": []
          },
          "execution_count": 16
        }
      ]
    },
    {
      "cell_type": "code",
      "metadata": {
        "id": "1SZQmpNCwk3a",
        "outputId": "1090712c-042c-40da-b99d-8f40884bf959"
      },
      "source": [
        "string_cmd_list = ['string retrieve enrichment','allNetSpecies=\"Homo sapiens\"', 'background=\"genome\"','selectedNodesOnly=\"false\"']\n",
        "string_cmd = \" \".join(string_cmd_list)\n",
        "p4c.commands.commands_run(string_cmd)"
      ],
      "execution_count": null,
      "outputs": [
        {
          "output_type": "execute_result",
          "data": {
            "text/plain": [
              "['Enrichment results summary:',\n",
              " 'ppiEnrichment=1.0E-16',\n",
              " 'enrichmentNodes=202',\n",
              " 'enrichmentExpectedEdges=141',\n",
              " 'enrichmentEdges=919',\n",
              " 'enrichmentClusteringCoeff=0.490579317787125',\n",
              " 'enrichmentAvgDegree=9.0990099009901']"
            ]
          },
          "metadata": {
            "tags": []
          },
          "execution_count": 17
        }
      ]
    },
    {
      "cell_type": "markdown",
      "metadata": {
        "id": "XDWRogElwk3b"
      },
      "source": [
        "The STRING app includes several options for filtering and displaying the enrichment results. We will filter the results to only show GO Process."
      ]
    },
    {
      "cell_type": "code",
      "metadata": {
        "id": "sW6c3I2Fwk3b",
        "outputId": "9a7f94a7-5a78-4549-9a8d-1c7988674c1a"
      },
      "source": [
        "p4c.commands.commands_run('string filter enrichment categories=\"GO Process\" removeOverlapping=\"true\"')"
      ],
      "execution_count": null,
      "outputs": [
        {
          "output_type": "execute_result",
          "data": {
            "text/plain": [
              "['']"
            ]
          },
          "metadata": {
            "tags": []
          },
          "execution_count": 18
        }
      ]
    },
    {
      "cell_type": "markdown",
      "metadata": {
        "id": "hK6fc52Pwk3b"
      },
      "source": [
        "Next, we will add a split donut chart."
      ]
    },
    {
      "cell_type": "code",
      "metadata": {
        "id": "sx2RSiJ_wk3b",
        "outputId": "82a247ef-2fa5-4743-8a3c-1192d1d41ac7"
      },
      "source": [
        "p4c.commands.commands_run('string show charts')"
      ],
      "execution_count": null,
      "outputs": [
        {
          "output_type": "execute_result",
          "data": {
            "text/plain": [
              "['']"
            ]
          },
          "metadata": {
            "tags": []
          },
          "execution_count": 19
        }
      ]
    },
    {
      "cell_type": "markdown",
      "metadata": {
        "id": "JMc_nUFQwk3b"
      },
      "source": [
        "# Visualizing Results - Jurkat Score\n",
        "We can create a visualization based on the Jurkat Score, and the different interaction types (AP-MS and STRING):"
      ]
    },
    {
      "cell_type": "code",
      "metadata": {
        "id": "W1VbVkcuwk3c",
        "outputId": "3991892b-7fe2-458a-9cbd-493650c9d37c"
      },
      "source": [
        "style_name = \"AP-MS Jurkat Score\"\n",
        "p4c.styles.create_visual_style(style_name)\n",
        "p4c.styles.set_visual_style(style_name=style_name)\n",
        "p4c.style_defaults.set_node_color_default(\"#FFCC00\", style_name=style_name)\n",
        "p4c.style_mappings.set_node_label_mapping('display name', style_name=style_name)\n",
        "p4c.style_mappings.set_edge_color_mapping(\"interaction\", [\"AP-MS\"], [\"#55AA55\"], \"d\", style_name=style_name)\n",
        "p4c.style_mappings.set_edge_line_width_mapping('AP-MS Score', table_column_values=[0, 1], widths=[1,5], mapping_type=\"c\", style_name=style_name)"
      ],
      "execution_count": null,
      "outputs": [
        {
          "output_type": "execute_result",
          "data": {
            "text/plain": [
              "''"
            ]
          },
          "metadata": {
            "tags": []
          },
          "execution_count": 20
        }
      ]
    },
    {
      "cell_type": "markdown",
      "metadata": {
        "id": "6TtMFLf0wk3c"
      },
      "source": [
        "Next, we apply the mapping to the network:"
      ]
    },
    {
      "cell_type": "code",
      "metadata": {
        "id": "KpYaigzmwk3c",
        "outputId": "b9713576-01f8-4c61-e4b0-809d566a8d47"
      },
      "source": [
        "data_values = [0, 0.5, 1]\n",
        "node_colors = [\"#756BB1\", \"#BCBDDC\", \"#EFEDF5\"]\n",
        "p4c.style_mappings.set_node_color_mapping('JurkatScore', data_values, node_colors, style_name=style_name)"
      ],
      "execution_count": null,
      "outputs": [
        {
          "output_type": "execute_result",
          "data": {
            "text/plain": [
              "''"
            ]
          },
          "metadata": {
            "tags": []
          },
          "execution_count": 21
        }
      ]
    },
    {
      "cell_type": "markdown",
      "metadata": {
        "id": "NsJxZ114wk3c"
      },
      "source": [
        "We now have a visualization of the network highlighting the ap-ms experimental data (green edges), as well as additional known interactions (grey edges), with node color indicating the Jurkat Score from the data."
      ]
    },
    {
      "cell_type": "markdown",
      "metadata": {
        "id": "jg2nhF1cwk3c"
      },
      "source": [
        "# Visualizing Results - Combined\n",
        "We could create a similar kind of style for the HEK score, but that only allows for viewing each style seperately. Instead, we can create a combined style, using the enhancedGraphics app.\n",
        "\n",
        "For this, we will need a new column defining a new attribute that will be used for mapping to the Custom Graphics property via the enhancedGraphics app. This new attribute has to be in the form of mappings recognized by the enhancedGraphics app.\n",
        "\n",
        "We can copy the previous style to retain some of the mappings we want to keep:"
      ]
    },
    {
      "cell_type": "code",
      "metadata": {
        "id": "OgfR8yb3wk3c",
        "outputId": "be45f533-a7a1-47d2-9296-e725f99fa6fe"
      },
      "source": [
        "p4c.styles.copy_visual_style(\"AP-MS Jurkat Score\", \"AP-MS CombinedScore\")\n",
        "p4c.styles.set_visual_style(style_name=\"AP-MS CombinedScore\")"
      ],
      "execution_count": null,
      "outputs": [
        {
          "output_type": "execute_result",
          "data": {
            "text/plain": [
              "{'message': 'Visual Style applied.'}"
            ]
          },
          "metadata": {
            "tags": []
          },
          "execution_count": 22
        }
      ]
    },
    {
      "cell_type": "code",
      "metadata": {
        "id": "O4oM9CMuwk3c"
      },
      "source": [
        "all_nodes = p4c.networks.get_all_nodes()"
      ],
      "execution_count": null,
      "outputs": []
    },
    {
      "cell_type": "markdown",
      "metadata": {
        "id": "9VlGzYWpwk3d"
      },
      "source": [
        "To begin adding the new column, we first define a data frame with the new attribute formatted for enhancedGraphics:"
      ]
    },
    {
      "cell_type": "code",
      "metadata": {
        "id": "S1V8IPlcwk3d"
      },
      "source": [
        "combined_df = pd.DataFrame(all_nodes, columns=['name'])\n",
        "combined_df[\"CombinedScore\"] = 'piechart: showlabels=false range=\"0,1\" arcstart=90 valuelist=\".5,.5\" colorlist=\"up:blue,zero:white,down:white;up:purple,zero:white,down:white\" attributelist=\"HEKScore,JurkatScore\"'"
      ],
      "execution_count": null,
      "outputs": []
    },
    {
      "cell_type": "markdown",
      "metadata": {
        "id": "XsVsDssNwk3d"
      },
      "source": [
        "Next, we load this dataframe into the Node Table to create and fill a new column:"
      ]
    },
    {
      "cell_type": "code",
      "metadata": {
        "id": "8cbDh0-vwk3d",
        "outputId": "c0e75b8f-3fcf-4c6d-e509-a5c177f79415"
      },
      "source": [
        "p4c.tables.load_table_data(combined_df, data_key_column=\"name\", table_key_column='name',)"
      ],
      "execution_count": null,
      "outputs": [
        {
          "output_type": "execute_result",
          "data": {
            "text/plain": [
              "'Success: Data loaded in defaultnode table'"
            ]
          },
          "metadata": {
            "tags": []
          },
          "execution_count": 25
        }
      ]
    },
    {
      "cell_type": "markdown",
      "metadata": {
        "id": "6AllYgg-wk3d"
      },
      "source": [
        "We now have a new column, CombinedScore, that we can use for the mapping. This mapping does not come with a custom helper function, se we are going to use two alternative functions to prepare the passthrough mapping property and then update our visual style with the new mapping:"
      ]
    },
    {
      "cell_type": "code",
      "metadata": {
        "id": "RaNS_B_cwk3d",
        "outputId": "35d4bc87-bba6-4853-f846-a52011a4828f"
      },
      "source": [
        "piechart_map = p4c.style_mappings.map_visual_property('node customgraphics 4','CombinedScore','p')\n",
        "p4c.style_mappings.update_style_mapping('AP-MS CombinedScore', piechart_map)"
      ],
      "execution_count": null,
      "outputs": [
        {
          "output_type": "execute_result",
          "data": {
            "text/plain": [
              "''"
            ]
          },
          "metadata": {
            "tags": []
          },
          "execution_count": 26
        }
      ]
    },
    {
      "cell_type": "markdown",
      "metadata": {
        "id": "zOXxGOwZwk3d"
      },
      "source": [
        "Remember that when we imported multiple values for a single node attribute, such as the scores for human nodes interacting with more than one HIV nodes, the last value imported will overwrite prior values and the visualization thus only shows the last value. For EIF3A, which interacts with both PR and POL, only the data relevant to the PR interaction is maintained in the Node Table because our source data was sorted alphabetically by Bait."
      ]
    },
    {
      "cell_type": "markdown",
      "metadata": {
        "id": "Z6Kd81fEwk3e"
      },
      "source": [
        "# Saving, sharing and publishing"
      ]
    },
    {
      "cell_type": "markdown",
      "metadata": {
        "id": "7b2KxIsZwk3e"
      },
      "source": [
        "Session files save everything. As with most project software, we recommend saving often!"
      ]
    },
    {
      "cell_type": "code",
      "metadata": {
        "id": "9vuap32Pwk3e",
        "outputId": "ff4d6a6a-cc81-44a4-871a-a0a17c07beab"
      },
      "source": [
        "p4c.session.save_session('AP-MS_session')"
      ],
      "execution_count": null,
      "outputs": [
        {
          "output_type": "execute_result",
          "data": {
            "text/plain": [
              "{}"
            ]
          },
          "metadata": {
            "tags": []
          },
          "execution_count": 27
        }
      ]
    },
    {
      "cell_type": "markdown",
      "metadata": {
        "id": "9a1nPisbwk3e"
      },
      "source": [
        "# Saving high resolution image files"
      ]
    },
    {
      "cell_type": "markdown",
      "metadata": {
        "id": "VX9XVgIrwk3f"
      },
      "source": [
        "You can export extremely high resolution images, including vector graphic formats."
      ]
    },
    {
      "cell_type": "code",
      "metadata": {
        "id": "-Vgwq5_8wk3f",
        "outputId": "73f6f2fc-3982-4bf4-ac7c-fc6cdf8cc97c"
      },
      "source": [
        "p4c.network_views.export_image('AP-MS_image', type = 'PDF')"
      ],
      "execution_count": null,
      "outputs": [
        {
          "output_type": "execute_result",
          "data": {
            "text/plain": [
              "{'file': '/Users/yxin/CytoscapeConfiguration/filetransfer/default_sandbox/AP-MS_image.pdf'}"
            ]
          },
          "metadata": {
            "tags": []
          },
          "execution_count": 28
        }
      ]
    }
  ]
}