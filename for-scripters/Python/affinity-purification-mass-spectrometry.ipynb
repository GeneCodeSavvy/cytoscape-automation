{
 "cells": [
  {
   "cell_type": "markdown",
   "metadata": {
    "colab_type": "text",
    "id": "view-in-github"
   },
   "source": [
    "<a href=\"https://colab.research.google.com/github/cytoscape/cytoscape-automation/blob/master/for-scripters/Python/affinity-purification-mass-spectrometry.ipynb\" target=\"_parent\"><img src=\"https://colab.research.google.com/assets/colab-badge.svg\" alt=\"Open In Colab\"/></a>"
   ]
  },
  {
   "cell_type": "markdown",
   "metadata": {
    "id": "MkI80b2bwk3I"
   },
   "source": [
    "# Affinity purification-mass spectrometry network analysis\n",
    "## Yihang Xin and Alex Pico\n",
    "## 2020-11-10"
   ]
  },
  {
   "cell_type": "markdown",
   "metadata": {
    "id": "cawFKdOSwk3L"
   },
   "source": [
    "This vignette describes how to use data from an affinity purification-mass spectrometry experiment to generate relevant interaction networks, enriching the networks with information from public resources, analyzing the networks and creating effective visualizations.\n",
    "\n",
    "The result of this vignette will be a visualization of a human-HIV integrated network combining experimental data and publicly available interaction data."
   ]
  },
  {
   "cell_type": "markdown",
   "metadata": {
    "id": "lEqam_Hpwk3M"
   },
   "source": [
    "# Installation\n",
    "The following chunk of code installs the `py4cytoscape` module."
   ]
  },
  {
   "cell_type": "code",
   "execution_count": 1,
   "metadata": {
    "id": "LFn2gATcwk3M"
   },
   "outputs": [],
   "source": [
    "%%capture\n",
    "!python3 -m pip install python-igraph requests pandas networkx\n",
    "!python3 -m pip install py4cytoscape"
   ]
  },
  {
   "cell_type": "markdown",
   "metadata": {
    "id": "UPWx8AFewm0T"
   },
   "source": [
    "If you are using a remote notebook environment such as Google Colab, please execute the cell below. (If you're running on your local notebook, you don't need to do that.)\n",
    "\n"
   ]
  },
  {
   "cell_type": "code",
   "execution_count": 2,
   "metadata": {
    "colab": {
     "base_uri": "https://localhost:8080/",
     "height": 312
    },
    "id": "NWUKEVRlwolg",
    "outputId": "03c1a8b2-974c-40df-f125-21ef65ef9d72"
   },
   "outputs": [
    {
     "name": "stdout",
     "output_type": "stream",
     "text": [
      "Requirement already satisfied: py4cytoscape in /opt/anaconda3/lib/python3.8/site-packages (0.0.10)\n",
      "Requirement already satisfied: requests in /opt/anaconda3/lib/python3.8/site-packages (from py4cytoscape) (2.24.0)\n",
      "Requirement already satisfied: networkx in /opt/anaconda3/lib/python3.8/site-packages (from py4cytoscape) (2.5)\n",
      "Requirement already satisfied: colorbrewer in /opt/anaconda3/lib/python3.8/site-packages (from py4cytoscape) (0.2.0)\n",
      "Requirement already satisfied: python-igraph in /opt/anaconda3/lib/python3.8/site-packages (from py4cytoscape) (0.8.3)\n",
      "Requirement already satisfied: pandas in /opt/anaconda3/lib/python3.8/site-packages (from py4cytoscape) (1.1.3)\n",
      "Requirement already satisfied: six in /opt/anaconda3/lib/python3.8/site-packages (from colorbrewer->py4cytoscape) (1.15.0)\n",
      "Requirement already satisfied: decorator>=4.3.0 in /opt/anaconda3/lib/python3.8/site-packages (from networkx->py4cytoscape) (4.4.2)\n",
      "Requirement already satisfied: pytz>=2017.2 in /opt/anaconda3/lib/python3.8/site-packages (from pandas->py4cytoscape) (2020.1)\n",
      "Requirement already satisfied: numpy>=1.15.4 in /opt/anaconda3/lib/python3.8/site-packages (from pandas->py4cytoscape) (1.19.2)\n",
      "Requirement already satisfied: python-dateutil>=2.7.3 in /opt/anaconda3/lib/python3.8/site-packages (from pandas->py4cytoscape) (2.8.1)\n",
      "Requirement already satisfied: texttable>=1.6.2 in /opt/anaconda3/lib/python3.8/site-packages (from python-igraph->py4cytoscape) (1.6.3)\n",
      "Requirement already satisfied: chardet<4,>=3.0.2 in /opt/anaconda3/lib/python3.8/site-packages (from requests->py4cytoscape) (3.0.4)\n",
      "Requirement already satisfied: certifi>=2017.4.17 in /opt/anaconda3/lib/python3.8/site-packages (from requests->py4cytoscape) (2020.6.20)\n",
      "Requirement already satisfied: idna<3,>=2.5 in /opt/anaconda3/lib/python3.8/site-packages (from requests->py4cytoscape) (2.10)\n",
      "Requirement already satisfied: urllib3!=1.25.0,!=1.25.1,<1.26,>=1.21.1 in /opt/anaconda3/lib/python3.8/site-packages (from requests->py4cytoscape) (1.25.11)\n"
     ]
    },
    {
     "name": "stderr",
     "output_type": "stream",
     "text": [
      "WARNING: You are using pip version 21.0; however, version 21.2.4 is available.\n",
      "You should consider upgrading via the '/opt/anaconda3/bin/python -m pip install --upgrade pip' command.\n"
     ]
    },
    {
     "name": "stdout",
     "output_type": "stream",
     "text": [
      "Loading Javascript client ... 667286e0-a345-469f-ad8f-162afb20471f on https://jupyter-bridge.cytoscape.org\n"
     ]
    },
    {
     "data": {
      "application/javascript": [
       "var Channel = \"667286e0-a345-469f-ad8f-162afb20471f\"; \n",
       "\n",
       "var JupyterBridge = \"https://jupyter-bridge.cytoscape.org\"; \n",
       "\n",
       "  /*\n",
       "    These functions serve as a connector between a remote Jupyter server and Cytoscape.\n",
       "    They run in the user's browser, which also shows the Jupyter Notebook.\n",
       "\n",
       "    A remote Jupyter Notebook call to the py4cytoscape package is forwarded to the Jupyter Bridge,\n",
       "    which is a standalone server. The functions in this connector execute in the Jupyter Notebook\n",
       "    browser, which executes on the same PC as Cytoscape. So, that's 4 components: (A) remote\n",
       "    Jupyter Notebook, (B) separate Jupyter Bridge server, (C) this browser-based component, and\n",
       "    (D) Cytoscape. (A) is on a remote server, (B) is on a different remote server, and (C) and (D)\n",
       "    are on the user's PC.\n",
       "\n",
       "    (A) calls its py4cytoscape module, which forwards the request (in a JSON wrapper) to (B).\n",
       "    (C) picks up the request from (B), unpacks the request and forwards it to (D). (C) awaits a\n",
       "    reply from (D), and when it gets it, it forwards the reply (in a JSON wrapper) to (B).\n",
       "    (A)'s py4cytoscape module picks up the reply on (B) when it becomes available, unpacks it,\n",
       "    and returns it to (A).\n",
       "\n",
       "    A Jupyter Notebook can talk to only one Cytoscape (i.e., the one on the machine running the\n",
       "    Jupyter Notebook browser), and Cytoscape should be called by only one Jupyter Notebook. The\n",
       "    Jupyter Bridge differentiates between Notebook-Cytoscape conversations via a channel UUID.\n",
       "    The UUID is prepended to this browser component by py4Cytoscape, and the component is\n",
       "    started by the Jupyter Notebook. (I wish py4Cytoscape could start the component, too, but I\n",
       "    haven't figured out how to do that yet, so startup code *is* required in the Jupyter\n",
       "    Notebook.)\n",
       "\n",
       "    Note that for the case of a Jupyter server running on the same machine as Cytoscape, this\n",
       "    bridge isn't necessary because the Jupyter server's HTTP calls can easily connect to\n",
       "    Cytoscape over a localhost socket. So, the combination of Jupyter Bridge and this browser\n",
       "    component solves the problem of a Jupyter server (e.g., Google's Colab) that can't\n",
       "    connect to Cytoscape that sits behind a firewall.\n",
       "\n",
       "    The request represents an HTTP call that py4cytoscape would normally make via HTTP directly\n",
       "    to Cytoscape via localhost when both py4cytoscape and Cytoscape are running on the same machine.\n",
       " */\n",
       "\n",
       "const VERSION = '0.0.2'\n",
       "\n",
       "var showDebug; // Flag indicating whether to show Jupyter-bridge progress\n",
       "if (typeof showDebug === 'undefined') {\n",
       "    showDebug = false\n",
       "}\n",
       "if (showDebug) {\n",
       "    alert(\"Starting Jupyter-bridge browser component\")\n",
       "}\n",
       "\n",
       "//const JupyterBridge = 'http://127.0.0.1:5000' // for testing against local Jupyter-bridge\n",
       "var JupyterBridge; // URL of Jupyter-bridge server could be defined by assignment pre-pended to this file\n",
       "if (typeof JupyterBridge === 'undefined') {\n",
       "    JupyterBridge = 'https://jupyter-bridge.cytoscape.org' // for production\n",
       "}\n",
       "var Channel; // Unique constant that could be defined by assignment pre-pended to this file\n",
       "if (typeof Channel === 'undefined') { // ... but if not assigned, use a debugging value\n",
       "    Channel = 1\n",
       "}\n",
       "\n",
       "\n",
       "var httpR = new XMLHttpRequest(); // for sending reply to Jupyter-bridge\n",
       "var httpRE = new XMLHttpRequest(); // for sending backup error reply to Jupyter-bridge\n",
       "var httpC = new XMLHttpRequest(); // for sending command to Cytoscape\n",
       "var httpJ = new XMLHttpRequest(); // for fetching request from Jupyter-bridge\n",
       "\n",
       "const HTTP_OK = 200\n",
       "const HTTP_SYS_ERR = 500\n",
       "const HTTP_TIMEOUT = 408\n",
       "const HTTP_TOO_MANY = 429\n",
       "\n",
       "\n",
       " /* This function is useful if we want to rewrite the incoming URL to resolve just to our local one.\n",
       "    Doing this stops the Jupyter component from abusing this client to call out to endpoints other\n",
       "    than local Cytoscape. On the other hand, it makes it hard to detect when the Jupyter component\n",
       "    has specified a genuinely bad URL and really should get an error result. For now, we'll execute\n",
       "    the Jupyter-supplied URL and return the result, whatever it may be.\n",
       "\n",
       "const LocalCytoscape = 'http://127.0.0.1:1234'\n",
       "\n",
       "function parseURL(url) {\n",
       "    var reURLInformation = new RegExp([\n",
       "        '^(https?:)//', // protocol\n",
       "        '(([^:/?#]*)(?::([0-9]+))?)', // host (hostname and port)\n",
       "        '(/{0,1}[^?#]*)', // pathname\n",
       "        '(\\\\?[^#]*|)', // search\n",
       "        '(#.*|)$' // hash\n",
       "    ].join(''));\n",
       "    var match = url.match(reURLInformation);\n",
       "    return match && {\n",
       "        url: url,\n",
       "        protocol: match[1],\n",
       "        host: match[2],\n",
       "        hostname: match[3],\n",
       "        port: match[4],\n",
       "        pathname: match[5],\n",
       "        search: match[6],\n",
       "        hash: match[7]\n",
       "    }\n",
       "}\n",
       "*/\n",
       "\n",
       "function replyCytoscape(replyStatus, replyStatusText, replyText) {\n",
       "\n",
       "    // Clean up after Jupyter bridge accepts reply\n",
       "    httpR.onreadystatechange = function() {\n",
       "        if (httpR.readyState === 4) {\n",
       "            if (showDebug) {\n",
       "                console.log(' status from queue_reply: ' + httpR.status + ', reply: ' + httpR.responseText)\n",
       "            }\n",
       "        }\n",
       "    }\n",
       "\n",
       "    httpR.onerror = function() {\n",
       "        // Clean up after Jupyter bridge accepts backup reply\n",
       "        httpRE.onreadystatechange = function() {\n",
       "            if (httpRE.readyState === 4) {\n",
       "                if (showDebug) {\n",
       "                    console.log(' status from backup queue_reply: ' + httpRE.status + ', reply: ' + httpRE.responseText)\n",
       "                }\n",
       "            }\n",
       "        }\n",
       "\n",
       "        if (showDebug) {\n",
       "            console.log(' error from queue_reply -- could be Jupyter-Bridge server reject')\n",
       "        }\n",
       "        var errReply = {'status': HTTP_SYS_ERR, 'reason': 'Jupyter-Bridge rejected reply', 'text': 'Possibly reply is too long for Jupyter-Bridge server'}\n",
       "        httpRE.open('POST', jupyterBridgeURL, true)\n",
       "        httpRE.setRequestHeader('Content-Type', 'text/plain')\n",
       "        httpRE.send(JSON.stringify(errReply))\n",
       "    }\n",
       "\n",
       "    var reply = {'status': replyStatus, 'reason': replyStatusText, 'text': replyText}\n",
       "\n",
       "    // Send reply to Jupyter bridge\n",
       "    var jupyterBridgeURL = JupyterBridge + '/queue_reply?channel=' + Channel\n",
       "    if (showDebug) {\n",
       "        console.log('Starting queue to Jupyter bridge: ' + jupyterBridgeURL)\n",
       "    }\n",
       "    httpR.open('POST', jupyterBridgeURL, true)\n",
       "    httpR.setRequestHeader('Content-Type', 'text/plain')\n",
       "    httpR.send(JSON.stringify(reply))\n",
       "}\n",
       "\n",
       "function callCytoscape(callSpec) {\n",
       "\n",
       "    // Captures Cytoscape reply and sends it on\n",
       "    httpC.onreadystatechange = function() {\n",
       "        if (httpC.readyState === 4) {\n",
       "            if (showDebug) {\n",
       "                console.log(' status from CyREST: ' + httpC.status + ', statusText: ' + httpC.statusText + ', reply: ' + httpC.responseText)\n",
       "            }\n",
       "            // Note that httpC.status is 0 if the URL can't be reached *OR* there is a CORS violation.\n",
       "            // I wish I could tell the difference because for a CORS violation, I'd return a 404,\n",
       "            // which would roughly match what Python's native request package would return.\n",
       "            // The practical consequence is that the ultimate caller (e.g., py4cytoscape)\n",
       "            // returns different exceptions, depending on wither this module is doing the\n",
       "            // HTTP operation or the native Python requests package is. This is minor, but\n",
       "            // messes up tests that verify the exception type.\n",
       "            replyCytoscape(httpC.status, httpC.statusText, httpC.responseText)\n",
       "            waitOnJupyterBridge()\n",
       "        }\n",
       "    }\n",
       "\n",
       "//  Build up request to Cytoscape, making sure host is local.\n",
       "//    Too heavy handed: localURL = LocalCytoscape + parseURL(callSpec.url).pathname\n",
       "    var localURL = callSpec.url // Try using what was passed in ... is there a security risk??\n",
       "\n",
       "    if (showDebug) {\n",
       "        console.log('Command to CyREST: ' + callSpec.command + ' (' + localURL + ')')\n",
       "        if (callSpec.params) {\n",
       "            console.log(' params: ' + JSON.stringify(callSpec.params))\n",
       "        }\n",
       "        if (callSpec.headers) {\n",
       "            console.log(' header: ' + JSON.stringify(callSpec.headers))\n",
       "        }\n",
       "        if (callSpec.data) {\n",
       "            console.log('   data: ' + JSON.stringify(callSpec.data))\n",
       "        }\n",
       "    }\n",
       "\n",
       "    if (callSpec.command === 'webbrowser') {\n",
       "        if (window.open(callSpec.url)) {\n",
       "            replyCytoscape(HTTP_OK, 'OK', '')\n",
       "        } else {\n",
       "            replyCytoscape(HTTP_SYS_ERR, 'BAD BROWSER OPEN', '')\n",
       "        }\n",
       "        waitOnJupyterBridge()\n",
       "    } else if (callSpec.command === 'version') {\n",
       "        replyCytoscape(HTTP_OK, 'OK',\n",
       "            JSON.stringify({\"jupyterBridgeVersion\": VERSION}))\n",
       "        waitOnJupyterBridge()\n",
       "    } else {\n",
       "        var joiner = '?'\n",
       "        for (let param in callSpec.params) {\n",
       "            localURL = localURL + joiner + param + '=' + encodeURIComponent(callSpec.params[param])\n",
       "            joiner = '&'\n",
       "        }\n",
       "\n",
       "        httpC.open(callSpec.command, localURL, true)\n",
       "        for (let header in callSpec.headers) {\n",
       "            httpC.setRequestHeader(header, callSpec.headers[header])\n",
       "        }\n",
       "\n",
       "        // Send request to Cytoscape ... reply goes to onreadystatechange handler\n",
       "        httpC.send(JSON.stringify(callSpec.data))\n",
       "    }\n",
       "}\n",
       "\n",
       "function waitOnJupyterBridge() {\n",
       "\n",
       "    // Captures request from Jupyter bridge\n",
       "    httpJ.onreadystatechange = function() {\n",
       "        if (httpJ.readyState === 4) {\n",
       "            if (showDebug) {\n",
       "                console.log(' status from dequeue_request: ' + httpJ.status + ', reply: ' + httpJ.responseText)\n",
       "            }\n",
       "            try {\n",
       "                if (httpJ.status == HTTP_TOO_MANY) {\n",
       "                    // Nothing more to do ... the browser has created too many listeners,\n",
       "                    // and it's time to stop listening because the server saw a listener\n",
       "                    // listening on this channel before we got there.\n",
       "                    console.log('  shutting down because of redundant reader on channel: ' + Channel)\n",
       "                } else {\n",
       "                    if (httpJ.status === HTTP_TIMEOUT) {\n",
       "                        waitOnJupyterBridge()\n",
       "                    } else {\n",
       "                        callCytoscape(JSON.parse(httpJ.responseText))\n",
       "                    }\n",
       "                }\n",
       "            } catch(err) {\n",
       "                if (showDebug) {\n",
       "                    console.log(' exception calling Cytoscape: ' + err)\n",
       "                }\n",
       "                // Bad responseText means something bad happened that we don't understand.\n",
       "                // Go wait on another request, as there's nothing to call Cytoscape with.\n",
       "                waitOnJupyterBridge()\n",
       "            }\n",
       "        }\n",
       "    }\n",
       "\n",
       "    // Wait for request from Jupyter bridge\n",
       "    var jupyterBridgeURL = JupyterBridge + '/dequeue_request?channel=' + Channel\n",
       "    if (showDebug) {\n",
       "        console.log('Starting dequeue on Jupyter bridge: ' + jupyterBridgeURL)\n",
       "    }\n",
       "    httpJ.open('GET', jupyterBridgeURL, true)\n",
       "    httpJ.send()\n",
       "}\n",
       "\n",
       "// This kicks off a loop that ends by calling waitOnJupyterBridge again. This first call\n",
       "// ejects any dead readers before we start a read\n",
       "waitOnJupyterBridge() // Wait for message from Jupyter bridge, execute it, and return reply\n",
       "\n",
       "if (showDebug) {\n",
       "    alert(\"Jupyter-bridge browser component is started on \" + JupyterBridge + ', channel ' + Channel)\n",
       "}\n"
      ],
      "text/plain": [
       "<IPython.core.display.Javascript object>"
      ]
     },
     "execution_count": 2,
     "metadata": {},
     "output_type": "execute_result"
    }
   ],
   "source": [
    "import requests\n",
    "exec(requests.get(\"https://raw.githubusercontent.com/cytoscape/jupyter-bridge/master/client/p4c_init.py\").text)\n",
    "IPython.display.Javascript(_PY4CYTOSCAPE_BROWSER_CLIENT_JS) # Start browser client"
   ]
  },
  {
   "cell_type": "markdown",
   "metadata": {
    "id": "K1VG5aDmwk3N"
   },
   "source": [
    "# Prerequisites\n",
    "In addition to this package (py4cytoscape version 0.0.7), you will need:\n",
    "\n",
    "* Latest version of Cytoscape, which can be downloaded from https://cytoscape.org/download.html. Simply follow the installation instructions on screen.\n",
    "\n",
    "* Complete installation wizard\n",
    "\n",
    "* Launch Cytoscape \n",
    "\n",
    "For this vignette, you’ll also need the STRING app and the enhancedGraphics app:\n",
    "\n",
    "Install the STRING app from https://apps.cytoscape.org/apps/stringapp\n",
    "\n",
    "Install the enhancedGraphics app from http://apps.cytoscape.org/apps/enhancedgraphics\n",
    "\n",
    "Install the filetransfer app from https://apps.cytoscape.org/apps/filetransfer\n",
    "\n",
    "You can also install app inside Python notebook by running \"py4cytoscape.install_app('Your App')\""
   ]
  },
  {
   "cell_type": "markdown",
   "metadata": {
    "id": "Zp9jaW3Jwk3O"
   },
   "source": [
    "# Background\n",
    "The data used for this protocol represents interactions between human and HIV proteins by Jäger et al (https://www.ncbi.nlm.nih.gov/pmc/articles/PMC3310911/). In this quantitative AP-MS experiment, a relatively small number of bait proteins are used to pull down a larger set of prey proteins.\n",
    "\n",
    "Note that this tutorial does not describe how to pre-process the raw AP-MS data, the data used here is already scored and filtered."
   ]
  },
  {
   "cell_type": "markdown",
   "metadata": {
    "id": "CXcrScuDwk3P"
   },
   "source": [
    "# Import the required package"
   ]
  },
  {
   "cell_type": "code",
   "execution_count": 3,
   "metadata": {
    "id": "iHjJf-Vrwk3P"
   },
   "outputs": [],
   "source": [
    "import os\n",
    "import sys\n",
    "import pandas as pd\n",
    "import py4cytoscape as p4c\n",
    "%matplotlib inline"
   ]
  },
  {
   "cell_type": "markdown",
   "metadata": {
    "id": "KVpGgnCNwk3Q"
   },
   "source": [
    "# Setup Cytoscape"
   ]
  },
  {
   "cell_type": "code",
   "execution_count": 4,
   "metadata": {
    "colab": {
     "base_uri": "https://localhost:8080/"
    },
    "id": "rlWtHY64wk3R",
    "outputId": "a547e338-ca13-4390-e6a7-c9a860d7f82d"
   },
   "outputs": [
    {
     "data": {
      "text/plain": [
       "{'apiVersion': 'v1',\n",
       " 'cytoscapeVersion': '3.9.0',\n",
       " 'automationAPIVersion': '1.2.0',\n",
       " 'py4cytoscapeVersion': '0.0.10'}"
      ]
     },
     "execution_count": 4,
     "metadata": {},
     "output_type": "execute_result"
    }
   ],
   "source": [
    "p4c.cytoscape_version_info()"
   ]
  },
  {
   "cell_type": "markdown",
   "metadata": {
    "id": "LdhbZqqEwk3S"
   },
   "source": [
    "# Import Network and Data\n",
    "Let’s start by reading in the example data file:"
   ]
  },
  {
   "cell_type": "code",
   "execution_count": 5,
   "metadata": {
    "colab": {
     "base_uri": "https://localhost:8080/",
     "height": 206
    },
    "id": "17ZLdolvwk3T",
    "outputId": "871a0fd3-aeb3-4bb3-b063-07b38af2e650"
   },
   "outputs": [
    {
     "data": {
      "text/html": [
       "<div>\n",
       "<style scoped>\n",
       "    .dataframe tbody tr th:only-of-type {\n",
       "        vertical-align: middle;\n",
       "    }\n",
       "\n",
       "    .dataframe tbody tr th {\n",
       "        vertical-align: top;\n",
       "    }\n",
       "\n",
       "    .dataframe thead th {\n",
       "        text-align: right;\n",
       "    }\n",
       "</style>\n",
       "<table border=\"1\" class=\"dataframe\">\n",
       "  <thead>\n",
       "    <tr style=\"text-align: right;\">\n",
       "      <th></th>\n",
       "      <th>Bait</th>\n",
       "      <th>Prey</th>\n",
       "      <th>UniProt</th>\n",
       "      <th>HEKScore</th>\n",
       "      <th>JurkatScore</th>\n",
       "      <th>AP-MS Score</th>\n",
       "    </tr>\n",
       "  </thead>\n",
       "  <tbody>\n",
       "    <tr>\n",
       "      <th>0</th>\n",
       "      <td>GAG</td>\n",
       "      <td>THRAP3</td>\n",
       "      <td>Q9Y2W1</td>\n",
       "      <td>0.807</td>\n",
       "      <td>0.319</td>\n",
       "      <td>0.563</td>\n",
       "    </tr>\n",
       "    <tr>\n",
       "      <th>1</th>\n",
       "      <td>GAG</td>\n",
       "      <td>SEPSECS</td>\n",
       "      <td>Q9HD40</td>\n",
       "      <td>0.814</td>\n",
       "      <td>0.200</td>\n",
       "      <td>0.507</td>\n",
       "    </tr>\n",
       "    <tr>\n",
       "      <th>2</th>\n",
       "      <td>GAG</td>\n",
       "      <td>IVNS1ABP</td>\n",
       "      <td>Q9Y6Y0</td>\n",
       "      <td>0.753</td>\n",
       "      <td>0.260</td>\n",
       "      <td>0.506</td>\n",
       "    </tr>\n",
       "    <tr>\n",
       "      <th>3</th>\n",
       "      <td>GAG</td>\n",
       "      <td>DDX49</td>\n",
       "      <td>Q9Y6V7</td>\n",
       "      <td>0.824</td>\n",
       "      <td>0.000</td>\n",
       "      <td>0.412</td>\n",
       "    </tr>\n",
       "    <tr>\n",
       "      <th>4</th>\n",
       "      <td>GAG</td>\n",
       "      <td>PRMT1</td>\n",
       "      <td>Q99873</td>\n",
       "      <td>0.758</td>\n",
       "      <td>0.037</td>\n",
       "      <td>0.397</td>\n",
       "    </tr>\n",
       "  </tbody>\n",
       "</table>\n",
       "</div>"
      ],
      "text/plain": [
       "  Bait      Prey UniProt  HEKScore  JurkatScore  AP-MS Score\n",
       "0  GAG    THRAP3  Q9Y2W1     0.807        0.319        0.563\n",
       "1  GAG   SEPSECS  Q9HD40     0.814        0.200        0.507\n",
       "2  GAG  IVNS1ABP  Q9Y6Y0     0.753        0.260        0.506\n",
       "3  GAG     DDX49  Q9Y6V7     0.824        0.000        0.412\n",
       "4  GAG     PRMT1  Q99873     0.758        0.037        0.397"
      ]
     },
     "execution_count": 5,
     "metadata": {},
     "output_type": "execute_result"
    }
   ],
   "source": [
    "ap_ms_url = 'https://raw.githubusercontent.com/cytoscape/cytoscape-automation/master/for-scripters/R/notebooks/AP-MS/ap-ms-demodata.csv'\n",
    "ap_ms_df = pd.read_csv(ap_ms_url)\n",
    "ap_ms_df.head()"
   ]
  },
  {
   "cell_type": "markdown",
   "metadata": {
    "id": "E0abU1cKwk3T"
   },
   "source": [
    "Now we can create a data frame for the network edges (interactions) using the imported data. We will add an interaction “AP-MS” to each edge, which will be useful later, and we can also add the AP-MS score from the data as an edge attribute:"
   ]
  },
  {
   "cell_type": "code",
   "execution_count": 6,
   "metadata": {
    "colab": {
     "base_uri": "https://localhost:8080/",
     "height": 363
    },
    "id": "VyMtjRIGwk3U",
    "outputId": "fecf15c4-9f97-455a-dbe4-a7ebecb53f20"
   },
   "outputs": [
    {
     "data": {
      "text/html": [
       "<div>\n",
       "<style scoped>\n",
       "    .dataframe tbody tr th:only-of-type {\n",
       "        vertical-align: middle;\n",
       "    }\n",
       "\n",
       "    .dataframe tbody tr th {\n",
       "        vertical-align: top;\n",
       "    }\n",
       "\n",
       "    .dataframe thead th {\n",
       "        text-align: right;\n",
       "    }\n",
       "</style>\n",
       "<table border=\"1\" class=\"dataframe\">\n",
       "  <thead>\n",
       "    <tr style=\"text-align: right;\">\n",
       "      <th></th>\n",
       "      <th>source</th>\n",
       "      <th>target</th>\n",
       "      <th>interaction</th>\n",
       "      <th>AP-MS Score</th>\n",
       "    </tr>\n",
       "  </thead>\n",
       "  <tbody>\n",
       "    <tr>\n",
       "      <th>0</th>\n",
       "      <td>GAG</td>\n",
       "      <td>THRAP3</td>\n",
       "      <td>AP-MS</td>\n",
       "      <td>0.563</td>\n",
       "    </tr>\n",
       "    <tr>\n",
       "      <th>1</th>\n",
       "      <td>GAG</td>\n",
       "      <td>SEPSECS</td>\n",
       "      <td>AP-MS</td>\n",
       "      <td>0.507</td>\n",
       "    </tr>\n",
       "    <tr>\n",
       "      <th>2</th>\n",
       "      <td>GAG</td>\n",
       "      <td>IVNS1ABP</td>\n",
       "      <td>AP-MS</td>\n",
       "      <td>0.506</td>\n",
       "    </tr>\n",
       "    <tr>\n",
       "      <th>3</th>\n",
       "      <td>GAG</td>\n",
       "      <td>DDX49</td>\n",
       "      <td>AP-MS</td>\n",
       "      <td>0.412</td>\n",
       "    </tr>\n",
       "    <tr>\n",
       "      <th>4</th>\n",
       "      <td>GAG</td>\n",
       "      <td>PRMT1</td>\n",
       "      <td>AP-MS</td>\n",
       "      <td>0.397</td>\n",
       "    </tr>\n",
       "    <tr>\n",
       "      <th>5</th>\n",
       "      <td>GAG</td>\n",
       "      <td>OLA1</td>\n",
       "      <td>AP-MS</td>\n",
       "      <td>0.389</td>\n",
       "    </tr>\n",
       "    <tr>\n",
       "      <th>6</th>\n",
       "      <td>GAG</td>\n",
       "      <td>EIF2AK2</td>\n",
       "      <td>AP-MS</td>\n",
       "      <td>0.383</td>\n",
       "    </tr>\n",
       "    <tr>\n",
       "      <th>7</th>\n",
       "      <td>GAG</td>\n",
       "      <td>RBM17</td>\n",
       "      <td>AP-MS</td>\n",
       "      <td>0.382</td>\n",
       "    </tr>\n",
       "    <tr>\n",
       "      <th>8</th>\n",
       "      <td>MA</td>\n",
       "      <td>EPRS</td>\n",
       "      <td>AP-MS</td>\n",
       "      <td>0.874</td>\n",
       "    </tr>\n",
       "    <tr>\n",
       "      <th>9</th>\n",
       "      <td>MA</td>\n",
       "      <td>OLA1</td>\n",
       "      <td>AP-MS</td>\n",
       "      <td>0.865</td>\n",
       "    </tr>\n",
       "  </tbody>\n",
       "</table>\n",
       "</div>"
      ],
      "text/plain": [
       "  source    target interaction  AP-MS Score\n",
       "0    GAG    THRAP3       AP-MS        0.563\n",
       "1    GAG   SEPSECS       AP-MS        0.507\n",
       "2    GAG  IVNS1ABP       AP-MS        0.506\n",
       "3    GAG     DDX49       AP-MS        0.412\n",
       "4    GAG     PRMT1       AP-MS        0.397\n",
       "5    GAG      OLA1       AP-MS        0.389\n",
       "6    GAG   EIF2AK2       AP-MS        0.383\n",
       "7    GAG     RBM17       AP-MS        0.382\n",
       "8     MA      EPRS       AP-MS        0.874\n",
       "9     MA      OLA1       AP-MS        0.865"
      ]
     },
     "execution_count": 6,
     "metadata": {},
     "output_type": "execute_result"
    }
   ],
   "source": [
    "edge_data = {'source':ap_ms_df[\"Bait\"],\n",
    "             'target':ap_ms_df[\"Prey\"],\n",
    "             'interaction': \"AP-MS\",\n",
    "             'AP-MS Score':ap_ms_df[\"AP-MS Score\"]\n",
    "            }\n",
    "edges = pd.DataFrame(data=edge_data, columns=['source', 'target', 'interaction','AP-MS Score'])\n",
    "edges.head(10)"
   ]
  },
  {
   "cell_type": "markdown",
   "metadata": {
    "id": "czDdTcyQwk3U"
   },
   "source": [
    "Finally, we use the edge data fram to create the network. Note that we don’t need to define a data frame for nodes, as all nodes in this case are represented in the edge data frame."
   ]
  },
  {
   "cell_type": "code",
   "execution_count": 7,
   "metadata": {
    "colab": {
     "base_uri": "https://localhost:8080/"
    },
    "id": "_q4hEfNZwk3V",
    "outputId": "91d3fc12-6d93-4b7f-f012-6a9c8d27f692"
   },
   "outputs": [
    {
     "name": "stdout",
     "output_type": "stream",
     "text": [
      "Applying default style...\n",
      "Applying preferred layout\n"
     ]
    },
    {
     "data": {
      "text/plain": [
       "{'networkSUID': 29553}"
      ]
     },
     "execution_count": 7,
     "metadata": {},
     "output_type": "execute_result"
    }
   ],
   "source": [
    "p4c.networks.create_network_from_data_frames(None, edges, title='apms network', collection = \"apms collection\")"
   ]
  },
  {
   "cell_type": "markdown",
   "metadata": {
    "id": "gG2b4wwTwk3W"
   },
   "source": [
    "# Loading Data\n",
    "There are three other columns of data and annotations for the “Prey” proteins that we want to load into this network.\n",
    "\n",
    "In this data, the Prey nodes are repeated for each interactions with a Bait node, so the data contains different values for the same attribute (for example HEKScore), for each Prey node. During import, the last value imported will overwrite prior values and visualizations using this attribute thus only shows the last value."
   ]
  },
  {
   "cell_type": "code",
   "execution_count": 8,
   "metadata": {
    "colab": {
     "base_uri": "https://localhost:8080/",
     "height": 35
    },
    "id": "AZP7fMrFwk3W",
    "outputId": "d75a934b-c14c-4457-a7a4-50bda51607d6"
   },
   "outputs": [
    {
     "data": {
      "text/plain": [
       "'Success: Data loaded in defaultnode table'"
      ]
     },
     "execution_count": 8,
     "metadata": {},
     "output_type": "execute_result"
    }
   ],
   "source": [
    "p4c.tables.load_table_data(ap_ms_df.iloc[:, 1:5], data_key_column=\"Prey\")"
   ]
  },
  {
   "cell_type": "markdown",
   "metadata": {
    "id": "vQKsSajYwk3W"
   },
   "source": [
    "# Augmenting Network with Existing Protein-protein Interaction Data\n",
    "We are going to use existing protein-protein interaction data to enrich the network, using the STRING database with the human protein nodes as input.\n",
    "\n",
    "Let’s collect all the UniProt identifiers from the data, and create a text string that we can use to query STRING:"
   ]
  },
  {
   "cell_type": "code",
   "execution_count": 9,
   "metadata": {
    "id": "B_RyEoXqwk3W"
   },
   "outputs": [],
   "source": [
    "uniport_str = ','.join(ap_ms_df[\"UniProt\"])"
   ]
  },
  {
   "cell_type": "code",
   "execution_count": 10,
   "metadata": {
    "id": "UcmoAVHwwk3X"
   },
   "outputs": [],
   "source": [
    "string_cmd_list = ['string protein query','query=\"',uniport_str,'\"', 'species=\"Homo sapiens\"', 'limit=0', 'cutoff=0.999']"
   ]
  },
  {
   "cell_type": "code",
   "execution_count": 11,
   "metadata": {
    "id": "UfGT8mZhwk3X"
   },
   "outputs": [],
   "source": [
    "string_cmd = \" \".join(string_cmd_list)"
   ]
  },
  {
   "cell_type": "code",
   "execution_count": 12,
   "metadata": {
    "colab": {
     "base_uri": "https://localhost:8080/"
    },
    "id": "Ou4v6T6ywk3X",
    "outputId": "8eb5ffec-26d7-4f95-8cd0-97e753dde280"
   },
   "outputs": [
    {
     "data": {
      "text/plain": [
       "[\"Loaded network 'STRING network' with 434 nodes and 326 edges\"]"
      ]
     },
     "execution_count": 12,
     "metadata": {},
     "output_type": "execute_result"
    }
   ],
   "source": [
    "p4c.commands.commands_run(string_cmd)"
   ]
  },
  {
   "cell_type": "markdown",
   "metadata": {
    "id": "c9KQeI1Xwk3X"
   },
   "source": [
    "The resulting network contains known interactions between the human proteins, with an evidence score of 0.999 or greater."
   ]
  },
  {
   "cell_type": "markdown",
   "metadata": {
    "id": "hSSURx7Fwk3X"
   },
   "source": [
    "# Merge Networks\n",
    "To incorprate the new information into our AP-MS network, we need merge the STRING and AP-MS networks. We can use the Uniprot IDs available in both networks as the matching attribute, “Uniprot” in the AP-MS network, and “query term in the String network. We will also specify how to merge the attribute containing the node name (symbol), which is contained in the”name\" attribute for the AP-MS network and the “display name” for the String network."
   ]
  },
  {
   "cell_type": "code",
   "execution_count": 13,
   "metadata": {
    "colab": {
     "base_uri": "https://localhost:8080/"
    },
    "id": "JhLmgEOXwk3Y",
    "outputId": "5e504b9a-4528-4a4c-83a7-1574ce6aa689"
   },
   "outputs": [
    {
     "data": {
      "text/plain": [
       "38581"
      ]
     },
     "execution_count": 13,
     "metadata": {},
     "output_type": "execute_result"
    }
   ],
   "source": [
    "p4c.tools.merge_networks([\"apms network, STRING network\"], operation='union', node_keys=[\"Uniprot,query term\"], node_merge_map=[[\"name\",\"display name\",\"display name\", \"string\"]])"
   ]
  },
  {
   "cell_type": "markdown",
   "metadata": {
    "id": "xPHsHD8Lwk3Z"
   },
   "source": [
    "# Network Visualization\n",
    "When the merged network first loads, it will have the STRING style applied. However, because the HIV nodes are not from STRING, they will be grey. The layout also makes the network hard to interpret. Let’s change the style of the network a bit.\n",
    "\n",
    "First, let’s set our AP-MS network as the current network:"
   ]
  },
  {
   "cell_type": "code",
   "execution_count": 32,
   "metadata": {},
   "outputs": [
    {
     "data": {
      "text/plain": [
       "['apms network', 'union: apms network, STRING network', 'STRING network']"
      ]
     },
     "execution_count": 32,
     "metadata": {},
     "output_type": "execute_result"
    }
   ],
   "source": [
    "p4c.get_network_list()"
   ]
  },
  {
   "cell_type": "code",
   "execution_count": 16,
   "metadata": {
    "colab": {
     "base_uri": "https://localhost:8080/",
     "height": 329
    },
    "id": "qD1bepOYwk3Z",
    "outputId": "21019b34-4bdd-4875-8bf0-41551e06b008"
   },
   "outputs": [
    {
     "data": {
      "text/plain": [
       "{}"
      ]
     },
     "execution_count": 16,
     "metadata": {},
     "output_type": "execute_result"
    }
   ],
   "source": [
    "p4c.networks.set_current_network('union: apms network, STRING network')\n",
    "p4c.network_views.set_current_view()"
   ]
  },
  {
   "cell_type": "markdown",
   "metadata": {
    "id": "6ypI-A-jwk3Z"
   },
   "source": [
    "Next, we can define our style and apply it to the network:"
   ]
  },
  {
   "cell_type": "code",
   "execution_count": 17,
   "metadata": {
    "colab": {
     "base_uri": "https://localhost:8080/"
    },
    "id": "XSuxJR5Gwk3Z",
    "outputId": "b9e0f361-c38a-4443-cf21-e3276508a361"
   },
   "outputs": [
    {
     "name": "stdout",
     "output_type": "stream",
     "text": [
      "style_name not specified, so updating \"default\" style.\n"
     ]
    },
    {
     "data": {
      "text/plain": [
       "{'message': 'Visual Style applied.'}"
      ]
     },
     "execution_count": 17,
     "metadata": {},
     "output_type": "execute_result"
    }
   ],
   "source": [
    "style_name = \"AP-MS\"\n",
    "p4c.styles.create_visual_style(style_name)\n",
    "p4c.style_dependencies.lock_node_dimensions(True)\n",
    "p4c.style_defaults.set_node_size_default(50, style_name=style_name)\n",
    "p4c.style_defaults.set_node_color_default(\"#CCCCFF\", style_name=style_name)\n",
    "p4c.style_mappings.set_node_label_mapping('display name', style_name=style_name)\n",
    "p4c.styles.set_visual_style(style_name=style_name)"
   ]
  },
  {
   "cell_type": "code",
   "execution_count": 18,
   "metadata": {
    "colab": {
     "base_uri": "https://localhost:8080/"
    },
    "id": "bRTwfV5Jwk3a",
    "outputId": "5128c1b1-1b2d-4010-dd85-c512ed99f2be"
   },
   "outputs": [
    {
     "data": {
      "text/plain": [
       "{}"
      ]
     },
     "execution_count": 18,
     "metadata": {},
     "output_type": "execute_result"
    }
   ],
   "source": [
    "p4c.layouts.layout_network(layout_name='force-directed defaultSpringCoefficient=0.00001 defaultSpringLength=50 defaultNodeMass=4')"
   ]
  },
  {
   "cell_type": "markdown",
   "metadata": {
    "id": "GTznP0Ymwk3a"
   },
   "source": [
    "# STRING Enrichment\n",
    "Now that we have a merged network, we can do enrichment analysis on it, using the STRING enrichment tool.\n",
    "\n",
    "The STRING app has built-in enrichment analysis functionality, which includes enrichment for GO Process, GO Component, GO Function, InterPro, KEGG Pathways, and PFAM."
   ]
  },
  {
   "cell_type": "code",
   "execution_count": 19,
   "metadata": {
    "colab": {
     "base_uri": "https://localhost:8080/"
    },
    "id": "jB82nF5iwk3a",
    "outputId": "4a694ccf-5737-41e2-fcb8-09f4942ff372"
   },
   "outputs": [
    {
     "data": {
      "text/plain": [
       "[\"Set network 'union: apms network, STRING network as STRING network\"]"
      ]
     },
     "execution_count": 19,
     "metadata": {},
     "output_type": "execute_result"
    }
   ],
   "source": [
    "p4c.commands.commands_run('string make string network=\"current\"')"
   ]
  },
  {
   "cell_type": "code",
   "execution_count": 20,
   "metadata": {
    "colab": {
     "base_uri": "https://localhost:8080/"
    },
    "id": "1SZQmpNCwk3a",
    "outputId": "433f5b4f-ff0e-4880-a132-57356fac2752"
   },
   "outputs": [
    {
     "data": {
      "text/plain": [
       "['\"EnrichmentTable\": 45309']"
      ]
     },
     "execution_count": 20,
     "metadata": {},
     "output_type": "execute_result"
    }
   ],
   "source": [
    "string_cmd_list = ['string retrieve enrichment','allNetSpecies=\"Homo sapiens\"', 'background=\"genome\"','selectedNodesOnly=\"false\"']\n",
    "string_cmd = \" \".join(string_cmd_list)\n",
    "p4c.commands.commands_run(string_cmd)"
   ]
  },
  {
   "cell_type": "markdown",
   "metadata": {
    "id": "XDWRogElwk3b"
   },
   "source": [
    "The STRING app includes several options for filtering and displaying the enrichment results. We will filter the results to only show GO Process."
   ]
  },
  {
   "cell_type": "code",
   "execution_count": 21,
   "metadata": {
    "colab": {
     "base_uri": "https://localhost:8080/"
    },
    "id": "sW6c3I2Fwk3b",
    "outputId": "b16f98ab-e697-4b07-c53f-b4e611fb0eea"
   },
   "outputs": [
    {
     "data": {
      "text/plain": [
       "['']"
      ]
     },
     "execution_count": 21,
     "metadata": {},
     "output_type": "execute_result"
    }
   ],
   "source": [
    "p4c.commands.commands_run('string filter enrichment categories=\"GO Process\" removeOverlapping=\"true\"')"
   ]
  },
  {
   "cell_type": "markdown",
   "metadata": {
    "id": "hK6fc52Pwk3b"
   },
   "source": [
    "Next, we will add a split donut chart."
   ]
  },
  {
   "cell_type": "code",
   "execution_count": 22,
   "metadata": {
    "colab": {
     "base_uri": "https://localhost:8080/"
    },
    "id": "sx2RSiJ_wk3b",
    "outputId": "7555aab1-5d56-4065-bbc9-61beae6842bc"
   },
   "outputs": [
    {
     "data": {
      "text/plain": [
       "[]"
      ]
     },
     "execution_count": 22,
     "metadata": {},
     "output_type": "execute_result"
    }
   ],
   "source": [
    "p4c.commands.commands_run('string show charts')"
   ]
  },
  {
   "cell_type": "markdown",
   "metadata": {
    "id": "JMc_nUFQwk3b"
   },
   "source": [
    "# Visualizing Results - Jurkat Score\n",
    "We can create a visualization based on the Jurkat Score, and the different interaction types (AP-MS and STRING):"
   ]
  },
  {
   "cell_type": "code",
   "execution_count": 23,
   "metadata": {
    "colab": {
     "base_uri": "https://localhost:8080/",
     "height": 35
    },
    "id": "W1VbVkcuwk3c",
    "outputId": "89c8e815-7eaf-44cb-a0f4-7e9deddb390a"
   },
   "outputs": [
    {
     "data": {
      "text/plain": [
       "''"
      ]
     },
     "execution_count": 23,
     "metadata": {},
     "output_type": "execute_result"
    }
   ],
   "source": [
    "style_name = \"AP-MS Jurkat Score\"\n",
    "p4c.styles.create_visual_style(style_name)\n",
    "p4c.styles.set_visual_style(style_name=style_name)\n",
    "p4c.style_defaults.set_node_color_default(\"#FFCC00\", style_name=style_name)\n",
    "p4c.style_mappings.set_node_label_mapping('display name', style_name=style_name)\n",
    "p4c.style_mappings.set_edge_color_mapping(\"interaction\", [\"AP-MS\"], [\"#55AA55\"], \"d\", style_name=style_name)\n",
    "p4c.style_mappings.set_edge_line_width_mapping('AP-MS Score', table_column_values=[0, 1], widths=[1,5], mapping_type=\"c\", style_name=style_name)"
   ]
  },
  {
   "cell_type": "markdown",
   "metadata": {
    "id": "6TtMFLf0wk3c"
   },
   "source": [
    "Next, we apply the mapping to the network:"
   ]
  },
  {
   "cell_type": "code",
   "execution_count": 24,
   "metadata": {
    "colab": {
     "base_uri": "https://localhost:8080/",
     "height": 35
    },
    "id": "KpYaigzmwk3c",
    "outputId": "0d54b33a-bec2-43b5-9e28-f2d8eb53df32"
   },
   "outputs": [
    {
     "data": {
      "text/plain": [
       "''"
      ]
     },
     "execution_count": 24,
     "metadata": {},
     "output_type": "execute_result"
    }
   ],
   "source": [
    "data_values = [0, 0.5, 1]\n",
    "node_colors = [\"#756BB1\", \"#BCBDDC\", \"#EFEDF5\"]\n",
    "p4c.style_mappings.set_node_color_mapping('JurkatScore', data_values, node_colors, style_name=style_name)"
   ]
  },
  {
   "cell_type": "markdown",
   "metadata": {
    "id": "NsJxZ114wk3c"
   },
   "source": [
    "We now have a visualization of the network highlighting the ap-ms experimental data (green edges), as well as additional known interactions (grey edges), with node color indicating the Jurkat Score from the data."
   ]
  },
  {
   "cell_type": "markdown",
   "metadata": {
    "id": "jg2nhF1cwk3c"
   },
   "source": [
    "# Visualizing Results - Combined\n",
    "We could create a similar kind of style for the HEK score, but that only allows for viewing each style seperately. Instead, we can create a combined style, using the enhancedGraphics app.\n",
    "\n",
    "For this, we will need a new column defining a new attribute that will be used for mapping to the Custom Graphics property via the enhancedGraphics app. This new attribute has to be in the form of mappings recognized by the enhancedGraphics app.\n",
    "\n",
    "We can copy the previous style to retain some of the mappings we want to keep:"
   ]
  },
  {
   "cell_type": "code",
   "execution_count": 25,
   "metadata": {
    "colab": {
     "base_uri": "https://localhost:8080/"
    },
    "id": "OgfR8yb3wk3c",
    "outputId": "94c27da6-958e-417c-b03a-2da36ddd6a77"
   },
   "outputs": [
    {
     "data": {
      "text/plain": [
       "{'message': 'Visual Style applied.'}"
      ]
     },
     "execution_count": 25,
     "metadata": {},
     "output_type": "execute_result"
    }
   ],
   "source": [
    "p4c.styles.copy_visual_style(\"AP-MS Jurkat Score\", \"AP-MS CombinedScore\")\n",
    "p4c.styles.set_visual_style(style_name=\"AP-MS CombinedScore\")"
   ]
  },
  {
   "cell_type": "code",
   "execution_count": 26,
   "metadata": {
    "id": "O4oM9CMuwk3c"
   },
   "outputs": [],
   "source": [
    "all_nodes = p4c.networks.get_all_nodes()"
   ]
  },
  {
   "cell_type": "markdown",
   "metadata": {
    "id": "9VlGzYWpwk3d"
   },
   "source": [
    "To begin adding the new column, we first define a data frame with the new attribute formatted for enhancedGraphics:"
   ]
  },
  {
   "cell_type": "code",
   "execution_count": 27,
   "metadata": {
    "id": "S1V8IPlcwk3d"
   },
   "outputs": [],
   "source": [
    "combined_df = pd.DataFrame(all_nodes, columns=['name'])\n",
    "combined_df[\"CombinedScore\"] = 'piechart: showlabels=false range=\"0,1\" arcstart=90 valuelist=\".5,.5\" colorlist=\"up:blue,zero:white,down:white;up:purple,zero:white,down:white\" attributelist=\"HEKScore,JurkatScore\"'"
   ]
  },
  {
   "cell_type": "markdown",
   "metadata": {
    "id": "XsVsDssNwk3d"
   },
   "source": [
    "Next, we load this dataframe into the Node Table to create and fill a new column:"
   ]
  },
  {
   "cell_type": "code",
   "execution_count": 28,
   "metadata": {
    "colab": {
     "base_uri": "https://localhost:8080/",
     "height": 35
    },
    "id": "8cbDh0-vwk3d",
    "outputId": "848cf0d9-4d2e-44a6-fe78-c44334dd7f88"
   },
   "outputs": [
    {
     "data": {
      "text/plain": [
       "'Success: Data loaded in defaultnode table'"
      ]
     },
     "execution_count": 28,
     "metadata": {},
     "output_type": "execute_result"
    }
   ],
   "source": [
    "p4c.tables.load_table_data(combined_df, data_key_column=\"name\", table_key_column='name',)"
   ]
  },
  {
   "cell_type": "markdown",
   "metadata": {
    "id": "6AllYgg-wk3d"
   },
   "source": [
    "We now have a new column, CombinedScore, that we can use for the mapping. This mapping does not come with a custom helper function, se we are going to use two alternative functions to prepare the passthrough mapping property and then update our visual style with the new mapping:"
   ]
  },
  {
   "cell_type": "code",
   "execution_count": 29,
   "metadata": {
    "colab": {
     "base_uri": "https://localhost:8080/",
     "height": 35
    },
    "id": "RaNS_B_cwk3d",
    "outputId": "fe90aab7-eaa1-45b9-b7a8-52443b9821b4"
   },
   "outputs": [
    {
     "data": {
      "text/plain": [
       "''"
      ]
     },
     "execution_count": 29,
     "metadata": {},
     "output_type": "execute_result"
    }
   ],
   "source": [
    "piechart_map = p4c.style_mappings.map_visual_property('node customgraphics 4','CombinedScore','p')\n",
    "p4c.style_mappings.update_style_mapping('AP-MS CombinedScore', piechart_map)"
   ]
  },
  {
   "cell_type": "markdown",
   "metadata": {
    "id": "zOXxGOwZwk3d"
   },
   "source": [
    "Remember that when we imported multiple values for a single node attribute, such as the scores for human nodes interacting with more than one HIV nodes, the last value imported will overwrite prior values and the visualization thus only shows the last value. For EIF3A, which interacts with both PR and POL, only the data relevant to the PR interaction is maintained in the Node Table because our source data was sorted alphabetically by Bait."
   ]
  },
  {
   "cell_type": "markdown",
   "metadata": {
    "id": "Z6Kd81fEwk3e"
   },
   "source": [
    "# Saving, sharing and publishing"
   ]
  },
  {
   "cell_type": "markdown",
   "metadata": {
    "id": "7b2KxIsZwk3e"
   },
   "source": [
    "Session files save everything. As with most project software, we recommend saving often!"
   ]
  },
  {
   "cell_type": "code",
   "execution_count": 30,
   "metadata": {
    "colab": {
     "base_uri": "https://localhost:8080/"
    },
    "id": "9vuap32Pwk3e",
    "outputId": "6f283553-85d2-41c0-eae5-379f38cdc834"
   },
   "outputs": [
    {
     "data": {
      "text/plain": [
       "{}"
      ]
     },
     "execution_count": 30,
     "metadata": {},
     "output_type": "execute_result"
    }
   ],
   "source": [
    "p4c.session.save_session('AP-MS_session')"
   ]
  },
  {
   "cell_type": "markdown",
   "metadata": {
    "id": "9a1nPisbwk3e"
   },
   "source": [
    "# Saving high resolution image files"
   ]
  },
  {
   "cell_type": "markdown",
   "metadata": {
    "id": "VX9XVgIrwk3f"
   },
   "source": [
    "You can export extremely high resolution images, including vector graphic formats."
   ]
  },
  {
   "cell_type": "code",
   "execution_count": 31,
   "metadata": {
    "colab": {
     "base_uri": "https://localhost:8080/"
    },
    "id": "-Vgwq5_8wk3f",
    "outputId": "48e65734-8015-4d8b-ca16-04eb2bd32cf7"
   },
   "outputs": [
    {
     "data": {
      "text/plain": [
       "{'file': '/Users/yxin/CytoscapeConfiguration/filetransfer/default_sandbox/AP-MS_image.pdf'}"
      ]
     },
     "execution_count": 31,
     "metadata": {},
     "output_type": "execute_result"
    }
   ],
   "source": [
    "p4c.network_views.export_image('AP-MS_image', type = 'PDF')"
   ]
  }
 ],
 "metadata": {
  "colab": {
   "include_colab_link": true,
   "name": "affinity-purification-mass-spectrometry.ipynb",
   "provenance": []
  },
  "kernelspec": {
   "display_name": "Python 3",
   "language": "python",
   "name": "python3"
  },
  "language_info": {
   "codemirror_mode": {
    "name": "ipython",
    "version": 3
   },
   "file_extension": ".py",
   "mimetype": "text/x-python",
   "name": "python",
   "nbconvert_exporter": "python",
   "pygments_lexer": "ipython3",
   "version": "3.8.5"
  }
 },
 "nbformat": 4,
 "nbformat_minor": 1
}
