{
 "cells": [
  {
   "cell_type": "markdown",
   "metadata": {
    "colab_type": "text",
    "id": "view-in-github"
   },
   "source": [
    "<a href=\"https://colab.research.google.com/github/cytoscape/cytoscape-automation/blob/master/for-scripters/Python/identifier-mapping.ipynb\" target=\"_parent\"><img src=\"https://colab.research.google.com/assets/colab-badge.svg\" alt=\"Open In Colab\"/></a>"
   ]
  },
  {
   "cell_type": "markdown",
   "metadata": {
    "id": "_cSYuwZezc48"
   },
   "source": [
    "# Identifier mapping\n"
   ]
  },
  {
   "cell_type": "markdown",
   "metadata": {
    "id": "15dERsg1zc4-"
   },
   "source": [
    "## Yihang Xin and Alex Pico"
   ]
  },
  {
   "cell_type": "markdown",
   "metadata": {
    "id": "zB-JDsvczc4-"
   },
   "source": [
    "## 2025-01-13"
   ]
  },
  {
   "cell_type": "markdown",
   "metadata": {
    "id": "fcc9Qe3lzc4_"
   },
   "source": [
    "This notebook will show you how to map or translate identifiers from one database (e.g., Ensembl) to another (e.g, Entrez Gene). This is a common requirement for data analysis. In the context of Cytoscape, for example, identifier mapping is needed when you want to import data to overlay on a network but you don’t have matching keys. There are three distinct examples below, highlighting different lessons that may apply to your use cases\n",
    "\n"
   ]
  },
  {
   "cell_type": "markdown",
   "metadata": {
    "id": "SyT2XbbLzc4_"
   },
   "source": [
    "# Installation\n",
    "The following chunk of code installs the `py4cytoscape` module."
   ]
  },
  {
   "cell_type": "code",
   "execution_count": 1,
   "metadata": {
    "id": "BRXwxdC2zc5A"
   },
   "outputs": [],
   "source": [
    "%%capture\n",
    "!python3 -m pip install python-igraph requests pandas networkx\n",
    "!python3 -m pip install py4cytoscape"
   ]
  },
  {
   "cell_type": "markdown",
   "metadata": {
    "id": "8LZh6qvOzeta"
   },
   "source": [
    "If you are using a remote notebook environment such as Google Colab, please execute the cell below. (If you're running on your local notebook, you don't need to do that.)\n",
    "\n"
   ]
  },
  {
   "cell_type": "code",
   "execution_count": 2,
   "metadata": {
    "id": "dpNJNlZtzfyE"
   },
   "outputs": [
    {
     "name": "stdout",
     "output_type": "stream",
     "text": [
      "Requirement already satisfied: py4cytoscape in /opt/anaconda3/lib/python3.8/site-packages (0.0.10)\n",
      "Requirement already satisfied: python-igraph in /opt/anaconda3/lib/python3.8/site-packages (from py4cytoscape) (0.8.3)\n",
      "Requirement already satisfied: requests in /opt/anaconda3/lib/python3.8/site-packages (from py4cytoscape) (2.24.0)\n",
      "Requirement already satisfied: colorbrewer in /opt/anaconda3/lib/python3.8/site-packages (from py4cytoscape) (0.2.0)\n",
      "Requirement already satisfied: pandas in /opt/anaconda3/lib/python3.8/site-packages (from py4cytoscape) (1.1.3)\n",
      "Requirement already satisfied: networkx in /opt/anaconda3/lib/python3.8/site-packages (from py4cytoscape) (2.5)\n",
      "Requirement already satisfied: six in /opt/anaconda3/lib/python3.8/site-packages (from colorbrewer->py4cytoscape) (1.15.0)\n",
      "Requirement already satisfied: decorator>=4.3.0 in /opt/anaconda3/lib/python3.8/site-packages (from networkx->py4cytoscape) (4.4.2)\n",
      "Requirement already satisfied: python-dateutil>=2.7.3 in /opt/anaconda3/lib/python3.8/site-packages (from pandas->py4cytoscape) (2.8.1)\n",
      "Requirement already satisfied: numpy>=1.15.4 in /opt/anaconda3/lib/python3.8/site-packages (from pandas->py4cytoscape) (1.19.2)\n",
      "Requirement already satisfied: pytz>=2017.2 in /opt/anaconda3/lib/python3.8/site-packages (from pandas->py4cytoscape) (2020.1)\n",
      "Requirement already satisfied: texttable>=1.6.2 in /opt/anaconda3/lib/python3.8/site-packages (from python-igraph->py4cytoscape) (1.6.3)\n",
      "Requirement already satisfied: urllib3!=1.25.0,!=1.25.1,<1.26,>=1.21.1 in /opt/anaconda3/lib/python3.8/site-packages (from requests->py4cytoscape) (1.25.11)\n",
      "Requirement already satisfied: chardet<4,>=3.0.2 in /opt/anaconda3/lib/python3.8/site-packages (from requests->py4cytoscape) (3.0.4)\n",
      "Requirement already satisfied: idna<3,>=2.5 in /opt/anaconda3/lib/python3.8/site-packages (from requests->py4cytoscape) (2.10)\n",
      "Requirement already satisfied: certifi>=2017.4.17 in /opt/anaconda3/lib/python3.8/site-packages (from requests->py4cytoscape) (2020.6.20)\n"
     ]
    },
    {
     "name": "stderr",
     "output_type": "stream",
     "text": [
      "WARNING: You are using pip version 21.0; however, version 21.3.1 is available.\n",
      "You should consider upgrading via the '/opt/anaconda3/bin/python -m pip install --upgrade pip' command.\n"
     ]
    },
    {
     "name": "stdout",
     "output_type": "stream",
     "text": [
      "Loading Javascript client ... ff6b6ff4-8b17-4c23-9c3f-5cba03e76c7a on https://jupyter-bridge.cytoscape.org\n"
     ]
    },
    {
     "data": {
      "application/javascript": [
       "var Channel = \"ff6b6ff4-8b17-4c23-9c3f-5cba03e76c7a\"; \n",
       "\n",
       "var JupyterBridge = \"https://jupyter-bridge.cytoscape.org\"; \n",
       "\n",
       "  /*\n",
       "    These functions serve as a connector between a remote Jupyter server and Cytoscape.\n",
       "    They run in the user's browser, which also shows the Jupyter Notebook.\n",
       "\n",
       "    A remote Jupyter Notebook call to the py4cytoscape package is forwarded to the Jupyter Bridge,\n",
       "    which is a standalone server. The functions in this connector execute in the Jupyter Notebook\n",
       "    browser, which executes on the same PC as Cytoscape. So, that's 4 components: (A) remote\n",
       "    Jupyter Notebook, (B) separate Jupyter Bridge server, (C) this browser-based component, and\n",
       "    (D) Cytoscape. (A) is on a remote server, (B) is on a different remote server, and (C) and (D)\n",
       "    are on the user's PC.\n",
       "\n",
       "    (A) calls its py4cytoscape module, which forwards the request (in a JSON wrapper) to (B).\n",
       "    (C) picks up the request from (B), unpacks the request and forwards it to (D). (C) awaits a\n",
       "    reply from (D), and when it gets it, it forwards the reply (in a JSON wrapper) to (B).\n",
       "    (A)'s py4cytoscape module picks up the reply on (B) when it becomes available, unpacks it,\n",
       "    and returns it to (A).\n",
       "\n",
       "    A Jupyter Notebook can talk to only one Cytoscape (i.e., the one on the machine running the\n",
       "    Jupyter Notebook browser), and Cytoscape should be called by only one Jupyter Notebook. The\n",
       "    Jupyter Bridge differentiates between Notebook-Cytoscape conversations via a channel UUID.\n",
       "    The UUID is prepended to this browser component by py4Cytoscape, and the component is\n",
       "    started by the Jupyter Notebook. (I wish py4Cytoscape could start the component, too, but I\n",
       "    haven't figured out how to do that yet, so startup code *is* required in the Jupyter\n",
       "    Notebook.)\n",
       "\n",
       "    Note that for the case of a Jupyter server running on the same machine as Cytoscape, this\n",
       "    bridge isn't necessary because the Jupyter server's HTTP calls can easily connect to\n",
       "    Cytoscape over a localhost socket. So, the combination of Jupyter Bridge and this browser\n",
       "    component solves the problem of a Jupyter server (e.g., Google's Colab) that can't\n",
       "    connect to Cytoscape that sits behind a firewall.\n",
       "\n",
       "    The request represents an HTTP call that py4cytoscape would normally make via HTTP directly\n",
       "    to Cytoscape via localhost when both py4cytoscape and Cytoscape are running on the same machine.\n",
       " */\n",
       "\n",
       "const VERSION = '0.0.2'\n",
       "\n",
       "var showDebug; // Flag indicating whether to show Jupyter-bridge progress\n",
       "if (typeof showDebug === 'undefined') {\n",
       "    showDebug = false\n",
       "}\n",
       "if (showDebug) {\n",
       "    alert(\"Starting Jupyter-bridge browser component\")\n",
       "}\n",
       "\n",
       "//const JupyterBridge = 'http://127.0.0.1:5000' // for testing against local Jupyter-bridge\n",
       "var JupyterBridge; // URL of Jupyter-bridge server could be defined by assignment pre-pended to this file\n",
       "if (typeof JupyterBridge === 'undefined') {\n",
       "    JupyterBridge = 'https://jupyter-bridge.cytoscape.org' // for production\n",
       "}\n",
       "var Channel; // Unique constant that could be defined by assignment pre-pended to this file\n",
       "if (typeof Channel === 'undefined') { // ... but if not assigned, use a debugging value\n",
       "    Channel = 1\n",
       "}\n",
       "\n",
       "\n",
       "var httpR = new XMLHttpRequest(); // for sending reply to Jupyter-bridge\n",
       "var httpRE = new XMLHttpRequest(); // for sending backup error reply to Jupyter-bridge\n",
       "var httpC = new XMLHttpRequest(); // for sending command to Cytoscape\n",
       "var httpJ = new XMLHttpRequest(); // for fetching request from Jupyter-bridge\n",
       "\n",
       "const HTTP_OK = 200\n",
       "const HTTP_SYS_ERR = 500\n",
       "const HTTP_TIMEOUT = 408\n",
       "const HTTP_TOO_MANY = 429\n",
       "\n",
       "\n",
       " /* This function is useful if we want to rewrite the incoming URL to resolve just to our local one.\n",
       "    Doing this stops the Jupyter component from abusing this client to call out to endpoints other\n",
       "    than local Cytoscape. On the other hand, it makes it hard to detect when the Jupyter component\n",
       "    has specified a genuinely bad URL and really should get an error result. For now, we'll execute\n",
       "    the Jupyter-supplied URL and return the result, whatever it may be.\n",
       "\n",
       "const LocalCytoscape = 'http://127.0.0.1:1234'\n",
       "\n",
       "function parseURL(url) {\n",
       "    var reURLInformation = new RegExp([\n",
       "        '^(https?:)//', // protocol\n",
       "        '(([^:/?#]*)(?::([0-9]+))?)', // host (hostname and port)\n",
       "        '(/{0,1}[^?#]*)', // pathname\n",
       "        '(\\\\?[^#]*|)', // search\n",
       "        '(#.*|)$' // hash\n",
       "    ].join(''));\n",
       "    var match = url.match(reURLInformation);\n",
       "    return match && {\n",
       "        url: url,\n",
       "        protocol: match[1],\n",
       "        host: match[2],\n",
       "        hostname: match[3],\n",
       "        port: match[4],\n",
       "        pathname: match[5],\n",
       "        search: match[6],\n",
       "        hash: match[7]\n",
       "    }\n",
       "}\n",
       "*/\n",
       "\n",
       "function replyCytoscape(replyStatus, replyStatusText, replyText) {\n",
       "\n",
       "    // Clean up after Jupyter bridge accepts reply\n",
       "    httpR.onreadystatechange = function() {\n",
       "        if (httpR.readyState === 4) {\n",
       "            if (showDebug) {\n",
       "                console.log(' status from queue_reply: ' + httpR.status + ', reply: ' + httpR.responseText)\n",
       "            }\n",
       "        }\n",
       "    }\n",
       "\n",
       "    httpR.onerror = function() {\n",
       "        // Clean up after Jupyter bridge accepts backup reply\n",
       "        httpRE.onreadystatechange = function() {\n",
       "            if (httpRE.readyState === 4) {\n",
       "                if (showDebug) {\n",
       "                    console.log(' status from backup queue_reply: ' + httpRE.status + ', reply: ' + httpRE.responseText)\n",
       "                }\n",
       "            }\n",
       "        }\n",
       "\n",
       "        if (showDebug) {\n",
       "            console.log(' error from queue_reply -- could be Jupyter-Bridge server reject')\n",
       "        }\n",
       "        var errReply = {'status': HTTP_SYS_ERR, 'reason': 'Jupyter-Bridge rejected reply', 'text': 'Possibly reply is too long for Jupyter-Bridge server'}\n",
       "        httpRE.open('POST', jupyterBridgeURL, true)\n",
       "        httpRE.setRequestHeader('Content-Type', 'text/plain')\n",
       "        httpRE.send(JSON.stringify(errReply))\n",
       "    }\n",
       "\n",
       "    var reply = {'status': replyStatus, 'reason': replyStatusText, 'text': replyText}\n",
       "\n",
       "    // Send reply to Jupyter bridge\n",
       "    var jupyterBridgeURL = JupyterBridge + '/queue_reply?channel=' + Channel\n",
       "    if (showDebug) {\n",
       "        console.log('Starting queue to Jupyter bridge: ' + jupyterBridgeURL)\n",
       "    }\n",
       "    httpR.open('POST', jupyterBridgeURL, true)\n",
       "    httpR.setRequestHeader('Content-Type', 'text/plain')\n",
       "    httpR.send(JSON.stringify(reply))\n",
       "}\n",
       "\n",
       "function callCytoscape(callSpec) {\n",
       "\n",
       "    // Captures Cytoscape reply and sends it on\n",
       "    httpC.onreadystatechange = function() {\n",
       "        if (httpC.readyState === 4) {\n",
       "            if (showDebug) {\n",
       "                console.log(' status from CyREST: ' + httpC.status + ', statusText: ' + httpC.statusText + ', reply: ' + httpC.responseText)\n",
       "            }\n",
       "            // Note that httpC.status is 0 if the URL can't be reached *OR* there is a CORS violation.\n",
       "            // I wish I could tell the difference because for a CORS violation, I'd return a 404,\n",
       "            // which would roughly match what Python's native request package would return.\n",
       "            // The practical consequence is that the ultimate caller (e.g., py4cytoscape)\n",
       "            // returns different exceptions, depending on wither this module is doing the\n",
       "            // HTTP operation or the native Python requests package is. This is minor, but\n",
       "            // messes up tests that verify the exception type.\n",
       "            replyCytoscape(httpC.status, httpC.statusText, httpC.responseText)\n",
       "            waitOnJupyterBridge()\n",
       "        }\n",
       "    }\n",
       "\n",
       "//  Build up request to Cytoscape, making sure host is local.\n",
       "//    Too heavy handed: localURL = LocalCytoscape + parseURL(callSpec.url).pathname\n",
       "    var localURL = callSpec.url // Try using what was passed in ... is there a security risk??\n",
       "\n",
       "    if (showDebug) {\n",
       "        console.log('Command to CyREST: ' + callSpec.command + ' (' + localURL + ')')\n",
       "        if (callSpec.params) {\n",
       "            console.log(' params: ' + JSON.stringify(callSpec.params))\n",
       "        }\n",
       "        if (callSpec.headers) {\n",
       "            console.log(' header: ' + JSON.stringify(callSpec.headers))\n",
       "        }\n",
       "        if (callSpec.data) {\n",
       "            console.log('   data: ' + JSON.stringify(callSpec.data))\n",
       "        }\n",
       "    }\n",
       "\n",
       "    if (callSpec.command === 'webbrowser') {\n",
       "        if (window.open(callSpec.url)) {\n",
       "            replyCytoscape(HTTP_OK, 'OK', '')\n",
       "        } else {\n",
       "            replyCytoscape(HTTP_SYS_ERR, 'BAD BROWSER OPEN', '')\n",
       "        }\n",
       "        waitOnJupyterBridge()\n",
       "    } else if (callSpec.command === 'version') {\n",
       "        replyCytoscape(HTTP_OK, 'OK',\n",
       "            JSON.stringify({\"jupyterBridgeVersion\": VERSION}))\n",
       "        waitOnJupyterBridge()\n",
       "    } else {\n",
       "        var joiner = '?'\n",
       "        for (let param in callSpec.params) {\n",
       "            localURL = localURL + joiner + param + '=' + encodeURIComponent(callSpec.params[param])\n",
       "            joiner = '&'\n",
       "        }\n",
       "\n",
       "        httpC.open(callSpec.command, localURL, true)\n",
       "        for (let header in callSpec.headers) {\n",
       "            httpC.setRequestHeader(header, callSpec.headers[header])\n",
       "        }\n",
       "\n",
       "        // Send request to Cytoscape ... reply goes to onreadystatechange handler\n",
       "        httpC.send(JSON.stringify(callSpec.data))\n",
       "    }\n",
       "}\n",
       "\n",
       "function waitOnJupyterBridge() {\n",
       "\n",
       "    // Captures request from Jupyter bridge\n",
       "    httpJ.onreadystatechange = function() {\n",
       "        if (httpJ.readyState === 4) {\n",
       "            if (showDebug) {\n",
       "                console.log(' status from dequeue_request: ' + httpJ.status + ', reply: ' + httpJ.responseText)\n",
       "            }\n",
       "            try {\n",
       "                if (httpJ.status == HTTP_TOO_MANY) {\n",
       "                    // Nothing more to do ... the browser has created too many listeners,\n",
       "                    // and it's time to stop listening because the server saw a listener\n",
       "                    // listening on this channel before we got there.\n",
       "                    console.log('  shutting down because of redundant reader on channel: ' + Channel)\n",
       "                } else {\n",
       "                    if (httpJ.status === HTTP_TIMEOUT) {\n",
       "                        waitOnJupyterBridge()\n",
       "                    } else {\n",
       "                        callCytoscape(JSON.parse(httpJ.responseText))\n",
       "                    }\n",
       "                }\n",
       "            } catch(err) {\n",
       "                if (showDebug) {\n",
       "                    console.log(' exception calling Cytoscape: ' + err)\n",
       "                }\n",
       "                // Bad responseText means something bad happened that we don't understand.\n",
       "                // Go wait on another request, as there's nothing to call Cytoscape with.\n",
       "                waitOnJupyterBridge()\n",
       "            }\n",
       "        }\n",
       "    }\n",
       "\n",
       "    // Wait for request from Jupyter bridge\n",
       "    var jupyterBridgeURL = JupyterBridge + '/dequeue_request?channel=' + Channel\n",
       "    if (showDebug) {\n",
       "        console.log('Starting dequeue on Jupyter bridge: ' + jupyterBridgeURL)\n",
       "    }\n",
       "    httpJ.open('GET', jupyterBridgeURL, true)\n",
       "    httpJ.send()\n",
       "}\n",
       "\n",
       "// This kicks off a loop that ends by calling waitOnJupyterBridge again. This first call\n",
       "// ejects any dead readers before we start a read\n",
       "waitOnJupyterBridge() // Wait for message from Jupyter bridge, execute it, and return reply\n",
       "\n",
       "if (showDebug) {\n",
       "    alert(\"Jupyter-bridge browser component is started on \" + JupyterBridge + ', channel ' + Channel)\n",
       "}\n"
      ],
      "text/plain": [
       "<IPython.core.display.Javascript object>"
      ]
     },
     "execution_count": 2,
     "metadata": {},
     "output_type": "execute_result"
    }
   ],
   "source": [
    "#_PY4CYTOSCAPE = 'git+https://github.com/cytoscape/py4cytoscape@1.11.0' # optional\n",
    "import requests\n",
    "exec(requests.get(\"https://raw.githubusercontent.com/cytoscape/jupyter-bridge/master/client/p4c_init.py\").text)\n",
    "IPython.display.Javascript(_PY4CYTOSCAPE_BROWSER_CLIENT_JS) # Start browser client"
   ]
  },
  {
   "cell_type": "markdown",
   "metadata": {
    "id": "lbrWMxUQzc5A"
   },
   "source": [
    "# Prerequisites\n",
    "In addition to this package (py4cytoscape version 1.11.0), you will need:\n",
    "\n",
    "* Latest version of Cytoscape, which can be downloaded from https://cytoscape.org/download.html. Simply follow the installation instructions on screen.\n",
    "\n",
    "* Complete installation wizard\n",
    "\n",
    "* Launch Cytoscape\n",
    "\n",
    "For this vignette, you’ll also need the STRING app:\n",
    "\n",
    "Install the STRING app from https://apps.cytoscape.org/apps/stringapp\n",
    "\n",
    "Install the WikiPathways app from https://apps.cytoscape.org/apps/wikipathways\n",
    "\n",
    "You can also install app inside Python notebook by running \"py4cytoscape.install_app('Your App')\""
   ]
  },
  {
   "cell_type": "markdown",
   "metadata": {
    "id": "PfLqoHw5zc5B"
   },
   "source": [
    "# Import the required package¶\n"
   ]
  },
  {
   "cell_type": "code",
   "execution_count": 3,
   "metadata": {
    "id": "3TdzQlP-zc5C"
   },
   "outputs": [],
   "source": [
    "import os\n",
    "import sys\n",
    "import pandas as pd\n",
    "import py4cytoscape as p4c"
   ]
  },
  {
   "cell_type": "markdown",
   "metadata": {
    "id": "N49-FbzXzc5D"
   },
   "source": [
    "# Setup Cytoscape¶\n"
   ]
  },
  {
   "cell_type": "code",
   "execution_count": 4,
   "metadata": {
    "id": "MkG54Jruzc5D",
    "outputId": "2f804bc9-2c58-4e75-f884-163d2d12fa4c"
   },
   "outputs": [
    {
     "data": {
      "text/plain": [
       "{'apiVersion': 'v1',\n",
       " 'cytoscapeVersion': '3.9.0',\n",
       " 'automationAPIVersion': '1.2.0',\n",
       " 'py4cytoscapeVersion': '0.0.10'}"
      ]
     },
     "execution_count": 4,
     "metadata": {},
     "output_type": "execute_result"
    }
   ],
   "source": [
    "p4c.cytoscape_version_info()"
   ]
  },
  {
   "cell_type": "markdown",
   "metadata": {
    "id": "2boJ4Zo0zc5E"
   },
   "source": [
    "# Example: Species specific considerations\n",
    "When planning to import data, you need to consider the key columns you have in your network data and in your table data. It’s always recommended that you use proper identifiers as your keys (e.g., from databases like Ensembl and Uniprot-TrEMBL). Relying on conventional symbols and names is not standard and error prone.\n",
    "\n",
    "Let’s start with the sample network provided by Cytoscape.\n",
    "\n",
    "Caution: Loading a session file will discard your current session. Save first, if you have networks or data you want to keep. Use saveSession(‘path_to_file’)."
   ]
  },
  {
   "cell_type": "code",
   "execution_count": 5,
   "metadata": {
    "id": "pI94vzxwzc5F",
    "outputId": "284de0f8-8b94-4a9e-ae16-4e5efa54ff06"
   },
   "outputs": [
    {
     "name": "stdout",
     "output_type": "stream",
     "text": [
      "Opening sampleData/sessions/Yeast Perturbation.cys...\n"
     ]
    },
    {
     "data": {
      "text/plain": [
       "{}"
      ]
     },
     "execution_count": 5,
     "metadata": {},
     "output_type": "execute_result"
    }
   ],
   "source": [
    "p4c.open_session()"
   ]
  },
  {
   "cell_type": "markdown",
   "metadata": {
    "id": "p5N2MCUQzc5F"
   },
   "source": [
    "You should now see a network with just over 300 nodes. If you look at the Node Table, you’ll see that there are proper identifiers in the name columns, like “YDL194W”. These are the Ensembl-supported IDs for Yeast.\n",
    "\n"
   ]
  },
  {
   "cell_type": "markdown",
   "metadata": {
    "id": "RZo0i34Azc5G"
   },
   "source": [
    "# Perform identifier mapping\n",
    "You need to know a few things about your network in order to run this function, e.g., the species and starting (or source) identifier type. This isn’t usually a problem, but this example highlights a unique case where the Ensembl ID type for a particular species (i.e., Yeast) has a particular format (e.g., YDL194W), rather than the more typical ENSXXXG00001232 format.\n",
    "\n",
    "So, with this knowledge, you can run the following function:\n",
    "\n"
   ]
  },
  {
   "cell_type": "code",
   "execution_count": 6,
   "metadata": {
    "id": "ZvN_tuJtzc5G",
    "outputId": "a85f4273-bac1-43a3-bd59-1f55f2db227f"
   },
   "outputs": [
    {
     "data": {
      "text/html": [
       "<div>\n",
       "<style scoped>\n",
       "    .dataframe tbody tr th:only-of-type {\n",
       "        vertical-align: middle;\n",
       "    }\n",
       "\n",
       "    .dataframe tbody tr th {\n",
       "        vertical-align: top;\n",
       "    }\n",
       "\n",
       "    .dataframe thead th {\n",
       "        text-align: right;\n",
       "    }\n",
       "</style>\n",
       "<table border=\"1\" class=\"dataframe\">\n",
       "  <thead>\n",
       "    <tr style=\"text-align: right;\">\n",
       "      <th></th>\n",
       "      <th>name</th>\n",
       "      <th>Entrez Gene</th>\n",
       "    </tr>\n",
       "  </thead>\n",
       "  <tbody>\n",
       "    <tr>\n",
       "      <th>66049</th>\n",
       "      <td>YHR141C</td>\n",
       "      <td>855560</td>\n",
       "    </tr>\n",
       "    <tr>\n",
       "      <th>66051</th>\n",
       "      <td>YMR138W</td>\n",
       "      <td>855169</td>\n",
       "    </tr>\n",
       "    <tr>\n",
       "      <th>66053</th>\n",
       "      <td>YMR300C</td>\n",
       "      <td>855346</td>\n",
       "    </tr>\n",
       "    <tr>\n",
       "      <th>66055</th>\n",
       "      <td>YOL058W</td>\n",
       "      <td>854096</td>\n",
       "    </tr>\n",
       "    <tr>\n",
       "      <th>66057</th>\n",
       "      <td>YBR248C</td>\n",
       "      <td>852550</td>\n",
       "    </tr>\n",
       "  </tbody>\n",
       "</table>\n",
       "</div>"
      ],
      "text/plain": [
       "          name Entrez Gene\n",
       "66049  YHR141C      855560\n",
       "66051  YMR138W      855169\n",
       "66053  YMR300C      855346\n",
       "66055  YOL058W      854096\n",
       "66057  YBR248C      852550"
      ]
     },
     "execution_count": 6,
     "metadata": {},
     "output_type": "execute_result"
    }
   ],
   "source": [
    "mapped_cols = p4c.map_table_column('name','Yeast','Ensembl','Entrez Gene')\n",
    "mapped_cols.head()"
   ]
  },
  {
   "cell_type": "markdown",
   "metadata": {
    "id": "mMpWJJOqzc5G"
   },
   "source": [
    "We are asking Cytoscape to look in the name column for Yeast Ensembl IDs and then provide a new columns of corresponding Entrez Gene IDs. And if you look back at the Node Table, you’ll see that new column (all the way to the right). That’s it!\n",
    "\n",
    "The return value is a data frame of all the mappings between Ensembl and Entrez Gene that were found for your network in case you want those details:"
   ]
  },
  {
   "cell_type": "code",
   "execution_count": 7,
   "metadata": {
    "id": "w_YU70ZUzc5G",
    "outputId": "cc278ec3-dd12-4ba9-bbfd-c5479d99a588"
   },
   "outputs": [
    {
     "data": {
      "text/html": [
       "<div>\n",
       "<style scoped>\n",
       "    .dataframe tbody tr th:only-of-type {\n",
       "        vertical-align: middle;\n",
       "    }\n",
       "\n",
       "    .dataframe tbody tr th {\n",
       "        vertical-align: top;\n",
       "    }\n",
       "\n",
       "    .dataframe thead th {\n",
       "        text-align: right;\n",
       "    }\n",
       "</style>\n",
       "<table border=\"1\" class=\"dataframe\">\n",
       "  <thead>\n",
       "    <tr style=\"text-align: right;\">\n",
       "      <th></th>\n",
       "      <th>name</th>\n",
       "      <th>Entrez Gene</th>\n",
       "    </tr>\n",
       "  </thead>\n",
       "  <tbody>\n",
       "    <tr>\n",
       "      <th>66049</th>\n",
       "      <td>YHR141C</td>\n",
       "      <td>855560</td>\n",
       "    </tr>\n",
       "    <tr>\n",
       "      <th>66051</th>\n",
       "      <td>YMR138W</td>\n",
       "      <td>855169</td>\n",
       "    </tr>\n",
       "    <tr>\n",
       "      <th>66053</th>\n",
       "      <td>YMR300C</td>\n",
       "      <td>855346</td>\n",
       "    </tr>\n",
       "  </tbody>\n",
       "</table>\n",
       "</div>"
      ],
      "text/plain": [
       "          name Entrez Gene\n",
       "66049  YHR141C      855560\n",
       "66051  YMR138W      855169\n",
       "66053  YMR300C      855346"
      ]
     },
     "execution_count": 7,
     "metadata": {},
     "output_type": "execute_result"
    }
   ],
   "source": [
    "mapped_cols.iloc[:3] #first three entries"
   ]
  },
  {
   "cell_type": "markdown",
   "metadata": {
    "id": "VlQe08qWzc5G"
   },
   "source": [
    "Note: the row names of the return data frame are the node SUIDs from Cytoscape. These are handy if you want to load the mappings yourself (see last example)."
   ]
  },
  {
   "cell_type": "markdown",
   "metadata": {
    "id": "TI9QUjSazc5H"
   },
   "source": [
    "# Example: From proteins to genes\n",
    "For this next example, you’ll need the STRING app to access the STRING database from within Cytoscape:\n",
    "* Install the STRING app from https://apps.cytoscape.org/apps/stringapp\n",
    "\n"
   ]
  },
  {
   "cell_type": "code",
   "execution_count": 8,
   "metadata": {
    "id": "dEBBnZ7bzc5H",
    "outputId": "4ce9e794-8ac4-44c1-f79a-28a12923cc7f"
   },
   "outputs": [
    {
     "name": "stdout",
     "output_type": "stream",
     "text": [
      "{}\n"
     ]
    },
    {
     "data": {
      "text/plain": [
       "{}"
      ]
     },
     "execution_count": 8,
     "metadata": {},
     "output_type": "execute_result"
    }
   ],
   "source": [
    "# Install STRINGapp app, the return is an empty dictionary.\n",
    "p4c.install_app('STRINGapp')"
   ]
  },
  {
   "cell_type": "markdown",
   "metadata": {
    "id": "WXJ5tm1izc5H"
   },
   "source": [
    "Now we can import protein interaction networks with a ton of annotations from the STRING database with a simple commands_run function, like this:"
   ]
  },
  {
   "cell_type": "code",
   "execution_count": 9,
   "metadata": {
    "id": "tuiwAafTzc5H",
    "outputId": "3506ff87-7f4d-459d-f685-281ee83c8978"
   },
   "outputs": [
    {
     "data": {
      "text/plain": [
       "[\"Loaded network 'STRING network - breast cancer' with 150 nodes and 846 edges\"]"
      ]
     },
     "execution_count": 9,
     "metadata": {},
     "output_type": "execute_result"
    }
   ],
   "source": [
    "string_cmd = 'string disease query disease=\"breast cancer\" cutoff=0.9 species=\"Homo sapiens\" limit=150'\n",
    "p4c.commands.commands_run(string_cmd)"
   ]
  },
  {
   "cell_type": "markdown",
   "metadata": {
    "id": "2TwHos1Vzc5H"
   },
   "source": [
    "Check out the Node Table and you’ll see display names and identifiers. In particular, the canonical name column appears to hold Uniprot-TrEMBL IDs. Nice, we can use that!\n",
    "\n"
   ]
  },
  {
   "cell_type": "markdown",
   "metadata": {
    "id": "xpdL8O6Hzc5H"
   },
   "source": [
    "# Perform identifier mapping\n"
   ]
  },
  {
   "cell_type": "markdown",
   "metadata": {
    "id": "v7n2_CGTzc5H"
   },
   "source": [
    "Say we have a dataset keyed by Ensembl gene identifiers. Well, then we would want to perform this mapping:\n",
    "\n"
   ]
  },
  {
   "cell_type": "code",
   "execution_count": 10,
   "metadata": {
    "id": "IBVmPFyPzc5I",
    "outputId": "cba72505-ea6b-422e-b11b-666e2d4b669a"
   },
   "outputs": [
    {
     "data": {
      "text/html": [
       "<div>\n",
       "<style scoped>\n",
       "    .dataframe tbody tr th:only-of-type {\n",
       "        vertical-align: middle;\n",
       "    }\n",
       "\n",
       "    .dataframe tbody tr th {\n",
       "        vertical-align: top;\n",
       "    }\n",
       "\n",
       "    .dataframe thead th {\n",
       "        text-align: right;\n",
       "    }\n",
       "</style>\n",
       "<table border=\"1\" class=\"dataframe\">\n",
       "  <thead>\n",
       "    <tr style=\"text-align: right;\">\n",
       "      <th></th>\n",
       "      <th>stringdb::canonical name</th>\n",
       "      <th>Ensembl</th>\n",
       "    </tr>\n",
       "  </thead>\n",
       "  <tbody>\n",
       "    <tr>\n",
       "      <th>71169</th>\n",
       "      <td>Q9NZQ7</td>\n",
       "      <td>ENSG00000120217</td>\n",
       "    </tr>\n",
       "    <tr>\n",
       "      <th>70914</th>\n",
       "      <td>Q9UIJ8</td>\n",
       "      <td>None</td>\n",
       "    </tr>\n",
       "    <tr>\n",
       "      <th>70917</th>\n",
       "      <td>P34810</td>\n",
       "      <td>ENSG00000129226</td>\n",
       "    </tr>\n",
       "    <tr>\n",
       "      <th>71172</th>\n",
       "      <td>Q9UCS5</td>\n",
       "      <td>None</td>\n",
       "    </tr>\n",
       "    <tr>\n",
       "      <th>71175</th>\n",
       "      <td>E9PI54</td>\n",
       "      <td>ENSG00000051180</td>\n",
       "    </tr>\n",
       "  </tbody>\n",
       "</table>\n",
       "</div>"
      ],
      "text/plain": [
       "      stringdb::canonical name          Ensembl\n",
       "71169                   Q9NZQ7  ENSG00000120217\n",
       "70914                   Q9UIJ8             None\n",
       "70917                   P34810  ENSG00000129226\n",
       "71172                   Q9UCS5             None\n",
       "71175                   E9PI54  ENSG00000051180"
      ]
     },
     "execution_count": 10,
     "metadata": {},
     "output_type": "execute_result"
    }
   ],
   "source": [
    "mapped_cols = p4c.map_table_column('stringdb::canonical name','Human','Uniprot-TrEMBL','Ensembl')\n",
    "mapped_cols.head()"
   ]
  },
  {
   "cell_type": "markdown",
   "metadata": {
    "id": "htpUlWaazc5I"
   },
   "source": [
    "Scroll all the way to the right in the Node Table and you’ll see a new column with Ensembl IDs. This example highlights a useful translation from protein to gene identifiers (or vice versa), but is also a caution to be aware of the assumptions involved when making this translation. For example, a typical gene encodes for many proteins, so you may have many-to-one mappings in your results.\n",
    "\n"
   ]
  },
  {
   "cell_type": "markdown",
   "metadata": {
    "id": "SjZqhwB4zc5I"
   },
   "source": [
    "# Example: Mixed identifiers\n"
   ]
  },
  {
   "cell_type": "markdown",
   "metadata": {
    "id": "I_bldLNIzc5I"
   },
   "source": [
    "From time to time, you’ll come across a case where the identifiers in your network are of mixed types. This is a rare scenario, but here is one approach to solving it.\n",
    "\n",
    "First, you’ll need the WikiPathways app to access the WikiPathways database. The pathways in WikiPathways are curated by a community of interested researchers and citizen scientists. As such, there are times where authors might use different sources of identifiers. They are valid IDs, just not all from the same source. Future versions of the WikiPathways app will provide pre-mapped columns to a single ID type. But in the meantime (and relevant to other use cases), this example highlights how to handle a source of mixed identifier types.\n",
    "\n",
    "* Install the WikiPathways app from https://apps.cytoscape.org/apps/wikipathways"
   ]
  },
  {
   "cell_type": "markdown",
   "metadata": {
    "id": "XK30PLE2zc5I"
   },
   "source": [
    "Now we can import an Apoptosis Pathway from WikiPathways. Either from the web site (https://wikipathways.org), or from the Network Search Tool in Cytoscape GUI or from the rWikiPathways package, we could identify the pathway as WP254.\n",
    "\n"
   ]
  },
  {
   "cell_type": "code",
   "execution_count": 11,
   "metadata": {
    "id": "TT2Vv1W8zc5J",
    "outputId": "2d0baf8b-61d2-4218-a935-7fd1ebe499d7"
   },
   "outputs": [
    {
     "data": {
      "text/plain": [
       "[]"
      ]
     },
     "execution_count": 11,
     "metadata": {},
     "output_type": "execute_result"
    }
   ],
   "source": [
    "wp_cmd = 'wikipathways import-as-pathway id=\"WP254\"'\n",
    "p4c.commands.commands_run(wp_cmd)"
   ]
  },
  {
   "cell_type": "markdown",
   "metadata": {
    "id": "myj_k3uVzc5J"
   },
   "source": [
    "Take look in the XrefId column and you’ll see a mix of identifier types. The next column over, XrefDatasource, conveniently names each type’s source. Ignoring the metabolites for this example, we just have a mix of Ensembl and Entrez Gene to deal with.\n",
    "\n"
   ]
  },
  {
   "cell_type": "markdown",
   "metadata": {
    "id": "rksX2r9bzc5J"
   },
   "source": [
    "# Perform identifier mapping\n"
   ]
  },
  {
   "cell_type": "markdown",
   "metadata": {
    "id": "2rZXR-p0zc5J"
   },
   "source": [
    "Say we want a column with only Ensembl IDs. The easiest approach is to simply overwrite all the non-Ensembl IDs, i.e., in this case, Entrez Gene IDs. Let’s collect the mappings first:\n",
    "\n"
   ]
  },
  {
   "cell_type": "code",
   "execution_count": 12,
   "metadata": {
    "id": "G80gNMsnzc5J"
   },
   "outputs": [],
   "source": [
    "mapped_cols = p4c.map_table_column('XrefId','Human','Entrez Gene','Ensembl')"
   ]
  },
  {
   "cell_type": "markdown",
   "metadata": {
    "id": "J998TeIhzc5J"
   },
   "source": [
    "Next, we want to remove the values from the Ensembl column in our resulting mapped.cols data frame. We’ll also remove the original source columns (to avoid confusion) and rename our Ensembl column to XrefId to prepare to overwrite. Then we’ll load that into Cytosacpe:"
   ]
  },
  {
   "cell_type": "code",
   "execution_count": 13,
   "metadata": {
    "id": "oiF8dfq2zc5J",
    "outputId": "52d5fa80-5d72-407e-9115-d83d5646a75d"
   },
   "outputs": [
    {
     "name": "stdout",
     "output_type": "stream",
     "text": [
      "NumExpr defaulting to 8 threads.\n"
     ]
    },
    {
     "data": {
      "text/html": [
       "<div>\n",
       "<style scoped>\n",
       "    .dataframe tbody tr th:only-of-type {\n",
       "        vertical-align: middle;\n",
       "    }\n",
       "\n",
       "    .dataframe tbody tr th {\n",
       "        vertical-align: top;\n",
       "    }\n",
       "\n",
       "    .dataframe thead th {\n",
       "        text-align: right;\n",
       "    }\n",
       "</style>\n",
       "<table border=\"1\" class=\"dataframe\">\n",
       "  <thead>\n",
       "    <tr style=\"text-align: right;\">\n",
       "      <th></th>\n",
       "      <th>Ensembl</th>\n",
       "    </tr>\n",
       "  </thead>\n",
       "  <tbody>\n",
       "    <tr>\n",
       "      <th>76289</th>\n",
       "      <td>ENSG00000177606</td>\n",
       "    </tr>\n",
       "    <tr>\n",
       "      <th>76292</th>\n",
       "      <td>ENSG00000104765</td>\n",
       "    </tr>\n",
       "    <tr>\n",
       "      <th>76295</th>\n",
       "      <td>ENSG00000169598</td>\n",
       "    </tr>\n",
       "    <tr>\n",
       "      <th>76298</th>\n",
       "      <td>ENSG00000102871</td>\n",
       "    </tr>\n",
       "    <tr>\n",
       "      <th>76301</th>\n",
       "      <td>ENSG00000171791</td>\n",
       "    </tr>\n",
       "  </tbody>\n",
       "</table>\n",
       "</div>"
      ],
      "text/plain": [
       "               Ensembl\n",
       "76289  ENSG00000177606\n",
       "76292  ENSG00000104765\n",
       "76295  ENSG00000169598\n",
       "76298  ENSG00000102871\n",
       "76301  ENSG00000171791"
      ]
     },
     "execution_count": 13,
     "metadata": {},
     "output_type": "execute_result"
    }
   ],
   "source": [
    "only_mapped_cols = mapped_cols.dropna()\n",
    "only_mapped_cols = only_mapped_cols['Ensembl']\n",
    "only_mapped_cols.columns = ['XrefId']\n",
    "only_mapped_cols = pd.DataFrame(only_mapped_cols)\n",
    "only_mapped_cols.head()"
   ]
  },
  {
   "cell_type": "code",
   "execution_count": 14,
   "metadata": {
    "id": "D9Pz5wU2zc5K",
    "outputId": "d92e2714-b109-4be2-870d-8fa726877644"
   },
   "outputs": [
    {
     "data": {
      "text/plain": [
       "'Success: Data loaded in defaultnode table'"
      ]
     },
     "execution_count": 14,
     "metadata": {},
     "output_type": "execute_result"
    }
   ],
   "source": [
    "p4c.load_table_data(only_mapped_cols, table_key_column='SUID')"
   ]
  },
  {
   "cell_type": "markdown",
   "metadata": {
    "id": "-VeLcLU8zc5K"
   },
   "source": [
    "Done! See the updated XrefId column in Cytoscape with all Ensembl IDs.\n",
    "\n",
    "Note: you’ll want to either update the XrefDatasource* column as well or simply make a note to ignore it at this point.*\n",
    "\n"
   ]
  },
  {
   "cell_type": "markdown",
   "metadata": {
    "id": "9GPRYcQ5zc5K"
   },
   "source": [
    "# More advanced cases\n"
   ]
  },
  {
   "cell_type": "markdown",
   "metadata": {
    "id": "mWuDnbcEzc5K"
   },
   "source": [
    "If you need an ID mapping solution for species or ID types not covered by this tool, or if you want to connect to alternative sources of mappings, then check out the BridgeDb app: http://apps.cytoscape.org/apps/bridgedb.\n",
    "\n"
   ]
  },
  {
   "cell_type": "code",
   "execution_count": 15,
   "metadata": {
    "id": "PiggWLQMzc5L",
    "outputId": "ad30405d-dbb5-44de-eefa-cacf20a7d803"
   },
   "outputs": [
    {
     "name": "stdout",
     "output_type": "stream",
     "text": [
      "{}\n"
     ]
    },
    {
     "data": {
      "text/plain": [
       "{}"
      ]
     },
     "execution_count": 15,
     "metadata": {},
     "output_type": "execute_result"
    }
   ],
   "source": [
    "#available in Cytoscape 3.7.0 and above, the return is an empty dictionary.\n",
    "p4c.install_app('BridgeDb')"
   ]
  }
 ],
 "metadata": {
  "colab": {
   "include_colab_link": true,
   "name": "identifier-mapping.ipynb",
   "provenance": []
  },
  "kernelspec": {
   "display_name": "Python 3",
   "language": "python",
   "name": "python3"
  },
  "language_info": {
   "codemirror_mode": {
    "name": "ipython",
    "version": 3
   },
   "file_extension": ".py",
   "mimetype": "text/x-python",
   "name": "python",
   "nbconvert_exporter": "python",
   "pygments_lexer": "ipython3",
   "version": "3.8.5"
  }
 },
 "nbformat": 4,
 "nbformat_minor": 1
}
