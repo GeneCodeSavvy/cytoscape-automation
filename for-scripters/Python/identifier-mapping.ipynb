{
  "nbformat": 4,
  "nbformat_minor": 0,
  "metadata": {
    "kernelspec": {
      "display_name": "Python 3",
      "language": "python",
      "name": "python3"
    },
    "language_info": {
      "codemirror_mode": {
        "name": "ipython",
        "version": 3
      },
      "file_extension": ".py",
      "mimetype": "text/x-python",
      "name": "python",
      "nbconvert_exporter": "python",
      "pygments_lexer": "ipython3",
      "version": "3.8.5"
    },
    "colab": {
      "name": "identifier-mapping.ipynb",
      "provenance": [],
      "include_colab_link": true
    }
  },
  "cells": [
    {
      "cell_type": "markdown",
      "metadata": {
        "id": "view-in-github",
        "colab_type": "text"
      },
      "source": [
        "<a href=\"https://colab.research.google.com/github/cytoscape/cytoscape-automation/blob/master/for-scripters/Python/identifier-mapping.ipynb\" target=\"_parent\"><img src=\"https://colab.research.google.com/assets/colab-badge.svg\" alt=\"Open In Colab\"/></a>"
      ]
    },
    {
      "cell_type": "markdown",
      "metadata": {
        "id": "_cSYuwZezc48"
      },
      "source": [
        "# Identifier mapping\n"
      ]
    },
    {
      "cell_type": "markdown",
      "metadata": {
        "id": "15dERsg1zc4-"
      },
      "source": [
        "## Yihang Xin and Alex Pico"
      ]
    },
    {
      "cell_type": "markdown",
      "metadata": {
        "id": "zB-JDsvczc4-"
      },
      "source": [
        "## 2020-12-15"
      ]
    },
    {
      "cell_type": "markdown",
      "metadata": {
        "id": "fcc9Qe3lzc4_"
      },
      "source": [
        "This vignette will show you how to map or translate identifiers from one database (e.g., Ensembl) to another (e.g, Entrez Gene). This is a common requirement for data analysis. In the context of Cytoscape, for example, identifier mapping is needed when you want to import data to overlay on a network but you don’t have matching keys. There are three distinct examples below, highlighting different lessons that may apply to your use cases\n",
        "\n"
      ]
    },
    {
      "cell_type": "markdown",
      "metadata": {
        "id": "SyT2XbbLzc4_"
      },
      "source": [
        "# Installation\n",
        "The following chunk of code installs the `py4cytoscape` module."
      ]
    },
    {
      "cell_type": "code",
      "metadata": {
        "id": "BRXwxdC2zc5A"
      },
      "source": [
        "%%capture\n",
        "!python3 -m pip install python-igraph requests pandas networkx\n",
        "!python3 -m pip install py4cytoscape"
      ],
      "execution_count": null,
      "outputs": []
    },
    {
      "cell_type": "markdown",
      "metadata": {
        "id": "8LZh6qvOzeta"
      },
      "source": [
        "If you are using a remote notebook environment such as Google Colab, please execute the cell below. (If you're running on your local notebook, you don't need to do that.)\n",
        "\n"
      ]
    },
    {
      "cell_type": "code",
      "metadata": {
        "id": "dpNJNlZtzfyE"
      },
      "source": [
        "import requests\n",
        "exec(requests.get(\"https://raw.githubusercontent.com/cytoscape/jupyter-bridge/master/client/p4c_init.py\").text)\n",
        "IPython.display.Javascript(_PY4CYTOSCAPE_BROWSER_CLIENT_JS) # Start browser client"
      ],
      "execution_count": null,
      "outputs": []
    },
    {
      "cell_type": "markdown",
      "metadata": {
        "id": "lbrWMxUQzc5A"
      },
      "source": [
        "# Prerequisites\n",
        "In addition to this package (py4cytoscape version 0.0.9), you will need:\n",
        "\n",
        "* Latest version of Cytoscape, which can be downloaded from https://cytoscape.org/download.html. Simply follow the installation instructions on screen.\n",
        "\n",
        "* Complete installation wizard\n",
        "\n",
        "* Launch Cytoscape\n",
        "\n",
        "For this vignette, you’ll also need the STRING app:\n",
        "\n",
        "Install the STRING app from https://apps.cytoscape.org/apps/stringapp\n",
        "\n",
        "Install the WikiPathways app from https://apps.cytoscape.org/apps/wikipathways\n",
        "\n",
        "You can also install app inside Python notebook by running \"py4cytoscape.install_app('Your App')\""
      ]
    },
    {
      "cell_type": "markdown",
      "metadata": {
        "id": "PfLqoHw5zc5B"
      },
      "source": [
        "# Import the required package¶\n"
      ]
    },
    {
      "cell_type": "code",
      "metadata": {
        "id": "3TdzQlP-zc5C"
      },
      "source": [
        "import os\n",
        "import sys\n",
        "import pandas as pd\n",
        "import py4cytoscape as p4c"
      ],
      "execution_count": null,
      "outputs": []
    },
    {
      "cell_type": "markdown",
      "metadata": {
        "id": "N49-FbzXzc5D"
      },
      "source": [
        "# Setup Cytoscape¶\n"
      ]
    },
    {
      "cell_type": "code",
      "metadata": {
        "id": "MkG54Jruzc5D",
        "outputId": "2f804bc9-2c58-4e75-f884-163d2d12fa4c"
      },
      "source": [
        "p4c.cytoscape_version_info()"
      ],
      "execution_count": null,
      "outputs": [
        {
          "output_type": "execute_result",
          "data": {
            "text/plain": [
              "{'apiVersion': 'v1',\n",
              " 'cytoscapeVersion': '3.8.2',\n",
              " 'automationAPIVersion': '1.0.0',\n",
              " 'py4cytoscapeVersion': '0.0.7'}"
            ]
          },
          "metadata": {
            "tags": []
          },
          "execution_count": 3
        }
      ]
    },
    {
      "cell_type": "markdown",
      "metadata": {
        "id": "2boJ4Zo0zc5E"
      },
      "source": [
        "# Example: Species specific considerations\n",
        "When planning to import data, you need to consider the key columns you have in your network data and in your table data. It’s always recommended that you use proper identifiers as your keys (e.g., from databases like Ensembl and Uniprot-TrEMBL). Relying on conventional symbols and names is not standard and error prone.\n",
        "\n",
        "Let’s start with the sample network provided by Cytoscape.\n",
        "\n",
        "Caution: Loading a session file will discard your current session. Save first, if you have networks or data you want to keep. Use saveSession(‘path_to_file’)."
      ]
    },
    {
      "cell_type": "code",
      "metadata": {
        "id": "pI94vzxwzc5F",
        "outputId": "284de0f8-8b94-4a9e-ae16-4e5efa54ff06"
      },
      "source": [
        "p4c.open_session()"
      ],
      "execution_count": null,
      "outputs": [
        {
          "output_type": "stream",
          "text": [
            "Opening sampleData/sessions/Yeast Perturbation.cys...\n"
          ],
          "name": "stdout"
        },
        {
          "output_type": "execute_result",
          "data": {
            "text/plain": [
              "{}"
            ]
          },
          "metadata": {
            "tags": []
          },
          "execution_count": 4
        }
      ]
    },
    {
      "cell_type": "markdown",
      "metadata": {
        "id": "p5N2MCUQzc5F"
      },
      "source": [
        "You should now see a network with just over 300 nodes. If you look at the Node Table, you’ll see that there are proper identifiers in the name columns, like “YDL194W”. These are the Ensembl-supported IDs for Yeast.\n",
        "\n"
      ]
    },
    {
      "cell_type": "markdown",
      "metadata": {
        "id": "RZo0i34Azc5G"
      },
      "source": [
        "# Perform identifier mapping\n",
        "You need to know a few things about your network in order to run this function, e.g., the species and starting (or source) identifier type. This isn’t usually a problem, but this example highlights a unique case where the Ensembl ID type for a particular species (i.e., Yeast) has a particular format (e.g., YDL194W), rather than the more typical ENSXXXG00001232 format.\n",
        "\n",
        "So, with this knowledge, you can run the following function:\n",
        "\n"
      ]
    },
    {
      "cell_type": "code",
      "metadata": {
        "id": "ZvN_tuJtzc5G",
        "outputId": "a85f4273-bac1-43a3-bd59-1f55f2db227f"
      },
      "source": [
        "mapped_cols = p4c.map_table_column('name','Yeast','Ensembl','Entrez Gene')\n",
        "mapped_cols.head()"
      ],
      "execution_count": null,
      "outputs": [
        {
          "output_type": "execute_result",
          "data": {
            "text/html": [
              "<div>\n",
              "<style scoped>\n",
              "    .dataframe tbody tr th:only-of-type {\n",
              "        vertical-align: middle;\n",
              "    }\n",
              "\n",
              "    .dataframe tbody tr th {\n",
              "        vertical-align: top;\n",
              "    }\n",
              "\n",
              "    .dataframe thead th {\n",
              "        text-align: right;\n",
              "    }\n",
              "</style>\n",
              "<table border=\"1\" class=\"dataframe\">\n",
              "  <thead>\n",
              "    <tr style=\"text-align: right;\">\n",
              "      <th></th>\n",
              "      <th>name</th>\n",
              "      <th>Entrez Gene</th>\n",
              "    </tr>\n",
              "  </thead>\n",
              "  <tbody>\n",
              "    <tr>\n",
              "      <th>2560</th>\n",
              "      <td>YPR062W</td>\n",
              "      <td>856175</td>\n",
              "    </tr>\n",
              "    <tr>\n",
              "      <th>2561</th>\n",
              "      <td>YLR319C</td>\n",
              "      <td>851029</td>\n",
              "    </tr>\n",
              "    <tr>\n",
              "      <th>2562</th>\n",
              "      <td>YNL311C</td>\n",
              "      <td>855405</td>\n",
              "    </tr>\n",
              "    <tr>\n",
              "      <th>2563</th>\n",
              "      <td>YKL001C</td>\n",
              "      <td>853869</td>\n",
              "    </tr>\n",
              "    <tr>\n",
              "      <th>2564</th>\n",
              "      <td>YOL016C</td>\n",
              "      <td>854144</td>\n",
              "    </tr>\n",
              "  </tbody>\n",
              "</table>\n",
              "</div>"
            ],
            "text/plain": [
              "         name Entrez Gene\n",
              "2560  YPR062W      856175\n",
              "2561  YLR319C      851029\n",
              "2562  YNL311C      855405\n",
              "2563  YKL001C      853869\n",
              "2564  YOL016C      854144"
            ]
          },
          "metadata": {
            "tags": []
          },
          "execution_count": 5
        }
      ]
    },
    {
      "cell_type": "markdown",
      "metadata": {
        "id": "mMpWJJOqzc5G"
      },
      "source": [
        "We are asking Cytoscape to look in the name column for Yeast Ensembl IDs and then provide a new columns of corresponding Entrez Gene IDs. And if you look back at the Node Table, you’ll see that new column (all the way to the right). That’s it!\n",
        "\n",
        "The return value is a data frame of all the mappings between Ensembl and Entrez Gene that were found for your network in case you want those details:"
      ]
    },
    {
      "cell_type": "code",
      "metadata": {
        "id": "w_YU70ZUzc5G",
        "outputId": "cc278ec3-dd12-4ba9-bbfd-c5479d99a588"
      },
      "source": [
        "mapped_cols.iloc[:3] #first three entries"
      ],
      "execution_count": null,
      "outputs": [
        {
          "output_type": "execute_result",
          "data": {
            "text/html": [
              "<div>\n",
              "<style scoped>\n",
              "    .dataframe tbody tr th:only-of-type {\n",
              "        vertical-align: middle;\n",
              "    }\n",
              "\n",
              "    .dataframe tbody tr th {\n",
              "        vertical-align: top;\n",
              "    }\n",
              "\n",
              "    .dataframe thead th {\n",
              "        text-align: right;\n",
              "    }\n",
              "</style>\n",
              "<table border=\"1\" class=\"dataframe\">\n",
              "  <thead>\n",
              "    <tr style=\"text-align: right;\">\n",
              "      <th></th>\n",
              "      <th>name</th>\n",
              "      <th>Entrez Gene</th>\n",
              "    </tr>\n",
              "  </thead>\n",
              "  <tbody>\n",
              "    <tr>\n",
              "      <th>2560</th>\n",
              "      <td>YPR062W</td>\n",
              "      <td>856175</td>\n",
              "    </tr>\n",
              "    <tr>\n",
              "      <th>2561</th>\n",
              "      <td>YLR319C</td>\n",
              "      <td>851029</td>\n",
              "    </tr>\n",
              "    <tr>\n",
              "      <th>2562</th>\n",
              "      <td>YNL311C</td>\n",
              "      <td>855405</td>\n",
              "    </tr>\n",
              "  </tbody>\n",
              "</table>\n",
              "</div>"
            ],
            "text/plain": [
              "         name Entrez Gene\n",
              "2560  YPR062W      856175\n",
              "2561  YLR319C      851029\n",
              "2562  YNL311C      855405"
            ]
          },
          "metadata": {
            "tags": []
          },
          "execution_count": 6
        }
      ]
    },
    {
      "cell_type": "markdown",
      "metadata": {
        "id": "VlQe08qWzc5G"
      },
      "source": [
        "Note: the row names of the return data frame are the node SUIDs from Cytoscape. These are handy if you want to load the mappings yourself (see last example)."
      ]
    },
    {
      "cell_type": "markdown",
      "metadata": {
        "id": "TI9QUjSazc5H"
      },
      "source": [
        "# Example: From proteins to genes\n",
        "For this next example, you’ll need the STRING app to access the STRING database from within Cytoscape:\n",
        "* Install the STRING app from https://apps.cytoscape.org/apps/stringapp\n",
        "\n"
      ]
    },
    {
      "cell_type": "code",
      "metadata": {
        "id": "dEBBnZ7bzc5H",
        "outputId": "4ce9e794-8ac4-44c1-f79a-28a12923cc7f"
      },
      "source": [
        "p4c.install_app('WikiPathways')"
      ],
      "execution_count": null,
      "outputs": [
        {
          "output_type": "stream",
          "text": [
            "{}\n"
          ],
          "name": "stdout"
        },
        {
          "output_type": "execute_result",
          "data": {
            "text/plain": [
              "{}"
            ]
          },
          "metadata": {
            "tags": []
          },
          "execution_count": 7
        }
      ]
    },
    {
      "cell_type": "markdown",
      "metadata": {
        "id": "WXJ5tm1izc5H"
      },
      "source": [
        "Now we can import protein interaction networks with a ton of annotations from the STRING database with a simple commands_run function, like this:"
      ]
    },
    {
      "cell_type": "code",
      "metadata": {
        "id": "tuiwAafTzc5H",
        "outputId": "3506ff87-7f4d-459d-f685-281ee83c8978"
      },
      "source": [
        "string_cmd = 'string disease query disease=\"breast cancer\" cutoff=0.9 species=\"Homo sapiens\" limit=150'\n",
        "p4c.commands.commands_run(string_cmd)"
      ],
      "execution_count": null,
      "outputs": [
        {
          "output_type": "execute_result",
          "data": {
            "text/plain": [
              "[\"Loaded network 'String Network - breast cancer' with 150 nodes and 806 edges\"]"
            ]
          },
          "metadata": {
            "tags": []
          },
          "execution_count": 8
        }
      ]
    },
    {
      "cell_type": "markdown",
      "metadata": {
        "id": "2TwHos1Vzc5H"
      },
      "source": [
        "Check out the Node Table and you’ll see display names and identifiers. In particular, the canonical name column appears to hold Uniprot-TrEMBL IDs. Nice, we can use that!\n",
        "\n"
      ]
    },
    {
      "cell_type": "markdown",
      "metadata": {
        "id": "xpdL8O6Hzc5H"
      },
      "source": [
        "# Perform identifier mapping\n"
      ]
    },
    {
      "cell_type": "markdown",
      "metadata": {
        "id": "v7n2_CGTzc5H"
      },
      "source": [
        "Say we have a dataset keyed by Ensembl gene identifiers. Well, then we would want to perform this mapping:\n",
        "\n"
      ]
    },
    {
      "cell_type": "code",
      "metadata": {
        "id": "IBVmPFyPzc5I",
        "outputId": "cba72505-ea6b-422e-b11b-666e2d4b669a"
      },
      "source": [
        "mapped_cols = p4c.map_table_column('stringdb::canonical name','Human','Uniprot-TrEMBL','Ensembl')\n",
        "mapped_cols.head()"
      ],
      "execution_count": null,
      "outputs": [
        {
          "output_type": "execute_result",
          "data": {
            "text/html": [
              "<div>\n",
              "<style scoped>\n",
              "    .dataframe tbody tr th:only-of-type {\n",
              "        vertical-align: middle;\n",
              "    }\n",
              "\n",
              "    .dataframe tbody tr th {\n",
              "        vertical-align: top;\n",
              "    }\n",
              "\n",
              "    .dataframe thead th {\n",
              "        text-align: right;\n",
              "    }\n",
              "</style>\n",
              "<table border=\"1\" class=\"dataframe\">\n",
              "  <thead>\n",
              "    <tr style=\"text-align: right;\">\n",
              "      <th></th>\n",
              "      <th>stringdb::canonical name</th>\n",
              "      <th>Ensembl</th>\n",
              "    </tr>\n",
              "  </thead>\n",
              "  <tbody>\n",
              "    <tr>\n",
              "      <th>3840</th>\n",
              "      <td>P35222</td>\n",
              "      <td>ENSG00000168036</td>\n",
              "    </tr>\n",
              "    <tr>\n",
              "      <th>3841</th>\n",
              "      <td>Q05397</td>\n",
              "      <td>ENSG00000169398</td>\n",
              "    </tr>\n",
              "    <tr>\n",
              "      <th>3842</th>\n",
              "      <td>P23771</td>\n",
              "      <td>ENSG00000107485</td>\n",
              "    </tr>\n",
              "    <tr>\n",
              "      <th>3843</th>\n",
              "      <td>P15407</td>\n",
              "      <td>ENSG00000175592</td>\n",
              "    </tr>\n",
              "    <tr>\n",
              "      <th>3844</th>\n",
              "      <td>Q96SC6</td>\n",
              "      <td>None</td>\n",
              "    </tr>\n",
              "  </tbody>\n",
              "</table>\n",
              "</div>"
            ],
            "text/plain": [
              "     stringdb::canonical name          Ensembl\n",
              "3840                   P35222  ENSG00000168036\n",
              "3841                   Q05397  ENSG00000169398\n",
              "3842                   P23771  ENSG00000107485\n",
              "3843                   P15407  ENSG00000175592\n",
              "3844                   Q96SC6             None"
            ]
          },
          "metadata": {
            "tags": []
          },
          "execution_count": 9
        }
      ]
    },
    {
      "cell_type": "markdown",
      "metadata": {
        "id": "htpUlWaazc5I"
      },
      "source": [
        "Scroll all the way to the right in the Node Table and you’ll see a new column with Ensembl IDs. This example highlights a useful translation from protein to gene identifiers (or vice versa), but is also a caution to be aware of the assumptions involved when making this translation. For example, a typical gene encodes for many proteins, so you may have many-to-one mappings in your results.\n",
        "\n"
      ]
    },
    {
      "cell_type": "markdown",
      "metadata": {
        "id": "SjZqhwB4zc5I"
      },
      "source": [
        "# Example: Mixed identifiers\n"
      ]
    },
    {
      "cell_type": "markdown",
      "metadata": {
        "id": "I_bldLNIzc5I"
      },
      "source": [
        "From time to time, you’ll come across a case where the identifiers in your network are of mixed types. This is a rare scenario, but here is one approach to solving it.\n",
        "\n",
        "First, you’ll need the WikiPathways app to access the WikiPathways database. The pathways in WikiPathways are curated by a community of interested researchers and citizen scientists. As such, there are times where authors might use different sources of identifiers. They are valid IDs, just not all from the same source. Future versions of the WikiPathways app will provide pre-mapped columns to a single ID type. But in the meantime (and relevant to other use cases), this example highlights how to handle a source of mixed identifier types.\n",
        "\n",
        "* Install the WikiPathways app from https://apps.cytoscape.org/apps/wikipathways"
      ]
    },
    {
      "cell_type": "markdown",
      "metadata": {
        "id": "XK30PLE2zc5I"
      },
      "source": [
        "Now we can import an Apoptosis Pathway from WikiPathways. Either from the web site (https://wikipathways.org), or from the Network Search Tool in Cytoscape GUI or from the rWikiPathways package, we could identify the pathway as WP254.\n",
        "\n"
      ]
    },
    {
      "cell_type": "code",
      "metadata": {
        "id": "TT2Vv1W8zc5J",
        "outputId": "2d0baf8b-61d2-4218-a935-7fd1ebe499d7"
      },
      "source": [
        "wp_cmd = 'wikipathways import-as-pathway id=\"WP254\"'\n",
        "p4c.commands.commands_run(wp_cmd)"
      ],
      "execution_count": null,
      "outputs": [
        {
          "output_type": "execute_result",
          "data": {
            "text/plain": [
              "[]"
            ]
          },
          "metadata": {
            "tags": []
          },
          "execution_count": 10
        }
      ]
    },
    {
      "cell_type": "markdown",
      "metadata": {
        "id": "myj_k3uVzc5J"
      },
      "source": [
        "Take look in the XrefId column and you’ll see a mix of identifier types. The next column over, XrefDatasource, conveniently names each type’s source. Ignoring the metabolites for this example, we just have a mix of Ensembl and Entrez Gene to deal with.\n",
        "\n"
      ]
    },
    {
      "cell_type": "markdown",
      "metadata": {
        "id": "rksX2r9bzc5J"
      },
      "source": [
        "# Perform identifier mapping\n"
      ]
    },
    {
      "cell_type": "markdown",
      "metadata": {
        "id": "2rZXR-p0zc5J"
      },
      "source": [
        "Say we want a column with only Ensembl IDs. The easiest approach is to simply overwrite all the non-Ensembl IDs, i.e., in this case, Entrez Gene IDs. Let’s collect the mappings first:\n",
        "\n"
      ]
    },
    {
      "cell_type": "code",
      "metadata": {
        "id": "G80gNMsnzc5J"
      },
      "source": [
        "mapped_cols = p4c.map_table_column('XrefId','Human','Entrez Gene','Ensembl')"
      ],
      "execution_count": null,
      "outputs": []
    },
    {
      "cell_type": "markdown",
      "metadata": {
        "id": "J998TeIhzc5J"
      },
      "source": [
        "Next, we want to remove the values from the Ensembl column in our resulting mapped.cols data frame. We’ll also remove the original source columns (to avoid confusion) and rename our Ensembl column to XrefId to prepare to overwrite. Then we’ll load that into Cytosacpe:"
      ]
    },
    {
      "cell_type": "code",
      "metadata": {
        "id": "oiF8dfq2zc5J",
        "outputId": "52d5fa80-5d72-407e-9115-d83d5646a75d"
      },
      "source": [
        "only_mapped_cols = mapped_cols.dropna()\n",
        "only_mapped_cols = only_mapped_cols['Ensembl']\n",
        "only_mapped_cols.columns = ['XrefId']\n",
        "only_mapped_cols = pd.DataFrame(only_mapped_cols)\n",
        "only_mapped_cols.head()"
      ],
      "execution_count": null,
      "outputs": [
        {
          "output_type": "execute_result",
          "data": {
            "text/html": [
              "<div>\n",
              "<style scoped>\n",
              "    .dataframe tbody tr th:only-of-type {\n",
              "        vertical-align: middle;\n",
              "    }\n",
              "\n",
              "    .dataframe tbody tr th {\n",
              "        vertical-align: top;\n",
              "    }\n",
              "\n",
              "    .dataframe thead th {\n",
              "        text-align: right;\n",
              "    }\n",
              "</style>\n",
              "<table border=\"1\" class=\"dataframe\">\n",
              "  <thead>\n",
              "    <tr style=\"text-align: right;\">\n",
              "      <th></th>\n",
              "      <th>Ensembl</th>\n",
              "    </tr>\n",
              "  </thead>\n",
              "  <tbody>\n",
              "    <tr>\n",
              "      <th>5735</th>\n",
              "      <td>ENSG00000283797</td>\n",
              "    </tr>\n",
              "    <tr>\n",
              "      <th>5736</th>\n",
              "      <td>ENSG00000284032</td>\n",
              "    </tr>\n",
              "    <tr>\n",
              "      <th>5737</th>\n",
              "      <td>ENSG00000141682</td>\n",
              "    </tr>\n",
              "    <tr>\n",
              "      <th>5738</th>\n",
              "      <td>ENSG00000132906</td>\n",
              "    </tr>\n",
              "    <tr>\n",
              "      <th>5739</th>\n",
              "      <td>ENSG00000135679</td>\n",
              "    </tr>\n",
              "  </tbody>\n",
              "</table>\n",
              "</div>"
            ],
            "text/plain": [
              "              Ensembl\n",
              "5735  ENSG00000283797\n",
              "5736  ENSG00000284032\n",
              "5737  ENSG00000141682\n",
              "5738  ENSG00000132906\n",
              "5739  ENSG00000135679"
            ]
          },
          "metadata": {
            "tags": []
          },
          "execution_count": 12
        }
      ]
    },
    {
      "cell_type": "code",
      "metadata": {
        "id": "D9Pz5wU2zc5K",
        "outputId": "d92e2714-b109-4be2-870d-8fa726877644"
      },
      "source": [
        "p4c.load_table_data(only_mapped_cols, table_key_column='SUID')"
      ],
      "execution_count": null,
      "outputs": [
        {
          "output_type": "execute_result",
          "data": {
            "text/plain": [
              "'Success: Data loaded in defaultnode table'"
            ]
          },
          "metadata": {
            "tags": []
          },
          "execution_count": 13
        }
      ]
    },
    {
      "cell_type": "markdown",
      "metadata": {
        "id": "-VeLcLU8zc5K"
      },
      "source": [
        "Done! See the updated XrefId column in Cytoscape with all Ensembl IDs.\n",
        "\n",
        "Note: you’ll want to either update the XrefDatasource* column as well or simply make a note to ignore it at this point.*\n",
        "\n"
      ]
    },
    {
      "cell_type": "markdown",
      "metadata": {
        "id": "9GPRYcQ5zc5K"
      },
      "source": [
        "# More advanced cases\n"
      ]
    },
    {
      "cell_type": "markdown",
      "metadata": {
        "id": "mWuDnbcEzc5K"
      },
      "source": [
        "If you need an ID mapping solution for species or ID types not covered by this tool, or if you want to connect to alternative sources of mappings, then check out the BridgeDb app: http://apps.cytoscape.org/apps/bridgedb.\n",
        "\n"
      ]
    },
    {
      "cell_type": "code",
      "metadata": {
        "id": "PiggWLQMzc5L",
        "outputId": "ad30405d-dbb5-44de-eefa-cacf20a7d803"
      },
      "source": [
        "#available in Cytoscape 3.7.0 and above\n",
        "p4c.install_app('BridgeDb')"
      ],
      "execution_count": null,
      "outputs": [
        {
          "output_type": "stream",
          "text": [
            "{}\n"
          ],
          "name": "stdout"
        },
        {
          "output_type": "execute_result",
          "data": {
            "text/plain": [
              "{}"
            ]
          },
          "metadata": {
            "tags": []
          },
          "execution_count": 14
        }
      ]
    }
  ]
}