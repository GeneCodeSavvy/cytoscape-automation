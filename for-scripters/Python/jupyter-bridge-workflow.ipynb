{
 "cells": [
  {
   "cell_type": "markdown",
   "metadata": {
    "id": "C80eayWWcQQZ"
   },
   "source": [
    "# Jupyter Bridge Workflow\n",
    "## Yihang Xin and Alex Pico\n",
    "## 2021-04-04"
   ]
  },
  {
   "cell_type": "markdown",
   "metadata": {},
   "source": [
    "This notebook describe how to build a workflow via Jupyter Bridge. For the basic tutorial of Jupyter Bridge, please visit [Jupyter Bridge basic notebook](https://github.com/cytoscape/cytoscape-automation/blob/master/for-scripters/Python/jupyter-bridge-basic.ipynb)."
   ]
  },
  {
   "cell_type": "markdown",
   "metadata": {
    "id": "SVE7ihIQcQQc"
   },
   "source": [
    "# Prerequisites (Local machine)\n",
    "## In addition to this package (py4cytoscape latest version 0.0.8), you will need:\n",
    "\n",
    "* Latest version of Cytoscape, which can be downloaded from https://cytoscape.org/download.html. Simply follow the installation instructions on screen.\n",
    "* Complete installation wizard\n",
    "* Launch Cytoscape\n",
    "* Install the filetransfer app from https://apps.cytoscape.org/apps/filetransfer\n",
    "\n"
   ]
  },
  {
   "cell_type": "markdown",
   "metadata": {
    "id": "Ihnb_K-WcQQc"
   },
   "source": [
    "\n",
    "# Prerequisites (Cloud server)\n",
    "\n",
    "There are a lot of cloud computing services online, such as Google Colab, Amazon EMR Notebook, Microsoft Azure, CoCalc and your own JupyterHub. You can choose your favorite one.\n",
    "\n",
    "Here we use Google Colab to demonstrate. Click this [link](https://colab.research.google.com/notebooks/empty.ipynb) to create a new empty Python notebook in the Google colab. \n",
    "\n",
    "You can open this notebook in the Google Colab from Github directly (File -> Open notebook -> Github). Also you can download this notebook and upload it to the Google Colab (File -> Open notebook -> Upload).\n",
    "\n",
    "## Make sure to run code below in the cloud!!!"
   ]
  },
  {
   "cell_type": "markdown",
   "metadata": {},
   "source": [
    "<font color='red'> You do not need to run the chunk of code below if you come from the basic Jupyter Bride tutorial, since you have already installed required packages and build the connection. </font>"
   ]
  },
  {
   "cell_type": "code",
   "execution_count": 1,
   "metadata": {
    "id": "EdFqEQSYcQQc"
   },
   "outputs": [],
   "source": [
    "#%%capture\n",
    "#!pip install py4cytoscape\n",
    "#import IPython\n",
    "#import py4cytoscape as p4c\n",
    "\n",
    "#browser_client_js = p4c.get_browser_client_js()\n",
    "#IPython.display.Javascript(browser_client_js)"
   ]
  },
  {
   "cell_type": "markdown",
   "metadata": {
    "id": "78TgDMizg9JO"
   },
   "source": [
    "# Use case: Run differentially expressed genes network analysis in the cloud\n",
    "\n",
    "For this vignette, you’ll also need the STRING app. \n",
    "\n",
    "Install the STRING app from https://apps.cytoscape.org/apps/stringapp\n",
    "\n",
    "Install the filetransfer app from https://apps.cytoscape.org/apps/filetransfer\n",
    "\n",
    "You can also install app inside Python notebook by running py4cytoscape.install_app('Your App')"
   ]
  },
  {
   "cell_type": "markdown",
   "metadata": {
    "id": "8xNun55_cQQd"
   },
   "source": [
    "# Background\n",
    "This protocol describes a network analysis workflow in Cytoscape for a set of differentially expressed genes. Points covered:\n",
    "\n",
    "* Retrieving relevant networks from public databases\n",
    "* Network functional enrichment analysis\n",
    "* Integration and visualization of experimental data\n",
    "* Exporting network visualizations\n",
    "\n",
    "You can also install app inside Python notebook by running \"py4cytoscape.install_app('Your App')\"\n",
    "\n",
    "Ovarian serous cystadenocarcinoma is a type of epithelial ovarian cancer which accounts for ~90% of all ovarian cancers. The data used in this protocol are from The Cancer Genome Atlas, in which multiple subtypes of serous cystadenocarcinoma were identified and characterized by mRNA expression.\n",
    "\n",
    "We will focus on the differential gene expression between two subtypes, Mesenchymal and Immunoreactive.\n",
    "\n",
    "For convenience, the data has already been analyzed and pre-filtered, using log fold change value and adjusted p-value.\n",
    "\n"
   ]
  },
  {
   "cell_type": "markdown",
   "metadata": {
    "id": "-hBrUMlKcQQd"
   },
   "source": [
    "# Network Retrieval\n",
    "Many public databases and multiple Cytoscape apps allow you to retrieve a network or pathway relevant to your data. For this workflow, we will use the STRING app. Some other options include:\n",
    "\n",
    "* WikiPathways\n",
    "* NDEx\n",
    "* GeneMANIA\n"
   ]
  },
  {
   "cell_type": "markdown",
   "metadata": {
    "id": "mh_ZgAJLcQQd"
   },
   "source": [
    "# Retrieve Networks from STRING\n",
    "To identify a relevant network, we will query the STRING database in two different ways:\n",
    "\n",
    "* Query STRING protein with the list of differentially expressed genes.\n",
    "* Query STRING disease for a keyword; ovarian cancer.\n",
    "The two examples are split into two separate workflows below."
   ]
  },
  {
   "cell_type": "markdown",
   "metadata": {
    "id": "m74mxBPgcQQe"
   },
   "source": [
    "# Import the required package"
   ]
  },
  {
   "cell_type": "code",
   "execution_count": null,
   "metadata": {
    "id": "x0zjWOvtcQQe"
   },
   "outputs": [],
   "source": [
    "import os\n",
    "import sys\n",
    "import pandas as pd\n",
    "pd.options.mode.chained_assignment = None"
   ]
  },
  {
   "cell_type": "markdown",
   "metadata": {
    "id": "qKvW9KnJcQQf"
   },
   "source": [
    "# Example 1: STRING Protein Query Up-regulated Genes"
   ]
  },
  {
   "cell_type": "markdown",
   "metadata": {
    "id": "4pSQXlfncQQf"
   },
   "source": [
    "* Load the file containing the data for up-regulated genes, TCGA-Ovarian-MesenvsImmuno_UP_full.csv:\n"
   ]
  },
  {
   "cell_type": "code",
   "execution_count": null,
   "metadata": {
    "colab": {
     "base_uri": "https://localhost:8080/",
     "height": 202
    },
    "id": "8yNNfLODcQQf",
    "outputId": "d770d88f-76df-4723-922e-36a4fb8579e8"
   },
   "outputs": [
    {
     "data": {
      "text/html": [
       "<div>\n",
       "<style scoped>\n",
       "    .dataframe tbody tr th:only-of-type {\n",
       "        vertical-align: middle;\n",
       "    }\n",
       "\n",
       "    .dataframe tbody tr th {\n",
       "        vertical-align: top;\n",
       "    }\n",
       "\n",
       "    .dataframe thead th {\n",
       "        text-align: right;\n",
       "    }\n",
       "</style>\n",
       "<table border=\"1\" class=\"dataframe\">\n",
       "  <thead>\n",
       "    <tr style=\"text-align: right;\">\n",
       "      <th></th>\n",
       "      <th>Gene</th>\n",
       "      <th>logFC</th>\n",
       "      <th>FDR adjusted Pvalue</th>\n",
       "    </tr>\n",
       "  </thead>\n",
       "  <tbody>\n",
       "    <tr>\n",
       "      <th>0</th>\n",
       "      <td>9543</td>\n",
       "      <td>6.086663</td>\n",
       "      <td>7.110000e-33</td>\n",
       "    </tr>\n",
       "    <tr>\n",
       "      <th>1</th>\n",
       "      <td>165</td>\n",
       "      <td>2.119808</td>\n",
       "      <td>3.260000e-30</td>\n",
       "    </tr>\n",
       "    <tr>\n",
       "      <th>2</th>\n",
       "      <td>2200</td>\n",
       "      <td>2.110410</td>\n",
       "      <td>1.210000e-29</td>\n",
       "    </tr>\n",
       "    <tr>\n",
       "      <th>3</th>\n",
       "      <td>1307</td>\n",
       "      <td>1.870070</td>\n",
       "      <td>2.530000e-29</td>\n",
       "    </tr>\n",
       "    <tr>\n",
       "      <th>4</th>\n",
       "      <td>633</td>\n",
       "      <td>1.863731</td>\n",
       "      <td>2.530000e-29</td>\n",
       "    </tr>\n",
       "  </tbody>\n",
       "</table>\n",
       "</div>"
      ],
      "text/plain": [
       "   Gene     logFC  FDR adjusted Pvalue\n",
       "0  9543  6.086663         7.110000e-33\n",
       "1   165  2.119808         3.260000e-30\n",
       "2  2200  2.110410         1.210000e-29\n",
       "3  1307  1.870070         2.530000e-29\n",
       "4   633  1.863731         2.530000e-29"
      ]
     },
     "execution_count": 6,
     "metadata": {
      "tags": []
     },
     "output_type": "execute_result"
    }
   ],
   "source": [
    "tcga_url = 'https://raw.githubusercontent.com/cytoscape/cytoscape-tutorials/gh-pages/protocols/data/TCGA-Ovarian-MesenvsImmuno-data-up.csv'\n",
    "tcga_df = pd.read_csv(tcga_url, sep = \"\\t\")\n",
    "tcga_df.head()"
   ]
  },
  {
   "cell_type": "markdown",
   "metadata": {
    "id": "tJIE4BWrcQQf"
   },
   "source": [
    "* We will use the identifiers in the first column of this datafile to run a STRING protein query, with confidence (score) cutoff of 0.4:"
   ]
  },
  {
   "cell_type": "code",
   "execution_count": null,
   "metadata": {
    "id": "tGGFolYAcQQf"
   },
   "outputs": [],
   "source": [
    "tcga_str = ','.join(str(v) for v in tcga_df[\"Gene\"])"
   ]
  },
  {
   "cell_type": "code",
   "execution_count": null,
   "metadata": {
    "id": "ZZ13FLEicQQf"
   },
   "outputs": [],
   "source": [
    "string_cmd_list = ['string protein query','query=\"',tcga_str,'\"', 'species=\"Homo sapiens\"', 'cutoff=0.4']"
   ]
  },
  {
   "cell_type": "code",
   "execution_count": null,
   "metadata": {
    "id": "p3Znp8yIcQQg"
   },
   "outputs": [],
   "source": [
    "string_cmd = \" \".join(string_cmd_list)"
   ]
  },
  {
   "cell_type": "code",
   "execution_count": null,
   "metadata": {
    "colab": {
     "base_uri": "https://localhost:8080/"
    },
    "id": "4tN2Q1W7cQQg",
    "outputId": "5364a8ae-adfa-4593-f553-aa22057d1fee"
   },
   "outputs": [
    {
     "data": {
      "text/plain": [
       "[\"Loaded network 'String Network' with 202 nodes and 919 edges\"]"
      ]
     },
     "execution_count": 10,
     "metadata": {
      "tags": []
     },
     "output_type": "execute_result"
    }
   ],
   "source": [
    "p4c.commands.commands_run(string_cmd)"
   ]
  },
  {
   "cell_type": "markdown",
   "metadata": {
    "id": "kK3kG7iscQQg"
   },
   "source": [
    "The resulting network will load automatically and contains up-regulated genes recognized by STRING, and interactions between them with an evidence score of 0.4 or greater."
   ]
  },
  {
   "cell_type": "markdown",
   "metadata": {
    "id": "bgkJ7SQLcQQg"
   },
   "source": [
    "We will select only the connected nodes to work with for the rest of this tutorial, by creating a subnetwork based on all edges:"
   ]
  },
  {
   "cell_type": "code",
   "execution_count": null,
   "metadata": {
    "colab": {
     "base_uri": "https://localhost:8080/"
    },
    "id": "ZBWN2ycqcQQg",
    "outputId": "85b7813f-0d41-4b33-c30a-f9de8a3cf06d"
   },
   "outputs": [
    {
     "data": {
      "text/plain": [
       "2331"
      ]
     },
     "execution_count": 11,
     "metadata": {
      "tags": []
     },
     "output_type": "execute_result"
    }
   ],
   "source": [
    "p4c.create_subnetwork(edges='all', subnetwork_name='String de genes up')"
   ]
  },
  {
   "cell_type": "markdown",
   "metadata": {
    "id": "QFZEaZcacQQg"
   },
   "source": [
    "# Data Integration\n",
    "Next we will import log fold changes and p-values from our TCGA dataset to create a visualization. Since the STRING network is a protein-protein network, it is annotated with protein identifiers (Uniprot and Ensembl protein), as well as HGNC gene symbols. Our data from TCGA has NCBI Gene identifiers (formerly Entrez), so before importing the data we are going to use the ID Mapper functionality in Cytoscape to map the network to NCBI Gene."
   ]
  },
  {
   "cell_type": "code",
   "execution_count": null,
   "metadata": {
    "id": "6UEJf0cHcQQh"
   },
   "outputs": [],
   "source": [
    "mapped_cols = p4c.map_table_column('display name', 'Human', 'HGNC', 'Entrez Gene')"
   ]
  },
  {
   "cell_type": "code",
   "execution_count": null,
   "metadata": {
    "colab": {
     "base_uri": "https://localhost:8080/",
     "height": 202
    },
    "id": "N8HydkpzcQQh",
    "outputId": "c1b8a868-46bf-42dd-abeb-f09ec8fb0d14"
   },
   "outputs": [
    {
     "data": {
      "text/html": [
       "<div>\n",
       "<style scoped>\n",
       "    .dataframe tbody tr th:only-of-type {\n",
       "        vertical-align: middle;\n",
       "    }\n",
       "\n",
       "    .dataframe tbody tr th {\n",
       "        vertical-align: top;\n",
       "    }\n",
       "\n",
       "    .dataframe thead th {\n",
       "        text-align: right;\n",
       "    }\n",
       "</style>\n",
       "<table border=\"1\" class=\"dataframe\">\n",
       "  <thead>\n",
       "    <tr style=\"text-align: right;\">\n",
       "      <th></th>\n",
       "      <th>Gene</th>\n",
       "      <th>logFC</th>\n",
       "      <th>FDR adjusted Pvalue</th>\n",
       "    </tr>\n",
       "  </thead>\n",
       "  <tbody>\n",
       "    <tr>\n",
       "      <th>0</th>\n",
       "      <td>9543</td>\n",
       "      <td>6.086663</td>\n",
       "      <td>7.110000e-33</td>\n",
       "    </tr>\n",
       "    <tr>\n",
       "      <th>1</th>\n",
       "      <td>84168</td>\n",
       "      <td>1.647298</td>\n",
       "      <td>2.520000e-32</td>\n",
       "    </tr>\n",
       "    <tr>\n",
       "      <th>2</th>\n",
       "      <td>165</td>\n",
       "      <td>2.119808</td>\n",
       "      <td>3.260000e-30</td>\n",
       "    </tr>\n",
       "    <tr>\n",
       "      <th>3</th>\n",
       "      <td>23452</td>\n",
       "      <td>1.548527</td>\n",
       "      <td>1.180000e-29</td>\n",
       "    </tr>\n",
       "    <tr>\n",
       "      <th>4</th>\n",
       "      <td>2200</td>\n",
       "      <td>2.110410</td>\n",
       "      <td>1.210000e-29</td>\n",
       "    </tr>\n",
       "  </tbody>\n",
       "</table>\n",
       "</div>"
      ],
      "text/plain": [
       "    Gene     logFC  FDR adjusted Pvalue\n",
       "0   9543  6.086663         7.110000e-33\n",
       "1  84168  1.647298         2.520000e-32\n",
       "2    165  2.119808         3.260000e-30\n",
       "3  23452  1.548527         1.180000e-29\n",
       "4   2200  2.110410         1.210000e-29"
      ]
     },
     "execution_count": 13,
     "metadata": {
      "tags": []
     },
     "output_type": "execute_result"
    }
   ],
   "source": [
    "full_url = 'https://raw.githubusercontent.com/cytoscape/cytoscape-tutorials/gh-pages/protocols/data/TCGA-Ovarian-MesenvsImmuno_data.csv'\n",
    "full_df = pd.read_csv(full_url,  dtype={'Gene':str})\n",
    "full_df.head()"
   ]
  },
  {
   "cell_type": "code",
   "execution_count": null,
   "metadata": {
    "colab": {
     "base_uri": "https://localhost:8080/",
     "height": 35
    },
    "id": "72z-sjgfcQQh",
    "outputId": "027f954a-50c7-4e9d-af25-409dc9a68382"
   },
   "outputs": [
    {
     "data": {
      "application/vnd.google.colaboratory.intrinsic+json": {
       "type": "string"
      },
      "text/plain": [
       "'Success: Data loaded in defaultnode table'"
      ]
     },
     "execution_count": 14,
     "metadata": {
      "tags": []
     },
     "output_type": "execute_result"
    }
   ],
   "source": [
    "p4c.load_table_data(full_df, data_key_column='Gene', table_key_column='Entrez Gene')"
   ]
  },
  {
   "cell_type": "code",
   "execution_count": null,
   "metadata": {
    "colab": {
     "base_uri": "https://localhost:8080/"
    },
    "id": "2raWnZP7cQQh",
    "outputId": "6dff02da-c759-4b67-d1f3-ddaa795e29a9"
   },
   "outputs": [
    {
     "data": {
      "text/plain": [
       "['SUID',\n",
       " 'shared name',\n",
       " 'stringdb::canonical name',\n",
       " 'display name',\n",
       " 'stringdb::full name',\n",
       " 'stringdb::database identifier',\n",
       " 'stringdb::description',\n",
       " '@id',\n",
       " 'stringdb::namespace',\n",
       " 'stringdb::node type',\n",
       " 'query term',\n",
       " 'stringdb::sequence',\n",
       " 'stringdb::species',\n",
       " 'stringdb::STRING style',\n",
       " 'stringdb::enhancedLabel Passthrough',\n",
       " 'compartment::cytoskeleton',\n",
       " 'compartment::cytosol',\n",
       " 'compartment::endoplasmic reticulum',\n",
       " 'compartment::endosome',\n",
       " 'compartment::extracellular',\n",
       " 'compartment::golgi apparatus',\n",
       " 'compartment::lysosome',\n",
       " 'compartment::mitochondrion',\n",
       " 'compartment::nucleus',\n",
       " 'compartment::peroxisome',\n",
       " 'compartment::plasma membrane',\n",
       " 'stringdb::interactor score',\n",
       " 'stringdb::structures',\n",
       " 'target::development level',\n",
       " 'target::family',\n",
       " 'tissue::adrenal gland',\n",
       " 'tissue::blood',\n",
       " 'tissue::bone',\n",
       " 'tissue::bone marrow',\n",
       " 'tissue::eye',\n",
       " 'tissue::gall bladder',\n",
       " 'tissue::heart',\n",
       " 'tissue::intestine',\n",
       " 'tissue::kidney',\n",
       " 'tissue::liver',\n",
       " 'tissue::lung',\n",
       " 'tissue::muscle',\n",
       " 'tissue::nervous system',\n",
       " 'tissue::pancreas',\n",
       " 'tissue::saliva',\n",
       " 'tissue::skin',\n",
       " 'tissue::spleen',\n",
       " 'tissue::stomach',\n",
       " 'tissue::thyroid gland',\n",
       " 'tissue::urine',\n",
       " 'name',\n",
       " 'selected',\n",
       " 'Entrez Gene',\n",
       " 'Gene',\n",
       " 'logFC',\n",
       " 'FDR adjusted Pvalue']"
      ]
     },
     "execution_count": 15,
     "metadata": {
      "tags": []
     },
     "output_type": "execute_result"
    }
   ],
   "source": [
    "p4c.get_table_column_names('node')"
   ]
  },
  {
   "cell_type": "markdown",
   "metadata": {
    "id": "OkA3HPLvcQQh"
   },
   "source": [
    "# Visualization\n",
    "Next, we will create a visualization of the imported data on the network."
   ]
  },
  {
   "cell_type": "code",
   "execution_count": null,
   "metadata": {
    "colab": {
     "base_uri": "https://localhost:8080/",
     "height": 35
    },
    "id": "DEtlV-0vcQQh",
    "outputId": "78e2cbde-0efa-4e27-88cd-9a83f6ba611e"
   },
   "outputs": [
    {
     "data": {
      "application/vnd.google.colaboratory.intrinsic+json": {
       "type": "string"
      },
      "text/plain": [
       "''"
      ]
     },
     "execution_count": 16,
     "metadata": {
      "tags": []
     },
     "output_type": "execute_result"
    }
   ],
   "source": [
    "p4c.set_visual_style('default')\n",
    "p4c.set_node_shape_default('ELLIPSE', style_name='default')\n",
    "p4c.lock_node_dimensions(True, style_name='default')\n",
    "p4c.set_node_size_default(50, style_name='default')\n",
    "p4c.set_node_color_default('#D3D3D3', style_name='default')\n",
    "p4c.set_node_border_width_default(2, style_name='default')\n",
    "p4c.set_node_color_default('#616060', style_name='default')\n",
    "p4c.set_node_label_mapping('display name', style_name='default')\n",
    "p4c.set_node_font_size_default(14, style_name='default')"
   ]
  },
  {
   "cell_type": "markdown",
   "metadata": {
    "id": "aOhGA1AzcQQi"
   },
   "source": [
    "Before we create a mapping for node color representing the range of fold changes, we need the min and max of the logFC column:"
   ]
  },
  {
   "cell_type": "code",
   "execution_count": null,
   "metadata": {
    "colab": {
     "base_uri": "https://localhost:8080/",
     "height": 202
    },
    "id": "3JUQQ05YcQQi",
    "outputId": "5c93d739-9957-472c-f0ad-5ed769cf099b"
   },
   "outputs": [
    {
     "data": {
      "text/html": [
       "<div>\n",
       "<style scoped>\n",
       "    .dataframe tbody tr th:only-of-type {\n",
       "        vertical-align: middle;\n",
       "    }\n",
       "\n",
       "    .dataframe tbody tr th {\n",
       "        vertical-align: top;\n",
       "    }\n",
       "\n",
       "    .dataframe thead th {\n",
       "        text-align: right;\n",
       "    }\n",
       "</style>\n",
       "<table border=\"1\" class=\"dataframe\">\n",
       "  <thead>\n",
       "    <tr style=\"text-align: right;\">\n",
       "      <th></th>\n",
       "      <th>logFC</th>\n",
       "    </tr>\n",
       "  </thead>\n",
       "  <tbody>\n",
       "    <tr>\n",
       "      <th>256</th>\n",
       "      <td>2.03176</td>\n",
       "    </tr>\n",
       "    <tr>\n",
       "      <th>258</th>\n",
       "      <td>1.99631</td>\n",
       "    </tr>\n",
       "    <tr>\n",
       "      <th>259</th>\n",
       "      <td>2.1086</td>\n",
       "    </tr>\n",
       "    <tr>\n",
       "      <th>260</th>\n",
       "      <td>2.11025</td>\n",
       "    </tr>\n",
       "    <tr>\n",
       "      <th>261</th>\n",
       "      <td>1.93418</td>\n",
       "    </tr>\n",
       "  </tbody>\n",
       "</table>\n",
       "</div>"
      ],
      "text/plain": [
       "       logFC\n",
       "256  2.03176\n",
       "258  1.99631\n",
       "259   2.1086\n",
       "260  2.11025\n",
       "261  1.93418"
      ]
     },
     "execution_count": 17,
     "metadata": {
      "tags": []
     },
     "output_type": "execute_result"
    }
   ],
   "source": [
    "logFC_table_up = p4c.get_table_columns('node', columns=['logFC'])\n",
    "logFC_table_up.head()"
   ]
  },
  {
   "cell_type": "code",
   "execution_count": null,
   "metadata": {
    "colab": {
     "base_uri": "https://localhost:8080/"
    },
    "id": "Vi4JdadzcQQi",
    "outputId": "8299adf8-1a77-4c65-848d-c79e09010d45"
   },
   "outputs": [
    {
     "data": {
      "text/plain": [
       "3.1724948505"
      ]
     },
     "execution_count": 18,
     "metadata": {
      "tags": []
     },
     "output_type": "execute_result"
    }
   ],
   "source": [
    "logFC_up_min = min(logFC_table_up['logFC'])\n",
    "logFC_up_max = max(logFC_table_up['logFC'])\n",
    "logFC_up_center = logFC_up_min + (logFC_up_max - logFC_up_min)/2\n",
    "logFC_up_center"
   ]
  },
  {
   "cell_type": "code",
   "execution_count": null,
   "metadata": {
    "colab": {
     "base_uri": "https://localhost:8080/"
    },
    "id": "QygMysz0cQQi",
    "outputId": "19455d21-5023-4c29-a1cd-d0da6a952098"
   },
   "outputs": [
    {
     "data": {
      "text/plain": [
       "{'message': 'Visual Style applied.'}"
      ]
     },
     "execution_count": 19,
     "metadata": {
      "tags": []
     },
     "output_type": "execute_result"
    }
   ],
   "source": [
    "p4c.copy_visual_style('default', 'de genes up')\n",
    "p4c.set_visual_style('de genes up')"
   ]
  },
  {
   "cell_type": "code",
   "execution_count": null,
   "metadata": {
    "colab": {
     "base_uri": "https://localhost:8080/",
     "height": 35
    },
    "id": "vTG8MCy2cQQi",
    "outputId": "c3a86a04-96d8-4f4c-d129-314803f8721f"
   },
   "outputs": [
    {
     "data": {
      "application/vnd.google.colaboratory.intrinsic+json": {
       "type": "string"
      },
      "text/plain": [
       "''"
      ]
     },
     "execution_count": 20,
     "metadata": {
      "tags": []
     },
     "output_type": "execute_result"
    }
   ],
   "source": [
    "data_values = [logFC_up_min, logFC_up_center, logFC_up_max]\n",
    "p4c.set_node_color_mapping('logFC', data_values, ['#fecc5c', '#fd8d3c', '#f03b20'], style_name='de genes up')"
   ]
  },
  {
   "cell_type": "markdown",
   "metadata": {
    "id": "w47YVkL6cQQj"
   },
   "source": [
    "Applying a force-directed layout, the network will now look something like this:\n",
    "\n"
   ]
  },
  {
   "cell_type": "code",
   "execution_count": null,
   "metadata": {
    "colab": {
     "base_uri": "https://localhost:8080/"
    },
    "id": "d7HtdU6xcQQk",
    "outputId": "3caf35b2-c025-4116-c79f-603272d6724a"
   },
   "outputs": [
    {
     "data": {
      "text/plain": [
       "{}"
      ]
     },
     "execution_count": 21,
     "metadata": {
      "tags": []
     },
     "output_type": "execute_result"
    }
   ],
   "source": [
    "p4c.layout_network('force-directed')"
   ]
  },
  {
   "cell_type": "markdown",
   "metadata": {
    "id": "YmmYUzbycQQk"
   },
   "source": [
    "# Enrichment Analysis Options\n",
    "Next, we are going to perform enrichment anlaysis uing the STRING app.\n",
    "\n",
    "# STRING Enrichment\n",
    "The STRING app has built-in enrichment analysis functionality, which includes enrichment for GO Process, GO Component, GO Function, InterPro, KEGG Pathways, and PFAM.\n",
    "\n",
    "First, we will run the enrichment on the whole network, against the genome:"
   ]
  },
  {
   "cell_type": "code",
   "execution_count": null,
   "metadata": {
    "colab": {
     "base_uri": "https://localhost:8080/"
    },
    "id": "DXtK7VeacQQk",
    "outputId": "76da9cf2-1cee-4d07-d6d2-512175e16298"
   },
   "outputs": [
    {
     "data": {
      "text/plain": [
       "['Enrichment results summary:',\n",
       " 'ppiEnrichment=1.0E-16',\n",
       " 'enrichmentNodes=169',\n",
       " 'enrichmentExpectedEdges=128',\n",
       " 'enrichmentEdges=919',\n",
       " 'enrichmentClusteringCoeff=0.586372912384611',\n",
       " 'enrichmentAvgDegree=10.8757396449704']"
      ]
     },
     "execution_count": 22,
     "metadata": {
      "tags": []
     },
     "output_type": "execute_result"
    }
   ],
   "source": [
    "string_cmd = 'string retrieve enrichment allNetSpecies=\"Homo sapiens\", background=genome  selectedNodesOnly=\"false\"'\n",
    "p4c.commands.commands_run(string_cmd)"
   ]
  },
  {
   "cell_type": "code",
   "execution_count": null,
   "metadata": {
    "colab": {
     "base_uri": "https://localhost:8080/"
    },
    "id": "CqfyVl_-cQQk",
    "outputId": "6a4c8188-091d-49f3-fa35-6a62b6d2101e"
   },
   "outputs": [
    {
     "data": {
      "text/plain": [
       "[]"
      ]
     },
     "execution_count": 23,
     "metadata": {
      "tags": []
     },
     "output_type": "execute_result"
    }
   ],
   "source": [
    "string_cmd = 'string show enrichment'\n",
    "p4c.commands.commands_run(string_cmd)"
   ]
  },
  {
   "cell_type": "markdown",
   "metadata": {
    "id": "wTGKDHkpcQQl"
   },
   "source": [
    "When the enrichment analysis is complete, a new tab titled STRING Enrichment will open in the Table Panel.\n",
    "\n"
   ]
  },
  {
   "cell_type": "markdown",
   "metadata": {
    "id": "7aHIL2SHcQQl"
   },
   "source": [
    "The STRING app includes several options for filtering and displaying the enrichment results. The features are all available at the top of the STRING Enrichment tab.\n",
    "\n",
    "We are going to filter the table to only show GO Process:"
   ]
  },
  {
   "cell_type": "code",
   "execution_count": null,
   "metadata": {
    "colab": {
     "base_uri": "https://localhost:8080/"
    },
    "id": "l6VzQ9qjcQQl",
    "outputId": "671ef97f-d7e8-4b86-9aa5-9d6b7cbf0fd9"
   },
   "outputs": [
    {
     "data": {
      "text/plain": [
       "['']"
      ]
     },
     "execution_count": 24,
     "metadata": {
      "tags": []
     },
     "output_type": "execute_result"
    }
   ],
   "source": [
    "string_cmd = 'string filter enrichment categories=\"GO Process\", overlapCutoff = \"0.5\", removeOverlapping = \"true\"'\n",
    "p4c.commands.commands_run(string_cmd)"
   ]
  },
  {
   "cell_type": "markdown",
   "metadata": {
    "id": "ASsv9S0pcQQl"
   },
   "source": [
    "Next, we will add a split donut chart to the nodes representing the top terms:\n",
    "\n"
   ]
  },
  {
   "cell_type": "code",
   "execution_count": null,
   "metadata": {
    "colab": {
     "base_uri": "https://localhost:8080/"
    },
    "id": "EpjElNhTcQQl",
    "outputId": "8522c5ed-346e-4953-ada3-825835453b4b"
   },
   "outputs": [
    {
     "data": {
      "text/plain": [
       "['']"
      ]
     },
     "execution_count": 25,
     "metadata": {
      "tags": []
     },
     "output_type": "execute_result"
    }
   ],
   "source": [
    "string_cmd = 'string show charts'\n",
    "p4c.commands.commands_run(string_cmd)"
   ]
  },
  {
   "cell_type": "markdown",
   "metadata": {
    "id": "TNSoXFb1cQQl"
   },
   "source": [
    "# STRING Protein Query: Down-regulated genes\n",
    "We are going to repeat the network search, data integration, visualization and enrichment analysis for the set of down-regulated genes by using the first column of TCGA-Ovarian-MesenvsImmuno-data-down.csv:\n",
    "\n"
   ]
  },
  {
   "cell_type": "code",
   "execution_count": null,
   "metadata": {
    "colab": {
     "base_uri": "https://localhost:8080/",
     "height": 202
    },
    "id": "GLoVEvbVcQQl",
    "outputId": "6058c3c0-d552-430a-8678-769b7ad78301"
   },
   "outputs": [
    {
     "data": {
      "text/html": [
       "<div>\n",
       "<style scoped>\n",
       "    .dataframe tbody tr th:only-of-type {\n",
       "        vertical-align: middle;\n",
       "    }\n",
       "\n",
       "    .dataframe tbody tr th {\n",
       "        vertical-align: top;\n",
       "    }\n",
       "\n",
       "    .dataframe thead th {\n",
       "        text-align: right;\n",
       "    }\n",
       "</style>\n",
       "<table border=\"1\" class=\"dataframe\">\n",
       "  <thead>\n",
       "    <tr style=\"text-align: right;\">\n",
       "      <th></th>\n",
       "      <th>Gene</th>\n",
       "      <th>logFC</th>\n",
       "      <th>FDR adjusted Pvalue</th>\n",
       "    </tr>\n",
       "  </thead>\n",
       "  <tbody>\n",
       "    <tr>\n",
       "      <th>0</th>\n",
       "      <td>5698</td>\n",
       "      <td>-1.548465</td>\n",
       "      <td>4.710000e-17</td>\n",
       "    </tr>\n",
       "    <tr>\n",
       "      <th>1</th>\n",
       "      <td>115361</td>\n",
       "      <td>-1.587242</td>\n",
       "      <td>1.110000e-16</td>\n",
       "    </tr>\n",
       "    <tr>\n",
       "      <th>2</th>\n",
       "      <td>6890</td>\n",
       "      <td>-1.370056</td>\n",
       "      <td>1.360000e-16</td>\n",
       "    </tr>\n",
       "    <tr>\n",
       "      <th>3</th>\n",
       "      <td>5016</td>\n",
       "      <td>-4.479275</td>\n",
       "      <td>3.520000e-16</td>\n",
       "    </tr>\n",
       "    <tr>\n",
       "      <th>4</th>\n",
       "      <td>389903</td>\n",
       "      <td>-3.702067</td>\n",
       "      <td>1.590000e-15</td>\n",
       "    </tr>\n",
       "  </tbody>\n",
       "</table>\n",
       "</div>"
      ],
      "text/plain": [
       "     Gene     logFC  FDR adjusted Pvalue\n",
       "0    5698 -1.548465         4.710000e-17\n",
       "1  115361 -1.587242         1.110000e-16\n",
       "2    6890 -1.370056         1.360000e-16\n",
       "3    5016 -4.479275         3.520000e-16\n",
       "4  389903 -3.702067         1.590000e-15"
      ]
     },
     "execution_count": 26,
     "metadata": {
      "tags": []
     },
     "output_type": "execute_result"
    }
   ],
   "source": [
    "tcga_down_url = \"https://cytoscape.github.io/cytoscape-tutorials/protocols/data/TCGA-Ovarian-MesenvsImmuno-data-down.csv\"\n",
    "tcga_down_df = pd.read_csv(tcga_down_url)\n",
    "tcga_down_df.head()"
   ]
  },
  {
   "cell_type": "code",
   "execution_count": null,
   "metadata": {
    "id": "6-6IcG5zcQQm"
   },
   "outputs": [],
   "source": [
    "tcga_down_str = ','.join(str(v) for v in tcga_down_df[\"Gene\"])"
   ]
  },
  {
   "cell_type": "code",
   "execution_count": null,
   "metadata": {
    "colab": {
     "base_uri": "https://localhost:8080/"
    },
    "id": "XsecFamDcQQm",
    "outputId": "df8f9c46-ab50-4dbe-ee67-ad32ba3fa4e8"
   },
   "outputs": [
    {
     "data": {
      "text/plain": [
       "[\"Loaded network 'String Network - 1' with 168 nodes and 747 edges\"]"
      ]
     },
     "execution_count": 28,
     "metadata": {
      "tags": []
     },
     "output_type": "execute_result"
    }
   ],
   "source": [
    "string_cmd_list = ['string protein query','query=\"',tcga_down_str,'\"', 'species=\"Homo sapiens\"', 'cutoff=0.4']\n",
    "string_cmd = \" \".join(string_cmd_list)\n",
    "p4c.commands.commands_run(string_cmd)"
   ]
  },
  {
   "cell_type": "markdown",
   "metadata": {
    "id": "_IrDWvdPcQQm"
   },
   "source": [
    "# Subnetwork\n",
    "Let’s select only the connected nodes to work with for the rest of this tutorial, by creating a subnetwork based on all edges:"
   ]
  },
  {
   "cell_type": "code",
   "execution_count": null,
   "metadata": {
    "colab": {
     "base_uri": "https://localhost:8080/"
    },
    "id": "1M5Bu1PMcQQm",
    "outputId": "78829290-b8c5-4a0c-f8e1-45d28a389b5f"
   },
   "outputs": [
    {
     "data": {
      "text/plain": [
       "5289"
      ]
     },
     "execution_count": 29,
     "metadata": {
      "tags": []
     },
     "output_type": "execute_result"
    }
   ],
   "source": [
    "p4c.create_subnetwork(edges='all', subnetwork_name='String de genes down')"
   ]
  },
  {
   "cell_type": "markdown",
   "metadata": {
    "id": "xS8gTYlhcQQm"
   },
   "source": [
    "# Data integration\n",
    "Again, the identifiers in the network needs to be mapped to Entrez Gene (NCBI gene):\n",
    "\n"
   ]
  },
  {
   "cell_type": "code",
   "execution_count": null,
   "metadata": {
    "id": "LNz_TrG0cQQn"
   },
   "outputs": [],
   "source": [
    "mapped_cols = p4c.map_table_column('display name', 'Human', 'HGNC', 'Entrez Gene')"
   ]
  },
  {
   "cell_type": "code",
   "execution_count": null,
   "metadata": {
    "colab": {
     "base_uri": "https://localhost:8080/"
    },
    "id": "OhT5O6sDcQQn",
    "outputId": "07da216f-8fab-4a84-eff5-f78d4e10890f"
   },
   "outputs": [
    {
     "data": {
      "application/vnd.google.colaboratory.intrinsic+json": {
       "type": "string"
      },
      "text/plain": [
       "'Success: Data loaded in defaultnode table'"
      ]
     },
     "execution_count": 31,
     "metadata": {
      "tags": []
     },
     "output_type": "execute_result"
    }
   ],
   "source": [
    "p4c.load_table_data(full_df, data_key_column='Gene', table_key_column='Entrez Gene')"
   ]
  },
  {
   "cell_type": "markdown",
   "metadata": {
    "id": "AX2p98kOcQQn"
   },
   "source": [
    "# Visualization\n",
    "Next, we can create a visualization. Note that the default style has been altered in the previous example, so we can simply switch to default to get started:"
   ]
  },
  {
   "cell_type": "code",
   "execution_count": null,
   "metadata": {
    "colab": {
     "base_uri": "https://localhost:8080/"
    },
    "id": "VgR2wf8fcQQn",
    "outputId": "6dd59f5c-9a88-454e-b7b4-876e9cebe62e"
   },
   "outputs": [
    {
     "data": {
      "text/plain": [
       "{'message': 'Visual Style applied.'}"
      ]
     },
     "execution_count": 32,
     "metadata": {
      "tags": []
     },
     "output_type": "execute_result"
    }
   ],
   "source": [
    "p4c.set_visual_style('default')"
   ]
  },
  {
   "cell_type": "markdown",
   "metadata": {
    "id": "yvjfIHL1cQQn"
   },
   "source": [
    "The node fill color has to be redefined for down-regulated genes:\n",
    "\n"
   ]
  },
  {
   "cell_type": "code",
   "execution_count": null,
   "metadata": {
    "colab": {
     "base_uri": "https://localhost:8080/"
    },
    "id": "UCtYvlkccQQn",
    "outputId": "d15a1718-cd4c-4d13-8dff-c8f5091b6598"
   },
   "outputs": [
    {
     "data": {
      "text/plain": [
       "-1.7331387185"
      ]
     },
     "execution_count": 33,
     "metadata": {
      "tags": []
     },
     "output_type": "execute_result"
    }
   ],
   "source": [
    "logFC_table_down = p4c.get_table_columns('node', columns=['logFC'])\n",
    "logFC_down_min = min(logFC_table_down['logFC'])\n",
    "logFC_down_max = max(logFC_table_down['logFC'])\n",
    "logFC_down_center = logFC_down_min + (logFC_down_max - logFC_down_min)/2\n",
    "logFC_down_center"
   ]
  },
  {
   "cell_type": "code",
   "execution_count": null,
   "metadata": {
    "colab": {
     "base_uri": "https://localhost:8080/"
    },
    "id": "Xylb8mC5cQQo",
    "outputId": "6d72b01c-0575-4d2c-d503-fe00097e4aa8"
   },
   "outputs": [
    {
     "data": {
      "text/plain": [
       "{'message': 'Visual Style applied.'}"
      ]
     },
     "execution_count": 34,
     "metadata": {
      "tags": []
     },
     "output_type": "execute_result"
    }
   ],
   "source": [
    "p4c.copy_visual_style('default', 'de genes down')\n",
    "p4c.set_visual_style('de genes down')"
   ]
  },
  {
   "cell_type": "code",
   "execution_count": null,
   "metadata": {
    "colab": {
     "base_uri": "https://localhost:8080/",
     "height": 35
    },
    "id": "EVwagqMdcQQo",
    "outputId": "f0492fb4-84fa-47cf-f9f5-1b8dc26dd1c8"
   },
   "outputs": [
    {
     "data": {
      "application/vnd.google.colaboratory.intrinsic+json": {
       "type": "string"
      },
      "text/plain": [
       "''"
      ]
     },
     "execution_count": 35,
     "metadata": {
      "tags": []
     },
     "output_type": "execute_result"
    }
   ],
   "source": [
    "data_values = [logFC_down_min, logFC_down_center, logFC_down_max]\n",
    "p4c.set_node_color_mapping('logFC', data_values, ['#deebf7', '#9ecae1', '#3182bd'], style_name='de genes down')"
   ]
  },
  {
   "cell_type": "markdown",
   "metadata": {
    "id": "xYCqKgF7cQQo"
   },
   "source": [
    "Apply a force-directed layout.\n",
    "\n"
   ]
  },
  {
   "cell_type": "code",
   "execution_count": null,
   "metadata": {
    "colab": {
     "base_uri": "https://localhost:8080/"
    },
    "id": "7djXiHHzcQQp",
    "outputId": "d7690ee1-cebe-4b1b-a776-321a146e4725"
   },
   "outputs": [
    {
     "data": {
      "text/plain": [
       "{}"
      ]
     },
     "execution_count": 36,
     "metadata": {
      "tags": []
     },
     "output_type": "execute_result"
    }
   ],
   "source": [
    "p4c.layout_network('force-directed')"
   ]
  },
  {
   "cell_type": "markdown",
   "metadata": {
    "id": "5zWx_DIycQQp"
   },
   "source": [
    "# STRING Enrichment\n",
    "Now we can perform STRING Enrichment analysis on the resulting network:"
   ]
  },
  {
   "cell_type": "code",
   "execution_count": null,
   "metadata": {
    "colab": {
     "base_uri": "https://localhost:8080/"
    },
    "id": "izBbrJhJcQQp",
    "outputId": "010e74d1-0fd4-44df-9cce-c9feba2c43ce"
   },
   "outputs": [
    {
     "data": {
      "text/plain": [
       "['Enrichment results summary:',\n",
       " 'ppiEnrichment=1.0E-16',\n",
       " 'enrichmentNodes=120',\n",
       " 'enrichmentExpectedEdges=102',\n",
       " 'enrichmentEdges=747',\n",
       " 'enrichmentClusteringCoeff=0.644168434370206',\n",
       " 'enrichmentAvgDegree=12.45']"
      ]
     },
     "execution_count": 37,
     "metadata": {
      "tags": []
     },
     "output_type": "execute_result"
    }
   ],
   "source": [
    "string_cmd = 'string retrieve enrichment allNetSpecies=\"Homo sapiens\", background=genome  selectedNodesOnly=\"false\"'\n",
    "p4c.commands.commands_run(string_cmd)"
   ]
  },
  {
   "cell_type": "markdown",
   "metadata": {
    "id": "-CSU83uhcQQp"
   },
   "source": [
    "Filter the analysis results for non-redundant GO Process terms only."
   ]
  },
  {
   "cell_type": "code",
   "execution_count": null,
   "metadata": {
    "colab": {
     "base_uri": "https://localhost:8080/"
    },
    "id": "kFG5jP7EcQQp",
    "outputId": "da5edb22-3df9-4860-f1eb-264ddc2d3e52"
   },
   "outputs": [
    {
     "data": {
      "text/plain": [
       "['']"
      ]
     },
     "execution_count": 38,
     "metadata": {
      "tags": []
     },
     "output_type": "execute_result"
    }
   ],
   "source": [
    "string_cmd = 'string filter enrichment categories=\"GO Process\", overlapCutoff = \"0.5\", removeOverlapping = \"true\"'\n",
    "p4c.commands.commands_run(string_cmd)"
   ]
  },
  {
   "cell_type": "code",
   "execution_count": null,
   "metadata": {
    "colab": {
     "base_uri": "https://localhost:8080/"
    },
    "id": "YR-lVPfecQQp",
    "outputId": "1c357ae5-a328-400b-a1f1-d1286108d838"
   },
   "outputs": [
    {
     "data": {
      "text/plain": [
       "['']"
      ]
     },
     "execution_count": 39,
     "metadata": {
      "tags": []
     },
     "output_type": "execute_result"
    }
   ],
   "source": [
    "string_cmd = 'string show charts'\n",
    "p4c.commands.commands_run(string_cmd)"
   ]
  },
  {
   "cell_type": "markdown",
   "metadata": {
    "id": "LWzt4uWxcQQq"
   },
   "source": [
    "# STRING Disease Query\n",
    "So far, we queried the STRING database with a set of genes we knew were differentially expressed. Next, we will query the STRING disease database to retrieve a network genes associated with ovarian cancer, which will be completely independent of our dataset."
   ]
  },
  {
   "cell_type": "code",
   "execution_count": null,
   "metadata": {
    "colab": {
     "base_uri": "https://localhost:8080/"
    },
    "id": "Io2hC2JTcQQq",
    "outputId": "44bf26e0-c86b-4705-806e-8eccc11c3843"
   },
   "outputs": [
    {
     "data": {
      "text/plain": [
       "[\"Loaded network 'String Network - ovarian cancer' with 100 nodes and 316 edges\"]"
      ]
     },
     "execution_count": 40,
     "metadata": {
      "tags": []
     },
     "output_type": "execute_result"
    }
   ],
   "source": [
    "string_cmd = 'string disease query disease=\"ovarian cancer\" cutoff=\"0.95\"'\n",
    "p4c.commands.commands_run(string_cmd)"
   ]
  },
  {
   "cell_type": "markdown",
   "metadata": {
    "id": "EgVoXhQYcQQq"
   },
   "source": [
    "This will bring in the top 100 (default) ovarian cancer associated genes connected with a confidence score greater than 0.95. Again, lets extract out the connected nodes:"
   ]
  },
  {
   "cell_type": "code",
   "execution_count": null,
   "metadata": {
    "colab": {
     "base_uri": "https://localhost:8080/"
    },
    "id": "o-HEnaBdcQQq",
    "outputId": "15b28cf9-94b4-4018-832e-eb8af69d4a71"
   },
   "outputs": [
    {
     "data": {
      "text/plain": [
       "7027"
      ]
     },
     "execution_count": 41,
     "metadata": {
      "tags": []
     },
     "output_type": "execute_result"
    }
   ],
   "source": [
    "p4c.create_subnetwork(edges='all', subnetwork_name='String ovarian sub')"
   ]
  },
  {
   "cell_type": "markdown",
   "metadata": {
    "id": "z8bLR-p_cQQq"
   },
   "source": [
    "# Data integration\n",
    "Next we will import differential gene expression data from our TCGA dataset to create a visualization. Just like the previous example, we will need to do some identifier mapping to match the data to the network."
   ]
  },
  {
   "cell_type": "code",
   "execution_count": null,
   "metadata": {
    "id": "RW8xrMPVcQQq"
   },
   "outputs": [],
   "source": [
    "mapped_cols = p4c.map_table_column('display name', 'Human', 'HGNC', 'Entrez Gene')"
   ]
  },
  {
   "cell_type": "markdown",
   "metadata": {
    "id": "xFzaCVRxcQQq"
   },
   "source": [
    "Here we set Human as species, HGNC as Map from, and Entrez Gene as To.\n",
    "\n",
    "We can now import the data frame with the full data (already loaded the data in Example 1 above) into the node table in Cytoscape:"
   ]
  },
  {
   "cell_type": "code",
   "execution_count": null,
   "metadata": {
    "colab": {
     "base_uri": "https://localhost:8080/",
     "height": 35
    },
    "id": "ydwzrbaccQQq",
    "outputId": "2cde443e-3fc2-42ce-d7b9-ce6128310f3c"
   },
   "outputs": [
    {
     "data": {
      "application/vnd.google.colaboratory.intrinsic+json": {
       "type": "string"
      },
      "text/plain": [
       "'Success: Data loaded in defaultnode table'"
      ]
     },
     "execution_count": 43,
     "metadata": {
      "tags": []
     },
     "output_type": "execute_result"
    }
   ],
   "source": [
    "p4c.load_table_data(full_df, data_key_column='Gene', table_key_column='Entrez Gene')"
   ]
  },
  {
   "cell_type": "markdown",
   "metadata": {
    "id": "MEmBhYIXcQQq"
   },
   "source": [
    "# Visualization\n",
    "Again, we can create a visualization:"
   ]
  },
  {
   "cell_type": "code",
   "execution_count": null,
   "metadata": {
    "colab": {
     "base_uri": "https://localhost:8080/"
    },
    "id": "u0w7TSnmcQQr",
    "outputId": "fc000e2e-c92a-47f7-a72d-1f0a8bdf5eb8"
   },
   "outputs": [
    {
     "data": {
      "text/plain": [
       "{'message': 'Visual Style applied.'}"
      ]
     },
     "execution_count": 44,
     "metadata": {
      "tags": []
     },
     "output_type": "execute_result"
    }
   ],
   "source": [
    "p4c.set_visual_style('default')"
   ]
  },
  {
   "cell_type": "markdown",
   "metadata": {
    "id": "A9oyRm_ecQQr"
   },
   "source": [
    "Next, we need the min and max of the logFC column:\n",
    "\n"
   ]
  },
  {
   "cell_type": "code",
   "execution_count": null,
   "metadata": {
    "colab": {
     "base_uri": "https://localhost:8080/"
    },
    "id": "2wnELWLhcQQr",
    "outputId": "a3b28a2e-1701-4eb7-d2ec-3271e8d5c40c"
   },
   "outputs": [
    {
     "data": {
      "text/plain": [
       "0.4044078799999997"
      ]
     },
     "execution_count": 45,
     "metadata": {
      "tags": []
     },
     "output_type": "execute_result"
    }
   ],
   "source": [
    "logFC_ov = p4c.get_table_columns('node', columns=['logFC'])\n",
    "logFC_ov = logFC_ov.dropna()\n",
    "logFC_ov_min = min(logFC_ov['logFC'])\n",
    "logFC_ov_max = max(logFC_ov['logFC'])\n",
    "logFC_ov_center = logFC_ov_min + (logFC_ov_max - logFC_ov_min)/2\n",
    "logFC_ov_center"
   ]
  },
  {
   "cell_type": "markdown",
   "metadata": {
    "id": "p_zwWVyNcQQr"
   },
   "source": [
    "Let’s create the mapping:\n",
    "\n"
   ]
  },
  {
   "cell_type": "code",
   "execution_count": null,
   "metadata": {
    "colab": {
     "base_uri": "https://localhost:8080/"
    },
    "id": "3NdqFaiGcQQr",
    "outputId": "0c7069d5-f7e2-482c-f540-2677c5046388"
   },
   "outputs": [
    {
     "data": {
      "text/plain": [
       "{'message': 'Visual Style applied.'}"
      ]
     },
     "execution_count": 46,
     "metadata": {
      "tags": []
     },
     "output_type": "execute_result"
    }
   ],
   "source": [
    "p4c.copy_visual_style('default', 'ovarian')\n",
    "p4c.set_visual_style('ovarian')"
   ]
  },
  {
   "cell_type": "code",
   "execution_count": null,
   "metadata": {
    "colab": {
     "base_uri": "https://localhost:8080/",
     "height": 35
    },
    "id": "e9Kv6_2xcQQr",
    "outputId": "d4b01c1a-4cc5-4c00-f506-d54a660880c1"
   },
   "outputs": [
    {
     "data": {
      "application/vnd.google.colaboratory.intrinsic+json": {
       "type": "string"
      },
      "text/plain": [
       "''"
      ]
     },
     "execution_count": 47,
     "metadata": {
      "tags": []
     },
     "output_type": "execute_result"
    }
   ],
   "source": [
    "data_values = [logFC_ov_min, logFC_ov_center, logFC_ov_max]\n",
    "p4c.set_node_color_mapping('logFC', data_values, ['#4393c3', '#fddbc7', '#d6604d'], style_name='ovarian')"
   ]
  },
  {
   "cell_type": "markdown",
   "metadata": {
    "id": "Tx9XbHPycQQr"
   },
   "source": [
    "Apply a force-directed layout.\n",
    "\n"
   ]
  },
  {
   "cell_type": "code",
   "execution_count": null,
   "metadata": {
    "colab": {
     "base_uri": "https://localhost:8080/"
    },
    "id": "KH_B-GoAcQQs",
    "outputId": "63a6312d-0b28-4bf8-f83a-ccf183f0b38d"
   },
   "outputs": [
    {
     "data": {
      "text/plain": [
       "{}"
      ]
     },
     "execution_count": 48,
     "metadata": {
      "tags": []
     },
     "output_type": "execute_result"
    }
   ],
   "source": [
    "p4c.layout_network('force-directed')"
   ]
  },
  {
   "cell_type": "markdown",
   "metadata": {
    "id": "udplx3QEcQQs"
   },
   "source": [
    "The TCGA found several genes that were commonly mutated in ovarian cancer, so called “cancer drivers”. We can add information about these genes to the network visualization, by changing the visual style of these nodes. Three of the most important drivers are TP53, BRCA1 and BRCA2. We will add a thicker, colored border for these genes in the network.\n",
    "\n",
    "Select all three driver genes by:"
   ]
  },
  {
   "cell_type": "code",
   "execution_count": null,
   "metadata": {
    "colab": {
     "base_uri": "https://localhost:8080/"
    },
    "id": "Pe8ryQvXcQQs",
    "outputId": "bb3765fd-d32b-40de-b9d0-87823829216a"
   },
   "outputs": [
    {
     "data": {
      "text/plain": [
       "{'edges': [], 'nodes': [6288, 6277, 6238]}"
      ]
     },
     "execution_count": 49,
     "metadata": {
      "tags": []
     },
     "output_type": "execute_result"
    }
   ],
   "source": [
    "p4c.select_nodes([\"TP53\", \"BRCA1\", \"BRCA2\"], by_col='display name')"
   ]
  },
  {
   "cell_type": "markdown",
   "metadata": {
    "id": "TmatZOiQcQQs"
   },
   "source": [
    "Add a style bypass for node Border Width (5) and node Border Paint (bright pink):\n"
   ]
  },
  {
   "cell_type": "code",
   "execution_count": null,
   "metadata": {
    "colab": {
     "base_uri": "https://localhost:8080/",
     "height": 35
    },
    "id": "6slkKq3PcQQs",
    "outputId": "8a1ba9cd-f29a-4dc5-8008-2dee869e7300"
   },
   "outputs": [
    {
     "data": {
      "application/vnd.google.colaboratory.intrinsic+json": {
       "type": "string"
      },
      "text/plain": [
       "''"
      ]
     },
     "execution_count": 50,
     "metadata": {
      "tags": []
     },
     "output_type": "execute_result"
    }
   ],
   "source": [
    "p4c.set_node_border_width_bypass(p4c.get_selected_nodes(), 5)\n",
    "p4c.set_node_border_color_bypass(p4c.get_selected_nodes(), '#FF007F')"
   ]
  },
  {
   "cell_type": "markdown",
   "metadata": {
    "id": "tCeicAV0cQQs"
   },
   "source": [
    "# Exporting Networks\n",
    "Cytoscape provides a number of ways to export results and visualizations:\n",
    "\n",
    "As an image:"
   ]
  },
  {
   "cell_type": "code",
   "execution_count": null,
   "metadata": {},
   "outputs": [],
   "source": [
    "p4c.export_image('./differentially-expressed-genes', type='PDF')\n",
    "p4c.export_image('./differentially-expressed-genes', type='PNG')\n",
    "p4c.export_image('./differentially-expressed-genes', type='JPEG')\n",
    "p4c.export_image('./differentially-expressed-genes', type='SVG')\n",
    "p4c.export_image('./differentially-expressed-genes', type='PS')"
   ]
  },
  {
   "cell_type": "markdown",
   "metadata": {},
   "source": [
    "To a public repository:"
   ]
  },
  {
   "cell_type": "code",
   "execution_count": null,
   "metadata": {},
   "outputs": [],
   "source": [
    "# p4c.export_network_to_ndex('userid', 'password', True)"
   ]
  },
  {
   "cell_type": "markdown",
   "metadata": {},
   "source": [
    "As a Cytoscape JSON file:"
   ]
  },
  {
   "cell_type": "code",
   "execution_count": null,
   "metadata": {},
   "outputs": [],
   "source": [
    "p4c.export_network('./differentially-expressed-genes','cyjs')"
   ]
  }
 ],
 "metadata": {
  "colab": {
   "collapsed_sections": [
    "xS8gTYlhcQQm"
   ],
   "name": "jupyter-bridge-py4cytoscape.ipynb",
   "provenance": []
  },
  "kernelspec": {
   "display_name": "Python 3",
   "language": "python",
   "name": "python3"
  },
  "language_info": {
   "codemirror_mode": {
    "name": "ipython",
    "version": 3
   },
   "file_extension": ".py",
   "mimetype": "text/x-python",
   "name": "python",
   "nbconvert_exporter": "python",
   "pygments_lexer": "ipython3",
   "version": "3.8.5"
  }
 },
 "nbformat": 4,
 "nbformat_minor": 1
}
