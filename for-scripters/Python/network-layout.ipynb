{
  "nbformat": 4,
  "nbformat_minor": 0,
  "metadata": {
    "kernelspec": {
      "display_name": "Python 3",
      "language": "python",
      "name": "python3"
    },
    "language_info": {
      "codemirror_mode": {
        "name": "ipython",
        "version": 3
      },
      "file_extension": ".py",
      "mimetype": "text/x-python",
      "name": "python",
      "nbconvert_exporter": "python",
      "pygments_lexer": "ipython3",
      "version": "3.8.5"
    },
    "colab": {
      "name": "network-layout.ipynb",
      "provenance": [],
      "include_colab_link": true
    }
  },
  "cells": [
    {
      "cell_type": "markdown",
      "metadata": {
        "id": "view-in-github",
        "colab_type": "text"
      },
      "source": [
        "<a href=\"https://colab.research.google.com/github/cytoscape/cytoscape-automation/blob/master/for-scripters/Python/network-layout.ipynb\" target=\"_parent\"><img src=\"https://colab.research.google.com/assets/colab-badge.svg\" alt=\"Open In Colab\"/></a>"
      ]
    },
    {
      "cell_type": "markdown",
      "metadata": {
        "id": "6Dax8jeu0uGy"
      },
      "source": [
        "# Network Layout\n",
        "## Yihang Xin, Kozo Nishida and Alex Pico\n",
        "## 2021-03-21"
      ]
    },
    {
      "cell_type": "markdown",
      "metadata": {
        "id": "M5GhWkEn0uG0"
      },
      "source": [
        "Cytoscape includes many automatic layout algorithms, for organizing the network visually. All available layout algorithms are listed in the Layout menu, including any layout aglorithms loaded by apps. This tutorial will describe how to apply a layout to your network, give a few examples of commonly used layout algorithms, and describe how layout algorithm parameters can be adjusted.\n",
        "\n"
      ]
    },
    {
      "cell_type": "markdown",
      "metadata": {
        "id": "rrygXp9J0uG1"
      },
      "source": [
        "# Installation\n",
        "The following chunk of code installs the `py4cytoscape` module."
      ]
    },
    {
      "cell_type": "code",
      "metadata": {
        "id": "G5kH7EK-0uG1"
      },
      "source": [
        "%%capture\n",
        "!python3 -m pip install python-igraph requests pandas networkx\n",
        "!python3 -m pip install py4cytoscape"
      ],
      "execution_count": null,
      "outputs": []
    },
    {
      "cell_type": "markdown",
      "metadata": {
        "id": "iQMFnaIk0v86"
      },
      "source": [
        "If you are using a remote notebook environment such as Google Colab, please execute the cell below. (If you're running on your local notebook, you don't need to do that.)\n",
        "\n"
      ]
    },
    {
      "cell_type": "code",
      "metadata": {
        "id": "UidTV8_h0yFC"
      },
      "source": [
        "import requests\n",
        "exec(requests.get(\"https://raw.githubusercontent.com/cytoscape/jupyter-bridge/master/client/p4c_init.py\").text)\n",
        "IPython.display.Javascript(_PY4CYTOSCAPE_BROWSER_CLIENT_JS) # Start browser client"
      ],
      "execution_count": null,
      "outputs": []
    },
    {
      "cell_type": "markdown",
      "metadata": {
        "id": "Br0OAvuc0uG2"
      },
      "source": [
        "# Prerequisites\n",
        "## In addition to this package (py4cytoscape latest version 0.0.9), you will need:\n",
        "\n",
        "* Latest version of Cytoscape, which can be downloaded from https://cytoscape.org/download.html. Simply follow the installation instructions on screen.\n",
        "* Complete installation wizard\n",
        "* Launch Cytoscape\n",
        "\n",
        "For this vignette, you’ll also need the Filetransfer app. \n",
        "\n",
        "Install the filetransfer app from https://apps.cytoscape.org/apps/filetransfer\n",
        "\n",
        "You can also install app inside Python notebook by running py4cytoscape.install_app('Your App')"
      ]
    },
    {
      "cell_type": "markdown",
      "metadata": {
        "id": "ioX0XUKA0uG2"
      },
      "source": [
        "# Import the required package\n"
      ]
    },
    {
      "cell_type": "code",
      "metadata": {
        "id": "4UanUlNs0uG3"
      },
      "source": [
        "import os\n",
        "import sys\n",
        "import py4cytoscape as p4c"
      ],
      "execution_count": null,
      "outputs": []
    },
    {
      "cell_type": "markdown",
      "metadata": {
        "id": "zGQR2Idw0uG3"
      },
      "source": [
        "# Setup Cytoscape"
      ]
    },
    {
      "cell_type": "code",
      "metadata": {
        "id": "AH2YWmOz0uG4",
        "outputId": "83d37270-5d32-4853-a405-0192a95dec64"
      },
      "source": [
        "p4c.cytoscape_version_info()"
      ],
      "execution_count": null,
      "outputs": [
        {
          "output_type": "execute_result",
          "data": {
            "text/plain": [
              "{'apiVersion': 'v1',\n",
              " 'cytoscapeVersion': '3.8.2',\n",
              " 'automationAPIVersion': '1.0.0',\n",
              " 'py4cytoscapeVersion': '0.0.7'}"
            ]
          },
          "metadata": {
            "tags": []
          },
          "execution_count": 3
        }
      ]
    },
    {
      "cell_type": "markdown",
      "metadata": {
        "id": "hwfvwK5k0uG5"
      },
      "source": [
        "# Applying a Layout Algorithm\n",
        "Load the galFiltered.cys session file."
      ]
    },
    {
      "cell_type": "code",
      "metadata": {
        "id": "RtMYQ0za0uG6",
        "outputId": "f03945a9-0b20-4165-8c0b-830f2ee11b33"
      },
      "source": [
        "p4c.open_session()"
      ],
      "execution_count": null,
      "outputs": [
        {
          "output_type": "stream",
          "text": [
            "Opening sampleData/sessions/Yeast Perturbation.cys...\n"
          ],
          "name": "stdout"
        },
        {
          "output_type": "execute_result",
          "data": {
            "text/plain": [
              "{}"
            ]
          },
          "metadata": {
            "tags": []
          },
          "execution_count": 4
        }
      ]
    },
    {
      "cell_type": "markdown",
      "metadata": {
        "id": "_OiGkR_e0uG6"
      },
      "source": [
        "Use “fit_content” to see the whole network:"
      ]
    },
    {
      "cell_type": "code",
      "metadata": {
        "id": "05Uu2-T60uG6",
        "outputId": "18be4257-5a6d-40e7-d6d0-fa5049530dfc"
      },
      "source": [
        "p4c.fit_content()"
      ],
      "execution_count": null,
      "outputs": [
        {
          "output_type": "execute_result",
          "data": {
            "text/plain": [
              "{}"
            ]
          },
          "metadata": {
            "tags": []
          },
          "execution_count": 5
        }
      ]
    },
    {
      "cell_type": "markdown",
      "metadata": {
        "id": "ATQgKX0I0uG7"
      },
      "source": [
        "The network layout used in this session file is the Prefuse Force Directed Layout. This layout is based on the algorithm implemented as part of the prefuse toolkit. The algorithm is very fast and with the right parameters can provide a very visually pleasing layout. The Force Directed Layout can also use a numeric edge attribute as a weight for the length of the spring.\n",
        "\n"
      ]
    },
    {
      "cell_type": "markdown",
      "metadata": {
        "id": "xu66hjnP0uG7"
      },
      "source": [
        "# Layout Menu"
      ]
    },
    {
      "cell_type": "markdown",
      "metadata": {
        "id": "GBv7Gf5B0uG7"
      },
      "source": [
        "Available layouts can be found from:"
      ]
    },
    {
      "cell_type": "code",
      "metadata": {
        "id": "BEVgFFBU0uG8",
        "outputId": "c22ea162-032a-41cb-81a7-052e2a1b6c05"
      },
      "source": [
        "p4c.get_layout_names()"
      ],
      "execution_count": null,
      "outputs": [
        {
          "output_type": "execute_result",
          "data": {
            "text/plain": [
              "['attribute-circle',\n",
              " 'stacked-node-layout',\n",
              " 'degree-circle',\n",
              " 'circular',\n",
              " 'attributes-layout',\n",
              " 'kamada-kawai',\n",
              " 'force-directed',\n",
              " 'cose',\n",
              " 'grid',\n",
              " 'hierarchical',\n",
              " 'fruchterman-rheingold',\n",
              " 'isom',\n",
              " 'force-directed-cl']"
            ]
          },
          "metadata": {
            "tags": []
          },
          "execution_count": 6
        }
      ]
    },
    {
      "cell_type": "markdown",
      "metadata": {
        "id": "Wab7D9880uG8"
      },
      "source": [
        "Note that some Cytoscape apps may add additional layout algorithms to the Layout menu so the listing of available layouts may be influenced by which apps you have loaded.\n",
        "\n",
        "In addition to the built-in layout algorithms available by default, a set of yFiles layouts are available for installation. (But yFiles does not support Cytoscape Automation and cannot be controlled from py4cytoscape.)"
      ]
    },
    {
      "cell_type": "code",
      "metadata": {
        "id": "sy1kW3Ks0uG8",
        "outputId": "9e9d7fc6-9cb3-41a3-f6d3-dd6f915a545b"
      },
      "source": [
        "p4c.install_app('yFiles Layout Algorithms')"
      ],
      "execution_count": null,
      "outputs": [
        {
          "output_type": "stream",
          "text": [
            "{}\n"
          ],
          "name": "stdout"
        },
        {
          "output_type": "execute_result",
          "data": {
            "text/plain": [
              "{}"
            ]
          },
          "metadata": {
            "tags": []
          },
          "execution_count": 7
        }
      ]
    },
    {
      "cell_type": "markdown",
      "metadata": {
        "id": "H0H1LPWg0uG9"
      },
      "source": [
        "# Examples of Layout Algorithms\n"
      ]
    },
    {
      "cell_type": "markdown",
      "metadata": {
        "id": "P063sh6-0uG9"
      },
      "source": [
        "Similarly to Prefuse Force Directed, the Edge-weighted spring-embedded layout is also based on a “force-directed” paradigm as implemented by Kamada and Kawai (1988). Network nodes are treated like physical objects that repel each other, such as electrons. The connections between nodes are treated like metal springs attached to the pair of nodes. These springs repel or attract their end points according to a force function. The layout algorithm sets the positions of the nodes in a way that minimizes the sum of forces in the network."
      ]
    },
    {
      "cell_type": "code",
      "metadata": {
        "id": "xYHJR43w0uG9",
        "outputId": "6512ddc7-4692-4313-e72a-adb1d7da9be1"
      },
      "source": [
        "p4c.layout_network('kamada-kawai')"
      ],
      "execution_count": null,
      "outputs": [
        {
          "output_type": "execute_result",
          "data": {
            "text/plain": [
              "{}"
            ]
          },
          "metadata": {
            "tags": []
          },
          "execution_count": 8
        }
      ]
    },
    {
      "cell_type": "markdown",
      "metadata": {
        "id": "bEnFtkpv0uG9"
      },
      "source": [
        "The circular algorithm produces layouts that emphasize group and tree structures within a network. It partitions the network by analyzing its connectivity structure, and arranges the partitions as separate circles. The circles themselves are arranged in a radial tree layout fashion."
      ]
    },
    {
      "cell_type": "code",
      "metadata": {
        "id": "Hs7tmalV0uG-",
        "outputId": "01500198-8b8d-44b2-8ad7-d92bb915742b"
      },
      "source": [
        "p4c.layout_network('circular')"
      ],
      "execution_count": null,
      "outputs": [
        {
          "output_type": "execute_result",
          "data": {
            "text/plain": [
              "{}"
            ]
          },
          "metadata": {
            "tags": []
          },
          "execution_count": 9
        }
      ]
    },
    {
      "cell_type": "markdown",
      "metadata": {
        "id": "4g8zSZNw0uG-"
      },
      "source": [
        "The Compound Spring Embedder (CoSE) layout is based on the traditional force-directed layout algorithm with extensions to handle multi-level nesting (compound nodes), edges between nodes of arbitrary nesting levels and varying node sizes. It is the suggested Cytoscape layout for compound graphs, although it also works very well with noncompound graphs."
      ]
    },
    {
      "cell_type": "code",
      "metadata": {
        "id": "Jma4_zAA0uG-",
        "outputId": "8379389d-76be-4ce4-aba5-f903d91e6d47"
      },
      "source": [
        "p4c.layout_network('cose')"
      ],
      "execution_count": null,
      "outputs": [
        {
          "output_type": "execute_result",
          "data": {
            "text/plain": [
              "{}"
            ]
          },
          "metadata": {
            "tags": []
          },
          "execution_count": 10
        }
      ]
    },
    {
      "cell_type": "markdown",
      "metadata": {
        "id": "35bx2m0q0uG-"
      },
      "source": [
        "# Layout Settings"
      ]
    },
    {
      "cell_type": "markdown",
      "metadata": {
        "id": "b9rKKBcq0uG-"
      },
      "source": [
        "To change the settings for a particular algorithm, first you need to check the relevant set of parameters. The following code chunk will display the parameter names."
      ]
    },
    {
      "cell_type": "code",
      "metadata": {
        "id": "wObaq-sA0uG-",
        "outputId": "b1d9dc74-226e-4234-efa2-c868f95ae666"
      },
      "source": [
        "p4c.get_layout_property_names('cose')"
      ],
      "execution_count": null,
      "outputs": [
        {
          "output_type": "execute_result",
          "data": {
            "text/plain": [
              "['incremental',\n",
              " 'idealEdgeLength',\n",
              " 'springStrength',\n",
              " 'repulsionStrength',\n",
              " 'gravityStrength',\n",
              " 'compoundGravityStrength',\n",
              " 'gravityRange',\n",
              " 'compoundGravityRange',\n",
              " 'smartEdgeLengthCalc',\n",
              " 'smartRepulsionRangeCalc']"
            ]
          },
          "metadata": {
            "tags": []
          },
          "execution_count": 11
        }
      ]
    },
    {
      "cell_type": "markdown",
      "metadata": {
        "id": "nVc0a7cQ0uG_"
      },
      "source": [
        "To change the settings for a particular algorithm:"
      ]
    },
    {
      "cell_type": "code",
      "metadata": {
        "id": "PpsjJCtc0uG_",
        "outputId": "4c4063d6-f4c9-4a31-d155-4d36aac089ea"
      },
      "source": [
        "p4c.set_layout_properties('cose', {'incremental':'false','idealEdgeLength': 50, 'springStrength': 50, 'repulsionStrength':50, 'gravityStrength':50, 'compoundGravityStrength':50, 'gravityRange':50, 'compoundGravityRange':50, 'smartEdgeLengthCalc':'true', 'smartRepulsionRangeCalc':'true'})"
      ],
      "execution_count": null,
      "outputs": [
        {
          "output_type": "execute_result",
          "data": {
            "text/plain": [
              "''"
            ]
          },
          "metadata": {
            "tags": []
          },
          "execution_count": 12
        }
      ]
    }
  ]
}