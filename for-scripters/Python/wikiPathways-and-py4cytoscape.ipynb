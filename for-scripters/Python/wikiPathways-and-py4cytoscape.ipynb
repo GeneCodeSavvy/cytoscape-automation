{
  "nbformat": 4,
  "nbformat_minor": 0,
  "metadata": {
    "kernelspec": {
      "display_name": "Python 3",
      "language": "python",
      "name": "python3"
    },
    "language_info": {
      "codemirror_mode": {
        "name": "ipython",
        "version": 3
      },
      "file_extension": ".py",
      "mimetype": "text/x-python",
      "name": "python",
      "nbconvert_exporter": "python",
      "pygments_lexer": "ipython3",
      "version": "3.8.5"
    },
    "colab": {
      "name": "wikiPathways-and-py4cytoscape.ipynb",
      "provenance": [],
      "include_colab_link": true
    }
  },
  "cells": [
    {
      "cell_type": "markdown",
      "metadata": {
        "id": "view-in-github",
        "colab_type": "text"
      },
      "source": [
        "<a href=\"https://colab.research.google.com/github/cytoscape/cytoscape-automation/blob/master/for-scripters/Python/wikiPathways-and-py4cytoscape.ipynb\" target=\"_parent\"><img src=\"https://colab.research.google.com/assets/colab-badge.svg\" alt=\"Open In Colab\"/></a>"
      ]
    },
    {
      "cell_type": "markdown",
      "metadata": {
        "id": "g6plOd6O2BKR"
      },
      "source": [
        "# WikiPathways and py4cytoscape\n",
        "## Yihang Xin and Alex Pico\n",
        "## 2020-11-10"
      ]
    },
    {
      "cell_type": "markdown",
      "metadata": {
        "id": "1GCTUF-82BKT"
      },
      "source": [
        "WikiPathways is a well-known repository for biological pathways that provides unique tools to the research community for content creation, editing and utilization [@Pico2008].\n",
        "\n",
        "Python is an interpreted, high-level and general-purpose programming language.\n",
        "\n",
        "py4cytoscape leverages the WikiPathways API to communicate between Python and WikiPathways, allowing any pathway to be queried, interrogated and downloaded in both data and image formats. Queries are typically performed based on “Xrefs”, standardized identifiers for genes, proteins and metabolites. Once you can identified a pathway, you can use the WPID (WikiPathways identifier) to make additional queries.\n",
        "\n",
        "py4cytoscape leverages the CyREST API to provide a number of functions related to network visualization and analysis. \n"
      ]
    },
    {
      "cell_type": "markdown",
      "metadata": {
        "id": "SReQW3CP2BKU"
      },
      "source": [
        "# Installation\n",
        "The following chunk of code installs the `py4cytoscape` module."
      ]
    },
    {
      "cell_type": "code",
      "metadata": {
        "id": "dNUnlYmV2BKV"
      },
      "source": [
        "%%capture\n",
        "!python3 -m pip install python-igraph requests pandas networkx\n",
        "!python3 -m pip install py4cytoscape"
      ],
      "execution_count": null,
      "outputs": []
    },
    {
      "cell_type": "markdown",
      "metadata": {
        "id": "SlD97ou62Cbp"
      },
      "source": [
        "If you are using a remote notebook environment such as Google Colab, please execute the cell below. (If you're running on your local notebook, you don't need to do that.)\n",
        "\n"
      ]
    },
    {
      "cell_type": "code",
      "metadata": {
        "id": "ZNAm5TmI2D-y"
      },
      "source": [
        "import requests\n",
        "exec(requests.get(\"https://raw.githubusercontent.com/cytoscape/jupyter-bridge/master/client/p4c_init.py\").text)\n",
        "IPython.display.Javascript(_PY4CYTOSCAPE_BROWSER_CLIENT_JS) # Start browser client"
      ],
      "execution_count": null,
      "outputs": []
    },
    {
      "cell_type": "markdown",
      "metadata": {
        "id": "y4UEVvHp2BKW"
      },
      "source": [
        "# Prerequisites\n",
        "## In addition to this package (py4cytoscape latest version 0.0.9), you will need:\n",
        "\n",
        "* Latest version of Cytoscape, which can be downloaded from https://cytoscape.org/download.html. Simply follow the installation instructions on screen.\n",
        "* Complete installation wizard\n",
        "* Launch Cytoscape\n",
        "\n",
        "For this vignette, you’ll also need the WikiPathways app to access the WikiPathways database from within Cytoscape. \n",
        "\n",
        "Install the WikiPathways app from http://apps.cytoscape.org/apps/wikipathways\n",
        "\n",
        "Install the filetransfer app from https://apps.cytoscape.org/apps/filetransfer\n",
        "\n",
        "You can also install app inside Python notebook by running \"py4cytoscape.install_app('Your App')\""
      ]
    },
    {
      "cell_type": "markdown",
      "metadata": {
        "id": "SnTvG3aI2BKX"
      },
      "source": [
        "# Import the required package"
      ]
    },
    {
      "cell_type": "code",
      "metadata": {
        "id": "lPKaa5b72BKX"
      },
      "source": [
        "import os\n",
        "import sys\n",
        "import requests\n",
        "import pandas as pd\n",
        "from lxml import etree as ET\n",
        "from collections import OrderedDict\n",
        "import py4cytoscape as p4c"
      ],
      "execution_count": null,
      "outputs": []
    },
    {
      "cell_type": "code",
      "metadata": {
        "id": "ynLc9KS-2BKY",
        "outputId": "323e466e-c5d9-4140-e6a4-31bb4e83fb60"
      },
      "source": [
        "# Check Version\n",
        "p4c.cytoscape_version_info()"
      ],
      "execution_count": null,
      "outputs": [
        {
          "output_type": "execute_result",
          "data": {
            "text/plain": [
              "{'apiVersion': 'v1',\n",
              " 'cytoscapeVersion': '3.8.2',\n",
              " 'automationAPIVersion': '1.0.0',\n",
              " 'py4cytoscapeVersion': '0.0.7'}"
            ]
          },
          "metadata": {
            "tags": []
          },
          "execution_count": 2
        }
      ]
    },
    {
      "cell_type": "markdown",
      "metadata": {
        "id": "aGK9N34P2BKZ"
      },
      "source": [
        "# Working together\n",
        "Ok, with all of these components loaded and launched, you can now perform some nifty sequences. For example, search for a pathway based on a keyword search and then load it into Cytoscape."
      ]
    },
    {
      "cell_type": "code",
      "metadata": {
        "id": "vvCV1fjq2BKZ"
      },
      "source": [
        "def find_pathways_by_text(query, species):\n",
        "    base_iri = 'http://webservice.wikipathways.org/'\n",
        "    request_params = {'query':query, 'species':species}\n",
        "    response = requests.get(base_iri + 'findPathwaysByText', params=request_params)\n",
        "    return response"
      ],
      "execution_count": null,
      "outputs": []
    },
    {
      "cell_type": "code",
      "metadata": {
        "id": "F-cxUjmr2BKa"
      },
      "source": [
        "response = find_pathways_by_text(\"colon cancer\", \"Homo sapiens\")"
      ],
      "execution_count": null,
      "outputs": []
    },
    {
      "cell_type": "code",
      "metadata": {
        "id": "gy1g-KWu2BKa"
      },
      "source": [
        "def find_pathway_dataframe(response):\n",
        "    data = response.text\n",
        "    dom = ET.fromstring(data)\n",
        "    pathways = []\n",
        "    NAMESPACES = {'ns1':'http://www.wso2.org/php/xsd','ns2':'http://www.wikipathways.org/webservice/'}\n",
        "    for node in dom.findall('ns1:result', NAMESPACES):\n",
        "        pathway_using_api_terms = {}\n",
        "        for child in node:\n",
        "            pathway_using_api_terms[ET.QName(child).localname] = child.text\n",
        "            pathways.append(pathway_using_api_terms)\n",
        "    id_list = []\n",
        "    score_list = []\n",
        "    url_list = []\n",
        "    name_list = []\n",
        "    species_list = []\n",
        "    revision_list = []\n",
        "    for p in pathways:\n",
        "        id_list.append(p[\"id\"])\n",
        "        score_list.append(p[\"score\"])\n",
        "        url_list.append(p[\"url\"])\n",
        "        name_list.append(p[\"name\"])\n",
        "        species_list.append(p[\"species\"])\n",
        "        revision_list.append(p[\"revision\"])\n",
        "    df = pd.DataFrame(list(zip(id_list,score_list,url_list,name_list,species_list,revision_list)), columns =['id', 'score','url','name','species','revision'])\n",
        "    return df"
      ],
      "execution_count": null,
      "outputs": []
    },
    {
      "cell_type": "code",
      "metadata": {
        "id": "APfemsQK2BKa",
        "outputId": "12a44860-5ada-4600-8905-c0f4afb42222"
      },
      "source": [
        "df = find_pathway_dataframe(response)\n",
        "df.head(10)"
      ],
      "execution_count": null,
      "outputs": [
        {
          "output_type": "execute_result",
          "data": {
            "text/html": [
              "<div>\n",
              "<style scoped>\n",
              "    .dataframe tbody tr th:only-of-type {\n",
              "        vertical-align: middle;\n",
              "    }\n",
              "\n",
              "    .dataframe tbody tr th {\n",
              "        vertical-align: top;\n",
              "    }\n",
              "\n",
              "    .dataframe thead th {\n",
              "        text-align: right;\n",
              "    }\n",
              "</style>\n",
              "<table border=\"1\" class=\"dataframe\">\n",
              "  <thead>\n",
              "    <tr style=\"text-align: right;\">\n",
              "      <th></th>\n",
              "      <th>id</th>\n",
              "      <th>score</th>\n",
              "      <th>url</th>\n",
              "      <th>name</th>\n",
              "      <th>species</th>\n",
              "      <th>revision</th>\n",
              "    </tr>\n",
              "  </thead>\n",
              "  <tbody>\n",
              "    <tr>\n",
              "      <th>0</th>\n",
              "      <td>WP4290</td>\n",
              "      <td>3.2125466</td>\n",
              "      <td>https://www.wikipathways.org/index.php/Pathway...</td>\n",
              "      <td>Metabolic reprogramming in colon cancer</td>\n",
              "      <td>Homo sapiens</td>\n",
              "      <td>113958</td>\n",
              "    </tr>\n",
              "    <tr>\n",
              "      <th>1</th>\n",
              "      <td>WP4290</td>\n",
              "      <td>3.2125466</td>\n",
              "      <td>https://www.wikipathways.org/index.php/Pathway...</td>\n",
              "      <td>Metabolic reprogramming in colon cancer</td>\n",
              "      <td>Homo sapiens</td>\n",
              "      <td>113958</td>\n",
              "    </tr>\n",
              "    <tr>\n",
              "      <th>2</th>\n",
              "      <td>WP4290</td>\n",
              "      <td>3.2125466</td>\n",
              "      <td>https://www.wikipathways.org/index.php/Pathway...</td>\n",
              "      <td>Metabolic reprogramming in colon cancer</td>\n",
              "      <td>Homo sapiens</td>\n",
              "      <td>113958</td>\n",
              "    </tr>\n",
              "    <tr>\n",
              "      <th>3</th>\n",
              "      <td>WP4290</td>\n",
              "      <td>3.2125466</td>\n",
              "      <td>https://www.wikipathways.org/index.php/Pathway...</td>\n",
              "      <td>Metabolic reprogramming in colon cancer</td>\n",
              "      <td>Homo sapiens</td>\n",
              "      <td>113958</td>\n",
              "    </tr>\n",
              "    <tr>\n",
              "      <th>4</th>\n",
              "      <td>WP4290</td>\n",
              "      <td>3.2125466</td>\n",
              "      <td>https://www.wikipathways.org/index.php/Pathway...</td>\n",
              "      <td>Metabolic reprogramming in colon cancer</td>\n",
              "      <td>Homo sapiens</td>\n",
              "      <td>113958</td>\n",
              "    </tr>\n",
              "    <tr>\n",
              "      <th>5</th>\n",
              "      <td>WP4290</td>\n",
              "      <td>3.2125466</td>\n",
              "      <td>https://www.wikipathways.org/index.php/Pathway...</td>\n",
              "      <td>Metabolic reprogramming in colon cancer</td>\n",
              "      <td>Homo sapiens</td>\n",
              "      <td>113958</td>\n",
              "    </tr>\n",
              "    <tr>\n",
              "      <th>6</th>\n",
              "      <td>WP4239</td>\n",
              "      <td>2.9802983</td>\n",
              "      <td>https://www.wikipathways.org/index.php/Pathway...</td>\n",
              "      <td>Epithelial to mesenchymal transition in colore...</td>\n",
              "      <td>Homo sapiens</td>\n",
              "      <td>111457</td>\n",
              "    </tr>\n",
              "    <tr>\n",
              "      <th>7</th>\n",
              "      <td>WP4239</td>\n",
              "      <td>2.9802983</td>\n",
              "      <td>https://www.wikipathways.org/index.php/Pathway...</td>\n",
              "      <td>Epithelial to mesenchymal transition in colore...</td>\n",
              "      <td>Homo sapiens</td>\n",
              "      <td>111457</td>\n",
              "    </tr>\n",
              "    <tr>\n",
              "      <th>8</th>\n",
              "      <td>WP4239</td>\n",
              "      <td>2.9802983</td>\n",
              "      <td>https://www.wikipathways.org/index.php/Pathway...</td>\n",
              "      <td>Epithelial to mesenchymal transition in colore...</td>\n",
              "      <td>Homo sapiens</td>\n",
              "      <td>111457</td>\n",
              "    </tr>\n",
              "    <tr>\n",
              "      <th>9</th>\n",
              "      <td>WP4239</td>\n",
              "      <td>2.9802983</td>\n",
              "      <td>https://www.wikipathways.org/index.php/Pathway...</td>\n",
              "      <td>Epithelial to mesenchymal transition in colore...</td>\n",
              "      <td>Homo sapiens</td>\n",
              "      <td>111457</td>\n",
              "    </tr>\n",
              "  </tbody>\n",
              "</table>\n",
              "</div>"
            ],
            "text/plain": [
              "       id      score                                                url  \\\n",
              "0  WP4290  3.2125466  https://www.wikipathways.org/index.php/Pathway...   \n",
              "1  WP4290  3.2125466  https://www.wikipathways.org/index.php/Pathway...   \n",
              "2  WP4290  3.2125466  https://www.wikipathways.org/index.php/Pathway...   \n",
              "3  WP4290  3.2125466  https://www.wikipathways.org/index.php/Pathway...   \n",
              "4  WP4290  3.2125466  https://www.wikipathways.org/index.php/Pathway...   \n",
              "5  WP4290  3.2125466  https://www.wikipathways.org/index.php/Pathway...   \n",
              "6  WP4239  2.9802983  https://www.wikipathways.org/index.php/Pathway...   \n",
              "7  WP4239  2.9802983  https://www.wikipathways.org/index.php/Pathway...   \n",
              "8  WP4239  2.9802983  https://www.wikipathways.org/index.php/Pathway...   \n",
              "9  WP4239  2.9802983  https://www.wikipathways.org/index.php/Pathway...   \n",
              "\n",
              "                                                name       species revision  \n",
              "0            Metabolic reprogramming in colon cancer  Homo sapiens   113958  \n",
              "1            Metabolic reprogramming in colon cancer  Homo sapiens   113958  \n",
              "2            Metabolic reprogramming in colon cancer  Homo sapiens   113958  \n",
              "3            Metabolic reprogramming in colon cancer  Homo sapiens   113958  \n",
              "4            Metabolic reprogramming in colon cancer  Homo sapiens   113958  \n",
              "5            Metabolic reprogramming in colon cancer  Homo sapiens   113958  \n",
              "6  Epithelial to mesenchymal transition in colore...  Homo sapiens   111457  \n",
              "7  Epithelial to mesenchymal transition in colore...  Homo sapiens   111457  \n",
              "8  Epithelial to mesenchymal transition in colore...  Homo sapiens   111457  \n",
              "9  Epithelial to mesenchymal transition in colore...  Homo sapiens   111457  "
            ]
          },
          "metadata": {
            "tags": []
          },
          "execution_count": 6
        }
      ]
    },
    {
      "cell_type": "markdown",
      "metadata": {
        "id": "F1g55_tM2BKb"
      },
      "source": [
        "We have a list of human pathways that mention “Colon Cancer”. The results include lots of information, so let’s get a unique list of just the WPIDs."
      ]
    },
    {
      "cell_type": "code",
      "metadata": {
        "id": "D70P7Hz22BKb",
        "outputId": "81bf5353-8003-4f66-cd4f-c0c5bd246845"
      },
      "source": [
        "unique_id = list(OrderedDict.fromkeys(df[\"id\"]))\n",
        "unique_id[0]"
      ],
      "execution_count": null,
      "outputs": [
        {
          "output_type": "execute_result",
          "data": {
            "text/plain": [
              "'WP4290'"
            ]
          },
          "metadata": {
            "tags": []
          },
          "execution_count": 7
        }
      ]
    },
    {
      "cell_type": "markdown",
      "metadata": {
        "id": "ihQotqr82BKb"
      },
      "source": [
        "Let’s import the first one of these into Cytoscape!"
      ]
    },
    {
      "cell_type": "code",
      "metadata": {
        "id": "GuQidvW_2BKb",
        "outputId": "650941c7-1862-4cd7-ec73-8f6fa17d692b"
      },
      "source": [
        "cmd_list = ['wikipathways','import-as-pathway','id=\"',unique_id[0],'\"']\n",
        "cmd = \" \".join(cmd_list)\n",
        "p4c.commands.commands_get(cmd) "
      ],
      "execution_count": null,
      "outputs": [
        {
          "output_type": "execute_result",
          "data": {
            "text/plain": [
              "[]"
            ]
          },
          "metadata": {
            "tags": []
          },
          "execution_count": 8
        }
      ]
    },
    {
      "cell_type": "markdown",
      "metadata": {
        "id": "ROAEoi1X2BKc"
      },
      "source": [
        "Once in Cytoscape, you can load data, apply visual style mappings, perform analyses, and export images and data formats. See py4cytoscape package for details."
      ]
    },
    {
      "cell_type": "markdown",
      "metadata": {
        "id": "uB5Y6Xsh2BKc"
      },
      "source": [
        "# From networks to pathways\n",
        "If you are already with with networks and data in Cytoscape, you may end up focusing on one or few particular genes, proteins or metabolites, and want to query WikiPathways.\n",
        "\n",
        "For example, let’s open a sample network from Cytoscape and identify the gene with the largest number of connections, i.e., node degree.\n",
        "\n",
        "Note: this next chunk will overwrite your current session. Save if you want to keep anything."
      ]
    },
    {
      "cell_type": "code",
      "metadata": {
        "id": "Mfl2D1yy2BKc",
        "outputId": "60ae4d99-190b-4c4b-c9a1-e897865333bb"
      },
      "source": [
        "p4c.session.open_session()"
      ],
      "execution_count": null,
      "outputs": [
        {
          "output_type": "stream",
          "text": [
            "Opening sampleData/sessions/Yeast Perturbation.cys...\n"
          ],
          "name": "stdout"
        },
        {
          "output_type": "execute_result",
          "data": {
            "text/plain": [
              "{}"
            ]
          },
          "metadata": {
            "tags": []
          },
          "execution_count": 9
        }
      ]
    },
    {
      "cell_type": "code",
      "metadata": {
        "id": "RS_-Qjyj2BKc"
      },
      "source": [
        "net_data = p4c.tables.get_table_columns(columns=['name','degree.layout','COMMON'])"
      ],
      "execution_count": null,
      "outputs": []
    },
    {
      "cell_type": "code",
      "metadata": {
        "id": "Og_MiFmP2BKd",
        "outputId": "59e5f679-0b7e-4b55-f6be-3c7ca16f3e25"
      },
      "source": [
        "max_gene = net_data[net_data[\"degree.layout\"] == net_data[\"degree.layout\"].max()]\n",
        "max_gene"
      ],
      "execution_count": null,
      "outputs": [
        {
          "output_type": "execute_result",
          "data": {
            "text/html": [
              "<div>\n",
              "<style scoped>\n",
              "    .dataframe tbody tr th:only-of-type {\n",
              "        vertical-align: middle;\n",
              "    }\n",
              "\n",
              "    .dataframe tbody tr th {\n",
              "        vertical-align: top;\n",
              "    }\n",
              "\n",
              "    .dataframe thead th {\n",
              "        text-align: right;\n",
              "    }\n",
              "</style>\n",
              "<table border=\"1\" class=\"dataframe\">\n",
              "  <thead>\n",
              "    <tr style=\"text-align: right;\">\n",
              "      <th></th>\n",
              "      <th>name</th>\n",
              "      <th>degree.layout</th>\n",
              "      <th>COMMON</th>\n",
              "    </tr>\n",
              "  </thead>\n",
              "  <tbody>\n",
              "    <tr>\n",
              "      <th>684</th>\n",
              "      <td>YMR043W</td>\n",
              "      <td>18</td>\n",
              "      <td>MCM1</td>\n",
              "    </tr>\n",
              "  </tbody>\n",
              "</table>\n",
              "</div>"
            ],
            "text/plain": [
              "        name degree.layout COMMON\n",
              "684  YMR043W            18   MCM1"
            ]
          },
          "metadata": {
            "tags": []
          },
          "execution_count": 11
        }
      ]
    },
    {
      "cell_type": "markdown",
      "metadata": {
        "id": "LVQ6Zujm2BKd"
      },
      "source": [
        "Great. It looks like MCM1 has the larget number of connections (18) in this network. Let’s use it’s identifier (YMR043W) to query WikiPathways to learn more about the gene and its biological role, and load it into Cytoscape.\n",
        "\n",
        "Pro-tip: We need to know the datasource that provides a given identifier. In this case, it’s sort of tricky: Ensembl provides these Yeast ORF identifiers for this organism rather than they typical format. So, we’ll include the ‘En’ system code. See other vignettes for more details."
      ]
    },
    {
      "cell_type": "code",
      "metadata": {
        "id": "GtjdWS6E2BKe"
      },
      "source": [
        "def find_pathways_by_xref(ids, codes):\n",
        "    base_iri = 'http://webservice.wikipathways.org/'\n",
        "    request_params = {'ids':ids, 'codes':codes}\n",
        "    response = requests.get(base_iri + 'findPathwaysByXref', params=request_params)\n",
        "    return response"
      ],
      "execution_count": null,
      "outputs": []
    },
    {
      "cell_type": "code",
      "metadata": {
        "id": "jMyVl0952BKe"
      },
      "source": [
        "response = find_pathways_by_xref('YMR043W','En')\n",
        "mcm1_pathways = find_pathway_dataframe(response)"
      ],
      "execution_count": null,
      "outputs": []
    },
    {
      "cell_type": "code",
      "metadata": {
        "id": "HjxrmpUg2BKe",
        "outputId": "7ad7fa52-c0b8-483d-e291-18d98c1f9544"
      },
      "source": [
        "unique_id = list(OrderedDict.fromkeys(mcm1_pathways[\"id\"]))\n",
        "unique_id = \"\".join(unique_id)\n",
        "unique_id"
      ],
      "execution_count": null,
      "outputs": [
        {
          "output_type": "execute_result",
          "data": {
            "text/plain": [
              "'WP510'"
            ]
          },
          "metadata": {
            "tags": []
          },
          "execution_count": 14
        }
      ]
    },
    {
      "cell_type": "code",
      "metadata": {
        "id": "LgzalK-r2BKe",
        "outputId": "cbb19c4a-f321-4dea-f439-947e7d3ca4d4"
      },
      "source": [
        "cmd_list = ['wikipathways','import-as-pathway','id=\"',unique_id,'\"']\n",
        "cmd = \" \".join(cmd_list)\n",
        "p4c.commands.commands_get(cmd) "
      ],
      "execution_count": null,
      "outputs": [
        {
          "output_type": "execute_result",
          "data": {
            "text/plain": [
              "[]"
            ]
          },
          "metadata": {
            "tags": []
          },
          "execution_count": 15
        }
      ]
    },
    {
      "cell_type": "markdown",
      "metadata": {
        "id": "HnbTITuH2BKf"
      },
      "source": [
        "And we can easily select the MCM1 node by name in the newly imported pathway to help see where exactly it plays its role.\n",
        "\n"
      ]
    },
    {
      "cell_type": "code",
      "metadata": {
        "id": "TRrA5AT_2BKf",
        "outputId": "2463010e-a67d-4d71-ca66-70b162f0781b"
      },
      "source": [
        "p4c.network_selection.select_nodes(['Mcm1'], by_col='name')"
      ],
      "execution_count": null,
      "outputs": [
        {
          "output_type": "execute_result",
          "data": {
            "text/plain": [
              "{'nodes': [2017, 2020], 'edges': []}"
            ]
          },
          "metadata": {
            "tags": []
          },
          "execution_count": 16
        }
      ]
    }
  ]
}