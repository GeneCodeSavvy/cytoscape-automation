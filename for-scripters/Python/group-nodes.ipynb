{
 "cells": [
  {
   "cell_type": "markdown",
   "metadata": {},
   "source": [
    "# Group Nodes\n",
    "## Yihang Xin\n",
    "## 2020-12-17"
   ]
  },
  {
   "cell_type": "markdown",
   "metadata": {},
   "source": [
    "This vignette will show you how to use node grouping functions to manipulate graphs in Cytoscape.\n",
    "\n"
   ]
  },
  {
   "cell_type": "markdown",
   "metadata": {},
   "source": [
    "# Prerequisites\n",
    "In addition to this package (py4cytoscape version 0.0.6), you will need:\n",
    "\n",
    "* Latest version of Cytoscape, which can be downloaded from https://cytoscape.org/download.html. Simply follow the installation instructions on screen.\n",
    "\n",
    "* Complete installation wizard\n",
    "\n",
    "* Launch Cytoscape"
   ]
  },
  {
   "cell_type": "markdown",
   "metadata": {},
   "source": [
    "# Import the required package\n"
   ]
  },
  {
   "cell_type": "code",
   "execution_count": 1,
   "metadata": {},
   "outputs": [],
   "source": [
    "import os\n",
    "import sys\n",
    "import pandas as pd\n",
    "import py4cytoscape as p4c"
   ]
  },
  {
   "cell_type": "markdown",
   "metadata": {},
   "source": [
    "# Setup Cytoscape\n"
   ]
  },
  {
   "cell_type": "code",
   "execution_count": 2,
   "metadata": {},
   "outputs": [
    {
     "data": {
      "text/plain": [
       "{'apiVersion': 'v1',\n",
       " 'cytoscapeVersion': '3.8.2',\n",
       " 'automationAPIVersion': '1.0.0',\n",
       " 'py4cytoscapeVersion': '0.0.6'}"
      ]
     },
     "execution_count": 2,
     "metadata": {},
     "output_type": "execute_result"
    }
   ],
   "source": [
    "p4c.cytoscape_version_info()"
   ]
  },
  {
   "cell_type": "markdown",
   "metadata": {},
   "source": [
    "# Background\n",
    "The ability to group nodes together into “metanodes” and collapse them to a single node in a graph is useful for simplifying views of a complex network.\n",
    "\n",
    "The example in this vignette describes application of node grouping functions to data that includes protein-protein interactions and clustered correlations of protein post-translational modifications (Grimes, et al., 2018). This vignette plots five proteins and their modifications, and uses the node grouping functions to manipulate the graph in Cytoscape.\n",
    "\n"
   ]
  },
  {
   "cell_type": "markdown",
   "metadata": {},
   "source": [
    "# Example\n",
    "First we set up the node and edge data frames."
   ]
  },
  {
   "cell_type": "code",
   "execution_count": 3,
   "metadata": {},
   "outputs": [],
   "source": [
    "net_nodes = [\"ALK\", \"ALK p Y1078\", \"ALK p Y1096\", \"ALK p Y1586\", \"CTNND1\", \"CTNND1 p Y193\", \"CTNND1 p Y217\", \"CTNND1 p Y228\", \"CTNND1 p Y241\", \"CTNND1 p Y248\", \"CTNND1 p Y302\", \"CTNND1 p Y904\", \"CTTN\", \"CTTN ack K107\", \"CTTN ack K124\", \"CTTN ack K147\", \"CTTN ack K161\", \"CTTN ack K235\", \"CTTN ack K390\", \"CTTN ack K87\", \"CTTN p S113\", \"CTTN p S224\", \"CTTN p Y104\", \"CTTN p Y154\", \"CTTN p Y162\", \"CTTN p Y228\", \"CTTN p Y334\", \"CTTN p Y421\", \"IRS1\", \"IRS1 p Y632\", \"IRS1 p Y941\", \"IRS1 p Y989\", \"NPM1\", \"NPM1 ack K154\", \"NPM1 ack K223\", \"NPM1 p S214\", \"NPM1 p S218\"]\n",
    "parent = [\"\", \"ALK\", \"ALK\", \"ALK\", \"\", \"CTNND1\", \"CTNND1\", \"CTNND1\", \"CTNND1\", \"CTNND1\", \"CTNND1\", \"CTNND1\", \"\", \"CTTN\", \"CTTN\", \"CTTN\", \"CTTN\", \"CTTN\", \"CTTN\", \"CTTN\", \"CTTN\", \"CTTN\", \"CTTN\", \"CTTN\", \"CTTN\", \"CTTN\", \"CTTN\", \"CTTN\", \"\", \"IRS1\", \"IRS1\", \"IRS1\", \"\", \"NPM1\", \"NPM1\", \"NPM1\", \"NPM1\"]\n",
    "nodeType = [\"protein\", \"modification\", \"modification\", \"modification\", \"protein\", \"modification\", \"modification\", \"modification\", \"modification\", \"modification\", \"modification\", \"modification\", \"protein\", \"modification\", \"modification\", \"modification\", \"modification\", \"modification\", \"modification\", \"modification\", \"modification\", \"modification\", \"modification\", \"modification\", \"modification\", \"modification\", \"modification\", \"modification\", \"protein\", \"modification\", \"modification\", \"modification\", \"protein\", \"modification\", \"modification\", \"modification\", \"modification\"]"
   ]
  },
  {
   "cell_type": "code",
   "execution_count": 4,
   "metadata": {},
   "outputs": [],
   "source": [
    "net_genes = []\n",
    "for n in net_nodes:\n",
    "    s = n.split()[0]\n",
    "    net_genes.append(s)"
   ]
  },
  {
   "cell_type": "code",
   "execution_count": 5,
   "metadata": {},
   "outputs": [],
   "source": [
    "d = {'id': net_nodes, 'Gene.name':net_genes, 'parent': parent, 'nodeType':nodeType}"
   ]
  },
  {
   "cell_type": "code",
   "execution_count": 6,
   "metadata": {},
   "outputs": [
    {
     "data": {
      "text/html": [
       "<div>\n",
       "<style scoped>\n",
       "    .dataframe tbody tr th:only-of-type {\n",
       "        vertical-align: middle;\n",
       "    }\n",
       "\n",
       "    .dataframe tbody tr th {\n",
       "        vertical-align: top;\n",
       "    }\n",
       "\n",
       "    .dataframe thead th {\n",
       "        text-align: right;\n",
       "    }\n",
       "</style>\n",
       "<table border=\"1\" class=\"dataframe\">\n",
       "  <thead>\n",
       "    <tr style=\"text-align: right;\">\n",
       "      <th></th>\n",
       "      <th>id</th>\n",
       "      <th>Gene.name</th>\n",
       "      <th>parent</th>\n",
       "      <th>nodeType</th>\n",
       "    </tr>\n",
       "  </thead>\n",
       "  <tbody>\n",
       "    <tr>\n",
       "      <th>0</th>\n",
       "      <td>ALK</td>\n",
       "      <td>ALK</td>\n",
       "      <td></td>\n",
       "      <td>protein</td>\n",
       "    </tr>\n",
       "    <tr>\n",
       "      <th>1</th>\n",
       "      <td>ALK p Y1078</td>\n",
       "      <td>ALK</td>\n",
       "      <td>ALK</td>\n",
       "      <td>modification</td>\n",
       "    </tr>\n",
       "    <tr>\n",
       "      <th>2</th>\n",
       "      <td>ALK p Y1096</td>\n",
       "      <td>ALK</td>\n",
       "      <td>ALK</td>\n",
       "      <td>modification</td>\n",
       "    </tr>\n",
       "    <tr>\n",
       "      <th>3</th>\n",
       "      <td>ALK p Y1586</td>\n",
       "      <td>ALK</td>\n",
       "      <td>ALK</td>\n",
       "      <td>modification</td>\n",
       "    </tr>\n",
       "    <tr>\n",
       "      <th>4</th>\n",
       "      <td>CTNND1</td>\n",
       "      <td>CTNND1</td>\n",
       "      <td></td>\n",
       "      <td>protein</td>\n",
       "    </tr>\n",
       "  </tbody>\n",
       "</table>\n",
       "</div>"
      ],
      "text/plain": [
       "            id Gene.name parent      nodeType\n",
       "0          ALK       ALK              protein\n",
       "1  ALK p Y1078       ALK    ALK  modification\n",
       "2  ALK p Y1096       ALK    ALK  modification\n",
       "3  ALK p Y1586       ALK    ALK  modification\n",
       "4       CTNND1    CTNND1              protein"
      ]
     },
     "execution_count": 6,
     "metadata": {},
     "output_type": "execute_result"
    }
   ],
   "source": [
    "netnodes_df = pd.DataFrame(data=d)\n",
    "netnodes_df.head()"
   ]
  },
  {
   "cell_type": "code",
   "execution_count": 7,
   "metadata": {},
   "outputs": [
    {
     "data": {
      "text/html": [
       "<div>\n",
       "<style scoped>\n",
       "    .dataframe tbody tr th:only-of-type {\n",
       "        vertical-align: middle;\n",
       "    }\n",
       "\n",
       "    .dataframe tbody tr th {\n",
       "        vertical-align: top;\n",
       "    }\n",
       "\n",
       "    .dataframe thead th {\n",
       "        text-align: right;\n",
       "    }\n",
       "</style>\n",
       "<table border=\"1\" class=\"dataframe\">\n",
       "  <thead>\n",
       "    <tr style=\"text-align: right;\">\n",
       "      <th></th>\n",
       "      <th>source</th>\n",
       "      <th>target</th>\n",
       "      <th>Weight</th>\n",
       "    </tr>\n",
       "  </thead>\n",
       "  <tbody>\n",
       "    <tr>\n",
       "      <th>0</th>\n",
       "      <td>ALK</td>\n",
       "      <td>ALK p Y1078</td>\n",
       "      <td>100.0</td>\n",
       "    </tr>\n",
       "    <tr>\n",
       "      <th>1</th>\n",
       "      <td>ALK</td>\n",
       "      <td>ALK p Y1096</td>\n",
       "      <td>100.0</td>\n",
       "    </tr>\n",
       "    <tr>\n",
       "      <th>2</th>\n",
       "      <td>ALK</td>\n",
       "      <td>ALK p Y1586</td>\n",
       "      <td>100.0</td>\n",
       "    </tr>\n",
       "    <tr>\n",
       "      <th>3</th>\n",
       "      <td>CTNND1</td>\n",
       "      <td>CTNND1 p Y193</td>\n",
       "      <td>100.0</td>\n",
       "    </tr>\n",
       "    <tr>\n",
       "      <th>4</th>\n",
       "      <td>CTNND1</td>\n",
       "      <td>CTNND1 p Y217</td>\n",
       "      <td>100.0</td>\n",
       "    </tr>\n",
       "  </tbody>\n",
       "</table>\n",
       "</div>"
      ],
      "text/plain": [
       "   source         target  Weight\n",
       "0     ALK    ALK p Y1078   100.0\n",
       "1     ALK    ALK p Y1096   100.0\n",
       "2     ALK    ALK p Y1586   100.0\n",
       "3  CTNND1  CTNND1 p Y193   100.0\n",
       "4  CTNND1  CTNND1 p Y217   100.0"
      ]
     },
     "execution_count": 7,
     "metadata": {},
     "output_type": "execute_result"
    }
   ],
   "source": [
    "# Define edge data\n",
    "source_nodes = [\"ALK\", \"ALK\", \"ALK\", \"CTNND1\", \"CTNND1\", \"CTNND1\", \"CTNND1\", \"CTNND1\", \"CTNND1\", \"CTNND1\", \"CTTN\", \"CTTN\", \"CTTN\", \"CTTN\", \"CTTN\", \"CTTN\", \"CTTN\", \"CTTN\", \"CTTN\", \"CTTN\", \"CTTN\", \"CTTN\", \"CTTN\", \"CTTN\", \"CTTN\", \"IRS1\", \"IRS1\", \"IRS1\", \"NPM1\", \"NPM1\", \"NPM1\", \"NPM1\", \"ALK p Y1096\", \"CTNND1 p Y193\", \"CTNND1 p Y193\", \"CTNND1 p Y228\", \"CTNND1 p Y904\", \"CTNND1 p Y217\", \"CTNND1 p Y241\", \"CTNND1 p Y248\", \"ALK p Y1078\", \"ALK p Y1096\", \"ALK p Y1586\", \"IRS1 p Y941\", \"CTTN ack K147\", \"CTTN ack K107\", \"CTTN ack K235\", \"CTTN ack K87\", \"CTTN ack K147\", \"CTTN ack K124\", \"CTTN ack K147\", \"CTTN ack K235\", \"CTTN ack K161\", \"CTTN ack K390\", \"NPM1 ack K223\", \"NPM1 ack K154\", \"NPM1 ack K223\", \"ALK\", \"CTNND1\", \"CTNND1\", \"CTTN\", \"IRS1\"]\n",
    "target_nodes = [\"ALK p Y1078\", \"ALK p Y1096\", \"ALK p Y1586\", \"CTNND1 p Y193\", \"CTNND1 p Y217\", \"CTNND1 p Y228\", \"CTNND1 p Y241\", \"CTNND1 p Y248\", \"CTNND1 p Y302\", \"CTNND1 p Y904\", \"CTTN ack K107\", \"CTTN ack K124\", \"CTTN ack K147\", \"CTTN ack K161\", \"CTTN ack K235\", \"CTTN ack K390\", \"CTTN ack K87\", \"CTTN p S113\", \"CTTN p S224\", \"CTTN p Y104\", \"CTTN p Y154\", \"CTTN p Y162\", \"CTTN p Y228\", \"CTTN p Y334\", \"CTTN p Y421\", \"IRS1 p Y632\", \"IRS1 p Y941\", \"IRS1 p Y989\", \"NPM1 ack K154\", \"NPM1 ack K223\", \"NPM1 p S214\", \"NPM1 p S218\", \"ALK p Y1586\", \"CTNND1 p Y228\", \"CTNND1 p Y302\", \"CTNND1 p Y302\", \"CTTN p Y154\", \"CTTN p Y162\", \"CTTN p Y162\", \"CTTN p Y334\", \"IRS1 p Y632\", \"IRS1 p Y989\", \"IRS1 p Y989\", \"IRS1 p Y989\", \"CTTN p S113\", \"CTTN p S224\", \"CTTN p S224\", \"CTTN p S224\", \"CTTN p Y104\", \"CTTN p Y228\", \"CTTN p Y228\", \"CTTN p Y228\", \"CTTN p Y421\", \"CTTN p Y421\", \"NPM1 p S214\", \"NPM1 p S218\", \"NPM1 p S218\", \"IRS1\", \"CTTN\", \"IRS1\", \"NPM1\", \"NPM1\"]\n",
    "Weight = [100, 100, 100, 100, 100, 100, 100, 100, 100, 100, 100, 100, 100, 100, 100, 100, 100, 100, 100, 100, 100, 100, 100, 100, 100, 100, 100, 100, 100, 100, 100, 100, 0.8060606, 0.7575758, 0.7454545, 0.9393939, 0.8949096, 0.7329699, 0.7553845, 0.7866191, 0.775, 0.6969697, 0.7818182, 0.8424242, -0.7714286, -0.8385965, -0.5017544, -0.7473684, -0.5252838, -0.9428571, -0.8285714, -0.6713287, -0.5508772, -0.9428571, -0.8857143, -0.6310881, -0.8285714, 0.6123365, 2.115272, 0.002461723, 0.3354451, 0.5661711]\n",
    "d = {'source': source_nodes, 'target':target_nodes, 'Weight': Weight}\n",
    "netedges_df = pd.DataFrame(data=d)\n",
    "netedges_df.head()"
   ]
  },
  {
   "cell_type": "code",
   "execution_count": 8,
   "metadata": {},
   "outputs": [
    {
     "name": "stdout",
     "output_type": "stream",
     "text": [
      "Applying default style...\n",
      "Applying preferred layout\n"
     ]
    }
   ],
   "source": [
    "#create network from data frames\n",
    "net_suid = p4c.create_network_from_data_frames(netnodes_df, netedges_df, title=\"Group Nodes Test\", collection = \"Py4cytoscape Vignettes\")"
   ]
  },
  {
   "cell_type": "code",
   "execution_count": 9,
   "metadata": {},
   "outputs": [
    {
     "data": {
      "text/plain": [
       "{}"
      ]
     },
     "execution_count": 9,
     "metadata": {},
     "output_type": "execute_result"
    }
   ],
   "source": [
    "p4c.layout_network('force-directed')"
   ]
  },
  {
   "cell_type": "markdown",
   "metadata": {},
   "source": [
    "Note that for convenience the data frame has defined whether a node is a protein or a modification, and also defined the parent node for each modification.\n",
    "\n",
    "The function selectNodes looks by default for the node SUID, which can be retrieved by getTableColumns. Alternatively, the data frame can be used to distinguish proteins and modifications."
   ]
  },
  {
   "cell_type": "code",
   "execution_count": 10,
   "metadata": {},
   "outputs": [
    {
     "data": {
      "text/html": [
       "<div>\n",
       "<style scoped>\n",
       "    .dataframe tbody tr th:only-of-type {\n",
       "        vertical-align: middle;\n",
       "    }\n",
       "\n",
       "    .dataframe tbody tr th {\n",
       "        vertical-align: top;\n",
       "    }\n",
       "\n",
       "    .dataframe thead th {\n",
       "        text-align: right;\n",
       "    }\n",
       "</style>\n",
       "<table border=\"1\" class=\"dataframe\">\n",
       "  <thead>\n",
       "    <tr style=\"text-align: right;\">\n",
       "      <th></th>\n",
       "      <th>SUID</th>\n",
       "      <th>shared name</th>\n",
       "      <th>id</th>\n",
       "      <th>Gene.name</th>\n",
       "      <th>parent</th>\n",
       "      <th>nodeType</th>\n",
       "      <th>NumChildren</th>\n",
       "      <th>NumDescendents</th>\n",
       "      <th>name</th>\n",
       "      <th>selected</th>\n",
       "    </tr>\n",
       "  </thead>\n",
       "  <tbody>\n",
       "    <tr>\n",
       "      <th>826</th>\n",
       "      <td>826</td>\n",
       "      <td>ALK</td>\n",
       "      <td>ALK</td>\n",
       "      <td>ALK</td>\n",
       "      <td></td>\n",
       "      <td>protein</td>\n",
       "      <td>NaN</td>\n",
       "      <td>NaN</td>\n",
       "      <td>ALK</td>\n",
       "      <td>False</td>\n",
       "    </tr>\n",
       "    <tr>\n",
       "      <th>827</th>\n",
       "      <td>827</td>\n",
       "      <td>ALK p Y1078</td>\n",
       "      <td>ALK p Y1078</td>\n",
       "      <td>ALK</td>\n",
       "      <td>ALK</td>\n",
       "      <td>modification</td>\n",
       "      <td>NaN</td>\n",
       "      <td>NaN</td>\n",
       "      <td>ALK p Y1078</td>\n",
       "      <td>False</td>\n",
       "    </tr>\n",
       "    <tr>\n",
       "      <th>828</th>\n",
       "      <td>828</td>\n",
       "      <td>ALK p Y1096</td>\n",
       "      <td>ALK p Y1096</td>\n",
       "      <td>ALK</td>\n",
       "      <td>ALK</td>\n",
       "      <td>modification</td>\n",
       "      <td>NaN</td>\n",
       "      <td>NaN</td>\n",
       "      <td>ALK p Y1096</td>\n",
       "      <td>False</td>\n",
       "    </tr>\n",
       "    <tr>\n",
       "      <th>829</th>\n",
       "      <td>829</td>\n",
       "      <td>ALK p Y1586</td>\n",
       "      <td>ALK p Y1586</td>\n",
       "      <td>ALK</td>\n",
       "      <td>ALK</td>\n",
       "      <td>modification</td>\n",
       "      <td>NaN</td>\n",
       "      <td>NaN</td>\n",
       "      <td>ALK p Y1586</td>\n",
       "      <td>False</td>\n",
       "    </tr>\n",
       "    <tr>\n",
       "      <th>830</th>\n",
       "      <td>830</td>\n",
       "      <td>CTNND1</td>\n",
       "      <td>CTNND1</td>\n",
       "      <td>CTNND1</td>\n",
       "      <td></td>\n",
       "      <td>protein</td>\n",
       "      <td>NaN</td>\n",
       "      <td>NaN</td>\n",
       "      <td>CTNND1</td>\n",
       "      <td>False</td>\n",
       "    </tr>\n",
       "  </tbody>\n",
       "</table>\n",
       "</div>"
      ],
      "text/plain": [
       "    SUID  shared name           id Gene.name parent      nodeType NumChildren  \\\n",
       "826  826          ALK          ALK       ALK              protein         NaN   \n",
       "827  827  ALK p Y1078  ALK p Y1078       ALK    ALK  modification         NaN   \n",
       "828  828  ALK p Y1096  ALK p Y1096       ALK    ALK  modification         NaN   \n",
       "829  829  ALK p Y1586  ALK p Y1586       ALK    ALK  modification         NaN   \n",
       "830  830       CTNND1       CTNND1    CTNND1              protein         NaN   \n",
       "\n",
       "    NumDescendents         name selected  \n",
       "826            NaN          ALK    False  \n",
       "827            NaN  ALK p Y1078    False  \n",
       "828            NaN  ALK p Y1096    False  \n",
       "829            NaN  ALK p Y1586    False  \n",
       "830            NaN       CTNND1    False  "
      ]
     },
     "execution_count": 10,
     "metadata": {},
     "output_type": "execute_result"
    }
   ],
   "source": [
    "nodedata = p4c.get_table_columns(table='node')\n",
    "edgedata = p4c.get_table_columns(table='edge')\n",
    "nodedata.head()"
   ]
  },
  {
   "cell_type": "code",
   "execution_count": 11,
   "metadata": {},
   "outputs": [
    {
     "data": {
      "text/html": [
       "<div>\n",
       "<style scoped>\n",
       "    .dataframe tbody tr th:only-of-type {\n",
       "        vertical-align: middle;\n",
       "    }\n",
       "\n",
       "    .dataframe tbody tr th {\n",
       "        vertical-align: top;\n",
       "    }\n",
       "\n",
       "    .dataframe thead th {\n",
       "        text-align: right;\n",
       "    }\n",
       "</style>\n",
       "<table border=\"1\" class=\"dataframe\">\n",
       "  <thead>\n",
       "    <tr style=\"text-align: right;\">\n",
       "      <th></th>\n",
       "      <th>id</th>\n",
       "    </tr>\n",
       "  </thead>\n",
       "  <tbody>\n",
       "    <tr>\n",
       "      <th>0</th>\n",
       "      <td>ALK</td>\n",
       "    </tr>\n",
       "    <tr>\n",
       "      <th>4</th>\n",
       "      <td>CTNND1</td>\n",
       "    </tr>\n",
       "    <tr>\n",
       "      <th>12</th>\n",
       "      <td>CTTN</td>\n",
       "    </tr>\n",
       "    <tr>\n",
       "      <th>28</th>\n",
       "      <td>IRS1</td>\n",
       "    </tr>\n",
       "    <tr>\n",
       "      <th>32</th>\n",
       "      <td>NPM1</td>\n",
       "    </tr>\n",
       "  </tbody>\n",
       "</table>\n",
       "</div>"
      ],
      "text/plain": [
       "        id\n",
       "0      ALK\n",
       "4   CTNND1\n",
       "12    CTTN\n",
       "28    IRS1\n",
       "32    NPM1"
      ]
     },
     "execution_count": 11,
     "metadata": {},
     "output_type": "execute_result"
    }
   ],
   "source": [
    "genes = netnodes_df[netnodes_df['nodeType'].str.contains(\"protein\")]['id']\n",
    "genes = pd.DataFrame(genes)\n",
    "genes"
   ]
  },
  {
   "cell_type": "code",
   "execution_count": 12,
   "metadata": {},
   "outputs": [
    {
     "data": {
      "text/plain": [
       "{'nodes': [838, 854, 858, 826, 830], 'edges': []}"
      ]
     },
     "execution_count": 12,
     "metadata": {},
     "output_type": "execute_result"
    }
   ],
   "source": [
    "#select by gene SUIDs\n",
    "geneSUIDs = nodedata[nodedata['nodeType'].str.contains(\"protein\")]['SUID']\n",
    "geneSUIDs = pd.DataFrame(geneSUIDs)\n",
    "p4c.select_nodes(nodes=list(geneSUIDs['SUID']), preserve_current_selection=False)"
   ]
  },
  {
   "cell_type": "code",
   "execution_count": 13,
   "metadata": {},
   "outputs": [
    {
     "data": {
      "text/plain": [
       "{'nodes': [854, 826], 'edges': []}"
      ]
     },
     "execution_count": 13,
     "metadata": {},
     "output_type": "execute_result"
    }
   ],
   "source": [
    "# or by names in the \"id\" column\n",
    "p4c.select_nodes(nodes=[\"ALK\",\"IRS1\"],by_col='id', preserve_current_selection=False)"
   ]
  },
  {
   "cell_type": "code",
   "execution_count": 14,
   "metadata": {},
   "outputs": [
    {
     "data": {
      "text/plain": [
       "{'nodes': [827,\n",
       "  828,\n",
       "  829,\n",
       "  831,\n",
       "  832,\n",
       "  833,\n",
       "  834,\n",
       "  835,\n",
       "  836,\n",
       "  837,\n",
       "  839,\n",
       "  840,\n",
       "  841,\n",
       "  842,\n",
       "  843,\n",
       "  844,\n",
       "  845,\n",
       "  846,\n",
       "  847,\n",
       "  848,\n",
       "  849,\n",
       "  850,\n",
       "  851,\n",
       "  852,\n",
       "  853,\n",
       "  855,\n",
       "  856,\n",
       "  857,\n",
       "  859,\n",
       "  860,\n",
       "  861,\n",
       "  862],\n",
       " 'edges': []}"
      ]
     },
     "execution_count": 14,
     "metadata": {},
     "output_type": "execute_result"
    }
   ],
   "source": [
    "# or by names based on dataframe subsetting\n",
    "modifications = netnodes_df[netnodes_df['nodeType'].str.contains(\"modification\")]['id']\n",
    "p4c.select_nodes(nodes=list(modifications),by_col='id', preserve_current_selection=False)"
   ]
  },
  {
   "cell_type": "code",
   "execution_count": 15,
   "metadata": {},
   "outputs": [
    {
     "data": {
      "text/plain": [
       "{'nodes': [831, 832, 833, 834, 835, 836, 837, 830], 'edges': []}"
      ]
     },
     "execution_count": 15,
     "metadata": {},
     "output_type": "execute_result"
    }
   ],
   "source": [
    "# Now select one protein and all its modifications\n",
    "deltacatnodes = netnodes_df[netnodes_df['Gene.name'].str.contains(\"CTNND1\")]['id']\n",
    "p4c.select_nodes(nodes=list(deltacatnodes),by_col='id', preserve_current_selection=False)"
   ]
  },
  {
   "cell_type": "markdown",
   "metadata": {},
   "source": [
    "Let’s create a new group of the selected nodes and collapse it into one node…\n",
    "\n"
   ]
  },
  {
   "cell_type": "code",
   "execution_count": 16,
   "metadata": {},
   "outputs": [
    {
     "data": {
      "text/plain": [
       "{'groups': [1025]}"
      ]
     },
     "execution_count": 16,
     "metadata": {},
     "output_type": "execute_result"
    }
   ],
   "source": [
    "p4c.create_group(group_name='delta catenin group')\n",
    "p4c.collapse_group(groups='delta catenin group')"
   ]
  },
  {
   "cell_type": "markdown",
   "metadata": {},
   "source": [
    "…then expand it again.\n",
    "\n"
   ]
  },
  {
   "cell_type": "code",
   "execution_count": 17,
   "metadata": {},
   "outputs": [
    {
     "data": {
      "text/plain": [
       "[1025]"
      ]
     },
     "execution_count": 17,
     "metadata": {},
     "output_type": "execute_result"
    }
   ],
   "source": [
    "group_number = p4c.expand_group(groups='delta catenin group')\n",
    "group_number['groups']"
   ]
  },
  {
   "cell_type": "markdown",
   "metadata": {},
   "source": [
    "For these data, we can create groups of all proteins together with their modifications. Here we name the groups by their gene names."
   ]
  },
  {
   "cell_type": "code",
   "execution_count": 18,
   "metadata": {},
   "outputs": [
    {
     "data": {
      "text/plain": [
       "{'groups': [1025]}"
      ]
     },
     "execution_count": 18,
     "metadata": {},
     "output_type": "execute_result"
    }
   ],
   "source": [
    "p4c.delete_group(groups=group_number['groups'])"
   ]
  },
  {
   "cell_type": "markdown",
   "metadata": {},
   "source": [
    "Reference\n",
    "\n",
    "Grimes, et al., 2018. Sci. Signal. Vol. 11, Issue 531, DOI: 10.1126/scisignal.aaq1087, http://stke.sciencemag.org/content/11/531/eaaq1087.\n",
    "\n"
   ]
  }
 ],
 "metadata": {
  "kernelspec": {
   "display_name": "Python 3",
   "language": "python",
   "name": "python3"
  },
  "language_info": {
   "codemirror_mode": {
    "name": "ipython",
    "version": 3
   },
   "file_extension": ".py",
   "mimetype": "text/x-python",
   "name": "python",
   "nbconvert_exporter": "python",
   "pygments_lexer": "ipython3",
   "version": "3.7.3"
  }
 },
 "nbformat": 4,
 "nbformat_minor": 2
}
