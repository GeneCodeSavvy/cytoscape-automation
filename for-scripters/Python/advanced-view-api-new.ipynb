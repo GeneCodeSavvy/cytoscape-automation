{
  "nbformat": 4,
  "nbformat_minor": 0,
  "metadata": {
    "kernelspec": {
      "display_name": "Python 3",
      "language": "python",
      "name": "python3"
    },
    "language_info": {
      "codemirror_mode": {
        "name": "ipython",
        "version": 3
      },
      "file_extension": ".py",
      "mimetype": "text/x-python",
      "name": "python",
      "nbconvert_exporter": "python",
      "pygments_lexer": "ipython3",
      "version": "3.8.5"
    },
    "colab": {
      "name": "advanced-view-api-new.ipynb",
      "provenance": [],
      "include_colab_link": true
    }
  },
  "cells": [
    {
      "cell_type": "markdown",
      "metadata": {
        "id": "view-in-github",
        "colab_type": "text"
      },
      "source": [
        "<a href=\"https://colab.research.google.com/github/cytoscape/cytoscape-automation/blob/master/for-scripters/Python/advanced-view-api-new.ipynb\" target=\"_parent\"><img src=\"https://colab.research.google.com/assets/colab-badge.svg\" alt=\"Open In Colab\"/></a>"
      ]
    },
    {
      "cell_type": "markdown",
      "metadata": {
        "id": "O8dQ0kzFvQCQ"
      },
      "source": [
        "# py4cytoscape: View API Examples\n",
        "\n",
        "## Yihang Xin and Alex Pico\n",
        "\n",
        "## 2021-01-07\n",
        "\n",
        "\n",
        "## Introduction\n",
        "\n",
        "This is a sample Jupyter Notebook to demonstrate how users can manipulate Cytoscape network views directly from Python code.\n",
        "\n",
        "    \n",
        "#### Use Cases\n",
        "* __Create your own layout algorithms__\n",
        "* __Create annimations__\n",
        "    "
      ]
    },
    {
      "cell_type": "markdown",
      "metadata": {
        "id": "ddakX0jGvQCS"
      },
      "source": [
        "## Installation\n",
        "The following chunk of code installs the `py4cytoscape` module."
      ]
    },
    {
      "cell_type": "code",
      "metadata": {
        "id": "JlU4WsSGvQCT"
      },
      "source": [
        "%%capture\n",
        "!python3 -m pip install python-igraph requests pandas networkx\n",
        "!python3 -m pip install py4cytoscape"
      ],
      "execution_count": null,
      "outputs": []
    },
    {
      "cell_type": "markdown",
      "metadata": {
        "id": "TWar7aefvuE_"
      },
      "source": [
        "If you are using a remote notebook environment such as Google Colab, please execute the cell below. (If you're running on your local notebook, you don't need to do that.)\n",
        "\n"
      ]
    },
    {
      "cell_type": "code",
      "metadata": {
        "id": "iSD3KPvgvurG"
      },
      "source": [
        "import requests\n",
        "exec(requests.get(\"https://raw.githubusercontent.com/cytoscape/jupyter-bridge/master/client/p4c_init.py\").text)\n",
        "IPython.display.Javascript(_PY4CYTOSCAPE_BROWSER_CLIENT_JS) # Start browser client"
      ],
      "execution_count": null,
      "outputs": []
    },
    {
      "cell_type": "markdown",
      "metadata": {
        "id": "1yVGtnLrvQCU"
      },
      "source": [
        "## Basic Setup\n",
        "\n",
        "* Import required packages\n",
        "* Load a network(s)"
      ]
    },
    {
      "cell_type": "markdown",
      "metadata": {
        "id": "Tptg6vI5vQCU"
      },
      "source": [
        "## Import the required packages\n"
      ]
    },
    {
      "cell_type": "code",
      "metadata": {
        "id": "ALNAKMHkvQCU"
      },
      "source": [
        "import pandas as pd\n",
        "import json\n",
        "import py4cytoscape as p4c"
      ],
      "execution_count": null,
      "outputs": []
    },
    {
      "cell_type": "code",
      "metadata": {
        "id": "UXfGcaJwvQCV",
        "outputId": "2a899a71-91ed-49ad-ca38-64b56c60afb2"
      },
      "source": [
        "# Reset current session for fresh start\n",
        "p4c.close_session(False)\n",
        "\n",
        "# Load a sample network\n",
        "network1 = p4c.open_session()"
      ],
      "execution_count": null,
      "outputs": [
        {
          "output_type": "stream",
          "text": [
            "Opening sampleData/sessions/Yeast Perturbation.cys...\n"
          ],
          "name": "stdout"
        }
      ]
    },
    {
      "cell_type": "code",
      "metadata": {
        "id": "8TYWKrmrvQCW",
        "outputId": "7697dc5f-8c11-4682-c6c3-ef6c0f5ff569"
      },
      "source": [
        "# You can check all available Visual Properties with this function call:\n",
        "vps = p4c.get_visual_property_names()\n",
        "vps"
      ],
      "execution_count": null,
      "outputs": [
        {
          "output_type": "execute_result",
          "data": {
            "text/plain": [
              "['COMPOUND_NODE_PADDING',\n",
              " 'COMPOUND_NODE_SHAPE',\n",
              " 'DING_RENDERING_ENGINE_ROOT',\n",
              " 'EDGE',\n",
              " 'EDGE_BEND',\n",
              " 'EDGE_CURVED',\n",
              " 'EDGE_LABEL',\n",
              " 'EDGE_LABEL_COLOR',\n",
              " 'EDGE_LABEL_FONT_FACE',\n",
              " 'EDGE_LABEL_FONT_SIZE',\n",
              " 'EDGE_LABEL_TRANSPARENCY',\n",
              " 'EDGE_LABEL_WIDTH',\n",
              " 'EDGE_LINE_TYPE',\n",
              " 'EDGE_PAINT',\n",
              " 'EDGE_SELECTED',\n",
              " 'EDGE_SELECTED_PAINT',\n",
              " 'EDGE_SOURCE_ARROW_SELECTED_PAINT',\n",
              " 'EDGE_SOURCE_ARROW_SHAPE',\n",
              " 'EDGE_SOURCE_ARROW_SIZE',\n",
              " 'EDGE_SOURCE_ARROW_UNSELECTED_PAINT',\n",
              " 'EDGE_STROKE_SELECTED_PAINT',\n",
              " 'EDGE_STROKE_UNSELECTED_PAINT',\n",
              " 'EDGE_TARGET_ARROW_SELECTED_PAINT',\n",
              " 'EDGE_TARGET_ARROW_SHAPE',\n",
              " 'EDGE_TARGET_ARROW_SIZE',\n",
              " 'EDGE_TARGET_ARROW_UNSELECTED_PAINT',\n",
              " 'EDGE_TOOLTIP',\n",
              " 'EDGE_TRANSPARENCY',\n",
              " 'EDGE_UNSELECTED_PAINT',\n",
              " 'EDGE_VISIBLE',\n",
              " 'EDGE_WIDTH',\n",
              " 'NETWORK',\n",
              " 'NETWORK_ANNOTATION_SELECTION',\n",
              " 'NETWORK_BACKGROUND_PAINT',\n",
              " 'NETWORK_CENTER_X_LOCATION',\n",
              " 'NETWORK_CENTER_Y_LOCATION',\n",
              " 'NETWORK_CENTER_Z_LOCATION',\n",
              " 'NETWORK_DEPTH',\n",
              " 'NETWORK_EDGE_SELECTION',\n",
              " 'NETWORK_FORCE_HIGH_DETAIL',\n",
              " 'NETWORK_HEIGHT',\n",
              " 'NETWORK_NODE_LABEL_SELECTION',\n",
              " 'NETWORK_NODE_SELECTION',\n",
              " 'NETWORK_SCALE_FACTOR',\n",
              " 'NETWORK_SIZE',\n",
              " 'NETWORK_TITLE',\n",
              " 'NETWORK_WIDTH',\n",
              " 'NODE',\n",
              " 'NODE_BORDER_PAINT',\n",
              " 'NODE_BORDER_STROKE',\n",
              " 'NODE_BORDER_TRANSPARENCY',\n",
              " 'NODE_BORDER_WIDTH',\n",
              " 'NODE_CUSTOMGRAPHICS_1',\n",
              " 'NODE_CUSTOMGRAPHICS_2',\n",
              " 'NODE_CUSTOMGRAPHICS_3',\n",
              " 'NODE_CUSTOMGRAPHICS_4',\n",
              " 'NODE_CUSTOMGRAPHICS_5',\n",
              " 'NODE_CUSTOMGRAPHICS_6',\n",
              " 'NODE_CUSTOMGRAPHICS_7',\n",
              " 'NODE_CUSTOMGRAPHICS_8',\n",
              " 'NODE_CUSTOMGRAPHICS_9',\n",
              " 'NODE_CUSTOMGRAPHICS_POSITION_1',\n",
              " 'NODE_CUSTOMGRAPHICS_POSITION_2',\n",
              " 'NODE_CUSTOMGRAPHICS_POSITION_3',\n",
              " 'NODE_CUSTOMGRAPHICS_POSITION_4',\n",
              " 'NODE_CUSTOMGRAPHICS_POSITION_5',\n",
              " 'NODE_CUSTOMGRAPHICS_POSITION_6',\n",
              " 'NODE_CUSTOMGRAPHICS_POSITION_7',\n",
              " 'NODE_CUSTOMGRAPHICS_POSITION_8',\n",
              " 'NODE_CUSTOMGRAPHICS_POSITION_9',\n",
              " 'NODE_CUSTOMGRAPHICS_SIZE_1',\n",
              " 'NODE_CUSTOMGRAPHICS_SIZE_2',\n",
              " 'NODE_CUSTOMGRAPHICS_SIZE_3',\n",
              " 'NODE_CUSTOMGRAPHICS_SIZE_4',\n",
              " 'NODE_CUSTOMGRAPHICS_SIZE_5',\n",
              " 'NODE_CUSTOMGRAPHICS_SIZE_6',\n",
              " 'NODE_CUSTOMGRAPHICS_SIZE_7',\n",
              " 'NODE_CUSTOMGRAPHICS_SIZE_8',\n",
              " 'NODE_CUSTOMGRAPHICS_SIZE_9',\n",
              " 'NODE_CUSTOMPAINT_1',\n",
              " 'NODE_CUSTOMPAINT_2',\n",
              " 'NODE_CUSTOMPAINT_3',\n",
              " 'NODE_CUSTOMPAINT_4',\n",
              " 'NODE_CUSTOMPAINT_5',\n",
              " 'NODE_CUSTOMPAINT_6',\n",
              " 'NODE_CUSTOMPAINT_7',\n",
              " 'NODE_CUSTOMPAINT_8',\n",
              " 'NODE_CUSTOMPAINT_9',\n",
              " 'NODE_DEPTH',\n",
              " 'NODE_FILL_COLOR',\n",
              " 'NODE_HEIGHT',\n",
              " 'NODE_LABEL',\n",
              " 'NODE_LABEL_COLOR',\n",
              " 'NODE_LABEL_FONT_FACE',\n",
              " 'NODE_LABEL_FONT_SIZE',\n",
              " 'NODE_LABEL_POSITION',\n",
              " 'NODE_LABEL_TRANSPARENCY',\n",
              " 'NODE_LABEL_WIDTH',\n",
              " 'NODE_NESTED_NETWORK_IMAGE_VISIBLE',\n",
              " 'NODE_PAINT',\n",
              " 'NODE_SELECTED',\n",
              " 'NODE_SELECTED_PAINT',\n",
              " 'NODE_SHAPE',\n",
              " 'NODE_SIZE',\n",
              " 'NODE_TOOLTIP',\n",
              " 'NODE_TRANSPARENCY',\n",
              " 'NODE_VISIBLE',\n",
              " 'NODE_WIDTH',\n",
              " 'NODE_X_LOCATION',\n",
              " 'NODE_Y_LOCATION',\n",
              " 'NODE_Z_LOCATION']"
            ]
          },
          "metadata": {
            "tags": []
          },
          "execution_count": 3
        }
      ]
    },
    {
      "cell_type": "markdown",
      "metadata": {
        "id": "7zzUzCKwvQCX"
      },
      "source": [
        "## Get Network View"
      ]
    },
    {
      "cell_type": "code",
      "metadata": {
        "id": "7GxvFak_vQCY",
        "outputId": "8fb591d4-7661-4c8c-b7e3-1fee7e68adfe"
      },
      "source": [
        "# Get views for a network: Cytoscape \"may\" have multiple views, and that's why it returns list instead of an object.\n",
        "view_id_list = p4c.get_network_views()\n",
        "\n",
        "# Display IDs of available views\n",
        "print(view_id_list)"
      ],
      "execution_count": null,
      "outputs": [
        {
          "output_type": "stream",
          "text": [
            "[767]\n"
          ],
          "name": "stdout"
        }
      ]
    },
    {
      "cell_type": "code",
      "metadata": {
        "id": "TQNG-TgxvQCY"
      },
      "source": [
        "# Choose visual_property from vps\n",
        "x_loc_dict = p4c.get_node_property(visual_property='NODE_X_LOCATION')\n",
        "y_loc_dict = p4c.get_node_property(visual_property='NODE_Y_LOCATION')"
      ],
      "execution_count": null,
      "outputs": []
    },
    {
      "cell_type": "markdown",
      "metadata": {
        "id": "3sOtHi9pvQCZ"
      },
      "source": [
        "### Convert to Pandas Data Frame\n",
        "Since it's a simple dictionary, you can easily convert it into Data Frame."
      ]
    },
    {
      "cell_type": "code",
      "metadata": {
        "id": "e4ih658RvQCZ",
        "outputId": "88dd232e-e791-47cc-8353-876e0ade0104"
      },
      "source": [
        "x_loc_df = pd.DataFrame.from_dict(x_loc_dict, orient='index' )\n",
        "x_loc_df.columns = ['NODE_X_LOCATION']\n",
        "x_loc_df.head()"
      ],
      "execution_count": null,
      "outputs": [
        {
          "output_type": "execute_result",
          "data": {
            "text/html": [
              "<div>\n",
              "<style scoped>\n",
              "    .dataframe tbody tr th:only-of-type {\n",
              "        vertical-align: middle;\n",
              "    }\n",
              "\n",
              "    .dataframe tbody tr th {\n",
              "        vertical-align: top;\n",
              "    }\n",
              "\n",
              "    .dataframe thead th {\n",
              "        text-align: right;\n",
              "    }\n",
              "</style>\n",
              "<table border=\"1\" class=\"dataframe\">\n",
              "  <thead>\n",
              "    <tr style=\"text-align: right;\">\n",
              "      <th></th>\n",
              "      <th>NODE_X_LOCATION</th>\n",
              "    </tr>\n",
              "  </thead>\n",
              "  <tbody>\n",
              "    <tr>\n",
              "      <th>YGL097W</th>\n",
              "      <td>2907.162394</td>\n",
              "    </tr>\n",
              "    <tr>\n",
              "      <th>YNL307C</th>\n",
              "      <td>1947.405288</td>\n",
              "    </tr>\n",
              "    <tr>\n",
              "      <th>YIL105C</th>\n",
              "      <td>2025.928395</td>\n",
              "    </tr>\n",
              "    <tr>\n",
              "      <th>YNL091W</th>\n",
              "      <td>2442.553539</td>\n",
              "    </tr>\n",
              "    <tr>\n",
              "      <th>YFL026W</th>\n",
              "      <td>2378.525340</td>\n",
              "    </tr>\n",
              "  </tbody>\n",
              "</table>\n",
              "</div>"
            ],
            "text/plain": [
              "         NODE_X_LOCATION\n",
              "YGL097W      2907.162394\n",
              "YNL307C      1947.405288\n",
              "YIL105C      2025.928395\n",
              "YNL091W      2442.553539\n",
              "YFL026W      2378.525340"
            ]
          },
          "metadata": {
            "tags": []
          },
          "execution_count": 6
        }
      ]
    },
    {
      "cell_type": "code",
      "metadata": {
        "id": "wegL9v5bvQCa",
        "outputId": "24f3fca8-1b42-4466-de81-945648c58cba"
      },
      "source": [
        "y_loc_df = pd.DataFrame.from_dict(y_loc_dict, orient='index' )\n",
        "y_loc_df.columns = ['NODE_Y_LOCATION']\n",
        "y_loc_df.head()"
      ],
      "execution_count": null,
      "outputs": [
        {
          "output_type": "execute_result",
          "data": {
            "text/html": [
              "<div>\n",
              "<style scoped>\n",
              "    .dataframe tbody tr th:only-of-type {\n",
              "        vertical-align: middle;\n",
              "    }\n",
              "\n",
              "    .dataframe tbody tr th {\n",
              "        vertical-align: top;\n",
              "    }\n",
              "\n",
              "    .dataframe thead th {\n",
              "        text-align: right;\n",
              "    }\n",
              "</style>\n",
              "<table border=\"1\" class=\"dataframe\">\n",
              "  <thead>\n",
              "    <tr style=\"text-align: right;\">\n",
              "      <th></th>\n",
              "      <th>NODE_Y_LOCATION</th>\n",
              "    </tr>\n",
              "  </thead>\n",
              "  <tbody>\n",
              "    <tr>\n",
              "      <th>YGL097W</th>\n",
              "      <td>3413.962109</td>\n",
              "    </tr>\n",
              "    <tr>\n",
              "      <th>YNL307C</th>\n",
              "      <td>1751.311222</td>\n",
              "    </tr>\n",
              "    <tr>\n",
              "      <th>YIL105C</th>\n",
              "      <td>2460.251698</td>\n",
              "    </tr>\n",
              "    <tr>\n",
              "      <th>YNL091W</th>\n",
              "      <td>1818.504221</td>\n",
              "    </tr>\n",
              "    <tr>\n",
              "      <th>YFL026W</th>\n",
              "      <td>2559.085255</td>\n",
              "    </tr>\n",
              "  </tbody>\n",
              "</table>\n",
              "</div>"
            ],
            "text/plain": [
              "         NODE_Y_LOCATION\n",
              "YGL097W      3413.962109\n",
              "YNL307C      1751.311222\n",
              "YIL105C      2460.251698\n",
              "YNL091W      1818.504221\n",
              "YFL026W      2559.085255"
            ]
          },
          "metadata": {
            "tags": []
          },
          "execution_count": 7
        }
      ]
    },
    {
      "cell_type": "code",
      "metadata": {
        "id": "XJhAPzXLvQCa",
        "outputId": "28494d20-35c0-4a2c-e523-8b605ec15196"
      },
      "source": [
        "nodes_name = p4c.get_all_nodes()\n",
        "nv1 = nodes_name[0]\n",
        "print(nv1)"
      ],
      "execution_count": null,
      "outputs": [
        {
          "output_type": "stream",
          "text": [
            "YKR026C\n"
          ],
          "name": "stdout"
        }
      ]
    },
    {
      "cell_type": "code",
      "metadata": {
        "id": "Maw5WUlZvQCa",
        "outputId": "5ebcf81c-5534-43c5-e24b-a6fa077babed"
      },
      "source": [
        "# Access single value\n",
        "nv1_color = p4c.get_node_property(visual_property='NODE_FILL_COLOR', node_names=nv1)\n",
        "print(nv1_color)"
      ],
      "execution_count": null,
      "outputs": [
        {
          "output_type": "stream",
          "text": [
            "{'YKR026C': '#EFF5FC'}\n"
          ],
          "name": "stdout"
        }
      ]
    },
    {
      "cell_type": "markdown",
      "metadata": {
        "id": "F9-ZMoyDvQCa"
      },
      "source": [
        "## Directly set Visual Property values\n",
        "\n",
        "Setting values are also easy with py4cytoscape.  All you have to do is creating a dictionary for the target nodes and edges.\n",
        "\n",
        "###  Set random colors to nodes"
      ]
    },
    {
      "cell_type": "code",
      "metadata": {
        "id": "u0IStQbzvQCb",
        "outputId": "ff6c7abe-a1f9-41bf-9f6e-cb30615ce0fa"
      },
      "source": [
        "# Switch current visual stye to a simple one...\n",
        "p4c.create_visual_style('Minimal')\n",
        "p4c.set_visual_style('Minimal', network=network1)"
      ],
      "execution_count": null,
      "outputs": [
        {
          "output_type": "execute_result",
          "data": {
            "text/plain": [
              "{'message': 'Visual Style applied.'}"
            ]
          },
          "metadata": {
            "tags": []
          },
          "execution_count": 10
        }
      ]
    },
    {
      "cell_type": "code",
      "metadata": {
        "id": "AYRdjUS1vQCb",
        "outputId": "2227f79d-041f-410a-cd71-059d23abccc7"
      },
      "source": [
        "# Change background color to black\n",
        "p4c.set_background_color_default('#000000', style_name='Minimal')"
      ],
      "execution_count": null,
      "outputs": [
        {
          "output_type": "execute_result",
          "data": {
            "text/plain": [
              "''"
            ]
          },
          "metadata": {
            "tags": []
          },
          "execution_count": 11
        }
      ]
    },
    {
      "cell_type": "code",
      "metadata": {
        "id": "HdW2pUAWvQCb"
      },
      "source": [
        "target_nodes = p4c.get_node_property(visual_property='NODE_LABEL')"
      ],
      "execution_count": null,
      "outputs": []
    },
    {
      "cell_type": "code",
      "metadata": {
        "id": "wyKoEcqFvQCb"
      },
      "source": [
        "# Generate random colors for each node\n",
        "import random\n",
        "\n",
        "def get_color():\n",
        "    r = random.randint(0, 255)\n",
        "    g = random.randint(0, 255)\n",
        "    b = random.randint(0, 255)\n",
        "    return '#' + hex(r)[2:] + hex(g)[2:] + hex(b)[2:]\n",
        "\n",
        "# Assign key-value pair.  For this example, node SUID to color.\n",
        "def generate_randome_color_dict(node_ids):\n",
        "    new_values = {}\n",
        "    for n in node_ids:\n",
        "        new_values[n] = get_color()\n",
        "    return new_values\n",
        "\n",
        "new_values = generate_randome_color_dict(target_nodes)"
      ],
      "execution_count": null,
      "outputs": []
    },
    {
      "cell_type": "code",
      "metadata": {
        "id": "ouNZ_20gvQCc",
        "outputId": "e86ea6a6-7b22-4f97-9212-982bdb56e5c9"
      },
      "source": [
        "# Set new values for a set of nodes.  In this case, all nodes in the network\n",
        "NODE_FILL_COLOR = p4c.map_visual_property('node fill color', 'name', 'd', list(new_values.keys()), list(new_values.values()))\n",
        "p4c.update_style_mapping('Minimal', NODE_FILL_COLOR)\n",
        "p4c.set_visual_style('Minimal')"
      ],
      "execution_count": null,
      "outputs": [
        {
          "output_type": "execute_result",
          "data": {
            "text/plain": [
              "{'message': 'Visual Style applied.'}"
            ]
          },
          "metadata": {
            "tags": []
          },
          "execution_count": 14
        }
      ]
    }
  ]
}