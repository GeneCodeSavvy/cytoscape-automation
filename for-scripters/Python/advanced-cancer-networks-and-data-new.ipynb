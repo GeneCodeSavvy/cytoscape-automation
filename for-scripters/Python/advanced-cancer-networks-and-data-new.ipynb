{
  "nbformat": 4,
  "nbformat_minor": 0,
  "metadata": {
    "kernelspec": {
      "display_name": "Python 3",
      "language": "python",
      "name": "python3"
    },
    "language_info": {
      "codemirror_mode": {
        "name": "ipython",
        "version": 3
      },
      "file_extension": ".py",
      "mimetype": "text/x-python",
      "name": "python",
      "nbconvert_exporter": "python",
      "pygments_lexer": "ipython3",
      "version": "3.8.5"
    },
    "colab": {
      "name": "advanced-cancer-networks-and-data-new.ipynb",
      "provenance": [],
      "include_colab_link": true
    }
  },
  "cells": [
    {
      "cell_type": "markdown",
      "metadata": {
        "id": "view-in-github",
        "colab_type": "text"
      },
      "source": [
        "<a href=\"https://colab.research.google.com/github/cytoscape/cytoscape-automation/blob/master/for-scripters/Python/advanced-cancer-networks-and-data-new.ipynb\" target=\"_parent\"><img src=\"https://colab.research.google.com/assets/colab-badge.svg\" alt=\"Open In Colab\"/></a>"
      ]
    },
    {
      "cell_type": "markdown",
      "metadata": {
        "id": "FqfuSqVtuApv"
      },
      "source": [
        "## Advanced cancer networks and data\n",
        "\n",
        "## Yihang Xin and Alex Pico\n",
        "\n",
        "## 2021-01-05"
      ]
    },
    {
      "cell_type": "markdown",
      "metadata": {
        "id": "Su1OcfeEuApy"
      },
      "source": [
        "## Installation"
      ]
    },
    {
      "cell_type": "markdown",
      "metadata": {
        "id": "s5t_F7kkuApy"
      },
      "source": [
        "The following chunk of code installs the `py4cytoscape` module."
      ]
    },
    {
      "cell_type": "code",
      "metadata": {
        "id": "rJAZm_GXuApz"
      },
      "source": [
        "%%capture\n",
        "!python3 -m pip install python-igraph requests pandas networkx\n",
        "!python3 -m pip install wget\n",
        "!python3 -m pip install py4cytoscape"
      ],
      "execution_count": 1,
      "outputs": []
    },
    {
      "cell_type": "markdown",
      "metadata": {
        "id": "05tuOXGfuWmA"
      },
      "source": [
        "If you are using a remote notebook environment such as Google Colab, please execute the cell below. (If you're running on your local notebook, you don't need to do that.)\n",
        "\n"
      ]
    },
    {
      "cell_type": "code",
      "metadata": {
        "id": "weUAQHwHuXYs",
        "outputId": "2d228080-d471-4ccc-e76b-5bf670532ae1",
        "colab": {
          "base_uri": "https://localhost:8080/",
          "height": 329
        }
      },
      "source": [
        "import requests\n",
        "exec(requests.get(\"https://raw.githubusercontent.com/cytoscape/jupyter-bridge/master/client/p4c_init.py\").text)\n",
        "IPython.display.Javascript(_PY4CYTOSCAPE_BROWSER_CLIENT_JS) # Start browser client"
      ],
      "execution_count": 2,
      "outputs": [
        {
          "output_type": "stream",
          "text": [
            "Requirement already satisfied: py4cytoscape in /usr/local/lib/python3.7/dist-packages (0.0.9)\n",
            "Requirement already satisfied: requests in /usr/local/lib/python3.7/dist-packages (from py4cytoscape) (2.23.0)\n",
            "Requirement already satisfied: colorbrewer in /usr/local/lib/python3.7/dist-packages (from py4cytoscape) (0.2.0)\n",
            "Requirement already satisfied: networkx in /usr/local/lib/python3.7/dist-packages (from py4cytoscape) (2.5.1)\n",
            "Requirement already satisfied: python-igraph in /usr/local/lib/python3.7/dist-packages (from py4cytoscape) (0.9.6)\n",
            "Requirement already satisfied: pandas in /usr/local/lib/python3.7/dist-packages (from py4cytoscape) (1.1.5)\n",
            "Requirement already satisfied: six in /usr/local/lib/python3.7/dist-packages (from colorbrewer->py4cytoscape) (1.15.0)\n",
            "Requirement already satisfied: decorator<5,>=4.3 in /usr/local/lib/python3.7/dist-packages (from networkx->py4cytoscape) (4.4.2)\n",
            "Requirement already satisfied: pytz>=2017.2 in /usr/local/lib/python3.7/dist-packages (from pandas->py4cytoscape) (2018.9)\n",
            "Requirement already satisfied: python-dateutil>=2.7.3 in /usr/local/lib/python3.7/dist-packages (from pandas->py4cytoscape) (2.8.1)\n",
            "Requirement already satisfied: numpy>=1.15.4 in /usr/local/lib/python3.7/dist-packages (from pandas->py4cytoscape) (1.19.5)\n",
            "Requirement already satisfied: texttable>=1.6.2 in /usr/local/lib/python3.7/dist-packages (from python-igraph->py4cytoscape) (1.6.4)\n",
            "Requirement already satisfied: chardet<4,>=3.0.2 in /usr/local/lib/python3.7/dist-packages (from requests->py4cytoscape) (3.0.4)\n",
            "Requirement already satisfied: urllib3!=1.25.0,!=1.25.1,<1.26,>=1.21.1 in /usr/local/lib/python3.7/dist-packages (from requests->py4cytoscape) (1.24.3)\n",
            "Requirement already satisfied: idna<3,>=2.5 in /usr/local/lib/python3.7/dist-packages (from requests->py4cytoscape) (2.10)\n",
            "Requirement already satisfied: certifi>=2017.4.17 in /usr/local/lib/python3.7/dist-packages (from requests->py4cytoscape) (2021.5.30)\n",
            "Loading Javascript client ... fdcae367-56ad-41c6-9485-314d61ccfb3f on https://jupyter-bridge.cytoscape.org\n",
            "ADVICE: WHEN RUNNING UNDER COLAB, DO NOT RE-RUN THIS CELL WITHOUT MANUALLY EXECUTING Runtime | Factory Reset Runtime FROM THE COLAB MENU FIRST.\n"
          ],
          "name": "stdout"
        },
        {
          "output_type": "execute_result",
          "data": {
            "application/javascript": [
              "var Channel = \"fdcae367-56ad-41c6-9485-314d61ccfb3f\"; \n",
              "\n",
              "var JupyterBridge = \"https://jupyter-bridge.cytoscape.org\"; \n",
              "\n",
              "  /*\n",
              "    These functions serve as a connector between a remote Jupyter server and Cytoscape.\n",
              "    They run in the user's browser, which also shows the Jupyter Notebook.\n",
              "\n",
              "    A remote Jupyter Notebook call to the py4cytoscape package is forwarded to the Jupyter Bridge,\n",
              "    which is a standalone server. The functions in this connector execute in the Jupyter Notebook\n",
              "    browser, which executes on the same PC as Cytoscape. So, that's 4 components: (A) remote\n",
              "    Jupyter Notebook, (B) separate Jupyter Bridge server, (C) this browser-based component, and\n",
              "    (D) Cytoscape. (A) is on a remote server, (B) is on a different remote server, and (C) and (D)\n",
              "    are on the user's PC.\n",
              "\n",
              "    (A) calls its py4cytoscape module, which forwards the request (in a JSON wrapper) to (B).\n",
              "    (C) picks up the request from (B), unpacks the request and forwards it to (D). (C) awaits a\n",
              "    reply from (D), and when it gets it, it forwards the reply (in a JSON wrapper) to (B).\n",
              "    (A)'s py4cytoscape module picks up the reply on (B) when it becomes available, unpacks it,\n",
              "    and returns it to (A).\n",
              "\n",
              "    A Jupyter Notebook can talk to only one Cytoscape (i.e., the one on the machine running the\n",
              "    Jupyter Notebook browser), and Cytoscape should be called by only one Jupyter Notebook. The\n",
              "    Jupyter Bridge differentiates between Notebook-Cytoscape conversations via a channel UUID.\n",
              "    The UUID is prepended to this browser component by py4Cytoscape, and the component is\n",
              "    started by the Jupyter Notebook. (I wish py4Cytoscape could start the component, too, but I\n",
              "    haven't figured out how to do that yet, so startup code *is* required in the Jupyter\n",
              "    Notebook.)\n",
              "\n",
              "    Note that for the case of a Jupyter server running on the same machine as Cytoscape, this\n",
              "    bridge isn't necessary because the Jupyter server's HTTP calls can easily connect to\n",
              "    Cytoscape over a localhost socket. So, the combination of Jupyter Bridge and this browser\n",
              "    component solves the problem of a Jupyter server (e.g., Google's Colab) that can't\n",
              "    connect to Cytoscape that sits behind a firewall.\n",
              "\n",
              "    The request represents an HTTP call that py4cytoscape would normally make via HTTP directly\n",
              "    to Cytoscape via localhost when both py4cytoscape and Cytoscape are running on the same machine.\n",
              " */\n",
              "\n",
              "const VERSION = '0.0.2'\n",
              "\n",
              "var showDebug; // Flag indicating whether to show Jupyter-bridge progress\n",
              "if (typeof showDebug === 'undefined') {\n",
              "    showDebug = false\n",
              "}\n",
              "if (showDebug) {\n",
              "    alert(\"Starting Jupyter-bridge browser component\")\n",
              "}\n",
              "\n",
              "//const JupyterBridge = 'http://127.0.0.1:5000' // for testing against local Jupyter-bridge\n",
              "var JupyterBridge; // URL of Jupyter-bridge server could be defined by assignment pre-pended to this file\n",
              "if (typeof JupyterBridge === 'undefined') {\n",
              "    JupyterBridge = 'https://jupyter-bridge.cytoscape.org' // for production\n",
              "}\n",
              "var Channel; // Unique constant that could be defined by assignment pre-pended to this file\n",
              "if (typeof Channel === 'undefined') { // ... but if not assigned, use a debugging value\n",
              "    Channel = 1\n",
              "}\n",
              "\n",
              "\n",
              "var httpR = new XMLHttpRequest(); // for sending reply to Jupyter-bridge\n",
              "var httpRE = new XMLHttpRequest(); // for sending backup error reply to Jupyter-bridge\n",
              "var httpC = new XMLHttpRequest(); // for sending command to Cytoscape\n",
              "var httpJ = new XMLHttpRequest(); // for fetching request from Jupyter-bridge\n",
              "\n",
              "const HTTP_OK = 200\n",
              "const HTTP_SYS_ERR = 500\n",
              "const HTTP_TIMEOUT = 408\n",
              "const HTTP_TOO_MANY = 429\n",
              "\n",
              "\n",
              " /* This function is useful if we want to rewrite the incoming URL to resolve just to our local one.\n",
              "    Doing this stops the Jupyter component from abusing this client to call out to endpoints other\n",
              "    than local Cytoscape. On the other hand, it makes it hard to detect when the Jupyter component\n",
              "    has specified a genuinely bad URL and really should get an error result. For now, we'll execute\n",
              "    the Jupyter-supplied URL and return the result, whatever it may be.\n",
              "\n",
              "const LocalCytoscape = 'http://127.0.0.1:1234'\n",
              "\n",
              "function parseURL(url) {\n",
              "    var reURLInformation = new RegExp([\n",
              "        '^(https?:)//', // protocol\n",
              "        '(([^:/?#]*)(?::([0-9]+))?)', // host (hostname and port)\n",
              "        '(/{0,1}[^?#]*)', // pathname\n",
              "        '(\\\\?[^#]*|)', // search\n",
              "        '(#.*|)$' // hash\n",
              "    ].join(''));\n",
              "    var match = url.match(reURLInformation);\n",
              "    return match && {\n",
              "        url: url,\n",
              "        protocol: match[1],\n",
              "        host: match[2],\n",
              "        hostname: match[3],\n",
              "        port: match[4],\n",
              "        pathname: match[5],\n",
              "        search: match[6],\n",
              "        hash: match[7]\n",
              "    }\n",
              "}\n",
              "*/\n",
              "\n",
              "function replyCytoscape(replyStatus, replyStatusText, replyText) {\n",
              "\n",
              "    // Clean up after Jupyter bridge accepts reply\n",
              "    httpR.onreadystatechange = function() {\n",
              "        if (httpR.readyState === 4) {\n",
              "            if (showDebug) {\n",
              "                console.log(' status from queue_reply: ' + httpR.status + ', reply: ' + httpR.responseText)\n",
              "            }\n",
              "        }\n",
              "    }\n",
              "\n",
              "    httpR.onerror = function() {\n",
              "        // Clean up after Jupyter bridge accepts backup reply\n",
              "        httpRE.onreadystatechange = function() {\n",
              "            if (httpRE.readyState === 4) {\n",
              "                if (showDebug) {\n",
              "                    console.log(' status from backup queue_reply: ' + httpRE.status + ', reply: ' + httpRE.responseText)\n",
              "                }\n",
              "            }\n",
              "        }\n",
              "\n",
              "        if (showDebug) {\n",
              "            console.log(' error from queue_reply -- could be Jupyter-Bridge server reject')\n",
              "        }\n",
              "        var errReply = {'status': HTTP_SYS_ERR, 'reason': 'Jupyter-Bridge rejected reply', 'text': 'Possibly reply is too long for Jupyter-Bridge server'}\n",
              "        httpRE.open('POST', jupyterBridgeURL, true)\n",
              "        httpRE.setRequestHeader('Content-Type', 'text/plain')\n",
              "        httpRE.send(JSON.stringify(errReply))\n",
              "    }\n",
              "\n",
              "    var reply = {'status': replyStatus, 'reason': replyStatusText, 'text': replyText}\n",
              "\n",
              "    // Send reply to Jupyter bridge\n",
              "    var jupyterBridgeURL = JupyterBridge + '/queue_reply?channel=' + Channel\n",
              "    if (showDebug) {\n",
              "        console.log('Starting queue to Jupyter bridge: ' + jupyterBridgeURL)\n",
              "    }\n",
              "    httpR.open('POST', jupyterBridgeURL, true)\n",
              "    httpR.setRequestHeader('Content-Type', 'text/plain')\n",
              "    httpR.send(JSON.stringify(reply))\n",
              "}\n",
              "\n",
              "function callCytoscape(callSpec) {\n",
              "\n",
              "    // Captures Cytoscape reply and sends it on\n",
              "    httpC.onreadystatechange = function() {\n",
              "        if (httpC.readyState === 4) {\n",
              "            if (showDebug) {\n",
              "                console.log(' status from CyREST: ' + httpC.status + ', statusText: ' + httpC.statusText + ', reply: ' + httpC.responseText)\n",
              "            }\n",
              "            // Note that httpC.status is 0 if the URL can't be reached *OR* there is a CORS violation.\n",
              "            // I wish I could tell the difference because for a CORS violation, I'd return a 404,\n",
              "            // which would roughly match what Python's native request package would return.\n",
              "            // The practical consequence is that the ultimate caller (e.g., py4cytoscape)\n",
              "            // returns different exceptions, depending on wither this module is doing the\n",
              "            // HTTP operation or the native Python requests package is. This is minor, but\n",
              "            // messes up tests that verify the exception type.\n",
              "            replyCytoscape(httpC.status, httpC.statusText, httpC.responseText)\n",
              "            waitOnJupyterBridge()\n",
              "        }\n",
              "    }\n",
              "\n",
              "//  Build up request to Cytoscape, making sure host is local.\n",
              "//    Too heavy handed: localURL = LocalCytoscape + parseURL(callSpec.url).pathname\n",
              "    var localURL = callSpec.url // Try using what was passed in ... is there a security risk??\n",
              "\n",
              "    if (showDebug) {\n",
              "        console.log('Command to CyREST: ' + callSpec.command + ' (' + localURL + ')')\n",
              "        if (callSpec.params) {\n",
              "            console.log(' params: ' + JSON.stringify(callSpec.params))\n",
              "        }\n",
              "        if (callSpec.headers) {\n",
              "            console.log(' header: ' + JSON.stringify(callSpec.headers))\n",
              "        }\n",
              "        if (callSpec.data) {\n",
              "            console.log('   data: ' + JSON.stringify(callSpec.data))\n",
              "        }\n",
              "    }\n",
              "\n",
              "    if (callSpec.command === 'webbrowser') {\n",
              "        if (window.open(callSpec.url)) {\n",
              "            replyCytoscape(HTTP_OK, 'OK', '')\n",
              "        } else {\n",
              "            replyCytoscape(HTTP_SYS_ERR, 'BAD BROWSER OPEN', '')\n",
              "        }\n",
              "        waitOnJupyterBridge()\n",
              "    } else if (callSpec.command === 'version') {\n",
              "        replyCytoscape(HTTP_OK, 'OK',\n",
              "            JSON.stringify({\"jupyterBridgeVersion\": VERSION}))\n",
              "        waitOnJupyterBridge()\n",
              "    } else {\n",
              "        var joiner = '?'\n",
              "        for (let param in callSpec.params) {\n",
              "            localURL = localURL + joiner + param + '=' + encodeURIComponent(callSpec.params[param])\n",
              "            joiner = '&'\n",
              "        }\n",
              "\n",
              "        httpC.open(callSpec.command, localURL, true)\n",
              "        for (let header in callSpec.headers) {\n",
              "            httpC.setRequestHeader(header, callSpec.headers[header])\n",
              "        }\n",
              "\n",
              "        // Send request to Cytoscape ... reply goes to onreadystatechange handler\n",
              "        httpC.send(JSON.stringify(callSpec.data))\n",
              "    }\n",
              "}\n",
              "\n",
              "function waitOnJupyterBridge() {\n",
              "\n",
              "    // Captures request from Jupyter bridge\n",
              "    httpJ.onreadystatechange = function() {\n",
              "        if (httpJ.readyState === 4) {\n",
              "            if (showDebug) {\n",
              "                console.log(' status from dequeue_request: ' + httpJ.status + ', reply: ' + httpJ.responseText)\n",
              "            }\n",
              "            try {\n",
              "                if (httpJ.status == HTTP_TOO_MANY) {\n",
              "                    // Nothing more to do ... the browser has created too many listeners,\n",
              "                    // and it's time to stop listening because the server saw a listener\n",
              "                    // listening on this channel before we got there.\n",
              "                    console.log('  shutting down because of redundant reader on channel: ' + Channel)\n",
              "                } else {\n",
              "                    if (httpJ.status === HTTP_TIMEOUT) {\n",
              "                        waitOnJupyterBridge()\n",
              "                    } else {\n",
              "                        callCytoscape(JSON.parse(httpJ.responseText))\n",
              "                    }\n",
              "                }\n",
              "            } catch(err) {\n",
              "                if (showDebug) {\n",
              "                    console.log(' exception calling Cytoscape: ' + err)\n",
              "                }\n",
              "                // Bad responseText means something bad happened that we don't understand.\n",
              "                // Go wait on another request, as there's nothing to call Cytoscape with.\n",
              "                waitOnJupyterBridge()\n",
              "            }\n",
              "        }\n",
              "    }\n",
              "\n",
              "    // Wait for request from Jupyter bridge\n",
              "    var jupyterBridgeURL = JupyterBridge + '/dequeue_request?channel=' + Channel\n",
              "    if (showDebug) {\n",
              "        console.log('Starting dequeue on Jupyter bridge: ' + jupyterBridgeURL)\n",
              "    }\n",
              "    httpJ.open('GET', jupyterBridgeURL, true)\n",
              "    httpJ.send()\n",
              "}\n",
              "\n",
              "// This kicks off a loop that ends by calling waitOnJupyterBridge again. This first call\n",
              "// ejects any dead readers before we start a read\n",
              "waitOnJupyterBridge() // Wait for message from Jupyter bridge, execute it, and return reply\n",
              "\n",
              "if (showDebug) {\n",
              "    alert(\"Jupyter-bridge browser component is started on \" + JupyterBridge + ', channel ' + Channel)\n",
              "}\n"
            ],
            "text/plain": [
              "<IPython.core.display.Javascript object>"
            ]
          },
          "metadata": {
            "tags": []
          },
          "execution_count": 2
        }
      ]
    },
    {
      "cell_type": "markdown",
      "metadata": {
        "id": "ey2t4jmHuApz"
      },
      "source": [
        "## Import the required packages\n"
      ]
    },
    {
      "cell_type": "code",
      "metadata": {
        "id": "oGe1JOV3uAp0"
      },
      "source": [
        "import os\n",
        "import sys\n",
        "from time import sleep\n",
        "import pandas as pd\n",
        "import matplotlib\n",
        "import matplotlib.pyplot as plt\n",
        "import seaborn as sns\n",
        "import py4cytoscape as p4c\n",
        "import wget\n",
        "from IPython.display import Image\n",
        "%matplotlib inline\n",
        "pd.options.mode.chained_assignment = None"
      ],
      "execution_count": 3,
      "outputs": []
    },
    {
      "cell_type": "markdown",
      "metadata": {
        "id": "8gc7D8jnuAp0"
      },
      "source": [
        "## Setup Cytoscape\n",
        "* Launch Cytoscape on your local machine. If you haven't already installed Cytoscape, then download the latest version from http://cytoscape.org.\n",
        "* Install the STRING app, if you haven't already: http://apps.cytoscape.org/apps/stringapp\n",
        "* Install the filetransfer app from https://apps.cytoscape.org/apps/filetransfer\n",
        "* Leave Cytoscape running in the background during the remainder of the tutorial.\n",
        "* Check cytoscape connection.\n",
        "\n",
        "You can also install app inside Python notebook by running \"py4cytoscape.install_app('Your App')\""
      ]
    },
    {
      "cell_type": "code",
      "metadata": {
        "id": "Ze9U5m2ruAp1",
        "outputId": "b59f5077-b557-462d-87ad-6ab2e685dd26",
        "colab": {
          "base_uri": "https://localhost:8080/"
        }
      },
      "source": [
        "p4c.cytoscape_version_info()"
      ],
      "execution_count": 4,
      "outputs": [
        {
          "output_type": "execute_result",
          "data": {
            "text/plain": [
              "{'apiVersion': 'v1',\n",
              " 'automationAPIVersion': '1.2.0',\n",
              " 'cytoscapeVersion': '3.9.0-SNAPSHOT',\n",
              " 'jupyterBridgeVersion': '0.0.2',\n",
              " 'py4cytoscapeVersion': '0.0.9'}"
            ]
          },
          "metadata": {
            "tags": []
          },
          "execution_count": 4
        }
      ]
    },
    {
      "cell_type": "markdown",
      "metadata": {
        "id": "JSPVf3i6uAp2"
      },
      "source": [
        "## Step 1: Getting Disease Networks\n",
        "\n",
        "Use Cytoscape to query the STRING database for networks of genes associated with breast cancer and ovarian cancer.\n",
        "\n",
        "### Query STRING database by disease to generate networks\n",
        "\n",
        "#### Breast cancer"
      ]
    },
    {
      "cell_type": "code",
      "metadata": {
        "id": "2KoRq-gPuAp3"
      },
      "source": [
        "string_cmd_list = ['string disease query','disease=\"breast cancer\"', 'species=\"Homo sapiens\"', 'limit=150', 'cutoff=0.9']"
      ],
      "execution_count": null,
      "outputs": []
    },
    {
      "cell_type": "code",
      "metadata": {
        "id": "FFWau5GbuAp4"
      },
      "source": [
        "string_cmd = \" \".join(string_cmd_list)"
      ],
      "execution_count": null,
      "outputs": []
    },
    {
      "cell_type": "code",
      "metadata": {
        "id": "oWkBFj8BuAp4",
        "outputId": "200c7fb7-a308-4099-844b-c0905e70a12a"
      },
      "source": [
        "p4c.commands.commands_run(string_cmd)"
      ],
      "execution_count": null,
      "outputs": [
        {
          "output_type": "execute_result",
          "data": {
            "text/plain": [
              "[\"Loaded network 'String Network - breast cancer' with 150 nodes and 882 edges\"]"
            ]
          },
          "metadata": {
            "tags": []
          },
          "execution_count": 6
        }
      ]
    },
    {
      "cell_type": "markdown",
      "metadata": {
        "id": "kO-bTDW0uAp4"
      },
      "source": [
        "#### Ovarian cancer\n"
      ]
    },
    {
      "cell_type": "code",
      "metadata": {
        "id": "a2DlzOu1uAp5"
      },
      "source": [
        "string_cmd_list = ['string disease query','disease=\"ovarian cancer\"', 'species=\"Homo sapiens\"', 'limit=150', 'cutoff=0.9']"
      ],
      "execution_count": null,
      "outputs": []
    },
    {
      "cell_type": "code",
      "metadata": {
        "id": "MZUbq-FYuAp5"
      },
      "source": [
        "string_cmd = \" \".join(string_cmd_list)"
      ],
      "execution_count": null,
      "outputs": []
    },
    {
      "cell_type": "code",
      "metadata": {
        "id": "A3g8KTyauAp6",
        "outputId": "7824b384-e244-4b88-a894-c9eed21bb362"
      },
      "source": [
        "p4c.commands.commands_run(string_cmd)"
      ],
      "execution_count": null,
      "outputs": [
        {
          "output_type": "execute_result",
          "data": {
            "text/plain": [
              "[\"Loaded network 'String Network - ovarian cancer' with 150 nodes and 774 edges\"]"
            ]
          },
          "metadata": {
            "tags": []
          },
          "execution_count": 9
        }
      ]
    },
    {
      "cell_type": "markdown",
      "metadata": {
        "id": "SbcYI3IsuAp6"
      },
      "source": [
        "## Step 2: Interacting with Cytoscape \n",
        "\n",
        "### Get list of networks "
      ]
    },
    {
      "cell_type": "code",
      "metadata": {
        "id": "9DMKiJORuAp6",
        "outputId": "4f777e5c-8d84-4f1e-91df-0b5447d66961"
      },
      "source": [
        "p4c.get_network_list()"
      ],
      "execution_count": null,
      "outputs": [
        {
          "output_type": "execute_result",
          "data": {
            "text/plain": [
              "['String Network - ovarian cancer', 'String Network - breast cancer']"
            ]
          },
          "metadata": {
            "tags": []
          },
          "execution_count": 10
        }
      ]
    },
    {
      "cell_type": "code",
      "metadata": {
        "id": "OdGU9HiBuAp6",
        "outputId": "3754c0ae-ac28-49fc-a335-81d7bf0fb00c"
      },
      "source": [
        "p4c.get_network_suid('String Network - ovarian cancer')"
      ],
      "execution_count": null,
      "outputs": [
        {
          "output_type": "execute_result",
          "data": {
            "text/plain": [
              "45814"
            ]
          },
          "metadata": {
            "tags": []
          },
          "execution_count": 11
        }
      ]
    },
    {
      "cell_type": "code",
      "metadata": {
        "id": "-fehRIZ8uAp6",
        "outputId": "3eb6940b-0a72-4d5b-c6f3-ea3fa55534be"
      },
      "source": [
        "p4c.get_network_suid('String Network - breast cancer')"
      ],
      "execution_count": null,
      "outputs": [
        {
          "output_type": "execute_result",
          "data": {
            "text/plain": [
              "43723"
            ]
          },
          "metadata": {
            "tags": []
          },
          "execution_count": 12
        }
      ]
    },
    {
      "cell_type": "markdown",
      "metadata": {
        "id": "w5ozzUGEuAp7"
      },
      "source": [
        "### Layout network"
      ]
    },
    {
      "cell_type": "code",
      "metadata": {
        "id": "SlYjRjR8uAp7",
        "outputId": "0b961b90-0c4a-4174-982c-19e66d936877"
      },
      "source": [
        "p4c.layout_network('circular', 'String Network - ovarian cancer')"
      ],
      "execution_count": null,
      "outputs": [
        {
          "output_type": "execute_result",
          "data": {
            "text/plain": [
              "{}"
            ]
          },
          "metadata": {
            "tags": []
          },
          "execution_count": 13
        }
      ]
    },
    {
      "cell_type": "markdown",
      "metadata": {
        "id": "lq_TcwN7uAp7"
      },
      "source": [
        "#### List of layout algorithms available"
      ]
    },
    {
      "cell_type": "code",
      "metadata": {
        "id": "b-ovKW5quAp7",
        "outputId": "71fc8064-bff0-40f1-9b9e-9781c8fe8a5e"
      },
      "source": [
        "p4c.commands.cyrest_get('apply/layouts')"
      ],
      "execution_count": null,
      "outputs": [
        {
          "output_type": "execute_result",
          "data": {
            "text/plain": [
              "['attribute-circle',\n",
              " 'stacked-node-layout',\n",
              " 'degree-circle',\n",
              " 'circular',\n",
              " 'attributes-layout',\n",
              " 'kamada-kawai',\n",
              " 'force-directed',\n",
              " 'cose',\n",
              " 'grid',\n",
              " 'hierarchical',\n",
              " 'fruchterman-rheingold',\n",
              " 'isom',\n",
              " 'force-directed-cl']"
            ]
          },
          "metadata": {
            "tags": []
          },
          "execution_count": 14
        }
      ]
    },
    {
      "cell_type": "code",
      "metadata": {
        "id": "XZhzpPlOuAp8",
        "outputId": "0e1335e3-27f4-48e1-be18-902afc498a8d"
      },
      "source": [
        "p4c.layout_network('force-directed', 'String Network - ovarian cancer')"
      ],
      "execution_count": null,
      "outputs": [
        {
          "output_type": "execute_result",
          "data": {
            "text/plain": [
              "{}"
            ]
          },
          "metadata": {
            "tags": []
          },
          "execution_count": 15
        }
      ]
    },
    {
      "cell_type": "markdown",
      "metadata": {
        "id": "tzW0yp4BuAp8"
      },
      "source": [
        "#### Layout with parameters!"
      ]
    },
    {
      "cell_type": "code",
      "metadata": {
        "id": "SMw5OYR4uAp8",
        "outputId": "0d661315-075e-46c4-c42d-3812a83dad79"
      },
      "source": [
        "p4c.set_layout_properties('force-directed', {'defaultSpringLength': 5, 'defaultSpringCoefficient': .000004})"
      ],
      "execution_count": null,
      "outputs": [
        {
          "output_type": "execute_result",
          "data": {
            "text/plain": [
              "''"
            ]
          },
          "metadata": {
            "tags": []
          },
          "execution_count": 16
        }
      ]
    },
    {
      "cell_type": "code",
      "metadata": {
        "id": "Xa5hWZtBuAp9",
        "outputId": "c9c7e955-05b7-4e55-bb2d-4954d0e3f04a"
      },
      "source": [
        "p4c.get_layout_property_names('force-directed')"
      ],
      "execution_count": null,
      "outputs": [
        {
          "output_type": "execute_result",
          "data": {
            "text/plain": [
              "['numIterations',\n",
              " 'defaultSpringCoefficient',\n",
              " 'defaultSpringLength',\n",
              " 'defaultNodeMass',\n",
              " 'isDeterministic',\n",
              " 'singlePartition']"
            ]
          },
          "metadata": {
            "tags": []
          },
          "execution_count": 17
        }
      ]
    },
    {
      "cell_type": "markdown",
      "metadata": {
        "id": "sbAebhuIuAp9"
      },
      "source": [
        "These *command* calls will allow you to interrogate the layouts and parameters available in your active Cytoscape session. This includes any layouts added by apps you've installed!\n",
        "\n",
        "### Get table data from network\n",
        "Now, let's look at the tablular data associated with our STRING networks..."
      ]
    },
    {
      "cell_type": "code",
      "metadata": {
        "id": "YWU-9W7PuAp9",
        "outputId": "ebc807a8-ec2b-4bac-a8c0-41f10d32df0a"
      },
      "source": [
        "p4c.get_table_column_names()"
      ],
      "execution_count": null,
      "outputs": [
        {
          "output_type": "execute_result",
          "data": {
            "text/plain": [
              "['SUID',\n",
              " 'shared name',\n",
              " 'name',\n",
              " 'selected',\n",
              " 'stringdb::canonical name',\n",
              " 'display name',\n",
              " 'stringdb::full name',\n",
              " 'stringdb::database identifier',\n",
              " 'stringdb::description',\n",
              " '@id',\n",
              " 'stringdb::namespace',\n",
              " 'stringdb::node type',\n",
              " 'query term',\n",
              " 'stringdb::sequence',\n",
              " 'stringdb::species',\n",
              " 'stringdb::STRING style',\n",
              " 'stringdb::enhancedLabel Passthrough',\n",
              " 'compartment::cytoskeleton',\n",
              " 'compartment::cytosol',\n",
              " 'compartment::endoplasmic reticulum',\n",
              " 'compartment::endosome',\n",
              " 'compartment::extracellular',\n",
              " 'compartment::golgi apparatus',\n",
              " 'compartment::lysosome',\n",
              " 'compartment::mitochondrion',\n",
              " 'compartment::nucleus',\n",
              " 'compartment::peroxisome',\n",
              " 'compartment::plasma membrane',\n",
              " 'stringdb::structures',\n",
              " 'target::development level',\n",
              " 'target::family',\n",
              " 'tissue::adrenal gland',\n",
              " 'tissue::blood',\n",
              " 'tissue::bone',\n",
              " 'tissue::bone marrow',\n",
              " 'tissue::eye',\n",
              " 'tissue::gall bladder',\n",
              " 'tissue::heart',\n",
              " 'tissue::intestine',\n",
              " 'tissue::kidney',\n",
              " 'tissue::liver',\n",
              " 'tissue::lung',\n",
              " 'tissue::muscle',\n",
              " 'tissue::nervous system',\n",
              " 'tissue::pancreas',\n",
              " 'tissue::saliva',\n",
              " 'tissue::skin',\n",
              " 'tissue::spleen',\n",
              " 'tissue::stomach',\n",
              " 'tissue::thyroid gland',\n",
              " 'tissue::urine',\n",
              " 'stringdb::disease score']"
            ]
          },
          "metadata": {
            "tags": []
          },
          "execution_count": 18
        }
      ]
    },
    {
      "cell_type": "markdown",
      "metadata": {
        "id": "Ou_q2KQDuAp9"
      },
      "source": [
        "#### Retrieve disease scores \n",
        "We can retrieve any set of columns from Cytoscape and store them as a data frame."
      ]
    },
    {
      "cell_type": "code",
      "metadata": {
        "id": "G-lkLJyhuAp9",
        "outputId": "bceb2239-2570-4dfc-ab8d-e44e1184429b"
      },
      "source": [
        "disease_score_table = p4c.get_table_columns(columns='stringdb::disease score')\n",
        "disease_score_table.head()"
      ],
      "execution_count": null,
      "outputs": [
        {
          "output_type": "execute_result",
          "data": {
            "text/html": [
              "<div>\n",
              "<style scoped>\n",
              "    .dataframe tbody tr th:only-of-type {\n",
              "        vertical-align: middle;\n",
              "    }\n",
              "\n",
              "    .dataframe tbody tr th {\n",
              "        vertical-align: top;\n",
              "    }\n",
              "\n",
              "    .dataframe thead th {\n",
              "        text-align: right;\n",
              "    }\n",
              "</style>\n",
              "<table border=\"1\" class=\"dataframe\">\n",
              "  <thead>\n",
              "    <tr style=\"text-align: right;\">\n",
              "      <th></th>\n",
              "      <th>stringdb::disease score</th>\n",
              "    </tr>\n",
              "  </thead>\n",
              "  <tbody>\n",
              "    <tr>\n",
              "      <th>45824</th>\n",
              "      <td>2.52159</td>\n",
              "    </tr>\n",
              "    <tr>\n",
              "      <th>45825</th>\n",
              "      <td>2.64927</td>\n",
              "    </tr>\n",
              "    <tr>\n",
              "      <th>45826</th>\n",
              "      <td>2.52018</td>\n",
              "    </tr>\n",
              "    <tr>\n",
              "      <th>45827</th>\n",
              "      <td>2.74756</td>\n",
              "    </tr>\n",
              "    <tr>\n",
              "      <th>45828</th>\n",
              "      <td>2.6126</td>\n",
              "    </tr>\n",
              "  </tbody>\n",
              "</table>\n",
              "</div>"
            ],
            "text/plain": [
              "      stringdb::disease score\n",
              "45824                 2.52159\n",
              "45825                 2.64927\n",
              "45826                 2.52018\n",
              "45827                 2.74756\n",
              "45828                  2.6126"
            ]
          },
          "metadata": {
            "tags": []
          },
          "execution_count": 19
        }
      ]
    },
    {
      "cell_type": "code",
      "metadata": {
        "id": "bd8HION4uAp9",
        "outputId": "726cf2c4-db73-4a98-b53a-6725c0f379ee"
      },
      "source": [
        "sns.set_style(\"white\")\n",
        "sns.kdeplot(data=disease_score_table[\"stringdb::disease score\"].astype(float) )\n",
        "plt.xlabel(\"disease score\")\n",
        "plt.ylabel(\"frequency\")"
      ],
      "execution_count": null,
      "outputs": [
        {
          "output_type": "execute_result",
          "data": {
            "text/plain": [
              "Text(0, 0.5, 'frequency')"
            ]
          },
          "metadata": {
            "tags": []
          },
          "execution_count": 20
        },
        {
          "output_type": "display_data",
          "data": {
            "image/png": "[encoded data removed]",
            "text/plain": [
              "<Figure size 432x288 with 1 Axes>"
            ]
          },
          "metadata": {
            "tags": []
          }
        }
      ]
    },
    {
      "cell_type": "markdown",
      "metadata": {
        "id": "4BI4aQU4uAp-"
      },
      "source": [
        "### Generate subnetworks\n",
        "In order to reflect your exploration back onto the network, let's generate subnetworks...\n",
        "\n",
        "...from top quartile of 'disease score'"
      ]
    },
    {
      "cell_type": "code",
      "metadata": {
        "id": "_QQj47VBuAp-"
      },
      "source": [
        "top_quart=disease_score_table[\"stringdb::disease score\"].quantile(0.75)\n",
        "top_nodes=disease_score_table[disease_score_table[\"stringdb::disease score\"]>top_quart].index.tolist()\n",
        "top_nodes = [str(n) for n in top_nodes]"
      ],
      "execution_count": null,
      "outputs": []
    },
    {
      "cell_type": "code",
      "metadata": {
        "id": "F4GTOj8guAp-",
        "outputId": "2ef2a712-8a36-4317-adb4-115d57f5ee74"
      },
      "source": [
        "p4c.create_subnetwork(nodes=top_nodes, subnetwork_name=\"top disease quartile\")"
      ],
      "execution_count": null,
      "outputs": [
        {
          "output_type": "execute_result",
          "data": {
            "text/plain": [
              "47673"
            ]
          },
          "metadata": {
            "tags": []
          },
          "execution_count": 22
        }
      ]
    },
    {
      "cell_type": "markdown",
      "metadata": {
        "id": "LTCuMKDAuAp-"
      },
      "source": [
        "...of connected nodes only"
      ]
    },
    {
      "cell_type": "code",
      "metadata": {
        "id": "3J5_5w_TuAp-",
        "outputId": "589214d0-05c2-4877-af57-ed8b1efd7769"
      },
      "source": [
        "p4c.create_subnetwork(nodes=\"selected\", edges=\"all\", subnetwork_name=\"top disease quartile connected\")"
      ],
      "execution_count": null,
      "outputs": [
        {
          "output_type": "execute_result",
          "data": {
            "text/plain": [
              "47848"
            ]
          },
          "metadata": {
            "tags": []
          },
          "execution_count": 23
        }
      ]
    },
    {
      "cell_type": "markdown",
      "metadata": {
        "id": "ssZkjTNJuAp-"
      },
      "source": [
        "...from first neighbors of top 3 genes, using the network connectivity together with the data to direct discovery."
      ]
    },
    {
      "cell_type": "code",
      "metadata": {
        "id": "El0TMaJ_uAp-",
        "outputId": "5b974254-f7df-42c8-8596-9654a8496407"
      },
      "source": [
        "p4c.set_current_network(\"String Network - ovarian cancer\")"
      ],
      "execution_count": null,
      "outputs": [
        {
          "output_type": "execute_result",
          "data": {
            "text/plain": [
              "{}"
            ]
          },
          "metadata": {
            "tags": []
          },
          "execution_count": 24
        }
      ]
    },
    {
      "cell_type": "code",
      "metadata": {
        "id": "NVQmScyWuAp_",
        "outputId": "42e33df9-0bd7-40c7-bd24-e0abd69d2393"
      },
      "source": [
        "top_nodes=disease_score_table.sort_values(by=[\"stringdb::disease score\"],\\\n",
        "                                         ascending=False)\n",
        "top_nodes=top_nodes.index.tolist()[:3]\n",
        "print(top_nodes)"
      ],
      "execution_count": null,
      "outputs": [
        {
          "output_type": "stream",
          "text": [
            "[45872, 45878, 45854]\n"
          ],
          "name": "stdout"
        }
      ]
    },
    {
      "cell_type": "code",
      "metadata": {
        "id": "Amh1YBt3uAp_",
        "outputId": "70ab8016-f5b4-4320-bfca-392186a13693"
      },
      "source": [
        "p4c.select_nodes(nodes=top_nodes)"
      ],
      "execution_count": null,
      "outputs": [
        {
          "output_type": "execute_result",
          "data": {
            "text/plain": [
              "{'nodes': [45872, 45878, 45854], 'edges': []}"
            ]
          },
          "metadata": {
            "tags": []
          },
          "execution_count": 26
        }
      ]
    },
    {
      "cell_type": "code",
      "metadata": {
        "id": "7GFA_MVvuAp_",
        "outputId": "d73f236c-cb81-4790-ec9c-8c98319dd512"
      },
      "source": [
        "p4c.select_first_neighbors()"
      ],
      "execution_count": null,
      "outputs": [
        {
          "output_type": "execute_result",
          "data": {
            "text/plain": [
              "{'nodes': [45872,\n",
              "  45969,\n",
              "  45877,\n",
              "  45845,\n",
              "  45878,\n",
              "  45942,\n",
              "  45946,\n",
              "  45850,\n",
              "  45883,\n",
              "  45854,\n",
              "  45855,\n",
              "  45889,\n",
              "  45827,\n",
              "  45892,\n",
              "  45956,\n",
              "  45959,\n",
              "  45897,\n",
              "  45899,\n",
              "  45963,\n",
              "  45901],\n",
              " 'edges': []}"
            ]
          },
          "metadata": {
            "tags": []
          },
          "execution_count": 27
        }
      ]
    },
    {
      "cell_type": "code",
      "metadata": {
        "id": "a1pldyUQuAp_",
        "outputId": "05f8db92-8e53-40a9-ee75-46b6cd29c05e"
      },
      "source": [
        "p4c.create_subnetwork(nodes=\"selected\", subnetwork_name=\"top disease neighbors\")"
      ],
      "execution_count": null,
      "outputs": [
        {
          "output_type": "execute_result",
          "data": {
            "text/plain": [
              "48017"
            ]
          },
          "metadata": {
            "tags": []
          },
          "execution_count": 28
        }
      ]
    },
    {
      "cell_type": "code",
      "metadata": {
        "id": "xOf0IUA5uAp_",
        "outputId": "3ee9865c-7afd-463b-8e37-325367e95179"
      },
      "source": [
        "p4c.layout_network('force-directed', 'top disease neighbors')"
      ],
      "execution_count": null,
      "outputs": [
        {
          "output_type": "execute_result",
          "data": {
            "text/plain": [
              "{}"
            ]
          },
          "metadata": {
            "tags": []
          },
          "execution_count": 29
        }
      ]
    },
    {
      "cell_type": "markdown",
      "metadata": {
        "id": "BrrNRYhkuAp_"
      },
      "source": [
        "...from diffusion algorithm starting with top 3 genes, using the network connectivity in a more subtle way than just first-degree neighbors."
      ]
    },
    {
      "cell_type": "code",
      "metadata": {
        "id": "03OioqUnuAqA",
        "outputId": "2b93a16e-99f8-448a-962f-1fe3a1da9580"
      },
      "source": [
        "p4c.set_current_network(\"String Network - ovarian cancer\")\n",
        "p4c.select_nodes(nodes=top_nodes)"
      ],
      "execution_count": null,
      "outputs": [
        {
          "output_type": "execute_result",
          "data": {
            "text/plain": [
              "{'nodes': [45872, 45878, 45854], 'edges': []}"
            ]
          },
          "metadata": {
            "tags": []
          },
          "execution_count": 30
        }
      ]
    },
    {
      "cell_type": "code",
      "metadata": {
        "id": "NGu3e2pUuAqA",
        "outputId": "88998859-590b-4e21-e9d3-3b4fbe550011"
      },
      "source": [
        "p4c.diffusion_basic()"
      ],
      "execution_count": null,
      "outputs": [
        {
          "output_type": "execute_result",
          "data": {
            "text/plain": [
              "{'heatColumn': 'diffusion_output_heat', 'rankColumn': 'diffusion_output_rank'}"
            ]
          },
          "metadata": {
            "tags": []
          },
          "execution_count": 31
        }
      ]
    },
    {
      "cell_type": "code",
      "metadata": {
        "id": "FomSx2guuAqA",
        "outputId": "6d975cc6-5b9f-4231-af2a-9cee337ebdbd"
      },
      "source": [
        "p4c.create_subnetwork(nodes=\"selected\", subnetwork_name=\"top disease diffusion\")"
      ],
      "execution_count": null,
      "outputs": [
        {
          "output_type": "execute_result",
          "data": {
            "text/plain": [
              "48152"
            ]
          },
          "metadata": {
            "tags": []
          },
          "execution_count": 32
        }
      ]
    },
    {
      "cell_type": "code",
      "metadata": {
        "id": "t7x_8qS4uAqA",
        "outputId": "ec152f9b-cdcc-496f-e9d7-80cf3acf2a6e"
      },
      "source": [
        "p4c.layout_network('force-directed', 'top disease diffusion')"
      ],
      "execution_count": null,
      "outputs": [
        {
          "output_type": "execute_result",
          "data": {
            "text/plain": [
              "{}"
            ]
          },
          "metadata": {
            "tags": []
          },
          "execution_count": 33
        }
      ]
    },
    {
      "cell_type": "markdown",
      "metadata": {
        "id": "DUkUu2_nuAqA"
      },
      "source": [
        "## Step 3: Visualizing data on networks\n",
        "\n",
        "### Load datasets\n",
        "Downloaded TCGA data from https://portal.gdc.cancer.gov/. Also available via each TCGA publication, e.g.:\n",
        " \n",
        "* Breast: https://tcga-data.nci.nih.gov/docs/publications/brca_2012/\n",
        "* Ovarian: https://tcga-data.nci.nih.gov/docs/publications/ov_2011/\n",
        "\n",
        "Here we download TCGA data from our GitHub repo."
      ]
    },
    {
      "cell_type": "code",
      "metadata": {
        "id": "EAkKksvWuAqA",
        "outputId": "0f7785a0-0ad9-4dfc-bff5-6116c7996b7f"
      },
      "source": [
        "wget.download('https://raw.githubusercontent.com/cytoscape/cytoscape-automation/master/for-scripters/Python/data/brc.exp.tsv')\n",
        "wget.download('https://raw.githubusercontent.com/cytoscape/cytoscape-automation/master/for-scripters/Python/data/brc.mut.tsv')"
      ],
      "execution_count": null,
      "outputs": [
        {
          "output_type": "execute_result",
          "data": {
            "text/plain": [
              "'brc.mut.tsv'"
            ]
          },
          "metadata": {
            "tags": []
          },
          "execution_count": 63
        }
      ]
    },
    {
      "cell_type": "code",
      "metadata": {
        "id": "BEIPnS-fuAqA"
      },
      "source": [
        "brc_expr=pd.read_table(\"./brc.exp.tsv\")\n",
        "brc_mut=pd.read_table(\"./brc.mut.tsv\")"
      ],
      "execution_count": null,
      "outputs": []
    },
    {
      "cell_type": "markdown",
      "metadata": {
        "id": "5ua6vXu0uAqB"
      },
      "source": [
        "### Breast Cancer Datset\n",
        "These datasets are similar to the data frames you normarlly encounter in R. For diversity, one using row.names to store corresponding gene names and the other uses the first column. Both are easy to import into Cytoscape."
      ]
    },
    {
      "cell_type": "code",
      "metadata": {
        "id": "uf4eN3-suAqB",
        "outputId": "8df8dba4-dd69-4c1e-8659-4df1f5f759fe"
      },
      "source": [
        "brc_expr.head()"
      ],
      "execution_count": null,
      "outputs": [
        {
          "output_type": "execute_result",
          "data": {
            "text/html": [
              "<div>\n",
              "<style scoped>\n",
              "    .dataframe tbody tr th:only-of-type {\n",
              "        vertical-align: middle;\n",
              "    }\n",
              "\n",
              "    .dataframe tbody tr th {\n",
              "        vertical-align: top;\n",
              "    }\n",
              "\n",
              "    .dataframe thead th {\n",
              "        text-align: right;\n",
              "    }\n",
              "</style>\n",
              "<table border=\"1\" class=\"dataframe\">\n",
              "  <thead>\n",
              "    <tr style=\"text-align: right;\">\n",
              "      <th></th>\n",
              "      <th>expr.mean</th>\n",
              "    </tr>\n",
              "  </thead>\n",
              "  <tbody>\n",
              "    <tr>\n",
              "      <th>ELMO2</th>\n",
              "      <td>-0.000167</td>\n",
              "    </tr>\n",
              "    <tr>\n",
              "      <th>CREB3L1</th>\n",
              "      <td>-0.005408</td>\n",
              "    </tr>\n",
              "    <tr>\n",
              "      <th>RPS11</th>\n",
              "      <td>0.018381</td>\n",
              "    </tr>\n",
              "    <tr>\n",
              "      <th>PNMA1</th>\n",
              "      <td>-0.065037</td>\n",
              "    </tr>\n",
              "    <tr>\n",
              "      <th>MMP2</th>\n",
              "      <td>-0.074444</td>\n",
              "    </tr>\n",
              "  </tbody>\n",
              "</table>\n",
              "</div>"
            ],
            "text/plain": [
              "         expr.mean\n",
              "ELMO2    -0.000167\n",
              "CREB3L1  -0.005408\n",
              "RPS11     0.018381\n",
              "PNMA1    -0.065037\n",
              "MMP2     -0.074444"
            ]
          },
          "metadata": {
            "tags": []
          },
          "execution_count": 65
        }
      ]
    },
    {
      "cell_type": "code",
      "metadata": {
        "id": "7tXy2tIHuAqB",
        "outputId": "91648763-20ad-4f47-a32d-f3af00873408"
      },
      "source": [
        "brc_mut.head()"
      ],
      "execution_count": null,
      "outputs": [
        {
          "output_type": "execute_result",
          "data": {
            "text/html": [
              "<div>\n",
              "<style scoped>\n",
              "    .dataframe tbody tr th:only-of-type {\n",
              "        vertical-align: middle;\n",
              "    }\n",
              "\n",
              "    .dataframe tbody tr th {\n",
              "        vertical-align: top;\n",
              "    }\n",
              "\n",
              "    .dataframe thead th {\n",
              "        text-align: right;\n",
              "    }\n",
              "</style>\n",
              "<table border=\"1\" class=\"dataframe\">\n",
              "  <thead>\n",
              "    <tr style=\"text-align: right;\">\n",
              "      <th></th>\n",
              "      <th>Hugo_Symbol</th>\n",
              "      <th>mut_count</th>\n",
              "      <th>missense_mut_count</th>\n",
              "    </tr>\n",
              "  </thead>\n",
              "  <tbody>\n",
              "    <tr>\n",
              "      <th>13</th>\n",
              "      <td>A1CF</td>\n",
              "      <td>2</td>\n",
              "      <td>2</td>\n",
              "    </tr>\n",
              "    <tr>\n",
              "      <th>14</th>\n",
              "      <td>A2BP1</td>\n",
              "      <td>3</td>\n",
              "      <td>3</td>\n",
              "    </tr>\n",
              "    <tr>\n",
              "      <th>15</th>\n",
              "      <td>A2M</td>\n",
              "      <td>3</td>\n",
              "      <td>2</td>\n",
              "    </tr>\n",
              "    <tr>\n",
              "      <th>16</th>\n",
              "      <td>A2ML1</td>\n",
              "      <td>4</td>\n",
              "      <td>4</td>\n",
              "    </tr>\n",
              "    <tr>\n",
              "      <th>17</th>\n",
              "      <td>A4GALT</td>\n",
              "      <td>1</td>\n",
              "      <td>0</td>\n",
              "    </tr>\n",
              "  </tbody>\n",
              "</table>\n",
              "</div>"
            ],
            "text/plain": [
              "   Hugo_Symbol  mut_count  missense_mut_count\n",
              "13        A1CF          2                   2\n",
              "14       A2BP1          3                   3\n",
              "15         A2M          3                   2\n",
              "16       A2ML1          4                   4\n",
              "17      A4GALT          1                   0"
            ]
          },
          "metadata": {
            "tags": []
          },
          "execution_count": 66
        }
      ]
    },
    {
      "cell_type": "markdown",
      "metadata": {
        "id": "rHmbgSGKuAqB"
      },
      "source": [
        "Let's return to the Breast Cancer network..."
      ]
    },
    {
      "cell_type": "code",
      "metadata": {
        "id": "4kdrDesZuAqB",
        "outputId": "b0dab44f-cc01-4610-dbd6-8d659aa40225"
      },
      "source": [
        "p4c.set_current_network(\"String Network - breast cancer\")\n",
        "p4c.set_layout_properties('force-directed', {'defaultSpringLength': 5, 'defaultSpringCoefficient': .000004})"
      ],
      "execution_count": null,
      "outputs": [
        {
          "output_type": "execute_result",
          "data": {
            "text/plain": [
              "''"
            ]
          },
          "metadata": {
            "tags": []
          },
          "execution_count": 38
        }
      ]
    },
    {
      "cell_type": "markdown",
      "metadata": {
        "id": "ymSvh5ZcuAqB"
      },
      "source": [
        "...and use the helper function from py4cytoscape called *load_table_data*\n"
      ]
    },
    {
      "cell_type": "code",
      "metadata": {
        "id": "4khwx9xquAqB",
        "outputId": "41ae437f-1016-45d4-e113-9844e2c9c9a3"
      },
      "source": [
        "p4c.load_table_data(brc_expr, table_key_column='display name')\n",
        "p4c.load_table_data(brc_mut, data_key_column='Hugo_Symbol', table_key_column='display name')"
      ],
      "execution_count": null,
      "outputs": [
        {
          "output_type": "execute_result",
          "data": {
            "text/plain": [
              "'Success: Data loaded in defaultnode table'"
            ]
          },
          "metadata": {
            "tags": []
          },
          "execution_count": 39
        }
      ]
    },
    {
      "cell_type": "markdown",
      "metadata": {
        "id": "pH9QjRVcuAqC"
      },
      "source": [
        "#### Visual styles\n",
        "Let's create a new style to visualize our imported data\n",
        "...starting with the basics, we will specify a few defaults and obvious mappings in a custom style all our own."
      ]
    },
    {
      "cell_type": "code",
      "metadata": {
        "id": "PNVktuIPuAqC",
        "outputId": "4bf6ef11-2dba-48ec-d341-1f7e8c4abf47"
      },
      "source": [
        "defaults = {'NODE_SHAPE': 'ellipse', 'NODE_SIZE': 60, 'NODE_FILL_COLOR':\"#AAAAAA\", 'EDGE_TRANSPARENCY': 120}\n",
        "node_labels = p4c.map_visual_property('node label', 'display name', 'p')\n",
        "p4c.create_visual_style('dataStyle', defaults=defaults, mappings=[node_labels])\n",
        "p4c.set_visual_style('dataStyle')"
      ],
      "execution_count": null,
      "outputs": [
        {
          "output_type": "execute_result",
          "data": {
            "text/plain": [
              "{'message': 'Visual Style applied.'}"
            ]
          },
          "metadata": {
            "tags": []
          },
          "execution_count": 40
        }
      ]
    },
    {
      "cell_type": "markdown",
      "metadata": {
        "id": "47v6Kj3MuAqC"
      },
      "source": [
        "Now let's update the style with a mapping for mean expression. The first step is to grab the column data from Cytoscape and pull out the min and max to define our data mapping range of values."
      ]
    },
    {
      "cell_type": "code",
      "metadata": {
        "id": "Bh8781-8uAqC"
      },
      "source": [
        "brc_expr_network = p4c.get_table_columns(columns=['expr.mean'])"
      ],
      "execution_count": null,
      "outputs": []
    },
    {
      "cell_type": "code",
      "metadata": {
        "id": "pN3yfx3puAqC"
      },
      "source": [
        "min_brc_expr = min(brc_expr_network.dropna()['expr.mean'].tolist())\n",
        "max_brc_expr = max(brc_expr_network.dropna()['expr.mean'].tolist())\n",
        "\n",
        "min_brc_expr=abs(min_brc_expr)\n",
        "max_brc_expr=abs(max_brc_expr)\n",
        "\n",
        "max_brc_expr=max([min_brc_expr,max_brc_expr])\n",
        "min_brc_expr=max_brc_expr*-1.0"
      ],
      "execution_count": null,
      "outputs": []
    },
    {
      "cell_type": "markdown",
      "metadata": {
        "id": "hztqn-rtuAqC"
      },
      "source": [
        "In python we check matplotlib's color maps to help us pick good colors to pair with our data values: https://matplotlib.org/examples/color/colormaps_reference.html"
      ]
    },
    {
      "cell_type": "code",
      "metadata": {
        "id": "k79r-oNDuAqC",
        "outputId": "e5cfa34f-c17e-4caf-e3c0-ead31ee7f39b"
      },
      "source": [
        "cmap = matplotlib.cm.get_cmap(\"bwr\")\n",
        "norm = matplotlib.colors.Normalize(vmin=min_brc_expr, vmax=max_brc_expr)\n",
        "min_color=matplotlib.colors.rgb2hex(cmap(norm(min_brc_expr)))\n",
        "center_color=matplotlib.colors.rgb2hex(cmap(norm(0)))\n",
        "max_color=matplotlib.colors.rgb2hex(cmap(norm(max_brc_expr)))  \n",
        "print(min_color, center_color, max_color)"
      ],
      "execution_count": null,
      "outputs": [
        {
          "output_type": "stream",
          "text": [
            "#0000ff #fffefe #ff0000\n"
          ],
          "name": "stdout"
        }
      ]
    },
    {
      "cell_type": "code",
      "metadata": {
        "id": "nQYVjiwkuAqC",
        "outputId": "dccba741-d462-47de-f161-2f87b31d1832"
      },
      "source": [
        "NODE_FILL_COLOR = p4c.map_visual_property('node fill color', 'expr.mean', 'c', [min_brc_expr, 0.0, max_brc_expr], [min_color, center_color,max_color])\n",
        "p4c.update_style_mapping('dataStyle', NODE_FILL_COLOR)\n",
        "p4c.set_visual_style('dataStyle')"
      ],
      "execution_count": null,
      "outputs": [
        {
          "output_type": "execute_result",
          "data": {
            "text/plain": [
              "{'message': 'Visual Style applied.'}"
            ]
          },
          "metadata": {
            "tags": []
          },
          "execution_count": 44
        }
      ]
    },
    {
      "cell_type": "markdown",
      "metadata": {
        "id": "30pozcrfuAqD"
      },
      "source": [
        "Pro-tip: depending on your data, it may be better to balance your color range over negative and positive values bounded by the largest min or max data value, so that color intensity scales similarly in both directions."
      ]
    },
    {
      "cell_type": "markdown",
      "metadata": {
        "id": "4hCinkOtuAqD"
      },
      "source": [
        "#### Visualize mutation data\n",
        "OK, now let's update with a mapping for mutation. Here are all the same steps, but this time mapping mutation counts to *both* node border width and color. "
      ]
    },
    {
      "cell_type": "code",
      "metadata": {
        "id": "6Lx7SuJNuAqD"
      },
      "source": [
        "brc_mut_network = p4c.get_table_columns(columns=['mut_count'])\n",
        "min_brc_mut = min(brc_mut_network.dropna()['mut_count'].tolist())\n",
        "max_brc_mut = max(brc_mut_network.dropna()['mut_count'].tolist())\n",
        "\n",
        "cent_brc_mut=20.0\n",
        "\n",
        "cmap = matplotlib.cm.get_cmap(\"Reds\")\n",
        "norm = matplotlib.colors.Normalize(vmin=min_brc_mut, vmax=max_brc_mut)\n",
        "min_color=matplotlib.colors.rgb2hex(cmap(norm(min_brc_mut)))\n",
        "center_color=matplotlib.colors.rgb2hex(cmap(norm(cent_brc_mut)))\n",
        "max_color=matplotlib.colors.rgb2hex(cmap(norm(max_brc_mut)))  "
      ],
      "execution_count": null,
      "outputs": []
    },
    {
      "cell_type": "code",
      "metadata": {
        "id": "5bglhxwpuAqD",
        "outputId": "7cba8b1a-b63d-47bb-99b5-f701bf5725e3"
      },
      "source": [
        "NODE_BORDER_PAINT = p4c.map_visual_property('node border paint', 'mut_count', 'c', [min_brc_mut, 20, max_brc_mut], [min_color, center_color, max_color])\n",
        "p4c.update_style_mapping('dataStyle', NODE_BORDER_PAINT)\n",
        "p4c.set_visual_style('dataStyle')"
      ],
      "execution_count": null,
      "outputs": [
        {
          "output_type": "execute_result",
          "data": {
            "text/plain": [
              "{'message': 'Visual Style applied.'}"
            ]
          },
          "metadata": {
            "tags": []
          },
          "execution_count": 46
        }
      ]
    },
    {
      "cell_type": "code",
      "metadata": {
        "id": "DCSrvRxYuAqD",
        "outputId": "f1dcde10-8d0e-475e-9767-491f6cd3898e"
      },
      "source": [
        "NODE_BORDER_WIDTH = p4c.map_visual_property('node border width', 'mut_count', 'c', [min_brc_mut, 20, max_brc_mut], [2, 4, 8])\n",
        "p4c.update_style_mapping('dataStyle', NODE_BORDER_WIDTH)\n",
        "p4c.set_visual_style('dataStyle')"
      ],
      "execution_count": null,
      "outputs": [
        {
          "output_type": "execute_result",
          "data": {
            "text/plain": [
              "{'message': 'Visual Style applied.'}"
            ]
          },
          "metadata": {
            "tags": []
          },
          "execution_count": 47
        }
      ]
    },
    {
      "cell_type": "markdown",
      "metadata": {
        "id": "yjN5RwTuuAqD"
      },
      "source": [
        "#### Subnetwork based on diffusion from heavily mutated nodes\n",
        "Now, let's pull in what we learned about subnetwork selection and apply it here..."
      ]
    },
    {
      "cell_type": "code",
      "metadata": {
        "id": "DrqHEXubuAqD"
      },
      "source": [
        "top_mut=brc_mut_network.dropna().sort_values(by=[\"mut_count\"],ascending=False)\n",
        "top_mut=top_mut.index.tolist()[:2]"
      ],
      "execution_count": null,
      "outputs": []
    },
    {
      "cell_type": "code",
      "metadata": {
        "id": "lyf8VQoeuAqD",
        "outputId": "454be08c-018e-4076-a9ba-0bda65971e17"
      },
      "source": [
        "p4c.select_nodes(nodes=top_nodes)"
      ],
      "execution_count": null,
      "outputs": [
        {
          "output_type": "execute_result",
          "data": {
            "text/plain": [
              "{}"
            ]
          },
          "metadata": {
            "tags": []
          },
          "execution_count": 49
        }
      ]
    },
    {
      "cell_type": "code",
      "metadata": {
        "id": "hJ_4_aGNuAqE",
        "outputId": "7ee1801b-2fb8-4b10-91b6-0bee1ece65a7"
      },
      "source": [
        "p4c.diffusion_basic()"
      ],
      "execution_count": null,
      "outputs": [
        {
          "output_type": "execute_result",
          "data": {
            "text/plain": [
              "{'heatColumn': 'diffusion_output_heat', 'rankColumn': 'diffusion_output_rank'}"
            ]
          },
          "metadata": {
            "tags": []
          },
          "execution_count": 50
        }
      ]
    },
    {
      "cell_type": "code",
      "metadata": {
        "id": "-C-wlRjRuAqE",
        "outputId": "3d89cb43-ab0e-4ec6-e3f1-8541403c1624"
      },
      "source": [
        "p4c.create_subnetwork(nodes=\"selected\", subnetwork_name=\"top mutated diffusion\")"
      ],
      "execution_count": null,
      "outputs": [
        {
          "output_type": "execute_result",
          "data": {
            "text/plain": [
              "48232"
            ]
          },
          "metadata": {
            "tags": []
          },
          "execution_count": 51
        }
      ]
    },
    {
      "cell_type": "code",
      "metadata": {
        "id": "tD2mXuGsuAqE",
        "outputId": "2915bdf2-0afc-4876-ef20-f102f1be0d82"
      },
      "source": [
        "p4c.layout_network('force-directed', 'top disease diffusion')"
      ],
      "execution_count": null,
      "outputs": [
        {
          "output_type": "execute_result",
          "data": {
            "text/plain": [
              "{}"
            ]
          },
          "metadata": {
            "tags": []
          },
          "execution_count": 52
        }
      ]
    },
    {
      "cell_type": "markdown",
      "metadata": {
        "id": "KVDJYAfTuAqE"
      },
      "source": [
        "The top mutated genes are based on TCGA data and the diffusion algorithm is operating based on the network connectivity from STRING data, leading to a focused subnetwork view of critical Breast Cancer genes with mean patient expression data mapped to fill color. Now *that's* data integration!\n",
        "\n",
        "**Pro-tip: You can generate a legend for this in Cytoscape Style tab > Options > Create style... "
      ]
    },
    {
      "cell_type": "markdown",
      "metadata": {
        "id": "CX2KMmCauAqE"
      },
      "source": [
        "### Ovarian Cancer Datset\n",
        "But what about the other network and datasets? Do we have to repeat *all* of those steps again?  Actually, no!\n",
        "\n",
        "First, let's switch back over to the Ovarian Cancer network and load our data."
      ]
    },
    {
      "cell_type": "code",
      "metadata": {
        "id": "YMlmCBiLuAqE",
        "outputId": "3687ae49-f549-4bac-ae34-42bf5ecc7389"
      },
      "source": [
        "wget.download('https://raw.githubusercontent.com/cytoscape/cytoscape-automation/master/for-scripters/Python/data/ovc.expr.tsv')\n",
        "wget.download('https://raw.githubusercontent.com/cytoscape/cytoscape-automation/master/for-scripters/Python/data/ovc.mut.tsv')"
      ],
      "execution_count": null,
      "outputs": [
        {
          "output_type": "execute_result",
          "data": {
            "text/plain": [
              "'ovc.mut.tsv'"
            ]
          },
          "metadata": {
            "tags": []
          },
          "execution_count": 53
        }
      ]
    },
    {
      "cell_type": "code",
      "metadata": {
        "id": "6L_6R9tJuAqH"
      },
      "source": [
        "ovc_expr=pd.read_table(\"./ovc.expr.tsv\")\n",
        "ovc_mut=pd.read_table(\"./ovc.mut.tsv\")"
      ],
      "execution_count": null,
      "outputs": []
    },
    {
      "cell_type": "code",
      "metadata": {
        "id": "rMFNtvSQuAqH",
        "outputId": "e99542b7-2258-451b-f1ef-7ce2e010956a"
      },
      "source": [
        "p4c.set_current_network(\"String Network - ovarian cancer\")\n",
        "p4c.load_table_data(ovc_expr, table_key_column='display name')\n",
        "p4c.load_table_data(ovc_mut, data_key_column='Hugo_Symbol', table_key_column='display name')"
      ],
      "execution_count": null,
      "outputs": [
        {
          "output_type": "execute_result",
          "data": {
            "text/plain": [
              "'Success: Data loaded in defaultnode table'"
            ]
          },
          "metadata": {
            "tags": []
          },
          "execution_count": 55
        }
      ]
    },
    {
      "cell_type": "markdown",
      "metadata": {
        "id": "x_7t0GMbuAqH"
      },
      "source": [
        "**Because we used the same column names in our original data frames, now we can simply apply the *same* visual style created above!**"
      ]
    },
    {
      "cell_type": "code",
      "metadata": {
        "id": "2ZAJoM3QuAqI",
        "outputId": "a3fe27f1-2b01-42ee-ff63-1918bde4c69a"
      },
      "source": [
        "p4c.set_visual_style('dataStyle')"
      ],
      "execution_count": null,
      "outputs": [
        {
          "output_type": "execute_result",
          "data": {
            "text/plain": [
              "{'message': 'Visual Style applied.'}"
            ]
          },
          "metadata": {
            "tags": []
          },
          "execution_count": 56
        }
      ]
    },
    {
      "cell_type": "code",
      "metadata": {
        "id": "A0wLNrE3uAqI",
        "outputId": "caecce65-d4fb-4525-9a40-715e29b3275d"
      },
      "source": [
        "p4c.clear_selection(type='both')"
      ],
      "execution_count": null,
      "outputs": [
        {
          "output_type": "execute_result",
          "data": {
            "text/plain": [
              "''"
            ]
          },
          "metadata": {
            "tags": []
          },
          "execution_count": 57
        }
      ]
    },
    {
      "cell_type": "markdown",
      "metadata": {
        "id": "EnAy_EZjuAqI"
      },
      "source": [
        "Reusing the same style for both breast and ovarian cancers, we can compare the relative expression and mutation counts across the two datasets. \n",
        "For example, notice in the case of ovarian cancer: **decreased** range of mean expression and **fewer** mega-mutated genes."
      ]
    },
    {
      "cell_type": "markdown",
      "metadata": {
        "id": "1liHYyJ7uAqI"
      },
      "source": [
        "## Step 4: Saving, sharing and publishing\n",
        "\n",
        "### Saving a Cytoscape session file\n",
        "Session files save *everything*. As with most project software, we recommend saving often!"
      ]
    },
    {
      "cell_type": "markdown",
      "metadata": {
        "id": "MQ-gVRjeuAqI"
      },
      "source": [
        "**Note: If you don't specify a complete path, the files will be save relative to your Cytoscape installation directory, e.g., /Applications/Cytoscape_v3.6.0/... or somewhere you don't have write permissions. So, it's probably better to specify one...**"
      ]
    },
    {
      "cell_type": "code",
      "metadata": {
        "id": "4tBtNvUAuAqI",
        "outputId": "fc3f6ae1-d65d-450b-9f53-68f2b814a9d2"
      },
      "source": [
        "p4c.save_session('cytoscape') # Save current session as cytoscape.cys"
      ],
      "execution_count": null,
      "outputs": [
        {
          "output_type": "execute_result",
          "data": {
            "text/plain": [
              "{}"
            ]
          },
          "metadata": {
            "tags": []
          },
          "execution_count": 58
        }
      ]
    },
    {
      "cell_type": "markdown",
      "metadata": {
        "id": "7LCGjkJDuAqI"
      },
      "source": [
        "### Exporting high resolution image files\n",
        "You can export extremely high resolution images, including vector graphic formats."
      ]
    },
    {
      "cell_type": "code",
      "metadata": {
        "id": "vjnUiRzLuAqI",
        "outputId": "ac33ed9b-ab29-4858-f775-3ed450f653f5"
      },
      "source": [
        "p4c.clear_selection(type='both')\n",
        "p4c.fit_content()\n",
        "p4c.export_image('cytoscape_image', type='PDF')"
      ],
      "execution_count": null,
      "outputs": [
        {
          "output_type": "execute_result",
          "data": {
            "text/plain": [
              "{'file': '/Users/yxin/CytoscapeConfiguration/filetransfer/default_sandbox/cytoscape_image.pdf'}"
            ]
          },
          "metadata": {
            "tags": []
          },
          "execution_count": 59
        }
      ]
    },
    {
      "cell_type": "markdown",
      "metadata": {
        "id": "jFUEsCMuuAqI"
      },
      "source": [
        "### Exporting interactive web pages via cytoscape.js\n",
        "You can export the network model in multiple standard formats. And if you want to get really fancy, you can export the model and style in cytoscape.js formats and host interactive views of your network analysis and visualization results online!"
      ]
    },
    {
      "cell_type": "code",
      "metadata": {
        "id": "NjJJFKhQuAqI",
        "outputId": "dae64468-b2e9-4a98-e278-5334be7a3fb0"
      },
      "source": [
        "p4c.export_network('cytoscape_network','cyjs')\n",
        "p4c.export_visual_styles('cytoscape_style', type='json') # export the current style in cytoscape.js format"
      ],
      "execution_count": null,
      "outputs": [
        {
          "output_type": "execute_result",
          "data": {
            "text/plain": [
              "{'file': '/Users/yxin/CytoscapeConfiguration/filetransfer/default_sandbox/cytoscape_style.json'}"
            ]
          },
          "metadata": {
            "tags": []
          },
          "execution_count": 60
        }
      ]
    },
    {
      "cell_type": "markdown",
      "metadata": {
        "id": "hbl4hP6KuAqI"
      },
      "source": [
        "More details in Cytoscape manual chapter on [Interactive Web Applications](http://manual.cytoscape.org/en/stable/Export_Your_Data.html#as-an-interactive-web-application-new-in-3-2-0)\n",
        "\n",
        "\n",
        "And in Cytoscape, you can File>Export as Web Page... to produce a folder of cytoscape.js files and html.\n",
        "\n",
        "\n",
        "### Additional network analysis and visualization options\n",
        "* Mapping edge attributes to edge thickness, color and/or transparency (e.g., score or experiments) \n",
        "    * EDGE_WIDTH, EDGE_COLOR, EDGE TRANSPARENCY\n",
        "* Edge bundling\n",
        "    * bundleEdges()\n",
        "* Directional edge animation\n",
        "    * applyStyle('Marquee')\n",
        "    * updateStyleDefaults(style.name,list('Edge Line Type'='Marquee_Dash'))\n",
        "* Visualize two or more datasets as split-fill or pie chart, or patient-specific data as radial Circos plot\n",
        "    * pending support for charts...\n",
        "* Merge two (or more) networks\n",
        "    * copyCytoscapeNetwork() or 'network clone'; then addGraphToGraph() (Union only)\n",
        "    * using igraph: intersection(g1,g2), union(), difference(); followed by toCytoscape() and send2cy()"
      ]
    },
    {
      "cell_type": "markdown",
      "metadata": {
        "id": "RNy6nawCuAqJ"
      },
      "source": [
        "## swagger\n",
        "http://localhost:1234/v1/swaggerUI/swagger-ui/index.html?url=http://localhost:1234/v1/commands/swagger.json#/"
      ]
    },
    {
      "cell_type": "markdown",
      "metadata": {
        "id": "a1pU1_1AuAqJ"
      },
      "source": [
        "\n",
        "## Step 5: Wrapping up\n",
        "\n",
        "You should now know how to...\n",
        "\n",
        "* Connect to Cytoscape from Python\n",
        "* Retrieve disease networks from STRING\n",
        "* Interact with Cytoscape via commands, CyREST, and py4cytoscape\n",
        "* Load various data types onto networks\n",
        "* Set visual style defaults and mappings\n",
        "* Perform selection and create subnetworks\n",
        "* Save, share and publish your networks\n",
        "* Find more information on Cytoscape automation\n",
        "\n",
        "#### Resources\n",
        "* Growing collection of [cytoscape automation resources](https://github.com/cytoscape/cytoscape-automation/), including **this** tutorial\n",
        "* Growing collection of [cytoscape tutorial materials](https://github.com/cytoscape/cytoscape-tutorials)\n",
        "* Active community on [cytoscape-helpdesk](https://groups.google.com/forum/#!forum/cytoscape-helpdesk) for any Cytoscape related questions and suggestions"
      ]
    }
  ]
}