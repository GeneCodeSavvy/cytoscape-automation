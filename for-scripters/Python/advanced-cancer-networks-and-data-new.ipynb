{
  "nbformat": 4,
  "nbformat_minor": 0,
  "metadata": {
    "colab": {
      "name": "advanced-cancer-networks-and-data-new.ipynb",
      "provenance": [],
      "include_colab_link": true
    },
    "kernelspec": {
      "display_name": "Python 3",
      "language": "python",
      "name": "python3"
    },
    "language_info": {
      "codemirror_mode": {
        "name": "ipython",
        "version": 3
      },
      "file_extension": ".py",
      "mimetype": "text/x-python",
      "name": "python",
      "nbconvert_exporter": "python",
      "pygments_lexer": "ipython3",
      "version": "3.8.5"
    }
  },
  "cells": [
    {
      "cell_type": "markdown",
      "metadata": {
        "id": "view-in-github",
        "colab_type": "text"
      },
      "source": [
        "<a href=\"https://colab.research.google.com/github/cytoscape/cytoscape-automation/blob/master/for-scripters/Python/advanced-cancer-networks-and-data-new.ipynb\" target=\"_parent\"><img src=\"https://colab.research.google.com/assets/colab-badge.svg\" alt=\"Open In Colab\"/></a>"
      ]
    },
    {
      "cell_type": "markdown",
      "metadata": {
        "id": "FqfuSqVtuApv"
      },
      "source": [
        "## Advanced cancer networks and data\n",
        "\n",
        "## Yihang Xin and Alex Pico\n",
        "\n",
        "## 2021-11-05"
      ]
    },
    {
      "cell_type": "markdown",
      "metadata": {
        "id": "Su1OcfeEuApy"
      },
      "source": [
        "## Installation"
      ]
    },
    {
      "cell_type": "markdown",
      "metadata": {
        "id": "s5t_F7kkuApy"
      },
      "source": [
        "The following chunk of code installs the `py4cytoscape` module."
      ]
    },
    {
      "cell_type": "code",
      "metadata": {
        "id": "rJAZm_GXuApz"
      },
      "source": [
        "%%capture\n",
        "!python3 -m pip install python-igraph requests pandas networkx\n",
        "!python3 -m pip install wget\n",
        "!python3 -m pip install py4cytoscape"
      ],
      "execution_count": 1,
      "outputs": []
    },
    {
      "cell_type": "markdown",
      "metadata": {
        "id": "05tuOXGfuWmA"
      },
      "source": [
        "If you are using a remote notebook environment such as Google Colab, please execute the cell below. (If you're running on your local notebook, you don't need to do that.)\n",
        "\n"
      ]
    },
    {
      "cell_type": "code",
      "metadata": {
        "colab": {
          "base_uri": "https://localhost:8080/",
          "height": 347
        },
        "id": "weUAQHwHuXYs",
        "outputId": "a1496717-0ae1-4bd2-952b-c763dc5fc7bd"
      },
      "source": [
        "import requests\n",
        "exec(requests.get(\"https://raw.githubusercontent.com/cytoscape/jupyter-bridge/master/client/p4c_init.py\").text)\n",
        "IPython.display.Javascript(_PY4CYTOSCAPE_BROWSER_CLIENT_JS) # Start browser client"
      ],
      "execution_count": 2,
      "outputs": [
        {
          "output_type": "stream",
          "name": "stdout",
          "text": [
            "Requirement already satisfied: py4cytoscape in /usr/local/lib/python3.7/dist-packages (0.0.11)\n",
            "Requirement already satisfied: pandas in /usr/local/lib/python3.7/dist-packages (from py4cytoscape) (1.1.5)\n",
            "Requirement already satisfied: decorator in /usr/local/lib/python3.7/dist-packages (from py4cytoscape) (4.4.2)\n",
            "Requirement already satisfied: python-igraph in /usr/local/lib/python3.7/dist-packages (from py4cytoscape) (0.9.8)\n",
            "Requirement already satisfied: chardet in /usr/local/lib/python3.7/dist-packages (from py4cytoscape) (3.0.4)\n",
            "Requirement already satisfied: networkx in /usr/local/lib/python3.7/dist-packages (from py4cytoscape) (2.6.3)\n",
            "Requirement already satisfied: colorbrewer in /usr/local/lib/python3.7/dist-packages (from py4cytoscape) (0.2.0)\n",
            "Requirement already satisfied: requests in /usr/local/lib/python3.7/dist-packages (from py4cytoscape) (2.23.0)\n",
            "Requirement already satisfied: six in /usr/local/lib/python3.7/dist-packages (from colorbrewer->py4cytoscape) (1.15.0)\n",
            "Requirement already satisfied: pytz>=2017.2 in /usr/local/lib/python3.7/dist-packages (from pandas->py4cytoscape) (2018.9)\n",
            "Requirement already satisfied: python-dateutil>=2.7.3 in /usr/local/lib/python3.7/dist-packages (from pandas->py4cytoscape) (2.8.2)\n",
            "Requirement already satisfied: numpy>=1.15.4 in /usr/local/lib/python3.7/dist-packages (from pandas->py4cytoscape) (1.19.5)\n",
            "Requirement already satisfied: igraph==0.9.8 in /usr/local/lib/python3.7/dist-packages (from python-igraph->py4cytoscape) (0.9.8)\n",
            "Requirement already satisfied: texttable>=1.6.2 in /usr/local/lib/python3.7/dist-packages (from igraph==0.9.8->python-igraph->py4cytoscape) (1.6.4)\n",
            "Requirement already satisfied: urllib3!=1.25.0,!=1.25.1,<1.26,>=1.21.1 in /usr/local/lib/python3.7/dist-packages (from requests->py4cytoscape) (1.24.3)\n",
            "Requirement already satisfied: certifi>=2017.4.17 in /usr/local/lib/python3.7/dist-packages (from requests->py4cytoscape) (2021.5.30)\n",
            "Requirement already satisfied: idna<3,>=2.5 in /usr/local/lib/python3.7/dist-packages (from requests->py4cytoscape) (2.10)\n",
            "Loading Javascript client ... b0dfc6aa-23e3-4290-8eee-44b16d120b23 on https://jupyter-bridge.cytoscape.org\n",
            "ADVICE: WHEN RUNNING UNDER COLAB, DO NOT RE-RUN THIS CELL WITHOUT MANUALLY EXECUTING Runtime | Factory Reset Runtime FROM THE COLAB MENU FIRST.\n"
          ]
        },
        {
          "output_type": "execute_result",
          "data": {
            "application/javascript": [
              "var Channel = \"b0dfc6aa-23e3-4290-8eee-44b16d120b23\"; \n",
              "\n",
              "var JupyterBridge = \"https://jupyter-bridge.cytoscape.org\"; \n",
              "\n",
              "  /*\n",
              "    These functions serve as a connector between a remote Jupyter server and Cytoscape.\n",
              "    They run in the user's browser, which also shows the Jupyter Notebook.\n",
              "\n",
              "    A remote Jupyter Notebook call to the py4cytoscape package is forwarded to the Jupyter Bridge,\n",
              "    which is a standalone server. The functions in this connector execute in the Jupyter Notebook\n",
              "    browser, which executes on the same PC as Cytoscape. So, that's 4 components: (A) remote\n",
              "    Jupyter Notebook, (B) separate Jupyter Bridge server, (C) this browser-based component, and\n",
              "    (D) Cytoscape. (A) is on a remote server, (B) is on a different remote server, and (C) and (D)\n",
              "    are on the user's PC.\n",
              "\n",
              "    (A) calls its py4cytoscape module, which forwards the request (in a JSON wrapper) to (B).\n",
              "    (C) picks up the request from (B), unpacks the request and forwards it to (D). (C) awaits a\n",
              "    reply from (D), and when it gets it, it forwards the reply (in a JSON wrapper) to (B).\n",
              "    (A)'s py4cytoscape module picks up the reply on (B) when it becomes available, unpacks it,\n",
              "    and returns it to (A).\n",
              "\n",
              "    A Jupyter Notebook can talk to only one Cytoscape (i.e., the one on the machine running the\n",
              "    Jupyter Notebook browser), and Cytoscape should be called by only one Jupyter Notebook. The\n",
              "    Jupyter Bridge differentiates between Notebook-Cytoscape conversations via a channel UUID.\n",
              "    The UUID is prepended to this browser component by py4Cytoscape, and the component is\n",
              "    started by the Jupyter Notebook. (I wish py4Cytoscape could start the component, too, but I\n",
              "    haven't figured out how to do that yet, so startup code *is* required in the Jupyter\n",
              "    Notebook.)\n",
              "\n",
              "    Note that for the case of a Jupyter server running on the same machine as Cytoscape, this\n",
              "    bridge isn't necessary because the Jupyter server's HTTP calls can easily connect to\n",
              "    Cytoscape over a localhost socket. So, the combination of Jupyter Bridge and this browser\n",
              "    component solves the problem of a Jupyter server (e.g., Google's Colab) that can't\n",
              "    connect to Cytoscape that sits behind a firewall.\n",
              "\n",
              "    The request represents an HTTP call that py4cytoscape would normally make via HTTP directly\n",
              "    to Cytoscape via localhost when both py4cytoscape and Cytoscape are running on the same machine.\n",
              " */\n",
              "\n",
              "const VERSION = '0.0.2'\n",
              "\n",
              "var showDebug; // Flag indicating whether to show Jupyter-bridge progress\n",
              "if (typeof showDebug === 'undefined') {\n",
              "    showDebug = false\n",
              "}\n",
              "if (showDebug) {\n",
              "    alert(\"Starting Jupyter-bridge browser component\")\n",
              "}\n",
              "\n",
              "//const JupyterBridge = 'http://127.0.0.1:5000' // for testing against local Jupyter-bridge\n",
              "var JupyterBridge; // URL of Jupyter-bridge server could be defined by assignment pre-pended to this file\n",
              "if (typeof JupyterBridge === 'undefined') {\n",
              "    JupyterBridge = 'https://jupyter-bridge.cytoscape.org' // for production\n",
              "}\n",
              "var Channel; // Unique constant that could be defined by assignment pre-pended to this file\n",
              "if (typeof Channel === 'undefined') { // ... but if not assigned, use a debugging value\n",
              "    Channel = 1\n",
              "}\n",
              "\n",
              "\n",
              "var httpR = new XMLHttpRequest(); // for sending reply to Jupyter-bridge\n",
              "var httpRE = new XMLHttpRequest(); // for sending backup error reply to Jupyter-bridge\n",
              "var httpC = new XMLHttpRequest(); // for sending command to Cytoscape\n",
              "var httpJ = new XMLHttpRequest(); // for fetching request from Jupyter-bridge\n",
              "\n",
              "const HTTP_OK = 200\n",
              "const HTTP_SYS_ERR = 500\n",
              "const HTTP_TIMEOUT = 408\n",
              "const HTTP_TOO_MANY = 429\n",
              "\n",
              "\n",
              " /* This function is useful if we want to rewrite the incoming URL to resolve just to our local one.\n",
              "    Doing this stops the Jupyter component from abusing this client to call out to endpoints other\n",
              "    than local Cytoscape. On the other hand, it makes it hard to detect when the Jupyter component\n",
              "    has specified a genuinely bad URL and really should get an error result. For now, we'll execute\n",
              "    the Jupyter-supplied URL and return the result, whatever it may be.\n",
              "\n",
              "const LocalCytoscape = 'http://127.0.0.1:1234'\n",
              "\n",
              "function parseURL(url) {\n",
              "    var reURLInformation = new RegExp([\n",
              "        '^(https?:)//', // protocol\n",
              "        '(([^:/?#]*)(?::([0-9]+))?)', // host (hostname and port)\n",
              "        '(/{0,1}[^?#]*)', // pathname\n",
              "        '(\\\\?[^#]*|)', // search\n",
              "        '(#.*|)$' // hash\n",
              "    ].join(''));\n",
              "    var match = url.match(reURLInformation);\n",
              "    return match && {\n",
              "        url: url,\n",
              "        protocol: match[1],\n",
              "        host: match[2],\n",
              "        hostname: match[3],\n",
              "        port: match[4],\n",
              "        pathname: match[5],\n",
              "        search: match[6],\n",
              "        hash: match[7]\n",
              "    }\n",
              "}\n",
              "*/\n",
              "\n",
              "function replyCytoscape(replyStatus, replyStatusText, replyText) {\n",
              "\n",
              "    // Clean up after Jupyter bridge accepts reply\n",
              "    httpR.onreadystatechange = function() {\n",
              "        if (httpR.readyState === 4) {\n",
              "            if (showDebug) {\n",
              "                console.log(' status from queue_reply: ' + httpR.status + ', reply: ' + httpR.responseText)\n",
              "            }\n",
              "        }\n",
              "    }\n",
              "\n",
              "    httpR.onerror = function() {\n",
              "        // Clean up after Jupyter bridge accepts backup reply\n",
              "        httpRE.onreadystatechange = function() {\n",
              "            if (httpRE.readyState === 4) {\n",
              "                if (showDebug) {\n",
              "                    console.log(' status from backup queue_reply: ' + httpRE.status + ', reply: ' + httpRE.responseText)\n",
              "                }\n",
              "            }\n",
              "        }\n",
              "\n",
              "        if (showDebug) {\n",
              "            console.log(' error from queue_reply -- could be Jupyter-Bridge server reject')\n",
              "        }\n",
              "        var errReply = {'status': HTTP_SYS_ERR, 'reason': 'Jupyter-Bridge rejected reply', 'text': 'Possibly reply is too long for Jupyter-Bridge server'}\n",
              "        httpRE.open('POST', jupyterBridgeURL, true)\n",
              "        httpRE.setRequestHeader('Content-Type', 'text/plain')\n",
              "        httpRE.send(JSON.stringify(errReply))\n",
              "    }\n",
              "\n",
              "    var reply = {'status': replyStatus, 'reason': replyStatusText, 'text': replyText}\n",
              "\n",
              "    // Send reply to Jupyter bridge\n",
              "    var jupyterBridgeURL = JupyterBridge + '/queue_reply?channel=' + Channel\n",
              "    if (showDebug) {\n",
              "        console.log('Starting queue to Jupyter bridge: ' + jupyterBridgeURL)\n",
              "    }\n",
              "    httpR.open('POST', jupyterBridgeURL, true)\n",
              "    httpR.setRequestHeader('Content-Type', 'text/plain')\n",
              "    httpR.send(JSON.stringify(reply))\n",
              "}\n",
              "\n",
              "function callCytoscape(callSpec) {\n",
              "\n",
              "    // Captures Cytoscape reply and sends it on\n",
              "    httpC.onreadystatechange = function() {\n",
              "        if (httpC.readyState === 4) {\n",
              "            if (showDebug) {\n",
              "                console.log(' status from CyREST: ' + httpC.status + ', statusText: ' + httpC.statusText + ', reply: ' + httpC.responseText)\n",
              "            }\n",
              "            // Note that httpC.status is 0 if the URL can't be reached *OR* there is a CORS violation.\n",
              "            // I wish I could tell the difference because for a CORS violation, I'd return a 404,\n",
              "            // which would roughly match what Python's native request package would return.\n",
              "            // The practical consequence is that the ultimate caller (e.g., py4cytoscape)\n",
              "            // returns different exceptions, depending on wither this module is doing the\n",
              "            // HTTP operation or the native Python requests package is. This is minor, but\n",
              "            // messes up tests that verify the exception type.\n",
              "            replyCytoscape(httpC.status, httpC.statusText, httpC.responseText)\n",
              "            waitOnJupyterBridge()\n",
              "        }\n",
              "    }\n",
              "\n",
              "//  Build up request to Cytoscape, making sure host is local.\n",
              "//    Too heavy handed: localURL = LocalCytoscape + parseURL(callSpec.url).pathname\n",
              "    var localURL = callSpec.url // Try using what was passed in ... is there a security risk??\n",
              "\n",
              "    if (showDebug) {\n",
              "        console.log('Command to CyREST: ' + callSpec.command + ' (' + localURL + ')')\n",
              "        if (callSpec.params) {\n",
              "            console.log(' params: ' + JSON.stringify(callSpec.params))\n",
              "        }\n",
              "        if (callSpec.headers) {\n",
              "            console.log(' header: ' + JSON.stringify(callSpec.headers))\n",
              "        }\n",
              "        if (callSpec.data) {\n",
              "            console.log('   data: ' + JSON.stringify(callSpec.data))\n",
              "        }\n",
              "    }\n",
              "\n",
              "    if (callSpec.command === 'webbrowser') {\n",
              "        if (window.open(callSpec.url)) {\n",
              "            replyCytoscape(HTTP_OK, 'OK', '')\n",
              "        } else {\n",
              "            replyCytoscape(HTTP_SYS_ERR, 'BAD BROWSER OPEN', '')\n",
              "        }\n",
              "        waitOnJupyterBridge()\n",
              "    } else if (callSpec.command === 'version') {\n",
              "        replyCytoscape(HTTP_OK, 'OK',\n",
              "            JSON.stringify({\"jupyterBridgeVersion\": VERSION}))\n",
              "        waitOnJupyterBridge()\n",
              "    } else {\n",
              "        var joiner = '?'\n",
              "        for (let param in callSpec.params) {\n",
              "            localURL = localURL + joiner + param + '=' + encodeURIComponent(callSpec.params[param])\n",
              "            joiner = '&'\n",
              "        }\n",
              "\n",
              "        httpC.open(callSpec.command, localURL, true)\n",
              "        for (let header in callSpec.headers) {\n",
              "            httpC.setRequestHeader(header, callSpec.headers[header])\n",
              "        }\n",
              "\n",
              "        // Send request to Cytoscape ... reply goes to onreadystatechange handler\n",
              "        httpC.send(JSON.stringify(callSpec.data))\n",
              "    }\n",
              "}\n",
              "\n",
              "function waitOnJupyterBridge() {\n",
              "\n",
              "    // Captures request from Jupyter bridge\n",
              "    httpJ.onreadystatechange = function() {\n",
              "        if (httpJ.readyState === 4) {\n",
              "            if (showDebug) {\n",
              "                console.log(' status from dequeue_request: ' + httpJ.status + ', reply: ' + httpJ.responseText)\n",
              "            }\n",
              "            try {\n",
              "                if (httpJ.status == HTTP_TOO_MANY) {\n",
              "                    // Nothing more to do ... the browser has created too many listeners,\n",
              "                    // and it's time to stop listening because the server saw a listener\n",
              "                    // listening on this channel before we got there.\n",
              "                    console.log('  shutting down because of redundant reader on channel: ' + Channel)\n",
              "                } else {\n",
              "                    if (httpJ.status === HTTP_TIMEOUT) {\n",
              "                        waitOnJupyterBridge()\n",
              "                    } else {\n",
              "                        callCytoscape(JSON.parse(httpJ.responseText))\n",
              "                    }\n",
              "                }\n",
              "            } catch(err) {\n",
              "                if (showDebug) {\n",
              "                    console.log(' exception calling Cytoscape: ' + err)\n",
              "                }\n",
              "                // Bad responseText means something bad happened that we don't understand.\n",
              "                // Go wait on another request, as there's nothing to call Cytoscape with.\n",
              "                waitOnJupyterBridge()\n",
              "            }\n",
              "        }\n",
              "    }\n",
              "\n",
              "    // Wait for request from Jupyter bridge\n",
              "    var jupyterBridgeURL = JupyterBridge + '/dequeue_request?channel=' + Channel\n",
              "    if (showDebug) {\n",
              "        console.log('Starting dequeue on Jupyter bridge: ' + jupyterBridgeURL)\n",
              "    }\n",
              "    httpJ.open('GET', jupyterBridgeURL, true)\n",
              "    httpJ.send()\n",
              "}\n",
              "\n",
              "// This kicks off a loop that ends by calling waitOnJupyterBridge again. This first call\n",
              "// ejects any dead readers before we start a read\n",
              "waitOnJupyterBridge() // Wait for message from Jupyter bridge, execute it, and return reply\n",
              "\n",
              "if (showDebug) {\n",
              "    alert(\"Jupyter-bridge browser component is started on \" + JupyterBridge + ', channel ' + Channel)\n",
              "}\n"
            ],
            "text/plain": [
              "<IPython.core.display.Javascript object>"
            ]
          },
          "metadata": {},
          "execution_count": 2
        }
      ]
    },
    {
      "cell_type": "markdown",
      "metadata": {
        "id": "ey2t4jmHuApz"
      },
      "source": [
        "## Import the required packages\n"
      ]
    },
    {
      "cell_type": "code",
      "metadata": {
        "id": "oGe1JOV3uAp0"
      },
      "source": [
        "import os\n",
        "import sys\n",
        "from time import sleep\n",
        "import pandas as pd\n",
        "import matplotlib\n",
        "import matplotlib.pyplot as plt\n",
        "import seaborn as sns\n",
        "import py4cytoscape as p4c\n",
        "import wget\n",
        "from IPython.display import Image\n",
        "%matplotlib inline\n",
        "pd.options.mode.chained_assignment = None"
      ],
      "execution_count": 3,
      "outputs": []
    },
    {
      "cell_type": "markdown",
      "metadata": {
        "id": "8gc7D8jnuAp0"
      },
      "source": [
        "## Setup Cytoscape\n",
        "* Launch Cytoscape on your local machine. If you haven't already installed Cytoscape, then download the latest version from http://cytoscape.org.\n",
        "* Install the STRING app, if you haven't already: http://apps.cytoscape.org/apps/stringapp\n",
        "* Install the filetransfer app from https://apps.cytoscape.org/apps/filetransfer\n",
        "* Leave Cytoscape running in the background during the remainder of the tutorial.\n",
        "* Check cytoscape connection.\n",
        "\n",
        "You can also install app inside Python notebook by running \"py4cytoscape.install_app('Your App')\""
      ]
    },
    {
      "cell_type": "code",
      "metadata": {
        "colab": {
          "base_uri": "https://localhost:8080/"
        },
        "id": "Ze9U5m2ruAp1",
        "outputId": "3aa1590d-1093-4b66-d1b5-7f7ee7c09196"
      },
      "source": [
        "p4c.cytoscape_version_info()"
      ],
      "execution_count": 4,
      "outputs": [
        {
          "output_type": "execute_result",
          "data": {
            "text/plain": [
              "{'apiVersion': 'v1',\n",
              " 'automationAPIVersion': '1.3.0',\n",
              " 'cytoscapeVersion': '3.9.0',\n",
              " 'jupyterBridgeVersion': '0.0.2',\n",
              " 'py4cytoscapeVersion': '0.0.11'}"
            ]
          },
          "metadata": {},
          "execution_count": 4
        }
      ]
    },
    {
      "cell_type": "markdown",
      "metadata": {
        "id": "JSPVf3i6uAp2"
      },
      "source": [
        "## Step 1: Getting Disease Networks\n",
        "\n",
        "Use Cytoscape to query the STRING database for networks of genes associated with breast cancer and ovarian cancer.\n",
        "\n",
        "### Query STRING database by disease to generate networks\n",
        "\n",
        "#### Breast cancer"
      ]
    },
    {
      "cell_type": "code",
      "metadata": {
        "id": "2KoRq-gPuAp3"
      },
      "source": [
        "string_cmd_list = ['string disease query','disease=\"breast cancer\"', 'species=\"Homo sapiens\"', 'limit=150', 'cutoff=0.9']"
      ],
      "execution_count": 5,
      "outputs": []
    },
    {
      "cell_type": "code",
      "metadata": {
        "id": "FFWau5GbuAp4"
      },
      "source": [
        "string_cmd = \" \".join(string_cmd_list)"
      ],
      "execution_count": 6,
      "outputs": []
    },
    {
      "cell_type": "code",
      "metadata": {
        "colab": {
          "base_uri": "https://localhost:8080/"
        },
        "id": "oWkBFj8BuAp4",
        "outputId": "85e00d11-4fa8-4c81-a25f-6e5bfe702435"
      },
      "source": [
        "p4c.commands.commands_run(string_cmd)"
      ],
      "execution_count": 7,
      "outputs": [
        {
          "output_type": "execute_result",
          "data": {
            "text/plain": [
              "[\"Loaded network 'STRING network - breast cancer' with 150 nodes and 847 edges\"]"
            ]
          },
          "metadata": {},
          "execution_count": 7
        }
      ]
    },
    {
      "cell_type": "markdown",
      "metadata": {
        "id": "kO-bTDW0uAp4"
      },
      "source": [
        "#### Ovarian cancer\n"
      ]
    },
    {
      "cell_type": "code",
      "metadata": {
        "id": "a2DlzOu1uAp5"
      },
      "source": [
        "string_cmd_list = ['string disease query','disease=\"ovarian cancer\"', 'species=\"Homo sapiens\"', 'limit=150', 'cutoff=0.9']"
      ],
      "execution_count": 8,
      "outputs": []
    },
    {
      "cell_type": "code",
      "metadata": {
        "id": "MZUbq-FYuAp5"
      },
      "source": [
        "string_cmd = \" \".join(string_cmd_list)"
      ],
      "execution_count": 9,
      "outputs": []
    },
    {
      "cell_type": "code",
      "metadata": {
        "colab": {
          "base_uri": "https://localhost:8080/"
        },
        "id": "A3g8KTyauAp6",
        "outputId": "4884feee-dbb9-4f12-b8fe-c0490ca3579c"
      },
      "source": [
        "p4c.commands.commands_run(string_cmd)"
      ],
      "execution_count": 10,
      "outputs": [
        {
          "output_type": "execute_result",
          "data": {
            "text/plain": [
              "[\"Loaded network 'STRING network - ovarian cancer' with 150 nodes and 776 edges\"]"
            ]
          },
          "metadata": {},
          "execution_count": 10
        }
      ]
    },
    {
      "cell_type": "markdown",
      "metadata": {
        "id": "SbcYI3IsuAp6"
      },
      "source": [
        "## Step 2: Interacting with Cytoscape \n",
        "\n",
        "### Get list of networks "
      ]
    },
    {
      "cell_type": "code",
      "metadata": {
        "colab": {
          "base_uri": "https://localhost:8080/"
        },
        "id": "9DMKiJORuAp6",
        "outputId": "2de41bd1-b2a2-4760-be46-e5b7b9d4f339"
      },
      "source": [
        "network_names = p4c.get_network_list()\n",
        "network_names"
      ],
      "execution_count": 11,
      "outputs": [
        {
          "output_type": "execute_result",
          "data": {
            "text/plain": [
              "['STRING network - breast cancer', 'STRING network - ovarian cancer']"
            ]
          },
          "metadata": {},
          "execution_count": 11
        }
      ]
    },
    {
      "cell_type": "code",
      "metadata": {
        "colab": {
          "base_uri": "https://localhost:8080/"
        },
        "id": "-fehRIZ8uAp6",
        "outputId": "e1bfd91f-4981-4920-c3c1-3295c3c1c850"
      },
      "source": [
        "# Get network suid\n",
        "breast_suid = p4c.get_network_suid(network_names[0])\n",
        "breast_suid"
      ],
      "execution_count": 12,
      "outputs": [
        {
          "output_type": "execute_result",
          "data": {
            "text/plain": [
              "216"
            ]
          },
          "metadata": {},
          "execution_count": 12
        }
      ]
    },
    {
      "cell_type": "code",
      "metadata": {
        "colab": {
          "base_uri": "https://localhost:8080/"
        },
        "id": "OdGU9HiBuAp6",
        "outputId": "1c4a737e-cf7c-43ca-ff6a-ddb1d76f16e2"
      },
      "source": [
        "# Get network suid\n",
        "ovarian_suid = p4c.get_network_suid(network_names[1])\n",
        "ovarian_suid"
      ],
      "execution_count": 13,
      "outputs": [
        {
          "output_type": "execute_result",
          "data": {
            "text/plain": [
              "5546"
            ]
          },
          "metadata": {},
          "execution_count": 13
        }
      ]
    },
    {
      "cell_type": "markdown",
      "metadata": {
        "id": "w5ozzUGEuAp7"
      },
      "source": [
        "### Layout network"
      ]
    },
    {
      "cell_type": "code",
      "metadata": {
        "colab": {
          "base_uri": "https://localhost:8080/"
        },
        "id": "SlYjRjR8uAp7",
        "outputId": "a8702d5d-e89e-46a3-b446-9b7addb1c4cf"
      },
      "source": [
        "# You can use either network suid or network name in the argument\n",
        "p4c.layout_network('circular', ovarian_suid)"
      ],
      "execution_count": 14,
      "outputs": [
        {
          "output_type": "execute_result",
          "data": {
            "text/plain": [
              "{}"
            ]
          },
          "metadata": {},
          "execution_count": 14
        }
      ]
    },
    {
      "cell_type": "markdown",
      "metadata": {
        "id": "lq_TcwN7uAp7"
      },
      "source": [
        "#### List of layout algorithms available"
      ]
    },
    {
      "cell_type": "code",
      "metadata": {
        "colab": {
          "base_uri": "https://localhost:8080/"
        },
        "id": "b-ovKW5quAp7",
        "outputId": "35f3dcea-e695-415b-bfa4-f451fb47751a"
      },
      "source": [
        "p4c.commands.cyrest_get('apply/layouts')"
      ],
      "execution_count": 15,
      "outputs": [
        {
          "output_type": "execute_result",
          "data": {
            "text/plain": [
              "['attribute-circle',\n",
              " 'stacked-node-layout',\n",
              " 'attribute-grid',\n",
              " 'degree-circle',\n",
              " 'circular',\n",
              " 'attributes-layout',\n",
              " 'kamada-kawai',\n",
              " 'force-directed',\n",
              " 'cose',\n",
              " 'grid',\n",
              " 'hierarchical',\n",
              " 'fruchterman-rheingold',\n",
              " 'isom']"
            ]
          },
          "metadata": {},
          "execution_count": 15
        }
      ]
    },
    {
      "cell_type": "code",
      "metadata": {
        "colab": {
          "base_uri": "https://localhost:8080/"
        },
        "id": "XZhzpPlOuAp8",
        "outputId": "2b66d797-5dfd-4e48-f6a9-df72b07078a3"
      },
      "source": [
        "p4c.layout_network('force-directed', ovarian_suid)"
      ],
      "execution_count": 16,
      "outputs": [
        {
          "output_type": "execute_result",
          "data": {
            "text/plain": [
              "{}"
            ]
          },
          "metadata": {},
          "execution_count": 16
        }
      ]
    },
    {
      "cell_type": "markdown",
      "metadata": {
        "id": "tzW0yp4BuAp8"
      },
      "source": [
        "#### Layout with parameters!"
      ]
    },
    {
      "cell_type": "code",
      "metadata": {
        "colab": {
          "base_uri": "https://localhost:8080/",
          "height": 35
        },
        "id": "SMw5OYR4uAp8",
        "outputId": "694bb9df-a032-4c13-bd61-811a0a5df57c"
      },
      "source": [
        "p4c.set_layout_properties('force-directed', {'defaultSpringLength': 5, 'defaultSpringCoefficient': .000004})"
      ],
      "execution_count": 17,
      "outputs": [
        {
          "output_type": "execute_result",
          "data": {
            "application/vnd.google.colaboratory.intrinsic+json": {
              "type": "string"
            },
            "text/plain": [
              "''"
            ]
          },
          "metadata": {},
          "execution_count": 17
        }
      ]
    },
    {
      "cell_type": "code",
      "metadata": {
        "colab": {
          "base_uri": "https://localhost:8080/"
        },
        "id": "Xa5hWZtBuAp9",
        "outputId": "2d82b133-fa70-456a-9510-358696d2c597"
      },
      "source": [
        "p4c.get_layout_property_names('force-directed')"
      ],
      "execution_count": 18,
      "outputs": [
        {
          "output_type": "execute_result",
          "data": {
            "text/plain": [
              "['numIterations',\n",
              " 'defaultSpringCoefficient',\n",
              " 'defaultSpringLength',\n",
              " 'defaultNodeMass',\n",
              " 'isDeterministic',\n",
              " 'singlePartition']"
            ]
          },
          "metadata": {},
          "execution_count": 18
        }
      ]
    },
    {
      "cell_type": "markdown",
      "metadata": {
        "id": "sbAebhuIuAp9"
      },
      "source": [
        "These *command* calls will allow you to interrogate the layouts and parameters available in your active Cytoscape session. This includes any layouts added by apps you've installed!\n",
        "\n",
        "### Get table data from network\n",
        "Now, let's look at the tablular data associated with our STRING networks..."
      ]
    },
    {
      "cell_type": "code",
      "metadata": {
        "colab": {
          "base_uri": "https://localhost:8080/"
        },
        "id": "YWU-9W7PuAp9",
        "outputId": "cd2e4f3d-6787-4650-ffea-028233a5bbed"
      },
      "source": [
        "p4c.get_table_column_names()"
      ],
      "execution_count": 19,
      "outputs": [
        {
          "output_type": "execute_result",
          "data": {
            "text/plain": [
              "['SUID',\n",
              " 'shared name',\n",
              " 'name',\n",
              " 'selected',\n",
              " 'stringdb::canonical name',\n",
              " 'display name',\n",
              " 'stringdb::full name',\n",
              " 'stringdb::database identifier',\n",
              " 'stringdb::description',\n",
              " '@id',\n",
              " 'stringdb::namespace',\n",
              " 'stringdb::node type',\n",
              " 'query term',\n",
              " 'stringdb::sequence',\n",
              " 'stringdb::species',\n",
              " 'stringdb::STRING style',\n",
              " 'stringdb::enhancedLabel Passthrough',\n",
              " 'compartment::cytoskeleton',\n",
              " 'compartment::cytosol',\n",
              " 'compartment::endoplasmic reticulum',\n",
              " 'compartment::endosome',\n",
              " 'compartment::extracellular',\n",
              " 'compartment::golgi apparatus',\n",
              " 'compartment::lysosome',\n",
              " 'compartment::mitochondrion',\n",
              " 'compartment::nucleus',\n",
              " 'compartment::peroxisome',\n",
              " 'compartment::plasma membrane',\n",
              " 'stringdb::structures',\n",
              " 'target::development level',\n",
              " 'target::family',\n",
              " 'tissue::adrenal gland',\n",
              " 'tissue::blood',\n",
              " 'tissue::bone',\n",
              " 'tissue::bone marrow',\n",
              " 'tissue::eye',\n",
              " 'tissue::gall bladder',\n",
              " 'tissue::heart',\n",
              " 'tissue::intestine',\n",
              " 'tissue::kidney',\n",
              " 'tissue::liver',\n",
              " 'tissue::lung',\n",
              " 'tissue::muscle',\n",
              " 'tissue::nervous system',\n",
              " 'tissue::pancreas',\n",
              " 'tissue::saliva',\n",
              " 'tissue::skin',\n",
              " 'tissue::spleen',\n",
              " 'tissue::stomach',\n",
              " 'tissue::thyroid gland',\n",
              " 'tissue::urine',\n",
              " 'stringdb::disease score']"
            ]
          },
          "metadata": {},
          "execution_count": 19
        }
      ]
    },
    {
      "cell_type": "markdown",
      "metadata": {
        "id": "Ou_q2KQDuAp9"
      },
      "source": [
        "#### Retrieve disease scores \n",
        "We can retrieve any set of columns from Cytoscape and store them as a data frame."
      ]
    },
    {
      "cell_type": "code",
      "metadata": {
        "colab": {
          "base_uri": "https://localhost:8080/",
          "height": 206
        },
        "id": "G-lkLJyhuAp9",
        "outputId": "581bd791-6033-4d43-85f0-1a3ca24cc826"
      },
      "source": [
        "disease_score_table = p4c.get_table_columns(columns='stringdb::disease score')\n",
        "disease_score_table.head()"
      ],
      "execution_count": 20,
      "outputs": [
        {
          "output_type": "execute_result",
          "data": {
            "text/html": [
              "<div>\n",
              "<style scoped>\n",
              "    .dataframe tbody tr th:only-of-type {\n",
              "        vertical-align: middle;\n",
              "    }\n",
              "\n",
              "    .dataframe tbody tr th {\n",
              "        vertical-align: top;\n",
              "    }\n",
              "\n",
              "    .dataframe thead th {\n",
              "        text-align: right;\n",
              "    }\n",
              "</style>\n",
              "<table border=\"1\" class=\"dataframe\">\n",
              "  <thead>\n",
              "    <tr style=\"text-align: right;\">\n",
              "      <th></th>\n",
              "      <th>stringdb::disease score</th>\n",
              "    </tr>\n",
              "  </thead>\n",
              "  <tbody>\n",
              "    <tr>\n",
              "      <th>6145</th>\n",
              "      <td>2.47259</td>\n",
              "    </tr>\n",
              "    <tr>\n",
              "      <th>5890</th>\n",
              "      <td>2.90429</td>\n",
              "    </tr>\n",
              "    <tr>\n",
              "      <th>6148</th>\n",
              "      <td>2.54846</td>\n",
              "    </tr>\n",
              "    <tr>\n",
              "      <th>5893</th>\n",
              "      <td>2.5735</td>\n",
              "    </tr>\n",
              "    <tr>\n",
              "      <th>6151</th>\n",
              "      <td>2.58771</td>\n",
              "    </tr>\n",
              "  </tbody>\n",
              "</table>\n",
              "</div>"
            ],
            "text/plain": [
              "     stringdb::disease score\n",
              "6145                 2.47259\n",
              "5890                 2.90429\n",
              "6148                 2.54846\n",
              "5893                  2.5735\n",
              "6151                 2.58771"
            ]
          },
          "metadata": {},
          "execution_count": 20
        }
      ]
    },
    {
      "cell_type": "code",
      "metadata": {
        "colab": {
          "base_uri": "https://localhost:8080/",
          "height": 314
        },
        "id": "bd8HION4uAp9",
        "outputId": "f13bcea8-2a13-4de6-a8c2-77ff8f8e1444"
      },
      "source": [
        "sns.set_style(\"white\")\n",
        "sns.kdeplot(data=disease_score_table[\"stringdb::disease score\"].astype(float) )\n",
        "plt.xlabel(\"disease score\")\n",
        "plt.ylabel(\"frequency\")"
      ],
      "execution_count": 21,
      "outputs": [
        {
          "output_type": "stream",
          "name": "stdout",
          "text": [
            "NumExpr defaulting to 2 threads.\n"
          ]
        },
        {
          "output_type": "execute_result",
          "data": {
            "text/plain": [
              "Text(0, 0.5, 'frequency')"
            ]
          },
          "metadata": {},
          "execution_count": 21
        },
        {
          "output_type": "display_data",
          "data": {
            "image/png": "[encoded data removed]",
            "text/plain": [
              "<Figure size 432x288 with 1 Axes>"
            ]
          },
          "metadata": {}
        }
      ]
    },
    {
      "cell_type": "markdown",
      "metadata": {
        "id": "4BI4aQU4uAp-"
      },
      "source": [
        "### Generate subnetworks\n",
        "In order to reflect your exploration back onto the network, let's generate subnetworks...\n",
        "\n",
        "...from top quartile of 'disease score'"
      ]
    },
    {
      "cell_type": "code",
      "metadata": {
        "id": "_QQj47VBuAp-"
      },
      "source": [
        "top_quart=disease_score_table[\"stringdb::disease score\"].quantile(0.75)\n",
        "top_nodes=disease_score_table[disease_score_table[\"stringdb::disease score\"]>top_quart].index.tolist()\n",
        "top_nodes = [str(n) for n in top_nodes]"
      ],
      "execution_count": 22,
      "outputs": []
    },
    {
      "cell_type": "code",
      "metadata": {
        "colab": {
          "base_uri": "https://localhost:8080/"
        },
        "id": "F4GTOj8guAp-",
        "outputId": "5b95e14a-4a19-4ec7-a871-79942c24567a"
      },
      "source": [
        "p4c.create_subnetwork(nodes=top_nodes, subnetwork_name=\"top disease quartile\")"
      ],
      "execution_count": 23,
      "outputs": [
        {
          "output_type": "execute_result",
          "data": {
            "text/plain": [
              "10480"
            ]
          },
          "metadata": {},
          "execution_count": 23
        }
      ]
    },
    {
      "cell_type": "markdown",
      "metadata": {
        "id": "LTCuMKDAuAp-"
      },
      "source": [
        "...of connected nodes only"
      ]
    },
    {
      "cell_type": "code",
      "metadata": {
        "colab": {
          "base_uri": "https://localhost:8080/"
        },
        "id": "3J5_5w_TuAp-",
        "outputId": "94f3abc7-dc90-411a-dbb1-bb74f0efbd73"
      },
      "source": [
        "p4c.create_subnetwork(nodes=\"selected\", edges=\"all\", subnetwork_name=\"top disease quartile connected\")"
      ],
      "execution_count": 24,
      "outputs": [
        {
          "output_type": "execute_result",
          "data": {
            "text/plain": [
              "11346"
            ]
          },
          "metadata": {},
          "execution_count": 24
        }
      ]
    },
    {
      "cell_type": "markdown",
      "metadata": {
        "id": "ssZkjTNJuAp-"
      },
      "source": [
        "...from first neighbors of top 3 genes, using the network connectivity together with the data to direct discovery."
      ]
    },
    {
      "cell_type": "code",
      "metadata": {
        "colab": {
          "base_uri": "https://localhost:8080/"
        },
        "id": "El0TMaJ_uAp-",
        "outputId": "d91f089a-f3a4-46d7-8619-6f8d3c2bf8ef"
      },
      "source": [
        "p4c.set_current_network(ovarian_suid)"
      ],
      "execution_count": 25,
      "outputs": [
        {
          "output_type": "execute_result",
          "data": {
            "text/plain": [
              "{}"
            ]
          },
          "metadata": {},
          "execution_count": 25
        }
      ]
    },
    {
      "cell_type": "code",
      "metadata": {
        "colab": {
          "base_uri": "https://localhost:8080/"
        },
        "id": "NVQmScyWuAp_",
        "outputId": "d1d0a42b-3f28-42e3-b325-8e29cff4371d"
      },
      "source": [
        "top_nodes=disease_score_table.sort_values(by=[\"stringdb::disease score\"],\\\n",
        "                                         ascending=False)\n",
        "top_nodes=top_nodes.index.tolist()[:3]\n",
        "print(top_nodes)"
      ],
      "execution_count": 26,
      "outputs": [
        {
          "output_type": "stream",
          "name": "stdout",
          "text": [
            "[5776, 5815, 5941]\n"
          ]
        }
      ]
    },
    {
      "cell_type": "code",
      "metadata": {
        "colab": {
          "base_uri": "https://localhost:8080/"
        },
        "id": "Amh1YBt3uAp_",
        "outputId": "f8deeed0-5a40-4f74-9c37-01a0a8d66554"
      },
      "source": [
        "p4c.select_nodes(nodes=top_nodes)"
      ],
      "execution_count": 27,
      "outputs": [
        {
          "output_type": "execute_result",
          "data": {
            "text/plain": [
              "{'edges': [], 'nodes': [5776, 5941, 5815]}"
            ]
          },
          "metadata": {},
          "execution_count": 27
        }
      ]
    },
    {
      "cell_type": "code",
      "metadata": {
        "colab": {
          "base_uri": "https://localhost:8080/"
        },
        "id": "7GFA_MVvuAp_",
        "outputId": "1e25c4f1-fe8a-4c88-edc1-4528883a3414"
      },
      "source": [
        "p4c.select_first_neighbors()"
      ],
      "execution_count": 28,
      "outputs": [
        {
          "output_type": "execute_result",
          "data": {
            "text/plain": [
              "{'edges': [],\n",
              " 'nodes': [5938,\n",
              "  5812,\n",
              "  5941,\n",
              "  5815,\n",
              "  6007,\n",
              "  5881,\n",
              "  5758,\n",
              "  6142,\n",
              "  5887,\n",
              "  6079,\n",
              "  5953,\n",
              "  6019,\n",
              "  5827,\n",
              "  5893,\n",
              "  5770,\n",
              "  5902,\n",
              "  6094,\n",
              "  6031,\n",
              "  5776,\n",
              "  6160,\n",
              "  6034,\n",
              "  6100,\n",
              "  6103,\n",
              "  5788,\n",
              "  6175,\n",
              "  6049,\n",
              "  5860,\n",
              "  5800,\n",
              "  5929,\n",
              "  5737,\n",
              "  5803]}"
            ]
          },
          "metadata": {},
          "execution_count": 28
        }
      ]
    },
    {
      "cell_type": "code",
      "metadata": {
        "colab": {
          "base_uri": "https://localhost:8080/"
        },
        "id": "a1pldyUQuAp_",
        "outputId": "586b0de3-abff-46e6-bfb6-654daf7cc175"
      },
      "source": [
        "p4c.create_subnetwork(nodes=\"selected\", subnetwork_name=\"top disease neighbors\")"
      ],
      "execution_count": 29,
      "outputs": [
        {
          "output_type": "execute_result",
          "data": {
            "text/plain": [
              "12025"
            ]
          },
          "metadata": {},
          "execution_count": 29
        }
      ]
    },
    {
      "cell_type": "code",
      "metadata": {
        "colab": {
          "base_uri": "https://localhost:8080/"
        },
        "id": "xOf0IUA5uAp_",
        "outputId": "35610b03-19bd-4320-e5e9-e6b6bb81b679"
      },
      "source": [
        "p4c.layout_network('force-directed', 'top disease neighbors')"
      ],
      "execution_count": 30,
      "outputs": [
        {
          "output_type": "execute_result",
          "data": {
            "text/plain": [
              "{}"
            ]
          },
          "metadata": {},
          "execution_count": 30
        }
      ]
    },
    {
      "cell_type": "markdown",
      "metadata": {
        "id": "BrrNRYhkuAp_"
      },
      "source": [
        "...from diffusion algorithm starting with top 3 genes, using the network connectivity in a more subtle way than just first-degree neighbors."
      ]
    },
    {
      "cell_type": "code",
      "metadata": {
        "colab": {
          "base_uri": "https://localhost:8080/"
        },
        "id": "03OioqUnuAqA",
        "outputId": "e82eb2bf-3674-414c-c313-d86ae65b709b"
      },
      "source": [
        "p4c.set_current_network(ovarian_suid)\n",
        "p4c.select_nodes(nodes=top_nodes)"
      ],
      "execution_count": 31,
      "outputs": [
        {
          "output_type": "execute_result",
          "data": {
            "text/plain": [
              "{'edges': [], 'nodes': [5776, 5941, 5815]}"
            ]
          },
          "metadata": {},
          "execution_count": 31
        }
      ]
    },
    {
      "cell_type": "code",
      "metadata": {
        "colab": {
          "base_uri": "https://localhost:8080/"
        },
        "id": "NGu3e2pUuAqA",
        "outputId": "41aadc73-35f6-468b-b897-d142c3cb24ac"
      },
      "source": [
        "p4c.diffusion_basic()"
      ],
      "execution_count": 32,
      "outputs": [
        {
          "output_type": "execute_result",
          "data": {
            "text/plain": [
              "{'heatColumn': 'diffusion_output_heat', 'rankColumn': 'diffusion_output_rank'}"
            ]
          },
          "metadata": {},
          "execution_count": 32
        }
      ]
    },
    {
      "cell_type": "code",
      "metadata": {
        "colab": {
          "base_uri": "https://localhost:8080/"
        },
        "id": "FomSx2guuAqA",
        "outputId": "2f04768c-98a6-4105-a0f4-7ecfbb2376d7"
      },
      "source": [
        "p4c.create_subnetwork(nodes=\"selected\", subnetwork_name=\"top disease diffusion\")"
      ],
      "execution_count": 33,
      "outputs": [
        {
          "output_type": "execute_result",
          "data": {
            "text/plain": [
              "12716"
            ]
          },
          "metadata": {},
          "execution_count": 33
        }
      ]
    },
    {
      "cell_type": "code",
      "metadata": {
        "colab": {
          "base_uri": "https://localhost:8080/"
        },
        "id": "t7x_8qS4uAqA",
        "outputId": "895b5ec3-e641-47b0-f26a-21b4b49f5fbd"
      },
      "source": [
        "p4c.layout_network('force-directed', 'top disease diffusion')"
      ],
      "execution_count": 34,
      "outputs": [
        {
          "output_type": "execute_result",
          "data": {
            "text/plain": [
              "{}"
            ]
          },
          "metadata": {},
          "execution_count": 34
        }
      ]
    },
    {
      "cell_type": "markdown",
      "metadata": {
        "id": "DUkUu2_nuAqA"
      },
      "source": [
        "## Step 3: Visualizing data on networks\n",
        "\n",
        "### Load datasets\n",
        "Downloaded TCGA data from https://portal.gdc.cancer.gov/. Also available via each TCGA publication, e.g.:\n",
        " \n",
        "* Breast: https://tcga-data.nci.nih.gov/docs/publications/brca_2012/\n",
        "* Ovarian: https://tcga-data.nci.nih.gov/docs/publications/ov_2011/\n",
        "\n",
        "Here we download TCGA data from our GitHub repo."
      ]
    },
    {
      "cell_type": "code",
      "metadata": {
        "colab": {
          "base_uri": "https://localhost:8080/",
          "height": 35
        },
        "id": "EAkKksvWuAqA",
        "outputId": "2b1ab60b-0cf8-4dc2-8f76-e59af18c1b5e"
      },
      "source": [
        "wget.download('https://raw.githubusercontent.com/cytoscape/cytoscape-automation/master/for-scripters/Python/data/brc.exp.tsv')\n",
        "wget.download('https://raw.githubusercontent.com/cytoscape/cytoscape-automation/master/for-scripters/Python/data/brc.mut.tsv')"
      ],
      "execution_count": 35,
      "outputs": [
        {
          "output_type": "execute_result",
          "data": {
            "application/vnd.google.colaboratory.intrinsic+json": {
              "type": "string"
            },
            "text/plain": [
              "'brc.mut.tsv'"
            ]
          },
          "metadata": {},
          "execution_count": 35
        }
      ]
    },
    {
      "cell_type": "code",
      "metadata": {
        "id": "BEIPnS-fuAqA"
      },
      "source": [
        "brc_expr=pd.read_table(\"./brc.exp.tsv\")\n",
        "brc_mut=pd.read_table(\"./brc.mut.tsv\")"
      ],
      "execution_count": 36,
      "outputs": []
    },
    {
      "cell_type": "markdown",
      "metadata": {
        "id": "5ua6vXu0uAqB"
      },
      "source": [
        "### Breast Cancer Datset\n",
        "These datasets are similar to the data frames you normarlly encounter in R. For diversity, one using row.names to store corresponding gene names and the other uses the first column. Both are easy to import into Cytoscape."
      ]
    },
    {
      "cell_type": "code",
      "metadata": {
        "colab": {
          "base_uri": "https://localhost:8080/",
          "height": 206
        },
        "id": "uf4eN3-suAqB",
        "outputId": "29247454-b048-4f5c-8bf9-e552485d1c8a"
      },
      "source": [
        "brc_expr.head()"
      ],
      "execution_count": 37,
      "outputs": [
        {
          "output_type": "execute_result",
          "data": {
            "text/html": [
              "<div>\n",
              "<style scoped>\n",
              "    .dataframe tbody tr th:only-of-type {\n",
              "        vertical-align: middle;\n",
              "    }\n",
              "\n",
              "    .dataframe tbody tr th {\n",
              "        vertical-align: top;\n",
              "    }\n",
              "\n",
              "    .dataframe thead th {\n",
              "        text-align: right;\n",
              "    }\n",
              "</style>\n",
              "<table border=\"1\" class=\"dataframe\">\n",
              "  <thead>\n",
              "    <tr style=\"text-align: right;\">\n",
              "      <th></th>\n",
              "      <th>expr.mean</th>\n",
              "    </tr>\n",
              "  </thead>\n",
              "  <tbody>\n",
              "    <tr>\n",
              "      <th>ELMO2</th>\n",
              "      <td>-0.000167</td>\n",
              "    </tr>\n",
              "    <tr>\n",
              "      <th>CREB3L1</th>\n",
              "      <td>-0.005408</td>\n",
              "    </tr>\n",
              "    <tr>\n",
              "      <th>RPS11</th>\n",
              "      <td>0.018381</td>\n",
              "    </tr>\n",
              "    <tr>\n",
              "      <th>PNMA1</th>\n",
              "      <td>-0.065037</td>\n",
              "    </tr>\n",
              "    <tr>\n",
              "      <th>MMP2</th>\n",
              "      <td>-0.074444</td>\n",
              "    </tr>\n",
              "  </tbody>\n",
              "</table>\n",
              "</div>"
            ],
            "text/plain": [
              "         expr.mean\n",
              "ELMO2    -0.000167\n",
              "CREB3L1  -0.005408\n",
              "RPS11     0.018381\n",
              "PNMA1    -0.065037\n",
              "MMP2     -0.074444"
            ]
          },
          "metadata": {},
          "execution_count": 37
        }
      ]
    },
    {
      "cell_type": "code",
      "metadata": {
        "colab": {
          "base_uri": "https://localhost:8080/",
          "height": 206
        },
        "id": "7tXy2tIHuAqB",
        "outputId": "d0216041-1d1c-41ef-8a83-ad641ae7345a"
      },
      "source": [
        "brc_mut.head()"
      ],
      "execution_count": 38,
      "outputs": [
        {
          "output_type": "execute_result",
          "data": {
            "text/html": [
              "<div>\n",
              "<style scoped>\n",
              "    .dataframe tbody tr th:only-of-type {\n",
              "        vertical-align: middle;\n",
              "    }\n",
              "\n",
              "    .dataframe tbody tr th {\n",
              "        vertical-align: top;\n",
              "    }\n",
              "\n",
              "    .dataframe thead th {\n",
              "        text-align: right;\n",
              "    }\n",
              "</style>\n",
              "<table border=\"1\" class=\"dataframe\">\n",
              "  <thead>\n",
              "    <tr style=\"text-align: right;\">\n",
              "      <th></th>\n",
              "      <th>Hugo_Symbol</th>\n",
              "      <th>mut_count</th>\n",
              "      <th>missense_mut_count</th>\n",
              "    </tr>\n",
              "  </thead>\n",
              "  <tbody>\n",
              "    <tr>\n",
              "      <th>13</th>\n",
              "      <td>A1CF</td>\n",
              "      <td>2</td>\n",
              "      <td>2</td>\n",
              "    </tr>\n",
              "    <tr>\n",
              "      <th>14</th>\n",
              "      <td>A2BP1</td>\n",
              "      <td>3</td>\n",
              "      <td>3</td>\n",
              "    </tr>\n",
              "    <tr>\n",
              "      <th>15</th>\n",
              "      <td>A2M</td>\n",
              "      <td>3</td>\n",
              "      <td>2</td>\n",
              "    </tr>\n",
              "    <tr>\n",
              "      <th>16</th>\n",
              "      <td>A2ML1</td>\n",
              "      <td>4</td>\n",
              "      <td>4</td>\n",
              "    </tr>\n",
              "    <tr>\n",
              "      <th>17</th>\n",
              "      <td>A4GALT</td>\n",
              "      <td>1</td>\n",
              "      <td>0</td>\n",
              "    </tr>\n",
              "  </tbody>\n",
              "</table>\n",
              "</div>"
            ],
            "text/plain": [
              "   Hugo_Symbol  mut_count  missense_mut_count\n",
              "13        A1CF          2                   2\n",
              "14       A2BP1          3                   3\n",
              "15         A2M          3                   2\n",
              "16       A2ML1          4                   4\n",
              "17      A4GALT          1                   0"
            ]
          },
          "metadata": {},
          "execution_count": 38
        }
      ]
    },
    {
      "cell_type": "markdown",
      "metadata": {
        "id": "rHmbgSGKuAqB"
      },
      "source": [
        "Let's return to the Breast Cancer network..."
      ]
    },
    {
      "cell_type": "code",
      "metadata": {
        "colab": {
          "base_uri": "https://localhost:8080/",
          "height": 35
        },
        "id": "4kdrDesZuAqB",
        "outputId": "4e5402c6-c7e7-4485-b340-420761907c6f"
      },
      "source": [
        "p4c.set_current_network(breast_suid)\n",
        "p4c.set_layout_properties('force-directed', {'defaultSpringLength': 5, 'defaultSpringCoefficient': .000004})"
      ],
      "execution_count": 39,
      "outputs": [
        {
          "output_type": "execute_result",
          "data": {
            "application/vnd.google.colaboratory.intrinsic+json": {
              "type": "string"
            },
            "text/plain": [
              "''"
            ]
          },
          "metadata": {},
          "execution_count": 39
        }
      ]
    },
    {
      "cell_type": "markdown",
      "metadata": {
        "id": "ymSvh5ZcuAqB"
      },
      "source": [
        "...and use the helper function from py4cytoscape called *load_table_data*\n"
      ]
    },
    {
      "cell_type": "code",
      "metadata": {
        "colab": {
          "base_uri": "https://localhost:8080/",
          "height": 35
        },
        "id": "4khwx9xquAqB",
        "outputId": "50924c1f-94b1-40c2-b476-ad4ca21c8f94"
      },
      "source": [
        "p4c.load_table_data(brc_expr, table_key_column='display name')\n",
        "p4c.load_table_data(brc_mut, data_key_column='Hugo_Symbol', table_key_column='display name')"
      ],
      "execution_count": 40,
      "outputs": [
        {
          "output_type": "execute_result",
          "data": {
            "application/vnd.google.colaboratory.intrinsic+json": {
              "type": "string"
            },
            "text/plain": [
              "'Success: Data loaded in defaultnode table'"
            ]
          },
          "metadata": {},
          "execution_count": 40
        }
      ]
    },
    {
      "cell_type": "markdown",
      "metadata": {
        "id": "pH9QjRVcuAqC"
      },
      "source": [
        "#### Visual styles\n",
        "Let's create a new style to visualize our imported data\n",
        "...starting with the basics, we will specify a few defaults and obvious mappings in a custom style all our own."
      ]
    },
    {
      "cell_type": "code",
      "metadata": {
        "colab": {
          "base_uri": "https://localhost:8080/"
        },
        "id": "PNVktuIPuAqC",
        "outputId": "e60525ab-c2dc-422a-dac6-f9e20fc84f41"
      },
      "source": [
        "defaults = {'NODE_SHAPE': 'ellipse', 'NODE_SIZE': 60, 'NODE_FILL_COLOR':\"#AAAAAA\", 'EDGE_TRANSPARENCY': 120}\n",
        "node_labels = p4c.map_visual_property('node label', 'display name', 'p')\n",
        "p4c.create_visual_style('dataStyle', defaults=defaults, mappings=[node_labels])\n",
        "p4c.set_visual_style('dataStyle')"
      ],
      "execution_count": 41,
      "outputs": [
        {
          "output_type": "execute_result",
          "data": {
            "text/plain": [
              "{'message': 'Visual Style applied.'}"
            ]
          },
          "metadata": {},
          "execution_count": 41
        }
      ]
    },
    {
      "cell_type": "markdown",
      "metadata": {
        "id": "47v6Kj3MuAqC"
      },
      "source": [
        "Now let’s update the style with a mapping for mean expression using a standard Color Brewer palette.\n",
        "\n"
      ]
    },
    {
      "cell_type": "code",
      "metadata": {
        "colab": {
          "base_uri": "https://localhost:8080/",
          "height": 35
        },
        "id": "nQYVjiwkuAqC",
        "outputId": "d70fc6eb-fa15-4283-8c6e-de96a9a773d1"
      },
      "source": [
        "p4c.set_node_color_mapping(**p4c.gen_node_color_map('expr.mean', p4c.palette_color_brewer_d_RdBu(), style_name='dataStyle'))"
      ],
      "execution_count": 42,
      "outputs": [
        {
          "output_type": "execute_result",
          "data": {
            "application/vnd.google.colaboratory.intrinsic+json": {
              "type": "string"
            },
            "text/plain": [
              "''"
            ]
          },
          "metadata": {},
          "execution_count": 42
        }
      ]
    },
    {
      "cell_type": "markdown",
      "metadata": {
        "id": "30pozcrfuAqD"
      },
      "source": [
        "Pro-tip: depending on your data, it may be better to balance your color range over negative and positive values bounded by the largest min or max data value, so that color intensity scales similarly in both directions."
      ]
    },
    {
      "cell_type": "markdown",
      "metadata": {
        "id": "4hCinkOtuAqD"
      },
      "source": [
        "#### Visualize mutation data\n",
        "OK, now let's update with a mapping for mutation. Here are all the same steps, but this time mapping mutation counts to *both* node border width and color. "
      ]
    },
    {
      "cell_type": "code",
      "metadata": {
        "id": "7Yb1yIa4LNK2",
        "outputId": "88b9a987-b614-44e7-82c2-3357684b63ad",
        "colab": {
          "base_uri": "https://localhost:8080/",
          "height": 35
        }
      },
      "source": [
        "brc_mut_network = p4c.get_table_columns(columns=['mut_count'])\n",
        "\n",
        "p4c.set_node_color_mapping(**p4c.gen_node_color_map('mut_count', p4c.palette_color_brewer_s_Reds(), style_name='dataStyle'))\n",
        "p4c.set_node_border_width_mapping('mut_count', table_column_values=[0, 200], widths=[2, 8], style_name='dataStyle')"
      ],
      "execution_count": 43,
      "outputs": [
        {
          "output_type": "execute_result",
          "data": {
            "application/vnd.google.colaboratory.intrinsic+json": {
              "type": "string"
            },
            "text/plain": [
              "''"
            ]
          },
          "metadata": {},
          "execution_count": 43
        }
      ]
    },
    {
      "cell_type": "markdown",
      "metadata": {
        "id": "yjN5RwTuuAqD"
      },
      "source": [
        "#### Subnetwork based on diffusion from heavily mutated nodes\n",
        "Now, let's pull in what we learned about subnetwork selection and apply it here..."
      ]
    },
    {
      "cell_type": "code",
      "metadata": {
        "id": "DrqHEXubuAqD"
      },
      "source": [
        "top_mut=brc_mut_network.dropna().sort_values(by=[\"mut_count\"],ascending=False)\n",
        "top_mut=top_mut.index.tolist()[:2]"
      ],
      "execution_count": 44,
      "outputs": []
    },
    {
      "cell_type": "code",
      "metadata": {
        "colab": {
          "base_uri": "https://localhost:8080/"
        },
        "id": "lyf8VQoeuAqD",
        "outputId": "76d87635-5464-4691-c385-f8a14ec00448"
      },
      "source": [
        "p4c.select_nodes(nodes=top_mut)"
      ],
      "execution_count": 45,
      "outputs": [
        {
          "output_type": "execute_result",
          "data": {
            "text/plain": [
              "{'edges': [], 'nodes': [773, 779]}"
            ]
          },
          "metadata": {},
          "execution_count": 45
        }
      ]
    },
    {
      "cell_type": "code",
      "metadata": {
        "colab": {
          "base_uri": "https://localhost:8080/"
        },
        "id": "hJ_4_aGNuAqE",
        "outputId": "fab4702d-e2e7-42de-e51c-f93e2ebc045f"
      },
      "source": [
        "p4c.diffusion_basic()"
      ],
      "execution_count": 46,
      "outputs": [
        {
          "output_type": "execute_result",
          "data": {
            "text/plain": [
              "{'heatColumn': 'diffusion_output_heat', 'rankColumn': 'diffusion_output_rank'}"
            ]
          },
          "metadata": {},
          "execution_count": 46
        }
      ]
    },
    {
      "cell_type": "code",
      "metadata": {
        "colab": {
          "base_uri": "https://localhost:8080/"
        },
        "id": "-C-wlRjRuAqE",
        "outputId": "e1e2ce25-7de4-4546-a331-ef2f4cbca99a"
      },
      "source": [
        "p4c.create_subnetwork(nodes=\"selected\", subnetwork_name=\"top mutated diffusion\")"
      ],
      "execution_count": 47,
      "outputs": [
        {
          "output_type": "execute_result",
          "data": {
            "text/plain": [
              "13036"
            ]
          },
          "metadata": {},
          "execution_count": 47
        }
      ]
    },
    {
      "cell_type": "code",
      "metadata": {
        "colab": {
          "base_uri": "https://localhost:8080/"
        },
        "id": "tD2mXuGsuAqE",
        "outputId": "40b815e4-dd53-48a6-b74c-8159d6b097ac"
      },
      "source": [
        "p4c.layout_network('force-directed', 'top disease diffusion')"
      ],
      "execution_count": 48,
      "outputs": [
        {
          "output_type": "execute_result",
          "data": {
            "text/plain": [
              "{}"
            ]
          },
          "metadata": {},
          "execution_count": 48
        }
      ]
    },
    {
      "cell_type": "markdown",
      "metadata": {
        "id": "KVDJYAfTuAqE"
      },
      "source": [
        "The top mutated genes are based on TCGA data and the diffusion algorithm is operating based on the network connectivity from STRING data, leading to a focused subnetwork view of critical Breast Cancer genes with mean patient expression data mapped to fill color. Now *that's* data integration!\n",
        "\n",
        "**Pro-tip: You can generate a legend for this in Cytoscape Style tab > Options > Create style... "
      ]
    },
    {
      "cell_type": "markdown",
      "metadata": {
        "id": "CX2KMmCauAqE"
      },
      "source": [
        "### Ovarian Cancer Datset\n",
        "But what about the other network and datasets? Do we have to repeat *all* of those steps again?  Actually, no!\n",
        "\n",
        "First, let's switch back over to the Ovarian Cancer network and load our data."
      ]
    },
    {
      "cell_type": "code",
      "metadata": {
        "colab": {
          "base_uri": "https://localhost:8080/",
          "height": 35
        },
        "id": "YMlmCBiLuAqE",
        "outputId": "1ba0e820-ee92-4190-a548-c07d4d496767"
      },
      "source": [
        "wget.download('https://raw.githubusercontent.com/cytoscape/cytoscape-automation/master/for-scripters/Python/data/ovc.expr.tsv')\n",
        "wget.download('https://raw.githubusercontent.com/cytoscape/cytoscape-automation/master/for-scripters/Python/data/ovc.mut.tsv')"
      ],
      "execution_count": 49,
      "outputs": [
        {
          "output_type": "execute_result",
          "data": {
            "application/vnd.google.colaboratory.intrinsic+json": {
              "type": "string"
            },
            "text/plain": [
              "'ovc.mut.tsv'"
            ]
          },
          "metadata": {},
          "execution_count": 49
        }
      ]
    },
    {
      "cell_type": "code",
      "metadata": {
        "id": "6L_6R9tJuAqH"
      },
      "source": [
        "ovc_expr=pd.read_table(\"./ovc.expr.tsv\")\n",
        "ovc_mut=pd.read_table(\"./ovc.mut.tsv\")"
      ],
      "execution_count": 50,
      "outputs": []
    },
    {
      "cell_type": "code",
      "metadata": {
        "colab": {
          "base_uri": "https://localhost:8080/",
          "height": 35
        },
        "id": "rMFNtvSQuAqH",
        "outputId": "23aebbb3-c9f8-4755-c9f5-0a06e998f710"
      },
      "source": [
        "p4c.set_current_network(\"STRING network - ovarian cancer\")\n",
        "p4c.load_table_data(ovc_expr, table_key_column='display name')\n",
        "p4c.load_table_data(ovc_mut, data_key_column='Hugo_Symbol', table_key_column='display name')"
      ],
      "execution_count": 51,
      "outputs": [
        {
          "output_type": "execute_result",
          "data": {
            "application/vnd.google.colaboratory.intrinsic+json": {
              "type": "string"
            },
            "text/plain": [
              "'Success: Data loaded in defaultnode table'"
            ]
          },
          "metadata": {},
          "execution_count": 51
        }
      ]
    },
    {
      "cell_type": "markdown",
      "metadata": {
        "id": "x_7t0GMbuAqH"
      },
      "source": [
        "**Because we used the same column names in our original data frames, now we can simply apply the *same* visual style created above!**"
      ]
    },
    {
      "cell_type": "code",
      "metadata": {
        "colab": {
          "base_uri": "https://localhost:8080/"
        },
        "id": "2ZAJoM3QuAqI",
        "outputId": "cd1add60-4e5c-4df6-be16-3fd2ed52da8f"
      },
      "source": [
        "p4c.set_visual_style('dataStyle')"
      ],
      "execution_count": 52,
      "outputs": [
        {
          "output_type": "execute_result",
          "data": {
            "text/plain": [
              "{'message': 'Visual Style applied.'}"
            ]
          },
          "metadata": {},
          "execution_count": 52
        }
      ]
    },
    {
      "cell_type": "code",
      "metadata": {
        "colab": {
          "base_uri": "https://localhost:8080/",
          "height": 35
        },
        "id": "A0wLNrE3uAqI",
        "outputId": "da4c37cb-7110-4d9a-de61-84637605da85"
      },
      "source": [
        "p4c.clear_selection(type='both')"
      ],
      "execution_count": 53,
      "outputs": [
        {
          "output_type": "execute_result",
          "data": {
            "application/vnd.google.colaboratory.intrinsic+json": {
              "type": "string"
            },
            "text/plain": [
              "''"
            ]
          },
          "metadata": {},
          "execution_count": 53
        }
      ]
    },
    {
      "cell_type": "markdown",
      "metadata": {
        "id": "EnAy_EZjuAqI"
      },
      "source": [
        "Reusing the same style for both breast and ovarian cancers, we can compare the relative expression and mutation counts across the two datasets. \n",
        "For example, notice in the case of ovarian cancer: **decreased** range of mean expression and **fewer** mega-mutated genes."
      ]
    },
    {
      "cell_type": "markdown",
      "metadata": {
        "id": "1liHYyJ7uAqI"
      },
      "source": [
        "## Step 4: Saving, sharing and publishing\n",
        "\n",
        "### Saving a Cytoscape session file\n",
        "Session files save *everything*. As with most project software, we recommend saving often!"
      ]
    },
    {
      "cell_type": "code",
      "metadata": {
        "colab": {
          "base_uri": "https://localhost:8080/"
        },
        "id": "4tBtNvUAuAqI",
        "outputId": "46b33b1a-e563-425f-f466-7ba3f082fe09"
      },
      "source": [
        "p4c.save_session('cytoscape') # Save current session as cytoscape.cys"
      ],
      "execution_count": 54,
      "outputs": [
        {
          "output_type": "execute_result",
          "data": {
            "text/plain": [
              "{}"
            ]
          },
          "metadata": {},
          "execution_count": 54
        }
      ]
    },
    {
      "cell_type": "markdown",
      "metadata": {
        "id": "7LCGjkJDuAqI"
      },
      "source": [
        "### Exporting high resolution image files\n",
        "You can export extremely high resolution images, including vector graphic formats."
      ]
    },
    {
      "cell_type": "code",
      "metadata": {
        "colab": {
          "base_uri": "https://localhost:8080/"
        },
        "id": "vjnUiRzLuAqI",
        "outputId": "2f4e6983-f988-42c3-ba7f-e4b33e68ab86"
      },
      "source": [
        "p4c.clear_selection(type='both')\n",
        "p4c.fit_content()\n",
        "p4c.export_image('cytoscape_image', type='PDF')"
      ],
      "execution_count": 55,
      "outputs": [
        {
          "output_type": "execute_result",
          "data": {
            "text/plain": [
              "{'file': '/Users/yxin/CytoscapeConfiguration/filetransfer/default_sandbox/cytoscape_image.pdf'}"
            ]
          },
          "metadata": {},
          "execution_count": 55
        }
      ]
    },
    {
      "cell_type": "markdown",
      "metadata": {
        "id": "jFUEsCMuuAqI"
      },
      "source": [
        "### Exporting interactive web pages via cytoscape.js\n",
        "You can export the network model in multiple standard formats. And if you want to get really fancy, you can export the model and style in cytoscape.js formats and host interactive views of your network analysis and visualization results online!"
      ]
    },
    {
      "cell_type": "code",
      "metadata": {
        "colab": {
          "base_uri": "https://localhost:8080/"
        },
        "id": "NjJJFKhQuAqI",
        "outputId": "c39fb900-846a-4597-88bc-b69638e376e4"
      },
      "source": [
        "p4c.export_network('cytoscape_network','cyjs')\n",
        "p4c.export_visual_styles('cytoscape_style', type='json') # export the current style in cytoscape.js format"
      ],
      "execution_count": 56,
      "outputs": [
        {
          "output_type": "execute_result",
          "data": {
            "text/plain": [
              "{'file': '/Users/yxin/CytoscapeConfiguration/filetransfer/default_sandbox/cytoscape_style.json'}"
            ]
          },
          "metadata": {},
          "execution_count": 56
        }
      ]
    },
    {
      "cell_type": "markdown",
      "metadata": {
        "id": "hbl4hP6KuAqI"
      },
      "source": [
        "More details in Cytoscape manual chapter on [Interactive Web Applications](http://manual.cytoscape.org/en/stable/Export_Your_Data.html#as-an-interactive-web-application-new-in-3-2-0)\n",
        "\n",
        "\n",
        "And in Cytoscape, you can File>Export as Web Page... to produce a folder of cytoscape.js files and html.\n",
        "\n",
        "\n",
        "### Additional network analysis and visualization options\n",
        "* Mapping edge attributes to edge thickness, color and/or transparency (e.g., score or experiments) \n",
        "    * EDGE_WIDTH, EDGE_COLOR, EDGE TRANSPARENCY\n",
        "* Edge bundling\n",
        "    * bundleEdges()\n",
        "* Directional edge animation\n",
        "    * applyStyle('Marquee')\n",
        "    * updateStyleDefaults(style.name,list('Edge Line Type'='Marquee_Dash'))\n",
        "* Visualize two or more datasets as split-fill or pie chart, or patient-specific data as radial Circos plot\n",
        "    * pending support for charts...\n",
        "* Merge two (or more) networks\n",
        "    * copyCytoscapeNetwork() or 'network clone'; then addGraphToGraph() (Union only)\n",
        "    * using igraph: intersection(g1,g2), union(), difference(); followed by toCytoscape() and send2cy()"
      ]
    },
    {
      "cell_type": "markdown",
      "metadata": {
        "id": "RNy6nawCuAqJ"
      },
      "source": [
        "## swagger\n",
        "http://localhost:1234/v1/swaggerUI/swagger-ui/index.html?url=http://localhost:1234/v1/commands/swagger.json#/"
      ]
    },
    {
      "cell_type": "markdown",
      "metadata": {
        "id": "a1pU1_1AuAqJ"
      },
      "source": [
        "\n",
        "## Step 5: Wrapping up\n",
        "\n",
        "You should now know how to...\n",
        "\n",
        "* Connect to Cytoscape from Python\n",
        "* Retrieve disease networks from STRING\n",
        "* Interact with Cytoscape via commands, CyREST, and py4cytoscape\n",
        "* Load various data types onto networks\n",
        "* Set visual style defaults and mappings\n",
        "* Perform selection and create subnetworks\n",
        "* Save, share and publish your networks\n",
        "* Find more information on Cytoscape automation\n",
        "\n",
        "#### Resources\n",
        "* Growing collection of [cytoscape automation resources](https://github.com/cytoscape/cytoscape-automation/), including **this** tutorial\n",
        "* Growing collection of [cytoscape tutorial materials](https://github.com/cytoscape/cytoscape-tutorials)\n",
        "* Active community on [cytoscape-helpdesk](https://groups.google.com/forum/#!forum/cytoscape-helpdesk) for any Cytoscape related questions and suggestions"
      ]
    }
  ]
}