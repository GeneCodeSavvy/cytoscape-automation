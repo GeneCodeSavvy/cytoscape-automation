{
 "cells": [
  {
   "cell_type": "markdown",
   "metadata": {},
   "source": [
    "# Visualizing Expression Data\n",
    "## Yihang Xin and Alex Pico\n",
    "## 2020-11-10"
   ]
  },
  {
   "cell_type": "markdown",
   "metadata": {},
   "source": [
    "Probably the most common use of expression data in Cytoscape is to set the visual attributes of the nodes in a network according to expression data. This creates a powerful visualization, portraying functional relation and experimental response at the same time. Here, we will walk through the steps for doing this."
   ]
  },
  {
   "cell_type": "markdown",
   "metadata": {},
   "source": [
    "# Installation\n",
    "The following chunk of code installs the `py4cytoscape` module."
   ]
  },
  {
   "cell_type": "code",
   "execution_count": 1,
   "metadata": {},
   "outputs": [
    {
     "name": "stdout",
     "output_type": "stream",
     "text": [
      "Requirement already satisfied: python-igraph in /usr/local/lib/python3.9/site-packages (0.8.3)\n",
      "Requirement already satisfied: requests in /usr/local/lib/python3.9/site-packages (2.25.1)\n",
      "Requirement already satisfied: pandas in /usr/local/lib/python3.9/site-packages (1.2.1)\n",
      "Requirement already satisfied: networkx in /usr/local/lib/python3.9/site-packages (2.5)\n",
      "Requirement already satisfied: decorator>=4.3.0 in /usr/local/lib/python3.9/site-packages (from networkx) (4.4.2)\n",
      "Requirement already satisfied: pytz>=2017.3 in /usr/local/lib/python3.9/site-packages (from pandas) (2020.5)\n",
      "Requirement already satisfied: numpy>=1.16.5 in /usr/local/lib/python3.9/site-packages (from pandas) (1.19.5)\n",
      "Requirement already satisfied: python-dateutil>=2.7.3 in /usr/local/lib/python3.9/site-packages (from pandas) (2.8.1)\n",
      "Requirement already satisfied: six>=1.5 in /usr/local/lib/python3.9/site-packages (from python-dateutil>=2.7.3->pandas) (1.15.0)\n",
      "Requirement already satisfied: texttable>=1.6.2 in /usr/local/lib/python3.9/site-packages (from python-igraph) (1.6.3)\n",
      "Requirement already satisfied: chardet<5,>=3.0.2 in /usr/local/lib/python3.9/site-packages (from requests) (4.0.0)\n",
      "Requirement already satisfied: idna<3,>=2.5 in /usr/local/lib/python3.9/site-packages (from requests) (2.10)\n",
      "Requirement already satisfied: certifi>=2017.4.17 in /usr/local/lib/python3.9/site-packages (from requests) (2020.12.5)\n",
      "Requirement already satisfied: urllib3<1.27,>=1.21.1 in /usr/local/lib/python3.9/site-packages (from requests) (1.26.3)\n",
      "\u001b[33mWARNING: You are using pip version 20.3.3; however, version 21.0 is available.\n",
      "You should consider upgrading via the '/usr/local/opt/python@3.9/bin/python3.9 -m pip install --upgrade pip' command.\u001b[0m\n",
      "Requirement already satisfied: py4cytoscape in /usr/local/lib/python3.9/site-packages (0.0.7)\n",
      "Requirement already satisfied: pandas in /usr/local/lib/python3.9/site-packages (from py4cytoscape) (1.2.1)\n",
      "Requirement already satisfied: requests in /usr/local/lib/python3.9/site-packages (from py4cytoscape) (2.25.1)\n",
      "Requirement already satisfied: networkx in /usr/local/lib/python3.9/site-packages (from py4cytoscape) (2.5)\n",
      "Requirement already satisfied: python-igraph in /usr/local/lib/python3.9/site-packages (from py4cytoscape) (0.8.3)\n",
      "Requirement already satisfied: decorator>=4.3.0 in /usr/local/lib/python3.9/site-packages (from networkx->py4cytoscape) (4.4.2)\n",
      "Requirement already satisfied: numpy>=1.16.5 in /usr/local/lib/python3.9/site-packages (from pandas->py4cytoscape) (1.19.5)\n",
      "Requirement already satisfied: python-dateutil>=2.7.3 in /usr/local/lib/python3.9/site-packages (from pandas->py4cytoscape) (2.8.1)\n",
      "Requirement already satisfied: pytz>=2017.3 in /usr/local/lib/python3.9/site-packages (from pandas->py4cytoscape) (2020.5)\n",
      "Requirement already satisfied: six>=1.5 in /usr/local/lib/python3.9/site-packages (from python-dateutil>=2.7.3->pandas->py4cytoscape) (1.15.0)\n",
      "Requirement already satisfied: texttable>=1.6.2 in /usr/local/lib/python3.9/site-packages (from python-igraph->py4cytoscape) (1.6.3)\n",
      "Requirement already satisfied: chardet<5,>=3.0.2 in /usr/local/lib/python3.9/site-packages (from requests->py4cytoscape) (4.0.0)\n",
      "Requirement already satisfied: idna<3,>=2.5 in /usr/local/lib/python3.9/site-packages (from requests->py4cytoscape) (2.10)\n",
      "Requirement already satisfied: urllib3<1.27,>=1.21.1 in /usr/local/lib/python3.9/site-packages (from requests->py4cytoscape) (1.26.3)\n",
      "Requirement already satisfied: certifi>=2017.4.17 in /usr/local/lib/python3.9/site-packages (from requests->py4cytoscape) (2020.12.5)\n",
      "\u001b[33mWARNING: You are using pip version 20.3.3; however, version 21.0 is available.\n",
      "You should consider upgrading via the '/usr/local/opt/python@3.9/bin/python3.9 -m pip install --upgrade pip' command.\u001b[0m\n",
      "{\"availableApiVersions\":[\"v1\"]}"
     ]
    }
   ],
   "source": [
    "!python3 -m pip install python-igraph requests pandas networkx\n",
    "!python3 -m pip install py4cytoscape\n",
    "!curl localhost:1234"
   ]
  },
  {
   "cell_type": "markdown",
   "metadata": {},
   "source": [
    "# Prerequisites\n",
    "In addition to this package (py4cytoscape version 0.0.7), you will need:\n",
    "\n",
    "Latest version of Cytoscape, which can be downloaded from https://cytoscape.org/download.html. Simply follow the installation instructions on screen.\n",
    "\n",
    "Complete installation wizard\n",
    "\n",
    "Install the filetransfer app from https://apps.cytoscape.org/apps/filetransfer\n",
    "\n",
    "You can also install app inside Python notebook by running \"py4cytoscape.install_app('Your App')\""
   ]
  },
  {
   "cell_type": "markdown",
   "metadata": {},
   "source": [
    "# Import the required package"
   ]
  },
  {
   "cell_type": "code",
   "execution_count": 1,
   "metadata": {},
   "outputs": [],
   "source": [
    "import os\n",
    "import sys\n",
    "import wget\n",
    "import py4cytoscape as p4c"
   ]
  },
  {
   "cell_type": "code",
   "execution_count": 2,
   "metadata": {},
   "outputs": [
    {
     "data": {
      "text/plain": [
       "{'apiVersion': 'v1',\n",
       " 'cytoscapeVersion': '3.8.2',\n",
       " 'automationAPIVersion': '1.0.0',\n",
       " 'py4cytoscapeVersion': '0.0.6'}"
      ]
     },
     "execution_count": 2,
     "metadata": {},
     "output_type": "execute_result"
    }
   ],
   "source": [
    "# Check Version\n",
    "p4c.cytoscape_version_info()"
   ]
  },
  {
   "cell_type": "markdown",
   "metadata": {},
   "source": [
    "# Loading Network"
   ]
  },
  {
   "cell_type": "markdown",
   "metadata": {},
   "source": [
    "* Download the demo session and open the demo session using"
   ]
  },
  {
   "cell_type": "code",
   "execution_count": 3,
   "metadata": {},
   "outputs": [],
   "source": [
    "cys_url = \"http://nrnb.org/data/galFilteredSimpleData.cys\"\n",
    "file_name = wget.download(cys_url)"
   ]
  },
  {
   "cell_type": "code",
   "execution_count": 4,
   "metadata": {},
   "outputs": [
    {
     "data": {
      "text/plain": [
       "'galFilteredSimpleData.cys'"
      ]
     },
     "execution_count": 4,
     "metadata": {},
     "output_type": "execute_result"
    }
   ],
   "source": [
    "file_name"
   ]
  },
  {
   "cell_type": "code",
   "execution_count": 5,
   "metadata": {},
   "outputs": [],
   "source": [
    "abs_file_name = os.path.abspath(file_name)"
   ]
  },
  {
   "cell_type": "code",
   "execution_count": 6,
   "metadata": {},
   "outputs": [],
   "source": [
    "session_cmd_list = ['session','open','file=\"',abs_file_name,'\"']\n",
    "session_cmd = \" \".join(session_cmd_list)"
   ]
  },
  {
   "cell_type": "code",
   "execution_count": 7,
   "metadata": {},
   "outputs": [
    {
     "data": {
      "text/plain": [
       "[]"
      ]
     },
     "execution_count": 7,
     "metadata": {},
     "output_type": "execute_result"
    }
   ],
   "source": [
    "p4c.commands.commands_run(session_cmd)"
   ]
  },
  {
   "cell_type": "markdown",
   "metadata": {},
   "source": [
    "* When the network first opens, the entire network is not visible because of the default zoom factor used. To see the whole network, we can use the fit_content function."
   ]
  },
  {
   "cell_type": "code",
   "execution_count": 8,
   "metadata": {},
   "outputs": [
    {
     "data": {
      "text/plain": [
       "{}"
      ]
     },
     "execution_count": 8,
     "metadata": {},
     "output_type": "execute_result"
    }
   ],
   "source": [
    "p4c.network_views.fit_content()"
   ]
  },
  {
   "cell_type": "markdown",
   "metadata": {},
   "source": [
    "# Label the Nodes\n",
    "* Zoom in on the network so that node labels are visible.\n",
    "* Check available column names."
   ]
  },
  {
   "cell_type": "code",
   "execution_count": 9,
   "metadata": {},
   "outputs": [
    {
     "data": {
      "text/plain": [
       "['SUID',\n",
       " 'shared name',\n",
       " 'name',\n",
       " 'selected',\n",
       " 'COMMON',\n",
       " 'gal1RGexp',\n",
       " 'gal4RGexp',\n",
       " 'gal80Rexp',\n",
       " 'gal1RGsig',\n",
       " 'gal4RGsig',\n",
       " 'gal80Rsig']"
      ]
     },
     "execution_count": 9,
     "metadata": {},
     "output_type": "execute_result"
    }
   ],
   "source": [
    "p4c.tables.get_table_column_names('node')"
   ]
  },
  {
   "cell_type": "markdown",
   "metadata": {},
   "source": [
    "* We are going to use the COMMON name attribute to give the nodes useful names:"
   ]
  },
  {
   "cell_type": "code",
   "execution_count": 10,
   "metadata": {},
   "outputs": [
    {
     "name": "stdout",
     "output_type": "stream",
     "text": [
      "style_name not specified; updating \"default\" style.\n"
     ]
    },
    {
     "data": {
      "text/plain": [
       "''"
      ]
     },
     "execution_count": 10,
     "metadata": {},
     "output_type": "execute_result"
    }
   ],
   "source": [
    "p4c.style_mappings.set_node_label_mapping('COMMON')"
   ]
  },
  {
   "cell_type": "markdown",
   "metadata": {},
   "source": [
    "* Verify that the node labels on the network have changed to their common names."
   ]
  },
  {
   "cell_type": "markdown",
   "metadata": {},
   "source": [
    "# Color the nodes\n",
    "* Check available column names again"
   ]
  },
  {
   "cell_type": "code",
   "execution_count": 11,
   "metadata": {},
   "outputs": [
    {
     "data": {
      "text/plain": [
       "['SUID',\n",
       " 'shared name',\n",
       " 'name',\n",
       " 'selected',\n",
       " 'COMMON',\n",
       " 'gal1RGexp',\n",
       " 'gal4RGexp',\n",
       " 'gal80Rexp',\n",
       " 'gal1RGsig',\n",
       " 'gal4RGsig',\n",
       " 'gal80Rsig']"
      ]
     },
     "execution_count": 11,
     "metadata": {},
     "output_type": "execute_result"
    }
   ],
   "source": [
    "p4c.tables.get_table_column_names('node')"
   ]
  },
  {
   "cell_type": "markdown",
   "metadata": {},
   "source": [
    "* Check the expression value range of gal80Rexp\n"
   ]
  },
  {
   "cell_type": "code",
   "execution_count": 12,
   "metadata": {},
   "outputs": [
    {
     "name": "stdout",
     "output_type": "stream",
     "text": [
      "-1.373\n",
      "3.126\n"
     ]
    }
   ],
   "source": [
    "gal80rexp_score_table = p4c.tables.get_table_columns('node', 'gal80Rexp')\n",
    "gal80rexp_min = min(gal80rexp_score_table['gal80Rexp'])\n",
    "gal80rexp_max = max(gal80rexp_score_table['gal80Rexp'])\n",
    "print(gal80rexp_min)\n",
    "print(gal80rexp_max)"
   ]
  },
  {
   "cell_type": "markdown",
   "metadata": {},
   "source": [
    "* The following produces a default gradient ranging from blue to red for expression values. Notice that the nodes in the network change color."
   ]
  },
  {
   "cell_type": "code",
   "execution_count": 13,
   "metadata": {},
   "outputs": [
    {
     "name": "stdout",
     "output_type": "stream",
     "text": [
      "style_name not specified; updating \"default\" style.\n"
     ]
    },
    {
     "data": {
      "text/plain": [
       "''"
      ]
     },
     "execution_count": 13,
     "metadata": {},
     "output_type": "execute_result"
    }
   ],
   "source": [
    "p4c.style_mappings.set_node_color_mapping('gal80Rexp', [gal80rexp_min, 0, gal80rexp_max], ['#0000FF', '#FFFFFF', '#FF0000'])"
   ]
  },
  {
   "cell_type": "markdown",
   "metadata": {},
   "source": [
    "# Set the Default Node Color\n",
    "Note that the default node color of pale blue is close to the color range in the created palette. A useful trick is to choose a color outside this spectrum to distinguish nodes with no defined expression value and those with slight repression.\n",
    "\n",
    "* Here we choose a dark gray color for default node color."
   ]
  },
  {
   "cell_type": "code",
   "execution_count": 14,
   "metadata": {},
   "outputs": [
    {
     "name": "stdout",
     "output_type": "stream",
     "text": [
      "style_name not specified; updating \"default\" style.\n"
     ]
    },
    {
     "data": {
      "text/plain": [
       "''"
      ]
     },
     "execution_count": 14,
     "metadata": {},
     "output_type": "execute_result"
    }
   ],
   "source": [
    "p4c.style_defaults.set_node_color_default('#A9A9A9')"
   ]
  },
  {
   "cell_type": "markdown",
   "metadata": {},
   "source": [
    "* Zoom out on the network view to verify that a few nodes have been colored gray.\n"
   ]
  },
  {
   "cell_type": "code",
   "execution_count": 15,
   "metadata": {},
   "outputs": [
    {
     "data": {
      "text/plain": [
       "{}"
      ]
     },
     "execution_count": 15,
     "metadata": {},
     "output_type": "execute_result"
    }
   ],
   "source": [
    "p4c.network_views.fit_content()"
   ]
  },
  {
   "cell_type": "markdown",
   "metadata": {},
   "source": [
    "# Set the Node Shape\n",
    "We imported both expression measurement values and corresponding significance values. We can use the significance values to change the shape of the nodes so that measurements we have confidence in appear as squares while potentially bad measurements appear as circles.\n",
    "\n",
    "The following code maps the node with gal80Rsig value less than 0.05 to RECTANGLE shape, with greater than 0.05 to ELLIPSE shape."
   ]
  },
  {
   "cell_type": "code",
   "execution_count": 16,
   "metadata": {},
   "outputs": [
    {
     "data": {
      "text/plain": [
       "''"
      ]
     },
     "execution_count": 16,
     "metadata": {},
     "output_type": "execute_result"
    }
   ],
   "source": [
    "p4c.style_mappings.update_style_mapping('default', p4c.style_mappings.map_visual_property('node shape', 'gal80Rsig', 'c', [0, 0.05, 1.00], ['rectangle', 'rectangle', 'ellipse']))"
   ]
  },
  {
   "cell_type": "markdown",
   "metadata": {},
   "source": [
    "* Verify that some nodes now have a square shape."
   ]
  },
  {
   "cell_type": "markdown",
   "metadata": {},
   "source": [
    "# Fun with Charts\n",
    "In addition to coloring the nodes, Cytoscape also provides the ability to draw charts and graphs on each node. For example, suppose we wanted to display a bar chart showing all of the expression values on each of our nodes?\n",
    "\n",
    "* To reset things a little, remove the mapping for Fill Color by"
   ]
  },
  {
   "cell_type": "code",
   "execution_count": 17,
   "metadata": {},
   "outputs": [
    {
     "data": {
      "text/plain": [
       "['COMPOUND_NODE_PADDING',\n",
       " 'COMPOUND_NODE_SHAPE',\n",
       " 'DING_RENDERING_ENGINE_ROOT',\n",
       " 'EDGE',\n",
       " 'EDGE_BEND',\n",
       " 'EDGE_CURVED',\n",
       " 'EDGE_LABEL',\n",
       " 'EDGE_LABEL_COLOR',\n",
       " 'EDGE_LABEL_FONT_FACE',\n",
       " 'EDGE_LABEL_FONT_SIZE',\n",
       " 'EDGE_LABEL_TRANSPARENCY',\n",
       " 'EDGE_LABEL_WIDTH',\n",
       " 'EDGE_LINE_TYPE',\n",
       " 'EDGE_PAINT',\n",
       " 'EDGE_SELECTED',\n",
       " 'EDGE_SELECTED_PAINT',\n",
       " 'EDGE_SOURCE_ARROW_SELECTED_PAINT',\n",
       " 'EDGE_SOURCE_ARROW_SHAPE',\n",
       " 'EDGE_SOURCE_ARROW_SIZE',\n",
       " 'EDGE_SOURCE_ARROW_UNSELECTED_PAINT',\n",
       " 'EDGE_STROKE_SELECTED_PAINT',\n",
       " 'EDGE_STROKE_UNSELECTED_PAINT',\n",
       " 'EDGE_TARGET_ARROW_SELECTED_PAINT',\n",
       " 'EDGE_TARGET_ARROW_SHAPE',\n",
       " 'EDGE_TARGET_ARROW_SIZE',\n",
       " 'EDGE_TARGET_ARROW_UNSELECTED_PAINT',\n",
       " 'EDGE_TOOLTIP',\n",
       " 'EDGE_TRANSPARENCY',\n",
       " 'EDGE_UNSELECTED_PAINT',\n",
       " 'EDGE_VISIBLE',\n",
       " 'EDGE_WIDTH',\n",
       " 'NETWORK',\n",
       " 'NETWORK_ANNOTATION_SELECTION',\n",
       " 'NETWORK_BACKGROUND_PAINT',\n",
       " 'NETWORK_CENTER_X_LOCATION',\n",
       " 'NETWORK_CENTER_Y_LOCATION',\n",
       " 'NETWORK_CENTER_Z_LOCATION',\n",
       " 'NETWORK_DEPTH',\n",
       " 'NETWORK_EDGE_SELECTION',\n",
       " 'NETWORK_FORCE_HIGH_DETAIL',\n",
       " 'NETWORK_HEIGHT',\n",
       " 'NETWORK_NODE_LABEL_SELECTION',\n",
       " 'NETWORK_NODE_SELECTION',\n",
       " 'NETWORK_SCALE_FACTOR',\n",
       " 'NETWORK_SIZE',\n",
       " 'NETWORK_TITLE',\n",
       " 'NETWORK_WIDTH',\n",
       " 'NODE',\n",
       " 'NODE_BORDER_PAINT',\n",
       " 'NODE_BORDER_STROKE',\n",
       " 'NODE_BORDER_TRANSPARENCY',\n",
       " 'NODE_BORDER_WIDTH',\n",
       " 'NODE_CUSTOMGRAPHICS_1',\n",
       " 'NODE_CUSTOMGRAPHICS_2',\n",
       " 'NODE_CUSTOMGRAPHICS_3',\n",
       " 'NODE_CUSTOMGRAPHICS_4',\n",
       " 'NODE_CUSTOMGRAPHICS_5',\n",
       " 'NODE_CUSTOMGRAPHICS_6',\n",
       " 'NODE_CUSTOMGRAPHICS_7',\n",
       " 'NODE_CUSTOMGRAPHICS_8',\n",
       " 'NODE_CUSTOMGRAPHICS_9',\n",
       " 'NODE_CUSTOMGRAPHICS_POSITION_1',\n",
       " 'NODE_CUSTOMGRAPHICS_POSITION_2',\n",
       " 'NODE_CUSTOMGRAPHICS_POSITION_3',\n",
       " 'NODE_CUSTOMGRAPHICS_POSITION_4',\n",
       " 'NODE_CUSTOMGRAPHICS_POSITION_5',\n",
       " 'NODE_CUSTOMGRAPHICS_POSITION_6',\n",
       " 'NODE_CUSTOMGRAPHICS_POSITION_7',\n",
       " 'NODE_CUSTOMGRAPHICS_POSITION_8',\n",
       " 'NODE_CUSTOMGRAPHICS_POSITION_9',\n",
       " 'NODE_CUSTOMGRAPHICS_SIZE_1',\n",
       " 'NODE_CUSTOMGRAPHICS_SIZE_2',\n",
       " 'NODE_CUSTOMGRAPHICS_SIZE_3',\n",
       " 'NODE_CUSTOMGRAPHICS_SIZE_4',\n",
       " 'NODE_CUSTOMGRAPHICS_SIZE_5',\n",
       " 'NODE_CUSTOMGRAPHICS_SIZE_6',\n",
       " 'NODE_CUSTOMGRAPHICS_SIZE_7',\n",
       " 'NODE_CUSTOMGRAPHICS_SIZE_8',\n",
       " 'NODE_CUSTOMGRAPHICS_SIZE_9',\n",
       " 'NODE_CUSTOMPAINT_1',\n",
       " 'NODE_CUSTOMPAINT_2',\n",
       " 'NODE_CUSTOMPAINT_3',\n",
       " 'NODE_CUSTOMPAINT_4',\n",
       " 'NODE_CUSTOMPAINT_5',\n",
       " 'NODE_CUSTOMPAINT_6',\n",
       " 'NODE_CUSTOMPAINT_7',\n",
       " 'NODE_CUSTOMPAINT_8',\n",
       " 'NODE_CUSTOMPAINT_9',\n",
       " 'NODE_DEPTH',\n",
       " 'NODE_FILL_COLOR',\n",
       " 'NODE_HEIGHT',\n",
       " 'NODE_LABEL',\n",
       " 'NODE_LABEL_COLOR',\n",
       " 'NODE_LABEL_FONT_FACE',\n",
       " 'NODE_LABEL_FONT_SIZE',\n",
       " 'NODE_LABEL_POSITION',\n",
       " 'NODE_LABEL_TRANSPARENCY',\n",
       " 'NODE_LABEL_WIDTH',\n",
       " 'NODE_NESTED_NETWORK_IMAGE_VISIBLE',\n",
       " 'NODE_PAINT',\n",
       " 'NODE_SELECTED',\n",
       " 'NODE_SELECTED_PAINT',\n",
       " 'NODE_SHAPE',\n",
       " 'NODE_SIZE',\n",
       " 'NODE_TOOLTIP',\n",
       " 'NODE_TRANSPARENCY',\n",
       " 'NODE_VISIBLE',\n",
       " 'NODE_WIDTH',\n",
       " 'NODE_X_LOCATION',\n",
       " 'NODE_Y_LOCATION',\n",
       " 'NODE_Z_LOCATION']"
      ]
     },
     "execution_count": 17,
     "metadata": {},
     "output_type": "execute_result"
    }
   ],
   "source": [
    "p4c.styles.get_visual_property_names()"
   ]
  },
  {
   "cell_type": "code",
   "execution_count": 18,
   "metadata": {},
   "outputs": [
    {
     "data": {
      "text/plain": [
       "''"
      ]
     },
     "execution_count": 18,
     "metadata": {},
     "output_type": "execute_result"
    }
   ],
   "source": [
    "p4c.style_mappings.delete_style_mapping(\"default\", \"NODE_FILL_COLOR\")"
   ]
  },
  {
   "cell_type": "markdown",
   "metadata": {},
   "source": [
    "* Now change the default value to a lighter shade of grey so we can see our chart.\n"
   ]
  },
  {
   "cell_type": "code",
   "execution_count": 19,
   "metadata": {},
   "outputs": [
    {
     "name": "stdout",
     "output_type": "stream",
     "text": [
      "style_name not specified; updating \"default\" style.\n"
     ]
    },
    {
     "data": {
      "text/plain": [
       "''"
      ]
     },
     "execution_count": 19,
     "metadata": {},
     "output_type": "execute_result"
    }
   ],
   "source": [
    "p4c.style_defaults.set_node_color_default('#D3D3D3')"
   ]
  },
  {
   "cell_type": "markdown",
   "metadata": {},
   "source": [
    "* The following indicates that we’re going to use the data from these three columns expression data (gal1RGexp, gal4RGexp, gal80Rexp) to create bar chart."
   ]
  },
  {
   "cell_type": "code",
   "execution_count": 20,
   "metadata": {},
   "outputs": [
    {
     "name": "stdout",
     "output_type": "stream",
     "text": [
      "style_name not specified; updating \"default\" style.\n"
     ]
    },
    {
     "data": {
      "text/plain": [
       "''"
      ]
     },
     "execution_count": 20,
     "metadata": {},
     "output_type": "execute_result"
    }
   ],
   "source": [
    "p4c.style_defaults.set_node_custom_bar_chart([\"gal1RGexp\", \"gal4RGexp\", \"gal80Rexp\"])"
   ]
  }
 ],
 "metadata": {
  "kernelspec": {
   "display_name": "Python 3",
   "language": "python",
   "name": "python3"
  },
  "language_info": {
   "codemirror_mode": {
    "name": "ipython",
    "version": 3
   },
   "file_extension": ".py",
   "mimetype": "text/x-python",
   "name": "python",
   "nbconvert_exporter": "python",
   "pygments_lexer": "ipython3",
   "version": "3.8.5"
  }
 },
 "nbformat": 4,
 "nbformat_minor": 2
}
