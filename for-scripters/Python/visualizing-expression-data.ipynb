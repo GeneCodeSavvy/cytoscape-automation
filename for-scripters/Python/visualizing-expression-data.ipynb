{
  "nbformat": 4,
  "nbformat_minor": 0,
  "metadata": {
    "kernelspec": {
      "display_name": "Python 3",
      "language": "python",
      "name": "python3"
    },
    "language_info": {
      "codemirror_mode": {
        "name": "ipython",
        "version": 3
      },
      "file_extension": ".py",
      "mimetype": "text/x-python",
      "name": "python",
      "nbconvert_exporter": "python",
      "pygments_lexer": "ipython3",
      "version": "3.8.5"
    },
    "colab": {
      "name": "visualizing-expression-data.ipynb",
      "provenance": [],
      "include_colab_link": true
    }
  },
  "cells": [
    {
      "cell_type": "markdown",
      "metadata": {
        "id": "view-in-github",
        "colab_type": "text"
      },
      "source": [
        "<a href=\"https://colab.research.google.com/github/cytoscape/cytoscape-automation/blob/master/for-scripters/Python/visualizing-expression-data.ipynb\" target=\"_parent\"><img src=\"https://colab.research.google.com/assets/colab-badge.svg\" alt=\"Open In Colab\"/></a>"
      ]
    },
    {
      "cell_type": "markdown",
      "metadata": {
        "id": "8aXh5vAU1x_g"
      },
      "source": [
        "# Visualizing Expression Data\n",
        "## Yihang Xin and Alex Pico\n",
        "## 2020-11-10"
      ]
    },
    {
      "cell_type": "markdown",
      "metadata": {
        "id": "uh7n5idH1x_i"
      },
      "source": [
        "Probably the most common use of expression data in Cytoscape is to set the visual attributes of the nodes in a network according to expression data. This creates a powerful visualization, portraying functional relation and experimental response at the same time. Here, we will walk through the steps for doing this."
      ]
    },
    {
      "cell_type": "markdown",
      "metadata": {
        "id": "fJBtOSly1x_j"
      },
      "source": [
        "# Installation\n",
        "The following chunk of code installs the `py4cytoscape` module."
      ]
    },
    {
      "cell_type": "code",
      "metadata": {
        "id": "Z9ObWIiq1x_j"
      },
      "source": [
        "%%capture\n",
        "!python3 -m pip install python-igraph requests pandas networkx\n",
        "!python3 -m pip install py4cytoscape\n",
        "!python3 -m pip install wget"
      ],
      "execution_count": null,
      "outputs": []
    },
    {
      "cell_type": "markdown",
      "metadata": {
        "id": "z5thb0GF1z6J"
      },
      "source": [
        "If you are using a remote notebook environment such as Google Colab, please execute the cell below. (If you're running on your local notebook, you don't need to do that.)\n",
        "\n"
      ]
    },
    {
      "cell_type": "code",
      "metadata": {
        "id": "2cDBOooK11IB"
      },
      "source": [
        "import requests\n",
        "exec(requests.get(\"https://raw.githubusercontent.com/cytoscape/jupyter-bridge/master/client/p4c_init.py\").text)\n",
        "IPython.display.Javascript(_PY4CYTOSCAPE_BROWSER_CLIENT_JS) # Start browser client"
      ],
      "execution_count": null,
      "outputs": []
    },
    {
      "cell_type": "markdown",
      "metadata": {
        "id": "LEuIHxAi1x_k"
      },
      "source": [
        "# Prerequisites\n",
        "In addition to this package (py4cytoscape version 0.0.9), you will need:\n",
        "\n",
        "Latest version of Cytoscape, which can be downloaded from https://cytoscape.org/download.html. Simply follow the installation instructions on screen.\n",
        "\n",
        "Complete installation wizard\n",
        "\n",
        "Install the filetransfer app from https://apps.cytoscape.org/apps/filetransfer\n",
        "\n",
        "You can also install app inside Python notebook by running \"py4cytoscape.install_app('Your App')\""
      ]
    },
    {
      "cell_type": "markdown",
      "metadata": {
        "id": "33EhWBrU1x_k"
      },
      "source": [
        "# Import the required package"
      ]
    },
    {
      "cell_type": "code",
      "metadata": {
        "id": "52n3VqXi1x_k"
      },
      "source": [
        "import os\n",
        "import sys\n",
        "import wget\n",
        "import py4cytoscape as p4c"
      ],
      "execution_count": null,
      "outputs": []
    },
    {
      "cell_type": "code",
      "metadata": {
        "id": "QUYpyaro1x_l",
        "outputId": "81c5dee3-90ed-4b3a-bde1-469485d5b878"
      },
      "source": [
        "# Check Version\n",
        "p4c.cytoscape_version_info()"
      ],
      "execution_count": null,
      "outputs": [
        {
          "output_type": "execute_result",
          "data": {
            "text/plain": [
              "{'apiVersion': 'v1',\n",
              " 'cytoscapeVersion': '3.8.2',\n",
              " 'automationAPIVersion': '1.0.0',\n",
              " 'py4cytoscapeVersion': '0.0.6'}"
            ]
          },
          "metadata": {
            "tags": []
          },
          "execution_count": 2
        }
      ]
    },
    {
      "cell_type": "markdown",
      "metadata": {
        "id": "pE_w5rOI1x_o"
      },
      "source": [
        "# Loading Network"
      ]
    },
    {
      "cell_type": "markdown",
      "metadata": {
        "id": "0hz69sYo1x_o"
      },
      "source": [
        "* Download the demo session and open the demo session using"
      ]
    },
    {
      "cell_type": "code",
      "metadata": {
        "id": "SM1k2URk1x_p"
      },
      "source": [
        "cys_url = \"http://nrnb.org/data/galFilteredSimpleData.cys\"\n",
        "file_name = wget.download(cys_url)"
      ],
      "execution_count": null,
      "outputs": []
    },
    {
      "cell_type": "code",
      "metadata": {
        "id": "6k6Qc0Ne1x_p",
        "outputId": "457b2bd0-26c8-45bb-d972-e9f1d2afa927"
      },
      "source": [
        "file_name"
      ],
      "execution_count": null,
      "outputs": [
        {
          "output_type": "execute_result",
          "data": {
            "text/plain": [
              "'galFilteredSimpleData.cys'"
            ]
          },
          "metadata": {
            "tags": []
          },
          "execution_count": 4
        }
      ]
    },
    {
      "cell_type": "code",
      "metadata": {
        "id": "mu7V_jAB1x_q"
      },
      "source": [
        "abs_file_name = os.path.abspath(file_name)"
      ],
      "execution_count": null,
      "outputs": []
    },
    {
      "cell_type": "code",
      "metadata": {
        "id": "8Fo-0JFZ1x_q"
      },
      "source": [
        "session_cmd_list = ['session','open','file=\"',abs_file_name,'\"']\n",
        "session_cmd = \" \".join(session_cmd_list)"
      ],
      "execution_count": null,
      "outputs": []
    },
    {
      "cell_type": "code",
      "metadata": {
        "id": "U_JT5GT01x_q",
        "outputId": "683842fd-d022-461b-f434-ff54e998659c"
      },
      "source": [
        "p4c.commands.commands_run(session_cmd)"
      ],
      "execution_count": null,
      "outputs": [
        {
          "output_type": "execute_result",
          "data": {
            "text/plain": [
              "[]"
            ]
          },
          "metadata": {
            "tags": []
          },
          "execution_count": 7
        }
      ]
    },
    {
      "cell_type": "markdown",
      "metadata": {
        "id": "rLgiizFD1x_q"
      },
      "source": [
        "* When the network first opens, the entire network is not visible because of the default zoom factor used. To see the whole network, we can use the fit_content function."
      ]
    },
    {
      "cell_type": "code",
      "metadata": {
        "id": "qi0oDtDG1x_r",
        "outputId": "6da79a12-6b9d-4bdf-a9af-34139d1763f1"
      },
      "source": [
        "p4c.network_views.fit_content()"
      ],
      "execution_count": null,
      "outputs": [
        {
          "output_type": "execute_result",
          "data": {
            "text/plain": [
              "{}"
            ]
          },
          "metadata": {
            "tags": []
          },
          "execution_count": 8
        }
      ]
    },
    {
      "cell_type": "markdown",
      "metadata": {
        "id": "Axize1TT1x_r"
      },
      "source": [
        "# Label the Nodes\n",
        "* Zoom in on the network so that node labels are visible.\n",
        "* Check available column names."
      ]
    },
    {
      "cell_type": "code",
      "metadata": {
        "id": "uNZDeWMw1x_r",
        "outputId": "7012ad7f-2cac-46cf-ff2c-ca2e6cfa433c"
      },
      "source": [
        "p4c.tables.get_table_column_names('node')"
      ],
      "execution_count": null,
      "outputs": [
        {
          "output_type": "execute_result",
          "data": {
            "text/plain": [
              "['SUID',\n",
              " 'shared name',\n",
              " 'name',\n",
              " 'selected',\n",
              " 'COMMON',\n",
              " 'gal1RGexp',\n",
              " 'gal4RGexp',\n",
              " 'gal80Rexp',\n",
              " 'gal1RGsig',\n",
              " 'gal4RGsig',\n",
              " 'gal80Rsig']"
            ]
          },
          "metadata": {
            "tags": []
          },
          "execution_count": 9
        }
      ]
    },
    {
      "cell_type": "markdown",
      "metadata": {
        "id": "f0sFjDFh1x_r"
      },
      "source": [
        "* We are going to use the COMMON name attribute to give the nodes useful names:"
      ]
    },
    {
      "cell_type": "code",
      "metadata": {
        "id": "z4nI5kbx1x_r",
        "outputId": "f7bb5d1e-ec1c-4dc9-c229-4d42d4d1b79b"
      },
      "source": [
        "p4c.style_mappings.set_node_label_mapping('COMMON')"
      ],
      "execution_count": null,
      "outputs": [
        {
          "output_type": "stream",
          "text": [
            "style_name not specified; updating \"default\" style.\n"
          ],
          "name": "stdout"
        },
        {
          "output_type": "execute_result",
          "data": {
            "text/plain": [
              "''"
            ]
          },
          "metadata": {
            "tags": []
          },
          "execution_count": 10
        }
      ]
    },
    {
      "cell_type": "markdown",
      "metadata": {
        "id": "t4Rp3d631x_s"
      },
      "source": [
        "* Verify that the node labels on the network have changed to their common names."
      ]
    },
    {
      "cell_type": "markdown",
      "metadata": {
        "id": "GSMi1CPX1x_s"
      },
      "source": [
        "# Color the nodes\n",
        "* Check available column names again"
      ]
    },
    {
      "cell_type": "code",
      "metadata": {
        "id": "8pOwDIat1x_s",
        "outputId": "a1a042cb-44d6-483e-a643-fa2410768a1c"
      },
      "source": [
        "p4c.tables.get_table_column_names('node')"
      ],
      "execution_count": null,
      "outputs": [
        {
          "output_type": "execute_result",
          "data": {
            "text/plain": [
              "['SUID',\n",
              " 'shared name',\n",
              " 'name',\n",
              " 'selected',\n",
              " 'COMMON',\n",
              " 'gal1RGexp',\n",
              " 'gal4RGexp',\n",
              " 'gal80Rexp',\n",
              " 'gal1RGsig',\n",
              " 'gal4RGsig',\n",
              " 'gal80Rsig']"
            ]
          },
          "metadata": {
            "tags": []
          },
          "execution_count": 11
        }
      ]
    },
    {
      "cell_type": "markdown",
      "metadata": {
        "id": "gDu2WND71x_s"
      },
      "source": [
        "* Check the expression value range of gal80Rexp\n"
      ]
    },
    {
      "cell_type": "code",
      "metadata": {
        "id": "0IlcLWxG1x_t",
        "outputId": "e42bd805-78da-4dd1-fa23-03a355a3b6a2"
      },
      "source": [
        "gal80rexp_score_table = p4c.tables.get_table_columns('node', 'gal80Rexp')\n",
        "gal80rexp_min = min(gal80rexp_score_table['gal80Rexp'])\n",
        "gal80rexp_max = max(gal80rexp_score_table['gal80Rexp'])\n",
        "print(gal80rexp_min)\n",
        "print(gal80rexp_max)"
      ],
      "execution_count": null,
      "outputs": [
        {
          "output_type": "stream",
          "text": [
            "-1.373\n",
            "3.126\n"
          ],
          "name": "stdout"
        }
      ]
    },
    {
      "cell_type": "markdown",
      "metadata": {
        "id": "FxEDKugz1x_t"
      },
      "source": [
        "* The following produces a default gradient ranging from blue to red for expression values. Notice that the nodes in the network change color."
      ]
    },
    {
      "cell_type": "code",
      "metadata": {
        "id": "yluDqEil1x_t",
        "outputId": "a9fe349f-4be4-4361-bf46-dc51867c0662"
      },
      "source": [
        "p4c.style_mappings.set_node_color_mapping('gal80Rexp', [gal80rexp_min, 0, gal80rexp_max], ['#0000FF', '#FFFFFF', '#FF0000'])"
      ],
      "execution_count": null,
      "outputs": [
        {
          "output_type": "stream",
          "text": [
            "style_name not specified; updating \"default\" style.\n"
          ],
          "name": "stdout"
        },
        {
          "output_type": "execute_result",
          "data": {
            "text/plain": [
              "''"
            ]
          },
          "metadata": {
            "tags": []
          },
          "execution_count": 13
        }
      ]
    },
    {
      "cell_type": "markdown",
      "metadata": {
        "id": "w42ilmyN1x_t"
      },
      "source": [
        "# Set the Default Node Color\n",
        "Note that the default node color of pale blue is close to the color range in the created palette. A useful trick is to choose a color outside this spectrum to distinguish nodes with no defined expression value and those with slight repression.\n",
        "\n",
        "* Here we choose a dark gray color for default node color."
      ]
    },
    {
      "cell_type": "code",
      "metadata": {
        "id": "oy6_ibaQ1x_u",
        "outputId": "d65f180d-ec96-4c19-d9ef-ff391da38c6f"
      },
      "source": [
        "p4c.style_defaults.set_node_color_default('#A9A9A9')"
      ],
      "execution_count": null,
      "outputs": [
        {
          "output_type": "stream",
          "text": [
            "style_name not specified; updating \"default\" style.\n"
          ],
          "name": "stdout"
        },
        {
          "output_type": "execute_result",
          "data": {
            "text/plain": [
              "''"
            ]
          },
          "metadata": {
            "tags": []
          },
          "execution_count": 14
        }
      ]
    },
    {
      "cell_type": "markdown",
      "metadata": {
        "id": "jwwv0Zpk1x_u"
      },
      "source": [
        "* Zoom out on the network view to verify that a few nodes have been colored gray.\n"
      ]
    },
    {
      "cell_type": "code",
      "metadata": {
        "id": "FPwe20TG1x_u",
        "outputId": "cbf724e8-6c2e-489e-ae83-f18fb6779a8a"
      },
      "source": [
        "p4c.network_views.fit_content()"
      ],
      "execution_count": null,
      "outputs": [
        {
          "output_type": "execute_result",
          "data": {
            "text/plain": [
              "{}"
            ]
          },
          "metadata": {
            "tags": []
          },
          "execution_count": 15
        }
      ]
    },
    {
      "cell_type": "markdown",
      "metadata": {
        "id": "1dYrlaiq1x_u"
      },
      "source": [
        "# Set the Node Shape\n",
        "We imported both expression measurement values and corresponding significance values. We can use the significance values to change the shape of the nodes so that measurements we have confidence in appear as squares while potentially bad measurements appear as circles.\n",
        "\n",
        "The following code maps the node with gal80Rsig value less than 0.05 to RECTANGLE shape, with greater than 0.05 to ELLIPSE shape."
      ]
    },
    {
      "cell_type": "code",
      "metadata": {
        "id": "bsvtGZc-1x_u",
        "outputId": "54648c1c-d2a4-4af2-eba1-17a9c301d5df"
      },
      "source": [
        "p4c.style_mappings.update_style_mapping('default', p4c.style_mappings.map_visual_property('node shape', 'gal80Rsig', 'c', [0, 0.05, 1.00], ['rectangle', 'rectangle', 'ellipse']))"
      ],
      "execution_count": null,
      "outputs": [
        {
          "output_type": "execute_result",
          "data": {
            "text/plain": [
              "''"
            ]
          },
          "metadata": {
            "tags": []
          },
          "execution_count": 16
        }
      ]
    },
    {
      "cell_type": "markdown",
      "metadata": {
        "id": "21OqnJAS1x_u"
      },
      "source": [
        "* Verify that some nodes now have a square shape."
      ]
    },
    {
      "cell_type": "markdown",
      "metadata": {
        "id": "NAzyKsyi1x_u"
      },
      "source": [
        "# Fun with Charts\n",
        "In addition to coloring the nodes, Cytoscape also provides the ability to draw charts and graphs on each node. For example, suppose we wanted to display a bar chart showing all of the expression values on each of our nodes?\n",
        "\n",
        "* To reset things a little, remove the mapping for Fill Color by"
      ]
    },
    {
      "cell_type": "code",
      "metadata": {
        "id": "eB6boC6e1x_v",
        "outputId": "8cff0667-5438-444f-e9d9-93afa76de5e3"
      },
      "source": [
        "p4c.styles.get_visual_property_names()"
      ],
      "execution_count": null,
      "outputs": [
        {
          "output_type": "execute_result",
          "data": {
            "text/plain": [
              "['COMPOUND_NODE_PADDING',\n",
              " 'COMPOUND_NODE_SHAPE',\n",
              " 'DING_RENDERING_ENGINE_ROOT',\n",
              " 'EDGE',\n",
              " 'EDGE_BEND',\n",
              " 'EDGE_CURVED',\n",
              " 'EDGE_LABEL',\n",
              " 'EDGE_LABEL_COLOR',\n",
              " 'EDGE_LABEL_FONT_FACE',\n",
              " 'EDGE_LABEL_FONT_SIZE',\n",
              " 'EDGE_LABEL_TRANSPARENCY',\n",
              " 'EDGE_LABEL_WIDTH',\n",
              " 'EDGE_LINE_TYPE',\n",
              " 'EDGE_PAINT',\n",
              " 'EDGE_SELECTED',\n",
              " 'EDGE_SELECTED_PAINT',\n",
              " 'EDGE_SOURCE_ARROW_SELECTED_PAINT',\n",
              " 'EDGE_SOURCE_ARROW_SHAPE',\n",
              " 'EDGE_SOURCE_ARROW_SIZE',\n",
              " 'EDGE_SOURCE_ARROW_UNSELECTED_PAINT',\n",
              " 'EDGE_STROKE_SELECTED_PAINT',\n",
              " 'EDGE_STROKE_UNSELECTED_PAINT',\n",
              " 'EDGE_TARGET_ARROW_SELECTED_PAINT',\n",
              " 'EDGE_TARGET_ARROW_SHAPE',\n",
              " 'EDGE_TARGET_ARROW_SIZE',\n",
              " 'EDGE_TARGET_ARROW_UNSELECTED_PAINT',\n",
              " 'EDGE_TOOLTIP',\n",
              " 'EDGE_TRANSPARENCY',\n",
              " 'EDGE_UNSELECTED_PAINT',\n",
              " 'EDGE_VISIBLE',\n",
              " 'EDGE_WIDTH',\n",
              " 'NETWORK',\n",
              " 'NETWORK_ANNOTATION_SELECTION',\n",
              " 'NETWORK_BACKGROUND_PAINT',\n",
              " 'NETWORK_CENTER_X_LOCATION',\n",
              " 'NETWORK_CENTER_Y_LOCATION',\n",
              " 'NETWORK_CENTER_Z_LOCATION',\n",
              " 'NETWORK_DEPTH',\n",
              " 'NETWORK_EDGE_SELECTION',\n",
              " 'NETWORK_FORCE_HIGH_DETAIL',\n",
              " 'NETWORK_HEIGHT',\n",
              " 'NETWORK_NODE_LABEL_SELECTION',\n",
              " 'NETWORK_NODE_SELECTION',\n",
              " 'NETWORK_SCALE_FACTOR',\n",
              " 'NETWORK_SIZE',\n",
              " 'NETWORK_TITLE',\n",
              " 'NETWORK_WIDTH',\n",
              " 'NODE',\n",
              " 'NODE_BORDER_PAINT',\n",
              " 'NODE_BORDER_STROKE',\n",
              " 'NODE_BORDER_TRANSPARENCY',\n",
              " 'NODE_BORDER_WIDTH',\n",
              " 'NODE_CUSTOMGRAPHICS_1',\n",
              " 'NODE_CUSTOMGRAPHICS_2',\n",
              " 'NODE_CUSTOMGRAPHICS_3',\n",
              " 'NODE_CUSTOMGRAPHICS_4',\n",
              " 'NODE_CUSTOMGRAPHICS_5',\n",
              " 'NODE_CUSTOMGRAPHICS_6',\n",
              " 'NODE_CUSTOMGRAPHICS_7',\n",
              " 'NODE_CUSTOMGRAPHICS_8',\n",
              " 'NODE_CUSTOMGRAPHICS_9',\n",
              " 'NODE_CUSTOMGRAPHICS_POSITION_1',\n",
              " 'NODE_CUSTOMGRAPHICS_POSITION_2',\n",
              " 'NODE_CUSTOMGRAPHICS_POSITION_3',\n",
              " 'NODE_CUSTOMGRAPHICS_POSITION_4',\n",
              " 'NODE_CUSTOMGRAPHICS_POSITION_5',\n",
              " 'NODE_CUSTOMGRAPHICS_POSITION_6',\n",
              " 'NODE_CUSTOMGRAPHICS_POSITION_7',\n",
              " 'NODE_CUSTOMGRAPHICS_POSITION_8',\n",
              " 'NODE_CUSTOMGRAPHICS_POSITION_9',\n",
              " 'NODE_CUSTOMGRAPHICS_SIZE_1',\n",
              " 'NODE_CUSTOMGRAPHICS_SIZE_2',\n",
              " 'NODE_CUSTOMGRAPHICS_SIZE_3',\n",
              " 'NODE_CUSTOMGRAPHICS_SIZE_4',\n",
              " 'NODE_CUSTOMGRAPHICS_SIZE_5',\n",
              " 'NODE_CUSTOMGRAPHICS_SIZE_6',\n",
              " 'NODE_CUSTOMGRAPHICS_SIZE_7',\n",
              " 'NODE_CUSTOMGRAPHICS_SIZE_8',\n",
              " 'NODE_CUSTOMGRAPHICS_SIZE_9',\n",
              " 'NODE_CUSTOMPAINT_1',\n",
              " 'NODE_CUSTOMPAINT_2',\n",
              " 'NODE_CUSTOMPAINT_3',\n",
              " 'NODE_CUSTOMPAINT_4',\n",
              " 'NODE_CUSTOMPAINT_5',\n",
              " 'NODE_CUSTOMPAINT_6',\n",
              " 'NODE_CUSTOMPAINT_7',\n",
              " 'NODE_CUSTOMPAINT_8',\n",
              " 'NODE_CUSTOMPAINT_9',\n",
              " 'NODE_DEPTH',\n",
              " 'NODE_FILL_COLOR',\n",
              " 'NODE_HEIGHT',\n",
              " 'NODE_LABEL',\n",
              " 'NODE_LABEL_COLOR',\n",
              " 'NODE_LABEL_FONT_FACE',\n",
              " 'NODE_LABEL_FONT_SIZE',\n",
              " 'NODE_LABEL_POSITION',\n",
              " 'NODE_LABEL_TRANSPARENCY',\n",
              " 'NODE_LABEL_WIDTH',\n",
              " 'NODE_NESTED_NETWORK_IMAGE_VISIBLE',\n",
              " 'NODE_PAINT',\n",
              " 'NODE_SELECTED',\n",
              " 'NODE_SELECTED_PAINT',\n",
              " 'NODE_SHAPE',\n",
              " 'NODE_SIZE',\n",
              " 'NODE_TOOLTIP',\n",
              " 'NODE_TRANSPARENCY',\n",
              " 'NODE_VISIBLE',\n",
              " 'NODE_WIDTH',\n",
              " 'NODE_X_LOCATION',\n",
              " 'NODE_Y_LOCATION',\n",
              " 'NODE_Z_LOCATION']"
            ]
          },
          "metadata": {
            "tags": []
          },
          "execution_count": 17
        }
      ]
    },
    {
      "cell_type": "code",
      "metadata": {
        "id": "2djDxMTY1x_v",
        "outputId": "89164681-f1cd-49f7-c942-802d138ca26a"
      },
      "source": [
        "p4c.style_mappings.delete_style_mapping(\"default\", \"NODE_FILL_COLOR\")"
      ],
      "execution_count": null,
      "outputs": [
        {
          "output_type": "execute_result",
          "data": {
            "text/plain": [
              "''"
            ]
          },
          "metadata": {
            "tags": []
          },
          "execution_count": 18
        }
      ]
    },
    {
      "cell_type": "markdown",
      "metadata": {
        "id": "EVOnOtw71x_v"
      },
      "source": [
        "* Now change the default value to a lighter shade of grey so we can see our chart.\n"
      ]
    },
    {
      "cell_type": "code",
      "metadata": {
        "id": "Rh431Vxz1x_v",
        "outputId": "8618fc82-ef82-4751-b22e-8a15f05a79bf"
      },
      "source": [
        "p4c.style_defaults.set_node_color_default('#D3D3D3')"
      ],
      "execution_count": null,
      "outputs": [
        {
          "output_type": "stream",
          "text": [
            "style_name not specified; updating \"default\" style.\n"
          ],
          "name": "stdout"
        },
        {
          "output_type": "execute_result",
          "data": {
            "text/plain": [
              "''"
            ]
          },
          "metadata": {
            "tags": []
          },
          "execution_count": 19
        }
      ]
    },
    {
      "cell_type": "markdown",
      "metadata": {
        "id": "PF5H9KHG1x_v"
      },
      "source": [
        "* The following indicates that we’re going to use the data from these three columns expression data (gal1RGexp, gal4RGexp, gal80Rexp) to create bar chart."
      ]
    },
    {
      "cell_type": "code",
      "metadata": {
        "id": "VzHXQYFI1x_w",
        "outputId": "2c231c53-9de0-417a-e2ea-f74c8909b4b3"
      },
      "source": [
        "p4c.style_defaults.set_node_custom_bar_chart([\"gal1RGexp\", \"gal4RGexp\", \"gal80Rexp\"])"
      ],
      "execution_count": null,
      "outputs": [
        {
          "output_type": "stream",
          "text": [
            "style_name not specified; updating \"default\" style.\n"
          ],
          "name": "stdout"
        },
        {
          "output_type": "execute_result",
          "data": {
            "text/plain": [
              "''"
            ]
          },
          "metadata": {
            "tags": []
          },
          "execution_count": 20
        }
      ]
    }
  ]
}