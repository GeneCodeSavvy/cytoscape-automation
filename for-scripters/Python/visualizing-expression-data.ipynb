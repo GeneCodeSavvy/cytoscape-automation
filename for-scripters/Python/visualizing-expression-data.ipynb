{
  "nbformat": 4,
  "nbformat_minor": 0,
  "metadata": {
    "kernelspec": {
      "display_name": "Python 3",
      "language": "python",
      "name": "python3"
    },
    "language_info": {
      "codemirror_mode": {
        "name": "ipython",
        "version": 3
      },
      "file_extension": ".py",
      "mimetype": "text/x-python",
      "name": "python",
      "nbconvert_exporter": "python",
      "pygments_lexer": "ipython3",
      "version": "3.8.5"
    },
    "colab": {
      "name": "visualizing-expression-data.ipynb",
      "provenance": [],
      "include_colab_link": true
    }
  },
  "cells": [
    {
      "cell_type": "markdown",
      "metadata": {
        "id": "view-in-github",
        "colab_type": "text"
      },
      "source": [
        "<a href=\"https://colab.research.google.com/github/cytoscape/cytoscape-automation/blob/master/for-scripters/Python/visualizing-expression-data.ipynb\" target=\"_parent\"><img src=\"https://colab.research.google.com/assets/colab-badge.svg\" alt=\"Open In Colab\"/></a>"
      ]
    },
    {
      "cell_type": "markdown",
      "metadata": {
        "id": "8aXh5vAU1x_g"
      },
      "source": [
        "# Visualizing Expression Data\n",
        "## Yihang Xin and Alex Pico\n",
        "## 2020-11-10"
      ]
    },
    {
      "cell_type": "markdown",
      "metadata": {
        "id": "uh7n5idH1x_i"
      },
      "source": [
        "Probably the most common use of expression data in Cytoscape is to set the visual attributes of the nodes in a network according to expression data. This creates a powerful visualization, portraying functional relation and experimental response at the same time. Here, we will walk through the steps for doing this."
      ]
    },
    {
      "cell_type": "markdown",
      "metadata": {
        "id": "fJBtOSly1x_j"
      },
      "source": [
        "# Installation\n",
        "The following chunk of code installs the `py4cytoscape` module."
      ]
    },
    {
      "cell_type": "code",
      "metadata": {
        "id": "Z9ObWIiq1x_j"
      },
      "source": [
        "%%capture\n",
        "!python3 -m pip install python-igraph requests pandas networkx\n",
        "!python3 -m pip install py4cytoscape\n",
        "!python3 -m pip install wget"
      ],
      "execution_count": 1,
      "outputs": []
    },
    {
      "cell_type": "markdown",
      "metadata": {
        "id": "z5thb0GF1z6J"
      },
      "source": [
        "If you are using a remote notebook environment such as Google Colab, please execute the cell below. (If you're running on your local notebook, you don't need to do that.)\n",
        "\n"
      ]
    },
    {
      "cell_type": "code",
      "metadata": {
        "id": "2cDBOooK11IB",
        "outputId": "7398e004-073b-4b7b-9311-847a6955d38c",
        "colab": {
          "base_uri": "https://localhost:8080/",
          "height": 312
        }
      },
      "source": [
        "import requests\n",
        "exec(requests.get(\"https://raw.githubusercontent.com/cytoscape/jupyter-bridge/master/client/p4c_init.py\").text)\n",
        "IPython.display.Javascript(_PY4CYTOSCAPE_BROWSER_CLIENT_JS) # Start browser client"
      ],
      "execution_count": 2,
      "outputs": [
        {
          "output_type": "stream",
          "name": "stdout",
          "text": [
            "Requirement already satisfied: py4cytoscape in /usr/local/lib/python3.7/dist-packages (0.0.9)\n",
            "Requirement already satisfied: pandas in /usr/local/lib/python3.7/dist-packages (from py4cytoscape) (1.1.5)\n",
            "Requirement already satisfied: colorbrewer in /usr/local/lib/python3.7/dist-packages (from py4cytoscape) (0.2.0)\n",
            "Requirement already satisfied: networkx in /usr/local/lib/python3.7/dist-packages (from py4cytoscape) (2.6.3)\n",
            "Requirement already satisfied: requests in /usr/local/lib/python3.7/dist-packages (from py4cytoscape) (2.23.0)\n",
            "Requirement already satisfied: python-igraph in /usr/local/lib/python3.7/dist-packages (from py4cytoscape) (0.9.6)\n",
            "Requirement already satisfied: six in /usr/local/lib/python3.7/dist-packages (from colorbrewer->py4cytoscape) (1.15.0)\n",
            "Requirement already satisfied: pytz>=2017.2 in /usr/local/lib/python3.7/dist-packages (from pandas->py4cytoscape) (2018.9)\n",
            "Requirement already satisfied: numpy>=1.15.4 in /usr/local/lib/python3.7/dist-packages (from pandas->py4cytoscape) (1.19.5)\n",
            "Requirement already satisfied: python-dateutil>=2.7.3 in /usr/local/lib/python3.7/dist-packages (from pandas->py4cytoscape) (2.8.2)\n",
            "Requirement already satisfied: texttable>=1.6.2 in /usr/local/lib/python3.7/dist-packages (from python-igraph->py4cytoscape) (1.6.4)\n",
            "Requirement already satisfied: certifi>=2017.4.17 in /usr/local/lib/python3.7/dist-packages (from requests->py4cytoscape) (2021.5.30)\n",
            "Requirement already satisfied: urllib3!=1.25.0,!=1.25.1,<1.26,>=1.21.1 in /usr/local/lib/python3.7/dist-packages (from requests->py4cytoscape) (1.24.3)\n",
            "Requirement already satisfied: idna<3,>=2.5 in /usr/local/lib/python3.7/dist-packages (from requests->py4cytoscape) (2.10)\n",
            "Requirement already satisfied: chardet<4,>=3.0.2 in /usr/local/lib/python3.7/dist-packages (from requests->py4cytoscape) (3.0.4)\n",
            "Loading Javascript client ... e1bce960-aead-4d8b-a744-02b11cb20140 on https://jupyter-bridge.cytoscape.org\n",
            "ADVICE: WHEN RUNNING UNDER COLAB, DO NOT RE-RUN THIS CELL WITHOUT MANUALLY EXECUTING Runtime | Factory Reset Runtime FROM THE COLAB MENU FIRST.\n"
          ]
        },
        {
          "output_type": "execute_result",
          "data": {
            "application/javascript": [
              "var Channel = \"e1bce960-aead-4d8b-a744-02b11cb20140\"; \n",
              "\n",
              "var JupyterBridge = \"https://jupyter-bridge.cytoscape.org\"; \n",
              "\n",
              "  /*\n",
              "    These functions serve as a connector between a remote Jupyter server and Cytoscape.\n",
              "    They run in the user's browser, which also shows the Jupyter Notebook.\n",
              "\n",
              "    A remote Jupyter Notebook call to the py4cytoscape package is forwarded to the Jupyter Bridge,\n",
              "    which is a standalone server. The functions in this connector execute in the Jupyter Notebook\n",
              "    browser, which executes on the same PC as Cytoscape. So, that's 4 components: (A) remote\n",
              "    Jupyter Notebook, (B) separate Jupyter Bridge server, (C) this browser-based component, and\n",
              "    (D) Cytoscape. (A) is on a remote server, (B) is on a different remote server, and (C) and (D)\n",
              "    are on the user's PC.\n",
              "\n",
              "    (A) calls its py4cytoscape module, which forwards the request (in a JSON wrapper) to (B).\n",
              "    (C) picks up the request from (B), unpacks the request and forwards it to (D). (C) awaits a\n",
              "    reply from (D), and when it gets it, it forwards the reply (in a JSON wrapper) to (B).\n",
              "    (A)'s py4cytoscape module picks up the reply on (B) when it becomes available, unpacks it,\n",
              "    and returns it to (A).\n",
              "\n",
              "    A Jupyter Notebook can talk to only one Cytoscape (i.e., the one on the machine running the\n",
              "    Jupyter Notebook browser), and Cytoscape should be called by only one Jupyter Notebook. The\n",
              "    Jupyter Bridge differentiates between Notebook-Cytoscape conversations via a channel UUID.\n",
              "    The UUID is prepended to this browser component by py4Cytoscape, and the component is\n",
              "    started by the Jupyter Notebook. (I wish py4Cytoscape could start the component, too, but I\n",
              "    haven't figured out how to do that yet, so startup code *is* required in the Jupyter\n",
              "    Notebook.)\n",
              "\n",
              "    Note that for the case of a Jupyter server running on the same machine as Cytoscape, this\n",
              "    bridge isn't necessary because the Jupyter server's HTTP calls can easily connect to\n",
              "    Cytoscape over a localhost socket. So, the combination of Jupyter Bridge and this browser\n",
              "    component solves the problem of a Jupyter server (e.g., Google's Colab) that can't\n",
              "    connect to Cytoscape that sits behind a firewall.\n",
              "\n",
              "    The request represents an HTTP call that py4cytoscape would normally make via HTTP directly\n",
              "    to Cytoscape via localhost when both py4cytoscape and Cytoscape are running on the same machine.\n",
              " */\n",
              "\n",
              "const VERSION = '0.0.2'\n",
              "\n",
              "var showDebug; // Flag indicating whether to show Jupyter-bridge progress\n",
              "if (typeof showDebug === 'undefined') {\n",
              "    showDebug = false\n",
              "}\n",
              "if (showDebug) {\n",
              "    alert(\"Starting Jupyter-bridge browser component\")\n",
              "}\n",
              "\n",
              "//const JupyterBridge = 'http://127.0.0.1:5000' // for testing against local Jupyter-bridge\n",
              "var JupyterBridge; // URL of Jupyter-bridge server could be defined by assignment pre-pended to this file\n",
              "if (typeof JupyterBridge === 'undefined') {\n",
              "    JupyterBridge = 'https://jupyter-bridge.cytoscape.org' // for production\n",
              "}\n",
              "var Channel; // Unique constant that could be defined by assignment pre-pended to this file\n",
              "if (typeof Channel === 'undefined') { // ... but if not assigned, use a debugging value\n",
              "    Channel = 1\n",
              "}\n",
              "\n",
              "\n",
              "var httpR = new XMLHttpRequest(); // for sending reply to Jupyter-bridge\n",
              "var httpRE = new XMLHttpRequest(); // for sending backup error reply to Jupyter-bridge\n",
              "var httpC = new XMLHttpRequest(); // for sending command to Cytoscape\n",
              "var httpJ = new XMLHttpRequest(); // for fetching request from Jupyter-bridge\n",
              "\n",
              "const HTTP_OK = 200\n",
              "const HTTP_SYS_ERR = 500\n",
              "const HTTP_TIMEOUT = 408\n",
              "const HTTP_TOO_MANY = 429\n",
              "\n",
              "\n",
              " /* This function is useful if we want to rewrite the incoming URL to resolve just to our local one.\n",
              "    Doing this stops the Jupyter component from abusing this client to call out to endpoints other\n",
              "    than local Cytoscape. On the other hand, it makes it hard to detect when the Jupyter component\n",
              "    has specified a genuinely bad URL and really should get an error result. For now, we'll execute\n",
              "    the Jupyter-supplied URL and return the result, whatever it may be.\n",
              "\n",
              "const LocalCytoscape = 'http://127.0.0.1:1234'\n",
              "\n",
              "function parseURL(url) {\n",
              "    var reURLInformation = new RegExp([\n",
              "        '^(https?:)//', // protocol\n",
              "        '(([^:/?#]*)(?::([0-9]+))?)', // host (hostname and port)\n",
              "        '(/{0,1}[^?#]*)', // pathname\n",
              "        '(\\\\?[^#]*|)', // search\n",
              "        '(#.*|)$' // hash\n",
              "    ].join(''));\n",
              "    var match = url.match(reURLInformation);\n",
              "    return match && {\n",
              "        url: url,\n",
              "        protocol: match[1],\n",
              "        host: match[2],\n",
              "        hostname: match[3],\n",
              "        port: match[4],\n",
              "        pathname: match[5],\n",
              "        search: match[6],\n",
              "        hash: match[7]\n",
              "    }\n",
              "}\n",
              "*/\n",
              "\n",
              "function replyCytoscape(replyStatus, replyStatusText, replyText) {\n",
              "\n",
              "    // Clean up after Jupyter bridge accepts reply\n",
              "    httpR.onreadystatechange = function() {\n",
              "        if (httpR.readyState === 4) {\n",
              "            if (showDebug) {\n",
              "                console.log(' status from queue_reply: ' + httpR.status + ', reply: ' + httpR.responseText)\n",
              "            }\n",
              "        }\n",
              "    }\n",
              "\n",
              "    httpR.onerror = function() {\n",
              "        // Clean up after Jupyter bridge accepts backup reply\n",
              "        httpRE.onreadystatechange = function() {\n",
              "            if (httpRE.readyState === 4) {\n",
              "                if (showDebug) {\n",
              "                    console.log(' status from backup queue_reply: ' + httpRE.status + ', reply: ' + httpRE.responseText)\n",
              "                }\n",
              "            }\n",
              "        }\n",
              "\n",
              "        if (showDebug) {\n",
              "            console.log(' error from queue_reply -- could be Jupyter-Bridge server reject')\n",
              "        }\n",
              "        var errReply = {'status': HTTP_SYS_ERR, 'reason': 'Jupyter-Bridge rejected reply', 'text': 'Possibly reply is too long for Jupyter-Bridge server'}\n",
              "        httpRE.open('POST', jupyterBridgeURL, true)\n",
              "        httpRE.setRequestHeader('Content-Type', 'text/plain')\n",
              "        httpRE.send(JSON.stringify(errReply))\n",
              "    }\n",
              "\n",
              "    var reply = {'status': replyStatus, 'reason': replyStatusText, 'text': replyText}\n",
              "\n",
              "    // Send reply to Jupyter bridge\n",
              "    var jupyterBridgeURL = JupyterBridge + '/queue_reply?channel=' + Channel\n",
              "    if (showDebug) {\n",
              "        console.log('Starting queue to Jupyter bridge: ' + jupyterBridgeURL)\n",
              "    }\n",
              "    httpR.open('POST', jupyterBridgeURL, true)\n",
              "    httpR.setRequestHeader('Content-Type', 'text/plain')\n",
              "    httpR.send(JSON.stringify(reply))\n",
              "}\n",
              "\n",
              "function callCytoscape(callSpec) {\n",
              "\n",
              "    // Captures Cytoscape reply and sends it on\n",
              "    httpC.onreadystatechange = function() {\n",
              "        if (httpC.readyState === 4) {\n",
              "            if (showDebug) {\n",
              "                console.log(' status from CyREST: ' + httpC.status + ', statusText: ' + httpC.statusText + ', reply: ' + httpC.responseText)\n",
              "            }\n",
              "            // Note that httpC.status is 0 if the URL can't be reached *OR* there is a CORS violation.\n",
              "            // I wish I could tell the difference because for a CORS violation, I'd return a 404,\n",
              "            // which would roughly match what Python's native request package would return.\n",
              "            // The practical consequence is that the ultimate caller (e.g., py4cytoscape)\n",
              "            // returns different exceptions, depending on wither this module is doing the\n",
              "            // HTTP operation or the native Python requests package is. This is minor, but\n",
              "            // messes up tests that verify the exception type.\n",
              "            replyCytoscape(httpC.status, httpC.statusText, httpC.responseText)\n",
              "            waitOnJupyterBridge()\n",
              "        }\n",
              "    }\n",
              "\n",
              "//  Build up request to Cytoscape, making sure host is local.\n",
              "//    Too heavy handed: localURL = LocalCytoscape + parseURL(callSpec.url).pathname\n",
              "    var localURL = callSpec.url // Try using what was passed in ... is there a security risk??\n",
              "\n",
              "    if (showDebug) {\n",
              "        console.log('Command to CyREST: ' + callSpec.command + ' (' + localURL + ')')\n",
              "        if (callSpec.params) {\n",
              "            console.log(' params: ' + JSON.stringify(callSpec.params))\n",
              "        }\n",
              "        if (callSpec.headers) {\n",
              "            console.log(' header: ' + JSON.stringify(callSpec.headers))\n",
              "        }\n",
              "        if (callSpec.data) {\n",
              "            console.log('   data: ' + JSON.stringify(callSpec.data))\n",
              "        }\n",
              "    }\n",
              "\n",
              "    if (callSpec.command === 'webbrowser') {\n",
              "        if (window.open(callSpec.url)) {\n",
              "            replyCytoscape(HTTP_OK, 'OK', '')\n",
              "        } else {\n",
              "            replyCytoscape(HTTP_SYS_ERR, 'BAD BROWSER OPEN', '')\n",
              "        }\n",
              "        waitOnJupyterBridge()\n",
              "    } else if (callSpec.command === 'version') {\n",
              "        replyCytoscape(HTTP_OK, 'OK',\n",
              "            JSON.stringify({\"jupyterBridgeVersion\": VERSION}))\n",
              "        waitOnJupyterBridge()\n",
              "    } else {\n",
              "        var joiner = '?'\n",
              "        for (let param in callSpec.params) {\n",
              "            localURL = localURL + joiner + param + '=' + encodeURIComponent(callSpec.params[param])\n",
              "            joiner = '&'\n",
              "        }\n",
              "\n",
              "        httpC.open(callSpec.command, localURL, true)\n",
              "        for (let header in callSpec.headers) {\n",
              "            httpC.setRequestHeader(header, callSpec.headers[header])\n",
              "        }\n",
              "\n",
              "        // Send request to Cytoscape ... reply goes to onreadystatechange handler\n",
              "        httpC.send(JSON.stringify(callSpec.data))\n",
              "    }\n",
              "}\n",
              "\n",
              "function waitOnJupyterBridge() {\n",
              "\n",
              "    // Captures request from Jupyter bridge\n",
              "    httpJ.onreadystatechange = function() {\n",
              "        if (httpJ.readyState === 4) {\n",
              "            if (showDebug) {\n",
              "                console.log(' status from dequeue_request: ' + httpJ.status + ', reply: ' + httpJ.responseText)\n",
              "            }\n",
              "            try {\n",
              "                if (httpJ.status == HTTP_TOO_MANY) {\n",
              "                    // Nothing more to do ... the browser has created too many listeners,\n",
              "                    // and it's time to stop listening because the server saw a listener\n",
              "                    // listening on this channel before we got there.\n",
              "                    console.log('  shutting down because of redundant reader on channel: ' + Channel)\n",
              "                } else {\n",
              "                    if (httpJ.status === HTTP_TIMEOUT) {\n",
              "                        waitOnJupyterBridge()\n",
              "                    } else {\n",
              "                        callCytoscape(JSON.parse(httpJ.responseText))\n",
              "                    }\n",
              "                }\n",
              "            } catch(err) {\n",
              "                if (showDebug) {\n",
              "                    console.log(' exception calling Cytoscape: ' + err)\n",
              "                }\n",
              "                // Bad responseText means something bad happened that we don't understand.\n",
              "                // Go wait on another request, as there's nothing to call Cytoscape with.\n",
              "                waitOnJupyterBridge()\n",
              "            }\n",
              "        }\n",
              "    }\n",
              "\n",
              "    // Wait for request from Jupyter bridge\n",
              "    var jupyterBridgeURL = JupyterBridge + '/dequeue_request?channel=' + Channel\n",
              "    if (showDebug) {\n",
              "        console.log('Starting dequeue on Jupyter bridge: ' + jupyterBridgeURL)\n",
              "    }\n",
              "    httpJ.open('GET', jupyterBridgeURL, true)\n",
              "    httpJ.send()\n",
              "}\n",
              "\n",
              "// This kicks off a loop that ends by calling waitOnJupyterBridge again. This first call\n",
              "// ejects any dead readers before we start a read\n",
              "waitOnJupyterBridge() // Wait for message from Jupyter bridge, execute it, and return reply\n",
              "\n",
              "if (showDebug) {\n",
              "    alert(\"Jupyter-bridge browser component is started on \" + JupyterBridge + ', channel ' + Channel)\n",
              "}\n"
            ],
            "text/plain": [
              "<IPython.core.display.Javascript object>"
            ]
          },
          "metadata": {},
          "execution_count": 2
        }
      ]
    },
    {
      "cell_type": "markdown",
      "metadata": {
        "id": "LEuIHxAi1x_k"
      },
      "source": [
        "# Prerequisites\n",
        "In addition to this package (py4cytoscape version 0.0.9), you will need:\n",
        "\n",
        "Latest version of Cytoscape, which can be downloaded from https://cytoscape.org/download.html. Simply follow the installation instructions on screen.\n",
        "\n",
        "Complete installation wizard\n",
        "\n",
        "Install the filetransfer app from https://apps.cytoscape.org/apps/filetransfer\n",
        "\n",
        "You can also install app inside Python notebook by running \"py4cytoscape.install_app('Your App')\""
      ]
    },
    {
      "cell_type": "markdown",
      "metadata": {
        "id": "33EhWBrU1x_k"
      },
      "source": [
        "# Import the required package"
      ]
    },
    {
      "cell_type": "code",
      "metadata": {
        "id": "52n3VqXi1x_k"
      },
      "source": [
        "import os\n",
        "import sys\n",
        "import wget\n",
        "import py4cytoscape as p4c"
      ],
      "execution_count": 3,
      "outputs": []
    },
    {
      "cell_type": "code",
      "metadata": {
        "id": "QUYpyaro1x_l",
        "outputId": "ea40da77-4ca0-491b-d7ca-44ea998b2cc1",
        "colab": {
          "base_uri": "https://localhost:8080/"
        }
      },
      "source": [
        "# Check Version\n",
        "p4c.cytoscape_version_info()"
      ],
      "execution_count": 4,
      "outputs": [
        {
          "output_type": "execute_result",
          "data": {
            "text/plain": [
              "{'apiVersion': 'v1',\n",
              " 'automationAPIVersion': '1.2.0',\n",
              " 'cytoscapeVersion': '3.9.0',\n",
              " 'jupyterBridgeVersion': '0.0.2',\n",
              " 'py4cytoscapeVersion': '0.0.9'}"
            ]
          },
          "metadata": {},
          "execution_count": 4
        }
      ]
    },
    {
      "cell_type": "markdown",
      "metadata": {
        "id": "pE_w5rOI1x_o"
      },
      "source": [
        "# Loading Network"
      ]
    },
    {
      "cell_type": "markdown",
      "metadata": {
        "id": "0hz69sYo1x_o"
      },
      "source": [
        "* Download the demo session and open the demo session using"
      ]
    },
    {
      "cell_type": "code",
      "metadata": {
        "id": "SM1k2URk1x_p"
      },
      "source": [
        "# Download file to the local drive, if running in the cloud, download file to the cloud drive\n",
        "cys_url = \"http://nrnb.org/data/galFilteredSimpleData.cys\"\n",
        "file_name_local = wget.download(cys_url)"
      ],
      "execution_count": 5,
      "outputs": []
    },
    {
      "cell_type": "code",
      "metadata": {
        "id": "CjNFk05BzkDh"
      },
      "source": [
        "run_in_cloud = p4c.check_running_remote()"
      ],
      "execution_count": 6,
      "outputs": []
    },
    {
      "cell_type": "code",
      "metadata": {
        "id": "jv2NVsp9w9d7"
      },
      "source": [
        "# if running in the cloud, send data to the local Cytoscape\n",
        "if run_in_cloud:\n",
        "  file_name_cloud = p4c.sandbox_send_to(\"galFilteredSimpleData.cys\", \"galFilteredSimpleData.cys\")['filePath']"
      ],
      "execution_count": 7,
      "outputs": []
    },
    {
      "cell_type": "code",
      "metadata": {
        "id": "mu7V_jAB1x_q",
        "outputId": "8e6c140f-ffaf-4e0c-cee3-8450562dce23",
        "colab": {
          "base_uri": "https://localhost:8080/",
          "height": 35
        }
      },
      "source": [
        "if run_in_cloud:\n",
        "  abs_file_name = os.path.abspath(file_name_cloud)\n",
        "else:\n",
        "  abs_file_name = os.path.abspath(file_name_local)\n",
        "abs_file_name"
      ],
      "execution_count": 8,
      "outputs": [
        {
          "output_type": "execute_result",
          "data": {
            "application/vnd.google.colaboratory.intrinsic+json": {
              "type": "string"
            },
            "text/plain": [
              "'/Users/yxin/CytoscapeConfiguration/filetransfer/default_sandbox/galFilteredSimpleData.cys'"
            ]
          },
          "metadata": {},
          "execution_count": 8
        }
      ]
    },
    {
      "cell_type": "code",
      "metadata": {
        "id": "8Fo-0JFZ1x_q"
      },
      "source": [
        "session_cmd_list = ['session','open','file=\"',abs_file_name,'\"']\n",
        "session_cmd = \" \".join(session_cmd_list)"
      ],
      "execution_count": 9,
      "outputs": []
    },
    {
      "cell_type": "code",
      "metadata": {
        "id": "U_JT5GT01x_q",
        "outputId": "5b63eb01-73b0-437e-dce2-f9535b77e18e",
        "colab": {
          "base_uri": "https://localhost:8080/"
        }
      },
      "source": [
        "p4c.commands.commands_run(session_cmd)"
      ],
      "execution_count": 10,
      "outputs": [
        {
          "output_type": "execute_result",
          "data": {
            "text/plain": [
              "[]"
            ]
          },
          "metadata": {},
          "execution_count": 10
        }
      ]
    },
    {
      "cell_type": "markdown",
      "metadata": {
        "id": "rLgiizFD1x_q"
      },
      "source": [
        "* When the network first opens, the entire network is not visible because of the default zoom factor used. To see the whole network, we can use the fit_content function."
      ]
    },
    {
      "cell_type": "code",
      "metadata": {
        "id": "qi0oDtDG1x_r",
        "outputId": "c32214d7-7ff2-4814-c765-8b6978e60c2b",
        "colab": {
          "base_uri": "https://localhost:8080/"
        }
      },
      "source": [
        "p4c.network_views.fit_content()"
      ],
      "execution_count": 11,
      "outputs": [
        {
          "output_type": "execute_result",
          "data": {
            "text/plain": [
              "{}"
            ]
          },
          "metadata": {},
          "execution_count": 11
        }
      ]
    },
    {
      "cell_type": "markdown",
      "metadata": {
        "id": "Axize1TT1x_r"
      },
      "source": [
        "# Label the Nodes\n",
        "* Zoom in on the network so that node labels are visible.\n",
        "* Check available column names."
      ]
    },
    {
      "cell_type": "code",
      "metadata": {
        "id": "uNZDeWMw1x_r",
        "outputId": "75c6c03d-8a4c-4516-88ad-9e41e458baeb",
        "colab": {
          "base_uri": "https://localhost:8080/"
        }
      },
      "source": [
        "p4c.tables.get_table_column_names('node')"
      ],
      "execution_count": 12,
      "outputs": [
        {
          "output_type": "execute_result",
          "data": {
            "text/plain": [
              "['SUID',\n",
              " 'shared name',\n",
              " 'name',\n",
              " 'selected',\n",
              " 'COMMON',\n",
              " 'gal1RGexp',\n",
              " 'gal4RGexp',\n",
              " 'gal80Rexp',\n",
              " 'gal1RGsig',\n",
              " 'gal4RGsig',\n",
              " 'gal80Rsig']"
            ]
          },
          "metadata": {},
          "execution_count": 12
        }
      ]
    },
    {
      "cell_type": "markdown",
      "metadata": {
        "id": "f0sFjDFh1x_r"
      },
      "source": [
        "* We are going to use the COMMON name attribute to give the nodes useful names:"
      ]
    },
    {
      "cell_type": "code",
      "metadata": {
        "id": "z4nI5kbx1x_r",
        "outputId": "6228d227-6375-461e-a9c8-65399e387ae2",
        "colab": {
          "base_uri": "https://localhost:8080/",
          "height": 53
        }
      },
      "source": [
        "p4c.style_mappings.set_node_label_mapping('COMMON')"
      ],
      "execution_count": 13,
      "outputs": [
        {
          "output_type": "stream",
          "name": "stdout",
          "text": [
            "style_name not specified, so updating \"default\" style.\n"
          ]
        },
        {
          "output_type": "execute_result",
          "data": {
            "application/vnd.google.colaboratory.intrinsic+json": {
              "type": "string"
            },
            "text/plain": [
              "''"
            ]
          },
          "metadata": {},
          "execution_count": 13
        }
      ]
    },
    {
      "cell_type": "markdown",
      "metadata": {
        "id": "t4Rp3d631x_s"
      },
      "source": [
        "* Verify that the node labels on the network have changed to their common names."
      ]
    },
    {
      "cell_type": "markdown",
      "metadata": {
        "id": "GSMi1CPX1x_s"
      },
      "source": [
        "# Color the nodes\n",
        "* Check available column names again"
      ]
    },
    {
      "cell_type": "code",
      "metadata": {
        "id": "8pOwDIat1x_s",
        "outputId": "aa23f248-d181-4d24-de5a-a35a1afd9e20",
        "colab": {
          "base_uri": "https://localhost:8080/"
        }
      },
      "source": [
        "p4c.tables.get_table_column_names('node')"
      ],
      "execution_count": 14,
      "outputs": [
        {
          "output_type": "execute_result",
          "data": {
            "text/plain": [
              "['SUID',\n",
              " 'shared name',\n",
              " 'name',\n",
              " 'selected',\n",
              " 'COMMON',\n",
              " 'gal1RGexp',\n",
              " 'gal4RGexp',\n",
              " 'gal80Rexp',\n",
              " 'gal1RGsig',\n",
              " 'gal4RGsig',\n",
              " 'gal80Rsig']"
            ]
          },
          "metadata": {},
          "execution_count": 14
        }
      ]
    },
    {
      "cell_type": "markdown",
      "metadata": {
        "id": "gDu2WND71x_s"
      },
      "source": [
        "* Check the expression value range of gal80Rexp\n"
      ]
    },
    {
      "cell_type": "code",
      "metadata": {
        "id": "0IlcLWxG1x_t",
        "outputId": "21992f5e-60ed-4b5d-a960-4ecc7c3752f5",
        "colab": {
          "base_uri": "https://localhost:8080/"
        }
      },
      "source": [
        "gal80rexp_score_table = p4c.tables.get_table_columns('node', 'gal80Rexp')\n",
        "gal80rexp_min = min(gal80rexp_score_table['gal80Rexp'])\n",
        "gal80rexp_max = max(gal80rexp_score_table['gal80Rexp'])\n",
        "print(gal80rexp_min)\n",
        "print(gal80rexp_max)"
      ],
      "execution_count": 15,
      "outputs": [
        {
          "output_type": "stream",
          "name": "stdout",
          "text": [
            "-1.373\n",
            "3.126\n"
          ]
        }
      ]
    },
    {
      "cell_type": "markdown",
      "metadata": {
        "id": "FxEDKugz1x_t"
      },
      "source": [
        "* The following produces a default gradient ranging from blue to red for expression values. Notice that the nodes in the network change color."
      ]
    },
    {
      "cell_type": "code",
      "metadata": {
        "id": "yluDqEil1x_t",
        "outputId": "8c6a6b20-5645-4d7b-bb0b-9809f1a45f50",
        "colab": {
          "base_uri": "https://localhost:8080/",
          "height": 53
        }
      },
      "source": [
        "p4c.style_mappings.set_node_color_mapping('gal80Rexp', [gal80rexp_min, 0, gal80rexp_max], ['#0000FF', '#FFFFFF', '#FF0000'])"
      ],
      "execution_count": 16,
      "outputs": [
        {
          "output_type": "stream",
          "name": "stdout",
          "text": [
            "style_name not specified, so updating \"default\" style.\n"
          ]
        },
        {
          "output_type": "execute_result",
          "data": {
            "application/vnd.google.colaboratory.intrinsic+json": {
              "type": "string"
            },
            "text/plain": [
              "''"
            ]
          },
          "metadata": {},
          "execution_count": 16
        }
      ]
    },
    {
      "cell_type": "markdown",
      "metadata": {
        "id": "w42ilmyN1x_t"
      },
      "source": [
        "# Set the Default Node Color\n",
        "Note that the default node color of pale blue is close to the color range in the created palette. A useful trick is to choose a color outside this spectrum to distinguish nodes with no defined expression value and those with slight repression.\n",
        "\n",
        "* Here we choose a dark gray color for default node color."
      ]
    },
    {
      "cell_type": "code",
      "metadata": {
        "id": "oy6_ibaQ1x_u",
        "outputId": "bc057d3c-15f3-4406-aaf0-335a9c6916df",
        "colab": {
          "base_uri": "https://localhost:8080/",
          "height": 53
        }
      },
      "source": [
        "p4c.style_defaults.set_node_color_default('#A9A9A9')"
      ],
      "execution_count": 17,
      "outputs": [
        {
          "output_type": "stream",
          "name": "stdout",
          "text": [
            "style_name not specified, so updating \"default\" style.\n"
          ]
        },
        {
          "output_type": "execute_result",
          "data": {
            "application/vnd.google.colaboratory.intrinsic+json": {
              "type": "string"
            },
            "text/plain": [
              "''"
            ]
          },
          "metadata": {},
          "execution_count": 17
        }
      ]
    },
    {
      "cell_type": "markdown",
      "metadata": {
        "id": "jwwv0Zpk1x_u"
      },
      "source": [
        "* Zoom out on the network view to verify that a few nodes have been colored gray.\n"
      ]
    },
    {
      "cell_type": "code",
      "metadata": {
        "id": "FPwe20TG1x_u",
        "outputId": "52cf9917-889c-4233-f1f2-cc8f63c7bab7",
        "colab": {
          "base_uri": "https://localhost:8080/"
        }
      },
      "source": [
        "p4c.network_views.fit_content()"
      ],
      "execution_count": 18,
      "outputs": [
        {
          "output_type": "execute_result",
          "data": {
            "text/plain": [
              "{}"
            ]
          },
          "metadata": {},
          "execution_count": 18
        }
      ]
    },
    {
      "cell_type": "markdown",
      "metadata": {
        "id": "1dYrlaiq1x_u"
      },
      "source": [
        "# Set the Node Shape\n",
        "We imported both expression measurement values and corresponding significance values. We can use the significance values to change the shape of the nodes so that measurements we have confidence in appear as squares while potentially bad measurements appear as circles.\n",
        "\n",
        "The following code maps the node with gal80Rsig value less than 0.05 to RECTANGLE shape, with greater than 0.05 to ELLIPSE shape."
      ]
    },
    {
      "cell_type": "code",
      "metadata": {
        "id": "bsvtGZc-1x_u",
        "outputId": "db230f8d-0a0a-4ebd-93fa-148c69d4da88",
        "colab": {
          "base_uri": "https://localhost:8080/",
          "height": 35
        }
      },
      "source": [
        "p4c.style_mappings.update_style_mapping('default', p4c.style_mappings.map_visual_property('node shape', 'gal80Rsig', 'c', [0, 0.05, 1.00], ['rectangle', 'rectangle', 'ellipse']))"
      ],
      "execution_count": 19,
      "outputs": [
        {
          "output_type": "execute_result",
          "data": {
            "application/vnd.google.colaboratory.intrinsic+json": {
              "type": "string"
            },
            "text/plain": [
              "''"
            ]
          },
          "metadata": {},
          "execution_count": 19
        }
      ]
    },
    {
      "cell_type": "markdown",
      "metadata": {
        "id": "21OqnJAS1x_u"
      },
      "source": [
        "* Verify that some nodes now have a square shape."
      ]
    },
    {
      "cell_type": "markdown",
      "metadata": {
        "id": "NAzyKsyi1x_u"
      },
      "source": [
        "# Fun with Charts\n",
        "In addition to coloring the nodes, Cytoscape also provides the ability to draw charts and graphs on each node. For example, suppose we wanted to display a bar chart showing all of the expression values on each of our nodes?\n",
        "\n",
        "* To reset things a little, remove the mapping for Fill Color by"
      ]
    },
    {
      "cell_type": "code",
      "metadata": {
        "id": "eB6boC6e1x_v",
        "outputId": "30af7f91-f94e-43fe-a19f-f5fc35668b88",
        "colab": {
          "base_uri": "https://localhost:8080/"
        }
      },
      "source": [
        "p4c.styles.get_visual_property_names()"
      ],
      "execution_count": 20,
      "outputs": [
        {
          "output_type": "execute_result",
          "data": {
            "text/plain": [
              "['COMPOUND_NODE_PADDING',\n",
              " 'COMPOUND_NODE_SHAPE',\n",
              " 'DING_RENDERING_ENGINE_ROOT',\n",
              " 'EDGE',\n",
              " 'EDGE_BEND',\n",
              " 'EDGE_CURVED',\n",
              " 'EDGE_LABEL',\n",
              " 'EDGE_LABEL_COLOR',\n",
              " 'EDGE_LABEL_FONT_FACE',\n",
              " 'EDGE_LABEL_FONT_SIZE',\n",
              " 'EDGE_LABEL_ROTATION',\n",
              " 'EDGE_LABEL_TRANSPARENCY',\n",
              " 'EDGE_LABEL_WIDTH',\n",
              " 'EDGE_LINE_TYPE',\n",
              " 'EDGE_PAINT',\n",
              " 'EDGE_SELECTED',\n",
              " 'EDGE_SELECTED_PAINT',\n",
              " 'EDGE_SOURCE_ARROW_SELECTED_PAINT',\n",
              " 'EDGE_SOURCE_ARROW_SHAPE',\n",
              " 'EDGE_SOURCE_ARROW_SIZE',\n",
              " 'EDGE_SOURCE_ARROW_UNSELECTED_PAINT',\n",
              " 'EDGE_STACKING',\n",
              " 'EDGE_STACKING_DENSITY',\n",
              " 'EDGE_STROKE_SELECTED_PAINT',\n",
              " 'EDGE_STROKE_UNSELECTED_PAINT',\n",
              " 'EDGE_TARGET_ARROW_SELECTED_PAINT',\n",
              " 'EDGE_TARGET_ARROW_SHAPE',\n",
              " 'EDGE_TARGET_ARROW_SIZE',\n",
              " 'EDGE_TARGET_ARROW_UNSELECTED_PAINT',\n",
              " 'EDGE_TOOLTIP',\n",
              " 'EDGE_TRANSPARENCY',\n",
              " 'EDGE_UNSELECTED_PAINT',\n",
              " 'EDGE_VISIBLE',\n",
              " 'EDGE_WIDTH',\n",
              " 'EDGE_Z_ORDER',\n",
              " 'NETWORK',\n",
              " 'NETWORK_ANNOTATION_SELECTION',\n",
              " 'NETWORK_BACKGROUND_PAINT',\n",
              " 'NETWORK_CENTER_X_LOCATION',\n",
              " 'NETWORK_CENTER_Y_LOCATION',\n",
              " 'NETWORK_CENTER_Z_LOCATION',\n",
              " 'NETWORK_DEPTH',\n",
              " 'NETWORK_EDGE_SELECTION',\n",
              " 'NETWORK_FORCE_HIGH_DETAIL',\n",
              " 'NETWORK_HEIGHT',\n",
              " 'NETWORK_NODE_LABEL_SELECTION',\n",
              " 'NETWORK_NODE_SELECTION',\n",
              " 'NETWORK_SCALE_FACTOR',\n",
              " 'NETWORK_SIZE',\n",
              " 'NETWORK_TITLE',\n",
              " 'NETWORK_WIDTH',\n",
              " 'NODE',\n",
              " 'NODE_BORDER_PAINT',\n",
              " 'NODE_BORDER_STROKE',\n",
              " 'NODE_BORDER_TRANSPARENCY',\n",
              " 'NODE_BORDER_WIDTH',\n",
              " 'NODE_CUSTOMGRAPHICS_1',\n",
              " 'NODE_CUSTOMGRAPHICS_2',\n",
              " 'NODE_CUSTOMGRAPHICS_3',\n",
              " 'NODE_CUSTOMGRAPHICS_4',\n",
              " 'NODE_CUSTOMGRAPHICS_5',\n",
              " 'NODE_CUSTOMGRAPHICS_6',\n",
              " 'NODE_CUSTOMGRAPHICS_7',\n",
              " 'NODE_CUSTOMGRAPHICS_8',\n",
              " 'NODE_CUSTOMGRAPHICS_9',\n",
              " 'NODE_CUSTOMGRAPHICS_POSITION_1',\n",
              " 'NODE_CUSTOMGRAPHICS_POSITION_2',\n",
              " 'NODE_CUSTOMGRAPHICS_POSITION_3',\n",
              " 'NODE_CUSTOMGRAPHICS_POSITION_4',\n",
              " 'NODE_CUSTOMGRAPHICS_POSITION_5',\n",
              " 'NODE_CUSTOMGRAPHICS_POSITION_6',\n",
              " 'NODE_CUSTOMGRAPHICS_POSITION_7',\n",
              " 'NODE_CUSTOMGRAPHICS_POSITION_8',\n",
              " 'NODE_CUSTOMGRAPHICS_POSITION_9',\n",
              " 'NODE_CUSTOMGRAPHICS_SIZE_1',\n",
              " 'NODE_CUSTOMGRAPHICS_SIZE_2',\n",
              " 'NODE_CUSTOMGRAPHICS_SIZE_3',\n",
              " 'NODE_CUSTOMGRAPHICS_SIZE_4',\n",
              " 'NODE_CUSTOMGRAPHICS_SIZE_5',\n",
              " 'NODE_CUSTOMGRAPHICS_SIZE_6',\n",
              " 'NODE_CUSTOMGRAPHICS_SIZE_7',\n",
              " 'NODE_CUSTOMGRAPHICS_SIZE_8',\n",
              " 'NODE_CUSTOMGRAPHICS_SIZE_9',\n",
              " 'NODE_CUSTOMPAINT_1',\n",
              " 'NODE_CUSTOMPAINT_2',\n",
              " 'NODE_CUSTOMPAINT_3',\n",
              " 'NODE_CUSTOMPAINT_4',\n",
              " 'NODE_CUSTOMPAINT_5',\n",
              " 'NODE_CUSTOMPAINT_6',\n",
              " 'NODE_CUSTOMPAINT_7',\n",
              " 'NODE_CUSTOMPAINT_8',\n",
              " 'NODE_CUSTOMPAINT_9',\n",
              " 'NODE_DEPTH',\n",
              " 'NODE_FILL_COLOR',\n",
              " 'NODE_HEIGHT',\n",
              " 'NODE_LABEL',\n",
              " 'NODE_LABEL_COLOR',\n",
              " 'NODE_LABEL_FONT_FACE',\n",
              " 'NODE_LABEL_FONT_SIZE',\n",
              " 'NODE_LABEL_POSITION',\n",
              " 'NODE_LABEL_ROTATION',\n",
              " 'NODE_LABEL_TRANSPARENCY',\n",
              " 'NODE_LABEL_WIDTH',\n",
              " 'NODE_NESTED_NETWORK_IMAGE_VISIBLE',\n",
              " 'NODE_PAINT',\n",
              " 'NODE_SELECTED',\n",
              " 'NODE_SELECTED_PAINT',\n",
              " 'NODE_SHAPE',\n",
              " 'NODE_SIZE',\n",
              " 'NODE_TOOLTIP',\n",
              " 'NODE_TRANSPARENCY',\n",
              " 'NODE_VISIBLE',\n",
              " 'NODE_WIDTH',\n",
              " 'NODE_X_LOCATION',\n",
              " 'NODE_Y_LOCATION',\n",
              " 'NODE_Z_LOCATION']"
            ]
          },
          "metadata": {},
          "execution_count": 20
        }
      ]
    },
    {
      "cell_type": "code",
      "metadata": {
        "id": "2djDxMTY1x_v",
        "outputId": "7390407f-f2c8-4110-f43d-af5ec76653b3",
        "colab": {
          "base_uri": "https://localhost:8080/",
          "height": 35
        }
      },
      "source": [
        "p4c.style_mappings.delete_style_mapping(\"default\", \"NODE_FILL_COLOR\")"
      ],
      "execution_count": 21,
      "outputs": [
        {
          "output_type": "execute_result",
          "data": {
            "application/vnd.google.colaboratory.intrinsic+json": {
              "type": "string"
            },
            "text/plain": [
              "''"
            ]
          },
          "metadata": {},
          "execution_count": 21
        }
      ]
    },
    {
      "cell_type": "markdown",
      "metadata": {
        "id": "EVOnOtw71x_v"
      },
      "source": [
        "* Now change the default value to a lighter shade of grey so we can see our chart.\n"
      ]
    },
    {
      "cell_type": "code",
      "metadata": {
        "id": "Rh431Vxz1x_v",
        "outputId": "531ca36f-2060-4766-cbc6-c22539d1223b",
        "colab": {
          "base_uri": "https://localhost:8080/",
          "height": 53
        }
      },
      "source": [
        "p4c.style_defaults.set_node_color_default('#D3D3D3')"
      ],
      "execution_count": 22,
      "outputs": [
        {
          "output_type": "stream",
          "name": "stdout",
          "text": [
            "style_name not specified, so updating \"default\" style.\n"
          ]
        },
        {
          "output_type": "execute_result",
          "data": {
            "application/vnd.google.colaboratory.intrinsic+json": {
              "type": "string"
            },
            "text/plain": [
              "''"
            ]
          },
          "metadata": {},
          "execution_count": 22
        }
      ]
    },
    {
      "cell_type": "markdown",
      "metadata": {
        "id": "PF5H9KHG1x_v"
      },
      "source": [
        "* The following indicates that we’re going to use the data from these three columns expression data (gal1RGexp, gal4RGexp, gal80Rexp) to create bar chart."
      ]
    },
    {
      "cell_type": "code",
      "metadata": {
        "id": "VzHXQYFI1x_w",
        "outputId": "d0c68e3a-a4cc-49e6-9ec7-ee1df1df15d1",
        "colab": {
          "base_uri": "https://localhost:8080/",
          "height": 53
        }
      },
      "source": [
        "p4c.style_defaults.set_node_custom_bar_chart([\"gal1RGexp\", \"gal4RGexp\", \"gal80Rexp\"])"
      ],
      "execution_count": 23,
      "outputs": [
        {
          "output_type": "stream",
          "name": "stdout",
          "text": [
            "style_name not specified, so updating \"default\" style.\n"
          ]
        },
        {
          "output_type": "execute_result",
          "data": {
            "application/vnd.google.colaboratory.intrinsic+json": {
              "type": "string"
            },
            "text/plain": [
              "''"
            ]
          },
          "metadata": {},
          "execution_count": 23
        }
      ]
    }
  ]
}