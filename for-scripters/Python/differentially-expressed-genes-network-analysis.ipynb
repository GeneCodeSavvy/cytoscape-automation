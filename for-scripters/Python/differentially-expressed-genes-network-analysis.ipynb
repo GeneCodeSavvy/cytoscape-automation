{
  "nbformat": 4,
  "nbformat_minor": 0,
  "metadata": {
    "kernelspec": {
      "display_name": "Python 3",
      "language": "python",
      "name": "python3"
    },
    "language_info": {
      "codemirror_mode": {
        "name": "ipython",
        "version": 3
      },
      "file_extension": ".py",
      "mimetype": "text/x-python",
      "name": "python",
      "nbconvert_exporter": "python",
      "pygments_lexer": "ipython3",
      "version": "3.8.5"
    },
    "colab": {
      "name": "differentially-expressed-genes-network-analysis.ipynb",
      "provenance": [],
      "include_colab_link": true
    }
  },
  "cells": [
    {
      "cell_type": "markdown",
      "metadata": {
        "id": "view-in-github",
        "colab_type": "text"
      },
      "source": [
        "<a href=\"https://colab.research.google.com/github/cytoscape/cytoscape-automation/blob/master/for-scripters/Python/differentially-expressed-genes-network-analysis.ipynb\" target=\"_parent\"><img src=\"https://colab.research.google.com/assets/colab-badge.svg\" alt=\"Open In Colab\"/></a>"
      ]
    },
    {
      "cell_type": "markdown",
      "metadata": {
        "id": "2i67jVhtyUfg"
      },
      "source": [
        "# Differentially Expressed Genes Network Analysis\n",
        "## Yihang Xin and Alex Pico\n",
        "## 2020-11-24"
      ]
    },
    {
      "cell_type": "markdown",
      "metadata": {
        "id": "Hx5kEMKoyUfj"
      },
      "source": [
        "This protocol describes a network analysis workflow in Cytoscape for a set of differentially expressed genes. Points covered:\n",
        "\n",
        "* Retrieving relevant networks from public databases\n",
        "* Network functional enrichment analysis\n",
        "* Integration and visualization of experimental data\n",
        "* Exporting network visualizations\n",
        "\n",
        "You can also install app inside Python notebook by running \"py4cytoscape.install_app('Your App')\""
      ]
    },
    {
      "cell_type": "markdown",
      "metadata": {
        "id": "6oeD6_62yUfj"
      },
      "source": [
        "# Installation\n",
        "The following chunk of code installs the `py4cytoscape` module."
      ]
    },
    {
      "cell_type": "code",
      "metadata": {
        "id": "VW8pUTntyUfk"
      },
      "source": [
        "%%capture\n",
        "!python3 -m pip install python-igraph requests pandas networkx\n",
        "!python3 -m pip install py4cytoscape"
      ],
      "execution_count": null,
      "outputs": []
    },
    {
      "cell_type": "markdown",
      "metadata": {
        "id": "pNUFqWsTyY6g"
      },
      "source": [
        "If you are using a remote notebook environment such as Google Colab, please execute the cell below. (If you're running on your local notebook, you don't need to do that.)\n",
        "\n"
      ]
    },
    {
      "cell_type": "code",
      "metadata": {
        "id": "ZZOX9Ft_ybdp"
      },
      "source": [
        "import requests\n",
        "exec(requests.get(\"https://raw.githubusercontent.com/cytoscape/jupyter-bridge/master/client/p4c_init.py\").text)\n",
        "IPython.display.Javascript(_PY4CYTOSCAPE_BROWSER_CLIENT_JS) # Start browser client"
      ],
      "execution_count": null,
      "outputs": []
    },
    {
      "cell_type": "markdown",
      "metadata": {
        "id": "jspL0gkpyUfk"
      },
      "source": [
        "# Prerequisites\n",
        "## In addition to this package (py4cytoscape latest version 0.0.9), you will need:\n",
        "\n",
        "* Latest version of Cytoscape, which can be downloaded from https://cytoscape.org/download.html. Simply follow the installation instructions on screen.\n",
        "* Complete installation wizard\n",
        "* Launch Cytoscape\n",
        "\n",
        "For this vignette, you’ll also need the STRING app. \n",
        "\n",
        "Install the STRING app from https://apps.cytoscape.org/apps/stringapp\n",
        "\n",
        "Install the filetransfer app from https://apps.cytoscape.org/apps/filetransfer\n",
        "\n",
        "You can also install app inside Python notebook by running py4cytoscape.install_app('Your App')"
      ]
    },
    {
      "cell_type": "markdown",
      "metadata": {
        "id": "8O9d9lJmyUfl"
      },
      "source": [
        "# Background\n",
        "Ovarian serous cystadenocarcinoma is a type of epithelial ovarian cancer which accounts for ~90% of all ovarian cancers. The data used in this protocol are from The Cancer Genome Atlas, in which multiple subtypes of serous cystadenocarcinoma were identified and characterized by mRNA expression.\n",
        "\n",
        "We will focus on the differential gene expression between two subtypes, Mesenchymal and Immunoreactive.\n",
        "\n",
        "For convenience, the data has already been analyzed and pre-filtered, using log fold change value and adjusted p-value.\n",
        "\n"
      ]
    },
    {
      "cell_type": "markdown",
      "metadata": {
        "id": "rtXAvbvyyUfl"
      },
      "source": [
        "# Network Retrieval\n",
        "Many public databases and multiple Cytoscape apps allow you to retrieve a network or pathway relevant to your data. For this workflow, we will use the STRING app. Some other options include:\n",
        "\n",
        "* WikiPathways\n",
        "* NDEx\n",
        "* GeneMANIA\n"
      ]
    },
    {
      "cell_type": "markdown",
      "metadata": {
        "id": "_2iFA37jyUfm"
      },
      "source": [
        "# Retrieve Networks from STRING\n",
        "To identify a relevant network, we will query the STRING database in two different ways:\n",
        "\n",
        "* Query STRING protein with the list of differentially expressed genes.\n",
        "* Query STRING disease for a keyword; ovarian cancer.\n",
        "The two examples are split into two separate workflows below."
      ]
    },
    {
      "cell_type": "markdown",
      "metadata": {
        "id": "o0pp80dKyUfm"
      },
      "source": [
        "# Import the required package"
      ]
    },
    {
      "cell_type": "code",
      "metadata": {
        "id": "n7uqBF78yUfn"
      },
      "source": [
        "import os\n",
        "import sys\n",
        "import pandas as pd\n",
        "import py4cytoscape as p4c\n",
        "pd.options.mode.chained_assignment = None"
      ],
      "execution_count": null,
      "outputs": []
    },
    {
      "cell_type": "markdown",
      "metadata": {
        "id": "SPlniYhVyUfn"
      },
      "source": [
        "# Setup Cytoscape"
      ]
    },
    {
      "cell_type": "code",
      "metadata": {
        "id": "oIz5cN2RyUfn",
        "outputId": "c1515268-6ea4-4d9e-8702-dc3d1fff6aff"
      },
      "source": [
        "p4c.cytoscape_version_info()"
      ],
      "execution_count": null,
      "outputs": [
        {
          "output_type": "execute_result",
          "data": {
            "text/plain": [
              "{'apiVersion': 'v1',\n",
              " 'cytoscapeVersion': '3.8.2',\n",
              " 'automationAPIVersion': '1.0.0',\n",
              " 'py4cytoscapeVersion': '0.0.7'}"
            ]
          },
          "metadata": {
            "tags": []
          },
          "execution_count": 3
        }
      ]
    },
    {
      "cell_type": "markdown",
      "metadata": {
        "id": "LwiLKk-KyUfo"
      },
      "source": [
        "# Example 1: STRING Protein Query Up-regulated Genes"
      ]
    },
    {
      "cell_type": "markdown",
      "metadata": {
        "id": "bx2-aMGqyUfp"
      },
      "source": [
        "* Load the file containing the data for up-regulated genes, TCGA-Ovarian-MesenvsImmuno_UP_full.csv:\n"
      ]
    },
    {
      "cell_type": "code",
      "metadata": {
        "id": "iRfofkrZyUfp",
        "outputId": "3961045c-4201-4ebb-f920-9fba79e3474f"
      },
      "source": [
        "tcga_url = 'https://raw.githubusercontent.com/cytoscape/cytoscape-tutorials/gh-pages/protocols/data/TCGA-Ovarian-MesenvsImmuno-data-up.csv'\n",
        "tcga_df = pd.read_csv(tcga_url, sep = \"\\t\")\n",
        "tcga_df.head()"
      ],
      "execution_count": null,
      "outputs": [
        {
          "output_type": "execute_result",
          "data": {
            "text/html": [
              "<div>\n",
              "<style scoped>\n",
              "    .dataframe tbody tr th:only-of-type {\n",
              "        vertical-align: middle;\n",
              "    }\n",
              "\n",
              "    .dataframe tbody tr th {\n",
              "        vertical-align: top;\n",
              "    }\n",
              "\n",
              "    .dataframe thead th {\n",
              "        text-align: right;\n",
              "    }\n",
              "</style>\n",
              "<table border=\"1\" class=\"dataframe\">\n",
              "  <thead>\n",
              "    <tr style=\"text-align: right;\">\n",
              "      <th></th>\n",
              "      <th>Gene</th>\n",
              "      <th>logFC</th>\n",
              "      <th>FDR adjusted Pvalue</th>\n",
              "    </tr>\n",
              "  </thead>\n",
              "  <tbody>\n",
              "    <tr>\n",
              "      <th>0</th>\n",
              "      <td>9543</td>\n",
              "      <td>6.086663</td>\n",
              "      <td>7.110000e-33</td>\n",
              "    </tr>\n",
              "    <tr>\n",
              "      <th>1</th>\n",
              "      <td>165</td>\n",
              "      <td>2.119808</td>\n",
              "      <td>3.260000e-30</td>\n",
              "    </tr>\n",
              "    <tr>\n",
              "      <th>2</th>\n",
              "      <td>2200</td>\n",
              "      <td>2.110410</td>\n",
              "      <td>1.210000e-29</td>\n",
              "    </tr>\n",
              "    <tr>\n",
              "      <th>3</th>\n",
              "      <td>1307</td>\n",
              "      <td>1.870070</td>\n",
              "      <td>2.530000e-29</td>\n",
              "    </tr>\n",
              "    <tr>\n",
              "      <th>4</th>\n",
              "      <td>633</td>\n",
              "      <td>1.863731</td>\n",
              "      <td>2.530000e-29</td>\n",
              "    </tr>\n",
              "  </tbody>\n",
              "</table>\n",
              "</div>"
            ],
            "text/plain": [
              "   Gene     logFC  FDR adjusted Pvalue\n",
              "0  9543  6.086663         7.110000e-33\n",
              "1   165  2.119808         3.260000e-30\n",
              "2  2200  2.110410         1.210000e-29\n",
              "3  1307  1.870070         2.530000e-29\n",
              "4   633  1.863731         2.530000e-29"
            ]
          },
          "metadata": {
            "tags": []
          },
          "execution_count": 4
        }
      ]
    },
    {
      "cell_type": "markdown",
      "metadata": {
        "id": "SzJRAohGyUfp"
      },
      "source": [
        "* We will use the identifiers in the first column of this datafile to run a STRING protein query, with confidence (score) cutoff of 0.4:"
      ]
    },
    {
      "cell_type": "code",
      "metadata": {
        "id": "FdcrkeNEyUfp"
      },
      "source": [
        "tcga_str = ','.join(str(v) for v in tcga_df[\"Gene\"])"
      ],
      "execution_count": null,
      "outputs": []
    },
    {
      "cell_type": "code",
      "metadata": {
        "id": "rQzBgzIVyUfq"
      },
      "source": [
        "string_cmd_list = ['string protein query','query=\"',tcga_str,'\"', 'species=\"Homo sapiens\"', 'cutoff=0.4']"
      ],
      "execution_count": null,
      "outputs": []
    },
    {
      "cell_type": "code",
      "metadata": {
        "id": "nHbm62tpyUfq"
      },
      "source": [
        "string_cmd = \" \".join(string_cmd_list)"
      ],
      "execution_count": null,
      "outputs": []
    },
    {
      "cell_type": "code",
      "metadata": {
        "id": "4NYxBVHkyUfq",
        "outputId": "92a787b9-1e80-4a4e-f20e-06215a641110"
      },
      "source": [
        "p4c.commands.commands_run(string_cmd)"
      ],
      "execution_count": null,
      "outputs": [
        {
          "output_type": "execute_result",
          "data": {
            "text/plain": [
              "[\"Loaded network 'String Network' with 202 nodes and 919 edges\"]"
            ]
          },
          "metadata": {
            "tags": []
          },
          "execution_count": 8
        }
      ]
    },
    {
      "cell_type": "markdown",
      "metadata": {
        "id": "MtsDIPcGyUfq"
      },
      "source": [
        "The resulting network will load automatically and contains up-regulated genes recognized by STRING, and interactions between them with an evidence score of 0.4 or greater."
      ]
    },
    {
      "cell_type": "markdown",
      "metadata": {
        "id": "sKqRM981yUfq"
      },
      "source": [
        "We will select only the connected nodes to work with for the rest of this tutorial, by creating a subnetwork based on all edges:"
      ]
    },
    {
      "cell_type": "code",
      "metadata": {
        "id": "A25k8p6jyUfr",
        "outputId": "6c836126-63d0-496d-dcf5-9e853b43e10b"
      },
      "source": [
        "p4c.create_subnetwork(edges='all', subnetwork_name='String de genes up')"
      ],
      "execution_count": null,
      "outputs": [
        {
          "output_type": "execute_result",
          "data": {
            "text/plain": [
              "2331"
            ]
          },
          "metadata": {
            "tags": []
          },
          "execution_count": 9
        }
      ]
    },
    {
      "cell_type": "markdown",
      "metadata": {
        "id": "V-s_7-i6yUfr"
      },
      "source": [
        "# Data Integration\n",
        "Next we will import log fold changes and p-values from our TCGA dataset to create a visualization. Since the STRING network is a protein-protein network, it is annotated with protein identifiers (Uniprot and Ensembl protein), as well as HGNC gene symbols. Our data from TCGA has NCBI Gene identifiers (formerly Entrez), so before importing the data we are going to use the ID Mapper functionality in Cytoscape to map the network to NCBI Gene."
      ]
    },
    {
      "cell_type": "code",
      "metadata": {
        "id": "XVe_nFK8yUfr"
      },
      "source": [
        "mapped_cols = p4c.map_table_column('display name', 'Human', 'HGNC', 'Entrez Gene')"
      ],
      "execution_count": null,
      "outputs": []
    },
    {
      "cell_type": "code",
      "metadata": {
        "id": "E24iOOhIyUfr",
        "outputId": "bd794cad-8282-4d57-eaad-0ecf6519b454"
      },
      "source": [
        "full_url = 'https://raw.githubusercontent.com/cytoscape/cytoscape-tutorials/gh-pages/protocols/data/TCGA-Ovarian-MesenvsImmuno_data.csv'\n",
        "full_df = pd.read_csv(full_url,  dtype={'Gene':str})\n",
        "full_df.head()"
      ],
      "execution_count": null,
      "outputs": [
        {
          "output_type": "execute_result",
          "data": {
            "text/html": [
              "<div>\n",
              "<style scoped>\n",
              "    .dataframe tbody tr th:only-of-type {\n",
              "        vertical-align: middle;\n",
              "    }\n",
              "\n",
              "    .dataframe tbody tr th {\n",
              "        vertical-align: top;\n",
              "    }\n",
              "\n",
              "    .dataframe thead th {\n",
              "        text-align: right;\n",
              "    }\n",
              "</style>\n",
              "<table border=\"1\" class=\"dataframe\">\n",
              "  <thead>\n",
              "    <tr style=\"text-align: right;\">\n",
              "      <th></th>\n",
              "      <th>Gene</th>\n",
              "      <th>logFC</th>\n",
              "      <th>FDR adjusted Pvalue</th>\n",
              "    </tr>\n",
              "  </thead>\n",
              "  <tbody>\n",
              "    <tr>\n",
              "      <th>0</th>\n",
              "      <td>9543</td>\n",
              "      <td>6.086663</td>\n",
              "      <td>7.110000e-33</td>\n",
              "    </tr>\n",
              "    <tr>\n",
              "      <th>1</th>\n",
              "      <td>84168</td>\n",
              "      <td>1.647298</td>\n",
              "      <td>2.520000e-32</td>\n",
              "    </tr>\n",
              "    <tr>\n",
              "      <th>2</th>\n",
              "      <td>165</td>\n",
              "      <td>2.119808</td>\n",
              "      <td>3.260000e-30</td>\n",
              "    </tr>\n",
              "    <tr>\n",
              "      <th>3</th>\n",
              "      <td>23452</td>\n",
              "      <td>1.548527</td>\n",
              "      <td>1.180000e-29</td>\n",
              "    </tr>\n",
              "    <tr>\n",
              "      <th>4</th>\n",
              "      <td>2200</td>\n",
              "      <td>2.110410</td>\n",
              "      <td>1.210000e-29</td>\n",
              "    </tr>\n",
              "  </tbody>\n",
              "</table>\n",
              "</div>"
            ],
            "text/plain": [
              "    Gene     logFC  FDR adjusted Pvalue\n",
              "0   9543  6.086663         7.110000e-33\n",
              "1  84168  1.647298         2.520000e-32\n",
              "2    165  2.119808         3.260000e-30\n",
              "3  23452  1.548527         1.180000e-29\n",
              "4   2200  2.110410         1.210000e-29"
            ]
          },
          "metadata": {
            "tags": []
          },
          "execution_count": 11
        }
      ]
    },
    {
      "cell_type": "code",
      "metadata": {
        "id": "5Wzc2miNyUfr",
        "outputId": "00ae2885-7cea-46e3-c389-88ca58af4756"
      },
      "source": [
        "p4c.load_table_data(full_df, data_key_column='Gene', table_key_column='Entrez Gene')"
      ],
      "execution_count": null,
      "outputs": [
        {
          "output_type": "execute_result",
          "data": {
            "text/plain": [
              "'Success: Data loaded in defaultnode table'"
            ]
          },
          "metadata": {
            "tags": []
          },
          "execution_count": 12
        }
      ]
    },
    {
      "cell_type": "code",
      "metadata": {
        "id": "TIh1b5ZfyUfs",
        "outputId": "45209462-6bf4-492f-cb42-9f1e715e7041"
      },
      "source": [
        "p4c.get_table_column_names('node')"
      ],
      "execution_count": null,
      "outputs": [
        {
          "output_type": "execute_result",
          "data": {
            "text/plain": [
              "['SUID',\n",
              " 'shared name',\n",
              " 'stringdb::canonical name',\n",
              " 'display name',\n",
              " 'stringdb::full name',\n",
              " 'stringdb::database identifier',\n",
              " 'stringdb::description',\n",
              " '@id',\n",
              " 'stringdb::namespace',\n",
              " 'stringdb::node type',\n",
              " 'query term',\n",
              " 'stringdb::sequence',\n",
              " 'stringdb::species',\n",
              " 'stringdb::STRING style',\n",
              " 'stringdb::enhancedLabel Passthrough',\n",
              " 'compartment::cytoskeleton',\n",
              " 'compartment::cytosol',\n",
              " 'compartment::endoplasmic reticulum',\n",
              " 'compartment::endosome',\n",
              " 'compartment::extracellular',\n",
              " 'compartment::golgi apparatus',\n",
              " 'compartment::lysosome',\n",
              " 'compartment::mitochondrion',\n",
              " 'compartment::nucleus',\n",
              " 'compartment::peroxisome',\n",
              " 'compartment::plasma membrane',\n",
              " 'stringdb::interactor score',\n",
              " 'stringdb::structures',\n",
              " 'target::development level',\n",
              " 'target::family',\n",
              " 'tissue::adrenal gland',\n",
              " 'tissue::blood',\n",
              " 'tissue::bone',\n",
              " 'tissue::bone marrow',\n",
              " 'tissue::eye',\n",
              " 'tissue::gall bladder',\n",
              " 'tissue::heart',\n",
              " 'tissue::intestine',\n",
              " 'tissue::kidney',\n",
              " 'tissue::liver',\n",
              " 'tissue::lung',\n",
              " 'tissue::muscle',\n",
              " 'tissue::nervous system',\n",
              " 'tissue::pancreas',\n",
              " 'tissue::saliva',\n",
              " 'tissue::skin',\n",
              " 'tissue::spleen',\n",
              " 'tissue::stomach',\n",
              " 'tissue::thyroid gland',\n",
              " 'tissue::urine',\n",
              " 'name',\n",
              " 'selected',\n",
              " 'Entrez Gene',\n",
              " 'Gene',\n",
              " 'logFC',\n",
              " 'FDR adjusted Pvalue']"
            ]
          },
          "metadata": {
            "tags": []
          },
          "execution_count": 13
        }
      ]
    },
    {
      "cell_type": "markdown",
      "metadata": {
        "id": "kyDC6lhdyUfs"
      },
      "source": [
        "# Visualization\n",
        "Next, we will create a visualization of the imported data on the network."
      ]
    },
    {
      "cell_type": "code",
      "metadata": {
        "id": "-9YOeUzpyUfu",
        "outputId": "9b6d2b8f-bdff-46d0-f18b-20027cebc8a0"
      },
      "source": [
        "p4c.set_visual_style('default')\n",
        "p4c.set_node_shape_default('ELLIPSE', style_name='default')\n",
        "p4c.lock_node_dimensions(True, style_name='default')\n",
        "p4c.set_node_size_default(50, style_name='default')\n",
        "p4c.set_node_color_default('#D3D3D3', style_name='default')\n",
        "p4c.set_node_border_width_default(2, style_name='default')\n",
        "p4c.set_node_color_default('#616060', style_name='default')\n",
        "p4c.set_node_label_mapping('display name', style_name='default')\n",
        "p4c.set_node_font_size_default(14, style_name='default')"
      ],
      "execution_count": null,
      "outputs": [
        {
          "output_type": "execute_result",
          "data": {
            "text/plain": [
              "''"
            ]
          },
          "metadata": {
            "tags": []
          },
          "execution_count": 14
        }
      ]
    },
    {
      "cell_type": "markdown",
      "metadata": {
        "id": "qXjDrg1LyUfv"
      },
      "source": [
        "Before we create a mapping for node color representing the range of fold changes, we need the min and max of the logFC column:"
      ]
    },
    {
      "cell_type": "code",
      "metadata": {
        "id": "Yf2NsaoYyUfv",
        "outputId": "4ada01e7-986d-407c-a031-dbc39f6d4ecf"
      },
      "source": [
        "logFC_table_up = p4c.get_table_columns('node', columns=['logFC'])\n",
        "logFC_table_up.head()"
      ],
      "execution_count": null,
      "outputs": [
        {
          "output_type": "execute_result",
          "data": {
            "text/html": [
              "<div>\n",
              "<style scoped>\n",
              "    .dataframe tbody tr th:only-of-type {\n",
              "        vertical-align: middle;\n",
              "    }\n",
              "\n",
              "    .dataframe tbody tr th {\n",
              "        vertical-align: top;\n",
              "    }\n",
              "\n",
              "    .dataframe thead th {\n",
              "        text-align: right;\n",
              "    }\n",
              "</style>\n",
              "<table border=\"1\" class=\"dataframe\">\n",
              "  <thead>\n",
              "    <tr style=\"text-align: right;\">\n",
              "      <th></th>\n",
              "      <th>logFC</th>\n",
              "    </tr>\n",
              "  </thead>\n",
              "  <tbody>\n",
              "    <tr>\n",
              "      <th>256</th>\n",
              "      <td>2.03176</td>\n",
              "    </tr>\n",
              "    <tr>\n",
              "      <th>258</th>\n",
              "      <td>1.99631</td>\n",
              "    </tr>\n",
              "    <tr>\n",
              "      <th>259</th>\n",
              "      <td>2.1086</td>\n",
              "    </tr>\n",
              "    <tr>\n",
              "      <th>260</th>\n",
              "      <td>2.11025</td>\n",
              "    </tr>\n",
              "    <tr>\n",
              "      <th>261</th>\n",
              "      <td>1.93418</td>\n",
              "    </tr>\n",
              "  </tbody>\n",
              "</table>\n",
              "</div>"
            ],
            "text/plain": [
              "       logFC\n",
              "256  2.03176\n",
              "258  1.99631\n",
              "259   2.1086\n",
              "260  2.11025\n",
              "261  1.93418"
            ]
          },
          "metadata": {
            "tags": []
          },
          "execution_count": 15
        }
      ]
    },
    {
      "cell_type": "code",
      "metadata": {
        "id": "Q4dZ9W6YyUfv",
        "outputId": "65e5b1f0-dc4f-4c51-b7d8-057d8a0dab91"
      },
      "source": [
        "logFC_up_min = min(logFC_table_up['logFC'])\n",
        "logFC_up_max = max(logFC_table_up['logFC'])\n",
        "logFC_up_center = logFC_up_min + (logFC_up_max - logFC_up_min)/2\n",
        "logFC_up_center"
      ],
      "execution_count": null,
      "outputs": [
        {
          "output_type": "execute_result",
          "data": {
            "text/plain": [
              "3.1724948505"
            ]
          },
          "metadata": {
            "tags": []
          },
          "execution_count": 16
        }
      ]
    },
    {
      "cell_type": "code",
      "metadata": {
        "id": "TTrG9wfryUfv",
        "outputId": "2263827d-67e4-4208-8ac8-098ef4769260"
      },
      "source": [
        "p4c.copy_visual_style('default', 'de genes up')\n",
        "p4c.set_visual_style('de genes up')"
      ],
      "execution_count": null,
      "outputs": [
        {
          "output_type": "execute_result",
          "data": {
            "text/plain": [
              "{'message': 'Visual Style applied.'}"
            ]
          },
          "metadata": {
            "tags": []
          },
          "execution_count": 17
        }
      ]
    },
    {
      "cell_type": "code",
      "metadata": {
        "id": "cLXF371gyUfv",
        "outputId": "f2f76fab-6355-4b3d-9419-8270aa33933c"
      },
      "source": [
        "data_values = [logFC_up_min, logFC_up_center, logFC_up_max]\n",
        "p4c.set_node_color_mapping('logFC', data_values, ['#fecc5c', '#fd8d3c', '#f03b20'], style_name='de genes up')"
      ],
      "execution_count": null,
      "outputs": [
        {
          "output_type": "execute_result",
          "data": {
            "text/plain": [
              "''"
            ]
          },
          "metadata": {
            "tags": []
          },
          "execution_count": 18
        }
      ]
    },
    {
      "cell_type": "markdown",
      "metadata": {
        "id": "cs0PF0UzyUfw"
      },
      "source": [
        "Applying a force-directed layout, the network will now look something like this:\n",
        "\n"
      ]
    },
    {
      "cell_type": "code",
      "metadata": {
        "id": "N9xZ8EUnyUfw",
        "outputId": "42fe222a-2c10-4e1a-b4c8-8e2d8368bfb6"
      },
      "source": [
        "p4c.layout_network('force-directed')"
      ],
      "execution_count": null,
      "outputs": [
        {
          "output_type": "execute_result",
          "data": {
            "text/plain": [
              "{}"
            ]
          },
          "metadata": {
            "tags": []
          },
          "execution_count": 19
        }
      ]
    },
    {
      "cell_type": "markdown",
      "metadata": {
        "id": "HsZxQZStyUfw"
      },
      "source": [
        "# Enrichment Analysis Options\n",
        "Next, we are going to perform enrichment anlaysis uing the STRING app.\n",
        "\n",
        "# STRING Enrichment\n",
        "The STRING app has built-in enrichment analysis functionality, which includes enrichment for GO Process, GO Component, GO Function, InterPro, KEGG Pathways, and PFAM.\n",
        "\n",
        "First, we will run the enrichment on the whole network, against the genome:"
      ]
    },
    {
      "cell_type": "code",
      "metadata": {
        "id": "9SeJDK8ZyUfw",
        "outputId": "3e144025-a59b-499c-c9b7-48805aafe4c7"
      },
      "source": [
        "string_cmd = 'string retrieve enrichment allNetSpecies=\"Homo sapiens\", background=genome  selectedNodesOnly=\"false\"'\n",
        "p4c.commands.commands_run(string_cmd)"
      ],
      "execution_count": null,
      "outputs": [
        {
          "output_type": "execute_result",
          "data": {
            "text/plain": [
              "['Enrichment results summary:',\n",
              " 'ppiEnrichment=1.0E-16',\n",
              " 'enrichmentNodes=169',\n",
              " 'enrichmentExpectedEdges=128',\n",
              " 'enrichmentEdges=919',\n",
              " 'enrichmentClusteringCoeff=0.586372912384611',\n",
              " 'enrichmentAvgDegree=10.8757396449704']"
            ]
          },
          "metadata": {
            "tags": []
          },
          "execution_count": 20
        }
      ]
    },
    {
      "cell_type": "code",
      "metadata": {
        "id": "-rms-aIHyUfw",
        "outputId": "b4699d97-4a99-4dd8-9ce7-e8203b0b3bdc"
      },
      "source": [
        "string_cmd = 'string show enrichment'\n",
        "p4c.commands.commands_run(string_cmd)"
      ],
      "execution_count": null,
      "outputs": [
        {
          "output_type": "execute_result",
          "data": {
            "text/plain": [
              "[]"
            ]
          },
          "metadata": {
            "tags": []
          },
          "execution_count": 21
        }
      ]
    },
    {
      "cell_type": "markdown",
      "metadata": {
        "id": "MWNWesYByUfw"
      },
      "source": [
        "When the enrichment analysis is complete, a new tab titled STRING Enrichment will open in the Table Panel.\n",
        "\n"
      ]
    },
    {
      "cell_type": "markdown",
      "metadata": {
        "id": "1EBeHyehyUfw"
      },
      "source": [
        "The STRING app includes several options for filtering and displaying the enrichment results. The features are all available at the top of the STRING Enrichment tab.\n",
        "\n",
        "We are going to filter the table to only show GO Process:"
      ]
    },
    {
      "cell_type": "code",
      "metadata": {
        "id": "-Clpj6vLyUfw",
        "outputId": "b75e3984-2eb0-491f-d9b9-e3536cb4ece8"
      },
      "source": [
        "string_cmd = 'string filter enrichment categories=\"GO Process\", overlapCutoff = \"0.5\", removeOverlapping = \"true\"'\n",
        "p4c.commands.commands_run(string_cmd)"
      ],
      "execution_count": null,
      "outputs": [
        {
          "output_type": "execute_result",
          "data": {
            "text/plain": [
              "['']"
            ]
          },
          "metadata": {
            "tags": []
          },
          "execution_count": 22
        }
      ]
    },
    {
      "cell_type": "markdown",
      "metadata": {
        "id": "L-__5FXLyUfw"
      },
      "source": [
        "Next, we will add a split donut chart to the nodes representing the top terms:\n",
        "\n"
      ]
    },
    {
      "cell_type": "code",
      "metadata": {
        "id": "JhzTASTYyUfx",
        "outputId": "8822f21c-961a-4249-df40-06097070cbca"
      },
      "source": [
        "string_cmd = 'string show charts'\n",
        "p4c.commands.commands_run(string_cmd)"
      ],
      "execution_count": null,
      "outputs": [
        {
          "output_type": "execute_result",
          "data": {
            "text/plain": [
              "['']"
            ]
          },
          "metadata": {
            "tags": []
          },
          "execution_count": 23
        }
      ]
    },
    {
      "cell_type": "markdown",
      "metadata": {
        "id": "PbnsQfyRyUfx"
      },
      "source": [
        "# STRING Protein Query: Down-regulated genes\n",
        "We are going to repeat the network search, data integration, visualization and enrichment analysis for the set of down-regulated genes by using the first column of TCGA-Ovarian-MesenvsImmuno-data-down.csv:\n",
        "\n"
      ]
    },
    {
      "cell_type": "code",
      "metadata": {
        "id": "zP3c28VJyUfx",
        "outputId": "37962fe6-68b2-46b3-ba8d-32dac9a96fba"
      },
      "source": [
        "tcga_down_url = \"https://cytoscape.github.io/cytoscape-tutorials/protocols/data/TCGA-Ovarian-MesenvsImmuno-data-down.csv\"\n",
        "tcga_down_df = pd.read_csv(tcga_down_url)\n",
        "tcga_down_df.head()"
      ],
      "execution_count": null,
      "outputs": [
        {
          "output_type": "execute_result",
          "data": {
            "text/html": [
              "<div>\n",
              "<style scoped>\n",
              "    .dataframe tbody tr th:only-of-type {\n",
              "        vertical-align: middle;\n",
              "    }\n",
              "\n",
              "    .dataframe tbody tr th {\n",
              "        vertical-align: top;\n",
              "    }\n",
              "\n",
              "    .dataframe thead th {\n",
              "        text-align: right;\n",
              "    }\n",
              "</style>\n",
              "<table border=\"1\" class=\"dataframe\">\n",
              "  <thead>\n",
              "    <tr style=\"text-align: right;\">\n",
              "      <th></th>\n",
              "      <th>Gene</th>\n",
              "      <th>logFC</th>\n",
              "      <th>FDR adjusted Pvalue</th>\n",
              "    </tr>\n",
              "  </thead>\n",
              "  <tbody>\n",
              "    <tr>\n",
              "      <th>0</th>\n",
              "      <td>5698</td>\n",
              "      <td>-1.548465</td>\n",
              "      <td>4.710000e-17</td>\n",
              "    </tr>\n",
              "    <tr>\n",
              "      <th>1</th>\n",
              "      <td>115361</td>\n",
              "      <td>-1.587242</td>\n",
              "      <td>1.110000e-16</td>\n",
              "    </tr>\n",
              "    <tr>\n",
              "      <th>2</th>\n",
              "      <td>6890</td>\n",
              "      <td>-1.370056</td>\n",
              "      <td>1.360000e-16</td>\n",
              "    </tr>\n",
              "    <tr>\n",
              "      <th>3</th>\n",
              "      <td>5016</td>\n",
              "      <td>-4.479275</td>\n",
              "      <td>3.520000e-16</td>\n",
              "    </tr>\n",
              "    <tr>\n",
              "      <th>4</th>\n",
              "      <td>389903</td>\n",
              "      <td>-3.702067</td>\n",
              "      <td>1.590000e-15</td>\n",
              "    </tr>\n",
              "  </tbody>\n",
              "</table>\n",
              "</div>"
            ],
            "text/plain": [
              "     Gene     logFC  FDR adjusted Pvalue\n",
              "0    5698 -1.548465         4.710000e-17\n",
              "1  115361 -1.587242         1.110000e-16\n",
              "2    6890 -1.370056         1.360000e-16\n",
              "3    5016 -4.479275         3.520000e-16\n",
              "4  389903 -3.702067         1.590000e-15"
            ]
          },
          "metadata": {
            "tags": []
          },
          "execution_count": 24
        }
      ]
    },
    {
      "cell_type": "code",
      "metadata": {
        "id": "FHQp27-PyUfx"
      },
      "source": [
        "tcga_down_str = ','.join(str(v) for v in tcga_down_df[\"Gene\"])"
      ],
      "execution_count": null,
      "outputs": []
    },
    {
      "cell_type": "code",
      "metadata": {
        "id": "89Qy3WbOyUfx",
        "outputId": "04904c9c-78b8-4950-87d7-3cf2a340689b"
      },
      "source": [
        "string_cmd_list = ['string protein query','query=\"',tcga_down_str,'\"', 'species=\"Homo sapiens\"', 'cutoff=0.4']\n",
        "string_cmd = \" \".join(string_cmd_list)\n",
        "p4c.commands.commands_run(string_cmd)"
      ],
      "execution_count": null,
      "outputs": [
        {
          "output_type": "execute_result",
          "data": {
            "text/plain": [
              "[\"Loaded network 'String Network - 1' with 168 nodes and 747 edges\"]"
            ]
          },
          "metadata": {
            "tags": []
          },
          "execution_count": 26
        }
      ]
    },
    {
      "cell_type": "markdown",
      "metadata": {
        "id": "xIJRJjRYyUfx"
      },
      "source": [
        "# Subnetwork\n",
        "Let’s select only the connected nodes to work with for the rest of this tutorial, by creating a subnetwork based on all edges:"
      ]
    },
    {
      "cell_type": "code",
      "metadata": {
        "id": "V6icP-E9yUfx",
        "outputId": "be5d8801-55ec-4cef-c287-7f1463d5b599"
      },
      "source": [
        "p4c.create_subnetwork(edges='all', subnetwork_name='String de genes down')"
      ],
      "execution_count": null,
      "outputs": [
        {
          "output_type": "execute_result",
          "data": {
            "text/plain": [
              "5289"
            ]
          },
          "metadata": {
            "tags": []
          },
          "execution_count": 27
        }
      ]
    },
    {
      "cell_type": "markdown",
      "metadata": {
        "id": "_kI1iashyUfx"
      },
      "source": [
        "# Data integration\n",
        "Again, the identifiers in the network needs to be mapped to Entrez Gene (NCBI gene):\n",
        "\n"
      ]
    },
    {
      "cell_type": "code",
      "metadata": {
        "id": "ZMkne_ocyUfx"
      },
      "source": [
        "mapped_cols = p4c.map_table_column('display name', 'Human', 'HGNC', 'Entrez Gene')"
      ],
      "execution_count": null,
      "outputs": []
    },
    {
      "cell_type": "code",
      "metadata": {
        "id": "1RwGR8-YyUfx",
        "outputId": "8ffcff81-bdad-4ef0-ff0d-090960baa4c5"
      },
      "source": [
        "p4c.load_table_data(full_df, data_key_column='Gene', table_key_column='Entrez Gene')"
      ],
      "execution_count": null,
      "outputs": [
        {
          "output_type": "execute_result",
          "data": {
            "text/plain": [
              "'Success: Data loaded in defaultnode table'"
            ]
          },
          "metadata": {
            "tags": []
          },
          "execution_count": 29
        }
      ]
    },
    {
      "cell_type": "markdown",
      "metadata": {
        "id": "QI9nNOhTyUfy"
      },
      "source": [
        "# Visualization\n",
        "Next, we can create a visualization. Note that the default style has been altered in the previous example, so we can simply switch to default to get started:"
      ]
    },
    {
      "cell_type": "code",
      "metadata": {
        "id": "CxzTzuKZyUfy",
        "outputId": "212643d2-6bf0-44f3-ae1c-a2cf35da32c4"
      },
      "source": [
        "p4c.set_visual_style('default')"
      ],
      "execution_count": null,
      "outputs": [
        {
          "output_type": "execute_result",
          "data": {
            "text/plain": [
              "{'message': 'Visual Style applied.'}"
            ]
          },
          "metadata": {
            "tags": []
          },
          "execution_count": 30
        }
      ]
    },
    {
      "cell_type": "markdown",
      "metadata": {
        "id": "uU00lE7XyUfy"
      },
      "source": [
        "The node fill color has to be redefined for down-regulated genes:\n",
        "\n"
      ]
    },
    {
      "cell_type": "code",
      "metadata": {
        "id": "ICFfneSvyUfy",
        "outputId": "7c9e60b9-4612-43fe-99cb-01d681e3572a"
      },
      "source": [
        "logFC_table_down = p4c.get_table_columns('node', columns=['logFC'])\n",
        "logFC_down_min = min(logFC_table_down['logFC'])\n",
        "logFC_down_max = max(logFC_table_down['logFC'])\n",
        "logFC_down_center = logFC_down_min + (logFC_down_max - logFC_down_min)/2\n",
        "logFC_down_center"
      ],
      "execution_count": null,
      "outputs": [
        {
          "output_type": "execute_result",
          "data": {
            "text/plain": [
              "-1.7331387185"
            ]
          },
          "metadata": {
            "tags": []
          },
          "execution_count": 31
        }
      ]
    },
    {
      "cell_type": "code",
      "metadata": {
        "id": "V_s9fkZMyUfy",
        "outputId": "5b8dad7a-04a5-453c-8dbe-19aaed270af8"
      },
      "source": [
        "p4c.copy_visual_style('default', 'de genes down')\n",
        "p4c.set_visual_style('de genes down')"
      ],
      "execution_count": null,
      "outputs": [
        {
          "output_type": "execute_result",
          "data": {
            "text/plain": [
              "{'message': 'Visual Style applied.'}"
            ]
          },
          "metadata": {
            "tags": []
          },
          "execution_count": 32
        }
      ]
    },
    {
      "cell_type": "code",
      "metadata": {
        "id": "KUDQHdMqyUfy",
        "outputId": "9c80cadf-8f9e-470d-b03e-6c358dde8ed6"
      },
      "source": [
        "data_values = [logFC_down_min, logFC_down_center, logFC_down_max]\n",
        "p4c.set_node_color_mapping('logFC', data_values, ['#deebf7', '#9ecae1', '#3182bd'], style_name='de genes down')"
      ],
      "execution_count": null,
      "outputs": [
        {
          "output_type": "execute_result",
          "data": {
            "text/plain": [
              "''"
            ]
          },
          "metadata": {
            "tags": []
          },
          "execution_count": 33
        }
      ]
    },
    {
      "cell_type": "markdown",
      "metadata": {
        "id": "5Mjx91QhyUfy"
      },
      "source": [
        "Apply a force-directed layout.\n",
        "\n"
      ]
    },
    {
      "cell_type": "code",
      "metadata": {
        "id": "NyoUDZvqyUfz",
        "outputId": "0c96a036-465e-427a-d3dd-d0562a110f71"
      },
      "source": [
        "p4c.layout_network('force-directed')"
      ],
      "execution_count": null,
      "outputs": [
        {
          "output_type": "execute_result",
          "data": {
            "text/plain": [
              "{}"
            ]
          },
          "metadata": {
            "tags": []
          },
          "execution_count": 34
        }
      ]
    },
    {
      "cell_type": "markdown",
      "metadata": {
        "id": "cTON7ZrMyUfz"
      },
      "source": [
        "# STRING Enrichment\n",
        "Now we can perform STRING Enrichment analysis on the resulting network:"
      ]
    },
    {
      "cell_type": "code",
      "metadata": {
        "id": "9K_HRtnxyUfz",
        "outputId": "8767f25a-e243-44ad-f6e0-24686b1e2675"
      },
      "source": [
        "string_cmd = 'string retrieve enrichment allNetSpecies=\"Homo sapiens\", background=genome  selectedNodesOnly=\"false\"'\n",
        "p4c.commands.commands_run(string_cmd)"
      ],
      "execution_count": null,
      "outputs": [
        {
          "output_type": "execute_result",
          "data": {
            "text/plain": [
              "['Enrichment results summary:',\n",
              " 'ppiEnrichment=1.0E-16',\n",
              " 'enrichmentNodes=120',\n",
              " 'enrichmentExpectedEdges=102',\n",
              " 'enrichmentEdges=747',\n",
              " 'enrichmentClusteringCoeff=0.644168434370206',\n",
              " 'enrichmentAvgDegree=12.45']"
            ]
          },
          "metadata": {
            "tags": []
          },
          "execution_count": 35
        }
      ]
    },
    {
      "cell_type": "markdown",
      "metadata": {
        "id": "scBd5d0byUfz"
      },
      "source": [
        "Filter the analysis results for non-redundant GO Process terms only."
      ]
    },
    {
      "cell_type": "code",
      "metadata": {
        "id": "vOIGD6X-yUfz",
        "outputId": "00f164a8-0dc1-4dbd-e10d-84ece2063ab9"
      },
      "source": [
        "string_cmd = 'string filter enrichment categories=\"GO Process\", overlapCutoff = \"0.5\", removeOverlapping = \"true\"'\n",
        "p4c.commands.commands_run(string_cmd)"
      ],
      "execution_count": null,
      "outputs": [
        {
          "output_type": "execute_result",
          "data": {
            "text/plain": [
              "['']"
            ]
          },
          "metadata": {
            "tags": []
          },
          "execution_count": 36
        }
      ]
    },
    {
      "cell_type": "code",
      "metadata": {
        "id": "FC4erOjoyUfz",
        "outputId": "9198261f-ff30-4e04-f250-87be09ec7ad0"
      },
      "source": [
        "string_cmd = 'string show charts'\n",
        "p4c.commands.commands_run(string_cmd)"
      ],
      "execution_count": null,
      "outputs": [
        {
          "output_type": "execute_result",
          "data": {
            "text/plain": [
              "['']"
            ]
          },
          "metadata": {
            "tags": []
          },
          "execution_count": 37
        }
      ]
    },
    {
      "cell_type": "markdown",
      "metadata": {
        "id": "6VecfhVcyUf0"
      },
      "source": [
        "# STRING Disease Query\n",
        "So far, we queried the STRING database with a set of genes we knew were differentially expressed. Next, we will query the STRING disease database to retrieve a network genes associated with ovarian cancer, which will be completely independent of our dataset."
      ]
    },
    {
      "cell_type": "code",
      "metadata": {
        "id": "G1n0Bah1yUf0"
      },
      "source": [
        "string_cmd = 'string disease query disease=\"ovarian cancer\" cutoff=\"0.95\"'\n",
        "p4c.commands.commands_run(string_cmd)"
      ],
      "execution_count": null,
      "outputs": []
    },
    {
      "cell_type": "markdown",
      "metadata": {
        "id": "BY1wLcHCyUf0"
      },
      "source": [
        "This will bring in the top 100 (default) ovarian cancer associated genes connected with a confidence score greater than 0.95. Again, lets extract out the connected nodes:"
      ]
    },
    {
      "cell_type": "code",
      "metadata": {
        "id": "h8TU5oHIyUf0"
      },
      "source": [
        "p4c.create_subnetwork(edges='all', subnetwork_name='String ovarian sub')"
      ],
      "execution_count": null,
      "outputs": []
    },
    {
      "cell_type": "markdown",
      "metadata": {
        "id": "3JyOX1Q_yUf0"
      },
      "source": [
        "# Data integration\n",
        "Next we will import differential gene expression data from our TCGA dataset to create a visualization. Just like the previous example, we will need to do some identifier mapping to match the data to the network."
      ]
    },
    {
      "cell_type": "code",
      "metadata": {
        "id": "D-CTcAczyUf0"
      },
      "source": [
        "mapped_cols = p4c.map_table_column('display name', 'Human', 'HGNC', 'Entrez Gene')"
      ],
      "execution_count": null,
      "outputs": []
    },
    {
      "cell_type": "markdown",
      "metadata": {
        "id": "8cql7EjgyUf0"
      },
      "source": [
        "Here we set Human as species, HGNC as Map from, and Entrez Gene as To.\n",
        "\n",
        "We can now import the data frame with the full data (already loaded the data in Example 1 above) into the node table in Cytoscape:"
      ]
    },
    {
      "cell_type": "code",
      "metadata": {
        "id": "Aui3gS1TyUf0"
      },
      "source": [
        "p4c.load_table_data(full_df, data_key_column='Gene', table_key_column='Entrez Gene')"
      ],
      "execution_count": null,
      "outputs": []
    },
    {
      "cell_type": "markdown",
      "metadata": {
        "id": "ZCls9ZfzyUf0"
      },
      "source": [
        "# Visualization\n",
        "Again, we can create a visualization:"
      ]
    },
    {
      "cell_type": "code",
      "metadata": {
        "id": "-hdToceXyUf1"
      },
      "source": [
        "p4c.set_visual_style('default')"
      ],
      "execution_count": null,
      "outputs": []
    },
    {
      "cell_type": "markdown",
      "metadata": {
        "id": "Ut0gH2ELyUf1"
      },
      "source": [
        "Next, we need the min and max of the logFC column:\n",
        "\n"
      ]
    },
    {
      "cell_type": "code",
      "metadata": {
        "id": "eQgFWvWqyUf1"
      },
      "source": [
        "logFC_ov = p4c.get_table_columns('node', columns=['logFC'])\n",
        "logFC_ov = logFC_ov.dropna()\n",
        "logFC_ov_min = min(logFC_ov['logFC'])\n",
        "logFC_ov_max = max(logFC_ov['logFC'])\n",
        "logFC_ov_center = logFC_ov_min + (logFC_ov_max - logFC_ov_min)/2\n",
        "logFC_ov_center"
      ],
      "execution_count": null,
      "outputs": []
    },
    {
      "cell_type": "markdown",
      "metadata": {
        "id": "8ajwS-AJyUf1"
      },
      "source": [
        "Let’s create the mapping:\n",
        "\n"
      ]
    },
    {
      "cell_type": "code",
      "metadata": {
        "id": "dVkpUkDnyUf1"
      },
      "source": [
        "p4c.copy_visual_style('default', 'ovarian')\n",
        "p4c.set_visual_style('ovarian')"
      ],
      "execution_count": null,
      "outputs": []
    },
    {
      "cell_type": "code",
      "metadata": {
        "id": "i9oJMWIXyUf1"
      },
      "source": [
        "data_values = [logFC_ov_min, logFC_ov_center, logFC_ov_max]\n",
        "p4c.set_node_color_mapping('logFC', data_values, ['#4393c3', '#fddbc7', '#d6604d'], style_name='ovarian')"
      ],
      "execution_count": null,
      "outputs": []
    },
    {
      "cell_type": "markdown",
      "metadata": {
        "id": "H5b3YOEMyUf1"
      },
      "source": [
        "Apply a force-directed layout.\n",
        "\n"
      ]
    },
    {
      "cell_type": "code",
      "metadata": {
        "id": "rVJg6WNOyUf1"
      },
      "source": [
        "p4c.layout_network('force-directed')"
      ],
      "execution_count": null,
      "outputs": []
    },
    {
      "cell_type": "markdown",
      "metadata": {
        "id": "A5pWEf0LyUf1"
      },
      "source": [
        "The TCGA found several genes that were commonly mutated in ovarian cancer, so called “cancer drivers”. We can add information about these genes to the network visualization, by changing the visual style of these nodes. Three of the most important drivers are TP53, BRCA1 and BRCA2. We will add a thicker, colored border for these genes in the network.\n",
        "\n",
        "Select all three driver genes by:"
      ]
    },
    {
      "cell_type": "code",
      "metadata": {
        "id": "61I5RXb5yUf1"
      },
      "source": [
        "p4c.select_nodes([\"TP53\", \"BRCA1\", \"BRCA2\"], by_col='display name')"
      ],
      "execution_count": null,
      "outputs": []
    },
    {
      "cell_type": "markdown",
      "metadata": {
        "id": "q8OVrEiCyUf1"
      },
      "source": [
        "Add a style bypass for node Border Width (5) and node Border Paint (bright pink):\n"
      ]
    },
    {
      "cell_type": "code",
      "metadata": {
        "id": "40EZLG8fyUf1"
      },
      "source": [
        "p4c.set_node_border_width_bypass(p4c.get_selected_nodes(), 5)\n",
        "p4c.set_node_border_color_bypass(p4c.get_selected_nodes(), '#FF007F')"
      ],
      "execution_count": null,
      "outputs": []
    },
    {
      "cell_type": "markdown",
      "metadata": {
        "id": "2sTw7XenyUf1"
      },
      "source": [
        "# Exporting Networks\n",
        "Cytoscape provides a number of ways to export results and visualizations:\n",
        "\n",
        "As an image:"
      ]
    },
    {
      "cell_type": "code",
      "metadata": {
        "id": "LyNbmTy3yUf2"
      },
      "source": [
        "p4c.export_image('./differentially-expressed-genes', type='PDF')\n",
        "p4c.export_image('./differentially-expressed-genes', type='PNG')\n",
        "p4c.export_image('./differentially-expressed-genes', type='JPEG')\n",
        "p4c.export_image('./differentially-expressed-genes', type='SVG')\n",
        "p4c.export_image('./differentially-expressed-genes', type='PS')"
      ],
      "execution_count": null,
      "outputs": []
    },
    {
      "cell_type": "markdown",
      "metadata": {
        "id": "29ZmCghxyUf2"
      },
      "source": [
        "To a public repository:"
      ]
    },
    {
      "cell_type": "code",
      "metadata": {
        "id": "tuWG2e0syUf2"
      },
      "source": [
        "# p4c.export_network_to_ndex('userid', 'password', True)"
      ],
      "execution_count": null,
      "outputs": []
    },
    {
      "cell_type": "markdown",
      "metadata": {
        "id": "HhzLGrWWyUf2"
      },
      "source": [
        "As a Cytoscape JSON file:"
      ]
    },
    {
      "cell_type": "code",
      "metadata": {
        "id": "bghnrvNFyUf2"
      },
      "source": [
        "p4c.export_network('./differentially-expressed-genes','cyjs')"
      ],
      "execution_count": null,
      "outputs": []
    }
  ]
}