{
  "nbformat": 4,
  "nbformat_minor": 0,
  "metadata": {
    "kernelspec": {
      "display_name": "Python 3",
      "language": "python",
      "name": "python3"
    },
    "language_info": {
      "codemirror_mode": {
        "name": "ipython",
        "version": 3
      },
      "file_extension": ".py",
      "mimetype": "text/x-python",
      "name": "python",
      "nbconvert_exporter": "python",
      "pygments_lexer": "ipython3",
      "version": "3.8.5"
    },
    "colab": {
      "name": "differentially-expressed-genes-network-analysis.ipynb",
      "provenance": [],
      "include_colab_link": true
    }
  },
  "cells": [
    {
      "cell_type": "markdown",
      "metadata": {
        "id": "view-in-github",
        "colab_type": "text"
      },
      "source": [
        "<a href=\"https://colab.research.google.com/github/cytoscape/cytoscape-automation/blob/master/for-scripters/Python/differentially-expressed-genes-network-analysis.ipynb\" target=\"_parent\"><img src=\"https://colab.research.google.com/assets/colab-badge.svg\" alt=\"Open In Colab\"/></a>"
      ]
    },
    {
      "cell_type": "markdown",
      "metadata": {
        "id": "2i67jVhtyUfg"
      },
      "source": [
        "# Differentially Expressed Genes Network Analysis\n",
        "## Yihang Xin and Alex Pico\n",
        "## 2021-11-05"
      ]
    },
    {
      "cell_type": "markdown",
      "metadata": {
        "id": "Hx5kEMKoyUfj"
      },
      "source": [
        "This protocol describes a network analysis workflow in Cytoscape for a set of differentially expressed genes. Points covered:\n",
        "\n",
        "* Retrieving relevant networks from public databases\n",
        "* Network functional enrichment analysis\n",
        "* Integration and visualization of experimental data\n",
        "* Exporting network visualizations\n",
        "\n",
        "You can also install app inside Python notebook by running \"py4cytoscape.install_app('Your App')\""
      ]
    },
    {
      "cell_type": "markdown",
      "metadata": {
        "id": "6oeD6_62yUfj"
      },
      "source": [
        "# Installation\n",
        "The following chunk of code installs the `py4cytoscape` module."
      ]
    },
    {
      "cell_type": "code",
      "metadata": {
        "id": "VW8pUTntyUfk"
      },
      "source": [
        "%%capture\n",
        "!python3 -m pip install python-igraph requests pandas networkx\n",
        "!python3 -m pip install py4cytoscape"
      ],
      "execution_count": 1,
      "outputs": []
    },
    {
      "cell_type": "markdown",
      "metadata": {
        "id": "pNUFqWsTyY6g"
      },
      "source": [
        "If you are using a remote notebook environment such as Google Colab, please execute the cell below. (If you're running on your local notebook, you don't need to do that.)\n",
        "\n"
      ]
    },
    {
      "cell_type": "code",
      "metadata": {
        "id": "ZZOX9Ft_ybdp",
        "colab": {
          "base_uri": "https://localhost:8080/",
          "height": 347
        },
        "outputId": "c70e5908-8171-4e22-c451-26aab7051c40"
      },
      "source": [
        "import requests\n",
        "exec(requests.get(\"https://raw.githubusercontent.com/cytoscape/jupyter-bridge/master/client/p4c_init.py\").text)\n",
        "IPython.display.Javascript(_PY4CYTOSCAPE_BROWSER_CLIENT_JS) # Start browser client"
      ],
      "execution_count": 2,
      "outputs": [
        {
          "output_type": "stream",
          "name": "stdout",
          "text": [
            "Requirement already satisfied: py4cytoscape in /usr/local/lib/python3.7/dist-packages (0.0.11)\n",
            "Requirement already satisfied: requests in /usr/local/lib/python3.7/dist-packages (from py4cytoscape) (2.23.0)\n",
            "Requirement already satisfied: python-igraph in /usr/local/lib/python3.7/dist-packages (from py4cytoscape) (0.9.8)\n",
            "Requirement already satisfied: pandas in /usr/local/lib/python3.7/dist-packages (from py4cytoscape) (1.1.5)\n",
            "Requirement already satisfied: chardet in /usr/local/lib/python3.7/dist-packages (from py4cytoscape) (3.0.4)\n",
            "Requirement already satisfied: networkx in /usr/local/lib/python3.7/dist-packages (from py4cytoscape) (2.6.3)\n",
            "Requirement already satisfied: colorbrewer in /usr/local/lib/python3.7/dist-packages (from py4cytoscape) (0.2.0)\n",
            "Requirement already satisfied: decorator in /usr/local/lib/python3.7/dist-packages (from py4cytoscape) (4.4.2)\n",
            "Requirement already satisfied: six in /usr/local/lib/python3.7/dist-packages (from colorbrewer->py4cytoscape) (1.15.0)\n",
            "Requirement already satisfied: numpy>=1.15.4 in /usr/local/lib/python3.7/dist-packages (from pandas->py4cytoscape) (1.19.5)\n",
            "Requirement already satisfied: pytz>=2017.2 in /usr/local/lib/python3.7/dist-packages (from pandas->py4cytoscape) (2018.9)\n",
            "Requirement already satisfied: python-dateutil>=2.7.3 in /usr/local/lib/python3.7/dist-packages (from pandas->py4cytoscape) (2.8.2)\n",
            "Requirement already satisfied: igraph==0.9.8 in /usr/local/lib/python3.7/dist-packages (from python-igraph->py4cytoscape) (0.9.8)\n",
            "Requirement already satisfied: texttable>=1.6.2 in /usr/local/lib/python3.7/dist-packages (from igraph==0.9.8->python-igraph->py4cytoscape) (1.6.4)\n",
            "Requirement already satisfied: certifi>=2017.4.17 in /usr/local/lib/python3.7/dist-packages (from requests->py4cytoscape) (2021.5.30)\n",
            "Requirement already satisfied: idna<3,>=2.5 in /usr/local/lib/python3.7/dist-packages (from requests->py4cytoscape) (2.10)\n",
            "Requirement already satisfied: urllib3!=1.25.0,!=1.25.1,<1.26,>=1.21.1 in /usr/local/lib/python3.7/dist-packages (from requests->py4cytoscape) (1.24.3)\n",
            "Loading Javascript client ... 1c7f94c8-af0d-4b96-8ca8-0950e4c8d927 on https://jupyter-bridge.cytoscape.org\n",
            "ADVICE: WHEN RUNNING UNDER COLAB, DO NOT RE-RUN THIS CELL WITHOUT MANUALLY EXECUTING Runtime | Factory Reset Runtime FROM THE COLAB MENU FIRST.\n"
          ]
        },
        {
          "output_type": "execute_result",
          "data": {
            "application/javascript": [
              "var Channel = \"1c7f94c8-af0d-4b96-8ca8-0950e4c8d927\"; \n",
              "\n",
              "var JupyterBridge = \"https://jupyter-bridge.cytoscape.org\"; \n",
              "\n",
              "  /*\n",
              "    These functions serve as a connector between a remote Jupyter server and Cytoscape.\n",
              "    They run in the user's browser, which also shows the Jupyter Notebook.\n",
              "\n",
              "    A remote Jupyter Notebook call to the py4cytoscape package is forwarded to the Jupyter Bridge,\n",
              "    which is a standalone server. The functions in this connector execute in the Jupyter Notebook\n",
              "    browser, which executes on the same PC as Cytoscape. So, that's 4 components: (A) remote\n",
              "    Jupyter Notebook, (B) separate Jupyter Bridge server, (C) this browser-based component, and\n",
              "    (D) Cytoscape. (A) is on a remote server, (B) is on a different remote server, and (C) and (D)\n",
              "    are on the user's PC.\n",
              "\n",
              "    (A) calls its py4cytoscape module, which forwards the request (in a JSON wrapper) to (B).\n",
              "    (C) picks up the request from (B), unpacks the request and forwards it to (D). (C) awaits a\n",
              "    reply from (D), and when it gets it, it forwards the reply (in a JSON wrapper) to (B).\n",
              "    (A)'s py4cytoscape module picks up the reply on (B) when it becomes available, unpacks it,\n",
              "    and returns it to (A).\n",
              "\n",
              "    A Jupyter Notebook can talk to only one Cytoscape (i.e., the one on the machine running the\n",
              "    Jupyter Notebook browser), and Cytoscape should be called by only one Jupyter Notebook. The\n",
              "    Jupyter Bridge differentiates between Notebook-Cytoscape conversations via a channel UUID.\n",
              "    The UUID is prepended to this browser component by py4Cytoscape, and the component is\n",
              "    started by the Jupyter Notebook. (I wish py4Cytoscape could start the component, too, but I\n",
              "    haven't figured out how to do that yet, so startup code *is* required in the Jupyter\n",
              "    Notebook.)\n",
              "\n",
              "    Note that for the case of a Jupyter server running on the same machine as Cytoscape, this\n",
              "    bridge isn't necessary because the Jupyter server's HTTP calls can easily connect to\n",
              "    Cytoscape over a localhost socket. So, the combination of Jupyter Bridge and this browser\n",
              "    component solves the problem of a Jupyter server (e.g., Google's Colab) that can't\n",
              "    connect to Cytoscape that sits behind a firewall.\n",
              "\n",
              "    The request represents an HTTP call that py4cytoscape would normally make via HTTP directly\n",
              "    to Cytoscape via localhost when both py4cytoscape and Cytoscape are running on the same machine.\n",
              " */\n",
              "\n",
              "const VERSION = '0.0.2'\n",
              "\n",
              "var showDebug; // Flag indicating whether to show Jupyter-bridge progress\n",
              "if (typeof showDebug === 'undefined') {\n",
              "    showDebug = false\n",
              "}\n",
              "if (showDebug) {\n",
              "    alert(\"Starting Jupyter-bridge browser component\")\n",
              "}\n",
              "\n",
              "//const JupyterBridge = 'http://127.0.0.1:5000' // for testing against local Jupyter-bridge\n",
              "var JupyterBridge; // URL of Jupyter-bridge server could be defined by assignment pre-pended to this file\n",
              "if (typeof JupyterBridge === 'undefined') {\n",
              "    JupyterBridge = 'https://jupyter-bridge.cytoscape.org' // for production\n",
              "}\n",
              "var Channel; // Unique constant that could be defined by assignment pre-pended to this file\n",
              "if (typeof Channel === 'undefined') { // ... but if not assigned, use a debugging value\n",
              "    Channel = 1\n",
              "}\n",
              "\n",
              "\n",
              "var httpR = new XMLHttpRequest(); // for sending reply to Jupyter-bridge\n",
              "var httpRE = new XMLHttpRequest(); // for sending backup error reply to Jupyter-bridge\n",
              "var httpC = new XMLHttpRequest(); // for sending command to Cytoscape\n",
              "var httpJ = new XMLHttpRequest(); // for fetching request from Jupyter-bridge\n",
              "\n",
              "const HTTP_OK = 200\n",
              "const HTTP_SYS_ERR = 500\n",
              "const HTTP_TIMEOUT = 408\n",
              "const HTTP_TOO_MANY = 429\n",
              "\n",
              "\n",
              " /* This function is useful if we want to rewrite the incoming URL to resolve just to our local one.\n",
              "    Doing this stops the Jupyter component from abusing this client to call out to endpoints other\n",
              "    than local Cytoscape. On the other hand, it makes it hard to detect when the Jupyter component\n",
              "    has specified a genuinely bad URL and really should get an error result. For now, we'll execute\n",
              "    the Jupyter-supplied URL and return the result, whatever it may be.\n",
              "\n",
              "const LocalCytoscape = 'http://127.0.0.1:1234'\n",
              "\n",
              "function parseURL(url) {\n",
              "    var reURLInformation = new RegExp([\n",
              "        '^(https?:)//', // protocol\n",
              "        '(([^:/?#]*)(?::([0-9]+))?)', // host (hostname and port)\n",
              "        '(/{0,1}[^?#]*)', // pathname\n",
              "        '(\\\\?[^#]*|)', // search\n",
              "        '(#.*|)$' // hash\n",
              "    ].join(''));\n",
              "    var match = url.match(reURLInformation);\n",
              "    return match && {\n",
              "        url: url,\n",
              "        protocol: match[1],\n",
              "        host: match[2],\n",
              "        hostname: match[3],\n",
              "        port: match[4],\n",
              "        pathname: match[5],\n",
              "        search: match[6],\n",
              "        hash: match[7]\n",
              "    }\n",
              "}\n",
              "*/\n",
              "\n",
              "function replyCytoscape(replyStatus, replyStatusText, replyText) {\n",
              "\n",
              "    // Clean up after Jupyter bridge accepts reply\n",
              "    httpR.onreadystatechange = function() {\n",
              "        if (httpR.readyState === 4) {\n",
              "            if (showDebug) {\n",
              "                console.log(' status from queue_reply: ' + httpR.status + ', reply: ' + httpR.responseText)\n",
              "            }\n",
              "        }\n",
              "    }\n",
              "\n",
              "    httpR.onerror = function() {\n",
              "        // Clean up after Jupyter bridge accepts backup reply\n",
              "        httpRE.onreadystatechange = function() {\n",
              "            if (httpRE.readyState === 4) {\n",
              "                if (showDebug) {\n",
              "                    console.log(' status from backup queue_reply: ' + httpRE.status + ', reply: ' + httpRE.responseText)\n",
              "                }\n",
              "            }\n",
              "        }\n",
              "\n",
              "        if (showDebug) {\n",
              "            console.log(' error from queue_reply -- could be Jupyter-Bridge server reject')\n",
              "        }\n",
              "        var errReply = {'status': HTTP_SYS_ERR, 'reason': 'Jupyter-Bridge rejected reply', 'text': 'Possibly reply is too long for Jupyter-Bridge server'}\n",
              "        httpRE.open('POST', jupyterBridgeURL, true)\n",
              "        httpRE.setRequestHeader('Content-Type', 'text/plain')\n",
              "        httpRE.send(JSON.stringify(errReply))\n",
              "    }\n",
              "\n",
              "    var reply = {'status': replyStatus, 'reason': replyStatusText, 'text': replyText}\n",
              "\n",
              "    // Send reply to Jupyter bridge\n",
              "    var jupyterBridgeURL = JupyterBridge + '/queue_reply?channel=' + Channel\n",
              "    if (showDebug) {\n",
              "        console.log('Starting queue to Jupyter bridge: ' + jupyterBridgeURL)\n",
              "    }\n",
              "    httpR.open('POST', jupyterBridgeURL, true)\n",
              "    httpR.setRequestHeader('Content-Type', 'text/plain')\n",
              "    httpR.send(JSON.stringify(reply))\n",
              "}\n",
              "\n",
              "function callCytoscape(callSpec) {\n",
              "\n",
              "    // Captures Cytoscape reply and sends it on\n",
              "    httpC.onreadystatechange = function() {\n",
              "        if (httpC.readyState === 4) {\n",
              "            if (showDebug) {\n",
              "                console.log(' status from CyREST: ' + httpC.status + ', statusText: ' + httpC.statusText + ', reply: ' + httpC.responseText)\n",
              "            }\n",
              "            // Note that httpC.status is 0 if the URL can't be reached *OR* there is a CORS violation.\n",
              "            // I wish I could tell the difference because for a CORS violation, I'd return a 404,\n",
              "            // which would roughly match what Python's native request package would return.\n",
              "            // The practical consequence is that the ultimate caller (e.g., py4cytoscape)\n",
              "            // returns different exceptions, depending on wither this module is doing the\n",
              "            // HTTP operation or the native Python requests package is. This is minor, but\n",
              "            // messes up tests that verify the exception type.\n",
              "            replyCytoscape(httpC.status, httpC.statusText, httpC.responseText)\n",
              "            waitOnJupyterBridge()\n",
              "        }\n",
              "    }\n",
              "\n",
              "//  Build up request to Cytoscape, making sure host is local.\n",
              "//    Too heavy handed: localURL = LocalCytoscape + parseURL(callSpec.url).pathname\n",
              "    var localURL = callSpec.url // Try using what was passed in ... is there a security risk??\n",
              "\n",
              "    if (showDebug) {\n",
              "        console.log('Command to CyREST: ' + callSpec.command + ' (' + localURL + ')')\n",
              "        if (callSpec.params) {\n",
              "            console.log(' params: ' + JSON.stringify(callSpec.params))\n",
              "        }\n",
              "        if (callSpec.headers) {\n",
              "            console.log(' header: ' + JSON.stringify(callSpec.headers))\n",
              "        }\n",
              "        if (callSpec.data) {\n",
              "            console.log('   data: ' + JSON.stringify(callSpec.data))\n",
              "        }\n",
              "    }\n",
              "\n",
              "    if (callSpec.command === 'webbrowser') {\n",
              "        if (window.open(callSpec.url)) {\n",
              "            replyCytoscape(HTTP_OK, 'OK', '')\n",
              "        } else {\n",
              "            replyCytoscape(HTTP_SYS_ERR, 'BAD BROWSER OPEN', '')\n",
              "        }\n",
              "        waitOnJupyterBridge()\n",
              "    } else if (callSpec.command === 'version') {\n",
              "        replyCytoscape(HTTP_OK, 'OK',\n",
              "            JSON.stringify({\"jupyterBridgeVersion\": VERSION}))\n",
              "        waitOnJupyterBridge()\n",
              "    } else {\n",
              "        var joiner = '?'\n",
              "        for (let param in callSpec.params) {\n",
              "            localURL = localURL + joiner + param + '=' + encodeURIComponent(callSpec.params[param])\n",
              "            joiner = '&'\n",
              "        }\n",
              "\n",
              "        httpC.open(callSpec.command, localURL, true)\n",
              "        for (let header in callSpec.headers) {\n",
              "            httpC.setRequestHeader(header, callSpec.headers[header])\n",
              "        }\n",
              "\n",
              "        // Send request to Cytoscape ... reply goes to onreadystatechange handler\n",
              "        httpC.send(JSON.stringify(callSpec.data))\n",
              "    }\n",
              "}\n",
              "\n",
              "function waitOnJupyterBridge() {\n",
              "\n",
              "    // Captures request from Jupyter bridge\n",
              "    httpJ.onreadystatechange = function() {\n",
              "        if (httpJ.readyState === 4) {\n",
              "            if (showDebug) {\n",
              "                console.log(' status from dequeue_request: ' + httpJ.status + ', reply: ' + httpJ.responseText)\n",
              "            }\n",
              "            try {\n",
              "                if (httpJ.status == HTTP_TOO_MANY) {\n",
              "                    // Nothing more to do ... the browser has created too many listeners,\n",
              "                    // and it's time to stop listening because the server saw a listener\n",
              "                    // listening on this channel before we got there.\n",
              "                    console.log('  shutting down because of redundant reader on channel: ' + Channel)\n",
              "                } else {\n",
              "                    if (httpJ.status === HTTP_TIMEOUT) {\n",
              "                        waitOnJupyterBridge()\n",
              "                    } else {\n",
              "                        callCytoscape(JSON.parse(httpJ.responseText))\n",
              "                    }\n",
              "                }\n",
              "            } catch(err) {\n",
              "                if (showDebug) {\n",
              "                    console.log(' exception calling Cytoscape: ' + err)\n",
              "                }\n",
              "                // Bad responseText means something bad happened that we don't understand.\n",
              "                // Go wait on another request, as there's nothing to call Cytoscape with.\n",
              "                waitOnJupyterBridge()\n",
              "            }\n",
              "        }\n",
              "    }\n",
              "\n",
              "    // Wait for request from Jupyter bridge\n",
              "    var jupyterBridgeURL = JupyterBridge + '/dequeue_request?channel=' + Channel\n",
              "    if (showDebug) {\n",
              "        console.log('Starting dequeue on Jupyter bridge: ' + jupyterBridgeURL)\n",
              "    }\n",
              "    httpJ.open('GET', jupyterBridgeURL, true)\n",
              "    httpJ.send()\n",
              "}\n",
              "\n",
              "// This kicks off a loop that ends by calling waitOnJupyterBridge again. This first call\n",
              "// ejects any dead readers before we start a read\n",
              "waitOnJupyterBridge() // Wait for message from Jupyter bridge, execute it, and return reply\n",
              "\n",
              "if (showDebug) {\n",
              "    alert(\"Jupyter-bridge browser component is started on \" + JupyterBridge + ', channel ' + Channel)\n",
              "}\n"
            ],
            "text/plain": [
              "<IPython.core.display.Javascript object>"
            ]
          },
          "metadata": {},
          "execution_count": 2
        }
      ]
    },
    {
      "cell_type": "markdown",
      "metadata": {
        "id": "jspL0gkpyUfk"
      },
      "source": [
        "# Prerequisites\n",
        "## In addition to this package (py4cytoscape latest version 0.0.11), you will need:\n",
        "\n",
        "* Latest version of Cytoscape, which can be downloaded from https://cytoscape.org/download.html. Simply follow the installation instructions on screen.\n",
        "* Complete installation wizard\n",
        "* Launch Cytoscape\n",
        "\n",
        "For this vignette, you’ll also need the STRING app. \n",
        "\n",
        "Install the STRING app from https://apps.cytoscape.org/apps/stringapp\n",
        "\n",
        "Install the filetransfer app from https://apps.cytoscape.org/apps/filetransfer\n",
        "\n",
        "You can also install app inside Python notebook by running py4cytoscape.install_app('Your App')"
      ]
    },
    {
      "cell_type": "markdown",
      "metadata": {
        "id": "8O9d9lJmyUfl"
      },
      "source": [
        "# Background\n",
        "Ovarian serous cystadenocarcinoma is a type of epithelial ovarian cancer which accounts for ~90% of all ovarian cancers. The data used in this protocol are from The Cancer Genome Atlas, in which multiple subtypes of serous cystadenocarcinoma were identified and characterized by mRNA expression.\n",
        "\n",
        "We will focus on the differential gene expression between two subtypes, Mesenchymal and Immunoreactive.\n",
        "\n",
        "For convenience, the data has already been analyzed and pre-filtered, using log fold change value and adjusted p-value.\n",
        "\n"
      ]
    },
    {
      "cell_type": "markdown",
      "metadata": {
        "id": "rtXAvbvyyUfl"
      },
      "source": [
        "# Network Retrieval\n",
        "Many public databases and multiple Cytoscape apps allow you to retrieve a network or pathway relevant to your data. For this workflow, we will use the STRING app. Some other options include:\n",
        "\n",
        "* WikiPathways\n",
        "* NDEx\n",
        "* GeneMANIA\n"
      ]
    },
    {
      "cell_type": "markdown",
      "metadata": {
        "id": "_2iFA37jyUfm"
      },
      "source": [
        "# Retrieve Networks from STRING\n",
        "To identify a relevant network, we will query the STRING database in two different ways:\n",
        "\n",
        "* Query STRING protein with the list of differentially expressed genes.\n",
        "* Query STRING disease for a keyword; ovarian cancer.\n",
        "The two examples are split into two separate workflows below."
      ]
    },
    {
      "cell_type": "markdown",
      "metadata": {
        "id": "o0pp80dKyUfm"
      },
      "source": [
        "# Import the required package"
      ]
    },
    {
      "cell_type": "code",
      "metadata": {
        "id": "n7uqBF78yUfn"
      },
      "source": [
        "import os\n",
        "import sys\n",
        "import pandas as pd\n",
        "import py4cytoscape as p4c\n",
        "pd.options.mode.chained_assignment = None"
      ],
      "execution_count": 3,
      "outputs": []
    },
    {
      "cell_type": "markdown",
      "metadata": {
        "id": "SPlniYhVyUfn"
      },
      "source": [
        "# Setup Cytoscape"
      ]
    },
    {
      "cell_type": "code",
      "metadata": {
        "id": "oIz5cN2RyUfn",
        "colab": {
          "base_uri": "https://localhost:8080/"
        },
        "outputId": "d7c1993e-e734-493d-f572-3a86311762df"
      },
      "source": [
        "p4c.cytoscape_version_info()"
      ],
      "execution_count": 4,
      "outputs": [
        {
          "output_type": "execute_result",
          "data": {
            "text/plain": [
              "{'apiVersion': 'v1',\n",
              " 'automationAPIVersion': '1.3.0',\n",
              " 'cytoscapeVersion': '3.9.0',\n",
              " 'jupyterBridgeVersion': '0.0.2',\n",
              " 'py4cytoscapeVersion': '0.0.11'}"
            ]
          },
          "metadata": {},
          "execution_count": 4
        }
      ]
    },
    {
      "cell_type": "markdown",
      "metadata": {
        "id": "LwiLKk-KyUfo"
      },
      "source": [
        "# Example 1: STRING Protein Query Up-regulated Genes"
      ]
    },
    {
      "cell_type": "markdown",
      "metadata": {
        "id": "bx2-aMGqyUfp"
      },
      "source": [
        "* Load the file containing the data for up-regulated genes, TCGA-Ovarian-MesenvsImmuno_UP_full.csv:\n"
      ]
    },
    {
      "cell_type": "code",
      "metadata": {
        "id": "iRfofkrZyUfp",
        "colab": {
          "base_uri": "https://localhost:8080/",
          "height": 206
        },
        "outputId": "9610d06b-1743-4fc2-96ab-b0c5e1bd1b37"
      },
      "source": [
        "tcga_url = 'https://raw.githubusercontent.com/cytoscape/cytoscape-tutorials/gh-pages/protocols/data/TCGA-Ovarian-MesenvsImmuno-data-up.csv'\n",
        "tcga_df = pd.read_csv(tcga_url, sep = \"\\t\")\n",
        "tcga_df.head()"
      ],
      "execution_count": 5,
      "outputs": [
        {
          "output_type": "execute_result",
          "data": {
            "text/html": [
              "<div>\n",
              "<style scoped>\n",
              "    .dataframe tbody tr th:only-of-type {\n",
              "        vertical-align: middle;\n",
              "    }\n",
              "\n",
              "    .dataframe tbody tr th {\n",
              "        vertical-align: top;\n",
              "    }\n",
              "\n",
              "    .dataframe thead th {\n",
              "        text-align: right;\n",
              "    }\n",
              "</style>\n",
              "<table border=\"1\" class=\"dataframe\">\n",
              "  <thead>\n",
              "    <tr style=\"text-align: right;\">\n",
              "      <th></th>\n",
              "      <th>Gene</th>\n",
              "      <th>logFC</th>\n",
              "      <th>FDR adjusted Pvalue</th>\n",
              "    </tr>\n",
              "  </thead>\n",
              "  <tbody>\n",
              "    <tr>\n",
              "      <th>0</th>\n",
              "      <td>9543</td>\n",
              "      <td>6.086663</td>\n",
              "      <td>7.110000e-33</td>\n",
              "    </tr>\n",
              "    <tr>\n",
              "      <th>1</th>\n",
              "      <td>165</td>\n",
              "      <td>2.119808</td>\n",
              "      <td>3.260000e-30</td>\n",
              "    </tr>\n",
              "    <tr>\n",
              "      <th>2</th>\n",
              "      <td>2200</td>\n",
              "      <td>2.110410</td>\n",
              "      <td>1.210000e-29</td>\n",
              "    </tr>\n",
              "    <tr>\n",
              "      <th>3</th>\n",
              "      <td>1307</td>\n",
              "      <td>1.870070</td>\n",
              "      <td>2.530000e-29</td>\n",
              "    </tr>\n",
              "    <tr>\n",
              "      <th>4</th>\n",
              "      <td>633</td>\n",
              "      <td>1.863731</td>\n",
              "      <td>2.530000e-29</td>\n",
              "    </tr>\n",
              "  </tbody>\n",
              "</table>\n",
              "</div>"
            ],
            "text/plain": [
              "   Gene     logFC  FDR adjusted Pvalue\n",
              "0  9543  6.086663         7.110000e-33\n",
              "1   165  2.119808         3.260000e-30\n",
              "2  2200  2.110410         1.210000e-29\n",
              "3  1307  1.870070         2.530000e-29\n",
              "4   633  1.863731         2.530000e-29"
            ]
          },
          "metadata": {},
          "execution_count": 5
        }
      ]
    },
    {
      "cell_type": "markdown",
      "metadata": {
        "id": "SzJRAohGyUfp"
      },
      "source": [
        "* We will use the identifiers in the first column of this datafile to run a STRING protein query, with confidence (score) cutoff of 0.4:"
      ]
    },
    {
      "cell_type": "code",
      "metadata": {
        "id": "FdcrkeNEyUfp"
      },
      "source": [
        "tcga_str = ','.join(str(v) for v in tcga_df[\"Gene\"])"
      ],
      "execution_count": 6,
      "outputs": []
    },
    {
      "cell_type": "code",
      "metadata": {
        "id": "rQzBgzIVyUfq"
      },
      "source": [
        "string_cmd_list = ['string protein query','query=\"',tcga_str,'\"', 'species=\"Homo sapiens\"', 'cutoff=0.4']"
      ],
      "execution_count": 7,
      "outputs": []
    },
    {
      "cell_type": "code",
      "metadata": {
        "id": "nHbm62tpyUfq"
      },
      "source": [
        "string_cmd = \" \".join(string_cmd_list)"
      ],
      "execution_count": 8,
      "outputs": []
    },
    {
      "cell_type": "code",
      "metadata": {
        "id": "4NYxBVHkyUfq",
        "colab": {
          "base_uri": "https://localhost:8080/"
        },
        "outputId": "aee45d2b-abdd-4f45-a7fa-b782f0a0e82e"
      },
      "source": [
        "p4c.commands.commands_run(string_cmd)"
      ],
      "execution_count": 9,
      "outputs": [
        {
          "output_type": "execute_result",
          "data": {
            "text/plain": [
              "[\"Loaded network 'STRING network' with 202 nodes and 928 edges\"]"
            ]
          },
          "metadata": {},
          "execution_count": 9
        }
      ]
    },
    {
      "cell_type": "markdown",
      "metadata": {
        "id": "MtsDIPcGyUfq"
      },
      "source": [
        "The resulting network will load automatically and contains up-regulated genes recognized by STRING, and interactions between them with an evidence score of 0.4 or greater."
      ]
    },
    {
      "cell_type": "markdown",
      "metadata": {
        "id": "sKqRM981yUfq"
      },
      "source": [
        "We will select only the connected nodes to work with for the rest of this tutorial, by creating a subnetwork based on all edges:"
      ]
    },
    {
      "cell_type": "code",
      "metadata": {
        "id": "A25k8p6jyUfr",
        "colab": {
          "base_uri": "https://localhost:8080/"
        },
        "outputId": "8b3f2577-1246-4c4f-c0d6-6822ebb206b5"
      },
      "source": [
        "p4c.create_subnetwork(edges='all', subnetwork_name='String de genes up')"
      ],
      "execution_count": 10,
      "outputs": [
        {
          "output_type": "execute_result",
          "data": {
            "text/plain": [
              "135365"
            ]
          },
          "metadata": {},
          "execution_count": 10
        }
      ]
    },
    {
      "cell_type": "markdown",
      "metadata": {
        "id": "V-s_7-i6yUfr"
      },
      "source": [
        "# Data Integration\n",
        "Next we will import log fold changes and p-values from our TCGA dataset to create a visualization. Since the STRING network is a protein-protein network, it is annotated with protein identifiers (Uniprot and Ensembl protein), as well as HGNC gene symbols. Our data from TCGA has NCBI Gene identifiers (formerly Entrez), so before importing the data we are going to use the ID Mapper functionality in Cytoscape to map the network to NCBI Gene."
      ]
    },
    {
      "cell_type": "code",
      "metadata": {
        "id": "XVe_nFK8yUfr"
      },
      "source": [
        "mapped_cols = p4c.map_table_column('display name', 'Human', 'HGNC', 'Entrez Gene')"
      ],
      "execution_count": 11,
      "outputs": []
    },
    {
      "cell_type": "code",
      "metadata": {
        "id": "E24iOOhIyUfr",
        "colab": {
          "base_uri": "https://localhost:8080/",
          "height": 206
        },
        "outputId": "9aeb0967-714d-4539-872e-f1037cce76c0"
      },
      "source": [
        "full_url = 'https://raw.githubusercontent.com/cytoscape/cytoscape-tutorials/gh-pages/protocols/data/TCGA-Ovarian-MesenvsImmuno_data.csv'\n",
        "full_df = pd.read_csv(full_url,  dtype={'Gene':str})\n",
        "full_df.head()"
      ],
      "execution_count": 12,
      "outputs": [
        {
          "output_type": "execute_result",
          "data": {
            "text/html": [
              "<div>\n",
              "<style scoped>\n",
              "    .dataframe tbody tr th:only-of-type {\n",
              "        vertical-align: middle;\n",
              "    }\n",
              "\n",
              "    .dataframe tbody tr th {\n",
              "        vertical-align: top;\n",
              "    }\n",
              "\n",
              "    .dataframe thead th {\n",
              "        text-align: right;\n",
              "    }\n",
              "</style>\n",
              "<table border=\"1\" class=\"dataframe\">\n",
              "  <thead>\n",
              "    <tr style=\"text-align: right;\">\n",
              "      <th></th>\n",
              "      <th>Gene</th>\n",
              "      <th>logFC</th>\n",
              "      <th>FDR adjusted Pvalue</th>\n",
              "    </tr>\n",
              "  </thead>\n",
              "  <tbody>\n",
              "    <tr>\n",
              "      <th>0</th>\n",
              "      <td>9543</td>\n",
              "      <td>6.086663</td>\n",
              "      <td>7.110000e-33</td>\n",
              "    </tr>\n",
              "    <tr>\n",
              "      <th>1</th>\n",
              "      <td>84168</td>\n",
              "      <td>1.647298</td>\n",
              "      <td>2.520000e-32</td>\n",
              "    </tr>\n",
              "    <tr>\n",
              "      <th>2</th>\n",
              "      <td>165</td>\n",
              "      <td>2.119808</td>\n",
              "      <td>3.260000e-30</td>\n",
              "    </tr>\n",
              "    <tr>\n",
              "      <th>3</th>\n",
              "      <td>23452</td>\n",
              "      <td>1.548527</td>\n",
              "      <td>1.180000e-29</td>\n",
              "    </tr>\n",
              "    <tr>\n",
              "      <th>4</th>\n",
              "      <td>2200</td>\n",
              "      <td>2.110410</td>\n",
              "      <td>1.210000e-29</td>\n",
              "    </tr>\n",
              "  </tbody>\n",
              "</table>\n",
              "</div>"
            ],
            "text/plain": [
              "    Gene     logFC  FDR adjusted Pvalue\n",
              "0   9543  6.086663         7.110000e-33\n",
              "1  84168  1.647298         2.520000e-32\n",
              "2    165  2.119808         3.260000e-30\n",
              "3  23452  1.548527         1.180000e-29\n",
              "4   2200  2.110410         1.210000e-29"
            ]
          },
          "metadata": {},
          "execution_count": 12
        }
      ]
    },
    {
      "cell_type": "code",
      "metadata": {
        "id": "5Wzc2miNyUfr",
        "colab": {
          "base_uri": "https://localhost:8080/",
          "height": 35
        },
        "outputId": "6cae419e-589b-4eb9-e312-255175b672fc"
      },
      "source": [
        "p4c.load_table_data(full_df, data_key_column='Gene', table_key_column='Entrez Gene')"
      ],
      "execution_count": 13,
      "outputs": [
        {
          "output_type": "execute_result",
          "data": {
            "application/vnd.google.colaboratory.intrinsic+json": {
              "type": "string"
            },
            "text/plain": [
              "'Success: Data loaded in defaultnode table'"
            ]
          },
          "metadata": {},
          "execution_count": 13
        }
      ]
    },
    {
      "cell_type": "code",
      "metadata": {
        "id": "TIh1b5ZfyUfs",
        "colab": {
          "base_uri": "https://localhost:8080/"
        },
        "outputId": "b96210c4-ac5f-43ed-8841-68ff41310e86"
      },
      "source": [
        "p4c.get_table_column_names('node')"
      ],
      "execution_count": 14,
      "outputs": [
        {
          "output_type": "execute_result",
          "data": {
            "text/plain": [
              "['SUID',\n",
              " 'shared name',\n",
              " 'stringdb::canonical name',\n",
              " 'display name',\n",
              " 'stringdb::full name',\n",
              " 'stringdb::database identifier',\n",
              " 'stringdb::description',\n",
              " '@id',\n",
              " 'stringdb::namespace',\n",
              " 'stringdb::node type',\n",
              " 'query term',\n",
              " 'stringdb::sequence',\n",
              " 'stringdb::species',\n",
              " 'stringdb::STRING style',\n",
              " 'stringdb::enhancedLabel Passthrough',\n",
              " 'compartment::cytoskeleton',\n",
              " 'compartment::cytosol',\n",
              " 'compartment::endoplasmic reticulum',\n",
              " 'compartment::endosome',\n",
              " 'compartment::extracellular',\n",
              " 'compartment::golgi apparatus',\n",
              " 'compartment::lysosome',\n",
              " 'compartment::mitochondrion',\n",
              " 'compartment::nucleus',\n",
              " 'compartment::peroxisome',\n",
              " 'compartment::plasma membrane',\n",
              " 'stringdb::interactor score',\n",
              " 'stringdb::structures',\n",
              " 'target::development level',\n",
              " 'target::family',\n",
              " 'tissue::adrenal gland',\n",
              " 'tissue::blood',\n",
              " 'tissue::bone',\n",
              " 'tissue::bone marrow',\n",
              " 'tissue::eye',\n",
              " 'tissue::gall bladder',\n",
              " 'tissue::heart',\n",
              " 'tissue::intestine',\n",
              " 'tissue::kidney',\n",
              " 'tissue::liver',\n",
              " 'tissue::lung',\n",
              " 'tissue::muscle',\n",
              " 'tissue::nervous system',\n",
              " 'tissue::pancreas',\n",
              " 'tissue::saliva',\n",
              " 'tissue::skin',\n",
              " 'tissue::spleen',\n",
              " 'tissue::stomach',\n",
              " 'tissue::thyroid gland',\n",
              " 'tissue::urine',\n",
              " 'name',\n",
              " 'selected',\n",
              " 'Entrez Gene',\n",
              " 'Gene',\n",
              " 'logFC',\n",
              " 'FDR adjusted Pvalue']"
            ]
          },
          "metadata": {},
          "execution_count": 14
        }
      ]
    },
    {
      "cell_type": "markdown",
      "metadata": {
        "id": "kyDC6lhdyUfs"
      },
      "source": [
        "# Visualization\n",
        "Next, we can create a visualization. Note that we can reuse most of the previous style (e.g., all the default settings) and just provide a new node color mapping with downregulated color scheme, like palette_color_brewer_s_Blues:"
      ]
    },
    {
      "cell_type": "code",
      "metadata": {
        "id": "-9YOeUzpyUfu",
        "colab": {
          "base_uri": "https://localhost:8080/",
          "height": 35
        },
        "outputId": "c75c3e70-446f-49a5-c54a-203cd3caa433"
      },
      "source": [
        "p4c.set_visual_style('default')\n",
        "p4c.set_node_shape_default('ELLIPSE', style_name='default')\n",
        "p4c.lock_node_dimensions(True, style_name='default')\n",
        "p4c.set_node_size_default(50, style_name='default')\n",
        "p4c.set_node_color_default('#D3D3D3', style_name='default')\n",
        "p4c.set_node_border_width_default(2, style_name='default')\n",
        "p4c.set_node_color_default('#616060', style_name='default')\n",
        "p4c.set_node_label_mapping('display name', style_name='default')\n",
        "p4c.set_node_font_size_default(14, style_name='default')"
      ],
      "execution_count": 15,
      "outputs": [
        {
          "output_type": "execute_result",
          "data": {
            "application/vnd.google.colaboratory.intrinsic+json": {
              "type": "string"
            },
            "text/plain": [
              "''"
            ]
          },
          "metadata": {},
          "execution_count": 15
        }
      ]
    },
    {
      "cell_type": "code",
      "metadata": {
        "id": "TTrG9wfryUfv",
        "colab": {
          "base_uri": "https://localhost:8080/"
        },
        "outputId": "7ecd72a4-80e2-431c-f382-68ebda936ef2"
      },
      "source": [
        "p4c.copy_visual_style('default', 'de genes up')\n",
        "p4c.set_visual_style('de genes up')"
      ],
      "execution_count": 16,
      "outputs": [
        {
          "output_type": "execute_result",
          "data": {
            "text/plain": [
              "{'message': 'Visual Style applied.'}"
            ]
          },
          "metadata": {},
          "execution_count": 16
        }
      ]
    },
    {
      "cell_type": "code",
      "metadata": {
        "id": "cLXF371gyUfv",
        "colab": {
          "base_uri": "https://localhost:8080/",
          "height": 53
        },
        "outputId": "84c830ba-db5e-48f5-90a9-8f9750c710cb"
      },
      "source": [
        "p4c.set_node_color_mapping(**p4c.gen_node_color_map('logFC', p4c.palette_color_brewer_s_YlOrRd(), style_name='de genes up'))"
      ],
      "execution_count": 17,
      "outputs": [
        {
          "output_type": "stream",
          "name": "stdout",
          "text": [
            "Warning: palette_color_brewer_s_YlOrRd is not a divergent palette and may give poor results for a two-tailed continuous mapping.\n"
          ]
        },
        {
          "output_type": "execute_result",
          "data": {
            "application/vnd.google.colaboratory.intrinsic+json": {
              "type": "string"
            },
            "text/plain": [
              "''"
            ]
          },
          "metadata": {},
          "execution_count": 17
        }
      ]
    },
    {
      "cell_type": "markdown",
      "metadata": {
        "id": "cs0PF0UzyUfw"
      },
      "source": [
        "Applying a force-directed layout, the network will now look something like this:\n",
        "\n"
      ]
    },
    {
      "cell_type": "code",
      "metadata": {
        "id": "N9xZ8EUnyUfw",
        "colab": {
          "base_uri": "https://localhost:8080/"
        },
        "outputId": "70f9257f-80e8-42be-a643-af9e4c1cec4f"
      },
      "source": [
        "p4c.layout_network('force-directed')"
      ],
      "execution_count": 18,
      "outputs": [
        {
          "output_type": "execute_result",
          "data": {
            "text/plain": [
              "{}"
            ]
          },
          "metadata": {},
          "execution_count": 18
        }
      ]
    },
    {
      "cell_type": "markdown",
      "metadata": {
        "id": "HsZxQZStyUfw"
      },
      "source": [
        "# Enrichment Analysis Options\n",
        "Next, we are going to perform enrichment anlaysis uing the STRING app.\n",
        "\n",
        "# STRING Enrichment\n",
        "The STRING app has built-in enrichment analysis functionality, which includes enrichment for GO Process, GO Component, GO Function, InterPro, KEGG Pathways, and PFAM.\n",
        "\n",
        "First, we will run the enrichment on the whole network, against the genome:"
      ]
    },
    {
      "cell_type": "code",
      "metadata": {
        "id": "9SeJDK8ZyUfw",
        "colab": {
          "base_uri": "https://localhost:8080/"
        },
        "outputId": "67825ce1-37ac-44b3-b0f7-5378de84442e"
      },
      "source": [
        "string_cmd = 'string retrieve enrichment allNetSpecies=\"Homo sapiens\", background=genome  selectedNodesOnly=\"false\"'\n",
        "p4c.commands.commands_run(string_cmd)"
      ],
      "execution_count": 19,
      "outputs": [
        {
          "output_type": "execute_result",
          "data": {
            "text/plain": [
              "['No results']"
            ]
          },
          "metadata": {},
          "execution_count": 19
        }
      ]
    },
    {
      "cell_type": "code",
      "metadata": {
        "id": "-rms-aIHyUfw",
        "colab": {
          "base_uri": "https://localhost:8080/"
        },
        "outputId": "1c6208d8-85a6-4c48-dc73-6d940528f4ae"
      },
      "source": [
        "string_cmd = 'string show enrichment'\n",
        "p4c.commands.commands_run(string_cmd)"
      ],
      "execution_count": 20,
      "outputs": [
        {
          "output_type": "execute_result",
          "data": {
            "text/plain": [
              "[]"
            ]
          },
          "metadata": {},
          "execution_count": 20
        }
      ]
    },
    {
      "cell_type": "markdown",
      "metadata": {
        "id": "MWNWesYByUfw"
      },
      "source": [
        "When the enrichment analysis is complete, a new tab titled STRING Enrichment will open in the Table Panel.\n",
        "\n"
      ]
    },
    {
      "cell_type": "markdown",
      "metadata": {
        "id": "1EBeHyehyUfw"
      },
      "source": [
        "The STRING app includes several options for filtering and displaying the enrichment results. The features are all available at the top of the STRING Enrichment tab.\n",
        "\n",
        "We are going to filter the table to only show GO Process:"
      ]
    },
    {
      "cell_type": "code",
      "metadata": {
        "id": "-Clpj6vLyUfw",
        "colab": {
          "base_uri": "https://localhost:8080/"
        },
        "outputId": "b84e4cfb-9893-4254-fa65-f3b40579c334"
      },
      "source": [
        "string_cmd = 'string filter enrichment categories=\"GO Process\", overlapCutoff = \"0.5\", removeOverlapping = \"true\"'\n",
        "p4c.commands.commands_run(string_cmd)"
      ],
      "execution_count": 21,
      "outputs": [
        {
          "output_type": "execute_result",
          "data": {
            "text/plain": [
              "['']"
            ]
          },
          "metadata": {},
          "execution_count": 21
        }
      ]
    },
    {
      "cell_type": "markdown",
      "metadata": {
        "id": "L-__5FXLyUfw"
      },
      "source": [
        "Next, we will add a split donut chart to the nodes representing the top terms:\n",
        "\n"
      ]
    },
    {
      "cell_type": "code",
      "metadata": {
        "id": "JhzTASTYyUfx",
        "colab": {
          "base_uri": "https://localhost:8080/"
        },
        "outputId": "a4dbf8ea-560e-42ff-af0a-1a08d7464c97"
      },
      "source": [
        "string_cmd = 'string show charts'\n",
        "p4c.commands.commands_run(string_cmd)"
      ],
      "execution_count": 22,
      "outputs": [
        {
          "output_type": "execute_result",
          "data": {
            "text/plain": [
              "[]"
            ]
          },
          "metadata": {},
          "execution_count": 22
        }
      ]
    },
    {
      "cell_type": "markdown",
      "metadata": {
        "id": "PbnsQfyRyUfx"
      },
      "source": [
        "# STRING Protein Query: Down-regulated genes\n",
        "We are going to repeat the network search, data integration, visualization and enrichment analysis for the set of down-regulated genes by using the first column of TCGA-Ovarian-MesenvsImmuno-data-down.csv:\n",
        "\n"
      ]
    },
    {
      "cell_type": "code",
      "metadata": {
        "id": "zP3c28VJyUfx",
        "colab": {
          "base_uri": "https://localhost:8080/",
          "height": 206
        },
        "outputId": "0a5d8d2a-9efd-4390-9a01-6df84e994bb9"
      },
      "source": [
        "tcga_down_url = \"https://cytoscape.github.io/cytoscape-tutorials/protocols/data/TCGA-Ovarian-MesenvsImmuno-data-down.csv\"\n",
        "tcga_down_df = pd.read_csv(tcga_down_url)\n",
        "tcga_down_df.head()"
      ],
      "execution_count": 23,
      "outputs": [
        {
          "output_type": "execute_result",
          "data": {
            "text/html": [
              "<div>\n",
              "<style scoped>\n",
              "    .dataframe tbody tr th:only-of-type {\n",
              "        vertical-align: middle;\n",
              "    }\n",
              "\n",
              "    .dataframe tbody tr th {\n",
              "        vertical-align: top;\n",
              "    }\n",
              "\n",
              "    .dataframe thead th {\n",
              "        text-align: right;\n",
              "    }\n",
              "</style>\n",
              "<table border=\"1\" class=\"dataframe\">\n",
              "  <thead>\n",
              "    <tr style=\"text-align: right;\">\n",
              "      <th></th>\n",
              "      <th>Gene</th>\n",
              "      <th>logFC</th>\n",
              "      <th>FDR adjusted Pvalue</th>\n",
              "    </tr>\n",
              "  </thead>\n",
              "  <tbody>\n",
              "    <tr>\n",
              "      <th>0</th>\n",
              "      <td>5698</td>\n",
              "      <td>-1.548465</td>\n",
              "      <td>4.710000e-17</td>\n",
              "    </tr>\n",
              "    <tr>\n",
              "      <th>1</th>\n",
              "      <td>115361</td>\n",
              "      <td>-1.587242</td>\n",
              "      <td>1.110000e-16</td>\n",
              "    </tr>\n",
              "    <tr>\n",
              "      <th>2</th>\n",
              "      <td>6890</td>\n",
              "      <td>-1.370056</td>\n",
              "      <td>1.360000e-16</td>\n",
              "    </tr>\n",
              "    <tr>\n",
              "      <th>3</th>\n",
              "      <td>5016</td>\n",
              "      <td>-4.479275</td>\n",
              "      <td>3.520000e-16</td>\n",
              "    </tr>\n",
              "    <tr>\n",
              "      <th>4</th>\n",
              "      <td>389903</td>\n",
              "      <td>-3.702067</td>\n",
              "      <td>1.590000e-15</td>\n",
              "    </tr>\n",
              "  </tbody>\n",
              "</table>\n",
              "</div>"
            ],
            "text/plain": [
              "     Gene     logFC  FDR adjusted Pvalue\n",
              "0    5698 -1.548465         4.710000e-17\n",
              "1  115361 -1.587242         1.110000e-16\n",
              "2    6890 -1.370056         1.360000e-16\n",
              "3    5016 -4.479275         3.520000e-16\n",
              "4  389903 -3.702067         1.590000e-15"
            ]
          },
          "metadata": {},
          "execution_count": 23
        }
      ]
    },
    {
      "cell_type": "code",
      "metadata": {
        "id": "FHQp27-PyUfx"
      },
      "source": [
        "tcga_down_str = ','.join(str(v) for v in tcga_down_df[\"Gene\"])"
      ],
      "execution_count": 24,
      "outputs": []
    },
    {
      "cell_type": "code",
      "metadata": {
        "id": "89Qy3WbOyUfx",
        "colab": {
          "base_uri": "https://localhost:8080/"
        },
        "outputId": "df0fa110-885c-4444-f175-4671359be9e4"
      },
      "source": [
        "string_cmd_list = ['string protein query','query=\"',tcga_down_str,'\"', 'species=\"Homo sapiens\"', 'cutoff=0.4']\n",
        "string_cmd = \" \".join(string_cmd_list)\n",
        "p4c.commands.commands_run(string_cmd)"
      ],
      "execution_count": 25,
      "outputs": [
        {
          "output_type": "execute_result",
          "data": {
            "text/plain": [
              "[\"Loaded network 'STRING network - 1' with 168 nodes and 717 edges\"]"
            ]
          },
          "metadata": {},
          "execution_count": 25
        }
      ]
    },
    {
      "cell_type": "markdown",
      "metadata": {
        "id": "xIJRJjRYyUfx"
      },
      "source": [
        "# Subnetwork\n",
        "Let’s select only the connected nodes to work with for the rest of this tutorial, by creating a subnetwork based on all edges:"
      ]
    },
    {
      "cell_type": "code",
      "metadata": {
        "id": "V6icP-E9yUfx",
        "colab": {
          "base_uri": "https://localhost:8080/"
        },
        "outputId": "c9faef68-3b8b-4952-d1cc-babd106df4ea"
      },
      "source": [
        "p4c.create_subnetwork(edges='all', subnetwork_name='String de genes down')"
      ],
      "execution_count": 26,
      "outputs": [
        {
          "output_type": "execute_result",
          "data": {
            "text/plain": [
              "144740"
            ]
          },
          "metadata": {},
          "execution_count": 26
        }
      ]
    },
    {
      "cell_type": "markdown",
      "metadata": {
        "id": "_kI1iashyUfx"
      },
      "source": [
        "# Data integration\n",
        "Again, the identifiers in the network needs to be mapped to Entrez Gene (NCBI gene):\n",
        "\n"
      ]
    },
    {
      "cell_type": "code",
      "metadata": {
        "id": "ZMkne_ocyUfx"
      },
      "source": [
        "mapped_cols = p4c.map_table_column('display name', 'Human', 'HGNC', 'Entrez Gene')"
      ],
      "execution_count": 27,
      "outputs": []
    },
    {
      "cell_type": "code",
      "metadata": {
        "id": "1RwGR8-YyUfx",
        "colab": {
          "base_uri": "https://localhost:8080/",
          "height": 35
        },
        "outputId": "3ad21be1-6f28-4e00-9964-31c8a9f7eef2"
      },
      "source": [
        "p4c.load_table_data(full_df, data_key_column='Gene', table_key_column='Entrez Gene')"
      ],
      "execution_count": 28,
      "outputs": [
        {
          "output_type": "execute_result",
          "data": {
            "application/vnd.google.colaboratory.intrinsic+json": {
              "type": "string"
            },
            "text/plain": [
              "'Success: Data loaded in defaultnode table'"
            ]
          },
          "metadata": {},
          "execution_count": 28
        }
      ]
    },
    {
      "cell_type": "markdown",
      "metadata": {
        "id": "QI9nNOhTyUfy"
      },
      "source": [
        "# Visualization\n",
        "Next, we can create a visualization. Note that the default style has been altered in the previous example, so we can simply switch to default to get started:"
      ]
    },
    {
      "cell_type": "code",
      "metadata": {
        "id": "CxzTzuKZyUfy",
        "colab": {
          "base_uri": "https://localhost:8080/"
        },
        "outputId": "2fd346fe-016a-42f0-f8c6-e93537cc8034"
      },
      "source": [
        "p4c.set_visual_style('default')"
      ],
      "execution_count": 29,
      "outputs": [
        {
          "output_type": "execute_result",
          "data": {
            "text/plain": [
              "{'message': 'Visual Style applied.'}"
            ]
          },
          "metadata": {},
          "execution_count": 29
        }
      ]
    },
    {
      "cell_type": "markdown",
      "metadata": {
        "id": "uU00lE7XyUfy"
      },
      "source": [
        "The node fill color has to be redefined for down-regulated genes:\n",
        "\n"
      ]
    },
    {
      "cell_type": "code",
      "metadata": {
        "id": "V_s9fkZMyUfy",
        "colab": {
          "base_uri": "https://localhost:8080/"
        },
        "outputId": "6710d0b1-9bcf-4445-84ae-771b344838db"
      },
      "source": [
        "p4c.copy_visual_style('default', 'de genes down')\n",
        "p4c.set_visual_style('de genes down')"
      ],
      "execution_count": 30,
      "outputs": [
        {
          "output_type": "execute_result",
          "data": {
            "text/plain": [
              "{'message': 'Visual Style applied.'}"
            ]
          },
          "metadata": {},
          "execution_count": 30
        }
      ]
    },
    {
      "cell_type": "code",
      "metadata": {
        "id": "KUDQHdMqyUfy",
        "colab": {
          "base_uri": "https://localhost:8080/",
          "height": 53
        },
        "outputId": "4b8387e7-7b73-4876-85b0-212e85beb426"
      },
      "source": [
        "p4c.set_node_color_mapping(**p4c.gen_node_color_map('logFC', p4c.palette_color_brewer_s_Blues(), style_name='de genes down'))"
      ],
      "execution_count": 31,
      "outputs": [
        {
          "output_type": "stream",
          "name": "stdout",
          "text": [
            "Warning: palette_color_brewer_s_Blues is not a divergent palette and may give poor results for a two-tailed continuous mapping.\n"
          ]
        },
        {
          "output_type": "execute_result",
          "data": {
            "application/vnd.google.colaboratory.intrinsic+json": {
              "type": "string"
            },
            "text/plain": [
              "''"
            ]
          },
          "metadata": {},
          "execution_count": 31
        }
      ]
    },
    {
      "cell_type": "markdown",
      "metadata": {
        "id": "5Mjx91QhyUfy"
      },
      "source": [
        "Apply a force-directed layout.\n",
        "\n"
      ]
    },
    {
      "cell_type": "code",
      "metadata": {
        "id": "NyoUDZvqyUfz",
        "colab": {
          "base_uri": "https://localhost:8080/"
        },
        "outputId": "83fca0ea-8e8a-48ab-d9ce-0b9f5650e674"
      },
      "source": [
        "p4c.layout_network('force-directed')"
      ],
      "execution_count": 32,
      "outputs": [
        {
          "output_type": "execute_result",
          "data": {
            "text/plain": [
              "{}"
            ]
          },
          "metadata": {},
          "execution_count": 32
        }
      ]
    },
    {
      "cell_type": "markdown",
      "metadata": {
        "id": "cTON7ZrMyUfz"
      },
      "source": [
        "# STRING Enrichment\n",
        "Now we can perform STRING Enrichment analysis on the resulting network:"
      ]
    },
    {
      "cell_type": "code",
      "metadata": {
        "id": "9K_HRtnxyUfz",
        "colab": {
          "base_uri": "https://localhost:8080/"
        },
        "outputId": "21b00b38-506d-40b4-974b-a6200f492653"
      },
      "source": [
        "string_cmd = 'string retrieve enrichment allNetSpecies=\"Homo sapiens\", background=genome  selectedNodesOnly=\"false\"'\n",
        "p4c.commands.commands_run(string_cmd)"
      ],
      "execution_count": 33,
      "outputs": [
        {
          "output_type": "execute_result",
          "data": {
            "text/plain": [
              "['No results']"
            ]
          },
          "metadata": {},
          "execution_count": 33
        }
      ]
    },
    {
      "cell_type": "markdown",
      "metadata": {
        "id": "scBd5d0byUfz"
      },
      "source": [
        "Filter the analysis results for non-redundant GO Process terms only."
      ]
    },
    {
      "cell_type": "code",
      "metadata": {
        "id": "vOIGD6X-yUfz",
        "colab": {
          "base_uri": "https://localhost:8080/"
        },
        "outputId": "e0875c8b-b6d8-4c09-c2ab-22d281e89645"
      },
      "source": [
        "string_cmd = 'string filter enrichment categories=\"GO Process\", overlapCutoff = \"0.5\", removeOverlapping = \"true\"'\n",
        "p4c.commands.commands_run(string_cmd)"
      ],
      "execution_count": 34,
      "outputs": [
        {
          "output_type": "execute_result",
          "data": {
            "text/plain": [
              "['']"
            ]
          },
          "metadata": {},
          "execution_count": 34
        }
      ]
    },
    {
      "cell_type": "code",
      "metadata": {
        "id": "FC4erOjoyUfz",
        "colab": {
          "base_uri": "https://localhost:8080/"
        },
        "outputId": "c02837be-4627-436c-afc5-35da4ba5af5c"
      },
      "source": [
        "string_cmd = 'string show charts'\n",
        "p4c.commands.commands_run(string_cmd)"
      ],
      "execution_count": 35,
      "outputs": [
        {
          "output_type": "execute_result",
          "data": {
            "text/plain": [
              "[]"
            ]
          },
          "metadata": {},
          "execution_count": 35
        }
      ]
    },
    {
      "cell_type": "markdown",
      "metadata": {
        "id": "6VecfhVcyUf0"
      },
      "source": [
        "# STRING Disease Query\n",
        "So far, we queried the STRING database with a set of genes we knew were differentially expressed. Next, we will query the STRING disease database to retrieve a network genes associated with ovarian cancer, which will be completely independent of our dataset."
      ]
    },
    {
      "cell_type": "code",
      "metadata": {
        "id": "G1n0Bah1yUf0",
        "colab": {
          "base_uri": "https://localhost:8080/"
        },
        "outputId": "382858ec-cef4-49bf-e88f-203171f261a3"
      },
      "source": [
        "string_cmd = 'string disease query disease=\"ovarian cancer\" cutoff=\"0.95\"'\n",
        "p4c.commands.commands_run(string_cmd)"
      ],
      "execution_count": 36,
      "outputs": [
        {
          "output_type": "execute_result",
          "data": {
            "text/plain": [
              "[\"Loaded network 'STRING network - ovarian cancer' with 100 nodes and 333 edges\"]"
            ]
          },
          "metadata": {},
          "execution_count": 36
        }
      ]
    },
    {
      "cell_type": "markdown",
      "metadata": {
        "id": "BY1wLcHCyUf0"
      },
      "source": [
        "This will bring in the top 100 (default) ovarian cancer associated genes connected with a confidence score greater than 0.95. Again, lets extract out the connected nodes:"
      ]
    },
    {
      "cell_type": "code",
      "metadata": {
        "id": "h8TU5oHIyUf0",
        "colab": {
          "base_uri": "https://localhost:8080/"
        },
        "outputId": "6972d8b0-5a59-4dff-ed74-ec5cc8628cfa"
      },
      "source": [
        "p4c.create_subnetwork(edges='all', subnetwork_name='String ovarian sub')"
      ],
      "execution_count": 37,
      "outputs": [
        {
          "output_type": "execute_result",
          "data": {
            "text/plain": [
              "150792"
            ]
          },
          "metadata": {},
          "execution_count": 37
        }
      ]
    },
    {
      "cell_type": "markdown",
      "metadata": {
        "id": "3JyOX1Q_yUf0"
      },
      "source": [
        "# Data integration\n",
        "Next we will import differential gene expression data from our TCGA dataset to create a visualization. Just like the previous example, we will need to do some identifier mapping to match the data to the network."
      ]
    },
    {
      "cell_type": "code",
      "metadata": {
        "id": "D-CTcAczyUf0"
      },
      "source": [
        "mapped_cols = p4c.map_table_column('display name', 'Human', 'HGNC', 'Entrez Gene')"
      ],
      "execution_count": 38,
      "outputs": []
    },
    {
      "cell_type": "markdown",
      "metadata": {
        "id": "8cql7EjgyUf0"
      },
      "source": [
        "Here we set Human as species, HGNC as Map from, and Entrez Gene as To.\n",
        "\n",
        "We can now import the data frame with the full data (already loaded the data in Example 1 above) into the node table in Cytoscape:"
      ]
    },
    {
      "cell_type": "code",
      "metadata": {
        "id": "Aui3gS1TyUf0",
        "colab": {
          "base_uri": "https://localhost:8080/",
          "height": 35
        },
        "outputId": "9b333f40-4396-424e-bd34-867938084aa5"
      },
      "source": [
        "p4c.load_table_data(full_df, data_key_column='Gene', table_key_column='Entrez Gene')"
      ],
      "execution_count": 39,
      "outputs": [
        {
          "output_type": "execute_result",
          "data": {
            "application/vnd.google.colaboratory.intrinsic+json": {
              "type": "string"
            },
            "text/plain": [
              "'Success: Data loaded in defaultnode table'"
            ]
          },
          "metadata": {},
          "execution_count": 39
        }
      ]
    },
    {
      "cell_type": "markdown",
      "metadata": {
        "id": "ZCls9ZfzyUf0"
      },
      "source": [
        "# Visualization\n",
        "Again, we can create a visualization:"
      ]
    },
    {
      "cell_type": "code",
      "metadata": {
        "id": "-hdToceXyUf1",
        "colab": {
          "base_uri": "https://localhost:8080/"
        },
        "outputId": "4bf21aae-5398-491b-8651-9a33ea1c8e0a"
      },
      "source": [
        "p4c.set_visual_style('default')"
      ],
      "execution_count": 40,
      "outputs": [
        {
          "output_type": "execute_result",
          "data": {
            "text/plain": [
              "{'message': 'Visual Style applied.'}"
            ]
          },
          "metadata": {},
          "execution_count": 40
        }
      ]
    },
    {
      "cell_type": "markdown",
      "metadata": {
        "id": "8ajwS-AJyUf1"
      },
      "source": [
        "Let’s create the mapping:\n",
        "\n"
      ]
    },
    {
      "cell_type": "code",
      "metadata": {
        "id": "dVkpUkDnyUf1",
        "colab": {
          "base_uri": "https://localhost:8080/"
        },
        "outputId": "50047b1e-217e-42df-9af2-4f1455f6f05b"
      },
      "source": [
        "p4c.copy_visual_style('default', 'ovarian')\n",
        "p4c.set_visual_style('ovarian')"
      ],
      "execution_count": 41,
      "outputs": [
        {
          "output_type": "execute_result",
          "data": {
            "text/plain": [
              "{'message': 'Visual Style applied.'}"
            ]
          },
          "metadata": {},
          "execution_count": 41
        }
      ]
    },
    {
      "cell_type": "code",
      "metadata": {
        "id": "i9oJMWIXyUf1",
        "colab": {
          "base_uri": "https://localhost:8080/",
          "height": 35
        },
        "outputId": "22e6e029-c11b-41c3-a528-4eb24e0ce4bf"
      },
      "source": [
        "p4c.set_node_color_mapping(**p4c.gen_node_color_map('logFC', p4c.palette_color_brewer_d_RdBu(), style_name='ovarian'))"
      ],
      "execution_count": 42,
      "outputs": [
        {
          "output_type": "execute_result",
          "data": {
            "application/vnd.google.colaboratory.intrinsic+json": {
              "type": "string"
            },
            "text/plain": [
              "''"
            ]
          },
          "metadata": {},
          "execution_count": 42
        }
      ]
    },
    {
      "cell_type": "markdown",
      "metadata": {
        "id": "H5b3YOEMyUf1"
      },
      "source": [
        "Apply a force-directed layout.\n",
        "\n"
      ]
    },
    {
      "cell_type": "code",
      "metadata": {
        "id": "rVJg6WNOyUf1",
        "colab": {
          "base_uri": "https://localhost:8080/"
        },
        "outputId": "1952baff-1a7d-4caa-d090-00c2ed5fa366"
      },
      "source": [
        "p4c.layout_network('force-directed')"
      ],
      "execution_count": 43,
      "outputs": [
        {
          "output_type": "execute_result",
          "data": {
            "text/plain": [
              "{}"
            ]
          },
          "metadata": {},
          "execution_count": 43
        }
      ]
    },
    {
      "cell_type": "markdown",
      "metadata": {
        "id": "A5pWEf0LyUf1"
      },
      "source": [
        "The TCGA found several genes that were commonly mutated in ovarian cancer, so called “cancer drivers”. We can add information about these genes to the network visualization, by changing the visual style of these nodes. Three of the most important drivers are TP53, BRCA1 and BRCA2. We will add a thicker, colored border for these genes in the network.\n",
        "\n",
        "Select all three driver genes by:"
      ]
    },
    {
      "cell_type": "code",
      "metadata": {
        "id": "61I5RXb5yUf1",
        "colab": {
          "base_uri": "https://localhost:8080/"
        },
        "outputId": "88de1b60-dfe9-4047-8304-6f2aae83a8a9"
      },
      "source": [
        "p4c.select_nodes([\"TP53\", \"BRCA1\", \"BRCA2\"], by_col='display name')"
      ],
      "execution_count": 44,
      "outputs": [
        {
          "output_type": "execute_result",
          "data": {
            "text/plain": [
              "{'edges': [], 'nodes': [148755, 148644, 148791]}"
            ]
          },
          "metadata": {},
          "execution_count": 44
        }
      ]
    },
    {
      "cell_type": "markdown",
      "metadata": {
        "id": "q8OVrEiCyUf1"
      },
      "source": [
        "Add a style bypass for node Border Width (5) and node Border Paint (bright pink):\n"
      ]
    },
    {
      "cell_type": "code",
      "metadata": {
        "id": "40EZLG8fyUf1",
        "colab": {
          "base_uri": "https://localhost:8080/",
          "height": 35
        },
        "outputId": "97adce40-b690-4fda-86c2-22fa0005f060"
      },
      "source": [
        "p4c.set_node_border_width_bypass(p4c.get_selected_nodes(), 5)\n",
        "p4c.set_node_border_color_bypass(p4c.get_selected_nodes(), '#FF007F')"
      ],
      "execution_count": 45,
      "outputs": [
        {
          "output_type": "execute_result",
          "data": {
            "application/vnd.google.colaboratory.intrinsic+json": {
              "type": "string"
            },
            "text/plain": [
              "''"
            ]
          },
          "metadata": {},
          "execution_count": 45
        }
      ]
    },
    {
      "cell_type": "markdown",
      "metadata": {
        "id": "2sTw7XenyUf1"
      },
      "source": [
        "# Exporting Networks\n",
        "Cytoscape provides a number of ways to export results and visualizations:\n",
        "\n",
        "As an image:"
      ]
    },
    {
      "cell_type": "code",
      "metadata": {
        "id": "LyNbmTy3yUf2",
        "colab": {
          "base_uri": "https://localhost:8080/"
        },
        "outputId": "c522ccf2-e7ee-4ab4-f731-fb9833b2f01a"
      },
      "source": [
        "p4c.export_image('./differentially-expressed-genes', type='PDF')\n",
        "\n",
        "# Note: PNG, SVG, JPEG and PS are also supported\n",
        "# p4c.export_image('./differentially-expressed-genes', type='PNG')\n",
        "# p4c.export_image('./differentially-expressed-genes', type='JPEG')\n",
        "# p4c.export_image('./differentially-expressed-genes', type='SVG')\n",
        "# p4c.export_image('./differentially-expressed-genes', type='PS')"
      ],
      "execution_count": null,
      "outputs": [
        {
          "output_type": "execute_result",
          "data": {
            "text/plain": [
              "{'file': '/Users/yxin/CytoscapeConfiguration/filetransfer/default_sandbox/differentially-expressed-genes.ps'}"
            ]
          },
          "metadata": {},
          "execution_count": 50
        }
      ]
    },
    {
      "cell_type": "markdown",
      "metadata": {
        "id": "29ZmCghxyUf2"
      },
      "source": [
        "To a public repository:"
      ]
    },
    {
      "cell_type": "code",
      "metadata": {
        "id": "tuWG2e0syUf2"
      },
      "source": [
        "# p4c.export_network_to_ndex('userid', 'password', True)"
      ],
      "execution_count": null,
      "outputs": []
    },
    {
      "cell_type": "markdown",
      "metadata": {
        "id": "HhzLGrWWyUf2"
      },
      "source": [
        "As a Cytoscape JSON file:"
      ]
    },
    {
      "cell_type": "code",
      "metadata": {
        "id": "bghnrvNFyUf2"
      },
      "source": [
        "p4c.export_network('./differentially-expressed-genes','cyjs')"
      ],
      "execution_count": null,
      "outputs": []
    }
  ]
}