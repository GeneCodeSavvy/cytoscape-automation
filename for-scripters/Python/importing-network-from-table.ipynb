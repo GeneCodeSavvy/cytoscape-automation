{
  "nbformat": 4,
  "nbformat_minor": 0,
  "metadata": {
    "kernelspec": {
      "display_name": "Python 3",
      "language": "python",
      "name": "python3"
    },
    "language_info": {
      "codemirror_mode": {
        "name": "ipython",
        "version": 3
      },
      "file_extension": ".py",
      "mimetype": "text/x-python",
      "name": "python",
      "nbconvert_exporter": "python",
      "pygments_lexer": "ipython3",
      "version": "3.8.5"
    },
    "colab": {
      "name": "importing-network-from-table.ipynb",
      "provenance": [],
      "include_colab_link": true
    }
  },
  "cells": [
    {
      "cell_type": "markdown",
      "metadata": {
        "id": "view-in-github",
        "colab_type": "text"
      },
      "source": [
        "<a href=\"https://colab.research.google.com/github/cytoscape/cytoscape-automation/blob/master/for-scripters/Python/importing-network-from-table.ipynb\" target=\"_parent\"><img src=\"https://colab.research.google.com/assets/colab-badge.svg\" alt=\"Open In Colab\"/></a>"
      ]
    },
    {
      "cell_type": "markdown",
      "metadata": {
        "id": "oMD_dLavz_Qj"
      },
      "source": [
        "# Importing Network From Table\n"
      ]
    },
    {
      "cell_type": "markdown",
      "metadata": {
        "id": "dIrO6_4Ez_Ql"
      },
      "source": [
        "## Yihang Xin and Alex Pico\n",
        "## 2020-12-16"
      ]
    },
    {
      "cell_type": "markdown",
      "metadata": {
        "id": "PFPnYpeez_Ql"
      },
      "source": [
        "In addition to importing networks in network file formats, such as sif and xgmml, Cytoscape also supports importing networks from tabular data. In this vignette, the data table represents protein-protein interaction data from a mass-spectrometry experiment.\n",
        "\n"
      ]
    },
    {
      "cell_type": "markdown",
      "metadata": {
        "id": "3sFXXCYjz_Qm"
      },
      "source": [
        "# Installation\n",
        "The following chunk of code installs the `py4cytoscape` module."
      ]
    },
    {
      "cell_type": "code",
      "metadata": {
        "id": "8mtGgbrpz_Qm"
      },
      "source": [
        "%%capture\n",
        "!python3 -m pip install python-igraph requests pandas networkx\n",
        "!python3 -m pip install py4cytoscape"
      ],
      "execution_count": null,
      "outputs": []
    },
    {
      "cell_type": "markdown",
      "metadata": {
        "id": "QAeMz1eA0Egk"
      },
      "source": [
        "If you are using a remote notebook environment such as Google Colab, please execute the cell below. (If you're running on your local notebook, you don't need to do that.)\n",
        "\n"
      ]
    },
    {
      "cell_type": "code",
      "metadata": {
        "id": "0AGjHXfY0GK5"
      },
      "source": [
        "import requests\n",
        "exec(requests.get(\"https://raw.githubusercontent.com/cytoscape/jupyter-bridge/master/client/p4c_init.py\").text)\n",
        "IPython.display.Javascript(_PY4CYTOSCAPE_BROWSER_CLIENT_JS) # Start browser client"
      ],
      "execution_count": null,
      "outputs": []
    },
    {
      "cell_type": "markdown",
      "metadata": {
        "id": "GGb8EZJBz_Qn"
      },
      "source": [
        "# Prerequisites\n",
        "In addition to this package (py4cytoscape version 0.0.9), you will need:\n",
        "\n",
        "* Latest version of Cytoscape, which can be downloaded from https://cytoscape.org/download.html. Simply follow the installation instructions on screen.\n",
        "\n",
        "* Complete installation wizard\n",
        "\n",
        "* Launch Cytoscape\n",
        "\n",
        "You can also install app inside Python notebook by running \"py4cytoscape.install_app('Your App')\""
      ]
    },
    {
      "cell_type": "markdown",
      "metadata": {
        "id": "4tdHUNW9z_Qn"
      },
      "source": [
        "# Import the required package¶\n"
      ]
    },
    {
      "cell_type": "code",
      "metadata": {
        "id": "_Y8DxqNYz_Qo"
      },
      "source": [
        "import os\n",
        "import sys\n",
        "import pandas as pd\n",
        "import py4cytoscape as p4c"
      ],
      "execution_count": null,
      "outputs": []
    },
    {
      "cell_type": "markdown",
      "metadata": {
        "id": "v11QTnSZz_Qo"
      },
      "source": [
        "# Setup Cytoscape\n"
      ]
    },
    {
      "cell_type": "code",
      "metadata": {
        "id": "xW4Wuvslz_Qp",
        "outputId": "804f7566-c660-4ea2-b3b4-c5586977aca5"
      },
      "source": [
        "p4c.cytoscape_version_info()"
      ],
      "execution_count": null,
      "outputs": [
        {
          "output_type": "execute_result",
          "data": {
            "text/plain": [
              "{'apiVersion': 'v1',\n",
              " 'cytoscapeVersion': '3.8.2',\n",
              " 'automationAPIVersion': '1.0.0',\n",
              " 'py4cytoscapeVersion': '0.0.6'}"
            ]
          },
          "metadata": {
            "tags": []
          },
          "execution_count": 2
        }
      ]
    },
    {
      "cell_type": "markdown",
      "metadata": {
        "id": "PebeTieuz_Qr"
      },
      "source": [
        "# Background\n",
        "The data used for this protocol represents interactions between human and HIV proteins by Jäger et al (https://www.ncbi.nlm.nih.gov/pmc/articles/PMC3310911/). In this quantitative AP-MS experiment, a relatively small number of bait proteins were used to pull down a larger set of prey proteins.\n",
        "\n"
      ]
    },
    {
      "cell_type": "markdown",
      "metadata": {
        "id": "JMkvjRycz_Qr"
      },
      "source": [
        "# Import Network\n"
      ]
    },
    {
      "cell_type": "markdown",
      "metadata": {
        "id": "W2jZNbacz_Qs"
      },
      "source": [
        "First we need to read in the example data file:\n",
        "\n"
      ]
    },
    {
      "cell_type": "code",
      "metadata": {
        "id": "r-RFWdIPz_Qs"
      },
      "source": [
        "apms_data = pd.read_csv(\"https://raw.githubusercontent.com/cytoscape/cytoscape-automation/master/for-scripters/R/notebooks/AP-MS/ap-ms-demodata_simple.csv\")"
      ],
      "execution_count": null,
      "outputs": []
    },
    {
      "cell_type": "code",
      "metadata": {
        "id": "iC9mDfUOz_Qs",
        "outputId": "a61c6405-628e-43a7-ba82-bf56d165d981"
      },
      "source": [
        "apms_data.head()"
      ],
      "execution_count": null,
      "outputs": [
        {
          "output_type": "execute_result",
          "data": {
            "text/html": [
              "<div>\n",
              "<style scoped>\n",
              "    .dataframe tbody tr th:only-of-type {\n",
              "        vertical-align: middle;\n",
              "    }\n",
              "\n",
              "    .dataframe tbody tr th {\n",
              "        vertical-align: top;\n",
              "    }\n",
              "\n",
              "    .dataframe thead th {\n",
              "        text-align: right;\n",
              "    }\n",
              "</style>\n",
              "<table border=\"1\" class=\"dataframe\">\n",
              "  <thead>\n",
              "    <tr style=\"text-align: right;\">\n",
              "      <th></th>\n",
              "      <th>Bait</th>\n",
              "      <th>Prey</th>\n",
              "      <th>HEKScore</th>\n",
              "      <th>AP-MS Score</th>\n",
              "    </tr>\n",
              "  </thead>\n",
              "  <tbody>\n",
              "    <tr>\n",
              "      <th>0</th>\n",
              "      <td>GAG</td>\n",
              "      <td>THRAP3</td>\n",
              "      <td>0.807</td>\n",
              "      <td>0.563</td>\n",
              "    </tr>\n",
              "    <tr>\n",
              "      <th>1</th>\n",
              "      <td>GAG</td>\n",
              "      <td>SEPSECS</td>\n",
              "      <td>0.814</td>\n",
              "      <td>0.507</td>\n",
              "    </tr>\n",
              "    <tr>\n",
              "      <th>2</th>\n",
              "      <td>GAG</td>\n",
              "      <td>IVNS1ABP</td>\n",
              "      <td>0.753</td>\n",
              "      <td>0.506</td>\n",
              "    </tr>\n",
              "    <tr>\n",
              "      <th>3</th>\n",
              "      <td>GAG</td>\n",
              "      <td>DDX49</td>\n",
              "      <td>0.824</td>\n",
              "      <td>0.412</td>\n",
              "    </tr>\n",
              "    <tr>\n",
              "      <th>4</th>\n",
              "      <td>GAG</td>\n",
              "      <td>PRMT1</td>\n",
              "      <td>0.758</td>\n",
              "      <td>0.397</td>\n",
              "    </tr>\n",
              "  </tbody>\n",
              "</table>\n",
              "</div>"
            ],
            "text/plain": [
              "  Bait      Prey  HEKScore  AP-MS Score\n",
              "0  GAG    THRAP3     0.807        0.563\n",
              "1  GAG   SEPSECS     0.814        0.507\n",
              "2  GAG  IVNS1ABP     0.753        0.506\n",
              "3  GAG     DDX49     0.824        0.412\n",
              "4  GAG     PRMT1     0.758        0.397"
            ]
          },
          "metadata": {
            "tags": []
          },
          "execution_count": 4
        }
      ]
    },
    {
      "cell_type": "markdown",
      "metadata": {
        "id": "kkQJLAN5z_Qt"
      },
      "source": [
        "Now we can create a data frame for the network edges (interactions) using the imported data. We can also add the AP-MS score from the data as an edge attribute:"
      ]
    },
    {
      "cell_type": "code",
      "metadata": {
        "id": "OORrkQ_uz_Qt",
        "outputId": "32a3b3bd-1974-4be7-9838-9786d03d1154"
      },
      "source": [
        "edge_data = {'source':apms_data[\"Bait\"],\n",
        "             'target':apms_data[\"Prey\"],\n",
        "             'AP-MS Score':apms_data[\"AP-MS Score\"]\n",
        "            }\n",
        "edges = pd.DataFrame(data=edge_data, columns=['source', 'target','AP-MS Score'])\n",
        "edges.head()"
      ],
      "execution_count": null,
      "outputs": [
        {
          "output_type": "execute_result",
          "data": {
            "text/html": [
              "<div>\n",
              "<style scoped>\n",
              "    .dataframe tbody tr th:only-of-type {\n",
              "        vertical-align: middle;\n",
              "    }\n",
              "\n",
              "    .dataframe tbody tr th {\n",
              "        vertical-align: top;\n",
              "    }\n",
              "\n",
              "    .dataframe thead th {\n",
              "        text-align: right;\n",
              "    }\n",
              "</style>\n",
              "<table border=\"1\" class=\"dataframe\">\n",
              "  <thead>\n",
              "    <tr style=\"text-align: right;\">\n",
              "      <th></th>\n",
              "      <th>source</th>\n",
              "      <th>target</th>\n",
              "      <th>AP-MS Score</th>\n",
              "    </tr>\n",
              "  </thead>\n",
              "  <tbody>\n",
              "    <tr>\n",
              "      <th>0</th>\n",
              "      <td>GAG</td>\n",
              "      <td>THRAP3</td>\n",
              "      <td>0.563</td>\n",
              "    </tr>\n",
              "    <tr>\n",
              "      <th>1</th>\n",
              "      <td>GAG</td>\n",
              "      <td>SEPSECS</td>\n",
              "      <td>0.507</td>\n",
              "    </tr>\n",
              "    <tr>\n",
              "      <th>2</th>\n",
              "      <td>GAG</td>\n",
              "      <td>IVNS1ABP</td>\n",
              "      <td>0.506</td>\n",
              "    </tr>\n",
              "    <tr>\n",
              "      <th>3</th>\n",
              "      <td>GAG</td>\n",
              "      <td>DDX49</td>\n",
              "      <td>0.412</td>\n",
              "    </tr>\n",
              "    <tr>\n",
              "      <th>4</th>\n",
              "      <td>GAG</td>\n",
              "      <td>PRMT1</td>\n",
              "      <td>0.397</td>\n",
              "    </tr>\n",
              "  </tbody>\n",
              "</table>\n",
              "</div>"
            ],
            "text/plain": [
              "  source    target  AP-MS Score\n",
              "0    GAG    THRAP3        0.563\n",
              "1    GAG   SEPSECS        0.507\n",
              "2    GAG  IVNS1ABP        0.506\n",
              "3    GAG     DDX49        0.412\n",
              "4    GAG     PRMT1        0.397"
            ]
          },
          "metadata": {
            "tags": []
          },
          "execution_count": 5
        }
      ]
    },
    {
      "cell_type": "markdown",
      "metadata": {
        "id": "TtPzJ7llz_Qt"
      },
      "source": [
        "Finally, we use the edge data fram to create the network. Note that we don’t need to define a data frame for nodes, as all nodes in this case are represented in the edge data frame.\n",
        "\n"
      ]
    },
    {
      "cell_type": "code",
      "metadata": {
        "id": "i0m9VH-Qz_Qt",
        "outputId": "889c09d7-2cb6-4d8d-a42a-039580a7a7f4"
      },
      "source": [
        "p4c.create_network_from_data_frames(edges=edges, title='apms network', collection=\"apms collection\")"
      ],
      "execution_count": null,
      "outputs": [
        {
          "output_type": "stream",
          "text": [
            "Applying default style...\n",
            "Applying preferred layout\n"
          ],
          "name": "stdout"
        },
        {
          "output_type": "execute_result",
          "data": {
            "text/plain": [
              "{'networkSUID': 13412}"
            ]
          },
          "metadata": {
            "tags": []
          },
          "execution_count": 6
        }
      ]
    },
    {
      "cell_type": "markdown",
      "metadata": {
        "id": "RJ4Bwqv2z_Qt"
      },
      "source": [
        "The imported network consists of multiple smaller subnetworks, each representing a bait node and its associated prey nodes.\n",
        "\n"
      ]
    },
    {
      "cell_type": "markdown",
      "metadata": {
        "id": "sUNyo-ASz_Qt"
      },
      "source": [
        "# Loading Data\n"
      ]
    },
    {
      "cell_type": "markdown",
      "metadata": {
        "id": "4ebYjNLfz_Qu"
      },
      "source": [
        "There is one other column of data for the “Prey” proteins that we want to load into this network, the “HEKScore”.\n",
        "\n",
        "In this data, the Prey nodes are repeated for each interactions with a Bait node, so the data contains different values for the same attribute (for example HEKScore), for each Prey node. During import, the last value imported will overwrite prior values and visualizations using this attribute thus only shows the last value."
      ]
    },
    {
      "cell_type": "code",
      "metadata": {
        "id": "HNJ0hNA0z_Qu",
        "outputId": "8c234708-493e-4190-dd30-a671deb6ef03"
      },
      "source": [
        "p4c.load_table_data(apms_data[[\"Prey\",\"HEKScore\"]], data_key_column='Prey')"
      ],
      "execution_count": null,
      "outputs": [
        {
          "output_type": "execute_result",
          "data": {
            "text/plain": [
              "'Success: Data loaded in defaultnode table'"
            ]
          },
          "metadata": {
            "tags": []
          },
          "execution_count": 7
        }
      ]
    }
  ]
}