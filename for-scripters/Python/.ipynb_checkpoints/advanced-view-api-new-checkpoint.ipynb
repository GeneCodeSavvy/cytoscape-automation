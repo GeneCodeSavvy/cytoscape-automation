{
 "cells": [
  {
   "cell_type": "markdown",
   "metadata": {},
   "source": [
    "# py4cytoscape: View API Examples\n",
    "\n",
    "## Yihang Xin and Alex Pico\n",
    "\n",
    "## 2021-01-07\n",
    "\n",
    "\n",
    "## Introduction\n",
    "\n",
    "This is a sample Jupyter Notebook to demonstrate how users can manipulate Cytoscape network views directly from Python code.\n",
    "\n",
    "    \n",
    "#### Use Cases\n",
    "* __Create your own layout algorithms__\n",
    "* __Create annimations__\n",
    "    "
   ]
  },
  {
   "cell_type": "markdown",
   "metadata": {},
   "source": [
    "## Basic Setup\n",
    "\n",
    "* Import required packages\n",
    "* Load a network(s)"
   ]
  },
  {
   "cell_type": "markdown",
   "metadata": {},
   "source": [
    "## Import the required packages\n"
   ]
  },
  {
   "cell_type": "code",
   "execution_count": 1,
   "metadata": {},
   "outputs": [],
   "source": [
    "import pandas as pd\n",
    "import json\n",
    "import py4cytoscape as p4c"
   ]
  },
  {
   "cell_type": "code",
   "execution_count": 2,
   "metadata": {},
   "outputs": [
    {
     "name": "stdout",
     "output_type": "stream",
     "text": [
      "Opening sampleData/sessions/Yeast Perturbation.cys...\n"
     ]
    }
   ],
   "source": [
    "# Reset current session for fresh start\n",
    "p4c.close_session(False)\n",
    "\n",
    "# Load a sample network\n",
    "network1 = p4c.open_session()"
   ]
  },
  {
   "cell_type": "code",
   "execution_count": 3,
   "metadata": {},
   "outputs": [
    {
     "data": {
      "text/plain": [
       "['COMPOUND_NODE_PADDING',\n",
       " 'COMPOUND_NODE_SHAPE',\n",
       " 'DING_RENDERING_ENGINE_ROOT',\n",
       " 'EDGE',\n",
       " 'EDGE_BEND',\n",
       " 'EDGE_CURVED',\n",
       " 'EDGE_LABEL',\n",
       " 'EDGE_LABEL_COLOR',\n",
       " 'EDGE_LABEL_FONT_FACE',\n",
       " 'EDGE_LABEL_FONT_SIZE',\n",
       " 'EDGE_LABEL_TRANSPARENCY',\n",
       " 'EDGE_LABEL_WIDTH',\n",
       " 'EDGE_LINE_TYPE',\n",
       " 'EDGE_PAINT',\n",
       " 'EDGE_SELECTED',\n",
       " 'EDGE_SELECTED_PAINT',\n",
       " 'EDGE_SOURCE_ARROW_SELECTED_PAINT',\n",
       " 'EDGE_SOURCE_ARROW_SHAPE',\n",
       " 'EDGE_SOURCE_ARROW_SIZE',\n",
       " 'EDGE_SOURCE_ARROW_UNSELECTED_PAINT',\n",
       " 'EDGE_STROKE_SELECTED_PAINT',\n",
       " 'EDGE_STROKE_UNSELECTED_PAINT',\n",
       " 'EDGE_TARGET_ARROW_SELECTED_PAINT',\n",
       " 'EDGE_TARGET_ARROW_SHAPE',\n",
       " 'EDGE_TARGET_ARROW_SIZE',\n",
       " 'EDGE_TARGET_ARROW_UNSELECTED_PAINT',\n",
       " 'EDGE_TOOLTIP',\n",
       " 'EDGE_TRANSPARENCY',\n",
       " 'EDGE_UNSELECTED_PAINT',\n",
       " 'EDGE_VISIBLE',\n",
       " 'EDGE_WIDTH',\n",
       " 'NETWORK',\n",
       " 'NETWORK_ANNOTATION_SELECTION',\n",
       " 'NETWORK_BACKGROUND_PAINT',\n",
       " 'NETWORK_CENTER_X_LOCATION',\n",
       " 'NETWORK_CENTER_Y_LOCATION',\n",
       " 'NETWORK_CENTER_Z_LOCATION',\n",
       " 'NETWORK_DEPTH',\n",
       " 'NETWORK_EDGE_SELECTION',\n",
       " 'NETWORK_FORCE_HIGH_DETAIL',\n",
       " 'NETWORK_HEIGHT',\n",
       " 'NETWORK_NODE_LABEL_SELECTION',\n",
       " 'NETWORK_NODE_SELECTION',\n",
       " 'NETWORK_SCALE_FACTOR',\n",
       " 'NETWORK_SIZE',\n",
       " 'NETWORK_TITLE',\n",
       " 'NETWORK_WIDTH',\n",
       " 'NODE',\n",
       " 'NODE_BORDER_PAINT',\n",
       " 'NODE_BORDER_STROKE',\n",
       " 'NODE_BORDER_TRANSPARENCY',\n",
       " 'NODE_BORDER_WIDTH',\n",
       " 'NODE_CUSTOMGRAPHICS_1',\n",
       " 'NODE_CUSTOMGRAPHICS_2',\n",
       " 'NODE_CUSTOMGRAPHICS_3',\n",
       " 'NODE_CUSTOMGRAPHICS_4',\n",
       " 'NODE_CUSTOMGRAPHICS_5',\n",
       " 'NODE_CUSTOMGRAPHICS_6',\n",
       " 'NODE_CUSTOMGRAPHICS_7',\n",
       " 'NODE_CUSTOMGRAPHICS_8',\n",
       " 'NODE_CUSTOMGRAPHICS_9',\n",
       " 'NODE_CUSTOMGRAPHICS_POSITION_1',\n",
       " 'NODE_CUSTOMGRAPHICS_POSITION_2',\n",
       " 'NODE_CUSTOMGRAPHICS_POSITION_3',\n",
       " 'NODE_CUSTOMGRAPHICS_POSITION_4',\n",
       " 'NODE_CUSTOMGRAPHICS_POSITION_5',\n",
       " 'NODE_CUSTOMGRAPHICS_POSITION_6',\n",
       " 'NODE_CUSTOMGRAPHICS_POSITION_7',\n",
       " 'NODE_CUSTOMGRAPHICS_POSITION_8',\n",
       " 'NODE_CUSTOMGRAPHICS_POSITION_9',\n",
       " 'NODE_CUSTOMGRAPHICS_SIZE_1',\n",
       " 'NODE_CUSTOMGRAPHICS_SIZE_2',\n",
       " 'NODE_CUSTOMGRAPHICS_SIZE_3',\n",
       " 'NODE_CUSTOMGRAPHICS_SIZE_4',\n",
       " 'NODE_CUSTOMGRAPHICS_SIZE_5',\n",
       " 'NODE_CUSTOMGRAPHICS_SIZE_6',\n",
       " 'NODE_CUSTOMGRAPHICS_SIZE_7',\n",
       " 'NODE_CUSTOMGRAPHICS_SIZE_8',\n",
       " 'NODE_CUSTOMGRAPHICS_SIZE_9',\n",
       " 'NODE_CUSTOMPAINT_1',\n",
       " 'NODE_CUSTOMPAINT_2',\n",
       " 'NODE_CUSTOMPAINT_3',\n",
       " 'NODE_CUSTOMPAINT_4',\n",
       " 'NODE_CUSTOMPAINT_5',\n",
       " 'NODE_CUSTOMPAINT_6',\n",
       " 'NODE_CUSTOMPAINT_7',\n",
       " 'NODE_CUSTOMPAINT_8',\n",
       " 'NODE_CUSTOMPAINT_9',\n",
       " 'NODE_DEPTH',\n",
       " 'NODE_FILL_COLOR',\n",
       " 'NODE_HEIGHT',\n",
       " 'NODE_LABEL',\n",
       " 'NODE_LABEL_COLOR',\n",
       " 'NODE_LABEL_FONT_FACE',\n",
       " 'NODE_LABEL_FONT_SIZE',\n",
       " 'NODE_LABEL_POSITION',\n",
       " 'NODE_LABEL_TRANSPARENCY',\n",
       " 'NODE_LABEL_WIDTH',\n",
       " 'NODE_NESTED_NETWORK_IMAGE_VISIBLE',\n",
       " 'NODE_PAINT',\n",
       " 'NODE_SELECTED',\n",
       " 'NODE_SELECTED_PAINT',\n",
       " 'NODE_SHAPE',\n",
       " 'NODE_SIZE',\n",
       " 'NODE_TOOLTIP',\n",
       " 'NODE_TRANSPARENCY',\n",
       " 'NODE_VISIBLE',\n",
       " 'NODE_WIDTH',\n",
       " 'NODE_X_LOCATION',\n",
       " 'NODE_Y_LOCATION',\n",
       " 'NODE_Z_LOCATION']"
      ]
     },
     "execution_count": 3,
     "metadata": {},
     "output_type": "execute_result"
    }
   ],
   "source": [
    "# You can check all available Visual Properties with this function call:\n",
    "vps = p4c.get_visual_property_names()\n",
    "vps"
   ]
  },
  {
   "cell_type": "markdown",
   "metadata": {},
   "source": [
    "## Get Network View"
   ]
  },
  {
   "cell_type": "code",
   "execution_count": 4,
   "metadata": {},
   "outputs": [
    {
     "name": "stdout",
     "output_type": "stream",
     "text": [
      "[10721]\n"
     ]
    }
   ],
   "source": [
    "# Get views for a network: Cytoscape \"may\" have multiple views, and that's why it returns list instead of an object.\n",
    "view_id_list = p4c.get_network_views()\n",
    "\n",
    "# Display IDs of available views\n",
    "print(view_id_list)"
   ]
  },
  {
   "cell_type": "code",
   "execution_count": 5,
   "metadata": {},
   "outputs": [],
   "source": [
    "# Choose visual_property from vps\n",
    "x_loc_dict = p4c.get_node_property(visual_property='NODE_X_LOCATION')\n",
    "y_loc_dict = p4c.get_node_property(visual_property='NODE_Y_LOCATION')"
   ]
  },
  {
   "cell_type": "markdown",
   "metadata": {},
   "source": [
    "### Convert to Pandas Data Frame\n",
    "Since it's a simple dictionary, you can easily convert it into Data Frame."
   ]
  },
  {
   "cell_type": "code",
   "execution_count": 6,
   "metadata": {},
   "outputs": [
    {
     "data": {
      "text/html": [
       "<div>\n",
       "<style scoped>\n",
       "    .dataframe tbody tr th:only-of-type {\n",
       "        vertical-align: middle;\n",
       "    }\n",
       "\n",
       "    .dataframe tbody tr th {\n",
       "        vertical-align: top;\n",
       "    }\n",
       "\n",
       "    .dataframe thead th {\n",
       "        text-align: right;\n",
       "    }\n",
       "</style>\n",
       "<table border=\"1\" class=\"dataframe\">\n",
       "  <thead>\n",
       "    <tr style=\"text-align: right;\">\n",
       "      <th></th>\n",
       "      <th>NODE_X_LOCATION</th>\n",
       "    </tr>\n",
       "  </thead>\n",
       "  <tbody>\n",
       "    <tr>\n",
       "      <th>YLR116W</th>\n",
       "      <td>3053.527049</td>\n",
       "    </tr>\n",
       "    <tr>\n",
       "      <th>YMR186W</th>\n",
       "      <td>2910.409007</td>\n",
       "    </tr>\n",
       "    <tr>\n",
       "      <th>YHR174W</th>\n",
       "      <td>2133.239497</td>\n",
       "    </tr>\n",
       "    <tr>\n",
       "      <th>YLR293C</th>\n",
       "      <td>2837.429911</td>\n",
       "    </tr>\n",
       "    <tr>\n",
       "      <th>YDR277C</th>\n",
       "      <td>1924.232112</td>\n",
       "    </tr>\n",
       "  </tbody>\n",
       "</table>\n",
       "</div>"
      ],
      "text/plain": [
       "         NODE_X_LOCATION\n",
       "YLR116W      3053.527049\n",
       "YMR186W      2910.409007\n",
       "YHR174W      2133.239497\n",
       "YLR293C      2837.429911\n",
       "YDR277C      1924.232112"
      ]
     },
     "execution_count": 6,
     "metadata": {},
     "output_type": "execute_result"
    }
   ],
   "source": [
    "x_loc_df = pd.DataFrame.from_dict(x_loc_dict, orient='index' )\n",
    "x_loc_df.columns = ['NODE_X_LOCATION']\n",
    "x_loc_df.head()"
   ]
  },
  {
   "cell_type": "code",
   "execution_count": 7,
   "metadata": {},
   "outputs": [
    {
     "data": {
      "text/html": [
       "<div>\n",
       "<style scoped>\n",
       "    .dataframe tbody tr th:only-of-type {\n",
       "        vertical-align: middle;\n",
       "    }\n",
       "\n",
       "    .dataframe tbody tr th {\n",
       "        vertical-align: top;\n",
       "    }\n",
       "\n",
       "    .dataframe thead th {\n",
       "        text-align: right;\n",
       "    }\n",
       "</style>\n",
       "<table border=\"1\" class=\"dataframe\">\n",
       "  <thead>\n",
       "    <tr style=\"text-align: right;\">\n",
       "      <th></th>\n",
       "      <th>NODE_Y_LOCATION</th>\n",
       "    </tr>\n",
       "  </thead>\n",
       "  <tbody>\n",
       "    <tr>\n",
       "      <th>YLR116W</th>\n",
       "      <td>1747.015415</td>\n",
       "    </tr>\n",
       "    <tr>\n",
       "      <th>YMR186W</th>\n",
       "      <td>1988.399357</td>\n",
       "    </tr>\n",
       "    <tr>\n",
       "      <th>YHR174W</th>\n",
       "      <td>1599.521732</td>\n",
       "    </tr>\n",
       "    <tr>\n",
       "      <th>YLR293C</th>\n",
       "      <td>3327.499927</td>\n",
       "    </tr>\n",
       "    <tr>\n",
       "      <th>YDR277C</th>\n",
       "      <td>2281.954609</td>\n",
       "    </tr>\n",
       "  </tbody>\n",
       "</table>\n",
       "</div>"
      ],
      "text/plain": [
       "         NODE_Y_LOCATION\n",
       "YLR116W      1747.015415\n",
       "YMR186W      1988.399357\n",
       "YHR174W      1599.521732\n",
       "YLR293C      3327.499927\n",
       "YDR277C      2281.954609"
      ]
     },
     "execution_count": 7,
     "metadata": {},
     "output_type": "execute_result"
    }
   ],
   "source": [
    "y_loc_df = pd.DataFrame.from_dict(y_loc_dict, orient='index' )\n",
    "y_loc_df.columns = ['NODE_Y_LOCATION']\n",
    "y_loc_df.head()"
   ]
  },
  {
   "cell_type": "code",
   "execution_count": 8,
   "metadata": {},
   "outputs": [
    {
     "name": "stdout",
     "output_type": "stream",
     "text": [
      "YLR116W\n"
     ]
    }
   ],
   "source": [
    "nodes_name = p4c.get_all_nodes()\n",
    "nv1 = nodes_name[0]\n",
    "print(nv1)"
   ]
  },
  {
   "cell_type": "code",
   "execution_count": null,
   "metadata": {},
   "outputs": [],
   "source": []
  },
  {
   "cell_type": "code",
   "execution_count": 9,
   "metadata": {},
   "outputs": [
    {
     "name": "stdout",
     "output_type": "stream",
     "text": [
      "{'YLR116W': '#FFFFFD'}\n"
     ]
    }
   ],
   "source": [
    "# Access single value\n",
    "nv1_color = p4c.get_node_property(visual_property='NODE_FILL_COLOR', node_names=nv1)\n",
    "print(nv1_color)"
   ]
  },
  {
   "cell_type": "markdown",
   "metadata": {},
   "source": [
    "## Directly set Visual Property values\n",
    "\n",
    "Setting values are also easy with py4cytoscape.  All you have to do is creating a dictionary for the target nodes and edges.\n",
    "\n",
    "###  Set random colors to nodes"
   ]
  },
  {
   "cell_type": "code",
   "execution_count": 10,
   "metadata": {},
   "outputs": [
    {
     "data": {
      "text/plain": [
       "{'message': 'Visual Style applied.'}"
      ]
     },
     "execution_count": 10,
     "metadata": {},
     "output_type": "execute_result"
    }
   ],
   "source": [
    "# Switch current visual stye to a simple one...\n",
    "p4c.create_visual_style('Minimal')\n",
    "p4c.set_visual_style('Minimal', network=network1)"
   ]
  },
  {
   "cell_type": "code",
   "execution_count": 11,
   "metadata": {},
   "outputs": [
    {
     "data": {
      "text/plain": [
       "''"
      ]
     },
     "execution_count": 11,
     "metadata": {},
     "output_type": "execute_result"
    }
   ],
   "source": [
    "# Change background color to black\n",
    "p4c.set_background_color_default('#000000', style_name='Minimal')"
   ]
  },
  {
   "cell_type": "code",
   "execution_count": 12,
   "metadata": {},
   "outputs": [],
   "source": [
    "target_nodes = p4c.get_node_property(visual_property='NODE_LABEL')"
   ]
  },
  {
   "cell_type": "code",
   "execution_count": 13,
   "metadata": {},
   "outputs": [],
   "source": [
    "# Generate random colors for each node\n",
    "import random\n",
    "\n",
    "def get_color():\n",
    "    r = random.randint(0, 255)\n",
    "    g = random.randint(0, 255)\n",
    "    b = random.randint(0, 255)\n",
    "    return '#' + hex(r)[2:] + hex(g)[2:] + hex(b)[2:]\n",
    "\n",
    "# Assign key-value pair.  For this example, node SUID to color.\n",
    "def generate_randome_color_dict(node_ids):\n",
    "    new_values = {}\n",
    "    for n in node_ids:\n",
    "        new_values[n] = get_color()\n",
    "    return new_values\n",
    "\n",
    "new_values = generate_randome_color_dict(target_nodes)"
   ]
  },
  {
   "cell_type": "code",
   "execution_count": 14,
   "metadata": {},
   "outputs": [
    {
     "data": {
      "text/plain": [
       "{'message': 'Visual Style applied.'}"
      ]
     },
     "execution_count": 14,
     "metadata": {},
     "output_type": "execute_result"
    }
   ],
   "source": [
    "# Set new values for a set of nodes.  In this case, all nodes in the network\n",
    "NODE_FILL_COLOR = p4c.map_visual_property('node fill color', 'name', 'd', list(new_values.keys()), list(new_values.values()))\n",
    "p4c.update_style_mapping('Minimal', NODE_FILL_COLOR)\n",
    "p4c.set_visual_style('Minimal')"
   ]
  }
 ],
 "metadata": {
  "kernelspec": {
   "display_name": "Python 3",
   "language": "python",
   "name": "python3"
  },
  "language_info": {
   "codemirror_mode": {
    "name": "ipython",
    "version": 3
   },
   "file_extension": ".py",
   "mimetype": "text/x-python",
   "name": "python",
   "nbconvert_exporter": "python",
   "pygments_lexer": "ipython3",
   "version": "3.8.5"
  }
 },
 "nbformat": 4,
 "nbformat_minor": 4
}
