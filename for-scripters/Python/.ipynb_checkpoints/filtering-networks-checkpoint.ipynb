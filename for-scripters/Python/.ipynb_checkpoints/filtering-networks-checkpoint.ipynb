{
 "cells": [
  {
   "cell_type": "markdown",
   "metadata": {},
   "source": [
    "# Filtering Networks\n"
   ]
  },
  {
   "cell_type": "markdown",
   "metadata": {},
   "source": [
    "## Yihang Xin and Alex Pico"
   ]
  },
  {
   "cell_type": "markdown",
   "metadata": {},
   "source": [
    "## 2020-12-15\n"
   ]
  },
  {
   "cell_type": "markdown",
   "metadata": {},
   "source": [
    "This vignette will introduce you to some techniques for filtering a network based on node properties. You will learn to:\n",
    "\n",
    "* Select a set of nodes based on node degree and attribute filters\n",
    "* Create a subnetwork based on selected nodes\n",
    "* Hide a set of nodes based on filters\n",
    "\n",
    "For this tutorial, we will use data from the STRING database (https://string-db.org/).\n",
    "\n",
    "You can also install app inside Python notebook by running \"py4cytoscape.install_app('Your App')\""
   ]
  },
  {
   "cell_type": "markdown",
   "metadata": {},
   "source": [
    "# Installation\n",
    "The following chunk of code installs the `py4cytoscape` module."
   ]
  },
  {
   "cell_type": "code",
   "execution_count": 1,
   "metadata": {},
   "outputs": [
    {
     "name": "stdout",
     "output_type": "stream",
     "text": [
      "Requirement already satisfied: python-igraph in /usr/local/lib/python3.9/site-packages (0.8.3)\n",
      "Requirement already satisfied: requests in /usr/local/lib/python3.9/site-packages (2.25.1)\n",
      "Requirement already satisfied: pandas in /usr/local/lib/python3.9/site-packages (1.2.1)\n",
      "Requirement already satisfied: networkx in /usr/local/lib/python3.9/site-packages (2.5)\n",
      "Requirement already satisfied: decorator>=4.3.0 in /usr/local/lib/python3.9/site-packages (from networkx) (4.4.2)\n",
      "Requirement already satisfied: numpy>=1.16.5 in /usr/local/lib/python3.9/site-packages (from pandas) (1.19.5)\n",
      "Requirement already satisfied: python-dateutil>=2.7.3 in /usr/local/lib/python3.9/site-packages (from pandas) (2.8.1)\n",
      "Requirement already satisfied: pytz>=2017.3 in /usr/local/lib/python3.9/site-packages (from pandas) (2020.5)\n",
      "Requirement already satisfied: six>=1.5 in /usr/local/lib/python3.9/site-packages (from python-dateutil>=2.7.3->pandas) (1.15.0)\n",
      "Requirement already satisfied: texttable>=1.6.2 in /usr/local/lib/python3.9/site-packages (from python-igraph) (1.6.3)\n",
      "Requirement already satisfied: chardet<5,>=3.0.2 in /usr/local/lib/python3.9/site-packages (from requests) (4.0.0)\n",
      "Requirement already satisfied: urllib3<1.27,>=1.21.1 in /usr/local/lib/python3.9/site-packages (from requests) (1.26.3)\n",
      "Requirement already satisfied: certifi>=2017.4.17 in /usr/local/lib/python3.9/site-packages (from requests) (2020.12.5)\n",
      "Requirement already satisfied: idna<3,>=2.5 in /usr/local/lib/python3.9/site-packages (from requests) (2.10)\n",
      "\u001b[33mWARNING: You are using pip version 20.3.3; however, version 21.0 is available.\n",
      "You should consider upgrading via the '/usr/local/opt/python@3.9/bin/python3.9 -m pip install --upgrade pip' command.\u001b[0m\n",
      "Requirement already satisfied: py4cytoscape in /usr/local/lib/python3.9/site-packages (0.0.7)\n",
      "Requirement already satisfied: networkx in /usr/local/lib/python3.9/site-packages (from py4cytoscape) (2.5)\n",
      "Requirement already satisfied: pandas in /usr/local/lib/python3.9/site-packages (from py4cytoscape) (1.2.1)\n",
      "Requirement already satisfied: requests in /usr/local/lib/python3.9/site-packages (from py4cytoscape) (2.25.1)\n",
      "Requirement already satisfied: python-igraph in /usr/local/lib/python3.9/site-packages (from py4cytoscape) (0.8.3)\n",
      "Requirement already satisfied: decorator>=4.3.0 in /usr/local/lib/python3.9/site-packages (from networkx->py4cytoscape) (4.4.2)\n",
      "Requirement already satisfied: numpy>=1.16.5 in /usr/local/lib/python3.9/site-packages (from pandas->py4cytoscape) (1.19.5)\n",
      "Requirement already satisfied: pytz>=2017.3 in /usr/local/lib/python3.9/site-packages (from pandas->py4cytoscape) (2020.5)\n",
      "Requirement already satisfied: python-dateutil>=2.7.3 in /usr/local/lib/python3.9/site-packages (from pandas->py4cytoscape) (2.8.1)\n",
      "Requirement already satisfied: six>=1.5 in /usr/local/lib/python3.9/site-packages (from python-dateutil>=2.7.3->pandas->py4cytoscape) (1.15.0)\n",
      "Requirement already satisfied: texttable>=1.6.2 in /usr/local/lib/python3.9/site-packages (from python-igraph->py4cytoscape) (1.6.3)\n",
      "Requirement already satisfied: chardet<5,>=3.0.2 in /usr/local/lib/python3.9/site-packages (from requests->py4cytoscape) (4.0.0)\n",
      "Requirement already satisfied: urllib3<1.27,>=1.21.1 in /usr/local/lib/python3.9/site-packages (from requests->py4cytoscape) (1.26.3)\n",
      "Requirement already satisfied: certifi>=2017.4.17 in /usr/local/lib/python3.9/site-packages (from requests->py4cytoscape) (2020.12.5)\n",
      "Requirement already satisfied: idna<3,>=2.5 in /usr/local/lib/python3.9/site-packages (from requests->py4cytoscape) (2.10)\n",
      "\u001b[33mWARNING: You are using pip version 20.3.3; however, version 21.0 is available.\n",
      "You should consider upgrading via the '/usr/local/opt/python@3.9/bin/python3.9 -m pip install --upgrade pip' command.\u001b[0m\n"
     ]
    }
   ],
   "source": [
    "!python3 -m pip install python-igraph requests pandas networkx\n",
    "!python3 -m pip install py4cytoscape"
   ]
  },
  {
   "cell_type": "markdown",
   "metadata": {},
   "source": [
    "# Prerequisites\n",
    "In addition to this package (py4cytoscape version 0.0.7), you will need:\n",
    "\n",
    "* Latest version of Cytoscape, which can be downloaded from https://cytoscape.org/download.html. Simply follow the installation instructions on screen.\n",
    "\n",
    "* Complete installation wizard\n",
    "\n",
    "* Launch Cytoscape\n",
    "\n",
    "For this vignette, you’ll also need the STRING app:\n",
    "\n",
    "Install the STRING app from https://apps.cytoscape.org/apps/stringapp\n",
    "\n",
    "You can also install app inside Python notebook by running py4cytoscape.install_app('Your App')"
   ]
  },
  {
   "cell_type": "markdown",
   "metadata": {},
   "source": [
    "# Import the required package\n"
   ]
  },
  {
   "cell_type": "code",
   "execution_count": 1,
   "metadata": {},
   "outputs": [],
   "source": [
    "import os\n",
    "import sys\n",
    "import pandas as pd\n",
    "import py4cytoscape as p4c"
   ]
  },
  {
   "cell_type": "markdown",
   "metadata": {},
   "source": [
    "# Setup Cytoscape\n"
   ]
  },
  {
   "cell_type": "code",
   "execution_count": 2,
   "metadata": {},
   "outputs": [
    {
     "data": {
      "text/plain": [
       "{'apiVersion': 'v1',\n",
       " 'cytoscapeVersion': '3.8.2',\n",
       " 'automationAPIVersion': '1.0.0',\n",
       " 'py4cytoscapeVersion': '0.0.6'}"
      ]
     },
     "execution_count": 2,
     "metadata": {},
     "output_type": "execute_result"
    }
   ],
   "source": [
    "p4c.cytoscape_version_info()"
   ]
  },
  {
   "cell_type": "markdown",
   "metadata": {},
   "source": [
    "# Get network from STRING\n"
   ]
  },
  {
   "cell_type": "markdown",
   "metadata": {},
   "source": [
    "We are going to query the STRING Disease database for the term “breast cancer”. By default, the app pulls the top 100 human proteins associated with the disease along with edges having an evidence strength of 0.4 or greater:"
   ]
  },
  {
   "cell_type": "code",
   "execution_count": 3,
   "metadata": {},
   "outputs": [
    {
     "data": {
      "text/plain": [
       "[\"Loaded network 'String Network - breast cancer' with 100 nodes and 2472 edges\"]"
      ]
     },
     "execution_count": 3,
     "metadata": {},
     "output_type": "execute_result"
    }
   ],
   "source": [
    "string_cmd = 'string disease query disease=\"breast cancer\"'\n",
    "p4c.commands.commands_run(string_cmd)"
   ]
  },
  {
   "cell_type": "code",
   "execution_count": 4,
   "metadata": {},
   "outputs": [],
   "source": [
    "string_net = p4c.get_network_suid()"
   ]
  },
  {
   "cell_type": "markdown",
   "metadata": {},
   "source": [
    "# Filtering by degree\n"
   ]
  },
  {
   "cell_type": "markdown",
   "metadata": {},
   "source": [
    "## Creating a degree filter\n"
   ]
  },
  {
   "cell_type": "markdown",
   "metadata": {},
   "source": [
    "Every node in a network has a Degree property, which corresponds to the number of edges connecting the node to other nodes, either as a target or source. Filtering based on node degree is a useful way to remove nodes with too few (or too many) connections.\n",
    "\n",
    "In this example we want to exclude low degree nodes, e.g., those with only 0, 1 or 2 connections:"
   ]
  },
  {
   "cell_type": "code",
   "execution_count": 5,
   "metadata": {
    "scrolled": true
   },
   "outputs": [
    {
     "name": "stdout",
     "output_type": "stream",
     "text": [
      "No edges selected.\n"
     ]
    },
    {
     "data": {
      "text/plain": [
       "{'nodes': ['9606.ENSP00000011653',\n",
       "  '9606.ENSP00000296511',\n",
       "  '9606.ENSP00000369816',\n",
       "  '9606.ENSP00000302564',\n",
       "  '9606.ENSP00000265171',\n",
       "  '9606.ENSP00000386559',\n",
       "  '9606.ENSP00000288602',\n",
       "  '9606.ENSP00000263025',\n",
       "  '9606.ENSP00000354558',\n",
       "  '9606.ENSP00000261769',\n",
       "  '9606.ENSP00000407586',\n",
       "  '9606.ENSP00000372023',\n",
       "  '9606.ENSP00000269141',\n",
       "  '9606.ENSP00000306512',\n",
       "  '9606.ENSP00000371194',\n",
       "  '9606.ENSP00000441765',\n",
       "  '9606.ENSP00000361021',\n",
       "  '9606.ENSP00000256078',\n",
       "  '9606.ENSP00000484824',\n",
       "  '9606.ENSP00000317272',\n",
       "  '9606.ENSP00000352408',\n",
       "  '9606.ENSP00000437955',\n",
       "  '9606.ENSP00000275493',\n",
       "  '9606.ENSP00000428056',\n",
       "  '9606.ENSP00000229239',\n",
       "  '9606.ENSP00000410294',\n",
       "  '9606.ENSP00000343925',\n",
       "  '9606.ENSP00000344456',\n",
       "  '9606.ENSP00000261584',\n",
       "  '9606.ENSP00000277541',\n",
       "  '9606.ENSP00000263923',\n",
       "  '9606.ENSP00000278616',\n",
       "  '9606.ENSP00000331897',\n",
       "  '9606.ENSP00000227507',\n",
       "  '9606.ENSP00000268035',\n",
       "  '9606.ENSP00000267101',\n",
       "  '9606.ENSP00000252242',\n",
       "  '9606.ENSP00000356150',\n",
       "  '9606.ENSP00000295736',\n",
       "  '9606.ENSP00000418960',\n",
       "  '9606.ENSP00000219746',\n",
       "  '9606.ENSP00000478255',\n",
       "  '9606.ENSP00000390265',\n",
       "  '9606.ENSP00000288135',\n",
       "  '9606.ENSP00000282397',\n",
       "  '9606.ENSP00000479618',\n",
       "  '9606.ENSP00000351015',\n",
       "  '9606.ENSP00000252809',\n",
       "  '9606.ENSP00000354487',\n",
       "  '9606.ENSP00000311032',\n",
       "  '9606.ENSP00000269571',\n",
       "  '9606.ENSP00000257904',\n",
       "  '9606.ENSP00000325120',\n",
       "  '9606.ENSP00000379140',\n",
       "  '9606.ENSP00000398698',\n",
       "  '9606.ENSP00000219070',\n",
       "  '9606.ENSP00000382423',\n",
       "  '9606.ENSP00000267163',\n",
       "  '9606.ENSP00000349960',\n",
       "  '9606.ENSP00000393312',\n",
       "  '9606.ENSP00000362680',\n",
       "  '9606.ENSP00000380432',\n",
       "  '9606.ENSP00000297785',\n",
       "  '9606.ENSP00000244050',\n",
       "  '9606.ENSP00000380034',\n",
       "  '9606.ENSP00000379683',\n",
       "  '9606.ENSP00000343847',\n",
       "  '9606.ENSP00000457421',\n",
       "  '9606.ENSP00000302665',\n",
       "  '9606.ENSP00000309572',\n",
       "  '9606.ENSP00000276925',\n",
       "  '9606.ENSP00000342235',\n",
       "  '9606.ENSP00000360266',\n",
       "  '9606.ENSP00000264657',\n",
       "  '9606.ENSP00000351905',\n",
       "  '9606.ENSP00000370989',\n",
       "  '9606.ENSP00000264498',\n",
       "  '9606.ENSP00000346839',\n",
       "  '9606.ENSP00000398632',\n",
       "  '9606.ENSP00000483985',\n",
       "  '9606.ENSP00000269305',\n",
       "  '9606.ENSP00000263967',\n",
       "  '9606.ENSP00000361405',\n",
       "  '9606.ENSP00000295897',\n",
       "  '9606.ENSP00000266970',\n",
       "  '9606.ENSP00000478570',\n",
       "  '9606.ENSP00000258149',\n",
       "  '9606.ENSP00000385675',\n",
       "  '9606.ENSP00000386884',\n",
       "  '9606.ENSP00000363822',\n",
       "  '9606.ENSP00000369497',\n",
       "  '9606.ENSP00000239374',\n",
       "  '9606.ENSP00000405330',\n",
       "  '9606.ENSP00000451828',\n",
       "  '9606.ENSP00000418915',\n",
       "  '9606.ENSP00000263735'],\n",
       " 'edges': None}"
      ]
     },
     "execution_count": 5,
     "metadata": {},
     "output_type": "execute_result"
    }
   ],
   "source": [
    "p4c.create_degree_filter('degree filter', [0, 2], predicate='IS_NOT_BETWEEN')"
   ]
  },
  {
   "cell_type": "markdown",
   "metadata": {},
   "source": [
    "At the bottom of the Select tab, you can see how many edges/nodes where selected.\n",
    "\n"
   ]
  },
  {
   "cell_type": "markdown",
   "metadata": {},
   "source": [
    "# Creating a subnetwork from a selection\n"
   ]
  },
  {
   "cell_type": "markdown",
   "metadata": {},
   "source": [
    "We can now create a new network, or subnetwork, from our selected set of nodes and all relevant edges:\n",
    "\n"
   ]
  },
  {
   "cell_type": "code",
   "execution_count": 6,
   "metadata": {},
   "outputs": [
    {
     "data": {
      "text/plain": [
       "5233"
      ]
     },
     "execution_count": 6,
     "metadata": {},
     "output_type": "execute_result"
    }
   ],
   "source": [
    "p4c.create_subnetwork(subnetwork_name='Breast cancer: highly connected nodes')"
   ]
  },
  {
   "cell_type": "markdown",
   "metadata": {},
   "source": [
    "# Filtering by attribute\n"
   ]
  },
  {
   "cell_type": "markdown",
   "metadata": {},
   "source": [
    "## Creating a column filter\n"
   ]
  },
  {
   "cell_type": "markdown",
   "metadata": {},
   "source": [
    "We could also filter the network based on high disease score. The disease score comes from STRING and indicates the strength of the association to the disease queried.\n",
    "\n",
    "Let’s select nodes from the original network with a disease score of greater than 4 (on a scale of 1-5):"
   ]
  },
  {
   "cell_type": "code",
   "execution_count": 7,
   "metadata": {},
   "outputs": [
    {
     "name": "stdout",
     "output_type": "stream",
     "text": [
      "No edges selected.\n"
     ]
    },
    {
     "data": {
      "text/plain": [
       "{'nodes': ['9606.ENSP00000361021',\n",
       "  '9606.ENSP00000275493',\n",
       "  '9606.ENSP00000344456',\n",
       "  '9606.ENSP00000227507',\n",
       "  '9606.ENSP00000418960',\n",
       "  '9606.ENSP00000390265',\n",
       "  '9606.ENSP00000269571',\n",
       "  '9606.ENSP00000269305',\n",
       "  '9606.ENSP00000369497',\n",
       "  '9606.ENSP00000405330',\n",
       "  '9606.ENSP00000451828'],\n",
       " 'edges': None}"
      ]
     },
     "execution_count": 7,
     "metadata": {},
     "output_type": "execute_result"
    }
   ],
   "source": [
    "p4c.create_column_filter('disease score filter','stringdb::disease score', 4, \"GREATER_THAN\", network = string_net)"
   ]
  },
  {
   "cell_type": "markdown",
   "metadata": {},
   "source": [
    "Again, we can create a subnetwork from the selection:\n",
    "\n"
   ]
  },
  {
   "cell_type": "code",
   "execution_count": 8,
   "metadata": {},
   "outputs": [
    {
     "data": {
      "text/plain": [
       "7808"
      ]
     },
     "execution_count": 8,
     "metadata": {},
     "output_type": "execute_result"
    }
   ],
   "source": [
    "p4c.create_subnetwork(subnetwork_name='Breast cancer: high disease score')"
   ]
  },
  {
   "cell_type": "markdown",
   "metadata": {},
   "source": [
    "# Combining filters\n"
   ]
  },
  {
   "cell_type": "markdown",
   "metadata": {},
   "source": [
    "But what if we want to combine these two filters? You could apply them sequentially as individual filters, but then you’d need to be careful about the order in which you apply the filters. Alternatively, you can create a composite filter and apply the logic all at once!\n",
    "\n",
    "Let’s combine the two filters “degree filter” and “disease score” to produce one filter, then apply it to the original network and create a final subnetwork:"
   ]
  },
  {
   "cell_type": "code",
   "execution_count": 9,
   "metadata": {},
   "outputs": [
    {
     "name": "stdout",
     "output_type": "stream",
     "text": [
      "No edges selected.\n"
     ]
    },
    {
     "data": {
      "text/plain": [
       "7881"
      ]
     },
     "execution_count": 9,
     "metadata": {},
     "output_type": "execute_result"
    }
   ],
   "source": [
    "p4c.create_composite_filter('combined filter', ['degree filter','disease score filter'], network=string_net)\n",
    "p4c.create_subnetwork(subnetwork_name='final subnetwork')"
   ]
  },
  {
   "cell_type": "markdown",
   "metadata": {},
   "source": [
    "We can apply a layout to help with interpreting the network:\n",
    "\n"
   ]
  },
  {
   "cell_type": "code",
   "execution_count": 10,
   "metadata": {},
   "outputs": [
    {
     "data": {
      "text/plain": [
       "{}"
      ]
     },
     "execution_count": 10,
     "metadata": {},
     "output_type": "execute_result"
    }
   ],
   "source": [
    "p4c.layout_network('force-directed')"
   ]
  },
  {
   "cell_type": "markdown",
   "metadata": {},
   "source": [
    "This final network obviously contains fewer nodes than the original, but they are the most connected and most highly associated with the disease. If you examine the network you can see several well-known breast cancer oncogenes, for example BRCA1, TP53 and PTEN, near the center of the action."
   ]
  },
  {
   "cell_type": "markdown",
   "metadata": {},
   "source": [
    "# Hiding filtered nodes\n"
   ]
  },
  {
   "cell_type": "markdown",
   "metadata": {},
   "source": [
    "As a final example of the filter functions, let’s return to the orignal network once more and apply our “combined filter”. But this time let’s hide the filtered out nodes, rather than forming a selection. This demonstrates the applyFilter function and the hide parameter that is optional for all createXXXFilter functions as well."
   ]
  },
  {
   "cell_type": "code",
   "execution_count": 11,
   "metadata": {},
   "outputs": [],
   "source": [
    "# p4c.apply_filter('combined filter', hide=True, network=string_net)"
   ]
  }
 ],
 "metadata": {
  "kernelspec": {
   "display_name": "Python 3",
   "language": "python",
   "name": "python3"
  },
  "language_info": {
   "codemirror_mode": {
    "name": "ipython",
    "version": 3
   },
   "file_extension": ".py",
   "mimetype": "text/x-python",
   "name": "python",
   "nbconvert_exporter": "python",
   "pygments_lexer": "ipython3",
   "version": "3.8.5"
  }
 },
 "nbformat": 4,
 "nbformat_minor": 2
}
