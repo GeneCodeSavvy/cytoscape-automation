{
 "cells": [
  {
   "cell_type": "markdown",
   "metadata": {
    "colab_type": "text",
    "id": "view-in-github"
   },
   "source": [
    "<a href=\"https://colab.research.google.com/github/cytoscape/cytoscape-automation/blob/master/for-scripters/Python/group-nodes.ipynb\" target=\"_parent\"><img src=\"https://colab.research.google.com/assets/colab-badge.svg\" alt=\"Open In Colab\"/></a>"
   ]
  },
  {
   "cell_type": "markdown",
   "metadata": {
    "id": "jiQRbf2RzNAH"
   },
   "source": [
    "# Group Nodes\n",
    "## Yihang Xin and Alex Pico\n",
    "## 2023-05-30"
   ]
  },
  {
   "cell_type": "markdown",
   "metadata": {
    "id": "wwGP8Y5xzNAJ"
   },
   "source": [
    "This notebook will show you how to use node grouping functions to manipulate graphs in Cytoscape.\n",
    "\n"
   ]
  },
  {
   "cell_type": "markdown",
   "metadata": {
    "id": "xlYtq-A_zNAK"
   },
   "source": [
    "# Installation\n",
    "The following chunk of code installs the `py4cytoscape` module."
   ]
  },
  {
   "cell_type": "code",
   "execution_count": 1,
   "metadata": {
    "id": "RwHaOZL6zNAK"
   },
   "outputs": [],
   "source": [
    "%%capture\n",
    "!python3 -m pip install python-igraph requests pandas networkx\n",
    "!python3 -m pip install py4cytoscape"
   ]
  },
  {
   "cell_type": "markdown",
   "metadata": {
    "id": "TQ6mRMmOzO93"
   },
   "source": [
    "If you are using a remote notebook environment such as Google Colab, please execute the cell below. (If you're running on your local notebook, you don't need to do that.)\n",
    "\n"
   ]
  },
  {
   "cell_type": "code",
   "execution_count": 2,
   "metadata": {
    "id": "5FopWFctzR7J"
   },
   "outputs": [
    {
     "name": "stdout",
     "output_type": "stream",
     "text": [
      "Requirement already satisfied: py4cytoscape in /opt/anaconda3/lib/python3.8/site-packages (0.0.10)\n",
      "Requirement already satisfied: python-igraph in /opt/anaconda3/lib/python3.8/site-packages (from py4cytoscape) (0.8.3)\n",
      "Requirement already satisfied: pandas in /opt/anaconda3/lib/python3.8/site-packages (from py4cytoscape) (1.1.3)\n",
      "Requirement already satisfied: colorbrewer in /opt/anaconda3/lib/python3.8/site-packages (from py4cytoscape) (0.2.0)\n",
      "Requirement already satisfied: networkx in /opt/anaconda3/lib/python3.8/site-packages (from py4cytoscape) (2.5)\n",
      "Requirement already satisfied: requests in /opt/anaconda3/lib/python3.8/site-packages (from py4cytoscape) (2.24.0)\n",
      "Requirement already satisfied: six in /opt/anaconda3/lib/python3.8/site-packages (from colorbrewer->py4cytoscape) (1.15.0)\n",
      "Requirement already satisfied: decorator>=4.3.0 in /opt/anaconda3/lib/python3.8/site-packages (from networkx->py4cytoscape) (4.4.2)\n",
      "Requirement already satisfied: python-dateutil>=2.7.3 in /opt/anaconda3/lib/python3.8/site-packages (from pandas->py4cytoscape) (2.8.1)\n",
      "Requirement already satisfied: numpy>=1.15.4 in /opt/anaconda3/lib/python3.8/site-packages (from pandas->py4cytoscape) (1.19.2)\n",
      "Requirement already satisfied: pytz>=2017.2 in /opt/anaconda3/lib/python3.8/site-packages (from pandas->py4cytoscape) (2020.1)\n",
      "Requirement already satisfied: texttable>=1.6.2 in /opt/anaconda3/lib/python3.8/site-packages (from python-igraph->py4cytoscape) (1.6.3)\n",
      "Requirement already satisfied: urllib3!=1.25.0,!=1.25.1,<1.26,>=1.21.1 in /opt/anaconda3/lib/python3.8/site-packages (from requests->py4cytoscape) (1.25.11)\n",
      "Requirement already satisfied: idna<3,>=2.5 in /opt/anaconda3/lib/python3.8/site-packages (from requests->py4cytoscape) (2.10)\n",
      "Requirement already satisfied: certifi>=2017.4.17 in /opt/anaconda3/lib/python3.8/site-packages (from requests->py4cytoscape) (2020.6.20)\n",
      "Requirement already satisfied: chardet<4,>=3.0.2 in /opt/anaconda3/lib/python3.8/site-packages (from requests->py4cytoscape) (3.0.4)\n"
     ]
    },
    {
     "name": "stderr",
     "output_type": "stream",
     "text": [
      "WARNING: You are using pip version 21.0; however, version 21.3.1 is available.\n",
      "You should consider upgrading via the '/opt/anaconda3/bin/python -m pip install --upgrade pip' command.\n"
     ]
    },
    {
     "name": "stdout",
     "output_type": "stream",
     "text": [
      "Loading Javascript client ... ff8f7b6e-99e4-42ed-abe7-176ece2fb241 on https://jupyter-bridge.cytoscape.org\n"
     ]
    },
    {
     "data": {
      "application/javascript": [
       "var Channel = \"ff8f7b6e-99e4-42ed-abe7-176ece2fb241\"; \n",
       "\n",
       "var JupyterBridge = \"https://jupyter-bridge.cytoscape.org\"; \n",
       "\n",
       "  /*\n",
       "    These functions serve as a connector between a remote Jupyter server and Cytoscape.\n",
       "    They run in the user's browser, which also shows the Jupyter Notebook.\n",
       "\n",
       "    A remote Jupyter Notebook call to the py4cytoscape package is forwarded to the Jupyter Bridge,\n",
       "    which is a standalone server. The functions in this connector execute in the Jupyter Notebook\n",
       "    browser, which executes on the same PC as Cytoscape. So, that's 4 components: (A) remote\n",
       "    Jupyter Notebook, (B) separate Jupyter Bridge server, (C) this browser-based component, and\n",
       "    (D) Cytoscape. (A) is on a remote server, (B) is on a different remote server, and (C) and (D)\n",
       "    are on the user's PC.\n",
       "\n",
       "    (A) calls its py4cytoscape module, which forwards the request (in a JSON wrapper) to (B).\n",
       "    (C) picks up the request from (B), unpacks the request and forwards it to (D). (C) awaits a\n",
       "    reply from (D), and when it gets it, it forwards the reply (in a JSON wrapper) to (B).\n",
       "    (A)'s py4cytoscape module picks up the reply on (B) when it becomes available, unpacks it,\n",
       "    and returns it to (A).\n",
       "\n",
       "    A Jupyter Notebook can talk to only one Cytoscape (i.e., the one on the machine running the\n",
       "    Jupyter Notebook browser), and Cytoscape should be called by only one Jupyter Notebook. The\n",
       "    Jupyter Bridge differentiates between Notebook-Cytoscape conversations via a channel UUID.\n",
       "    The UUID is prepended to this browser component by py4Cytoscape, and the component is\n",
       "    started by the Jupyter Notebook. (I wish py4Cytoscape could start the component, too, but I\n",
       "    haven't figured out how to do that yet, so startup code *is* required in the Jupyter\n",
       "    Notebook.)\n",
       "\n",
       "    Note that for the case of a Jupyter server running on the same machine as Cytoscape, this\n",
       "    bridge isn't necessary because the Jupyter server's HTTP calls can easily connect to\n",
       "    Cytoscape over a localhost socket. So, the combination of Jupyter Bridge and this browser\n",
       "    component solves the problem of a Jupyter server (e.g., Google's Colab) that can't\n",
       "    connect to Cytoscape that sits behind a firewall.\n",
       "\n",
       "    The request represents an HTTP call that py4cytoscape would normally make via HTTP directly\n",
       "    to Cytoscape via localhost when both py4cytoscape and Cytoscape are running on the same machine.\n",
       " */\n",
       "\n",
       "const VERSION = '0.0.2'\n",
       "\n",
       "var showDebug; // Flag indicating whether to show Jupyter-bridge progress\n",
       "if (typeof showDebug === 'undefined') {\n",
       "    showDebug = false\n",
       "}\n",
       "if (showDebug) {\n",
       "    alert(\"Starting Jupyter-bridge browser component\")\n",
       "}\n",
       "\n",
       "//const JupyterBridge = 'http://127.0.0.1:5000' // for testing against local Jupyter-bridge\n",
       "var JupyterBridge; // URL of Jupyter-bridge server could be defined by assignment pre-pended to this file\n",
       "if (typeof JupyterBridge === 'undefined') {\n",
       "    JupyterBridge = 'https://jupyter-bridge.cytoscape.org' // for production\n",
       "}\n",
       "var Channel; // Unique constant that could be defined by assignment pre-pended to this file\n",
       "if (typeof Channel === 'undefined') { // ... but if not assigned, use a debugging value\n",
       "    Channel = 1\n",
       "}\n",
       "\n",
       "\n",
       "var httpR = new XMLHttpRequest(); // for sending reply to Jupyter-bridge\n",
       "var httpRE = new XMLHttpRequest(); // for sending backup error reply to Jupyter-bridge\n",
       "var httpC = new XMLHttpRequest(); // for sending command to Cytoscape\n",
       "var httpJ = new XMLHttpRequest(); // for fetching request from Jupyter-bridge\n",
       "\n",
       "const HTTP_OK = 200\n",
       "const HTTP_SYS_ERR = 500\n",
       "const HTTP_TIMEOUT = 408\n",
       "const HTTP_TOO_MANY = 429\n",
       "\n",
       "\n",
       " /* This function is useful if we want to rewrite the incoming URL to resolve just to our local one.\n",
       "    Doing this stops the Jupyter component from abusing this client to call out to endpoints other\n",
       "    than local Cytoscape. On the other hand, it makes it hard to detect when the Jupyter component\n",
       "    has specified a genuinely bad URL and really should get an error result. For now, we'll execute\n",
       "    the Jupyter-supplied URL and return the result, whatever it may be.\n",
       "\n",
       "const LocalCytoscape = 'http://127.0.0.1:1234'\n",
       "\n",
       "function parseURL(url) {\n",
       "    var reURLInformation = new RegExp([\n",
       "        '^(https?:)//', // protocol\n",
       "        '(([^:/?#]*)(?::([0-9]+))?)', // host (hostname and port)\n",
       "        '(/{0,1}[^?#]*)', // pathname\n",
       "        '(\\\\?[^#]*|)', // search\n",
       "        '(#.*|)$' // hash\n",
       "    ].join(''));\n",
       "    var match = url.match(reURLInformation);\n",
       "    return match && {\n",
       "        url: url,\n",
       "        protocol: match[1],\n",
       "        host: match[2],\n",
       "        hostname: match[3],\n",
       "        port: match[4],\n",
       "        pathname: match[5],\n",
       "        search: match[6],\n",
       "        hash: match[7]\n",
       "    }\n",
       "}\n",
       "*/\n",
       "\n",
       "function replyCytoscape(replyStatus, replyStatusText, replyText) {\n",
       "\n",
       "    // Clean up after Jupyter bridge accepts reply\n",
       "    httpR.onreadystatechange = function() {\n",
       "        if (httpR.readyState === 4) {\n",
       "            if (showDebug) {\n",
       "                console.log(' status from queue_reply: ' + httpR.status + ', reply: ' + httpR.responseText)\n",
       "            }\n",
       "        }\n",
       "    }\n",
       "\n",
       "    httpR.onerror = function() {\n",
       "        // Clean up after Jupyter bridge accepts backup reply\n",
       "        httpRE.onreadystatechange = function() {\n",
       "            if (httpRE.readyState === 4) {\n",
       "                if (showDebug) {\n",
       "                    console.log(' status from backup queue_reply: ' + httpRE.status + ', reply: ' + httpRE.responseText)\n",
       "                }\n",
       "            }\n",
       "        }\n",
       "\n",
       "        if (showDebug) {\n",
       "            console.log(' error from queue_reply -- could be Jupyter-Bridge server reject')\n",
       "        }\n",
       "        var errReply = {'status': HTTP_SYS_ERR, 'reason': 'Jupyter-Bridge rejected reply', 'text': 'Possibly reply is too long for Jupyter-Bridge server'}\n",
       "        httpRE.open('POST', jupyterBridgeURL, true)\n",
       "        httpRE.setRequestHeader('Content-Type', 'text/plain')\n",
       "        httpRE.send(JSON.stringify(errReply))\n",
       "    }\n",
       "\n",
       "    var reply = {'status': replyStatus, 'reason': replyStatusText, 'text': replyText}\n",
       "\n",
       "    // Send reply to Jupyter bridge\n",
       "    var jupyterBridgeURL = JupyterBridge + '/queue_reply?channel=' + Channel\n",
       "    if (showDebug) {\n",
       "        console.log('Starting queue to Jupyter bridge: ' + jupyterBridgeURL)\n",
       "    }\n",
       "    httpR.open('POST', jupyterBridgeURL, true)\n",
       "    httpR.setRequestHeader('Content-Type', 'text/plain')\n",
       "    httpR.send(JSON.stringify(reply))\n",
       "}\n",
       "\n",
       "function callCytoscape(callSpec) {\n",
       "\n",
       "    // Captures Cytoscape reply and sends it on\n",
       "    httpC.onreadystatechange = function() {\n",
       "        if (httpC.readyState === 4) {\n",
       "            if (showDebug) {\n",
       "                console.log(' status from CyREST: ' + httpC.status + ', statusText: ' + httpC.statusText + ', reply: ' + httpC.responseText)\n",
       "            }\n",
       "            // Note that httpC.status is 0 if the URL can't be reached *OR* there is a CORS violation.\n",
       "            // I wish I could tell the difference because for a CORS violation, I'd return a 404,\n",
       "            // which would roughly match what Python's native request package would return.\n",
       "            // The practical consequence is that the ultimate caller (e.g., py4cytoscape)\n",
       "            // returns different exceptions, depending on wither this module is doing the\n",
       "            // HTTP operation or the native Python requests package is. This is minor, but\n",
       "            // messes up tests that verify the exception type.\n",
       "            replyCytoscape(httpC.status, httpC.statusText, httpC.responseText)\n",
       "            waitOnJupyterBridge()\n",
       "        }\n",
       "    }\n",
       "\n",
       "//  Build up request to Cytoscape, making sure host is local.\n",
       "//    Too heavy handed: localURL = LocalCytoscape + parseURL(callSpec.url).pathname\n",
       "    var localURL = callSpec.url // Try using what was passed in ... is there a security risk??\n",
       "\n",
       "    if (showDebug) {\n",
       "        console.log('Command to CyREST: ' + callSpec.command + ' (' + localURL + ')')\n",
       "        if (callSpec.params) {\n",
       "            console.log(' params: ' + JSON.stringify(callSpec.params))\n",
       "        }\n",
       "        if (callSpec.headers) {\n",
       "            console.log(' header: ' + JSON.stringify(callSpec.headers))\n",
       "        }\n",
       "        if (callSpec.data) {\n",
       "            console.log('   data: ' + JSON.stringify(callSpec.data))\n",
       "        }\n",
       "    }\n",
       "\n",
       "    if (callSpec.command === 'webbrowser') {\n",
       "        if (window.open(callSpec.url)) {\n",
       "            replyCytoscape(HTTP_OK, 'OK', '')\n",
       "        } else {\n",
       "            replyCytoscape(HTTP_SYS_ERR, 'BAD BROWSER OPEN', '')\n",
       "        }\n",
       "        waitOnJupyterBridge()\n",
       "    } else if (callSpec.command === 'version') {\n",
       "        replyCytoscape(HTTP_OK, 'OK',\n",
       "            JSON.stringify({\"jupyterBridgeVersion\": VERSION}))\n",
       "        waitOnJupyterBridge()\n",
       "    } else {\n",
       "        var joiner = '?'\n",
       "        for (let param in callSpec.params) {\n",
       "            localURL = localURL + joiner + param + '=' + encodeURIComponent(callSpec.params[param])\n",
       "            joiner = '&'\n",
       "        }\n",
       "\n",
       "        httpC.open(callSpec.command, localURL, true)\n",
       "        for (let header in callSpec.headers) {\n",
       "            httpC.setRequestHeader(header, callSpec.headers[header])\n",
       "        }\n",
       "\n",
       "        // Send request to Cytoscape ... reply goes to onreadystatechange handler\n",
       "        httpC.send(JSON.stringify(callSpec.data))\n",
       "    }\n",
       "}\n",
       "\n",
       "function waitOnJupyterBridge() {\n",
       "\n",
       "    // Captures request from Jupyter bridge\n",
       "    httpJ.onreadystatechange = function() {\n",
       "        if (httpJ.readyState === 4) {\n",
       "            if (showDebug) {\n",
       "                console.log(' status from dequeue_request: ' + httpJ.status + ', reply: ' + httpJ.responseText)\n",
       "            }\n",
       "            try {\n",
       "                if (httpJ.status == HTTP_TOO_MANY) {\n",
       "                    // Nothing more to do ... the browser has created too many listeners,\n",
       "                    // and it's time to stop listening because the server saw a listener\n",
       "                    // listening on this channel before we got there.\n",
       "                    console.log('  shutting down because of redundant reader on channel: ' + Channel)\n",
       "                } else {\n",
       "                    if (httpJ.status === HTTP_TIMEOUT) {\n",
       "                        waitOnJupyterBridge()\n",
       "                    } else {\n",
       "                        callCytoscape(JSON.parse(httpJ.responseText))\n",
       "                    }\n",
       "                }\n",
       "            } catch(err) {\n",
       "                if (showDebug) {\n",
       "                    console.log(' exception calling Cytoscape: ' + err)\n",
       "                }\n",
       "                // Bad responseText means something bad happened that we don't understand.\n",
       "                // Go wait on another request, as there's nothing to call Cytoscape with.\n",
       "                waitOnJupyterBridge()\n",
       "            }\n",
       "        }\n",
       "    }\n",
       "\n",
       "    // Wait for request from Jupyter bridge\n",
       "    var jupyterBridgeURL = JupyterBridge + '/dequeue_request?channel=' + Channel\n",
       "    if (showDebug) {\n",
       "        console.log('Starting dequeue on Jupyter bridge: ' + jupyterBridgeURL)\n",
       "    }\n",
       "    httpJ.open('GET', jupyterBridgeURL, true)\n",
       "    httpJ.send()\n",
       "}\n",
       "\n",
       "// This kicks off a loop that ends by calling waitOnJupyterBridge again. This first call\n",
       "// ejects any dead readers before we start a read\n",
       "waitOnJupyterBridge() // Wait for message from Jupyter bridge, execute it, and return reply\n",
       "\n",
       "if (showDebug) {\n",
       "    alert(\"Jupyter-bridge browser component is started on \" + JupyterBridge + ', channel ' + Channel)\n",
       "}\n"
      ],
      "text/plain": [
       "<IPython.core.display.Javascript object>"
      ]
     },
     "execution_count": 2,
     "metadata": {},
     "output_type": "execute_result"
    }
   ],
   "source": [
    "#_PY4CYTOSCAPE = 'git+https://github.com/cytoscape/py4cytoscape@1.7.0' # optional\n",
    "import requests\n",
    "exec(requests.get(\"https://raw.githubusercontent.com/cytoscape/jupyter-bridge/master/client/p4c_init.py\").text)\n",
    "IPython.display.Javascript(_PY4CYTOSCAPE_BROWSER_CLIENT_JS) # Start browser client"
   ]
  },
  {
   "cell_type": "markdown",
   "metadata": {
    "id": "8RpRb2wszNAL"
   },
   "source": [
    "# Prerequisites\n",
    "In addition to this package (py4cytoscape version 1.7.0), you will need:\n",
    "\n",
    "* Latest version of Cytoscape, which can be downloaded from https://cytoscape.org/download.html. Simply follow the installation instructions on screen.\n",
    "\n",
    "* Complete installation wizard\n",
    "\n",
    "* Launch Cytoscape\n",
    "\n",
    "You can also install app inside Python notebook by running \"py4cytoscape.install_app('Your App')\""
   ]
  },
  {
   "cell_type": "markdown",
   "metadata": {
    "id": "fpdMEmOJzNAM"
   },
   "source": [
    "# Import the required package\n"
   ]
  },
  {
   "cell_type": "code",
   "execution_count": 3,
   "metadata": {
    "id": "b7RDCLJPzNAM"
   },
   "outputs": [],
   "source": [
    "import os\n",
    "import sys\n",
    "import pandas as pd\n",
    "import py4cytoscape as p4c"
   ]
  },
  {
   "cell_type": "markdown",
   "metadata": {
    "id": "mHbZj4iFzNAN"
   },
   "source": [
    "# Setup Cytoscape\n"
   ]
  },
  {
   "cell_type": "code",
   "execution_count": 4,
   "metadata": {
    "id": "LshV_aKYzNAO",
    "outputId": "8f540772-0cf9-4e50-a491-48fce9d19524"
   },
   "outputs": [
    {
     "data": {
      "text/plain": [
       "{'apiVersion': 'v1',\n",
       " 'cytoscapeVersion': '3.9.0',\n",
       " 'automationAPIVersion': '1.2.0',\n",
       " 'py4cytoscapeVersion': '0.0.10'}"
      ]
     },
     "execution_count": 4,
     "metadata": {},
     "output_type": "execute_result"
    }
   ],
   "source": [
    "p4c.cytoscape_version_info()"
   ]
  },
  {
   "cell_type": "markdown",
   "metadata": {
    "id": "cNLIT1cVzNAP"
   },
   "source": [
    "# Background\n",
    "The ability to group nodes together into “metanodes” and collapse them to a single node in a graph is useful for simplifying views of a complex network.\n",
    "\n",
    "The example in this vignette describes application of node grouping functions to data that includes protein-protein interactions and clustered correlations of protein post-translational modifications (Grimes, et al., 2018). This vignette plots five proteins and their modifications, and uses the node grouping functions to manipulate the graph in Cytoscape.\n",
    "\n"
   ]
  },
  {
   "cell_type": "markdown",
   "metadata": {
    "id": "0IQqFZnmzNAP"
   },
   "source": [
    "# Example\n",
    "First we set up the node and edge data frames."
   ]
  },
  {
   "cell_type": "code",
   "execution_count": 5,
   "metadata": {
    "id": "MqUx0FS7zNAQ"
   },
   "outputs": [],
   "source": [
    "net_nodes = [\"ALK\", \"ALK p Y1078\", \"ALK p Y1096\", \"ALK p Y1586\", \"CTNND1\", \"CTNND1 p Y193\", \"CTNND1 p Y217\", \"CTNND1 p Y228\", \"CTNND1 p Y241\", \"CTNND1 p Y248\", \"CTNND1 p Y302\", \"CTNND1 p Y904\", \"CTTN\", \"CTTN ack K107\", \"CTTN ack K124\", \"CTTN ack K147\", \"CTTN ack K161\", \"CTTN ack K235\", \"CTTN ack K390\", \"CTTN ack K87\", \"CTTN p S113\", \"CTTN p S224\", \"CTTN p Y104\", \"CTTN p Y154\", \"CTTN p Y162\", \"CTTN p Y228\", \"CTTN p Y334\", \"CTTN p Y421\", \"IRS1\", \"IRS1 p Y632\", \"IRS1 p Y941\", \"IRS1 p Y989\", \"NPM1\", \"NPM1 ack K154\", \"NPM1 ack K223\", \"NPM1 p S214\", \"NPM1 p S218\"]\n",
    "parent = [\"\", \"ALK\", \"ALK\", \"ALK\", \"\", \"CTNND1\", \"CTNND1\", \"CTNND1\", \"CTNND1\", \"CTNND1\", \"CTNND1\", \"CTNND1\", \"\", \"CTTN\", \"CTTN\", \"CTTN\", \"CTTN\", \"CTTN\", \"CTTN\", \"CTTN\", \"CTTN\", \"CTTN\", \"CTTN\", \"CTTN\", \"CTTN\", \"CTTN\", \"CTTN\", \"CTTN\", \"\", \"IRS1\", \"IRS1\", \"IRS1\", \"\", \"NPM1\", \"NPM1\", \"NPM1\", \"NPM1\"]\n",
    "nodeType = [\"protein\", \"modification\", \"modification\", \"modification\", \"protein\", \"modification\", \"modification\", \"modification\", \"modification\", \"modification\", \"modification\", \"modification\", \"protein\", \"modification\", \"modification\", \"modification\", \"modification\", \"modification\", \"modification\", \"modification\", \"modification\", \"modification\", \"modification\", \"modification\", \"modification\", \"modification\", \"modification\", \"modification\", \"protein\", \"modification\", \"modification\", \"modification\", \"protein\", \"modification\", \"modification\", \"modification\", \"modification\"]"
   ]
  },
  {
   "cell_type": "code",
   "execution_count": 6,
   "metadata": {
    "id": "l_vnStzZzNAQ"
   },
   "outputs": [],
   "source": [
    "net_genes = []\n",
    "for n in net_nodes:\n",
    "    s = n.split()[0]\n",
    "    net_genes.append(s)"
   ]
  },
  {
   "cell_type": "code",
   "execution_count": 7,
   "metadata": {
    "id": "uJisrvGmzNAQ"
   },
   "outputs": [],
   "source": [
    "d = {'id': net_nodes, 'Gene.name':net_genes, 'parent': parent, 'nodeType':nodeType}"
   ]
  },
  {
   "cell_type": "code",
   "execution_count": 8,
   "metadata": {
    "id": "JP16vRhZzNAR",
    "outputId": "18cb92ae-137b-40bc-8eb9-24b6ce2e053b"
   },
   "outputs": [
    {
     "data": {
      "text/html": [
       "<div>\n",
       "<style scoped>\n",
       "    .dataframe tbody tr th:only-of-type {\n",
       "        vertical-align: middle;\n",
       "    }\n",
       "\n",
       "    .dataframe tbody tr th {\n",
       "        vertical-align: top;\n",
       "    }\n",
       "\n",
       "    .dataframe thead th {\n",
       "        text-align: right;\n",
       "    }\n",
       "</style>\n",
       "<table border=\"1\" class=\"dataframe\">\n",
       "  <thead>\n",
       "    <tr style=\"text-align: right;\">\n",
       "      <th></th>\n",
       "      <th>id</th>\n",
       "      <th>Gene.name</th>\n",
       "      <th>parent</th>\n",
       "      <th>nodeType</th>\n",
       "    </tr>\n",
       "  </thead>\n",
       "  <tbody>\n",
       "    <tr>\n",
       "      <th>0</th>\n",
       "      <td>ALK</td>\n",
       "      <td>ALK</td>\n",
       "      <td></td>\n",
       "      <td>protein</td>\n",
       "    </tr>\n",
       "    <tr>\n",
       "      <th>1</th>\n",
       "      <td>ALK p Y1078</td>\n",
       "      <td>ALK</td>\n",
       "      <td>ALK</td>\n",
       "      <td>modification</td>\n",
       "    </tr>\n",
       "    <tr>\n",
       "      <th>2</th>\n",
       "      <td>ALK p Y1096</td>\n",
       "      <td>ALK</td>\n",
       "      <td>ALK</td>\n",
       "      <td>modification</td>\n",
       "    </tr>\n",
       "    <tr>\n",
       "      <th>3</th>\n",
       "      <td>ALK p Y1586</td>\n",
       "      <td>ALK</td>\n",
       "      <td>ALK</td>\n",
       "      <td>modification</td>\n",
       "    </tr>\n",
       "    <tr>\n",
       "      <th>4</th>\n",
       "      <td>CTNND1</td>\n",
       "      <td>CTNND1</td>\n",
       "      <td></td>\n",
       "      <td>protein</td>\n",
       "    </tr>\n",
       "  </tbody>\n",
       "</table>\n",
       "</div>"
      ],
      "text/plain": [
       "            id Gene.name parent      nodeType\n",
       "0          ALK       ALK              protein\n",
       "1  ALK p Y1078       ALK    ALK  modification\n",
       "2  ALK p Y1096       ALK    ALK  modification\n",
       "3  ALK p Y1586       ALK    ALK  modification\n",
       "4       CTNND1    CTNND1              protein"
      ]
     },
     "execution_count": 8,
     "metadata": {},
     "output_type": "execute_result"
    }
   ],
   "source": [
    "netnodes_df = pd.DataFrame(data=d)\n",
    "netnodes_df.head()"
   ]
  },
  {
   "cell_type": "code",
   "execution_count": 9,
   "metadata": {
    "id": "_DMddwCmzNAR",
    "outputId": "9126dfdd-71d8-469d-813f-70d894c00e9a"
   },
   "outputs": [
    {
     "data": {
      "text/html": [
       "<div>\n",
       "<style scoped>\n",
       "    .dataframe tbody tr th:only-of-type {\n",
       "        vertical-align: middle;\n",
       "    }\n",
       "\n",
       "    .dataframe tbody tr th {\n",
       "        vertical-align: top;\n",
       "    }\n",
       "\n",
       "    .dataframe thead th {\n",
       "        text-align: right;\n",
       "    }\n",
       "</style>\n",
       "<table border=\"1\" class=\"dataframe\">\n",
       "  <thead>\n",
       "    <tr style=\"text-align: right;\">\n",
       "      <th></th>\n",
       "      <th>source</th>\n",
       "      <th>target</th>\n",
       "      <th>Weight</th>\n",
       "    </tr>\n",
       "  </thead>\n",
       "  <tbody>\n",
       "    <tr>\n",
       "      <th>0</th>\n",
       "      <td>ALK</td>\n",
       "      <td>ALK p Y1078</td>\n",
       "      <td>100.0</td>\n",
       "    </tr>\n",
       "    <tr>\n",
       "      <th>1</th>\n",
       "      <td>ALK</td>\n",
       "      <td>ALK p Y1096</td>\n",
       "      <td>100.0</td>\n",
       "    </tr>\n",
       "    <tr>\n",
       "      <th>2</th>\n",
       "      <td>ALK</td>\n",
       "      <td>ALK p Y1586</td>\n",
       "      <td>100.0</td>\n",
       "    </tr>\n",
       "    <tr>\n",
       "      <th>3</th>\n",
       "      <td>CTNND1</td>\n",
       "      <td>CTNND1 p Y193</td>\n",
       "      <td>100.0</td>\n",
       "    </tr>\n",
       "    <tr>\n",
       "      <th>4</th>\n",
       "      <td>CTNND1</td>\n",
       "      <td>CTNND1 p Y217</td>\n",
       "      <td>100.0</td>\n",
       "    </tr>\n",
       "  </tbody>\n",
       "</table>\n",
       "</div>"
      ],
      "text/plain": [
       "   source         target  Weight\n",
       "0     ALK    ALK p Y1078   100.0\n",
       "1     ALK    ALK p Y1096   100.0\n",
       "2     ALK    ALK p Y1586   100.0\n",
       "3  CTNND1  CTNND1 p Y193   100.0\n",
       "4  CTNND1  CTNND1 p Y217   100.0"
      ]
     },
     "execution_count": 9,
     "metadata": {},
     "output_type": "execute_result"
    }
   ],
   "source": [
    "# Define edge data\n",
    "source_nodes = [\"ALK\", \"ALK\", \"ALK\", \"CTNND1\", \"CTNND1\", \"CTNND1\", \"CTNND1\", \"CTNND1\", \"CTNND1\", \"CTNND1\", \"CTTN\", \"CTTN\", \"CTTN\", \"CTTN\", \"CTTN\", \"CTTN\", \"CTTN\", \"CTTN\", \"CTTN\", \"CTTN\", \"CTTN\", \"CTTN\", \"CTTN\", \"CTTN\", \"CTTN\", \"IRS1\", \"IRS1\", \"IRS1\", \"NPM1\", \"NPM1\", \"NPM1\", \"NPM1\", \"ALK p Y1096\", \"CTNND1 p Y193\", \"CTNND1 p Y193\", \"CTNND1 p Y228\", \"CTNND1 p Y904\", \"CTNND1 p Y217\", \"CTNND1 p Y241\", \"CTNND1 p Y248\", \"ALK p Y1078\", \"ALK p Y1096\", \"ALK p Y1586\", \"IRS1 p Y941\", \"CTTN ack K147\", \"CTTN ack K107\", \"CTTN ack K235\", \"CTTN ack K87\", \"CTTN ack K147\", \"CTTN ack K124\", \"CTTN ack K147\", \"CTTN ack K235\", \"CTTN ack K161\", \"CTTN ack K390\", \"NPM1 ack K223\", \"NPM1 ack K154\", \"NPM1 ack K223\", \"ALK\", \"CTNND1\", \"CTNND1\", \"CTTN\", \"IRS1\"]\n",
    "target_nodes = [\"ALK p Y1078\", \"ALK p Y1096\", \"ALK p Y1586\", \"CTNND1 p Y193\", \"CTNND1 p Y217\", \"CTNND1 p Y228\", \"CTNND1 p Y241\", \"CTNND1 p Y248\", \"CTNND1 p Y302\", \"CTNND1 p Y904\", \"CTTN ack K107\", \"CTTN ack K124\", \"CTTN ack K147\", \"CTTN ack K161\", \"CTTN ack K235\", \"CTTN ack K390\", \"CTTN ack K87\", \"CTTN p S113\", \"CTTN p S224\", \"CTTN p Y104\", \"CTTN p Y154\", \"CTTN p Y162\", \"CTTN p Y228\", \"CTTN p Y334\", \"CTTN p Y421\", \"IRS1 p Y632\", \"IRS1 p Y941\", \"IRS1 p Y989\", \"NPM1 ack K154\", \"NPM1 ack K223\", \"NPM1 p S214\", \"NPM1 p S218\", \"ALK p Y1586\", \"CTNND1 p Y228\", \"CTNND1 p Y302\", \"CTNND1 p Y302\", \"CTTN p Y154\", \"CTTN p Y162\", \"CTTN p Y162\", \"CTTN p Y334\", \"IRS1 p Y632\", \"IRS1 p Y989\", \"IRS1 p Y989\", \"IRS1 p Y989\", \"CTTN p S113\", \"CTTN p S224\", \"CTTN p S224\", \"CTTN p S224\", \"CTTN p Y104\", \"CTTN p Y228\", \"CTTN p Y228\", \"CTTN p Y228\", \"CTTN p Y421\", \"CTTN p Y421\", \"NPM1 p S214\", \"NPM1 p S218\", \"NPM1 p S218\", \"IRS1\", \"CTTN\", \"IRS1\", \"NPM1\", \"NPM1\"]\n",
    "Weight = [100, 100, 100, 100, 100, 100, 100, 100, 100, 100, 100, 100, 100, 100, 100, 100, 100, 100, 100, 100, 100, 100, 100, 100, 100, 100, 100, 100, 100, 100, 100, 100, 0.8060606, 0.7575758, 0.7454545, 0.9393939, 0.8949096, 0.7329699, 0.7553845, 0.7866191, 0.775, 0.6969697, 0.7818182, 0.8424242, -0.7714286, -0.8385965, -0.5017544, -0.7473684, -0.5252838, -0.9428571, -0.8285714, -0.6713287, -0.5508772, -0.9428571, -0.8857143, -0.6310881, -0.8285714, 0.6123365, 2.115272, 0.002461723, 0.3354451, 0.5661711]\n",
    "d = {'source': source_nodes, 'target':target_nodes, 'Weight': Weight}\n",
    "netedges_df = pd.DataFrame(data=d)\n",
    "netedges_df.head()"
   ]
  },
  {
   "cell_type": "code",
   "execution_count": 10,
   "metadata": {
    "id": "pfHe1-b3zNAR",
    "outputId": "83fca9a9-f953-425e-e2ba-5d16e254150e"
   },
   "outputs": [
    {
     "name": "stdout",
     "output_type": "stream",
     "text": [
      "Applying default style...\n",
      "Applying preferred layout\n"
     ]
    }
   ],
   "source": [
    "#create network from data frames\n",
    "net_suid = p4c.create_network_from_data_frames(netnodes_df, netedges_df, title=\"Group Nodes Test\", collection = \"Py4cytoscape Vignettes\")"
   ]
  },
  {
   "cell_type": "code",
   "execution_count": 11,
   "metadata": {
    "id": "ZgW0mEYPzNAS",
    "outputId": "d501d37a-1ecf-4b8d-d9f8-b8826f9c6c0c"
   },
   "outputs": [
    {
     "data": {
      "text/plain": [
       "{}"
      ]
     },
     "execution_count": 11,
     "metadata": {},
     "output_type": "execute_result"
    }
   ],
   "source": [
    "p4c.layout_network('force-directed')"
   ]
  },
  {
   "cell_type": "markdown",
   "metadata": {
    "id": "W0j9Np0NzNAS"
   },
   "source": [
    "Note that for convenience the data frame has defined whether a node is a protein or a modification, and also defined the parent node for each modification.\n",
    "\n",
    "The function selectNodes looks by default for the node SUID, which can be retrieved by getTableColumns. Alternatively, the data frame can be used to distinguish proteins and modifications."
   ]
  },
  {
   "cell_type": "code",
   "execution_count": 12,
   "metadata": {
    "id": "I_dmo6ukzNAS",
    "outputId": "4b29de46-1b3b-43ed-dcf2-9a6139391de7"
   },
   "outputs": [
    {
     "data": {
      "text/html": [
       "<div>\n",
       "<style scoped>\n",
       "    .dataframe tbody tr th:only-of-type {\n",
       "        vertical-align: middle;\n",
       "    }\n",
       "\n",
       "    .dataframe tbody tr th {\n",
       "        vertical-align: top;\n",
       "    }\n",
       "\n",
       "    .dataframe thead th {\n",
       "        text-align: right;\n",
       "    }\n",
       "</style>\n",
       "<table border=\"1\" class=\"dataframe\">\n",
       "  <thead>\n",
       "    <tr style=\"text-align: right;\">\n",
       "      <th></th>\n",
       "      <th>SUID</th>\n",
       "      <th>shared name</th>\n",
       "      <th>name</th>\n",
       "      <th>selected</th>\n",
       "      <th>id</th>\n",
       "      <th>Gene.name</th>\n",
       "      <th>parent</th>\n",
       "      <th>nodeType</th>\n",
       "    </tr>\n",
       "  </thead>\n",
       "  <tbody>\n",
       "    <tr>\n",
       "      <th>77312</th>\n",
       "      <td>77312</td>\n",
       "      <td>IRS1</td>\n",
       "      <td>IRS1</td>\n",
       "      <td>False</td>\n",
       "      <td>IRS1</td>\n",
       "      <td>IRS1</td>\n",
       "      <td></td>\n",
       "      <td>protein</td>\n",
       "    </tr>\n",
       "    <tr>\n",
       "      <th>77315</th>\n",
       "      <td>77315</td>\n",
       "      <td>IRS1 p Y632</td>\n",
       "      <td>IRS1 p Y632</td>\n",
       "      <td>False</td>\n",
       "      <td>IRS1 p Y632</td>\n",
       "      <td>IRS1</td>\n",
       "      <td>IRS1</td>\n",
       "      <td>modification</td>\n",
       "    </tr>\n",
       "    <tr>\n",
       "      <th>77318</th>\n",
       "      <td>77318</td>\n",
       "      <td>IRS1 p Y941</td>\n",
       "      <td>IRS1 p Y941</td>\n",
       "      <td>False</td>\n",
       "      <td>IRS1 p Y941</td>\n",
       "      <td>IRS1</td>\n",
       "      <td>IRS1</td>\n",
       "      <td>modification</td>\n",
       "    </tr>\n",
       "    <tr>\n",
       "      <th>77321</th>\n",
       "      <td>77321</td>\n",
       "      <td>IRS1 p Y989</td>\n",
       "      <td>IRS1 p Y989</td>\n",
       "      <td>False</td>\n",
       "      <td>IRS1 p Y989</td>\n",
       "      <td>IRS1</td>\n",
       "      <td>IRS1</td>\n",
       "      <td>modification</td>\n",
       "    </tr>\n",
       "    <tr>\n",
       "      <th>77324</th>\n",
       "      <td>77324</td>\n",
       "      <td>NPM1</td>\n",
       "      <td>NPM1</td>\n",
       "      <td>False</td>\n",
       "      <td>NPM1</td>\n",
       "      <td>NPM1</td>\n",
       "      <td></td>\n",
       "      <td>protein</td>\n",
       "    </tr>\n",
       "  </tbody>\n",
       "</table>\n",
       "</div>"
      ],
      "text/plain": [
       "        SUID  shared name         name selected           id Gene.name parent  \\\n",
       "77312  77312         IRS1         IRS1    False         IRS1      IRS1          \n",
       "77315  77315  IRS1 p Y632  IRS1 p Y632    False  IRS1 p Y632      IRS1   IRS1   \n",
       "77318  77318  IRS1 p Y941  IRS1 p Y941    False  IRS1 p Y941      IRS1   IRS1   \n",
       "77321  77321  IRS1 p Y989  IRS1 p Y989    False  IRS1 p Y989      IRS1   IRS1   \n",
       "77324  77324         NPM1         NPM1    False         NPM1      NPM1          \n",
       "\n",
       "           nodeType  \n",
       "77312       protein  \n",
       "77315  modification  \n",
       "77318  modification  \n",
       "77321  modification  \n",
       "77324       protein  "
      ]
     },
     "execution_count": 12,
     "metadata": {},
     "output_type": "execute_result"
    }
   ],
   "source": [
    "nodedata = p4c.get_table_columns(table='node')\n",
    "edgedata = p4c.get_table_columns(table='edge')\n",
    "nodedata.head()"
   ]
  },
  {
   "cell_type": "code",
   "execution_count": 13,
   "metadata": {
    "id": "91VHFs3lzNAT",
    "outputId": "b47b34f9-254b-49bf-865e-c6d491e8fbe6"
   },
   "outputs": [
    {
     "data": {
      "text/html": [
       "<div>\n",
       "<style scoped>\n",
       "    .dataframe tbody tr th:only-of-type {\n",
       "        vertical-align: middle;\n",
       "    }\n",
       "\n",
       "    .dataframe tbody tr th {\n",
       "        vertical-align: top;\n",
       "    }\n",
       "\n",
       "    .dataframe thead th {\n",
       "        text-align: right;\n",
       "    }\n",
       "</style>\n",
       "<table border=\"1\" class=\"dataframe\">\n",
       "  <thead>\n",
       "    <tr style=\"text-align: right;\">\n",
       "      <th></th>\n",
       "      <th>id</th>\n",
       "    </tr>\n",
       "  </thead>\n",
       "  <tbody>\n",
       "    <tr>\n",
       "      <th>0</th>\n",
       "      <td>ALK</td>\n",
       "    </tr>\n",
       "    <tr>\n",
       "      <th>4</th>\n",
       "      <td>CTNND1</td>\n",
       "    </tr>\n",
       "    <tr>\n",
       "      <th>12</th>\n",
       "      <td>CTTN</td>\n",
       "    </tr>\n",
       "    <tr>\n",
       "      <th>28</th>\n",
       "      <td>IRS1</td>\n",
       "    </tr>\n",
       "    <tr>\n",
       "      <th>32</th>\n",
       "      <td>NPM1</td>\n",
       "    </tr>\n",
       "  </tbody>\n",
       "</table>\n",
       "</div>"
      ],
      "text/plain": [
       "        id\n",
       "0      ALK\n",
       "4   CTNND1\n",
       "12    CTTN\n",
       "28    IRS1\n",
       "32    NPM1"
      ]
     },
     "execution_count": 13,
     "metadata": {},
     "output_type": "execute_result"
    }
   ],
   "source": [
    "genes = netnodes_df[netnodes_df['nodeType'].str.contains(\"protein\")]['id']\n",
    "genes = pd.DataFrame(genes)\n",
    "genes"
   ]
  },
  {
   "cell_type": "code",
   "execution_count": 14,
   "metadata": {
    "id": "Mkz7DrMbzNAT",
    "outputId": "502e1961-89f7-4762-809b-e1bdd737c9cf"
   },
   "outputs": [
    {
     "data": {
      "text/plain": [
       "{'nodes': [77264, 77312, 77224, 77240, 77324], 'edges': []}"
      ]
     },
     "execution_count": 14,
     "metadata": {},
     "output_type": "execute_result"
    }
   ],
   "source": [
    "#select by gene SUIDs\n",
    "geneSUIDs = nodedata[nodedata['nodeType'].str.contains(\"protein\")]['SUID']\n",
    "geneSUIDs = pd.DataFrame(geneSUIDs)\n",
    "p4c.select_nodes(nodes=list(geneSUIDs['SUID']), preserve_current_selection=False)"
   ]
  },
  {
   "cell_type": "code",
   "execution_count": 15,
   "metadata": {
    "id": "cBud3SqbzNAT",
    "outputId": "a6b0ca86-ff51-460d-b486-5f64d4026dbb"
   },
   "outputs": [
    {
     "data": {
      "text/plain": [
       "{'nodes': [77312, 77224], 'edges': []}"
      ]
     },
     "execution_count": 15,
     "metadata": {},
     "output_type": "execute_result"
    }
   ],
   "source": [
    "# or by names in the \"id\" column\n",
    "p4c.select_nodes(nodes=[\"ALK\",\"IRS1\"],by_col='id', preserve_current_selection=False)"
   ]
  },
  {
   "cell_type": "code",
   "execution_count": 16,
   "metadata": {
    "id": "k3WhBx4UzNAU",
    "outputId": "bfe87900-3a6d-4aa9-9539-8b7063b1fdf3"
   },
   "outputs": [
    {
     "data": {
      "text/plain": [
       "{'nodes': [77231,\n",
       "  77234,\n",
       "  77297,\n",
       "  77300,\n",
       "  77237,\n",
       "  77303,\n",
       "  77306,\n",
       "  77243,\n",
       "  77246,\n",
       "  77309,\n",
       "  77249,\n",
       "  77252,\n",
       "  77315,\n",
       "  77318,\n",
       "  77255,\n",
       "  77258,\n",
       "  77321,\n",
       "  77261,\n",
       "  77327,\n",
       "  77330,\n",
       "  77267,\n",
       "  77270,\n",
       "  77333,\n",
       "  77336,\n",
       "  77273,\n",
       "  77276,\n",
       "  77279,\n",
       "  77282,\n",
       "  77285,\n",
       "  77288,\n",
       "  77291,\n",
       "  77294],\n",
       " 'edges': []}"
      ]
     },
     "execution_count": 16,
     "metadata": {},
     "output_type": "execute_result"
    }
   ],
   "source": [
    "# or by names based on dataframe subsetting\n",
    "modifications = netnodes_df[netnodes_df['nodeType'].str.contains(\"modification\")]['id']\n",
    "p4c.select_nodes(nodes=list(modifications),by_col='id', preserve_current_selection=False)"
   ]
  },
  {
   "cell_type": "code",
   "execution_count": 17,
   "metadata": {
    "id": "RmwV4WOtzNAU",
    "outputId": "3ab2fd3a-682d-41fe-8c31-8996e76de7f9"
   },
   "outputs": [
    {
     "data": {
      "text/plain": [
       "{'nodes': [77249, 77252, 77240, 77255, 77258, 77243, 77246, 77261],\n",
       " 'edges': []}"
      ]
     },
     "execution_count": 17,
     "metadata": {},
     "output_type": "execute_result"
    }
   ],
   "source": [
    "# Now select one protein and all its modifications\n",
    "deltacatnodes = netnodes_df[netnodes_df['Gene.name'].str.contains(\"CTNND1\")]['id']\n",
    "p4c.select_nodes(nodes=list(deltacatnodes),by_col='id', preserve_current_selection=False)"
   ]
  },
  {
   "cell_type": "markdown",
   "metadata": {
    "id": "s2XxLcwFzNAU"
   },
   "source": [
    "Let’s create a new group of the selected nodes and collapse it into one node…\n",
    "\n"
   ]
  },
  {
   "cell_type": "code",
   "execution_count": 18,
   "metadata": {
    "id": "LG542Ab5zNAU",
    "outputId": "d8e98fc1-c973-4b22-d193-2905511bb975"
   },
   "outputs": [
    {
     "data": {
      "text/plain": [
       "{'groups': [77776]}"
      ]
     },
     "execution_count": 18,
     "metadata": {},
     "output_type": "execute_result"
    }
   ],
   "source": [
    "p4c.create_group(group_name='delta catenin group')\n",
    "p4c.collapse_group(groups='delta catenin group')"
   ]
  },
  {
   "cell_type": "markdown",
   "metadata": {
    "id": "T30GrNkSzNAU"
   },
   "source": [
    "…then expand it again.\n",
    "\n"
   ]
  },
  {
   "cell_type": "code",
   "execution_count": 19,
   "metadata": {
    "id": "2JQHvfWOzNAU",
    "outputId": "d9dd2ac0-9fe5-4aea-cb25-a7de74607210"
   },
   "outputs": [
    {
     "data": {
      "text/plain": [
       "[77776]"
      ]
     },
     "execution_count": 19,
     "metadata": {},
     "output_type": "execute_result"
    }
   ],
   "source": [
    "group_number = p4c.expand_group(groups='delta catenin group')\n",
    "group_number['groups']"
   ]
  },
  {
   "cell_type": "markdown",
   "metadata": {
    "id": "pX-9ARMTzNAV"
   },
   "source": [
    "For these data, we can create groups of all proteins together with their modifications. Here we name the groups by their gene names."
   ]
  },
  {
   "cell_type": "code",
   "execution_count": 20,
   "metadata": {
    "id": "7yA7S47dzNAV",
    "outputId": "a04145a0-5b73-4ebc-8fa7-8d0f76c67805"
   },
   "outputs": [
    {
     "data": {
      "text/plain": [
       "{'groups': [77776]}"
      ]
     },
     "execution_count": 20,
     "metadata": {},
     "output_type": "execute_result"
    }
   ],
   "source": [
    "p4c.delete_group(groups=group_number['groups'])"
   ]
  },
  {
   "cell_type": "markdown",
   "metadata": {
    "id": "qgmUDtmBzNAV"
   },
   "source": [
    "Reference\n",
    "\n",
    "Grimes, et al., 2018. Sci. Signal. Vol. 11, Issue 531, DOI: 10.1126/scisignal.aaq1087, http://stke.sciencemag.org/content/11/531/eaaq1087.\n",
    "\n"
   ]
  }
 ],
 "metadata": {
  "colab": {
   "include_colab_link": true,
   "name": "group-nodes.ipynb",
   "provenance": []
  },
  "kernelspec": {
   "display_name": "Python 3",
   "language": "python",
   "name": "python3"
  },
  "language_info": {
   "codemirror_mode": {
    "name": "ipython",
    "version": 3
   },
   "file_extension": ".py",
   "mimetype": "text/x-python",
   "name": "python",
   "nbconvert_exporter": "python",
   "pygments_lexer": "ipython3",
   "version": "3.8.5"
  }
 },
 "nbformat": 4,
 "nbformat_minor": 1
}
