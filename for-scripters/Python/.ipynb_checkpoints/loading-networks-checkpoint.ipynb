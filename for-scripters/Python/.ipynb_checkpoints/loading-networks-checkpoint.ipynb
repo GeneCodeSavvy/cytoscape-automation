{
 "cells": [
  {
   "cell_type": "markdown",
   "metadata": {},
   "source": [
    "# Loading Networks\n",
    "## Yihang Xin and Alex Pico\n",
    "## 2020-11-14"
   ]
  },
  {
   "cell_type": "markdown",
   "metadata": {},
   "source": [
    "In Cytoscape, network data can be loaded from a variety of sources, and in several different formats. Where you get your network data depends on your biological question and analysis plan. This tutorial outlines how to load network data from several popular sources and formats.\n",
    "\n",
    "1. Public databases\n",
    "    * NDEx\n",
    "    * PSICQUIC\n",
    "    * STRING/STITCH\n",
    "    * WikiPathways\n",
    "2. Local and remote files\n",
    "3. Cytoscape apps (Biopax, KEGG and other formats)\n"
   ]
  },
  {
   "cell_type": "markdown",
   "metadata": {},
   "source": [
    "# Installation\n",
    "The following chunk of code installs the `py4cytoscape` module."
   ]
  },
  {
   "cell_type": "code",
   "execution_count": 1,
   "metadata": {},
   "outputs": [
    {
     "name": "stdout",
     "output_type": "stream",
     "text": [
      "Requirement already satisfied: python-igraph in /usr/local/lib/python3.9/site-packages (0.8.3)\n",
      "Requirement already satisfied: requests in /usr/local/lib/python3.9/site-packages (2.25.1)\n",
      "Requirement already satisfied: pandas in /usr/local/lib/python3.9/site-packages (1.2.1)\n",
      "Requirement already satisfied: networkx in /usr/local/lib/python3.9/site-packages (2.5)\n",
      "Requirement already satisfied: decorator>=4.3.0 in /usr/local/lib/python3.9/site-packages (from networkx) (4.4.2)\n",
      "Requirement already satisfied: python-dateutil>=2.7.3 in /usr/local/lib/python3.9/site-packages (from pandas) (2.8.1)\n",
      "Requirement already satisfied: pytz>=2017.3 in /usr/local/lib/python3.9/site-packages (from pandas) (2020.5)\n",
      "Requirement already satisfied: numpy>=1.16.5 in /usr/local/lib/python3.9/site-packages (from pandas) (1.19.5)\n",
      "Requirement already satisfied: six>=1.5 in /usr/local/lib/python3.9/site-packages (from python-dateutil>=2.7.3->pandas) (1.15.0)\n",
      "Requirement already satisfied: texttable>=1.6.2 in /usr/local/lib/python3.9/site-packages (from python-igraph) (1.6.3)\n",
      "Requirement already satisfied: urllib3<1.27,>=1.21.1 in /usr/local/lib/python3.9/site-packages (from requests) (1.26.3)\n",
      "Requirement already satisfied: certifi>=2017.4.17 in /usr/local/lib/python3.9/site-packages (from requests) (2020.12.5)\n",
      "Requirement already satisfied: chardet<5,>=3.0.2 in /usr/local/lib/python3.9/site-packages (from requests) (4.0.0)\n",
      "Requirement already satisfied: idna<3,>=2.5 in /usr/local/lib/python3.9/site-packages (from requests) (2.10)\n",
      "\u001b[33mWARNING: You are using pip version 20.3.3; however, version 21.0 is available.\n",
      "You should consider upgrading via the '/usr/local/opt/python@3.9/bin/python3.9 -m pip install --upgrade pip' command.\u001b[0m\n",
      "Requirement already satisfied: py4cytoscape in /usr/local/lib/python3.9/site-packages (0.0.7)\n",
      "Requirement already satisfied: pandas in /usr/local/lib/python3.9/site-packages (from py4cytoscape) (1.2.1)\n",
      "Requirement already satisfied: requests in /usr/local/lib/python3.9/site-packages (from py4cytoscape) (2.25.1)\n",
      "Requirement already satisfied: python-igraph in /usr/local/lib/python3.9/site-packages (from py4cytoscape) (0.8.3)\n",
      "Requirement already satisfied: networkx in /usr/local/lib/python3.9/site-packages (from py4cytoscape) (2.5)\n",
      "Requirement already satisfied: decorator>=4.3.0 in /usr/local/lib/python3.9/site-packages (from networkx->py4cytoscape) (4.4.2)\n",
      "Requirement already satisfied: numpy>=1.16.5 in /usr/local/lib/python3.9/site-packages (from pandas->py4cytoscape) (1.19.5)\n",
      "Requirement already satisfied: python-dateutil>=2.7.3 in /usr/local/lib/python3.9/site-packages (from pandas->py4cytoscape) (2.8.1)\n",
      "Requirement already satisfied: pytz>=2017.3 in /usr/local/lib/python3.9/site-packages (from pandas->py4cytoscape) (2020.5)\n",
      "Requirement already satisfied: six>=1.5 in /usr/local/lib/python3.9/site-packages (from python-dateutil>=2.7.3->pandas->py4cytoscape) (1.15.0)\n",
      "Requirement already satisfied: texttable>=1.6.2 in /usr/local/lib/python3.9/site-packages (from python-igraph->py4cytoscape) (1.6.3)\n",
      "Requirement already satisfied: certifi>=2017.4.17 in /usr/local/lib/python3.9/site-packages (from requests->py4cytoscape) (2020.12.5)\n",
      "Requirement already satisfied: chardet<5,>=3.0.2 in /usr/local/lib/python3.9/site-packages (from requests->py4cytoscape) (4.0.0)\n",
      "Requirement already satisfied: urllib3<1.27,>=1.21.1 in /usr/local/lib/python3.9/site-packages (from requests->py4cytoscape) (1.26.3)\n",
      "Requirement already satisfied: idna<3,>=2.5 in /usr/local/lib/python3.9/site-packages (from requests->py4cytoscape) (2.10)\n",
      "\u001b[33mWARNING: You are using pip version 20.3.3; however, version 21.0 is available.\n",
      "You should consider upgrading via the '/usr/local/opt/python@3.9/bin/python3.9 -m pip install --upgrade pip' command.\u001b[0m\n"
     ]
    }
   ],
   "source": [
    "!python3 -m pip install python-igraph requests pandas networkx\n",
    "!python3 -m pip install py4cytoscape"
   ]
  },
  {
   "cell_type": "markdown",
   "metadata": {},
   "source": [
    "# Prerequisites\n",
    "## In addition to this package (py4cytoscape latest version 0.0.7), you will need:\n",
    "* Latest version of Cytoscape, which can be downloaded from https://cytoscape.org/download.html. Simply follow the installation instructions on screen.\n",
    "* Complete installation wizard\n",
    "* Launch Cytoscape\n",
    "For this vignette, you’ll also need the WikiPathways app to access the WikiPathways database from within Cytoscape.\n",
    "\n",
    "Install the WikiPathways app from http://apps.cytoscape.org/apps/wikipathways\n",
    "\n",
    "Install the STRING app from https://apps.cytoscape.org/apps/stringapp\n",
    "\n",
    "Install the filetransfer app from https://apps.cytoscape.org/apps/filetransfer\n",
    "\n",
    "You can also install app inside Python notebook by running \"py4cytoscape.install_app('Your App')\""
   ]
  },
  {
   "cell_type": "markdown",
   "metadata": {},
   "source": [
    "## Import the required package\n"
   ]
  },
  {
   "cell_type": "code",
   "execution_count": 3,
   "metadata": {},
   "outputs": [],
   "source": [
    "import os\n",
    "import sys\n",
    "import requests\n",
    "import pandas as pd\n",
    "import py4cytoscape as p4c\n",
    "import ndex2.client as nc\n",
    "import wget\n",
    "from lxml import etree as ET"
   ]
  },
  {
   "cell_type": "code",
   "execution_count": 4,
   "metadata": {},
   "outputs": [
    {
     "data": {
      "text/plain": [
       "{'apiVersion': 'v1',\n",
       " 'cytoscapeVersion': '3.8.2',\n",
       " 'automationAPIVersion': '1.0.0',\n",
       " 'py4cytoscapeVersion': '0.0.6'}"
      ]
     },
     "execution_count": 4,
     "metadata": {},
     "output_type": "execute_result"
    }
   ],
   "source": [
    "# Check Version\n",
    "p4c.cytoscape_version_info()"
   ]
  },
  {
   "cell_type": "markdown",
   "metadata": {},
   "source": [
    "# Networks from Public Data\n",
    "Cytoscape includes a Network Search tool for easy import of public network data. In addition to core apps that are included with your Cytoscape installation (NDEx and PSICQUIC), the resources listed here will depend on which apps you have installed."
   ]
  },
  {
   "cell_type": "code",
   "execution_count": 5,
   "metadata": {},
   "outputs": [
    {
     "data": {
      "text/plain": [
       "[{'appName': 'PSI-MI Reader',\n",
       "  'version': '3.4.0',\n",
       "  'description': 'null',\n",
       "  'status': 'Installed'},\n",
       " {'appName': 'cyREST',\n",
       "  'version': '3.11.1',\n",
       "  'description': 'null',\n",
       "  'status': 'Installed'},\n",
       " {'appName': 'stringApp',\n",
       "  'version': '1.6.0',\n",
       "  'description': 'null',\n",
       "  'status': 'Installed'},\n",
       " {'appName': 'NetworkAnalyzer',\n",
       "  'version': '4.4.6',\n",
       "  'description': 'null',\n",
       "  'status': 'Installed'},\n",
       " {'appName': 'Core Apps',\n",
       "  'version': '3.7.0',\n",
       "  'description': 'null',\n",
       "  'status': 'Installed'},\n",
       " {'appName': 'CyCL',\n",
       "  'version': '3.6.0',\n",
       "  'description': 'null',\n",
       "  'status': 'Installed'},\n",
       " {'appName': 'CyNDEx-2',\n",
       "  'version': '3.3.1',\n",
       "  'description': 'null',\n",
       "  'status': 'Installed'},\n",
       " {'appName': 'FileTransfer',\n",
       "  'version': '1.0',\n",
       "  'description': 'null',\n",
       "  'status': 'Installed'},\n",
       " {'appName': 'cyChart',\n",
       "  'version': '0.3.0',\n",
       "  'description': 'null',\n",
       "  'status': 'Installed'},\n",
       " {'appName': 'JSON Support',\n",
       "  'version': '3.7.0',\n",
       "  'description': 'null',\n",
       "  'status': 'Installed'},\n",
       " {'appName': 'enhancedGraphics',\n",
       "  'version': '1.5.4',\n",
       "  'description': 'null',\n",
       "  'status': 'Installed'},\n",
       " {'appName': 'ID Mapper',\n",
       "  'version': '3.9.0',\n",
       "  'description': 'null',\n",
       "  'status': 'Installed'},\n",
       " {'appName': 'WikiPathways',\n",
       "  'version': '3.3.7',\n",
       "  'description': 'null',\n",
       "  'status': 'Installed'},\n",
       " {'appName': 'Network Merge',\n",
       "  'version': '3.9.2',\n",
       "  'description': 'null',\n",
       "  'status': 'Installed'},\n",
       " {'appName': 'SBML Reader',\n",
       "  'version': '3.4.0',\n",
       "  'description': 'null',\n",
       "  'status': 'Installed'},\n",
       " {'appName': 'Biomart Web Service Client',\n",
       "  'version': '3.4.0',\n",
       "  'description': 'null',\n",
       "  'status': 'Installed'},\n",
       " {'appName': 'Diffusion',\n",
       "  'version': '1.6.1',\n",
       "  'description': 'null',\n",
       "  'status': 'Installed'},\n",
       " {'appName': 'yFiles Layout Algorithms',\n",
       "  'version': '1.1',\n",
       "  'description': 'null',\n",
       "  'status': 'Installed'},\n",
       " {'appName': 'cyBrowser',\n",
       "  'version': '1.2.3',\n",
       "  'description': 'null',\n",
       "  'status': 'Installed'},\n",
       " {'appName': 'CX Support',\n",
       "  'version': '2.5.0',\n",
       "  'description': 'null',\n",
       "  'status': 'Installed'},\n",
       " {'appName': 'OpenCL Prefuse Layout',\n",
       "  'version': '3.6.0',\n",
       "  'description': 'null',\n",
       "  'status': 'Installed'},\n",
       " {'appName': 'copycatLayout',\n",
       "  'version': '1.3.1',\n",
       "  'description': 'null',\n",
       "  'status': 'Installed'},\n",
       " {'appName': 'BioPAX Reader',\n",
       "  'version': '3.4.0',\n",
       "  'description': 'null',\n",
       "  'status': 'Installed'},\n",
       " {'appName': 'PSICQUIC Web Service Client',\n",
       "  'version': '3.5.0',\n",
       "  'description': 'null',\n",
       "  'status': 'Installed'},\n",
       " {'appName': 'Legend Creator',\n",
       "  'version': '1.1.5',\n",
       "  'description': 'null',\n",
       "  'status': 'Installed'}]"
      ]
     },
     "execution_count": 5,
     "metadata": {},
     "output_type": "execute_result"
    }
   ],
   "source": [
    "p4c.apps.get_installed_apps()"
   ]
  },
  {
   "cell_type": "markdown",
   "metadata": {},
   "source": [
    "# NDEx\n",
    "The NDEx Project provides an open-source framework where scientists and organizations can share, store, manipulate, and publish biological network knowledge.\n",
    "* To search NDEx run the following code chunk. Here, we use “TP53 AND BARD1” as our search terms."
   ]
  },
  {
   "cell_type": "code",
   "execution_count": 6,
   "metadata": {},
   "outputs": [],
   "source": [
    "anon_ndex=nc.Ndex2(\"http://public.ndexbio.org\")\n",
    "anon_ndex.update_status()"
   ]
  },
  {
   "cell_type": "code",
   "execution_count": 7,
   "metadata": {},
   "outputs": [],
   "source": [
    "networks = anon_ndex.search_networks(search_string='TP53 AND BARD1')\n",
    "df_dict = networks[\"networks\"]"
   ]
  },
  {
   "cell_type": "code",
   "execution_count": 8,
   "metadata": {},
   "outputs": [],
   "source": [
    "ownerUUID_list = []\n",
    "externalId_list = []\n",
    "nodeCount_list = []\n",
    "edgeCount_list = []"
   ]
  },
  {
   "cell_type": "code",
   "execution_count": 9,
   "metadata": {},
   "outputs": [],
   "source": [
    "for d in df_dict:\n",
    "    ownerUUID_list.append(d[\"ownerUUID\"])\n",
    "    externalId_list.append(d[\"externalId\"])\n",
    "    nodeCount_list.append(d[\"nodeCount\"])\n",
    "    edgeCount_list.append(d[\"edgeCount\"])"
   ]
  },
  {
   "cell_type": "code",
   "execution_count": 10,
   "metadata": {},
   "outputs": [
    {
     "data": {
      "text/html": [
       "<div>\n",
       "<style scoped>\n",
       "    .dataframe tbody tr th:only-of-type {\n",
       "        vertical-align: middle;\n",
       "    }\n",
       "\n",
       "    .dataframe tbody tr th {\n",
       "        vertical-align: top;\n",
       "    }\n",
       "\n",
       "    .dataframe thead th {\n",
       "        text-align: right;\n",
       "    }\n",
       "</style>\n",
       "<table border=\"1\" class=\"dataframe\">\n",
       "  <thead>\n",
       "    <tr style=\"text-align: right;\">\n",
       "      <th></th>\n",
       "      <th>ownerUUID</th>\n",
       "      <th>externalId</th>\n",
       "      <th>nodeCount</th>\n",
       "      <th>edgeCount</th>\n",
       "    </tr>\n",
       "  </thead>\n",
       "  <tbody>\n",
       "    <tr>\n",
       "      <th>0</th>\n",
       "      <td>301a91c6-a37b-11e4-bda0-000c29202374</td>\n",
       "      <td>5a1fcfb9-78c3-11e8-a4bf-0ac135e8bacf</td>\n",
       "      <td>30</td>\n",
       "      <td>101</td>\n",
       "    </tr>\n",
       "    <tr>\n",
       "      <th>1</th>\n",
       "      <td>363f49e0-4cf0-11e9-9f06-0ac135e8bacf</td>\n",
       "      <td>0d4f26c3-f912-11ea-99da-0ac135e8bacf</td>\n",
       "      <td>255</td>\n",
       "      <td>403</td>\n",
       "    </tr>\n",
       "    <tr>\n",
       "      <th>2</th>\n",
       "      <td>363f49e0-4cf0-11e9-9f06-0ac135e8bacf</td>\n",
       "      <td>7f6602f1-f916-11ea-99da-0ac135e8bacf</td>\n",
       "      <td>213</td>\n",
       "      <td>198</td>\n",
       "    </tr>\n",
       "    <tr>\n",
       "      <th>3</th>\n",
       "      <td>363f49e0-4cf0-11e9-9f06-0ac135e8bacf</td>\n",
       "      <td>c8a2cdf5-204b-11ea-bb65-0ac135e8bacf</td>\n",
       "      <td>213</td>\n",
       "      <td>198</td>\n",
       "    </tr>\n",
       "    <tr>\n",
       "      <th>4</th>\n",
       "      <td>363f49e0-4cf0-11e9-9f06-0ac135e8bacf</td>\n",
       "      <td>fdfc44e6-f911-11ea-99da-0ac135e8bacf</td>\n",
       "      <td>59</td>\n",
       "      <td>51</td>\n",
       "    </tr>\n",
       "  </tbody>\n",
       "</table>\n",
       "</div>"
      ],
      "text/plain": [
       "                              ownerUUID                            externalId  \\\n",
       "0  301a91c6-a37b-11e4-bda0-000c29202374  5a1fcfb9-78c3-11e8-a4bf-0ac135e8bacf   \n",
       "1  363f49e0-4cf0-11e9-9f06-0ac135e8bacf  0d4f26c3-f912-11ea-99da-0ac135e8bacf   \n",
       "2  363f49e0-4cf0-11e9-9f06-0ac135e8bacf  7f6602f1-f916-11ea-99da-0ac135e8bacf   \n",
       "3  363f49e0-4cf0-11e9-9f06-0ac135e8bacf  c8a2cdf5-204b-11ea-bb65-0ac135e8bacf   \n",
       "4  363f49e0-4cf0-11e9-9f06-0ac135e8bacf  fdfc44e6-f911-11ea-99da-0ac135e8bacf   \n",
       "\n",
       "   nodeCount  edgeCount  \n",
       "0         30        101  \n",
       "1        255        403  \n",
       "2        213        198  \n",
       "3        213        198  \n",
       "4         59         51  "
      ]
     },
     "execution_count": 10,
     "metadata": {},
     "output_type": "execute_result"
    }
   ],
   "source": [
    "df = pd.DataFrame(list(zip(ownerUUID_list,externalId_list,nodeCount_list,edgeCount_list)), columns =['ownerUUID', 'externalId','nodeCount','edgeCount'])\n",
    "df.head()"
   ]
  },
  {
   "cell_type": "code",
   "execution_count": 11,
   "metadata": {},
   "outputs": [],
   "source": [
    "networkId = df[\"externalId\"][0]"
   ]
  },
  {
   "cell_type": "markdown",
   "metadata": {},
   "source": [
    "To import the network into Cytoscape, run the following code chunk.\n"
   ]
  },
  {
   "cell_type": "code",
   "execution_count": 12,
   "metadata": {},
   "outputs": [
    {
     "data": {
      "text/plain": [
       "51"
      ]
     },
     "execution_count": 12,
     "metadata": {},
     "output_type": "execute_result"
    }
   ],
   "source": [
    "p4c.cy_ndex.import_network_from_ndex(networkId)"
   ]
  },
  {
   "cell_type": "markdown",
   "metadata": {},
   "source": [
    "# STRING/STITCH\n",
    "STRING is a database of known and predicted protein-protein interactions, and STITCH stored known and predicted interactions between chemicals and proteins. Data types include:\n",
    "\n",
    "* Genomic Context Predictions\n",
    "* High-throughput Lab Experiments\n",
    "* (Conserved) Co-Expression\n",
    "* Automated Textmining\n",
    "* Previous Knowledge in Databases\n",
    "\n",
    "To search STRING with the disease keyword “ovarian cancer”, run the following code chunk. (The resulting network will load automatically.)"
   ]
  },
  {
   "cell_type": "code",
   "execution_count": 13,
   "metadata": {},
   "outputs": [
    {
     "data": {
      "text/plain": [
       "[\"Loaded network 'String Network - ovarian cancer' with 100 nodes and 2238 edges\"]"
      ]
     },
     "execution_count": 13,
     "metadata": {},
     "output_type": "execute_result"
    }
   ],
   "source": [
    "string_cmd_list = ['string disease query','disease=\"ovarian cancer\"']\n",
    "string_cmd = \" \".join(string_cmd_list)\n",
    "p4c.commands.commands_run(string_cmd)"
   ]
  },
  {
   "cell_type": "markdown",
   "metadata": {},
   "source": [
    "* Networks load with a STRING-specific style, which includes 3D protein structure diagrams.\n"
   ]
  },
  {
   "cell_type": "code",
   "execution_count": 14,
   "metadata": {},
   "outputs": [
    {
     "data": {
      "text/plain": [
       "{'file': 'C:\\\\Users\\\\YihangXin\\\\CytoscapeConfiguration\\\\filetransfer\\\\default_sandbox\\\\ovarian_cancer.png'}"
      ]
     },
     "execution_count": 14,
     "metadata": {},
     "output_type": "execute_result"
    }
   ],
   "source": [
    "p4c.network_views.export_image('ovarian_cancer', type='PNG')"
   ]
  },
  {
   "cell_type": "markdown",
   "metadata": {},
   "source": [
    "* STRING networks also inlcude data as node/interaction attributes, that can be used to create a Style."
   ]
  },
  {
   "cell_type": "code",
   "execution_count": 15,
   "metadata": {},
   "outputs": [],
   "source": [
    "column_names = p4c.tables.get_table_column_names()\n",
    "column_names.remove( 'stringdb::structures')"
   ]
  },
  {
   "cell_type": "code",
   "execution_count": 16,
   "metadata": {},
   "outputs": [
    {
     "data": {
      "text/html": [
       "<div>\n",
       "<style scoped>\n",
       "    .dataframe tbody tr th:only-of-type {\n",
       "        vertical-align: middle;\n",
       "    }\n",
       "\n",
       "    .dataframe tbody tr th {\n",
       "        vertical-align: top;\n",
       "    }\n",
       "\n",
       "    .dataframe thead th {\n",
       "        text-align: right;\n",
       "    }\n",
       "</style>\n",
       "<table border=\"1\" class=\"dataframe\">\n",
       "  <thead>\n",
       "    <tr style=\"text-align: right;\">\n",
       "      <th></th>\n",
       "      <th>SUID</th>\n",
       "      <th>shared name</th>\n",
       "      <th>name</th>\n",
       "      <th>selected</th>\n",
       "      <th>stringdb::canonical name</th>\n",
       "      <th>display name</th>\n",
       "      <th>stringdb::full name</th>\n",
       "      <th>stringdb::database identifier</th>\n",
       "      <th>stringdb::description</th>\n",
       "      <th>@id</th>\n",
       "      <th>...</th>\n",
       "      <th>tissue::muscle</th>\n",
       "      <th>tissue::nervous system</th>\n",
       "      <th>tissue::pancreas</th>\n",
       "      <th>tissue::saliva</th>\n",
       "      <th>tissue::skin</th>\n",
       "      <th>tissue::spleen</th>\n",
       "      <th>tissue::stomach</th>\n",
       "      <th>tissue::thyroid gland</th>\n",
       "      <th>tissue::urine</th>\n",
       "      <th>stringdb::disease score</th>\n",
       "    </tr>\n",
       "  </thead>\n",
       "  <tbody>\n",
       "    <tr>\n",
       "      <th>350</th>\n",
       "      <td>350</td>\n",
       "      <td>9606.ENSP00000377284</td>\n",
       "      <td>9606.ENSP00000377284</td>\n",
       "      <td>False</td>\n",
       "      <td>P15328</td>\n",
       "      <td>FOLR1</td>\n",
       "      <td>None</td>\n",
       "      <td>9606.ENSP00000377284</td>\n",
       "      <td>Ovarian tumor-associated antigen MOv18; Binds ...</td>\n",
       "      <td>stringdb:9606.ENSP00000377284</td>\n",
       "      <td>...</td>\n",
       "      <td>1.6817</td>\n",
       "      <td>2.64464</td>\n",
       "      <td>1.81592</td>\n",
       "      <td>2.57943</td>\n",
       "      <td>1.98873</td>\n",
       "      <td>2.32688</td>\n",
       "      <td>1.93777</td>\n",
       "      <td>2.17475</td>\n",
       "      <td>1.24586</td>\n",
       "      <td>2.64105</td>\n",
       "    </tr>\n",
       "    <tr>\n",
       "      <th>351</th>\n",
       "      <td>351</td>\n",
       "      <td>9606.ENSP00000466834</td>\n",
       "      <td>9606.ENSP00000466834</td>\n",
       "      <td>False</td>\n",
       "      <td>O76085</td>\n",
       "      <td>ENSP00000466834</td>\n",
       "      <td>None</td>\n",
       "      <td>9606.ENSP00000466834</td>\n",
       "      <td>DNA repair protein RAD51 homolog 4; Involved i...</td>\n",
       "      <td>stringdb:9606.ENSP00000466834</td>\n",
       "      <td>...</td>\n",
       "      <td>0.572677</td>\n",
       "      <td>4.20561</td>\n",
       "      <td>1.14334</td>\n",
       "      <td>0.964483</td>\n",
       "      <td>4.29394</td>\n",
       "      <td>0.53719</td>\n",
       "      <td>0.902816</td>\n",
       "      <td>0.913659</td>\n",
       "      <td>NaN</td>\n",
       "      <td>2.73832</td>\n",
       "    </tr>\n",
       "    <tr>\n",
       "      <th>352</th>\n",
       "      <td>352</td>\n",
       "      <td>9606.ENSP00000331327</td>\n",
       "      <td>9606.ENSP00000331327</td>\n",
       "      <td>False</td>\n",
       "      <td>Q8IYZ5</td>\n",
       "      <td>WT1</td>\n",
       "      <td>None</td>\n",
       "      <td>9606.ENSP00000331327</td>\n",
       "      <td>Wilms tumor protein; Transcription factor that...</td>\n",
       "      <td>stringdb:9606.ENSP00000331327</td>\n",
       "      <td>...</td>\n",
       "      <td>2.42609</td>\n",
       "      <td>2.44515</td>\n",
       "      <td>1.86355</td>\n",
       "      <td>1.55037</td>\n",
       "      <td>2.24419</td>\n",
       "      <td>2.65519</td>\n",
       "      <td>1.63816</td>\n",
       "      <td>1.79773</td>\n",
       "      <td>2.02184</td>\n",
       "      <td>2.60789</td>\n",
       "    </tr>\n",
       "    <tr>\n",
       "      <th>353</th>\n",
       "      <td>353</td>\n",
       "      <td>9606.ENSP00000011653</td>\n",
       "      <td>9606.ENSP00000011653</td>\n",
       "      <td>False</td>\n",
       "      <td>P01730</td>\n",
       "      <td>CD4</td>\n",
       "      <td>None</td>\n",
       "      <td>9606.ENSP00000011653</td>\n",
       "      <td>T-cell surface antigen T4/Leu-3; Integral memb...</td>\n",
       "      <td>stringdb:9606.ENSP00000011653</td>\n",
       "      <td>...</td>\n",
       "      <td>3.08424</td>\n",
       "      <td>4.85061</td>\n",
       "      <td>4.56421</td>\n",
       "      <td>2.7666</td>\n",
       "      <td>3.47661</td>\n",
       "      <td>4.45149</td>\n",
       "      <td>3.00139</td>\n",
       "      <td>2.79453</td>\n",
       "      <td>2.56101</td>\n",
       "      <td>2.71615</td>\n",
       "    </tr>\n",
       "    <tr>\n",
       "      <th>354</th>\n",
       "      <td>354</td>\n",
       "      <td>9606.ENSP00000296511</td>\n",
       "      <td>9606.ENSP00000296511</td>\n",
       "      <td>False</td>\n",
       "      <td>P08758</td>\n",
       "      <td>ANXA5</td>\n",
       "      <td>None</td>\n",
       "      <td>9606.ENSP00000296511</td>\n",
       "      <td>Placental anticoagulant protein 4; This protei...</td>\n",
       "      <td>stringdb:9606.ENSP00000296511</td>\n",
       "      <td>...</td>\n",
       "      <td>4.70337</td>\n",
       "      <td>4.81533</td>\n",
       "      <td>3.75453</td>\n",
       "      <td>2.95452</td>\n",
       "      <td>4.93929</td>\n",
       "      <td>3.72014</td>\n",
       "      <td>3.55828</td>\n",
       "      <td>3.1331</td>\n",
       "      <td>2.91597</td>\n",
       "      <td>2.82882</td>\n",
       "    </tr>\n",
       "  </tbody>\n",
       "</table>\n",
       "<p>5 rows × 51 columns</p>\n",
       "</div>"
      ],
      "text/plain": [
       "    SUID           shared name                  name selected  \\\n",
       "350  350  9606.ENSP00000377284  9606.ENSP00000377284    False   \n",
       "351  351  9606.ENSP00000466834  9606.ENSP00000466834    False   \n",
       "352  352  9606.ENSP00000331327  9606.ENSP00000331327    False   \n",
       "353  353  9606.ENSP00000011653  9606.ENSP00000011653    False   \n",
       "354  354  9606.ENSP00000296511  9606.ENSP00000296511    False   \n",
       "\n",
       "    stringdb::canonical name     display name stringdb::full name  \\\n",
       "350                   P15328            FOLR1                None   \n",
       "351                   O76085  ENSP00000466834                None   \n",
       "352                   Q8IYZ5              WT1                None   \n",
       "353                   P01730              CD4                None   \n",
       "354                   P08758            ANXA5                None   \n",
       "\n",
       "    stringdb::database identifier  \\\n",
       "350          9606.ENSP00000377284   \n",
       "351          9606.ENSP00000466834   \n",
       "352          9606.ENSP00000331327   \n",
       "353          9606.ENSP00000011653   \n",
       "354          9606.ENSP00000296511   \n",
       "\n",
       "                                 stringdb::description  \\\n",
       "350  Ovarian tumor-associated antigen MOv18; Binds ...   \n",
       "351  DNA repair protein RAD51 homolog 4; Involved i...   \n",
       "352  Wilms tumor protein; Transcription factor that...   \n",
       "353  T-cell surface antigen T4/Leu-3; Integral memb...   \n",
       "354  Placental anticoagulant protein 4; This protei...   \n",
       "\n",
       "                               @id  ... tissue::muscle tissue::nervous system  \\\n",
       "350  stringdb:9606.ENSP00000377284  ...         1.6817                2.64464   \n",
       "351  stringdb:9606.ENSP00000466834  ...       0.572677                4.20561   \n",
       "352  stringdb:9606.ENSP00000331327  ...        2.42609                2.44515   \n",
       "353  stringdb:9606.ENSP00000011653  ...        3.08424                4.85061   \n",
       "354  stringdb:9606.ENSP00000296511  ...        4.70337                4.81533   \n",
       "\n",
       "    tissue::pancreas tissue::saliva tissue::skin tissue::spleen  \\\n",
       "350          1.81592        2.57943      1.98873        2.32688   \n",
       "351          1.14334       0.964483      4.29394        0.53719   \n",
       "352          1.86355        1.55037      2.24419        2.65519   \n",
       "353          4.56421         2.7666      3.47661        4.45149   \n",
       "354          3.75453        2.95452      4.93929        3.72014   \n",
       "\n",
       "    tissue::stomach tissue::thyroid gland tissue::urine  \\\n",
       "350         1.93777               2.17475       1.24586   \n",
       "351        0.902816              0.913659           NaN   \n",
       "352         1.63816               1.79773       2.02184   \n",
       "353         3.00139               2.79453       2.56101   \n",
       "354         3.55828                3.1331       2.91597   \n",
       "\n",
       "    stringdb::disease score  \n",
       "350                 2.64105  \n",
       "351                 2.73832  \n",
       "352                 2.60789  \n",
       "353                 2.71615  \n",
       "354                 2.82882  \n",
       "\n",
       "[5 rows x 51 columns]"
      ]
     },
     "execution_count": 16,
     "metadata": {},
     "output_type": "execute_result"
    }
   ],
   "source": [
    "df = p4c.tables.get_table_columns(columns=column_names)\n",
    "df.head()"
   ]
  },
  {
   "cell_type": "markdown",
   "metadata": {},
   "source": [
    "* The STRING app includes options to change interaction confidence level, expand the network etc."
   ]
  },
  {
   "cell_type": "code",
   "execution_count": 17,
   "metadata": {},
   "outputs": [
    {
     "data": {
      "text/plain": [
       "2238"
      ]
     },
     "execution_count": 17,
     "metadata": {},
     "output_type": "execute_result"
    }
   ],
   "source": [
    "p4c.networks.get_edge_count() #Before changing interaction confidence level"
   ]
  },
  {
   "cell_type": "code",
   "execution_count": 18,
   "metadata": {},
   "outputs": [
    {
     "data": {
      "text/plain": [
       "['']"
      ]
     },
     "execution_count": 18,
     "metadata": {},
     "output_type": "execute_result"
    }
   ],
   "source": [
    "string_cmd_list = ['string change confidence confidence=0.9 network=CURRENT']\n",
    "string_cmd = \" \".join(string_cmd_list)\n",
    "p4c.commands.commands_run(string_cmd)"
   ]
  },
  {
   "cell_type": "code",
   "execution_count": 19,
   "metadata": {},
   "outputs": [
    {
     "data": {
      "text/plain": [
       "443"
      ]
     },
     "execution_count": 19,
     "metadata": {},
     "output_type": "execute_result"
    }
   ],
   "source": [
    "p4c.networks.get_edge_count() #After changing interaction confidence level"
   ]
  },
  {
   "cell_type": "code",
   "execution_count": 20,
   "metadata": {},
   "outputs": [
    {
     "data": {
      "text/plain": [
       "{'file': 'C:\\\\Users\\\\YihangXin\\\\CytoscapeConfiguration\\\\filetransfer\\\\default_sandbox\\\\before_expand.png'}"
      ]
     },
     "execution_count": 20,
     "metadata": {},
     "output_type": "execute_result"
    }
   ],
   "source": [
    "p4c.network_views.export_image('before_expand', type='PNG')"
   ]
  },
  {
   "cell_type": "code",
   "execution_count": 21,
   "metadata": {},
   "outputs": [
    {
     "data": {
      "text/plain": [
       "[\"Loaded network 'String Network - ovarian cancer' with 110 nodes and 613 edges\"]"
      ]
     },
     "execution_count": 21,
     "metadata": {},
     "output_type": "execute_result"
    }
   ],
   "source": [
    "string_cmd_list = ['string expand network=CURRENT']\n",
    "string_cmd = \" \".join(string_cmd_list)\n",
    "p4c.commands.commands_run(string_cmd)"
   ]
  },
  {
   "cell_type": "code",
   "execution_count": 22,
   "metadata": {},
   "outputs": [
    {
     "data": {
      "text/plain": [
       "{'file': 'C:\\\\Users\\\\YihangXin\\\\CytoscapeConfiguration\\\\filetransfer\\\\default_sandbox\\\\after_expand.png'}"
      ]
     },
     "execution_count": 22,
     "metadata": {},
     "output_type": "execute_result"
    }
   ],
   "source": [
    "p4c.network_views.export_image('after_expand', type='PNG')"
   ]
  },
  {
   "cell_type": "markdown",
   "metadata": {},
   "source": [
    "# WikiPathways"
   ]
  },
  {
   "cell_type": "markdown",
   "metadata": {},
   "source": [
    "WikiPathways is a collaborative wiki platform with curated manually pathway models. It currently covers over 2,600 pathways in 25 species-specific collections.\n",
    "\n",
    "* To search WikiPathways, call the find_pathways_by_text function with your search terms (here we use ‘statin’ as the term)"
   ]
  },
  {
   "cell_type": "code",
   "execution_count": 23,
   "metadata": {},
   "outputs": [],
   "source": [
    "def find_pathways_by_text(query, species):\n",
    "    base_iri = 'http://webservice.wikipathways.org/'\n",
    "    request_params = {'query':query, 'species':species}\n",
    "    response = requests.get(base_iri + 'findPathwaysByText', params=request_params)\n",
    "    return response"
   ]
  },
  {
   "cell_type": "code",
   "execution_count": 24,
   "metadata": {},
   "outputs": [],
   "source": [
    "response = find_pathways_by_text(\"statin\", \"Homo sapiens\") # restrict the results to Homo sapiens"
   ]
  },
  {
   "cell_type": "code",
   "execution_count": 25,
   "metadata": {},
   "outputs": [],
   "source": [
    "def find_pathway_dataframe(response):\n",
    "    data = response.text\n",
    "    dom = ET.fromstring(data)\n",
    "    pathways = []\n",
    "    NAMESPACES = {'ns1':'http://www.wso2.org/php/xsd','ns2':'http://www.wikipathways.org/webservice/'}\n",
    "    for node in dom.findall('ns1:result', NAMESPACES):\n",
    "        pathway_using_api_terms = {}\n",
    "        for child in node:\n",
    "            pathway_using_api_terms[ET.QName(child).localname] = child.text\n",
    "            pathways.append(pathway_using_api_terms)\n",
    "    id_list = []\n",
    "    score_list = []\n",
    "    url_list = []\n",
    "    name_list = []\n",
    "    species_list = []\n",
    "    revision_list = []\n",
    "    for p in pathways:\n",
    "        id_list.append(p[\"id\"])\n",
    "        score_list.append(p[\"score\"])\n",
    "        url_list.append(p[\"url\"])\n",
    "        name_list.append(p[\"name\"])\n",
    "        species_list.append(p[\"species\"])\n",
    "        revision_list.append(p[\"revision\"])\n",
    "    df = pd.DataFrame(list(zip(id_list,score_list,url_list,name_list,species_list,revision_list)), columns =['id', 'score','url','name','species','revision'])\n",
    "    return df"
   ]
  },
  {
   "cell_type": "code",
   "execution_count": 26,
   "metadata": {},
   "outputs": [
    {
     "data": {
      "text/html": [
       "<div>\n",
       "<style scoped>\n",
       "    .dataframe tbody tr th:only-of-type {\n",
       "        vertical-align: middle;\n",
       "    }\n",
       "\n",
       "    .dataframe tbody tr th {\n",
       "        vertical-align: top;\n",
       "    }\n",
       "\n",
       "    .dataframe thead th {\n",
       "        text-align: right;\n",
       "    }\n",
       "</style>\n",
       "<table border=\"1\" class=\"dataframe\">\n",
       "  <thead>\n",
       "    <tr style=\"text-align: right;\">\n",
       "      <th></th>\n",
       "      <th>id</th>\n",
       "      <th>score</th>\n",
       "      <th>url</th>\n",
       "      <th>name</th>\n",
       "      <th>species</th>\n",
       "      <th>revision</th>\n",
       "    </tr>\n",
       "  </thead>\n",
       "  <tbody>\n",
       "    <tr>\n",
       "      <th>0</th>\n",
       "      <td>WP430</td>\n",
       "      <td>4.985504</td>\n",
       "      <td>https://www.wikipathways.org/index.php/Pathway...</td>\n",
       "      <td>Statin Pathway</td>\n",
       "      <td>Homo sapiens</td>\n",
       "      <td>108375</td>\n",
       "    </tr>\n",
       "    <tr>\n",
       "      <th>1</th>\n",
       "      <td>WP430</td>\n",
       "      <td>4.985504</td>\n",
       "      <td>https://www.wikipathways.org/index.php/Pathway...</td>\n",
       "      <td>Statin Pathway</td>\n",
       "      <td>Homo sapiens</td>\n",
       "      <td>108375</td>\n",
       "    </tr>\n",
       "    <tr>\n",
       "      <th>2</th>\n",
       "      <td>WP430</td>\n",
       "      <td>4.985504</td>\n",
       "      <td>https://www.wikipathways.org/index.php/Pathway...</td>\n",
       "      <td>Statin Pathway</td>\n",
       "      <td>Homo sapiens</td>\n",
       "      <td>108375</td>\n",
       "    </tr>\n",
       "    <tr>\n",
       "      <th>3</th>\n",
       "      <td>WP430</td>\n",
       "      <td>4.985504</td>\n",
       "      <td>https://www.wikipathways.org/index.php/Pathway...</td>\n",
       "      <td>Statin Pathway</td>\n",
       "      <td>Homo sapiens</td>\n",
       "      <td>108375</td>\n",
       "    </tr>\n",
       "    <tr>\n",
       "      <th>4</th>\n",
       "      <td>WP430</td>\n",
       "      <td>4.985504</td>\n",
       "      <td>https://www.wikipathways.org/index.php/Pathway...</td>\n",
       "      <td>Statin Pathway</td>\n",
       "      <td>Homo sapiens</td>\n",
       "      <td>108375</td>\n",
       "    </tr>\n",
       "    <tr>\n",
       "      <th>5</th>\n",
       "      <td>WP430</td>\n",
       "      <td>4.985504</td>\n",
       "      <td>https://www.wikipathways.org/index.php/Pathway...</td>\n",
       "      <td>Statin Pathway</td>\n",
       "      <td>Homo sapiens</td>\n",
       "      <td>108375</td>\n",
       "    </tr>\n",
       "    <tr>\n",
       "      <th>6</th>\n",
       "      <td>WP3590</td>\n",
       "      <td>3.376647</td>\n",
       "      <td>https://www.wikipathways.org/index.php/Pathway...</td>\n",
       "      <td>Demo</td>\n",
       "      <td>Homo sapiens</td>\n",
       "      <td>106743</td>\n",
       "    </tr>\n",
       "    <tr>\n",
       "      <th>7</th>\n",
       "      <td>WP3590</td>\n",
       "      <td>3.376647</td>\n",
       "      <td>https://www.wikipathways.org/index.php/Pathway...</td>\n",
       "      <td>Demo</td>\n",
       "      <td>Homo sapiens</td>\n",
       "      <td>106743</td>\n",
       "    </tr>\n",
       "    <tr>\n",
       "      <th>8</th>\n",
       "      <td>WP3590</td>\n",
       "      <td>3.376647</td>\n",
       "      <td>https://www.wikipathways.org/index.php/Pathway...</td>\n",
       "      <td>Demo</td>\n",
       "      <td>Homo sapiens</td>\n",
       "      <td>106743</td>\n",
       "    </tr>\n",
       "    <tr>\n",
       "      <th>9</th>\n",
       "      <td>WP3590</td>\n",
       "      <td>3.376647</td>\n",
       "      <td>https://www.wikipathways.org/index.php/Pathway...</td>\n",
       "      <td>Demo</td>\n",
       "      <td>Homo sapiens</td>\n",
       "      <td>106743</td>\n",
       "    </tr>\n",
       "  </tbody>\n",
       "</table>\n",
       "</div>"
      ],
      "text/plain": [
       "       id     score                                                url  \\\n",
       "0   WP430  4.985504  https://www.wikipathways.org/index.php/Pathway...   \n",
       "1   WP430  4.985504  https://www.wikipathways.org/index.php/Pathway...   \n",
       "2   WP430  4.985504  https://www.wikipathways.org/index.php/Pathway...   \n",
       "3   WP430  4.985504  https://www.wikipathways.org/index.php/Pathway...   \n",
       "4   WP430  4.985504  https://www.wikipathways.org/index.php/Pathway...   \n",
       "5   WP430  4.985504  https://www.wikipathways.org/index.php/Pathway...   \n",
       "6  WP3590  3.376647  https://www.wikipathways.org/index.php/Pathway...   \n",
       "7  WP3590  3.376647  https://www.wikipathways.org/index.php/Pathway...   \n",
       "8  WP3590  3.376647  https://www.wikipathways.org/index.php/Pathway...   \n",
       "9  WP3590  3.376647  https://www.wikipathways.org/index.php/Pathway...   \n",
       "\n",
       "             name       species revision  \n",
       "0  Statin Pathway  Homo sapiens   108375  \n",
       "1  Statin Pathway  Homo sapiens   108375  \n",
       "2  Statin Pathway  Homo sapiens   108375  \n",
       "3  Statin Pathway  Homo sapiens   108375  \n",
       "4  Statin Pathway  Homo sapiens   108375  \n",
       "5  Statin Pathway  Homo sapiens   108375  \n",
       "6            Demo  Homo sapiens   106743  \n",
       "7            Demo  Homo sapiens   106743  \n",
       "8            Demo  Homo sapiens   106743  \n",
       "9            Demo  Homo sapiens   106743  "
      ]
     },
     "execution_count": 26,
     "metadata": {},
     "output_type": "execute_result"
    }
   ],
   "source": [
    "df = find_pathway_dataframe(response)\n",
    "df.head(10)"
   ]
  },
  {
   "cell_type": "code",
   "execution_count": 27,
   "metadata": {},
   "outputs": [
    {
     "data": {
      "text/html": [
       "<div>\n",
       "<style scoped>\n",
       "    .dataframe tbody tr th:only-of-type {\n",
       "        vertical-align: middle;\n",
       "    }\n",
       "\n",
       "    .dataframe tbody tr th {\n",
       "        vertical-align: top;\n",
       "    }\n",
       "\n",
       "    .dataframe thead th {\n",
       "        text-align: right;\n",
       "    }\n",
       "</style>\n",
       "<table border=\"1\" class=\"dataframe\">\n",
       "  <thead>\n",
       "    <tr style=\"text-align: right;\">\n",
       "      <th></th>\n",
       "      <th>id</th>\n",
       "      <th>score</th>\n",
       "      <th>url</th>\n",
       "      <th>name</th>\n",
       "      <th>species</th>\n",
       "      <th>revision</th>\n",
       "    </tr>\n",
       "  </thead>\n",
       "  <tbody>\n",
       "    <tr>\n",
       "      <th>0</th>\n",
       "      <td>WP430</td>\n",
       "      <td>4.985504</td>\n",
       "      <td>https://www.wikipathways.org/index.php/Pathway...</td>\n",
       "      <td>Statin Pathway</td>\n",
       "      <td>Homo sapiens</td>\n",
       "      <td>108375</td>\n",
       "    </tr>\n",
       "    <tr>\n",
       "      <th>1</th>\n",
       "      <td>WP3590</td>\n",
       "      <td>3.376647</td>\n",
       "      <td>https://www.wikipathways.org/index.php/Pathway...</td>\n",
       "      <td>Demo</td>\n",
       "      <td>Homo sapiens</td>\n",
       "      <td>106743</td>\n",
       "    </tr>\n",
       "    <tr>\n",
       "      <th>2</th>\n",
       "      <td>WP3539</td>\n",
       "      <td>3.2785838</td>\n",
       "      <td>https://www.wikipathways.org/index.php/Pathway...</td>\n",
       "      <td>WikiPathways Tutorial: demo_step3</td>\n",
       "      <td>Homo sapiens</td>\n",
       "      <td>106739</td>\n",
       "    </tr>\n",
       "    <tr>\n",
       "      <th>3</th>\n",
       "      <td>WP3418</td>\n",
       "      <td>3.26224</td>\n",
       "      <td>https://www.wikipathways.org/index.php/Pathway...</td>\n",
       "      <td>Demo_complete</td>\n",
       "      <td>Homo sapiens</td>\n",
       "      <td>106736</td>\n",
       "    </tr>\n",
       "  </tbody>\n",
       "</table>\n",
       "</div>"
      ],
      "text/plain": [
       "       id      score                                                url  \\\n",
       "0   WP430   4.985504  https://www.wikipathways.org/index.php/Pathway...   \n",
       "1  WP3590   3.376647  https://www.wikipathways.org/index.php/Pathway...   \n",
       "2  WP3539  3.2785838  https://www.wikipathways.org/index.php/Pathway...   \n",
       "3  WP3418    3.26224  https://www.wikipathways.org/index.php/Pathway...   \n",
       "\n",
       "                                name       species revision  \n",
       "0                     Statin Pathway  Homo sapiens   108375  \n",
       "1                               Demo  Homo sapiens   106743  \n",
       "2  WikiPathways Tutorial: demo_step3  Homo sapiens   106739  \n",
       "3                      Demo_complete  Homo sapiens   106736  "
      ]
     },
     "execution_count": 27,
     "metadata": {},
     "output_type": "execute_result"
    }
   ],
   "source": [
    "df = df.drop_duplicates()\n",
    "df = df.reset_index(drop=True)\n",
    "df"
   ]
  },
  {
   "cell_type": "code",
   "execution_count": 28,
   "metadata": {},
   "outputs": [
    {
     "data": {
      "text/plain": [
       "[]"
      ]
     },
     "execution_count": 28,
     "metadata": {},
     "output_type": "execute_result"
    }
   ],
   "source": [
    "cmd_list = ['wikipathways','import-as-pathway','id=\"',df[\"id\"][0],'\"']\n",
    "cmd = \" \".join(cmd_list)\n",
    "p4c.commands.commands_get(cmd) "
   ]
  },
  {
   "cell_type": "markdown",
   "metadata": {},
   "source": [
    "To open the pathway as a network, run the following chunk.\n",
    "\n"
   ]
  },
  {
   "cell_type": "code",
   "execution_count": 29,
   "metadata": {},
   "outputs": [
    {
     "data": {
      "text/plain": [
       "[]"
      ]
     },
     "execution_count": 29,
     "metadata": {},
     "output_type": "execute_result"
    }
   ],
   "source": [
    "cmd_list = ['wikipathways','import-as-network','id=\"',df[\"id\"][0],'\"']\n",
    "cmd = \" \".join(cmd_list)\n",
    "p4c.commands.commands_get(cmd) "
   ]
  },
  {
   "cell_type": "markdown",
   "metadata": {},
   "source": [
    "# Local and Remote Files\n",
    "Cytoscape can load locally and remotely stored network data files in a variety of file formats:\n",
    "\n",
    "- SIF: Simple interaction format\n",
    "- NNF: Nested network format\n",
    "- GML and XGMML formats\n",
    "- CYS: Cytoscape session file\n",
    "- Delimited text and Excel format"
   ]
  },
  {
   "cell_type": "markdown",
   "metadata": {},
   "source": [
    "## Loading SIF files\n",
    "SIF is a simple interaction format consisting of three columns of data: source, interaction and target. To learn more about the SIF format, see the Cytoscape manual.\n",
    "\n",
    "Download galFiltered.sif and load the network via"
   ]
  },
  {
   "cell_type": "code",
   "execution_count": 30,
   "metadata": {
    "scrolled": true
   },
   "outputs": [
    {
     "data": {
      "text/plain": [
       "'galFiltered.sif'"
      ]
     },
     "execution_count": 30,
     "metadata": {},
     "output_type": "execute_result"
    }
   ],
   "source": [
    "sif_url = \"https://cytoscape.github.io/cytoscape-tutorials/protocols/data/galFiltered.sif\"\n",
    "file_name = wget.download(sif_url)\n",
    "file_name"
   ]
  },
  {
   "cell_type": "code",
   "execution_count": 31,
   "metadata": {},
   "outputs": [
    {
     "data": {
      "text/plain": [
       "{'filePath': 'C:\\\\Users\\\\YihangXin\\\\CytoscapeConfiguration\\\\filetransfer\\\\default_sandbox\\\\galFiltered.sif'}"
      ]
     },
     "execution_count": 31,
     "metadata": {},
     "output_type": "execute_result"
    }
   ],
   "source": [
    "p4c.sandbox.sandbox_send_to(file_name)"
   ]
  },
  {
   "cell_type": "code",
   "execution_count": 32,
   "metadata": {
    "scrolled": true
   },
   "outputs": [
    {
     "data": {
      "text/plain": [
       "{'networks': [6083], 'views': [6786]}"
      ]
     },
     "execution_count": 32,
     "metadata": {},
     "output_type": "execute_result"
    }
   ],
   "source": [
    "p4c.networks.import_network_from_file(file_name)"
   ]
  },
  {
   "cell_type": "markdown",
   "metadata": {},
   "source": [
    "- To see the whole network, run"
   ]
  },
  {
   "cell_type": "code",
   "execution_count": 33,
   "metadata": {},
   "outputs": [
    {
     "data": {
      "text/plain": [
       "{}"
      ]
     },
     "execution_count": 33,
     "metadata": {},
     "output_type": "execute_result"
    }
   ],
   "source": [
    "p4c.network_views.fit_content()"
   ]
  },
  {
   "cell_type": "markdown",
   "metadata": {},
   "source": [
    "## Loading XGMML files\n",
    "XGMML is an XML format and can includes node and edge attributes as well as visual style properties. To learn more about the XGMML format, see the Cytoscape manual.\n",
    "\n",
    "Download https://raw.githubusercontent.com/cytoscape/cytoscape-tutorials/gh-pages/protocols/data/BasicDataVizDemo.xgmml and load the network via"
   ]
  },
  {
   "cell_type": "code",
   "execution_count": 34,
   "metadata": {},
   "outputs": [
    {
     "data": {
      "text/plain": [
       "'BasicDataVizDemo.xgmml'"
      ]
     },
     "execution_count": 34,
     "metadata": {},
     "output_type": "execute_result"
    }
   ],
   "source": [
    "xgmll_url = \"https://raw.githubusercontent.com/cytoscape/cytoscape-tutorials/gh-pages/protocols/data/BasicDataVizDemo.xgmml\"\n",
    "file_name = wget.download(xgmll_url)\n",
    "file_name"
   ]
  },
  {
   "cell_type": "code",
   "execution_count": 35,
   "metadata": {},
   "outputs": [
    {
     "data": {
      "text/plain": [
       "{'filePath': 'C:\\\\Users\\\\YihangXin\\\\CytoscapeConfiguration\\\\filetransfer\\\\default_sandbox\\\\BasicDataVizDemo.xgmml'}"
      ]
     },
     "execution_count": 35,
     "metadata": {},
     "output_type": "execute_result"
    }
   ],
   "source": [
    "p4c.sandbox.sandbox_send_to(file_name)"
   ]
  },
  {
   "cell_type": "code",
   "execution_count": 36,
   "metadata": {},
   "outputs": [
    {
     "data": {
      "text/plain": [
       "{'networks': [7480], 'views': [7852]}"
      ]
     },
     "execution_count": 36,
     "metadata": {},
     "output_type": "execute_result"
    }
   ],
   "source": [
    "p4c.networks.import_network_from_file(file_name)"
   ]
  }
 ],
 "metadata": {
  "kernelspec": {
   "display_name": "Python 3",
   "language": "python",
   "name": "python3"
  },
  "language_info": {
   "codemirror_mode": {
    "name": "ipython",
    "version": 3
   },
   "file_extension": ".py",
   "mimetype": "text/x-python",
   "name": "python",
   "nbconvert_exporter": "python",
   "pygments_lexer": "ipython3",
   "version": "3.8.5"
  }
 },
 "nbformat": 4,
 "nbformat_minor": 2
}
