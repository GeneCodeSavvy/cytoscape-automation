{
  "nbformat": 4,
  "nbformat_minor": 0,
  "metadata": {
    "kernelspec": {
      "display_name": "Python 3",
      "language": "python",
      "name": "python3"
    },
    "language_info": {
      "codemirror_mode": {
        "name": "ipython",
        "version": 3
      },
      "file_extension": ".py",
      "mimetype": "text/x-python",
      "name": "python",
      "nbconvert_exporter": "python",
      "pygments_lexer": "ipython3",
      "version": "3.8.5"
    },
    "colab": {
      "name": "filtering-networks.ipynb",
      "provenance": [],
      "include_colab_link": true
    }
  },
  "cells": [
    {
      "cell_type": "markdown",
      "metadata": {
        "id": "view-in-github",
        "colab_type": "text"
      },
      "source": [
        "<a href=\"https://colab.research.google.com/github/cytoscape/cytoscape-automation/blob/master/for-scripters/Python/filtering-networks.ipynb\" target=\"_parent\"><img src=\"https://colab.research.google.com/assets/colab-badge.svg\" alt=\"Open In Colab\"/></a>"
      ]
    },
    {
      "cell_type": "markdown",
      "metadata": {
        "id": "3_3g0cULyohU"
      },
      "source": [
        "# Filtering Networks\n"
      ]
    },
    {
      "cell_type": "markdown",
      "metadata": {
        "id": "ixjL4gbHyohX"
      },
      "source": [
        "## Yihang Xin and Alex Pico"
      ]
    },
    {
      "cell_type": "markdown",
      "metadata": {
        "id": "_4s-MGUGyohX"
      },
      "source": [
        "## 2020-12-15\n"
      ]
    },
    {
      "cell_type": "markdown",
      "metadata": {
        "id": "Ou5M-6duyohY"
      },
      "source": [
        "This vignette will introduce you to some techniques for filtering a network based on node properties. You will learn to:\n",
        "\n",
        "* Select a set of nodes based on node degree and attribute filters\n",
        "* Create a subnetwork based on selected nodes\n",
        "* Hide a set of nodes based on filters\n",
        "\n",
        "For this tutorial, we will use data from the STRING database (https://string-db.org/).\n",
        "\n",
        "You can also install app inside Python notebook by running \"py4cytoscape.install_app('Your App')\""
      ]
    },
    {
      "cell_type": "markdown",
      "metadata": {
        "id": "9Lk4bbiLyohY"
      },
      "source": [
        "# Installation\n",
        "The following chunk of code installs the `py4cytoscape` module."
      ]
    },
    {
      "cell_type": "code",
      "metadata": {
        "id": "CPQC1hsZyohZ"
      },
      "source": [
        "%%capture\n",
        "!python3 -m pip install python-igraph requests pandas networkx\n",
        "!python3 -m pip install py4cytoscape"
      ],
      "execution_count": null,
      "outputs": []
    },
    {
      "cell_type": "markdown",
      "metadata": {
        "id": "Y5YRqIHcyrBz"
      },
      "source": [
        "If you are using a remote notebook environment such as Google Colab, please execute the cell below. (If you're running on your local notebook, you don't need to do that.)\n",
        "\n"
      ]
    },
    {
      "cell_type": "code",
      "metadata": {
        "id": "jWCv4JHZyuXG"
      },
      "source": [
        "import requests\n",
        "exec(requests.get(\"https://raw.githubusercontent.com/cytoscape/jupyter-bridge/master/client/p4c_init.py\").text)\n",
        "IPython.display.Javascript(_PY4CYTOSCAPE_BROWSER_CLIENT_JS) # Start browser client"
      ],
      "execution_count": null,
      "outputs": []
    },
    {
      "cell_type": "markdown",
      "metadata": {
        "id": "nn46z7CpyohZ"
      },
      "source": [
        "# Prerequisites\n",
        "In addition to this package (py4cytoscape version 0.0.9), you will need:\n",
        "\n",
        "* Latest version of Cytoscape, which can be downloaded from https://cytoscape.org/download.html. Simply follow the installation instructions on screen.\n",
        "\n",
        "* Complete installation wizard\n",
        "\n",
        "* Launch Cytoscape\n",
        "\n",
        "For this vignette, you’ll also need the STRING app:\n",
        "\n",
        "Install the STRING app from https://apps.cytoscape.org/apps/stringapp\n",
        "\n",
        "You can also install app inside Python notebook by running py4cytoscape.install_app('Your App')"
      ]
    },
    {
      "cell_type": "markdown",
      "metadata": {
        "id": "-yR2YCoMyoha"
      },
      "source": [
        "# Import the required package\n"
      ]
    },
    {
      "cell_type": "code",
      "metadata": {
        "id": "HkMQC1rwyohb"
      },
      "source": [
        "import os\n",
        "import sys\n",
        "import pandas as pd\n",
        "import py4cytoscape as p4c"
      ],
      "execution_count": null,
      "outputs": []
    },
    {
      "cell_type": "markdown",
      "metadata": {
        "id": "-G3DxP_Oyohb"
      },
      "source": [
        "# Setup Cytoscape\n"
      ]
    },
    {
      "cell_type": "code",
      "metadata": {
        "id": "IWDv3Rolyohc",
        "outputId": "ed84f2c1-eced-430c-d747-4a46f878b0dc"
      },
      "source": [
        "p4c.cytoscape_version_info()"
      ],
      "execution_count": null,
      "outputs": [
        {
          "output_type": "execute_result",
          "data": {
            "text/plain": [
              "{'apiVersion': 'v1',\n",
              " 'cytoscapeVersion': '3.8.2',\n",
              " 'automationAPIVersion': '1.0.0',\n",
              " 'py4cytoscapeVersion': '0.0.6'}"
            ]
          },
          "metadata": {
            "tags": []
          },
          "execution_count": 2
        }
      ]
    },
    {
      "cell_type": "markdown",
      "metadata": {
        "id": "pgS7cNKUyohc"
      },
      "source": [
        "# Get network from STRING\n"
      ]
    },
    {
      "cell_type": "markdown",
      "metadata": {
        "id": "JLl2LiqCyohd"
      },
      "source": [
        "We are going to query the STRING Disease database for the term “breast cancer”. By default, the app pulls the top 100 human proteins associated with the disease along with edges having an evidence strength of 0.4 or greater:"
      ]
    },
    {
      "cell_type": "code",
      "metadata": {
        "id": "GJHQlldnyohd",
        "outputId": "1a2299f4-95bc-4364-9364-038ffc4c8198"
      },
      "source": [
        "string_cmd = 'string disease query disease=\"breast cancer\"'\n",
        "p4c.commands.commands_run(string_cmd)"
      ],
      "execution_count": null,
      "outputs": [
        {
          "output_type": "execute_result",
          "data": {
            "text/plain": [
              "[\"Loaded network 'String Network - breast cancer' with 100 nodes and 2472 edges\"]"
            ]
          },
          "metadata": {
            "tags": []
          },
          "execution_count": 3
        }
      ]
    },
    {
      "cell_type": "code",
      "metadata": {
        "id": "Ce2GOzQRyohd"
      },
      "source": [
        "string_net = p4c.get_network_suid()"
      ],
      "execution_count": null,
      "outputs": []
    },
    {
      "cell_type": "markdown",
      "metadata": {
        "id": "irkCOx1Cyohe"
      },
      "source": [
        "# Filtering by degree\n"
      ]
    },
    {
      "cell_type": "markdown",
      "metadata": {
        "id": "6yiLRShgyohe"
      },
      "source": [
        "## Creating a degree filter\n"
      ]
    },
    {
      "cell_type": "markdown",
      "metadata": {
        "id": "fFodufwByohe"
      },
      "source": [
        "Every node in a network has a Degree property, which corresponds to the number of edges connecting the node to other nodes, either as a target or source. Filtering based on node degree is a useful way to remove nodes with too few (or too many) connections.\n",
        "\n",
        "In this example we want to exclude low degree nodes, e.g., those with only 0, 1 or 2 connections:"
      ]
    },
    {
      "cell_type": "code",
      "metadata": {
        "scrolled": true,
        "id": "Sk4dhKqlyohe",
        "outputId": "8c6c1d9c-79d7-41c0-87f6-191d1765eaf9"
      },
      "source": [
        "p4c.create_degree_filter('degree filter', [0, 2], predicate='IS_NOT_BETWEEN')"
      ],
      "execution_count": null,
      "outputs": [
        {
          "output_type": "stream",
          "text": [
            "No edges selected.\n"
          ],
          "name": "stdout"
        },
        {
          "output_type": "execute_result",
          "data": {
            "text/plain": [
              "{'nodes': ['9606.ENSP00000011653',\n",
              "  '9606.ENSP00000296511',\n",
              "  '9606.ENSP00000369816',\n",
              "  '9606.ENSP00000302564',\n",
              "  '9606.ENSP00000265171',\n",
              "  '9606.ENSP00000386559',\n",
              "  '9606.ENSP00000288602',\n",
              "  '9606.ENSP00000263025',\n",
              "  '9606.ENSP00000354558',\n",
              "  '9606.ENSP00000261769',\n",
              "  '9606.ENSP00000407586',\n",
              "  '9606.ENSP00000372023',\n",
              "  '9606.ENSP00000269141',\n",
              "  '9606.ENSP00000306512',\n",
              "  '9606.ENSP00000371194',\n",
              "  '9606.ENSP00000441765',\n",
              "  '9606.ENSP00000361021',\n",
              "  '9606.ENSP00000256078',\n",
              "  '9606.ENSP00000484824',\n",
              "  '9606.ENSP00000317272',\n",
              "  '9606.ENSP00000352408',\n",
              "  '9606.ENSP00000437955',\n",
              "  '9606.ENSP00000275493',\n",
              "  '9606.ENSP00000428056',\n",
              "  '9606.ENSP00000229239',\n",
              "  '9606.ENSP00000410294',\n",
              "  '9606.ENSP00000343925',\n",
              "  '9606.ENSP00000344456',\n",
              "  '9606.ENSP00000261584',\n",
              "  '9606.ENSP00000277541',\n",
              "  '9606.ENSP00000263923',\n",
              "  '9606.ENSP00000278616',\n",
              "  '9606.ENSP00000331897',\n",
              "  '9606.ENSP00000227507',\n",
              "  '9606.ENSP00000268035',\n",
              "  '9606.ENSP00000267101',\n",
              "  '9606.ENSP00000252242',\n",
              "  '9606.ENSP00000356150',\n",
              "  '9606.ENSP00000295736',\n",
              "  '9606.ENSP00000418960',\n",
              "  '9606.ENSP00000219746',\n",
              "  '9606.ENSP00000478255',\n",
              "  '9606.ENSP00000390265',\n",
              "  '9606.ENSP00000288135',\n",
              "  '9606.ENSP00000282397',\n",
              "  '9606.ENSP00000479618',\n",
              "  '9606.ENSP00000351015',\n",
              "  '9606.ENSP00000252809',\n",
              "  '9606.ENSP00000354487',\n",
              "  '9606.ENSP00000311032',\n",
              "  '9606.ENSP00000269571',\n",
              "  '9606.ENSP00000257904',\n",
              "  '9606.ENSP00000325120',\n",
              "  '9606.ENSP00000379140',\n",
              "  '9606.ENSP00000398698',\n",
              "  '9606.ENSP00000219070',\n",
              "  '9606.ENSP00000382423',\n",
              "  '9606.ENSP00000267163',\n",
              "  '9606.ENSP00000349960',\n",
              "  '9606.ENSP00000393312',\n",
              "  '9606.ENSP00000362680',\n",
              "  '9606.ENSP00000380432',\n",
              "  '9606.ENSP00000297785',\n",
              "  '9606.ENSP00000244050',\n",
              "  '9606.ENSP00000380034',\n",
              "  '9606.ENSP00000379683',\n",
              "  '9606.ENSP00000343847',\n",
              "  '9606.ENSP00000457421',\n",
              "  '9606.ENSP00000302665',\n",
              "  '9606.ENSP00000309572',\n",
              "  '9606.ENSP00000276925',\n",
              "  '9606.ENSP00000342235',\n",
              "  '9606.ENSP00000360266',\n",
              "  '9606.ENSP00000264657',\n",
              "  '9606.ENSP00000351905',\n",
              "  '9606.ENSP00000370989',\n",
              "  '9606.ENSP00000264498',\n",
              "  '9606.ENSP00000346839',\n",
              "  '9606.ENSP00000398632',\n",
              "  '9606.ENSP00000483985',\n",
              "  '9606.ENSP00000269305',\n",
              "  '9606.ENSP00000263967',\n",
              "  '9606.ENSP00000361405',\n",
              "  '9606.ENSP00000295897',\n",
              "  '9606.ENSP00000266970',\n",
              "  '9606.ENSP00000478570',\n",
              "  '9606.ENSP00000258149',\n",
              "  '9606.ENSP00000385675',\n",
              "  '9606.ENSP00000386884',\n",
              "  '9606.ENSP00000363822',\n",
              "  '9606.ENSP00000369497',\n",
              "  '9606.ENSP00000239374',\n",
              "  '9606.ENSP00000405330',\n",
              "  '9606.ENSP00000451828',\n",
              "  '9606.ENSP00000418915',\n",
              "  '9606.ENSP00000263735'],\n",
              " 'edges': None}"
            ]
          },
          "metadata": {
            "tags": []
          },
          "execution_count": 5
        }
      ]
    },
    {
      "cell_type": "markdown",
      "metadata": {
        "id": "Ao6k6GOeyohf"
      },
      "source": [
        "At the bottom of the Select tab, you can see how many edges/nodes where selected.\n",
        "\n"
      ]
    },
    {
      "cell_type": "markdown",
      "metadata": {
        "id": "WUklP29Qyohf"
      },
      "source": [
        "# Creating a subnetwork from a selection\n"
      ]
    },
    {
      "cell_type": "markdown",
      "metadata": {
        "id": "31x2hFDFyohf"
      },
      "source": [
        "We can now create a new network, or subnetwork, from our selected set of nodes and all relevant edges:\n",
        "\n"
      ]
    },
    {
      "cell_type": "code",
      "metadata": {
        "id": "tfU0ZPe-yohf",
        "outputId": "e23afc45-1fab-454a-ff4a-47f0b6a00d62"
      },
      "source": [
        "p4c.create_subnetwork(subnetwork_name='Breast cancer: highly connected nodes')"
      ],
      "execution_count": null,
      "outputs": [
        {
          "output_type": "execute_result",
          "data": {
            "text/plain": [
              "5233"
            ]
          },
          "metadata": {
            "tags": []
          },
          "execution_count": 6
        }
      ]
    },
    {
      "cell_type": "markdown",
      "metadata": {
        "id": "mNmNAyyayohf"
      },
      "source": [
        "# Filtering by attribute\n"
      ]
    },
    {
      "cell_type": "markdown",
      "metadata": {
        "id": "qNm1HZdAyohg"
      },
      "source": [
        "## Creating a column filter\n"
      ]
    },
    {
      "cell_type": "markdown",
      "metadata": {
        "id": "ffwk6XEtyohg"
      },
      "source": [
        "We could also filter the network based on high disease score. The disease score comes from STRING and indicates the strength of the association to the disease queried.\n",
        "\n",
        "Let’s select nodes from the original network with a disease score of greater than 4 (on a scale of 1-5):"
      ]
    },
    {
      "cell_type": "code",
      "metadata": {
        "id": "4deotULIyohg",
        "outputId": "b07539e3-7882-420a-e8ff-8512a272e95b"
      },
      "source": [
        "p4c.create_column_filter('disease score filter','stringdb::disease score', 4, \"GREATER_THAN\", network = string_net)"
      ],
      "execution_count": null,
      "outputs": [
        {
          "output_type": "stream",
          "text": [
            "No edges selected.\n"
          ],
          "name": "stdout"
        },
        {
          "output_type": "execute_result",
          "data": {
            "text/plain": [
              "{'nodes': ['9606.ENSP00000361021',\n",
              "  '9606.ENSP00000275493',\n",
              "  '9606.ENSP00000344456',\n",
              "  '9606.ENSP00000227507',\n",
              "  '9606.ENSP00000418960',\n",
              "  '9606.ENSP00000390265',\n",
              "  '9606.ENSP00000269571',\n",
              "  '9606.ENSP00000269305',\n",
              "  '9606.ENSP00000369497',\n",
              "  '9606.ENSP00000405330',\n",
              "  '9606.ENSP00000451828'],\n",
              " 'edges': None}"
            ]
          },
          "metadata": {
            "tags": []
          },
          "execution_count": 7
        }
      ]
    },
    {
      "cell_type": "markdown",
      "metadata": {
        "id": "1zj6EnfLyohi"
      },
      "source": [
        "Again, we can create a subnetwork from the selection:\n",
        "\n"
      ]
    },
    {
      "cell_type": "code",
      "metadata": {
        "id": "JWu0KqXyyohi",
        "outputId": "a7699d90-3484-443f-e605-f2cfb4e5e93f"
      },
      "source": [
        "p4c.create_subnetwork(subnetwork_name='Breast cancer: high disease score')"
      ],
      "execution_count": null,
      "outputs": [
        {
          "output_type": "execute_result",
          "data": {
            "text/plain": [
              "7808"
            ]
          },
          "metadata": {
            "tags": []
          },
          "execution_count": 8
        }
      ]
    },
    {
      "cell_type": "markdown",
      "metadata": {
        "id": "VdW955Eayohi"
      },
      "source": [
        "# Combining filters\n"
      ]
    },
    {
      "cell_type": "markdown",
      "metadata": {
        "id": "h48_sovJyohi"
      },
      "source": [
        "But what if we want to combine these two filters? You could apply them sequentially as individual filters, but then you’d need to be careful about the order in which you apply the filters. Alternatively, you can create a composite filter and apply the logic all at once!\n",
        "\n",
        "Let’s combine the two filters “degree filter” and “disease score” to produce one filter, then apply it to the original network and create a final subnetwork:"
      ]
    },
    {
      "cell_type": "code",
      "metadata": {
        "id": "y7WHsQBHyohj",
        "outputId": "ac488dc1-2f19-4663-c813-56f17caf0da4"
      },
      "source": [
        "p4c.create_composite_filter('combined filter', ['degree filter','disease score filter'], network=string_net)\n",
        "p4c.create_subnetwork(subnetwork_name='final subnetwork')"
      ],
      "execution_count": null,
      "outputs": [
        {
          "output_type": "stream",
          "text": [
            "No edges selected.\n"
          ],
          "name": "stdout"
        },
        {
          "output_type": "execute_result",
          "data": {
            "text/plain": [
              "7881"
            ]
          },
          "metadata": {
            "tags": []
          },
          "execution_count": 9
        }
      ]
    },
    {
      "cell_type": "markdown",
      "metadata": {
        "id": "31p0hc6Syohj"
      },
      "source": [
        "We can apply a layout to help with interpreting the network:\n",
        "\n"
      ]
    },
    {
      "cell_type": "code",
      "metadata": {
        "id": "NyNUDSFRyohj",
        "outputId": "6f8af993-b96a-4f55-b572-6c5fe6dd7379"
      },
      "source": [
        "p4c.layout_network('force-directed')"
      ],
      "execution_count": null,
      "outputs": [
        {
          "output_type": "execute_result",
          "data": {
            "text/plain": [
              "{}"
            ]
          },
          "metadata": {
            "tags": []
          },
          "execution_count": 10
        }
      ]
    },
    {
      "cell_type": "markdown",
      "metadata": {
        "id": "XJ8ur-2Ayohj"
      },
      "source": [
        "This final network obviously contains fewer nodes than the original, but they are the most connected and most highly associated with the disease. If you examine the network you can see several well-known breast cancer oncogenes, for example BRCA1, TP53 and PTEN, near the center of the action."
      ]
    },
    {
      "cell_type": "markdown",
      "metadata": {
        "id": "A672ARFyyohj"
      },
      "source": [
        "# Hiding filtered nodes\n"
      ]
    },
    {
      "cell_type": "markdown",
      "metadata": {
        "id": "NT-72Hmryohj"
      },
      "source": [
        "As a final example of the filter functions, let’s return to the orignal network once more and apply our “combined filter”. But this time let’s hide the filtered out nodes, rather than forming a selection. This demonstrates the applyFilter function and the hide parameter that is optional for all createXXXFilter functions as well."
      ]
    },
    {
      "cell_type": "code",
      "metadata": {
        "id": "9JNe5LYnyohk"
      },
      "source": [
        "# p4c.apply_filter('combined filter', hide=True, network=string_net)"
      ],
      "execution_count": null,
      "outputs": []
    }
  ]
}