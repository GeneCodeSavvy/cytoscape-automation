{
 "cells": [
  {
   "cell_type": "markdown",
   "metadata": {
    "colab_type": "text",
    "id": "view-in-github"
   },
   "source": [
    "<a href=\"https://colab.research.google.com/github/cytoscape/cytoscape-automation/blob/master/for-scripters/Python/filtering-networks.ipynb\" target=\"_parent\"><img src=\"https://colab.research.google.com/assets/colab-badge.svg\" alt=\"Open In Colab\"/></a>"
   ]
  },
  {
   "cell_type": "markdown",
   "metadata": {
    "id": "3_3g0cULyohU"
   },
   "source": [
    "# Filtering Networks\n"
   ]
  },
  {
   "cell_type": "markdown",
   "metadata": {
    "id": "ixjL4gbHyohX"
   },
   "source": [
    "## Yihang Xin and Alex Pico"
   ]
  },
  {
   "cell_type": "markdown",
   "metadata": {
    "id": "_4s-MGUGyohX"
   },
   "source": [
    "## 2021-11-16\n"
   ]
  },
  {
   "cell_type": "markdown",
   "metadata": {
    "id": "Ou5M-6duyohY"
   },
   "source": [
    "This notebook will introduce you to some techniques for filtering a network based on node properties. You will learn to:\n",
    "\n",
    "* Select a set of nodes based on node degree and attribute filters\n",
    "* Create a subnetwork based on selected nodes\n",
    "* Hide a set of nodes based on filters\n",
    "\n",
    "For this tutorial, we will use data from the STRING database (https://string-db.org/).\n",
    "\n",
    "You can also install app inside Python notebook by running \"py4cytoscape.install_app('Your App')\""
   ]
  },
  {
   "cell_type": "markdown",
   "metadata": {
    "id": "9Lk4bbiLyohY"
   },
   "source": [
    "# Installation\n",
    "The following chunk of code installs the `py4cytoscape` module."
   ]
  },
  {
   "cell_type": "code",
   "execution_count": 1,
   "metadata": {
    "id": "CPQC1hsZyohZ"
   },
   "outputs": [],
   "source": [
    "%%capture\n",
    "!python3 -m pip install python-igraph requests pandas networkx\n",
    "!python3 -m pip install py4cytoscape"
   ]
  },
  {
   "cell_type": "markdown",
   "metadata": {
    "id": "Y5YRqIHcyrBz"
   },
   "source": [
    "If you are using a remote notebook environment such as Google Colab, please execute the cell below. (If you're running on your local notebook, you don't need to do that.)\n",
    "\n"
   ]
  },
  {
   "cell_type": "code",
   "execution_count": 2,
   "metadata": {
    "id": "jWCv4JHZyuXG"
   },
   "outputs": [
    {
     "name": "stdout",
     "output_type": "stream",
     "text": [
      "Requirement already satisfied: py4cytoscape in /opt/anaconda3/lib/python3.8/site-packages (0.0.10)\n",
      "Requirement already satisfied: python-igraph in /opt/anaconda3/lib/python3.8/site-packages (from py4cytoscape) (0.8.3)\n",
      "Requirement already satisfied: colorbrewer in /opt/anaconda3/lib/python3.8/site-packages (from py4cytoscape) (0.2.0)\n",
      "Requirement already satisfied: requests in /opt/anaconda3/lib/python3.8/site-packages (from py4cytoscape) (2.24.0)\n",
      "Requirement already satisfied: networkx in /opt/anaconda3/lib/python3.8/site-packages (from py4cytoscape) (2.5)\n",
      "Requirement already satisfied: pandas in /opt/anaconda3/lib/python3.8/site-packages (from py4cytoscape) (1.1.3)\n",
      "Requirement already satisfied: six in /opt/anaconda3/lib/python3.8/site-packages (from colorbrewer->py4cytoscape) (1.15.0)\n",
      "Requirement already satisfied: decorator>=4.3.0 in /opt/anaconda3/lib/python3.8/site-packages (from networkx->py4cytoscape) (4.4.2)\n",
      "Requirement already satisfied: numpy>=1.15.4 in /opt/anaconda3/lib/python3.8/site-packages (from pandas->py4cytoscape) (1.19.2)\n",
      "Requirement already satisfied: python-dateutil>=2.7.3 in /opt/anaconda3/lib/python3.8/site-packages (from pandas->py4cytoscape) (2.8.1)\n",
      "Requirement already satisfied: pytz>=2017.2 in /opt/anaconda3/lib/python3.8/site-packages (from pandas->py4cytoscape) (2020.1)\n",
      "Requirement already satisfied: texttable>=1.6.2 in /opt/anaconda3/lib/python3.8/site-packages (from python-igraph->py4cytoscape) (1.6.3)\n",
      "Requirement already satisfied: certifi>=2017.4.17 in /opt/anaconda3/lib/python3.8/site-packages (from requests->py4cytoscape) (2020.6.20)\n",
      "Requirement already satisfied: idna<3,>=2.5 in /opt/anaconda3/lib/python3.8/site-packages (from requests->py4cytoscape) (2.10)\n",
      "Requirement already satisfied: chardet<4,>=3.0.2 in /opt/anaconda3/lib/python3.8/site-packages (from requests->py4cytoscape) (3.0.4)\n",
      "Requirement already satisfied: urllib3!=1.25.0,!=1.25.1,<1.26,>=1.21.1 in /opt/anaconda3/lib/python3.8/site-packages (from requests->py4cytoscape) (1.25.11)\n"
     ]
    },
    {
     "name": "stderr",
     "output_type": "stream",
     "text": [
      "WARNING: You are using pip version 21.0; however, version 21.3.1 is available.\n",
      "You should consider upgrading via the '/opt/anaconda3/bin/python -m pip install --upgrade pip' command.\n"
     ]
    },
    {
     "name": "stdout",
     "output_type": "stream",
     "text": [
      "Loading Javascript client ... d6008ed2-69e3-473b-8225-fa394fb7fe29 on https://jupyter-bridge.cytoscape.org\n"
     ]
    },
    {
     "data": {
      "application/javascript": [
       "var Channel = \"d6008ed2-69e3-473b-8225-fa394fb7fe29\"; \n",
       "\n",
       "var JupyterBridge = \"https://jupyter-bridge.cytoscape.org\"; \n",
       "\n",
       "  /*\n",
       "    These functions serve as a connector between a remote Jupyter server and Cytoscape.\n",
       "    They run in the user's browser, which also shows the Jupyter Notebook.\n",
       "\n",
       "    A remote Jupyter Notebook call to the py4cytoscape package is forwarded to the Jupyter Bridge,\n",
       "    which is a standalone server. The functions in this connector execute in the Jupyter Notebook\n",
       "    browser, which executes on the same PC as Cytoscape. So, that's 4 components: (A) remote\n",
       "    Jupyter Notebook, (B) separate Jupyter Bridge server, (C) this browser-based component, and\n",
       "    (D) Cytoscape. (A) is on a remote server, (B) is on a different remote server, and (C) and (D)\n",
       "    are on the user's PC.\n",
       "\n",
       "    (A) calls its py4cytoscape module, which forwards the request (in a JSON wrapper) to (B).\n",
       "    (C) picks up the request from (B), unpacks the request and forwards it to (D). (C) awaits a\n",
       "    reply from (D), and when it gets it, it forwards the reply (in a JSON wrapper) to (B).\n",
       "    (A)'s py4cytoscape module picks up the reply on (B) when it becomes available, unpacks it,\n",
       "    and returns it to (A).\n",
       "\n",
       "    A Jupyter Notebook can talk to only one Cytoscape (i.e., the one on the machine running the\n",
       "    Jupyter Notebook browser), and Cytoscape should be called by only one Jupyter Notebook. The\n",
       "    Jupyter Bridge differentiates between Notebook-Cytoscape conversations via a channel UUID.\n",
       "    The UUID is prepended to this browser component by py4Cytoscape, and the component is\n",
       "    started by the Jupyter Notebook. (I wish py4Cytoscape could start the component, too, but I\n",
       "    haven't figured out how to do that yet, so startup code *is* required in the Jupyter\n",
       "    Notebook.)\n",
       "\n",
       "    Note that for the case of a Jupyter server running on the same machine as Cytoscape, this\n",
       "    bridge isn't necessary because the Jupyter server's HTTP calls can easily connect to\n",
       "    Cytoscape over a localhost socket. So, the combination of Jupyter Bridge and this browser\n",
       "    component solves the problem of a Jupyter server (e.g., Google's Colab) that can't\n",
       "    connect to Cytoscape that sits behind a firewall.\n",
       "\n",
       "    The request represents an HTTP call that py4cytoscape would normally make via HTTP directly\n",
       "    to Cytoscape via localhost when both py4cytoscape and Cytoscape are running on the same machine.\n",
       " */\n",
       "\n",
       "const VERSION = '0.0.2'\n",
       "\n",
       "var showDebug; // Flag indicating whether to show Jupyter-bridge progress\n",
       "if (typeof showDebug === 'undefined') {\n",
       "    showDebug = false\n",
       "}\n",
       "if (showDebug) {\n",
       "    alert(\"Starting Jupyter-bridge browser component\")\n",
       "}\n",
       "\n",
       "//const JupyterBridge = 'http://127.0.0.1:5000' // for testing against local Jupyter-bridge\n",
       "var JupyterBridge; // URL of Jupyter-bridge server could be defined by assignment pre-pended to this file\n",
       "if (typeof JupyterBridge === 'undefined') {\n",
       "    JupyterBridge = 'https://jupyter-bridge.cytoscape.org' // for production\n",
       "}\n",
       "var Channel; // Unique constant that could be defined by assignment pre-pended to this file\n",
       "if (typeof Channel === 'undefined') { // ... but if not assigned, use a debugging value\n",
       "    Channel = 1\n",
       "}\n",
       "\n",
       "\n",
       "var httpR = new XMLHttpRequest(); // for sending reply to Jupyter-bridge\n",
       "var httpRE = new XMLHttpRequest(); // for sending backup error reply to Jupyter-bridge\n",
       "var httpC = new XMLHttpRequest(); // for sending command to Cytoscape\n",
       "var httpJ = new XMLHttpRequest(); // for fetching request from Jupyter-bridge\n",
       "\n",
       "const HTTP_OK = 200\n",
       "const HTTP_SYS_ERR = 500\n",
       "const HTTP_TIMEOUT = 408\n",
       "const HTTP_TOO_MANY = 429\n",
       "\n",
       "\n",
       " /* This function is useful if we want to rewrite the incoming URL to resolve just to our local one.\n",
       "    Doing this stops the Jupyter component from abusing this client to call out to endpoints other\n",
       "    than local Cytoscape. On the other hand, it makes it hard to detect when the Jupyter component\n",
       "    has specified a genuinely bad URL and really should get an error result. For now, we'll execute\n",
       "    the Jupyter-supplied URL and return the result, whatever it may be.\n",
       "\n",
       "const LocalCytoscape = 'http://127.0.0.1:1234'\n",
       "\n",
       "function parseURL(url) {\n",
       "    var reURLInformation = new RegExp([\n",
       "        '^(https?:)//', // protocol\n",
       "        '(([^:/?#]*)(?::([0-9]+))?)', // host (hostname and port)\n",
       "        '(/{0,1}[^?#]*)', // pathname\n",
       "        '(\\\\?[^#]*|)', // search\n",
       "        '(#.*|)$' // hash\n",
       "    ].join(''));\n",
       "    var match = url.match(reURLInformation);\n",
       "    return match && {\n",
       "        url: url,\n",
       "        protocol: match[1],\n",
       "        host: match[2],\n",
       "        hostname: match[3],\n",
       "        port: match[4],\n",
       "        pathname: match[5],\n",
       "        search: match[6],\n",
       "        hash: match[7]\n",
       "    }\n",
       "}\n",
       "*/\n",
       "\n",
       "function replyCytoscape(replyStatus, replyStatusText, replyText) {\n",
       "\n",
       "    // Clean up after Jupyter bridge accepts reply\n",
       "    httpR.onreadystatechange = function() {\n",
       "        if (httpR.readyState === 4) {\n",
       "            if (showDebug) {\n",
       "                console.log(' status from queue_reply: ' + httpR.status + ', reply: ' + httpR.responseText)\n",
       "            }\n",
       "        }\n",
       "    }\n",
       "\n",
       "    httpR.onerror = function() {\n",
       "        // Clean up after Jupyter bridge accepts backup reply\n",
       "        httpRE.onreadystatechange = function() {\n",
       "            if (httpRE.readyState === 4) {\n",
       "                if (showDebug) {\n",
       "                    console.log(' status from backup queue_reply: ' + httpRE.status + ', reply: ' + httpRE.responseText)\n",
       "                }\n",
       "            }\n",
       "        }\n",
       "\n",
       "        if (showDebug) {\n",
       "            console.log(' error from queue_reply -- could be Jupyter-Bridge server reject')\n",
       "        }\n",
       "        var errReply = {'status': HTTP_SYS_ERR, 'reason': 'Jupyter-Bridge rejected reply', 'text': 'Possibly reply is too long for Jupyter-Bridge server'}\n",
       "        httpRE.open('POST', jupyterBridgeURL, true)\n",
       "        httpRE.setRequestHeader('Content-Type', 'text/plain')\n",
       "        httpRE.send(JSON.stringify(errReply))\n",
       "    }\n",
       "\n",
       "    var reply = {'status': replyStatus, 'reason': replyStatusText, 'text': replyText}\n",
       "\n",
       "    // Send reply to Jupyter bridge\n",
       "    var jupyterBridgeURL = JupyterBridge + '/queue_reply?channel=' + Channel\n",
       "    if (showDebug) {\n",
       "        console.log('Starting queue to Jupyter bridge: ' + jupyterBridgeURL)\n",
       "    }\n",
       "    httpR.open('POST', jupyterBridgeURL, true)\n",
       "    httpR.setRequestHeader('Content-Type', 'text/plain')\n",
       "    httpR.send(JSON.stringify(reply))\n",
       "}\n",
       "\n",
       "function callCytoscape(callSpec) {\n",
       "\n",
       "    // Captures Cytoscape reply and sends it on\n",
       "    httpC.onreadystatechange = function() {\n",
       "        if (httpC.readyState === 4) {\n",
       "            if (showDebug) {\n",
       "                console.log(' status from CyREST: ' + httpC.status + ', statusText: ' + httpC.statusText + ', reply: ' + httpC.responseText)\n",
       "            }\n",
       "            // Note that httpC.status is 0 if the URL can't be reached *OR* there is a CORS violation.\n",
       "            // I wish I could tell the difference because for a CORS violation, I'd return a 404,\n",
       "            // which would roughly match what Python's native request package would return.\n",
       "            // The practical consequence is that the ultimate caller (e.g., py4cytoscape)\n",
       "            // returns different exceptions, depending on wither this module is doing the\n",
       "            // HTTP operation or the native Python requests package is. This is minor, but\n",
       "            // messes up tests that verify the exception type.\n",
       "            replyCytoscape(httpC.status, httpC.statusText, httpC.responseText)\n",
       "            waitOnJupyterBridge()\n",
       "        }\n",
       "    }\n",
       "\n",
       "//  Build up request to Cytoscape, making sure host is local.\n",
       "//    Too heavy handed: localURL = LocalCytoscape + parseURL(callSpec.url).pathname\n",
       "    var localURL = callSpec.url // Try using what was passed in ... is there a security risk??\n",
       "\n",
       "    if (showDebug) {\n",
       "        console.log('Command to CyREST: ' + callSpec.command + ' (' + localURL + ')')\n",
       "        if (callSpec.params) {\n",
       "            console.log(' params: ' + JSON.stringify(callSpec.params))\n",
       "        }\n",
       "        if (callSpec.headers) {\n",
       "            console.log(' header: ' + JSON.stringify(callSpec.headers))\n",
       "        }\n",
       "        if (callSpec.data) {\n",
       "            console.log('   data: ' + JSON.stringify(callSpec.data))\n",
       "        }\n",
       "    }\n",
       "\n",
       "    if (callSpec.command === 'webbrowser') {\n",
       "        if (window.open(callSpec.url)) {\n",
       "            replyCytoscape(HTTP_OK, 'OK', '')\n",
       "        } else {\n",
       "            replyCytoscape(HTTP_SYS_ERR, 'BAD BROWSER OPEN', '')\n",
       "        }\n",
       "        waitOnJupyterBridge()\n",
       "    } else if (callSpec.command === 'version') {\n",
       "        replyCytoscape(HTTP_OK, 'OK',\n",
       "            JSON.stringify({\"jupyterBridgeVersion\": VERSION}))\n",
       "        waitOnJupyterBridge()\n",
       "    } else {\n",
       "        var joiner = '?'\n",
       "        for (let param in callSpec.params) {\n",
       "            localURL = localURL + joiner + param + '=' + encodeURIComponent(callSpec.params[param])\n",
       "            joiner = '&'\n",
       "        }\n",
       "\n",
       "        httpC.open(callSpec.command, localURL, true)\n",
       "        for (let header in callSpec.headers) {\n",
       "            httpC.setRequestHeader(header, callSpec.headers[header])\n",
       "        }\n",
       "\n",
       "        // Send request to Cytoscape ... reply goes to onreadystatechange handler\n",
       "        httpC.send(JSON.stringify(callSpec.data))\n",
       "    }\n",
       "}\n",
       "\n",
       "function waitOnJupyterBridge() {\n",
       "\n",
       "    // Captures request from Jupyter bridge\n",
       "    httpJ.onreadystatechange = function() {\n",
       "        if (httpJ.readyState === 4) {\n",
       "            if (showDebug) {\n",
       "                console.log(' status from dequeue_request: ' + httpJ.status + ', reply: ' + httpJ.responseText)\n",
       "            }\n",
       "            try {\n",
       "                if (httpJ.status == HTTP_TOO_MANY) {\n",
       "                    // Nothing more to do ... the browser has created too many listeners,\n",
       "                    // and it's time to stop listening because the server saw a listener\n",
       "                    // listening on this channel before we got there.\n",
       "                    console.log('  shutting down because of redundant reader on channel: ' + Channel)\n",
       "                } else {\n",
       "                    if (httpJ.status === HTTP_TIMEOUT) {\n",
       "                        waitOnJupyterBridge()\n",
       "                    } else {\n",
       "                        callCytoscape(JSON.parse(httpJ.responseText))\n",
       "                    }\n",
       "                }\n",
       "            } catch(err) {\n",
       "                if (showDebug) {\n",
       "                    console.log(' exception calling Cytoscape: ' + err)\n",
       "                }\n",
       "                // Bad responseText means something bad happened that we don't understand.\n",
       "                // Go wait on another request, as there's nothing to call Cytoscape with.\n",
       "                waitOnJupyterBridge()\n",
       "            }\n",
       "        }\n",
       "    }\n",
       "\n",
       "    // Wait for request from Jupyter bridge\n",
       "    var jupyterBridgeURL = JupyterBridge + '/dequeue_request?channel=' + Channel\n",
       "    if (showDebug) {\n",
       "        console.log('Starting dequeue on Jupyter bridge: ' + jupyterBridgeURL)\n",
       "    }\n",
       "    httpJ.open('GET', jupyterBridgeURL, true)\n",
       "    httpJ.send()\n",
       "}\n",
       "\n",
       "// This kicks off a loop that ends by calling waitOnJupyterBridge again. This first call\n",
       "// ejects any dead readers before we start a read\n",
       "waitOnJupyterBridge() // Wait for message from Jupyter bridge, execute it, and return reply\n",
       "\n",
       "if (showDebug) {\n",
       "    alert(\"Jupyter-bridge browser component is started on \" + JupyterBridge + ', channel ' + Channel)\n",
       "}\n"
      ],
      "text/plain": [
       "<IPython.core.display.Javascript object>"
      ]
     },
     "execution_count": 2,
     "metadata": {},
     "output_type": "execute_result"
    }
   ],
   "source": [
    "import requests\n",
    "exec(requests.get(\"https://raw.githubusercontent.com/cytoscape/jupyter-bridge/master/client/p4c_init.py\").text)\n",
    "IPython.display.Javascript(_PY4CYTOSCAPE_BROWSER_CLIENT_JS) # Start browser client"
   ]
  },
  {
   "cell_type": "markdown",
   "metadata": {
    "id": "nn46z7CpyohZ"
   },
   "source": [
    "# Prerequisites\n",
    "In addition to this package (py4cytoscape version 0.0.11), you will need:\n",
    "\n",
    "* Latest version of Cytoscape, which can be downloaded from https://cytoscape.org/download.html. Simply follow the installation instructions on screen.\n",
    "\n",
    "* Complete installation wizard\n",
    "\n",
    "* Launch Cytoscape\n",
    "\n",
    "For this vignette, you’ll also need the STRING app:\n",
    "\n",
    "Install the STRING app from https://apps.cytoscape.org/apps/stringapp\n",
    "\n",
    "You can also install app inside Python notebook by running py4cytoscape.install_app('Your App')"
   ]
  },
  {
   "cell_type": "markdown",
   "metadata": {
    "id": "-yR2YCoMyoha"
   },
   "source": [
    "# Import the required package\n"
   ]
  },
  {
   "cell_type": "code",
   "execution_count": 3,
   "metadata": {
    "id": "HkMQC1rwyohb"
   },
   "outputs": [],
   "source": [
    "import os\n",
    "import sys\n",
    "import pandas as pd\n",
    "import py4cytoscape as p4c"
   ]
  },
  {
   "cell_type": "markdown",
   "metadata": {
    "id": "-G3DxP_Oyohb"
   },
   "source": [
    "# Setup Cytoscape\n"
   ]
  },
  {
   "cell_type": "code",
   "execution_count": 4,
   "metadata": {
    "id": "IWDv3Rolyohc",
    "outputId": "ed84f2c1-eced-430c-d747-4a46f878b0dc"
   },
   "outputs": [
    {
     "data": {
      "text/plain": [
       "{'apiVersion': 'v1',\n",
       " 'cytoscapeVersion': '3.9.0',\n",
       " 'automationAPIVersion': '1.2.0',\n",
       " 'py4cytoscapeVersion': '0.0.10'}"
      ]
     },
     "execution_count": 4,
     "metadata": {},
     "output_type": "execute_result"
    }
   ],
   "source": [
    "p4c.cytoscape_version_info()"
   ]
  },
  {
   "cell_type": "markdown",
   "metadata": {
    "id": "pgS7cNKUyohc"
   },
   "source": [
    "# Get network from STRING\n"
   ]
  },
  {
   "cell_type": "markdown",
   "metadata": {
    "id": "JLl2LiqCyohd"
   },
   "source": [
    "We are going to query the STRING Disease database for the term “breast cancer”. By default, the app pulls the top 100 human proteins associated with the disease along with edges having an evidence strength of 0.4 or greater:"
   ]
  },
  {
   "cell_type": "code",
   "execution_count": 5,
   "metadata": {
    "id": "GJHQlldnyohd",
    "outputId": "1a2299f4-95bc-4364-9364-038ffc4c8198"
   },
   "outputs": [
    {
     "data": {
      "text/plain": [
       "[\"Loaded network 'STRING network - breast cancer' with 100 nodes and 2500 edges\"]"
      ]
     },
     "execution_count": 5,
     "metadata": {},
     "output_type": "execute_result"
    }
   ],
   "source": [
    "string_cmd = 'string disease query disease=\"breast cancer\"'\n",
    "p4c.commands.commands_run(string_cmd)"
   ]
  },
  {
   "cell_type": "code",
   "execution_count": 6,
   "metadata": {
    "id": "Ce2GOzQRyohd"
   },
   "outputs": [],
   "source": [
    "string_net = p4c.get_network_suid()"
   ]
  },
  {
   "cell_type": "markdown",
   "metadata": {
    "id": "irkCOx1Cyohe"
   },
   "source": [
    "# Filtering by degree\n"
   ]
  },
  {
   "cell_type": "markdown",
   "metadata": {
    "id": "6yiLRShgyohe"
   },
   "source": [
    "## Creating a degree filter\n"
   ]
  },
  {
   "cell_type": "markdown",
   "metadata": {
    "id": "fFodufwByohe"
   },
   "source": [
    "Every node in a network has a Degree property, which corresponds to the number of edges connecting the node to other nodes, either as a target or source. Filtering based on node degree is a useful way to remove nodes with too few (or too many) connections.\n",
    "\n",
    "In this example we want to exclude low degree nodes, e.g., those with only 0, 1 or 2 connections:"
   ]
  },
  {
   "cell_type": "code",
   "execution_count": 7,
   "metadata": {
    "id": "Sk4dhKqlyohe",
    "outputId": "8c6c1d9c-79d7-41c0-87f6-191d1765eaf9",
    "scrolled": true
   },
   "outputs": [
    {
     "name": "stdout",
     "output_type": "stream",
     "text": [
      "No edges selected.\n"
     ]
    },
    {
     "data": {
      "text/plain": [
       "{'nodes': ['9606.ENSP00000261769',\n",
       "  '9606.ENSP00000407586',\n",
       "  '9606.ENSP00000405330',\n",
       "  '9606.ENSP00000451828',\n",
       "  '9606.ENSP00000372023',\n",
       "  '9606.ENSP00000269141',\n",
       "  '9606.ENSP00000418915',\n",
       "  '9606.ENSP00000263735',\n",
       "  '9606.ENSP00000371194',\n",
       "  '9606.ENSP00000441765',\n",
       "  '9606.ENSP00000361021',\n",
       "  '9606.ENSP00000256078',\n",
       "  '9606.ENSP00000484824',\n",
       "  '9606.ENSP00000352408',\n",
       "  '9606.ENSP00000437955',\n",
       "  '9606.ENSP00000275493',\n",
       "  '9606.ENSP00000229239',\n",
       "  '9606.ENSP00000410294',\n",
       "  '9606.ENSP00000351273',\n",
       "  '9606.ENSP00000343925',\n",
       "  '9606.ENSP00000344456',\n",
       "  '9606.ENSP00000368632',\n",
       "  '9606.ENSP00000261584',\n",
       "  '9606.ENSP00000277541',\n",
       "  '9606.ENSP00000263923',\n",
       "  '9606.ENSP00000278616',\n",
       "  '9606.ENSP00000336701',\n",
       "  '9606.ENSP00000227507',\n",
       "  '9606.ENSP00000268035',\n",
       "  '9606.ENSP00000267101',\n",
       "  '9606.ENSP00000252242',\n",
       "  '9606.ENSP00000356150',\n",
       "  '9606.ENSP00000295736',\n",
       "  '9606.ENSP00000418960',\n",
       "  '9606.ENSP00000219746',\n",
       "  '9606.ENSP00000324856',\n",
       "  '9606.ENSP00000265433',\n",
       "  '9606.ENSP00000479618',\n",
       "  '9606.ENSP00000260947',\n",
       "  '9606.ENSP00000354487',\n",
       "  '9606.ENSP00000303939',\n",
       "  '9606.ENSP00000311032',\n",
       "  '9606.ENSP00000269571',\n",
       "  '9606.ENSP00000257904',\n",
       "  '9606.ENSP00000381185',\n",
       "  '9606.ENSP00000259008',\n",
       "  '9606.ENSP00000325120',\n",
       "  '9606.ENSP00000379140',\n",
       "  '9606.ENSP00000398698',\n",
       "  '9606.ENSP00000219070',\n",
       "  '9606.ENSP00000376943',\n",
       "  '9606.ENSP00000382423',\n",
       "  '9606.ENSP00000349960',\n",
       "  '9606.ENSP00000401303',\n",
       "  '9606.ENSP00000362680',\n",
       "  '9606.ENSP00000380432',\n",
       "  '9606.ENSP00000297785',\n",
       "  '9606.ENSP00000244050',\n",
       "  '9606.ENSP00000380034',\n",
       "  '9606.ENSP00000379683',\n",
       "  '9606.ENSP00000343847',\n",
       "  '9606.ENSP00000457421',\n",
       "  '9606.ENSP00000302665',\n",
       "  '9606.ENSP00000309572',\n",
       "  '9606.ENSP00000276925',\n",
       "  '9606.ENSP00000342235',\n",
       "  '9606.ENSP00000360266',\n",
       "  '9606.ENSP00000264657',\n",
       "  '9606.ENSP00000370989',\n",
       "  '9606.ENSP00000264498',\n",
       "  '9606.ENSP00000372088',\n",
       "  '9606.ENSP00000346839',\n",
       "  '9606.ENSP00000398632',\n",
       "  '9606.ENSP00000483985',\n",
       "  '9606.ENSP00000269305',\n",
       "  '9606.ENSP00000263967',\n",
       "  '9606.ENSP00000361405',\n",
       "  '9606.ENSP00000295897',\n",
       "  '9606.ENSP00000011653',\n",
       "  '9606.ENSP00000266970',\n",
       "  '9606.ENSP00000352271',\n",
       "  '9606.ENSP00000296511',\n",
       "  '9606.ENSP00000369816',\n",
       "  '9606.ENSP00000478570',\n",
       "  '9606.ENSP00000258149',\n",
       "  '9606.ENSP00000302564',\n",
       "  '9606.ENSP00000265171',\n",
       "  '9606.ENSP00000385675',\n",
       "  '9606.ENSP00000386884',\n",
       "  '9606.ENSP00000386559',\n",
       "  '9606.ENSP00000451974',\n",
       "  '9606.ENSP00000363822',\n",
       "  '9606.ENSP00000263025',\n",
       "  '9606.ENSP00000354558',\n",
       "  '9606.ENSP00000369497'],\n",
       " 'edges': None}"
      ]
     },
     "execution_count": 7,
     "metadata": {},
     "output_type": "execute_result"
    }
   ],
   "source": [
    "p4c.create_degree_filter('degree filter', [0, 2], predicate='IS_NOT_BETWEEN')"
   ]
  },
  {
   "cell_type": "markdown",
   "metadata": {
    "id": "Ao6k6GOeyohf"
   },
   "source": [
    "At the bottom of the Select tab, you can see how many edges/nodes where selected.\n",
    "\n"
   ]
  },
  {
   "cell_type": "markdown",
   "metadata": {
    "id": "WUklP29Qyohf"
   },
   "source": [
    "# Creating a subnetwork from a selection\n"
   ]
  },
  {
   "cell_type": "markdown",
   "metadata": {
    "id": "31x2hFDFyohf"
   },
   "source": [
    "We can now create a new network, or subnetwork, from our selected set of nodes and all relevant edges:\n",
    "\n"
   ]
  },
  {
   "cell_type": "code",
   "execution_count": null,
   "metadata": {
    "id": "tfU0ZPe-yohf",
    "outputId": "e23afc45-1fab-454a-ff4a-47f0b6a00d62"
   },
   "outputs": [],
   "source": [
    "p4c.create_subnetwork(subnetwork_name='Breast cancer: highly connected nodes')"
   ]
  },
  {
   "cell_type": "markdown",
   "metadata": {
    "id": "mNmNAyyayohf"
   },
   "source": [
    "# Filtering by attribute\n"
   ]
  },
  {
   "cell_type": "markdown",
   "metadata": {
    "id": "qNm1HZdAyohg"
   },
   "source": [
    "## Creating a column filter\n"
   ]
  },
  {
   "cell_type": "markdown",
   "metadata": {
    "id": "ffwk6XEtyohg"
   },
   "source": [
    "We could also filter the network based on high disease score. The disease score comes from STRING and indicates the strength of the association to the disease queried.\n",
    "\n",
    "Let’s select nodes from the original network with a disease score of greater than 4 (on a scale of 1-5):"
   ]
  },
  {
   "cell_type": "code",
   "execution_count": null,
   "metadata": {
    "id": "4deotULIyohg",
    "outputId": "b07539e3-7882-420a-e8ff-8512a272e95b"
   },
   "outputs": [],
   "source": [
    "p4c.create_column_filter('disease score filter','stringdb::disease score', 4, \"GREATER_THAN\", network = string_net)"
   ]
  },
  {
   "cell_type": "markdown",
   "metadata": {
    "id": "1zj6EnfLyohi"
   },
   "source": [
    "Again, we can create a subnetwork from the selection:\n",
    "\n"
   ]
  },
  {
   "cell_type": "code",
   "execution_count": null,
   "metadata": {
    "id": "JWu0KqXyyohi",
    "outputId": "a7699d90-3484-443f-e605-f2cfb4e5e93f"
   },
   "outputs": [],
   "source": [
    "p4c.create_subnetwork(subnetwork_name='Breast cancer: high disease score')"
   ]
  },
  {
   "cell_type": "markdown",
   "metadata": {
    "id": "VdW955Eayohi"
   },
   "source": [
    "# Combining filters\n"
   ]
  },
  {
   "cell_type": "markdown",
   "metadata": {
    "id": "h48_sovJyohi"
   },
   "source": [
    "But what if we want to combine these two filters? You could apply them sequentially as individual filters, but then you’d need to be careful about the order in which you apply the filters. Alternatively, you can create a composite filter and apply the logic all at once!\n",
    "\n",
    "Let’s combine the two filters “degree filter” and “disease score” to produce one filter, then apply it to the original network and create a final subnetwork:"
   ]
  },
  {
   "cell_type": "code",
   "execution_count": null,
   "metadata": {
    "id": "y7WHsQBHyohj",
    "outputId": "ac488dc1-2f19-4663-c813-56f17caf0da4"
   },
   "outputs": [],
   "source": [
    "p4c.create_composite_filter('combined filter', ['degree filter','disease score filter'], network=string_net)\n",
    "p4c.create_subnetwork(subnetwork_name='final subnetwork')"
   ]
  },
  {
   "cell_type": "markdown",
   "metadata": {
    "id": "31p0hc6Syohj"
   },
   "source": [
    "We can apply a layout to help with interpreting the network:\n",
    "\n"
   ]
  },
  {
   "cell_type": "code",
   "execution_count": null,
   "metadata": {
    "id": "NyNUDSFRyohj",
    "outputId": "6f8af993-b96a-4f55-b572-6c5fe6dd7379"
   },
   "outputs": [],
   "source": [
    "p4c.layout_network('force-directed')"
   ]
  },
  {
   "cell_type": "markdown",
   "metadata": {
    "id": "XJ8ur-2Ayohj"
   },
   "source": [
    "This final network obviously contains fewer nodes than the original, but they are the most connected and most highly associated with the disease. If you examine the network you can see several well-known breast cancer oncogenes, for example BRCA1, TP53 and PTEN, near the center of the action."
   ]
  },
  {
   "cell_type": "markdown",
   "metadata": {
    "id": "A672ARFyyohj"
   },
   "source": [
    "# Hiding filtered nodes\n"
   ]
  },
  {
   "cell_type": "markdown",
   "metadata": {
    "id": "NT-72Hmryohj"
   },
   "source": [
    "As a final example of the filter functions, let’s return to the orignal network once more and apply our “combined filter”. But this time let’s hide the filtered out nodes, rather than forming a selection. This demonstrates the applyFilter function and the hide parameter that is optional for all createXXXFilter functions as well."
   ]
  },
  {
   "cell_type": "code",
   "execution_count": null,
   "metadata": {
    "id": "9JNe5LYnyohk"
   },
   "outputs": [],
   "source": [
    "# p4c.apply_filter('combined filter', hide=True, network=string_net)"
   ]
  }
 ],
 "metadata": {
  "colab": {
   "include_colab_link": true,
   "name": "filtering-networks.ipynb",
   "provenance": []
  },
  "kernelspec": {
   "display_name": "Python 3",
   "language": "python",
   "name": "python3"
  },
  "language_info": {
   "codemirror_mode": {
    "name": "ipython",
    "version": 3
   },
   "file_extension": ".py",
   "mimetype": "text/x-python",
   "name": "python",
   "nbconvert_exporter": "python",
   "pygments_lexer": "ipython3",
   "version": "3.8.5"
  }
 },
 "nbformat": 4,
 "nbformat_minor": 1
}
