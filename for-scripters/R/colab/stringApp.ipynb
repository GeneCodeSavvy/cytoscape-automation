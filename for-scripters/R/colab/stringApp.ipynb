{
  "cells": [
    {
      "cell_type": "markdown",
      "metadata": {
        "id": "view-in-github",
        "colab_type": "text"
      },
      "source": [
        "<a href=\"https://colab.research.google.com/github/cytoscape/cytoscape-automation/blob/master/for-scripters/R/colab/stringApp.ipynb\" target=\"_parent\"><img src=\"https://colab.research.google.com/assets/colab-badge.svg\" alt=\"Open In Colab\"/></a>"
      ]
    },
    {
      "cell_type": "markdown",
      "metadata": {
        "lines_to_next_cell": 0,
        "id": "SQ6e9VvzKoO2"
      },
      "source": [
        "# Cytoscape StringApp\n",
        "## Kozo Nishida, Kristina Hanspers and Alex Pico\n"
      ]
    },
    {
      "cell_type": "markdown",
      "metadata": {
        "lines_to_next_cell": 0,
        "id": "IgCBee1fKoO5"
      },
      "source": [
        "*The R markdown is available. [download the Rmd from GitHub](https://raw.githubusercontent.com/cytoscape/cytoscape-automation/master/for-scripters/R/notebooks/stringApp.Rmd).*\n",
        "\n",
        "<hr />\n",
        "\n",
        "In these exercises, we will use the [stringApp](http://apps.cytoscape.org/apps/stringApp) for [Cytoscape](http://cytoscape.org/) to retrieve molecular networks from the [STRING](https://string-db.org/) and [STITCH](http://stitch-db.org/) databases. The exercises will teach you how to:\n",
        "\n",
        "- retrieve networks for proteins or small-molecule compounds of interest\n",
        "- retrieve networks for a disease or arbitrary topics in PubMed\n",
        "- layout and visually style the resulting networks\n",
        "- import external data and map them onto a network\n",
        "- perform enrichment analyses and visualize the results\n",
        "- merge and compare networks\n",
        "- select proteins by attributes\n",
        "- identify functional modules through network clustering\n",
        "\n",
        "The original version of this tutorial was developed by Lars Juhl Jensen of the Novo Nordisk Center for Protein Research at the University of Copenhagen. We thank professor Jensen for his gracious willingness to allow us to repackage the content for delivery as a Cytoscape tutorial.\n",
        "\n",
        "<hr />\n",
        "\n",
        "# Installation"
      ]
    },
    {
      "cell_type": "code",
      "execution_count": null,
      "metadata": {
        "eval": false,
        "id": "ele8jeGmKoO6"
      },
      "outputs": [],
      "source": [
        "if (!requireNamespace(\"BiocManager\", quietly = TRUE))\n",
        "  install.packages(\"BiocManager\")\n",
        "\n",
        "if(!\"RCy3\" %in% installed.packages())\n",
        "  BiocManager::install(\"RCy3\")\n",
        "library(RCy3)\n",
        "\n",
        "if(!\"RColorBrewer\" %in% installed.packages()){\n",
        "    install.packages(\"RColorBrewer\")\n",
        "}\n",
        "library(RColorBrewer)"
      ]
    },
    {
      "cell_type": "markdown",
      "metadata": {
        "id": "YHaUl3c0KoO8"
      },
      "source": [
        "If you are using a remote notebook environment such as Google Colab, please execute the cell below. (If you're running on your local notebook, you don't need to do that.)"
      ]
    },
    {
      "cell_type": "code",
      "execution_count": null,
      "metadata": {
        "id": "9M6gq1rcKoO8"
      },
      "outputs": [],
      "source": [
        "# Connect to local Cytoscape\n",
        "browserClientJs <- getBrowserClientJs()\n",
        "IRdisplay::display_javascript(browserClientJs)"
      ]
    },
    {
      "cell_type": "markdown",
      "metadata": {
        "lines_to_next_cell": 0,
        "id": "2GOD0grSKoO8"
      },
      "source": [
        "# Getting started\n",
        "First, launch Cytoscape and keep it running whenever using RCy3. Confirm that you have everything installed and running:"
      ]
    },
    {
      "cell_type": "code",
      "execution_count": null,
      "metadata": {
        "id": "V2KqPtmjKoO9"
      },
      "outputs": [],
      "source": [
        "cytoscapePing()\n",
        "cytoscapeVersionInfo()"
      ]
    },
    {
      "cell_type": "markdown",
      "metadata": {
        "id": "bmjd5nGvKoO9"
      },
      "source": [
        "The exercises require you to have certain Cytoscape apps and R packages installed."
      ]
    },
    {
      "cell_type": "code",
      "execution_count": null,
      "metadata": {
        "id": "hleafAjyKoO9"
      },
      "outputs": [],
      "source": [
        "installApp('stringApp')\n",
        "installApp('enhancedGraphics')\n",
        "installApp('clusterMaker2')"
      ]
    },
    {
      "cell_type": "markdown",
      "metadata": {
        "id": "uWI0nrZ5KoO-"
      },
      "source": [
        "If you are not already familiar with the STRING database, we highly recommend that you go through the short [STRING exercises](https://jensenlab.org/training/string/) provided by the [Jensen lab](https://jensenlab.org/) to learn about the underlying data before working with them in these exercises.\n",
        "\n",
        "# Exercise 1\n",
        "\n",
        "In this exercise, we will perform some simple queries to retrieve molecular networks based on a protein, a small molecule compound, a disease, and a topic in PubMed.\n",
        "\n",
        "## Protein queries\n",
        "\n",
        "You can query **STRING** as protein data source (in the following query the **protein name** is **SORCS2**).\n",
        "You can select the appropriate organism by setting the **species** option (e.g. **Homo sapiens**).\n",
        "(And the following chunk also imports the result into Cytoscape.)"
      ]
    },
    {
      "cell_type": "code",
      "execution_count": null,
      "metadata": {
        "id": "hCw6IBB4KoO-"
      },
      "outputs": [],
      "source": [
        "string.cmd = 'string protein query query=\"SORCS2\" species=\"Homo sapiens\"'\n",
        "commandsRun(string.cmd)"
      ]
    },
    {
      "cell_type": "markdown",
      "metadata": {
        "id": "gKNXTnZKKoO-"
      },
      "source": [
        "The limit (Maximum number of interactors) option determines how many interaction partners of your protein(s) of interest will be added to the network.\n",
        "By default, if you enter only one protein name, the resulting network will contain 10 additional interactors. If you enter more than one protein name, the network will contain only the interactions among these proteins, unless you explicitly ask for additional proteins."
      ]
    },
    {
      "cell_type": "code",
      "execution_count": null,
      "metadata": {
        "id": "6wgvAMmbKoO-"
      },
      "outputs": [],
      "source": [
        "string.cmd = 'string protein query query=\"SORCS2\" species=\"Homo sapiens\" limit=100'\n",
        "commandsRun(string.cmd)"
      ]
    },
    {
      "cell_type": "markdown",
      "metadata": {
        "id": "Q-W5923CKoO_"
      },
      "source": [
        "<center>\n",
        "![](https://cytoscape.github.io/cytoscape-automation/for-scripters/R/notebooks/data/img/stringApp_SORCS2.png){width=60%}\n",
        "</center>\n",
        "\n",
        "How many nodes are in the resulting network?\n",
        "How does this compare to the maximum number of interactors you specified?\n",
        "What types of information does the **Node Table** provide?\n",
        "\n",
        "## Compound queries\n",
        "\n",
        "You can query **STITCH** as protein/compound data source (in the following query the **compound name** is **imatinib**).\n",
        "You can select the organism and number of additional interactors just like for the protein query above."
      ]
    },
    {
      "cell_type": "code",
      "execution_count": null,
      "metadata": {
        "id": "h1Tu-G9oKoO_"
      },
      "outputs": [],
      "source": [
        "string.cmd = 'string compound query query=\"imatinib\" species=\"Homo sapiens\"'\n",
        "commandsRun(string.cmd)"
      ]
    },
    {
      "cell_type": "markdown",
      "metadata": {
        "id": "adNxvEXmKoO_"
      },
      "source": [
        "<center>\n",
        "![](https://cytoscape.github.io/cytoscape-automation/for-scripters/R/notebooks/data/img/stringApp_imatinib.png){width=60%}\n",
        "</center>\n",
        "\n",
        "How is this network different from the protein-only network with respect to node types and the information provided in the Node Table?\n",
        "\n",
        "## Disease queries\n",
        "\n",
        "You can query **STRING** as disease data source (in the following query the **disease term** is **Alzheimer**).\n",
        "The stringApp will retrieve a STRING network for the top-N proteins (by default 100) associated with the disease."
      ]
    },
    {
      "cell_type": "code",
      "execution_count": null,
      "metadata": {
        "id": "d7GREPNCKoO_"
      },
      "outputs": [],
      "source": [
        "string.cmd = 'string disease query disease=\"Alzheimer\"'\n",
        "commandsRun(string.cmd)"
      ]
    },
    {
      "cell_type": "markdown",
      "metadata": {
        "id": "EnedjV-gKoO_"
      },
      "source": [
        "<center>\n",
        "![](https://cytoscape.github.io/cytoscape-automation/for-scripters/R/notebooks/data/img/stringApp_alzheimer.png){width=60%}\n",
        "</center>\n",
        "\n",
        "Which additional attribute column do you get in the Node Table for a disease query compared to a protein query? (Hint: check the last column.)\n",
        "\n",
        "## PubMed queries\n",
        "\n",
        "You can query **STRING** as **PubMed** data source (in the following query the query representing a topic of interest is **jet-lag**).\n",
        "You can use any query that would work on the PubMed website, but it should obviously a topic with related genes or proteins. The stringApp will query PubMed for the abstracts, find the top-N proteins (by default 100) associated with these abstracts, and retrieve a STRING network for them."
      ]
    },
    {
      "cell_type": "code",
      "execution_count": null,
      "metadata": {
        "lines_to_next_cell": 0,
        "id": "x32zo968KoO_"
      },
      "outputs": [],
      "source": [
        "string.cmd = 'string pubmed query pubmed=\"jet-lag\"'\n",
        "commandsRun(string.cmd)"
      ]
    },
    {
      "cell_type": "markdown",
      "metadata": {
        "lines_to_next_cell": 0,
        "id": "mM0g1cXDKoPA"
      },
      "source": [
        "<center>\n",
        "![](https://cytoscape.github.io/cytoscape-automation/for-scripters/R/notebooks/data/img/stringApp_jetlag.png){width=60%}\n",
        "</center>\n",
        "\n",
        "Which attribute column do you get in the Node Table for a PubMed query compared to a disease query? (Hint: check the last columns.)\n",
        "\n",
        "# Exercise 2\n",
        "In this exercise, we are going to use the stringApp to query the DISEASES database for proteins associated with ovarian cancer, retrieve a STRING network for them, and explore the resulting network.\n",
        "\n",
        "Close the current session in Cytoscape:"
      ]
    },
    {
      "cell_type": "code",
      "execution_count": null,
      "metadata": {
        "id": "sPpU2rR_KoPA"
      },
      "outputs": [],
      "source": [
        "closeSession(save.before.closing=FALSE)"
      ]
    },
    {
      "cell_type": "markdown",
      "metadata": {
        "id": "74W0Nvf_KoPA"
      },
      "source": [
        "## Retrieve disease network\n",
        "First, we will run a disease query for *ovarian cancer*:"
      ]
    },
    {
      "cell_type": "code",
      "execution_count": null,
      "metadata": {
        "id": "xackrdF1KoPA"
      },
      "outputs": [],
      "source": [
        "string.cmd = 'string disease query disease=\"ovarian cancer\" limit=250'\n",
        "commandsRun(string.cmd)"
      ]
    },
    {
      "cell_type": "markdown",
      "metadata": {
        "id": "wDnTxWC8KoPA"
      },
      "source": [
        "The retrieved network contains a lot of additional information associated with the nodes and edges, such as the protein sequence, tissue expression data, subcellular localization, disease score (Node Table) as well as the confidence scores for the different interaction evidences (Edge Table). In the next few steps, we will explore these data.\n",
        "\n",
        "Create a dataframe containing the *disease score* and sort it descending by values to see the highest disease scores:"
      ]
    },
    {
      "cell_type": "code",
      "execution_count": null,
      "metadata": {
        "id": "x_Fv-Zl4KoPA"
      },
      "outputs": [],
      "source": [
        "disease.score <- getTableColumns('node', \"stringdb::disease score\")\n",
        "disease.score.sorted <- disease.score[order(-disease.score$`stringdb::disease score`),,drop=FALSE]\n",
        "head(disease.score.sorted)"
      ]
    },
    {
      "cell_type": "markdown",
      "metadata": {
        "id": "k2hCTpU_KoPB"
      },
      "source": [
        "You can highlight the top nodes by selecting the corresponding rows in the table. Here we are selecting the top few nodes based on disease score:"
      ]
    },
    {
      "cell_type": "code",
      "execution_count": null,
      "metadata": {
        "id": "2vM4qJ36KoPB"
      },
      "outputs": [],
      "source": [
        "selectNodes(rownames(head(disease.score.sorted)))"
      ]
    },
    {
      "cell_type": "markdown",
      "metadata": {
        "lines_to_next_cell": 0,
        "id": "0NhsIA31KoPB"
      },
      "source": [
        "## Continuous color mapping\n",
        "The stringApp automatically retrieves information about which compartments the proteins are located from the COMPARTMENTS database. Cytoscape allows you to map attributes of the nodes and edges to visual properties such as node color and edge width. Here, we will map the subcellular localization data for nucleus to the node color.\n",
        "\n",
        "First, let's remove the String style:"
      ]
    },
    {
      "cell_type": "code",
      "execution_count": null,
      "metadata": {
        "id": "bEWPB8ROKoPB"
      },
      "outputs": [],
      "source": [
        "deleteStyleMapping(style.name = 'STRING style v1.5 - ovarian cancer', visual.prop = 'NODE_CUSTOMGRAPHICS_1')"
      ]
    },
    {
      "cell_type": "markdown",
      "metadata": {
        "lines_to_next_cell": 0,
        "id": "foBK72UxKoPB"
      },
      "source": [
        "For each cellular compartment, a score is defined for each node. Next, let's define a dataframe corresponding to the score for nucleus:"
      ]
    },
    {
      "cell_type": "code",
      "execution_count": null,
      "metadata": {
        "id": "jHF8Cxw6KoPB"
      },
      "outputs": [],
      "source": [
        "nucleus.nodes <- getTableColumns('node', 'compartment::nucleus')"
      ]
    },
    {
      "cell_type": "markdown",
      "metadata": {
        "lines_to_next_cell": 0,
        "id": "XZ8NTpDAKoPB"
      },
      "source": [
        "Define the bounds of the values in the *compartment::nucleus* column:"
      ]
    },
    {
      "cell_type": "code",
      "execution_count": null,
      "metadata": {
        "id": "OT3CK4HfKoPB"
      },
      "outputs": [],
      "source": [
        "nucleus.min <- min(nucleus.nodes, na.rm = T)\n",
        "nucleus.max <- max(nucleus.nodes, na.rm = T)\n",
        "nucleus.center <- nucleus.min + (nucleus.max - nucleus.min)/2"
      ]
    },
    {
      "cell_type": "code",
      "execution_count": null,
      "metadata": {
        "id": "cSWnaegLKoPC"
      },
      "outputs": [],
      "source": [
        "data.values = c(nucleus.min, nucleus.center, nucleus.max)\n",
        "node.colors <- c(brewer.pal(length(data.values), \"YlOrRd\"))\n",
        "setNodeColorMapping('compartment::nucleus', data.values, node.colors, style.name = \"STRING style v1.5 - ovarian cancer\")"
      ]
    },
    {
      "cell_type": "markdown",
      "metadata": {
        "id": "h5vjMlr8KoPC"
      },
      "source": [
        "Because many proteins are located in the nucleus, we will identify the proteins with highest confidence of 5 and create a subnetwork."
      ]
    },
    {
      "cell_type": "code",
      "execution_count": null,
      "metadata": {
        "id": "1YklWbPKKoPC"
      },
      "outputs": [],
      "source": [
        "top.nodes <- row.names(nucleus.nodes)[which(nucleus.nodes[,1]>=5)]\n",
        "createSubnetwork(top.nodes,subnetwork.name ='nucleus score 5')"
      ]
    },
    {
      "cell_type": "markdown",
      "metadata": {
        "id": "yVhbC9jGKoPC"
      },
      "source": [
        "<center>\n",
        "![](https://cytoscape.github.io/cytoscape-automation/for-scripters/R/notebooks/data/img/stringApp_nucleus-sub.png){width=60%}\n",
        "</center>\n",
        "\n",
        "# Exercise 3\n",
        "In this exercise, we will work with a list of 541 proteins associated with epithelial ovarian cancer (EOC) as identified by phosphoproteomics in the study by [Francavilla et al](https://doi.org/10.1016/j.celrep.2017.03.015). An adapted table with the data from this study is available [here](https://raw.githubusercontent.com/cytoscape/cytoscape-automation/master/for-scripters/R/notebooks/stringApp/Francavilla2017CellRep.tsv).\n",
        "\n",
        "## Protein network retrieval\n",
        "\n",
        "Here, we run a query with the first column (UniProt IDs) in the table:"
      ]
    },
    {
      "cell_type": "code",
      "execution_count": null,
      "metadata": {
        "id": "rEdCTBdfKoPC"
      },
      "outputs": [],
      "source": [
        "eoc.df <- read.table(\"https://raw.githubusercontent.com/cytoscape/cytoscape-automation/master/for-scripters/R/notebooks/stringApp/Francavilla2017CellRep.tsv\", header = TRUE, sep = \"\\t\", quote=\"\\\"\", stringsAsFactors = FALSE, check.names = FALSE)"
      ]
    },
    {
      "cell_type": "code",
      "execution_count": null,
      "metadata": {
        "id": "pjnVEyFLKoPC"
      },
      "outputs": [],
      "source": [
        "string.cmd = paste('string protein query query=\"', paste(eoc.df$UniProt, collapse = '\\n'), '\"', sep = \"\")\n",
        "commandsRun(string.cmd)"
      ]
    },
    {
      "cell_type": "markdown",
      "metadata": {
        "lines_to_next_cell": 0,
        "id": "RxBI5Fm3KoPH"
      },
      "source": [
        "<center>\n",
        "![](https://cytoscape.github.io/cytoscape-automation/for-scripters/R/notebooks/data/img/stringApp_eoc.png){width=60%}\n",
        "</center>\n",
        "\n",
        "How many nodes and edges are there in the resulting network? Do the proteins all form a connected network? Why?\n",
        "\n",
        "Since we will need to refer to this network later, let's give it a more specific name:"
      ]
    },
    {
      "cell_type": "code",
      "execution_count": null,
      "metadata": {
        "id": "NN1xIRmFKoPH"
      },
      "outputs": [],
      "source": [
        "renameNetwork(\"EOC - data\")"
      ]
    },
    {
      "cell_type": "markdown",
      "metadata": {
        "id": "kyYNz5KMKoPH"
      },
      "source": [
        "Cytoscape provides several network layout options.\n",
        "For example, you can try the **Degree Sorted Circle Layout**"
      ]
    },
    {
      "cell_type": "code",
      "execution_count": null,
      "metadata": {
        "id": "c0AZb_raKoPH"
      },
      "outputs": [],
      "source": [
        "layoutNetwork('degree-circle')"
      ]
    },
    {
      "cell_type": "markdown",
      "metadata": {
        "id": "KYsXkk8tKoPH"
      },
      "source": [
        "and the **Prefuse Force Directed Layout** with **score** as edge weight"
      ]
    },
    {
      "cell_type": "code",
      "execution_count": null,
      "metadata": {
        "id": "6sUssojaKoPH"
      },
      "outputs": [],
      "source": [
        "layoutNetwork('force-directed edgeAttribute=\"score\"')"
      ]
    },
    {
      "cell_type": "markdown",
      "metadata": {
        "id": "QyeCU51RKoPH"
      },
      "source": [
        "*Can you find a layout that allows you to easily recognize patterns in the network? Try the Edge-weighted Spring Embedded (Kamada-Kawai) Layout with the attribute ‘score’, which is the combined STRING interaction score.*"
      ]
    },
    {
      "cell_type": "code",
      "execution_count": null,
      "metadata": {
        "id": "TMLkYCONKoPI"
      },
      "outputs": [],
      "source": [
        "layoutNetwork('kamada-kawai edgeAttribute=\"score\"')"
      ]
    },
    {
      "cell_type": "markdown",
      "metadata": {
        "id": "JBEKvpmVKoPI"
      },
      "source": [
        "<center>\n",
        "![](https://cytoscape.github.io/cytoscape-automation/for-scripters/R/notebooks/data/img/stringApp_eoc-kamada-kawai.png){width=60%}\n",
        "</center>\n",
        "\n",
        "**Note that [yFiles Layout Algorithms App](http://apps.cytoscape.org/apps/yfileslayoutalgorithms) does not support any automation.**\n",
        "\n",
        "## Discrete color mapping\n",
        "\n",
        "Cytoscape allows you to map attributes of the nodes and edges to visual properties such as node color and edge width.\n",
        "Here, we will map the target family data to the node color.\n",
        "\n",
        "Lets change the node **Fill Color** with **target family** column in the node table. We can also remove the String styling for nodes to better see our data:"
      ]
    },
    {
      "cell_type": "code",
      "execution_count": null,
      "metadata": {
        "id": "Vc7YPUHsKoPI"
      },
      "outputs": [],
      "source": [
        "deleteStyleMapping(style.name = 'STRING style v1.5', visual.prop = 'NODE_CUSTOMGRAPHICS_1')\n",
        "column <- \"target::family\"\n",
        "values <- c('Kinase', 'GPCR')\n",
        "colors <- c('#FF0000', '#0000FF')\n",
        "setNodeColorDefault('#CCCCCC', style.name = \"STRING style v1.5\")\n",
        "setNodeColorMapping(column, values, colors, mapping.type = \"d\", style.name = \"STRING style v1.5\")"
      ]
    },
    {
      "cell_type": "markdown",
      "metadata": {
        "id": "ZEXqFLrmKoPI"
      },
      "source": [
        "<center>\n",
        "![](https://cytoscape.github.io/cytoscape-automation/for-scripters/R/notebooks/data/img/stringApp_style.png){width=60%}\n",
        "</center>\n",
        "*How many of the proteins in the network are kinases?*\n",
        "\n",
        "Note that the retrieved network contains a lot of additional information associated with the nodes and edges, such as the protein sequence, tissue expression data (Node Table) as well as the confidence scores for the different interaction evidences (Edge Table). In the following steps, we will explore these data using Cytoscape.\n",
        "\n",
        "## Data import\n",
        "\n",
        "Network nodes and edges can have additional information associated with them that we can load into Cytoscape and use for visualization.\n",
        "We already imported the data from an Excel spreadsheet derived from data provided in the paper mentioned above. Here we check it again with:"
      ]
    },
    {
      "cell_type": "code",
      "execution_count": null,
      "metadata": {
        "id": "H8gptqCbKoPI"
      },
      "outputs": [],
      "source": [
        "head(eoc.df)"
      ]
    },
    {
      "cell_type": "markdown",
      "metadata": {
        "id": "aeBd4sE_KoPJ"
      },
      "source": [
        "Now we need to map unique identifiers between the entries in the data and the nodes in the network. The key point of this is to identify which nodes in the network are equivalent to which entries in the table. This enables mapping of data values into visual properties like Fill Color and Shape. This kind of mapping is typically done by comparing the unique Identifier attribute value for each node (Key Column for Network) with the unique Identifier value for each data value (key symbol).\n",
        "\n",
        "The **Key Column** for Network allows you to set the node attribute column that is to be used as key to map to.\n",
        "In this case it is **query term** because this attribute contains the UniProt accession numbers you entered when retrieving the network.\n",
        "\n",
        "To import the node attributes file into Cytoscape, run"
      ]
    },
    {
      "cell_type": "code",
      "execution_count": null,
      "metadata": {
        "id": "o5ZdyagnKoPJ"
      },
      "outputs": [],
      "source": [
        "loadTableData(as.data.frame(eoc.df), data.key.column = \"UniProt\", table = \"node\", table.key.column = \"query term\")"
      ]
    },
    {
      "cell_type": "markdown",
      "metadata": {
        "id": "GoOWqdF4KoPJ"
      },
      "source": [
        "If there is a match between the value of a Key in the dataset and the value the Key Column for Network field in the network, all attribute–value pairs associated with the element in the dataset are assigned to the matching node in the network.\n",
        "You will find the imported columns at the end of the Node Table.\n",
        "\n",
        "## Continuous color mapping\n",
        "\n",
        "Now, we want to color the nodes according to the quantitative phosphorylation data (log ratio) between disease and healthy tissues for the most significant site for each protein:"
      ]
    },
    {
      "cell_type": "code",
      "execution_count": null,
      "metadata": {
        "id": "PW0L5rJiKoPJ"
      },
      "outputs": [],
      "source": [
        "logratio.score.table <- getTableColumns('node', \"EOC vs FTE&OSE\")"
      ]
    },
    {
      "cell_type": "markdown",
      "metadata": {
        "id": "x1Dzd0RwKoPJ"
      },
      "source": [
        "Since this is a numeric value, we will use the Continuous Mapping as the Mapping Type, and set a color gradient for how abundant each protein is."
      ]
    },
    {
      "cell_type": "code",
      "execution_count": null,
      "metadata": {
        "id": "1R9K-_DVKoPJ"
      },
      "outputs": [],
      "source": [
        "logratio.min <- min(logratio.score.table, na.rm = T)\n",
        "logratio.max <- max(logratio.score.table, na.rm = T)"
      ]
    },
    {
      "cell_type": "code",
      "execution_count": null,
      "metadata": {
        "id": "ixvZQVWKKoPK"
      },
      "outputs": [],
      "source": [
        "logratio.data.values = c(logratio.min, 0, logratio.max)\n",
        "logratio.node.colors <- c(brewer.pal(length(logratio.data.values), \"RdBu\"))"
      ]
    },
    {
      "cell_type": "code",
      "execution_count": null,
      "metadata": {
        "lines_to_next_cell": 0,
        "id": "51tAFm0DKoPK"
      },
      "outputs": [],
      "source": [
        "setNodeColorMapping('EOC vs FTE&OSE', logratio.data.values, logratio.node.colors, style.name = \"STRING style v1.5\")"
      ]
    },
    {
      "cell_type": "markdown",
      "metadata": {
        "id": "7v0wlM_TKoPK"
      },
      "source": [
        "The color gradient blue-white-red gives a visualization of the negative-to-positive abundance ratio.\n",
        "\n",
        "<center>\n",
        "![](https://cytoscape.github.io/cytoscape-automation/for-scripters/R/notebooks/data/img/stringApp_eoc-final.png){width=60%}\n",
        "</center>\n",
        "\n",
        "*Are the up-regulated nodes grouped together?*\n",
        "\n",
        "## Functional enrichment\n",
        "\n",
        "Next, we will retrieve functional enrichment for the proteins in our network.\n",
        "\n",
        "The STRING app has built-in enrichment analysis functionality, which includes enrichment for GO Process, GO Component, GO Function, InterPro, KEGG Pathways, and PFAM.\n",
        "\n",
        "First, we will run the enrichment on the whole network, against the genome:"
      ]
    },
    {
      "cell_type": "code",
      "execution_count": null,
      "metadata": {
        "id": "bj31oaFDKoPK"
      },
      "outputs": [],
      "source": [
        "string.cmd = 'string retrieve enrichment allNetSpecies=\"Homo sapiens\", background=genome  selectedNodesOnly=\"false\"'\n",
        "commandsRun(string.cmd)\n",
        "string.cmd = 'string show enrichment'\n",
        "commandsRun(string.cmd)"
      ]
    },
    {
      "cell_type": "markdown",
      "metadata": {
        "id": "xdhAxh2ZKoPK"
      },
      "source": [
        "A new STRING Enrichment tab will appear in the Table Panel on the bottom.\n",
        "It contains a table of enriched terms and corresponding information for each enrichment category.\n",
        "\n",
        "*Which are the three most statistically significant terms?*\n",
        "\n",
        "To explore only specific types of terms, e.g. GO terms, and to remove redundant terms from the table, we are going to filter the table to only show GO Process:"
      ]
    },
    {
      "cell_type": "code",
      "execution_count": null,
      "metadata": {
        "id": "6DK2WLbkKoPK"
      },
      "outputs": [],
      "source": [
        "string.cmd = 'string filter enrichment categories=\"GO Process\", overlapCutoff = \"0.5\", removeOverlapping = \"true\"'\n",
        "commandsRun(string.cmd)"
      ]
    },
    {
      "cell_type": "markdown",
      "metadata": {
        "id": "q12JX_qTKoPK"
      },
      "source": [
        "In this way, you will see only the statistically significant GO terms that do not represent largely the same set of proteins within the network.\n",
        "\n",
        "*Do the functional terms assigned to a protein correlate with whether it is up- or down-regulated?*\n",
        "\n",
        "Next, we will visualize the top-3 enriched terms in the network by using split charts."
      ]
    },
    {
      "cell_type": "code",
      "execution_count": null,
      "metadata": {
        "id": "ATKjy8ssKoPK"
      },
      "outputs": [],
      "source": [
        "string.cmd = 'string show charts'\n",
        "commandsRun(string.cmd)"
      ]
    },
    {
      "cell_type": "markdown",
      "metadata": {
        "id": "2UjMnPX8KoPL"
      },
      "source": [
        "<center>\n",
        "![](https://cytoscape.github.io/cytoscape-automation/for-scripters/R/notebooks/data/img/stringApp_eoc-enrich.png){width=60%}\n",
        "</center>\n",
        "\n",
        "*Do these terms give good coverage of the proteins in network?*\n",
        "\n",
        "Finally, you can save the list of enriched terms and associated p-values as a text file locally. Note that this will export a cvs file to your current working directory."
      ]
    },
    {
      "cell_type": "code",
      "execution_count": null,
      "metadata": {
        "id": "DVJ_vH2KKoPL"
      },
      "outputs": [],
      "source": [
        "commandsPOST(paste0('table export table=\"STRING Enrichment: All\" options=\"CSV\" outputFile=\"',paste(getwd(),\"string-enrichment-all.csv\",sep = \"/\"),'\"'))"
      ]
    },
    {
      "cell_type": "markdown",
      "metadata": {
        "id": "EZHOGtC6KoPL"
      },
      "source": [
        "## Network overlap\n",
        "\n",
        "Cytoscape provides functionality to merge two or more networks, building either their union, intersection or difference. We will now merge the \"ovarian cancner\" network we have from the DISEASES query with the one we have from the data, so that we can identify the overlap between them."
      ]
    },
    {
      "cell_type": "code",
      "execution_count": null,
      "metadata": {
        "id": "bywRT4ZgKoPL"
      },
      "outputs": [],
      "source": [
        "mergeNetworks(c(\"String Network\", \"String Network - ovarian cancer\"), \"Merged Network\", operation=\"intersection\")"
      ]
    },
    {
      "cell_type": "markdown",
      "metadata": {
        "lines_to_next_cell": 0,
        "id": "1G7cSRuwKoPL"
      },
      "source": [
        "How many nodes are in the intersection?\n",
        "\n",
        "Now we will make the union of the intersection network, which contains the disease scores, and the experimental network. Make sure that the new merged network has the same number of nodes and edges as ‘String Network’, and that some nodes have a disease score."
      ]
    },
    {
      "cell_type": "code",
      "execution_count": null,
      "metadata": {
        "lines_to_next_cell": 0,
        "id": "ZZEOT-hPKoPL"
      },
      "outputs": [],
      "source": [
        "mergeNetworks(c(\"Merged Network\", \"String Network\"), \"Union\")"
      ]
    },
    {
      "cell_type": "markdown",
      "metadata": {
        "id": "UMcw880yKoPL"
      },
      "source": [
        "Now, we can change the visualization of the merged network to be able to identify high disease score proteins. Specifically, we will change the size and color of the nodes to reflect their disease score."
      ]
    },
    {
      "cell_type": "code",
      "execution_count": null,
      "metadata": {
        "id": "PYI02_LAKoPL"
      },
      "outputs": [],
      "source": [
        "\n",
        "disease.score.table <- getTableColumns('node', \"stringdb::disease score\")\n",
        "\n",
        "min <- min(disease.score.table, na.rm = T)\n",
        "max <- max(disease.score.table, na.rm = T)\n",
        "mid <- min + (max - min)/2\n",
        "\n",
        "node.data.values = c(min, max)\n",
        "node.sizes = c(35,50)\n",
        "setNodeSizeMapping(\"stringdb::disease score\", node.data.values, node.sizes, default.size=\"30\", style.name = \"default\")\n",
        "\n",
        "color.data.values = c(min, mid, max)\n",
        "node.colors <- c(brewer.pal(length(color.data.values), \"Blues\"))\n",
        "setNodeColorMapping(\"stringdb::disease score\", color.data.values, node.colors, style.name = \"default\")"
      ]
    },
    {
      "cell_type": "markdown",
      "metadata": {
        "id": "MyRLdn_CKoPM"
      },
      "source": [
        "Let's focus on only the connected nodes:"
      ]
    },
    {
      "cell_type": "code",
      "execution_count": null,
      "metadata": {
        "id": "1yNRYo7_KoPM"
      },
      "outputs": [],
      "source": [
        "createSubnetwork(edges='all', subnetwork.name='Union sub')"
      ]
    },
    {
      "cell_type": "markdown",
      "metadata": {
        "id": "Hu_mCHl4KoPM"
      },
      "source": [
        "<center>\n",
        "![](https://cytoscape.github.io/cytoscape-automation/for-scripters/R/notebooks/data/img/stringApp_union.png){width=80%}\n",
        "</center>\n",
        "\n",
        "<!-- # Exercise 4 -->\n",
        "<!-- In this exercise, we will retrieve virus-host networks for two closely related viruses, merge them into a single network, and then will retrieve the functional enrichment for the host proteins in this network. -->"
      ]
    }
  ],
  "metadata": {
    "jupytext": {
      "cell_metadata_filter": "eval,tags,-all",
      "main_language": "R",
      "notebook_metadata_filter": "-all"
    },
    "kernelspec": {
      "display_name": "R",
      "name": "ir"
    },
    "language_info": {
      "name": "R"
    },
    "colab": {
      "provenance": [],
      "include_colab_link": true
    }
  },
  "nbformat": 4,
  "nbformat_minor": 0
}