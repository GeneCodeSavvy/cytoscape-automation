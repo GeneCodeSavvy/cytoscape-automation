{
  "cells": [
    {
      "cell_type": "markdown",
      "metadata": {
        "id": "view-in-github",
        "colab_type": "text"
      },
      "source": [
        "<a href=\"https://colab.research.google.com/github/cytoscape/cytoscape-automation/blob/master/for-scripters/R/colab/use-case-2.ipynb\" target=\"_parent\"><img src=\"https://colab.research.google.com/assets/colab-badge.svg\" alt=\"Open In Colab\"/></a>"
      ]
    },
    {
      "cell_type": "markdown",
      "metadata": {
        "id": "uHqj_hQ0MjAF"
      },
      "source": [
        "# scNetViz: Your Own scRNA-Seq Dataset\n",
        "## Krishna Choudhary, Alex Pico\n"
      ]
    },
    {
      "cell_type": "markdown",
      "metadata": {
        "lines_to_next_cell": 0,
        "id": "a-z8lmjlMjAI"
      },
      "source": [
        "*The R markdown is available. [download the Rmd from GitHub](https://raw.githubusercontent.com/cytoscape/cytoscape-automation/master/for-scripters/R/notebooks/use-case-2.Rmd).*\n",
        "\n",
        "<hr />\n",
        "\n",
        "In this example, we will import normalized scRNA-seq data and cluster assignments from local files, generate cell plots, perform differential expression analysis based on provided categories, visualize as a combined heatmap and generate networks from the top genes from each category.\n",
        "\n",
        "# Installation"
      ]
    },
    {
      "cell_type": "code",
      "execution_count": null,
      "metadata": {
        "id": "hi_IIx0dMjAI"
      },
      "outputs": [],
      "source": [
        "if(!\"RCy3\" %in% installed.packages()){\n",
        "    install.packages(\"BiocManager\")\n",
        "    BiocManager::install(\"RCy3\")\n",
        "}\n",
        "library(RCy3)"
      ]
    },
    {
      "cell_type": "markdown",
      "metadata": {
        "id": "n274qytUMjAK"
      },
      "source": [
        "If you are using a remote notebook environment such as Google Colab, please execute the cell below. (If you're running on your local notebook, you don't need to do that.)"
      ]
    },
    {
      "cell_type": "code",
      "execution_count": null,
      "metadata": {
        "id": "p2vMredPMjAK"
      },
      "outputs": [],
      "source": [
        "# Connect to local Cytoscape\n",
        "browserClientJs <- getBrowserClientJs()\n",
        "IRdisplay::display_javascript(browserClientJs)"
      ]
    },
    {
      "cell_type": "markdown",
      "metadata": {
        "id": "hGa6e3uFMjAK"
      },
      "source": [
        "# Required software\n",
        "RCy3 works by connecting with Cytoscape. You will need to install and launch Cytoscape:\n",
        "\n",
        "* Download the latest Cytoscape from http://www.cytoscape.org/download.php\n",
        "* Complete installation wizard\n",
        "* Launch Cytoscape\n"
      ]
    },
    {
      "cell_type": "code",
      "execution_count": null,
      "metadata": {
        "id": "e2Gl6XegMjAL"
      },
      "outputs": [],
      "source": [
        "cytoscapePing()"
      ]
    },
    {
      "cell_type": "markdown",
      "metadata": {
        "id": "rClFeCkUMjAL"
      },
      "source": [
        "For this vignette, you’ll need the following apps:\n",
        "\n",
        "* the [STRING](https://string-db.org/) app,\n",
        "* the [enhancedGraphics](https://www.cgl.ucsf.edu/cytoscape/utilities3/enhancedcg.shtml) app,\n",
        "* the [cyBrowser](https://www.cgl.ucsf.edu/cytoscape/utilities3/cybrowser.shtml) app, and\n",
        "* the [cyPlot](http://apps.cytoscape.org/apps/cyplot) app."
      ]
    },
    {
      "cell_type": "code",
      "execution_count": null,
      "metadata": {
        "id": "E1Wlh1_1MjAM"
      },
      "outputs": [],
      "source": [
        "#available in Cytoscape 3.7.0 and above\n",
        "installApp('STRINGapp')\n",
        "installApp('enhancedGraphics')\n",
        "installApp('cyBrowser')\n",
        "installApp('cyPlot')\n",
        "installApp('scNetViz')"
      ]
    },
    {
      "cell_type": "markdown",
      "metadata": {
        "id": "DTdpwtomMjAM"
      },
      "source": [
        "# Download test data\n",
        "\n",
        "You may use your own scRNA-seq data for the next steps. scNetViz accepts standard outputs from an scRNA-seq processing software such as CellRanger as inputs. For illustration, the following chunk downloads and unzips a test data ([Accession: E-GEOD-109979](https://www.ebi.ac.uk/gxa/sc/experiments/E-GEOD-109979/downloads)) in the same directory as this R Markdown file."
      ]
    },
    {
      "cell_type": "code",
      "execution_count": null,
      "metadata": {
        "id": "XMUfX-9fMjAM"
      },
      "outputs": [],
      "source": [
        "#Download normalized counts\n",
        "url_1 <- \"https://github.com/cytoscape/cytoscape-tutorials/blob/gh-pages/protocols/data/E-GEOD-109979-normalised-files.zip?raw=true\"\n",
        "fname_1 <- \"E-GEOD-109979-normalised-files.zip\"\n",
        "download.file(url_1, fname_1)\n",
        "unzip(fname_1, overwrite=TRUE, exdir=\"E-GEOD-109979\")\n",
        "\n",
        "#Download category information\n",
        "url_2 <- \"https://raw.githubusercontent.com/cytoscape/cytoscape-tutorials/gh-pages/protocols/data/E-GEOD-109979.clusters.tsv\"\n",
        "fname_2 <- \"E-GEOD-109979.clusters.tsv\"\n",
        "download.file(url_2, fname_2)"
      ]
    },
    {
      "cell_type": "markdown",
      "metadata": {
        "id": "V9SWC5LeMjAM"
      },
      "source": [
        "# Load data from local disk\n",
        "\n",
        "scNetViz expects complete paths for inputs. Load the normalized count matrix in the current Cytoscape session. The directory with normalized counts must have three files only:\n",
        "\n",
        "* a file with the count matrix in Matrix Market file format,\n",
        "* a file with the the column names, and\n",
        "* a file with the the row names."
      ]
    },
    {
      "cell_type": "code",
      "execution_count": null,
      "metadata": {
        "lines_to_next_cell": 2,
        "id": "TSY5qbT-MjAM"
      },
      "outputs": [],
      "source": [
        "completeFilePath <- file.path(getwd(), \"E-GEOD-109979\")\n",
        "\n",
        "commandToLoadFile <- paste0('scnetviz load experiment file file=',\n",
        "                            completeFilePath,\n",
        "                            ' species=Homo sapiens')\n",
        "RCy3::commandsRun(commandToLoadFile)"
      ]
    },
    {
      "cell_type": "markdown",
      "metadata": {
        "id": "ImSmsAKVMjAN"
      },
      "source": [
        "# Load the category data"
      ]
    },
    {
      "cell_type": "code",
      "execution_count": null,
      "metadata": {
        "lines_to_next_cell": 2,
        "id": "KHrr7Qf5MjAN"
      },
      "outputs": [],
      "source": [
        "completeFilePath <- file.path(getwd(),\n",
        "                              \"E-GEOD-109979.clusters.tsv\")\n",
        "\n",
        "commandToAddCategory <- paste0('scnetviz add file category file=',\n",
        "                               completeFilePath)\n",
        "\n",
        "RCy3::commandsRun(commandToAddCategory)"
      ]
    },
    {
      "cell_type": "markdown",
      "metadata": {
        "id": "mc-JzARiMjAN"
      },
      "source": [
        "# Generate a UMAP plot\n",
        "\n",
        "scNetViz identifies the loaded data with the file name that was input, which is `E-GEOD-109979` for our case. Next, generate UMAP plot and display it in the Cytoscape session (this step may take several minutes to complete). Note that the indexing of rows in the loaded category file starts with 0."
      ]
    },
    {
      "cell_type": "code",
      "execution_count": null,
      "metadata": {
        "id": "nsNmyR8BMjAN"
      },
      "outputs": [],
      "source": [
        "RCy3::commandsRun('scnetviz calculate UMAP scale=true accession=E-GEOD-109979')\n",
        "\n",
        "RCy3::commandsRun('scnetviz show cell plot accession=E-GEOD-109979 category=E-GEOD-109979.clusters.tsv categoryRow=0')"
      ]
    },
    {
      "cell_type": "markdown",
      "metadata": {
        "id": "xKvw9ZMQMjAN"
      },
      "source": [
        "# Perform differential expression analysis"
      ]
    },
    {
      "cell_type": "code",
      "execution_count": null,
      "metadata": {
        "id": "wDCzU4oFMjAN"
      },
      "outputs": [],
      "source": [
        "RCy3::commandsRun('scnetviz calculate diffexp accession=E-GEOD-109979 categoryRow=0')"
      ]
    },
    {
      "cell_type": "markdown",
      "metadata": {
        "id": "FOsaRKtLMjAN"
      },
      "source": [
        "# Generate heatmap\n",
        "\n",
        "Generate a heatmap showing the top differentially expressed genes."
      ]
    },
    {
      "cell_type": "code",
      "execution_count": null,
      "metadata": {
        "id": "ZZiraIs9MjAO"
      },
      "outputs": [],
      "source": [
        "RCy3::commandsRun('scnetviz show diff plot type=Heatmap')"
      ]
    },
    {
      "cell_type": "markdown",
      "metadata": {
        "id": "h0muBscvMjAO"
      },
      "source": [
        "# Fetch interaction networks\n",
        "\n",
        "Fetch interaction networks from the [STRING](https://string-db.org/) database."
      ]
    },
    {
      "cell_type": "code",
      "execution_count": null,
      "metadata": {
        "lines_to_next_cell": 0,
        "id": "ik7gbjCxMjAO"
      },
      "outputs": [],
      "source": [
        "RCy3::commandsRun('scnetviz create network accession=E-GEOD-109979')"
      ]
    },
    {
      "cell_type": "markdown",
      "metadata": {
        "id": "pLHAZEANMjAO"
      },
      "source": []
    }
  ],
  "metadata": {
    "jupytext": {
      "cell_metadata_filter": "tags,-all",
      "main_language": "R",
      "notebook_metadata_filter": "-all"
    },
    "kernelspec": {
      "display_name": "R",
      "name": "ir"
    },
    "language_info": {
      "name": "R"
    },
    "colab": {
      "provenance": [],
      "include_colab_link": true
    }
  },
  "nbformat": 4,
  "nbformat_minor": 0
}