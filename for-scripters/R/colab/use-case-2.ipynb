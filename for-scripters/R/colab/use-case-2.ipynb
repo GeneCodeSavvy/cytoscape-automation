{
 "cells": [
  {
   "cell_type": "markdown",
   "metadata": {},
   "source": [
    "# scNetViz: Your Own scRNA-Seq Dataset\n",
    "## Krishna Choudhary, Alex Pico\n",
    "[![Open In Colab](https://colab.research.google.com/assets/colab-badge.svg)](https://colab.research.google.com/github/cytoscape/cytoscape-automation/blob/master/for-scripters/R/colab/use-case-2.ipynb)"
   ]
  },
  {
   "cell_type": "markdown",
   "metadata": {
    "lines_to_next_cell": 0
   },
   "source": [
    "*The R markdown is available. [download the Rmd from GitHub](https://raw.githubusercontent.com/cytoscape/cytoscape-automation/master/for-scripters/R/notebooks/use-case-2.Rmd).*\n",
    "\n",
    "<hr />\n",
    "\n",
    "In this example, we will import normalized scRNA-seq data and cluster assignments from local files, generate cell plots, perform differential expression analysis based on provided categories, visualize as a combined heatmap and generate networks from the top genes from each category.\n",
    "\n",
    "# Installation"
   ]
  },
  {
   "cell_type": "code",
   "execution_count": null,
   "metadata": {},
   "outputs": [],
   "source": [
    "if(!\"RCy3\" %in% installed.packages()){\n",
    "    install.packages(\"BiocManager\")\n",
    "    BiocManager::install(\"RCy3\")\n",
    "}\n",
    "library(RCy3)"
   ]
  },
  {
   "cell_type": "markdown",
   "metadata": {},
   "source": [
    "If you are using a remote notebook environment such as Google Colab, please execute the cell below. (If you're running on your local notebook, you don't need to do that.)"
   ]
  },
  {
   "cell_type": "code",
   "execution_count": null,
   "metadata": {},
   "outputs": [],
   "source": [
    "# Connect to local Cytoscape\n",
    "browserClientJs <- getBrowserClientJs()\n",
    "IRdisplay::display_javascript(browserClientJs)"
   ]
  },
  {
   "cell_type": "markdown",
   "metadata": {},
   "source": [
    "# Required software\n",
    "RCy3 works by connecting with Cytoscape. You will need to install and launch Cytoscape:\n",
    "\n",
    "* Download the latest Cytoscape from http://www.cytoscape.org/download.php\n",
    "* Complete installation wizard\n",
    "* Launch Cytoscape\n"
   ]
  },
  {
   "cell_type": "code",
   "execution_count": null,
   "metadata": {},
   "outputs": [],
   "source": [
    "cytoscapePing()"
   ]
  },
  {
   "cell_type": "markdown",
   "metadata": {},
   "source": [
    "For this vignette, you’ll need the following apps: \n",
    "\n",
    "* the [STRING](https://string-db.org/) app, \n",
    "* the [enhancedGraphics](https://www.cgl.ucsf.edu/cytoscape/utilities3/enhancedcg.shtml) app, \n",
    "* the [cyBrowser](https://www.cgl.ucsf.edu/cytoscape/utilities3/cybrowser.shtml) app, and\n",
    "* the [cyPlot](http://apps.cytoscape.org/apps/cyplot) app."
   ]
  },
  {
   "cell_type": "code",
   "execution_count": null,
   "metadata": {},
   "outputs": [],
   "source": [
    "#available in Cytoscape 3.7.0 and above\n",
    "installApp('STRINGapp')\n",
    "installApp('enhancedGraphics')\n",
    "installApp('cyBrowser')\n",
    "installApp('cyPlot')\n",
    "installApp('scNetViz')"
   ]
  },
  {
   "cell_type": "markdown",
   "metadata": {},
   "source": [
    "# Download test data\n",
    "\n",
    "You may use your own scRNA-seq data for the next steps. scNetViz accepts standard outputs from an scRNA-seq processing software such as CellRanger as inputs. For illustration, the following chunk downloads and unzips a test data ([Accession: E-GEOD-109979](https://www.ebi.ac.uk/gxa/sc/experiments/E-GEOD-109979/downloads)) in the same directory as this R Markdown file."
   ]
  },
  {
   "cell_type": "code",
   "execution_count": null,
   "metadata": {},
   "outputs": [],
   "source": [
    "#Download normalized counts\n",
    "url_1 <- \"https://github.com/cytoscape/cytoscape-tutorials/blob/gh-pages/protocols/data/E-GEOD-109979-normalised-files.zip?raw=true\"\n",
    "fname_1 <- \"E-GEOD-109979-normalised-files.zip\"\n",
    "download.file(url_1, fname_1)\n",
    "unzip(fname_1, overwrite=TRUE, exdir=\"E-GEOD-109979\")\n",
    "\n",
    "#Download category information\n",
    "url_2 <- \"https://raw.githubusercontent.com/cytoscape/cytoscape-tutorials/gh-pages/protocols/data/E-GEOD-109979.clusters.tsv\"\n",
    "fname_2 <- \"E-GEOD-109979.clusters.tsv\"\n",
    "download.file(url_2, fname_2)"
   ]
  },
  {
   "cell_type": "markdown",
   "metadata": {},
   "source": [
    "# Load data from local disk\n",
    "\n",
    "scNetViz expects complete paths for inputs. Load the normalized count matrix in the current Cytoscape session. The directory with normalized counts must have three files only:\n",
    "\n",
    "* a file with the count matrix in Matrix Market file format, \n",
    "* a file with the the column names, and \n",
    "* a file with the the row names."
   ]
  },
  {
   "cell_type": "code",
   "execution_count": null,
   "metadata": {
    "lines_to_next_cell": 2
   },
   "outputs": [],
   "source": [
    "completeFilePath <- file.path(getwd(), \"E-GEOD-109979\")\n",
    "\n",
    "commandToLoadFile <- paste0('scnetviz load experiment file file=',\n",
    "                            completeFilePath,\n",
    "                            ' species=Homo sapiens')\n",
    "RCy3::commandsRun(commandToLoadFile)"
   ]
  },
  {
   "cell_type": "markdown",
   "metadata": {},
   "source": [
    "# Load the category data"
   ]
  },
  {
   "cell_type": "code",
   "execution_count": null,
   "metadata": {
    "lines_to_next_cell": 2
   },
   "outputs": [],
   "source": [
    "completeFilePath <- file.path(getwd(), \n",
    "                              \"E-GEOD-109979.clusters.tsv\")\n",
    "\n",
    "commandToAddCategory <- paste0('scnetviz add file category file=',\n",
    "                               completeFilePath)\n",
    "\n",
    "RCy3::commandsRun(commandToAddCategory)"
   ]
  },
  {
   "cell_type": "markdown",
   "metadata": {},
   "source": [
    "# Generate a UMAP plot\n",
    "\n",
    "scNetViz identifies the loaded data with the file name that was input, which is `E-GEOD-109979` for our case. Next, generate UMAP plot and display it in the Cytoscape session (this step may take several minutes to complete). Note that the indexing of rows in the loaded category file starts with 0."
   ]
  },
  {
   "cell_type": "code",
   "execution_count": null,
   "metadata": {},
   "outputs": [],
   "source": [
    "RCy3::commandsRun('scnetviz calculate UMAP scale=true accession=E-GEOD-109979')\n",
    "\n",
    "RCy3::commandsRun('scnetviz show cell plot accession=E-GEOD-109979 category=E-GEOD-109979.clusters.tsv categoryRow=0')"
   ]
  },
  {
   "cell_type": "markdown",
   "metadata": {},
   "source": [
    "# Perform differential expression analysis"
   ]
  },
  {
   "cell_type": "code",
   "execution_count": null,
   "metadata": {},
   "outputs": [],
   "source": [
    "RCy3::commandsRun('scnetviz calculate diffexp accession=E-GEOD-109979 categoryRow=0')"
   ]
  },
  {
   "cell_type": "markdown",
   "metadata": {},
   "source": [
    "# Generate heatmap\n",
    "\n",
    "Generate a heatmap showing the top differentially expressed genes."
   ]
  },
  {
   "cell_type": "code",
   "execution_count": null,
   "metadata": {},
   "outputs": [],
   "source": [
    "RCy3::commandsRun('scnetviz show diff plot type=Heatmap')"
   ]
  },
  {
   "cell_type": "markdown",
   "metadata": {},
   "source": [
    "# Fetch interaction networks\n",
    "\n",
    "Fetch interaction networks from the [STRING](https://string-db.org/) database."
   ]
  },
  {
   "cell_type": "code",
   "execution_count": null,
   "metadata": {
    "lines_to_next_cell": 0
   },
   "outputs": [],
   "source": [
    "RCy3::commandsRun('scnetviz create network accession=E-GEOD-109979')"
   ]
  },
  {
   "cell_type": "markdown",
   "metadata": {},
   "source": []
  }
 ],
 "metadata": {
  "jupytext": {
   "cell_metadata_filter": "tags,-all",
   "main_language": "R",
   "notebook_metadata_filter": "-all"
  },
  "kernelspec": {
   "display_name": "Python 3",
   "language": "python",
   "name": "python3"
  },
  "language_info": {
   "codemirror_mode": {
    "name": "ipython",
    "version": 3
   },
   "file_extension": ".py",
   "mimetype": "text/x-python",
   "name": "python",
   "nbconvert_exporter": "python",
   "pygments_lexer": "ipython3",
   "version": "3.8.5"
  }
 },
 "nbformat": 4,
 "nbformat_minor": 4
}
