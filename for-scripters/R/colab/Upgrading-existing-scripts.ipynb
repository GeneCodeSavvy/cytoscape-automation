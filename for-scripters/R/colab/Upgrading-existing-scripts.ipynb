{
 "cells": [
  {
   "cell_type": "raw",
   "metadata": {
    "lines_to_next_cell": 0
   },
   "source": [
    "---\n",
    "title: \"Upgrading existing scripts\"\n",
    "author: \"by Alexander Pico, Tanja Muetze, Paul Shannon\"\n",
    "package: RCy3\n",
    "date: \"`r Sys.Date()`\"\n",
    "output: \n",
    "  html_notebook:\n",
    "    toc_float: true\n",
    "    code_folding: \"none\"\n",
    "#  pdf_document:\n",
    "#    toc: true \n",
    "vignette: >\n",
    "  %\\VignetteIndexEntry{08. Upgrading existing scripts ~15 min}\n",
    "  %\\VignetteEngine{knitr::rmarkdown}\n",
    "  %\\VignetteEncoding{UTF-8}\n",
    "---"
   ]
  },
  {
   "cell_type": "code",
   "execution_count": null,
   "metadata": {
    "tags": [
     "remove_input"
    ]
   },
   "outputs": [],
   "source": [
    "knitr::opts_chunk$set(\n",
    "  eval=FALSE\n",
    ")"
   ]
  },
  {
   "cell_type": "markdown",
   "metadata": {
    "lines_to_next_cell": 0
   },
   "source": [
    "*Cytoscape* is a well-known bioinformatics tool for displaying and exploring biological networks.\n",
    "**R** is a powerful programming language and environment for statistical and exploratory data analysis.\n",
    "*RCy3* uses CyREST to communicate between **R** and Cytoscape, allowing any graphs (e.g., iGraph, graphNEL or dataframes) to be viewed, explored and manipulated with the Cytoscape point-and-click visual interface. Thus, via RCy3, these two quite different, quite useful bioinformatics software environments are connected, mutually enhancing each other, providing new possibilities for exploring biological data.\n",
    "\n",
    "# Installation"
   ]
  },
  {
   "cell_type": "code",
   "execution_count": null,
   "metadata": {},
   "outputs": [],
   "source": [
    "if(!\"RCy3\" %in% installed.packages()){\n",
    "    install.packages(\"BiocManager\")\n",
    "    BiocManager::install(\"RCy3\")\n",
    "}\n",
    "library(RCy3)"
   ]
  },
  {
   "cell_type": "markdown",
   "metadata": {
    "lines_to_next_cell": 0
   },
   "source": [
    "# Prerequisites\n",
    "In addition to this package (RCy3), you will need:\n",
    "\n",
    "  * **Cytoscape 3.6.1** or greater, which can be downloaded from http://www.cytoscape.org/download.php. Simply follow the installation instructions on screen.\n",
    "\n",
    "# Big changes for RCy3\n",
    "Welcome to RCy3 v2.0! If you have been using prior versions of RCy3, then this is\n",
    "a big step. The fundamental change is that CytoscapeConnection and CytoscapeWindow classes are no longer used. These were pervasive arguments throughout the package in prior versions, so practically every function signature has changed. However, this change simplifies functions and in 99% of cases the old cw and cc args can simply be deleted.\n",
    "\n",
    "**Some summary stats regarding the changes:**\n",
    "\n",
    "  * 54 new functions (244 total)\n",
    "  * Other than function signatures, \n",
    "    + 44 functions are otherwise unchanged\n",
    "    + 37 functions have been annotated as deprecated\n",
    "    + 69 functions have been renamed to match updated docs\n",
    "      + 38 functions have been annotated as defunct\n",
    "\n",
    "Going forward, this realignment will help us maintain the package in sync with changes to critical upstream resources such as Cytoscape’s CyREST API. It will also greatly simply script writing for users. We hope you'll stay onboard.\n",
    "\n",
    "# Where to start\n",
    "We documented this upgrade in a few different ways to help you update existing \n",
    "scripts you don't want to leave behind and to adopt the new conceptual model \n",
    "for RCy3 going forward.\n",
    "\n",
    "## Upgrading Existing Scripts\n",
    "Here's a wiki page from the main RCy3 repo that we will keep updated with helpful\n",
    "tips. I'd recommend starting there:\n",
    "\n",
    "  * https://github.com/cytoscape/RCy3/wiki/Upgrading-Existing-Scripts \n",
    "\n",
    "## NEWS\n",
    "For a laundry list of changes made to the package in this transition to v2.0, \n",
    "check out the NEWS from that release:\n",
    "\n",
    "  * https://www.bioconductor.org/packages/3.7/bioc/news/RCy3/NEWS\n",
    "\n",
    "# Example upgrades\n",
    "It is always helpful to see examples. Here are a few of the most common chunks\n",
    "of RCy3 usage, provided in *BEFORE* and *AFTER* versions. If you have code\n",
    "similar to these in your pre-v2.0 scripts, then try these suggested swaps.\n",
    "\n",
    "**Note: don't run the *BEFORE* chunks with the latest RCy3 package. These chunks are NOT meant to be run as a sequence, but rather as isolated examples.**\n",
    "\n",
    "## Example: displayGraph\n",
    "\n",
    "*BEFORE*"
   ]
  },
  {
   "cell_type": "code",
   "execution_count": null,
   "metadata": {
    "eval": false
   },
   "outputs": [],
   "source": [
    "g <- new ('graphNEL', edgemode='directed')\n",
    "g <- graph::addNode ('A', g)\n",
    "g <- graph::addNode ('B', g)\n",
    "g <- graph::addNode ('C', g)\n",
    "g <- graph::addEdge ('A', 'B', g)\n",
    "g <- graph::addEdge ('B', 'C', g)\n",
    "cw <- CytoscapeWindow ('vignette', graph=g, overwrite=TRUE)\n",
    "displayGraph (cw)\n",
    "layoutNetwork (cw, layout.name='grid')"
   ]
  },
  {
   "cell_type": "markdown",
   "metadata": {
    "lines_to_next_cell": 0
   },
   "source": [
    "*AFTER*"
   ]
  },
  {
   "cell_type": "code",
   "execution_count": null,
   "metadata": {},
   "outputs": [],
   "source": [
    "g <- new ('graphNEL', edgemode='directed')\n",
    "g <- graph::addNode ('A', g)\n",
    "g <- graph::addNode ('B', g)\n",
    "g <- graph::addNode ('C', g)\n",
    "g <- graph::addEdge ('A', 'B', g)\n",
    "g <- graph::addEdge ('B', 'C', g)\n",
    "net.suid <- createNetworkFromGraph (g, 'vignette')"
   ]
  },
  {
   "cell_type": "markdown",
   "metadata": {
    "lines_to_next_cell": 0
   },
   "source": [
    "* Note: the network SUID is returned rather than an R object \n",
    "* Note: display and layout are done automatically\n",
    "\n",
    "## Example: cyPlot\n",
    "*BEFORE*"
   ]
  },
  {
   "cell_type": "code",
   "execution_count": null,
   "metadata": {},
   "outputs": [],
   "source": [
    "node.df <- data.frame(id=c(\"A\",\"B\",\"C\",\"D\"),\n",
    "           stringsAsFactors=FALSE)\n",
    "edge.df <- data.frame(source=c(\"A\",\"A\",\"A\",\"C\"),\n",
    "           target=c(\"B\",\"C\",\"D\",\"D\"),\n",
    "           interaction=c(\"inhibits\",\"interacts\",\"activates\",\"interacts\"),  # optional\n",
    "           stringsAsFactors=FALSE)\n",
    "g <- cyPlot(node.df, edge.df)\n",
    "cw <- CytoscapeWindow(\"vignette2\", g)\n",
    "displayGraph(cw)\n",
    "layoutNetwork(cw, \"force-directed\")"
   ]
  },
  {
   "cell_type": "markdown",
   "metadata": {
    "lines_to_next_cell": 0
   },
   "source": [
    "*AFTER*"
   ]
  },
  {
   "cell_type": "code",
   "execution_count": null,
   "metadata": {},
   "outputs": [],
   "source": [
    "node.df <- data.frame(id=c(\"A\",\"B\",\"C\",\"D\"),\n",
    "           stringsAsFactors=FALSE)\n",
    "edge.df <- data.frame(source=c(\"A\",\"A\",\"A\",\"C\"),\n",
    "           target=c(\"B\",\"C\",\"D\",\"D\"),\n",
    "           interaction=c(\"inhibits\",\"interacts\",\"activates\",\"interacts\"),  # optional\n",
    "           stringsAsFactors=FALSE)\n",
    "net.suid <- createNetworkFromDataFrames (node.df, edge.df, \"vignette2\")"
   ]
  },
  {
   "cell_type": "markdown",
   "metadata": {
    "lines_to_next_cell": 0
   },
   "source": [
    "* Note: Same node and edge dataframes, except rather than having the key columns being positionally defined (for cyPlot), they need to be semantically defined using \"id\", \"source\", \"target\" and \"interaction\" (for createNetworkFromDataFrames)\n",
    "* Note: display and layout are done automatically\n",
    "\n",
    "## Example: loading nodeData \n",
    "*BEFORE*"
   ]
  },
  {
   "cell_type": "code",
   "execution_count": null,
   "metadata": {
    "eval": false
   },
   "outputs": [],
   "source": [
    "g <- initNodeAttribute (graph=g,  attribute.name='moleculeType',\n",
    "                            attribute.type='char',\n",
    "                            default.value='undefined')\n",
    "g <- initNodeAttribute (graph=g,  'lfc', 'numeric', 0.0)\n",
    "nodeData (g, 'A', 'moleculeType') <- 'kinase'\n",
    "nodeData (g, 'B', 'moleculeType') <- 'TF'\n",
    "nodeData (g, 'C', 'moleculeType') <- 'cytokine'\n",
    "nodeData (g, 'D', 'moleculeType') <- 'cytokine'\n",
    "nodeData (g, 'A', 'lfc') <- -1.2\n",
    "nodeData (g, 'B', 'lfc') <- 1.8\n",
    "nodeData (g, 'C', 'lfc') <- 3.2\n",
    "nodeData (g, 'D', 'lfc') <- 2.2\n",
    "cw = setGraph (cw, g)\n",
    "displayGraph (cw) "
   ]
  },
  {
   "cell_type": "markdown",
   "metadata": {
    "lines_to_next_cell": 0
   },
   "source": [
    "*AFTER*"
   ]
  },
  {
   "cell_type": "code",
   "execution_count": null,
   "metadata": {},
   "outputs": [],
   "source": [
    "node.data <- data.frame(id=c('A','B','C','D'), \n",
    "                        moleculeType=c('kinase','TF','cytokine','cytokine'),\n",
    "                        lfc=c(-1.2, 1.8, 3.2, 2.2),\n",
    "                        stringsAsFactors = FALSE)\n",
    "loadTableData(node.data, 'id')"
   ]
  },
  {
   "cell_type": "markdown",
   "metadata": {},
   "source": [
    "* Note: simply compose a data.frame and then load it! No need to initialize or alter local graphNEL object\n",
    "* Note: stringsAsFactors = FALSE is important or else string values won't load\n",
    "* Note: set and display are no longer needed\n"
   ]
  },
  {
   "cell_type": "markdown",
   "metadata": {
    "lines_to_next_cell": 0
   },
   "source": [
    "## Example: setDefaults\n",
    "*BEFORE*"
   ]
  },
  {
   "cell_type": "code",
   "execution_count": null,
   "metadata": {
    "eval": false
   },
   "outputs": [],
   "source": [
    "setDefaultNodeShape (cw, 'OCTAGON')\n",
    "setDefaultNodeColor (cw, '#AAFF88')\n",
    "setDefaultNodeSize  (cw, 80)\n",
    "setDefaultNodeFontSize (cw, 40)"
   ]
  },
  {
   "cell_type": "markdown",
   "metadata": {
    "lines_to_next_cell": 0
   },
   "source": [
    "*AFTER*"
   ]
  },
  {
   "cell_type": "code",
   "execution_count": null,
   "metadata": {},
   "outputs": [],
   "source": [
    "setNodeShapeDefault ('OCTAGON')\n",
    "setNodeColorDefault ('#AAFF88')\n",
    "setNodeSizeDefault  (80)\n",
    "setNodeFontSizeDefault (40)"
   ]
  },
  {
   "cell_type": "markdown",
   "metadata": {},
   "source": [
    "* Note: no more cw!\n",
    "* Note: subtley renamed functions for consistency across package (sorry!)"
   ]
  },
  {
   "cell_type": "markdown",
   "metadata": {
    "lines_to_next_cell": 0
   },
   "source": [
    "## Example: Rule based mapping\n",
    "*BEFORE*"
   ]
  },
  {
   "cell_type": "code",
   "execution_count": null,
   "metadata": {
    "eval": false
   },
   "outputs": [],
   "source": [
    "attribute.values <- c ('kinase',  'TF',       'cytokine')\n",
    "node.shapes      <- c ('DIAMOND', 'TRIANGLE', 'RECTANGLE')\n",
    "setNodeShapeRule (cw, 'moleculeType', attribute.values, node.shapes)\n",
    "setNodeColorRule (cw, 'lfc', c (-3.0, 0.0, 3.0),\n",
    "                  c ('#00AA00', '#00FF00', '#FFFFFF', '#FF0000', '#AA0000'),\n",
    "                  mode='interpolate')\n",
    "control.points = c (-1.2, 2.0, 4.0)\n",
    "node.sizes     = c (30, 40, 60, 80, 90)\n",
    "setNodeSizeRule (cw, 'lfc', control.points, node.sizes, mode='interpolate')"
   ]
  },
  {
   "cell_type": "markdown",
   "metadata": {
    "lines_to_next_cell": 0
   },
   "source": [
    "*AFTER*"
   ]
  },
  {
   "cell_type": "code",
   "execution_count": null,
   "metadata": {},
   "outputs": [],
   "source": [
    "attribute.values <- c ('kinase',  'TF',       'cytokine')\n",
    "node.shapes      <- c ('DIAMOND', 'TRIANGLE', 'RECTANGLE')\n",
    "setNodeShapeMapping('moleculeType', attribute.values, node.shapes)\n",
    "setNodeColorMapping('lfc', c(-3.0, 0.0, 3.0),\n",
    "                    c('#00AA00', '#00FF00', '#FFFFFF', '#FF0000', '#AA0000'))\n",
    "control.points = c (-1.2, 2.0, 4.0)\n",
    "node.sizes     = c (30, 40, 60, 80, 90)\n",
    "setNodeSizeMapping('lfc',control.points, node.sizes)"
   ]
  },
  {
   "cell_type": "markdown",
   "metadata": {},
   "source": [
    "* Note: no more cw!\n",
    "* Note: Rules are now Mappings (like they are called in Cytoscape)\n",
    "* Note: \"interpolate\" (a.k.a. \"continuous\") is the default, so you can leave it out"
   ]
  },
  {
   "cell_type": "markdown",
   "metadata": {
    "lines_to_next_cell": 0
   },
   "source": [
    "## Example: Selecting nodes \n",
    "*BEFORE*"
   ]
  },
  {
   "cell_type": "code",
   "execution_count": null,
   "metadata": {
    "eval": false
   },
   "outputs": [],
   "source": [
    "selectNodes(cw, 'B')\n",
    "nodes <- getSelectedNodes (cw)\n",
    "selectFirstNeighborsOfSelectedNodes (cw)"
   ]
  },
  {
   "cell_type": "markdown",
   "metadata": {
    "lines_to_next_cell": 0
   },
   "source": [
    "*AFTER*"
   ]
  },
  {
   "cell_type": "code",
   "execution_count": null,
   "metadata": {},
   "outputs": [],
   "source": [
    "selectNodes('B', 'name') #or 'id'\n",
    "nodes <- getSelectedNodes()\n",
    "selectFirstNeighbors()"
   ]
  },
  {
   "cell_type": "markdown",
   "metadata": {
    "lines_to_next_cell": 0
   },
   "source": [
    "* Note: no more cw!\n",
    "* Note: selectNodes is by node SUID by default, so you now have to specify if using node name (or other alternative columns). This protects against ambiguous selection.\n",
    "* Note: selectNodes actually returns the selected nodes and edges after the operation, so you could just do: "
   ]
  },
  {
   "cell_type": "code",
   "execution_count": null,
   "metadata": {},
   "outputs": [],
   "source": [
    "nodes <- selectNodes('B', 'name')$nodes"
   ]
  },
  {
   "cell_type": "markdown",
   "metadata": {
    "lines_to_next_cell": 0
   },
   "source": [
    "## Example: Saving and exporting\n",
    "*BEFORE*"
   ]
  },
  {
   "cell_type": "code",
   "execution_count": null,
   "metadata": {
    "eval": false
   },
   "outputs": [],
   "source": [
    "saveImage(cw, \"sample_image\", \"png\", h = 800)\n",
    "saveNetwork(cw, \"sample_session\", format = \"cys\")"
   ]
  },
  {
   "cell_type": "markdown",
   "metadata": {
    "lines_to_next_cell": 0
   },
   "source": [
    "*AFTER*"
   ]
  },
  {
   "cell_type": "code",
   "execution_count": null,
   "metadata": {},
   "outputs": [],
   "source": [
    "exportImage(\"sample_image\", \"png\", h= 800)\n",
    "saveSession(\"sample_session\")"
   ]
  },
  {
   "cell_type": "markdown",
   "metadata": {},
   "source": [
    "* Note: no more cw!\n",
    "* Note: subtle renames to match actual operations and outputs"
   ]
  },
  {
   "cell_type": "markdown",
   "metadata": {},
   "source": [
    "# Going forward\n",
    "And the next time you start a script from scratch, consider reviewing the \n",
    "vignettes and other RCy3 scripts available online."
   ]
  },
  {
   "cell_type": "code",
   "execution_count": null,
   "metadata": {},
   "outputs": [],
   "source": [
    "browseVignettes('RCy3')"
   ]
  },
  {
   "cell_type": "markdown",
   "metadata": {},
   "source": [
    "Repository of R scripts for Cytoscape, many using RCy3:\n",
    "\n",
    "  * https://github.com/cytoscape/cytoscape-automation/tree/master/for-scripters/R"
   ]
  }
 ],
 "metadata": {
  "jupytext": {
   "cell_metadata_filter": "eval,tags,-all",
   "main_language": "R",
   "notebook_metadata_filter": "-all"
  }
 },
 "nbformat": 4,
 "nbformat_minor": 4
}
