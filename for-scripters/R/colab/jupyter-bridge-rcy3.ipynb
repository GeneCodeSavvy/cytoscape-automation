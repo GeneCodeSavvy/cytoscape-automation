{
  "cells": [
    {
      "cell_type": "markdown",
      "metadata": {
        "id": "view-in-github",
        "colab_type": "text"
      },
      "source": [
        "<a href=\"https://colab.research.google.com/github/cytoscape/cytoscape-automation/blob/master/for-scripters/R/colab/jupyter-bridge-rcy3.ipynb\" target=\"_parent\"><img src=\"https://colab.research.google.com/assets/colab-badge.svg\" alt=\"Open In Colab\"/></a>"
      ]
    },
    {
      "cell_type": "markdown",
      "metadata": {
        "id": "k6cNjr2QoJVr"
      },
      "source": [
        "# **Jupyer Bridge and RCy3**\n"
      ]
    },
    {
      "cell_type": "markdown",
      "metadata": {
        "id": "6CJNck2KM-5v"
      },
      "source": [
        "You can open this notebook in the Google Colab from Github directly (File -> Open notebook -> Github).\n",
        "\n",
        "Also you can download this notebook and upload it to the Google Colab (File -> Open notebook -> Upload)."
      ]
    },
    {
      "cell_type": "markdown",
      "metadata": {
        "id": "9rSERGZ4M-5v"
      },
      "source": [
        "<font color='red'> You do not need to run installation and getting started sections if you come from the basic Jupyter Bride and RCy3 tutorial, since you have already installed required packages and build the connection. </font>"
      ]
    },
    {
      "cell_type": "markdown",
      "metadata": {
        "id": "UIaCuhADdi87"
      },
      "source": [
        "## **Installation**"
      ]
    },
    {
      "cell_type": "code",
      "execution_count": null,
      "metadata": {
        "colab": {
          "base_uri": "https://localhost:8080/"
        },
        "id": "edyc_AuIiQZT",
        "outputId": "d4ad908f-58bd-487c-db6b-6987bf07f2a7"
      },
      "outputs": [
        {
          "name": "stderr",
          "output_type": "stream",
          "text": [
            "Loading required package: usethis\n",
            "\n",
            "Downloading GitHub repo cytoscape/RCy3@HEAD\n",
            "\n"
          ]
        },
        {
          "name": "stdout",
          "output_type": "stream",
          "text": [
            "R.methodsS3  (NA -> 1.8.1   ) [CRAN]\n",
            "R.oo         (NA -> 1.24.0  ) [CRAN]\n",
            "signal       (NA -> 0.7-6   ) [CRAN]\n",
            "plyr         (NA -> 1.8.6   ) [CRAN]\n",
            "XML          (NA -> 3.99-0.6) [CRAN]\n",
            "R.utils      (NA -> 2.10.1  ) [CRAN]\n",
            "png          (NA -> 0.1-7   ) [CRAN]\n",
            "matrixStats  (NA -> 0.58.0  ) [CRAN]\n",
            "BiocGenerics (NA -> 0.36.0  ) [CRAN]\n",
            "uchardet     (NA -> 1.1.0   ) [CRAN]\n",
            "dplR         (NA -> 1.7.2   ) [CRAN]\n",
            "graph        (NA -> 1.68.0  ) [CRAN]\n",
            "igraph       (NA -> 1.2.6   ) [CRAN]\n",
            "RJSONIO      (NA -> 1.3-1.4 ) [CRAN]\n"
          ]
        },
        {
          "name": "stderr",
          "output_type": "stream",
          "text": [
            "Installing 14 packages: R.methodsS3, R.oo, signal, plyr, XML, R.utils, png, matrixStats, BiocGenerics, uchardet, dplR, graph, igraph, RJSONIO\n",
            "\n",
            "Installing packages into ‘/usr/local/lib/R/site-library’\n",
            "(as ‘lib’ is unspecified)\n",
            "\n"
          ]
        },
        {
          "name": "stdout",
          "output_type": "stream",
          "text": [
            "\u001b[32m✔\u001b[39m  \u001b[90mchecking for file ‘/tmp/RtmpQV73Ms/remotes39b9a99e7/cytoscape-RCy3-b1c0087/DESCRIPTION’\u001b[39m\u001b[36m\u001b[39m\n",
            "\u001b[90m─\u001b[39m\u001b[90m  \u001b[39m\u001b[90mpreparing ‘RCy3’:\u001b[39m\u001b[36m\u001b[39m\n",
            "\u001b[32m✔\u001b[39m  \u001b[90mchecking DESCRIPTION meta-information\u001b[39m\u001b[36m\u001b[39m\n",
            "\u001b[90m─\u001b[39m\u001b[90m  \u001b[39m\u001b[90mchecking for LF line-endings in source and make files and shell scripts\u001b[39m\u001b[36m\u001b[39m\n",
            "\u001b[90m─\u001b[39m\u001b[90m  \u001b[39m\u001b[90mchecking for empty or unneeded directories\u001b[39m\u001b[36m\u001b[39m\n",
            "\u001b[90m─\u001b[39m\u001b[90m  \u001b[39m\u001b[90mbuilding ‘RCy3_2.11.6.tar.gz’\u001b[39m\u001b[36m\u001b[39m\n",
            "   \n"
          ]
        },
        {
          "name": "stderr",
          "output_type": "stream",
          "text": [
            "Installing package into ‘/usr/local/lib/R/site-library’\n",
            "(as ‘lib’ is unspecified)\n",
            "\n"
          ]
        }
      ],
      "source": [
        "if (!requireNamespace(\"BiocManager\", quietly = TRUE))\n",
        "    install.packages(\"BiocManager\")\n",
        "BiocManager::install(\"RCy3\")\n",
        "library(RCy3)\n",
        "library(RColorBrewer)"
      ]
    },
    {
      "cell_type": "markdown",
      "metadata": {
        "id": "6cz2uT8fds3e"
      },
      "source": [
        "## **Getting started**\n"
      ]
    },
    {
      "cell_type": "code",
      "execution_count": null,
      "metadata": {
        "colab": {
          "base_uri": "https://localhost:8080/",
          "height": 17
        },
        "id": "uH_n7U0xkBKS",
        "outputId": "c1c6521d-c4b0-4105-c236-a927796de73e"
      },
      "outputs": [
        {
          "data": {
            "application/javascript": [
              "var Channel = \"482ebe8b-689b-4e58-9bfb-d2d1cce57747\"; \n",
              "\n",
              " var JupyterBridge = \"https://jupyter-bridge.cytoscape.org\"; \n",
              "\n",
              "  /*\n",
              "    These functions serve as a connector between a remote Jupyter server and Cytoscape.\n",
              "    They run in the user's browser, which also shows the Jupyter Notebook.\n",
              "\n",
              "    A remote Jupyter Notebook call to the py4cytoscape package is forwarded to the Jupyter Bridge,\n",
              "    which is a standalone server. The functions in this connector execute in the Jupyter Notebook\n",
              "    browser, which executes on the same PC as Cytoscape. So, that's 4 components: (A) remote\n",
              "    Jupyter Notebook, (B) separate Jupyter Bridge server, (C) this browser-based component, and\n",
              "    (D) Cytoscape. (A) is on a remote server, (B) is on a different remote server, and (C) and (D)\n",
              "    are on the user's PC.\n",
              "\n",
              "    (A) calls its py4cytoscape module, which forwards the request (in a JSON wrapper) to (B).\n",
              "    (C) picks up the request from (B), unpacks the request and forwards it to (D). (C) awaits a\n",
              "    reply from (D), and when it gets it, it forwards the reply (in a JSON wrapper) to (B).\n",
              "    (A)'s py4cytoscape module picks up the reply on (B) when it becomes available, unpacks it,\n",
              "    and returns it to (A).\n",
              "\n",
              "    A Jupyter Notebook can talk to only one Cytoscape (i.e., the one on the machine running the\n",
              "    Jupyter Notebook browser), and Cytoscape should be called by only one Jupyter Notebook. The\n",
              "    Jupyter Bridge differentiates between Notebook-Cytoscape conversations via a channel UUID.\n",
              "    The UUID is prepended to this browser component by py4Cytoscape, and the component is\n",
              "    started by the Jupyter Notebook. (I wish py4Cytoscape could start the component, too, but I\n",
              "    haven't figured out how to do that yet, so startup code *is* required in the Jupyter\n",
              "    Notebook.)\n",
              "\n",
              "    Note that for the case of a Jupyter server running on the same machine as Cytoscape, this\n",
              "    bridge isn't necessary because the Jupyter server's HTTP calls can easily connect to\n",
              "    Cytoscape over a localhost socket. So, the combination of Jupyter Bridge and this browser\n",
              "    component solves the problem of a Jupyter server (e.g., Google's Colab) that can't\n",
              "    connect to Cytoscape that sits behind a firewall.\n",
              "\n",
              "    The request represents an HTTP call that py4cytoscape would normally make via HTTP directly\n",
              "    to Cytoscape via localhost when both py4cytoscape and Cytoscape are running on the same machine.\n",
              " */\n",
              "\n",
              "const VERSION = '0.0.2'\n",
              "\n",
              "var showDebug; // Flag indicating whether to show Jupyter-bridge progress\n",
              "if (typeof showDebug === 'undefined') {\n",
              "    showDebug = false\n",
              "}\n",
              "if (showDebug) {\n",
              "    alert(\"Starting Jupyter-bridge browser component\")\n",
              "}\n",
              "\n",
              "//const JupyterBridge = 'http://127.0.0.1:5000' // for testing against local Jupyter-bridge\n",
              "var JupyterBridge; // URL of Jupyter-bridge server could be defined by assignment pre-pended to this file\n",
              "if (typeof JupyterBridge === 'undefined') {\n",
              "    JupyterBridge = 'https://jupyter-bridge.cytoscape.org' // for production\n",
              "}\n",
              "var Channel; // Unique constant that could be defined by assignment pre-pended to this file\n",
              "if (typeof Channel === 'undefined') { // ... but if not assigned, use a debugging value\n",
              "    Channel = 1\n",
              "}\n",
              "\n",
              "\n",
              "var httpR = new XMLHttpRequest(); // for sending reply to Jupyter-bridge\n",
              "var httpRE = new XMLHttpRequest(); // for sending backup error reply to Jupyter-bridge\n",
              "var httpC = new XMLHttpRequest(); // for sending command to Cytoscape\n",
              "var httpJ = new XMLHttpRequest(); // for fetching request from Jupyter-bridge\n",
              "\n",
              "const HTTP_OK = 200\n",
              "const HTTP_SYS_ERR = 500\n",
              "const HTTP_TIMEOUT = 408\n",
              "const HTTP_TOO_MANY = 429\n",
              "\n",
              "\n",
              " /* This function is useful if we want to rewrite the incoming URL to resolve just to our local one.\n",
              "    Doing this stops the Jupyter component from abusing this client to call out to endpoints other\n",
              "    than local Cytoscape. On the other hand, it makes it hard to detect when the Jupyter component\n",
              "    has specified a genuinely bad URL and really should get an error result. For now, we'll execute\n",
              "    the Jupyter-supplied URL and return the result, whatever it may be.\n",
              "\n",
              "const LocalCytoscape = 'http://127.0.0.1:1234'\n",
              "\n",
              "function parseURL(url) {\n",
              "    var reURLInformation = new RegExp([\n",
              "        '^(https?:)//', // protocol\n",
              "        '(([^:/?#]*)(?::([0-9]+))?)', // host (hostname and port)\n",
              "        '(/{0,1}[^?#]*)', // pathname\n",
              "        '(\\\\?[^#]*|)', // search\n",
              "        '(#.*|)$' // hash\n",
              "    ].join(''));\n",
              "    var match = url.match(reURLInformation);\n",
              "    return match && {\n",
              "        url: url,\n",
              "        protocol: match[1],\n",
              "        host: match[2],\n",
              "        hostname: match[3],\n",
              "        port: match[4],\n",
              "        pathname: match[5],\n",
              "        search: match[6],\n",
              "        hash: match[7]\n",
              "    }\n",
              "}\n",
              "*/\n",
              "\n",
              "function replyCytoscape(replyStatus, replyStatusText, replyText) {\n",
              "\n",
              "    // Clean up after Jupyter bridge accepts reply\n",
              "    httpR.onreadystatechange = function() {\n",
              "        if (httpR.readyState === 4) {\n",
              "            if (showDebug) {\n",
              "                console.log(' status from queue_reply: ' + httpR.status + ', reply: ' + httpR.responseText)\n",
              "            }\n",
              "        }\n",
              "    }\n",
              "\n",
              "    httpR.onerror = function() {\n",
              "        // Clean up after Jupyter bridge accepts backup reply\n",
              "        httpRE.onreadystatechange = function() {\n",
              "            if (httpRE.readyState === 4) {\n",
              "                if (showDebug) {\n",
              "                    console.log(' status from backup queue_reply: ' + httpRE.status + ', reply: ' + httpRE.responseText)\n",
              "                }\n",
              "            }\n",
              "        }\n",
              "\n",
              "        if (showDebug) {\n",
              "            console.log(' error from queue_reply -- could be Jupyter-Bridge server reject')\n",
              "        }\n",
              "        var errReply = {'status': HTTP_SYS_ERR, 'reason': 'Jupyter-Bridge rejected reply', 'text': 'Possibly reply is too long for Jupyter-Bridge server'}\n",
              "        httpRE.open('POST', jupyterBridgeURL, true)\n",
              "        httpRE.setRequestHeader('Content-Type', 'text/plain')\n",
              "        httpRE.send(JSON.stringify(errReply))\n",
              "    }\n",
              "\n",
              "    var reply = {'status': replyStatus, 'reason': replyStatusText, 'text': replyText}\n",
              "\n",
              "    // Send reply to Jupyter bridge\n",
              "    var jupyterBridgeURL = JupyterBridge + '/queue_reply?channel=' + Channel\n",
              "    if (showDebug) {\n",
              "        console.log('Starting queue to Jupyter bridge: ' + jupyterBridgeURL)\n",
              "    }\n",
              "    httpR.open('POST', jupyterBridgeURL, true)\n",
              "    httpR.setRequestHeader('Content-Type', 'text/plain')\n",
              "    httpR.send(JSON.stringify(reply))\n",
              "}\n",
              "\n",
              "function callCytoscape(callSpec) {\n",
              "\n",
              "    // Captures Cytoscape reply and sends it on\n",
              "    httpC.onreadystatechange = function() {\n",
              "        if (httpC.readyState === 4) {\n",
              "            if (showDebug) {\n",
              "                console.log(' status from CyREST: ' + httpC.status + ', statusText: ' + httpC.statusText + ', reply: ' + httpC.responseText)\n",
              "            }\n",
              "            // Note that httpC.status is 0 if the URL can't be reached *OR* there is a CORS violation.\n",
              "            // I wish I could tell the difference because for a CORS violation, I'd return a 404,\n",
              "            // which would roughly match what Python's native request package would return.\n",
              "            // The practical consequence is that the ultimate caller (e.g., py4cytoscape)\n",
              "            // returns different exceptions, depending on wither this module is doing the\n",
              "            // HTTP operation or the native Python requests package is. This is minor, but\n",
              "            // messes up tests that verify the exception type.\n",
              "            replyCytoscape(httpC.status, httpC.statusText, httpC.responseText)\n",
              "            waitOnJupyterBridge()\n",
              "        }\n",
              "    }\n",
              "\n",
              "//  Build up request to Cytoscape, making sure host is local.\n",
              "//    Too heavy handed: localURL = LocalCytoscape + parseURL(callSpec.url).pathname\n",
              "    var localURL = callSpec.url // Try using what was passed in ... is there a security risk??\n",
              "\n",
              "    if (showDebug) {\n",
              "        console.log('Command to CyREST: ' + callSpec.command + ' (' + localURL + ')')\n",
              "        if (callSpec.params) {\n",
              "            console.log(' params: ' + JSON.stringify(callSpec.params))\n",
              "        }\n",
              "        if (callSpec.headers) {\n",
              "            console.log(' header: ' + JSON.stringify(callSpec.headers))\n",
              "        }\n",
              "        if (callSpec.data) {\n",
              "            console.log('   data: ' + JSON.stringify(callSpec.data))\n",
              "        }\n",
              "    }\n",
              "\n",
              "    if (callSpec.command === 'webbrowser') {\n",
              "        if (window.open(callSpec.url)) {\n",
              "            replyCytoscape(HTTP_OK, 'OK', '')\n",
              "        } else {\n",
              "            replyCytoscape(HTTP_SYS_ERR, 'BAD BROWSER OPEN', '')\n",
              "        }\n",
              "        waitOnJupyterBridge()\n",
              "    } else if (callSpec.command === 'version') {\n",
              "        replyCytoscape(HTTP_OK, 'OK',\n",
              "            JSON.stringify({\"jupyterBridgeVersion\": VERSION}))\n",
              "        waitOnJupyterBridge()\n",
              "    } else {\n",
              "        var joiner = '?'\n",
              "        for (let param in callSpec.params) {\n",
              "            localURL = localURL + joiner + param + '=' + encodeURIComponent(callSpec.params[param])\n",
              "            joiner = '&'\n",
              "        }\n",
              "\n",
              "        httpC.open(callSpec.command, localURL, true)\n",
              "        for (let header in callSpec.headers) {\n",
              "            httpC.setRequestHeader(header, callSpec.headers[header])\n",
              "        }\n",
              "\n",
              "        // Send request to Cytoscape ... reply goes to onreadystatechange handler\n",
              "        httpC.send(JSON.stringify(callSpec.data))\n",
              "    }\n",
              "}\n",
              "\n",
              "function waitOnJupyterBridge() {\n",
              "\n",
              "    // Captures request from Jupyter bridge\n",
              "    httpJ.onreadystatechange = function() {\n",
              "        if (httpJ.readyState === 4) {\n",
              "            if (showDebug) {\n",
              "                console.log(' status from dequeue_request: ' + httpJ.status + ', reply: ' + httpJ.responseText)\n",
              "            }\n",
              "            try {\n",
              "                if (httpJ.status == HTTP_TOO_MANY) {\n",
              "                    // Nothing more to do ... the browser has created too many listeners,\n",
              "                    // and it's time to stop listening because the server saw a listener\n",
              "                    // listening on this channel before we got there.\n",
              "                    console.log('  shutting down because of redundant reader on channel: ' + Channel)\n",
              "                } else {\n",
              "                    if (httpJ.status === HTTP_TIMEOUT) {\n",
              "                        waitOnJupyterBridge()\n",
              "                    } else {\n",
              "                        callCytoscape(JSON.parse(httpJ.responseText))\n",
              "                    }\n",
              "                }\n",
              "            } catch(err) {\n",
              "                if (showDebug) {\n",
              "                    console.log(' exception calling Cytoscape: ' + err)\n",
              "                }\n",
              "                // Bad responseText means something bad happened that we don't understand.\n",
              "                // Go wait on another request, as there's nothing to call Cytoscape with.\n",
              "                waitOnJupyterBridge()\n",
              "            }\n",
              "        }\n",
              "    }\n",
              "\n",
              "    // Wait for request from Jupyter bridge\n",
              "    var jupyterBridgeURL = JupyterBridge + '/dequeue_request?channel=' + Channel\n",
              "    if (showDebug) {\n",
              "        console.log('Starting dequeue on Jupyter bridge: ' + jupyterBridgeURL)\n",
              "    }\n",
              "    httpJ.open('GET', jupyterBridgeURL, true)\n",
              "    httpJ.send()\n",
              "}\n",
              "\n",
              "// This kicks off a loop that ends by calling waitOnJupyterBridge again. This first call\n",
              "// ejects any dead readers before we start a read\n",
              "waitOnJupyterBridge() // Wait for message from Jupyter bridge, execute it, and return reply\n",
              "\n",
              "if (showDebug) {\n",
              "    alert(\"Jupyter-bridge browser component is started on \" + JupyterBridge + ', channel ' + Channel)\n",
              "}\n"
            ]
          },
          "metadata": {
            "tags": []
          },
          "output_type": "display_data"
        }
      ],
      "source": [
        "browserClientJs <- getBrowserClientJs()\n",
        "IRdisplay::display_javascript(browserClientJs)"
      ]
    },
    {
      "cell_type": "code",
      "execution_count": null,
      "metadata": {
        "colab": {
          "base_uri": "https://localhost:8080/",
          "height": 35
        },
        "id": "WAclD7yyUp70",
        "outputId": "0ba52faf-84c2-438c-8c7d-ee7d36c19a84"
      },
      "outputs": [
        {
          "data": {
            "text/html": [
              "<style>\n",
              ".dl-inline {width: auto; margin:0; padding: 0}\n",
              ".dl-inline>dt, .dl-inline>dd {float: none; width: auto; display: inline-block}\n",
              ".dl-inline>dt::after {content: \":\\0020\"; padding-right: .5ex}\n",
              ".dl-inline>dt:not(:first-of-type) {padding-left: .5ex}\n",
              "</style><dl class=dl-inline><dt>apiVersion</dt><dd>'v1'</dd><dt>cytoscapeVersion</dt><dd>'3.8.2'</dd></dl>\n"
            ],
            "text/latex": [
              "\\begin{description*}\n",
              "\\item[apiVersion] 'v1'\n",
              "\\item[cytoscapeVersion] '3.8.2'\n",
              "\\end{description*}\n"
            ],
            "text/markdown": [
              "apiVersion\n",
              ":   'v1'cytoscapeVersion\n",
              ":   '3.8.2'\n",
              "\n"
            ],
            "text/plain": [
              "      apiVersion cytoscapeVersion \n",
              "            \"v1\"          \"3.8.2\" "
            ]
          },
          "metadata": {
            "tags": []
          },
          "output_type": "display_data"
        }
      ],
      "source": [
        "cytoscapeVersionInfo()"
      ]
    },
    {
      "cell_type": "code",
      "execution_count": null,
      "metadata": {
        "colab": {
          "base_uri": "https://localhost:8080/"
        },
        "id": "kKoUDYnlmclu",
        "outputId": "dcec643b-b9d5-4c70-c68e-6a43ce244b85"
      },
      "outputs": [
        {
          "name": "stderr",
          "output_type": "stream",
          "text": [
            "You are connected to Cytoscape!\n",
            "\n"
          ]
        }
      ],
      "source": [
        "cytoscapePing()"
      ]
    },
    {
      "cell_type": "markdown",
      "metadata": {
        "id": "Og9GiBOXpgjr"
      },
      "source": [
        "# **Differentially Expressed Genes Network Analysis**"
      ]
    },
    {
      "cell_type": "markdown",
      "metadata": {
        "id": "TpcLwehneIf5"
      },
      "source": [
        "## **Prerequisites**\n",
        "\n",
        "If you haven’t already, install the [*STRINGApp*](http://apps.cytoscape.org/apps/stringapp) and [*filetransferApp*](https://apps.cytoscape.org/apps/filetransfer)."
      ]
    },
    {
      "cell_type": "markdown",
      "metadata": {
        "id": "VTn0P1W-fl2q"
      },
      "source": [
        "## **Background**\n",
        "\n",
        "Ovarian serous cystadenocarcinoma is a type of epithelial ovarian cancer which accounts for ~90% of all ovarian cancers. The data used in this protocol are from [The Cancer Genome Atlas](https://www.cancer.gov/about-nci/organization/ccg/research/structural-genomics/tcga).\n",
        "The Cancer Genome Atlas, in which multiple subtypes of serous cystadenocarcinoma were identified and characterized by mRNA expression.\n",
        "\n",
        "We will focus on the differential gene expression between two subtypes, Mesenchymal and Immunoreactive.\n",
        "\n",
        "For convenience, the data has already been analyzed and pre-filtered, using log fold change value and adjusted p-value.\n",
        "\n",
        "\n"
      ]
    },
    {
      "cell_type": "markdown",
      "metadata": {
        "id": "LgfoPMPjgBDy"
      },
      "source": [
        "## **Network Retrieval**\n",
        "\n",
        "Many public databases and multiple Cytoscape apps allow you to retrieve a network or pathway relevant to your data. For this workflow, we will use the STRING app. Some other options include:\n",
        "\n",
        "*   [WikiPathways](https://www.wikipathways.org/index.php/WikiPathways)\n",
        "*   [NDEx](http://www.ndexbio.org/#/)\n",
        "*   [GeneMANIA](https://genemania.org/)\n",
        "\n",
        "\n",
        "\n",
        "\n"
      ]
    },
    {
      "cell_type": "markdown",
      "metadata": {
        "id": "e9YVu-49gs2F"
      },
      "source": [
        "## **Retrieve Networks from STRING**\n",
        "\n",
        "To identify a relevant network, we will query the STRING database in two different ways:\n",
        "\n",
        "Query STRING protein with the list of differentially expressed genes.\n",
        "\n",
        "Query STRING disease for a keyword; ovarian cancer.\n",
        "\n",
        "The two examples are split into two separate workflows below.\n",
        "\n"
      ]
    },
    {
      "cell_type": "markdown",
      "metadata": {
        "id": "0J4OMIGSg2B7"
      },
      "source": [
        "## **Example 1: STRING Protein Query Up-regulated Genes**\n",
        "\n",
        "Load the file containing the data for up-regulated genes, TCGA-Ovarian-MesenvsImmuno_UP_full.csv:"
      ]
    },
    {
      "cell_type": "code",
      "execution_count": null,
      "metadata": {
        "id": "g2ytR_Eicldn"
      },
      "outputs": [],
      "source": [
        "de.genes.up <- read.table(\"https://raw.githubusercontent.com/cytoscape/cytoscape-tutorials/gh-pages/protocols/data/TCGA-Ovarian-MesenvsImmuno-data-up.csv\", header = TRUE, sep = \"\\t\", quote=\"\\\"\", stringsAsFactors = FALSE)"
      ]
    },
    {
      "cell_type": "code",
      "execution_count": null,
      "metadata": {
        "colab": {
          "base_uri": "https://localhost:8080/",
          "height": 35
        },
        "id": "S7MEbOaUclf4",
        "outputId": "9320780a-c61e-4002-8cb6-2ae7d2667d58"
      },
      "outputs": [
        {
          "data": {
            "text/html": [
              "<style>\n",
              ".list-inline {list-style: none; margin:0; padding: 0}\n",
              ".list-inline>li {display: inline-block}\n",
              ".list-inline>li:not(:last-child)::after {content: \"\\00b7\"; padding: 0 .5ex}\n",
              "</style>\n",
              "<ol class=list-inline><li>'Loaded network \\'String Network\\' with 202 nodes and 919 edges'</li><li>'Finished'</li></ol>\n"
            ],
            "text/latex": [
              "\\begin{enumerate*}\n",
              "\\item 'Loaded network \\textbackslash{}'String Network\\textbackslash{}' with 202 nodes and 919 edges'\n",
              "\\item 'Finished'\n",
              "\\end{enumerate*}\n"
            ],
            "text/markdown": [
              "1. 'Loaded network \\'String Network\\' with 202 nodes and 919 edges'\n",
              "2. 'Finished'\n",
              "\n",
              "\n"
            ],
            "text/plain": [
              "[1] \"Loaded network 'String Network' with 202 nodes and 919 edges\"\n",
              "[2] \"Finished\"                                                    "
            ]
          },
          "metadata": {
            "tags": []
          },
          "output_type": "display_data"
        }
      ],
      "source": [
        "string.cmd = paste('string protein query query=\"', paste(de.genes.up$Gene, collapse = '\\n'), '\" cutoff=0.4  species=\"Homo sapiens\"', sep = \"\")\n",
        "commandsRun(string.cmd)"
      ]
    },
    {
      "cell_type": "markdown",
      "metadata": {
        "id": "dLBb1LXKhS2J"
      },
      "source": [
        "The resulting network will load automatically and contains up-regulated genes recognized by STRING, and interactions between them with an evidence score of 0.4 or greater.\n",
        "\n",
        "The networks consists of one large connected component, several smaller networks, and some unconnected nodes. We will select only the connected nodes to work with for the rest of this tutorial, by creating a subnetwork based on all edges:"
      ]
    },
    {
      "cell_type": "code",
      "execution_count": null,
      "metadata": {
        "colab": {
          "base_uri": "https://localhost:8080/",
          "height": 35
        },
        "id": "NuABInbjhSVJ",
        "outputId": "87b556f6-8403-4c5e-ef22-446b7113b3d8"
      },
      "outputs": [
        {
          "data": {
            "text/html": [
              "<strong>network:</strong> 3726"
            ],
            "text/latex": [
              "\\textbf{network:} 3726"
            ],
            "text/markdown": [
              "**network:** 3726"
            ],
            "text/plain": [
              "network \n",
              "   3726 "
            ]
          },
          "metadata": {
            "tags": []
          },
          "output_type": "display_data"
        }
      ],
      "source": [
        "createSubnetwork(edges='all', subnetwork.name='String de genes up')"
      ]
    },
    {
      "cell_type": "markdown",
      "metadata": {
        "id": "mca177K7ijhz"
      },
      "source": [
        "## **Data Integration**\n",
        "\n",
        "Next we will import log fold changes and p-values from our TCGA dataset to create a visualization. Since the STRING network is a protein-protein network, it is annotated with protein identifiers (Uniprot and Ensembl protein), as well as HGNC gene symbols. Our data from TCGA has NCBI Gene identifiers (formerly Entrez), so before importing the data we are going to use the ID Mapper functionality in Cytoscape to map the network to NCBI Gene."
      ]
    },
    {
      "cell_type": "code",
      "execution_count": null,
      "metadata": {
        "id": "fEW-P77Qclkr"
      },
      "outputs": [],
      "source": [
        "mapped.cols <- mapTableColumn('display name', 'Human', 'HGNC', 'Entrez Gene')"
      ]
    },
    {
      "cell_type": "markdown",
      "metadata": {
        "id": "VO0WlP1nio26"
      },
      "source": [
        "We can now import the differential gene expression data and integrate it with the network (node) table in Cytoscape. For importing the data we will use the following mapping:\n",
        "\n",
        "*   Key Column for Network should be Entrez Gene, which is the column we just added.\n",
        "\n",
        "*   Gene should be the key of the data(de.genes.full).\n",
        "\n",
        "\n"
      ]
    },
    {
      "cell_type": "code",
      "execution_count": null,
      "metadata": {
        "colab": {
          "base_uri": "https://localhost:8080/",
          "height": 35
        },
        "id": "h4ma9d14clnK",
        "outputId": "1497ac98-0013-4f35-9081-1bc8ba0fb67e"
      },
      "outputs": [
        {
          "data": {
            "text/html": [
              "'Success: Data loaded in defaultnode table'"
            ],
            "text/latex": [
              "'Success: Data loaded in defaultnode table'"
            ],
            "text/markdown": [
              "'Success: Data loaded in defaultnode table'"
            ],
            "text/plain": [
              "[1] \"Success: Data loaded in defaultnode table\""
            ]
          },
          "metadata": {
            "tags": []
          },
          "output_type": "display_data"
        }
      ],
      "source": [
        "de.genes.full <- read.table(\"https://raw.githubusercontent.com/cytoscape/cytoscape-tutorials/gh-pages/protocols/data/TCGA-Ovarian-MesenvsImmuno_data.csv\", header = TRUE, sep = \",\", quote=\"\\\"\", stringsAsFactors = FALSE)\n",
        "\n",
        "loadTableData(de.genes.full,data.key.column=\"Gene\",table.key.column=\"Entrez Gene\")"
      ]
    },
    {
      "cell_type": "markdown",
      "metadata": {
        "id": "But_bptvjEUZ"
      },
      "source": [
        "You will notice two new columns (logFC and FDR.adjusted.Pvalue) in the Node Table.\n",
        "\n",
        "\n"
      ]
    },
    {
      "cell_type": "code",
      "execution_count": null,
      "metadata": {
        "colab": {
          "base_uri": "https://localhost:8080/",
          "height": 35
        },
        "id": "9vqwSukMclsD",
        "outputId": "e965e278-5d08-484b-c94e-0c31fb27fef2"
      },
      "outputs": [
        {
          "data": {
            "text/html": [
              "<style>\n",
              ".list-inline {list-style: none; margin:0; padding: 0}\n",
              ".list-inline>li {display: inline-block}\n",
              ".list-inline>li:not(:last-child)::after {content: \"\\00b7\"; padding: 0 .5ex}\n",
              "</style>\n",
              "<ol class=list-inline><li>'name'</li><li>'selected'</li><li>'Entrez Gene'</li><li>'Gene'</li><li>'logFC'</li><li>'FDR.adjusted.Pvalue'</li></ol>\n"
            ],
            "text/latex": [
              "\\begin{enumerate*}\n",
              "\\item 'name'\n",
              "\\item 'selected'\n",
              "\\item 'Entrez Gene'\n",
              "\\item 'Gene'\n",
              "\\item 'logFC'\n",
              "\\item 'FDR.adjusted.Pvalue'\n",
              "\\end{enumerate*}\n"
            ],
            "text/markdown": [
              "1. 'name'\n",
              "2. 'selected'\n",
              "3. 'Entrez Gene'\n",
              "4. 'Gene'\n",
              "5. 'logFC'\n",
              "6. 'FDR.adjusted.Pvalue'\n",
              "\n",
              "\n"
            ],
            "text/plain": [
              "[1] \"name\"                \"selected\"            \"Entrez Gene\"        \n",
              "[4] \"Gene\"                \"logFC\"               \"FDR.adjusted.Pvalue\""
            ]
          },
          "metadata": {
            "tags": []
          },
          "output_type": "display_data"
        }
      ],
      "source": [
        "tail(getTableColumnNames('node'))"
      ]
    },
    {
      "cell_type": "markdown",
      "metadata": {
        "id": "UkIYPUONjKqK"
      },
      "source": [
        "## **Visualization**\n",
        "\n",
        "Next, we will create a visualization of the imported data on the network."
      ]
    },
    {
      "cell_type": "code",
      "execution_count": null,
      "metadata": {
        "colab": {
          "base_uri": "https://localhost:8080/",
          "height": 52
        },
        "id": "k-WCCI77jHLA",
        "outputId": "65634fd3-834c-439b-874b-e59ca77a0f33"
      },
      "outputs": [
        {
          "data": {
            "text/html": [
              "<strong>message:</strong> 'Visual Style applied.'"
            ],
            "text/latex": [
              "\\textbf{message:} 'Visual Style applied.'"
            ],
            "text/markdown": [
              "**message:** 'Visual Style applied.'"
            ],
            "text/plain": [
              "                message \n",
              "\"Visual Style applied.\" "
            ]
          },
          "metadata": {
            "tags": []
          },
          "output_type": "display_data"
        },
        {
          "data": {
            "text/html": [
              "''"
            ],
            "text/latex": [
              "''"
            ],
            "text/markdown": [
              "''"
            ],
            "text/plain": [
              "[1] \"\""
            ]
          },
          "metadata": {
            "tags": []
          },
          "output_type": "display_data"
        }
      ],
      "source": [
        "setVisualStyle(style.name=\"default\")\n",
        "setNodeShapeDefault(new.shape=\"ELLIPSE\", style.name = \"default\")\n",
        "lockNodeDimensions(new.state=\"TRUE\", style.name = \"default\")\n",
        "setNodeSizeDefault(new.size=\"50\", style.name = \"default\")\n",
        "setNodeColorDefault(new.color=\"#D3D3D3\", style.name = \"default\")\n",
        "setNodeBorderWidthDefault(new.width=\"2\", style.name = \"default\")\n",
        "setNodeBorderColorDefault(new.color=\"#616060\", style.name = \"default\")\n",
        "setNodeLabelMapping(table.column=\"display name\",style.name = \"default\")\n",
        "setNodeFontSizeDefault(new.size=\"14\", style.name = \"default\")"
      ]
    },
    {
      "cell_type": "markdown",
      "metadata": {
        "id": "YwC2xHUGjTXQ"
      },
      "source": [
        "Before we create a mapping for node color representing the range of fold changes, we need the min and max of the logFC column:"
      ]
    },
    {
      "cell_type": "code",
      "execution_count": null,
      "metadata": {
        "id": "hup9meijjHNZ"
      },
      "outputs": [],
      "source": [
        "logFC.table.up <- getTableColumns('node', 'logFC')"
      ]
    },
    {
      "cell_type": "code",
      "execution_count": null,
      "metadata": {
        "id": "005gL2i0jQnR"
      },
      "outputs": [],
      "source": [
        "logFC.up.min <- min(logFC.table.up, na.rm = T)\n",
        "logFC.up.max <- max(logFC.table.up, na.rm = T)\n",
        "logFC.up.center <- logFC.up.min + (logFC.up.max - logFC.up.min)/2"
      ]
    },
    {
      "cell_type": "code",
      "execution_count": null,
      "metadata": {
        "colab": {
          "base_uri": "https://localhost:8080/",
          "height": 69
        },
        "id": "03lydNu4jQpg",
        "outputId": "61678b49-9fe6-431c-c117-32d22a37c281"
      },
      "outputs": [
        {
          "data": {
            "text/html": [
              "''"
            ],
            "text/latex": [
              "''"
            ],
            "text/markdown": [
              "''"
            ],
            "text/plain": [
              "[1] \"\""
            ]
          },
          "metadata": {
            "tags": []
          },
          "output_type": "display_data"
        },
        {
          "data": {
            "text/html": [
              "<strong>message:</strong> 'Visual Style applied.'"
            ],
            "text/latex": [
              "\\textbf{message:} 'Visual Style applied.'"
            ],
            "text/markdown": [
              "**message:** 'Visual Style applied.'"
            ],
            "text/plain": [
              "                message \n",
              "\"Visual Style applied.\" "
            ]
          },
          "metadata": {
            "tags": []
          },
          "output_type": "display_data"
        },
        {
          "data": {
            "text/html": [
              "''"
            ],
            "text/latex": [
              "''"
            ],
            "text/markdown": [
              "''"
            ],
            "text/plain": [
              "[1] \"\""
            ]
          },
          "metadata": {
            "tags": []
          },
          "output_type": "display_data"
        }
      ],
      "source": [
        "copyVisualStyle(from.style = \"default\", to.style = \"de genes up\")\n",
        "setVisualStyle(style.name=\"de genes up\")\n",
        "\n",
        "data.values = c(logFC.up.min, logFC.up.center, logFC.up.max)\n",
        "node.colors <- c(brewer.pal(length(data.values), \"YlOrRd\"))\n",
        "setNodeColorMapping('logFC', data.values, node.colors, style.name=\"de genes up\")"
      ]
    },
    {
      "cell_type": "markdown",
      "metadata": {
        "id": "46HCvGRvje0h"
      },
      "source": [
        "Applying a force-directed layout, the network will now look something like this:\n",
        "\n"
      ]
    },
    {
      "cell_type": "code",
      "execution_count": null,
      "metadata": {
        "id": "RZ33SecijQuX"
      },
      "outputs": [],
      "source": [
        "layoutNetwork(paste('force-directed',\n",
        "              'defaultSpringCoefficient=0.00003',\n",
        "              'defaultSpringLength=50',\n",
        "              'defaultNodeMass=4',\n",
        "              sep=' '))"
      ]
    },
    {
      "cell_type": "markdown",
      "metadata": {
        "id": "4VzxPgtej9F2"
      },
      "source": [
        "## **Enrichment Analysis Options**\n",
        "\n",
        "Next, we are going to perform enrichment anlaysis uing the STRING app.\n",
        "\n"
      ]
    },
    {
      "cell_type": "markdown",
      "metadata": {
        "id": "6aocGoISkAIC"
      },
      "source": [
        "## **STRING Enrichment**\n",
        "The STRING app has built-in enrichment analysis functionality, which includes enrichment for GO Process, GO Component, GO Function, InterPro, KEGG Pathways, and PFAM.\n",
        "\n",
        "First, we will run the enrichment on the whole network, against the genome:"
      ]
    },
    {
      "cell_type": "code",
      "execution_count": null,
      "metadata": {
        "colab": {
          "base_uri": "https://localhost:8080/",
          "height": 69
        },
        "id": "McBIpn0YjQwn",
        "outputId": "5641862a-59fb-4237-a732-a0dced2ad31a"
      },
      "outputs": [
        {
          "data": {
            "text/html": [
              "<style>\n",
              ".list-inline {list-style: none; margin:0; padding: 0}\n",
              ".list-inline>li {display: inline-block}\n",
              ".list-inline>li:not(:last-child)::after {content: \"\\00b7\"; padding: 0 .5ex}\n",
              "</style>\n",
              "<ol class=list-inline><li>'Enrichment results summary:'</li><li><span style=white-space:pre-wrap>'   ppiEnrichment=1.0E-16'</span></li><li><span style=white-space:pre-wrap>'   enrichmentNodes=169'</span></li><li><span style=white-space:pre-wrap>'   enrichmentExpectedEdges=128'</span></li><li><span style=white-space:pre-wrap>'   enrichmentEdges=919'</span></li><li><span style=white-space:pre-wrap>'   enrichmentClusteringCoeff=0.586372912384611'</span></li><li><span style=white-space:pre-wrap>'   enrichmentAvgDegree=10.8757396449704'</span></li><li>'Finished'</li></ol>\n"
            ],
            "text/latex": [
              "\\begin{enumerate*}\n",
              "\\item 'Enrichment results summary:'\n",
              "\\item '   ppiEnrichment=1.0E-16'\n",
              "\\item '   enrichmentNodes=169'\n",
              "\\item '   enrichmentExpectedEdges=128'\n",
              "\\item '   enrichmentEdges=919'\n",
              "\\item '   enrichmentClusteringCoeff=0.586372912384611'\n",
              "\\item '   enrichmentAvgDegree=10.8757396449704'\n",
              "\\item 'Finished'\n",
              "\\end{enumerate*}\n"
            ],
            "text/markdown": [
              "1. 'Enrichment results summary:'\n",
              "2. <span style=white-space:pre-wrap>'   ppiEnrichment=1.0E-16'</span>\n",
              "3. <span style=white-space:pre-wrap>'   enrichmentNodes=169'</span>\n",
              "4. <span style=white-space:pre-wrap>'   enrichmentExpectedEdges=128'</span>\n",
              "5. <span style=white-space:pre-wrap>'   enrichmentEdges=919'</span>\n",
              "6. <span style=white-space:pre-wrap>'   enrichmentClusteringCoeff=0.586372912384611'</span>\n",
              "7. <span style=white-space:pre-wrap>'   enrichmentAvgDegree=10.8757396449704'</span>\n",
              "8. 'Finished'\n",
              "\n",
              "\n"
            ],
            "text/plain": [
              "[1] \"Enrichment results summary:\"                   \n",
              "[2] \"   ppiEnrichment=1.0E-16\"                      \n",
              "[3] \"   enrichmentNodes=169\"                        \n",
              "[4] \"   enrichmentExpectedEdges=128\"                \n",
              "[5] \"   enrichmentEdges=919\"                        \n",
              "[6] \"   enrichmentClusteringCoeff=0.586372912384611\"\n",
              "[7] \"   enrichmentAvgDegree=10.8757396449704\"       \n",
              "[8] \"Finished\"                                      "
            ]
          },
          "metadata": {
            "tags": []
          },
          "output_type": "display_data"
        },
        {
          "data": {
            "text/html": [
              "'Finished'"
            ],
            "text/latex": [
              "'Finished'"
            ],
            "text/markdown": [
              "'Finished'"
            ],
            "text/plain": [
              "[1] \"Finished\""
            ]
          },
          "metadata": {
            "tags": []
          },
          "output_type": "display_data"
        }
      ],
      "source": [
        "string.cmd = 'string retrieve enrichment allNetSpecies=\"Homo sapiens\", background=genome  selectedNodesOnly=\"false\"'\n",
        "commandsRun(string.cmd)\n",
        "string.cmd = 'string show enrichment'\n",
        "commandsRun(string.cmd)"
      ]
    },
    {
      "cell_type": "markdown",
      "metadata": {
        "id": "Y0msJBVGkHUt"
      },
      "source": [
        "When the enrichment analysis is complete, a new tab titled STRING Enrichment will open in the Table Panel.\n",
        "\n",
        "The STRING app includes several options for filtering and displaying the enrichment results. The features are all available at the top of the STRING Enrichment tab.\n",
        "\n",
        "We are going to filter the table to only show GO Process:"
      ]
    },
    {
      "cell_type": "code",
      "execution_count": null,
      "metadata": {
        "colab": {
          "base_uri": "https://localhost:8080/",
          "height": 35
        },
        "id": "J2TnTuwijQyj",
        "outputId": "bd9bba24-224a-412f-a5a4-20ffbcfdb712"
      },
      "outputs": [
        {
          "data": {
            "text/html": [
              "<style>\n",
              ".list-inline {list-style: none; margin:0; padding: 0}\n",
              ".list-inline>li {display: inline-block}\n",
              ".list-inline>li:not(:last-child)::after {content: \"\\00b7\"; padding: 0 .5ex}\n",
              "</style>\n",
              "<ol class=list-inline><li>''</li><li>'Finished'</li></ol>\n"
            ],
            "text/latex": [
              "\\begin{enumerate*}\n",
              "\\item ''\n",
              "\\item 'Finished'\n",
              "\\end{enumerate*}\n"
            ],
            "text/markdown": [
              "1. ''\n",
              "2. 'Finished'\n",
              "\n",
              "\n"
            ],
            "text/plain": [
              "[1] \"\"         \"Finished\""
            ]
          },
          "metadata": {
            "tags": []
          },
          "output_type": "display_data"
        }
      ],
      "source": [
        "string.cmd = 'string filter enrichment categories=\"GO Process\", overlapCutoff = \"0.5\", removeOverlapping = \"true\"'\n",
        "commandsRun(string.cmd)"
      ]
    },
    {
      "cell_type": "markdown",
      "metadata": {
        "id": "A_2PhMIYkPM5"
      },
      "source": [
        "Next, we will add a split donut chart to the nodes representing the top terms:\n",
        "\n"
      ]
    },
    {
      "cell_type": "code",
      "execution_count": null,
      "metadata": {
        "colab": {
          "base_uri": "https://localhost:8080/",
          "height": 35
        },
        "id": "yiIGIjDTjQ05",
        "outputId": "9a6a069e-f5ca-49cb-aede-2e8f4c0d2220"
      },
      "outputs": [
        {
          "data": {
            "text/html": [
              "<style>\n",
              ".list-inline {list-style: none; margin:0; padding: 0}\n",
              ".list-inline>li {display: inline-block}\n",
              ".list-inline>li:not(:last-child)::after {content: \"\\00b7\"; padding: 0 .5ex}\n",
              "</style>\n",
              "<ol class=list-inline><li>''</li><li>'Finished'</li></ol>\n"
            ],
            "text/latex": [
              "\\begin{enumerate*}\n",
              "\\item ''\n",
              "\\item 'Finished'\n",
              "\\end{enumerate*}\n"
            ],
            "text/markdown": [
              "1. ''\n",
              "2. 'Finished'\n",
              "\n",
              "\n"
            ],
            "text/plain": [
              "[1] \"\"         \"Finished\""
            ]
          },
          "metadata": {
            "tags": []
          },
          "output_type": "display_data"
        }
      ],
      "source": [
        "string.cmd = 'string show charts'\n",
        "commandsRun(string.cmd)"
      ]
    },
    {
      "cell_type": "markdown",
      "metadata": {
        "id": "azSUxHuCkimt"
      },
      "source": [
        "## **STRING Protein Query: Down-regulated genes**\n",
        "We are going to repeat the network search, data integration, visualization and enrichment analysis for the set of down-regulated genes by using the first column of [TCGA-Ovarian-MesenvsImmuno-data-down.csv](https://cytoscape.github.io/cytoscape-tutorials/protocols/data/TCGA-Ovarian-MesenvsImmuno-data-down.csv):"
      ]
    },
    {
      "cell_type": "code",
      "execution_count": null,
      "metadata": {
        "colab": {
          "base_uri": "https://localhost:8080/",
          "height": 35
        },
        "id": "JxxqvoVTjQ3J",
        "outputId": "b1070999-9b56-4d4d-fa15-dc25ebf37d7a"
      },
      "outputs": [
        {
          "data": {
            "text/html": [
              "<style>\n",
              ".list-inline {list-style: none; margin:0; padding: 0}\n",
              ".list-inline>li {display: inline-block}\n",
              ".list-inline>li:not(:last-child)::after {content: \"\\00b7\"; padding: 0 .5ex}\n",
              "</style>\n",
              "<ol class=list-inline><li>'Loaded network \\'String Network - 1\\' with 168 nodes and 747 edges'</li><li>'Finished'</li></ol>\n"
            ],
            "text/latex": [
              "\\begin{enumerate*}\n",
              "\\item 'Loaded network \\textbackslash{}'String Network - 1\\textbackslash{}' with 168 nodes and 747 edges'\n",
              "\\item 'Finished'\n",
              "\\end{enumerate*}\n"
            ],
            "text/markdown": [
              "1. 'Loaded network \\'String Network - 1\\' with 168 nodes and 747 edges'\n",
              "2. 'Finished'\n",
              "\n",
              "\n"
            ],
            "text/plain": [
              "[1] \"Loaded network 'String Network - 1' with 168 nodes and 747 edges\"\n",
              "[2] \"Finished\"                                                        "
            ]
          },
          "metadata": {
            "tags": []
          },
          "output_type": "display_data"
        }
      ],
      "source": [
        "de.genes.down <- read.table(\"https://cytoscape.github.io/cytoscape-tutorials/protocols/data/TCGA-Ovarian-MesenvsImmuno-data-down.csv\", header = TRUE, sep = \"\\t\", quote=\"\\\"\", stringsAsFactors = FALSE)\n",
        "string.cmd = paste('string protein query query=\"', paste(de.genes.down$Gene, collapse = '\\n'), '\" cutoff=0.4  species=\"Homo sapiens\"', sep = \"\")\n",
        "commandsRun(string.cmd)"
      ]
    },
    {
      "cell_type": "markdown",
      "metadata": {
        "id": "r55Bi06PkyBv"
      },
      "source": [
        "## **Subnetwork**\n",
        "Let’s select only the connected nodes to work with for the rest of this tutorial, by creating a subnetwork based on all edges:"
      ]
    },
    {
      "cell_type": "code",
      "execution_count": null,
      "metadata": {
        "colab": {
          "base_uri": "https://localhost:8080/",
          "height": 35
        },
        "id": "IIWDLRNGjRC1",
        "outputId": "0abbf984-fa6c-4184-982f-5e0b084eb79e"
      },
      "outputs": [
        {
          "data": {
            "text/html": [
              "<strong>network:</strong> 6684"
            ],
            "text/latex": [
              "\\textbf{network:} 6684"
            ],
            "text/markdown": [
              "**network:** 6684"
            ],
            "text/plain": [
              "network \n",
              "   6684 "
            ]
          },
          "metadata": {
            "tags": []
          },
          "output_type": "display_data"
        }
      ],
      "source": [
        "createSubnetwork(edges='all', subnetwork.name='String de genes down')"
      ]
    },
    {
      "cell_type": "markdown",
      "metadata": {
        "id": "NxEcOzI0k2lp"
      },
      "source": [
        "## **Data integration**\n",
        "Again, the identifiers in the network needs to be mapped to Entrez Gene (NCBI gene):"
      ]
    },
    {
      "cell_type": "code",
      "execution_count": null,
      "metadata": {
        "id": "QNWXVExokztr"
      },
      "outputs": [],
      "source": [
        "mapped.cols <- mapTableColumn('display name', 'Human', 'HGNC', 'Entrez Gene')"
      ]
    },
    {
      "cell_type": "markdown",
      "metadata": {
        "id": "0Abf9qDPk8Qy"
      },
      "source": [
        "We can now import the data:\n",
        "\n"
      ]
    },
    {
      "cell_type": "code",
      "execution_count": null,
      "metadata": {
        "colab": {
          "base_uri": "https://localhost:8080/",
          "height": 35
        },
        "id": "n5uH2YPqkzvX",
        "outputId": "222589c6-e02a-426e-ef1d-335497c871a5"
      },
      "outputs": [
        {
          "data": {
            "text/html": [
              "'Success: Data loaded in defaultnode table'"
            ],
            "text/latex": [
              "'Success: Data loaded in defaultnode table'"
            ],
            "text/markdown": [
              "'Success: Data loaded in defaultnode table'"
            ],
            "text/plain": [
              "[1] \"Success: Data loaded in defaultnode table\""
            ]
          },
          "metadata": {
            "tags": []
          },
          "output_type": "display_data"
        }
      ],
      "source": [
        "loadTableData(de.genes.full,data.key.column=\"Gene\",table.key.column=\"Entrez Gene\")"
      ]
    },
    {
      "cell_type": "markdown",
      "metadata": {
        "id": "IRHvrTMKlEve"
      },
      "source": [
        "## **Visualization**\n",
        "Next, we can create a visualization. Note that the default style has been altered in the previous example, so we can simply switch to default to get started:"
      ]
    },
    {
      "cell_type": "code",
      "execution_count": null,
      "metadata": {
        "colab": {
          "base_uri": "https://localhost:8080/",
          "height": 35
        },
        "id": "o5BbmAwPkzyM",
        "outputId": "bdfff4f8-9262-4e69-e7f2-8a489a7c4c8e"
      },
      "outputs": [
        {
          "data": {
            "text/html": [
              "<strong>message:</strong> 'Visual Style applied.'"
            ],
            "text/latex": [
              "\\textbf{message:} 'Visual Style applied.'"
            ],
            "text/markdown": [
              "**message:** 'Visual Style applied.'"
            ],
            "text/plain": [
              "                message \n",
              "\"Visual Style applied.\" "
            ]
          },
          "metadata": {
            "tags": []
          },
          "output_type": "display_data"
        }
      ],
      "source": [
        "setVisualStyle(style.name=\"default\")"
      ]
    },
    {
      "cell_type": "markdown",
      "metadata": {
        "id": "Z4PMc_LclJ03"
      },
      "source": [
        "The node fill color has to be redefined for down-regulated genes:\n",
        "\n"
      ]
    },
    {
      "cell_type": "code",
      "execution_count": null,
      "metadata": {
        "id": "BQv-XgaJkzzs"
      },
      "outputs": [],
      "source": [
        "logFC.table.down <- getTableColumns('node', 'logFC')"
      ]
    },
    {
      "cell_type": "code",
      "execution_count": null,
      "metadata": {
        "id": "YjTZ4tCbkz2T"
      },
      "outputs": [],
      "source": [
        "logFC.dn.min <- min(logFC.table.down, na.rm = T)\n",
        "logFC.dn.max <- max(logFC.table.down, na.rm = T)\n",
        "logFC.dn.center <- logFC.dn.min + (logFC.dn.max - logFC.dn.min)/2"
      ]
    },
    {
      "cell_type": "code",
      "execution_count": null,
      "metadata": {
        "colab": {
          "base_uri": "https://localhost:8080/",
          "height": 69
        },
        "id": "GacEu4tBkz3y",
        "outputId": "1b532809-ccfd-468d-df98-e53db907165a"
      },
      "outputs": [
        {
          "data": {
            "text/html": [
              "''"
            ],
            "text/latex": [
              "''"
            ],
            "text/markdown": [
              "''"
            ],
            "text/plain": [
              "[1] \"\""
            ]
          },
          "metadata": {
            "tags": []
          },
          "output_type": "display_data"
        },
        {
          "data": {
            "text/html": [
              "<strong>message:</strong> 'Visual Style applied.'"
            ],
            "text/latex": [
              "\\textbf{message:} 'Visual Style applied.'"
            ],
            "text/markdown": [
              "**message:** 'Visual Style applied.'"
            ],
            "text/plain": [
              "                message \n",
              "\"Visual Style applied.\" "
            ]
          },
          "metadata": {
            "tags": []
          },
          "output_type": "display_data"
        },
        {
          "data": {
            "text/html": [
              "''"
            ],
            "text/latex": [
              "''"
            ],
            "text/markdown": [
              "''"
            ],
            "text/plain": [
              "[1] \"\""
            ]
          },
          "metadata": {
            "tags": []
          },
          "output_type": "display_data"
        }
      ],
      "source": [
        "copyVisualStyle(from.style = \"default\", to.style = \"de genes down\")\n",
        "setVisualStyle(style.name=\"de genes down\")\n",
        "\n",
        "data.values = c(logFC.dn.min, logFC.dn.center, logFC.dn.max)\n",
        "node.colors <- c(brewer.pal(length(data.values), \"Blues\"))\n",
        "setNodeColorMapping('logFC', data.values, node.colors, style.name=\"de genes down\")"
      ]
    },
    {
      "cell_type": "markdown",
      "metadata": {
        "id": "T0fc-dYblTFB"
      },
      "source": [
        "Apply a force-directed layout.\n",
        "\n"
      ]
    },
    {
      "cell_type": "code",
      "execution_count": null,
      "metadata": {
        "id": "tMjuRQz2jHRg"
      },
      "outputs": [],
      "source": [
        "layoutNetwork(paste('force-directed',\n",
        "              'defaultSpringCoefficient=0.00003',\n",
        "              'defaultSpringLength=50',\n",
        "              'defaultNodeMass=4',\n",
        "              sep=' '))"
      ]
    },
    {
      "cell_type": "markdown",
      "metadata": {
        "id": "zT8l1W5olglw"
      },
      "source": [
        "## **STRING Enrichment**\n",
        "Now we can perform STRING Enrichment analysis on the resulting network:"
      ]
    },
    {
      "cell_type": "code",
      "execution_count": null,
      "metadata": {
        "colab": {
          "base_uri": "https://localhost:8080/",
          "height": 52
        },
        "id": "tVy8Zq80lcPN",
        "outputId": "11ff1f5d-2f32-4325-9175-bbfb6ad3f6b9"
      },
      "outputs": [
        {
          "data": {
            "text/html": [
              "<style>\n",
              ".list-inline {list-style: none; margin:0; padding: 0}\n",
              ".list-inline>li {display: inline-block}\n",
              ".list-inline>li:not(:last-child)::after {content: \"\\00b7\"; padding: 0 .5ex}\n",
              "</style>\n",
              "<ol class=list-inline><li>'Enrichment results summary:'</li><li><span style=white-space:pre-wrap>'   ppiEnrichment=1.0E-16'</span></li><li><span style=white-space:pre-wrap>'   enrichmentNodes=120'</span></li><li><span style=white-space:pre-wrap>'   enrichmentExpectedEdges=102'</span></li><li><span style=white-space:pre-wrap>'   enrichmentEdges=747'</span></li><li><span style=white-space:pre-wrap>'   enrichmentClusteringCoeff=0.644168434370206'</span></li><li><span style=white-space:pre-wrap>'   enrichmentAvgDegree=12.45'</span></li><li>'Finished'</li></ol>\n"
            ],
            "text/latex": [
              "\\begin{enumerate*}\n",
              "\\item 'Enrichment results summary:'\n",
              "\\item '   ppiEnrichment=1.0E-16'\n",
              "\\item '   enrichmentNodes=120'\n",
              "\\item '   enrichmentExpectedEdges=102'\n",
              "\\item '   enrichmentEdges=747'\n",
              "\\item '   enrichmentClusteringCoeff=0.644168434370206'\n",
              "\\item '   enrichmentAvgDegree=12.45'\n",
              "\\item 'Finished'\n",
              "\\end{enumerate*}\n"
            ],
            "text/markdown": [
              "1. 'Enrichment results summary:'\n",
              "2. <span style=white-space:pre-wrap>'   ppiEnrichment=1.0E-16'</span>\n",
              "3. <span style=white-space:pre-wrap>'   enrichmentNodes=120'</span>\n",
              "4. <span style=white-space:pre-wrap>'   enrichmentExpectedEdges=102'</span>\n",
              "5. <span style=white-space:pre-wrap>'   enrichmentEdges=747'</span>\n",
              "6. <span style=white-space:pre-wrap>'   enrichmentClusteringCoeff=0.644168434370206'</span>\n",
              "7. <span style=white-space:pre-wrap>'   enrichmentAvgDegree=12.45'</span>\n",
              "8. 'Finished'\n",
              "\n",
              "\n"
            ],
            "text/plain": [
              "[1] \"Enrichment results summary:\"                   \n",
              "[2] \"   ppiEnrichment=1.0E-16\"                      \n",
              "[3] \"   enrichmentNodes=120\"                        \n",
              "[4] \"   enrichmentExpectedEdges=102\"                \n",
              "[5] \"   enrichmentEdges=747\"                        \n",
              "[6] \"   enrichmentClusteringCoeff=0.644168434370206\"\n",
              "[7] \"   enrichmentAvgDegree=12.45\"                  \n",
              "[8] \"Finished\"                                      "
            ]
          },
          "metadata": {
            "tags": []
          },
          "output_type": "display_data"
        },
        {
          "data": {
            "text/html": [
              "'Error: no such command: \\'show enrichment\\''"
            ],
            "text/latex": [
              "'Error: no such command: \\textbackslash{}'show enrichment\\textbackslash{}''"
            ],
            "text/markdown": [
              "'Error: no such command: \\'show enrichment\\''"
            ],
            "text/plain": [
              "[1] \"Error: no such command: 'show enrichment'\""
            ]
          },
          "metadata": {
            "tags": []
          },
          "output_type": "display_data"
        }
      ],
      "source": [
        "string.cmd = 'string retrieve enrichment allNetSpecies=\"Homo sapiens\", background=genome  selectedNodesOnly=\"false\"'\n",
        "commandsRun(string.cmd)\n",
        "string.cmd = 'string show enrichment'\n",
        "commandsRun(string.cmd)"
      ]
    },
    {
      "cell_type": "markdown",
      "metadata": {
        "id": "LL1lWOtYljoN"
      },
      "source": [
        "Filter the analysis results for non-redundant GO Process terms only.\n",
        "\n"
      ]
    },
    {
      "cell_type": "code",
      "execution_count": null,
      "metadata": {
        "colab": {
          "base_uri": "https://localhost:8080/",
          "height": 35
        },
        "id": "xpVkZx8glcRl",
        "outputId": "b1e00371-23e5-4c0c-e10a-94a681806089"
      },
      "outputs": [
        {
          "data": {
            "text/html": [
              "<style>\n",
              ".list-inline {list-style: none; margin:0; padding: 0}\n",
              ".list-inline>li {display: inline-block}\n",
              ".list-inline>li:not(:last-child)::after {content: \"\\00b7\"; padding: 0 .5ex}\n",
              "</style>\n",
              "<ol class=list-inline><li>''</li><li>'Finished'</li></ol>\n"
            ],
            "text/latex": [
              "\\begin{enumerate*}\n",
              "\\item ''\n",
              "\\item 'Finished'\n",
              "\\end{enumerate*}\n"
            ],
            "text/markdown": [
              "1. ''\n",
              "2. 'Finished'\n",
              "\n",
              "\n"
            ],
            "text/plain": [
              "[1] \"\"         \"Finished\""
            ]
          },
          "metadata": {
            "tags": []
          },
          "output_type": "display_data"
        }
      ],
      "source": [
        "string.cmd = 'string filter enrichment categories=\"GO Process\", overlapCutoff = \"0.5\", removeOverlapping = \"true\"'\n",
        "commandsRun(string.cmd)"
      ]
    },
    {
      "cell_type": "code",
      "execution_count": null,
      "metadata": {
        "colab": {
          "base_uri": "https://localhost:8080/",
          "height": 35
        },
        "id": "jgvpaN1OlcTt",
        "outputId": "e325c3a6-dfc5-4a45-c2d6-ff3bf6fcade0"
      },
      "outputs": [
        {
          "data": {
            "text/html": [
              "<style>\n",
              ".list-inline {list-style: none; margin:0; padding: 0}\n",
              ".list-inline>li {display: inline-block}\n",
              ".list-inline>li:not(:last-child)::after {content: \"\\00b7\"; padding: 0 .5ex}\n",
              "</style>\n",
              "<ol class=list-inline><li>''</li><li>'Finished'</li></ol>\n"
            ],
            "text/latex": [
              "\\begin{enumerate*}\n",
              "\\item ''\n",
              "\\item 'Finished'\n",
              "\\end{enumerate*}\n"
            ],
            "text/markdown": [
              "1. ''\n",
              "2. 'Finished'\n",
              "\n",
              "\n"
            ],
            "text/plain": [
              "[1] \"\"         \"Finished\""
            ]
          },
          "metadata": {
            "tags": []
          },
          "output_type": "display_data"
        }
      ],
      "source": [
        "string.cmd = 'string show charts'\n",
        "commandsRun(string.cmd)"
      ]
    },
    {
      "cell_type": "markdown",
      "metadata": {
        "id": "yz2qiC9ClnSp"
      },
      "source": [
        "## **STRING Disease Query**\n",
        "So far, we queried the STRING database with a set of genes we knew were differentially expressed. Next, we will query the STRING disease database to retrieve a network genes associated with ovarian cancer, which will be completely independent of our dataset."
      ]
    },
    {
      "cell_type": "code",
      "execution_count": null,
      "metadata": {
        "colab": {
          "base_uri": "https://localhost:8080/",
          "height": 35
        },
        "id": "9Ln-QxiGlcVs",
        "outputId": "61e9fbe7-8a39-4ee5-e5a6-482bd0958480"
      },
      "outputs": [
        {
          "data": {
            "text/html": [
              "<style>\n",
              ".list-inline {list-style: none; margin:0; padding: 0}\n",
              ".list-inline>li {display: inline-block}\n",
              ".list-inline>li:not(:last-child)::after {content: \"\\00b7\"; padding: 0 .5ex}\n",
              "</style>\n",
              "<ol class=list-inline><li>'Loaded network \\'String Network - ovarian cancer\\' with 100 nodes and 316 edges'</li><li>'Finished'</li></ol>\n"
            ],
            "text/latex": [
              "\\begin{enumerate*}\n",
              "\\item 'Loaded network \\textbackslash{}'String Network - ovarian cancer\\textbackslash{}' with 100 nodes and 316 edges'\n",
              "\\item 'Finished'\n",
              "\\end{enumerate*}\n"
            ],
            "text/markdown": [
              "1. 'Loaded network \\'String Network - ovarian cancer\\' with 100 nodes and 316 edges'\n",
              "2. 'Finished'\n",
              "\n",
              "\n"
            ],
            "text/plain": [
              "[1] \"Loaded network 'String Network - ovarian cancer' with 100 nodes and 316 edges\"\n",
              "[2] \"Finished\"                                                                     "
            ]
          },
          "metadata": {
            "tags": []
          },
          "output_type": "display_data"
        }
      ],
      "source": [
        "string.cmd = 'string disease query disease=\"ovarian cancer\" cutoff=\"0.95\"'\n",
        "commandsRun(string.cmd)"
      ]
    },
    {
      "cell_type": "markdown",
      "metadata": {
        "id": "4i7oxloglqgv"
      },
      "source": [
        "This will bring in the top 100 (default) ovarian cancer associated genes connected with a confidence score greater than 0.95. Again, lets extract out the connected nodes:"
      ]
    },
    {
      "cell_type": "code",
      "execution_count": null,
      "metadata": {
        "colab": {
          "base_uri": "https://localhost:8080/",
          "height": 35
        },
        "id": "WEbCjGB8lcXz",
        "outputId": "40d09469-8779-4111-d439-cd9b542c143a"
      },
      "outputs": [
        {
          "data": {
            "text/html": [
              "<strong>network:</strong> 8422"
            ],
            "text/latex": [
              "\\textbf{network:} 8422"
            ],
            "text/markdown": [
              "**network:** 8422"
            ],
            "text/plain": [
              "network \n",
              "   8422 "
            ]
          },
          "metadata": {
            "tags": []
          },
          "output_type": "display_data"
        }
      ],
      "source": [
        "createSubnetwork(edges='all', subnetwork.name='String ovarian sub')"
      ]
    },
    {
      "cell_type": "markdown",
      "metadata": {
        "id": "_cEwaPNblvW-"
      },
      "source": [
        "## **Data integration**\n",
        "Next we will import differential gene expression data from our TCGA dataset to create a visualization. Just like the previous example, we will need to do some identifier mapping to match the data to the network."
      ]
    },
    {
      "cell_type": "code",
      "execution_count": null,
      "metadata": {
        "id": "yW2rdfxilcZ6"
      },
      "outputs": [],
      "source": [
        "mapped.cols <- mapTableColumn(\"display name\",'Human','HGNC','Entrez Gene')"
      ]
    },
    {
      "cell_type": "markdown",
      "metadata": {
        "id": "B3Km1Qlxlzrg"
      },
      "source": [
        "Here we set Human as species, HGNC as Map from, and Entrez Gene as To.\n",
        "\n",
        "We can now import the data frame with the full data (already loaded the data in Example 1 above) into the node table in Cytoscape:"
      ]
    },
    {
      "cell_type": "code",
      "execution_count": null,
      "metadata": {
        "colab": {
          "base_uri": "https://localhost:8080/",
          "height": 35
        },
        "id": "fLHuwpEOlcb2",
        "outputId": "05bdd06c-08f1-4830-f65c-d6e16e2951a4"
      },
      "outputs": [
        {
          "data": {
            "text/html": [
              "'Success: Data loaded in defaultnode table'"
            ],
            "text/latex": [
              "'Success: Data loaded in defaultnode table'"
            ],
            "text/markdown": [
              "'Success: Data loaded in defaultnode table'"
            ],
            "text/plain": [
              "[1] \"Success: Data loaded in defaultnode table\""
            ]
          },
          "metadata": {
            "tags": []
          },
          "output_type": "display_data"
        }
      ],
      "source": [
        "loadTableData(de.genes.full, data.key.column = \"Gene\", table = \"node\", table.key.column = \"Entrez Gene\")"
      ]
    },
    {
      "cell_type": "markdown",
      "metadata": {
        "id": "_HX5YV6Al-gn"
      },
      "source": [
        "## **Visualization**\n",
        "Again, we can create a visualization:"
      ]
    },
    {
      "cell_type": "code",
      "execution_count": null,
      "metadata": {
        "colab": {
          "base_uri": "https://localhost:8080/",
          "height": 35
        },
        "id": "WJLyBE0pl0a_",
        "outputId": "f45c476b-4ab8-4bf1-84c2-c60fc30fbd2b"
      },
      "outputs": [
        {
          "data": {
            "text/html": [
              "<strong>message:</strong> 'Visual Style applied.'"
            ],
            "text/latex": [
              "\\textbf{message:} 'Visual Style applied.'"
            ],
            "text/markdown": [
              "**message:** 'Visual Style applied.'"
            ],
            "text/plain": [
              "                message \n",
              "\"Visual Style applied.\" "
            ]
          },
          "metadata": {
            "tags": []
          },
          "output_type": "display_data"
        }
      ],
      "source": [
        "setVisualStyle(style.name=\"default\")"
      ]
    },
    {
      "cell_type": "markdown",
      "metadata": {
        "id": "q74M8G2RmE6o"
      },
      "source": [
        "Next, we need the min and max of the logFC column:\n",
        "\n"
      ]
    },
    {
      "cell_type": "code",
      "execution_count": null,
      "metadata": {
        "id": "RsypxyAll0de"
      },
      "outputs": [],
      "source": [
        "logFC.table.ovarian <- getTableColumns('node', 'logFC')"
      ]
    },
    {
      "cell_type": "code",
      "execution_count": null,
      "metadata": {
        "id": "n46Q7oGol0fj"
      },
      "outputs": [],
      "source": [
        "logFC.ov.min <- min(logFC.table.ovarian, na.rm = T)\n",
        "logFC.ov.max <- max(logFC.table.ovarian, na.rm = T)\n",
        "logFC.ov.center <- logFC.ov.min + (logFC.ov.max - logFC.ov.min)/2"
      ]
    },
    {
      "cell_type": "markdown",
      "metadata": {
        "id": "OGCqPPxKmLs-"
      },
      "source": [
        "Let’s create the mapping:\n",
        "\n"
      ]
    },
    {
      "cell_type": "code",
      "execution_count": null,
      "metadata": {
        "colab": {
          "base_uri": "https://localhost:8080/",
          "height": 69
        },
        "id": "UTOEjkSglcgt",
        "outputId": "b62b435a-0ba8-443e-a972-94382c1ee8e7"
      },
      "outputs": [
        {
          "data": {
            "text/html": [
              "''"
            ],
            "text/latex": [
              "''"
            ],
            "text/markdown": [
              "''"
            ],
            "text/plain": [
              "[1] \"\""
            ]
          },
          "metadata": {
            "tags": []
          },
          "output_type": "display_data"
        },
        {
          "data": {
            "text/html": [
              "<strong>message:</strong> 'Visual Style applied.'"
            ],
            "text/latex": [
              "\\textbf{message:} 'Visual Style applied.'"
            ],
            "text/markdown": [
              "**message:** 'Visual Style applied.'"
            ],
            "text/plain": [
              "                message \n",
              "\"Visual Style applied.\" "
            ]
          },
          "metadata": {
            "tags": []
          },
          "output_type": "display_data"
        },
        {
          "data": {
            "text/html": [
              "''"
            ],
            "text/latex": [
              "''"
            ],
            "text/markdown": [
              "''"
            ],
            "text/plain": [
              "[1] \"\""
            ]
          },
          "metadata": {
            "tags": []
          },
          "output_type": "display_data"
        }
      ],
      "source": [
        "copyVisualStyle(from.style = \"default\", to.style = \"ovarian\")\n",
        "setVisualStyle(style.name=\"ovarian\")\n",
        "\n",
        "data.values = c(logFC.ov.min, logFC.ov.center, logFC.ov.max)\n",
        "node.colors <- c(brewer.pal(length(data.values), \"RdBu\"))\n",
        "setNodeColorMapping('logFC', data.values, node.colors, style.name=\"ovarian\")"
      ]
    },
    {
      "cell_type": "markdown",
      "metadata": {
        "id": "czpCZAtfmWcM"
      },
      "source": [
        "Apply a force-directed layout.\n",
        "\n"
      ]
    },
    {
      "cell_type": "code",
      "execution_count": null,
      "metadata": {
        "id": "03D1H6CSmNVG"
      },
      "outputs": [],
      "source": [
        "layoutNetwork(paste('force-directed',\n",
        "              'defaultSpringCoefficient=0.00003',\n",
        "              'defaultSpringLength=50',\n",
        "              'defaultNodeMass=4',\n",
        "              sep=' '))"
      ]
    },
    {
      "cell_type": "markdown",
      "metadata": {
        "id": "t2G0ocGNmY5q"
      },
      "source": [
        "The TCGA found several genes that were commonly mutated in ovarian cancer, so called “cancer drivers”. We can add information about these genes to the network visualization, by changing the visual style of these nodes. Three of the most important drivers are TP53, BRCA1 and BRCA2. We will add a thicker, colored border for these genes in the network.\n",
        "\n",
        "Select all three driver genes by:"
      ]
    },
    {
      "cell_type": "code",
      "execution_count": null,
      "metadata": {
        "colab": {
          "base_uri": "https://localhost:8080/",
          "height": 104
        },
        "id": "chEojDpsmNXP",
        "outputId": "68c29138-4749-4c5e-e445-ac289f710595"
      },
      "outputs": [
        {
          "data": {
            "text/plain": [
              "$nodes\n",
              "[1] 7633 7683 7672\n",
              "\n",
              "$edges\n",
              "list()\n"
            ]
          },
          "metadata": {
            "tags": []
          },
          "output_type": "display_data"
        }
      ],
      "source": [
        "selectNodes(c(\"TP53\", \"BRCA1\", \"BRCA2\"), by.col = \"display name\")"
      ]
    },
    {
      "cell_type": "markdown",
      "metadata": {
        "id": "D9eoqWlemb8h"
      },
      "source": [
        "Add a style bypass for node Border Width (5) and node Border Paint (bright pink):\n",
        "\n"
      ]
    },
    {
      "cell_type": "code",
      "execution_count": null,
      "metadata": {
        "id": "oHZDeRZHmNZm"
      },
      "outputs": [],
      "source": [
        "setNodeBorderWidthBypass(getSelectedNodes(), 5)\n",
        "setNodeBorderColorBypass(getSelectedNodes(), '#FF007F')"
      ]
    },
    {
      "cell_type": "markdown",
      "metadata": {
        "id": "eY760nNHmi4h"
      },
      "source": [
        "## **Exporting Networks**\n",
        "Jupyter Bridge RCy3 does not support import and export files now.\n",
        "\n",
        "Please use local Cytoscape to import and export files."
      ]
    }
  ],
  "metadata": {
    "colab": {
      "name": "jupyter-bridge-rcy3.ipynb",
      "provenance": [],
      "include_colab_link": true
    },
    "kernelspec": {
      "display_name": "R",
      "name": "ir"
    }
  },
  "nbformat": 4,
  "nbformat_minor": 0
}