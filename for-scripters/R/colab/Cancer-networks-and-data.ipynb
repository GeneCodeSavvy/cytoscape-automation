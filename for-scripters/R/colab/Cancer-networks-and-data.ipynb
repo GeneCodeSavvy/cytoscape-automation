{
  "cells": [
    {
      "cell_type": "markdown",
      "metadata": {
        "id": "view-in-github",
        "colab_type": "text"
      },
      "source": [
        "<a href=\"https://colab.research.google.com/github/cytoscape/cytoscape-automation/blob/master/for-scripters/R/colab/Cancer-networks-and-data.ipynb\" target=\"_parent\"><img src=\"https://colab.research.google.com/assets/colab-badge.svg\" alt=\"Open In Colab\"/></a>"
      ]
    },
    {
      "cell_type": "markdown",
      "metadata": {
        "lines_to_next_cell": 0,
        "id": "MikA68d4AQ40"
      },
      "source": [
        "# Cancer networks and data\n",
        "## Alexander Pico"
      ]
    },
    {
      "cell_type": "markdown",
      "metadata": {
        "lines_to_next_cell": 0,
        "id": "ThEbYFMoAQ44"
      },
      "source": [
        "*The R markdown is available. [download the Rmd from GitHub](https://raw.githubusercontent.com/cytoscape/cytoscape-automation/master/for-scripters/R/notebooks/Cancer-networks-and-data.Rmd).*\n",
        "\n",
        "<hr />\n",
        "This vignette will demonstrate network retrieval from the STRING database, basic analysis, loading and visualization TCGA data in Cytoscape from R using the RCy3 package. Relevant subnetworks will be identified using different strategies, including network connectivity.\n",
        "\n",
        "At the end of this vignette, you will have will be a visualization of TCGA data on a subnetwork built around highly mutated genes in the relevant cancer type.\n",
        "\n",
        "![](https://cytoscape.github.io/cytoscape-automation/for-scripters/R/notebooks/data/img/brc4.png)\n",
        "\n",
        "<hr />\n",
        "\n",
        "# Installation"
      ]
    },
    {
      "cell_type": "code",
      "execution_count": null,
      "metadata": {
        "id": "Cg4ebJenAQ45",
        "outputId": "3f0068d2-e7b2-4594-8554-4c905a1cf025",
        "colab": {
          "base_uri": "https://localhost:8080/"
        }
      },
      "outputs": [
        {
          "output_type": "stream",
          "name": "stderr",
          "text": [
            "Installing package into ‘/usr/local/lib/R/site-library’\n",
            "(as ‘lib’ is unspecified)\n",
            "\n",
            "'getOption(\"repos\")' replaces Bioconductor standard repositories, see\n",
            "'help(\"repositories\", package = \"BiocManager\")' for details.\n",
            "Replacement repositories:\n",
            "    CRAN: https://cran.rstudio.com\n",
            "\n",
            "Bioconductor version 3.17 (BiocManager 1.30.21), R 4.3.1 (2023-06-16)\n",
            "\n",
            "Installing package(s) 'BiocVersion', 'RCy3'\n",
            "\n",
            "also installing the dependencies ‘bitops’, ‘gtools’, ‘caTools’, ‘RJSONIO’, ‘XML’, ‘BiocGenerics’, ‘graph’, ‘uchardet’, ‘RCurl’, ‘base64url’, ‘gplots’\n",
            "\n",
            "\n",
            "Old packages: 'bit', 'curl', 'dbplyr', 'devtools', 'digest', 'gert', 'highr',\n",
            "  'isoband', 'pkgload', 'readxl', 'roxygen2', 'rstudioapi', 'testthat',\n",
            "  'tidyverse', 'whisker', 'xml2', 'boot', 'foreign', 'KernSmooth', 'Matrix',\n",
            "  'mgcv'\n",
            "\n"
          ]
        }
      ],
      "source": [
        "if(!\"RCy3\" %in% installed.packages()){\n",
        "    install.packages(\"BiocManager\")\n",
        "    BiocManager::install(\"RCy3\")\n",
        "}\n",
        "library(RCy3)"
      ]
    },
    {
      "cell_type": "markdown",
      "metadata": {
        "id": "NL1di4FYAQ46"
      },
      "source": [
        "If you are using a remote notebook environment such as Google Colab, please execute the cell below. (If you're running on your local notebook, you don't need to do that.)"
      ]
    },
    {
      "cell_type": "code",
      "execution_count": null,
      "metadata": {
        "id": "_RYGeNnRAQ47"
      },
      "outputs": [],
      "source": [
        "# Connect to local Cytoscape\n",
        "browserClientJs <- getBrowserClientJs()\n",
        "IRdisplay::display_javascript(browserClientJs)"
      ]
    },
    {
      "cell_type": "markdown",
      "metadata": {
        "id": "bYtmGTIwAQ47"
      },
      "source": [
        "# Required Software\n",
        "The whole point of RCy3 is to connect with Cytoscape. You will need to install and launch Cytoscape:\n",
        "    \n",
        "* Download the latest Cytoscape from http://www.cytoscape.org/download.php\n",
        "* Complete installation wizard\n",
        "* Launch Cytoscape"
      ]
    },
    {
      "cell_type": "code",
      "execution_count": null,
      "metadata": {
        "id": "2k_cf6r5AQ47"
      },
      "outputs": [],
      "source": [
        "cytoscapePing()"
      ]
    },
    {
      "cell_type": "markdown",
      "metadata": {
        "id": "kMEK6z6qAQ48"
      },
      "source": [
        "For this vignette, you'll also need the [STRING app](https://apps.cytoscape.org/apps/stringapp) to access the STRING database from within Cytoscape:"
      ]
    },
    {
      "cell_type": "code",
      "execution_count": null,
      "metadata": {
        "id": "VzUFNAc7AQ48"
      },
      "outputs": [],
      "source": [
        "#available in Cytoscape 3.7.0 and above\n",
        "installApp('STRINGapp')"
      ]
    },
    {
      "cell_type": "markdown",
      "metadata": {
        "lines_to_next_cell": 0,
        "id": "bj2n7T4qAQ49"
      },
      "source": [
        "# Getting Disease Networks\n",
        "\n",
        "Use Cytoscape to query the STRING database for networks of genes associated with breast cancer and ovarian cancer.\n",
        "\n",
        "**If the STRING app is not installed, no error is reported, but your network  will be empty**\n",
        "\n",
        "## Query STRING database by disease to generate networks\n",
        "### Breast cancer"
      ]
    },
    {
      "cell_type": "code",
      "execution_count": null,
      "metadata": {
        "lines_to_next_cell": 0,
        "id": "29w9_bluAQ49"
      },
      "outputs": [],
      "source": [
        "string.cmd = 'string disease query disease=\"breast cancer\" cutoff=0.9 species=\"Homo sapiens\" limit=150'\n",
        "commandsRun(string.cmd)"
      ]
    },
    {
      "cell_type": "markdown",
      "metadata": {
        "lines_to_next_cell": 0,
        "id": "HsiP3VFtAQ49"
      },
      "source": [
        "Here we are using Cytoscape's command line syntax, which can be used for any core or app\n",
        "automation function, and then making a GET request. Use *commandsHelp* to interrogate\n",
        "the functions and parameters available in your active Cytoscape session, including the\n",
        "apps you've installed!\n",
        "\n",
        "![](https://github.com/cytoscape/cytoscape-automation/blob/master/for-scripters/R/notebooks/data/img/brc.png?raw=1)\n",
        "### Ovarian cancer"
      ]
    },
    {
      "cell_type": "code",
      "execution_count": null,
      "metadata": {
        "id": "u_GU_2WZAQ49"
      },
      "outputs": [],
      "source": [
        "string.cmd = 'string disease query disease=\"ovarian cancer\" cutoff=0.9 species=\"Homo sapiens\" limit=150'\n",
        "commandsRun(string.cmd)"
      ]
    },
    {
      "cell_type": "markdown",
      "metadata": {
        "lines_to_next_cell": 0,
        "id": "CBysS302AQ49"
      },
      "source": [
        "![](https://github.com/cytoscape/cytoscape-automation/blob/master/for-scripters/R/notebooks/data/img/ovc.png?raw=1)\n",
        "\n",
        "# Interacting with Cytoscape\n",
        "\n",
        "Now that we've got a couple networks into Cytoscape, let's see what we can do with them from R...\n",
        "\n",
        "## Get list of networks"
      ]
    },
    {
      "cell_type": "code",
      "execution_count": null,
      "metadata": {
        "id": "UnLAp_nuAQ49"
      },
      "outputs": [],
      "source": [
        "getNetworkList()"
      ]
    },
    {
      "cell_type": "markdown",
      "metadata": {
        "lines_to_next_cell": 0,
        "id": "X7FZNa9aAQ4-"
      },
      "source": [
        "## Layout network"
      ]
    },
    {
      "cell_type": "code",
      "execution_count": null,
      "metadata": {
        "id": "inLinNCMAQ4-"
      },
      "outputs": [],
      "source": [
        "layoutNetwork(layout.name='circular')"
      ]
    },
    {
      "cell_type": "markdown",
      "metadata": {
        "lines_to_next_cell": 0,
        "id": "njwMUwRRAQ4-"
      },
      "source": [
        "![](https://github.com/cytoscape/cytoscape-automation/blob/master/for-scripters/R/notebooks/data/img/ovc2.png?raw=1){height=100%}\n",
        "\n",
        "### List of layout algorithms available"
      ]
    },
    {
      "cell_type": "code",
      "execution_count": null,
      "metadata": {
        "id": "hqeqk2-rAQ4-"
      },
      "outputs": [],
      "source": [
        "getLayoutNames()"
      ]
    },
    {
      "cell_type": "markdown",
      "metadata": {
        "lines_to_next_cell": 0,
        "id": "h4Q6_WBKAQ4-"
      },
      "source": [
        "### Layout with parameters!"
      ]
    },
    {
      "cell_type": "code",
      "execution_count": null,
      "metadata": {
        "id": "Nf8tPxWxAQ4-"
      },
      "outputs": [],
      "source": [
        "getLayoutPropertyNames(layout.name='force-directed')\n",
        "layoutNetwork('force-directed defaultSpringCoefficient=0.0000008 defaultSpringLength=120')"
      ]
    },
    {
      "cell_type": "markdown",
      "metadata": {
        "lines_to_next_cell": 0,
        "id": "QM-BexXqAQ4_"
      },
      "source": [
        "## Get table data from network\n",
        "Now, let's look at the tablular data associated with our STRING networks..."
      ]
    },
    {
      "cell_type": "code",
      "execution_count": null,
      "metadata": {
        "id": "P9x6m1ZgAQ4_"
      },
      "outputs": [],
      "source": [
        "getTableColumnNames('node')"
      ]
    },
    {
      "cell_type": "markdown",
      "metadata": {
        "lines_to_next_cell": 0,
        "id": "2N7IiwvbAQ4_"
      },
      "source": [
        "One of the great things about the STRING database is all the node and edge attriubtes they provide. Let's pull some of it into R to play with...\n",
        "\n",
        "### Retrieve disease scores\n",
        "We can retrieve any set of columns from Cytoscape and store them as an R data frame keyed by SUID. In this case, let's retrieve the disease score column from the node table. Those will be our two parameters:"
      ]
    },
    {
      "cell_type": "code",
      "execution_count": null,
      "metadata": {
        "id": "Sz43nV4KAQ4_"
      },
      "outputs": [],
      "source": [
        "disease.score.table <- getTableColumns('node','stringdb::disease score')\n",
        "disease.score.table"
      ]
    },
    {
      "cell_type": "markdown",
      "metadata": {
        "lines_to_next_cell": 0,
        "id": "7L00kHCTAQ4_"
      },
      "source": [
        "### Plot distribution and pick threshold\n",
        "Now you can use R like you normally would explore the data."
      ]
    },
    {
      "cell_type": "code",
      "execution_count": null,
      "metadata": {
        "id": "3iHxN4U0AQ4_"
      },
      "outputs": [],
      "source": [
        "par(mar=c(1,1,1,1))\n",
        "plot(factor(row.names(disease.score.table)),disease.score.table[,1], ylab=colnames(disease.score.table)[1])\n",
        "summary(disease.score.table)"
      ]
    },
    {
      "cell_type": "markdown",
      "metadata": {
        "lines_to_next_cell": 0,
        "id": "UC9m6ENUAQ4_"
      },
      "source": [
        "## Generate subnetworks\n",
        "In order to reflect your exploration back onto the network, let's generate subnetworks...\n",
        "\n",
        "...from top quartile of 'disease score'"
      ]
    },
    {
      "cell_type": "code",
      "execution_count": null,
      "metadata": {
        "id": "Xu3ZSi1gAQ4_"
      },
      "outputs": [],
      "source": [
        "top.quart <- quantile(disease.score.table[,1], 0.75)\n",
        "top.nodes <- row.names(disease.score.table)[which(disease.score.table[,1]>top.quart)]\n",
        "createSubnetwork(top.nodes,subnetwork.name ='top disease quartile')\n",
        "#returns a Cytoscape network SUID"
      ]
    },
    {
      "cell_type": "markdown",
      "metadata": {
        "lines_to_next_cell": 0,
        "id": "P6JSXp8EAQ5A"
      },
      "source": [
        "...of connected nodes only"
      ]
    },
    {
      "cell_type": "code",
      "execution_count": null,
      "metadata": {
        "id": "TFsqItUuAQ5A"
      },
      "outputs": [],
      "source": [
        "createSubnetwork(edges='all',subnetwork.name='top disease quartile connected')  #handy way to exclude unconnected nodes!"
      ]
    },
    {
      "cell_type": "markdown",
      "metadata": {
        "lines_to_next_cell": 0,
        "id": "pik4IAz1AQ5A"
      },
      "source": [
        "...from first neighbors of top 3 genes, using the network connectivity together with the data to direct discovery."
      ]
    },
    {
      "cell_type": "code",
      "execution_count": null,
      "metadata": {
        "id": "oUK81qx0AQ5A"
      },
      "outputs": [],
      "source": [
        "setCurrentNetwork(network=\"STRING network - ovarian cancer\")\n",
        "top.nodes <- row.names(disease.score.table)[tail(order(disease.score.table[,1]),3)]\n",
        "selectNodes(nodes=top.nodes)\n",
        "selectFirstNeighbors()\n",
        "createSubnetwork('selected', subnetwork.name='top disease neighbors') # selected nodes, all connecting edges (default)"
      ]
    },
    {
      "cell_type": "markdown",
      "metadata": {
        "lines_to_next_cell": 0,
        "id": "QMlGNpgjAQ5A"
      },
      "source": [
        "...from diffusion algorithm starting with top 3 genes, using the network connectivity in a more subtle way than just first-degree neighbors."
      ]
    },
    {
      "cell_type": "code",
      "execution_count": null,
      "metadata": {
        "id": "RibC4V9WAQ5A"
      },
      "outputs": [],
      "source": [
        "setCurrentNetwork(network=\"STRING network - ovarian cancer\")\n",
        "selectNodes(nodes=top.nodes)\n",
        "diffusionBasic() # diffusion!\n",
        "createSubnetwork('selected',subnetwork.name = 'top disease diffusion')\n",
        "layoutNetwork('force-directed')"
      ]
    },
    {
      "cell_type": "markdown",
      "metadata": {
        "id": "ynPSGMLgAQ5A"
      },
      "source": [
        "![](https://github.com/cytoscape/cytoscape-automation/blob/master/for-scripters/R/notebooks/data/img/ovc4.png?raw=1)\n",
        "\n",
        "*Pro-tip*: don't forget to **setCurrentNetwork()** to the correct parent network before getting table column data and making selections.\n",
        "\n",
        "# Visualizing data on networks\n",
        "\n",
        "## Load datasets\n",
        "Downloaded TCGA data, preprocessed as R objects. Also available via each TCGA publication, e.g.:\n",
        "\n",
        "* Breast: https://tcga-data.nci.nih.gov/docs/publications/brca_2012/\n",
        "* Ovarian: https://tcga-data.nci.nih.gov/docs/publications/ov_2011/"
      ]
    },
    {
      "cell_type": "code",
      "execution_count": null,
      "metadata": {
        "lines_to_next_cell": 2,
        "id": "iBxG7w_YAQ5A"
      },
      "outputs": [],
      "source": [
        "load(system.file(\"extdata\",\"tutorial-ovc-expr-mean-dataset.robj\", package=\"RCy3\"))\n",
        "load(system.file(\"extdata\",\"tutorial-ovc-mut-dataset.robj\", package=\"RCy3\"))\n",
        "load(system.file(\"extdata\",\"tutorial-brc-expr-mean-dataset.robj\", package=\"RCy3\"))\n",
        "load(system.file(\"extdata\",\"tutorial-brc-mut-dataset.robj\", package=\"RCy3\"))"
      ]
    },
    {
      "cell_type": "markdown",
      "metadata": {
        "lines_to_next_cell": 0,
        "id": "i-c5AeESAQ5A"
      },
      "source": [
        "## Breast Cancer Datset\n",
        "These datasets are similar to the data frames you normally encounter in R. For diversity, one using row.names to store corresponding gene names and the other uses the first column. Both are easy to import into Cytoscape."
      ]
    },
    {
      "cell_type": "code",
      "execution_count": null,
      "metadata": {
        "id": "fM3qlbyUAQ5A"
      },
      "outputs": [],
      "source": [
        "str(brc.expr)  # gene names in row.names of data.frame\n",
        "str(brc.mut)  # gene names in column named 'Hugo_Symbol'"
      ]
    },
    {
      "cell_type": "markdown",
      "metadata": {
        "lines_to_next_cell": 0,
        "id": "sdRBxoy3AQ5F"
      },
      "source": [
        "Let's return to the Breast Cancer network..."
      ]
    },
    {
      "cell_type": "code",
      "execution_count": null,
      "metadata": {
        "id": "lZRxTbt0AQ5F"
      },
      "outputs": [],
      "source": [
        "setCurrentNetwork(network=\"STRING network - breast cancer\")\n",
        "layoutNetwork('force-directed') #uses same settings as previously set"
      ]
    },
    {
      "cell_type": "markdown",
      "metadata": {
        "lines_to_next_cell": 0,
        "id": "2xfvl9jwAQ5F"
      },
      "source": [
        "...and use the helper function from RCy3 called *loadTableData*"
      ]
    },
    {
      "cell_type": "code",
      "execution_count": null,
      "metadata": {
        "id": "qpwuQdboAQ5F"
      },
      "outputs": [],
      "source": [
        "?loadTableData\n",
        "loadTableData(brc.expr,table.key.column = \"display name\")  #default data.frame key is row.names\n",
        "loadTableData(brc.mut,'Hugo_Symbol',table.key.column = \"display name\")  #specify column name if not default"
      ]
    },
    {
      "cell_type": "markdown",
      "metadata": {
        "lines_to_next_cell": 0,
        "id": "CjjOajZpAQ5F"
      },
      "source": [
        "### Visual styles\n",
        "Let's create a new style to visualize our imported data\n",
        "...starting with the basics, we will specify a few defaults and obvious mappings in a custom style all our own."
      ]
    },
    {
      "cell_type": "code",
      "execution_count": null,
      "metadata": {
        "id": "CuzPBoVEAQ5G"
      },
      "outputs": [],
      "source": [
        "style.name = \"dataStyle\"\n",
        "createVisualStyle(style.name)\n",
        "setVisualStyle(style.name)\n",
        "\n",
        "setNodeShapeDefault(\"ellipse\", style.name) #remember to specify your style.name!\n",
        "setNodeSizeDefault(60, style.name)\n",
        "setNodeColorDefault(\"#AAAAAA\", style.name)\n",
        "setEdgeLineWidthDefault(2, style.name)\n",
        "setEdgeOpacityDefault(50, style.name)\n",
        "setNodeLabelMapping('display name', style.name)"
      ]
    },
    {
      "cell_type": "markdown",
      "metadata": {
        "id": "87VdwdUvAQ5G"
      },
      "source": [
        "#### Visualize expression data\n",
        "Now let's update the style with a mapping for mean expression using a standard Color Brewer palette."
      ]
    },
    {
      "cell_type": "code",
      "execution_count": null,
      "metadata": {
        "lines_to_next_cell": 0,
        "id": "b0Jk4yf8AQ5G"
      },
      "outputs": [],
      "source": [
        "setNodeColorMapping('expr.mean', colors=paletteColorBrewerRdBu, style.name=style.name)"
      ]
    },
    {
      "cell_type": "markdown",
      "metadata": {
        "id": "Xakq2UUyAQ5G"
      },
      "source": [
        "<center>\n",
        "![](./data/img/brc2.png){height=100%}\n",
        "</center>"
      ]
    },
    {
      "cell_type": "markdown",
      "metadata": {
        "lines_to_next_cell": 0,
        "id": "2pHHn4nJAQ5G"
      },
      "source": [
        "### Visualize mutation data\n",
        "OK, now let's update with a mapping for mutation. Here are all the same steps, but this time mapping mutation counts to *both* node border width and color."
      ]
    },
    {
      "cell_type": "code",
      "execution_count": null,
      "metadata": {
        "lines_to_next_cell": 0,
        "id": "TOG0sCdTAQ5G"
      },
      "outputs": [],
      "source": [
        "setNodeBorderColorMapping('mut_count', colors = paletteColorBrewerReds, style.name=style.name)\n",
        "setNodeBorderWidthMapping('mut_count', widths = c(2,8), style.name=style.name) # min and max width values are arbitrarily provided here"
      ]
    },
    {
      "cell_type": "markdown",
      "metadata": {
        "lines_to_next_cell": 0,
        "id": "p3Ew00k3AQ5H"
      },
      "source": [
        "This is a useful pair of visual properties to map to a single data column. See why?\n",
        "\n",
        "![](https://github.com/cytoscape/cytoscape-automation/blob/master/for-scripters/R/notebooks/data/img/brc3.png?raw=1)\n",
        "\n",
        "### Subnetwork based on diffusion from heavily mutated nodes\n",
        "Now, let's pull in what we learned about subnetwork selection and apply it here..."
      ]
    },
    {
      "cell_type": "code",
      "execution_count": null,
      "metadata": {
        "id": "SNP0YfwhAQ5H"
      },
      "outputs": [],
      "source": [
        "top.mut <- (brc.mut$Hugo_Symbol)[tail(order(brc.mut$mut_count),2)]\n",
        "top.mut\n",
        "selectNodes(nodes=top.mut,'display name')\n",
        "diffusionBasic()\n",
        "createSubnetwork('selected',subnetwork.name = 'top mutated diffusion')\n",
        "layoutNetwork('force-directed defaultSpringCoefficient=0.000008 defaultSpringLength=60')"
      ]
    },
    {
      "cell_type": "markdown",
      "metadata": {
        "lines_to_next_cell": 0,
        "id": "DwHGLqzDAQ5H"
      },
      "source": [
        "The top mutated genes are based on TCGA data and the diffusion algorithm is operating based on the network connectivity from STRING data, leading to a focused subnetwork view of critical Breast Cancer genes with mean patient expression data mapped to fill color. Now *that's* data integration!\n",
        "\n",
        "![](https://github.com/cytoscape/cytoscape-automation/blob/master/for-scripters/R/notebooks/data/img/brc4.png?raw=1)\n",
        "**Pro-tip: You can generate a legend for this in Cytoscape Style tab > Options > Create style...  This is no yet available as a command.**\n",
        "\n",
        "## Ovarian Cancer Datset\n",
        "But what about the other network and datasets? Do we have to repeat *all* of those steps again?  Actually, no!\n",
        "\n",
        "First, let's switch back over to the Ovarian Cancer network and load our data."
      ]
    },
    {
      "cell_type": "code",
      "execution_count": null,
      "metadata": {
        "id": "dpiJirMhAQ5H"
      },
      "outputs": [],
      "source": [
        "setCurrentNetwork(network=\"STRING network - ovarian cancer\")\n",
        "clearSelection()\n",
        "str(ovc.expr)  # gene names in row.names of data.frame\n",
        "str(ovc.mut)  # gene names in column named 'Hugo_Symbol'\n",
        "\n",
        "loadTableData(ovc.expr, table.key.column = 'display name')\n",
        "loadTableData(ovc.mut,'Hugo_Symbol', table.key.column = 'display name')"
      ]
    },
    {
      "cell_type": "markdown",
      "metadata": {
        "lines_to_next_cell": 0,
        "id": "tE3WvkK7AQ5H"
      },
      "source": [
        "**Because we used the same column names in our original data frames, now we can simply apply the *same* visual style created above!**"
      ]
    },
    {
      "cell_type": "code",
      "execution_count": null,
      "metadata": {
        "id": "NGrqxLuCAQ5H"
      },
      "outputs": [],
      "source": [
        "setVisualStyle(style.name=style.name)"
      ]
    },
    {
      "cell_type": "markdown",
      "metadata": {
        "lines_to_next_cell": 0,
        "id": "WDXVKeoNAQ5H"
      },
      "source": [
        "![](https://github.com/cytoscape/cytoscape-automation/blob/master/for-scripters/R/notebooks/data/img/ovc3.png?raw=1)\n",
        "Reusing the same style for both breast and ovarian cancers, we can compare the relative expression and mutation counts across the two datasets.\n",
        "For example, notice in the case of ovarian cancer: **decreased** range of mean expression and **fewer** mega-mutated genes.\n",
        "\n",
        "# Saving, sharing and publishing\n",
        "\n",
        "## Saving a Cytoscape session file\n",
        "Session files save *everything*. As with most project software, we recommend saving often!"
      ]
    },
    {
      "cell_type": "code",
      "execution_count": null,
      "metadata": {
        "lines_to_next_cell": 0,
        "id": "PmPTThXSAQ5I"
      },
      "outputs": [],
      "source": [
        "saveSession('tutorial_session') #.cys"
      ]
    },
    {
      "cell_type": "markdown",
      "metadata": {
        "lines_to_next_cell": 0,
        "id": "V1NNC5j5AQ5I"
      },
      "source": [
        "**Note:** If you don't specify a complete path, the files will be saved relative to your current working directory in R.\n",
        "\n",
        "## Saving high resolution image files\n",
        "You can export extremely high resolution images, including vector graphic formats."
      ]
    },
    {
      "cell_type": "code",
      "execution_count": null,
      "metadata": {
        "id": "EmMeemVzAQ5I"
      },
      "outputs": [],
      "source": [
        "exportImage(filename='tutorial_image2', type = 'PDF') #.pdf\n",
        "?exportImage"
      ]
    }
  ],
  "metadata": {
    "jupytext": {
      "cell_metadata_filter": "tags,-all",
      "main_language": "R",
      "notebook_metadata_filter": "-all"
    },
    "kernelspec": {
      "display_name": "R",
      "name": "ir"
    },
    "language_info": {
      "name": "R"
    },
    "colab": {
      "provenance": [],
      "include_colab_link": true
    }
  },
  "nbformat": 4,
  "nbformat_minor": 0
}