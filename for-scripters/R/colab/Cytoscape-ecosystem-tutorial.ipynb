{
  "cells": [
    {
      "cell_type": "markdown",
      "metadata": {
        "id": "view-in-github",
        "colab_type": "text"
      },
      "source": [
        "<a href=\"https://colab.research.google.com/github/cytoscape/cytoscape-automation/blob/master/for-scripters/R/colab/Cytoscape-ecosystem-tutorial.ipynb\" target=\"_parent\"><img src=\"https://colab.research.google.com/assets/colab-badge.svg\" alt=\"Open In Colab\"/></a>"
      ]
    },
    {
      "cell_type": "markdown",
      "metadata": {
        "lines_to_next_cell": 0,
        "id": "WYvmDteNJa4p"
      },
      "source": [
        "# Cytoscape Ecosystem Tutorial\n",
        "## Alexander Pico\n"
      ]
    },
    {
      "cell_type": "markdown",
      "metadata": {
        "id": "qexHhnzyJa4s"
      },
      "source": [
        "*The R markdown is available. [download the Rmd from GitHub](https://raw.githubusercontent.com/cytoscape/cytoscape-automation/master/for-scripters/R/notebooks/ismb-network-analysis-tutorial.Rmd).*\n",
        "\n",
        "# Cytoscape Ecosytem\n",
        "Cytoscape is a well-known bioinformatics tool for displaying and exploring biological networks. The Cytoscape Ecosytem extends beyond the desktop software to include web apps (like cytoscape.js), community-contributed collections of networks (NDEx) and apps (AppStore), and the CyREST programmatic interface. Programmatic access and interactive display via R, Python and JS enable a braod range of applications in network anlaysis and visualization, leveraging the Cytoscape Ecosystem."
      ]
    },
    {
      "cell_type": "markdown",
      "metadata": {
        "lines_to_next_cell": 0,
        "id": "l0KnqlSjJa4t"
      },
      "source": [
        "# Installation\n",
        "**RCy3** is a Bioconductor package that connects R to a locally running instance of the Cytoscape desktop software via CyREST."
      ]
    },
    {
      "cell_type": "code",
      "execution_count": null,
      "metadata": {
        "id": "oPzvcTAOJa4t"
      },
      "outputs": [],
      "source": [
        "if(!\"RCy3\" %in% installed.packages()){\n",
        "    install.packages(\"BiocManager\")\n",
        "    BiocManager::install(\"RCy3\")\n",
        "}\n",
        "library(RCy3)"
      ]
    },
    {
      "cell_type": "markdown",
      "metadata": {
        "id": "XCFguxz0Ja4u"
      },
      "source": [
        "If you are using a remote notebook environment such as Google Colab, please execute the cell below. (If you're running on your local notebook, you don't need to do that.)"
      ]
    },
    {
      "cell_type": "code",
      "execution_count": null,
      "metadata": {
        "id": "JVCqV1fvJa4v"
      },
      "outputs": [],
      "source": [
        "# Connect to local Cytoscape\n",
        "browserClientJs <- getBrowserClientJs()\n",
        "IRdisplay::display_javascript(browserClientJs)"
      ]
    },
    {
      "cell_type": "markdown",
      "metadata": {
        "lines_to_next_cell": 0,
        "id": "CmI05qlAJa4v"
      },
      "source": [
        "The whole point of RCy3 is to connect with Cytoscape. You will need to install and launch Cytoscape:\n",
        "\n",
        "* Download the latest Cytoscape from http://www.cytoscape.org/download.php\n",
        "* Complete installation wizard\n",
        "* Launch Cytoscape\n",
        "\n",
        "Confirm your connection with the *cytoscapePing* funciton:"
      ]
    },
    {
      "cell_type": "code",
      "execution_count": null,
      "metadata": {
        "id": "QNuoul63Ja4v"
      },
      "outputs": [],
      "source": [
        "cytoscapePing()"
      ]
    },
    {
      "cell_type": "markdown",
      "metadata": {
        "id": "Ry3fm5A_Ja4w"
      },
      "source": [
        "# PART I\n",
        "Here, we will access NDEx and control Cytoscape using just a few of the hundreds of methods available in RCy3.\n",
        "\n",
        "## Load Network from NDEx\n",
        "We will import a network from NDEx into the Cytoscape environment. Networks are provided a Universal Unique ID (UUID) by NDEx that can be used to reliably reference a particular network. The import method returns a Cytoscape Session Unique ID (SUID) for the imported network, enabling us to reference it in subsequent steps within a given Cytoscape session."
      ]
    },
    {
      "cell_type": "code",
      "execution_count": null,
      "metadata": {
        "id": "-Go7vxSwJa4w"
      },
      "outputs": [],
      "source": [
        "NETWORK_UUID = 'b1e9a489-bbe7-11ea-aaef-0ac135e8bacf' # UUID provided by NDEx\n",
        "network_suid <- importNetworkFromNDEx(NETWORK_UUID)"
      ]
    },
    {
      "cell_type": "markdown",
      "metadata": {
        "lines_to_next_cell": 0,
        "id": "Gd5QYPaUJa4w"
      },
      "source": [
        "## Copy Visual Style\n",
        "One of the easiest ways to apply a visual style to a network is to copy that style from another network. This lets you work on the style of your network in Cytoscape using the interactive style editor, then save the network to NDEx for future use as a template.\n",
        "\n",
        "The name of the template network becomes the name of its style and the *set* method assigns that style to another network, specified by that network's SUID."
      ]
    },
    {
      "cell_type": "code",
      "execution_count": null,
      "metadata": {
        "id": "jLkhdCosJa4w"
      },
      "outputs": [],
      "source": [
        "STYLE_NETWORK_UUID = 'b1c1aa27-bbe7-11ea-aaef-0ac135e8bacf'\n",
        "style_network_suid <- importNetworkFromNDEx(STYLE_NETWORK_UUID)\n",
        "style_network_name <- getNetworkName(style_network_suid)\n",
        "setVisualStyle(paste0(style_network_name,'-Style'), network=network_suid)\n",
        "setCurrentNetwork(network_suid)"
      ]
    },
    {
      "cell_type": "markdown",
      "metadata": {
        "lines_to_next_cell": 0,
        "id": "BGfobqtxJa4x"
      },
      "source": [
        "## Apply Layout\n",
        "We can easily access the layouts available in Cytoscape."
      ]
    },
    {
      "cell_type": "code",
      "execution_count": null,
      "metadata": {
        "id": "AQdALJ_OJa4x"
      },
      "outputs": [],
      "source": [
        "getLayoutNames() # explore available layouts\n",
        "layoutNetwork('force-directed', network=network_suid)"
      ]
    },
    {
      "cell_type": "markdown",
      "metadata": {
        "lines_to_next_cell": 0,
        "id": "_ZarL08cJa4x"
      },
      "source": [
        "Cytoscape layouts also have parameters that can be tuned for each network"
      ]
    },
    {
      "cell_type": "code",
      "execution_count": null,
      "metadata": {
        "id": "PK3zIVI3Ja4x"
      },
      "outputs": [],
      "source": [
        "getLayoutPropertyNames('force-directed') # explore parameter options\n",
        "layoutNetwork('force-directed defaultSpringCoefficient=1E-5', network=network_suid)"
      ]
    },
    {
      "cell_type": "markdown",
      "metadata": {
        "id": "jI7wekVpJa4x"
      },
      "source": [
        "## Save Network to NDEx\n",
        "There is a one-step method to save networks from Cytoscape to NDEx. You can also control whether the network is publicly accessible or private to your account.\n",
        "\n",
        "**Note:** By itself, \"public\" does not mean that users can find the network by searching NDEx. This is so that searches are not cluttered by networks that were convenient to make public but which are not intended for general use. To make a network findable in searches, you need to go to your account on the NDEx site and change that setting. In the context of a tutorial where you access NDEx programmatically, you can see how important this is: no one wants to find the 20,000 networks you accidentally loaded to your account because of a bug in your code."
      ]
    },
    {
      "cell_type": "code",
      "execution_count": null,
      "metadata": {
        "id": "yLdTCPhMJa4x"
      },
      "outputs": [],
      "source": [
        "new_name <- paste0(getNetworkName(network_suid),'-tutorial')\n",
        "renameNetwork(new_name)"
      ]
    },
    {
      "cell_type": "code",
      "execution_count": null,
      "metadata": {
        "lines_to_next_cell": 2,
        "id": "DYXk2aCXJa4x"
      },
      "outputs": [],
      "source": [
        "USERNAME <- readline('Enter your NDEx username: ')\n",
        "PASSWORD <- readline('Enter your NDEx password: ')\n",
        "new_network_uuid <- exportNetworkToNDEx(USERNAME, PASSWORD, isPublic=FALSE, network=network_suid)"
      ]
    },
    {
      "cell_type": "markdown",
      "metadata": {
        "id": "MJrept4lJa4y"
      },
      "source": [
        "# PART II\n",
        "In addition to working with networks from NDEx, you can also load networks from local or hosted flatfiles in a variety of formats and annotate them with data, just like you would using the Cytoscape GUI.\n",
        "\n",
        "## Load PPI Network\n",
        "Tabular data can be read in as a dataframe and then loaded as a network in Cytoscape.\n",
        "\n",
        "**Note:** A column named \"source\" automatically becomes the source node column; \"target\" becomes the target node column, and \"interaction\" becomes the edge interactions column. All other columns become edge attributes."
      ]
    },
    {
      "cell_type": "code",
      "execution_count": null,
      "metadata": {
        "lines_to_next_cell": 0,
        "id": "2Krq5PbRJa4y"
      },
      "outputs": [],
      "source": [
        "PPI_DATA_URL = 'https://raw.githubusercontent.com/cytoscape/cytoscape-automation/master/for-scripters/Python/data/ap-ms-demo-data.csv'\n",
        "ppi_data <- read.csv(PPI_DATA_URL, stringsAsFactors = F)\n",
        "ppi_data\n",
        "colnames(ppi_data)[1:2] <- c('source','target')\n",
        "ppi_data"
      ]
    },
    {
      "cell_type": "code",
      "execution_count": null,
      "metadata": {
        "id": "3H_kEgzmJa4y"
      },
      "outputs": [],
      "source": [
        "ppi_suid <- createNetworkFromDataFrames(edges=ppi_data,\n",
        "                            title = 'AP-MS Demo Data-tutorial',\n",
        "                            collection = 'AP-MS Demo Data')"
      ]
    },
    {
      "cell_type": "markdown",
      "metadata": {
        "id": "vll5oOxqJa4y"
      },
      "source": [
        "## Load Expression Data\n",
        "Now, the network can be annotated with expression data, provided a column in the datset matches a column in the network's Node Table."
      ]
    },
    {
      "cell_type": "code",
      "execution_count": null,
      "metadata": {
        "id": "Cyt0o20pJa4y"
      },
      "outputs": [],
      "source": [
        "EXPRESSION_DATA_URL = 'https://raw.githubusercontent.com/cytoscape/cytoscape-automation/master/for-scripters/Python/data/annotation-data.csv'\n",
        "exp_data <- read.csv(EXPRESSION_DATA_URL, stringsAsFactors = F)\n",
        "exp_data"
      ]
    },
    {
      "cell_type": "markdown",
      "metadata": {
        "id": "63qVt8uGJa4y"
      },
      "source": [
        "In this example, the column \"GeneSymbol\" matches the source nodes in our network in a default \"name\" column."
      ]
    },
    {
      "cell_type": "code",
      "execution_count": null,
      "metadata": {
        "id": "cnAFWjm5Ja4y"
      },
      "outputs": [],
      "source": [
        "loadTableData(exp_data, data.key.column = 'GeneSymbol')"
      ]
    },
    {
      "cell_type": "markdown",
      "metadata": {
        "id": "XLDnEJrAJa4z"
      },
      "source": [
        "## Save Network to NDEx\n",
        "Again, we can save this network to NDEx as well, including the network and associated expression data."
      ]
    },
    {
      "cell_type": "code",
      "execution_count": null,
      "metadata": {
        "id": "ftio6xtFJa4z"
      },
      "outputs": [],
      "source": [
        "USERNAME <- readline('Enter your NDEx username: ')\n",
        "PASSWORD <- readline('Enter your NDEx password: ')\n",
        "ppi_data_uuid <- exportNetworkToNDEx(USERNAME, PASSWORD, isPublic=FALSE, network=ppi_suid)"
      ]
    },
    {
      "cell_type": "markdown",
      "metadata": {
        "id": "Gf1TN-mNJa4z"
      },
      "source": [
        "# PART III\n",
        "We have demonstrating working with networks and datasets in Cytoscape via scripting. Of course, you can also represent networks at data objects in your scripting environment for bioinformatic analysis.\n",
        "\n",
        "## Retrieve Network from NDEx\n",
        "In order to retrieve networks from NDEx and represent them in R, we will need to install the *ndexr* package."
      ]
    },
    {
      "cell_type": "code",
      "execution_count": null,
      "metadata": {
        "id": "euLPSWUOJa4z"
      },
      "outputs": [],
      "source": [
        "if(!\"ndexr\" %in% installed.packages()){\n",
        "    install.packages(\"BiocManager\")\n",
        "    BiocManager::install(\"ndexr\")\n",
        "}\n",
        "library(ndexr)"
      ]
    },
    {
      "cell_type": "markdown",
      "metadata": {
        "lines_to_next_cell": 0,
        "id": "FElHI6CdJa4z"
      },
      "source": [
        "You can start with NDEx by first establishing a connection."
      ]
    },
    {
      "cell_type": "code",
      "execution_count": null,
      "metadata": {
        "lines_to_next_cell": 0,
        "id": "j1tBCUs3Ja4z"
      },
      "outputs": [],
      "source": [
        "ndexcon <- ndex_connect()"
      ]
    },
    {
      "cell_type": "markdown",
      "metadata": {
        "lines_to_next_cell": 0,
        "id": "gtO_W8TuJa4z"
      },
      "source": [
        "We will use ndexcon throughout the other ndexr calls. For example, a basic search."
      ]
    },
    {
      "cell_type": "code",
      "execution_count": null,
      "metadata": {
        "lines_to_next_cell": 0,
        "id": "pBxnTzkMJa4z"
      },
      "outputs": [],
      "source": [
        "networks <- ndex_find_networks(ndexcon, \"Breast Cancer\")\n",
        "print(networks[,c(\"name\",\"externalId\",\"nodeCount\",\"edgeCount\")])"
      ]
    },
    {
      "cell_type": "markdown",
      "metadata": {
        "lines_to_next_cell": 0,
        "id": "j_vcnLK2Ja4z"
      },
      "source": [
        "That print statement provides a nifty way to browse the search results. You’ll notice that we got results that hit each of the search terms individually, thus including any pathway with “cancer” in the name. That’s perhaps a bit too broad…"
      ]
    },
    {
      "cell_type": "code",
      "execution_count": null,
      "metadata": {
        "lines_to_next_cell": 0,
        "id": "t0YzgrK6Ja40"
      },
      "outputs": [],
      "source": [
        "networks <- ndex_find_networks(ndexcon, \"BRCA\")\n",
        "print(networks[,c(\"name\",\"externalId\",\"nodeCount\",\"edgeCount\")])"
      ]
    },
    {
      "cell_type": "markdown",
      "metadata": {
        "lines_to_next_cell": 0,
        "id": "qJoo9KIPJa40"
      },
      "source": [
        "Ok. We can work with this list. Let’s use the first hit. Note: you are going to get different hits as this database changes over time, so proceed with any hit you like."
      ]
    },
    {
      "cell_type": "code",
      "execution_count": null,
      "metadata": {
        "lines_to_next_cell": 0,
        "id": "EVw5JwMXJa40"
      },
      "outputs": [],
      "source": [
        "networkId = networks$externalId[1]\n",
        "network = ndex_get_network(ndexcon, networkId)\n",
        "print(network)"
      ]
    },
    {
      "cell_type": "markdown",
      "metadata": {
        "lines_to_next_cell": 0,
        "id": "BY5eG-mwJa40"
      },
      "source": [
        "The *network* is an RCX object. Explore the RCX object to see its contents."
      ]
    },
    {
      "cell_type": "code",
      "execution_count": null,
      "metadata": {
        "id": "ACUC-JkZJa45"
      },
      "outputs": [],
      "source": [
        "str(network)\n",
        "network$metaData\n",
        "network$nodes\n",
        "network$edges"
      ]
    },
    {
      "cell_type": "markdown",
      "metadata": {
        "id": "XAaXalLNJa45"
      },
      "source": [
        "**Note:** RCX can be coverted to two flavors of igraph objects using *rcx_toNGraph* and *rcx_toRCXgraph*. See method documentation for more details."
      ]
    }
  ],
  "metadata": {
    "jupytext": {
      "cell_metadata_filter": "tags,-all",
      "main_language": "R",
      "notebook_metadata_filter": "-all"
    },
    "kernelspec": {
      "display_name": "R",
      "name": "ir"
    },
    "language_info": {
      "name": "R"
    },
    "colab": {
      "provenance": [],
      "cell_execution_strategy": "setup",
      "include_colab_link": true
    }
  },
  "nbformat": 4,
  "nbformat_minor": 0
}