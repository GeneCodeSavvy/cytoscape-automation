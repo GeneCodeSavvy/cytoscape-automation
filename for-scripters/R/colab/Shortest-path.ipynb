{
  "cells": [
    {
      "cell_type": "markdown",
      "metadata": {
        "id": "view-in-github",
        "colab_type": "text"
      },
      "source": [
        "<a href=\"https://colab.research.google.com/github/cytoscape/cytoscape-automation/blob/master/for-scripters/R/colab/Shortest-path.ipynb\" target=\"_parent\"><img src=\"https://colab.research.google.com/assets/colab-badge.svg\" alt=\"Open In Colab\"/></a>"
      ]
    },
    {
      "cell_type": "markdown",
      "metadata": {
        "lines_to_next_cell": 0,
        "id": "pahkBI6zGxpc"
      },
      "source": [
        "# Shortest Path with RBGL\n",
        "## Alexander Pico"
      ]
    },
    {
      "cell_type": "markdown",
      "metadata": {
        "lines_to_next_cell": 0,
        "id": "iZlLD0UHGxpg"
      },
      "source": [
        "*The R markdown is available. [download the Rmd from GitHub](https://raw.githubusercontent.com/cytoscape/cytoscape-automation/master/for-scripters/R/notebooks/Shortest-path.Rmd).*\n",
        "\n",
        "This vignette will show you how to perform a shortest path calculation using RBGL on a network in Cytoscape. RBGL is a Biocondutor package that offers an array of analytical functions for graphs.\n",
        "\n",
        "# Installation"
      ]
    },
    {
      "cell_type": "code",
      "execution_count": null,
      "metadata": {
        "eval": false,
        "id": "WA1E6fjrGxpg"
      },
      "outputs": [],
      "source": [
        "if(!\"RCy3\" %in% installed.packages()){\n",
        "    install.packages(\"BiocManager\")\n",
        "    BiocManager::install(\"RCy3\")\n",
        "}\n",
        "if(!\"RBGL\" %in% installed.packages()){\n",
        "    install.packages(\"BiocManager\")\n",
        "    BiocManager::install(\"RBGL\")\n",
        "}\n",
        "library(RCy3)\n",
        "library(RBGL)"
      ]
    },
    {
      "cell_type": "markdown",
      "metadata": {
        "id": "qsETJV5-Gxph"
      },
      "source": [
        "If you are using a remote notebook environment such as Google Colab, please execute the cell below. (If you're running on your local notebook, you don't need to do that.)"
      ]
    },
    {
      "cell_type": "code",
      "execution_count": null,
      "metadata": {
        "id": "EA-yDaaHGxpi"
      },
      "outputs": [],
      "source": [
        "# Connect to local Cytoscape\n",
        "browserClientJs <- getBrowserClientJs()\n",
        "IRdisplay::display_javascript(browserClientJs)"
      ]
    },
    {
      "cell_type": "markdown",
      "metadata": {
        "id": "dizpgNLAGxpi"
      },
      "source": [
        "# Required Software\n",
        "The whole point of RCy3 is to connect with Cytoscape. You will need to install and launch Cytoscape:\n",
        "\n",
        "* Download the latest Cytoscape from http://www.cytoscape.org/download.php\n",
        "* Complete installation wizard\n",
        "* Launch Cytoscape"
      ]
    },
    {
      "cell_type": "code",
      "execution_count": null,
      "metadata": {
        "id": "xh2unrx2Gxpj"
      },
      "outputs": [],
      "source": [
        "cytoscapePing()"
      ]
    },
    {
      "cell_type": "markdown",
      "metadata": {
        "lines_to_next_cell": 0,
        "id": "s1_6zxZ6Gxpj"
      },
      "source": [
        "# Shortest Path with RBGL\n",
        "<center>\n",
        "![](https://cytoscape.github.io/cytoscape-automation/for-scripters/R/notebooks/data/img/shortest.png)\n",
        "</center>\n",
        "\n",
        "Convert a sample Cytoscape network to a graph object (after removing a multiedge)."
      ]
    },
    {
      "cell_type": "code",
      "execution_count": null,
      "metadata": {
        "id": "O4hyGWiHGxpk"
      },
      "outputs": [],
      "source": [
        "openSession()\n",
        "selectEdges(\"YPL248C (pp) YML051W\",\"name\")\n",
        "deleteSelectedEdges()\n",
        "g <- createGraphFromNetwork()"
      ]
    },
    {
      "cell_type": "markdown",
      "metadata": {
        "lines_to_next_cell": 0,
        "id": "cxGelRRmGxpk"
      },
      "source": [
        "Identify start and finish nodes (styling is optional)."
      ]
    },
    {
      "cell_type": "code",
      "execution_count": null,
      "metadata": {
        "id": "4zjHaGFmGxpk"
      },
      "outputs": [],
      "source": [
        "start <- \"YNL216W\"  #RAP1\n",
        "finish <- \"YER040W\"  #GLN3\n",
        "setNodeBorderWidthBypass(c(start,finish), 20)\n",
        "setNodeBorderColorBypass(start,\"#00CC33\")\n",
        "setNodeBorderColorBypass(finish,\"#CC00CC\")"
      ]
    },
    {
      "cell_type": "markdown",
      "metadata": {
        "lines_to_next_cell": 0,
        "id": "9xZ3ntlvGxpl"
      },
      "source": [
        "Perform shortest path calculation."
      ]
    },
    {
      "cell_type": "code",
      "execution_count": null,
      "metadata": {
        "id": "d0ACAgPyGxpl"
      },
      "outputs": [],
      "source": [
        "shortest <- sp.between(g, start, finish)\n",
        "shortest$`YNL216W:YER040W`$length\n",
        "shortest.path <- shortest$`YNL216W:YER040W`$path_detail"
      ]
    },
    {
      "cell_type": "markdown",
      "metadata": {
        "lines_to_next_cell": 0,
        "id": "Be6fiwFeGxpl"
      },
      "source": [
        "Visualize results in Cytoscape."
      ]
    },
    {
      "cell_type": "code",
      "execution_count": null,
      "metadata": {
        "id": "u20nEtrBGxpl"
      },
      "outputs": [],
      "source": [
        "selectNodes(shortest.path, \"name\")\n",
        "setNodeBorderWidthBypass(shortest.path, 20)\n",
        "createSubnetwork()"
      ]
    }
  ],
  "metadata": {
    "jupytext": {
      "cell_metadata_filter": "tags,eval,-all",
      "main_language": "R",
      "notebook_metadata_filter": "-all"
    },
    "kernelspec": {
      "display_name": "R",
      "name": "ir"
    },
    "language_info": {
      "name": "R"
    },
    "colab": {
      "provenance": [],
      "include_colab_link": true
    }
  },
  "nbformat": 4,
  "nbformat_minor": 0
}