{
 "cells": [
  {
   "cell_type": "markdown",
   "metadata": {
    "lines_to_next_cell": 0
   },
   "source": [
    "# Identifier mapping\n",
    "## Alexander Pico\n",
    "[![Open In Colab](https://colab.research.google.com/assets/colab-badge.svg)](https://colab.research.google.com/github/cytoscape/cytoscape-automation/blob/master/for-scripters/R/colab/Identifier-mapping.ipynb)"
   ]
  },
  {
   "cell_type": "markdown",
   "metadata": {
    "lines_to_next_cell": 0
   },
   "source": [
    "*The R markdown is available. [download the Rmd from GitHub](https://raw.githubusercontent.com/cytoscape/cytoscape-automation/master/for-scripters/R/notebooks/Identifier-mapping.Rmd).*\n",
    "\n",
    "<hr />\n",
    "This vignette will show you how to map or translate identifiers from one database\n",
    "(e.g., Ensembl) to another  (e.g, Entrez Gene). This is a common requirement\n",
    "for data analysis. In the context of Cytoscape, for example, identifier mapping is\n",
    "needed when you want to import data to overlay on a network but you don't have\n",
    "matching keys. There are three distinct examples below, highlighting different\n",
    "lessons that may apply to your use cases.\n",
    "\n",
    "# Installation"
   ]
  },
  {
   "cell_type": "code",
   "execution_count": null,
   "metadata": {},
   "outputs": [],
   "source": [
    "if(!\"RCy3\" %in% installed.packages()){\n",
    "    install.packages(\"BiocManager\")\n",
    "    BiocManager::install(\"RCy3\")\n",
    "}\n",
    "library(RCy3)"
   ]
  },
  {
   "cell_type": "markdown",
   "metadata": {},
   "source": [
    "If you are using a remote notebook environment such as Google Colab, please execute the cell below. (If you're running on your local notebook, you don't need to do that.)"
   ]
  },
  {
   "cell_type": "code",
   "execution_count": null,
   "metadata": {},
   "outputs": [],
   "source": [
    "# Connect to local Cytoscape\n",
    "browserClientJs <- getBrowserClientJs()\n",
    "IRdisplay::display_javascript(browserClientJs)"
   ]
  },
  {
   "cell_type": "markdown",
   "metadata": {},
   "source": [
    "# Required Software\n",
    "The whole point of RCy3 is to connect with Cytoscape. You will need to install and launch Cytoscape: \n",
    "\n",
    "* Download the latest Cytoscape from http://www.cytoscape.org/download.php\n",
    "* Complete installation wizard\n",
    "* Launch Cytoscape "
   ]
  },
  {
   "cell_type": "code",
   "execution_count": null,
   "metadata": {},
   "outputs": [],
   "source": [
    "cytoscapePing()"
   ]
  },
  {
   "cell_type": "markdown",
   "metadata": {
    "lines_to_next_cell": 0
   },
   "source": [
    "# Example: Species specific considerations\n",
    "When planning to import data, you need to consider the key columns you have in\n",
    "your network data and in your table data. It's always recommended that you use\n",
    "proper identifiers as your keys (e.g., from databases like Ensembl and Uniprot-TrEMBL).\n",
    "Relying on conventional symbols and names is not standard and error prone. \n",
    "\n",
    "Let's start with the sample network provided by Cytoscape.\n",
    "\n",
    "**Caution: Loading a session file will discard your current session. Save first,\n",
    "if you have networks or data you want to keep. Use saveSession('path_to_file').**"
   ]
  },
  {
   "cell_type": "code",
   "execution_count": null,
   "metadata": {},
   "outputs": [],
   "source": [
    "openSession()  #Closes current session (without saving) and opens a sample session file"
   ]
  },
  {
   "cell_type": "markdown",
   "metadata": {},
   "source": [
    "You should now see a network with just over 300 nodes. If you look at the Node \n",
    "Table, you'll see that there are proper identifiers in the *name* columns, like\n",
    "\"YDL194W\". These are the Ensembl-supported IDs for Yeast.\n",
    "\n",
    "## Perform identifier mapping\n",
    "You need to know a few things about your network in order to run this function, \n",
    "e.g., the species and starting (or source) identifier type. This isn't usually\n",
    "a problem, but **this example highlights a unique case where the Ensembl ID type\n",
    "for a particular species (i.e., Yeast) has a particular format (e.g., YDL194W)**, \n",
    "rather than the more typical ENSXXXG00001232 format.\n",
    "\n",
    "So, with this knowledge, you can run the following function:"
   ]
  },
  {
   "cell_type": "code",
   "execution_count": null,
   "metadata": {},
   "outputs": [],
   "source": [
    "mapped.cols <- mapTableColumn('name','Yeast','Ensembl','Entrez Gene')"
   ]
  },
  {
   "cell_type": "markdown",
   "metadata": {
    "lines_to_next_cell": 0
   },
   "source": [
    "We are asking Cytoscape to look in the *name* column for *Yeast Ensembl* IDs and\n",
    "then provide a new columns of corresponding *Entrez Gene* IDs. And if you look\n",
    "back at the Node Table, you'll see that new column (all the way to the right).\n",
    "That's it!\n",
    "\n",
    "The return value is a data frame of all the mappings between Ensembl and Entrez Gene\n",
    "that were found for your network in case you want those details:"
   ]
  },
  {
   "cell_type": "code",
   "execution_count": null,
   "metadata": {},
   "outputs": [],
   "source": [
    "mapped.cols[1:3,] #first three entries"
   ]
  },
  {
   "cell_type": "markdown",
   "metadata": {},
   "source": [
    "*Note: the row names of the return data frame are the node SUIDs from Cytoscape.\n",
    "These are handy if you want to load the mappings yourself (see last example).*\n",
    "\n",
    "<center>\n",
    "![](https://cytoscape.github.io/cytoscape-automation/for-scripters/R/notebooks/data/img/identifier-mapping1.png){width=60%}\n",
    "</center>\n",
    "\n",
    "# Example: From proteins to genes\n",
    "For this next example, you'll need the STRING app to access the STRING database\n",
    "from within Cytoscape:\n",
    "* Install the STRING app from https://apps.cytoscape.org/apps/stringapp"
   ]
  },
  {
   "cell_type": "code",
   "execution_count": null,
   "metadata": {},
   "outputs": [],
   "source": [
    "#available in Cytoscape 3.7.0 and above\n",
    "installApp('STRINGapp')  "
   ]
  },
  {
   "cell_type": "markdown",
   "metadata": {
    "lines_to_next_cell": 0
   },
   "source": [
    "Now we can import protein interaction networks with a ton of annotations from\n",
    "the STRING database with a simple commandsGET function, like this:"
   ]
  },
  {
   "cell_type": "code",
   "execution_count": null,
   "metadata": {},
   "outputs": [],
   "source": [
    "string.cmd = 'string disease query disease=\"breast cancer\" cutoff=0.9 species=\"Homo sapiens\" limit=150'\n",
    "commandsGET(string.cmd)\n",
    "\n",
    "# for more information on string commands:\n",
    "# commandsHelp('string')\n",
    "# commandsHelp('string disease query')"
   ]
  },
  {
   "cell_type": "markdown",
   "metadata": {
    "lines_to_next_cell": 0
   },
   "source": [
    "Check out the Node Table and you'll see display names and identifiers. In particular,\n",
    "the *canonical name* column appears to hold Uniprot-TrEMBL IDs. Nice, we can use that!\n",
    "\n",
    "<center>\n",
    "![](https://cytoscape.github.io/cytoscape-automation/for-scripters/R/notebooks/data/img/identifier-mapping2.png){width=60%}\n",
    "</center>\n",
    "\n",
    "## Perform identifier mapping\n",
    "Say we have a dataset keyed by Ensembl gene identifiers. Well, then we would want\n",
    "to perform this mapping:"
   ]
  },
  {
   "cell_type": "code",
   "execution_count": null,
   "metadata": {},
   "outputs": [],
   "source": [
    "mapped.cols <- mapTableColumn('stringdb::canonical name','Human','Uniprot-TrEMBL','Ensembl')"
   ]
  },
  {
   "cell_type": "markdown",
   "metadata": {},
   "source": [
    "Scroll all the way to the right in the Node Table and you'll see a new column with\n",
    "Ensembl IDs. **This example highlights a useful translation from protein to gene\n",
    "identifiers (or vice versa), but is also a caution to be aware of the assumptions\n",
    "involved when making this translation.** For example, a typical gene encodes for many \n",
    "proteins, so you may have many-to-one mappings in your results.\n",
    "\n",
    "# Example: Mixed identifiers\n",
    "From time to time, you'll come across a case where the identifiers in your network\n",
    "are of mixed types. This is a rare scenario, but here is one approach to solving\n",
    "it.\n",
    "\n",
    "First, you'll need the WikiPathways app to access the WikiPathways\n",
    "database. The pathways in WikiPathways are curated by a community of interested\n",
    "researchers and citizen scientists. As such, there are times where authors might\n",
    "use different sources of identifiers. They are valid IDs, just not all from the same\n",
    "source. Future versions of the WikiPathways app will provide pre-mapped columns\n",
    "to a single ID type. But in the meantime (and relevant to other use cases), **this\n",
    "example highlights how to handle a source of mixed identifier types.**\n",
    "\n",
    "* Install the WikiPathways app from https://apps.cytoscape.org/apps/wikipathways"
   ]
  },
  {
   "cell_type": "code",
   "execution_count": null,
   "metadata": {
    "lines_to_next_cell": 2
   },
   "outputs": [],
   "source": [
    "#available in Cytoscape 3.7.0 and above\n",
    "installApp('WikiPathways')  "
   ]
  },
  {
   "cell_type": "markdown",
   "metadata": {
    "lines_to_next_cell": 0
   },
   "source": [
    "Now we can import an Apoptosis Pathway from WikiPathways. Either from the web\n",
    "site (https://wikipathways.org), or from the Network Search Tool in Cytoscape\n",
    "GUI or from the rWikiPathways package, we could identify the pathway as WP254."
   ]
  },
  {
   "cell_type": "code",
   "execution_count": null,
   "metadata": {},
   "outputs": [],
   "source": [
    "wp.cmd = 'wikipathways import-as-pathway id=\"WP254\"'\n",
    "commandsGET(wp.cmd)\n",
    "\n",
    "# for more information on wikipathways commands:\n",
    "# commandsHelp('wikipathways')\n",
    "# commandsHelp('wikipathways import-as-pathway')\n"
   ]
  },
  {
   "cell_type": "markdown",
   "metadata": {},
   "source": [
    "Take look in the *XrefId* column and you'll see a mix of identifier types. The\n",
    "next column over, *XrefDatasource*, conveniently names each type's source. Ignoring\n",
    "the metabolites for this example, we just have a mix of Ensembl and Entrez Gene \n",
    "to deal with.\n",
    "\n",
    "## Perform identifier mapping\n",
    "Say we want a column with only Ensembl IDs. The easiest approach is to simply \n",
    "overwrite all the non-Ensembl IDs, i.e., in this case, Entrez Gene IDs. Let's \n",
    "collect the mappings first:"
   ]
  },
  {
   "cell_type": "code",
   "execution_count": null,
   "metadata": {},
   "outputs": [],
   "source": [
    "mapped.cols <- mapTableColumn('XrefId','Human','Entrez Gene','Ensembl')"
   ]
  },
  {
   "cell_type": "markdown",
   "metadata": {},
   "source": [
    "Next, we want to remove the <NA> values from the *Ensembl* column in our resulting\n",
    "mapped.cols data frame. We'll also remove the original source columns (to avoid\n",
    "confusion) and rename our *Ensembl* column to *XrefId* to prepare to overwrite. \n",
    "Then we'll load that into Cytosacpe:"
   ]
  },
  {
   "cell_type": "code",
   "execution_count": null,
   "metadata": {},
   "outputs": [],
   "source": [
    "only.mapped.cols <- mapped.cols[complete.cases(mapped.cols), 'Ensembl', drop=FALSE]\n",
    "colnames(only.mapped.cols) <- 'XrefId'\n",
    "loadTableData(only.mapped.cols,table.key.column = 'SUID')"
   ]
  },
  {
   "cell_type": "markdown",
   "metadata": {
    "lines_to_next_cell": 0
   },
   "source": [
    "Done! See the updated *XrefId* column in Cytoscape with all Ensembl IDs. \n",
    "\n",
    "*Note: you'll want to either update the *XrefDatasource* column as well or simply make \n",
    "a note to ignore it at this point.*\n",
    "\n",
    "# More advanced cases\n",
    "This identifier mapping function is intended to handle the majority of common\n",
    "ID mapping problems. It has limitation, however. "
   ]
  },
  {
   "cell_type": "code",
   "execution_count": null,
   "metadata": {},
   "outputs": [],
   "source": [
    "?mapTableColumn"
   ]
  },
  {
   "cell_type": "markdown",
   "metadata": {},
   "source": [
    "If you need an ID mapping solution for species or ID types not covered by this \n",
    "tool, or if you want to connect to alternative sources of mappings, then check\n",
    "out the BridgeDb app: http://apps.cytoscape.org/apps/bridgedb. "
   ]
  },
  {
   "cell_type": "code",
   "execution_count": null,
   "metadata": {},
   "outputs": [],
   "source": [
    "#available in Cytoscape 3.7.0 and above\n",
    "installApp('BridgeDb')  "
   ]
  },
  {
   "cell_type": "markdown",
   "metadata": {},
   "source": [
    "And then browse the available function with *commandsHelp('bridgedb')*"
   ]
  }
 ],
 "metadata": {
  "jupytext": {
   "cell_metadata_filter": "tags,-all",
   "main_language": "R",
   "notebook_metadata_filter": "-all"
  },
  "kernelspec": {
   "display_name": "Python 3",
   "language": "python",
   "name": "python3"
  },
  "language_info": {
   "codemirror_mode": {
    "name": "ipython",
    "version": 3
   },
   "file_extension": ".py",
   "mimetype": "text/x-python",
   "name": "python",
   "nbconvert_exporter": "python",
   "pygments_lexer": "ipython3",
   "version": "3.8.5"
  }
 },
 "nbformat": 4,
 "nbformat_minor": 4
}
