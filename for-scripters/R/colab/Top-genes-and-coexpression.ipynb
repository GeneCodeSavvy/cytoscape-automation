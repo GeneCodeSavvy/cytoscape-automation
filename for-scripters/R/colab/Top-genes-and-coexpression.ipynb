{
 "cells": [
  {
   "cell_type": "raw",
   "metadata": {
    "lines_to_next_cell": 0
   },
   "source": [
    "---\n",
    "title: \"Top genes and coexpression\"\n",
    "author: \"by Ruth Isserlin, Kristina Hanspers\"\n",
    "date: \"`r Sys.Date()`\"\n",
    "output:\n",
    "  html_notebook:\n",
    "    code_folding: none\n",
    "    toc_float: yes\n",
    "  html_document:\n",
    "    df_print: paged\n",
    "package: RCy3\n",
    "---"
   ]
  },
  {
   "cell_type": "code",
   "execution_count": null,
   "metadata": {
    "lines_to_next_cell": 0,
    "tags": [
     "remove_input"
    ]
   },
   "outputs": [],
   "source": [
    "knitr::opts_chunk$set(\n",
    "  eval=FALSE\n",
    ")"
   ]
  },
  {
   "cell_type": "markdown",
   "metadata": {
    "lines_to_next_cell": 0
   },
   "source": [
    "*The R markdown is available from the pulldown menu for* Code *at the upper-right, choose \"Download Rmd\", or [download the Rmd from GitHub](https://raw.githubusercontent.com/cytoscape/cytoscape-automation/master/for-scripters/R/notebooks/Top-genes-and-coexpression.Rmd).*\n",
    "\n",
    "<hr />\n",
    "Cytoscape (www.cytoscape.org) is one of the most popular applications for network analysis and visualization. In this tutorial, we will demonstrate new capabilities to integrate Cytoscape into programmatic workflows and pipelines using R. We will look at two use cases; the first exploring how top scoring genes are related and how to overlay data; the second looking at genes with similar expression and their functional enrichment. \n",
    "\n",
    "# Installation"
   ]
  },
  {
   "cell_type": "code",
   "execution_count": null,
   "metadata": {},
   "outputs": [],
   "source": [
    "if(!\"RCy3\" %in% installed.packages()){\n",
    "    install.packages(\"BiocManager\")\n",
    "    BiocManager::install(\"RCy3\")\n",
    "}\n",
    "library(RCy3)\n",
    "\n",
    "if(!\"RColorBrewer\" %in% installed.packages()){\n",
    "    install.packages(\"RColorBrewer\")\n",
    "}\n",
    "library(RColorBrewer)"
   ]
  },
  {
   "cell_type": "markdown",
   "metadata": {
    "lines_to_next_cell": 0
   },
   "source": [
    "# Required Software\n",
    "The whole point of RCy3 is to connect with Cytoscape. You will need to install and launch Cytoscape: \n",
    "    \n",
    "* Download the latest Cytoscape from http://www.cytoscape.org/download.php\n",
    "* Complete installation wizard\n",
    "* Launch Cytoscape \n",
    "\n",
    "**Make sure that Cytoscape is running**"
   ]
  },
  {
   "cell_type": "code",
   "execution_count": null,
   "metadata": {
    "eval": false
   },
   "outputs": [],
   "source": [
    "cytoscapePing ()"
   ]
  },
  {
   "cell_type": "code",
   "execution_count": null,
   "metadata": {
    "eval": false
   },
   "outputs": [],
   "source": [
    "cytoscapeVersionInfo ()"
   ]
  },
  {
   "cell_type": "markdown",
   "metadata": {
    "lines_to_next_cell": 0
   },
   "source": [
    "To see all the functions available in the RCy3 package: "
   ]
  },
  {
   "cell_type": "code",
   "execution_count": null,
   "metadata": {},
   "outputs": [],
   "source": [
    "help(package=RCy3)"
   ]
  },
  {
   "cell_type": "markdown",
   "metadata": {
    "lines_to_next_cell": 0
   },
   "source": [
    "Also install additional Cytoscape apps that will be used in this tutorial:"
   ]
  },
  {
   "cell_type": "code",
   "execution_count": null,
   "metadata": {},
   "outputs": [],
   "source": [
    "#available in Cytoscape 3.7.0 and above\n",
    "installApp('STRINGapp')  \n",
    "installApp('aMatReader')\n",
    "installApp('clusterMaker2')"
   ]
  },
  {
   "cell_type": "markdown",
   "metadata": {
    "lines_to_next_cell": 0
   },
   "source": [
    "# Example Data Set\n",
    "We downloaded gene expression data from the Ovarian Serous Cystadenocarcinoma project of The Cancer Genome Atlas (TCGA), http://cancergenome.nih.gov via the Genomic Data Commons (GDC) portal on 2017-06-14 using TCGABiolinks R package. The data includes 300 samples available as RNA-seq data, with reads mapped to a reference genome using MapSplice and read counts per transcript determined using the RSEM method. RNA-seq data are labeled as ‘RNA-Seq V2’, see details at: https://wiki.nci.nih.gov/display/TCGA/RNASeq+Version+2). The RNA-SeqV2 data consists of raw counts similar to regular RNA-seq but RSEM (RNA-Seq by Expectation Maximization) data can be used with the edgeR method. The expression dataset of 300 tumours, with 79 classified as Immunoreactive, 72 classified as Mesenchymal, 69 classified as Differentiated, and 80 classified as Proliferative samples (class definitions were obtained from Verhaak et al. Supplementary Table 1, third column). RNA-seq read counts were converted to CPM values and genes with CPM > 1 in at least 50 of the samples are retained for further study (50 is the minimal sample size in the classes). The data was normalized and differential expression was calculated for each cancer class relative to the rest of the samples. \n",
    "\n",
    "There are two data files:\n",
    " 1. Expression matrix - containing the normalized expression for each gene across all 300 samples.\n",
    " 1. Gene ranks - containing the p-values, FDR and foldchange values for the 4 comparisons (mesenchymal vs rest, differential vs rest, proliferative vs rest and immunoreactive vs rest)\n",
    "\n",
    "The following script will download and export files to the same directory as this copy of the Rmd file:"
   ]
  },
  {
   "cell_type": "code",
   "execution_count": null,
   "metadata": {
    "eval": false
   },
   "outputs": [],
   "source": [
    "getwd()"
   ]
  },
  {
   "cell_type": "code",
   "execution_count": null,
   "metadata": {},
   "outputs": [],
   "source": [
    "#load data files\n",
    "RNASeq_expression_matrix <- read.table(\"https://raw.githubusercontent.com/cytoscape/cytoscape-tutorials/gh-pages/presentations/modules/RCy3_ExampleData/data/TCGA_OV_RNAseq_expression.txt\", header = TRUE, sep = \"\\t\", quote=\"\\\"\", stringsAsFactors = FALSE)\n",
    "\n",
    "RNASeq_gene_scores <- read.table(\"https://raw.githubusercontent.com/cytoscape/cytoscape-tutorials/gh-pages/presentations/modules/RCy3_ExampleData/data/TCGA_OV_RNAseq_All_edgeR_scores.txt\", header = TRUE, sep = \"\\t\", quote=\"\\\"\", stringsAsFactors = FALSE)"
   ]
  },
  {
   "cell_type": "markdown",
   "metadata": {
    "lines_to_next_cell": 0
   },
   "source": [
    "# Use Case 1 - How are my top genes related?\n",
    "\n",
    "### Get top-scoring gene genes from the data\n",
    "Get a subset of significant, top-scoring genes from our data:"
   ]
  },
  {
   "cell_type": "code",
   "execution_count": null,
   "metadata": {},
   "outputs": [],
   "source": [
    "top_mesenchymal_genes <- RNASeq_gene_scores[which(RNASeq_gene_scores$FDR.mesen < 0.05 & RNASeq_gene_scores$logFC.mesen > 2),]\n",
    "head(top_mesenchymal_genes)"
   ]
  },
  {
   "cell_type": "markdown",
   "metadata": {
    "lines_to_next_cell": 0
   },
   "source": [
    "### Query STRING database for top-scoring genes\n",
    "We are going to query the STRING Database to get all interactions found for our set of top Mesenchymal genes.\n",
    "\n",
    "Reminder: to see the parameters required by the string function or to find the right string function you can use commandsHelp."
   ]
  },
  {
   "cell_type": "code",
   "execution_count": null,
   "metadata": {
    "eval": false
   },
   "outputs": [],
   "source": [
    "commandsHelp(\"help string\")"
   ]
  },
  {
   "cell_type": "code",
   "execution_count": null,
   "metadata": {
    "eval": false
   },
   "outputs": [],
   "source": [
    "commandsHelp(\"help string protein query\")"
   ]
  },
  {
   "cell_type": "code",
   "execution_count": null,
   "metadata": {
    "eval": false
   },
   "outputs": [],
   "source": [
    "mesen_string_interaction_cmd <- paste('string protein query taxonID=9606 limit=150 cutoff=0.9 query=\"',paste(top_mesenchymal_genes$Name, collapse=\",\"),'\"',sep=\"\")\n",
    "commandsPOST(mesen_string_interaction_cmd)"
   ]
  },
  {
   "cell_type": "markdown",
   "metadata": {
    "lines_to_next_cell": 0
   },
   "source": [
    "Layout the network:"
   ]
  },
  {
   "cell_type": "code",
   "execution_count": null,
   "metadata": {
    "eval": false
   },
   "outputs": [],
   "source": [
    "layoutNetwork('force-directed')"
   ]
  },
  {
   "cell_type": "markdown",
   "metadata": {
    "lines_to_next_cell": 0
   },
   "source": [
    "Check what other layout algorithms are available to try out:"
   ]
  },
  {
   "cell_type": "code",
   "execution_count": null,
   "metadata": {
    "eval": false
   },
   "outputs": [],
   "source": [
    "getLayoutNames()"
   ]
  },
  {
   "cell_type": "markdown",
   "metadata": {
    "lines_to_next_cell": 0
   },
   "source": [
    "Get the parameters for a specific layout:"
   ]
  },
  {
   "cell_type": "code",
   "execution_count": null,
   "metadata": {
    "eval": false
   },
   "outputs": [],
   "source": [
    "getLayoutPropertyNames(layout.name='force-directed')"
   ]
  },
  {
   "cell_type": "markdown",
   "metadata": {
    "lines_to_next_cell": 0
   },
   "source": [
    "Re-layout the network using the force directed layout but specify some of the parameters:"
   ]
  },
  {
   "cell_type": "code",
   "execution_count": null,
   "metadata": {
    "eval": false
   },
   "outputs": [],
   "source": [
    "layoutNetwork('force-directed defaultSpringCoefficient=0.000001 defaultSpringLength=50')"
   ]
  },
  {
   "cell_type": "markdown",
   "metadata": {
    "lines_to_next_cell": 0
   },
   "source": [
    "### Overlay expression data\n",
    "Now we can overlay our expression data on the String network. To do this we will be using the loadTableData function from RCy3. It is important to make sure that  that your identifiers types match up. You can check what is used by String by pulling in the column names of the node attribute table."
   ]
  },
  {
   "cell_type": "code",
   "execution_count": null,
   "metadata": {
    "eval": false
   },
   "outputs": [],
   "source": [
    "getTableColumnNames('node')"
   ]
  },
  {
   "cell_type": "markdown",
   "metadata": {
    "lines_to_next_cell": 0
   },
   "source": [
    "If you are unsure of what each column is and want to further verify the column to use you can also pull in the entire node attribute table:"
   ]
  },
  {
   "cell_type": "code",
   "execution_count": null,
   "metadata": {
    "eval": false
   },
   "outputs": [],
   "source": [
    "node_attribute_table_topmesen <- getTableColumns(table=\"node\")\n",
    "head(node_attribute_table_topmesen[,3:7])"
   ]
  },
  {
   "cell_type": "markdown",
   "metadata": {
    "lines_to_next_cell": 0
   },
   "source": [
    "The column \"display name\" contains HGNC gene names which are also found in our Ovarian Cancer dataset.\n",
    "\n",
    "To import our expression data we will match our dataset to the \"display name\" node attribute:"
   ]
  },
  {
   "cell_type": "code",
   "execution_count": null,
   "metadata": {
    "eval": false
   },
   "outputs": [],
   "source": [
    "?loadTableData\n",
    "\n",
    "loadTableData(RNASeq_gene_scores,table.key.column = \"display name\",data.key.column = \"Name\")  #default data.frame key is row.names"
   ]
  },
  {
   "cell_type": "markdown",
   "metadata": {
    "lines_to_next_cell": 0
   },
   "source": [
    "### Modify the visual style\n",
    "Create your own visual style to visualize your expression data on the String network. \n",
    "\n",
    "Start with a default style:"
   ]
  },
  {
   "cell_type": "code",
   "execution_count": null,
   "metadata": {
    "eval": false
   },
   "outputs": [],
   "source": [
    "style.name = \"MesenchymalStyle\"\n",
    "defaults.list <- list(NODE_SHAPE=\"ellipse\",\n",
    "                 NODE_SIZE=60,\n",
    "                 NODE_FILL_COLOR=\"#AAAAAA\",\n",
    "                 EDGE_TRANSPARENCY=120)\n",
    "node.label.map <- mapVisualProperty('node label','display name','p') # p for passthrough; nothing else needed\n",
    "createVisualStyle(style.name, defaults.list, list(node.label.map))\n",
    "setVisualStyle(style.name=style.name)"
   ]
  },
  {
   "cell_type": "markdown",
   "metadata": {
    "lines_to_next_cell": 0
   },
   "source": [
    "Update your created style with a mapping for the Mesenchymal logFC expression. The first step is to grab the column data from Cytoscape (we can reuse the node_attribute table concept from above but we have to call the function again as we have since added our expression data) and pull out the min and max to define our data mapping range of values.\n",
    "\n",
    "**Note**: you could define the min and max based on the entire dataset or just the subset that is represented in Cytoscape currently. The two methods will give you different results. If you intend on comparing different networks created with the same dataset then it is best to calculate the min and max from the entire dataset as opposed to a subset. "
   ]
  },
  {
   "cell_type": "code",
   "execution_count": null,
   "metadata": {},
   "outputs": [],
   "source": [
    "min.mesen.logfc = min(RNASeq_gene_scores$logFC.mesen,na.rm=TRUE)\n",
    "max.mesen.logfc = max(RNASeq_gene_scores$logFC.mesen,na.rm=TRUE)\n",
    "data.values = c(min.mesen.logfc,0,max.mesen.logfc)"
   ]
  },
  {
   "cell_type": "markdown",
   "metadata": {
    "lines_to_next_cell": 0
   },
   "source": [
    "Next, we use the RColorBrewer package to help us pick good colors to pair with our data values:"
   ]
  },
  {
   "cell_type": "code",
   "execution_count": null,
   "metadata": {},
   "outputs": [],
   "source": [
    "library(RColorBrewer)\n",
    "display.brewer.all(length(data.values), colorblindFriendly=TRUE, type=\"div\") # div,qual,seq,all\n",
    "node.colors <- c(rev(brewer.pal(length(data.values), \"RdBu\")))"
   ]
  },
  {
   "cell_type": "markdown",
   "metadata": {
    "lines_to_next_cell": 0
   },
   "source": [
    "Map the colors to our data value and update our visual style:"
   ]
  },
  {
   "cell_type": "code",
   "execution_count": null,
   "metadata": {
    "eval": false
   },
   "outputs": [],
   "source": [
    "setNodeColorMapping(\"logFC.mesen\", data.values, node.colors, style.name=style.name)"
   ]
  },
  {
   "cell_type": "markdown",
   "metadata": {
    "lines_to_next_cell": 0
   },
   "source": [
    "Remember, String includes your query proteins as well as other proteins that associate with your query proteins (including the strongest connection first). Not all of the proteins in this network are your top hits. How can we visualize which proteins are our top Mesenchymal hits?\n",
    "\n",
    "Change the node shape for our top hits:"
   ]
  },
  {
   "cell_type": "code",
   "execution_count": null,
   "metadata": {
    "eval": false
   },
   "outputs": [],
   "source": [
    "getNodeShapes()\n",
    "\n",
    "# select nodes by \"display name\" column\n",
    "selectNodes(top_mesenchymal_genes$Name, \"display name\")\n",
    "setNodeShapeBypass(node.names = getSelectedNodes(), new.shapes = \"TRIANGLE\")\n",
    "clearSelection()"
   ]
  },
  {
   "cell_type": "markdown",
   "metadata": {
    "lines_to_next_cell": 0
   },
   "source": [
    "Change the size of the node to be correlated with the Mesenchymal p-value:"
   ]
  },
  {
   "cell_type": "code",
   "execution_count": null,
   "metadata": {
    "eval": false
   },
   "outputs": [],
   "source": [
    "setNodeSizeMapping(table.column = 'LR.mesen', \n",
    "                   table.column.values = c(min(RNASeq_gene_scores$LR.mesen), \n",
    "                                           mean(RNASeq_gene_scores$LR.mesen), \n",
    "                                           max(RNASeq_gene_scores$LR.mesen)), \n",
    "                   sizes = c(30, 60, 150),mapping.type = \"c\", style.name = style.name)"
   ]
  },
  {
   "cell_type": "markdown",
   "metadata": {
    "lines_to_next_cell": 0
   },
   "source": [
    "Get a screenshot of the resulting network:"
   ]
  },
  {
   "cell_type": "code",
   "execution_count": null,
   "metadata": {
    "include": true,
    "name": "mesen_string_network_screenshot"
   },
   "outputs": [],
   "source": [
    "mesen_string_network_png_file_name <- \"mesen_string_network.png\""
   ]
  },
  {
   "cell_type": "code",
   "execution_count": null,
   "metadata": {
    "eval": false
   },
   "outputs": [],
   "source": [
    "if(file.exists(mesen_string_network_png_file_name)){\n",
    "  #cytoscape hangs waiting for user response if file already exists.  Remove it first\n",
    "  response<- file.remove(mesen_string_network_png_file_name)\n",
    "  } \n",
    "response <- exportImage(mesen_string_network_png_file_name, type = \"png\")"
   ]
  },
  {
   "cell_type": "markdown",
   "metadata": {
    "lines_to_next_cell": 0
   },
   "source": [
    "# Use Case 2 - Which genes have similar expression?\n",
    "\n",
    "Instead of querying existing resources look for correlations in your own dataset to find out which genes have similar expression. There are many tools that can analyze your data for correlation. A popular tool is Weighted Gene Correlation Network Analysis (WGCNA) which takes expression data and calculates functional modules. As a simple example we can transform our expression dataset into a correlation matrix.  \n",
    "\n",
    "### Create correlation matrix\n",
    "Using the Cytoscape App, aMatReader, we transform our adjacency matrix into an interaction network. First we filter the correlation matrix to contain only the strongest connections (for example, only correlations greater than 0.9). "
   ]
  },
  {
   "cell_type": "code",
   "execution_count": null,
   "metadata": {},
   "outputs": [],
   "source": [
    "RNASeq_expression <- RNASeq_expression_matrix[,3:ncol(RNASeq_expression_matrix)]\n",
    "\n",
    "rownames(RNASeq_expression) <- RNASeq_expression_matrix$Name\n",
    "RNAseq_correlation_matrix <- cor(t(RNASeq_expression), method=\"pearson\") #Note: this takes a while\n",
    "\n",
    "#set the diagonal of matrix to zero - eliminate self-correlation\n",
    "RNAseq_correlation_matrix[ \n",
    "  row(RNAseq_correlation_matrix) == col(RNAseq_correlation_matrix) ] <- 0\n",
    "\n",
    "# set all correlations that are less than 0.9 to zero\n",
    "RNAseq_correlation_matrix[which(RNAseq_correlation_matrix<0.90)] <- 0\n",
    "\n",
    "#get rid of rows and columns that have no correlations with the above thresholds\n",
    "RNAseq_correlation_matrix <- RNAseq_correlation_matrix[which(rowSums(RNAseq_correlation_matrix) != 0),\n",
    "                          which(colSums(RNAseq_correlation_matrix) !=0)]\n",
    "\n",
    "#write out the correlation file\n",
    "correlation_filename <- file.path(getwd(), \"TCGA_OV_RNAseq_expression_correlation_matrix.txt\") \n",
    "write.table(RNAseq_correlation_matrix,  file = correlation_filename, col.names  = TRUE, row.names = FALSE, sep = \"\\t\", quote=FALSE)\n"
   ]
  },
  {
   "cell_type": "markdown",
   "metadata": {
    "lines_to_next_cell": 0
   },
   "source": [
    "### Create network from correlation matrix\n",
    "Use the CyRest call to access the aMatReader functionality:"
   ]
  },
  {
   "cell_type": "code",
   "execution_count": null,
   "metadata": {
    "eval": false
   },
   "outputs": [],
   "source": [
    "amat_url <- \"aMatReader/v1/import\"\n",
    "amat_params = list(files = list(correlation_filename),\n",
    "                   delimiter = \"TAB\",\n",
    "                   undirected = TRUE,\n",
    "                   ignoreZeros = TRUE,\n",
    "                   interactionName = \"correlated with\",\n",
    "                   rowNames = FALSE\n",
    "                   )\n",
    " \n",
    "response <- cyrestPOST(operation = amat_url, body = amat_params, base.url = \"http://localhost:1234\")\n",
    "\n",
    "current_network_id <- response$data[\"suid\"]"
   ]
  },
  {
   "cell_type": "code",
   "execution_count": null,
   "metadata": {
    "eval": false
   },
   "outputs": [],
   "source": [
    "#relayout network\n",
    "layoutNetwork('cose',\n",
    "              network = as.numeric(current_network_id))"
   ]
  },
  {
   "cell_type": "code",
   "execution_count": null,
   "metadata": {
    "eval": false
   },
   "outputs": [],
   "source": [
    "renameNetwork(title =\"Coexpression_network_pear0_95\",\n",
    "              network = as.numeric(current_network_id))"
   ]
  },
  {
   "cell_type": "markdown",
   "metadata": {
    "lines_to_next_cell": 0
   },
   "source": [
    "### Modify the visual style\n",
    "Modify the visualization to see where each genes is predominantly expressed. Look at the 4 different p-values associated with each gene and color the nodes with the type associated with the lowest FDR.\n",
    "\n",
    "Load in the scoring data. Specify the cancer type where the genes has the lowest FDR value:"
   ]
  },
  {
   "cell_type": "code",
   "execution_count": null,
   "metadata": {},
   "outputs": [],
   "source": [
    "nodes_in_network <- rownames(RNAseq_correlation_matrix)\n",
    "\n",
    "#add an additional column to the gene scores table to indicate in which samples\n",
    "# the gene is significant\n",
    "node_class <- vector(length = length(nodes_in_network),mode = \"character\")\n",
    "for(i in 1:length(nodes_in_network)){\n",
    "  current_row <- which(RNASeq_gene_scores$Name == nodes_in_network[i])\n",
    "  min_pvalue <- min(RNASeq_gene_scores[current_row,\n",
    "                                       grep(colnames(RNASeq_gene_scores), pattern = \"FDR\")])\n",
    "  if(RNASeq_gene_scores$FDR.mesen[current_row] <=min_pvalue){\n",
    "    node_class[i] <- paste(node_class[i],\"mesen\",sep = \" \")\n",
    "  }\n",
    "  if(RNASeq_gene_scores$FDR.diff[current_row] <=min_pvalue){\n",
    "    node_class[i] <- paste(node_class[i],\"diff\",sep = \" \")\n",
    "  }\n",
    "  if(RNASeq_gene_scores$FDR.prolif[current_row] <=min_pvalue){\n",
    "    node_class[i] <- paste(node_class[i],\"prolif\",sep = \" \")\n",
    "  }\n",
    "  if(RNASeq_gene_scores$FDR.immuno[current_row] <=min_pvalue){\n",
    "    node_class[i] <- paste(node_class[i],\"immuno\",sep = \" \")\n",
    "  }\n",
    "}\n",
    "node_class <- trimws(node_class)\n",
    "node_class_df <-data.frame(name=nodes_in_network, node_class,stringsAsFactors = FALSE)\n",
    "\n",
    "head(node_class_df)"
   ]
  },
  {
   "cell_type": "markdown",
   "metadata": {
    "lines_to_next_cell": 0
   },
   "source": [
    "Map the new node attribute and the all the gene scores to the network."
   ]
  },
  {
   "cell_type": "code",
   "execution_count": null,
   "metadata": {
    "eval": false
   },
   "outputs": [],
   "source": [
    "loadTableData(RNASeq_gene_scores,table.key.column = \"name\",data.key.column = \"Name\")  #default data.frame key is row.names\n",
    "\n",
    "loadTableData(node_class_df,table.key.column = \"name\",data.key.column = \"name\")  #default data.frame key is row.names"
   ]
  },
  {
   "cell_type": "markdown",
   "metadata": {
    "lines_to_next_cell": 0
   },
   "source": [
    "Create a color mapping for the different cancer types:"
   ]
  },
  {
   "cell_type": "code",
   "execution_count": null,
   "metadata": {
    "eval": false
   },
   "outputs": [],
   "source": [
    "#create a new mapping with the different types\n",
    "unique_types <- sort(unique(node_class))\n",
    "\n",
    "coul = brewer.pal(4, \"Set1\") \n",
    " \n",
    "# I can add more tones to this palette :\n",
    "coul = colorRampPalette(coul)(length(unique_types))\n",
    "\n",
    "setNodeColorMapping(table.column = \"node_class\",table.column.values = unique_types,\n",
    "                    colors = coul,mapping.type = \"d\")"
   ]
  },
  {
   "cell_type": "markdown",
   "metadata": {},
   "source": [
    "### Cluster the Network"
   ]
  },
  {
   "cell_type": "code",
   "execution_count": null,
   "metadata": {
    "eval": false
   },
   "outputs": [],
   "source": [
    "#make sure it is set to the right network\n",
    "  setCurrentNetwork(network = getNetworkName(suid=as.numeric(current_network_id)))\n",
    "\n",
    "  #cluster the network\n",
    "  clustermaker_url <- paste(\"cluster mcl network=SUID:\",current_network_id, sep=\"\")\n",
    "  commandsGET(clustermaker_url)\n",
    "  \n",
    "  #get the clustering results\n",
    "  default_node_table <- getTableColumns(table= \"node\",network = as.numeric(current_network_id))\n",
    " \n",
    "  head(default_node_table)"
   ]
  },
  {
   "cell_type": "markdown",
   "metadata": {
    "lines_to_next_cell": 0
   },
   "source": [
    "### Perform functional enrichment\n",
    "We can use the STRINGapp to perform a quick-and-easy functional enrichment analysis. This will provide functional labels (e.g., GO terms and pathways) to the bulk of genes in a given cluster.\n",
    "\n",
    "Focusing on cluster 1 as an example:"
   ]
  },
  {
   "cell_type": "code",
   "execution_count": null,
   "metadata": {},
   "outputs": [],
   "source": [
    "current_cluster <- \"1\"\n",
    "#select all the nodes in cluster 1\n",
    "selectednodes <- selectNodes(current_cluster, by.col=\"__mclCluster\")\n",
    "  \n",
    "#create a subnetwork with cluster 1\n",
    "subnetwork_suid <- createSubnetwork(nodes=\"selected\")\n"
   ]
  },
  {
   "cell_type": "markdown",
   "metadata": {
    "lines_to_next_cell": 0
   },
   "source": [
    "Let's \"stringify\" the network so that the STRINGapp can recognize its contents:"
   ]
  },
  {
   "cell_type": "code",
   "execution_count": null,
   "metadata": {},
   "outputs": [],
   "source": [
    "commandsRun('string stringify column=\"name\" species=\"Homo sapiens\"')"
   ]
  },
  {
   "cell_type": "markdown",
   "metadata": {
    "lines_to_next_cell": 0
   },
   "source": [
    "You may want to reapply the cluster-based style and readjust layout:"
   ]
  },
  {
   "cell_type": "code",
   "execution_count": null,
   "metadata": {},
   "outputs": [],
   "source": [
    "setVisualStyle(\"default\")\n",
    "layoutNetwork('force-directed defaultSpringCoefficient=0.000005 defaultSpringLength=60')"
   ]
  },
  {
   "cell_type": "markdown",
   "metadata": {
    "lines_to_next_cell": 0
   },
   "source": [
    "Then, it's just a few commands to perform enrichment analysis and display the results as color-coded node borders:"
   ]
  },
  {
   "cell_type": "code",
   "execution_count": null,
   "metadata": {},
   "outputs": [],
   "source": [
    "commandsPOST('string retrieve enrichment')\n",
    "commandsPOST('string show enrichment') #toggles to 'hide' after running\n",
    "commandsPOST('string show charts')"
   ]
  },
  {
   "cell_type": "markdown",
   "metadata": {
    "lines_to_next_cell": 0
   },
   "source": [
    "Export image of resulting cluster with enrichment results."
   ]
  },
  {
   "cell_type": "code",
   "execution_count": null,
   "metadata": {
    "include": true,
    "name": "cluster1em"
   },
   "outputs": [],
   "source": [
    "cluster1enr_png_file_name <- \"cluster1em.png\"\n"
   ]
  },
  {
   "cell_type": "code",
   "execution_count": null,
   "metadata": {
    "eval": false
   },
   "outputs": [],
   "source": [
    "if(file.exists(cluster1enr_png_file_name)){\n",
    "  #cytoscape hangs waiting for user response if file already exists.  Remove it first\n",
    "  file.remove(cluster1enr_png_file_name)\n",
    "  } \n",
    "\n",
    "#export the network\n",
    "exportImage(cluster1enr_png_file_name, type = \"png\")"
   ]
  }
 ],
 "metadata": {
  "jupytext": {
   "cell_metadata_filter": "tags,include,name,eval,-all",
   "main_language": "R",
   "notebook_metadata_filter": "-all"
  }
 },
 "nbformat": 4,
 "nbformat_minor": 4
}
