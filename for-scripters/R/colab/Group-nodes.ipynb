{
  "cells": [
    {
      "cell_type": "markdown",
      "metadata": {
        "id": "view-in-github",
        "colab_type": "text"
      },
      "source": [
        "<a href=\"https://colab.research.google.com/github/cytoscape/cytoscape-automation/blob/master/for-scripters/R/colab/Group-nodes.ipynb\" target=\"_parent\"><img src=\"https://colab.research.google.com/assets/colab-badge.svg\" alt=\"Open In Colab\"/></a>"
      ]
    },
    {
      "cell_type": "markdown",
      "metadata": {
        "lines_to_next_cell": 0,
        "id": "qnpNfNU9E2Lp"
      },
      "source": [
        "# Group nodes\n",
        "## Mark Grimes\n"
      ]
    },
    {
      "cell_type": "markdown",
      "metadata": {
        "lines_to_next_cell": 0,
        "id": "9cNOwoDJE2Lt"
      },
      "source": [
        "*The R markdown is available. [download the Rmd from GitHub](https://raw.githubusercontent.com/cytoscape/cytoscape-automation/master/for-scripters/R/notebooks/Group-nodes.Rmd).*\n",
        "\n",
        "<hr />\n",
        "\n",
        "This vignette will show you how to use node grouping functions to manipulate graphs in Cytoscape.\n",
        "\n",
        "# Installation"
      ]
    },
    {
      "cell_type": "code",
      "execution_count": null,
      "metadata": {
        "id": "i-HS4cv5E2Lt"
      },
      "outputs": [],
      "source": [
        "if(!\"RCy3\" %in% installed.packages()){\n",
        "    install.packages(\"BiocManager\")\n",
        "    BiocManager::install(\"RCy3\")\n",
        "}\n",
        "library(RCy3)"
      ]
    },
    {
      "cell_type": "markdown",
      "metadata": {
        "id": "1ExCpptZE2Lu"
      },
      "source": [
        "If you are using a remote notebook environment such as Google Colab, please execute the cell below. (If you're running on your local notebook, you don't need to do that.)"
      ]
    },
    {
      "cell_type": "code",
      "execution_count": null,
      "metadata": {
        "id": "J3Q9WvayE2Lv"
      },
      "outputs": [],
      "source": [
        "# Connect to local Cytoscape\n",
        "browserClientJs <- getBrowserClientJs()\n",
        "IRdisplay::display_javascript(browserClientJs)"
      ]
    },
    {
      "cell_type": "markdown",
      "metadata": {
        "id": "EwaMCEpeE2Lv"
      },
      "source": [
        "# Required Software\n",
        "The whole point of RCy3 is to connect with Cytoscape. You will need to install and launch Cytoscape:\n",
        "\n",
        "* Download the latest Cytoscape from http://www.cytoscape.org/download.php\n",
        "* Complete installation wizard\n",
        "* Launch Cytoscape"
      ]
    },
    {
      "cell_type": "code",
      "execution_count": null,
      "metadata": {
        "id": "H4QmDN-EE2Lv"
      },
      "outputs": [],
      "source": [
        "cytoscapePing()\n",
        "cytoscapeVersionInfo ()"
      ]
    },
    {
      "cell_type": "markdown",
      "metadata": {
        "id": "PTIyRfGzE2Lw"
      },
      "source": [
        "# Background\n",
        "\n",
        "The ability to group nodes together into \"metanodes\" and collapse them to a single node in a graph is useful for simplifying views of a complex network.\n",
        "\n",
        "The example in this vignette describes application of node grouping functions to data that includes protein-protein interactions and clustered correlations of protein post-translational modifications (Grimes, et al., 2018). This vignette plots five proteins and their modifications, and uses the node grouping functions to manipulate the graph in Cytoscape.\n",
        "\n",
        "# Example\n",
        "\n",
        "First we set up the node and edge data frames."
      ]
    },
    {
      "cell_type": "code",
      "execution_count": null,
      "metadata": {
        "name": "Create data frames and graph in Cytoscape",
        "id": "vvqcbePhE2Lw"
      },
      "outputs": [],
      "source": [
        "net.nodes <- c(\"ALK\", \"ALK p Y1078\", \"ALK p Y1096\", \"ALK p Y1586\", \"CTNND1\", \"CTNND1 p Y193\", \"CTNND1 p Y217\", \"CTNND1 p Y228\", \"CTNND1 p Y241\", \"CTNND1 p Y248\", \"CTNND1 p Y302\", \"CTNND1 p Y904\", \"CTTN\", \"CTTN ack K107\", \"CTTN ack K124\", \"CTTN ack K147\", \"CTTN ack K161\", \"CTTN ack K235\", \"CTTN ack K390\", \"CTTN ack K87\", \"CTTN p S113\", \"CTTN p S224\", \"CTTN p Y104\", \"CTTN p Y154\", \"CTTN p Y162\", \"CTTN p Y228\", \"CTTN p Y334\", \"CTTN p Y421\", \"IRS1\", \"IRS1 p Y632\", \"IRS1 p Y941\", \"IRS1 p Y989\", \"NPM1\", \"NPM1 ack K154\", \"NPM1 ack K223\", \"NPM1 p S214\", \"NPM1 p S218\")\n",
        "net.genes <- sapply(net.nodes,  function (x) unlist(strsplit(x, \" \",  fixed=TRUE))[1])\n",
        "parent <- c(\"\", \"ALK\", \"ALK\", \"ALK\", \"\", \"CTNND1\", \"CTNND1\", \"CTNND1\", \"CTNND1\", \"CTNND1\", \"CTNND1\", \"CTNND1\", \"\", \"CTTN\", \"CTTN\", \"CTTN\", \"CTTN\", \"CTTN\", \"CTTN\", \"CTTN\", \"CTTN\", \"CTTN\", \"CTTN\", \"CTTN\", \"CTTN\", \"CTTN\", \"CTTN\", \"CTTN\", \"\", \"IRS1\", \"IRS1\", \"IRS1\", \"\", \"NPM1\", \"NPM1\", \"NPM1\", \"NPM1\")\n",
        "nodeType <- c(\"protein\", \"modification\", \"modification\", \"modification\", \"protein\", \"modification\", \"modification\", \"modification\", \"modification\", \"modification\", \"modification\", \"modification\", \"protein\", \"modification\", \"modification\", \"modification\", \"modification\", \"modification\", \"modification\", \"modification\", \"modification\", \"modification\", \"modification\", \"modification\", \"modification\", \"modification\", \"modification\", \"modification\", \"protein\", \"modification\", \"modification\", \"modification\", \"protein\", \"modification\", \"modification\", \"modification\", \"modification\")\n",
        "netnodes.df <- data.frame(id=net.nodes, Gene.Name=net.genes, parent, nodeType, stringsAsFactors = FALSE)\n",
        "\n",
        "# Define edge data\n",
        "source.nodes <- c(\"ALK\", \"ALK\", \"ALK\", \"CTNND1\", \"CTNND1\", \"CTNND1\", \"CTNND1\", \"CTNND1\", \"CTNND1\", \"CTNND1\", \"CTTN\", \"CTTN\", \"CTTN\", \"CTTN\", \"CTTN\", \"CTTN\", \"CTTN\", \"CTTN\", \"CTTN\", \"CTTN\", \"CTTN\", \"CTTN\", \"CTTN\", \"CTTN\", \"CTTN\", \"IRS1\", \"IRS1\", \"IRS1\", \"NPM1\", \"NPM1\", \"NPM1\", \"NPM1\", \"ALK p Y1096\", \"CTNND1 p Y193\", \"CTNND1 p Y193\", \"CTNND1 p Y228\", \"CTNND1 p Y904\", \"CTNND1 p Y217\", \"CTNND1 p Y241\", \"CTNND1 p Y248\", \"ALK p Y1078\", \"ALK p Y1096\", \"ALK p Y1586\", \"IRS1 p Y941\", \"CTTN ack K147\", \"CTTN ack K107\", \"CTTN ack K235\", \"CTTN ack K87\", \"CTTN ack K147\", \"CTTN ack K124\", \"CTTN ack K147\", \"CTTN ack K235\", \"CTTN ack K161\", \"CTTN ack K390\", \"NPM1 ack K223\", \"NPM1 ack K154\", \"NPM1 ack K223\", \"ALK\", \"CTNND1\", \"CTNND1\", \"CTTN\", \"IRS1\")\n",
        "target.nodes <- c(\"ALK p Y1078\", \"ALK p Y1096\", \"ALK p Y1586\", \"CTNND1 p Y193\", \"CTNND1 p Y217\", \"CTNND1 p Y228\", \"CTNND1 p Y241\", \"CTNND1 p Y248\", \"CTNND1 p Y302\", \"CTNND1 p Y904\", \"CTTN ack K107\", \"CTTN ack K124\", \"CTTN ack K147\", \"CTTN ack K161\", \"CTTN ack K235\", \"CTTN ack K390\", \"CTTN ack K87\", \"CTTN p S113\", \"CTTN p S224\", \"CTTN p Y104\", \"CTTN p Y154\", \"CTTN p Y162\", \"CTTN p Y228\", \"CTTN p Y334\", \"CTTN p Y421\", \"IRS1 p Y632\", \"IRS1 p Y941\", \"IRS1 p Y989\", \"NPM1 ack K154\", \"NPM1 ack K223\", \"NPM1 p S214\", \"NPM1 p S218\", \"ALK p Y1586\", \"CTNND1 p Y228\", \"CTNND1 p Y302\", \"CTNND1 p Y302\", \"CTTN p Y154\", \"CTTN p Y162\", \"CTTN p Y162\", \"CTTN p Y334\", \"IRS1 p Y632\", \"IRS1 p Y989\", \"IRS1 p Y989\", \"IRS1 p Y989\", \"CTTN p S113\", \"CTTN p S224\", \"CTTN p S224\", \"CTTN p S224\", \"CTTN p Y104\", \"CTTN p Y228\", \"CTTN p Y228\", \"CTTN p Y228\", \"CTTN p Y421\", \"CTTN p Y421\", \"NPM1 p S214\", \"NPM1 p S218\", \"NPM1 p S218\", \"IRS1\", \"CTTN\", \"IRS1\", \"NPM1\", \"NPM1\")\n",
        "Weight <- c(100, 100, 100, 100, 100, 100, 100, 100, 100, 100, 100, 100, 100, 100, 100, 100, 100, 100, 100, 100, 100, 100, 100, 100, 100, 100, 100, 100, 100, 100, 100, 100, 0.8060606, 0.7575758, 0.7454545, 0.9393939, 0.8949096, 0.7329699, 0.7553845, 0.7866191, 0.775, 0.6969697, 0.7818182, 0.8424242, -0.7714286, -0.8385965, -0.5017544, -0.7473684, -0.5252838, -0.9428571, -0.8285714, -0.6713287, -0.5508772, -0.9428571, -0.8857143, -0.6310881, -0.8285714, 0.6123365, 2.115272, 0.002461723, 0.3354451, 0.5661711)\n",
        "netedges.df <- data.frame(source=source.nodes, target=target.nodes, Weight, stringsAsFactors = FALSE)\n",
        "\n",
        "#create network from data frames\n",
        "net.suid <- createNetworkFromDataFrames(netnodes.df, netedges.df, title=paste(paste(\"Group Nodes Test\"), 1+length(getNetworkList())), collection = \"RCy3 Vignettes\")\n",
        "\n",
        "# Make sure nodes are spread out sufficiently\n",
        "layoutNetwork('force-directed defaultSpringCoefficient=0.00001 defaultSpringLength=50 defaultNodeMass=5')"
      ]
    },
    {
      "cell_type": "markdown",
      "metadata": {
        "id": "BwqUAeVPE2Lx"
      },
      "source": [
        "Note that for convenience the data frame has defined whether a node is a protein or a modification, and also defined the parent node for each modification.\n",
        "\n",
        "The function selectNodes looks by default for the node SUID, which can be retrieved by getTableColumns. Alternatively, the data frame can be used to distinguish proteins and modifications."
      ]
    },
    {
      "cell_type": "code",
      "execution_count": null,
      "metadata": {
        "name": "Define nodes as proteins or modifications",
        "id": "9GpvQRVJE2Lx"
      },
      "outputs": [],
      "source": [
        "nodedata <- getTableColumns(\"node\")\n",
        "edgedata <- getTableColumns(\"edge\")\n",
        "genes <- netnodes.df[grep(\"protein\", netnodes.df$nodeType), \"id\"]\n",
        "\n",
        "#select by gene SUIDs\n",
        "geneSUIDs <- nodedata[grep(\"protein\", nodedata$nodeType), 1]\n",
        "selectNodes(geneSUIDs, preserve.current.selection = FALSE)"
      ]
    },
    {
      "cell_type": "code",
      "execution_count": null,
      "metadata": {
        "id": "l4syUyCcE2Ly"
      },
      "outputs": [],
      "source": [
        "# or by names in the \"id\" column\n",
        "selectNodes(c(\"ALK\",\"IRS1\"), by.col=\"id\", preserve.current.selection = FALSE)"
      ]
    },
    {
      "cell_type": "code",
      "execution_count": null,
      "metadata": {
        "id": "CPm62rzWE2Ly"
      },
      "outputs": [],
      "source": [
        "# or by names based on dataframe subsetting\n",
        "modifications <- netnodes.df[grep(\"modification\", netnodes.df$nodeType), \"id\"]\n",
        "selectNodes(modifications, by='id', pre=FALSE)"
      ]
    },
    {
      "cell_type": "code",
      "execution_count": null,
      "metadata": {
        "id": "5la5FKVNE2Ly"
      },
      "outputs": [],
      "source": [
        "# Now select one protein and all its modifications\n",
        "deltacatnodes <- netnodes.df[grep(\"CTNND1\", netnodes.df$Gene.Name), \"id\"]\n",
        "selectNodes(deltacatnodes, by.col=\"id\", preserve=FALSE)"
      ]
    },
    {
      "cell_type": "markdown",
      "metadata": {
        "lines_to_next_cell": 0,
        "id": "1uEo5H-vE2Ly"
      },
      "source": [
        "Let's create a new group of the selected nodes and collapse it into one node..."
      ]
    },
    {
      "cell_type": "code",
      "execution_count": null,
      "metadata": {
        "name": "Create a group.",
        "id": "gRtIBPD4E2Ly"
      },
      "outputs": [],
      "source": [
        "createGroup(\"delta catenin group\")\n",
        "collapseGroup(\"delta catenin group\")"
      ]
    },
    {
      "cell_type": "markdown",
      "metadata": {
        "lines_to_next_cell": 0,
        "id": "gywfXhosE2Ly"
      },
      "source": [
        "<center>\n",
        "![](https://cytoscape.github.io/cytoscape-automation/for-scripters/R/notebooks/data/img/group-node.png){width=60%}\n",
        "</center>\n",
        "\n",
        "...then expand it again."
      ]
    },
    {
      "cell_type": "code",
      "execution_count": null,
      "metadata": {
        "id": "F2FTV4kWE2Lz"
      },
      "outputs": [],
      "source": [
        "expandGroup(\"delta catenin group\")"
      ]
    },
    {
      "cell_type": "markdown",
      "metadata": {
        "lines_to_next_cell": 0,
        "id": "wdoEVHYlE2Lz"
      },
      "source": [
        "<center>\n",
        "![](https://cytoscape.github.io/cytoscape-automation/for-scripters/R/notebooks/data/img/group-node-expanded.png){width=60%}\n",
        "</center>\n",
        "\n",
        "For these data, we can create groups of all proteins together with their modifications. Here we name the groups by their gene names."
      ]
    },
    {
      "cell_type": "code",
      "execution_count": null,
      "metadata": {
        "name": "Create groups for all proteins - loop version",
        "id": "IQgivZQbE2Lz"
      },
      "outputs": [],
      "source": [
        "deleteGroup(\"delta catenin group\")\n",
        "for(i in 1:length(genes)) {\n",
        "    print(genes[i])\n",
        "    selectNodes(netnodes.df[grep(genes[i], netnodes.df$Gene.Name), \"id\"], by.col=\"id\", preserve=FALSE)\n",
        "    createGroup(genes[i])\n",
        "    collapseGroup(genes[i])\n",
        "}\n",
        "groups.1 <- listGroups()\n",
        "groups.1\n",
        "# should see 5 group SUIDs reported"
      ]
    },
    {
      "cell_type": "markdown",
      "metadata": {
        "lines_to_next_cell": 0,
        "id": "xzTLDmQQE2Lz"
      },
      "source": [
        "These can all be expanded at once."
      ]
    },
    {
      "cell_type": "code",
      "execution_count": null,
      "metadata": {
        "id": "FGTQC-EoE2Lz"
      },
      "outputs": [],
      "source": [
        "expandGroup(genes)"
      ]
    },
    {
      "cell_type": "markdown",
      "metadata": {
        "lines_to_next_cell": 0,
        "id": "MiZCpRuVE2Lz"
      },
      "source": [
        "An alternative method that might be quicker for large networks is to use the input data frame."
      ]
    },
    {
      "cell_type": "code",
      "execution_count": null,
      "metadata": {
        "name": "Alternative methods for creating groups",
        "id": "nZ9QAgRfE2Lz"
      },
      "outputs": [],
      "source": [
        "deleteGroup(genes)\n",
        "for(i in 1:length(genes)) {\n",
        "    print(genes[i])\n",
        "    createGroup(genes[i], nodes=netnodes.df[grep(genes[i], netnodes.df$Gene.Name), \"id\"], nodes.by.col = \"id\")\n",
        "}\n",
        "collapseGroup(genes)\n",
        "expandGroup(genes)"
      ]
    },
    {
      "cell_type": "markdown",
      "metadata": {
        "lines_to_next_cell": 0,
        "id": "2DdDdImAE2Lz"
      },
      "source": [
        "This can be done more simply using sapply()"
      ]
    },
    {
      "cell_type": "code",
      "execution_count": null,
      "metadata": {
        "name": "Create groups using data frame and get group info",
        "id": "xyL_UxLnE2L0"
      },
      "outputs": [],
      "source": [
        "deleteGroup(genes)\n",
        "sapply(genes, function(x) createGroup(x, nodes=netnodes.df[grep(x, netnodes.df$Gene.Name), \"id\"], nodes.by.col = \"id\"))\n",
        "collapseGroup(genes)"
      ]
    },
    {
      "cell_type": "markdown",
      "metadata": {
        "lines_to_next_cell": 0,
        "id": "ZUbLM-aOE2L0"
      },
      "source": [
        "A groups' information can be retrieved and independently expanded"
      ]
    },
    {
      "cell_type": "code",
      "execution_count": null,
      "metadata": {
        "lines_to_next_cell": 2,
        "id": "00QSu_DGE2L0"
      },
      "outputs": [],
      "source": [
        "getGroupInfo(\"ALK\")\n",
        "expandGroup(\"ALK\")\n",
        "\n",
        "# Get all groups' info\n",
        "group.info <- list()\n",
        "group.info <- lapply(listGroups()$groups, getGroupInfo)\n",
        "print(group.info)"
      ]
    },
    {
      "cell_type": "markdown",
      "metadata": {
        "id": "FwqROY6pE2L0"
      },
      "source": [
        "Reference\n",
        "\n",
        "Grimes, et al., 2018. Sci. Signal. Vol. 11, Issue 531, DOI: 10.1126/scisignal.aaq1087, http://stke.sciencemag.org/content/11/531/eaaq1087."
      ]
    }
  ],
  "metadata": {
    "jupytext": {
      "cell_metadata_filter": "name,tags,-all",
      "main_language": "R",
      "notebook_metadata_filter": "-all"
    },
    "kernelspec": {
      "display_name": "R",
      "name": "ir"
    },
    "language_info": {
      "name": "R"
    },
    "colab": {
      "provenance": [],
      "include_colab_link": true
    }
  },
  "nbformat": 4,
  "nbformat_minor": 0
}