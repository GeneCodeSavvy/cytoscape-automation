{
  "cells": [
    {
      "cell_type": "markdown",
      "metadata": {
        "id": "view-in-github",
        "colab_type": "text"
      },
      "source": [
        "<a href=\"https://colab.research.google.com/github/cytoscape/cytoscape-automation/blob/master/for-scripters/R/colab/AP-MS-network-analysis.ipynb\" target=\"_parent\"><img src=\"https://colab.research.google.com/assets/colab-badge.svg\" alt=\"Open In Colab\"/></a>"
      ]
    },
    {
      "cell_type": "markdown",
      "metadata": {
        "lines_to_next_cell": 0,
        "id": "b6NK6B0_iSOg"
      },
      "source": [
        "# Affinity purification-mass spectrometry network analysis\n",
        "## Kristina Hanspers, Alexander Pico"
      ]
    },
    {
      "cell_type": "markdown",
      "metadata": {
        "lines_to_next_cell": 0,
        "id": "IvaHO6AaiSOk"
      },
      "source": [
        "*The R markdown is available. [download the Rmd from GitHub](https://raw.githubusercontent.com/cytoscape/cytoscape-automation/master/for-scripters/R/notebooks/AP-MS-network-analysis.Rmd).*\n",
        "\n",
        "<hr />\n",
        "This vignette describes how to use data from an affinity purification-mass spectrometry experiment to generate relevant interaction networks, enriching the networks with information from public resources, analyzing the networks and creating effective visualizations.\n",
        "\n",
        "The result of this vignette will be a visualization of a human-HIV integrated network combining experimental data and publicly available interaction data. This approach was use to make Figure 3 in this [Jäger 2011 Nature paper](https://www.ncbi.nlm.nih.gov/pmc/articles/PMC3310911/).\n",
        "\n",
        "![](https://cytoscape.github.io/cytoscape-tutorials/protocols/AP-MS-network-analysis/final-module.png)\n",
        "<hr />\n",
        "\n",
        "# Installation"
      ]
    },
    {
      "cell_type": "code",
      "execution_count": null,
      "metadata": {
        "id": "oqSs1kd9iSOl",
        "outputId": "3c9c8890-0538-43b5-e85e-c50ab5f8491f",
        "colab": {
          "base_uri": "https://localhost:8080/"
        }
      },
      "outputs": [
        {
          "output_type": "stream",
          "name": "stderr",
          "text": [
            "Installing package into ‘/usr/local/lib/R/site-library’\n",
            "(as ‘lib’ is unspecified)\n",
            "\n",
            "'getOption(\"repos\")' replaces Bioconductor standard repositories, see\n",
            "'help(\"repositories\", package = \"BiocManager\")' for details.\n",
            "Replacement repositories:\n",
            "    CRAN: https://cran.rstudio.com\n",
            "\n",
            "Bioconductor version 3.17 (BiocManager 1.30.21), R 4.3.1 (2023-06-16)\n",
            "\n",
            "Installing package(s) 'BiocVersion', 'RCy3'\n",
            "\n",
            "also installing the dependencies ‘bitops’, ‘gtools’, ‘caTools’, ‘RJSONIO’, ‘XML’, ‘BiocGenerics’, ‘graph’, ‘uchardet’, ‘RCurl’, ‘base64url’, ‘gplots’\n",
            "\n",
            "\n",
            "Old packages: 'bit', 'broom', 'bslib', 'cpp11', 'curl', 'devtools', 'digest',\n",
            "  'gargle', 'gert', 'googledrive', 'googlesheets4', 'haven', 'highr',\n",
            "  'isoband', 'jsonlite', 'pkgbuild', 'pkgload', 'processx', 'rmarkdown',\n",
            "  'roxygen2', 'testthat', 'tidyverse', 'usethis', 'vctrs', 'whisker', 'boot',\n",
            "  'foreign'\n",
            "\n"
          ]
        }
      ],
      "source": [
        "if(!\"RCy3\" %in% installed.packages()){\n",
        "    install.packages(\"BiocManager\")\n",
        "    BiocManager::install(\"RCy3\")\n",
        "}\n",
        "library(RCy3)"
      ]
    },
    {
      "cell_type": "markdown",
      "metadata": {
        "id": "24RsNSBCiSOm"
      },
      "source": [
        "If you are using a remote notebook environment such as Google Colab, please execute the cell below. (If you're running on your local notebook, you don't need to do that.)"
      ]
    },
    {
      "cell_type": "code",
      "execution_count": null,
      "metadata": {
        "id": "CLZ-TdNyiSOn"
      },
      "outputs": [],
      "source": [
        "# Connect to local Cytoscape\n",
        "browserClientJs <- getBrowserClientJs()\n",
        "IRdisplay::display_javascript(browserClientJs)"
      ]
    },
    {
      "cell_type": "markdown",
      "metadata": {
        "id": "qD4gAdlViSOn"
      },
      "source": [
        "# Prerequisites\n",
        "In addition to this package (RCy3), you will need:\n",
        "\n",
        "  * **Latest version of Cytoscape**, which can be downloaded from https://cytoscape.org/download.html. Simply follow the installation instructions on screen.\n",
        "* Complete installation wizard\n",
        "* Launch Cytoscape\n",
        "For this vignette, you’ll also need the STRING app and the enhancedGraphics app:\n",
        "\n",
        "* Install the STRING app from https://apps.cytoscape.org/apps/stringapp\n",
        "* Install the enhancedGraphics app from http://apps.cytoscape.org/apps/enhancedgraphics"
      ]
    },
    {
      "cell_type": "code",
      "execution_count": null,
      "metadata": {
        "id": "nVcCI3YuiSOo"
      },
      "outputs": [],
      "source": [
        "installApp('stringApp')\n",
        "installApp('enhancedGraphics')"
      ]
    },
    {
      "cell_type": "markdown",
      "metadata": {
        "id": "P3r23SBRiSOo"
      },
      "source": [
        "# Background\n",
        "The data used for this protocol represents interactions between human and HIV proteins by Jäger et al (https://www.ncbi.nlm.nih.gov/pmc/articles/PMC3310911/). In this quantitative AP-MS experiment, a relatively small number of bait proteins are used to pull down a larger set of prey proteins.\n",
        "\n",
        "Note that this tutorial does not describe how to pre-process the raw AP-MS data, the data used here is already scored and filtered.\n",
        "\n",
        "# Import Network and Data\n",
        "Let's start by reading in the example data file:"
      ]
    },
    {
      "cell_type": "code",
      "execution_count": null,
      "metadata": {
        "id": "HrxEKzjpiSOp"
      },
      "outputs": [],
      "source": [
        "apms.data<-read.csv(file=\"https://raw.githubusercontent.com/cytoscape/cytoscape-automation/master/for-scripters/R/notebooks/AP-MS/ap-ms-demodata.csv\", stringsAsFactors = FALSE)"
      ]
    },
    {
      "cell_type": "markdown",
      "metadata": {
        "id": "Ee_mJ73XiSOp"
      },
      "source": [
        "Now we can create a data frame for the network edges (interactions) using the imported data. We will add an interaction \"AP-MS\" to each edge, which will be useful later, and we can also add the AP-MS score from the data as an edge attribute:"
      ]
    },
    {
      "cell_type": "code",
      "execution_count": null,
      "metadata": {
        "id": "ywZN1cULiSOp"
      },
      "outputs": [],
      "source": [
        "edges <- data.frame(source=apms.data[,\"Bait\"],target=apms.data[,\"Prey\"],interaction=\"AP-MS\", AP.MS.Score=apms.data[,\"AP.MS.Score\"],stringsAsFactors=FALSE)"
      ]
    },
    {
      "cell_type": "markdown",
      "metadata": {
        "lines_to_next_cell": 0,
        "id": "MkIoUxxUiSOq"
      },
      "source": [
        "Finally, we use the edge data fram to create the network. Note that we don't need to define a data frame for nodes, as all nodes in this case are represented in the edge data frame."
      ]
    },
    {
      "cell_type": "code",
      "execution_count": null,
      "metadata": {
        "id": "uoQAAIggiSOq"
      },
      "outputs": [],
      "source": [
        "createNetworkFromDataFrames(edges=edges, title=\"apms network\", collection = \"apms collection\")"
      ]
    },
    {
      "cell_type": "markdown",
      "metadata": {
        "id": "36Vf8nnYiSOq"
      },
      "source": [
        "The imported network consists of multiple smaller subnetworks, each representing a bait node and its associated prey nodes\n",
        "\n",
        "# Loading Data\n",
        "There are three other columns of data and annotations for the \"Prey\" proteins that we want to load into this network.\n",
        "\n",
        "In this data, the Prey nodes are repeated for each interactions with a Bait node, so the data contains different values for the same attribute (for example HEKScore), for each Prey node. During import, the last value imported will overwrite prior values and visualizations using this attribute thus only shows the last value."
      ]
    },
    {
      "cell_type": "code",
      "execution_count": null,
      "metadata": {
        "id": "7ZKD_rC_iSOq"
      },
      "outputs": [],
      "source": [
        "loadTableData(apms.data[,2:5], data.key.column=\"Prey\")"
      ]
    },
    {
      "cell_type": "markdown",
      "metadata": {
        "id": "CA4OVKpGiSOq"
      },
      "source": [
        "# Augmenting Network with Existing Protein-protein Interaction Data\n",
        "We are going to use existing protein-protein interaction data to enrich the network, using the STRING database with the human protein nodes as input.\n",
        "\n",
        "Let's collect all the UniProt identifiers from the data, and create a text string that we can use to query STRING. For this purpose, we are going to specify the type of network as \"physical subnetwork\", since we are looking for protein complexes:"
      ]
    },
    {
      "cell_type": "code",
      "execution_count": null,
      "metadata": {
        "id": "m5PZVhFOiSOq"
      },
      "outputs": [],
      "source": [
        "uniprot.str<-toString(apms.data[,\"UniProt\"])\n",
        "string.cmd<-paste('string protein query',\n",
        "                  'query=\"',uniprot.str,'\"',\n",
        "                  'species=\"Homo sapiens\"',\n",
        "                  'limit=0',\n",
        "                  'cutoff=0.999', 'networkType=\"physical subnetwork\"',\n",
        "                  sep= ' ')\n",
        "commandsRun(string.cmd)"
      ]
    },
    {
      "cell_type": "markdown",
      "metadata": {
        "id": "k73J1SgGiSOq"
      },
      "source": [
        "The resulting network contains known interactions between the human proteins, with an evidence score of 0.999 or greater.\n",
        "\n",
        "# Merge Networks\n",
        "To incorporate the new information into our AP-MS network, we need merge the STRING and AP-MS networks. We can use the Uniprot IDs available in both networks as the matching attribute, \"Uniprot\" in the AP-MS network, and \"query term in the String network.\n",
        "We will also specify how to merge the attribute containing the node name (symbol), which is contained in the \"name\" attribute for the AP-MS network and the \"display name\" for the String network."
      ]
    },
    {
      "cell_type": "code",
      "execution_count": null,
      "metadata": {
        "id": "MgEZ7BN1iSOr"
      },
      "outputs": [],
      "source": [
        "merge.cmd<-paste('network merge',\n",
        "                 'operation=union',\n",
        "                 'sources=\"apms network,STRING network (physical)\"',\n",
        "                 'nodeKeys=\"Uniprot,query term\"',\n",
        "                 'nodeMergeMap=\"{name,display name,display name, string}\"')\n",
        "commandsRun(merge.cmd)"
      ]
    },
    {
      "cell_type": "markdown",
      "metadata": {
        "lines_to_next_cell": 0,
        "id": "abJvpThriSOr"
      },
      "source": [
        "# Network Visualization\n",
        "When the merged network first loads, it will have the STRING style applied. However, because the HIV nodes are not from STRING, they will be grey. The layout also makes the network hard to interpret. Let's change the style of the network a bit.\n",
        "\n",
        "First, let's set our AP-MS network as the current network:"
      ]
    },
    {
      "cell_type": "code",
      "execution_count": null,
      "metadata": {
        "id": "PS7j3AIKiSOr"
      },
      "outputs": [],
      "source": [
        "setCurrentNetwork('union: apms network,STRING network (physical)')\n",
        "setCurrentView()"
      ]
    },
    {
      "cell_type": "markdown",
      "metadata": {
        "lines_to_next_cell": 0,
        "id": "hxoCJRE_iSOr"
      },
      "source": [
        "Next, we can define our style and apply it to the network:"
      ]
    },
    {
      "cell_type": "code",
      "execution_count": null,
      "metadata": {
        "id": "qVK5dnkXiSOr"
      },
      "outputs": [],
      "source": [
        "style.name = \"AP-MS\"\n",
        "createVisualStyle(style.name)\n",
        "lockNodeDimensions(TRUE)\n",
        "setNodeSizeDefault('50', style.name = style.name)\n",
        "setNodeColorDefault(\"#CCCCFF\", style.name=style.name)\n",
        "setNodeLabelMapping('display name', style.name=style.name)\n",
        "setVisualStyle(style.name=style.name)"
      ]
    },
    {
      "cell_type": "code",
      "execution_count": null,
      "metadata": {
        "id": "0EpvwvxZiSOr"
      },
      "outputs": [],
      "source": [
        "layoutNetwork(paste('force-directed',\n",
        "              'defaultSpringCoefficient=0.00001',\n",
        "              'defaultSpringLength=50',\n",
        "              'defaultNodeMass=4',\n",
        "              sep=' '))"
      ]
    },
    {
      "cell_type": "markdown",
      "metadata": {
        "id": "9gf8hnwyiSOr"
      },
      "source": [
        "# STRING Enrichment\n",
        "Now that we have a merged network, we can do enrichment analysis on it, using the STRING enrichment tool.\n",
        "\n",
        "The STRING app has built-in enrichment analysis functionality, which includes enrichment for GO Process, GO Component, GO Function, InterPro, KEGG Pathways, and PFAM."
      ]
    },
    {
      "cell_type": "code",
      "execution_count": null,
      "metadata": {
        "id": "ZES2TttLiSOs"
      },
      "outputs": [],
      "source": [
        "commandsRun('string make string network=\"current\"')\n",
        "\n",
        "string.cmd<-paste('string retrieve enrichment',\n",
        "                  'allNetSpecies=\"Homo sapiens\"')\n",
        "commandsRun(string.cmd)"
      ]
    },
    {
      "cell_type": "markdown",
      "metadata": {
        "lines_to_next_cell": 0,
        "id": "wB9LxHmFiSOs"
      },
      "source": [
        "The STRING enrichment results don't open by default if run from the command interface."
      ]
    },
    {
      "cell_type": "code",
      "execution_count": null,
      "metadata": {
        "id": "yNy_OeXPiSOs"
      },
      "outputs": [],
      "source": [
        "commandsRun('string show enrichment')"
      ]
    },
    {
      "cell_type": "markdown",
      "metadata": {
        "id": "-pB_QtPciSOs"
      },
      "source": [
        "The STRING app includes several options for filtering and displaying the enrichment results. We will filter the results to only show GO Process."
      ]
    },
    {
      "cell_type": "code",
      "execution_count": null,
      "metadata": {
        "id": "uWpWgwDjiSOs"
      },
      "outputs": [],
      "source": [
        "commandsRun(paste('string filter enrichment',\n",
        "                  'categories=\"GO Biological Process\"',\n",
        "                  'removeOverlapping=\"true\"',\n",
        "                  sep = ' '))"
      ]
    },
    {
      "cell_type": "markdown",
      "metadata": {
        "id": "r1knhioMiSOs"
      },
      "source": [
        "Next, we will add a split donut chart."
      ]
    },
    {
      "cell_type": "code",
      "execution_count": null,
      "metadata": {
        "id": "ASxaWPPwiSOt"
      },
      "outputs": [],
      "source": [
        "commandsRun('string show charts')"
      ]
    },
    {
      "cell_type": "markdown",
      "metadata": {
        "id": "SodYHHxpiSOt"
      },
      "source": [
        "# Visualizing Results - Jurkat Score\n",
        "We can create a visualization based on the Jurkat Score, and the different interaction types (AP-MS and STRING):"
      ]
    },
    {
      "cell_type": "code",
      "execution_count": null,
      "metadata": {
        "id": "KrQVVyEliSOt"
      },
      "outputs": [],
      "source": [
        "style.name = \"AP-MS Jurkat Score\"\n",
        "createVisualStyle(style.name)\n",
        "setVisualStyle(style.name)\n",
        "setNodeColorDefault(\"#FFCC00\", style.name=style.name)\n",
        "setNodeLabelMapping('display name', style.name=style.name)\n",
        "setEdgeColorMapping(\"interaction\", \"AP-MS\", \"#55AA55\", \"d\", style.name = style.name)\n",
        "setEdgeLineWidthMapping('AP.MS.Score', table.column.values=c(0,1), widths=c(1,5), mapping.type=\"c\", style.name=style.name)"
      ]
    },
    {
      "cell_type": "markdown",
      "metadata": {
        "id": "3aky69jhiSOt"
      },
      "source": [
        "Now, we define a color gradient based on the data values in the `JurkatScore` column:"
      ]
    },
    {
      "cell_type": "code",
      "execution_count": null,
      "metadata": {
        "id": "COpr6K4PiSOt"
      },
      "outputs": [],
      "source": [
        "setNodeColorMapping('JurkatScore', colors = paletteColorBrewerPurples, style.name=style.name)"
      ]
    },
    {
      "cell_type": "markdown",
      "metadata": {
        "id": "3DS90WsyiSOt"
      },
      "source": [
        "We now have a visualization of the network highlighting the ap-ms experimental data (green edges), as well as additional known interactions (grey edges), with node color indicating the Jurkat Score from the data.\n",
        "\n",
        "# Visualizing Results - Combined\n",
        "We could create a similar kind of style for the HEK score, but that only allows for viewing each style seperately. Instead, we can create a combined style, using the enhancedGraphics app.\n",
        "\n",
        "For this, we will need a new column defining a new attribute that will be used for mapping to the Custom Graphics property via the enhancedGraphics app. This new attribute has to be in the form of mappings recognized by the enhancedGraphics app.\n",
        "\n",
        "We can copy the previous style to retain some of the mappings we want to keep:"
      ]
    },
    {
      "cell_type": "code",
      "execution_count": null,
      "metadata": {
        "id": "nTL8X8ByiSOt"
      },
      "outputs": [],
      "source": [
        "copyVisualStyle(from.style=\"AP-MS Jurkat Score\", to.style=\"AP-MS CombinedScore\")\n",
        "setVisualStyle(style.name=\"AP-MS CombinedScore\")"
      ]
    },
    {
      "cell_type": "markdown",
      "metadata": {
        "id": "n7pS7CQpiSOu"
      },
      "source": [
        "To begin adding the new column, we first define a data frame with the new attribute formatted for enhancedGraphics:"
      ]
    },
    {
      "cell_type": "code",
      "execution_count": null,
      "metadata": {
        "id": "M1IyUra8iSOy"
      },
      "outputs": [],
      "source": [
        "all.nodes<-getAllNodes()\n",
        "combined.df<-data.frame(all.nodes, 'piechart: showlabels=false range=\"0,1\" arcstart=90 valuelist=\".5,.5\" colorlist=\"up:blue,zero:white,down:white;up:purple,zero:white,down:white\" attributelist=\"HEKScore,JurkatScore\"')\n",
        "colnames(combined.df)<-c(\"name\",\"CombinedScore\")"
      ]
    },
    {
      "cell_type": "markdown",
      "metadata": {
        "id": "BdxXULLkiSOz"
      },
      "source": [
        "Next, we load this dataframe into the Node Table to create and fill a new column:"
      ]
    },
    {
      "cell_type": "code",
      "execution_count": null,
      "metadata": {
        "id": "t2c22tJ-iSOz"
      },
      "outputs": [],
      "source": [
        "loadTableData(combined.df, data.key.column = \"name\", table.key.column = \"name\")"
      ]
    },
    {
      "cell_type": "markdown",
      "metadata": {
        "id": "RWrgyNbniSOz"
      },
      "source": [
        "We now have a new column, *CombinedScore*, that we can use for the mapping. This mapping does not come with a custom helper function, se we are going to use two alternative functions to prepare the passthrough mapping property and then update our visual style with the new mapping:"
      ]
    },
    {
      "cell_type": "code",
      "execution_count": null,
      "metadata": {
        "id": "nJMAT60kiSOz"
      },
      "outputs": [],
      "source": [
        "piechart.map<-mapVisualProperty('node customgraphics 4','CombinedScore','p')\n",
        "updateStyleMapping('AP-MS CombinedScore', piechart.map)"
      ]
    },
    {
      "cell_type": "markdown",
      "metadata": {
        "lines_to_next_cell": 0,
        "id": "Q37HEN4-iSOz"
      },
      "source": [
        "Remember that when we imported multiple values for a single node attribute, such as the scores for human nodes interacting with more than one HIV nodes, the last value imported will overwrite prior values and the visualization thus only shows the last value. For <b>EIF3A</b>, which interacts with both <b>PR</b> and <b>POL</b>, only the data relevant to the <b>PR</b> interaction is maintained in the Node Table because our source data was sorted alphabetically by Bait.\n",
        "\n",
        "# Saving, sharing and publishing\n",
        "\n",
        "## Saving a Cytoscape session file\n",
        "Session files save *everything*. As with most project software, we recommend saving often!"
      ]
    },
    {
      "cell_type": "code",
      "execution_count": null,
      "metadata": {
        "lines_to_next_cell": 0,
        "id": "BVHcjHigiSOz"
      },
      "outputs": [],
      "source": [
        "saveSession('AP-MS_session') #.cys"
      ]
    },
    {
      "cell_type": "markdown",
      "metadata": {
        "lines_to_next_cell": 0,
        "id": "icRR9MhIiSO0"
      },
      "source": [
        "**Note:** If you don't specify a complete path, the files will be saved relative to your current working directory in R.\n",
        "\n",
        "## Saving high resolution image files\n",
        "You can export extremely high resolution images, including vector graphic formats."
      ]
    },
    {
      "cell_type": "code",
      "execution_count": null,
      "metadata": {
        "id": "vZDlBf1ViSO0"
      },
      "outputs": [],
      "source": [
        "exportImage('AP-MS_image', type = 'PDF') #.pdf\n",
        "?exportImage"
      ]
    }
  ],
  "metadata": {
    "jupytext": {
      "cell_metadata_filter": "tags,-all",
      "main_language": "R",
      "notebook_metadata_filter": "-all"
    },
    "kernelspec": {
      "display_name": "R",
      "name": "ir"
    },
    "language_info": {
      "name": "R"
    },
    "colab": {
      "provenance": [],
      "include_colab_link": true
    }
  },
  "nbformat": 4,
  "nbformat_minor": 0
}