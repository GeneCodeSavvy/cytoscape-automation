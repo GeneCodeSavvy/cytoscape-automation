{
  "cells": [
    {
      "cell_type": "markdown",
      "metadata": {
        "id": "view-in-github",
        "colab_type": "text"
      },
      "source": [
        "<a href=\"https://colab.research.google.com/github/cytoscape/cytoscape-automation/blob/master/for-scripters/R/colab/Filtering-Networks.ipynb\" target=\"_parent\"><img src=\"https://colab.research.google.com/assets/colab-badge.svg\" alt=\"Open In Colab\"/></a>"
      ]
    },
    {
      "cell_type": "markdown",
      "metadata": {
        "lines_to_next_cell": 0,
        "id": "qm4A777HEhmC"
      },
      "source": [
        "# Filtering Networks\n",
        "## Kristina Hanspers, Alexander Pico\n"
      ]
    },
    {
      "cell_type": "markdown",
      "metadata": {
        "lines_to_next_cell": 0,
        "id": "IUfeRSCiEhmF"
      },
      "source": [
        "*The R markdown is available. [download the Rmd from GitHub](https://raw.githubusercontent.com/cytoscape/cytoscape-automation/master/for-scripters/R/notebooks/Filtering-Networks.Rmd).*\n",
        "\n",
        "<hr />\n",
        "\n",
        "This vignette will introduce you to some techniques for filtering a network based on node properties. You will learn to:\n",
        "\n",
        "1. Select a set of nodes based on node degree and attribute filters\n",
        "2. Create a subnetwork based on selected nodes\n",
        "3. Hide a set of nodes based on filters\n",
        "\n",
        "For this tutorial, we will use data from the STRING database (https://string-db.org/).\n",
        "\n",
        "# Installation"
      ]
    },
    {
      "cell_type": "code",
      "execution_count": null,
      "metadata": {
        "id": "tcGHawD-EhmG"
      },
      "outputs": [],
      "source": [
        "if(!\"RCy3\" %in% installed.packages()){\n",
        "    install.packages(\"BiocManager\")\n",
        "    BiocManager::install(\"RCy3\")\n",
        "}\n",
        "library(RCy3)"
      ]
    },
    {
      "cell_type": "markdown",
      "metadata": {
        "id": "AMYWQX1sEhmH"
      },
      "source": [
        "If you are using a remote notebook environment such as Google Colab, please execute the cell below. (If you're running on your local notebook, you don't need to do that.)"
      ]
    },
    {
      "cell_type": "code",
      "execution_count": null,
      "metadata": {
        "id": "IYdhXGdSEhmH"
      },
      "outputs": [],
      "source": [
        "# Connect to local Cytoscape\n",
        "browserClientJs <- getBrowserClientJs()\n",
        "IRdisplay::display_javascript(browserClientJs)"
      ]
    },
    {
      "cell_type": "markdown",
      "metadata": {
        "id": "ujNfEzC-EhmI"
      },
      "source": [
        "# Prerequisites\n",
        "In addition to this package (RCy3), you will need:\n",
        "\n",
        "* **Cytoscape 3.7** or greater, which can be downloaded from https://cytoscape.org/download.html. Simply follow the installation instructions on screen.\n",
        "* Complete installation wizard\n",
        "* Install the STRING app:"
      ]
    },
    {
      "cell_type": "code",
      "execution_count": null,
      "metadata": {
        "id": "yR2VL48XEhmI"
      },
      "outputs": [],
      "source": [
        "installApp('STRINGapp')"
      ]
    },
    {
      "cell_type": "markdown",
      "metadata": {
        "lines_to_next_cell": 0,
        "id": "Y6ONyq1oEhmI"
      },
      "source": [
        "# Get network from STRING\n",
        "We are going to query the STRING Disease database for the term \"breast cancer\". By default, the app pulls the top 100 human proteins associated with the disease along with edges having an evidence strength of 0.4 or greater:"
      ]
    },
    {
      "cell_type": "code",
      "execution_count": null,
      "metadata": {
        "id": "vH0wdgteEhmJ"
      },
      "outputs": [],
      "source": [
        "string.cmd = 'string disease query disease=\"breast cancer\"'\n",
        "commandsRun(string.cmd)\n",
        "string.net<-getNetworkSuid()  #grab handle on network for future reference"
      ]
    },
    {
      "cell_type": "markdown",
      "metadata": {
        "id": "IzxMB2ixEhmJ"
      },
      "source": [
        "# Filtering by degree\n",
        "## Creating a degree filter\n",
        "Every node in a network has a Degree property, which corresponds to the number of edges connecting the node to other nodes, either as a target or source. Filtering based on node degree is a useful way to remove nodes with too few (or too many) connections.\n",
        "\n",
        "In this example we want to exclude low degree nodes, e.g., those with only 0, 1 or 2 connections:"
      ]
    },
    {
      "cell_type": "code",
      "execution_count": null,
      "metadata": {
        "id": "1OtJb5xREhmJ"
      },
      "outputs": [],
      "source": [
        "createDegreeFilter('degree filter', c(0,2), 'IS_NOT_BETWEEN')"
      ]
    },
    {
      "cell_type": "markdown",
      "metadata": {
        "id": "DUcC32lIEhmK"
      },
      "source": [
        "At the bottom of the Select tab, you can see how many edges/nodes where selected.\n",
        "\n",
        "## Creating a subnetwork from a selection\n",
        "We can now create a new network, or subnetwork, from our selected set of nodes and all relevant edges:"
      ]
    },
    {
      "cell_type": "code",
      "execution_count": null,
      "metadata": {
        "id": "j3F_aMpuEhmK"
      },
      "outputs": [],
      "source": [
        "createSubnetwork(subnetwork.name ='Breast cancer: highly connected nodes')"
      ]
    },
    {
      "cell_type": "markdown",
      "metadata": {
        "lines_to_next_cell": 0,
        "id": "nunNUBaGEhmK"
      },
      "source": [
        "<center>\n",
        "![](https://cytoscape.github.io/cytoscape-automation/for-scripters/R/notebooks/data/img/filter-subnet1.png){width=60%}\n",
        "</center>\n",
        "\n",
        "# Filtering by attribute\n",
        "## Creating a column filter\n",
        "We could also filter the network based on high disease score. The disease score comes from STRING and indicates the strength of the association to the disease queried.\n",
        "\n",
        "Let's select nodes from the original network with a disease score of greater than 4 (on a scale of 1-5):"
      ]
    },
    {
      "cell_type": "code",
      "execution_count": null,
      "metadata": {
        "lines_to_next_cell": 0,
        "id": "P6ryAS1yEhmK"
      },
      "outputs": [],
      "source": [
        "createColumnFilter(filter.name='disease score filter', column='stringdb::disease score', 4, 'GREATER_THAN', network = string.net)"
      ]
    },
    {
      "cell_type": "markdown",
      "metadata": {
        "lines_to_next_cell": 0,
        "id": "zu5h8TxtEhmL"
      },
      "source": [
        "Again, we can create a subnetwork from the selection:"
      ]
    },
    {
      "cell_type": "code",
      "execution_count": null,
      "metadata": {
        "id": "GgDHs3VyEhmL"
      },
      "outputs": [],
      "source": [
        "createSubnetwork(subnetwork.name ='Breast cancer: high disease score')"
      ]
    },
    {
      "cell_type": "markdown",
      "metadata": {
        "id": "DLUsAoVfEhmL"
      },
      "source": [
        "# Combining filters\n",
        "But what if we want to combine these two filters? You could apply them sequentially as individual filters, but then you'd need to be careful about the order in which you apply the filters. Alternatively, you can create a composite filter and apply the logic all at once!  \n",
        "\n",
        "Let's combine the two filters \"degree filter\" and \"disease score\" to produce one filter, then apply it to the original network and create a final subnetwork:"
      ]
    },
    {
      "cell_type": "code",
      "execution_count": null,
      "metadata": {
        "id": "aULayYdvEhmL"
      },
      "outputs": [],
      "source": [
        "createCompositeFilter('combined filter', c('degree filter','disease score filter'), network = string.net)\n",
        "createSubnetwork(subnetwork.name ='final subnetwork')"
      ]
    },
    {
      "cell_type": "markdown",
      "metadata": {
        "lines_to_next_cell": 0,
        "id": "D9-XKkA2EhmL"
      },
      "source": [
        "We can apply a layout to help with interpreting the network:"
      ]
    },
    {
      "cell_type": "code",
      "execution_count": null,
      "metadata": {
        "id": "cpj5t6stEhmL"
      },
      "outputs": [],
      "source": [
        "layoutNetwork('force-directed defaultSpringCoefficient=5E-6')"
      ]
    },
    {
      "cell_type": "markdown",
      "metadata": {
        "id": "RMHIovZuEhmL"
      },
      "source": [
        "This final network obviously contains fewer nodes than the original, but they are the most connected and most highly associated with the disease. If you examine the network you can see several well-known breast cancer oncogenes, for example BRCA1, TP53 and PTEN, near the center of the action.\n",
        "\n",
        "<center>\n",
        "![](https://cytoscape.github.io/cytoscape-automation/for-scripters/R/notebooks/data/img/filter-subnet2.png){width=60%}\n",
        "</center>\n",
        "\n",
        "# Hiding filtered nodes\n",
        "As a final example of the filter functions, let's return to the orignal network once more and apply our \"combined filter\". But this time let's *hide* the filtered out nodes, rather than forming a selection. This demonstrates the *applyFilter* function and the *hide* parameter that is optional for all *createXXXFilter* functions as well."
      ]
    },
    {
      "cell_type": "code",
      "execution_count": null,
      "metadata": {
        "id": "P_Hjng-9EhmM"
      },
      "outputs": [],
      "source": [
        "applyFilter('combined filter', hide=TRUE, network = string.net)"
      ]
    }
  ],
  "metadata": {
    "jupytext": {
      "cell_metadata_filter": "name,tags,-all",
      "main_language": "R",
      "notebook_metadata_filter": "-all"
    },
    "kernelspec": {
      "display_name": "R",
      "name": "ir"
    },
    "language_info": {
      "name": "R"
    },
    "colab": {
      "provenance": [],
      "include_colab_link": true
    }
  },
  "nbformat": 4,
  "nbformat_minor": 0
}