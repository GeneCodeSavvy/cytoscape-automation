{
 "cells": [
  {
   "cell_type": "raw",
   "metadata": {
    "lines_to_next_cell": 0
   },
   "source": [
    "---\n",
    "title: \"Importing Network From Table\"\n",
    "author: \"Kristina Hanspers\"\n",
    "package: RCy3\n",
    "date: \"`r Sys.Date()`\"\n",
    "output: \n",
    "  html_notebook:\n",
    "    toc_float: true\n",
    "    code_folding: \"none\"\n",
    "#  pdf_document:\n",
    "#    toc: true    \n",
    "---"
   ]
  },
  {
   "cell_type": "code",
   "execution_count": null,
   "metadata": {
    "tags": [
     "remove_input"
    ]
   },
   "outputs": [],
   "source": [
    "knitr::opts_chunk$set(\n",
    "  eval=FALSE\n",
    ")"
   ]
  },
  {
   "cell_type": "markdown",
   "metadata": {
    "lines_to_next_cell": 0
   },
   "source": [
    "*The R markdown is available from the pulldown menu for* Code *at the upper-right, choose \"Download Rmd\", or [download the Rmd from GitHub](https://raw.githubusercontent.com/cytoscape/cytoscape-automation/master/for-scripters/R/notebooks/ImportNetworkFromTable.Rmd).*\n",
    "\n",
    "<hr />\n",
    "In addition to importing networks in network file formats, such as **sif** and **xgmml**, Cytoscape also supports importing networks from tabular data. In this vignette, the data table represents protein-protein interaction data from a mass-spectrometry experiment.\n",
    "\n",
    "# Installation"
   ]
  },
  {
   "cell_type": "code",
   "execution_count": null,
   "metadata": {},
   "outputs": [],
   "source": [
    "if(!\"RCy3\" %in% installed.packages()){\n",
    "    install.packages(\"BiocManager\")\n",
    "    BiocManager::install(\"RCy3\")\n",
    "}\n",
    "library(RCy3)"
   ]
  },
  {
   "cell_type": "markdown",
   "metadata": {
    "lines_to_next_cell": 0
   },
   "source": [
    "# Getting started\n",
    "First, launch Cytoscape and keep it running whenever using RCy3. Confirm that you have everything installed and running:"
   ]
  },
  {
   "cell_type": "code",
   "execution_count": null,
   "metadata": {},
   "outputs": [],
   "source": [
    "    cytoscapePing()\n",
    "    cytoscapeVersionInfo()"
   ]
  },
  {
   "cell_type": "markdown",
   "metadata": {},
   "source": [
    "# Background\n",
    "The data used for this protocol represents interactions between human and HIV proteins by [Jäger et al](https://www.ncbi.nlm.nih.gov/pmc/articles/PMC3310911/). In this quantitative AP-MS experiment, a relatively small number of bait proteins were used to pull down a larger set of prey proteins.\n",
    "\n",
    "Note that this tutorial does not describe how to pre-process the raw AP-MS data, the data used here is already scored and filtered.\n",
    "\n",
    "# Import Network\n",
    "\n",
    "First let's read in the example data file:"
   ]
  },
  {
   "cell_type": "code",
   "execution_count": null,
   "metadata": {},
   "outputs": [],
   "source": [
    "apms.data<-read.csv(file=\"https://raw.githubusercontent.com/cytoscape/cytoscape-automation/master/for-scripters/R/notebooks/AP-MS/ap-ms-demodata_simple.csv\", stringsAsFactors = FALSE)"
   ]
  },
  {
   "cell_type": "markdown",
   "metadata": {},
   "source": [
    "Now we can create a data frame for the network edges (interactions) using the imported data. We can also add the AP-MS score from the data as an edge attribute: "
   ]
  },
  {
   "cell_type": "code",
   "execution_count": null,
   "metadata": {},
   "outputs": [],
   "source": [
    "edges <- data.frame(source=apms.data[,\"Bait\"],target=apms.data[,\"Prey\"], AP.MS.Score=apms.data[,\"AP.MS.Score\"],stringsAsFactors=FALSE)"
   ]
  },
  {
   "cell_type": "markdown",
   "metadata": {},
   "source": [
    "Finally, we use the edge data frame to create the network. Note that we don't need to define a data frame for nodes, as all nodes in this case are represented in the edge data frame."
   ]
  },
  {
   "cell_type": "code",
   "execution_count": null,
   "metadata": {},
   "outputs": [],
   "source": [
    "createNetworkFromDataFrames(edges=edges, title=\"apms network\", collection = \"apms collection\")"
   ]
  },
  {
   "cell_type": "markdown",
   "metadata": {},
   "source": [
    "The imported network consists of multiple smaller subnetworks, each representing a bait node and its associated prey nodes.\n",
    "\n",
    "# Loading Data\n",
    "There is one other column of data for the prey proteins that we want to load into this network, the **HEKScore**.\n",
    "\n",
    "In this data, the prey nodes are repeated for each interactions with a Bait node, so the data contains different values for the same attribute (for example HEKScore), for each Prey node. During import, the last value imported will overwrite prior values and visualizations using this attribute thus only shows the last value."
   ]
  },
  {
   "cell_type": "code",
   "execution_count": null,
   "metadata": {},
   "outputs": [],
   "source": [
    "loadTableData(apms.data[,c(\"Prey\",\"HEKScore\")], data.key.column=\"Prey\")"
   ]
  },
  {
   "cell_type": "markdown",
   "metadata": {},
   "source": [
    "The imported network consists of multiple smaller subnetworks, each representing a bait node and its associated prey nodes:\n",
    "\n",
    "<center>\n",
    "![](./data/img/apms-nw.png)\n"
   ]
  }
 ],
 "metadata": {
  "jupytext": {
   "cell_metadata_filter": "tags,-all",
   "main_language": "R",
   "notebook_metadata_filter": "-all"
  }
 },
 "nbformat": 4,
 "nbformat_minor": 4
}
