{
  "cells": [
    {
      "cell_type": "markdown",
      "metadata": {
        "id": "view-in-github",
        "colab_type": "text"
      },
      "source": [
        "<a href=\"https://colab.research.google.com/github/cytoscape/cytoscape-automation/blob/master/for-scripters/R/colab/ImportNetworkFromTable.ipynb\" target=\"_parent\"><img src=\"https://colab.research.google.com/assets/colab-badge.svg\" alt=\"Open In Colab\"/></a>"
      ]
    },
    {
      "cell_type": "markdown",
      "metadata": {
        "lines_to_next_cell": 0,
        "id": "97CH9AWTFeeG"
      },
      "source": [
        "# Importing Network From Table\n",
        "## Kristina Hanspers\n"
      ]
    },
    {
      "cell_type": "markdown",
      "metadata": {
        "lines_to_next_cell": 0,
        "id": "sn9d8FHIFeeL"
      },
      "source": [
        "*The R markdown is available. [download the Rmd from GitHub](https://raw.githubusercontent.com/cytoscape/cytoscape-automation/master/for-scripters/R/notebooks/ImportNetworkFromTable.Rmd).*\n",
        "\n",
        "<hr />\n",
        "In addition to importing networks in network file formats, such as **sif** and **xgmml**, Cytoscape also supports importing networks from tabular data. In this vignette, the data table represents protein-protein interaction data from a mass-spectrometry experiment.\n",
        "\n",
        "# Installation"
      ]
    },
    {
      "cell_type": "code",
      "execution_count": null,
      "metadata": {
        "id": "1IEhek14FeeM"
      },
      "outputs": [],
      "source": [
        "if(!\"RCy3\" %in% installed.packages()){\n",
        "    install.packages(\"BiocManager\")\n",
        "    BiocManager::install(\"RCy3\")\n",
        "}\n",
        "library(RCy3)"
      ]
    },
    {
      "cell_type": "markdown",
      "metadata": {
        "id": "wUbjbLDcFeeN"
      },
      "source": [
        "If you are using a remote notebook environment such as Google Colab, please execute the cell below. (If you're running on your local notebook, you don't need to do that.)"
      ]
    },
    {
      "cell_type": "code",
      "execution_count": null,
      "metadata": {
        "id": "2r7W4zKoFeeN"
      },
      "outputs": [],
      "source": [
        "# Connect to local Cytoscape\n",
        "browserClientJs <- getBrowserClientJs()\n",
        "IRdisplay::display_javascript(browserClientJs)"
      ]
    },
    {
      "cell_type": "markdown",
      "metadata": {
        "lines_to_next_cell": 0,
        "id": "pMH8P7y0FeeO"
      },
      "source": [
        "# Getting started\n",
        "First, launch Cytoscape and keep it running whenever using RCy3. Confirm that you have everything installed and running:"
      ]
    },
    {
      "cell_type": "code",
      "execution_count": null,
      "metadata": {
        "id": "a-GFbgCYFeeO"
      },
      "outputs": [],
      "source": [
        "    cytoscapePing()\n",
        "    cytoscapeVersionInfo()"
      ]
    },
    {
      "cell_type": "markdown",
      "metadata": {
        "id": "zc-cQmWzFeeP"
      },
      "source": [
        "# Background\n",
        "The data used for this protocol represents interactions between human and HIV proteins by [Jäger et al](https://www.ncbi.nlm.nih.gov/pmc/articles/PMC3310911/). In this quantitative AP-MS experiment, a relatively small number of bait proteins were used to pull down a larger set of prey proteins.\n",
        "\n",
        "Note that this tutorial does not describe how to pre-process the raw AP-MS data, the data used here is already scored and filtered.\n",
        "\n",
        "# Import Network\n",
        "\n",
        "First let's read in the example data file:"
      ]
    },
    {
      "cell_type": "code",
      "execution_count": null,
      "metadata": {
        "id": "093aXoRaFeeP"
      },
      "outputs": [],
      "source": [
        "apms.data<-read.csv(file=\"https://raw.githubusercontent.com/cytoscape/cytoscape-automation/master/for-scripters/R/notebooks/AP-MS/ap-ms-demodata_simple.csv\", stringsAsFactors = FALSE)"
      ]
    },
    {
      "cell_type": "markdown",
      "metadata": {
        "id": "b6Xd2iW5FeeP"
      },
      "source": [
        "Now we can create a data frame for the network edges (interactions) using the imported data. We can also add the AP-MS score from the data as an edge attribute:"
      ]
    },
    {
      "cell_type": "code",
      "execution_count": null,
      "metadata": {
        "id": "XrQQBQobFeeQ"
      },
      "outputs": [],
      "source": [
        "edges <- data.frame(source=apms.data[,\"Bait\"],target=apms.data[,\"Prey\"], AP.MS.Score=apms.data[,\"AP.MS.Score\"],stringsAsFactors=FALSE)"
      ]
    },
    {
      "cell_type": "markdown",
      "metadata": {
        "id": "fEgmWfgRFeeQ"
      },
      "source": [
        "Finally, we use the edge data frame to create the network. Note that we don't need to define a data frame for nodes, as all nodes in this case are represented in the edge data frame."
      ]
    },
    {
      "cell_type": "code",
      "execution_count": null,
      "metadata": {
        "id": "byYZ0q7ZFeeQ"
      },
      "outputs": [],
      "source": [
        "createNetworkFromDataFrames(edges=edges, title=\"apms network\", collection = \"apms collection\")"
      ]
    },
    {
      "cell_type": "markdown",
      "metadata": {
        "id": "yz4JjG8NFeeQ"
      },
      "source": [
        "The imported network consists of multiple smaller subnetworks, each representing a bait node and its associated prey nodes.\n",
        "\n",
        "# Loading Data\n",
        "There is one other column of data for the prey proteins that we want to load into this network, the **HEKScore**.\n",
        "\n",
        "In this data, the prey nodes are repeated for each interactions with a Bait node, so the data contains different values for the same attribute (for example HEKScore), for each Prey node. During import, the last value imported will overwrite prior values and visualizations using this attribute thus only shows the last value."
      ]
    },
    {
      "cell_type": "code",
      "execution_count": null,
      "metadata": {
        "id": "Pw-H2EwkFeeQ"
      },
      "outputs": [],
      "source": [
        "loadTableData(apms.data[,c(\"Prey\",\"HEKScore\")], data.key.column=\"Prey\")"
      ]
    },
    {
      "cell_type": "markdown",
      "metadata": {
        "id": "DelUa0xYFeeQ"
      },
      "source": [
        "The imported network consists of multiple smaller subnetworks, each representing a bait node and its associated prey nodes:\n",
        "\n",
        "<center>\n",
        "![](./data/img/apms-nw.png)\n"
      ]
    }
  ],
  "metadata": {
    "jupytext": {
      "cell_metadata_filter": "tags,-all",
      "main_language": "R",
      "notebook_metadata_filter": "-all"
    },
    "kernelspec": {
      "display_name": "R",
      "name": "ir"
    },
    "language_info": {
      "name": "R"
    },
    "colab": {
      "provenance": [],
      "include_colab_link": true
    }
  },
  "nbformat": 4,
  "nbformat_minor": 0
}