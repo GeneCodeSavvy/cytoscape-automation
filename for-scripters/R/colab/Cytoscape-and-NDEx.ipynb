{
 "cells": [
  {
   "cell_type": "raw",
   "metadata": {
    "lines_to_next_cell": 0
   },
   "source": [
    "---\n",
    "title: \"Cytoscape and NDEx\"\n",
    "author: \"by Alexander Pico, Florian Auer\"\n",
    "package: RCy3\n",
    "date: \"`r Sys.Date()`\"\n",
    "output: \n",
    "  html_notebook:\n",
    "    toc_float: true\n",
    "    code_folding: \"none\"\n",
    "#  pdf_document:\n",
    "#    toc: true \n",
    "vignette: >\n",
    "  %\\VignetteIndexEntry{09. Cytoscape and NDEx ~20 min}\n",
    "  %\\VignetteEngine{knitr::rmarkdown}\n",
    "  %\\VignetteEncoding{UTF-8}\n",
    "---"
   ]
  },
  {
   "cell_type": "code",
   "execution_count": null,
   "metadata": {
    "lines_to_next_cell": 0,
    "tags": [
     "remove_input"
    ]
   },
   "outputs": [],
   "source": [
    "knitr::opts_chunk$set(\n",
    "  eval=FALSE\n",
    ")"
   ]
  },
  {
   "cell_type": "markdown",
   "metadata": {
    "lines_to_next_cell": 0
   },
   "source": [
    "*The R markdown is available from the pulldown menu for* Code *at the upper-right, choose \"Download Rmd\", or [download the Rmd from GitHub](https://raw.githubusercontent.com/cytoscape/cytoscape-automation/master/for-scripters/R/notebooks/Cytoscape-and-NDEx.Rmd).*\n",
    "\n",
    "<hr />\n",
    "\n",
    "*Cytoscape* is a well-known bioinformatics tool for displaying and exploring biological networks.\n",
    "**R** is a powerful programming language and environment for statistical and exploratory data analysis.\n",
    "*RCy3* uses CyREST to communicate between **R** and Cytoscape, allowing any graphs (e.g., igraph, graphNEL or dataframes) to be viewed, explored and manipulated with the Cytoscape point-and-click visual interface. Thus, via RCy3, these two quite different, quite useful bioinformatics software environments are connected, mutually enhancing each other, providing new possibilities for exploring biological data.\n",
    "\n",
    "# Installation"
   ]
  },
  {
   "cell_type": "code",
   "execution_count": null,
   "metadata": {},
   "outputs": [],
   "source": [
    "if(!\"RCy3\" %in% installed.packages()){\n",
    "    install.packages(\"BiocManager\")\n",
    "    BiocManager::install(\"RCy3\")\n",
    "}\n",
    "library(RCy3)\n",
    "\n",
    "if(!\"ndexr\" %in% installed.packages()){\n",
    "    install.packages(\"BiocManager\")\n",
    "    BiocManager::install(\"ndexr\")\n",
    "}\n",
    "library(ndexr)"
   ]
  },
  {
   "cell_type": "markdown",
   "metadata": {
    "lines_to_next_cell": 0
   },
   "source": [
    "# Prerequisites\n",
    "In addition to these packages, you will need:\n",
    "\n",
    "  * **Cytoscape 3.6.1** or greater, which can be downloaded from http://www.cytoscape.org/download.php. Simply follow the installation instructions on screen.\n",
    "\n",
    "# Finding networks\n",
    "The Network Data Exchange (NDEx) is a platform for network storage, retrieval and exchange. Developed in close collaboration with Cytoscape, it is a natural partner for Cytoscape network queries and management.  \n",
    "\n",
    "You can start with NDEx by first establishing a connection."
   ]
  },
  {
   "cell_type": "code",
   "execution_count": null,
   "metadata": {},
   "outputs": [],
   "source": [
    "ndexcon <- ndex_connect()"
   ]
  },
  {
   "cell_type": "markdown",
   "metadata": {},
   "source": [
    "We will use **ndexcon** throughout the other ndexr calls. For example, a basic search."
   ]
  },
  {
   "cell_type": "code",
   "execution_count": null,
   "metadata": {},
   "outputs": [],
   "source": [
    "networks <- ndex_find_networks(ndexcon, \"Breast Cancer\")\n",
    "print(networks[,c(\"name\",\"externalId\",\"nodeCount\",\"edgeCount\")])"
   ]
  },
  {
   "cell_type": "markdown",
   "metadata": {
    "lines_to_next_cell": 0
   },
   "source": [
    "That *print* statement provides a nifty way to browse the search results. You'll notice that we got results that hit each of the search terms individually, thus including any pathway with \"cancer\" in the name. That's perhaps a bit too broad..."
   ]
  },
  {
   "cell_type": "code",
   "execution_count": null,
   "metadata": {},
   "outputs": [],
   "source": [
    "networks <- ndex_find_networks(ndexcon, \"BRCA\")\n",
    "print(networks[,c(\"name\",\"externalId\",\"nodeCount\",\"edgeCount\")])"
   ]
  },
  {
   "cell_type": "markdown",
   "metadata": {
    "lines_to_next_cell": 0
   },
   "source": [
    "Ok. We can work with this list. Let's use the first hit. **Note: you are going to get different hits as this database changes over time, so proceed with any hit you like.**"
   ]
  },
  {
   "cell_type": "code",
   "execution_count": null,
   "metadata": {},
   "outputs": [],
   "source": [
    "networkId = networks$externalId[1]\n",
    "network = ndex_get_network(ndexcon, networkId)\n",
    "print(network)"
   ]
  },
  {
   "cell_type": "markdown",
   "metadata": {
    "lines_to_next_cell": 0
   },
   "source": [
    "# Viewing networks\n",
    "If we want to visualize and interact with this network, Cytoscape is our best choice. Both NDEx and Cytoscape work with the CX network data format, so the import can directly be managed by the CyNDEx component of Cytoscape, supported by RCy3..."
   ]
  },
  {
   "cell_type": "code",
   "execution_count": null,
   "metadata": {
    "lines_to_next_cell": 0
   },
   "outputs": [],
   "source": [
    "brca.net.suid <- importNetworkFromNDEx(networkId) "
   ]
  },
  {
   "cell_type": "markdown",
   "metadata": {
    "lines_to_next_cell": 0
   },
   "source": [
    "<center>\n",
    "![](https://cytoscape.github.io/cytoscape-automation/for-scripters/R/notebooks/data/img/NDEx.png){width=60%}\n",
    "</center>\n",
    "\n",
    "**Note: Do not use the \"rcx\" frunctions provided by ndexr to pass through igraph in order to import into Cytoscape. This unnecessary intermediate step will result in scientific notation values being translated to type \"other\" (denoted by \"x\") and ultimately converted to Strings in Cytoscape. All style information is lost as well.**\n",
    "\n",
    "# Sending networks to NDEx\n",
    "Now say you have a network in Cytoscape and you want to send it to NDEx for storage, sharing or exchange. First, you need to have an NDEx account. Go to http://www.ndexbio.org to create one if you haven't already. You will need your username and password coming up soon.\n",
    "\n",
    "But first, let's get a fresh network into Cytoscape. This could be any network, we're just using the demo igraph network as an example."
   ]
  },
  {
   "cell_type": "code",
   "execution_count": null,
   "metadata": {},
   "outputs": [],
   "source": [
    "ig2 <- makeSimpleIgraph()\n",
    "net.suid <- createNetworkFromIgraph(ig2, 'Simple Network', 'Simple Collection')"
   ]
  },
  {
   "cell_type": "markdown",
   "metadata": {
    "lines_to_next_cell": 0
   },
   "source": [
    "And, now we send it off to NDEx."
   ]
  },
  {
   "cell_type": "code",
   "execution_count": null,
   "metadata": {},
   "outputs": [],
   "source": [
    "user <- \"your_NDEx_account_username\"  #replace with your info\n",
    "pass <- \"your_NDEx_account_password\"  #replace with your info\n",
    "exportNetworkToNDEx(user, pass, isPublic=TRUE, network=net.suid)"
   ]
  },
  {
   "cell_type": "markdown",
   "metadata": {},
   "source": [
    "Voila! Now anyone can search or browse to find your network and then use it in their research together with the full history and attribution of your contributions to the network."
   ]
  }
 ],
 "metadata": {
  "jupytext": {
   "cell_metadata_filter": "tags,-all",
   "main_language": "R",
   "notebook_metadata_filter": "-all"
  }
 },
 "nbformat": 4,
 "nbformat_minor": 4
}
