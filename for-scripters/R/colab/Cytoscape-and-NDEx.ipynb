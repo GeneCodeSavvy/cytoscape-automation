{
  "cells": [
    {
      "cell_type": "markdown",
      "metadata": {
        "id": "view-in-github",
        "colab_type": "text"
      },
      "source": [
        "<a href=\"https://colab.research.google.com/github/cytoscape/cytoscape-automation/blob/master/for-scripters/R/colab/Cytoscape-and-NDEx.ipynb\" target=\"_parent\"><img src=\"https://colab.research.google.com/assets/colab-badge.svg\" alt=\"Open In Colab\"/></a>"
      ]
    },
    {
      "cell_type": "markdown",
      "metadata": {
        "lines_to_next_cell": 0,
        "id": "YVMh8Qe7CkWp"
      },
      "source": [
        "# Cytoscape and NDEx\n",
        "## Alexander Pico, Florian Auer\n"
      ]
    },
    {
      "cell_type": "markdown",
      "metadata": {
        "lines_to_next_cell": 0,
        "id": "9Dto-2HUCkWt"
      },
      "source": [
        "*The R markdown is available. [download the Rmd from GitHub](https://raw.githubusercontent.com/cytoscape/cytoscape-automation/master/for-scripters/R/notebooks/Cytoscape-and-NDEx.Rmd).*\n",
        "\n",
        "<hr />\n",
        "\n",
        "*Cytoscape* is a well-known bioinformatics tool for displaying and exploring biological networks.\n",
        "**R** is a powerful programming language and environment for statistical and exploratory data analysis.\n",
        "*RCy3* uses CyREST to communicate between **R** and Cytoscape, allowing any graphs (e.g., igraph, graphNEL or dataframes) to be viewed, explored and manipulated with the Cytoscape point-and-click visual interface. Thus, via RCy3, these two quite different, quite useful bioinformatics software environments are connected, mutually enhancing each other, providing new possibilities for exploring biological data.\n",
        "\n",
        "# Installation"
      ]
    },
    {
      "cell_type": "code",
      "execution_count": null,
      "metadata": {
        "id": "YpIOfjPtCkWt"
      },
      "outputs": [],
      "source": [
        "if(!\"RCy3\" %in% installed.packages()){\n",
        "    install.packages(\"BiocManager\")\n",
        "    BiocManager::install(\"RCy3\")\n",
        "}\n",
        "library(RCy3)\n",
        "\n",
        "if(!\"ndexr\" %in% installed.packages()){\n",
        "    install.packages(\"BiocManager\")\n",
        "    BiocManager::install(\"ndexr\")\n",
        "}\n",
        "library(ndexr)"
      ]
    },
    {
      "cell_type": "markdown",
      "metadata": {
        "id": "8Ad3bkRVCkWu"
      },
      "source": [
        "If you are using a remote notebook environment such as Google Colab, please execute the cell below. (If you're running on your local notebook, you don't need to do that.)"
      ]
    },
    {
      "cell_type": "code",
      "execution_count": null,
      "metadata": {
        "id": "Dw7gtJFPCkWv"
      },
      "outputs": [],
      "source": [
        "# Connect to local Cytoscape\n",
        "browserClientJs <- getBrowserClientJs()\n",
        "IRdisplay::display_javascript(browserClientJs)"
      ]
    },
    {
      "cell_type": "markdown",
      "metadata": {
        "lines_to_next_cell": 0,
        "id": "yIGvMsNqCkWv"
      },
      "source": [
        "# Prerequisites\n",
        "In addition to these packages, you will need:\n",
        "\n",
        "  * **Cytoscape 3.6.1** or greater, which can be downloaded from http://www.cytoscape.org/download.php. Simply follow the installation instructions on screen.\n",
        "\n",
        "# Finding networks\n",
        "The Network Data Exchange (NDEx) is a platform for network storage, retrieval and exchange. Developed in close collaboration with Cytoscape, it is a natural partner for Cytoscape network queries and management.  \n",
        "\n",
        "You can start with NDEx by first establishing a connection."
      ]
    },
    {
      "cell_type": "code",
      "execution_count": null,
      "metadata": {
        "id": "tM3wAdjtCkWv"
      },
      "outputs": [],
      "source": [
        "ndexcon <- ndex_connect()"
      ]
    },
    {
      "cell_type": "markdown",
      "metadata": {
        "id": "6GbttJfvCkWw"
      },
      "source": [
        "We will use **ndexcon** throughout the other ndexr calls. For example, a basic search."
      ]
    },
    {
      "cell_type": "code",
      "execution_count": null,
      "metadata": {
        "id": "eoIdN6p7CkWw"
      },
      "outputs": [],
      "source": [
        "networks <- ndex_find_networks(ndexcon, \"Breast Cancer\")\n",
        "print(networks[,c(\"name\",\"externalId\",\"nodeCount\",\"edgeCount\")])"
      ]
    },
    {
      "cell_type": "markdown",
      "metadata": {
        "lines_to_next_cell": 0,
        "id": "RUrbQdtjCkWw"
      },
      "source": [
        "That *print* statement provides a nifty way to browse the search results. You'll notice that we got results that hit each of the search terms individually, thus including any pathway with \"cancer\" in the name. That's perhaps a bit too broad..."
      ]
    },
    {
      "cell_type": "code",
      "execution_count": null,
      "metadata": {
        "id": "G9lc7eqnCkWx"
      },
      "outputs": [],
      "source": [
        "networks <- ndex_find_networks(ndexcon, \"BRCA\")\n",
        "print(networks[,c(\"name\",\"externalId\",\"nodeCount\",\"edgeCount\")])"
      ]
    },
    {
      "cell_type": "markdown",
      "metadata": {
        "lines_to_next_cell": 0,
        "id": "dvGIm8xlCkWx"
      },
      "source": [
        "Ok. We can work with this list. Let's use the first hit. **Note: you are going to get different hits as this database changes over time, so proceed with any hit you like.**"
      ]
    },
    {
      "cell_type": "code",
      "execution_count": null,
      "metadata": {
        "id": "yzKmKLp0CkWx"
      },
      "outputs": [],
      "source": [
        "networkId = networks$externalId[1]\n",
        "network = ndex_get_network(ndexcon, networkId)\n",
        "print(network)"
      ]
    },
    {
      "cell_type": "markdown",
      "metadata": {
        "lines_to_next_cell": 0,
        "id": "7DFV09hzCkWx"
      },
      "source": [
        "# Viewing networks\n",
        "If we want to visualize and interact with this network, Cytoscape is our best choice. Both NDEx and Cytoscape work with the CX network data format, so the import can directly be managed by the CyNDEx component of Cytoscape, supported by RCy3..."
      ]
    },
    {
      "cell_type": "code",
      "execution_count": null,
      "metadata": {
        "lines_to_next_cell": 0,
        "id": "Adj6Tfx8CkWx"
      },
      "outputs": [],
      "source": [
        "brca.net.suid <- importNetworkFromNDEx(networkId)"
      ]
    },
    {
      "cell_type": "markdown",
      "metadata": {
        "lines_to_next_cell": 0,
        "id": "pzRSJ2LwCkWx"
      },
      "source": [
        "![](https://cytoscape.github.io/cytoscape-automation/for-scripters/R/notebooks/data/img/NDEx.png)\n",
        "**Note: Do not use the \"rcx\" frunctions provided by ndexr to pass through igraph in order to import into Cytoscape. This unnecessary intermediate step will result in scientific notation values being translated to type \"other\" (denoted by \"x\") and ultimately converted to Strings in Cytoscape. All style information is lost as well.**\n",
        "\n",
        "# Sending networks to NDEx\n",
        "Now say you have a network in Cytoscape and you want to send it to NDEx for storage, sharing or exchange. First, you need to have an NDEx account. Go to http://www.ndexbio.org to create one if you haven't already. You will need your username and password coming up soon.\n",
        "\n",
        "But first, let's get a fresh network into Cytoscape. This could be any network, we're just using the demo igraph network as an example."
      ]
    },
    {
      "cell_type": "code",
      "execution_count": null,
      "metadata": {
        "id": "H5RcwzAsCkWy"
      },
      "outputs": [],
      "source": [
        "ig2 <- makeSimpleIgraph()\n",
        "net.suid <- createNetworkFromIgraph(ig2, 'Simple Network', 'Simple Collection')"
      ]
    },
    {
      "cell_type": "markdown",
      "metadata": {
        "lines_to_next_cell": 0,
        "id": "4gd03I6PCkWy"
      },
      "source": [
        "And, now we send it off to NDEx."
      ]
    },
    {
      "cell_type": "code",
      "execution_count": null,
      "metadata": {
        "id": "-yEbe12aCkWy"
      },
      "outputs": [],
      "source": [
        "user <- \"your_NDEx_account_username\"  #replace with your info\n",
        "pass <- \"your_NDEx_account_password\"  #replace with your info\n",
        "exportNetworkToNDEx(user, pass, isPublic=TRUE, network=net.suid)"
      ]
    },
    {
      "cell_type": "markdown",
      "metadata": {
        "id": "ADLsG_4uCkWy"
      },
      "source": [
        "Voila! Now anyone can search or browse to find your network and then use it in their research together with the full history and attribution of your contributions to the network."
      ]
    }
  ],
  "metadata": {
    "jupytext": {
      "cell_metadata_filter": "tags,-all",
      "main_language": "R",
      "notebook_metadata_filter": "-all"
    },
    "kernelspec": {
      "display_name": "R",
      "name": "ir"
    },
    "language_info": {
      "name": "R"
    },
    "colab": {
      "provenance": [],
      "include_colab_link": true
    }
  },
  "nbformat": 4,
  "nbformat_minor": 0
}