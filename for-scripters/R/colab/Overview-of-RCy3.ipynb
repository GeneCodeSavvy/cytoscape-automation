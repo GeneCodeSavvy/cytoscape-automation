{
 "cells": [
  {
   "cell_type": "markdown",
   "metadata": {
    "lines_to_next_cell": 0
   },
   "source": [
    "# Overview of RCy3\n",
    "## Alexander Pico, Tanja Muetze, Georgi Kolishovski, Paul Shannon\n",
    "[![Open In Colab](https://colab.research.google.com/assets/colab-badge.svg)](https://colab.research.google.com/github/cytoscape/cytoscape-automation/blob/master/for-scripters/R/colab/Overview-of-RCy3.ipynb)"
   ]
  },
  {
   "cell_type": "markdown",
   "metadata": {
    "lines_to_next_cell": 0
   },
   "source": [
    "*The R markdown is available. [download the Rmd from GitHub](https://raw.githubusercontent.com/cytoscape/cytoscape-automation/master/for-scripters/R/notebooks/Overview-of-RCy3.Rmd).*\n",
    "\n",
    "<hr />\n",
    "\n",
    "*Cytoscape* is a well-known bioinformatics tool for displaying and exploring biological networks.\n",
    "**R** is a powerful programming language and environment for statistical and exploratory data analysis.\n",
    "*RCy3* uses CyREST to communicate between **R** and Cytoscape, allowing any graphs (e.g., igraph, graphNEL or dataframes) to be viewed, explored and manipulated with the Cytoscape point-and-click visual interface. Thus, via RCy3, these two quite different, quite useful bioinformatics software environments are connected, mutually enhancing each other, providing new possibilities for exploring biological data.\n",
    "\n",
    "# Installation"
   ]
  },
  {
   "cell_type": "code",
   "execution_count": null,
   "metadata": {},
   "outputs": [],
   "source": [
    "if(!\"RCy3\" %in% installed.packages()){\n",
    "    install.packages(\"BiocManager\")\n",
    "    BiocManager::install(\"RCy3\")\n",
    "}\n",
    "library(RCy3)"
   ]
  },
  {
   "cell_type": "markdown",
   "metadata": {},
   "source": [
    "If you are using a remote notebook environment such as Google Colab, please execute the cell below. (If you're running on your local notebook, you don't need to do that.)"
   ]
  },
  {
   "cell_type": "code",
   "execution_count": null,
   "metadata": {},
   "outputs": [],
   "source": [
    "# Connect to local Cytoscape\n",
    "browserClientJs <- getBrowserClientJs()\n",
    "IRdisplay::display_javascript(browserClientJs)"
   ]
  },
  {
   "cell_type": "markdown",
   "metadata": {},
   "source": [
    "# Prerequisites\n",
    "In addition to this package (RCy3), you will need:\n",
    "\n",
    "  * **Cytoscape 3.6.1** or greater, which can be downloaded from http://www.cytoscape.org/download.php. Simply follow the installation instructions on screen.\n",
    "\n",
    "# Getting started\n",
    "\n",
    "First, launch Cytoscape and keep it running whenever using RCy3. Confirm that\n",
    "you have everything installed and running:"
   ]
  },
  {
   "cell_type": "code",
   "execution_count": null,
   "metadata": {},
   "outputs": [],
   "source": [
    "    cytoscapePing ()\n",
    "    cytoscapeVersionInfo ()"
   ]
  },
  {
   "cell_type": "markdown",
   "metadata": {
    "lines_to_next_cell": 0
   },
   "source": [
    "# My first network\n",
    "Let's create a Cytoscape network from some basic R objects"
   ]
  },
  {
   "cell_type": "code",
   "execution_count": null,
   "metadata": {},
   "outputs": [],
   "source": [
    "nodes <- data.frame(id=c(\"node 0\",\"node 1\",\"node 2\",\"node 3\"),\n",
    "           group=c(\"A\",\"A\",\"B\",\"B\"), # categorical strings\n",
    "           score=as.integer(c(20,10,15,5)), # integers\n",
    "           stringsAsFactors=FALSE)\n",
    "edges <- data.frame(source=c(\"node 0\",\"node 0\",\"node 0\",\"node 2\"),\n",
    "           target=c(\"node 1\",\"node 2\",\"node 3\",\"node 3\"),\n",
    "           interaction=c(\"inhibits\",\"interacts\",\"activates\",\"interacts\"),  # optional\n",
    "           weight=c(5.1,3.0,5.2,9.9), # numeric\n",
    "           stringsAsFactors=FALSE)\n",
    "\n",
    "createNetworkFromDataFrames(nodes,edges, title=\"my first network\", collection=\"DataFrame Example\")"
   ]
  },
  {
   "cell_type": "markdown",
   "metadata": {
    "lines_to_next_cell": 0
   },
   "source": [
    "## Switch styles\n",
    "Check out the marquee style!"
   ]
  },
  {
   "cell_type": "code",
   "execution_count": null,
   "metadata": {},
   "outputs": [],
   "source": [
    "setVisualStyle('Marquee')"
   ]
  },
  {
   "cell_type": "markdown",
   "metadata": {
    "lines_to_next_cell": 0
   },
   "source": [
    "## My own style\n",
    "Create your own style with node attribute fill mappings and some defaults"
   ]
  },
  {
   "cell_type": "code",
   "execution_count": null,
   "metadata": {},
   "outputs": [],
   "source": [
    "style.name = \"myStyle\"\n",
    "defaults <- list(NODE_SHAPE=\"diamond\",\n",
    "                 NODE_SIZE=30,\n",
    "                 EDGE_TRANSPARENCY=120,\n",
    "                 NODE_LABEL_POSITION=\"W,E,c,0.00,0.00\")\n",
    "nodeLabels <- mapVisualProperty('node label','id','p')\n",
    "nodeFills <- mapVisualProperty('node fill color','group','d',c(\"A\",\"B\"), c(\"#FF9900\",\"#66AAAA\"))\n",
    "arrowShapes <- mapVisualProperty('Edge Target Arrow Shape','interaction','d',c(\"activates\",\"inhibits\",\"interacts\"),c(\"Arrow\",\"T\",\"None\"))\n",
    "edgeWidth <- mapVisualProperty('edge width','weight','p')\n",
    "\n",
    "createVisualStyle(style.name, defaults, list(nodeLabels,nodeFills,arrowShapes,edgeWidth))\n",
    "setVisualStyle(style.name)"
   ]
  },
  {
   "cell_type": "markdown",
   "metadata": {},
   "source": [
    "<center>\n",
    "![](https://cytoscape.github.io/cytoscape-automation/for-scripters/R/notebooks/data/img/MyFirstNetwork.png){width=60%}\n",
    "</center>\n",
    "\n",
    "*Pro-tip: if you want to set NODE_WIDTH and NODE_HEIGHT independently, you also need to unlock the node dimensions with...*\n",
    "```\n",
    "lockNodeDimensions(FALSE, style.name)\n",
    "```\n",
    "\n",
    "# Bioconductor graph example\n",
    "\n",
    "Alternatively, you might want to start from a Bioconductor graphNEL object. Here we create a 4-node graph in R, send it to Cytoscape for display and layout.  For the sake of simplicity, no node attributes and no visual styles are included; those topics are covered in subsequent steps."
   ]
  },
  {
   "cell_type": "code",
   "execution_count": null,
   "metadata": {},
   "outputs": [],
   "source": [
    "    g = new ('graphNEL', edgemode='directed')\n",
    "    g = graph::addNode ('A', g)\n",
    "    g = graph::addNode ('D', g)\n",
    "    g = graph::addNode ('C', g, edges = list('D'))\n",
    "    g = graph::addNode ('B', g, edges = list(c('A','D','C')))\n",
    "    createNetworkFromGraph (g, title='simple network', collection='GraphNEL Example')"
   ]
  },
  {
   "cell_type": "markdown",
   "metadata": {},
   "source": [
    "You should now have the structure of this 4-node graph with a basic, default style. Fortunately, Cytoscape has some built-in rendering rules in which (and unless instructed otherwise) nodes and edges are rendered and a default (user-preference) layout algorithm is applied.\n",
    "\n",
    "## Add node attributes\n",
    "\n",
    "We often know quite a lot about the nodes and edges in our graphs. By conveying this information visually, the graph will be easier to explore. For instance, we may know that protein A phosphorylates protein B, that A is a kinase and B a transcription factor, and that their mRNA expression (compared to a control) is a log2 fold change of 1.8 and 3.2 respectively. One of the core features of Cytoscape is visual styles, which allow you to specify how data values (e.g., `kinase', `transcription factor'; expression ratios) should be conveyed in the visual properties of the graph (e.g., node shape, node color or size).\n",
    "\n",
    "We continue with the simple 4-node graph, adding two kinds data values (`moleculeType' and `log2fc'). The easiest way to do this is via data.frames. However, you can also include attributes together with the original graph models as Bioconductor graphs, igraphs or data.frames and then use the provided *create* functions to create and load in a single step (see *createNetworkFromGraph*,  *createNetworkFromIgraph* and *createNetworkFromDataFrames* functions). Check out the other vignettes for more exampls."
   ]
  },
  {
   "cell_type": "code",
   "execution_count": null,
   "metadata": {},
   "outputs": [],
   "source": [
    "    df <- data.frame (moleculeType=c('kinase','TF','cytokine','cytokine'),\n",
    "                     log2fc=c(1.8,3.0,-1.2,-2.5),\n",
    "                     row.names = c('A','B','C','D'), # row.names = node names\n",
    "                     stringsAsFactors = FALSE)       # important when loading strings!\n",
    "    loadTableData (df)"
   ]
  },
  {
   "cell_type": "markdown",
   "metadata": {},
   "source": [
    "Note that adding the attributes does not in itself cause the appearance of the graph to change. Such a change requires that you specify and apply visual style mappings, which will be explained in the *next* section. You can, however, examine these attributes in Cytoscape, using Cytoscape's the **Data Panel** to display data values associated with selected nodes immediately below the Cytoscape window."
   ]
  },
  {
   "cell_type": "markdown",
   "metadata": {},
   "source": [
    "## Modifying the display:  defaults and mappings\n",
    "\n",
    "RCy3 provides an easy way to not only change the default styles, but more interestingly, RCy3 also provides easy access to *mapping* your data to visual styles, e.g., allowing the size, shape and color of nodes and edges to be determined by the data you have associated with those nodes and edges. \n",
    "\n",
    "First, let's change the the defaults. "
   ]
  },
  {
   "cell_type": "code",
   "execution_count": null,
   "metadata": {},
   "outputs": [],
   "source": [
    "    setNodeShapeDefault ('OCTAGON')\n",
    "    setNodeColorDefault ('#AAFF88')\n",
    "    setNodeSizeDefault  (60)\n",
    "    setNodeFontSizeDefault (30)"
   ]
  },
  {
   "cell_type": "markdown",
   "metadata": {},
   "source": [
    "Now we will add some visual mappings.  Let's map `moleculeType' to node shapes. First, we can see which shapes are available in Cytoscape, then we can define the mapping with paired lists. "
   ]
  },
  {
   "cell_type": "code",
   "execution_count": null,
   "metadata": {},
   "outputs": [],
   "source": [
    "    getNodeShapes ()   # diamond, ellipse, trapezoid, triangle, etc.\n",
    "    column <- 'moleculeType'\n",
    "    values <- c ('kinase',  'TF','cytokine')\n",
    "    shapes <- c ('DIAMOND', 'TRIANGLE', 'RECTANGLE')\n",
    "    setNodeShapeMapping (column, values, shapes)"
   ]
  },
  {
   "cell_type": "markdown",
   "metadata": {},
   "source": [
    "The node shape mapping is an example of a *discrete* mapping, where a style is defined for each, discrete value.  This is useful for categorical data (like type) where there is only a limited set of possible values. This is in contast to the other two other types of mappings: *continuous* and *passthrough*. In the case of expression values, for example, we will want to use *continuous* mapping (e.g., to node color), defining a small set of control points, rather than an explicit color for each possible data value. Cytoscape will simply interpolate between the control points to provide a gradient of colors. Let's try that one now "
   ]
  },
  {
   "cell_type": "code",
   "execution_count": null,
   "metadata": {},
   "outputs": [],
   "source": [
    "    column <- 'log2fc'\n",
    "    control.points <- c (-3.0, 0.0, 3.0)\n",
    "    colors <-  c ('#5588DD', '#FFFFFF', '#DD8855')\n",
    "    setNodeColorMapping (column, control.points, colors)"
   ]
  },
  {
   "cell_type": "markdown",
   "metadata": {},
   "source": [
    "Note that there are three colors and three control points. However, you can also specify *two additional* colors beyond the number of control points if you want to set extreme (or out-of-bounds) colors for values less than or greater than your control points."
   ]
  },
  {
   "cell_type": "code",
   "execution_count": null,
   "metadata": {},
   "outputs": [],
   "source": [
    "    control.points <- c (-2.0, 0.0, 2.0)\n",
    "    colors <-  c ('#2255CC', '#5588DD', '#FFFFFF', '#DD8855','#CC5522')\n",
    "    setNodeColorMapping (column, control.points, colors)"
   ]
  },
  {
   "cell_type": "markdown",
   "metadata": {},
   "source": [
    "Now, add a node size rule, using *log2fc* again as controlling node values."
   ]
  },
  {
   "cell_type": "code",
   "execution_count": null,
   "metadata": {},
   "outputs": [],
   "source": [
    "    control.points = c (-3.0, 2.0, 3.0)\n",
    "    sizes     = c (20, 80, 90)\n",
    "    setNodeSizeMapping (column, control.points, sizes)\n"
   ]
  },
  {
   "cell_type": "markdown",
   "metadata": {},
   "source": [
    "If you recall the third type of mapping, *passthrough*, we can see it already working in our current network example. The node labels! By default, the *name* column is mapped to the node label property using *passthrough* logic: the value is passed directly to the style property.\n",
    "\n",
    "<center>\n",
    "![](https://cytoscape.github.io/cytoscape-automation/for-scripters/R/notebooks/data/img/MyFirstNetwork_NodeSizeMapping.png){width=60%}\n",
    "</center>"
   ]
  },
  {
   "cell_type": "markdown",
   "metadata": {},
   "source": [
    "## Selecting nodes\n",
    "\n",
    "Let us now try selecting nodes in Cytoscape from R. Select the C node by name:"
   ]
  },
  {
   "cell_type": "code",
   "execution_count": null,
   "metadata": {},
   "outputs": [],
   "source": [
    "    selectNodes ('C','name')"
   ]
  },
  {
   "cell_type": "code",
   "execution_count": null,
   "metadata": {},
   "outputs": [],
   "source": [
    "    getSelectedNodes ()"
   ]
  },
  {
   "cell_type": "markdown",
   "metadata": {},
   "source": [
    "Now we wish to extend the selected nodes to include the first neighbors of the already-selected node B. This is a common operation: for instance, after selecting one or more nodes based on experimental data or annotation, you may want to explore these in the context of interaction partners (in a protein-protein network) or in relation to upstream and downstream partners in a signaling or metabolic network. Type:"
   ]
  },
  {
   "cell_type": "code",
   "execution_count": null,
   "metadata": {},
   "outputs": [],
   "source": [
    "    selectFirstNeighbors ()"
   ]
  },
  {
   "cell_type": "markdown",
   "metadata": {},
   "source": [
    "You will see that three nodes are now selected. Get their names back to R as a list:"
   ]
  },
  {
   "cell_type": "code",
   "execution_count": null,
   "metadata": {},
   "outputs": [],
   "source": [
    "    node.names <- getSelectedNodes ()"
   ]
  },
  {
   "cell_type": "markdown",
   "metadata": {
    "lines_to_next_cell": 0
   },
   "source": [
    "And, finally, deselection works as you'd expect by means of a general *clearSelection* function:"
   ]
  },
  {
   "cell_type": "code",
   "execution_count": null,
   "metadata": {},
   "outputs": [],
   "source": [
    "    clearSelection()\n",
    "    ?clearSelection"
   ]
  },
  {
   "cell_type": "markdown",
   "metadata": {
    "lines_to_next_cell": 0
   },
   "source": [
    "## Saving and export\n",
    "Session files save *everything*. As with most project software, we recommend saving often!"
   ]
  },
  {
   "cell_type": "code",
   "execution_count": null,
   "metadata": {},
   "outputs": [],
   "source": [
    "    saveSession('vignette_session') #.cys"
   ]
  },
  {
   "cell_type": "markdown",
   "metadata": {
    "lines_to_next_cell": 0
   },
   "source": [
    "**Note**: If you don't specify a complete path, the files will be saved relative to your current working directory in R.\n",
    "\n",
    "### Saving high resolution image files\n",
    "You can export extremely high resolution images, including vector graphic formats."
   ]
  },
  {
   "cell_type": "code",
   "execution_count": null,
   "metadata": {},
   "outputs": [],
   "source": [
    "    full.path=paste(getwd(),'vignette_image',sep='/')\n",
    "    exportImage(full.path, 'PNG', zoom=200) #.png scaled by 200%\n",
    "    exportImage(full.path, 'PDF') #.pdf\n",
    "    ?exportImage"
   ]
  },
  {
   "cell_type": "markdown",
   "metadata": {
    "lines_to_next_cell": 0
   },
   "source": [
    "# Browse available functions, commands and arguments\n",
    "RCy3 functions"
   ]
  },
  {
   "cell_type": "code",
   "execution_count": null,
   "metadata": {
    "lines_to_next_cell": 2
   },
   "outputs": [],
   "source": [
    "help(package=RCy3)"
   ]
  },
  {
   "cell_type": "markdown",
   "metadata": {},
   "source": [
    "| Category | Description | Examples |\n",
    "|------|----------------------------------------------------------------|------|\n",
    "| **Apps** | Inspecting and managing apps for Cytoscape. | _installApp() disableApp() getInstalledApps()_ |\n",
    "| **Collections** | Getting information about network collections. | _getCollectionList() getCollectionNetworks()_ |\n",
    "| **Commands** | Constructing any arbitrary CyREST API or Commands API method via standard GET, PUT, POST and DELETE protocols. | _cyrestPOST() commandsPOST() cyrestAPI() commandsAPI()_ |\n",
    "| **CyNDEx** | Communicating with NDEx from within Cytoscape. | _importNetworkFromNDEx() exportNetworkToNDEx()_ |\n",
    "| **Cytoscape System** | Checking Cytoscape System information, including versions and memory usage. | _cytoscapePing() cytoscapeVersionInfo()_ |\n",
    "| **Groups** | Working with groups in Cytoscape. | _createGroup() collapseGroup()_ |\n",
    "| **Layouts** | Performing layouts in addition to getting and setting layout properties. | _layoutNetwork() getLayoutNames()_ |\n",
    "| **Networks** | Functions for network management and retrieving information on networks, nodes and edges. | _createNetworkFrom...() create...FromNetwork() getNetworkSuid(), exportNetwork() getAllNodes() getAllEdges()_ |\n",
    "| **Network Selection** | Working with selection of nodes and edges in networks. | _selectNodes() invertNodeSelection() selectFirstNeighbors()_ |\n",
    "| **Network Views** | Performing view operations in addition to getting and setting view properties. | _getCurrentView() fitContent() exportImage() toggleGraphicsDetails()_ |\n",
    "| **Session** | Managing Cytoscape sessions, including save, open and close. | _openSession() saveSession() closeSession()_ |\n",
    "| **Style Bypasses** | Setting and clearing bypass values for visual properties. | _setNodeColorBypass() setEdgeLineStyleBypass() hideNodes()_ |\n",
    "| **Style Defaults** | Getting and setting default values for visual properties. | _setNodeShapeDefault() setEdgeLineWidthDefault()_ |\n",
    "| **Style Dependencies** | Getting and setting style dependencies. | _lockNodeDimensions()_ |\n",
    "| **Style Mappings** | Defining mappings between table column values and visual properties. | _setNodeSizeMapping() setEdgeColorMapping()_ |\n",
    "| **Styles** | Managing styles and retrieving general lists of properties relevant to multiple style modes. | _createVisualStyle() setVisualStyle() exportVisualStyles() getArrowShapes()_ |\n",
    "| **Style Values** | Retrieving current values for visual properties. | _getNodeWidth() getEdgeColor() getNetworkZoom()_ |\n",
    "| **Tables** | Managing table columns and table column functions, like map and rename, as well as loading and extracting table data in Cytoscape. | _getTableColumns() renameTableColumn() loadTableData() mapTableColumn()_ |\n",
    "| **Tools** | Functions related to actions found in the Tools Menu in Cytoscape. | _cybrowserDialog() diffusionBasic()_ |\n",
    "| **User Interface** | Functions affecting the Cytoscape user interface, such as panel management. | _hidePanel() floatPanel() dockPanel()_ |"
   ]
  },
  {
   "cell_type": "markdown",
   "metadata": {
    "lines_to_next_cell": 0
   },
   "source": [
    "Open swagger docs for live instances of CyREST API and Commands API:"
   ]
  },
  {
   "cell_type": "code",
   "execution_count": null,
   "metadata": {},
   "outputs": [],
   "source": [
    "cyrestAPI()  # CyREST API\n",
    "commandsAPI()  # Commands API"
   ]
  },
  {
   "cell_type": "markdown",
   "metadata": {
    "lines_to_next_cell": 0
   },
   "source": [
    "List available commands and arguments in R. Use \"help\" to list top level:"
   ]
  },
  {
   "cell_type": "code",
   "execution_count": null,
   "metadata": {},
   "outputs": [],
   "source": [
    "commandsHelp(\"help\")  "
   ]
  },
  {
   "cell_type": "markdown",
   "metadata": {
    "lines_to_next_cell": 0
   },
   "source": [
    "List **network** commands. Note that \"help\" is optional:"
   ]
  },
  {
   "cell_type": "code",
   "execution_count": null,
   "metadata": {},
   "outputs": [],
   "source": [
    "commandsHelp(\"help network\")  "
   ]
  },
  {
   "cell_type": "markdown",
   "metadata": {
    "lines_to_next_cell": 0
   },
   "source": [
    "List arguments for the **network select** command:"
   ]
  },
  {
   "cell_type": "code",
   "execution_count": null,
   "metadata": {},
   "outputs": [],
   "source": [
    "commandsHelp(\"help network select\") "
   ]
  },
  {
   "cell_type": "markdown",
   "metadata": {
    "lines_to_next_cell": 0
   },
   "source": [
    "That covers the basics of network manipulation. Check out the other vignettes for additional amd more complex examples. And when you are ready to work with some real data, check out the other basic and advanced R tutorials, https://github.com/cytoscape/cytoscape-automation/tree/master/for-scripters/R.\n",
    "\n",
    "# More examples\n",
    "Don't forget to check out the other vignettes in this package:"
   ]
  },
  {
   "cell_type": "code",
   "execution_count": null,
   "metadata": {},
   "outputs": [],
   "source": [
    "browseVignettes(\"RCy3\")"
   ]
  },
  {
   "cell_type": "markdown",
   "metadata": {},
   "source": [
    "In addition, the Cytoscape team is collecting scripts from the community in a public GitHub repository at https://github.com/cytoscape/cytoscape-automation/tree/master/for-scripters/R.  \n",
    "\n",
    "# Development\n",
    "\n",
    "The RCy3 project code and documentation is maintained at GitHub: https://github.com/cytoscape/RCy3. All bugs and feature requests are tracked as **Issues**, https://github.com/cytoscape/RCy3/issues. "
   ]
  },
  {
   "cell_type": "markdown",
   "metadata": {},
   "source": [
    "# Credits\n",
    "\n",
    "* Paul Shannon's generous advice and mentorship was very important for transforming this package from using XMLRPC and CytoscapeRPC to using CyREST.\n",
    "* David Otasek, Keiichiro Ono and Barry Demchak kindly provided CyREST as well as help and support for new functionalities and changes.\n",
    "* Mark Grimes and Ruth Isserlin kindly provided helpful user feedback.\n",
    "* Julia Gustavsen generously developed various use cases/examples for using RCy3 with biological data during GSOC 2016, https://github.com/jooolia/gsoc_Rcy3_vignettes/blob/master/blog_post_drafts/final_work_submission.md.\n",
    "* Tanja Muetze provided many years of development, design, maintenance and documentation for the RCy3 project.\n",
    "* All contributors, new and old, are dynamically acknowledged in our **Contributor Graph**, https://github.com/cytoscape/RCy3/graphs/contributors\n",
    "\n",
    "# References\n",
    "1. Shannon P, Markiel A, Ozier O, Baliga NS, Wang JT, Ramage D, Amin N, Schwikowski B, Ideker T. 2003. Cytoscape: a software environment for integrated models of biomolecular interaction networks. Genome Res. Nov;13(11):2498-504\n",
    "2. Huber W, Carey VJ, Long L, Falcon S, Gentleman R. 2007. Graphs in molecular biology. BMC Bioinformatics. 2007 Sep 27;8.\n",
    "3. Ono K, Muetze T, Kolishovski G, Shannon P, Demchak, B. CyREST: Turbocharging Cytoscape Access for External Tools via a RESTful API [version 1; referees: 2 approved]. F1000Research 2015, 4:478."
   ]
  }
 ],
 "metadata": {
  "jupytext": {
   "cell_metadata_filter": "tags,-all",
   "main_language": "R",
   "notebook_metadata_filter": "-all"
  },
  "kernelspec": {
   "display_name": "Python 3",
   "language": "python",
   "name": "python3"
  },
  "language_info": {
   "codemirror_mode": {
    "name": "ipython",
    "version": 3
   },
   "file_extension": ".py",
   "mimetype": "text/x-python",
   "name": "python",
   "nbconvert_exporter": "python",
   "pygments_lexer": "ipython3",
   "version": "3.8.5"
  }
 },
 "nbformat": 4,
 "nbformat_minor": 4
}
