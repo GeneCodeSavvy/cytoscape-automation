{
 "cells": [
  {
   "cell_type": "markdown",
   "metadata": {
    "lines_to_next_cell": 0
   },
   "source": [
    "\n",
    "# Basic Data Visualization\n",
    "## Kozo Nishida, Kristina Hanspers and Alex Pico\n",
    "[![Open In Colab](https://colab.research.google.com/assets/colab-badge.svg)](https://colab.research.google.com/github/cytoscape/cytoscape-automation/blob/master/for-scripters/R/colab/basic-data-visualization.ipynb)"
   ]
  },
  {
   "cell_type": "markdown",
   "metadata": {
    "lines_to_next_cell": 0
   },
   "source": [
    "*The R markdown is available. [download the Rmd from GitHub](https://raw.githubusercontent.com/cytoscape/cytoscape-automation/master/for-scripters/R/notebooks/basic-data-visualization.Rmd).*\n",
    "\n",
    "<hr />\n",
    "\n",
    "Cytoscape is an open source software platform for integrating, visualizing, and analyzing measurement data in the context of networks. This tutorial presents a scenario of how expression and network data can be combined to tell a biological story and includes these concepts:\n",
    "\n",
    " - Visualizing networks using expression data.\n",
    " - Filtering networks based on expression data.\n",
    " - Assessing expression data in the context of a biological network.\n",
    "\n",
    "![](./data/img/final.png)\n",
    "\n",
    "<hr />\n",
    "\n",
    "# Installation"
   ]
  },
  {
   "cell_type": "code",
   "execution_count": null,
   "metadata": {
    "eval": false
   },
   "outputs": [],
   "source": [
    "if (!requireNamespace(\"BiocManager\", quietly = TRUE))\n",
    "  install.packages(\"BiocManager\")\n",
    "\n",
    "if(!\"RCy3\" %in% installed.packages())\n",
    "  BiocManager::install(\"RCy3\")\n",
    "\n",
    "library(RCy3)"
   ]
  },
  {
   "cell_type": "markdown",
   "metadata": {},
   "source": [
    "If you are using a remote notebook environment such as Google Colab, please execute the cell below. (If you're running on your local notebook, you don't need to do that.)"
   ]
  },
  {
   "cell_type": "code",
   "execution_count": null,
   "metadata": {},
   "outputs": [],
   "source": [
    "# Connect to local Cytoscape\n",
    "browserClientJs <- getBrowserClientJs()\n",
    "IRdisplay::display_javascript(browserClientJs)"
   ]
  },
  {
   "cell_type": "markdown",
   "metadata": {
    "lines_to_next_cell": 0
   },
   "source": [
    "# Getting started\n",
    "First, launch Cytoscape and keep it running whenever using RCy3. Confirm that you have everything installed and running:"
   ]
  },
  {
   "cell_type": "code",
   "execution_count": null,
   "metadata": {},
   "outputs": [],
   "source": [
    "cytoscapePing()\n",
    "cytoscapeVersionInfo()"
   ]
  },
  {
   "cell_type": "markdown",
   "metadata": {},
   "source": [
    "# Loading Network\n",
    "Let's open a Cytoscape demo session file: "
   ]
  },
  {
   "cell_type": "code",
   "execution_count": null,
   "metadata": {},
   "outputs": [],
   "source": [
    "openSession()"
   ]
  },
  {
   "cell_type": "markdown",
   "metadata": {},
   "source": [
    "# Visualizing Expression Data on Networks\n",
    "\n",
    "Probably the most common use of expression data in Cytoscape is to set the **visual style** of the nodes (color, shape, border) in a network according to available data. This creates a powerful visualization, portraying functional relation and experimental response at the same time. Here, we will show an example of doing this.\n",
    "\n",
    "The data used in this example is from yeast, and represents an experiment of perturbations of the genes **Gal1**, **Gal4**, and **Gal80**, which are all yeast transcription factors.\n",
    "\n",
    "For this tutorial, the experimental data was part of the Cytoscape session file you loaded earlier, and is visible in the Node Table:\n",
    "\n",
    "<center>\n",
    "![](./data/img/basic-dataviz-galbrowse3.png)\n",
    "</center>\n",
    "\n",
    "We can now use the data to manipulate the visual properties of the network by mapping specific data columns to visual style properties:\n",
    "\n",
    "The **gal80Rexp** expression values will be mapped to node color; nodes with low expression will be colored blue, nodes with high expression will be colored red.\n",
    "Significance for expression values will be mapped to Node Border Width, so nodes with significant changes will appear with a thicker border.\n",
    "\n",
    "## Set Node Fill Color\n",
    "\n",
    "Let's specify the node fill color as a gradient ranging from **blue to red** for expression values using a continuous mapping for the 'gal80Rexp' column:"
   ]
  },
  {
   "cell_type": "code",
   "execution_count": null,
   "metadata": {},
   "outputs": [],
   "source": [
    "setNodeColorMapping('gal80Rexp', colors=paletteColorBrewerRdBu, style.name=\"galFiltered Style\")"
   ]
  },
  {
   "cell_type": "markdown",
   "metadata": {},
   "source": [
    "*Note: we are using `paletteColorBrewerRdBu` to generate a set of three standardized colors balanced for a divergent gradient (low, mid, high), which are automatically extracted from the `gal80RExp` column.*"
   ]
  },
  {
   "cell_type": "markdown",
   "metadata": {},
   "source": [
    "This produces an initial gradient ranging from blue to red for expression values. Notice that the nodes in the network change color."
   ]
  },
  {
   "cell_type": "markdown",
   "metadata": {
    "lines_to_next_cell": 0
   },
   "source": [
    "<center>\n",
    "![](./data/img/exp-gradient.png)\n",
    "</center>\n",
    "\n",
    "## Set Node Border Color and Width\n",
    "\n",
    "To visualize the significance of measurements, let's add a contiuous mapping for 'gal80Rsig' p-values to Node Border Color:"
   ]
  },
  {
   "cell_type": "code",
   "execution_count": null,
   "metadata": {},
   "outputs": [],
   "source": [
    "setNodeBorderColorMapping('gal80Rsig',c(0,0.05), c(\"#FF0000\",\"#FF0000\",\"#FF0000\",\"#555555\"),style.name=\"galFiltered Style\")"
   ]
  },
  {
   "cell_type": "markdown",
   "metadata": {},
   "source": [
    "*Note: We are supplying a min and max points, together with *four *color values. Providing n+2 values will result in assigning \"below min\" and \"above max\" mappings (see image).*\n",
    "\n",
    "<center>\n",
    "![](./data/img/sig-gradient2.png)\n",
    "</center>\n",
    "...and let's also map the same gal80RSig values to set the Node Border Widths:"
   ]
  },
  {
   "cell_type": "code",
   "execution_count": null,
   "metadata": {},
   "outputs": [],
   "source": [
    "setNodeBorderWidthMapping('gal80Rsig',c(0,0.05),c(4,4,4,1),style.name=\"galFiltered Style\")"
   ]
  },
  {
   "cell_type": "markdown",
   "metadata": {},
   "source": [
    "*Note: We are supplying the same min and max points, together with n+2 width values.*\n",
    "\n",
    "<center>\n",
    "![](./data/img/styles-done.png)\n",
    "</center>"
   ]
  },
  {
   "cell_type": "markdown",
   "metadata": {},
   "source": [
    "# Select Nodes\n",
    "\n",
    "Cytoscape allows you to easily filter and select nodes and edges based on data attributes. Next, we will select a subset of nodes with high expression in the gal80 knockout:\n",
    "\n",
    "Let's select a subset of nodes with high expression in the gal80 knockout: \n"
   ]
  },
  {
   "cell_type": "code",
   "execution_count": null,
   "metadata": {},
   "outputs": [],
   "source": [
    "createColumnFilter('myFilter', 'gal80Rexp', 2, \"GREATER_THAN\")"
   ]
  },
  {
   "cell_type": "markdown",
   "metadata": {},
   "source": [
    "You should now see only three nodes in the network selected (highlighted yellow).\n",
    "\n",
    "## Expand Selection \n",
    "\n",
    "We have now selected only the few top expressing nodes. To see the context of these nodes in the larger network, we can expand the selection to second-degree neighbors:"
   ]
  },
  {
   "cell_type": "code",
   "execution_count": null,
   "metadata": {},
   "outputs": [],
   "source": [
    "selectFirstNeighbors() # first degree\n",
    "selectFirstNeighbors() # second degree"
   ]
  },
  {
   "cell_type": "markdown",
   "metadata": {},
   "source": [
    "## Create New Network\n",
    "Finally, we can create a subnetwork from this selection and apply a layout algorithm:"
   ]
  },
  {
   "cell_type": "code",
   "execution_count": null,
   "metadata": {},
   "outputs": [],
   "source": [
    "createSubnetwork(nodes=\"selected\", subnetwork.name='galFiltered sub')\n",
    "layoutNetwork('force-directed')"
   ]
  },
  {
   "cell_type": "markdown",
   "metadata": {},
   "source": [
    "*Note: Cytoscape supports many different layout algorithms, described in detail in the [Cytoscape manual](http://manual.cytoscape.org/en/stable/Navigation_and_Layout.html?highlight=layout#automatic-layout-algorithms).*\n",
    "\n",
    "<center>\n",
    "![](./data/img/final.png)\n",
    "</center>\n",
    "\n",
    "Digging into the biology of this network, it turns out that GAL4 is repressed by GAL80. Both nodes (GAL4 and GAL11) show fairly small changes in expression, and neither change is statistically significant: they are pale blue with thin borders. These slight changes in expression suggest that the critical change affecting the red nodes might be somewhere else in the network, and not either of these nodes. GAL4 interacts with GAL80, which shows a significant level of repression: it is medium blue with a thicker border.\n",
    "\n",
    "Note that while GAL80 shows evidence of significant repression (blue), most nodes interacting with GAL4 show significant levels of induction (red). GAL11 is a general transcription co-factor with many interactions.\n",
    "\n",
    "Putting all of this together, we see that the ***transcriptional activation activity of Gal4 is repressed by Gal80***. So, repression of Gal80 increases the transcriptional activation activity of Gal4. Even though the expression of Gal4 itself did not significantly change (no red border), ***the Gal4 transcripts were much more likely to be active transcription factors when Gal80 was repressed***. This explains why there is so much up-regulation in the vicinity of Gal4.\n",
    "\n",
    "# Summary\n",
    "\n",
    "In summary, we have:\n",
    "\n",
    "- Explored a yeast interactome from a transcription factor knockout experiment\n",
    "- Created a visual style using expression value as node color and with border width mapped to significance\n",
    "- Selected high expressing genes and their neighbors and created a new network\n",
    "\n",
    "Finally, we can now export this network as a publication-quality image....\n",
    "\n",
    "# Saving Results\n",
    "\n",
    "Cytoscape provides a number of ways to save results and visualizations:\n",
    "\n",
    "- As a session:"
   ]
  },
  {
   "cell_type": "code",
   "execution_count": null,
   "metadata": {},
   "outputs": [],
   "source": [
    "saveSession('basic-data-visualization.cys')"
   ]
  },
  {
   "cell_type": "markdown",
   "metadata": {},
   "source": [
    "- As an image:"
   ]
  },
  {
   "cell_type": "code",
   "execution_count": null,
   "metadata": {},
   "outputs": [],
   "source": [
    "exportImage('basic-data-visualization', 'PDF')"
   ]
  },
  {
   "cell_type": "markdown",
   "metadata": {},
   "source": [
    "*Note: PNG, SVG, JPEG and PS are also supported*\n",
    "\n",
    "- To a public repository:\n",
    "\n",
    "```\n",
    "exportNetworkToNDEx(\"user\", \"pass\", TRUE) #requires a free NDEx account\n",
    "```\n",
    "\n",
    "- As a graph format file (Formats: \"CX JSON\", \"Cytoscape.js JSON\", \"GraphML\", \"XGMML\", \"SIF\",...):"
   ]
  },
  {
   "cell_type": "code",
   "execution_count": null,
   "metadata": {},
   "outputs": [],
   "source": [
    "exportNetwork('basic-data-visualization', 'CX')"
   ]
  },
  {
   "cell_type": "markdown",
   "metadata": {},
   "source": [
    "*Note: cyjs, graphML, xGMML and SIF are also supported*"
   ]
  }
 ],
 "metadata": {
  "jupytext": {
   "cell_metadata_filter": "tags,eval,-all",
   "main_language": "R",
   "notebook_metadata_filter": "-all"
  },
  "kernelspec": {
   "display_name": "Python 3",
   "language": "python",
   "name": "python3"
  },
  "language_info": {
   "codemirror_mode": {
    "name": "ipython",
    "version": 3
   },
   "file_extension": ".py",
   "mimetype": "text/x-python",
   "name": "python",
   "nbconvert_exporter": "python",
   "pygments_lexer": "ipython3",
   "version": "3.8.5"
  }
 },
 "nbformat": 4,
 "nbformat_minor": 4
}
