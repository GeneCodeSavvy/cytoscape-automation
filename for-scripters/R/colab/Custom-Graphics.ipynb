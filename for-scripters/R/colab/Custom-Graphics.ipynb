{
  "cells": [
    {
      "cell_type": "markdown",
      "metadata": {
        "id": "view-in-github",
        "colab_type": "text"
      },
      "source": [
        "<a href=\"https://colab.research.google.com/github/cytoscape/cytoscape-automation/blob/master/for-scripters/R/colab/Custom-Graphics.ipynb\" target=\"_parent\"><img src=\"https://colab.research.google.com/assets/colab-badge.svg\" alt=\"Open In Colab\"/></a>"
      ]
    },
    {
      "cell_type": "markdown",
      "metadata": {
        "lines_to_next_cell": 0,
        "id": "Xmcxk5bDBtrJ"
      },
      "source": [
        "# Custom Graphics and Labels\n",
        "## Kristina Hanspers, Alexander Pico\n"
      ]
    },
    {
      "cell_type": "markdown",
      "metadata": {
        "lines_to_next_cell": 0,
        "id": "0qCXOmOoBtrN"
      },
      "source": [
        "*The R markdown is available. [download the Rmd from GitHub](https://raw.githubusercontent.com/cytoscape/cytoscape-automation/master/for-scripters/R/notebooks/Custom-Graphics.Rmd).*\n",
        "\n",
        "<hr />\n",
        "\n",
        "This vignette illustrates how Cytoscape's Custom Graphics can be used to add graphs, charts and other graphics to node, and how to combine Custom Graphics with the enhancedGraphics app for specialized visualizations.\n",
        "\n",
        "# Installation"
      ]
    },
    {
      "cell_type": "code",
      "execution_count": null,
      "metadata": {
        "id": "llAfcsFPBtrN",
        "outputId": "c8edb696-fe78-4d3c-f993-d2360731876d",
        "colab": {
          "base_uri": "https://localhost:8080/"
        }
      },
      "outputs": [
        {
          "output_type": "stream",
          "name": "stderr",
          "text": [
            "Installing package into ‘/usr/local/lib/R/site-library’\n",
            "(as ‘lib’ is unspecified)\n",
            "\n",
            "'getOption(\"repos\")' replaces Bioconductor standard repositories, see\n",
            "'help(\"repositories\", package = \"BiocManager\")' for details.\n",
            "Replacement repositories:\n",
            "    CRAN: https://cran.rstudio.com\n",
            "\n",
            "Bioconductor version 3.17 (BiocManager 1.30.21), R 4.3.1 (2023-06-16)\n",
            "\n",
            "Installing package(s) 'BiocVersion', 'RCy3'\n",
            "\n",
            "also installing the dependencies ‘bitops’, ‘gtools’, ‘caTools’, ‘RJSONIO’, ‘XML’, ‘BiocGenerics’, ‘graph’, ‘uchardet’, ‘RCurl’, ‘base64url’, ‘gplots’\n",
            "\n",
            "\n",
            "Old packages: 'bit', 'curl', 'dbplyr', 'devtools', 'digest', 'gert', 'highr',\n",
            "  'isoband', 'pkgload', 'readxl', 'roxygen2', 'rstudioapi', 'testthat',\n",
            "  'tidyverse', 'whisker', 'xml2', 'boot', 'foreign', 'KernSmooth', 'Matrix',\n",
            "  'mgcv'\n",
            "\n"
          ]
        }
      ],
      "source": [
        "if(!\"RCy3\" %in% installed.packages()){\n",
        "    install.packages(\"BiocManager\")\n",
        "    BiocManager::install(\"RCy3\")\n",
        "}\n",
        "library(RCy3)"
      ]
    },
    {
      "cell_type": "markdown",
      "metadata": {
        "id": "vUh7E4jOBtrP"
      },
      "source": [
        "If you are using a remote notebook environment such as Google Colab, please execute the cell below. (If you're running on your local notebook, you don't need to do that.)"
      ]
    },
    {
      "cell_type": "code",
      "execution_count": null,
      "metadata": {
        "id": "v5rihzhhBtrP"
      },
      "outputs": [],
      "source": [
        "# Connect to local Cytoscape\n",
        "browserClientJs <- getBrowserClientJs()\n",
        "IRdisplay::display_javascript(browserClientJs)"
      ]
    },
    {
      "cell_type": "markdown",
      "metadata": {
        "lines_to_next_cell": 0,
        "id": "Bb741ysGBtrP"
      },
      "source": [
        "# Prerequisites\n",
        "In addition to this package (RCy3), you will need:\n",
        "\n",
        "  * **Cytoscape 3.7** or greater, which can be downloaded from https://cytoscape.org/download.html. Simply follow the installation instructions on screen.\n",
        "* Complete installation wizard\n",
        "* Launch Cytoscape\n",
        "\n",
        "# Open Sample\n",
        "For this tutorial, we will be using the galFiltered sample session file, which includes a yeast network and associated data."
      ]
    },
    {
      "cell_type": "code",
      "execution_count": null,
      "metadata": {
        "id": "Kw1QV-GwBtrQ"
      },
      "outputs": [],
      "source": [
        "openSession()"
      ]
    },
    {
      "cell_type": "markdown",
      "metadata": {
        "id": "BtxXb7z4BtrQ"
      },
      "source": [
        "## Set style and node color\n",
        "First, lets change the style to a simple default and the color of nodes to grey:"
      ]
    },
    {
      "cell_type": "code",
      "execution_count": null,
      "metadata": {
        "lines_to_next_cell": 0,
        "id": "spiWa9TYBtrR"
      },
      "outputs": [],
      "source": [
        "setVisualStyle('default')\n",
        "setNodeColorDefault('#D8D8D8')"
      ]
    },
    {
      "cell_type": "markdown",
      "metadata": {
        "lines_to_next_cell": 0,
        "id": "IqC6EysFBtrR"
      },
      "source": [
        "# Custom Graphics\n",
        "## Bar chart\n",
        "In this example, we will create a bar chart with the three expression values, gal1RGexp, gal4RGexp and gal80Rexp, available as attributes in the session file.\n",
        "\n",
        "Create the Custom Graphic:"
      ]
    },
    {
      "cell_type": "code",
      "execution_count": null,
      "metadata": {
        "lines_to_next_cell": 0,
        "id": "gpuGpevdBtrR"
      },
      "outputs": [],
      "source": [
        "setNodeCustomBarChart(c(\"gal1RGexp\",\"gal4RGexp\",\"gal80Rexp\"))"
      ]
    },
    {
      "cell_type": "markdown",
      "metadata": {
        "lines_to_next_cell": 0,
        "id": "gcrblsbeBtrS"
      },
      "source": [
        "There are 4 types of Bar Charts and customizable parameters for colors, size, spacing and orientation.\n",
        "\n",
        "Position the Bar Chart just below the node. This is an optional step that we are doing here just to make room for subsequent graphics. By specifying both anchors at opposite ends, we can get a lot of space between the node and the graphic."
      ]
    },
    {
      "cell_type": "code",
      "execution_count": null,
      "metadata": {
        "id": "8r4OBtxNBtrS"
      },
      "outputs": [],
      "source": [
        "setNodeCustomPosition(nodeAnchor = \"S\", graphicAnchor = \"N\")"
      ]
    },
    {
      "cell_type": "markdown",
      "metadata": {
        "id": "z8zff993BtrS"
      },
      "source": [
        "## Stripes\n",
        "Next we are going to create stripes of gradient mappings using a horizontal \"heatmap\"\" of the same three data columns and position the heatmap right above the node. For this vignette, we need to also specify the slot number to avoid overwriting the Bar Chart:"
      ]
    },
    {
      "cell_type": "code",
      "execution_count": null,
      "metadata": {
        "id": "XGtCwRvrBtrS"
      },
      "outputs": [],
      "source": [
        "setNodeCustomHeatMapChart(c(\"gal1RGexp\",\"gal4RGexp\",\"gal80Rexp\"), slot = 2)\n",
        "setNodeCustomPosition(nodeAnchor = \"N\", graphicAnchor = \"S\", slot = 2)"
      ]
    },
    {
      "cell_type": "markdown",
      "metadata": {
        "id": "k2FpGRIoBtrS"
      },
      "source": [
        "## Pie chart\n",
        "Finally, we will create a pie chart with two columns, Radiality and Degree, and place it to the left of the node. Here we'll use the *xOffset* parameter to be even more specific about where we want to place the graphic relative to the node."
      ]
    },
    {
      "cell_type": "code",
      "execution_count": null,
      "metadata": {
        "id": "hs5gYuKlBtrS"
      },
      "outputs": [],
      "source": [
        "setNodeCustomPieChart(c(\"Radiality\", \"Degree\"), slot = 3)\n",
        "setNodeCustomPosition(nodeAnchor = \"W\", xOffset = -20, slot = 3)"
      ]
    },
    {
      "cell_type": "markdown",
      "metadata": {
        "id": "h58WMz9TBtrS"
      },
      "source": [
        "![](https://cytoscape.github.io/cytoscape-automation/for-scripters/R/notebooks/data/img/custom-graphics.png)\n"
      ]
    },
    {
      "cell_type": "markdown",
      "metadata": {
        "id": "YHniI8HBBtrT"
      },
      "source": [
        "# Enhanced Graphics\n",
        "The nodes in the network are labeled with the corresponding protein names (yeast), but there is additional text information in the Node Table that could be useful to display as labels on the nodes. We are going to use the enhancedGraphics app to create a second node label for the common yeast gene name.\n",
        "\n",
        "This involves a new step: Filling a new column with parameters for the enhancedGraphics App. This column is then mapped to a Custom Graphic slot and (optionally) positioned, like in the examples above.\n",
        "\n",
        "## Install enhancedGraphics\n",
        "The enhancedGraphics app is available from the [Cytoscape App Store](http://apps.cytoscape.org/apps/enhancedgraphics). In Cytoscape 3.7 and above, you can install apps from R with the following function:"
      ]
    },
    {
      "cell_type": "code",
      "execution_count": null,
      "metadata": {
        "id": "hsMp2d9BBtrT"
      },
      "outputs": [],
      "source": [
        "installApp(\"enhancedGraphics\")"
      ]
    },
    {
      "cell_type": "markdown",
      "metadata": {
        "lines_to_next_cell": 0,
        "id": "aYLgiY-uBtrT"
      },
      "source": [
        "## Define new label\n",
        "The new column values have to follow a specific syntax to be recognized by the enhancedGraphics app.  Here, for example, is how you set a **label** based on another attribute (e.g., the column called \"COMMON\"), specifying its size, color, outline and background:\n",
        "\n",
        "```\n",
        "\"label: attribute=COMMON labelsize=10 color=red outline=false background=false\"\"\n",
        "```\n",
        "*For more details on the enhancedGraphics format, [see the manual](http://www.cgl.ucsf.edu/cytoscape/utilities3/enhancedcg.shtml).*\n",
        "\n",
        "First, we define a dataframe with two columns: node names (\"name\") and the new label (\"my second label\"):"
      ]
    },
    {
      "cell_type": "code",
      "execution_count": null,
      "metadata": {
        "id": "PrBWMVotBtrT"
      },
      "outputs": [],
      "source": [
        "all.nodes<-getAllNodes()\n",
        "label.df<-data.frame(all.nodes, \"label: attribute=COMMON labelsize=10 color=red outline=false background=false\")\n",
        "colnames(label.df)<-c(\"name\",\"my second label\")"
      ]
    },
    {
      "cell_type": "markdown",
      "metadata": {
        "lines_to_next_cell": 0,
        "id": "Em3tUmGIBtrT"
      },
      "source": [
        "Next, we load this dataframe into the Node Table to create and fill a new column:"
      ]
    },
    {
      "cell_type": "code",
      "execution_count": null,
      "metadata": {
        "id": "zfZK7c-JBtrT"
      },
      "outputs": [],
      "source": [
        "loadTableData(label.df, data.key.column = \"name\", table.key.column = \"name\")"
      ]
    },
    {
      "cell_type": "markdown",
      "metadata": {
        "lines_to_next_cell": 0,
        "id": "soBvGwIeBtrT"
      },
      "source": [
        "## Map and position label\n",
        "We now have a new column, *my second label*, that we can use for the mapping. This mapping does not come with a custom helper function, se we are going to use two alternative functions to prepare the passthrough mapping property and then update our visual style with the new mapping:"
      ]
    },
    {
      "cell_type": "code",
      "execution_count": null,
      "metadata": {
        "lines_to_next_cell": 0,
        "id": "fHmGDNR9BtrT"
      },
      "outputs": [],
      "source": [
        "label.map<-mapVisualProperty('node customgraphics 4','my second label','p')\n",
        "updateStyleMapping('default', label.map)"
      ]
    },
    {
      "cell_type": "markdown",
      "metadata": {
        "lines_to_next_cell": 0,
        "id": "B-8pG3A_BtrU"
      },
      "source": [
        "*Note: the custom graphic slot number is actulally part of the property's name.*\n",
        "\n",
        "Finally, we position the new label in the upper right corner:"
      ]
    },
    {
      "cell_type": "code",
      "execution_count": null,
      "metadata": {
        "id": "Al3DmQ97BtrU"
      },
      "outputs": [],
      "source": [
        "setNodeCustomPosition(nodeAnchor = \"E\", graphicAnchor = \"C\", xOffset = 10, slot = 4)"
      ]
    },
    {
      "cell_type": "markdown",
      "metadata": {
        "id": "cf5UlSwlBtrU"
      },
      "source": [
        "![](https://cytoscape.github.io/cytoscape-automation/for-scripters/R/notebooks/data/img/custom-graphics_label.png)\n"
      ]
    }
  ],
  "metadata": {
    "jupytext": {
      "cell_metadata_filter": "tags,-all",
      "main_language": "R",
      "notebook_metadata_filter": "-all"
    },
    "kernelspec": {
      "display_name": "R",
      "name": "ir"
    },
    "language_info": {
      "name": "R"
    },
    "colab": {
      "provenance": [],
      "include_colab_link": true
    }
  },
  "nbformat": 4,
  "nbformat_minor": 0
}