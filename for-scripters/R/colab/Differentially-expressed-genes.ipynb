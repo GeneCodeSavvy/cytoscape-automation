{
  "cells": [
    {
      "cell_type": "markdown",
      "metadata": {
        "id": "view-in-github",
        "colab_type": "text"
      },
      "source": [
        "<a href=\"https://colab.research.google.com/github/cytoscape/cytoscape-automation/blob/master/for-scripters/R/colab/Differentially-expressed-genes.ipynb\" target=\"_parent\"><img src=\"https://colab.research.google.com/assets/colab-badge.svg\" alt=\"Open In Colab\"/></a>"
      ]
    },
    {
      "cell_type": "markdown",
      "metadata": {
        "lines_to_next_cell": 0,
        "id": "I-xUbMm-ES7a"
      },
      "source": [
        "# Differentially Expressed Genes Network Analysis\n",
        "## Kozo Nishida, Kristina Hanspers and Alex Pico\n",
        "\n"
      ]
    },
    {
      "cell_type": "markdown",
      "metadata": {
        "lines_to_next_cell": 0,
        "id": "FuDIbhTxES7e"
      },
      "source": [
        "*The R markdown is available. [download the Rmd from GitHub](https://raw.githubusercontent.com/cytoscape/cytoscape-automation/master/for-scripters/R/notebooks/Differentially-expressed-genes.Rmd).*\n",
        "\n",
        "<hr />\n",
        "\n",
        "This protocol describes a network analysis workflow in Cytoscape for a set of differentially expressed genes. Points covered:\n",
        "\n",
        "- Retrieving relevant networks from public databases\n",
        "- Network functional enrichment analysis\n",
        "- Integration and visualization of experimental data\n",
        "- Exporting network visualizations\n",
        "\n",
        "<center>\n",
        "![](./data/img/string-ovarian-final.png)\n",
        "</center>\n",
        "\n",
        "<hr />\n",
        "\n",
        "# Installation"
      ]
    },
    {
      "cell_type": "code",
      "execution_count": null,
      "metadata": {
        "eval": false,
        "id": "YYZ9N8_YES7f"
      },
      "outputs": [],
      "source": [
        "if (!requireNamespace(\"BiocManager\", quietly = TRUE)){\n",
        "  install.packages(\"BiocManager\")\n",
        "}\n",
        "\n",
        "if(!\"RCy3\" %in% installed.packages()){\n",
        "  BiocManager::install(\"RCy3\")\n",
        "}\n",
        "library(RCy3)"
      ]
    },
    {
      "cell_type": "markdown",
      "metadata": {
        "id": "Fk4LAKpYES7g"
      },
      "source": [
        "If you are using a remote notebook environment such as Google Colab, please execute the cell below. (If you're running on your local notebook, you don't need to do that.)"
      ]
    },
    {
      "cell_type": "code",
      "execution_count": null,
      "metadata": {
        "id": "PeAkHN3lES7g"
      },
      "outputs": [],
      "source": [
        "# Connect to local Cytoscape\n",
        "browserClientJs <- getBrowserClientJs()\n",
        "IRdisplay::display_javascript(browserClientJs)"
      ]
    },
    {
      "cell_type": "markdown",
      "metadata": {
        "lines_to_next_cell": 0,
        "id": "OXBGZHMeES7h"
      },
      "source": [
        "# Getting started\n",
        "First, launch Cytoscape and keep it running whenever using RCy3. Confirm that you have everything installed and running:"
      ]
    },
    {
      "cell_type": "code",
      "execution_count": null,
      "metadata": {
        "id": "ADdstS5JES7h"
      },
      "outputs": [],
      "source": [
        "cytoscapePing()\n",
        "cytoscapeVersionInfo()"
      ]
    },
    {
      "cell_type": "markdown",
      "metadata": {
        "id": "yYZ74sR5ES7h"
      },
      "source": [
        "# Prerequisites\n",
        "\n",
        "If you haven't already, install the [STRINGapp](http://apps.cytoscape.org/apps/stringapp)"
      ]
    },
    {
      "cell_type": "code",
      "execution_count": null,
      "metadata": {
        "id": "MDQhQn9dES7i"
      },
      "outputs": [],
      "source": [
        "installApp('stringApp')"
      ]
    },
    {
      "cell_type": "markdown",
      "metadata": {
        "id": "M_bS1sl7ES7i"
      },
      "source": [
        "# Background\n",
        "\n",
        "Ovarian serous cystadenocarcinoma is a type of epithelial ovarian cancer which accounts for ~90% of all ovarian cancers.\n",
        "The data used in this protocol are from [The Cancer Genome Atlas](https://cancergenome.nih.gov/), in which multiple subtypes of serous cystadenocarcinoma were identified and characterized by mRNA expression.\n",
        "\n",
        "We will focus on the differential gene expression between two subtypes, **Mesenchymal** and **Immunoreactive**.\n",
        "\n",
        "For convenience, the data has already been analyzed and pre-filtered, using log fold change value and adjusted p-value.\n",
        "\n",
        "# Network Retrieval\n",
        "\n",
        "Many public databases and multiple Cytoscape apps allow you to retrieve a network or pathway relevant to your data.\n",
        "For this workflow, we will use the STRING app. Some other options include:\n",
        "\n",
        "- [WikiPathways](https://nrnb.org/gsod2019_kozo_nishida/html_documents/Rmd/wikipathways-app.html)\n",
        "- [NDEx](http://www.ndexbio.org/)\n",
        "- [GeneMANIA](https://genemania.org/)\n",
        "\n",
        "# Retrieve Networks from STRING\n",
        "\n",
        "To identify a relevant network, we will query the STRING database in two different ways:\n",
        "\n",
        "- Query **STRING protein** with the list of differentially expressed genes.\n",
        "- Query **STRING disease** for a keyword; **ovarian cancer**.\n",
        "\n",
        "The two examples are split into two separate workflows below.\n",
        "\n",
        "# Example 1: STRING Protein Query Up-regulated Genes\n",
        "\n",
        "Load the file containing the differential gene expression data and filter for up-regulated genes, TCGA-Ovarian-MesenvsImmuno_data.csv:"
      ]
    },
    {
      "cell_type": "code",
      "execution_count": null,
      "metadata": {
        "id": "Nc0_nOoQES7i"
      },
      "outputs": [],
      "source": [
        "de.genes <- read.table(\"https://raw.githubusercontent.com/cytoscape/cytoscape-tutorials/gh-pages/protocols/data/TCGA-Ovarian-MesenvsImmuno_data.csv\", header = TRUE, sep = \",\", quote=\"\\\"\", stringsAsFactors = FALSE)\n",
        "de.genes.up <- de.genes[which(de.genes$logFC >= 1.8 & de.genes$FDR.adjusted.Pvalue <= 0.05),]"
      ]
    },
    {
      "cell_type": "markdown",
      "metadata": {
        "id": "jCy8BiuVES7j"
      },
      "source": [
        "We will use the identifiers in the first column of this datafile to run a **STRING protein query**, with confidence (score) cutoff of 0.4 and no additional proteins (limit = 0):"
      ]
    },
    {
      "cell_type": "code",
      "execution_count": null,
      "metadata": {
        "id": "e-3Eh3LuES7j"
      },
      "outputs": [],
      "source": [
        "string.cmd = paste('string protein query query=\"', paste(de.genes.up$Gene, collapse = '\\n'), '\" cutoff=0.4 limit=0 species=\"Homo sapiens\"', sep = \"\")\n",
        "commandsRun(string.cmd)"
      ]
    },
    {
      "cell_type": "markdown",
      "metadata": {
        "id": "3ikOFgcOES7j"
      },
      "source": [
        "The resulting network will load automatically and contains up-regulated genes recognized by STRING, and interactions between them with an evidence score of 0.4 or greater.\n",
        "\n",
        "<center>\n",
        "![](./data/img/string-de-up2.png)\n",
        "</center>\n",
        "\n",
        "The networks consists of one large connected component, several smaller networks, and some unconnected nodes. We will you a handy utility app for Cytoscape to select the largest connected component and create a subnetwork with it."
      ]
    },
    {
      "cell_type": "code",
      "execution_count": null,
      "metadata": {
        "id": "E7LI2hg7ES7j"
      },
      "outputs": [],
      "source": [
        "installApp(\"Largest Subnetwork\")\n",
        "commandsRun(\"network select subnetwork createSubnetwork=true\")"
      ]
    },
    {
      "cell_type": "markdown",
      "metadata": {
        "id": "rNKuMGFsES7j"
      },
      "source": [
        "# Data Integration\n",
        "\n",
        "Next we will create a visualization from the log fold changes and p-values from our TCGA dataset. Our data from TCGA has NCBI Gene identifiers, and our STRING network retained these identifiers in the \"query term\" column."
      ]
    },
    {
      "cell_type": "code",
      "execution_count": null,
      "metadata": {
        "id": "59KwGBCaES7j"
      },
      "outputs": [],
      "source": [
        "loadTableData(de.genes, data.key.column=\"Gene\", table.key.column=\"query term\")"
      ]
    },
    {
      "cell_type": "markdown",
      "metadata": {
        "id": "ll_he2gpES7j"
      },
      "source": [
        "You will notice two new columns (logFC and FDR.adjusted.Pvalue) in the Node Table."
      ]
    },
    {
      "cell_type": "code",
      "execution_count": null,
      "metadata": {
        "id": "Ll-1PNAKES7k"
      },
      "outputs": [],
      "source": [
        "tail(getTableColumnNames('node'))"
      ]
    },
    {
      "cell_type": "markdown",
      "metadata": {
        "id": "O4uF8SmqES7k"
      },
      "source": [
        "# Visualization\n",
        "Next, we will create a visualization of the imported data on the network. Let's set all the defaults first:"
      ]
    },
    {
      "cell_type": "code",
      "execution_count": null,
      "metadata": {
        "id": "ph-ozKO_ES7k"
      },
      "outputs": [],
      "source": [
        "copyVisualStyle(from.style = \"default\", to.style = \"de genes up\")\n",
        "setVisualStyle(\"de genes up\")\n",
        "setNodeShapeDefault(\"ELLIPSE\", \"de genes up\")\n",
        "lockNodeDimensions(\"TRUE\", \"de genes up\")\n",
        "setNodeSizeDefault(\"50\", \"de genes up\")\n",
        "setNodeColorDefault(\"#D3D3D3\", \"de genes up\")\n",
        "setNodeBorderWidthDefault(\"2\", \"de genes up\")\n",
        "setNodeBorderColorDefault(\"#616060\", \"de genes up\")\n",
        "setNodeLabelMapping(\"display name\", \"de genes up\")\n",
        "setNodeFontSizeDefault(\"14\", \"de genes up\")\n",
        "setEdgeOpacityDefault(100, \"de genes up\")"
      ]
    },
    {
      "cell_type": "markdown",
      "metadata": {
        "id": "73AzOKHfES7k"
      },
      "source": [
        "Then we can use the **logFC** values to produce a gradient of node fill colors:"
      ]
    },
    {
      "cell_type": "code",
      "execution_count": null,
      "metadata": {
        "id": "6BeEcWGKES7k"
      },
      "outputs": [],
      "source": [
        "setNodeColorMapping('logFC', colors=paletteColorBrewerYlOrRd, style.name=\"de genes up\")"
      ]
    },
    {
      "cell_type": "markdown",
      "metadata": {
        "id": "WhdmR95HES7k"
      },
      "source": [
        "*Note: we are using `paletteColorBrewerYlOrRd` to generate a set of standardized colors balanced for a sequential gradient (low to high), which are automatically matched to the `logFC` column values.*\n",
        "\n",
        "Applying a force-directed layout, the network will now look something like this:"
      ]
    },
    {
      "cell_type": "code",
      "execution_count": null,
      "metadata": {
        "id": "VSekvow1ES7k"
      },
      "outputs": [],
      "source": [
        "layoutNetwork(paste('force-directed',\n",
        "              'defaultSpringCoefficient=0.000009',\n",
        "              'defaultSpringLength=50',\n",
        "              'defaultNodeMass=4',\n",
        "              sep=' '))"
      ]
    },
    {
      "cell_type": "markdown",
      "metadata": {
        "id": "FxFxsQr9ES7l"
      },
      "source": [
        "<center>\n",
        "![](./data/img/string-de-up-forcedirected.png)\n",
        "</center>\n",
        "\n",
        "# Enrichment Analysis Options\n",
        "\n",
        "Next, we are going to perform enrichment analysis uing the STRING app.\n",
        "\n",
        "## STRING Enrichment\n",
        "\n",
        "The STRING app has built-in enrichment analysis functionality, which includes enrichment for GO Process, GO Component, GO Function, InterPro, KEGG Pathways, and PFAM.\n",
        "\n",
        "First, we will run the enrichment on the whole network, against the genome:"
      ]
    },
    {
      "cell_type": "code",
      "execution_count": null,
      "metadata": {
        "id": "Y0tFIq3DES7l"
      },
      "outputs": [],
      "source": [
        "commandsRun('string retrieve enrichment allNetSpecies=\"Homo sapiens\"')\n",
        "commandsRun('string show enrichment')"
      ]
    },
    {
      "cell_type": "markdown",
      "metadata": {
        "id": "_I0rmaNuES7l"
      },
      "source": [
        "When the enrichment analysis is complete, a new tab titled **STRING Enrichment** will open in the **Table Panel**.\n",
        "\n",
        "<center>\n",
        "![](https://cytoscape.org/cytoscape-automation/for-scripters/R/notebooks/data/img/string-enrichment.png)\n",
        "</center>\n",
        "\n",
        "The STRING app includes several options for filtering and displaying the enrichment results.\n",
        "The features are all available at the top of the **STRING Enrichment** tab.\n",
        "\n",
        "We are going to filter the table to only show GO Process:"
      ]
    },
    {
      "cell_type": "code",
      "execution_count": null,
      "metadata": {
        "id": "ZdTFtH92ES7l"
      },
      "outputs": [],
      "source": [
        "commandsRun('string filter enrichment categories=\"GO Biological Process\", overlapCutoff = \"0.5\", removeOverlapping = \"true\"')"
      ]
    },
    {
      "cell_type": "markdown",
      "metadata": {
        "id": "LLLLejnXES7l"
      },
      "source": [
        "Next, we will add a split donut chart to the nodes representing the top terms:"
      ]
    },
    {
      "cell_type": "code",
      "execution_count": null,
      "metadata": {
        "id": "hKG0FMv6ES7l"
      },
      "outputs": [],
      "source": [
        "commandsRun('string show charts')"
      ]
    },
    {
      "cell_type": "markdown",
      "metadata": {
        "id": "GCDmrTUTES7l"
      },
      "source": [
        "## STRING Protein Query: Down-regulated genes\n",
        "\n",
        "We are going to repeat the network search, data integration, visualization and enrichment analysis for the set of down-regulated genes by subsetting our original dataset for downregulated logFC genes:"
      ]
    },
    {
      "cell_type": "code",
      "execution_count": null,
      "metadata": {
        "id": "f_1kBzzvES7l"
      },
      "outputs": [],
      "source": [
        "de.genes.down <- de.genes[which(de.genes$logFC <= -1.1 & de.genes$FDR.adjusted.Pvalue <= 0.05),]\n",
        "string.cmd = paste('string protein query query=\"', paste(de.genes.down$Gene, collapse = '\\n'), '\" cutoff=0.4 limit=0 species=\"Homo sapiens\"', sep = \"\")\n",
        "commandsRun(string.cmd)"
      ]
    },
    {
      "cell_type": "markdown",
      "metadata": {
        "id": "5idNFf4jES7l"
      },
      "source": [
        "## Subnetwork\n",
        "\n",
        "Let's select only the connected nodes to work with for the rest of this tutorial, by creating a subnetwork based on all edges:"
      ]
    },
    {
      "cell_type": "code",
      "execution_count": null,
      "metadata": {
        "id": "edx8K9kKES7l"
      },
      "outputs": [],
      "source": [
        "commandsRun(\"network select subnetwork createSubnetwork=true\")"
      ]
    },
    {
      "cell_type": "markdown",
      "metadata": {
        "id": "8kp_1Yt-ES7m"
      },
      "source": [
        "## Data integration\n",
        "\n",
        "Again, we can import the data, mapping to the \"query term\" column:"
      ]
    },
    {
      "cell_type": "code",
      "execution_count": null,
      "metadata": {
        "id": "Icd9gy0-ES7m"
      },
      "outputs": [],
      "source": [
        "loadTableData(de.genes,data.key.column=\"Gene\",table.key.column=\"query term\")"
      ]
    },
    {
      "cell_type": "markdown",
      "metadata": {
        "id": "FA1_En9VES7m"
      },
      "source": [
        "## Visualization\n",
        "Next, we can create a visualization. Note that we can reuse most of the previous style (e.g., all the default settings) and just provide a new node color mapping with downregulated color scheme, like `paletteColorBrewerBlues`:"
      ]
    },
    {
      "cell_type": "code",
      "execution_count": null,
      "metadata": {
        "id": "VabPwVJpES7m"
      },
      "outputs": [],
      "source": [
        "copyVisualStyle(from.style = \"de genes up\", to.style = \"de genes down\")\n",
        "setVisualStyle(style.name=\"de genes down\")\n",
        "\n",
        "setNodeColorMapping('logFC', colors=paletteColorBrewerBlues, style.name=\"de genes down\")"
      ]
    },
    {
      "cell_type": "markdown",
      "metadata": {
        "id": "1-1IOR2fES7q"
      },
      "source": [
        "Apply a force-directed layout."
      ]
    },
    {
      "cell_type": "code",
      "execution_count": null,
      "metadata": {
        "id": "Qu95pz48ES7q"
      },
      "outputs": [],
      "source": [
        "layoutNetwork(paste('force-directed',\n",
        "              'defaultSpringCoefficient=0.00001',\n",
        "              'defaultSpringLength=50',\n",
        "              'defaultNodeMass=4',\n",
        "              sep=' '))"
      ]
    },
    {
      "cell_type": "markdown",
      "metadata": {
        "id": "9WQoZPR1ES7q"
      },
      "source": [
        "Focusing on the connected part of the network, it should look something like this:\n",
        "<center>\n",
        "![](./data/img/string-de-down-forcedirected.png)\n",
        "\n",
        "## STRING Enrichment\n",
        "\n",
        "Now we can perform STRING Enrichment analysis on the resulting network:"
      ]
    },
    {
      "cell_type": "code",
      "execution_count": null,
      "metadata": {
        "id": "MR2_TiO5ES7r"
      },
      "outputs": [],
      "source": [
        "commandsRun('string retrieve enrichment allNetSpecies=\"Homo sapiens\"')\n",
        "commandsRun('string show enrichment')"
      ]
    },
    {
      "cell_type": "markdown",
      "metadata": {
        "id": "tAyQjkU6ES7r"
      },
      "source": [
        "Filter the analysis results for non-redundant GO Process terms only."
      ]
    },
    {
      "cell_type": "code",
      "execution_count": null,
      "metadata": {
        "id": "jn3jsce_ES7r"
      },
      "outputs": [],
      "source": [
        "commandsRun('string filter enrichment categories=\"GO Biological Process\", overlapCutoff = \"0.5\", removeOverlapping = \"true\"')"
      ]
    },
    {
      "cell_type": "code",
      "execution_count": null,
      "metadata": {
        "id": "NhhX8YF0ES7r"
      },
      "outputs": [],
      "source": [
        "commandsRun('string show charts')"
      ]
    },
    {
      "cell_type": "markdown",
      "metadata": {
        "id": "MkHYK8EkES7r"
      },
      "source": [
        "## STRING Disease Query\n",
        "\n",
        "So far, we queried the STRING database with a set of genes we knew were differentially expressed. Next, we will query the **STRING disease** database to retrieve a network genes associated with ovarian cancer, which will be completely independent of our dataset."
      ]
    },
    {
      "cell_type": "code",
      "execution_count": null,
      "metadata": {
        "id": "UnJi9sXkES7r"
      },
      "outputs": [],
      "source": [
        "commandsRun('string disease query disease=\"ovarian cancer\" cutoff=\"0.95\"')"
      ]
    },
    {
      "cell_type": "markdown",
      "metadata": {
        "id": "ueqrxv4kES7s"
      },
      "source": [
        "This will bring in the top 100 (default) ovarian cancer associated genes connected with a confidence score greater than 0.95. Again, lets extract out the connected nodes:"
      ]
    },
    {
      "cell_type": "code",
      "execution_count": null,
      "metadata": {
        "id": "LPABwzt4ES7s"
      },
      "outputs": [],
      "source": [
        "commandsRun(\"network select subnetwork createSubnetwork=true\")"
      ]
    },
    {
      "cell_type": "markdown",
      "metadata": {
        "id": "pftcTkx9ES7s"
      },
      "source": [
        "# Data integration\n",
        "\n",
        "Next we will load the same differential gene expression data from our TCGA dataset to create a visualization. This time we will need to do some identifier mapping to match the data to the network."
      ]
    },
    {
      "cell_type": "code",
      "execution_count": null,
      "metadata": {
        "id": "er0Lqmk3ES7s"
      },
      "outputs": [],
      "source": [
        "mapped.cols <- mapTableColumn(\"display name\",'Human','HGNC','Entrez Gene')"
      ]
    },
    {
      "cell_type": "markdown",
      "metadata": {
        "id": "cBPeSxGBES7s"
      },
      "source": [
        "Here we set **Human** as species, **HGNC** as **Map from**, and **Entrez Gene** as **To**.\n",
        "\n",
        "We can now import the data frame with the data into the node table in Cytoscape:"
      ]
    },
    {
      "cell_type": "code",
      "execution_count": null,
      "metadata": {
        "id": "WCwikCdPES7s"
      },
      "outputs": [],
      "source": [
        "loadTableData(de.genes, data.key.column = \"Gene\", table = \"node\", table.key.column = \"Entrez Gene\")"
      ]
    },
    {
      "cell_type": "markdown",
      "metadata": {
        "id": "48x74-rXES7t"
      },
      "source": [
        "# Visualization\n",
        "\n",
        "Again, we can create a visualization reusing our prior style and setting a new color gradient for the nodes:"
      ]
    },
    {
      "cell_type": "code",
      "execution_count": null,
      "metadata": {
        "lines_to_next_cell": 0,
        "id": "X5vRE5v4ES7t"
      },
      "outputs": [],
      "source": [
        "copyVisualStyle(from.style = \"de genes up\", to.style = \"ovarian\")\n",
        "setVisualStyle(style.name=\"ovarian\")\n",
        "\n",
        "setNodeColorMapping('logFC', colors=paletteColorBrewerRdBu, style.name=\"ovarian\")"
      ]
    },
    {
      "cell_type": "markdown",
      "metadata": {
        "id": "ujV9SEfyES7t"
      },
      "source": [
        "Apply a force-directed layout."
      ]
    },
    {
      "cell_type": "code",
      "execution_count": null,
      "metadata": {
        "id": "0ZmrVmjCES7t"
      },
      "outputs": [],
      "source": [
        "layoutNetwork(paste('force-directed',\n",
        "              'defaultSpringCoefficient=0.000006',\n",
        "              'defaultSpringLength=50',\n",
        "              'defaultNodeMass=2',\n",
        "              sep=' '))"
      ]
    },
    {
      "cell_type": "markdown",
      "metadata": {
        "id": "ClL6bwCMES7t"
      },
      "source": [
        "The TCGA found several genes that were commonly mutated in ovarian cancer, so called \"cancer drivers\".\n",
        "We can add information about these genes to the network visualization, by changing the visual style of these nodes.\n",
        "Three of the most important drivers are **TP53**, **BRCA1** and **BRCA2**.\n",
        "We will add a thicker, colored border for these genes in the network.\n",
        "\n",
        "Select all three driver genes by:"
      ]
    },
    {
      "cell_type": "code",
      "execution_count": null,
      "metadata": {
        "id": "r_DfItb-ES7t"
      },
      "outputs": [],
      "source": [
        "selectNodes(c(\"TP53\", \"BRCA1\", \"BRCA2\"), by.col = \"display name\")"
      ]
    },
    {
      "cell_type": "markdown",
      "metadata": {
        "id": "tn43S_ePES7t"
      },
      "source": [
        "Add a style bypass for node **Border Width** (5) and node **Border Paint** (bright pink):"
      ]
    },
    {
      "cell_type": "code",
      "execution_count": null,
      "metadata": {
        "id": "UMHB76pmES7u"
      },
      "outputs": [],
      "source": [
        "setNodeBorderWidthBypass(getSelectedNodes(), 5)\n",
        "setNodeBorderColorBypass(getSelectedNodes(), '#FF007F')"
      ]
    },
    {
      "cell_type": "markdown",
      "metadata": {
        "id": "uHqXqkdMES7u"
      },
      "source": [
        "<center>\n",
        "![](./data/img/string-ovarian-final.png)\n",
        "</center>\n",
        "\n",
        "# Exporting Networks\n",
        "Cytoscape provides a number of ways to export results and visualizations:\n",
        "\n",
        "- As an image:"
      ]
    },
    {
      "cell_type": "code",
      "execution_count": null,
      "metadata": {
        "id": "3l5e4575ES7u"
      },
      "outputs": [],
      "source": [
        "exportImage('differentially-expressed-genes', 'PDF')"
      ]
    },
    {
      "cell_type": "markdown",
      "metadata": {
        "id": "bZB9s57JES7u"
      },
      "source": [
        "*Note: PNG, SVG, JPEG and PS are also supported*\n",
        "\n",
        "- To a public repository:\n",
        "\n",
        "```\n",
        "exportNetworkToNDEx(\"user\", \"password\", TRUE) #requires a free NDEx account\n",
        "```"
      ]
    }
  ],
  "metadata": {
    "jupytext": {
      "cell_metadata_filter": "eval,tags,-all",
      "main_language": "R",
      "notebook_metadata_filter": "-all"
    },
    "kernelspec": {
      "display_name": "R",
      "name": "ir"
    },
    "language_info": {
      "name": "R"
    },
    "colab": {
      "provenance": [],
      "include_colab_link": true
    }
  },
  "nbformat": 4,
  "nbformat_minor": 0
}