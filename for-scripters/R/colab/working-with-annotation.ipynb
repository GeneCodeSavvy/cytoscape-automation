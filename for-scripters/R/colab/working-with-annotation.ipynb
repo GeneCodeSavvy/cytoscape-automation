{
  "cells": [
    {
      "cell_type": "markdown",
      "metadata": {
        "id": "view-in-github",
        "colab_type": "text"
      },
      "source": [
        "<a href=\"https://colab.research.google.com/github/cytoscape/cytoscape-automation/blob/master/for-scripters/R/colab/working-with-annotation.ipynb\" target=\"_parent\"><img src=\"https://colab.research.google.com/assets/colab-badge.svg\" alt=\"Open In Colab\"/></a>"
      ]
    },
    {
      "cell_type": "markdown",
      "metadata": {
        "id": "9w8zc5PrI2nA"
      },
      "source": [
        "# Advanced Visualization: Working with Annotations\n",
        "## Yihang Xin, Kristina Hanspers, Alex Pico"
      ]
    },
    {
      "cell_type": "markdown",
      "metadata": {
        "lines_to_next_cell": 0,
        "id": "vMhGlsboI2nD"
      },
      "source": [
        "*The R markdown is available. [download the Rmd from GitHub](https://raw.githubusercontent.com/cytoscape/cytoscape-automation/master/for-scripters/R/notebooks/working-with-annotation.Rmd).*\n",
        "\n",
        "<hr />\n",
        "This short notebook reviews how to add annotations in Cytoscape.\n",
        "\n",
        "# Installation\n",
        "Install the latest version of RCy3 from Bioconductor."
      ]
    },
    {
      "cell_type": "code",
      "execution_count": null,
      "metadata": {
        "eval": false,
        "id": "U3nMMg3FI2nE"
      },
      "outputs": [],
      "source": [
        "if (!requireNamespace(\"BiocManager\", quietly = TRUE))\n",
        "    install.packages(\"BiocManager\")\n",
        "BiocManager::install(\"RCy3\")\n",
        "library(RCy3)"
      ]
    },
    {
      "cell_type": "markdown",
      "metadata": {
        "id": "JEofFVMBI2nF"
      },
      "source": [
        "If you are using a remote notebook environment such as Google Colab, please execute the cell below. (If you're running on your local notebook, you don't need to do that.)"
      ]
    },
    {
      "cell_type": "code",
      "execution_count": null,
      "metadata": {
        "id": "1a2Lk_AQI2nG"
      },
      "outputs": [],
      "source": [
        "# Connect to local Cytoscape\n",
        "browserClientJs <- getBrowserClientJs()\n",
        "IRdisplay::display_javascript(browserClientJs)"
      ]
    },
    {
      "cell_type": "markdown",
      "metadata": {
        "lines_to_next_cell": 0,
        "id": "vbpSo5dgI2nG"
      },
      "source": [
        "# Required Software\n",
        "The whole point of RCy3 is to connect with Cytoscape. You will need to install and launch Cytoscape:\n",
        "    \n",
        "* Download the latest Cytoscape from http://www.cytoscape.org/download.php\n",
        "* Complete installation wizard\n",
        "* Launch Cytoscape\n",
        "\n",
        "# Check connection\n",
        "Then, launch Cytoscape and keep it running whenever using RCy3 and Jupyter Bridge. Confirm that you have everything installed and running:"
      ]
    },
    {
      "cell_type": "code",
      "execution_count": null,
      "metadata": {
        "eval": false,
        "lines_to_next_cell": 0,
        "id": "Cg1drOJlI2nH"
      },
      "outputs": [],
      "source": [
        "cytoscapeVersionInfo()\n",
        "cytoscapePing()"
      ]
    },
    {
      "cell_type": "markdown",
      "metadata": {
        "id": "9VB50UPDI2nH"
      },
      "source": []
    },
    {
      "cell_type": "markdown",
      "metadata": {
        "id": "IN4_bEGfI2nH"
      },
      "source": [
        "# Background\n",
        "Annotations in Cytoscape\n",
        "Cytoscape has three separate drawing surfaces on which the network and annotations are drawn:\n",
        "\n",
        "* Network canvas: where nodes and edges are drawn.\n",
        "* Background canvas: the drawing surface behind nodes and edges.\n",
        "* Foreground canvas: the drawing surface in front of nodes and edges.\n",
        "\n",
        "Annotations are drawn either on the foreground or background canvases, and are exported as objects. They are high quality graphically, allowing for export of images. Annotation types:\n",
        "\n",
        "* Shapes, Text, Bounded Text, Images and Arrows\n",
        "* Groups, to group annotations together"
      ]
    },
    {
      "cell_type": "markdown",
      "metadata": {
        "id": "odTG0c7CI2nI"
      },
      "source": [
        "# Annotation Panel in the Cytoscape\n",
        "You can find annotation tab on the left side of the Cytoscape, and you can manually add annotations there. You can also add annotation via commands to acheive automation."
      ]
    },
    {
      "cell_type": "markdown",
      "metadata": {
        "id": "Qq8SILmCI2nI"
      },
      "source": [
        "# Adding a Label Annotation\n",
        "Import STE12 subnetwork of galFiltered network, for use with this tutorial."
      ]
    },
    {
      "cell_type": "code",
      "execution_count": null,
      "metadata": {
        "eval": false,
        "id": "mszaPLASI2nI"
      },
      "outputs": [],
      "source": [
        "importNetworkFromNDEx('8f800fbf-35e5-11ec-b3be-0ac135e8bacf')"
      ]
    },
    {
      "cell_type": "markdown",
      "metadata": {
        "id": "_GJn9ItpI2nJ"
      },
      "source": [
        "Create and execute the funtion to add a text annotation."
      ]
    },
    {
      "cell_type": "code",
      "execution_count": null,
      "metadata": {
        "eval": false,
        "lines_to_next_cell": 0,
        "id": "jpX7ARu6I2nJ"
      },
      "outputs": [],
      "source": [
        "addAnnotationText(text='Mutation', network='current')"
      ]
    },
    {
      "cell_type": "markdown",
      "metadata": {
        "lines_to_next_cell": 0,
        "id": "ZjPGh3n_I2nJ"
      },
      "source": [
        "You will notice the annotation is located at the center of the network. To adjust the location of the annotation, first click the Toggle Annotation Selection. The annotation can now be moved by click and drag.\n",
        "\n",
        "Or you can enter x and y parameter when you create the annotation."
      ]
    },
    {
      "cell_type": "code",
      "execution_count": null,
      "metadata": {
        "eval": false,
        "lines_to_next_cell": 0,
        "id": "6ff79Sb7I2nJ"
      },
      "outputs": [],
      "source": [
        "addAnnotationText(text='Protein', network='current', x.pos = 2500, y.pos = 2500)"
      ]
    },
    {
      "cell_type": "markdown",
      "metadata": {
        "lines_to_next_cell": 0,
        "id": "kxYJrlvaI2nJ"
      },
      "source": [
        "To customize the appearance of the annotation, you can specify the font, color etc in the function."
      ]
    },
    {
      "cell_type": "code",
      "execution_count": null,
      "metadata": {
        "eval": false,
        "lines_to_next_cell": 0,
        "id": "xs9A3_lgI2nJ"
      },
      "outputs": [],
      "source": [
        "addAnnotationText(text='Gene', network='current', x.pos=2550, y.pos=2550, fontSize=48, color='#FD39B8', fontStyle='bold')"
      ]
    },
    {
      "cell_type": "markdown",
      "metadata": {
        "id": "xP_M0FKYI2nK"
      },
      "source": [
        "You can find other command arguments [here](http://localhost:1234/v1/swaggerUI/swagger-ui/index.html?url=http%3A%2F%2Flocalhost%3A1234%2Fv1%2Fcommands%2Fswagger.json#!/annotation/annotation_add_text)."
      ]
    },
    {
      "cell_type": "markdown",
      "metadata": {
        "lines_to_next_cell": 0,
        "id": "OH6_JXd4I2nK"
      },
      "source": [
        "# Adding a Shape Annotation"
      ]
    },
    {
      "cell_type": "code",
      "execution_count": null,
      "metadata": {
        "eval": false,
        "lines_to_next_cell": 2,
        "id": "fl12oarJI2nK"
      },
      "outputs": [],
      "source": [
        "addAnnotationShape(customShape=\"RECTANGLE\",network='current',x.pos=2250, y.pos=2390, fillColor='#e0f3db', height=200, width=240)"
      ]
    },
    {
      "cell_type": "markdown",
      "metadata": {
        "lines_to_next_cell": 0,
        "id": "MfefDptmI2nK"
      },
      "source": [
        "By default the shape will be drawn on the foreground canvas, obstructing any nodes behind it. To move it to the background cavnas, select the shape in the Layers tab in the Annotation panel and click the Push Annotations to Background Layer arrow just below the list.\n",
        "\n",
        "Or you can add canvas argument in your function.\n",
        "First, let us delete this shape annotation."
      ]
    },
    {
      "cell_type": "code",
      "execution_count": null,
      "metadata": {
        "eval": false,
        "lines_to_next_cell": 0,
        "id": "R_Az3okGI2nK"
      },
      "outputs": [],
      "source": [
        "deleteAnnotation(names=\"Shape 1\")"
      ]
    },
    {
      "cell_type": "markdown",
      "metadata": {
        "lines_to_next_cell": 0,
        "id": "yFqWpqXiI2nK"
      },
      "source": [
        "Then, we add the correct one."
      ]
    },
    {
      "cell_type": "code",
      "execution_count": null,
      "metadata": {
        "eval": false,
        "lines_to_next_cell": 0,
        "id": "IZ6uQWS0I2nK"
      },
      "outputs": [],
      "source": [
        "addAnnotationShape(customShape=\"RECTANGLE\", canvas='background',network='current',x.pos=2250, y.pos=2390, fillColor='#e0f3db', height=200, width=240)"
      ]
    },
    {
      "cell_type": "markdown",
      "metadata": {
        "id": "aQYyiam-I2nL"
      },
      "source": [
        "As usual, you can choose border color, border opacity, fill color and other parameters by adding arguments in the command.\n",
        "\n",
        "You can find other command arguments [here](http://localhost:1234/v1/swaggerUI/swagger-ui/index.html?url=http%3A%2F%2Flocalhost%3A1234%2Fv1%2Fcommands%2Fswagger.json#!/annotation/annotation_add_shape)."
      ]
    },
    {
      "cell_type": "markdown",
      "metadata": {
        "lines_to_next_cell": 0,
        "id": "DMgWwbOfI2nL"
      },
      "source": [
        "# Editing Annotations\n",
        "Existing annotations can be updated via annotation update commands. You may notice that each annotation has its own unique ID. When you want to update a exisiting annotaion, the unique ID is required. You can also use annotation names to update the annotation.\n",
        "\n",
        "All annotation ID can be found by listing annotation."
      ]
    },
    {
      "cell_type": "code",
      "execution_count": null,
      "metadata": {
        "eval": false,
        "lines_to_next_cell": 0,
        "id": "1R_1As12I2nL"
      },
      "outputs": [],
      "source": [
        "annotationList <- getAnnotationList(network='current')\n",
        "annotationList"
      ]
    },
    {
      "cell_type": "markdown",
      "metadata": {
        "id": "W4bSha5uI2nL"
      },
      "source": [
        "\n"
      ]
    }
  ],
  "metadata": {
    "jupytext": {
      "cell_metadata_filter": "eval,name,tags,-all",
      "main_language": "R",
      "notebook_metadata_filter": "-all"
    },
    "kernelspec": {
      "display_name": "R",
      "name": "ir"
    },
    "language_info": {
      "name": "R"
    },
    "colab": {
      "provenance": [],
      "include_colab_link": true
    }
  },
  "nbformat": 4,
  "nbformat_minor": 0
}