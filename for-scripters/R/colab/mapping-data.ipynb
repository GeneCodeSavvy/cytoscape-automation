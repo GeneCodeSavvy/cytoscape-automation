{
 "cells": [
  {
   "cell_type": "markdown",
   "metadata": {
    "lines_to_next_cell": 0
   },
   "source": [
    "# Visualizing Expression Data\n",
    "## Kozo Nishida, Kristina Hanspers, Alexander Pico\n",
    "[![Open In Colab](https://colab.research.google.com/assets/colab-badge.svg)](https://colab.research.google.com/github/cytoscape/cytoscape-automation/blob/master/for-scripters/R/colab/mapping-data.ipynb)"
   ]
  },
  {
   "cell_type": "markdown",
   "metadata": {
    "lines_to_next_cell": 0
   },
   "source": [
    "*The R markdown is available. [download the Rmd from GitHub](https://raw.githubusercontent.com/cytoscape/cytoscape-automation/master/for-scripters/R/notebooks/mapping-data.Rmd).*\n",
    "\n",
    "<hr />\n",
    "\n",
    "Probably the most common use of expression data in Cytoscape is to set the visual attributes of the nodes in a network according to expression data. This creates a powerful visualization, portraying functional relation and experimental response at the same time. Here, we will walk through the steps for doing this.\n",
    "\n",
    "<center>\n",
    "![](data/img/mapping-data-final.png)\n",
    "</center>\n",
    "\n",
    "<hr />\n",
    "\n",
    "# Installation"
   ]
  },
  {
   "cell_type": "code",
   "execution_count": null,
   "metadata": {
    "eval": false
   },
   "outputs": [],
   "source": [
    "if (!requireNamespace(\"BiocManager\", quietly = TRUE))\n",
    "  install.packages(\"BiocManager\")\n",
    "if(!\"RCy3\" %in% installed.packages())\n",
    "  BiocManager::install(\"RCy3\")\n",
    "\n",
    "install.packages(\"httr\")"
   ]
  },
  {
   "cell_type": "markdown",
   "metadata": {},
   "source": [
    "If you are using a remote notebook environment such as Google Colab, please execute the cell below. (If you're running on your local notebook, you don't need to do that.)"
   ]
  },
  {
   "cell_type": "code",
   "execution_count": null,
   "metadata": {},
   "outputs": [],
   "source": [
    "# Connect to local Cytoscape\n",
    "browserClientJs <- getBrowserClientJs()\n",
    "IRdisplay::display_javascript(browserClientJs)"
   ]
  },
  {
   "cell_type": "markdown",
   "metadata": {
    "lines_to_next_cell": 0
   },
   "source": [
    "# Getting started\n",
    "First, launch Cytoscape and keep it running whenever using RCy3. Confirm that you have everything installed and running:"
   ]
  },
  {
   "cell_type": "code",
   "execution_count": null,
   "metadata": {},
   "outputs": [],
   "source": [
    "library(RCy3)\n",
    "cytoscapePing()\n",
    "cytoscapeVersionInfo()"
   ]
  },
  {
   "cell_type": "markdown",
   "metadata": {},
   "source": [
    "# Loading Network\n",
    "\n",
    "- The demo session is available [here](http://nrnb.org/data/galFilteredSimpleData.cys) and can be opened using:"
   ]
  },
  {
   "cell_type": "code",
   "execution_count": null,
   "metadata": {},
   "outputs": [],
   "source": [
    "library(httr)\n",
    "cys_url = \"http://nrnb.org/data/galFilteredSimpleData.cys\"\n",
    "GET(cys_url, write_disk(tf <- tempfile(fileext = \".cys\")))\n",
    "openSession(tf)"
   ]
  },
  {
   "cell_type": "markdown",
   "metadata": {},
   "source": [
    "- When the network first opens, the entire network is not visible because of the default zoom factor used. To see the whole network, we can use the `fitContent ` function:"
   ]
  },
  {
   "cell_type": "code",
   "execution_count": null,
   "metadata": {},
   "outputs": [],
   "source": [
    "fitContent()"
   ]
  },
  {
   "cell_type": "markdown",
   "metadata": {},
   "source": [
    "# Label the Nodes\n",
    "\n",
    "- Zoom in on the network so that node labels are visible.\n",
    "- Check available column names."
   ]
  },
  {
   "cell_type": "code",
   "execution_count": null,
   "metadata": {},
   "outputs": [],
   "source": [
    "getTableColumnNames('node')"
   ]
  },
  {
   "cell_type": "markdown",
   "metadata": {},
   "source": [
    "- We are going to use the COMMON name attribute to give the nodes useful names:"
   ]
  },
  {
   "cell_type": "code",
   "execution_count": null,
   "metadata": {},
   "outputs": [],
   "source": [
    "setNodeLabelMapping('COMMON')"
   ]
  },
  {
   "cell_type": "markdown",
   "metadata": {},
   "source": [
    "- Verify that the node labels on the network have changed to their common names.\n",
    "\n",
    "# Color the nodes\n",
    "\n",
    "- As we saw from the \"getTableColumnNames\" command, there is a column named **gal80Rexp**, which contains expression data. Let's check the expression value range of the data in this column:"
   ]
  },
  {
   "cell_type": "code",
   "execution_count": null,
   "metadata": {},
   "outputs": [],
   "source": [
    "gal80rexp.score.table <- getTableColumns('node', \"gal80Rexp\")\n",
    "gal80rexp.min <- min(gal80rexp.score.table, na.rm = T)\n",
    "gal80rexp.max <- max(gal80rexp.score.table, na.rm = T)\n",
    "print(gal80rexp.min)\n",
    "print(gal80rexp.max)"
   ]
  },
  {
   "cell_type": "markdown",
   "metadata": {},
   "source": [
    "- The following produces a default gradient ranging from blue to red for **gal80Rexp** expression values. Notice that the nodes in the network change color."
   ]
  },
  {
   "cell_type": "code",
   "execution_count": null,
   "metadata": {},
   "outputs": [],
   "source": [
    "setNodeColorMapping(\"gal80Rexp\", c(-gal80rexp.max, 0, gal80rexp.max), c('#0000FF', '#FFFFFF', '#FF0000'))"
   ]
  },
  {
   "cell_type": "markdown",
   "metadata": {},
   "source": [
    "- The network should now look like this:\n",
    "\n",
    "![](data/img/NetworkBrewer.png)\n",
    "\n",
    "# Set the Default Node Color\n",
    "\n",
    "Note that the default node color of pale blue is close to the color range in the created palette.\n",
    "A useful trick is to choose a color outside this spectrum to distinguish nodes with no defined expression value and those with slight repression.\n",
    "\n",
    "- Here we choose a dark gray color for default node color:"
   ]
  },
  {
   "cell_type": "code",
   "execution_count": null,
   "metadata": {},
   "outputs": [],
   "source": [
    "setNodeColorDefault('#A9A9A9')"
   ]
  },
  {
   "cell_type": "markdown",
   "metadata": {},
   "source": [
    "- Zoom out on the network view to verify that a few nodes have been colored gray:"
   ]
  },
  {
   "cell_type": "code",
   "execution_count": null,
   "metadata": {},
   "outputs": [],
   "source": [
    "fitContent()"
   ]
  },
  {
   "cell_type": "markdown",
   "metadata": {},
   "source": [
    "# Set the Node Border\n",
    "\n",
    "We imported both expression measurement values and corresponding significance values. \n",
    "We can use the significance values to change the border of nodes to highlight measurements we have confidence in.\n",
    "\n",
    "Let's create a thicker node border for nodes with **gal80Rsig** value less than 0.05.\n",
    "First, we need to get the min and max of values for **gal80Rsig**"
   ]
  },
  {
   "cell_type": "code",
   "execution_count": null,
   "metadata": {},
   "outputs": [],
   "source": [
    "gal80rsig.score.table <- getTableColumns('node', \"gal80Rsig\")\n",
    "gal80rsig.min <- min(gal80rsig.score.table, na.rm = T)\n",
    "gal80rsig.max <- max(gal80rsig.score.table, na.rm = T)\n",
    "print(gal80rsig.min)\n",
    "print(gal80rsig.max)"
   ]
  },
  {
   "cell_type": "code",
   "execution_count": null,
   "metadata": {},
   "outputs": [],
   "source": [
    "setNodeBorderWidthMapping('gal80Rsig', c(gal80rsig.min, \"0.0499999\", \"0.05\", gal80rsig.max), c('10',\"10\",'0', '0'))"
   ]
  },
  {
   "cell_type": "markdown",
   "metadata": {},
   "source": [
    "The node border now indicates significance, but since the default node border color is a pale grey, it is not very visible. We can change the default border color to a darker grey:"
   ]
  },
  {
   "cell_type": "code",
   "execution_count": null,
   "metadata": {},
   "outputs": [],
   "source": [
    "setNodeBorderColorDefault('#666666')"
   ]
  },
  {
   "cell_type": "markdown",
   "metadata": {},
   "source": [
    "# Fun with Charts\n",
    "\n",
    "In addition to coloring the nodes, Cytoscape also provides the ability to draw charts and graphs on each node.\n",
    "For example, suppose we wanted to display a bar chart showing all of the expression values on each of our nodes?\n",
    "\n",
    "- To reset things a little, remove the mapping for Fill Color. First, let's find out the property name for Fill Color:"
   ]
  },
  {
   "cell_type": "code",
   "execution_count": null,
   "metadata": {},
   "outputs": [],
   "source": [
    "getVisualPropertyNames()"
   ]
  },
  {
   "cell_type": "code",
   "execution_count": null,
   "metadata": {},
   "outputs": [],
   "source": [
    "deleteStyleMapping(\"default\", \"NODE_FILL_COLOR\")"
   ]
  },
  {
   "cell_type": "markdown",
   "metadata": {},
   "source": [
    "- Now change the default value to a lighter shade of grey so we can see our chart:"
   ]
  },
  {
   "cell_type": "code",
   "execution_count": null,
   "metadata": {},
   "outputs": [],
   "source": [
    "setNodeColorDefault('#D3D3D3')"
   ]
  },
  {
   "cell_type": "markdown",
   "metadata": {},
   "source": [
    "- The following indicates that we're going to use the data from these three columns expression data (gal1RGexp, gal4RGexp, gal80Rexp) to create bar chart."
   ]
  },
  {
   "cell_type": "code",
   "execution_count": null,
   "metadata": {},
   "outputs": [],
   "source": [
    "setNodeCustomBarChart(c(\"gal1RGexp\", \"gal4RGexp\", \"gal80Rexp\"), \"HEAT_STRIPS\")"
   ]
  },
  {
   "cell_type": "markdown",
   "metadata": {},
   "source": [
    "The network now shows heat strips for the three expression values, with colors chosen from a default Brewer palette. \n",
    "\n",
    "![](data/img/mapping-data-final.png)"
   ]
  }
 ],
 "metadata": {
  "jupytext": {
   "cell_metadata_filter": "tags,eval,-all",
   "main_language": "R",
   "notebook_metadata_filter": "-all"
  },
  "kernelspec": {
   "display_name": "Python 3",
   "language": "python",
   "name": "python3"
  },
  "language_info": {
   "codemirror_mode": {
    "name": "ipython",
    "version": 3
   },
   "file_extension": ".py",
   "mimetype": "text/x-python",
   "name": "python",
   "nbconvert_exporter": "python",
   "pygments_lexer": "ipython3",
   "version": "3.8.5"
  }
 },
 "nbformat": 4,
 "nbformat_minor": 4
}
