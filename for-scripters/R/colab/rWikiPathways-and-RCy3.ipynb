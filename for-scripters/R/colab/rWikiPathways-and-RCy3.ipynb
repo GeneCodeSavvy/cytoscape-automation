{
  "cells": [
    {
      "cell_type": "markdown",
      "metadata": {
        "id": "view-in-github",
        "colab_type": "text"
      },
      "source": [
        "<a href=\"https://colab.research.google.com/github/cytoscape/cytoscape-automation/blob/master/for-scripters/R/colab/rWikiPathways-and-RCy3.ipynb\" target=\"_parent\"><img src=\"https://colab.research.google.com/assets/colab-badge.svg\" alt=\"Open In Colab\"/></a>"
      ]
    },
    {
      "cell_type": "markdown",
      "metadata": {
        "lines_to_next_cell": 0,
        "id": "cXNSGmV6IHNb"
      },
      "source": [
        "# rWikiPathways and RCy3\n",
        "## Alexander Pico\n"
      ]
    },
    {
      "cell_type": "markdown",
      "metadata": {
        "id": "nIQGMz_1IHNe"
      },
      "source": [
        "*The R markdown is available. [download the Rmd from GitHub](https://raw.githubusercontent.com/cytoscape/cytoscape-automation/master/for-scripters/R/notebooks/rWikiPathways-and-RCy3.Rmd).*\n",
        "\n",
        "<hr />\n",
        "\n",
        "*WikiPathways* is a well-known repository for biological pathways that provides unique tools to the research community for content creation, editing and utilization [@Pico2008].\n",
        "\n",
        "**R** is a powerful programming language and environment for statistical and exploratory data analysis.\n",
        "\n",
        "*rWikiPathways* leverages the WikiPathways API to communicate between **R** and WikiPathways, allowing any pathway to be queried, interrogated and downloaded in both data and image formats. Queries are typically performed based on \"Xrefs\", standardized identifiers for genes, proteins and metabolites. Once you can identified a pathway, you can use the WPID (WikiPathways identifier) to make additional queries.\n",
        "\n",
        "*RCy3* leverages the CyREST API to provide a number of functions related to network visualization and analysis.\n",
        "\n",
        "# Prerequisites\n",
        "\n",
        "In addition to this **rWikiPathways** package, you'll also need to install **RCy3**:"
      ]
    },
    {
      "cell_type": "code",
      "execution_count": null,
      "metadata": {
        "id": "5fuI8AGcIHNf"
      },
      "outputs": [],
      "source": [
        "if(!\"rWikiPathways\" %in% installed.packages()){\n",
        "    if (!requireNamespace(\"BiocManager\", quietly=TRUE))\n",
        "        install.packages(\"BiocManager\")\n",
        "    BiocManager::install(\"rWikiPathways\")\n",
        "}\n",
        "library(rWikiPathways)\n",
        "if(!\"RCy3\" %in% installed.packages()){\n",
        "    if (!requireNamespace(\"BiocManager\", quietly=TRUE))\n",
        "        install.packages(\"BiocManager\")\n",
        "    BiocManager::install(\"RCy3\")\n",
        "}\n",
        "library(RCy3)"
      ]
    },
    {
      "cell_type": "markdown",
      "metadata": {
        "id": "Uoe5ZTj2IHNg"
      },
      "source": [
        "If you are using a remote notebook environment such as Google Colab, please execute the cell below. (If you're running on your local notebook, you don't need to do that.)"
      ]
    },
    {
      "cell_type": "code",
      "execution_count": null,
      "metadata": {
        "id": "MaP_4xMQIHNh"
      },
      "outputs": [],
      "source": [
        "# Connect to local Cytoscape\n",
        "browserClientJs <- getBrowserClientJs()\n",
        "IRdisplay::display_javascript(browserClientJs)"
      ]
    },
    {
      "cell_type": "markdown",
      "metadata": {
        "id": "AyGZqamTIHNh"
      },
      "source": [
        "The whole point of RCy3 is to connect with Cytoscape. You will need to install and launch Cytoscape:\n",
        "\n",
        "* Download the latest Cytoscape from http://www.cytoscape.org/download.php\n",
        "* Complete installation wizard\n",
        "* Launch Cytoscape"
      ]
    },
    {
      "cell_type": "code",
      "execution_count": null,
      "metadata": {
        "id": "bID7RxArIHNi"
      },
      "outputs": [],
      "source": [
        "cytoscapePing()"
      ]
    },
    {
      "cell_type": "markdown",
      "metadata": {
        "lines_to_next_cell": 0,
        "id": "Za3VBMdFIHNi"
      },
      "source": [
        "For this vignette, you'll also need the WikiPathways app to access the WikiPathways database from within Cytoscape. Install the WikiPathways app from http://apps.cytoscape.org/apps/wikipathways\n",
        "\n",
        "If you are running Cytoscape 3.7.0 or above, you can simply run this command:"
      ]
    },
    {
      "cell_type": "code",
      "execution_count": null,
      "metadata": {
        "id": "uHF2MSiwIHNi"
      },
      "outputs": [],
      "source": [
        "installApp('WikiPathways')  #only available in Cytoscape 3.7.0 and above"
      ]
    },
    {
      "cell_type": "markdown",
      "metadata": {
        "id": "FMrelA33IHNj"
      },
      "source": [
        "# Working together\n",
        "Ok, with all of these components loaded and launched, you can now perform some nifty sequences. For example, search for a pathway based on a keyword search and then load it into Cytoscape."
      ]
    },
    {
      "cell_type": "code",
      "execution_count": null,
      "metadata": {
        "id": "XSkDp_87IHNj"
      },
      "outputs": [],
      "source": [
        "gbm.pathways <- findPathwaysByText('colon cancer') # many pathways returned\n",
        "human.filter <- lapply(gbm.pathways, function(x) x$species == \"Homo sapiens\")\n",
        "human.gbm.pathways <- gbm.pathways[unlist(human.filter)]"
      ]
    },
    {
      "cell_type": "markdown",
      "metadata": {
        "lines_to_next_cell": 0,
        "id": "VcaKjQrxIHNj"
      },
      "source": [
        "We have a list of human pathways that mention \"Colon Cancer\". The results include lots of information, so let's get a unique list of just the WPIDs."
      ]
    },
    {
      "cell_type": "code",
      "execution_count": null,
      "metadata": {
        "id": "ITQ_z-X1IHNj"
      },
      "outputs": [],
      "source": [
        "human.gbm.wpids <- unique(unlist(lapply(human.gbm.pathways, function(x) x$id)))"
      ]
    },
    {
      "cell_type": "markdown",
      "metadata": {
        "lines_to_next_cell": 0,
        "id": "EQi6OKSMIHNj"
      },
      "source": [
        "Let's import the first one of these into Cytoscape!"
      ]
    },
    {
      "cell_type": "code",
      "execution_count": null,
      "metadata": {
        "id": "QsClM36tIHNk"
      },
      "outputs": [],
      "source": [
        "commandsRun(paste0('wikipathways import-as-pathway id=',human.gbm.wpids[1]))"
      ]
    },
    {
      "cell_type": "markdown",
      "metadata": {
        "lines_to_next_cell": 0,
        "id": "62wQsI2rIHNk"
      },
      "source": [
        "<center>\n",
        "![](https://cytoscape.github.io/cytoscape-automation/for-scripters/R/notebooks/data/img/ColonCancer.png){width=60%}\n",
        "</center>\n",
        "\n",
        "Once in Cytoscape, you can load data, apply visual style mappings, perform analyses, and export images and data formats. See RCy3 package vignettes for details.\n",
        "\n",
        "# From networks to pathways\n",
        "If you are already with with networks and data in Cytoscape, you may end up focusing on one or few particular genes, proteins or metabolites, and want to query WikiPathways.\n",
        "\n",
        "For example, let's open a sample network from Cytoscape and identify the gene with the largest number of connections, i.e., node degree.\n",
        "\n",
        "**Note: this next chunk will overwrite your current session. Save if you want to keep anything.**"
      ]
    },
    {
      "cell_type": "code",
      "execution_count": null,
      "metadata": {
        "lines_to_next_cell": 0,
        "id": "rxgq_MoCIHNk"
      },
      "outputs": [],
      "source": [
        "openSession()\n",
        "net.data <- getTableColumns(columns=c('name','degree.layout','COMMON'))\n",
        "max.gene <- net.data[which.max(unlist(net.data['degree.layout'])),]\n",
        "max.gene"
      ]
    },
    {
      "cell_type": "markdown",
      "metadata": {
        "lines_to_next_cell": 0,
        "id": "VBgO2njvIHNk"
      },
      "source": [
        "Great. It looks like MCM1 has the larget number of connections (18) in this network. Let's use it's identifier (YMR043W) to query WikiPathways to learn more about the gene and its biological role, and load it into Cytoscape.\n",
        "\n",
        "*Pro-tip: We need to know the datasource that provides a given identifier. In this case, it's sort of tricky: Ensembl provides these Yeast ORF identifiers for this organism rather than they typical format. So, we'll include the 'En' system code. See other vignettes for more details.*"
      ]
    },
    {
      "cell_type": "code",
      "execution_count": null,
      "metadata": {
        "id": "E14DwFVzIHNk"
      },
      "outputs": [],
      "source": [
        "mcm1.pathways <-unique(findPathwayIdsByXref('YMR043W','En'))\n",
        "commandsRun(paste0('wikipathways import-as-pathway id=', mcm1.pathways[1]))"
      ]
    },
    {
      "cell_type": "markdown",
      "metadata": {
        "id": "EX-ReeD3IHNk"
      },
      "source": [
        "And we can easily select the MCM1 node by name in the newly imported pathway to help see where exactly it plays its role."
      ]
    },
    {
      "cell_type": "code",
      "execution_count": null,
      "metadata": {
        "id": "osyNMyLgIHNk"
      },
      "outputs": [],
      "source": [
        "selectNodes('MCM1','name')"
      ]
    },
    {
      "cell_type": "markdown",
      "metadata": {
        "id": "ww3WMzN0IHNl"
      },
      "source": [
        "<center>\n",
        "![](https://cytoscape.github.io/cytoscape-automation/for-scripters/R/notebooks/data/img/MCM_Pathway.png){width=60%}\n",
        "</center>\n",
        "\n"
      ]
    }
  ],
  "metadata": {
    "jupytext": {
      "cell_metadata_filter": "tags,-all",
      "main_language": "R",
      "notebook_metadata_filter": "-all"
    },
    "kernelspec": {
      "display_name": "R",
      "name": "ir"
    },
    "language_info": {
      "name": "R"
    },
    "colab": {
      "provenance": [],
      "include_colab_link": true
    }
  },
  "nbformat": 4,
  "nbformat_minor": 0
}