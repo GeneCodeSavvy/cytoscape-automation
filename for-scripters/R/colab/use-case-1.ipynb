{
  "cells": [
    {
      "cell_type": "markdown",
      "metadata": {
        "id": "view-in-github",
        "colab_type": "text"
      },
      "source": [
        "<a href=\"https://colab.research.google.com/github/cytoscape/cytoscape-automation/blob/master/for-scripters/R/colab/use-case-1.ipynb\" target=\"_parent\"><img src=\"https://colab.research.google.com/assets/colab-badge.svg\" alt=\"Open In Colab\"/></a>"
      ]
    },
    {
      "cell_type": "markdown",
      "metadata": {
        "id": "2c3NCz_3IfYf"
      },
      "source": [
        "# scNetViz: EMBL-EBI Single Cell Expression Atlas\n",
        "## Krishna Choudhary, Alex Pico\n"
      ]
    },
    {
      "cell_type": "markdown",
      "metadata": {
        "lines_to_next_cell": 0,
        "id": "OZ7wxzgJIfYi"
      },
      "source": [
        "*The R markdown is available. [download the Rmd from GitHub](https://raw.githubusercontent.com/cytoscape/cytoscape-automation/master/for-scripters/R/notebooks/use-case-1.Rmd).*\n",
        "\n",
        "<hr />\n",
        "\n",
        "In this example, we will browse a public single cell expression atlas, explore a particular dataset, perform differential expression analysis based on provided categories, generate networks from the top genes from each category, and functionally characterize and visualize the networks.\n",
        "\n",
        "# Installation"
      ]
    },
    {
      "cell_type": "code",
      "execution_count": null,
      "metadata": {
        "id": "h-584BntIfYj"
      },
      "outputs": [],
      "source": [
        "if(!\"RCy3\" %in% installed.packages()){\n",
        "    install.packages(\"BiocManager\")\n",
        "    BiocManager::install(\"RCy3\")\n",
        "}\n",
        "library(RCy3)"
      ]
    },
    {
      "cell_type": "markdown",
      "metadata": {
        "id": "Vebe-QlSIfYk"
      },
      "source": [
        "If you are using a remote notebook environment such as Google Colab, please execute the cell below. (If you're running on your local notebook, you don't need to do that.)"
      ]
    },
    {
      "cell_type": "code",
      "execution_count": null,
      "metadata": {
        "id": "6cEymXabIfYk"
      },
      "outputs": [],
      "source": [
        "# Connect to local Cytoscape\n",
        "browserClientJs <- getBrowserClientJs()\n",
        "IRdisplay::display_javascript(browserClientJs)"
      ]
    },
    {
      "cell_type": "markdown",
      "metadata": {
        "id": "A1urKL4NIfYk"
      },
      "source": [
        "# Required software\n",
        "RCy3 works by connecting with Cytoscape. You will need to install and launch Cytoscape:\n",
        "\n",
        "* Download the latest Cytoscape from http://www.cytoscape.org/download.php\n",
        "* Complete installation wizard\n",
        "* Launch Cytoscape\n"
      ]
    },
    {
      "cell_type": "code",
      "execution_count": null,
      "metadata": {
        "id": "-QInNZD5IfYl"
      },
      "outputs": [],
      "source": [
        "cytoscapePing()"
      ]
    },
    {
      "cell_type": "markdown",
      "metadata": {
        "id": "q42tkunTIfYl"
      },
      "source": [
        "For this vignette, you’ll need the following apps:\n",
        "\n",
        "* the [STRING](https://string-db.org/) app,\n",
        "* the [enhancedGraphics](https://www.cgl.ucsf.edu/cytoscape/utilities3/enhancedcg.shtml) app,\n",
        "* the [cyBrowser](https://www.cgl.ucsf.edu/cytoscape/utilities3/cybrowser.shtml) app, and\n",
        "* the [cyPlot](http://apps.cytoscape.org/apps/cyplot) app."
      ]
    },
    {
      "cell_type": "code",
      "execution_count": null,
      "metadata": {
        "id": "yj0syQGBIfYm"
      },
      "outputs": [],
      "source": [
        "#available in Cytoscape 3.7.0 and above\n",
        "installApp('STRINGapp')\n",
        "installApp('enhancedGraphics')\n",
        "installApp('cyBrowser')\n",
        "installApp('cyPlot')\n",
        "installApp('scNetViz')"
      ]
    },
    {
      "cell_type": "markdown",
      "metadata": {
        "id": "iJeOT_iiIfYm"
      },
      "source": [
        "# Pull data from the EMBL-EBI Single-Cell Expression Atlas\n",
        "Use the accession number of single-cell experiment to pull data from the  [Single-Cell Expression Atlas](https://www.ebi.ac.uk/gxa/sc/experiments) of EMBL-EBI.\n"
      ]
    },
    {
      "cell_type": "code",
      "execution_count": null,
      "metadata": {
        "id": "vi6BnxD1IfYm"
      },
      "outputs": [],
      "source": [
        "#Load data with Accession number E-GEOD-81383\n",
        "RCy3::commandsRun('scnetviz load gxa experiment accession=E-GEOD-81383')"
      ]
    },
    {
      "cell_type": "markdown",
      "metadata": {
        "lines_to_next_cell": 0,
        "id": "ddBqsAuYIfYm"
      },
      "source": [
        "This loads the data and opens an experiment table with three tabs, named _TPM_, _Categories_, and _DiffExp_.\n",
        "\n",
        "# Differential expression analysis\n",
        "\n",
        "Run differential expression analysis for the row with `true` value of `sel.K` (default)."
      ]
    },
    {
      "cell_type": "code",
      "execution_count": null,
      "metadata": {
        "id": "5V6_gtq1IfYn"
      },
      "outputs": [],
      "source": [
        "RCy3::commandsRun('scnetviz calculate diffexp accession=E-GEOD-81383')"
      ]
    },
    {
      "cell_type": "markdown",
      "metadata": {
        "id": "87oEokQZIfYn"
      },
      "source": [
        "##Query STRING database for interaction networks\n",
        "\n",
        "Fetch interaction networks from the [STRING](https://string-db.org/) database."
      ]
    },
    {
      "cell_type": "code",
      "execution_count": null,
      "metadata": {
        "id": "M6iT2rGeIfYn"
      },
      "outputs": [],
      "source": [
        "RCy3::commandsRun('scnetviz create network accession=E-GEOD-81383')"
      ]
    },
    {
      "cell_type": "markdown",
      "metadata": {
        "lines_to_next_cell": 0,
        "id": "ulTf0GyiIfYn"
      },
      "source": [
        "The following command runs both the differential expression analysis and fetches interaction networks simultaneously."
      ]
    },
    {
      "cell_type": "code",
      "execution_count": null,
      "metadata": {
        "id": "dmv_KqrrIfYn"
      },
      "outputs": [],
      "source": [
        "RCy3::commandsRun('scnetviz create all experiment=E-GEOD-81383')"
      ]
    },
    {
      "cell_type": "markdown",
      "metadata": {
        "lines_to_next_cell": 0,
        "id": "cpvdMgs4IfYn"
      },
      "source": [
        "# Functional enrichment analysis\n",
        "\n",
        "Check the networks available in the current Cytoscape session."
      ]
    },
    {
      "cell_type": "code",
      "execution_count": null,
      "metadata": {
        "results": false,
        "id": "GEnSO0ipIfYn"
      },
      "outputs": [],
      "source": [
        "RCy3::commandsRun('network list')"
      ]
    },
    {
      "cell_type": "markdown",
      "metadata": {
        "id": "7lcYCQnoIfYn"
      },
      "source": [
        "Perform functional enrichment analysis for the network selected in the current session, which is the last network that was fetched unless another network is manually selected from Cytoscape. This uses the [_stringApp_](https://www.cgl.ucsf.edu/cytoscape/stringApp/index.shtml). To view the results in the Cytoscape application, you may have to activate the _Show enrichment panel_ option under __STRING Enrichment__ sub-menu from __Apps__ from the menu bar."
      ]
    },
    {
      "cell_type": "code",
      "execution_count": null,
      "metadata": {
        "id": "IB89Vw84IfYo"
      },
      "outputs": [],
      "source": [
        "RCy3::commandsRun('string retrieve enrichment allNetSpecies=Homo sapiens')"
      ]
    },
    {
      "cell_type": "markdown",
      "metadata": {
        "id": "ww2FM6eoIfYo"
      },
      "source": [
        "Visit the [scNetViz website](https://www.cgl.ucsf.edu/cytoscape/scNetViz/#networks) for more information."
      ]
    }
  ],
  "metadata": {
    "jupytext": {
      "cell_metadata_filter": "tags,results,-all",
      "main_language": "R",
      "notebook_metadata_filter": "-all"
    },
    "kernelspec": {
      "display_name": "R",
      "name": "ir"
    },
    "language_info": {
      "name": "R"
    },
    "colab": {
      "provenance": [],
      "include_colab_link": true
    }
  },
  "nbformat": 4,
  "nbformat_minor": 0
}