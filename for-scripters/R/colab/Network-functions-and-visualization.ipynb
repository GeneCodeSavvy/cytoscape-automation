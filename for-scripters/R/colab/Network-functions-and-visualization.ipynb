{
 "cells": [
  {
   "cell_type": "markdown",
   "metadata": {
    "lines_to_next_cell": 0
   },
   "source": [
    "# Network functions and visualization\n",
    "## Alexander Pico\n",
    "[![Open In Colab](https://colab.research.google.com/assets/colab-badge.svg)](https://colab.research.google.com/github/cytoscape/cytoscape-automation/blob/master/for-scripters/R/colab/Network-functions-and-visualization.ipynb)"
   ]
  },
  {
   "cell_type": "markdown",
   "metadata": {
    "lines_to_next_cell": 0
   },
   "source": [
    "*The R markdown is available. [download the Rmd from GitHub](https://raw.githubusercontent.com/cytoscape/cytoscape-automation/master/for-scripters/R/notebooks/Network-functions-and-visualization.Rmd).*\n",
    "\n",
    "<hr />\n",
    "\n",
    "This vignette will show how to perform basic network operations on an iGraph\n",
    "networks and use this information to customize its appearance in Cytoscape \n",
    "directly from R using the RCy3 package\n",
    "\n",
    "*From Vessy's \"Fun with R blog\": http://www.vesnam.com/Rblog/viznets5/\n",
    "\n",
    "# Installation"
   ]
  },
  {
   "cell_type": "code",
   "execution_count": null,
   "metadata": {},
   "outputs": [],
   "source": [
    "if(!\"RCy3\" %in% installed.packages()){\n",
    "    install.packages(\"BiocManager\")\n",
    "    BiocManager::install(\"RCy3\")\n",
    "}\n",
    "library(RCy3)\n",
    "if(!\"igraph\" %in% installed.packages()){\n",
    "    install.packages(\"igraph\")\n",
    "}\n",
    "library(igraph)\n",
    "if(!\"plyr\" %in% installed.packages()){\n",
    "    install.packages(\"plyr\")\n",
    "}\n",
    "library(plyr)"
   ]
  },
  {
   "cell_type": "markdown",
   "metadata": {},
   "source": [
    "If you are using a remote notebook environment such as Google Colab, please execute the cell below. (If you're running on your local notebook, you don't need to do that.)"
   ]
  },
  {
   "cell_type": "code",
   "execution_count": null,
   "metadata": {},
   "outputs": [],
   "source": [
    "# Connect to local Cytoscape\n",
    "browserClientJs <- getBrowserClientJs()\n",
    "IRdisplay::display_javascript(browserClientJs)"
   ]
  },
  {
   "cell_type": "markdown",
   "metadata": {},
   "source": [
    "# Required Software\n",
    "The whole point of RCy3 is to connect with Cytoscape. You will need to install and launch Cytoscape: \n",
    "    \n",
    "* Download the latest Cytoscape from http://www.cytoscape.org/download.php\n",
    "* Complete installation wizard\n",
    "* Launch Cytoscape "
   ]
  },
  {
   "cell_type": "code",
   "execution_count": null,
   "metadata": {},
   "outputs": [],
   "source": [
    "cytoscapePing()"
   ]
  },
  {
   "cell_type": "markdown",
   "metadata": {
    "lines_to_next_cell": 0
   },
   "source": [
    "# Read a data set. \n",
    "Data format: dataframe with 3 variables; variables 1 & 2 correspond to interactions; variable 3 is weight of interaction"
   ]
  },
  {
   "cell_type": "code",
   "execution_count": null,
   "metadata": {},
   "outputs": [],
   "source": [
    "lesmis <- system.file(\"extdata\",\"lesmis.txt\", package=\"RCy3\")\n",
    "dataSet <- read.table(lesmis, header = FALSE, sep = \"\\t\")"
   ]
  },
  {
   "cell_type": "markdown",
   "metadata": {
    "lines_to_next_cell": 0
   },
   "source": [
    "Create a graph. Use simplify to ensure that there are no duplicated edges or self loops"
   ]
  },
  {
   "cell_type": "code",
   "execution_count": null,
   "metadata": {},
   "outputs": [],
   "source": [
    "gD <- igraph::simplify(igraph::graph.data.frame(dataSet, directed=FALSE))"
   ]
  },
  {
   "cell_type": "markdown",
   "metadata": {
    "lines_to_next_cell": 0
   },
   "source": [
    "Verify the number of nodes (77) and edges (254):"
   ]
  },
  {
   "cell_type": "code",
   "execution_count": null,
   "metadata": {},
   "outputs": [],
   "source": [
    "igraph::vcount(gD)\n",
    "igraph::ecount(gD)"
   ]
  },
  {
   "cell_type": "markdown",
   "metadata": {
    "lines_to_next_cell": 0
   },
   "source": [
    "# Common iGraph functions\n",
    "Calculate some node properties and node similarities that will be used to illustrate \n",
    "different plotting abilities\n",
    "\n",
    "Calculate degree for all nodes"
   ]
  },
  {
   "cell_type": "code",
   "execution_count": null,
   "metadata": {},
   "outputs": [],
   "source": [
    "degAll <- igraph::degree(gD, v = igraph::V(gD), mode = \"all\")"
   ]
  },
  {
   "cell_type": "markdown",
   "metadata": {
    "lines_to_next_cell": 0
   },
   "source": [
    "Calculate betweenness for all nodes"
   ]
  },
  {
   "cell_type": "code",
   "execution_count": null,
   "metadata": {},
   "outputs": [],
   "source": [
    "betAll <- igraph::betweenness(gD, v = igraph::V(gD), directed = FALSE) / (((igraph::vcount(gD) - 1) * (igraph::vcount(gD)-2)) / 2)\n",
    "betAll.norm <- (betAll - min(betAll))/(max(betAll) - min(betAll))\n",
    "rm(betAll)"
   ]
  },
  {
   "cell_type": "markdown",
   "metadata": {
    "lines_to_next_cell": 0
   },
   "source": [
    "Calculate Dice similarities between all pairs of nodes"
   ]
  },
  {
   "cell_type": "code",
   "execution_count": null,
   "metadata": {},
   "outputs": [],
   "source": [
    "dsAll <- igraph::similarity.dice(gD, vids = igraph::V(gD), mode = \"all\")"
   ]
  },
  {
   "cell_type": "markdown",
   "metadata": {
    "lines_to_next_cell": 0
   },
   "source": [
    "# Add attributes to network\n",
    "Add new node attributes based on the calculated node properties/similarities"
   ]
  },
  {
   "cell_type": "code",
   "execution_count": null,
   "metadata": {},
   "outputs": [],
   "source": [
    "gD <- igraph::set.vertex.attribute(gD, \"degree\", index = igraph::V(gD), value = degAll)\n",
    "gD <- igraph::set.vertex.attribute(gD, \"betweenness\", index = igraph::V(gD), value = betAll.norm)"
   ]
  },
  {
   "cell_type": "markdown",
   "metadata": {
    "lines_to_next_cell": 0
   },
   "source": [
    "Check the attributes. You should see \"degree\" and \"betweeness\" now, in addition\n",
    "to \"name\"."
   ]
  },
  {
   "cell_type": "code",
   "execution_count": null,
   "metadata": {},
   "outputs": [],
   "source": [
    "summary(gD)"
   ]
  },
  {
   "cell_type": "markdown",
   "metadata": {
    "lines_to_next_cell": 0
   },
   "source": [
    "And now for the edge attributes..."
   ]
  },
  {
   "cell_type": "code",
   "execution_count": null,
   "metadata": {},
   "outputs": [],
   "source": [
    "F1 <- function(x) {data.frame(V4 = dsAll[which(igraph::V(gD)$name == as.character(x$V1)), which(igraph::V(gD)$name == as.character(x$V2))])}\n",
    "dataSet.ext <- plyr::ddply(dataSet, .variables=c(\"V1\", \"V2\", \"V3\"), function(x) data.frame(F1(x)))\n",
    "\n",
    "gD <- igraph::set.edge.attribute(gD, \"weight\", index = igraph::E(gD), value = 0)\n",
    "gD <- igraph::set.edge.attribute(gD, \"similarity\", index = igraph::E(gD), value = 0)"
   ]
  },
  {
   "cell_type": "markdown",
   "metadata": {},
   "source": [
    "*Note: The order of interactions in dataSet.ext is not the same as it is in dataSet or \n",
    "as it is in the edge list and for that reason these values cannot be assigned directly*"
   ]
  },
  {
   "cell_type": "code",
   "execution_count": null,
   "metadata": {},
   "outputs": [],
   "source": [
    "for (i in 1:nrow(dataSet.ext))\n",
    "{\n",
    "    igraph::E(gD)[as.character(dataSet.ext$V1) %--% as.character(dataSet.ext$V2)]$weight <- as.numeric(dataSet.ext$V3)\n",
    "    igraph::E(gD)[as.character(dataSet.ext$V1) %--% as.character(dataSet.ext$V2)]$similarity <- as.numeric(dataSet.ext$V4)\n",
    "}\n",
    "rm(dataSet,dsAll, i, F1)"
   ]
  },
  {
   "cell_type": "markdown",
   "metadata": {
    "lines_to_next_cell": 0
   },
   "source": [
    "Check the edge attributes. You should see \"weight\" and \"similarity\" added."
   ]
  },
  {
   "cell_type": "code",
   "execution_count": null,
   "metadata": {},
   "outputs": [],
   "source": [
    "summary(gD)"
   ]
  },
  {
   "cell_type": "markdown",
   "metadata": {
    "lines_to_next_cell": 0
   },
   "source": [
    "# Lets check it out in Cytoscape\n",
    "\n",
    "*Update: You can go straight from igraph to Cytoscape, sending all attributes and displaying graph!*"
   ]
  },
  {
   "cell_type": "code",
   "execution_count": null,
   "metadata": {},
   "outputs": [],
   "source": [
    "createNetworkFromIgraph(gD,new.title='Les Miserables')"
   ]
  },
  {
   "cell_type": "markdown",
   "metadata": {
    "lines_to_next_cell": 0
   },
   "source": [
    "## Let's decide on a layout\n",
    "A list  of available layouts can be accessed from R as follows:"
   ]
  },
  {
   "cell_type": "code",
   "execution_count": null,
   "metadata": {},
   "outputs": [],
   "source": [
    "getLayoutNames()"
   ]
  },
  {
   "cell_type": "markdown",
   "metadata": {
    "lines_to_next_cell": 0
   },
   "source": [
    "We'll select the \"fruchterman-rheingold\" layout. To see properties for the given layout, use:"
   ]
  },
  {
   "cell_type": "code",
   "execution_count": null,
   "metadata": {},
   "outputs": [],
   "source": [
    "getLayoutPropertyNames(\"fruchterman-rheingold\") "
   ]
  },
  {
   "cell_type": "markdown",
   "metadata": {
    "lines_to_next_cell": 0
   },
   "source": [
    "We can choose any property we want and provide them as a space-delimited string:"
   ]
  },
  {
   "cell_type": "code",
   "execution_count": null,
   "metadata": {},
   "outputs": [],
   "source": [
    "layoutNetwork('fruchterman-rheingold gravity_multiplier=1 nIterations=10')"
   ]
  },
  {
   "cell_type": "markdown",
   "metadata": {
    "lines_to_next_cell": 0
   },
   "source": [
    "But that is a crazy layout, so let's try \"force-directed\" instead:"
   ]
  },
  {
   "cell_type": "code",
   "execution_count": null,
   "metadata": {},
   "outputs": [],
   "source": [
    "layoutNetwork('force-directed defaultSpringLength=70 defaultSpringCoefficient=0.000003')"
   ]
  },
  {
   "cell_type": "markdown",
   "metadata": {
    "lines_to_next_cell": 0
   },
   "source": [
    "## Next, we can visualize our data\n",
    "\n",
    "On nodes..."
   ]
  },
  {
   "cell_type": "code",
   "execution_count": null,
   "metadata": {},
   "outputs": [],
   "source": [
    "setNodeColorMapping('degree', c(min(degAll), mean(degAll), max(degAll)), c('#F5EDDD', '#F59777', '#F55333'))\n",
    "lockNodeDimensions(TRUE)\n",
    "setNodeSizeMapping('betweenness', c(min(betAll.norm), mean(betAll.norm), max(betAll.norm)), c(30, 60, 100))"
   ]
  },
  {
   "cell_type": "markdown",
   "metadata": {
    "lines_to_next_cell": 0
   },
   "source": [
    "...and edges"
   ]
  },
  {
   "cell_type": "code",
   "execution_count": null,
   "metadata": {},
   "outputs": [],
   "source": [
    "setEdgeLineWidthMapping('weight', c(min(as.numeric(dataSet.ext$V3)), mean(as.numeric(dataSet.ext$V3)), max(as.numeric(dataSet.ext$V3))), c(1,3,5))\n",
    "setEdgeColorMapping('weight', c(min(as.numeric(dataSet.ext$V3)), mean(as.numeric(dataSet.ext$V3)), max(as.numeric(dataSet.ext$V3))), c('#BBEE00', '#77AA00', '#558800'))"
   ]
  },
  {
   "cell_type": "markdown",
   "metadata": {
    "lines_to_next_cell": 0
   },
   "source": [
    "We will define our own default color/size schema after we defined node and edge rules, due to possible issues when using rules"
   ]
  },
  {
   "cell_type": "code",
   "execution_count": null,
   "metadata": {},
   "outputs": [],
   "source": [
    "setBackgroundColorDefault('#D3D3D3')\n",
    "setNodeBorderColorDefault('#000000')\n",
    "setNodeBorderWidthDefault(3)\n",
    "setNodeShapeDefault('ellipse')\n",
    "setNodeFontSizeDefault(20)\n",
    "setNodeLabelColorDefault('#000000')"
   ]
  },
  {
   "cell_type": "markdown",
   "metadata": {
    "lines_to_next_cell": 0
   },
   "source": [
    "<center>\n",
    "![](https://cytoscape.github.io/cytoscape-automation/for-scripters/R/notebooks/data/img/lemis.png){width=60%}\n",
    "</center>\n",
    "\n",
    "Voila! All done.\n",
    "\n",
    "# Track versions for your records"
   ]
  },
  {
   "cell_type": "code",
   "execution_count": null,
   "metadata": {},
   "outputs": [],
   "source": [
    "cytoscapeVersionInfo()"
   ]
  },
  {
   "cell_type": "code",
   "execution_count": null,
   "metadata": {},
   "outputs": [],
   "source": [
    "sessionInfo()"
   ]
  }
 ],
 "metadata": {
  "jupytext": {
   "cell_metadata_filter": "tags,-all",
   "main_language": "R",
   "notebook_metadata_filter": "-all"
  },
  "kernelspec": {
   "display_name": "Python 3",
   "language": "python",
   "name": "python3"
  },
  "language_info": {
   "codemirror_mode": {
    "name": "ipython",
    "version": 3
   },
   "file_extension": ".py",
   "mimetype": "text/x-python",
   "name": "python",
   "nbconvert_exporter": "python",
   "pygments_lexer": "ipython3",
   "version": "3.8.5"
  }
 },
 "nbformat": 4,
 "nbformat_minor": 4
}
