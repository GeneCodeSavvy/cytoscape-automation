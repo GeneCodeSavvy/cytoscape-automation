{
  "cells": [
    {
      "cell_type": "markdown",
      "metadata": {
        "id": "view-in-github",
        "colab_type": "text"
      },
      "source": [
        "<a href=\"https://colab.research.google.com/github/cytoscape/cytoscape-automation/blob/master/for-scripters/R/colab/Network-functions-and-visualization.ipynb\" target=\"_parent\"><img src=\"https://colab.research.google.com/assets/colab-badge.svg\" alt=\"Open In Colab\"/></a>"
      ]
    },
    {
      "cell_type": "markdown",
      "metadata": {
        "lines_to_next_cell": 0,
        "id": "ETY2gqRRGA-_"
      },
      "source": [
        "# Network functions and visualization\n",
        "## Alexander Pico"
      ]
    },
    {
      "cell_type": "markdown",
      "metadata": {
        "lines_to_next_cell": 0,
        "id": "09D3pVf9GA_D"
      },
      "source": [
        "*The R markdown is available. [download the Rmd from GitHub](https://raw.githubusercontent.com/cytoscape/cytoscape-automation/master/for-scripters/R/notebooks/Network-functions-and-visualization.Rmd).*\n",
        "\n",
        "<hr />\n",
        "\n",
        "This vignette will show how to perform basic network operations on an iGraph\n",
        "networks and use this information to customize its appearance in Cytoscape\n",
        "directly from R using the RCy3 package\n",
        "\n",
        "*From Vessy's \"Fun with R blog\": http://www.vesnam.com/Rblog/viznets5/\n",
        "\n",
        "# Installation"
      ]
    },
    {
      "cell_type": "code",
      "execution_count": null,
      "metadata": {
        "id": "OOUawvszGA_D"
      },
      "outputs": [],
      "source": [
        "if(!\"RCy3\" %in% installed.packages()){\n",
        "    install.packages(\"BiocManager\")\n",
        "    BiocManager::install(\"RCy3\")\n",
        "}\n",
        "library(RCy3)\n",
        "if(!\"igraph\" %in% installed.packages()){\n",
        "    install.packages(\"igraph\")\n",
        "}\n",
        "library(igraph)\n",
        "if(!\"plyr\" %in% installed.packages()){\n",
        "    install.packages(\"plyr\")\n",
        "}\n",
        "library(plyr)"
      ]
    },
    {
      "cell_type": "markdown",
      "metadata": {
        "id": "zUxSU_55GA_F"
      },
      "source": [
        "If you are using a remote notebook environment such as Google Colab, please execute the cell below. (If you're running on your local notebook, you don't need to do that.)"
      ]
    },
    {
      "cell_type": "code",
      "execution_count": null,
      "metadata": {
        "id": "QiXGRz-lGA_F"
      },
      "outputs": [],
      "source": [
        "# Connect to local Cytoscape\n",
        "browserClientJs <- getBrowserClientJs()\n",
        "IRdisplay::display_javascript(browserClientJs)"
      ]
    },
    {
      "cell_type": "markdown",
      "metadata": {
        "id": "I3HDAwbvGA_F"
      },
      "source": [
        "# Required Software\n",
        "The whole point of RCy3 is to connect with Cytoscape. You will need to install and launch Cytoscape:\n",
        "    \n",
        "* Download the latest Cytoscape from http://www.cytoscape.org/download.php\n",
        "* Complete installation wizard\n",
        "* Launch Cytoscape"
      ]
    },
    {
      "cell_type": "code",
      "execution_count": null,
      "metadata": {
        "id": "yvsAVHmSGA_G"
      },
      "outputs": [],
      "source": [
        "cytoscapePing()"
      ]
    },
    {
      "cell_type": "markdown",
      "metadata": {
        "lines_to_next_cell": 0,
        "id": "zCyqcgTVGA_G"
      },
      "source": [
        "# Read a data set.\n",
        "Data format: dataframe with 3 variables; variables 1 & 2 correspond to interactions; variable 3 is weight of interaction"
      ]
    },
    {
      "cell_type": "code",
      "execution_count": null,
      "metadata": {
        "id": "yGDtWyJhGA_G"
      },
      "outputs": [],
      "source": [
        "lesmis <- system.file(\"extdata\",\"lesmis.txt\", package=\"RCy3\")\n",
        "dataSet <- read.table(lesmis, header = FALSE, sep = \"\\t\")"
      ]
    },
    {
      "cell_type": "markdown",
      "metadata": {
        "lines_to_next_cell": 0,
        "id": "OjmibtAvGA_H"
      },
      "source": [
        "Create a graph. Use simplify to ensure that there are no duplicated edges or self loops"
      ]
    },
    {
      "cell_type": "code",
      "execution_count": null,
      "metadata": {
        "id": "_rBmiiu2GA_H"
      },
      "outputs": [],
      "source": [
        "gD <- igraph::simplify(igraph::graph.data.frame(dataSet, directed=FALSE))"
      ]
    },
    {
      "cell_type": "markdown",
      "metadata": {
        "lines_to_next_cell": 0,
        "id": "ap-QaRd9GA_H"
      },
      "source": [
        "Verify the number of nodes (77) and edges (254):"
      ]
    },
    {
      "cell_type": "code",
      "execution_count": null,
      "metadata": {
        "id": "jaT0Zo7AGA_H"
      },
      "outputs": [],
      "source": [
        "igraph::vcount(gD)\n",
        "igraph::ecount(gD)"
      ]
    },
    {
      "cell_type": "markdown",
      "metadata": {
        "lines_to_next_cell": 0,
        "id": "8_cnb91wGA_H"
      },
      "source": [
        "# Common iGraph functions\n",
        "Calculate some node properties and node similarities that will be used to illustrate\n",
        "different plotting abilities\n",
        "\n",
        "Calculate degree for all nodes"
      ]
    },
    {
      "cell_type": "code",
      "execution_count": null,
      "metadata": {
        "id": "BrbAa0ZBGA_H"
      },
      "outputs": [],
      "source": [
        "degAll <- igraph::degree(gD, v = igraph::V(gD), mode = \"all\")"
      ]
    },
    {
      "cell_type": "markdown",
      "metadata": {
        "lines_to_next_cell": 0,
        "id": "tdPFNZloGA_I"
      },
      "source": [
        "Calculate betweenness for all nodes"
      ]
    },
    {
      "cell_type": "code",
      "execution_count": null,
      "metadata": {
        "id": "3noiMRDIGA_I"
      },
      "outputs": [],
      "source": [
        "betAll <- igraph::betweenness(gD, v = igraph::V(gD), directed = FALSE) / (((igraph::vcount(gD) - 1) * (igraph::vcount(gD)-2)) / 2)\n",
        "betAll.norm <- (betAll - min(betAll))/(max(betAll) - min(betAll))\n",
        "rm(betAll)"
      ]
    },
    {
      "cell_type": "markdown",
      "metadata": {
        "lines_to_next_cell": 0,
        "id": "Iiw9bS3iGA_I"
      },
      "source": [
        "Calculate Dice similarities between all pairs of nodes"
      ]
    },
    {
      "cell_type": "code",
      "execution_count": null,
      "metadata": {
        "id": "-_lvDirCGA_I"
      },
      "outputs": [],
      "source": [
        "dsAll <- igraph::similarity.dice(gD, vids = igraph::V(gD), mode = \"all\")"
      ]
    },
    {
      "cell_type": "markdown",
      "metadata": {
        "lines_to_next_cell": 0,
        "id": "I_sLobZAGA_I"
      },
      "source": [
        "# Add attributes to network\n",
        "Add new node attributes based on the calculated node properties/similarities"
      ]
    },
    {
      "cell_type": "code",
      "execution_count": null,
      "metadata": {
        "id": "D4RONELmGA_I"
      },
      "outputs": [],
      "source": [
        "gD <- igraph::set.vertex.attribute(gD, \"degree\", index = igraph::V(gD), value = degAll)\n",
        "gD <- igraph::set.vertex.attribute(gD, \"betweenness\", index = igraph::V(gD), value = betAll.norm)"
      ]
    },
    {
      "cell_type": "markdown",
      "metadata": {
        "lines_to_next_cell": 0,
        "id": "ACEEF7maGA_I"
      },
      "source": [
        "Check the attributes. You should see \"degree\" and \"betweeness\" now, in addition\n",
        "to \"name\"."
      ]
    },
    {
      "cell_type": "code",
      "execution_count": null,
      "metadata": {
        "id": "0o-PlN2HGA_I"
      },
      "outputs": [],
      "source": [
        "summary(gD)"
      ]
    },
    {
      "cell_type": "markdown",
      "metadata": {
        "lines_to_next_cell": 0,
        "id": "L9klVp57GA_J"
      },
      "source": [
        "And now for the edge attributes..."
      ]
    },
    {
      "cell_type": "code",
      "execution_count": null,
      "metadata": {
        "id": "rK0iWxo4GA_J"
      },
      "outputs": [],
      "source": [
        "F1 <- function(x) {data.frame(V4 = dsAll[which(igraph::V(gD)$name == as.character(x$V1)), which(igraph::V(gD)$name == as.character(x$V2))])}\n",
        "dataSet.ext <- plyr::ddply(dataSet, .variables=c(\"V1\", \"V2\", \"V3\"), function(x) data.frame(F1(x)))\n",
        "\n",
        "gD <- igraph::set.edge.attribute(gD, \"weight\", index = igraph::E(gD), value = 0)\n",
        "gD <- igraph::set.edge.attribute(gD, \"similarity\", index = igraph::E(gD), value = 0)"
      ]
    },
    {
      "cell_type": "markdown",
      "metadata": {
        "id": "az-QLNQMGA_J"
      },
      "source": [
        "*Note: The order of interactions in dataSet.ext is not the same as it is in dataSet or\n",
        "as it is in the edge list and for that reason these values cannot be assigned directly*"
      ]
    },
    {
      "cell_type": "code",
      "execution_count": null,
      "metadata": {
        "id": "9CQK1JaoGA_J"
      },
      "outputs": [],
      "source": [
        "for (i in 1:nrow(dataSet.ext))\n",
        "{\n",
        "    igraph::E(gD)[as.character(dataSet.ext$V1) %--% as.character(dataSet.ext$V2)]$weight <- as.numeric(dataSet.ext$V3)\n",
        "    igraph::E(gD)[as.character(dataSet.ext$V1) %--% as.character(dataSet.ext$V2)]$similarity <- as.numeric(dataSet.ext$V4)\n",
        "}\n",
        "rm(dataSet,dsAll, i, F1)"
      ]
    },
    {
      "cell_type": "markdown",
      "metadata": {
        "lines_to_next_cell": 0,
        "id": "7tQfNlG7GA_J"
      },
      "source": [
        "Check the edge attributes. You should see \"weight\" and \"similarity\" added."
      ]
    },
    {
      "cell_type": "code",
      "execution_count": null,
      "metadata": {
        "id": "lcqzQmvdGA_J"
      },
      "outputs": [],
      "source": [
        "summary(gD)"
      ]
    },
    {
      "cell_type": "markdown",
      "metadata": {
        "lines_to_next_cell": 0,
        "id": "Yy4adaOAGA_J"
      },
      "source": [
        "# Lets check it out in Cytoscape\n",
        "\n",
        "*Update: You can go straight from igraph to Cytoscape, sending all attributes and displaying graph!*"
      ]
    },
    {
      "cell_type": "code",
      "execution_count": null,
      "metadata": {
        "id": "9DamplNuGA_J"
      },
      "outputs": [],
      "source": [
        "createNetworkFromIgraph(gD,new.title='Les Miserables')"
      ]
    },
    {
      "cell_type": "markdown",
      "metadata": {
        "lines_to_next_cell": 0,
        "id": "GrHOkBLmGA_J"
      },
      "source": [
        "## Let's decide on a layout\n",
        "A list  of available layouts can be accessed from R as follows:"
      ]
    },
    {
      "cell_type": "code",
      "execution_count": null,
      "metadata": {
        "id": "UCoGAkcvGA_K"
      },
      "outputs": [],
      "source": [
        "getLayoutNames()"
      ]
    },
    {
      "cell_type": "markdown",
      "metadata": {
        "lines_to_next_cell": 0,
        "id": "XMXXj7JTGA_K"
      },
      "source": [
        "We'll select the \"fruchterman-rheingold\" layout. To see properties for the given layout, use:"
      ]
    },
    {
      "cell_type": "code",
      "execution_count": null,
      "metadata": {
        "id": "FON9CAftGA_K"
      },
      "outputs": [],
      "source": [
        "getLayoutPropertyNames(\"fruchterman-rheingold\")"
      ]
    },
    {
      "cell_type": "markdown",
      "metadata": {
        "lines_to_next_cell": 0,
        "id": "ciQUTtVTGA_K"
      },
      "source": [
        "We can choose any property we want and provide them as a space-delimited string:"
      ]
    },
    {
      "cell_type": "code",
      "execution_count": null,
      "metadata": {
        "id": "PyBnK2jgGA_K"
      },
      "outputs": [],
      "source": [
        "layoutNetwork('fruchterman-rheingold gravity_multiplier=1 nIterations=10')"
      ]
    },
    {
      "cell_type": "markdown",
      "metadata": {
        "lines_to_next_cell": 0,
        "id": "LMGtlBMUGA_K"
      },
      "source": [
        "But that is a crazy layout, so let's try \"force-directed\" instead:"
      ]
    },
    {
      "cell_type": "code",
      "execution_count": null,
      "metadata": {
        "id": "10ziDkSBGA_K"
      },
      "outputs": [],
      "source": [
        "layoutNetwork('force-directed defaultSpringLength=70 defaultSpringCoefficient=0.000003')"
      ]
    },
    {
      "cell_type": "markdown",
      "metadata": {
        "lines_to_next_cell": 0,
        "id": "LIQuq1lNGA_O"
      },
      "source": [
        "## Next, we can visualize our data\n",
        "\n",
        "On nodes..."
      ]
    },
    {
      "cell_type": "code",
      "execution_count": null,
      "metadata": {
        "id": "N9-I8MpXGA_O"
      },
      "outputs": [],
      "source": [
        "setNodeColorMapping('degree', c(min(degAll), mean(degAll), max(degAll)), c('#F5EDDD', '#F59777', '#F55333'))\n",
        "lockNodeDimensions(TRUE)\n",
        "setNodeSizeMapping('betweenness', c(min(betAll.norm), mean(betAll.norm), max(betAll.norm)), c(30, 60, 100))"
      ]
    },
    {
      "cell_type": "markdown",
      "metadata": {
        "lines_to_next_cell": 0,
        "id": "LlKoHGRgGA_P"
      },
      "source": [
        "...and edges"
      ]
    },
    {
      "cell_type": "code",
      "execution_count": null,
      "metadata": {
        "id": "v_zD4GICGA_P"
      },
      "outputs": [],
      "source": [
        "setEdgeLineWidthMapping('weight', c(min(as.numeric(dataSet.ext$V3)), mean(as.numeric(dataSet.ext$V3)), max(as.numeric(dataSet.ext$V3))), c(1,3,5))\n",
        "setEdgeColorMapping('weight', c(min(as.numeric(dataSet.ext$V3)), mean(as.numeric(dataSet.ext$V3)), max(as.numeric(dataSet.ext$V3))), c('#BBEE00', '#77AA00', '#558800'))"
      ]
    },
    {
      "cell_type": "markdown",
      "metadata": {
        "lines_to_next_cell": 0,
        "id": "pjLhTq_SGA_P"
      },
      "source": [
        "We will define our own default color/size schema after we defined node and edge rules, due to possible issues when using rules"
      ]
    },
    {
      "cell_type": "code",
      "execution_count": null,
      "metadata": {
        "id": "RuTVGjDgGA_P"
      },
      "outputs": [],
      "source": [
        "setBackgroundColorDefault('#D3D3D3')\n",
        "setNodeBorderColorDefault('#000000')\n",
        "setNodeBorderWidthDefault(3)\n",
        "setNodeShapeDefault('ellipse')\n",
        "setNodeFontSizeDefault(20)\n",
        "setNodeLabelColorDefault('#000000')"
      ]
    },
    {
      "cell_type": "markdown",
      "metadata": {
        "lines_to_next_cell": 0,
        "id": "BlQB0WbtGA_P"
      },
      "source": [
        "<center>\n",
        "![](https://cytoscape.github.io/cytoscape-automation/for-scripters/R/notebooks/data/img/lemis.png){width=60%}\n",
        "</center>\n",
        "\n",
        "Voila! All done.\n",
        "\n",
        "# Track versions for your records"
      ]
    },
    {
      "cell_type": "code",
      "execution_count": null,
      "metadata": {
        "id": "MxwUyixyGA_P"
      },
      "outputs": [],
      "source": [
        "cytoscapeVersionInfo()"
      ]
    },
    {
      "cell_type": "code",
      "execution_count": null,
      "metadata": {
        "id": "rDS_KKOCGA_Q"
      },
      "outputs": [],
      "source": [
        "sessionInfo()"
      ]
    }
  ],
  "metadata": {
    "jupytext": {
      "cell_metadata_filter": "tags,-all",
      "main_language": "R",
      "notebook_metadata_filter": "-all"
    },
    "kernelspec": {
      "display_name": "R",
      "name": "ir"
    },
    "language_info": {
      "name": "R"
    },
    "colab": {
      "provenance": [],
      "include_colab_link": true
    }
  },
  "nbformat": 4,
  "nbformat_minor": 0
}