{
  "cells": [
    {
      "cell_type": "markdown",
      "metadata": {
        "id": "view-in-github",
        "colab_type": "text"
      },
      "source": [
        "<a href=\"https://colab.research.google.com/github/cytoscape/cytoscape-automation/blob/master/for-scripters/R/colab/Phylogenetic-trees.ipynb\" target=\"_parent\"><img src=\"https://colab.research.google.com/assets/colab-badge.svg\" alt=\"Open In Colab\"/></a>"
      ]
    },
    {
      "cell_type": "markdown",
      "metadata": {
        "lines_to_next_cell": 0,
        "id": "7phMeiU9GXKX"
      },
      "source": [
        "# Phylogenetic-trees\n",
        "## Alexander Pico, Gildas Lepennetier\n"
      ]
    },
    {
      "cell_type": "markdown",
      "metadata": {
        "lines_to_next_cell": 0,
        "id": "DsHouMrEGXKa"
      },
      "source": [
        "*The R markdown is available. [download the Rmd from GitHub](https://raw.githubusercontent.com/cytoscape/cytoscape-automation/master/for-scripters/R/notebooks/Phylogenetic-trees.Rmd).*\n",
        "\n",
        "<hr />\n",
        "\n",
        "This vignette will show you how to work the popular Newick format for phylogenetic trees in Cytoscape by conversion to igraph and import via RCy3. The initial conversion step was provided by https://github.com/GildasLepennetier/newick_to_graphml.\n",
        "\n",
        "# Installation"
      ]
    },
    {
      "cell_type": "code",
      "execution_count": null,
      "metadata": {
        "id": "7_xEPGBNGXKb"
      },
      "outputs": [],
      "source": [
        "if(!\"RCy3\" %in% installed.packages()){\n",
        "    install.packages(\"BiocManager\")\n",
        "    BiocManager::install(\"RCy3\")\n",
        "}\n",
        "library(RCy3)"
      ]
    },
    {
      "cell_type": "markdown",
      "metadata": {
        "id": "-w3_arBbGXKc"
      },
      "source": [
        "If you are using a remote notebook environment such as Google Colab, please execute the cell below. (If you're running on your local notebook, you don't need to do that.)"
      ]
    },
    {
      "cell_type": "code",
      "execution_count": null,
      "metadata": {
        "id": "5Fo88NTZGXKc"
      },
      "outputs": [],
      "source": [
        "# Connect to local Cytoscape\n",
        "browserClientJs <- getBrowserClientJs()\n",
        "IRdisplay::display_javascript(browserClientJs)"
      ]
    },
    {
      "cell_type": "markdown",
      "metadata": {
        "lines_to_next_cell": 0,
        "id": "cUsyR8DbGXKd"
      },
      "source": [
        "## Prerequisites\n",
        "We will also need a few additional packages for the file conversion steps:"
      ]
    },
    {
      "cell_type": "code",
      "execution_count": null,
      "metadata": {
        "id": "1Ti__xEdGXKd"
      },
      "outputs": [],
      "source": [
        "install.packages('ape')\n",
        "install.packages('phytools')\n",
        "install.packages('igraph')\n",
        "library(ape)\n",
        "library(phytools)\n",
        "library(igraph)"
      ]
    },
    {
      "cell_type": "markdown",
      "metadata": {
        "id": "tubUAbIzGXKd"
      },
      "source": [
        "In addition to these R packages, you will need **Cytoscape 3.7** or greater, which can be downloaded from https://cytoscape.org/download.html. Simply follow the installation instructions on screen.\n",
        "\n",
        "# Trees to Networks\n",
        "Phylogenetic trees are simply a special type of network. And Cytoscape can work with *any* type of network! Trees are often represented in the [Newick format](https://en.wikipedia.org/wiki/Newick_format), like so\n",
        "\n",
        "```\n",
        "((raccoon:19.19959,bear:6.80041):0.84600,((sea_lion:11.99700, seal:12.00300):7.52973,((monkey:100.85930,cat:47.14069):20.59201, weasel:18.87953):2.09460):3.87382,dog:25.46154);\n",
        "\n",
        "(Bovine:0.69395,(Gibbon:0.36079,(Orang:0.33636,(Gorilla:0.17147,(Chimp:0.19268, Human:0.11927):0.08386):0.06124):0.15057):0.54939,Mouse:1.21460):0.10;\n",
        "\n",
        "(Bovine:0.69395,(Hylobates:0.36079,(Pongo:0.33636,(G._Gorilla:0.17147, (P._paniscus:0.19268,H._sapiens:0.11927):0.08386):0.06124):0.15057):0.54939, Rodent:1.21460);\n",
        "```\n",
        "\n",
        "The first step to loading Newick files into Cytoscape is to convert them to more generic network format using igraph, which Cytoscape already knows how to read via the RCy3 package."
      ]
    },
    {
      "cell_type": "code",
      "execution_count": null,
      "metadata": {
        "id": "4qD_cFNHGXKe"
      },
      "outputs": [],
      "source": [
        "tree <- phytools::read.newick(system.file(\"extdata\",\"phylotree.newick\", package=\"RCy3\"))\n",
        "ig <- ape::as.igraph.phylo(tree, FALSE) # boolean for whether tree is rooted or not\n",
        "ig <- set_edge_attr(ig,'distance', value=tree$edge.length) # set distances as edge attributes"
      ]
    },
    {
      "cell_type": "markdown",
      "metadata": {
        "lines_to_next_cell": 0,
        "id": "MX6o6ZsdGXKe"
      },
      "source": [
        "# Network to Cytoscape\n",
        "From here it's a simple matter of loading the igraph network into Cytoscape. RCy3 has a function for that:"
      ]
    },
    {
      "cell_type": "code",
      "execution_count": null,
      "metadata": {
        "id": "DmYQ4JNyGXKf"
      },
      "outputs": [],
      "source": [
        "createNetworkFromIgraph(ig, title=\"phylotree\", collection = \"phylotree\")"
      ]
    },
    {
      "cell_type": "markdown",
      "metadata": {
        "lines_to_next_cell": 0,
        "id": "TJbockMWGXKf"
      },
      "source": [
        "Now it just needs a layout a bit of style...\n",
        "\n",
        "A force-directed layout can work well for trees, if it is tuned properly. You might need to adjust some of the parameters to get a good layout for other Newick files, but the following works well for the demo file in this vignette."
      ]
    },
    {
      "cell_type": "code",
      "execution_count": null,
      "metadata": {
        "lines_to_next_cell": 0,
        "id": "W3YpVQI8GXKf"
      },
      "outputs": [],
      "source": [
        "layoutNetwork(paste('force-directed',\n",
        "                    'defaultEdgeWeight=3',\n",
        "                    'defaultSpringCoefficient=5E-5',\n",
        "                    'defaultSpringLength=80',\n",
        "                    sep = ' '))"
      ]
    },
    {
      "cell_type": "markdown",
      "metadata": {
        "lines_to_next_cell": 0,
        "id": "TjZXy56uGXKf"
      },
      "source": [
        "*Pro-tip: In the GUI of Cytoscape you also have access to yFiles Layouts (after accepting the license). Their hierarchical layout is perfect for trees! Unfortunately, it is not accessible via scripting however due to license restrictions.*\n",
        "\n",
        "Also, notice how the junction nodes, which are nameless in the Newick format, are given generic names by igraph (like \"Node1\")and display too promonently in Cytoscape. Let's create a filter to select these nodes and alter their style."
      ]
    },
    {
      "cell_type": "code",
      "execution_count": null,
      "metadata": {
        "id": "IRmIHV8yGXKf"
      },
      "outputs": [],
      "source": [
        "createColumnFilter('junctions', 'id', \"^Node\\\\\\\\d+$\", \"REGEX\")\n",
        "junctions<-getSelectedNodes()\n",
        "setNodeWidthBypass(junctions,1)\n",
        "setNodeHeightBypass(junctions,1)\n",
        "setNodeLabelBypass(junctions, \"\")"
      ]
    },
    {
      "cell_type": "markdown",
      "metadata": {
        "lines_to_next_cell": 0,
        "id": "eA4VRmIMGXKf"
      },
      "source": [
        "![](https://cytoscape.github.io/cytoscape-automation/for-scripters/R/notebooks/data/img/phylotree.png)\n",
        "\n",
        "# Edge Length as Distance\n",
        "And, as a final touch, let's label our edges with distance values:"
      ]
    },
    {
      "cell_type": "code",
      "execution_count": null,
      "metadata": {
        "id": "r_NFdWIhGXKg"
      },
      "outputs": [],
      "source": [
        "setEdgeLabelMapping('distance')"
      ]
    },
    {
      "cell_type": "markdown",
      "metadata": {
        "lines_to_next_cell": 0,
        "id": "XQI0E_ejGXKg"
      },
      "source": [
        "We can also explore layouts that consider edge lengths, such as:"
      ]
    },
    {
      "cell_type": "code",
      "execution_count": null,
      "metadata": {
        "lines_to_next_cell": 0,
        "id": "eahfLmjLGXKg"
      },
      "outputs": [],
      "source": [
        "layoutNetwork(paste('force-directed',\n",
        "                    'edgeAttribute=\"distance\"',\n",
        "                    'type=\"1 - normalized value\"',\n",
        "                    'defaultSpringCoefficient=5E-4',\n",
        "                    'defaultSpringLength=50',\n",
        "                    sep = ' '))"
      ]
    },
    {
      "cell_type": "markdown",
      "metadata": {
        "id": "cxTVyTYIGXKg"
      },
      "source": [
        "Notice how \"monkey\" with a much larger distance of just over 100 is now positioned much further from the other more closely related nodes.\n",
        "\n",
        "![](https://cytoscape.github.io/cytoscape-automation/for-scripters/R/notebooks/data/img/phylotree-distance.png)\n"
      ]
    }
  ],
  "metadata": {
    "jupytext": {
      "cell_metadata_filter": "name,tags,-all",
      "main_language": "R",
      "notebook_metadata_filter": "-all"
    },
    "kernelspec": {
      "display_name": "R",
      "name": "ir"
    },
    "language_info": {
      "name": "R"
    },
    "colab": {
      "provenance": [],
      "include_colab_link": true
    }
  },
  "nbformat": 4,
  "nbformat_minor": 0
}