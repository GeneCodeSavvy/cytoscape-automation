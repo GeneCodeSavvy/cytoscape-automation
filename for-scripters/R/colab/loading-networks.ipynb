{
  "cells": [
    {
      "cell_type": "markdown",
      "metadata": {
        "id": "view-in-github",
        "colab_type": "text"
      },
      "source": [
        "<a href=\"https://colab.research.google.com/github/cytoscape/cytoscape-automation/blob/master/for-scripters/R/colab/loading-networks.ipynb\" target=\"_parent\"><img src=\"https://colab.research.google.com/assets/colab-badge.svg\" alt=\"Open In Colab\"/></a>"
      ]
    },
    {
      "cell_type": "markdown",
      "metadata": {
        "lines_to_next_cell": 0,
        "id": "QwQj277OKYe9"
      },
      "source": [
        "# Loading Networks\n",
        "## Kozo Nishida, Kristina Hanspers and Alex Pico\n"
      ]
    },
    {
      "cell_type": "markdown",
      "metadata": {
        "lines_to_next_cell": 0,
        "id": "KubRn4hgKYfA"
      },
      "source": [
        "*The R markdown is available. [download the Rmd from GitHub](https://raw.githubusercontent.com/cytoscape/cytoscape-automation/master/for-scripters/R/notebooks/loading-networks.Rmd).*\n",
        "\n",
        "<hr />\n",
        "\n",
        "In Cytoscape, network data can be loaded from a variety of sources, and in several different formats. Where you get your network data depends on your biological question and analysis plan. This tutorial outlines how to load network data from several popular sources and formats.\n",
        "\n",
        "1. Public databases\n",
        "  - **NDEx**\n",
        "  - **PSICQUIC**\n",
        "  - **STRING/STITCH**\n",
        "  - **WikiPathways**\n",
        "2. Local and remote files\n",
        "3. Cytoscape apps (Biopax, KEGG and other formats)\n",
        "\n",
        "<hr />\n",
        "\n",
        "# Installation"
      ]
    },
    {
      "cell_type": "code",
      "execution_count": null,
      "metadata": {
        "eval": false,
        "id": "lQG-onfHKYfB"
      },
      "outputs": [],
      "source": [
        "if (!requireNamespace(\"BiocManager\", quietly = TRUE))\n",
        "  install.packages(\"BiocManager\")\n",
        "\n",
        "if(!\"RCy3\" %in% installed.packages())\n",
        "  BiocManager::install(\"RCy3\")\n",
        "\n",
        "library(RCy3)"
      ]
    },
    {
      "cell_type": "markdown",
      "metadata": {
        "id": "WC40pSKsKYfD"
      },
      "source": [
        "If you are using a remote notebook environment such as Google Colab, please execute the cell below. (If you're running on your local notebook, you don't need to do that.)"
      ]
    },
    {
      "cell_type": "code",
      "execution_count": null,
      "metadata": {
        "id": "LUT7_QG2KYfD"
      },
      "outputs": [],
      "source": [
        "# Connect to local Cytoscape\n",
        "browserClientJs <- getBrowserClientJs()\n",
        "IRdisplay::display_javascript(browserClientJs)"
      ]
    },
    {
      "cell_type": "markdown",
      "metadata": {
        "lines_to_next_cell": 0,
        "id": "K3MQZTVyKYfE"
      },
      "source": [
        "# Getting started\n",
        "First, launch Cytoscape and keep it running whenever using RCy3. Confirm that you have everything installed and running:"
      ]
    },
    {
      "cell_type": "code",
      "execution_count": null,
      "metadata": {
        "id": "HWPU0S10KYfE"
      },
      "outputs": [],
      "source": [
        "cytoscapePing()\n",
        "cytoscapeVersionInfo()"
      ]
    },
    {
      "cell_type": "markdown",
      "metadata": {
        "id": "DJ2vEJk0KYfE"
      },
      "source": [
        "# Prerequisites\n",
        "\n",
        "The exercises require you to have certain Cytoscape apps and R packages installed."
      ]
    },
    {
      "cell_type": "code",
      "execution_count": null,
      "metadata": {
        "id": "BrNJkOr-KYfF"
      },
      "outputs": [],
      "source": [
        "installApp('stringApp')\n",
        "installApp('WikiPathways')\n",
        "\n",
        "if (!requireNamespace(\"BiocManager\", quietly = TRUE))\n",
        "    install.packages(\"BiocManager\")\n",
        "\n",
        "BiocManager::install(\"ndexr\")\n",
        "BiocManager::install(\"rWikiPathways\")\n",
        "\n",
        "install.packages(\"httr\")"
      ]
    },
    {
      "cell_type": "markdown",
      "metadata": {
        "id": "YRBT6HNgKYfF"
      },
      "source": [
        "# Networks from Public Data\n",
        "\n",
        "Cytoscape includes a **Network Search** tool for easy import of public network data.\n",
        "In addition to core apps that are included with your Cytoscape installation (NDEx and PSICQUIC), the resources listed here will depend on which apps you have installed.\n",
        "\n",
        "Find out which apps you have installed:"
      ]
    },
    {
      "cell_type": "code",
      "execution_count": null,
      "metadata": {
        "id": "WFaiJwIvKYfF"
      },
      "outputs": [],
      "source": [
        "getInstalledApps()"
      ]
    },
    {
      "cell_type": "markdown",
      "metadata": {
        "id": "nyKxHorEKYfG"
      },
      "source": [
        "# NDEx\n",
        "\n",
        "The [NDEx Project](http://www.ndexbio.org/) provides an open-source framework where scientists and organizations can share, store, manipulate, and publish biological network knowledge.\n",
        "\n",
        "Search NDEx for \"TP53 AND BARD1\":"
      ]
    },
    {
      "cell_type": "code",
      "execution_count": null,
      "metadata": {
        "id": "f4GRtgNVKYfG"
      },
      "outputs": [],
      "source": [
        "library(ndexr)\n",
        "ndexcon <- ndex_connect()\n",
        "networks <- ndex_find_networks(ndexcon, \"TP53 AND BARD1\")\n",
        "print(networks[,c(\"name\",\"externalId\",\"nodeCount\",\"edgeCount\")])"
      ]
    },
    {
      "cell_type": "markdown",
      "metadata": {
        "id": "H7Ab_DI9KYfG"
      },
      "source": [
        "We can work with this list. Let’s use the first hit. **Note: you are going to get different hits as this database changes over time, so proceed with any hit you like.**"
      ]
    },
    {
      "cell_type": "code",
      "execution_count": null,
      "metadata": {
        "id": "VyRP36bbKYfG"
      },
      "outputs": [],
      "source": [
        "networkId = networks$externalId[1]\n",
        "network = ndex_get_network(ndexcon, networkId)\n",
        "print(network)"
      ]
    },
    {
      "cell_type": "markdown",
      "metadata": {
        "id": "h_abZlF7KYfG"
      },
      "source": [
        "Import the network into Cytoscape:"
      ]
    },
    {
      "cell_type": "code",
      "execution_count": null,
      "metadata": {
        "id": "Mq1OeNMZKYfH"
      },
      "outputs": [],
      "source": [
        "importNetworkFromNDEx(networkId)"
      ]
    },
    {
      "cell_type": "markdown",
      "metadata": {
        "id": "c86SzM2WKYfH"
      },
      "source": [
        "For more detailed information about working with NDEx networks in Cytoscape, see the [Cytoscape-and-NDEx](https://cytoscape.org/cytoscape-automation/for-scripters/R/notebooks/Cytoscape-and-NDEx.nb.html) protocol.\n",
        "\n",
        "# STRING/STITCH\n",
        "\n",
        "STRING is a database of known and predicted protein-protein interactions, and STITCH stored known and predicted interactions between chemicals and proteins. Data types include:\n",
        "\n",
        "- Genomic Context Predictions\n",
        "- High-throughput Lab Experiments\n",
        "- (Conserved) Co-Expression\n",
        "- Automated Textmining\n",
        "- Previous Knowledge in Databases\n",
        "\n",
        "Search STRING with the disease keyword \"ovarian cancer\". The resulting network will load automatically."
      ]
    },
    {
      "cell_type": "code",
      "execution_count": null,
      "metadata": {
        "id": "LLeQbadnKYfH"
      },
      "outputs": [],
      "source": [
        "string.cmd = 'string disease query disease=\"ovarian cancer\"'\n",
        "commandsRun(string.cmd)"
      ]
    },
    {
      "cell_type": "markdown",
      "metadata": {
        "id": "RuGBp40PKYfH"
      },
      "source": [
        "STRING networks load with a STRING-specific style, which includes 3D protein structure diagrams.\n",
        "\n",
        "Export the image as a png. This will save the png to your current directory."
      ]
    },
    {
      "cell_type": "code",
      "execution_count": null,
      "metadata": {
        "id": "X7Bio1t9KYfH"
      },
      "outputs": [],
      "source": [
        "exportImage('ovarian_cancer', 'PNG')"
      ]
    },
    {
      "cell_type": "markdown",
      "metadata": {
        "id": "N8buJSgvKYfH"
      },
      "source": [
        "STRING networks also include data as node/interaction attributes, that can be used to create a **Style**.\n",
        "Let's save the attributes as a dataframe and take a look at the first few rows:"
      ]
    },
    {
      "cell_type": "code",
      "execution_count": null,
      "metadata": {
        "id": "kT5aekt1KYfH"
      },
      "outputs": [],
      "source": [
        "df <- getTableColumns()\n",
        "head(df)"
      ]
    },
    {
      "cell_type": "markdown",
      "metadata": {
        "id": "Wf2Ji6uRKYfI"
      },
      "source": [
        "The STRING app includes options to change interaction confidence level, expand the network etc.\n",
        "\n",
        "Before changing interaction confidence level, let's find the number of interactions in the network:"
      ]
    },
    {
      "cell_type": "code",
      "execution_count": null,
      "metadata": {
        "id": "mpdQUpyPKYfI"
      },
      "outputs": [],
      "source": [
        "getEdgeCount()"
      ]
    },
    {
      "cell_type": "markdown",
      "metadata": {
        "id": "-Hqt4c5VKYfI"
      },
      "source": [
        "Let's increase the confidence level to 0.9, from the default 0.4:"
      ]
    },
    {
      "cell_type": "code",
      "execution_count": null,
      "metadata": {
        "id": "bQBiwThyKYfI"
      },
      "outputs": [],
      "source": [
        "string.cmd = 'string change confidence confidence=0.9 network=CURRENT'\n",
        "commandsRun(string.cmd)"
      ]
    },
    {
      "cell_type": "markdown",
      "metadata": {
        "id": "hdoe7WBUKYfI"
      },
      "source": [
        "Now let's get an edge count after changing interaction confidence level:"
      ]
    },
    {
      "cell_type": "code",
      "execution_count": null,
      "metadata": {
        "id": "WYcLawniKYfI"
      },
      "outputs": [],
      "source": [
        "getEdgeCount()"
      ]
    },
    {
      "cell_type": "markdown",
      "metadata": {
        "id": "BZFgeOSeKYfI"
      },
      "source": [
        "Again, we can export a figure:"
      ]
    },
    {
      "cell_type": "code",
      "execution_count": null,
      "metadata": {
        "id": "b5a-EKQhKYfI"
      },
      "outputs": [],
      "source": [
        "exportImage('before_expand', 'PNG')"
      ]
    },
    {
      "cell_type": "markdown",
      "metadata": {
        "id": "yfncvjjjKYfI"
      },
      "source": [
        "For more detailed information about working with STRING networks in Cytoscape, see the [stringApp](https://cytoscape.org/cytoscape-automation/for-scripters/R/notebooks/stringApp.nb.html) protocol.\n",
        "\n",
        "# WikiPathways\n",
        "\n",
        "[WikiPathways](https://www.wikipathways.org/) is a collaborative wiki platform with manually pathway models. It currently covers over 2,800 pathways in 29 species-specific collections.\n",
        "\n",
        "First, load the WikiPathways R library:"
      ]
    },
    {
      "cell_type": "code",
      "execution_count": null,
      "metadata": {
        "id": "VgY0hS8vKYfI"
      },
      "outputs": [],
      "source": [
        "library(rWikiPathways)"
      ]
    },
    {
      "cell_type": "markdown",
      "metadata": {
        "id": "lN0PaRvFKYfJ"
      },
      "source": [
        "Search WikiPathways for 'statin':"
      ]
    },
    {
      "cell_type": "code",
      "execution_count": null,
      "metadata": {
        "id": "rqsQV7RZKYfJ"
      },
      "outputs": [],
      "source": [
        "statin.pathways <- findPathwaysByText('statin')"
      ]
    },
    {
      "cell_type": "markdown",
      "metadata": {
        "id": "7Xo6gTG3KYfJ"
      },
      "source": [
        "WikiPathways search results are displayed as a list of all available pathway models matching the search term."
      ]
    },
    {
      "cell_type": "code",
      "execution_count": null,
      "metadata": {
        "id": "nE7y1VJIKYfJ"
      },
      "outputs": [],
      "source": [
        "head(statin.pathways)"
      ]
    },
    {
      "cell_type": "markdown",
      "metadata": {
        "id": "gw6bF3SEKYfJ"
      },
      "source": [
        "We can restrict the results to **Homo sapiens**:"
      ]
    },
    {
      "cell_type": "code",
      "execution_count": null,
      "metadata": {
        "id": "awLB9HxGKYfJ"
      },
      "outputs": [],
      "source": [
        "human.filter <- lapply(statin.pathways, function(x) x$species == \"Homo sapiens\")\n",
        "human.statin.pathways <- statin.pathways[unlist(human.filter)]"
      ]
    },
    {
      "cell_type": "markdown",
      "metadata": {
        "id": "Y-aG7nV8KYfN"
      },
      "source": [
        "Loading the pathways will by default preserve the original pathway layout:"
      ]
    },
    {
      "cell_type": "code",
      "execution_count": null,
      "metadata": {
        "id": "EF5m1IWUKYfN"
      },
      "outputs": [],
      "source": [
        "lapply(human.statin.pathways, function(x) commandsRun(paste('wikipathways import-as-pathway id=', x$id, sep = '')))"
      ]
    },
    {
      "cell_type": "markdown",
      "metadata": {
        "id": "4rWKT5ftKYfN"
      },
      "source": [
        "The pathway can also be opened as a network:"
      ]
    },
    {
      "cell_type": "code",
      "execution_count": null,
      "metadata": {
        "id": "wz0CRbR6KYfO"
      },
      "outputs": [],
      "source": [
        "lapply(human.statin.pathways, function(x) commandsRun(paste('wikipathways import-as-network id=', x$id, sep = '')))"
      ]
    },
    {
      "cell_type": "markdown",
      "metadata": {
        "id": "Y8fXWfjAKYfO"
      },
      "source": [
        "WikiPathways model imported as **pathway** and **network**.\n",
        "![](https://cytoscape.org/cytoscape-tutorials/protocols/loading-networks/WP-pathway.png){width=70%} ![](https://cytoscape.org/cytoscape-tutorials/protocols/loading-networks/WP-network.png)\n",
        "\n",
        "For more detailed information about working with WikiPathways in Cytoscape, see the [rWikiPathways and rCy3](https://cytoscape.org/cytoscape-automation/for-scripters/R/notebooks/rWikiPathways-and-RCy3.nb.html) protocol.\n",
        "\n",
        "# Local and Remote Files\n",
        "\n",
        "Cytoscape can load locally and remotely stored network data files in a variety of file formats:\n",
        "\n",
        "- **SIF**: Simple interaction format\n",
        "- **NNF**: Nested network format\n",
        "- **GML** and **XGMML** formats\n",
        "- **CYS**: Cytoscape session file\n",
        "- Delimited text and Excel format\n",
        "\n",
        "## Loading SIF files\n",
        "\n",
        "**SIF** is a simple interaction format consisting of three columns of data: source, interaction and target. To learn more about the SIF format, see the [Cytoscape manual](http://manual.cytoscape.org/en/stable/Supported_Network_File_Formats.html#sif-format).\n",
        "\n",
        "Download [*galFiltered.sif*](https://cytoscape.github.io/cytoscape-tutorials/protocols/data/galFiltered.sif) and load the network via:"
      ]
    },
    {
      "cell_type": "code",
      "execution_count": null,
      "metadata": {
        "id": "ZdENY5R6KYfO"
      },
      "outputs": [],
      "source": [
        "library(httr)\n",
        "sif_url = \"https://cytoscape.github.io/cytoscape-tutorials/protocols/data/galFiltered.sif\"\n",
        "GET(sif_url, write_disk(tf <- tempfile(fileext = \".sif\")))\n",
        "importNetworkFromFile(tf)"
      ]
    },
    {
      "cell_type": "markdown",
      "metadata": {
        "id": "Xd6FclOEKYfO"
      },
      "source": [
        "To see the whole network, use fitContent:"
      ]
    },
    {
      "cell_type": "code",
      "execution_count": null,
      "metadata": {
        "id": "0ynCDS2OKYfO"
      },
      "outputs": [],
      "source": [
        "fitContent()"
      ]
    },
    {
      "cell_type": "markdown",
      "metadata": {
        "id": "_qxDZpfIKYfO"
      },
      "source": [
        "## Loading XGMML files\n",
        "\n",
        "**XGMML** is an XML format and can includes node and edge attributes as well as visual style properties. To learn more about the XGMML format, see the [Cytoscape manual](http://manual.cytoscape.org/en/stable/Supported_Network_File_Formats.html#xgmml-format).\n",
        "\n",
        "Download https://raw.githubusercontent.com/cytoscape/cytoscape-tutorials/gh-pages/protocols/data/BasicDataVizDemo.xgmml and load the network via"
      ]
    },
    {
      "cell_type": "code",
      "execution_count": null,
      "metadata": {
        "id": "WbQTVaDuKYfO"
      },
      "outputs": [],
      "source": [
        "xgmml_url = \"https://raw.githubusercontent.com/cytoscape/cytoscape-tutorials/gh-pages/protocols/data/BasicDataVizDemo.xgmml\"\n",
        "GET(xgmml_url, write_disk(tf <- tempfile(fileext = \".xgmml\")))\n",
        "importNetworkFromFile(tf)"
      ]
    },
    {
      "cell_type": "markdown",
      "metadata": {
        "id": "xQojmZuwKYfP"
      },
      "source": [
        "This is the same network as in the previous step, but with node fill color corresponding to expression values. ![](https://cytoscape.org/cytoscape-tutorials/protocols/loading-networks/galFiltered2Loaded.png)"
      ]
    }
  ],
  "metadata": {
    "jupytext": {
      "cell_metadata_filter": "tags,eval,-all",
      "main_language": "R",
      "notebook_metadata_filter": "-all"
    },
    "kernelspec": {
      "display_name": "R",
      "name": "ir"
    },
    "language_info": {
      "name": "R"
    },
    "colab": {
      "provenance": [],
      "include_colab_link": true
    }
  },
  "nbformat": 4,
  "nbformat_minor": 0
}