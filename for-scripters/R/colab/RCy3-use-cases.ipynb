{
 "cells": [
  {
   "cell_type": "markdown",
   "metadata": {
    "lines_to_next_cell": 0
   },
   "source": [
    "# RCy3 Use Cases\n",
    "## Alex Pico, Julia Gustavsen, Shraddha Pai, Ruth Isserlin, Barry Demchak\n",
    "[![Open In Colab](https://colab.research.google.com/assets/colab-badge.svg)](https://colab.research.google.com/github/cytoscape/cytoscape-automation/blob/master/for-scripters/R/colab/RCy3-use-cases.ipynb)"
   ]
  },
  {
   "cell_type": "markdown",
   "metadata": {
    "lines_to_next_cell": 0
   },
   "source": [
    "# Operation\n",
    "In order to work with RCy3 you must have Cytoscape v3.7 or later installed and running.  Cytoscape can be installed from [cytoscape.org](https://cytoscape.org). The RCy3 package can be installed from [Bioconductor](https://bioconductor.org/packages/release/bioc/html/RCy3.html}{Bioconductor):"
   ]
  },
  {
   "cell_type": "code",
   "execution_count": null,
   "metadata": {
    "eval": false
   },
   "outputs": [],
   "source": [
    "if (!requireNamespace(\"BiocManager\", quietly = TRUE))\n",
    "  install.packages(\"BiocManager\")\n",
    "BiocManager::install(\"RCy3\")\n",
    "library(RCy3)"
   ]
  },
  {
   "cell_type": "markdown",
   "metadata": {},
   "source": [
    "If you are using a remote notebook environment such as Google Colab, please execute the cell below. (If you're running on your local notebook, you don't need to do that.)"
   ]
  },
  {
   "cell_type": "code",
   "execution_count": null,
   "metadata": {},
   "outputs": [],
   "source": [
    "# Connect to local Cytoscape\n",
    "browserClientJs <- getBrowserClientJs()\n",
    "IRdisplay::display_javascript(browserClientJs)"
   ]
  },
  {
   "cell_type": "markdown",
   "metadata": {
    "lines_to_next_cell": 0
   },
   "source": [
    "Launch Cytoscape and keep it running whenever using RCy3. Confirm that you have everything installed and that RCy3 is communicating with Cytoscape via CyREST:"
   ]
  },
  {
   "cell_type": "code",
   "execution_count": null,
   "metadata": {},
   "outputs": [],
   "source": [
    "cytoscapePing ()\n",
    "#[1] \"You are connected to Cytoscape!\""
   ]
  },
  {
   "cell_type": "markdown",
   "metadata": {
    "lines_to_next_cell": 0
   },
   "source": [
    "As with any R package, one can access the documentation and browse over a dozen vignettes included in the RCy3 package:"
   ]
  },
  {
   "cell_type": "code",
   "execution_count": null,
   "metadata": {},
   "outputs": [],
   "source": [
    "help(package=RCy3)\n",
    "browseVignettes(\"RCy3\")"
   ]
  },
  {
   "cell_type": "markdown",
   "metadata": {
    "lines_to_next_cell": 0
   },
   "source": [
    "# Use Cases\n",
    "The following sections demonstrate a variety of common and advanced network biology use cases as runnable R code snippets. The first set focuses on fundamental Cytoscape operations that are common to most use cases:\n",
    "\n",
    "* Loading networks (from R objects, Cytoscape files and public databases)\n",
    "* Visualizing network data\n",
    "* Filtering by node degree or data\n",
    "* Saving and exporting networks\n",
    "\n",
    "Additionally, there are examples that demonstrate analytical workflows, relying not only on Cytoscape, but also on Cytoscape apps and other R packages:\n",
    "\n",
    "* Building maps of enrichment analysis results using EnrichmentMap and AutoAnnotate\n",
    "* Visualizing integrated network analysis using BioNet\n",
    "* Performing advanced graph analytics using RBGL\n",
    "\n",
    "## Loading Networks\n",
    "Networks come in all shapes and sizes in multiple formats from multiple sources. Here are just a few of the myriad ways to load networks into Cytoscape using RCy3.\n",
    "\n",
    "From R Objects. . ."
   ]
  },
  {
   "cell_type": "code",
   "execution_count": null,
   "metadata": {},
   "outputs": [],
   "source": [
    "# From graph objects (graphNEL)  \n",
    "g <- makeSimpleGraph()\n",
    "createNetworkFromGraph(g)\n",
    "## And round-trip back from Cytoscape to graph \n",
    "g2 <- createGraphFromNetwork()\n",
    "\n",
    "# From igraph objects\n",
    "library(igraph)\n",
    "ig <- make_graph(\"Zachary\")\n",
    "createNetworkFromIgraph(ig)\n",
    "## And round-trip back from Cytoscape to igraph\n",
    "ig2 <- createIgraphFromNetwork()\n",
    "## Note that the Cytoscape model infers directionality\n",
    "\n",
    "# From dataframes\n",
    "nodes <- data.frame(id=c(\"node 0\",\"node 1\",\"node 2\",\"node 3\"),\n",
    "                    group=c(\"A\",\"A\",\"B\",\"B\"), #categorical strings\n",
    "                    score=as.integer(c(20,10,15,5)), #integers\n",
    "                    stringsAsFactors=FALSE)\n",
    "edges <- data.frame(source=c(\"node 0\",\"node 0\",\"node 0\",\"node 2\"),\n",
    "                    target=c(\"node 1\",\"node 2\",\"node 3\",\"node 3\"),\n",
    "                    interaction=c(\"inhibits\",\"interacts\", \n",
    "                                  \"activates\",\"interacts\"),  #optional\n",
    "                    weight=c(5.1,3.0,5.2,9.9), #numerics\n",
    "                    stringsAsFactors=FALSE)\n",
    "createNetworkFromDataFrames(nodes, edges)"
   ]
  },
  {
   "cell_type": "markdown",
   "metadata": {
    "lines_to_next_cell": 0
   },
   "source": [
    "From Cytoscape-supported File Formats. . ."
   ]
  },
  {
   "cell_type": "code",
   "execution_count": null,
   "metadata": {},
   "outputs": [],
   "source": [
    "# From Cytoscape session files\n",
    "## Will erase and replace all data from current session!\n",
    "openSession() # default file = galFiltered.cys\n",
    "\n",
    "# From local network files\n",
    "importNetworkFromFile() # default file = galFiltered.sif\n",
    "## Supported file formats: SIF, GML, xGMML, graphML, CX, plus\n",
    "\n",
    "# From NDEx, the network database\n",
    "importNetworkFromNDEx(\"5be85817-1e5f-11e8-b939-0ac135e8bacf\")\n",
    "## Account information or accessKey are required arguments only\n",
    "## when accessing private content"
   ]
  },
  {
   "cell_type": "markdown",
   "metadata": {
    "lines_to_next_cell": 0
   },
   "source": [
    "From Public Databases via Cytoscape Apps. . ."
   ]
  },
  {
   "cell_type": "code",
   "execution_count": null,
   "metadata": {},
   "outputs": [],
   "source": [
    "# From STRING, starting with a list of genes/proteins\n",
    "installApp(\"stringApp\")\n",
    "gene.list <- c(\"T53\",\"AKT1\",\"CDKN1A\")\n",
    "gene.str <- paste(gene.list, collapse = \",\")\n",
    "string.cmd <- paste(\"string protein query cutoff=0.99 limit=40 query\",\n",
    "                    gene.str, sep = \"=\")\n",
    "commandsRun(string.cmd)\n",
    "\n",
    "# From WikiPathways, starting with a keyword\n",
    "library(rWikiPathways) # install from Bioconductor\n",
    "installApp(\"WikiPathways\")\n",
    "keyword <- \"glioblastoma\"\n",
    "gbm.pathways <- findPathwaysByText(keyword)\n",
    "gbm.wpid <- gbm.pathways[[1]]$id # let’s just take the first one\n",
    "wikipathways.cmd <- paste(\"wikipathways import-as-pathway id\",\n",
    "                          gbm.wpid, sep = \"=\")\n",
    "commandsRun(wikipathways.cmd)"
   ]
  },
  {
   "cell_type": "markdown",
   "metadata": {
    "lines_to_next_cell": 0
   },
   "source": [
    "## Visualizing Data on Networks\n",
    "Cytoscape excels at generating publication-quality network visualization with data overlays. This vignette demonstrates just one of the hundreds of visual style mapping options using RCy3."
   ]
  },
  {
   "cell_type": "code",
   "execution_count": null,
   "metadata": {},
   "outputs": [],
   "source": [
    "# Load sample network\n",
    "closeSession(FALSE) # clears all session data wihtout saving\n",
    "importNetworkFromFile() # default file = galFiltered.sif\n",
    "\n",
    "# Load sample data\n",
    "csv <- system.file(\"extdata\",\"galExpData.csv\", package=\"RCy3\")\n",
    "data <- read.csv(csv, stringsAsFactors = FALSE)\n",
    "loadTableData(data,data.key.column=\"name\")\n",
    "\n",
    "# Prepare data-mapping points\n",
    "gal80Rexp.min <- min(data$gal80Rexp, na.rm = TRUE)\n",
    "gal80Rexp.max <- max(data$gal80Rexp, na.rm = TRUE)\n",
    "## For a balanced color gradient, pick the largest absolute value\n",
    "gal80Rexp.max.abs <- max(abs(gal80Rexp.min), abs(gal80Rexp.max)) \n",
    "\n",
    "# Set node color gradient from blue to white to red\n",
    "setNodeColorMapping('gal80Rexp', c(-gal80Rexp.max.abs, 0, gal80Rexp.max.abs), \n",
    "                    c('#5577FF','#FFFFFF','#FF7755'), default.color = '#999999')\n"
   ]
  },
  {
   "cell_type": "markdown",
   "metadata": {
    "lines_to_next_cell": 0
   },
   "source": [
    "## Filtering Networks by Degree and by Data\n",
    "Network topology and associated node or edge data can be used to make selections in Cytoscape that enable filtering and subnetworking. The filters are added to the Select tab in the Control Panel of Cytoscape’s GUI and saved in session files."
   ]
  },
  {
   "cell_type": "code",
   "execution_count": null,
   "metadata": {},
   "outputs": [],
   "source": [
    "# Load demo Cytoscape session file\n",
    "openSession() # default file = galFiltered.cys\n",
    "net.suid <- getNetworkSuid() # get SUID for future reference\n",
    "\n",
    "# Filter for neighbors of high degree nodes\n",
    "createDegreeFilter(filter.name = \"degree filter\",\n",
    "                   criterion = c(0,9),\n",
    "                   predicate = \"IS_NOT_BETWEEN\")\n",
    "selectFirstNeighbors() # expand selection to first neighbors\n",
    "createSubnetwork(subnetwork.name = \"first neighbors of high degree nodes\")\n",
    "\n",
    "# Filter for high edge betweenness\n",
    "createColumnFilter(filter.name = \"edge betweenness\",\n",
    "                   type = \"edges\",\n",
    "                   column = \"EdgeBetweenness\",\n",
    "                   4000,\n",
    "                   \"GREATER_THAN\",\n",
    "                   network = net.suid)\n",
    "createSubnetwork(subnetwork.name = \"high edge betweenness\")"
   ]
  },
  {
   "cell_type": "markdown",
   "metadata": {
    "lines_to_next_cell": 0
   },
   "source": [
    "## Saving and Exporting Networks\n",
    "There are local and cloud-hosted options for saving and sharing network models and images. The Cytoscape session file (CYS) will include all networks, collections, tables and styles. It should retain every aspect of your session, including the size of the application window. Network and image exports include only the currently active network. Export to NDEx requires account information you can obtain from [ndexbio.org](https://ndexbio.org)."
   ]
  },
  {
   "cell_type": "code",
   "execution_count": null,
   "metadata": {},
   "outputs": [],
   "source": [
    "# Saving sessions\n",
    "saveSession(\"MySession\") #.cys\n",
    "## Leave filename blank to update previously saved session file\n",
    "\n",
    "# Exporting images and networks\n",
    "exportNetwork() #.sif\n",
    "## Optionally specify filename, default is network name\n",
    "## Optionally specify type: SIF(default), CX, cyjs, graphML, NNF, SIF, xGMML\n",
    "exportImage(type='png') #.png\n",
    "## Optionally specify filename, default is network name\n",
    "## Optionally specify type: PNG (default), JPEG, PDF, PostScript, SVG \n",
    "\n",
    "# Exporting to NDEx, a.k.a. “Dropbox” for networks\n",
    "exportNetworkToNDEx(username, password, TRUE)\n",
    "## Account information (username and password) is required to upload\n",
    "## Use updateNetworkInNDEx if the network has previously been uploaded"
   ]
  },
  {
   "cell_type": "markdown",
   "metadata": {
    "lines_to_next_cell": 0
   },
   "source": [
    "## Building Maps of Enrichment Analysis Results\n",
    "This workflow illustrates how to plot an annotated map of enrichment results using the  [EnrichmentMap Pipeline Collection of apps](http://apps.cytoscape.org/apps/enrichmentmappipelinecollection) in Cytoscape.  An enrichment map is a network visualization of related genesets in which nodes are gene sets (or pathways) and edge weight indicates the overlap in member genes. Following the construction of the enrichment map, AutoAnnotate clusters redundant gene sets and uses WordCloud to label the resulting cluster. The code uses the Commands interface to invoke EnrichmentMap and AutoAnnotate apps. After installing apps, run commandsAPI() to open the live Swagger documentation to browse and execute command-line syntax."
   ]
  },
  {
   "cell_type": "code",
   "execution_count": null,
   "metadata": {},
   "outputs": [],
   "source": [
    "installApp(\"EnrichmentMap Pipeline Collection\") # installs 4 apps\n",
    "# Download sample gmt file of human pathways\n",
    "gmt.file <- \"rcy3_enrichmentmap.gmt\"\n",
    "download.file(file.path(\"http://download.baderlab.org/EM_Genesets\",\n",
    "                        \"September_01_2019/Human/symbol/Pathways\",\n",
    "                        \"Human_WikiPathways_September_01_2019_symbol.gmt\"),\n",
    "              gmt.file)\n",
    "# Run EnrichmentMap build command\n",
    "em_command <- paste('enrichmentmap build analysisType=\"generic\"',\n",
    "                    \"gmtFile=\", paste(getwd(), gmt.file, sep=\"/\"),\n",
    "                    \"pvalue=\", 1,\n",
    "                    \"qvalue=\", 1,\n",
    "                    \"similaritycutoff=\",0.25,\n",
    "                    \"coefficients=\",\"JACCARD\")\n",
    "print(em_command)\n",
    "commandsGET(em_command)\n",
    "# Run the AutoAnnotate command\n",
    "aa_command <- paste(\"autoannotate annotate-clusterBoosted\",\n",
    "                    \"clusterAlgorithm=MCL\",\n",
    "                    \"labelColumn=EnrichmentMap::GS_DESCR\",\n",
    "                    \"maxWords=3\")\n",
    "print(aa_command)\n",
    "commandsGET(aa_command)\n",
    "# Annotate a subnetwork\n",
    "createSubnetwork(c(1:4),\"__mclCluster\")\n",
    "commandsGET(aa_command)"
   ]
  },
  {
   "cell_type": "markdown",
   "metadata": {},
   "source": [
    "## Visualizing Integrated Network Analysis Using BioNet \n",
    "The [BioNet](https://bioconductor.org/packages/release/bioc/html/BioNet.html) package implements analytical methods to perform integrated network analysis, e.g., of gene expression data and clinical survival data in the context of protein-protein interaction networks. Partnered with RCy3, the analytical results from BioNet can be visualized in Cytoscape with vastly more options for customization. Starting with the [\"Quick Start\" tutorial](https://bioconductor.org/packages/release/bioc/vignettes/BioNet/inst/doc/Tutorial.pdf) from BioNet, we pass the results directly to Cytoscape for visualization:"
   ]
  },
  {
   "cell_type": "code",
   "execution_count": null,
   "metadata": {},
   "outputs": [],
   "source": [
    "library(BioNet) # install from Bioconductor\n",
    "library(DLBCL) # install from Bioconductor\n",
    "data(dataLym)\n",
    "data(interactome)\n",
    "## The following steps are from BioNet's Quick Start tutorial:\n",
    "pvals <- cbind(t = dataLym$t.pval, s = dataLym$s.pval)\n",
    "rownames(pvals) <- dataLym$label\n",
    "pval <- aggrPvals(pvals, order = 2, plot = FALSE)\n",
    "subnet <- subNetwork(dataLym$label, interactome)\n",
    "subnet <- rmSelfLoops(subnet)\n",
    "fb <- fitBumModel(pval, plot = FALSE)\n",
    "scores <- scoreNodes(subnet, fb, fdr = 0.001)\n",
    "module <- runFastHeinz(subnet, scores)\n",
    "logFC <- dataLym$diff\n",
    "names(logFC) <- dataLym$label\n",
    "plotModule(module, scores = scores, diff.expr = logFC)\n",
    "\n",
    "# Using RCy3 we can generate a custom visualization of the same output\n",
    "## Create network from graphNEL object and load data calculated above\n",
    "createNetworkFromGraph(module, \"module\", \"BioNet\")\n",
    "loadTableData(as.data.frame(scores))\n",
    "loadTableData(as.data.frame(logFC))\n",
    "## Set styles\n",
    "setNodeLabelMapping(\"geneSymbol\")\n",
    "setNodeFontSizeDefault(18)\n",
    "setNodeBorderWidthDefault(3.0)\n",
    "logFC.max.abs <- max(abs(min(logFC)), abs(max(logFC))) \n",
    "setNodeColorMapping('logFC', c(-logFC.max.abs, 0, logFC.max.abs), \n",
    "                    c('#5577FF','#FFFFFF','#FF7755'), default.color = '#999999')\n",
    "createColumnFilter(\"Positive scores\", \"scores\",c(0,max(scores)),\"BETWEEN\")\n",
    "setNodeShapeBypass(getSelectedNodes(), \"ELLIPSE\")\n",
    "clearSelection()"
   ]
  },
  {
   "cell_type": "markdown",
   "metadata": {
    "lines_to_next_cell": 0
   },
   "source": [
    "##Performing Advanced Graph Analytics Using RBGL\n",
    "As an interface to the BOOST library, the [RBGL](https://bioconductor.org/packages/release/bioc/html/RBGL.html) Bioconductor package offers an impressive array of analytical functions for graphs. Here we will start with a network in Cytoscape, load it into R as a graph object, perform shortest path calculation using RBGL and then visualize the results back in Cytoscape."
   ]
  },
  {
   "cell_type": "code",
   "execution_count": null,
   "metadata": {
    "lines_to_next_cell": 0
   },
   "outputs": [],
   "source": [
    "library(RBGL) # install from Bioconductor\n",
    "# Convert a sample Cytoscape network to a graph object\n",
    "openSession()\n",
    "g <- createGraphFromNetwork()\n",
    "# Identify start and finish nodes (styling is optional)\n",
    "start <- \"YNL216W\"\n",
    "finish <- \"YER040W\"\n",
    "setNodeBorderWidthBypass(c(start, finish), 20)\n",
    "setNodeBorderColorBypass(start, \"#00CC33\")\n",
    "setNodeBorderColorBypass(finish, \"#CC00CC\")\n",
    "# Use RBGL to perform shortest path calculation\n",
    "shortest <- sp.between(g, start, finish)\n",
    "shortest$`YNL216W:YER040W`$length\n",
    "#[1] 6\n",
    "shortest.path <- shortest$`YNL216W:YER040W`$path_detail\n",
    "# Visualize results in Cytoscape\n",
    "selectNodes(shortest.path, \"name\")\n",
    "setNodeBorderWidthBypass(shortest.path, 20)\n",
    "createSubnetwork()"
   ]
  },
  {
   "cell_type": "markdown",
   "metadata": {},
   "source": []
  }
 ],
 "metadata": {
  "jupytext": {
   "cell_metadata_filter": "eval,tags,-all",
   "main_language": "R",
   "notebook_metadata_filter": "-all"
  },
  "kernelspec": {
   "display_name": "Python 3",
   "language": "python",
   "name": "python3"
  },
  "language_info": {
   "codemirror_mode": {
    "name": "ipython",
    "version": 3
   },
   "file_extension": ".py",
   "mimetype": "text/x-python",
   "name": "python",
   "nbconvert_exporter": "python",
   "pygments_lexer": "ipython3",
   "version": "3.8.5"
  }
 },
 "nbformat": 4,
 "nbformat_minor": 4
}
