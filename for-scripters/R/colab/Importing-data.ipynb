{
 "cells": [
  {
   "cell_type": "raw",
   "metadata": {
    "lines_to_next_cell": 0
   },
   "source": [
    "---\n",
    "title: \"Importing data\"\n",
    "author: \"by Alexander Pico\"\n",
    "package: RCy3\n",
    "date: \"`r Sys.Date()`\"\n",
    "output: \n",
    "  html_notebook:\n",
    "    toc_float: true\n",
    "    code_folding: \"none\"\n",
    "#  pdf_document:\n",
    "#    toc: true \n",
    "vignette: >\n",
    "  %\\VignetteIndexEntry{04. Importing data ~5 min}\n",
    "  %\\VignetteEngine{knitr::rmarkdown}\n",
    "  %\\VignetteEncoding{UTF-8}\n",
    "---"
   ]
  },
  {
   "cell_type": "code",
   "execution_count": null,
   "metadata": {
    "lines_to_next_cell": 0,
    "tags": [
     "remove_input"
    ]
   },
   "outputs": [],
   "source": [
    "knitr::opts_chunk$set(\n",
    "  eval=FALSE\n",
    ")"
   ]
  },
  {
   "cell_type": "markdown",
   "metadata": {
    "lines_to_next_cell": 0
   },
   "source": [
    "*The R markdown is available from the pulldown menu for* Code *at the upper-right, choose \"Download Rmd\", or [download the Rmd from GitHub](https://raw.githubusercontent.com/cytoscape/cytoscape-automation/master/for-scripters/R/notebooks/Importing-data.Rmd).*\n",
    "\n",
    "<hr />\n",
    "\n",
    "This vignette will show you how to import a data.frame of node attributes into Cytoscape as Node Table columns. The same approach works for edge and network attriubutes.  \n",
    "\n",
    "# Installation"
   ]
  },
  {
   "cell_type": "code",
   "execution_count": null,
   "metadata": {},
   "outputs": [],
   "source": [
    "if(!\"RCy3\" %in% installed.packages()){\n",
    "    install.packages(\"BiocManager\")\n",
    "    BiocManager::install(\"RCy3\")\n",
    "}\n",
    "library(RCy3)"
   ]
  },
  {
   "cell_type": "markdown",
   "metadata": {},
   "source": [
    "# Required Software\n",
    "The whole point of RCy3 is to connect with Cytoscape. You will need to install and launch Cytoscape: \n",
    "\n",
    "* Download the latest Cytoscape from http://www.cytoscape.org/download.php\n",
    "* Complete installation wizard\n",
    "* Launch Cytoscape "
   ]
  },
  {
   "cell_type": "code",
   "execution_count": null,
   "metadata": {},
   "outputs": [],
   "source": [
    "cytoscapePing()"
   ]
  },
  {
   "cell_type": "markdown",
   "metadata": {
    "lines_to_next_cell": 0
   },
   "source": [
    "# Always Start with a Network\n",
    "When importing data, you are actually performing a merge function of sorts, appending columns to nodes (or edges) that are present in the referenced network. Data that do not match elements in the network are effectively discarded upon import.\n",
    "\n",
    "So, in order to demonstrate data import, we first need to have a network. This command will import network files in any of the supported formats (e.g., SIF, GML, XGMML, etc)."
   ]
  },
  {
   "cell_type": "code",
   "execution_count": null,
   "metadata": {},
   "outputs": [],
   "source": [
    "sif <- system.file(\"extdata\",\"galFiltered.sif\",package=\"RCy3\")\n",
    "importNetworkFromFile(sif)"
   ]
  },
  {
   "cell_type": "markdown",
   "metadata": {
    "lines_to_next_cell": 0
   },
   "source": [
    "<center>\n",
    "![](https://cytoscape.github.io/cytoscape-automation/for-scripters/R/notebooks/data/img/galfilteredsif.png){width=60%}\n",
    "</center>\n",
    "\n",
    "You should now see a network with just over 300 nodes. If you look at the Node Table, you'll see that there are no attributes other than node names. Let's fix that...\n",
    "\n",
    "# Import Data\n",
    "You can import data into Cytoscape from any data.frame in R as long as it contains row.names (or an arbitrary column) that match a Node Table column in Cytoscape. In this example, we are starting with a network with yeast identifiers in the \"name\" column. We also have a CSV file with gene expression data values keyed by yeast identifiers here:"
   ]
  },
  {
   "cell_type": "code",
   "execution_count": null,
   "metadata": {},
   "outputs": [],
   "source": [
    "csv <- system.file(\"extdata\",\"galExpData.csv\", package=\"RCy3\")\n",
    "data <- read.csv(csv, stringsAsFactors = FALSE)"
   ]
  },
  {
   "cell_type": "markdown",
   "metadata": {
    "lines_to_next_cell": 0
   },
   "source": [
    "**Note: there may be times where your network and data identifers are of different\n",
    "types. This calls for identifier mapping. RCy3 provides a function to perform\n",
    "ID mapping in Cytoscape:**"
   ]
  },
  {
   "cell_type": "code",
   "execution_count": null,
   "metadata": {
    "lines_to_next_cell": 0
   },
   "outputs": [],
   "source": [
    "?mapTableColumn"
   ]
  },
  {
   "cell_type": "markdown",
   "metadata": {
    "lines_to_next_cell": 0
   },
   "source": [
    "Check out the *Identifier mapping* vignette for detailed examples.\n",
    "\n",
    "Now we have a data.frame that includes our identifiers in a column called \"name\", plus a bunch of data columns. Knowing our key columns, we can now perform the import:"
   ]
  },
  {
   "cell_type": "code",
   "execution_count": null,
   "metadata": {
    "lines_to_next_cell": 0
   },
   "outputs": [],
   "source": [
    "loadTableData(data,data.key.column=\"name\")"
   ]
  },
  {
   "cell_type": "markdown",
   "metadata": {
    "lines_to_next_cell": 0
   },
   "source": [
    "<center>\n",
    "![](https://cytoscape.github.io/cytoscape-automation/for-scripters/R/notebooks/data/img/galfiltereddata.png){width=60%}\n",
    "</center>\n",
    "\n",
    "If you look back at the Node Table, you'll now see that the corresponding rows of our data.frame have been imported as new columns.\n",
    "\n",
    "**Note: we relied on the default values for table (\"node\") and table.key.column (\"name\"), but these can be specified as well. See help docs for parameter details.**"
   ]
  },
  {
   "cell_type": "code",
   "execution_count": null,
   "metadata": {
    "lines_to_next_cell": 0
   },
   "outputs": [],
   "source": [
    "?loadTableData"
   ]
  },
  {
   "cell_type": "markdown",
   "metadata": {},
   "source": [
    "\n"
   ]
  }
 ],
 "metadata": {
  "jupytext": {
   "cell_metadata_filter": "tags,-all",
   "main_language": "R",
   "notebook_metadata_filter": "-all"
  }
 },
 "nbformat": 4,
 "nbformat_minor": 4
}
