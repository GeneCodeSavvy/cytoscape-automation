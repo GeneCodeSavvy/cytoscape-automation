{
  "cells": [
    {
      "cell_type": "markdown",
      "metadata": {
        "id": "view-in-github",
        "colab_type": "text"
      },
      "source": [
        "<a href=\"https://colab.research.google.com/github/cytoscape/cytoscape-automation/blob/master/for-scripters/R/colab/Importing-data.ipynb\" target=\"_parent\"><img src=\"https://colab.research.google.com/assets/colab-badge.svg\" alt=\"Open In Colab\"/></a>"
      ]
    },
    {
      "cell_type": "markdown",
      "metadata": {
        "lines_to_next_cell": 0,
        "id": "FC-NzUYfK4W5"
      },
      "source": [
        "# Importing data\n",
        "## Alexander Pico"
      ]
    },
    {
      "cell_type": "markdown",
      "metadata": {
        "lines_to_next_cell": 0,
        "id": "4Gx70G2VK4W9"
      },
      "source": [
        "*The R markdown is available. [download the Rmd from GitHub](https://raw.githubusercontent.com/cytoscape/cytoscape-automation/master/for-scripters/R/notebooks/Importing-data.Rmd).*\n",
        "\n",
        "<hr />\n",
        "\n",
        "This vignette will show you how to import a data.frame of node attributes into Cytoscape as Node Table columns. The same approach works for edge and network attriubutes.  \n",
        "\n",
        "# Installation"
      ]
    },
    {
      "cell_type": "code",
      "execution_count": null,
      "metadata": {
        "id": "TV7UBLNsK4W9"
      },
      "outputs": [],
      "source": [
        "if(!\"RCy3\" %in% installed.packages()){\n",
        "    install.packages(\"BiocManager\")\n",
        "    BiocManager::install(\"RCy3\")\n",
        "}\n",
        "library(RCy3)"
      ]
    },
    {
      "cell_type": "markdown",
      "metadata": {
        "id": "2vEURj3uK4W-"
      },
      "source": [
        "If you are using a remote notebook environment such as Google Colab, please execute the cell below. (If you're running on your local notebook, you don't need to do that.)"
      ]
    },
    {
      "cell_type": "code",
      "execution_count": null,
      "metadata": {
        "id": "FeNz8sQrK4W_"
      },
      "outputs": [],
      "source": [
        "# Connect to local Cytoscape\n",
        "browserClientJs <- getBrowserClientJs()\n",
        "IRdisplay::display_javascript(browserClientJs)"
      ]
    },
    {
      "cell_type": "markdown",
      "metadata": {
        "id": "gXsMjntoK4W_"
      },
      "source": [
        "# Required Software\n",
        "The whole point of RCy3 is to connect with Cytoscape. You will need to install and launch Cytoscape:\n",
        "\n",
        "* Download the latest Cytoscape from http://www.cytoscape.org/download.php\n",
        "* Complete installation wizard\n",
        "* Launch Cytoscape"
      ]
    },
    {
      "cell_type": "code",
      "execution_count": null,
      "metadata": {
        "id": "Oze_-IepK4W_"
      },
      "outputs": [],
      "source": [
        "cytoscapePing()"
      ]
    },
    {
      "cell_type": "markdown",
      "metadata": {
        "lines_to_next_cell": 0,
        "id": "pMuHfHIIK4XA"
      },
      "source": [
        "# Always Start with a Network\n",
        "When importing data, you are actually performing a merge function of sorts, appending columns to nodes (or edges) that are present in the referenced network. Data that do not match elements in the network are effectively discarded upon import.\n",
        "\n",
        "So, in order to demonstrate data import, we first need to have a network. This command will import network files in any of the supported formats (e.g., SIF, GML, XGMML, etc)."
      ]
    },
    {
      "cell_type": "code",
      "execution_count": null,
      "metadata": {
        "id": "AvMF4YGAK4XA"
      },
      "outputs": [],
      "source": [
        "sif <- system.file(\"extdata\",\"galFiltered.sif\",package=\"RCy3\")\n",
        "importNetworkFromFile(sif)"
      ]
    },
    {
      "cell_type": "markdown",
      "metadata": {
        "lines_to_next_cell": 0,
        "id": "OnOZmIJ4K4XB"
      },
      "source": [
        "![](https://cytoscape.github.io/cytoscape-automation/for-scripters/R/notebooks/data/img/galfilteredsif.png)\n",
        "You should now see a network with just over 300 nodes. If you look at the Node Table, you'll see that there are no attributes other than node names. Let's fix that...\n",
        "\n",
        "# Import Data\n",
        "You can import data into Cytoscape from any data.frame in R as long as it contains row.names (or an arbitrary column) that match a Node Table column in Cytoscape. In this example, we are starting with a network with yeast identifiers in the \"name\" column. We also have a CSV file with gene expression data values keyed by yeast identifiers here:"
      ]
    },
    {
      "cell_type": "code",
      "execution_count": null,
      "metadata": {
        "id": "BzFO3XKyK4XB"
      },
      "outputs": [],
      "source": [
        "csv <- system.file(\"extdata\",\"galExpData.csv\", package=\"RCy3\")\n",
        "data <- read.csv(csv, stringsAsFactors = FALSE)"
      ]
    },
    {
      "cell_type": "markdown",
      "metadata": {
        "lines_to_next_cell": 0,
        "id": "m-Fj0gc3K4XB"
      },
      "source": [
        "**Note: there may be times where your network and data identifers are of different\n",
        "types. This calls for identifier mapping. RCy3 provides a function to perform\n",
        "ID mapping in Cytoscape:**"
      ]
    },
    {
      "cell_type": "code",
      "execution_count": null,
      "metadata": {
        "lines_to_next_cell": 0,
        "id": "gszF75v_K4XB"
      },
      "outputs": [],
      "source": [
        "?mapTableColumn"
      ]
    },
    {
      "cell_type": "markdown",
      "metadata": {
        "lines_to_next_cell": 0,
        "id": "1VqPNnYiK4XB"
      },
      "source": [
        "Check out the *Identifier mapping* vignette for detailed examples.\n",
        "\n",
        "Now we have a data.frame that includes our identifiers in a column called \"name\", plus a bunch of data columns. Knowing our key columns, we can now perform the import:"
      ]
    },
    {
      "cell_type": "code",
      "execution_count": null,
      "metadata": {
        "lines_to_next_cell": 0,
        "id": "3xbA3p6EK4XC"
      },
      "outputs": [],
      "source": [
        "loadTableData(data,data.key.column=\"name\")"
      ]
    },
    {
      "cell_type": "markdown",
      "metadata": {
        "lines_to_next_cell": 0,
        "id": "E2OPnQ7PK4XC"
      },
      "source": [
        "![](https://cytoscape.github.io/cytoscape-automation/for-scripters/R/notebooks/data/img/galfiltereddata.png)\n",
        "\n",
        "If you look back at the Node Table, you'll now see that the corresponding rows of our data.frame have been imported as new columns.\n",
        "\n",
        "**Note: we relied on the default values for table (\"node\") and table.key.column (\"name\"), but these can be specified as well. See help docs for parameter details.**"
      ]
    },
    {
      "cell_type": "code",
      "execution_count": null,
      "metadata": {
        "lines_to_next_cell": 0,
        "id": "DxR4MqDDK4XC"
      },
      "outputs": [],
      "source": [
        "?loadTableData"
      ]
    }
  ],
  "metadata": {
    "jupytext": {
      "cell_metadata_filter": "tags,-all",
      "main_language": "R",
      "notebook_metadata_filter": "-all"
    },
    "kernelspec": {
      "display_name": "R",
      "name": "ir"
    },
    "language_info": {
      "name": "R"
    },
    "colab": {
      "provenance": [],
      "include_colab_link": true
    }
  },
  "nbformat": 4,
  "nbformat_minor": 0
}